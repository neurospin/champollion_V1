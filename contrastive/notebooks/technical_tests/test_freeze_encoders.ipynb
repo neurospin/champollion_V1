{
 "cells": [
  {
   "cell_type": "code",
   "execution_count": 1,
   "metadata": {},
   "outputs": [],
   "source": [
    "import numpy as np\n",
    "import torch"
   ]
  },
  {
   "cell_type": "code",
   "execution_count": 16,
   "metadata": {},
   "outputs": [],
   "source": [
    "ukb_weights = torch.load(\"/neurospin/dico/agaudin/Runs/09_new_repo/Output/supervised/pretrained_UKB/UKB_pretrained_weights.ckpt\", map_location=torch.device('cpu'))\n",
    "post_training_weights = torch.load(\"/neurospin/dico/agaudin/Runs/09_new_repo/Output/2023-09-07/15-16-47_54/logs/best_model_weights.pt\", map_location=torch.device('cpu'))\n",
    "end_weights = torch.load(\"/neurospin/dico/agaudin/Runs/09_new_repo/Output/2023-09-07/15-33-26_155/logs/lightning_logs/version_0/checkpoints/epoch=24-step=400.ckpt\", map_location=torch.device('cpu'))"
   ]
  },
  {
   "cell_type": "code",
   "execution_count": 17,
   "metadata": {},
   "outputs": [
    {
     "data": {
      "text/plain": [
       "dict_keys(['backbones.0.encoder.conv0.weight', 'backbones.0.encoder.conv0.bias', 'backbones.0.encoder.norm0.weight', 'backbones.0.encoder.norm0.bias', 'backbones.0.encoder.norm0.running_mean', 'backbones.0.encoder.norm0.running_var', 'backbones.0.encoder.norm0.num_batches_tracked', 'backbones.0.encoder.conv0a.weight', 'backbones.0.encoder.conv0a.bias', 'backbones.0.encoder.norm0a.weight', 'backbones.0.encoder.norm0a.bias', 'backbones.0.encoder.norm0a.running_mean', 'backbones.0.encoder.norm0a.running_var', 'backbones.0.encoder.norm0a.num_batches_tracked', 'backbones.0.encoder.conv1.weight', 'backbones.0.encoder.conv1.bias', 'backbones.0.encoder.norm1.weight', 'backbones.0.encoder.norm1.bias', 'backbones.0.encoder.norm1.running_mean', 'backbones.0.encoder.norm1.running_var', 'backbones.0.encoder.norm1.num_batches_tracked', 'backbones.0.encoder.conv1a.weight', 'backbones.0.encoder.conv1a.bias', 'backbones.0.encoder.norm1a.weight', 'backbones.0.encoder.norm1a.bias', 'backbones.0.encoder.norm1a.running_mean', 'backbones.0.encoder.norm1a.running_var', 'backbones.0.encoder.norm1a.num_batches_tracked', 'backbones.0.encoder.conv2.weight', 'backbones.0.encoder.conv2.bias', 'backbones.0.encoder.norm2.weight', 'backbones.0.encoder.norm2.bias', 'backbones.0.encoder.norm2.running_mean', 'backbones.0.encoder.norm2.running_var', 'backbones.0.encoder.norm2.num_batches_tracked', 'backbones.0.encoder.conv2a.weight', 'backbones.0.encoder.conv2a.bias', 'backbones.0.encoder.norm2a.weight', 'backbones.0.encoder.norm2a.bias', 'backbones.0.encoder.norm2a.running_mean', 'backbones.0.encoder.norm2a.running_var', 'backbones.0.encoder.norm2a.num_batches_tracked', 'backbones.0.encoder.Linear.weight', 'backbones.0.encoder.Linear.bias', 'backbones.0.projection_head.Linear0.weight', 'backbones.0.projection_head.Linear0.bias', 'backbones.0.projection_head.Output layer.weight', 'backbones.0.projection_head.Output layer.bias'])"
      ]
     },
     "execution_count": 17,
     "metadata": {},
     "output_type": "execute_result"
    }
   ],
   "source": [
    "ukb_weights['state_dict'].keys()"
   ]
  },
  {
   "cell_type": "code",
   "execution_count": 18,
   "metadata": {},
   "outputs": [
    {
     "name": "stdout",
     "output_type": "stream",
     "text": [
      "torch.Size([16, 1, 3, 3, 3])\n",
      "torch.Size([16, 1, 3, 3, 3])\n",
      "torch.Size([16, 1, 3, 3, 3])\n",
      "4\n",
      "tensor([[[[-0.1364,  0.0224,  0.0147],\n",
      "          [-0.7712,  0.2243, -0.0767],\n",
      "          [ 0.0133,  0.1830,  0.0624]],\n",
      "\n",
      "         [[-0.0436,  0.0022,  0.0083],\n",
      "          [-0.1404,  0.2402,  0.1313],\n",
      "          [ 0.2304, -0.8532,  0.0089]],\n",
      "\n",
      "         [[-0.0023, -0.0192, -0.1292],\n",
      "          [ 0.1419,  0.2133, -0.6668],\n",
      "          [-0.2010,  0.2161, -0.0185]]]])\n",
      "tensor([[[[-0.1364,  0.0224,  0.0147],\n",
      "          [-0.7712,  0.2243, -0.0767],\n",
      "          [ 0.0133,  0.1830,  0.0624]],\n",
      "\n",
      "         [[-0.0436,  0.0022,  0.0083],\n",
      "          [-0.1404,  0.2402,  0.1313],\n",
      "          [ 0.2304, -0.8532,  0.0089]],\n",
      "\n",
      "         [[-0.0023, -0.0192, -0.1292],\n",
      "          [ 0.1419,  0.2133, -0.6668],\n",
      "          [-0.2010,  0.2161, -0.0185]]]])\n",
      "tensor([[[[-0.1364,  0.0224,  0.0147],\n",
      "          [-0.7712,  0.2243, -0.0767],\n",
      "          [ 0.0133,  0.1830,  0.0624]],\n",
      "\n",
      "         [[-0.0436,  0.0022,  0.0083],\n",
      "          [-0.1404,  0.2402,  0.1313],\n",
      "          [ 0.2304, -0.8532,  0.0089]],\n",
      "\n",
      "         [[-0.0023, -0.0192, -0.1292],\n",
      "          [ 0.1419,  0.2133, -0.6668],\n",
      "          [-0.2010,  0.2161, -0.0185]]]])\n"
     ]
    }
   ],
   "source": [
    "print(ukb_weights['state_dict']['backbones.0.encoder.conv0.weight'].shape)\n",
    "print(post_training_weights['state_dict']['backbones.0.encoder.conv0.weight'].shape)\n",
    "print(end_weights['state_dict']['backbones.0.encoder.conv0.weight'].shape)\n",
    "\n",
    "i = np.random.randint(16)\n",
    "print(i)\n",
    "\n",
    "print(ukb_weights['state_dict']['backbones.0.encoder.conv0.weight'][i])\n",
    "print(post_training_weights['state_dict']['backbones.0.encoder.conv0.weight'][i])\n",
    "print(end_weights['state_dict']['backbones.0.encoder.conv0.weight'][i])"
   ]
  }
 ],
 "metadata": {
  "kernelspec": {
   "display_name": "venv_local",
   "language": "python",
   "name": "python3"
  },
  "language_info": {
   "codemirror_mode": {
    "name": "ipython",
    "version": 3
   },
   "file_extension": ".py",
   "mimetype": "text/x-python",
   "name": "python",
   "nbconvert_exporter": "python",
   "pygments_lexer": "ipython3",
   "version": "3.10.12"
  },
  "orig_nbformat": 4
 },
 "nbformat": 4,
 "nbformat_minor": 2
}
