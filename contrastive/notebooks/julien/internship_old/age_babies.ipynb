{
 "cells": [
  {
   "cell_type": "code",
   "execution_count": 50,
   "metadata": {},
   "outputs": [],
   "source": [
    "import numpy as np\n",
    "import pandas as pd\n",
    "import os\n",
    "import matplotlib.pyplot as plt\n",
    "import json"
   ]
  },
  {
   "cell_type": "code",
   "execution_count": 51,
   "metadata": {},
   "outputs": [],
   "source": [
    "dir_dHCP = '/home/jl274628/Documents/info_dHCP.tsv'\n",
    "dir_Utrecht = '/home/jl274628/Documents/Preterm/infosPreterms.xlsx'\n",
    "dir_labels = '/home/jl274628/Documents/Rskeleton_subject.csv'"
   ]
  },
  {
   "cell_type": "code",
   "execution_count": 52,
   "metadata": {},
   "outputs": [],
   "source": [
    "age_dHCP = pd.read_csv(dir_dHCP, usecols=['participant_id','scan_age'], sep='\\t')\n",
    "age_Utrecht = pd.read_excel(dir_Utrecht, usecols=['BrainVisaNo', 'PMA40', 'GA'], dtype='str')\n",
    "labels = pd.read_csv(dir_labels, sep=',')"
   ]
  },
  {
   "cell_type": "code",
   "execution_count": 56,
   "metadata": {},
   "outputs": [],
   "source": [
    "list_labels = labels['Subject'].tolist()\n",
    "list_labels.remove('kt090312')\n",
    "list_ages = []\n",
    "\n",
    "for idx, elem in enumerate(list_labels):\n",
    "    if idx < 71:\n",
    "        age = float(age_Utrecht.loc[age_Utrecht['BrainVisaNo'] == elem[3:]]['PMA40'].tolist()[0])\n",
    "    else:\n",
    "        age = float(age_dHCP.loc[age_dHCP['participant_id'] == elem[4:15]]['scan_age'].tolist()[0])\n",
    "    list_ages.append(age)"
   ]
  },
  {
   "attachments": {},
   "cell_type": "markdown",
   "metadata": {},
   "source": [
    "NB: only one subject in dHCP Release 1 has 2 scans, 36 and 39 weeks, not a big deal"
   ]
  },
  {
   "cell_type": "code",
   "execution_count": 38,
   "metadata": {},
   "outputs": [],
   "source": [
    "df = pd.DataFrame({'Subject': list_labels,\n",
    "                   'scan_age': list_ages})\n",
    "\n",
    "df.to_csv('/home/jl274628/Documents/scan_age_old_preterm_dataset.csv', sep=',', index=False)"
   ]
  },
  {
   "cell_type": "code",
   "execution_count": 39,
   "metadata": {},
   "outputs": [],
   "source": [
    "# include new dHCP subject and get birth / scan age\n",
    "dir_dHCP = '/home/jl274628/Documents/info_dHCP.tsv'\n",
    "age_dHCP = pd.read_csv(dir_dHCP, usecols=['participant_id','birth_age','scan_age','session_id'], sep='\\t')\n",
    "\n",
    "# first dHCP subjects\n",
    "dir_labels_1 = '/home/jl274628/Documents/Rskeleton_subject.csv'\n",
    "list_labels_1 = labels['Subject'].tolist()[-40:]\n",
    "list_labels_1 = [elem[4:15] for elem in list_labels_1]\n",
    "# new dHCP subjects\n",
    "dir_labels_2 = '/neurospin/grip/external_databases/dHCP_CR_JD_2018/Projects/denis/release3_morpho/dHCP/'\n",
    "list_labels_2 = [f for f in os.listdir(dir_labels_2) if f[-1]!='f']"
   ]
  },
  {
   "cell_type": "code",
   "execution_count": 40,
   "metadata": {},
   "outputs": [
    {
     "name": "stdout",
     "output_type": "stream",
     "text": [
      "subject : CC00122XX07 in both dataset\n",
      "subject : CC00205XX07 in both dataset\n",
      "subject : CC00418BN14 in both dataset\n"
     ]
    }
   ],
   "source": [
    "# check that there is no overlap\n",
    "# concatenate lists with unique subjects\n",
    "list_labels = list_labels_2.copy()\n",
    "for subject in list_labels_1:\n",
    "    if subject in list_labels_2:\n",
    "        print(f'subject : {subject} in both dataset')\n",
    "    else:\n",
    "        list_labels.append(subject)"
   ]
  },
  {
   "cell_type": "code",
   "execution_count": 41,
   "metadata": {},
   "outputs": [],
   "source": [
    "age_list = []\n",
    "for subject in list_labels:\n",
    "    age = age_dHCP.loc[age_dHCP['participant_id']==subject].iloc[0]['birth_age']\n",
    "    age_list.append(age)"
   ]
  },
  {
   "cell_type": "code",
   "execution_count": 45,
   "metadata": {},
   "outputs": [
    {
     "data": {
      "image/png": "[encoded data removed]",
      "text/plain": [
       "<Figure size 432x288 with 1 Axes>"
      ]
     },
     "metadata": {
      "needs_background": "light"
     },
     "output_type": "display_data"
    }
   ],
   "source": [
    "# plot birth age and scan age histograms\n",
    "fig, ax = plt.subplots()\n",
    "ax.hist(age_list)\n",
    "ax.set_xlabel('birth age (weeks)')\n",
    "ax.set_ylabel('number')\n",
    "ax.set_title('Birth age distribution dHCP')\n",
    "plt.show()"
   ]
  },
  {
   "cell_type": "code",
   "execution_count": 42,
   "metadata": {},
   "outputs": [],
   "source": [
    "preterm = [age < 30 for age in age_list]"
   ]
  },
  {
   "cell_type": "code",
   "execution_count": 43,
   "metadata": {},
   "outputs": [
    {
     "data": {
      "text/html": [
       "<div>\n",
       "<style scoped>\n",
       "    .dataframe tbody tr th:only-of-type {\n",
       "        vertical-align: middle;\n",
       "    }\n",
       "\n",
       "    .dataframe tbody tr th {\n",
       "        vertical-align: top;\n",
       "    }\n",
       "\n",
       "    .dataframe thead th {\n",
       "        text-align: right;\n",
       "    }\n",
       "</style>\n",
       "<table border=\"1\" class=\"dataframe\">\n",
       "  <thead>\n",
       "    <tr style=\"text-align: right;\">\n",
       "      <th></th>\n",
       "      <th>participant_id</th>\n",
       "      <th>session_id</th>\n",
       "      <th>birth_age</th>\n",
       "      <th>scan_age</th>\n",
       "    </tr>\n",
       "  </thead>\n",
       "  <tbody>\n",
       "    <tr>\n",
       "      <th>802</th>\n",
       "      <td>CC01025XX11</td>\n",
       "      <td>50230</td>\n",
       "      <td>23.714286</td>\n",
       "      <td>36.29</td>\n",
       "    </tr>\n",
       "    <tr>\n",
       "      <th>803</th>\n",
       "      <td>CC01025XX11</td>\n",
       "      <td>61330</td>\n",
       "      <td>23.714286</td>\n",
       "      <td>42.86</td>\n",
       "    </tr>\n",
       "  </tbody>\n",
       "</table>\n",
       "</div>"
      ],
      "text/plain": [
       "    participant_id  session_id  birth_age  scan_age\n",
       "802    CC01025XX11       50230  23.714286     36.29\n",
       "803    CC01025XX11       61330  23.714286     42.86"
      ]
     },
     "execution_count": 43,
     "metadata": {},
     "output_type": "execute_result"
    }
   ],
   "source": [
    "# sometimes multiple scan age: which one do we have ?\n",
    "age_dHCP.loc[age_dHCP['participant_id']=='CC01025XX11']"
   ]
  },
  {
   "cell_type": "code",
   "execution_count": 30,
   "metadata": {},
   "outputs": [
    {
     "data": {
      "image/png": "[encoded data removed]",
      "text/plain": [
       "<Figure size 432x288 with 1 Axes>"
      ]
     },
     "metadata": {
      "needs_background": "light"
     },
     "output_type": "display_data"
    }
   ],
   "source": [
    "# Get scan age\n",
    "\n",
    "dir_sessions = \"/neurospin/grip/external_databases/dHCP_CR_JD_2018/Projects/denis/release3_scripts/subjects_file.json\"\n",
    "with open(dir_sessions) as json_file:\n",
    "    sessions = json.load(json_file)\n",
    "\n",
    "scan_age_list = []\n",
    "for subject in list_labels:\n",
    "    subject_scans = age_dHCP.loc[age_dHCP['participant_id']==subject]\n",
    "    # sometimes two scan ages for preterm\n",
    "    if subject_scans.shape[0] > 1:\n",
    "        # get the session id selected in the dataset and extract the right scan_age\n",
    "        session=sessions[subject]['session_id']\n",
    "        ages = subject_scans.loc[subject_scans['session_id']==session]\n",
    "        if ages.shape[0]==1:\n",
    "            age = ages['scan_age'].tolist()[0]\n",
    "        else:\n",
    "            print(f'ERROR: session not found for subject {subject}')\n",
    "            break\n",
    "            \n",
    "\n",
    "    else:\n",
    "        age = subject_scans['scan_age'].tolist()[0]\n",
    "    scan_age_list.append(age)\n",
    "\n",
    "fig, ax = plt.subplots()\n",
    "ax.hist(scan_age_list)\n",
    "ax.set_xlabel('Scan age (weeks)')\n",
    "ax.set_ylabel('number')\n",
    "ax.set_title('Scan age distribution dHCP')\n",
    "plt.show()"
   ]
  },
  {
   "cell_type": "code",
   "execution_count": 49,
   "metadata": {},
   "outputs": [],
   "source": [
    "df_age = pd.DataFrame({'Subject': list_labels,\n",
    "                       'birth_age': age_list,\n",
    "                       'Preterm': preterm,\n",
    "                       'scan_age': scan_age_list})\n",
    "\n",
    "df_age.to_csv('/neurospin/dico/jlaval/data/labels_dHCP.csv', index=False, sep=',')"
   ]
  },
  {
   "cell_type": "code",
   "execution_count": 31,
   "metadata": {},
   "outputs": [],
   "source": [
    "# same for Utrecht to compare\n",
    "birth_age = np.array(age_Utrecht['GA'].tolist()).astype(float)\n",
    "scan_age = np.array(age_Utrecht['PMA40'].tolist()).astype(float)"
   ]
  },
  {
   "cell_type": "code",
   "execution_count": 32,
   "metadata": {},
   "outputs": [
    {
     "data": {
      "image/png": "[encoded data removed]",
      "text/plain": [
       "<Figure size 432x288 with 1 Axes>"
      ]
     },
     "metadata": {
      "needs_background": "light"
     },
     "output_type": "display_data"
    }
   ],
   "source": [
    "# plot birth age and scan age histograms\n",
    "fig, ax = plt.subplots()\n",
    "ax.hist(birth_age)\n",
    "ax.set_xlabel('Birth age (weeks)')\n",
    "ax.set_ylabel('number')\n",
    "ax.set_title('Birth age distribution Utrecht')\n",
    "plt.show()"
   ]
  },
  {
   "cell_type": "code",
   "execution_count": 76,
   "metadata": {},
   "outputs": [
    {
     "data": {
      "image/png": "[encoded data removed]",
      "text/plain": [
       "<Figure size 432x288 with 1 Axes>"
      ]
     },
     "metadata": {
      "needs_background": "light"
     },
     "output_type": "display_data"
    }
   ],
   "source": [
    "fig, ax = plt.subplots()\n",
    "ax.hist(scan_age)\n",
    "ax.set_xlabel('Scan age (weeks)')\n",
    "ax.set_ylabel('number')\n",
    "ax.set_title('Scan age distribution dHCP')\n",
    "plt.show()"
   ]
  },
  {
   "cell_type": "code",
   "execution_count": 15,
   "metadata": {},
   "outputs": [
    {
     "name": "stdout",
     "output_type": "stream",
     "text": [
      "91\n",
      "['CC00576XX16', 'CC00718XX17', 'CC00600XX06', 'CC00657XX14', 'CC00245BN15', 'CC01011XX05', 'CC00889AN24', 'CC00830XX14', 'CC00823XX15', 'CC00792XX18', 'CC00489XX20', 'CC00855XX14', 'CC00407BN11', 'CC00797XX23', 'CC00284AN13', 'CC00361XX07', 'CC00271XX08', 'CC00802XX10', 'CC01025XX11', 'CC00632XX14', 'CC00418AN14', 'CC00518XX15', 'CC00629XX19', 'CC00723XX14', 'CC00569XX17', 'CC01005XX07', 'CC00712XX11', 'CC00672AN13', 'CC00867XX18', 'CC00621XX11', 'CC00829XX21', 'CC00689XX22', 'CC00517XX14', 'CC00997BN25', 'CC00672BN13', 'CC00135BN12', 'CC00686XX19', 'CC00526XX15', 'CC00191XX11', 'CC00136AN13', 'CC00747XX22', 'CC00805XX13', 'CC00098AN17', 'CC00838XX22', 'CC01077XX14', 'CC00525XX14', 'CC00406XX10', 'CC00305XX08', 'CC00954XX14', 'CC00986BN22', 'CC00227XX13', 'CC00666XX15', 'CC00907XX16', 'CC00407AN11', 'CC00284BN13', 'CC00529AN18', 'CC00326XX13', 'CC00986AN22', 'CC00245AN15', 'CC00395XX17', 'CC00845BN21', 'CC00946XX23', 'CC00648XX22', 'CC00770XX12', 'CC00804XX12', 'CC00617XX15', 'CC00889BN24', 'CC01080XX09', 'CC00136BN13', 'CC00087AN14', 'CC00389XX19', 'CC00218AN12', 'CC00529BN18', 'CC00845AN21', 'CC00661XX10', 'CC00688XX21', 'CC00135AN12', 'CC00418BN14', 'CC00955XX15', 'CC00152AN04', 'CC00248XX18', 'CC00919XX20', 'CC00301XX04', 'CC01006XX08', 'CC00385XX15', 'CC01038XX16', 'CC00530XX11', 'CC00628XX18', 'CC00694XX19', 'CC00933XX18', 'CC00618XX16']\n"
     ]
    }
   ],
   "source": [
    "# check which subjects in dHCP have multiple scans\n",
    "multi_scan_subjects = []\n",
    "for subject in list_labels:\n",
    "    age = age_dHCP.loc[age_dHCP['participant_id']==subject]['scan_age'].tolist()\n",
    "    if len(age) > 1:\n",
    "        multi_scan_subjects.append(subject)\n",
    "print(len(multi_scan_subjects))\n",
    "print(multi_scan_subjects)\n"
   ]
  }
 ],
 "metadata": {
  "kernelspec": {
   "display_name": "venv",
   "language": "python",
   "name": "python3"
  },
  "language_info": {
   "codemirror_mode": {
    "name": "ipython",
    "version": 3
   },
   "file_extension": ".py",
   "mimetype": "text/x-python",
   "name": "python",
   "nbconvert_exporter": "python",
   "pygments_lexer": "ipython3",
   "version": "3.6.9"
  },
  "orig_nbformat": 4
 },
 "nbformat": 4,
 "nbformat_minor": 2
}
