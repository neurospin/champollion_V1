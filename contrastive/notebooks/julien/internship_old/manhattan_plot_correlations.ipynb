{
 "cells": [
  {
   "cell_type": "code",
   "execution_count": null,
   "metadata": {},
   "outputs": [],
   "source": [
    "import math\n",
    "import numpy as np\n",
    "import pandas as pd"
   ]
  },
  {
   "cell_type": "code",
   "execution_count": null,
   "metadata": {},
   "outputs": [],
   "source": [
    "def plot_manhattan(prediction_df, transformed_df, accuracy, ax):\n",
    "    labelsize=16\n",
    "    ax.xaxis.set_tick_params(labelsize = labelsize)\n",
    "    ax.yaxis.set_tick_params(labelsize = labelsize)\n",
    "    nb_components = 2*len(transformed_df.columns)\n",
    "\n",
    "    markerline, stemlines, baseline = \\\n",
    "        ax.stem([\"Am\", \"Ap\", \"Bm\", \"Bp\", \"Cm\", \"Cp\", \"Dm\", \"Dp\"],\n",
    "              -np.log10(res_p),\n",
    "              basefmt= 'C0',\n",
    "              linefmt=':')\n",
    "    plt.setp(markerline, 'color', 'black')\n",
    "    plt.setp(stemlines, 'color', 'black')\n",
    "    plt.setp(baseline, 'color', 'black')\n",
    "    ax.plot(-np.log10(0.05/(nb_components))*np.ones(nb_components), c='black')\n",
    "    ax.set_ylabel(\"-log$_{10}$(p)\", labelpad=5.0)\n",
    "    ax.set_xlabel(\"folding atoms\", labelpad=10.0)\n",
    "    ax2 = ax.twinx()\n",
    "    ax2.xaxis.set_tick_params(labelsize = labelsize)\n",
    "    ax2.yaxis.set_tick_params(labelsize = labelsize)\n",
    "    ax2.plot([\"Am\", \"Ap\", \"Bm\", \"Bp\", \"Cm\", \"Cp\", \"Dm\", \"Dp\"],accuracy, c='blue')\n",
    "    ax2.set_ylim([0.,1.52])\n",
    "    ax2.set_ylabel('correlation coefficient', color='b', rotation=270, labelpad=25)\n",
    "    ax2.set_yticks([0., 0.5, 1.0])\n",
    "    ax2.spines['right'].set_color('blue')\n",
    "    ax2.tick_params(axis='y', colors='blue')\n",
    "    ax2.set_ylim(-0.08)"
   ]
  }
 ],
 "metadata": {
  "language_info": {
   "name": "python"
  },
  "orig_nbformat": 4
 },
 "nbformat": 4,
 "nbformat_minor": 2
}
