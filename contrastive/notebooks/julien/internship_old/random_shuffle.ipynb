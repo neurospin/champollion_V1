{
 "cells": [
  {
   "cell_type": "code",
   "execution_count": 1,
   "metadata": {},
   "outputs": [],
   "source": [
    "import numpy as np\n",
    "import pandas as pd\n",
    "import os"
   ]
  },
  {
   "cell_type": "code",
   "execution_count": 4,
   "metadata": {},
   "outputs": [],
   "source": [
    "dir_labels = '/neurospin/dico/data/deep_folding/current/datasets/dHCP_374_subjects/crops/2mm/S.T.s.baby/mask/'\n",
    "labels = pd.read_csv(dir_labels + 'preterm_labels_28_37.csv')\n",
    "# shuffle subjects instead of labels, so that all labels are shuffled.\n",
    "subjects = labels['Subject'].to_numpy()\n",
    "for idx in range(5):\n",
    "    subjects_ = subjects.copy()\n",
    "    np.random.shuffle(subjects_)\n",
    "    df = labels.copy()\n",
    "    df['Subject'] = subjects_\n",
    "    df.to_csv(dir_labels + f'preterm_labels_28_37_shuffled_{idx}.csv', sep=',', index=False)"
   ]
  },
  {
   "cell_type": "code",
   "execution_count": null,
   "metadata": {},
   "outputs": [],
   "source": []
  }
 ],
 "metadata": {
  "kernelspec": {
   "display_name": "venv",
   "language": "python",
   "name": "python3"
  },
  "language_info": {
   "codemirror_mode": {
    "name": "ipython",
    "version": 3
   },
   "file_extension": ".py",
   "mimetype": "text/x-python",
   "name": "python",
   "nbconvert_exporter": "python",
   "pygments_lexer": "ipython3",
   "version": "3.10.6"
  },
  "orig_nbformat": 4
 },
 "nbformat": 4,
 "nbformat_minor": 2
}
