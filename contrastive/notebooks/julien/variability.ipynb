{
 "cells": [
  {
   "cell_type": "code",
   "execution_count": 1,
   "metadata": {},
   "outputs": [
    {
     "name": "stderr",
     "output_type": "stream",
     "text": [
      "Matplotlib is building the font cache; this may take a moment.\n",
      "/neurospin/dico/jlaval/Runs_jl277509/2023_jlaval_STSbabies/venv/lib/python3.10/site-packages/tqdm/auto.py:21: TqdmWarning: IProgress not found. Please update jupyter and ipywidgets. See https://ipywidgets.readthedocs.io/en/stable/user_install.html\n",
      "  from .autonotebook import tqdm as notebook_tqdm\n",
      "/tmp/ipykernel_974792/2427328681.py:15: DeprecationWarning: Please import `center_of_mass` from the `scipy.ndimage` namespace; the `scipy.ndimage.measurements` namespace is deprecated and will be removed in SciPy 2.0.0.\n",
      "  from scipy.ndimage.measurements import center_of_mass\n"
     ]
    }
   ],
   "source": [
    "import numpy as np\n",
    "import json\n",
    "import pandas as pd\n",
    "import os\n",
    "import matplotlib.pyplot as plt\n",
    "import umap\n",
    "import math\n",
    "import matplotlib.image as mpimg\n",
    "import matplotlib.patches as mpatches\n",
    "from matplotlib import colors\n",
    "import matplotlib.transforms as mtrans\n",
    "import yaml\n",
    "from yaml.loader import SafeLoader\n",
    "from collections import OrderedDict\n",
    "from scipy.ndimage.measurements import center_of_mass\n",
    "#from verstack.stratified_continuous_split import scsplit\n",
    "from sklearn.linear_model import LinearRegression\n",
    "from sklearn.metrics import auc, roc_curve, roc_auc_score, accuracy_score\n",
    "from sklearn.model_selection import cross_val_predict, train_test_split, cross_val_score, cross_validate\n",
    "from sklearn.svm import LinearSVR, SVC\n",
    "from sklearn.preprocessing import StandardScaler\n",
    "from scipy.stats import pearsonr\n",
    "import scipy\n",
    "import seaborn as sns\n",
    "from scipy.spatial.distance import cosine\n",
    "from sklearn.metrics import pairwise_distances\n",
    "import random as rd"
   ]
  },
  {
   "cell_type": "code",
   "execution_count": 2,
   "metadata": {},
   "outputs": [],
   "source": [
    "# Release3 dHCP : select subjects from info dataframe\n",
    "\n",
    "dir_Release3 = '/neurospin/grip/external_databases/dHCP_CR_JD_2018/Projects/denis/release3_scripts/subjects_file_v4.json'\n",
    "with open(dir_Release3) as f:\n",
    "    subjects_R3 = json.load(f)\n",
    "\n",
    "subjects_R3 = list(subjects_R3.keys())\n",
    "\n",
    "# get the session ids of R3\n",
    "dir_sessions = '/neurospin/grip/external_databases/dHCP_CR_JD_2018/Projects/denis/release3_scripts/subjects_file_v4.json'\n",
    "with open(dir_sessions) as f:\n",
    "    dict_sessions = json.load(f)\n",
    "sessions = [value['session_id'] for _, value in dict_sessions.items()]\n",
    "\n",
    "# get dHCP info\n",
    "dir_info_dHCP = '/home/jl277509/Documents/info_dHCP.tsv'\n",
    "info_dHCP = pd.read_csv(dir_info_dHCP, usecols=['participant_id', 'birth_age', 'scan_age', 'session_id'], sep='\\t')\n",
    "# filter over subjects\n",
    "info_dHCP.drop(info_dHCP[~(info_dHCP['participant_id'].isin(subjects_R3))].index, inplace = True)\n",
    "#info_dHCP.drop(info_dHCP[(info_dHCP['scan_number']!=1)].index, inplace = True) # not always scan 1\n",
    "# filter over sessions\n",
    "info_dHCP.drop(info_dHCP[~(info_dHCP['session_id'].isin(sessions))].index, inplace = True)\n",
    "info_dHCP.reset_index(drop=True, inplace=True)"
   ]
  },
  {
   "cell_type": "code",
   "execution_count": 3,
   "metadata": {},
   "outputs": [],
   "source": [
    "scaler = StandardScaler()"
   ]
  },
  {
   "cell_type": "code",
   "execution_count": 4,
   "metadata": {},
   "outputs": [],
   "source": [
    "# fit umap on ukb\n",
    "#model = \"2023-11-29/15-49-36_0\"\n",
    "#model = 09-59-38_188\n",
    "#model_dir = '/volatile/jl277509/Runs/02_STS_babies/Program/Output/STS_1-5mm_d5_t1/14-54-09_0'\n",
    "#model_dir = '/neurospin/dico/jlaval/Runs/01_deep_supervised/Program/Output/chosen_model_crop_baby_STS_trained_on_UkBioBank/14-36-49'\n",
    "model_dir = '/volatile/jl277509/Runs/02_STS_babies/Program/Output/STS_BT_L256/09-50-34_120'\n",
    "#save_dir = f'/home/jl274628/Documents/PLOT_RAPPORT/STS_UKB_models/variability/{model}/{space}/'\n",
    "save_dir = os.path.join(model_dir, 'variability')\n",
    "if not os.path.isdir(save_dir):\n",
    "    os.mkdir(save_dir)"
   ]
  },
  {
   "cell_type": "code",
   "execution_count": 5,
   "metadata": {},
   "outputs": [],
   "source": [
    "# load embeddings UKB\n",
    "#dir = '/neurospin/dico/jlaval/Runs/01_deep_supervised/Program/Output/2023-06-15/14-36-49/STs_UkBioBank_embeddings//'\n",
    "#dir = f'/neurospin/dico/jlaval/Runs/02_STS_babies/Program/Output/{model}/UKB_embeddings/'\n",
    "#dir = os.path.join(model_dir, 'STs_UkBioBank_embeddings')\n",
    "dir = os.path.join(model_dir, 'UKB_embeddings')\n",
    "dir_embeddings = os.path.join(dir,'full_embeddings.csv')\n",
    "\n",
    "cols = [f'dim{k}' for k in range(1,257)]\n",
    "df_embeddings = pd.read_csv(dir_embeddings, sep=',')\n",
    "all_1 = df_embeddings[cols]\n",
    "# add embeddings dHCP\n",
    "#dir = '/neurospin/dico/jlaval/Runs/01_deep_supervised/Program/Output/2023-06-15/14-36-49/STs_dHCP_374_subjects_embeddings/'\n",
    "#dir = f'/neurospin/dico/jlaval/Runs/02_STS_babies/Program/Output/{model}/dHCP_embeddings/'\n",
    "#dir = os.path.join(model_dir, 'STs_dHCP_374_subjects_embeddings')\n",
    "dir = os.path.join(model_dir, 'dHCP_embeddings')\n",
    "dir_embeddings = os.path.join(dir,'full_embeddings.csv')\n",
    "\n",
    "df_embeddings = pd.read_csv(dir_embeddings, sep=',')\n",
    "all_2 = df_embeddings[cols]\n",
    "\n",
    "all = pd.concat((all_1, all_2))\n",
    "all = all.to_numpy()\n",
    "all = scaler.fit_transform(all)\n",
    "\n",
    "# retreive scaled datasets\n",
    "all_1 = all[:len(all_1)]\n",
    "all_2 = all[len(all_1):]\n",
    "\n",
    "all_1 = pd.DataFrame(all_1)\n",
    "all_1.columns=cols\n",
    "all_2 = pd.DataFrame(all_2)\n",
    "all_2.columns=cols"
   ]
  },
  {
   "cell_type": "code",
   "execution_count": 12,
   "metadata": {},
   "outputs": [
    {
     "data": {
      "text/plain": [
       "(374, 3)"
      ]
     },
     "execution_count": 12,
     "metadata": {},
     "output_type": "execute_result"
    }
   ],
   "source": [
    "df_embeddings_1.shape"
   ]
  },
  {
   "cell_type": "code",
   "execution_count": 6,
   "metadata": {},
   "outputs": [],
   "source": [
    "# fit UMAP\n",
    "reducer = umap.UMAP()\n",
    "embeddings = reducer.fit_transform(all_1)\n",
    "df_embeddings_0 = pd.DataFrame({'dim1': embeddings[:, 0],\n",
    "                                'dim2': embeddings[:, 1]})\n",
    "\n",
    "embeddings = reducer.transform(all_2)\n",
    "df_embeddings_1 = pd.DataFrame({'participant_id': df_embeddings['ID'].tolist(),\n",
    "                               'dim1': embeddings[:, 0],\n",
    "                               'dim2': embeddings[:, 1]})"
   ]
  },
  {
   "cell_type": "code",
   "execution_count": 20,
   "metadata": {},
   "outputs": [
    {
     "data": {
      "text/plain": [
       "\"\\nmodel = 'morpho_' + sub_dir\\nspace = 'umap'\\ndir = f'/neurospin/dico/jlaval/Runs/01_deep_supervised/Program/Output/morpho/{model}/STs_dHCP_374_subjects_embeddings/'\\ndir_embeddings = dir+'full_embeddings.csv'\\ndf_embeddings_morpho = pd.read_csv(dir_embeddings, sep=',')\\nif drop_cc:\\n    df_embeddings_morpho = df_embeddings_morpho.drop(['dim15', 'dim14'], axis=1)\\n    dims = [f'dim{k}' for k in range(1,df_embeddings_morpho.shape[1]) if k not in [14, 15]]\\nelse:\\n    dims = [f'dim{k}' for k in range(1,df_embeddings_morpho.shape[1])]\\nembed = df_embeddings_morpho[dims]\\nreducer = umap.UMAP()\\nembeddings = reducer.fit_transform(embed)\\nembeddings = pd.DataFrame({'participant_id': df_embeddings_morpho['ID'],\\n                     'dim1': embeddings[:,0],\\n                     'dim2': embeddings[:,1]})\\ndims = [f'dim{k}' for k in range(1, 3)]\\ndf = pd.merge(info_dHCP, embeddings)\\nbinwidth=0.5\\nheight=1\\nmaxi_hist=100\\n\""
      ]
     },
     "execution_count": 20,
     "metadata": {},
     "output_type": "execute_result"
    }
   ],
   "source": [
    "# define df depending on embeddings : umap of SimCLR embeddings\n",
    "# umap SimCLR\n",
    "space='embedding'\n",
    "#space='umap'\n",
    "\n",
    "if space=='umap':\n",
    "    model = 'SimCLR'\n",
    "    dims = [f'dim{k}' for k in range(1, 3)]\n",
    "    l = df_embeddings_1['participant_id'].tolist()\n",
    "    if l[0][:4]=='sub-':\n",
    "        l = [elem[4:] for elem in l]\n",
    "    df_embeddings_1['participant_id']=l\n",
    "    df = pd.merge(info_dHCP, df_embeddings_1)\n",
    "    binwidth=0.5\n",
    "    height=1.75\n",
    "    maxi_hist=100\n",
    "\n",
    "# SimCLR\n",
    "elif space=='embedding':\n",
    "    model = 'SimCLR'\n",
    "    dims=[f'dim{k}' for k in range(1,257)]\n",
    "    df = pd.DataFrame(all_2, columns=dims)\n",
    "    l = df_embeddings['ID'].tolist()\n",
    "    if l[0][:4]=='sub-':\n",
    "        l = [elem[4:] for elem in l]\n",
    "    df['participant_id']=l\n",
    "    df = pd.merge(info_dHCP, df)\n",
    "    binwidth=0.5\n",
    "    height=0.7\n",
    "    maxi_hist=100\n",
    "\n",
    "\n",
    "# morpho space\n",
    "##\n",
    "\n",
    "sub_dir = 'all'\n",
    "#sub_dir = 'positional'\n",
    "#sub_dir = 'shape'\n",
    "drop_cc = False #drop connected components\n",
    "##\n",
    "\n",
    "\"\"\"\n",
    "model = 'morpho_' + sub_dir\n",
    "space = 'embedding'\n",
    "dir = f'/neurospin/dico/jlaval/Runs/01_deep_supervised/Program/Output/morpho/{model}/STs_dHCP_374_subjects_embeddings/'\n",
    "dir_embeddings = dir+'full_embeddings.csv'\n",
    "df_embeddings_morpho = pd.read_csv(dir_embeddings, sep=',')\n",
    "if drop_cc:\n",
    "    df_embeddings_morpho = df_embeddings_morpho.drop(['dim15', 'dim14'], axis=1)\n",
    "    dims = [f'dim{k}' for k in range(1,df_embeddings_morpho.shape[1]) if k not in [14, 15]]\n",
    "else:\n",
    "    dims = [f'dim{k}' for k in range(1,df_embeddings_morpho.shape[1])]\n",
    "all = df_embeddings_morpho[dims]\n",
    "all = all.to_numpy()\n",
    "all = scaler.fit_transform(all)\n",
    "all = pd.DataFrame(all)\n",
    "all.columns=dims\n",
    "all['participant_id']=df_embeddings_morpho['ID'].tolist()\n",
    "df = pd.merge(info_dHCP, all)\n",
    "binwidth=1\n",
    "height=0.5\n",
    "maxi_hist=100\n",
    "\"\"\"\n",
    "\n",
    "\"\"\"\n",
    "#umap morpho# fit UMAP\n",
    "reducer = umap.UMAP()\n",
    "embeddings = reducer.fit_transform(all_1)\n",
    "df_embeddings_0 = pd.DataFrame({'dim1': embeddings[:, 0],\n",
    "                                'dim2': embeddings[:, 1]})\n",
    "\n",
    "embeddings = reducer.transform(all_2)\n",
    "df_embeddings_1 = pd.DataFrame({'participant_id': df_embeddings['ID'].tolist(),\n",
    "                               'dim1': embeddings[:, 0],\n",
    "                               'dim2': embeddings[:, 1]})\n",
    "\"\"\"\n",
    "\"\"\"\n",
    "model = 'morpho_' + sub_dir\n",
    "space = 'umap'\n",
    "dir = f'/neurospin/dico/jlaval/Runs/01_deep_supervised/Program/Output/morpho/{model}/STs_dHCP_374_subjects_embeddings/'\n",
    "dir_embeddings = dir+'full_embeddings.csv'\n",
    "df_embeddings_morpho = pd.read_csv(dir_embeddings, sep=',')\n",
    "if drop_cc:\n",
    "    df_embeddings_morpho = df_embeddings_morpho.drop(['dim15', 'dim14'], axis=1)\n",
    "    dims = [f'dim{k}' for k in range(1,df_embeddings_morpho.shape[1]) if k not in [14, 15]]\n",
    "else:\n",
    "    dims = [f'dim{k}' for k in range(1,df_embeddings_morpho.shape[1])]\n",
    "embed = df_embeddings_morpho[dims]\n",
    "reducer = umap.UMAP()\n",
    "embeddings = reducer.fit_transform(embed)\n",
    "embeddings = pd.DataFrame({'participant_id': df_embeddings_morpho['ID'],\n",
    "                     'dim1': embeddings[:,0],\n",
    "                     'dim2': embeddings[:,1]})\n",
    "dims = [f'dim{k}' for k in range(1, 3)]\n",
    "df = pd.merge(info_dHCP, embeddings)\n",
    "binwidth=0.5\n",
    "height=1\n",
    "maxi_hist=100\n",
    "\"\"\""
   ]
  },
  {
   "cell_type": "code",
   "execution_count": 24,
   "metadata": {},
   "outputs": [
    {
     "data": {
      "image/png": "[encoded data removed]",
      "text/plain": [
       "<Figure size 1440x360 with 4 Axes>"
      ]
     },
     "metadata": {
      "needs_background": "light"
     },
     "output_type": "display_data"
    }
   ],
   "source": [
    "# normalize dims\n",
    "for dim in dims:\n",
    "    x = df[dim].to_numpy().reshape(-1,1)\n",
    "    x = scaler.fit_transform(x)\n",
    "    df[dim] = x\n",
    "\n",
    "thresholds=[28, 32, 37]\n",
    "subsample=-1\n",
    "metric='euclidean'\n",
    "\n",
    "fig, axs = plt.subplots(ncols=len(thresholds)+1, figsize=(5*(len(thresholds)+1),5))\n",
    "maxi=0\n",
    "for idx in range(len(thresholds)+1):\n",
    "    ax = axs[idx]\n",
    "    if idx==0:\n",
    "        sub_df = df.loc[df['birth_age']<thresholds[0]]\n",
    "        ax.set_xlabel(f'BA < {thresholds[0]}', fontsize=15)\n",
    "    elif idx==len(thresholds):\n",
    "        sub_df = df.loc[df['birth_age']>=thresholds[-1]]\n",
    "        ax.set_xlabel(f'BA >= {thresholds[-1]}', fontsize=15)\n",
    "    else:\n",
    "        sub_df = df.loc[(df['birth_age']>=thresholds[idx-1]) & (df['birth_age']<thresholds[idx])]\n",
    "        ax.set_xlabel(f'{thresholds[idx]} > BA >= {thresholds[idx-1]}', fontsize=15)\n",
    "    ax.xaxis.set_label_position('top') \n",
    "    if subsample != -1:\n",
    "        sub_df = sub_df.sample(subsample, random_state=7)\n",
    "    pos_matrix = sub_df[dims].to_numpy()\n",
    "    dists = pairwise_distances(pos_matrix, metric=metric)\n",
    "    dists = np.tril(dists)\n",
    "    dists = dists.reshape(-1,1)\n",
    "    dists = list(dists[:, 0])\n",
    "    dists = [d for d in dists if d!=0]\n",
    "    maxi = max(np.max(dists), maxi)\n",
    "\n",
    "    ax.hist(dists, density=True, bins=np.arange(0, maxi_hist + binwidth, binwidth))\n",
    "    fig.text(0.015+0.2*(idx+1), 0.8, f'Mean dist: {np.mean(dists):.2f}', ha='center', fontsize=15)\n",
    "\n",
    "\n",
    "for idx in range(len(thresholds)+1):\n",
    "    axs[idx].set_xlim(0, maxi)\n",
    "    axs[idx].set_ylim(0, height)\n",
    "    axs[idx].tick_params(axis='x', labelsize=14)\n",
    "    axs[idx].tick_params(axis='y', labelsize=13)\n",
    "    if idx==0:\n",
    "        axs[idx].set_ylabel('Density of subjects', fontsize=15)\n",
    "plt.suptitle(f'Pairwise {metric} distance in {model} {space} space', fontsize=15)\n",
    "to_keep = plt.text(x=0.5, y=0.03, s=f\"{metric} distance\", fontsize=15, ha=\"center\", transform=fig.transFigure)\n",
    "\n",
    "plt.savefig(save_dir+f'/pairwise_{metric}_distance_{model}_{space}.jpg')\n",
    "\n",
    "plt.show()"
   ]
  },
  {
   "cell_type": "code",
   "execution_count": 25,
   "metadata": {},
   "outputs": [],
   "source": [
    "#pairwise variability plot\n",
    "\n",
    "dists_dict = {f'BA < {thresholds[0]}' :[],\n",
    "        f'{thresholds[1]} > BA >= {thresholds[0]}': [],\n",
    "        f'{thresholds[2]} > BA >= {thresholds[1]}': [],\n",
    "        f'BA >= {thresholds[-1]}': []}\n",
    "\n",
    "for idx in range(len(thresholds)+1):\n",
    "    ax = axs[idx]\n",
    "    if idx==0:\n",
    "        sub_df = df.loc[df['birth_age']<thresholds[0]]\n",
    "        label = f'BA < {thresholds[0]}'\n",
    "    elif idx==len(thresholds):\n",
    "        sub_df = df.loc[df['birth_age']>=thresholds[-1]]\n",
    "        label = f'BA >= {thresholds[-1]}'\n",
    "    else:\n",
    "        sub_df = df.loc[(df['birth_age']>=thresholds[idx-1]) & (df['birth_age']<thresholds[idx])]\n",
    "        label = f'{thresholds[idx]} > BA >= {thresholds[idx-1]}'\n",
    "    ax.set_xlabel(label)\n",
    "    ax.xaxis.set_label_position('top') \n",
    "\n",
    "    pos_matrix = sub_df[dims].to_numpy()\n",
    "    dists = pairwise_distances(pos_matrix, metric=metric)\n",
    "    dists = np.tril(dists)\n",
    "    dists = dists.reshape(-1,1)\n",
    "    dists = list(dists[:, 0])\n",
    "    dists = [d for d in dists if d!=0]\n",
    "    dists_dict[label].append(dists)"
   ]
  },
  {
   "cell_type": "code",
   "execution_count": 26,
   "metadata": {},
   "outputs": [
    {
     "data": {
      "image/png": "[encoded data removed]",
      "text/plain": [
       "<Figure size 432x288 with 1 Axes>"
      ]
     },
     "metadata": {
      "needs_background": "light"
     },
     "output_type": "display_data"
    }
   ],
   "source": [
    "fig, ax = plt.subplots()\n",
    "\n",
    "error = dists_dict.copy()\n",
    "for key, value in error.items():\n",
    "    err = 2*np.std(value)\n",
    "    error[key]=err\n",
    "\n",
    "dists_dict_mean = dists_dict.copy()\n",
    "for key, value in dists_dict_mean.items():\n",
    "    m = np.mean(value)\n",
    "    dists_dict_mean[key]=m\n",
    "\n",
    "x = dists_dict.keys()\n",
    "y = np.array(list(dists_dict_mean.values()))\n",
    "err = np.array(list(error.values()))\n",
    "\n",
    "ax.plot(x, y, color='k')\n",
    "ax.fill_between(x, y-err, y+err)\n",
    "plt.xticks(rotation=0)\n",
    "ax.tick_params(axis='x', labelsize=16)\n",
    "ax.tick_params(axis='y', labelsize=16)\n",
    "ax.set_ylabel(f'Pairwise {metric} distance', fontsize=18)\n",
    "ax.set_xlabel('Birth Age Bracket (weeks)', fontsize=18)\n",
    "ax.set_ylim(bottom=0)\n",
    "xticks = ['23-28', '28-32', '32-37', '>= 37']\n",
    "ax.set(xticks=range(0,4), xticklabels=xticks)\n",
    "#plt.savefig(save_dir+f'/pairwise_{metric}_distance_{model}_{space}_thick_plot_v2.jpg')\n",
    "plt.savefig('/home/jl277509/Documents/variability_IABM.png')\n",
    "plt.show()"
   ]
  },
  {
   "cell_type": "code",
   "execution_count": 27,
   "metadata": {},
   "outputs": [
    {
     "data": {
      "image/png": "[encoded data removed]",
      "text/plain": [
       "<Figure size 1152x288 with 4 Axes>"
      ]
     },
     "metadata": {
      "needs_background": "light"
     },
     "output_type": "display_data"
    }
   ],
   "source": [
    "# perform an F-test using the distance to the center of the distribution as the distribution\n",
    "# also requires to remove one degree of freedom to account for the samples dependency\n",
    "# same but without subsampling and iterations\n",
    "\n",
    "def variance(matrix):\n",
    "\n",
    "    N,d = matrix.shape\n",
    "    center = matrix.mean(axis=0).reshape(1,d)\n",
    "    variance = 1/N * ((matrix - center)**2).sum()\n",
    "\n",
    "    return(variance)\n",
    "\n",
    "def dist_to_center(matrix):\n",
    "\n",
    "    N,d = matrix.shape\n",
    "    center = matrix.mean(axis=0).reshape(1,d)\n",
    "    dists = np.linalg.norm((matrix - center), axis=1)\n",
    "\n",
    "    return(dists)\n",
    "\n",
    "variance_dict = {f'BA < {thresholds[0]}' :[],\n",
    "        f'{thresholds[1]} > BA >= {thresholds[0]}': [],\n",
    "        f'{thresholds[2]} > BA >= {thresholds[1]}': [],\n",
    "        f'BA >= {thresholds[-1]}': []}\n",
    "\n",
    "dists_to_center = variance_dict.copy()\n",
    "pos_matrix_dict = variance_dict.copy()\n",
    "\n",
    "fig, axs = plt.subplots(ncols=4, figsize=(16,4))\n",
    "for idx in range(len(thresholds)+1):\n",
    "    ax = axs[idx]\n",
    "    if idx==0:\n",
    "        sub_df = df.loc[df['birth_age']<thresholds[0]]\n",
    "        label = f'BA < {thresholds[0]}'\n",
    "    elif idx==len(thresholds):\n",
    "        sub_df = df.loc[df['birth_age']>=thresholds[-1]]\n",
    "        label = f'BA >= {thresholds[-1]}'\n",
    "    else:\n",
    "        sub_df = df.loc[(df['birth_age']>=thresholds[idx-1]) & (df['birth_age']<thresholds[idx])]\n",
    "        label = f'{thresholds[idx]} > BA >= {thresholds[idx-1]}'\n",
    "    ax.set_xlabel(label)\n",
    "    ax.xaxis.set_label_position('top') \n",
    "\n",
    "    pos_matrix = sub_df[dims].to_numpy()\n",
    "    pos_matrix_dict[label] = pos_matrix\n",
    "    var = variance(pos_matrix)\n",
    "    variance_dict[label] = var\n",
    "    dists = dist_to_center(pos_matrix)\n",
    "    dists_to_center[label] = dists\n",
    "    ax.hist(pos_matrix[:,1])\n",
    "plt.show()"
   ]
  },
  {
   "cell_type": "code",
   "execution_count": 28,
   "metadata": {},
   "outputs": [
    {
     "name": "stdout",
     "output_type": "stream",
     "text": [
      "BA < 28: 0.16631480581331015\n",
      "\n",
      "32 > BA >= 28: 0.17265091805691057\n",
      "\n",
      "37 > BA >= 32: 0.3736163806769869\n",
      "\n",
      "BA >= 37: 0.4999999999999523\n",
      "\n"
     ]
    }
   ],
   "source": [
    "# perform an F-test instead\n",
    "var2 = variance_dict['BA >= 37']\n",
    "nb_subjects = [19, 35, 43, 277]\n",
    "df2 =nb_subjects[-1] - 1\n",
    "with open(save_dir+'/pvalue.txt', 'w') as f:\n",
    "    for idx, (key, value) in enumerate(variance_dict.items()):\n",
    "        var1 = value\n",
    "        df1 = nb_subjects[idx]-1\n",
    "        F = var1/var2\n",
    "        p = scipy.stats.f.cdf(F, df1, df2)\n",
    "        line = f'{key}: {p}\\n'\n",
    "        print(line)\n",
    "        f.write(line)"
   ]
  },
  {
   "cell_type": "code",
   "execution_count": null,
   "metadata": {},
   "outputs": [],
   "source": []
  },
  {
   "cell_type": "code",
   "execution_count": null,
   "metadata": {},
   "outputs": [],
   "source": []
  }
 ],
 "metadata": {
  "kernelspec": {
   "display_name": "venv",
   "language": "python",
   "name": "python3"
  },
  "language_info": {
   "codemirror_mode": {
    "name": "ipython",
    "version": 3
   },
   "file_extension": ".py",
   "mimetype": "text/x-python",
   "name": "python",
   "nbconvert_exporter": "python",
   "pygments_lexer": "ipython3",
   "version": "3.10.12"
  }
 },
 "nbformat": 4,
 "nbformat_minor": 2
}
