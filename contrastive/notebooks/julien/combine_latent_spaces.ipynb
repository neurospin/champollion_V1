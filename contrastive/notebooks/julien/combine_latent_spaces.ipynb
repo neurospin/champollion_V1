{
 "cells": [
  {
   "cell_type": "code",
   "execution_count": 40,
   "metadata": {},
   "outputs": [],
   "source": [
    "import numpy as np\n",
    "import os\n",
    "import pandas as pd\n",
    "from sklearn.linear_model import LogisticRegression\n",
    "from sklearn.model_selection import cross_val_predict, train_test_split, cross_validate, \\\n",
    "                                    LeaveOneGroupOut, cross_val_score\n",
    "from sklearn.metrics import roc_auc_score"
   ]
  },
  {
   "cell_type": "code",
   "execution_count": 189,
   "metadata": {},
   "outputs": [],
   "source": [
    "# 5 regions\n",
    "emb1 = pd.read_csv('/volatile/jl277509/Runs/02_STS_babies/Output/5_regions_5000_gamma/18-46-39_3/troiani_custom_embeddings/custom_cross_val_embeddings.csv')\n",
    "# 5 regions acc grad\n",
    "#emb1 = pd.read_csv('/volatile/jl277509/Runs/02_STS_babies/Output/5_regions_5000_acc_grads/12-31-55_18/troiani_custom_embeddings/custom_cross_val_embeddings.csv')\n",
    "# FIP + orbital\n",
    "#emb1 = pd.read_csv('/volatile/jl277509/Runs/02_STS_babies/Output/multiregion_single_encoder_test/13-45-25_52/troiani_custom_embeddings/custom_cross_val_embeddings.csv')\n",
    "#emb1 = pd.read_csv('/volatile/jl277509/Runs/02_STS_babies/Program/Output/ORBITAL_12-layer_k7/20-56-02_1/troiani_custom_embeddings/custom_cross_val_embeddings.csv')\n",
    "emb2 = pd.read_csv('/volatile/jl277509/Runs/02_STS_babies/Program/Output/ORBITAL_12-layer_k7/20-56-02_0/troiani_custom_embeddings/custom_cross_val_embeddings.csv')"
   ]
  },
  {
   "cell_type": "code",
   "execution_count": 199,
   "metadata": {},
   "outputs": [],
   "source": [
    "# merge embeddings from two different trainings\n",
    "emb2.columns = ['ID'] + [f'dim{k+257}' for k in range(256)]\n",
    "embs = pd.merge(emb1,emb2)"
   ]
  },
  {
   "cell_type": "code",
   "execution_count": 200,
   "metadata": {},
   "outputs": [],
   "source": [
    "## case with single embedding\n",
    "#embs = emb1.copy()"
   ]
  },
  {
   "cell_type": "code",
   "execution_count": 201,
   "metadata": {},
   "outputs": [],
   "source": [
    "# merge embeddings and labels\n",
    "labels = pd.read_csv('/neurospin/dico/data/deep_folding/current/datasets/hcp/hcp_OFC_labels_from_0.csv', usecols=['Subject', 'Left_OFC'])\n",
    "labels.columns = ['ID', 'Left_OFC']\n",
    "\n",
    "embs = pd.merge(embs, labels)"
   ]
  },
  {
   "cell_type": "code",
   "execution_count": 202,
   "metadata": {},
   "outputs": [],
   "source": [
    "X = embs.loc[:, embs.columns != 'ID']\n",
    "X = embs.loc[:, embs.columns != 'Left_OFC']\n",
    "Y = embs['Left_OFC']"
   ]
  },
  {
   "cell_type": "code",
   "execution_count": 203,
   "metadata": {},
   "outputs": [],
   "source": [
    "# get the custom cv\n",
    "splits_basedir = '/neurospin/dico/data/deep_folding/current/datasets/orbital_patterns/Troiani/train_val_split_'\n",
    "subjects = embs['ID'].tolist()\n",
    "root_dir = '/'.join(splits_basedir.split('/')[:-1])\n",
    "basedir = splits_basedir.split('/')[-1]\n",
    "splits_dirs = [os.path.join(root_dir,f) for f in os.listdir(root_dir) if basedir in f and '.csv' in f]\n",
    "splits_subs = [pd.read_csv(file, header=None) for file in splits_dirs]\n",
    "labels = np.concatenate([[i] * len(K) for i, K in enumerate(splits_subs)])\n",
    "splits_subs_and_labels = pd.concat(splits_subs)\n",
    "splits_subs_and_labels.columns=['ID']\n",
    "splits_subs_and_labels['labels'] = labels\n",
    "subs_embeddings = pd.DataFrame({'ID': subjects, 'X': list(X.values), 'Y': Y})\n",
    "df = subs_embeddings.merge(splits_subs_and_labels, on='ID')\n",
    "groups, X, Y = df['labels'], np.vstack(df['X'].values), df['Y']\n",
    "logo = LeaveOneGroupOut()\n",
    "cv = logo.get_n_splits(groups=groups)"
   ]
  },
  {
   "cell_type": "code",
   "execution_count": 204,
   "metadata": {},
   "outputs": [],
   "source": [
    "model = LogisticRegression(max_iter=1000,\n",
    "                           random_state=0)"
   ]
  },
  {
   "cell_type": "code",
   "execution_count": 205,
   "metadata": {},
   "outputs": [
    {
     "name": "stderr",
     "output_type": "stream",
     "text": [
      "/volatile/jl277509/Runs/02_STS_babies/Program/2023_jlaval_STSbabies/venv/lib/python3.10/site-packages/sklearn/linear_model/_logistic.py:469: ConvergenceWarning: lbfgs failed to converge (status=1):\n",
      "STOP: TOTAL NO. of ITERATIONS REACHED LIMIT.\n",
      "\n",
      "Increase the number of iterations (max_iter) or scale the data as shown in:\n",
      "    https://scikit-learn.org/stable/modules/preprocessing.html\n",
      "Please also refer to the documentation for alternative solver options:\n",
      "    https://scikit-learn.org/stable/modules/linear_model.html#logistic-regression\n",
      "  n_iter_i = _check_optimize_result(\n",
      "/volatile/jl277509/Runs/02_STS_babies/Program/2023_jlaval_STSbabies/venv/lib/python3.10/site-packages/sklearn/linear_model/_logistic.py:469: ConvergenceWarning: lbfgs failed to converge (status=1):\n",
      "STOP: TOTAL NO. of ITERATIONS REACHED LIMIT.\n",
      "\n",
      "Increase the number of iterations (max_iter) or scale the data as shown in:\n",
      "    https://scikit-learn.org/stable/modules/preprocessing.html\n",
      "Please also refer to the documentation for alternative solver options:\n",
      "    https://scikit-learn.org/stable/modules/linear_model.html#logistic-regression\n",
      "  n_iter_i = _check_optimize_result(\n",
      "/volatile/jl277509/Runs/02_STS_babies/Program/2023_jlaval_STSbabies/venv/lib/python3.10/site-packages/sklearn/linear_model/_logistic.py:469: ConvergenceWarning: lbfgs failed to converge (status=1):\n",
      "STOP: TOTAL NO. of ITERATIONS REACHED LIMIT.\n",
      "\n",
      "Increase the number of iterations (max_iter) or scale the data as shown in:\n",
      "    https://scikit-learn.org/stable/modules/preprocessing.html\n",
      "Please also refer to the documentation for alternative solver options:\n",
      "    https://scikit-learn.org/stable/modules/linear_model.html#logistic-regression\n",
      "  n_iter_i = _check_optimize_result(\n",
      "/volatile/jl277509/Runs/02_STS_babies/Program/2023_jlaval_STSbabies/venv/lib/python3.10/site-packages/sklearn/linear_model/_logistic.py:469: ConvergenceWarning: lbfgs failed to converge (status=1):\n",
      "STOP: TOTAL NO. of ITERATIONS REACHED LIMIT.\n",
      "\n",
      "Increase the number of iterations (max_iter) or scale the data as shown in:\n",
      "    https://scikit-learn.org/stable/modules/preprocessing.html\n",
      "Please also refer to the documentation for alternative solver options:\n",
      "    https://scikit-learn.org/stable/modules/linear_model.html#logistic-regression\n",
      "  n_iter_i = _check_optimize_result(\n",
      "/volatile/jl277509/Runs/02_STS_babies/Program/2023_jlaval_STSbabies/venv/lib/python3.10/site-packages/sklearn/linear_model/_logistic.py:469: ConvergenceWarning: lbfgs failed to converge (status=1):\n",
      "STOP: TOTAL NO. of ITERATIONS REACHED LIMIT.\n",
      "\n",
      "Increase the number of iterations (max_iter) or scale the data as shown in:\n",
      "    https://scikit-learn.org/stable/modules/preprocessing.html\n",
      "Please also refer to the documentation for alternative solver options:\n",
      "    https://scikit-learn.org/stable/modules/linear_model.html#logistic-regression\n",
      "  n_iter_i = _check_optimize_result(\n",
      "/volatile/jl277509/Runs/02_STS_babies/Program/2023_jlaval_STSbabies/venv/lib/python3.10/site-packages/sklearn/linear_model/_logistic.py:469: ConvergenceWarning: lbfgs failed to converge (status=1):\n",
      "STOP: TOTAL NO. of ITERATIONS REACHED LIMIT.\n",
      "\n",
      "Increase the number of iterations (max_iter) or scale the data as shown in:\n",
      "    https://scikit-learn.org/stable/modules/preprocessing.html\n",
      "Please also refer to the documentation for alternative solver options:\n",
      "    https://scikit-learn.org/stable/modules/linear_model.html#logistic-regression\n",
      "  n_iter_i = _check_optimize_result(\n",
      "/volatile/jl277509/Runs/02_STS_babies/Program/2023_jlaval_STSbabies/venv/lib/python3.10/site-packages/sklearn/linear_model/_logistic.py:469: ConvergenceWarning: lbfgs failed to converge (status=1):\n",
      "STOP: TOTAL NO. of ITERATIONS REACHED LIMIT.\n",
      "\n",
      "Increase the number of iterations (max_iter) or scale the data as shown in:\n",
      "    https://scikit-learn.org/stable/modules/preprocessing.html\n",
      "Please also refer to the documentation for alternative solver options:\n",
      "    https://scikit-learn.org/stable/modules/linear_model.html#logistic-regression\n",
      "  n_iter_i = _check_optimize_result(\n",
      "/volatile/jl277509/Runs/02_STS_babies/Program/2023_jlaval_STSbabies/venv/lib/python3.10/site-packages/sklearn/linear_model/_logistic.py:469: ConvergenceWarning: lbfgs failed to converge (status=1):\n",
      "STOP: TOTAL NO. of ITERATIONS REACHED LIMIT.\n",
      "\n",
      "Increase the number of iterations (max_iter) or scale the data as shown in:\n",
      "    https://scikit-learn.org/stable/modules/preprocessing.html\n",
      "Please also refer to the documentation for alternative solver options:\n",
      "    https://scikit-learn.org/stable/modules/linear_model.html#logistic-regression\n",
      "  n_iter_i = _check_optimize_result(\n"
     ]
    }
   ],
   "source": [
    "labels_proba = cross_val_predict(model, X, Y, cv=cv, method='predict_proba')"
   ]
  },
  {
   "cell_type": "code",
   "execution_count": 206,
   "metadata": {},
   "outputs": [],
   "source": [
    "roc_aucs = roc_auc_score(Y, labels_proba, multi_class='ovr', average=None)"
   ]
  },
  {
   "cell_type": "code",
   "execution_count": 212,
   "metadata": {},
   "outputs": [
    {
     "name": "stdout",
     "output_type": "stream",
     "text": [
      "[0.75952881 0.82782773 0.76549086 0.84150757]\n",
      "0.7835335660505998\n"
     ]
    }
   ],
   "source": [
    "print(roc_aucs)\n",
    "print(np.sum([roc_auc*np.sum(Y==k) for k, roc_auc in enumerate(roc_aucs)]) / len(Y))"
   ]
  },
  {
   "cell_type": "code",
   "execution_count": 198,
   "metadata": {},
   "outputs": [
    {
     "name": "stdout",
     "output_type": "stream",
     "text": [
      "[0.76558748 0.82557379 0.75976745 0.82044108]\n",
      "0.7835014674688842\n"
     ]
    }
   ],
   "source": [
    "## values for single model alone !\n",
    "print(roc_aucs)\n",
    "print(np.sum([roc_auc*np.sum(Y==k) for k, roc_auc in enumerate(roc_aucs)]) / len(Y))"
   ]
  }
 ],
 "metadata": {
  "kernelspec": {
   "display_name": "venv",
   "language": "python",
   "name": "python3"
  },
  "language_info": {
   "codemirror_mode": {
    "name": "ipython",
    "version": 3
   },
   "file_extension": ".py",
   "mimetype": "text/x-python",
   "name": "python",
   "nbconvert_exporter": "python",
   "pygments_lexer": "ipython3",
   "version": "3.10.12"
  }
 },
 "nbformat": 4,
 "nbformat_minor": 2
}
