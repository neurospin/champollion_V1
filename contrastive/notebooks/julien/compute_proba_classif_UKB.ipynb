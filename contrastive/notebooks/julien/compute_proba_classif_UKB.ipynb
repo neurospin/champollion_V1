{
 "cells": [
  {
   "cell_type": "code",
   "execution_count": 1,
   "metadata": {},
   "outputs": [
    {
     "name": "stderr",
     "output_type": "stream",
     "text": [
      "/tmp/ipykernel_31806/174686245.py:3: DeprecationWarning: \n",
      "Pyarrow will become a required dependency of pandas in the next major release of pandas (pandas 3.0),\n",
      "(to allow more performant data types, such as the Arrow string type, and better interoperability with other libraries)\n",
      "but was not found to be installed on your system.\n",
      "If this would cause problems for you,\n",
      "please provide us feedback at https://github.com/pandas-dev/pandas/issues/54466\n",
      "        \n",
      "  import pandas as pd\n"
     ]
    }
   ],
   "source": [
    "import matplotlib.pyplot as plt\n",
    "import numpy as np\n",
    "import pandas as pd\n",
    "import seaborn as sns\n",
    "#from sklearn.pipeline import make_pipeline\n",
    "from sklearn.preprocessing import StandardScaler\n",
    "from sklearn.svm import SVC\n",
    "from sklearn.model_selection import cross_val_predict\n",
    "from sklearn.metrics import roc_auc_score,balanced_accuracy_score\n",
    "from sklearn.decomposition import PCA\n",
    "from sklearn.model_selection import train_test_split"
   ]
  },
  {
   "cell_type": "code",
   "execution_count": null,
   "metadata": {},
   "outputs": [],
   "source": [
    "model_dir = '/neurospin/dico/jlaval/Output/cingulate_extremities_pepper/22-40-56_2/'\n",
    "\n",
    "embeddings_ACCP= pd.read_csv(os.path.join(model_dir, 'ACC_random_embeddings/train_val_embeddings.csv'))\n",
    "print(embeddings_ACCP.head())\n",
    "embeddings_ACCP= pd.read_csv(os.path.join(model_dir, ), index_col=0)\n",
    "embeddings_UKB.head()"
   ]
  },
  {
   "cell_type": "code",
   "execution_count": null,
   "metadata": {},
   "outputs": [],
   "source": [
    "labels_ACCP = labels_ACCP[['long_name','Right_PCS']]"
   ]
  },
  {
   "cell_type": "code",
   "execution_count": null,
   "metadata": {},
   "outputs": [],
   "source": [
    "def encoder(df, col):\n",
    "    code = {'present':1,\n",
    "            'absent':0}\n",
    "    df[col] = df[col].map(code)\n",
    "    return df\n",
    "\n",
    "encoder(labels_ACCP,'Right_PCS') "
   ]
  },
  {
   "cell_type": "code",
   "execution_count": null,
   "metadata": {},
   "outputs": [],
   "source": []
  },
  {
   "cell_type": "code",
   "execution_count": null,
   "metadata": {},
   "outputs": [],
   "source": [
    "ebdd_lbl_ACCP = embeddings_ACCP.set_index('ID').join(labels_ACCP.set_index('long_name'))\n",
    "X = ebdd_lbl_ACCP.drop('Right_PCS', axis=1)\n",
    "y = ebdd_lbl_ACCP['Right_PCS']"
   ]
  },
  {
   "cell_type": "code",
   "execution_count": null,
   "metadata": {},
   "outputs": [],
   "source": [
    "scaler = StandardScaler()\n",
    "scaler.fit(embeddings_UKB)\n",
    "X = scaler.transform(X)\n",
    "scl_bdd_hcp = scaler.transform(embeddings_HCP)\n",
    "scl_bdd_ukb = scaler.transform(embeddings_UKB)\n",
    "X.shape ,scl_bdd_hcp.shape"
   ]
  },
  {
   "cell_type": "code",
   "execution_count": null,
   "metadata": {},
   "outputs": [],
   "source": [
    "## or use logistic ?\n",
    "\n",
    "model = SVC(kernel='linear', probability=True,\n",
    "            random_state=42,\n",
    "            C=0.01, class_weight='balanced', decision_function_shape='ovr')"
   ]
  },
  {
   "cell_type": "code",
   "execution_count": null,
   "metadata": {},
   "outputs": [],
   "source": [
    "X_train, X_test, y_train, y_test = train_test_split(scd_bdd_HCP_ACCP.drop(\"Dataset\", axis=1), scd_bdd_HCP_ACCP[\"Dataset\"], test_size=0.01, random_state=40)"
   ]
  },
  {
   "cell_type": "code",
   "execution_count": null,
   "metadata": {},
   "outputs": [],
   "source": [
    "model.fit(X_train,y_train)"
   ]
  },
  {
   "cell_type": "code",
   "execution_count": null,
   "metadata": {},
   "outputs": [],
   "source": [
    "val_pred = model.predict(X=scl_bdd_ukb)"
   ]
  }
 ],
 "metadata": {
  "kernelspec": {
   "display_name": "venv",
   "language": "python",
   "name": "python3"
  },
  "language_info": {
   "codemirror_mode": {
    "name": "ipython",
    "version": 3
   },
   "file_extension": ".py",
   "mimetype": "text/x-python",
   "name": "python",
   "nbconvert_exporter": "python",
   "pygments_lexer": "ipython3",
   "version": "3.10.12"
  }
 },
 "nbformat": 4,
 "nbformat_minor": 2
}
