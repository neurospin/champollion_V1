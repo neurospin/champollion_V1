{
 "cells": [
  {
   "cell_type": "code",
   "execution_count": 31,
   "metadata": {},
   "outputs": [],
   "source": [
    "import numpy as np\n",
    "import pandas as pd\n",
    "import os\n",
    "import glob"
   ]
  },
  {
   "cell_type": "code",
   "execution_count": 32,
   "metadata": {},
   "outputs": [],
   "source": [
    "## training config\n",
    "savedir = '/neurospin/dico/data/deep_folding/current/models/Champollion_V1_after_ablation/'"
   ]
  },
  {
   "cell_type": "code",
   "execution_count": 33,
   "metadata": {},
   "outputs": [],
   "source": [
    "## check the number of epochs of each training\n",
    "keywords = ['_left', '_right'] ## to identify th directories referencing to trained models\n",
    "checkpoint_dir = f\"{savedir}*{keywords}/*/logs/lightning_logs/version_0/checkpoints/epoch*.ckpt\"\n",
    "checkpoint_dirs = glob.glob(checkpoint_dir)"
   ]
  },
  {
   "cell_type": "code",
   "execution_count": 34,
   "metadata": {},
   "outputs": [
    {
     "name": "stdout",
     "output_type": "stream",
     "text": [
      "['/neurospin/dico/data/deep_folding/current/models/Champollion_V1_after_ablation_latent_256/SC-sylv_left/name09-39-51_74/logs/lightning_logs/version_0/checkpoints/epoch=80-step=106272.ckpt', '/neurospin/dico/data/deep_folding/current/models/Champollion_V1_after_ablation_latent_256/SFinter-SFsup_left/name09-51-16_49/logs/lightning_logs/version_0/checkpoints/epoch=80-step=106272.ckpt', '/neurospin/dico/data/deep_folding/current/models/Champollion_V1_after_ablation_latent_256/LARGE_CINGULATE_left/name08-54-20_182/logs/lightning_logs/version_0/checkpoints/epoch=80-step=106272.ckpt', '/neurospin/dico/data/deep_folding/current/models/Champollion_V1_after_ablation_latent_256/STi-STs-STpol_right/name12-55-09_108/logs/lightning_logs/version_0/checkpoints/epoch=70-step=93152.ckpt', '/neurospin/dico/data/deep_folding/current/models/Champollion_V1_after_ablation_latent_256/FColl-SRh_right/name08-43-16_38/logs/lightning_logs/version_0/checkpoints/epoch=75-step=99712.ckpt', '/neurospin/dico/data/deep_folding/current/models/Champollion_V1_after_ablation_latent_256/SC-sylv_right/name09-42-54_107/logs/lightning_logs/version_0/checkpoints/epoch=80-step=106272.ckpt', '/neurospin/dico/data/deep_folding/current/models/Champollion_V1_after_ablation_latent_256/Lobule_parietal_sup_left/name06-16-55_59/logs/lightning_logs/version_0/checkpoints/epoch=80-step=106272.ckpt', '/neurospin/dico/data/deep_folding/current/models/Champollion_V1_after_ablation_latent_256/SFint-SR_left/name10-04-51_163/logs/lightning_logs/version_0/checkpoints/epoch=80-step=106272.ckpt', '/neurospin/dico/data/deep_folding/current/models/Champollion_V1_after_ablation_latent_256/SPoC_left/name11-55-40_204/logs/lightning_logs/version_0/checkpoints/epoch=80-step=106272.ckpt', '/neurospin/dico/data/deep_folding/current/models/Champollion_V1_after_ablation_latent_256/SFinf-BROCA-SPeCinf_right/name09-46-36_2/logs/lightning_logs/version_0/checkpoints/epoch=80-step=106272.ckpt', '/neurospin/dico/data/deep_folding/current/models/Champollion_V1_after_ablation_latent_256/SsP-SPaint_left/name12-36-43_213/logs/lightning_logs/version_0/checkpoints/epoch=80-step=106272.ckpt', '/neurospin/dico/data/deep_folding/current/models/Champollion_V1_after_ablation_latent_256/SOr-SOlf_left/name10-53-31_181/logs/lightning_logs/version_0/checkpoints/epoch=80-step=106272.ckpt', '/neurospin/dico/data/deep_folding/current/models/Champollion_V1_after_ablation_latent_256/SFinf-BROCA-SPeCinf_left/name09-44-23_0/logs/lightning_logs/version_0/checkpoints/epoch=80-step=106272.ckpt', '/neurospin/dico/data/deep_folding/current/models/Champollion_V1_after_ablation_latent_256/SFmedian-SFpoltr-SFsup_right/name10-50-20_155/logs/lightning_logs/version_0/checkpoints/epoch=76-step=101024.ckpt', '/neurospin/dico/data/deep_folding/current/models/Champollion_V1_after_ablation_latent_256/FColl-SRh_left/name08-41-59_191/logs/lightning_logs/version_0/checkpoints/epoch=80-step=106272.ckpt', '/neurospin/dico/data/deep_folding/current/models/Champollion_V1_after_ablation_latent_256/STi-STs-STpol_left/name12-55-09_229/logs/lightning_logs/version_0/checkpoints/epoch=60-step=80032.ckpt', '/neurospin/dico/data/deep_folding/current/models/Champollion_V1_after_ablation_latent_256/SFint-FCMant_left/name10-01-06_146/logs/lightning_logs/version_0/checkpoints/epoch=80-step=106272.ckpt', '/neurospin/dico/data/deep_folding/current/models/Champollion_V1_after_ablation_latent_256/FCLp-subsc-FCLa-INSULA_right/name08-37-37_51/logs/lightning_logs/version_0/checkpoints/epoch=80-step=106272.ckpt', '/neurospin/dico/data/deep_folding/current/models/Champollion_V1_after_ablation_latent_256/OCCIPITAL_right/name09-08-21_247/logs/lightning_logs/version_0/checkpoints/epoch=80-step=106272.ckpt', '/neurospin/dico/data/deep_folding/current/models/Champollion_V1_after_ablation_latent_256/SC-SPeC_right/name12-55-09_244/logs/lightning_logs/version_0/checkpoints/epoch=77-step=102336.ckpt', '/neurospin/dico/data/deep_folding/current/models/Champollion_V1_after_ablation_latent_256/SOr-SOlf_right/name10-57-49_189/logs/lightning_logs/version_0/checkpoints/epoch=80-step=106272.ckpt', '/neurospin/dico/data/deep_folding/current/models/Champollion_V1_after_ablation_latent_256/SOr_right/name14-27-10_238/logs/lightning_logs/version_0/checkpoints/epoch=80-step=106272.ckpt', '/neurospin/dico/data/deep_folding/current/models/Champollion_V1_after_ablation_latent_256/CINGULATE_left/name08-34-15_32/logs/lightning_logs/version_0/checkpoints/epoch=80-step=106272.ckpt', '/neurospin/dico/data/deep_folding/current/models/Champollion_V1_after_ablation_latent_256/SFint-SR_right/name10-14-52_229/logs/lightning_logs/version_0/checkpoints/epoch=80-step=106272.ckpt', '/neurospin/dico/data/deep_folding/current/models/Champollion_V1_after_ablation_latent_256/CINGULATE_right/name08-35-01_98/logs/lightning_logs/version_0/checkpoints/epoch=80-step=106272.ckpt', '/neurospin/dico/data/deep_folding/current/models/Champollion_V1_after_ablation_latent_256/fronto-parietal_medial_face_left/name16-13-44_35/logs/lightning_logs/version_0/checkpoints/epoch=49-step=65600.ckpt', '/neurospin/dico/data/deep_folding/current/models/Champollion_V1_after_ablation_latent_256/ScCal-SLi_left/name09-06-56_50/logs/lightning_logs/version_0/checkpoints/epoch=80-step=106272.ckpt', '/neurospin/dico/data/deep_folding/current/models/Champollion_V1_after_ablation_latent_256/FPO-SCu-ScCal_right/name08-51-21_106/logs/lightning_logs/version_0/checkpoints/epoch=80-step=106272.ckpt', '/neurospin/dico/data/deep_folding/current/models/Champollion_V1_after_ablation_latent_256/FPO-SCu-ScCal_left/name08-50-35_162/logs/lightning_logs/version_0/checkpoints/epoch=80-step=106272.ckpt', '/neurospin/dico/data/deep_folding/current/models/Champollion_V1_after_ablation_latent_256/OCCIPITAL_left/name09-01-57_175/logs/lightning_logs/version_0/checkpoints/epoch=80-step=106272.ckpt', '/neurospin/dico/data/deep_folding/current/models/Champollion_V1_after_ablation_latent_256/SC-SPeC_left/name12-55-09_112/logs/lightning_logs/version_0/checkpoints/epoch=80-step=106272.ckpt', '/neurospin/dico/data/deep_folding/current/models/Champollion_V1_after_ablation_latent_256/STs_right/name14-50-41_171/logs/lightning_logs/version_0/checkpoints/epoch=80-step=106272.ckpt', '/neurospin/dico/data/deep_folding/current/models/Champollion_V1_after_ablation_latent_256/FIP_left/name08-48-12_141/logs/lightning_logs/version_0/checkpoints/epoch=80-step=106272.ckpt', '/neurospin/dico/data/deep_folding/current/models/Champollion_V1_after_ablation_latent_256/STsbr_right/name13-10-42_105/logs/lightning_logs/version_0/checkpoints/epoch=80-step=106272.ckpt', '/neurospin/dico/data/deep_folding/current/models/Champollion_V1_after_ablation_latent_256/SC-SPoC_right/name09-36-01_241/logs/lightning_logs/version_0/checkpoints/epoch=75-step=99712.ckpt', '/neurospin/dico/data/deep_folding/current/models/Champollion_V1_after_ablation_latent_256/SOr_left/name14-26-36_201/logs/lightning_logs/version_0/checkpoints/epoch=80-step=106272.ckpt', '/neurospin/dico/data/deep_folding/current/models/Champollion_V1_after_ablation_latent_256/fronto-parietal_medial_face_right/name12-55-09_160/logs/lightning_logs/version_0/checkpoints/epoch=70-step=93152.ckpt', '/neurospin/dico/data/deep_folding/current/models/Champollion_V1_after_ablation_latent_256/SPeC_left/name06-17-03_68/logs/lightning_logs/version_0/checkpoints/epoch=80-step=106272.ckpt', '/neurospin/dico/data/deep_folding/current/models/Champollion_V1_after_ablation_latent_256/SPoC_right/name12-36-43_250/logs/lightning_logs/version_0/checkpoints/epoch=80-step=106272.ckpt', '/neurospin/dico/data/deep_folding/current/models/Champollion_V1_after_ablation_latent_256/STi-SOTlat_right/name12-55-09_12/logs/lightning_logs/version_0/checkpoints/epoch=68-step=90528.ckpt', '/neurospin/dico/data/deep_folding/current/models/Champollion_V1_after_ablation_latent_256/FCMpost-SpC_left/name08-40-03_149/logs/lightning_logs/version_0/checkpoints/epoch=80-step=106272.ckpt', '/neurospin/dico/data/deep_folding/current/models/Champollion_V1_after_ablation_latent_256/SFint-FCMant_right/name10-01-41_253/logs/lightning_logs/version_0/checkpoints/epoch=80-step=106272.ckpt', '/neurospin/dico/data/deep_folding/current/models/Champollion_V1_after_ablation_latent_256/SFmedian-SFpoltr-SFsup_left/name12-55-09_57/logs/lightning_logs/version_0/checkpoints/epoch=79-step=104960.ckpt', '/neurospin/dico/data/deep_folding/current/models/Champollion_V1_after_ablation_latent_256/SPeC_right/name11-52-34_69/logs/lightning_logs/version_0/checkpoints/epoch=80-step=106272.ckpt', '/neurospin/dico/data/deep_folding/current/models/Champollion_V1_after_ablation_latent_256/SFmarginal-SFinfant_left/name10-46-48_252/logs/lightning_logs/version_0/checkpoints/epoch=80-step=106272.ckpt', '/neurospin/dico/data/deep_folding/current/models/Champollion_V1_after_ablation_latent_256/FIP_right/name08-48-48_61/logs/lightning_logs/version_0/checkpoints/epoch=80-step=106272.ckpt', '/neurospin/dico/data/deep_folding/current/models/Champollion_V1_after_ablation_latent_256/FCLp-subsc-FCLa-INSULA_left/name04-48-30_221/logs/lightning_logs/version_0/checkpoints/epoch=80-step=106272.ckpt', '/neurospin/dico/data/deep_folding/current/models/Champollion_V1_after_ablation_latent_256/STsbr_left/name13-08-00_70/logs/lightning_logs/version_0/checkpoints/epoch=80-step=106272.ckpt', '/neurospin/dico/data/deep_folding/current/models/Champollion_V1_after_ablation_latent_256/SsP-SPaint_right/name12-36-45_11/logs/lightning_logs/version_0/checkpoints/epoch=80-step=106272.ckpt', '/neurospin/dico/data/deep_folding/current/models/Champollion_V1_after_ablation_latent_256/ScCal-SLi_right/name09-13-40_244/logs/lightning_logs/version_0/checkpoints/epoch=80-step=106272.ckpt', '/neurospin/dico/data/deep_folding/current/models/Champollion_V1_after_ablation_latent_256/Lobule_parietal_sup_right/name09-00-39_110/logs/lightning_logs/version_0/checkpoints/epoch=76-step=101024.ckpt', '/neurospin/dico/data/deep_folding/current/models/Champollion_V1_after_ablation_latent_256/SFmarginal-SFinfant_right/name10-46-48_38/logs/lightning_logs/version_0/checkpoints/epoch=80-step=106272.ckpt', '/neurospin/dico/data/deep_folding/current/models/Champollion_V1_after_ablation_latent_256/STi-SOTlat_left/name12-55-09_183/logs/lightning_logs/version_0/checkpoints/epoch=69-step=91840.ckpt', '/neurospin/dico/data/deep_folding/current/models/Champollion_V1_after_ablation_latent_256/SFinter-SFsup_right/name09-58-42_239/logs/lightning_logs/version_0/checkpoints/epoch=80-step=106272.ckpt', '/neurospin/dico/data/deep_folding/current/models/Champollion_V1_after_ablation_latent_256/STs_left/name04-48-30_149/logs/lightning_logs/version_0/checkpoints/epoch=80-step=106272.ckpt', '/neurospin/dico/data/deep_folding/current/models/Champollion_V1_after_ablation_latent_256/FCMpost-SpC_right/name08-40-41_34/logs/lightning_logs/version_0/checkpoints/epoch=80-step=106272.ckpt', '/neurospin/dico/data/deep_folding/current/models/Champollion_V1_after_ablation_latent_256/LARGE_CINGULATE_right/name08-56-55_106/logs/lightning_logs/version_0/checkpoints/epoch=80-step=106272.ckpt', '/neurospin/dico/data/deep_folding/current/models/Champollion_V1_after_ablation_latent_256/SC-SPoC_left/name09-19-33_205/logs/lightning_logs/version_0/checkpoints/epoch=80-step=106272.ckpt']\n"
     ]
    }
   ],
   "source": [
    "print(checkpoint_dirs)"
   ]
  },
  {
   "cell_type": "code",
   "execution_count": 36,
   "metadata": {},
   "outputs": [
    {
     "name": "stdout",
     "output_type": "stream",
     "text": [
      "Epoch 80-step=106272 for SC-sylv_left\n",
      "Epoch 80-step=106272 for SFinter-SFsup_left\n",
      "Epoch 80-step=106272 for LARGE_CINGULATE_left\n",
      "Epoch 70-step=93152 for STi-STs-STpol_right\n",
      "Epoch 75-step=99712 for FColl-SRh_right\n",
      "Epoch 80-step=106272 for SC-sylv_right\n",
      "Epoch 80-step=106272 for Lobule_parietal_sup_left\n",
      "Epoch 80-step=106272 for SFint-SR_left\n",
      "Epoch 80-step=106272 for SPoC_left\n",
      "Epoch 80-step=106272 for SFinf-BROCA-SPeCinf_right\n",
      "Epoch 80-step=106272 for SsP-SPaint_left\n",
      "Epoch 80-step=106272 for SOr-SOlf_left\n",
      "Epoch 80-step=106272 for SFinf-BROCA-SPeCinf_left\n",
      "Epoch 76-step=101024 for SFmedian-SFpoltr-SFsup_right\n",
      "Epoch 80-step=106272 for FColl-SRh_left\n",
      "Epoch 60-step=80032 for STi-STs-STpol_left\n",
      "Epoch 80-step=106272 for SFint-FCMant_left\n",
      "Epoch 80-step=106272 for FCLp-subsc-FCLa-INSULA_right\n",
      "Epoch 80-step=106272 for OCCIPITAL_right\n",
      "Epoch 77-step=102336 for SC-SPeC_right\n",
      "Epoch 80-step=106272 for SOr-SOlf_right\n",
      "Epoch 80-step=106272 for SOr_right\n",
      "Epoch 80-step=106272 for CINGULATE_left\n",
      "Epoch 80-step=106272 for SFint-SR_right\n",
      "Epoch 80-step=106272 for CINGULATE_right\n",
      "Epoch 49-step=65600 for fronto-parietal_medial_face_left\n",
      "Epoch 80-step=106272 for ScCal-SLi_left\n",
      "Epoch 80-step=106272 for FPO-SCu-ScCal_right\n",
      "Epoch 80-step=106272 for FPO-SCu-ScCal_left\n",
      "Epoch 80-step=106272 for OCCIPITAL_left\n",
      "Epoch 80-step=106272 for SC-SPeC_left\n",
      "Epoch 80-step=106272 for STs_right\n",
      "Epoch 80-step=106272 for FIP_left\n",
      "Epoch 80-step=106272 for STsbr_right\n",
      "Epoch 75-step=99712 for SC-SPoC_right\n",
      "Epoch 80-step=106272 for SOr_left\n",
      "Epoch 70-step=93152 for fronto-parietal_medial_face_right\n",
      "Epoch 80-step=106272 for SPeC_left\n",
      "Epoch 80-step=106272 for SPoC_right\n",
      "Epoch 68-step=90528 for STi-SOTlat_right\n",
      "Epoch 80-step=106272 for FCMpost-SpC_left\n",
      "Epoch 80-step=106272 for SFint-FCMant_right\n",
      "Epoch 79-step=104960 for SFmedian-SFpoltr-SFsup_left\n",
      "Epoch 80-step=106272 for SPeC_right\n",
      "Epoch 80-step=106272 for SFmarginal-SFinfant_left\n",
      "Epoch 80-step=106272 for FIP_right\n",
      "Epoch 80-step=106272 for FCLp-subsc-FCLa-INSULA_left\n",
      "Epoch 80-step=106272 for STsbr_left\n",
      "Epoch 80-step=106272 for SsP-SPaint_right\n",
      "Epoch 80-step=106272 for ScCal-SLi_right\n",
      "Epoch 76-step=101024 for Lobule_parietal_sup_right\n",
      "Epoch 80-step=106272 for SFmarginal-SFinfant_right\n",
      "Epoch 69-step=91840 for STi-SOTlat_left\n",
      "Epoch 80-step=106272 for SFinter-SFsup_right\n",
      "Epoch 80-step=106272 for STs_left\n",
      "Epoch 80-step=106272 for FCMpost-SpC_right\n",
      "Epoch 80-step=106272 for LARGE_CINGULATE_right\n",
      "Epoch 80-step=106272 for SC-SPoC_left\n"
     ]
    }
   ],
   "source": [
    "for dir in checkpoint_dirs:\n",
    "    #print(dir)\n",
    "    epoch = dir.split('epoch=')[1].split('.ckpt')[0]\n",
    "    #print(epoch)\n",
    "    region = dir.split('/')[-7]\n",
    "    \n",
    "    print(f\"Epoch {epoch} for {region}\")"
   ]
  },
  {
   "cell_type": "code",
   "execution_count": 37,
   "metadata": {},
   "outputs": [
    {
     "name": "stdout",
     "output_type": "stream",
     "text": [
      "Epoch 70-step=93152 for STi-STs-STpol_right, dir : STi-STs-STpol_right/name12-55-09_108/logs/lightning_logs/version_0/checkpoints/epoch=70-step=93152.ckpt\n",
      "Epoch 75-step=99712 for FColl-SRh_right, dir : FColl-SRh_right/name08-43-16_38/logs/lightning_logs/version_0/checkpoints/epoch=75-step=99712.ckpt\n",
      "Epoch 76-step=101024 for SFmedian-SFpoltr-SFsup_right, dir : SFmedian-SFpoltr-SFsup_right/name10-50-20_155/logs/lightning_logs/version_0/checkpoints/epoch=76-step=101024.ckpt\n",
      "Epoch 60-step=80032 for STi-STs-STpol_left, dir : STi-STs-STpol_left/name12-55-09_229/logs/lightning_logs/version_0/checkpoints/epoch=60-step=80032.ckpt\n",
      "Epoch 77-step=102336 for SC-SPeC_right, dir : SC-SPeC_right/name12-55-09_244/logs/lightning_logs/version_0/checkpoints/epoch=77-step=102336.ckpt\n",
      "Epoch 49-step=65600 for fronto-parietal_medial_face_left, dir : fronto-parietal_medial_face_left/name16-13-44_35/logs/lightning_logs/version_0/checkpoints/epoch=49-step=65600.ckpt\n",
      "Epoch 75-step=99712 for SC-SPoC_right, dir : SC-SPoC_right/name09-36-01_241/logs/lightning_logs/version_0/checkpoints/epoch=75-step=99712.ckpt\n",
      "Epoch 70-step=93152 for fronto-parietal_medial_face_right, dir : fronto-parietal_medial_face_right/name12-55-09_160/logs/lightning_logs/version_0/checkpoints/epoch=70-step=93152.ckpt\n",
      "Epoch 68-step=90528 for STi-SOTlat_right, dir : STi-SOTlat_right/name12-55-09_12/logs/lightning_logs/version_0/checkpoints/epoch=68-step=90528.ckpt\n",
      "Epoch 79-step=104960 for SFmedian-SFpoltr-SFsup_left, dir : SFmedian-SFpoltr-SFsup_left/name12-55-09_57/logs/lightning_logs/version_0/checkpoints/epoch=79-step=104960.ckpt\n",
      "Epoch 76-step=101024 for Lobule_parietal_sup_right, dir : Lobule_parietal_sup_right/name09-00-39_110/logs/lightning_logs/version_0/checkpoints/epoch=76-step=101024.ckpt\n",
      "Epoch 69-step=91840 for STi-SOTlat_left, dir : STi-SOTlat_left/name12-55-09_183/logs/lightning_logs/version_0/checkpoints/epoch=69-step=91840.ckpt\n"
     ]
    }
   ],
   "source": [
    "## print regions which didn't reach 80 epochs\n",
    "max_epochs=80\n",
    "\n",
    "for dir in checkpoint_dirs:\n",
    "    #print(dir)\n",
    "    if 'epoch=80' not in dir:\n",
    "        epoch = dir.split('epoch=')[1].split('.ckpt')[0]\n",
    "        #print(epoch)\n",
    "        region = dir.split('/')[-7]\n",
    "    \n",
    "        print(f\"Epoch {epoch} for {region}, dir : {('/').join(dir.split('/')[-7:])}\")"
   ]
  },
  {
   "cell_type": "code",
   "execution_count": 38,
   "metadata": {},
   "outputs": [
    {
     "name": "stdout",
     "output_type": "stream",
     "text": [
      "Number of models reaching 80 epochs: 46\n"
     ]
    }
   ],
   "source": [
    "## count how many models reached 80 epochs\n",
    "count = 0\n",
    "for dir in checkpoint_dirs:\n",
    "    if 'epoch=80' in dir:\n",
    "        count += 1\n",
    "print(f\"Number of models reaching 80 epochs: {count}\")"
   ]
  },
  {
   "cell_type": "code",
   "execution_count": 40,
   "metadata": {},
   "outputs": [
    {
     "name": "stdout",
     "output_type": "stream",
     "text": [
      "Number of models reaching <40 epochs: 0\n",
      "[]\n"
     ]
    }
   ],
   "source": [
    "## same but <= 40 epochs ?\n",
    "count = 0\n",
    "regs = []\n",
    "for dir in checkpoint_dirs:\n",
    "    epochs = [f'epoch={k}-' for k in range(0, 40)]\n",
    "    for epoch in epochs:\n",
    "        if epoch in dir:\n",
    "            count += 1\n",
    "            regs.append(dir.split('/')[-7]) \n",
    "print(f\"Number of models reaching <40 epochs: {count}\")\n",
    "print(regs)"
   ]
  },
  {
   "cell_type": "code",
   "execution_count": 41,
   "metadata": {},
   "outputs": [
    {
     "name": "stdout",
     "output_type": "stream",
     "text": [
      "Number of models reaching >=60 epochs: 58\n"
     ]
    }
   ],
   "source": [
    "## same but > 40 epochs ?\n",
    "count = 0\n",
    "regs = []\n",
    "for dir in checkpoint_dirs:\n",
    "    epochs = [f'epoch={k}-' for k in range(40, 81)]\n",
    "    for epoch in epochs:\n",
    "        if epoch in dir:\n",
    "            count += 1\n",
    "            regs.append(dir.split('/')[-7]) \n",
    "print(f\"Number of models reaching >=60 epochs: {count}\")"
   ]
  },
  {
   "cell_type": "code",
   "execution_count": 42,
   "metadata": {},
   "outputs": [],
   "source": [
    "## 3 regions missing for 32\n",
    "## 1 for 256"
   ]
  },
  {
   "cell_type": "code",
   "execution_count": 43,
   "metadata": {},
   "outputs": [],
   "source": [
    "# target regions\n",
    "regions = \"SOr_left SOr_right FColl-SRh_left SFmedian-SFpoltr-SFsup_left SFinf-BROCA-SPeCinf_left SPoC_left fronto-parietal_medial_face_left FIP_left CINGULATE_left SC-SPoC_left SFinter-SFsup_left FCMpost-SpC_left SsP-SPaint_left SOr-SOlf_left FPO-SCu-ScCal_left LARGE_CINGULATE_left SFmarginal-SFinfant_left SFint-FCMant_left STi-STs-STpol_left SFint-SR_left Lobule_parietal_sup_left STi-SOTlat_left SPeC_left STsbr_left ScCal-SLi_left STs_left FCLp-subsc-FCLa-INSULA_left SC-sylv_left SC-SPeC_left OCCIPITAL_left FColl-SRh_right SFmedian-SFpoltr-SFsup_right SFinf-BROCA-SPeCinf_right SPoC_right fronto-parietal_medial_face_right FIP_right CINGULATE_right SC-SPoC_right SFinter-SFsup_right FCMpost-SpC_right SsP-SPaint_right SOr-SOlf_right FPO-SCu-ScCal_right LARGE_CINGULATE_right SFmarginal-SFinfant_right SFint-FCMant_right STi-STs-STpol_right SFint-SR_right Lobule_parietal_sup_right STi-SOTlat_right SPeC_right STsbr_right ScCal-SLi_right STs_right FCLp-subsc-FCLa-INSULA_right SC-sylv_right SC-SPeC_right OCCIPITAL_right\"\n",
    "regions = regions.split(' ')"
   ]
  },
  {
   "cell_type": "code",
   "execution_count": 44,
   "metadata": {},
   "outputs": [],
   "source": [
    "# find missing regions\n",
    "missing = set(regions) - set(regs)"
   ]
  },
  {
   "cell_type": "code",
   "execution_count": 45,
   "metadata": {},
   "outputs": [
    {
     "data": {
      "text/plain": [
       "set()"
      ]
     },
     "execution_count": 45,
     "metadata": {},
     "output_type": "execute_result"
    }
   ],
   "source": [
    "missing"
   ]
  },
  {
   "cell_type": "code",
   "execution_count": null,
   "metadata": {},
   "outputs": [],
   "source": []
  }
 ],
 "metadata": {
  "kernelspec": {
   "display_name": "venv",
   "language": "python",
   "name": "python3"
  },
  "language_info": {
   "codemirror_mode": {
    "name": "ipython",
    "version": 3
   },
   "file_extension": ".py",
   "mimetype": "text/x-python",
   "name": "python",
   "nbconvert_exporter": "python",
   "pygments_lexer": "ipython3",
   "version": "3.10.12"
  }
 },
 "nbformat": 4,
 "nbformat_minor": 2
}
