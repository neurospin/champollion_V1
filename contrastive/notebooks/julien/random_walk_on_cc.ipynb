{
 "cells": [
  {
   "cell_type": "code",
   "execution_count": 39,
   "metadata": {},
   "outputs": [],
   "source": [
    "import numpy as np\n",
    "from scipy import ndimage\n",
    "import os\n",
    "import networkx as nx\n",
    "from collections import defaultdict\n",
    "import random"
   ]
  },
  {
   "cell_type": "code",
   "execution_count": 40,
   "metadata": {},
   "outputs": [],
   "source": [
    "def find_connected_components(volume, structure):\n",
    "    \"\"\"Label connected components in a 3D binary volume.\"\"\"\n",
    "    labeled_volume, num_components = ndimage.label(volume, structure=structure)  # Label each connected component\n",
    "    return labeled_volume, num_components\n",
    "\n",
    "def voxel_graph(component, label_value):\n",
    "    \"\"\"Create a graph from a single connected component.\"\"\"\n",
    "    G = nx.Graph()\n",
    "    dims = component.shape\n",
    "    for i in range(dims[0]):\n",
    "        for j in range(dims[1]):\n",
    "            for k in range(dims[2]):\n",
    "                if component[i, j, k] == label_value:\n",
    "                    G.add_node((i, j, k))\n",
    "                    #for di, dj, dk in [(1,0,0), (-1,0,0), (0,1,0), (0,-1,0), (0,0,1), (0,0,-1)]: ## not the right connectivity ?\n",
    "                    for di in range(-1,2,1):\n",
    "                        for dj in range(-1,2,1):\n",
    "                            for dk in range(-1,2,1):\n",
    "                                ni, nj, nk = i + di, j + dj, k + dk\n",
    "                                if 0 <= ni < dims[0] and 0 <= nj < dims[1] and 0 <= nk < dims[2] and not (ni==i and nj==j and nk==k): # and not (np.linalg.norm((ni-i, nj-j, nk-k))>1.5) # use connectivity 26\n",
    "                                    if component[ni, nj, nk] == label_value:\n",
    "                                        G.add_edge((i, j, k), (ni, nj, nk), weight=np.linalg.norm((ni-i, nj-j, nk-k)))\n",
    "    return G"
   ]
  },
  {
   "cell_type": "code",
   "execution_count": 41,
   "metadata": {},
   "outputs": [],
   "source": [
    "def random_walk_all_points(graph, walk_length=20, alpha=0.5):\n",
    "    \"\"\"Simulates random walks from every point in the graph to measure accessibility.\"\"\"\n",
    "    visit_counts = defaultdict(int)\n",
    "    \n",
    "    for start_point in graph.nodes:\n",
    "        current_point = start_point\n",
    "        \n",
    "        for _ in range(walk_length):\n",
    "            visit_counts[current_point] += 1  # Count visit\n",
    "\n",
    "            neighbors = list(graph.neighbors(current_point))\n",
    "            if not neighbors:\n",
    "                break  # Dead end\n",
    "\n",
    "            # Move to a random neighbor\n",
    "            current_point = random.choice(neighbors)\n",
    "    \n",
    "    # Normalize visit counts\n",
    "    max_visits = max(visit_counts.values()) if visit_counts else 1\n",
    "    for node in graph.nodes:\n",
    "        #visit_counts[node] = visit_counts[node]*(1-alpha)/max_visits+alpha if node in visit_counts else alpha ## minimum on edges\n",
    "        visit_counts[node] = (1-alpha)*(1-visit_counts[node]/max_visits) + alpha if node in visit_counts else 1 ## maximum on edges\n",
    "\n",
    "\n",
    "    return visit_counts"
   ]
  },
  {
   "cell_type": "markdown",
   "metadata": {},
   "source": [
    "# First test with Numpy"
   ]
  },
  {
   "cell_type": "code",
   "execution_count": 23,
   "metadata": {},
   "outputs": [],
   "source": [
    "skeletons = np.load('/neurospin/dico/data/deep_folding/current/datasets/hcp/crops/2mm/F.I.P./mask/Rskeleton.npy')\n",
    "skel = skeletons[0]\n",
    "volume = skel[:,:,:,0]!=0\n",
    "structure = np.ones((3,3,3))\n",
    "alpha = 0.5"
   ]
  },
  {
   "cell_type": "code",
   "execution_count": null,
   "metadata": {},
   "outputs": [
    {
     "name": "stdout",
     "output_type": "stream",
     "text": [
      "Number of connected components : 18\n",
      "[74957    23  1063     4     1     8     5     1   871     4    60     8\n",
      "     1     1    17   183     6     4     3]\n",
      "Point (3, 8, 26) -> Frequency 0.60\n",
      "Point (4, 9, 25) -> Frequency 0.83\n",
      "Point (4, 10, 25) -> Frequency 0.83\n",
      "Point (5, 11, 24) -> Frequency 0.93\n",
      "Point (4, 11, 24) -> Frequency 0.79\n",
      "Point (5, 10, 25) -> Frequency 1.00\n",
      "Point (6, 11, 24) -> Frequency 1.00\n",
      "Point (7, 10, 25) -> Frequency 0.94\n",
      "Point (8, 9, 24) -> Frequency 0.93\n",
      "Point (8, 8, 25) -> Frequency 0.83\n",
      "Point (4, 6, 18) -> Frequency 0.63\n",
      "Point (5, 6, 18) -> Frequency 0.76\n",
      "Point (5, 6, 17) -> Frequency 0.76\n",
      "Point (5, 7, 16) -> Frequency 0.67\n",
      "Point (6, 7, 16) -> Frequency 0.74\n",
      "Point (6, 8, 16) -> Frequency 0.59\n",
      "Point (7, 8, 15) -> Frequency 0.78\n",
      "Point (8, 9, 15) -> Frequency 0.91\n",
      "Point (8, 9, 16) -> Frequency 0.84\n",
      "Point (9, 8, 16) -> Frequency 0.82\n",
      "Point (4, 9, 21) -> Frequency 0.81\n",
      "Point (5, 9, 20) -> Frequency 1.00\n",
      "Point (4, 10, 19) -> Frequency 0.71\n",
      "Point (5, 9, 21) -> Frequency 0.83\n",
      "Point (6, 0, 19) -> Frequency 1.00\n",
      "Point (7, 1, 15) -> Frequency 0.75\n",
      "Point (8, 1, 16) -> Frequency 1.00\n",
      "Point (9, 1, 17) -> Frequency 0.87\n",
      "Point (9, 2, 16) -> Frequency 0.90\n",
      "Point (8, 2, 15) -> Frequency 0.88\n",
      "Point (9, 2, 17) -> Frequency 0.88\n",
      "Point (9, 1, 18) -> Frequency 0.88\n",
      "Point (9, 1, 19) -> Frequency 0.64\n",
      "Point (7, 3, 24) -> Frequency 0.88\n",
      "Point (7, 4, 25) -> Frequency 0.82\n",
      "Point (8, 3, 24) -> Frequency 0.94\n",
      "Point (8, 4, 25) -> Frequency 1.00\n",
      "Point (9, 4, 25) -> Frequency 0.73\n",
      "Point (8, 1, 21) -> Frequency 1.00\n",
      "Point (8, 24, 24) -> Frequency 0.52\n",
      "Point (9, 24, 24) -> Frequency 0.55\n",
      "Point (10, 25, 23) -> Frequency 0.70\n",
      "Point (10, 26, 23) -> Frequency 0.71\n",
      "Point (11, 27, 24) -> Frequency 0.81\n",
      "Point (11, 26, 24) -> Frequency 0.90\n",
      "Point (12, 26, 25) -> Frequency 0.79\n",
      "Point (11, 25, 24) -> Frequency 0.79\n",
      "Point (12, 24, 25) -> Frequency 0.68\n",
      "Point (11, 24, 24) -> Frequency 0.63\n",
      "Point (9, 26, 28) -> Frequency 0.70\n",
      "Point (10, 26, 28) -> Frequency 0.93\n",
      "Point (11, 27, 29) -> Frequency 1.00\n",
      "Point (10, 28, 29) -> Frequency 0.77\n",
      "Point (13, 2, 11) -> Frequency 0.65\n",
      "Point (13, 3, 10) -> Frequency 0.76\n",
      "Point (13, 3, 11) -> Frequency 0.82\n",
      "Point (13, 3, 9) -> Frequency 0.75\n",
      "Point (13, 3, 8) -> Frequency 0.80\n",
      "Point (14, 4, 9) -> Frequency 0.90\n",
      "Point (15, 5, 8) -> Frequency 0.97\n",
      "Point (16, 6, 7) -> Frequency 0.81\n",
      "Point (17, 6, 8) -> Frequency 0.81\n",
      "Point (17, 6, 9) -> Frequency 0.85\n",
      "Point (14, 32, 37) -> Frequency 0.74\n",
      "Point (14, 33, 36) -> Frequency 0.83\n",
      "Point (15, 34, 35) -> Frequency 0.72\n",
      "Point (16, 33, 36) -> Frequency 0.80\n",
      "Point (15, 33, 36) -> Frequency 0.94\n",
      "Point (15, 32, 37) -> Frequency 1.00\n",
      "Point (16, 31, 37) -> Frequency 0.68\n",
      "Point (16, 32, 36) -> Frequency 0.78\n",
      "Point (16, 35, 41) -> Frequency 1.00\n",
      "Point (18, 33, 40) -> Frequency 1.00\n",
      "Point (20, 8, 7) -> Frequency 0.67\n",
      "Point (20, 8, 8) -> Frequency 0.88\n",
      "Point (21, 8, 9) -> Frequency 0.96\n",
      "Point (20, 8, 9) -> Frequency 0.80\n",
      "Point (21, 8, 8) -> Frequency 0.99\n",
      "Point (22, 8, 7) -> Frequency 0.77\n",
      "Point (23, 8, 8) -> Frequency 0.81\n",
      "Point (22, 8, 8) -> Frequency 0.91\n",
      "Point (23, 8, 9) -> Frequency 0.86\n",
      "Point (22, 8, 9) -> Frequency 1.00\n",
      "Point (25, 20, 26) -> Frequency 0.74\n",
      "Point (25, 21, 27) -> Frequency 0.64\n",
      "Point (26, 19, 25) -> Frequency 0.56\n",
      "Point (25, 21, 25) -> Frequency 0.68\n",
      "Point (26, 21, 25) -> Frequency 0.71\n",
      "Point (25, 22, 24) -> Frequency 0.65\n",
      "Point (27, 22, 25) -> Frequency 0.75\n",
      "Point (27, 23, 24) -> Frequency 0.88\n",
      "Point (28, 23, 25) -> Frequency 0.78\n",
      "Point (28, 24, 25) -> Frequency 0.87\n",
      "Point (32, 21, 7) -> Frequency 0.72\n",
      "Point (33, 20, 8) -> Frequency 0.91\n",
      "Point (34, 21, 7) -> Frequency 0.92\n",
      "Point (33, 21, 7) -> Frequency 1.00\n",
      "Point (34, 21, 6) -> Frequency 0.91\n",
      "Point (34, 22, 5) -> Frequency 0.61\n",
      "Point (33, 21, 20) -> Frequency 0.81\n",
      "Point (34, 21, 20) -> Frequency 0.94\n",
      "Point (34, 21, 19) -> Frequency 1.00\n",
      "Point (35, 21, 19) -> Frequency 0.85\n",
      "Point (35, 33, 28) -> Frequency 0.78\n",
      "Point (36, 32, 27) -> Frequency 1.00\n",
      "Point (37, 33, 28) -> Frequency 0.72\n"
     ]
    }
   ],
   "source": [
    "# Find connected components\n",
    "labeled_volume, num_components = find_connected_components(volume, structure=structure)\n",
    "print(f'Number of connected components : {num_components}')\n",
    "print(np.unique(labeled_volume, return_counts=True)[1])\n",
    "\n",
    "# random walks on each connected component\n",
    "results = defaultdict(dict)\n",
    "centers = {}\n",
    "for label_value in range(1, num_components + 1):  # Labels start from 1\n",
    "    G = voxel_graph(labeled_volume, label_value)\n",
    "    visit_frequencies = random_walk_all_points(G, walk_length=100, alpha=alpha)\n",
    "    for point, freq in list(visit_frequencies.items())[:10]:\n",
    "        print(f\"Point {point} -> Frequency {freq:.2f}\")\n",
    "    results = {**results, **visit_frequencies}\n",
    "\n",
    "ccrdwalk_skel = np.zeros(skel.shape, dtype=float)\n",
    "for point, freq in results.items():\n",
    "    ccrdwalk_skel[point] = freq"
   ]
  },
  {
   "cell_type": "markdown",
   "metadata": {},
   "source": [
    "# With AIMS"
   ]
  },
  {
   "cell_type": "code",
   "execution_count": 42,
   "metadata": {},
   "outputs": [],
   "source": [
    "import anatomist.api as ana\n",
    "from soma.qt_gui.qtThread import QtThreadCall\n",
    "from soma.qt_gui.qt_backend import Qt\n",
    "from soma import aims\n",
    "\n",
    "a = ana.Anatomist()"
   ]
  },
  {
   "cell_type": "code",
   "execution_count": 46,
   "metadata": {},
   "outputs": [
    {
     "name": "stdout",
     "output_type": "stream",
     "text": [
      "(array([0, 1], dtype=int16), array([74949,  2271]))\n",
      "(array([0, 1], dtype=int16), array([75052,  2168]))\n",
      "(array([0, 1], dtype=int16), array([75144,  2076]))\n",
      "(array([0, 1], dtype=int16), array([75153,  2067]))\n",
      "(array([0, 1], dtype=int16), array([75125,  2095]))\n",
      "(array([0, 1], dtype=int16), array([74976,  2244]))\n",
      "(array([0, 1], dtype=int16), array([74968,  2252]))\n",
      "(array([0, 1], dtype=int16), array([75357,  1863]))\n",
      "(array([0, 1], dtype=int16), array([74956,  2264]))\n",
      "(array([0, 1], dtype=int16), array([74940,  2280]))\n",
      "(array([0, 1], dtype=int16), array([75190,  2030]))\n",
      "(array([0, 1], dtype=int16), array([75004,  2216]))\n",
      "(array([0, 1], dtype=int16), array([74863,  2357]))\n",
      "(array([0, 1], dtype=int16), array([75017,  2203]))\n",
      "(array([0, 1], dtype=int16), array([75065,  2155]))\n",
      "(array([0, 1], dtype=int16), array([75030,  2190]))\n"
     ]
    }
   ],
   "source": [
    "#skel_dir = '/neurospin/dico/data/deep_folding/current/datasets/hcp/crops/2mm/S.C.-sylv./mask/Lcrops'\n",
    "skel_dir = '/neurospin/dico/data/deep_folding/current/datasets/hcp/crops/2mm/F.I.P./mask/Rcrops'\n",
    "\n",
    "alpha=0.5\n",
    "walk_length=2000\n",
    "nb_run = 1 ## to test stability of the random walk\n",
    "nb_subjects = 16\n",
    "\n",
    "subjects_list = os.listdir(skel_dir)\n",
    "subjects_list = [elem for elem in subjects_list if elem[-1]!='f']\n",
    "subjects_list = subjects_list[:nb_subjects]\n",
    "\n",
    "volume_files = []\n",
    "rdwalk_files = []\n",
    "\n",
    "\n",
    "for subject in subjects_list:\n",
    "    for _ in range(nb_run):\n",
    "        skel_volume = aims.read(os.path.join(skel_dir, subject))\n",
    "        skel_volume.np[skel_volume.np!=0]=1\n",
    "        print(np.unique(skel_volume, return_counts=True))\n",
    "        skel = skel_volume.np\n",
    "        volume = skel[:,:,:,0]!=0\n",
    "        structure = np.ones((3,3,3))\n",
    "\n",
    "        # Find connected components\n",
    "        labeled_volume, num_components = find_connected_components(volume, structure=structure)\n",
    "\n",
    "        # random walks on each connected component\n",
    "        results = defaultdict(dict)\n",
    "        for label_value in range(1, num_components + 1):  # Labels start from 1\n",
    "            G = voxel_graph(labeled_volume, label_value)\n",
    "            visit_frequencies = random_walk_all_points(G, walk_length=walk_length, alpha=alpha)\n",
    "            results = {**results, **visit_frequencies}\n",
    "\n",
    "        ccrdwalk_skel = np.zeros(skel.shape, dtype=float)\n",
    "        for point, freq in results.items():\n",
    "            ccrdwalk_skel[point] = freq\n",
    "        \n",
    "        vol = ccrdwalk_skel.astype(np.float32)\n",
    "        vol = aims.Volume(vol)\n",
    "\n",
    "        volume_files.append(skel_volume)\n",
    "        rdwalk_files.append(vol)"
   ]
  },
  {
   "cell_type": "code",
   "execution_count": 47,
   "metadata": {},
   "outputs": [],
   "source": [
    "def build_gradient(pal):\n",
    "    gw = ana.cpp.GradientWidget(None, 'gradientwidget', pal.header()['palette_gradients'])\n",
    "    gw.setHasAlpha(True)\n",
    "    nc = pal.shape[0]\n",
    "    rgbp = gw.fillGradient(nc, True)\n",
    "    rgb = rgbp.data()\n",
    "    npal = pal.np['v']\n",
    "    pb = np.frombuffer(rgb, dtype=np.uint8).reshape((nc, 4))\n",
    "    npal[:, 0, 0, 0, :] = pb\n",
    "    npal[:, 0, 0, 0, :3] = npal[:, 0, 0, 0, :3][:, ::-1]  # BGRA -> RGBA\n",
    "    pal.update()"
   ]
  },
  {
   "cell_type": "code",
   "execution_count": 48,
   "metadata": {},
   "outputs": [
    {
     "ename": "",
     "evalue": "",
     "output_type": "error",
     "traceback": [
      "\u001b[1;31mThe Kernel crashed while executing code in the current cell or a previous cell. \n",
      "\u001b[1;31mPlease review the code in the cell(s) to identify a possible cause of the failure. \n",
      "\u001b[1;31mClick <a href='https://aka.ms/vscodeJupyterKernelCrash'>here</a> for more info. \n",
      "\u001b[1;31mView Jupyter <a href='command:jupyter.viewOutput'>log</a> for further details."
     ]
    }
   ],
   "source": [
    "block = a.createWindowsBlock(4)\n",
    "dic_windows = {}\n",
    "\n",
    "for i, vol in enumerate(rdwalk_files):\n",
    "    dic_windows[f'a_vol{i}'] = a.toAObject(vol)\n",
    "    pal = a.createPalette('plasma')\n",
    "    pal.header()['palette_gradients'] = f\"0;0;0;0;0.05;0.4667;0.05;0.4667;0.1;0.5333;0.1;0.5333;0.15;0;0.15;0;0.2;0;0.2;0;0.25;0;0.25;0;0.3;0;0.3;0;0.35;0;0.35;0;0.4;0;0.4;0;0.45;0;0.45;0;0.5;0;0.5;0;0.55;0;0.55;0;0.6;0;0.6;0;0.65;0.7333;0.65;0.7333;0.7;0.9333;0.7;0.9333;0.75;1;0.75;1;0.8;1;0.8;1;0.85;1;0.85;1;0.9;0.8667;0.9;0.8667;0.95;0.8;0.95;0.8;1;0.8;1;0.8#0;0;0;0;0.05;0;0.05;0;0.1;0;0.1;0;0.15;0;0.15;0;0.2;0;0.2;0;0.25;0.4667;0.25;0.4667;0.3;0.6;0.3;0.6;0.35;0.6667;0.35;0.6667;0.4;0.6667;0.4;0.6667;0.45;0.6;0.45;0.6;0.5;0.7333;0.5;0.7333;0.55;0.8667;0.55;0.8667;0.6;1;0.6;1;0.65;1;0.65;1;0.7;0.9333;0.7;0.9333;0.75;0.8;0.75;0.8;0.8;0.6;0.8;0.6;0.85;0;0.85;0;0.9;0;0.9;0;0.95;0;0.95;0;1;0.8;1;0.8#0;0;0;0;0.05;0.5333;0.05;0.5333;0.1;0.6;0.1;0.6;0.15;0.6667;0.15;0.6667;0.2;0.8667;0.2;0.8667;0.25;0.8667;0.25;0.8667;0.3;0.8667;0.3;0.8667;0.35;0.6667;0.35;0.6667;0.4;0.5333;0.4;0.5333;0.45;0;0.45;0;0.5;0;0.5;0;0.55;0;0.55;0;0.6;0;0.6;0;0.65;0;0.65;0;0.7;0;0.7;0;0.75;0;0.75;0;0.8;0;0.8;0;0.85;0;0.85;0;0.9;0;0.9;0;0.95;0;0.95;0;1;0.8;1;0.8#0;0;0.2;0.977778;1;1\"\n",
    "    build_gradient(pal)\n",
    "    dic_windows[f'a_vol{i}'].setPalette('plasma')\n",
    "    dic_windows[f'rvol{i}'] = a.fusionObjects(objects=[dic_windows[f'a_vol{i}']], method='VolumeRenderingFusionMethod')\n",
    "    dic_windows[f'rvol{i}'].releaseAppRef()\n",
    "    dic_windows[f'wvr{i}'] = a.createWindow('3D', block=block)\n",
    "    dic_windows[f'wvr{i}'].addObjects(dic_windows[f'rvol{i}'])"
   ]
  },
  {
   "cell_type": "code",
   "execution_count": 10,
   "metadata": {},
   "outputs": [
    {
     "data": {
      "text/plain": [
       "array([0.        , 0.53472584, 0.54490864, ..., 0.9897163 , 0.9947055 ,\n",
       "       1.        ], dtype=float32)"
      ]
     },
     "execution_count": 10,
     "metadata": {},
     "output_type": "execute_result"
    }
   ],
   "source": []
  },
  {
   "cell_type": "code",
   "execution_count": null,
   "metadata": {},
   "outputs": [],
   "source": []
  }
 ],
 "metadata": {
  "kernelspec": {
   "display_name": "venv",
   "language": "python",
   "name": "python3"
  },
  "language_info": {
   "codemirror_mode": {
    "name": "ipython",
    "version": 3
   },
   "file_extension": ".py",
   "mimetype": "text/x-python",
   "name": "python",
   "nbconvert_exporter": "python",
   "pygments_lexer": "ipython3",
   "version": "3.10.12"
  }
 },
 "nbformat": 4,
 "nbformat_minor": 2
}
