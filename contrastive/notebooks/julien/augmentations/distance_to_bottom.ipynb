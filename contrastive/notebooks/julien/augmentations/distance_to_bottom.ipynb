{
 "cells": [
  {
   "cell_type": "code",
   "execution_count": 3,
   "metadata": {},
   "outputs": [],
   "source": [
    "import numpy as np\n",
    "import os\n",
    "import pandas as pd\n",
    "from soma import aims, aimsalgo\n",
    "import matplotlib.pyplot as plt"
   ]
  },
  {
   "cell_type": "code",
   "execution_count": 4,
   "metadata": {},
   "outputs": [],
   "source": [
    "directory = '/volatile/jl277509/data/UkBioBank/crops/2mm/CINGULATE/mask/'\n",
    "side = 'R'\n",
    "crops_dirs = directory+side+'crops/'\n",
    "skel_subjects = pd.read_csv(directory+side+'skeleton_subject.csv')"
   ]
  },
  {
   "cell_type": "code",
   "execution_count": 5,
   "metadata": {},
   "outputs": [],
   "source": [
    "vol_list = []\n",
    "fm = aims.FastMarching()\n",
    "for i, subject in enumerate(skel_subjects.Subject):\n",
    "    vol = aims.read(crops_dirs+subject+'_cropped_skeleton.nii.gz')\n",
    "    outside = 0\n",
    "    other_outside = 11\n",
    "    bottom_val = 30\n",
    "    ss_val = 60\n",
    "\n",
    "    # change all other values to ss_val\n",
    "    vol_tmp = aims.Volume(vol)\n",
    "    vol[vol.np != ss_val] = ss_val\n",
    "    vol[vol_tmp.np == bottom_val] = bottom_val\n",
    "    vol[vol_tmp.np == outside] = outside\n",
    "    vol[vol_tmp.np == other_outside] = outside\n",
    "\n",
    "    vol_list.append(vol.np)\n",
    "\n",
    "    # propagation dans ss_val, avec outside non-atteignable\n",
    "    aimsalgo.AimsDistanceFrontPropagation(vol, ss_val, outside, 3, 3, 3, 50, False)\n",
    "    #aims.write(vol, directory+side+f'distbottom/{subject}_cropped_distbottom.nii.gz')"
   ]
  },
  {
   "cell_type": "code",
   "execution_count": 6,
   "metadata": {},
   "outputs": [
    {
     "data": {
      "text/plain": [
       "(21052, 16, 37, 37, 1)"
      ]
     },
     "execution_count": 6,
     "metadata": {},
     "output_type": "execute_result"
    }
   ],
   "source": [
    "arr_distbottom_all = np.stack(vol_list)\n",
    "arr_distbottom_all.shape"
   ]
  },
  {
   "cell_type": "code",
   "execution_count": null,
   "metadata": {},
   "outputs": [],
   "source": [
    "np.save(directory+side+'distbottom.npy', arr_distbottom_all)"
   ]
  },
  {
   "cell_type": "code",
   "execution_count": 14,
   "metadata": {},
   "outputs": [
    {
     "data": {
      "text/plain": [
       "array([    0,   100,   141,   173,   200,   241,   273,   282,   300,\n",
       "         314,   341,   373,   382,   400,   414,   423,   441,   446,\n",
       "         455,   473,   482,   514,   523,   555,   582,   587, 32500,\n",
       "       32501], dtype=int16)"
      ]
     },
     "execution_count": 14,
     "metadata": {},
     "output_type": "execute_result"
    }
   ],
   "source": [
    "np.unique(vol)"
   ]
  },
  {
   "cell_type": "code",
   "execution_count": 6,
   "metadata": {},
   "outputs": [],
   "source": [
    "for subject in skel_subjects.Subject:\n",
    "    vol1 = aims.read(crops_dirs+subject+'_cropped_skeleton.nii.gz')\n",
    "    vol2 = aims.read(directory+side+f'distbottom/{subject}_cropped_distbottom.nii.gz')"
   ]
  },
  {
   "cell_type": "code",
   "execution_count": 10,
   "metadata": {},
   "outputs": [
    {
     "name": "stdout",
     "output_type": "stream",
     "text": [
      "87\n",
      "87\n"
     ]
    }
   ],
   "source": [
    "# check bottoms\n",
    "print(np.sum(vol1.np==30))\n",
    "print(np.sum(vol2.np==0))"
   ]
  },
  {
   "cell_type": "code",
   "execution_count": 12,
   "metadata": {},
   "outputs": [
    {
     "name": "stdout",
     "output_type": "stream",
     "text": [
      "376\n",
      "374\n"
     ]
    }
   ],
   "source": [
    "# check that all voxels are caught\n",
    "print(np.sum(vol1.np>0))\n",
    "print(np.sum(vol2.np<10000))"
   ]
  },
  {
   "cell_type": "code",
   "execution_count": null,
   "metadata": {},
   "outputs": [],
   "source": []
  }
 ],
 "metadata": {
  "kernelspec": {
   "display_name": "venv",
   "language": "python",
   "name": "python3"
  },
  "language_info": {
   "codemirror_mode": {
    "name": "ipython",
    "version": 3
   },
   "file_extension": ".py",
   "mimetype": "text/x-python",
   "name": "python",
   "nbconvert_exporter": "python",
   "pygments_lexer": "ipython3",
   "version": "3.10.12"
  }
 },
 "nbformat": 4,
 "nbformat_minor": 2
}
