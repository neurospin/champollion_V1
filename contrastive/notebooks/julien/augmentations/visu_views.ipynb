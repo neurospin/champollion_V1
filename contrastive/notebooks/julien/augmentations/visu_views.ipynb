{
 "cells": [
  {
   "cell_type": "code",
   "execution_count": 1,
   "metadata": {},
   "outputs": [
    {
     "name": "stderr",
     "output_type": "stream",
     "text": [
      "/usr/lib/python3/dist-packages/scipy/__init__.py:146: UserWarning: A NumPy version >=1.17.3 and <1.25.0 is required for this version of SciPy (detected version 1.26.4\n",
      "  warnings.warn(f\"A NumPy version >={np_minversion} and <{np_maxversion}\"\n"
     ]
    }
   ],
   "source": [
    "import numpy as np\n",
    "import os\n",
    "import dico_toolbox as dtx\n",
    "import anatomist.headless as anatomist\n",
    "from soma import aims\n",
    "import io\n",
    "import logging\n",
    "\n",
    "import matplotlib.pyplot as plt\n",
    "from numpy import int16\n",
    "\n",
    "from .visu_utils import buffer_to_image\n",
    "\n",
    "logger = logging.getLogger(__name__)\n",
    "\n",
    "\n",
    "a = None\n",
    "win = None\n",
    "\n",
    "\n",
    "class Visu_Anatomist:\n",
    "\n",
    "    def __init__(self, ):\n",
    "        global a\n",
    "        global win\n",
    "        a = anatomist.Anatomist()\n",
    "        win = a.createWindow('3D')\n",
    "        win.setHasCursor(0)\n",
    "\n",
    "    def plot_bucket(self, arr, buffer):\n",
    "        \"\"\"Plots as 3D buckets\n",
    "\n",
    "        Args:\n",
    "            arr : [size_X, size_Y, size_Z]\n",
    "            buffer (boolean): True -> returns PNG image buffer\n",
    "                            False -> plots the figure\n",
    "        \"\"\"\n",
    "        global a\n",
    "        global win\n",
    "        vol = aims.Volume(arr.numpy().astype(int16))\n",
    "        bucket_map = dtx.convert.volume_to_bucketMap_aims(vol)\n",
    "        bucket_a = a.toAObject(bucket_map)\n",
    "        bucket_a.addInWindows(win)\n",
    "        view_quaternion = [0.4, 0.4, 0.5, 0.5]\n",
    "        win.camera(view_quaternion=view_quaternion)\n",
    "        win.imshow(show=False)\n",
    "\n",
    "        if buffer:\n",
    "            win.removeObjects(bucket_a)\n",
    "            return buffer_to_image(buffer=io.BytesIO())\n",
    "        else:\n",
    "            plt.show()"
   ]
  },
  {
   "cell_type": "code",
   "execution_count": 2,
   "metadata": {},
   "outputs": [],
   "source": [
    "model_dir = '/volatile/jl277509/Runs/02_STS_babies/Output/2024-08-06/16-59-30_44'\n",
    "views_dir = os.path.join(model_dir, 'logs/views/')\n",
    "view1 = np.load(views_dir+'view1.npy')\n",
    "view2 = np.load(views_dir+'view2.npy')"
   ]
  },
  {
   "cell_type": "code",
   "execution_count": null,
   "metadata": {},
   "outputs": [],
   "source": [
    "visu_anatomist = Visu_Anatomist()"
   ]
  },
  {
   "cell_type": "code",
   "execution_count": 4,
   "metadata": {},
   "outputs": [
    {
     "data": {
      "text/plain": [
       "(32, 1, 30, 38, 22)"
      ]
     },
     "execution_count": 4,
     "metadata": {},
     "output_type": "execute_result"
    }
   ],
   "source": [
    "arr = view1[0][0]\n",
    "visu_anatomist.plot_bucket(arr, buffer=True)"
   ]
  }
 ],
 "metadata": {
  "kernelspec": {
   "display_name": "venv",
   "language": "python",
   "name": "python3"
  },
  "language_info": {
   "codemirror_mode": {
    "name": "ipython",
    "version": 3
   },
   "file_extension": ".py",
   "mimetype": "text/x-python",
   "name": "python",
   "nbconvert_exporter": "python",
   "pygments_lexer": "ipython3",
   "version": "3.10.12"
  }
 },
 "nbformat": 4,
 "nbformat_minor": 2
}
