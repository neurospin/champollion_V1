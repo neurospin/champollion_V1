{
 "cells": [
  {
   "cell_type": "code",
   "execution_count": 94,
   "metadata": {},
   "outputs": [],
   "source": [
    "import numpy as np\n",
    "import pandas as pd\n",
    "import os\n",
    "from sklearn.metrics import pairwise_distances\n",
    "import matplotlib.pyplot as plt\n",
    "from tqdm import tqdm"
   ]
  },
  {
   "cell_type": "code",
   "execution_count": 111,
   "metadata": {},
   "outputs": [],
   "source": [
    "dims = [f'dim{k}' for k in range(1,33)]\n",
    "#emb_dir = '/neurospin/dico/jlaval/Output/test_augmented_embeddings/09-33-31_0/troiani_augmented_embeddings'\n",
    "emb_dir = '/neurospin/dico/jlaval/Output/test_augmented_embeddings_cing/11-22-27_0/ukb_augmented_embeddings'\n",
    "embs_dir = os.listdir(emb_dir)\n",
    "embs_dir = [direc for direc in embs_dir if 'embeddings' in direc]"
   ]
  },
  {
   "cell_type": "code",
   "execution_count": 112,
   "metadata": {},
   "outputs": [],
   "source": [
    "embs_list = []\n",
    "for file in embs_dir:\n",
    "    embs = pd.read_csv(os.path.join(emb_dir, file))\n",
    "    embs_list.append(embs)\n",
    "full_embs = pd.concat(embs_list)"
   ]
  },
  {
   "cell_type": "code",
   "execution_count": 113,
   "metadata": {},
   "outputs": [],
   "source": [
    "subjects = embs['ID'].tolist()"
   ]
  },
  {
   "cell_type": "code",
   "execution_count": 114,
   "metadata": {},
   "outputs": [],
   "source": [
    "means, medians, stds, maxs, quants = [], [], [], [], []\n",
    "for subject in tqdm(subjects):\n",
    "    sub_embs = full_embs.loc[full_embs['ID']==subject][dims]\n",
    "    dists = pairwise_distances(sub_embs, metric='cosine')\n",
    "    dists = dists[~np.eye(dists.shape[0], dtype=bool)]\n",
    "    means.append(np.mean(dists))\n",
    "    medians.append(np.median(dists))\n",
    "    quants.append(np.quantile(dists, 0.95))\n",
    "    maxs.append(np.max(dists))\n",
    "    stds.append(np.std(dists))"
   ]
  },
  {
   "cell_type": "code",
   "execution_count": 115,
   "metadata": {},
   "outputs": [],
   "source": [
    "df_augmentation_stats = pd.DataFrame(data = np.array([means, medians, quants, maxs, stds]).T, columns=['Mean', 'Median', 'Q95', 'Max', 'Std'], index=subjects)"
   ]
  },
  {
   "cell_type": "code",
   "execution_count": 116,
   "metadata": {},
   "outputs": [
    {
     "data": {
      "text/plain": [
       "(array([3.3666e+04, 7.1460e+03, 1.0390e+03, 3.1000e+02, 1.3800e+02,\n",
       "        8.4000e+01, 2.8000e+01, 1.6000e+01, 4.0000e+00, 2.0000e+00]),\n",
       " array([0.00096573, 0.02930545, 0.05764517, 0.0859849 , 0.11432462,\n",
       "        0.14266434, 0.17100406, 0.19934378, 0.2276835 , 0.25602323,\n",
       "        0.28436295]),\n",
       " <BarContainer object of 10 artists>)"
      ]
     },
     "execution_count": 116,
     "metadata": {},
     "output_type": "execute_result"
    },
    {
     "data": {
      "image/png": "[encoded data removed]",
      "text/plain": [
       "<Figure size 432x288 with 1 Axes>"
      ]
     },
     "metadata": {
      "needs_background": "light"
     },
     "output_type": "display_data"
    }
   ],
   "source": [
    "plt.hist(df_augmentation_stats['Mean'])"
   ]
  },
  {
   "cell_type": "code",
   "execution_count": 117,
   "metadata": {},
   "outputs": [
    {
     "data": {
      "text/plain": [
       "(array([3.7537e+04, 4.5650e+03, 2.7200e+02, 3.5000e+01, 1.4000e+01,\n",
       "        5.0000e+00, 4.0000e+00, 0.0000e+00, 0.0000e+00, 1.0000e+00]),\n",
       " array([0.00082915, 0.03200272, 0.06317628, 0.09434985, 0.12552342,\n",
       "        0.15669698, 0.18787055, 0.21904411, 0.25021768, 0.28139124,\n",
       "        0.31256481]),\n",
       " <BarContainer object of 10 artists>)"
      ]
     },
     "execution_count": 117,
     "metadata": {},
     "output_type": "execute_result"
    },
    {
     "data": {
      "image/png": "[encoded data removed]",
      "text/plain": [
       "<Figure size 432x288 with 1 Axes>"
      ]
     },
     "metadata": {
      "needs_background": "light"
     },
     "output_type": "display_data"
    }
   ],
   "source": [
    "plt.hist(df_augmentation_stats['Median'])"
   ]
  },
  {
   "cell_type": "code",
   "execution_count": 118,
   "metadata": {},
   "outputs": [
    {
     "data": {
      "text/plain": [
       "(array([3.8737e+04, 2.6310e+03, 5.8100e+02, 2.3100e+02, 1.2600e+02,\n",
       "        7.1000e+01, 3.1000e+01, 1.2000e+01, 9.0000e+00, 4.0000e+00]),\n",
       " array([3.25309758e-04, 3.39564611e-02, 6.75876125e-02, 1.01218764e-01,\n",
       "        1.34849915e-01, 1.68481067e-01, 2.02112218e-01, 2.35743369e-01,\n",
       "        2.69374521e-01, 3.03005672e-01, 3.36636824e-01]),\n",
       " <BarContainer object of 10 artists>)"
      ]
     },
     "execution_count": 118,
     "metadata": {},
     "output_type": "execute_result"
    },
    {
     "data": {
      "image/png": "[encoded data removed]",
      "text/plain": [
       "<Figure size 432x288 with 1 Axes>"
      ]
     },
     "metadata": {
      "needs_background": "light"
     },
     "output_type": "display_data"
    }
   ],
   "source": [
    "plt.hist(df_augmentation_stats['Std'])"
   ]
  },
  {
   "cell_type": "code",
   "execution_count": 120,
   "metadata": {},
   "outputs": [
    {
     "data": {
      "text/plain": [
       "['sub-5777016',\n",
       " 'sub-5258060',\n",
       " 'sub-5989005',\n",
       " 'sub-1793689',\n",
       " 'sub-4239849',\n",
       " 'sub-1575678',\n",
       " 'sub-2901014',\n",
       " 'sub-3419526',\n",
       " 'sub-3792987',\n",
       " 'sub-5750564']"
      ]
     },
     "execution_count": 120,
     "metadata": {},
     "output_type": "execute_result"
    }
   ],
   "source": [
    "## analyse subs\n",
    "df_augmentation_stats.sort_values(by='Mean').index.tolist()[-20:]"
   ]
  },
  {
   "cell_type": "code",
   "execution_count": null,
   "metadata": {},
   "outputs": [],
   "source": []
  }
 ],
 "metadata": {
  "kernelspec": {
   "display_name": "Python 3",
   "language": "python",
   "name": "python3"
  },
  "language_info": {
   "codemirror_mode": {
    "name": "ipython",
    "version": 3
   },
   "file_extension": ".py",
   "mimetype": "text/x-python",
   "name": "python",
   "nbconvert_exporter": "python",
   "pygments_lexer": "ipython3",
   "version": "3.10.12"
  }
 },
 "nbformat": 4,
 "nbformat_minor": 2
}
