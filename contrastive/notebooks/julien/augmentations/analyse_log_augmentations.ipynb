{
 "cells": [
  {
   "cell_type": "code",
   "execution_count": 48,
   "metadata": {},
   "outputs": [],
   "source": [
    "import pandas as pd\n",
    "import numpy as np\n",
    "import os\n",
    "import matplotlib.pyplot as plt"
   ]
  },
  {
   "cell_type": "code",
   "execution_count": 57,
   "metadata": {},
   "outputs": [],
   "source": [
    "#log_dir = '/neurospin/dico/jlaval/Output/2024-10-15/15-35-05_117/log_output.log'\n",
    "#log_dir = '/neurospin/dico/jlaval/Output/2024-10-15/16-03-47_195/log_output.log'\n",
    "#log_dir = '/neurospin/dico/jlaval/Output/orbital_masked_cutout/09-56-56_7/log_output.log'\n",
    "log_dir = '/neurospin/dico/jlaval/Output/FIP_visu_vx_removed_cutout/10-25-12_57/log_output.log'\n",
    "log_dir = '/neurospin/dico/jlaval/Output/FIP_visu_vx_removed_cutout/10-29-17_145/log_output.log'\n",
    "log_dir = '/neurospin/dico/jlaval/Output/FIP_visu_vx_removed_cutout/10-35-52_60/log_output.log'\n",
    "log_dir = '/neurospin/dico/jlaval/Output/FIP_visu_vx_removed_cutout/10-42-00_14/log_output.log'\n",
    "log_dir = '/neurospin/dico/jlaval/Output/FIP_visu_vx_removed_cutout/10-51-48_52/log_output.log'\n",
    "log_dir = '/neurospin/dico/jlaval/Output/orbital_masked_cutout/10-58-18_79/log_output.log'\n",
    "log_dir = '/neurospin/dico/jlaval/Output/orbital_masked_cutout/13-42-57_199/log_output.log'\n",
    "log_dir = '/neurospin/dico/jlaval/Output/orbital_masked_cutout/13-44-00_40/log_output.log'\n",
    "log_dir = '/neurospin/dico/jlaval/Output/orbital_masked_cutout/10-58-18_79/log_output.log'\n",
    "## mixed augms\n",
    "## we are interested in the bottoms too\n",
    "log_dir = '/neurospin/dico/jlaval/Output/2024-11-25/16-27-46_166/log_output.log' # keep bottom 100%\n",
    "log_dir = '/neurospin/dico/jlaval/Output/2024-11-25/16-30-59_42/log_output.log'\n",
    "log_dir = '/neurospin/dico/jlaval/Output/2024-11-25/16-33-32_254/log_output.log'\n",
    "log_dir = '/neurospin/dico/jlaval/Output/2024-11-25/16-35-52_231/log_output.log'\n",
    "log_dir = '/neurospin/dico/jlaval/Output/2024-11-25/16-45-11_191/log_output.log'\n"
   ]
  },
  {
   "cell_type": "code",
   "execution_count": 58,
   "metadata": {},
   "outputs": [
    {
     "name": "stdout",
     "output_type": "stream",
     "text": [
      "                              cutout  nb_vx  nb_vx_after  \\\n",
      "0        INFO:augmentations.py: True  551.0        475.0   \n",
      "1        INFO:augmentations.py: True  502.0        413.0   \n",
      "2       INFO:augmentations.py: False  629.0        375.0   \n",
      "3        INFO:augmentations.py: True  686.0        564.0   \n",
      "4       INFO:augmentations.py: False  616.0        205.0   \n",
      "...                              ...    ...          ...   \n",
      "3571    INFO:augmentations.py: False  544.0        152.0   \n",
      "3572    INFO:augmentations.py: False  489.0        221.0   \n",
      "3573    INFO:augmentations.py: False  663.0        267.0   \n",
      "3574     INFO:augmentations.py: True  663.0        608.0   \n",
      "3575  INFO:train.py: Fitting is done    NaN          NaN   \n",
      "\n",
      "      nb_vx_without_bottoms  nb_vx_after_without_bottoms  \n",
      "0                     444.0                        377.0  \n",
      "1                     357.0                        280.0  \n",
      "2                     504.0                        271.0  \n",
      "3                     580.0                        464.0  \n",
      "4                     511.0                        134.0  \n",
      "...                     ...                          ...  \n",
      "3571                  435.0                         78.0  \n",
      "3572                  327.0                         80.0  \n",
      "3573                  545.0                        168.0  \n",
      "3574                  545.0                        495.0  \n",
      "3575                    NaN                          NaN  \n",
      "\n",
      "[3576 rows x 5 columns]\n",
      "                         cutout  nb_vx  nb_vx_after  nb_vx_without_bottoms  \\\n",
      "0   INFO:augmentations.py: True  551.0        475.0                  444.0   \n",
      "1   INFO:augmentations.py: True  502.0        413.0                  357.0   \n",
      "2  INFO:augmentations.py: False  629.0        375.0                  504.0   \n",
      "3   INFO:augmentations.py: True  686.0        564.0                  580.0   \n",
      "4  INFO:augmentations.py: False  616.0        205.0                  511.0   \n",
      "\n",
      "   nb_vx_after_without_bottoms  \n",
      "0                        377.0  \n",
      "1                        280.0  \n",
      "2                        271.0  \n",
      "3                        464.0  \n",
      "4                        134.0  \n"
     ]
    }
   ],
   "source": [
    "data = pd.read_csv(log_dir, delimiter = \",\", header = None, skiprows=9)\n",
    "data.columns=['cutout', 'nb_vx', 'nb_vx_after', 'nb_vx_without_bottoms', 'nb_vx_after_without_bottoms']\n",
    "print(data)\n",
    "print(data.head())"
   ]
  },
  {
   "cell_type": "code",
   "execution_count": 59,
   "metadata": {},
   "outputs": [],
   "source": [
    "l = data['cutout'].tolist()\n",
    "data['cutout'] = [elem[-5:] for elem in l]"
   ]
  },
  {
   "cell_type": "code",
   "execution_count": 60,
   "metadata": {},
   "outputs": [
    {
     "data": {
      "text/plain": [
       "(577.8944134078213, 453.57765363128493, 349.10111731843574)"
      ]
     },
     "execution_count": 60,
     "metadata": {},
     "output_type": "execute_result"
    }
   ],
   "source": [
    "# for cutout\n",
    "data_cutout = data.loc[data['cutout']==' True']\n",
    "np.mean(data_cutout['nb_vx']), np.mean(data_cutout['nb_vx_without_bottoms']), np.mean(data_cutout['nb_vx_after_without_bottoms'])"
   ]
  },
  {
   "cell_type": "code",
   "execution_count": 61,
   "metadata": {},
   "outputs": [
    {
     "data": {
      "text/plain": [
       "(581.0, 456.56638655462183, 157.97703081232493)"
      ]
     },
     "execution_count": 61,
     "metadata": {},
     "output_type": "execute_result"
    }
   ],
   "source": [
    "# for cutin\n",
    "data_cutin = data.loc[data['cutout']=='False']\n",
    "np.mean(data_cutin['nb_vx']), np.mean(data_cutin['nb_vx_without_bottoms']), np.mean(data_cutin['nb_vx_after_without_bottoms'])"
   ]
  },
  {
   "cell_type": "code",
   "execution_count": 62,
   "metadata": {},
   "outputs": [
    {
     "data": {
      "image/png": "[encoded data removed]",
      "text/plain": [
       "<Figure size 640x480 with 1 Axes>"
      ]
     },
     "metadata": {},
     "output_type": "display_data"
    }
   ],
   "source": [
    "## plot the distributions of the proportion of non 30 vx removed\n",
    "# cutout\n",
    "l_before = data_cutout['nb_vx'].tolist()\n",
    "l_after = data_cutout['nb_vx_after'].tolist()\n",
    "removed_cutout = [(before - after) / before for before, after in zip(l_before, l_after)]\n",
    "plt.hist(removed_cutout, bins=np.arange(0,1,0.05))\n",
    "plt.title(f\"mean : {np.mean(removed_cutout):.3f}, std : {np.std(removed_cutout):.3f}\")\n",
    "plt.show()"
   ]
  },
  {
   "cell_type": "code",
   "execution_count": 63,
   "metadata": {},
   "outputs": [
    {
     "data": {
      "image/png": "[encoded data removed]",
      "text/plain": [
       "<Figure size 640x480 with 1 Axes>"
      ]
     },
     "metadata": {},
     "output_type": "display_data"
    }
   ],
   "source": [
    "# cutin\n",
    "l_before = data_cutin['nb_vx'].tolist()\n",
    "l_after = data_cutin['nb_vx_after'].tolist()\n",
    "removed_cutin = [(before - after) / before for before, after in zip(l_before, l_after)]\n",
    "plt.hist(removed_cutin, bins=np.arange(0,1,0.05))\n",
    "plt.title(f\"mean : {np.mean(removed_cutin):.3f}, std : {np.std(removed_cutin):.3f}\")\n",
    "plt.show()"
   ]
  },
  {
   "cell_type": "code",
   "execution_count": null,
   "metadata": {},
   "outputs": [],
   "source": []
  }
 ],
 "metadata": {
  "kernelspec": {
   "display_name": "venv",
   "language": "python",
   "name": "python3"
  },
  "language_info": {
   "codemirror_mode": {
    "name": "ipython",
    "version": 3
   },
   "file_extension": ".py",
   "mimetype": "text/x-python",
   "name": "python",
   "nbconvert_exporter": "python",
   "pygments_lexer": "ipython3",
   "version": "3.10.12"
  }
 },
 "nbformat": 4,
 "nbformat_minor": 2
}
