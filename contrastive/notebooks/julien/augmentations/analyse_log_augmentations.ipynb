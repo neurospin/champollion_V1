{
 "cells": [
  {
   "cell_type": "code",
   "execution_count": 2,
   "metadata": {},
   "outputs": [],
   "source": [
    "import pandas as pd\n",
    "import numpy as np\n",
    "import os\n",
    "import matplotlib.pyplot as plt"
   ]
  },
  {
   "cell_type": "code",
   "execution_count": 38,
   "metadata": {},
   "outputs": [],
   "source": [
    "#log_dir = '/neurospin/dico/jlaval/Output/2024-10-15/15-35-05_117/log_output.log'\n",
    "#log_dir = '/neurospin/dico/jlaval/Output/2024-10-15/16-03-47_195/log_output.log'\n",
    "#log_dir = '/neurospin/dico/jlaval/Output/orbital_masked_cutout/09-56-56_7/log_output.log'\n",
    "log_dir = '/neurospin/dico/jlaval/Output/FIP_visu_vx_removed_cutout/10-25-12_57/log_output.log'\n",
    "log_dir = '/neurospin/dico/jlaval/Output/FIP_visu_vx_removed_cutout/10-29-17_145/log_output.log'\n",
    "log_dir = '/neurospin/dico/jlaval/Output/FIP_visu_vx_removed_cutout/10-35-52_60/log_output.log'\n",
    "log_dir = '/neurospin/dico/jlaval/Output/FIP_visu_vx_removed_cutout/10-42-00_14/log_output.log'\n",
    "log_dir = '/neurospin/dico/jlaval/Output/FIP_visu_vx_removed_cutout/10-51-48_52/log_output.log'\n",
    "log_dir = '/neurospin/dico/jlaval/Output/orbital_masked_cutout/10-58-18_79/log_output.log'\n",
    "log_dir = '/neurospin/dico/jlaval/Output/orbital_masked_cutout/13-42-57_199/log_output.log'\n",
    "log_dir = '/neurospin/dico/jlaval/Output/orbital_masked_cutout/13-44-00_40/log_output.log'\n",
    "log_dir = '/neurospin/dico/jlaval/Output/orbital_masked_cutout/10-58-18_79/log_output.log'\n",
    "## mixed augms\n",
    "## we are interested in the bottoms too\n",
    "log_dir = '/neurospin/dico/jlaval/Output/2024-11-25/16-27-46_166/log_output.log' # keep bottom 100%\n",
    "log_dir = '/neurospin/dico/jlaval/Output/2024-11-25/16-30-59_42/log_output.log'\n",
    "log_dir = '/neurospin/dico/jlaval/Output/2024-11-25/16-33-32_254/log_output.log'\n",
    "log_dir = '/neurospin/dico/jlaval/Output/2024-11-25/16-35-52_231/log_output.log'\n",
    "log_dir = '/neurospin/dico/jlaval/Output/2024-11-25/16-45-11_191/log_output.log'\n",
    "log_dir = '/neurospin/dico/jlaval/Output/2024-11-27/19-21-21_41/log_output.log'\n",
    "log_dir = '/neurospin/dico/jlaval/Output/2024-11-27/19-26-43_204/log_output.log'\n",
    "log_dir = '/neurospin/dico/jlaval/Output/2024-11-27/19-30-52_79/log_output.log'\n",
    "log_dir = '/neurospin/dico/jlaval/Output/2024-11-27/19-40-41_243/log_output.log'\n",
    "log_dir = '/neurospin/dico/jlaval/Output/2024-11-27/19-44-22_14/log_output.log'\n",
    "log_dir = '/neurospin/dico/jlaval/Output/2024-11-27/19-50-31_30/log_output.log'\n"
   ]
  },
  {
   "cell_type": "code",
   "execution_count": 39,
   "metadata": {},
   "outputs": [
    {
     "name": "stdout",
     "output_type": "stream",
     "text": [
      "                            cutout  nb_vx  nb_vx_after  nb_vx_without_bottoms  \\\n",
      "0     INFO:augmentations.py: False    982          610                    746   \n",
      "1      INFO:augmentations.py: True   1074          586                    827   \n",
      "2     INFO:augmentations.py: False   1039          682                    777   \n",
      "3     INFO:augmentations.py: False   1036          399                    831   \n",
      "4      INFO:augmentations.py: True   1203          844                   1038   \n",
      "...                            ...    ...          ...                    ...   \n",
      "9667  INFO:augmentations.py: False   1031          575                    874   \n",
      "9668   INFO:augmentations.py: True    861          686                    628   \n",
      "9669   INFO:augmentations.py: True   1218          927                   1045   \n",
      "9670  INFO:augmentations.py: False   1232          808                   1048   \n",
      "9671   INFO:augmentations.py: True   1144          924                    987   \n",
      "\n",
      "      nb_vx_after_without_bottoms  \n",
      "0                             388  \n",
      "1                             411  \n",
      "2                             471  \n",
      "3                             235  \n",
      "4                             694  \n",
      "...                           ...  \n",
      "9667                          421  \n",
      "9668                          471  \n",
      "9669                          775  \n",
      "9670                          637  \n",
      "9671                          787  \n",
      "\n",
      "[9672 rows x 5 columns]\n",
      "                         cutout  nb_vx  nb_vx_after  nb_vx_without_bottoms  \\\n",
      "0  INFO:augmentations.py: False    982          610                    746   \n",
      "1   INFO:augmentations.py: True   1074          586                    827   \n",
      "2  INFO:augmentations.py: False   1039          682                    777   \n",
      "3  INFO:augmentations.py: False   1036          399                    831   \n",
      "4   INFO:augmentations.py: True   1203          844                   1038   \n",
      "\n",
      "   nb_vx_after_without_bottoms  \n",
      "0                          388  \n",
      "1                          411  \n",
      "2                          471  \n",
      "3                          235  \n",
      "4                          694  \n"
     ]
    }
   ],
   "source": [
    "data = pd.read_csv(log_dir, delimiter = \",\", header = None, skiprows=9)\n",
    "data.columns=['cutout', 'nb_vx', 'nb_vx_after', 'nb_vx_without_bottoms', 'nb_vx_after_without_bottoms']\n",
    "print(data)\n",
    "print(data.head())"
   ]
  },
  {
   "cell_type": "code",
   "execution_count": 40,
   "metadata": {},
   "outputs": [],
   "source": [
    "l = data['cutout'].tolist()\n",
    "data['cutout'] = [elem[-5:] for elem in l]"
   ]
  },
  {
   "cell_type": "code",
   "execution_count": 41,
   "metadata": {},
   "outputs": [
    {
     "data": {
      "text/plain": [
       "(1131.089983374896, 952.4185369908562, 659.4339152119701)"
      ]
     },
     "execution_count": 41,
     "metadata": {},
     "output_type": "execute_result"
    }
   ],
   "source": [
    "# for cutout\n",
    "data_cutout = data.loc[data['cutout']==' True']\n",
    "np.mean(data_cutout['nb_vx']), np.mean(data_cutout['nb_vx_without_bottoms']), np.mean(data_cutout['nb_vx_after_without_bottoms'])"
   ]
  },
  {
   "cell_type": "code",
   "execution_count": 42,
   "metadata": {},
   "outputs": [
    {
     "data": {
      "text/plain": [
       "(1129.737037037037, 951.1037037037037, 516.6775720164609)"
      ]
     },
     "execution_count": 42,
     "metadata": {},
     "output_type": "execute_result"
    }
   ],
   "source": [
    "# for cutin\n",
    "data_cutin = data.loc[data['cutout']=='False']\n",
    "np.mean(data_cutin['nb_vx']), np.mean(data_cutin['nb_vx_without_bottoms']), np.mean(data_cutin['nb_vx_after_without_bottoms'])"
   ]
  },
  {
   "cell_type": "code",
   "execution_count": 43,
   "metadata": {},
   "outputs": [
    {
     "data": {
      "image/png": "[encoded data removed]",
      "text/plain": [
       "<Figure size 432x288 with 1 Axes>"
      ]
     },
     "metadata": {
      "needs_background": "light"
     },
     "output_type": "display_data"
    }
   ],
   "source": [
    "## plot the distributions of the proportion of non 30 vx removed\n",
    "# cutout\n",
    "l_before = data_cutout['nb_vx'].tolist()\n",
    "l_after = data_cutout['nb_vx_after'].tolist()\n",
    "removed_cutout = [(before - after) / before for before, after in zip(l_before, l_after)]\n",
    "plt.hist(removed_cutout, bins=np.arange(0,1,0.05))\n",
    "plt.title(f\"mean : {np.mean(removed_cutout):.3f}, std : {np.std(removed_cutout):.3f}\")\n",
    "plt.show()"
   ]
  },
  {
   "cell_type": "code",
   "execution_count": 44,
   "metadata": {},
   "outputs": [
    {
     "data": {
      "image/png": "[encoded data removed]",
      "text/plain": [
       "<Figure size 432x288 with 1 Axes>"
      ]
     },
     "metadata": {
      "needs_background": "light"
     },
     "output_type": "display_data"
    }
   ],
   "source": [
    "# cutin\n",
    "l_before = data_cutin['nb_vx'].tolist()\n",
    "l_after = data_cutin['nb_vx_after'].tolist()\n",
    "removed_cutin = [(before - after) / before for before, after in zip(l_before, l_after)]\n",
    "plt.hist(removed_cutin, bins=np.arange(0,1,0.05))\n",
    "plt.title(f\"mean : {np.mean(removed_cutin):.3f}, std : {np.std(removed_cutin):.3f}\")\n",
    "plt.show()"
   ]
  },
  {
   "cell_type": "code",
   "execution_count": null,
   "metadata": {},
   "outputs": [],
   "source": []
  }
 ],
 "metadata": {
  "kernelspec": {
   "display_name": "venv",
   "language": "python",
   "name": "python3"
  },
  "language_info": {
   "codemirror_mode": {
    "name": "ipython",
    "version": 3
   },
   "file_extension": ".py",
   "mimetype": "text/x-python",
   "name": "python",
   "nbconvert_exporter": "python",
   "pygments_lexer": "ipython3",
   "version": "3.10.12"
  }
 },
 "nbformat": 4,
 "nbformat_minor": 2
}
