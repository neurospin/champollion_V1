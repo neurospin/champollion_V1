{
 "cells": [
  {
   "cell_type": "code",
   "execution_count": 1,
   "metadata": {},
   "outputs": [],
   "source": [
    "import numpy as np\n",
    "import pandas as pd\n",
    "import os"
   ]
  },
  {
   "cell_type": "code",
   "execution_count": 26,
   "metadata": {},
   "outputs": [],
   "source": [
    "probas = pd.read_csv('/neurospin/dico/jlaval/Output/V1_FIP_right/14-06-27_101/FIP_right_custom_embeddings/Right_FIP/test_predicted_probas.csv')"
   ]
  },
  {
   "cell_type": "code",
   "execution_count": 27,
   "metadata": {},
   "outputs": [],
   "source": [
    "probas = probas[['Subject', 'label', 'average_model']]"
   ]
  },
  {
   "cell_type": "code",
   "execution_count": 32,
   "metadata": {},
   "outputs": [
    {
     "name": "stdout",
     "output_type": "stream",
     "text": [
      "[561949, 329844, 549757, 929464, 366042, 365343, 760551, 164939]\n"
     ]
    }
   ],
   "source": [
    "# errors on positive labels\n",
    "probas_positives = probas.loc[probas['label']==1]\n",
    "probas_positives = probas_positives.sort_values('average_model', ascending=True)\n",
    "wrong_preds = probas_positives['Subject'].tolist()[:8]\n",
    "print(wrong_preds)"
   ]
  },
  {
   "cell_type": "code",
   "execution_count": 48,
   "metadata": {},
   "outputs": [
    {
     "name": "stdout",
     "output_type": "stream",
     "text": [
      "    index  Subject  label  average_model\n",
      "10    289   882161      0       0.841591\n",
      "11     85   162329      0       0.829891\n",
      "12    274   809252      0       0.807339\n",
      "13     65   149741      0       0.802470\n",
      "14    140   197550      0       0.799127\n",
      "15      1   101410      0       0.791242\n",
      "16    203   387959      0       0.772036\n",
      "17    310   993675      0       0.766857\n",
      "18     53   140420      0       0.759211\n",
      "19     69   151526      0       0.758817\n",
      "[882161, 162329, 809252, 149741, 197550, 101410, 387959, 993675, 140420, 151526]\n"
     ]
    }
   ],
   "source": [
    "# errors on negative labels\n",
    "probas_negatives = probas.loc[probas['label']==0]\n",
    "probas_negatives = probas_negatives.sort_values('average_model', ascending=False).reset_index().iloc[10:20]\n",
    "print(probas_negatives)\n",
    "wrong_preds = probas_negatives['Subject'].tolist()\n",
    "print(wrong_preds)"
   ]
  },
  {
   "cell_type": "code",
   "execution_count": 31,
   "metadata": {},
   "outputs": [
    {
     "data": {
      "text/plain": [
       "np.float64(0.6923076923076923)"
      ]
     },
     "execution_count": 31,
     "metadata": {},
     "output_type": "execute_result"
    }
   ],
   "source": [
    "np.mean(probas['label'].tolist())"
   ]
  },
  {
   "cell_type": "code",
   "execution_count": null,
   "metadata": {},
   "outputs": [],
   "source": []
  }
 ],
 "metadata": {
  "kernelspec": {
   "display_name": "venv",
   "language": "python",
   "name": "python3"
  },
  "language_info": {
   "codemirror_mode": {
    "name": "ipython",
    "version": 3
   },
   "file_extension": ".py",
   "mimetype": "text/x-python",
   "name": "python",
   "nbconvert_exporter": "python",
   "pygments_lexer": "ipython3",
   "version": "3.10.12"
  }
 },
 "nbformat": 4,
 "nbformat_minor": 2
}
