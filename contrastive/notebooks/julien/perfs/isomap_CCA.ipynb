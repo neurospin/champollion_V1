{
 "cells": [
  {
   "cell_type": "code",
   "execution_count": 1,
   "metadata": {},
   "outputs": [],
   "source": [
    "import pandas as pd\n",
    "import os\n",
    "import numpy as np\n",
    "from sklearn.cross_decomposition import CCA\n",
    "from sklearn.decomposition import PCA"
   ]
  },
  {
   "cell_type": "code",
   "execution_count": 53,
   "metadata": {},
   "outputs": [],
   "source": [
    "#embs = pd.read_csv('/neurospin/dico/jlaval/Output/SC-sylv_12-16/16-38-32_170/troiani_custom_embeddings/custom_cross_val_embeddings.csv')\n",
    "#embs = pd.read_csv('/neurospin/dico/jlaval/Output/SC-sylv_12-16/16-39-27_30/troiani_custom_embeddings/custom_cross_val_embeddings.csv')\n",
    "#embs = pd.read_csv('/neurospin/dico/jlaval/Output/SC-sylv_left_v1/keep_bottom/troiani_custom_embeddings/custom_cross_val_embeddings.csv') ## V1 before even changing cutin prop\n",
    "#embs = pd.read_csv('/neurospin/dico/jlaval/Output/SC-sylv_left_v1/no_keep_bottom/troiani_custom_embeddings/custom_cross_val_embeddings.csv') ## same here = best ?\n",
    "#embs = pd.read_csv('/volatile/jl277509/Runs/02_STS_babies/Program/Output/SC-sylv_isomaps/16-40-54_148/troiani_embeddings/custom_cross_val_embeddings.csv')\n",
    "\n",
    "\n",
    "model = 'all_augms_0'\n",
    "epochs = [0,10,20,30]"
   ]
  },
  {
   "cell_type": "code",
   "execution_count": 54,
   "metadata": {},
   "outputs": [
    {
     "name": "stdout",
     "output_type": "stream",
     "text": [
      "epoch 0 : 0.15125371289916864\n",
      "epoch 10 : 0.42860112015682894\n",
      "epoch 20 : 0.47348701731779896\n",
      "epoch 30 : 0.5010485725958326\n"
     ]
    }
   ],
   "source": [
    "for epoch in epochs:\n",
    "    embs = pd.read_csv(f'/neurospin/dico/jlaval/Output/SC-sylv_left/{model}/hcp_isomap_random_epoch{epoch}_embeddings/full_embeddings.csv')\n",
    "\n",
    "    # reformat embeddings and isomap\n",
    "    isomap = pd.read_csv('/neurospin/dico/data/deep_folding/current/datasets/hcp/hcp_isomap_labels.csv')\n",
    "    embs.columns=['Subject']+embs.columns[1:].tolist()\n",
    "    merged = pd.merge(isomap, embs)\n",
    "    cols_embs = [f'dim{k}' for k in range(1,33)]\n",
    "    cols_iso = [f'Isomap_central_left_dim{k}' for k in range(1,7)]\n",
    "    embs, isomap = merged[cols_embs].to_numpy(), merged[cols_iso].to_numpy()\n",
    "\n",
    "    # fit CCA and return score\n",
    "    cca = CCA(n_components=len(cols_iso), scale=False) ## need to set scale to false !!\n",
    "    cca.fit(embs, isomap)\n",
    "    projected_embs = cca.transform(embs)\n",
    "    print(f'epoch {epoch} : {cca.score(embs, isomap)}')"
   ]
  },
  {
   "cell_type": "code",
   "execution_count": null,
   "metadata": {},
   "outputs": [],
   "source": [
    "## keep it simple for the score as there are only 6 dims\n",
    "## NB : results consistent with linear regression on the features\n",
    "## NB : les dimensions des isomaps étant orthogonales, peut-être que la CCA n'apporte rien par rapport à des régressions linéaires sur chaque var.\n",
    "# Mais c'est plus pratique d'avoir une seule valeur\n",
    "# Devrait-on tenir compte de la taille d'effet de chaque isomap dans le score ? Ici on leur donne un poids identique.\n",
    "# Mais la CKA est trop restrictive"
   ]
  }
 ],
 "metadata": {
  "kernelspec": {
   "display_name": "Python 3",
   "language": "python",
   "name": "python3"
  },
  "language_info": {
   "codemirror_mode": {
    "name": "ipython",
    "version": 3
   },
   "file_extension": ".py",
   "mimetype": "text/x-python",
   "name": "python",
   "nbconvert_exporter": "python",
   "pygments_lexer": "ipython3",
   "version": "3.10.12"
  }
 },
 "nbformat": 4,
 "nbformat_minor": 2
}
