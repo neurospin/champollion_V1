{
 "cells": [
  {
   "cell_type": "code",
   "execution_count": 99,
   "metadata": {},
   "outputs": [],
   "source": [
    "import os\n",
    "import numpy as np\n",
    "import pandas as pd\n",
    "from sklearn.metrics import balanced_accuracy_score, confusion_matrix\n",
    "import matplotlib.pyplot as plt"
   ]
  },
  {
   "cell_type": "code",
   "execution_count": 123,
   "metadata": {},
   "outputs": [],
   "source": [
    "#preds = pd.read_csv('/neurospin/dico/jlaval/Output/5_models_FIP_left_3_layer_proj/16-34-28_0/FIP_left_custom_embeddings/Left_FIP/test_predicted_probas.csv')\n",
    "preds = pd.read_csv('/neurospin/dico/jlaval/Output/5_models_FIP_right_3_layer_proj/pepper_05_4/FIP_right_custom_embeddings/Right_FIP/test_predicted_probas.csv')\n",
    "#preds = pd.read_csv('/neurospin/dico/jlaval/Output/imagen_polar_left/13-39-38_135/imagen_random_embeddings/Left_Interrup_RS_CS/full_predicted_probas.csv') # BEST"
   ]
  },
  {
   "cell_type": "code",
   "execution_count": 124,
   "metadata": {},
   "outputs": [
    {
     "data": {
      "text/html": [
       "<div>\n",
       "<style scoped>\n",
       "    .dataframe tbody tr th:only-of-type {\n",
       "        vertical-align: middle;\n",
       "    }\n",
       "\n",
       "    .dataframe tbody tr th {\n",
       "        vertical-align: top;\n",
       "    }\n",
       "\n",
       "    .dataframe thead th {\n",
       "        text-align: right;\n",
       "    }\n",
       "</style>\n",
       "<table border=\"1\" class=\"dataframe\">\n",
       "  <thead>\n",
       "    <tr style=\"text-align: right;\">\n",
       "      <th></th>\n",
       "      <th>Subject</th>\n",
       "      <th>label</th>\n",
       "      <th>proba_pred_0</th>\n",
       "      <th>label_pred_0</th>\n",
       "      <th>median_pred</th>\n",
       "      <th>mean_pred</th>\n",
       "      <th>average_model</th>\n",
       "    </tr>\n",
       "  </thead>\n",
       "  <tbody>\n",
       "    <tr>\n",
       "      <th>0</th>\n",
       "      <td>100206</td>\n",
       "      <td>1</td>\n",
       "      <td>0.996451</td>\n",
       "      <td>1</td>\n",
       "      <td>0.996451</td>\n",
       "      <td>0.996451</td>\n",
       "      <td>0.996451</td>\n",
       "    </tr>\n",
       "    <tr>\n",
       "      <th>1</th>\n",
       "      <td>100307</td>\n",
       "      <td>1</td>\n",
       "      <td>0.801583</td>\n",
       "      <td>0</td>\n",
       "      <td>0.801583</td>\n",
       "      <td>0.801583</td>\n",
       "      <td>0.801583</td>\n",
       "    </tr>\n",
       "    <tr>\n",
       "      <th>2</th>\n",
       "      <td>100610</td>\n",
       "      <td>1</td>\n",
       "      <td>0.570834</td>\n",
       "      <td>0</td>\n",
       "      <td>0.570834</td>\n",
       "      <td>0.570834</td>\n",
       "      <td>0.570834</td>\n",
       "    </tr>\n",
       "    <tr>\n",
       "      <th>3</th>\n",
       "      <td>101309</td>\n",
       "      <td>1</td>\n",
       "      <td>0.778922</td>\n",
       "      <td>0</td>\n",
       "      <td>0.778922</td>\n",
       "      <td>0.778922</td>\n",
       "      <td>0.778922</td>\n",
       "    </tr>\n",
       "    <tr>\n",
       "      <th>4</th>\n",
       "      <td>101410</td>\n",
       "      <td>0</td>\n",
       "      <td>0.659910</td>\n",
       "      <td>0</td>\n",
       "      <td>0.659910</td>\n",
       "      <td>0.659910</td>\n",
       "      <td>0.659910</td>\n",
       "    </tr>\n",
       "    <tr>\n",
       "      <th>...</th>\n",
       "      <td>...</td>\n",
       "      <td>...</td>\n",
       "      <td>...</td>\n",
       "      <td>...</td>\n",
       "      <td>...</td>\n",
       "      <td>...</td>\n",
       "      <td>...</td>\n",
       "    </tr>\n",
       "    <tr>\n",
       "      <th>385</th>\n",
       "      <td>983773</td>\n",
       "      <td>1</td>\n",
       "      <td>0.991786</td>\n",
       "      <td>1</td>\n",
       "      <td>0.991786</td>\n",
       "      <td>0.991786</td>\n",
       "      <td>0.991786</td>\n",
       "    </tr>\n",
       "    <tr>\n",
       "      <th>386</th>\n",
       "      <td>984472</td>\n",
       "      <td>1</td>\n",
       "      <td>0.892569</td>\n",
       "      <td>1</td>\n",
       "      <td>0.892569</td>\n",
       "      <td>0.892569</td>\n",
       "      <td>0.892569</td>\n",
       "    </tr>\n",
       "    <tr>\n",
       "      <th>387</th>\n",
       "      <td>991267</td>\n",
       "      <td>1</td>\n",
       "      <td>0.993992</td>\n",
       "      <td>1</td>\n",
       "      <td>0.993992</td>\n",
       "      <td>0.993992</td>\n",
       "      <td>0.993992</td>\n",
       "    </tr>\n",
       "    <tr>\n",
       "      <th>388</th>\n",
       "      <td>993675</td>\n",
       "      <td>0</td>\n",
       "      <td>0.813546</td>\n",
       "      <td>0</td>\n",
       "      <td>0.813546</td>\n",
       "      <td>0.813546</td>\n",
       "      <td>0.813546</td>\n",
       "    </tr>\n",
       "    <tr>\n",
       "      <th>389</th>\n",
       "      <td>996782</td>\n",
       "      <td>1</td>\n",
       "      <td>0.929191</td>\n",
       "      <td>1</td>\n",
       "      <td>0.929191</td>\n",
       "      <td>0.929191</td>\n",
       "      <td>0.929191</td>\n",
       "    </tr>\n",
       "  </tbody>\n",
       "</table>\n",
       "<p>390 rows × 7 columns</p>\n",
       "</div>"
      ],
      "text/plain": [
       "     Subject  label  proba_pred_0  label_pred_0  median_pred  mean_pred  \\\n",
       "0     100206      1      0.996451             1     0.996451   0.996451   \n",
       "1     100307      1      0.801583             0     0.801583   0.801583   \n",
       "2     100610      1      0.570834             0     0.570834   0.570834   \n",
       "3     101309      1      0.778922             0     0.778922   0.778922   \n",
       "4     101410      0      0.659910             0     0.659910   0.659910   \n",
       "..       ...    ...           ...           ...          ...        ...   \n",
       "385   983773      1      0.991786             1     0.991786   0.991786   \n",
       "386   984472      1      0.892569             1     0.892569   0.892569   \n",
       "387   991267      1      0.993992             1     0.993992   0.993992   \n",
       "388   993675      0      0.813546             0     0.813546   0.813546   \n",
       "389   996782      1      0.929191             1     0.929191   0.929191   \n",
       "\n",
       "     average_model  \n",
       "0         0.996451  \n",
       "1         0.801583  \n",
       "2         0.570834  \n",
       "3         0.778922  \n",
       "4         0.659910  \n",
       "..             ...  \n",
       "385       0.991786  \n",
       "386       0.892569  \n",
       "387       0.993992  \n",
       "388       0.813546  \n",
       "389       0.929191  \n",
       "\n",
       "[390 rows x 7 columns]"
      ]
     },
     "execution_count": 124,
     "metadata": {},
     "output_type": "execute_result"
    }
   ],
   "source": [
    "preds"
   ]
  },
  {
   "cell_type": "code",
   "execution_count": 125,
   "metadata": {},
   "outputs": [
    {
     "name": "stdout",
     "output_type": "stream",
     "text": [
      "0.7925925925925926\n",
      "270 184\n",
      "proba threshold: 0.8301456928264667\n"
     ]
    }
   ],
   "source": [
    "ba = balanced_accuracy_score(preds['label'], preds['label_pred_0'])\n",
    "print(ba)\n",
    "print(sum(preds['label']), sum(preds['label_pred_0']))\n",
    "# where is threshold set ?\n",
    "threshold = preds.loc[preds['label_pred_0']==1].sort_values(by='proba_pred_0')['proba_pred_0'].tolist()[0]\n",
    "print(f'proba threshold: {threshold}')"
   ]
  },
  {
   "cell_type": "code",
   "execution_count": 126,
   "metadata": {},
   "outputs": [
    {
     "name": "stdout",
     "output_type": "stream",
     "text": [
      "TN: 112, TP: 176, FN: 94, FP: 8\n"
     ]
    }
   ],
   "source": [
    "tn, fp, fn, tp = confusion_matrix(preds['label'], preds['label_pred_0']).ravel()\n",
    "print(f\"TN: {tn}, TP: {tp}, FN: {fn}, FP: {fp}\")"
   ]
  },
  {
   "cell_type": "code",
   "execution_count": 127,
   "metadata": {},
   "outputs": [
    {
     "data": {
      "image/png": "[encoded data removed]",
      "text/plain": [
       "<Figure size 640x480 with 1 Axes>"
      ]
     },
     "metadata": {},
     "output_type": "display_data"
    }
   ],
   "source": [
    "## plot proba distribs\n",
    "plt.hist(preds.loc[preds['label']==1]['mean_pred'], color='royalblue', alpha=0.5, label='IPS interruption')\n",
    "plt.hist(preds.loc[preds['label']==0]['mean_pred'], color='darkgreen', alpha=0.5, label='No IPS interruption')\n",
    "plt.vlines(x = threshold, ymin=0, ymax=0.5*plt.gca().get_ylim()[1], color = 'k', label = 'Threshold', linestyles='--')\n",
    "plt.xlabel('IPS interruption probability')\n",
    "plt.ylabel('Number of subjects')\n",
    "plt.legend()\n",
    "plt.title(f'IPS interruption balanced accuracy: {ba*100:.1f}%')\n",
    "plt.show()"
   ]
  },
  {
   "cell_type": "code",
   "execution_count": 93,
   "metadata": {},
   "outputs": [],
   "source": [
    "## create a summary CSV with labels, and preds ?"
   ]
  },
  {
   "cell_type": "code",
   "execution_count": null,
   "metadata": {},
   "outputs": [],
   "source": []
  }
 ],
 "metadata": {
  "kernelspec": {
   "display_name": "venv",
   "language": "python",
   "name": "python3"
  },
  "language_info": {
   "codemirror_mode": {
    "name": "ipython",
    "version": 3
   },
   "file_extension": ".py",
   "mimetype": "text/x-python",
   "name": "python",
   "nbconvert_exporter": "python",
   "pygments_lexer": "ipython3",
   "version": "3.10.12"
  }
 },
 "nbformat": 4,
 "nbformat_minor": 2
}
