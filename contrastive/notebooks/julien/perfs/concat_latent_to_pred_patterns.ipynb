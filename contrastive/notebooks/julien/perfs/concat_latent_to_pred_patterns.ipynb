{
 "cells": [
  {
   "cell_type": "code",
   "execution_count": 4,
   "metadata": {},
   "outputs": [],
   "source": [
    "import numpy as np\n",
    "import os \n",
    "import pandas as pd"
   ]
  },
  {
   "cell_type": "code",
   "execution_count": 9,
   "metadata": {},
   "outputs": [],
   "source": [
    "root_dir = '/neurospin/dico/jlaval/Output/V1'\n",
    "regions = ['SC-sylv_left_UKB40', 'LARGE_CINGULATE_right_UKB40', 'FIP_right_UKB40', 'SOr_left_UKB40']"
   ]
  },
  {
   "cell_type": "code",
   "execution_count": 10,
   "metadata": {},
   "outputs": [],
   "source": [
    "embeddings_dict = {region : [] for region in regions}\n",
    "\n",
    "for region in regions:\n",
    "    model_name = os.listdir(os.path.join(root_dir, region))[0]\n",
    "    embeddings = pd.read_csv(os.path.join(root_dir, region, model_name, 'ukb40_random_embeddings/full_embeddings.csv'))\n",
    "    embeddings_dict[region] = embeddings"
   ]
  },
  {
   "cell_type": "code",
   "execution_count": null,
   "metadata": {},
   "outputs": [],
   "source": [
    "embeddings_dict"
   ]
  }
 ],
 "metadata": {
  "kernelspec": {
   "display_name": "venv",
   "language": "python",
   "name": "python3"
  },
  "language_info": {
   "codemirror_mode": {
    "name": "ipython",
    "version": 3
   },
   "file_extension": ".py",
   "mimetype": "text/x-python",
   "name": "python",
   "nbconvert_exporter": "python",
   "pygments_lexer": "ipython3",
   "version": "3.10.12"
  }
 },
 "nbformat": 4,
 "nbformat_minor": 2
}
