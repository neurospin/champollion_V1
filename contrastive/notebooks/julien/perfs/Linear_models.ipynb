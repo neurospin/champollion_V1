{
 "cells": [
  {
   "cell_type": "code",
   "execution_count": 1,
   "metadata": {},
   "outputs": [],
   "source": [
    "import numpy as np\n",
    "import pandas as pd\n",
    "import os\n",
    "from sklearn.svm import SVC, SVR\n",
    "from sklearn.linear_model import LogisticRegression, ElasticNet\n",
    "from sklearn.metrics import auc, roc_curve, roc_auc_score, r2_score\n",
    "from sklearn.model_selection import cross_val_predict\n",
    "from sklearn.model_selection import GridSearchCV\n",
    "from sklearn.model_selection import PredefinedSplit"
   ]
  },
  {
   "cell_type": "markdown",
   "metadata": {},
   "source": [
    "# Orbital (left)"
   ]
  },
  {
   "cell_type": "markdown",
   "metadata": {},
   "source": [
    "skeleton"
   ]
  },
  {
   "cell_type": "code",
   "execution_count": 3,
   "metadata": {},
   "outputs": [],
   "source": [
    "crops_dir = '/neurospin/dico/data/deep_folding/current/datasets/hcp/crops/2mm/ORBITAL/mask'\n",
    "label='Left_OFC'\n",
    "side = 'L'\n",
    "labels = pd.read_csv('/neurospin/dico/data/deep_folding/current/datasets/hcp/hcp_OFC_labels_from_0.csv', usecols=['Subject', label])\n",
    "splits_dir = '/neurospin/dico/data/deep_folding/current/datasets/orbital_patterns/Troiani/Left'"
   ]
  },
  {
   "cell_type": "code",
   "execution_count": 4,
   "metadata": {},
   "outputs": [],
   "source": [
    "skels = np.load(os.path.join(crops_dir, f'{side}skeleton.npy'))\n",
    "skel_subs = pd.read_csv(os.path.join(crops_dir, f'{side}skeleton_subject.csv'))\n",
    "skels = skels.reshape(skels.shape[0], np.prod(skels.shape[1:]))\n",
    "skels = skels.astype(bool)\n",
    "\n",
    "train_subs = pd.read_csv(os.path.join(splits_dir, 'train_split.csv'), names=['Subject'])\n",
    "val_subs = pd.read_csv(os.path.join(splits_dir, 'val_split.csv'), names=['Subject'])\n",
    "test_subs = pd.read_csv(os.path.join(splits_dir, 'test_split.csv'), names=['Subject'])\n",
    "\n",
    "proportions = np.unique(labels[label], return_counts=True)\n",
    "proportions = proportions[1] / np.sum(proportions[1])\n",
    "\n",
    "train = skel_subs.loc[skel_subs['Subject'].isin(train_subs['Subject'])]\n",
    "idxs_train = train.index.tolist()\n",
    "Y_train = pd.merge(train, labels)[label].to_numpy().reshape(-1,1)\n",
    "train_skels= skels[idxs_train]\n",
    "\n",
    "val = skel_subs.loc[skel_subs['Subject'].isin(val_subs['Subject'])]\n",
    "idxs_val = val.index.tolist()\n",
    "Y_val = pd.merge(val, labels)[label].to_numpy().reshape(-1,1)\n",
    "val_skels= skels[idxs_val]\n",
    "\n",
    "test = skel_subs.loc[skel_subs['Subject'].isin(test_subs['Subject'])]\n",
    "idxs_test = test.index.tolist()\n",
    "Y_test = pd.merge(test, labels)[label].to_numpy().reshape(-1,1)\n",
    "test_skels= skels[idxs_test]"
   ]
  },
  {
   "cell_type": "code",
   "execution_count": 5,
   "metadata": {},
   "outputs": [],
   "source": [
    "# define train val and their indexes for gridsearch cv\n",
    "X_train_val = np.vstack((train_skels, val_skels))\n",
    "Y_train_val = np.vstack((Y_train, Y_val))\n",
    "split_index = np.full(len(X_train_val), -1)  # All initially train\n",
    "split_index[len(train_skels):] = 0  # Mark validation samples\n",
    "predefined_split = PredefinedSplit(test_fold=split_index)"
   ]
  },
  {
   "cell_type": "code",
   "execution_count": null,
   "metadata": {},
   "outputs": [],
   "source": [
    "# logistic\n",
    "parameters={'l1_ratio': np.linspace(0,1,11), 'C': [10**k for k in range(-5,3)]}\n",
    "model = LogisticRegression(solver='saga', penalty='elasticnet',\n",
    "                           max_iter=2000, random_state=0)\n",
    "\n",
    "grid_search = GridSearchCV(model, parameters, cv=predefined_split, scoring='roc_auc_ovr_weighted', refit=True, n_jobs=46)\n",
    "grid_search.fit(X_train_val, Y_train_val)\n",
    "# Print best parameters\n",
    "print(\"Best parameters:\", grid_search.best_params_)\n",
    "# Evaluate on the test set\n",
    "best_model = grid_search.best_estimator_"
   ]
  },
  {
   "cell_type": "code",
   "execution_count": null,
   "metadata": {},
   "outputs": [],
   "source": [
    "y_test_pred = best_model.predict_proba(test_skels)\n",
    "score = roc_auc_score(Y_test, y_test_pred, multi_class='ovr', average='weighted') ## WON'T WORK WITH SINGLE CLASS\n",
    "print(score)"
   ]
  },
  {
   "cell_type": "markdown",
   "metadata": {},
   "source": [
    "topo values"
   ]
  },
  {
   "cell_type": "code",
   "execution_count": null,
   "metadata": {},
   "outputs": [],
   "source": [
    "crops_dir = '/neurospin/dico/data/deep_folding/current/datasets/hcp/crops/2mm/ORBITAL/mask'\n",
    "label='Left_OFC'\n",
    "side = 'L'\n",
    "labels = pd.read_csv('/neurospin/dico/data/deep_folding/current/datasets/hcp/hcp_OFC_labels_from_0.csv', usecols=['Subject', label])\n",
    "splits_dir = '/neurospin/dico/data/deep_folding/current/datasets/orbital_patterns/Troiani/Left'"
   ]
  },
  {
   "cell_type": "code",
   "execution_count": null,
   "metadata": {},
   "outputs": [],
   "source": [
    "skels = np.load(os.path.join(crops_dir, f'{side}skeleton.npy'))\n",
    "skels[skels > 0] = 1\n",
    "topo = np.load(os.path.join(crops_dir, f'{side}topologies.npy'))\n",
    "skels = np.concatenate((skels, topo), axis=-1)\n",
    "\n",
    "skel_subs = pd.read_csv(os.path.join(crops_dir, f'{side}skeleton_subject.csv'))\n",
    "skels = skels.reshape(skels.shape[0], np.prod(skels.shape[1:]))\n",
    "\n",
    "train_subs = pd.read_csv(os.path.join(splits_dir, 'train_split.csv'), names=['Subject'])\n",
    "val_subs = pd.read_csv(os.path.join(splits_dir, 'val_split.csv'), names=['Subject'])\n",
    "test_subs = pd.read_csv(os.path.join(splits_dir, 'test_split.csv'), names=['Subject'])\n",
    "\n",
    "proportions = np.unique(labels[label], return_counts=True)\n",
    "proportions = proportions[1] / np.sum(proportions[1])\n",
    "\n",
    "train = skel_subs.loc[skel_subs['Subject'].isin(train_subs['Subject'])]\n",
    "idxs_train = train.index.tolist()\n",
    "Y_train = pd.merge(train, labels)[label].to_numpy().reshape(-1,1)\n",
    "train_skels= skels[idxs_train]\n",
    "\n",
    "val = skel_subs.loc[skel_subs['Subject'].isin(val_subs['Subject'])]\n",
    "idxs_val = val.index.tolist()\n",
    "Y_val = pd.merge(val, labels)[label].to_numpy().reshape(-1,1)\n",
    "val_skels= skels[idxs_val]\n",
    "\n",
    "test = skel_subs.loc[skel_subs['Subject'].isin(test_subs['Subject'])]\n",
    "idxs_test = test.index.tolist()\n",
    "Y_test = pd.merge(test, labels)[label].to_numpy().reshape(-1,1)\n",
    "test_skels= skels[idxs_test]"
   ]
  },
  {
   "cell_type": "code",
   "execution_count": null,
   "metadata": {},
   "outputs": [],
   "source": [
    "# define train val and their indexes for gridsearch cv\n",
    "X_train_val = np.vstack((train_skels, val_skels))\n",
    "Y_train_val = np.vstack((Y_train, Y_val))\n",
    "split_index = np.full(len(X_train_val), -1)  # All initially train\n",
    "split_index[len(train_skels):] = 0  # Mark validation samples\n",
    "predefined_split = PredefinedSplit(test_fold=split_index)"
   ]
  },
  {
   "cell_type": "code",
   "execution_count": null,
   "metadata": {},
   "outputs": [],
   "source": [
    "# logistic\n",
    "parameters={'l1_ratio': np.linspace(0,1,11), 'C': [10**k for k in range(-5,3)]}\n",
    "model = LogisticRegression(solver='saga', penalty='elasticnet',\n",
    "                           max_iter=2000, random_state=0)\n",
    "\n",
    "grid_search = GridSearchCV(model, parameters, cv=predefined_split, scoring='roc_auc_ovr_weighted', refit=True, n_jobs=46)\n",
    "grid_search.fit(X_train_val, Y_train_val)\n",
    "# Print best parameters\n",
    "print(\"Best parameters:\", grid_search.best_params_)\n",
    "# Evaluate on the test set\n",
    "best_model = grid_search.best_estimator_"
   ]
  },
  {
   "cell_type": "code",
   "execution_count": null,
   "metadata": {},
   "outputs": [],
   "source": [
    "y_test_pred = best_model.predict_proba(test_skels)\n",
    "score = roc_auc_score(Y_test, y_test_pred, multi_class='ovr', average='weighted') ## WON'T WORK WITH SINGLE CLASS\n",
    "print(score)"
   ]
  },
  {
   "cell_type": "markdown",
   "metadata": {},
   "source": [
    "# FIP (right)"
   ]
  },
  {
   "cell_type": "code",
   "execution_count": 16,
   "metadata": {},
   "outputs": [],
   "source": [
    "crops_dir = '/neurospin/dico/data/deep_folding/current/datasets/hcp/crops/2mm/F.I.P./mask'\n",
    "label='Right_FIP'\n",
    "side = 'R'\n",
    "labels = pd.read_csv('/neurospin/dico/data/deep_folding/current/datasets/hcp/FIP/FIP_labels.csv', usecols=['Subject', label])\n",
    "splits_dir = '/neurospin/dico/data/deep_folding/current/datasets/hcp/FIP/Right' ## NB : CHANGE FOR LEFT"
   ]
  },
  {
   "cell_type": "markdown",
   "metadata": {},
   "source": [
    "skeleton"
   ]
  },
  {
   "cell_type": "code",
   "execution_count": null,
   "metadata": {},
   "outputs": [],
   "source": [
    "skels = np.load(os.path.join(crops_dir, f'{side}skeleton.npy'))\n",
    "skel_subs = pd.read_csv(os.path.join(crops_dir, f'{side}skeleton_subject.csv'))\n",
    "skels = skels.reshape(skels.shape[0], np.prod(skels.shape[1:]))\n",
    "skels = skels.astype(bool)\n",
    "\n",
    "train_subs = pd.read_csv(os.path.join(splits_dir, 'train_split.csv'), names=['Subject'])\n",
    "val_subs = pd.read_csv(os.path.join(splits_dir, 'val_split.csv'), names=['Subject'])\n",
    "test_subs = pd.read_csv(os.path.join(splits_dir, 'test_split.csv'), names=['Subject'])\n",
    "\n",
    "proportions = np.unique(labels[label], return_counts=True)\n",
    "proportions = proportions[1] / np.sum(proportions[1])\n",
    "\n",
    "train = skel_subs.loc[skel_subs['Subject'].isin(train_subs['Subject'])]\n",
    "idxs_train = train.index.tolist()\n",
    "Y_train = pd.merge(train, labels)[label].to_numpy().reshape(-1,1)\n",
    "train_skels= skels[idxs_train]\n",
    "\n",
    "val = skel_subs.loc[skel_subs['Subject'].isin(val_subs['Subject'])]\n",
    "idxs_val = val.index.tolist()\n",
    "Y_val = pd.merge(val, labels)[label].to_numpy().reshape(-1,1)\n",
    "val_skels= skels[idxs_val]\n",
    "\n",
    "test = skel_subs.loc[skel_subs['Subject'].isin(test_subs['Subject'])]\n",
    "idxs_test = test.index.tolist()\n",
    "Y_test = pd.merge(test, labels)[label].to_numpy().reshape(-1,1)\n",
    "test_skels= skels[idxs_test]"
   ]
  },
  {
   "cell_type": "code",
   "execution_count": null,
   "metadata": {},
   "outputs": [],
   "source": [
    "# define train val and their indexes for gridsearch cv\n",
    "X_train_val = np.vstack((train_skels, val_skels))\n",
    "Y_train_val = np.vstack((Y_train, Y_val))\n",
    "split_index = np.full(len(X_train_val), -1)  # All initially train\n",
    "split_index[len(train_skels):] = 0  # Mark validation samples\n",
    "predefined_split = PredefinedSplit(test_fold=split_index)"
   ]
  },
  {
   "cell_type": "code",
   "execution_count": null,
   "metadata": {},
   "outputs": [],
   "source": [
    "# logistic\n",
    "parameters={'l1_ratio': np.linspace(0,1,11), 'C': [10**k for k in range(-5,3)]}\n",
    "model = LogisticRegression(solver='saga', penalty='elasticnet',\n",
    "                           max_iter=2000, random_state=0)\n",
    "\n",
    "grid_search = GridSearchCV(model, parameters, cv=predefined_split, scoring='roc_auc', refit=True, n_jobs=46)\n",
    "grid_search.fit(X_train_val, Y_train_val)\n",
    "# Print best parameters\n",
    "print(\"Best parameters:\", grid_search.best_params_)\n",
    "# Evaluate on the test set\n",
    "best_model = grid_search.best_estimator_"
   ]
  },
  {
   "cell_type": "code",
   "execution_count": null,
   "metadata": {},
   "outputs": [],
   "source": [
    "y_test_pred = best_model.predict_proba(test_skels)\n",
    "score = roc_auc_score(Y_test, y_test_pred[:, 1])\n",
    "print(score)"
   ]
  },
  {
   "cell_type": "markdown",
   "metadata": {},
   "source": [
    "with topo"
   ]
  },
  {
   "cell_type": "code",
   "execution_count": null,
   "metadata": {},
   "outputs": [],
   "source": [
    "crops_dir = '/neurospin/dico/data/deep_folding/current/datasets/hcp/crops/2mm/F.I.P./mask'\n",
    "label='Right_FIP'\n",
    "side = 'R'\n",
    "labels = pd.read_csv('/neurospin/dico/data/deep_folding/current/datasets/hcp/FIP/FIP_labels.csv', usecols=['Subject', label])\n",
    "splits_dir = '/neurospin/dico/data/deep_folding/current/datasets/hcp/FIP/Right' ## NB : CHANGE FOR LEFT"
   ]
  },
  {
   "cell_type": "code",
   "execution_count": null,
   "metadata": {},
   "outputs": [],
   "source": [
    "skels = np.load(os.path.join(crops_dir, f'{side}skeleton.npy'))\n",
    "skels[skels > 0] = 1\n",
    "topo = np.load(os.path.join(crops_dir, f'{side}topologies.npy'))\n",
    "skels = np.concatenate((skels, topo), axis=-1)\n",
    "\n",
    "skel_subs = pd.read_csv(os.path.join(crops_dir, f'{side}skeleton_subject.csv'))\n",
    "skels = skels.reshape(skels.shape[0], np.prod(skels.shape[1:]))\n",
    "\n",
    "train_subs = pd.read_csv(os.path.join(splits_dir, 'train_split.csv'), names=['Subject'])\n",
    "val_subs = pd.read_csv(os.path.join(splits_dir, 'val_split.csv'), names=['Subject'])\n",
    "test_subs = pd.read_csv(os.path.join(splits_dir, 'test_split.csv'), names=['Subject'])\n",
    "\n",
    "proportions = np.unique(labels[label], return_counts=True)\n",
    "proportions = proportions[1] / np.sum(proportions[1])\n",
    "\n",
    "train = skel_subs.loc[skel_subs['Subject'].isin(train_subs['Subject'])]\n",
    "idxs_train = train.index.tolist()\n",
    "Y_train = pd.merge(train, labels)[label].to_numpy().reshape(-1,1)\n",
    "train_skels= skels[idxs_train]\n",
    "\n",
    "val = skel_subs.loc[skel_subs['Subject'].isin(val_subs['Subject'])]\n",
    "idxs_val = val.index.tolist()\n",
    "Y_val = pd.merge(val, labels)[label].to_numpy().reshape(-1,1)\n",
    "val_skels= skels[idxs_val]\n",
    "\n",
    "test = skel_subs.loc[skel_subs['Subject'].isin(test_subs['Subject'])]\n",
    "idxs_test = test.index.tolist()\n",
    "Y_test = pd.merge(test, labels)[label].to_numpy().reshape(-1,1)\n",
    "test_skels= skels[idxs_test]"
   ]
  },
  {
   "cell_type": "code",
   "execution_count": null,
   "metadata": {},
   "outputs": [],
   "source": [
    "# define train val and their indexes for gridsearch cv\n",
    "X_train_val = np.vstack((train_skels, val_skels))\n",
    "Y_train_val = np.vstack((Y_train, Y_val))\n",
    "split_index = np.full(len(X_train_val), -1)  # All initially train\n",
    "split_index[len(train_skels):] = 0  # Mark validation samples\n",
    "predefined_split = PredefinedSplit(test_fold=split_index)"
   ]
  },
  {
   "cell_type": "code",
   "execution_count": null,
   "metadata": {},
   "outputs": [],
   "source": [
    "# logistic\n",
    "parameters={'l1_ratio': np.linspace(0,1,11), 'C': [10**k for k in range(-5,3)]}\n",
    "model = LogisticRegression(solver='saga', penalty='elasticnet',\n",
    "                           max_iter=2000, random_state=0)\n",
    "\n",
    "grid_search = GridSearchCV(model, parameters, cv=predefined_split, scoring='roc_auc', refit=True, n_jobs=46)\n",
    "grid_search.fit(X_train_val, Y_train_val)\n",
    "# Print best parameters\n",
    "print(\"Best parameters:\", grid_search.best_params_)\n",
    "# Evaluate on the test set\n",
    "best_model = grid_search.best_estimator_"
   ]
  },
  {
   "cell_type": "code",
   "execution_count": null,
   "metadata": {},
   "outputs": [],
   "source": [
    "y_test_pred = best_model.predict_proba(test_skels)\n",
    "score = roc_auc_score(Y_test, y_test_pred[:, 1])\n",
    "print(score)"
   ]
  },
  {
   "cell_type": "markdown",
   "metadata": {},
   "source": [
    "# Isomap CS (left)"
   ]
  },
  {
   "cell_type": "code",
   "execution_count": null,
   "metadata": {},
   "outputs": [],
   "source": [
    "crops_dir = '/neurospin/dico/data/deep_folding/current/datasets/hcp/crops/2mm/S.C.-sylv./mask'\n",
    "label='Isomap_central_left_dim1' ## loop on dimensions !!\n",
    "side = 'L'\n",
    "labels = pd.read_csv('/neurospin/dico/data/deep_folding/current/datasets/hcp/hcp_isomap_labels_SC-sylv_left.csv', usecols=['Subject', label])\n",
    "splits_dir = '/neurospin/dico/data/deep_folding/current/datasets/hcp/Isomap/splits' ## NB : CHANGE FOR LEFT"
   ]
  },
  {
   "cell_type": "markdown",
   "metadata": {},
   "source": [
    "load data"
   ]
  },
  {
   "cell_type": "code",
   "execution_count": 17,
   "metadata": {},
   "outputs": [],
   "source": [
    "skels = np.load(os.path.join(crops_dir, f'{side}skeleton.npy'))\n",
    "skel_subs = pd.read_csv(os.path.join(crops_dir, f'{side}skeleton_subject.csv'))\n",
    "skels = skels.reshape(skels.shape[0], np.prod(skels.shape[1:]))\n",
    "skels = skels.astype(bool)\n",
    "\n",
    "train_subs = pd.read_csv(os.path.join(splits_dir, 'train_split.csv'), names=['Subject'])\n",
    "val_subs = pd.read_csv(os.path.join(splits_dir, 'val_split.csv'), names=['Subject'])\n",
    "test_subs = pd.read_csv(os.path.join(splits_dir, 'test_split.csv'), names=['Subject'])\n",
    "\n",
    "proportions = np.unique(labels[label], return_counts=True)\n",
    "proportions = proportions[1] / np.sum(proportions[1])\n",
    "\n",
    "train = skel_subs.loc[skel_subs['Subject'].isin(train_subs['Subject'])]\n",
    "idxs_train = train.index.tolist()\n",
    "Y_train = pd.merge(train, labels)[label].to_numpy().reshape(-1,1)\n",
    "train_skels= skels[idxs_train]\n",
    "\n",
    "val = skel_subs.loc[skel_subs['Subject'].isin(val_subs['Subject'])]\n",
    "idxs_val = val.index.tolist()\n",
    "Y_val = pd.merge(val, labels)[label].to_numpy().reshape(-1,1)\n",
    "val_skels= skels[idxs_val]\n",
    "\n",
    "test = skel_subs.loc[skel_subs['Subject'].isin(test_subs['Subject'])]\n",
    "idxs_test = test.index.tolist()\n",
    "Y_test = pd.merge(test, labels)[label].to_numpy().reshape(-1,1)\n",
    "test_skels= skels[idxs_test]"
   ]
  },
  {
   "cell_type": "markdown",
   "metadata": {},
   "source": [
    "try with topology informed skeleton"
   ]
  },
  {
   "cell_type": "code",
   "execution_count": 10,
   "metadata": {},
   "outputs": [],
   "source": [
    "skels = np.load(os.path.join(crops_dir, f'{side}skeleton.npy'))\n",
    "skels[skels > 0] = 1\n",
    "topo = np.load(os.path.join(crops_dir, f'{side}topologies.npy'))\n",
    "skels = np.concatenate((skels, topo), axis=-1)\n",
    "\n",
    "skel_subs = pd.read_csv(os.path.join(crops_dir, f'{side}skeleton_subject.csv'))\n",
    "skels = skels.reshape(skels.shape[0], np.prod(skels.shape[1:]))\n",
    "\n",
    "train_subs = pd.read_csv(os.path.join(splits_dir, 'train_split.csv'), names=['Subject'])\n",
    "val_subs = pd.read_csv(os.path.join(splits_dir, 'val_split.csv'), names=['Subject'])\n",
    "test_subs = pd.read_csv(os.path.join(splits_dir, 'test_split.csv'), names=['Subject'])\n",
    "\n",
    "proportions = np.unique(labels[label], return_counts=True)\n",
    "proportions = proportions[1] / np.sum(proportions[1])\n",
    "\n",
    "train = skel_subs.loc[skel_subs['Subject'].isin(train_subs['Subject'])]\n",
    "idxs_train = train.index.tolist()\n",
    "Y_train = pd.merge(train, labels)[label].to_numpy().reshape(-1,1)\n",
    "train_skels= skels[idxs_train]\n",
    "\n",
    "val = skel_subs.loc[skel_subs['Subject'].isin(val_subs['Subject'])]\n",
    "idxs_val = val.index.tolist()\n",
    "Y_val = pd.merge(val, labels)[label].to_numpy().reshape(-1,1)\n",
    "val_skels= skels[idxs_val]\n",
    "\n",
    "test = skel_subs.loc[skel_subs['Subject'].isin(test_subs['Subject'])]\n",
    "idxs_test = test.index.tolist()\n",
    "Y_test = pd.merge(test, labels)[label].to_numpy().reshape(-1,1)\n",
    "test_skels= skels[idxs_test]"
   ]
  },
  {
   "cell_type": "markdown",
   "metadata": {},
   "source": [
    "define folds for gridsearch"
   ]
  },
  {
   "cell_type": "code",
   "execution_count": 11,
   "metadata": {},
   "outputs": [],
   "source": [
    "# define train val and their indexes for gridsearch cv\n",
    "X_train_val = np.vstack((train_skels, val_skels))\n",
    "Y_train_val = np.vstack((Y_train, Y_val))\n",
    "split_index = np.full(len(X_train_val), -1)  # All initially train\n",
    "split_index[len(train_skels):] = 0  # Mark validation samples\n",
    "predefined_split = PredefinedSplit(test_fold=split_index)"
   ]
  },
  {
   "cell_type": "markdown",
   "metadata": {},
   "source": [
    "# Classification"
   ]
  },
  {
   "cell_type": "code",
   "execution_count": 6,
   "metadata": {},
   "outputs": [
    {
     "name": "stderr",
     "output_type": "stream",
     "text": [
      "/volatile/jl277509/Runs/02_STS_babies/Program/2023_jlaval_STSbabies/venv/lib/python3.10/site-packages/sklearn/utils/validation.py:1229: DataConversionWarning: A column-vector y was passed when a 1d array was expected. Please change the shape of y to (n_samples, ), for example using ravel().\n",
      "  y = column_or_1d(y, warn=True)\n",
      "/volatile/jl277509/Runs/02_STS_babies/Program/2023_jlaval_STSbabies/venv/lib/python3.10/site-packages/sklearn/utils/validation.py:1229: DataConversionWarning: A column-vector y was passed when a 1d array was expected. Please change the shape of y to (n_samples, ), for example using ravel().\n",
      "  y = column_or_1d(y, warn=True)\n",
      "/volatile/jl277509/Runs/02_STS_babies/Program/2023_jlaval_STSbabies/venv/lib/python3.10/site-packages/sklearn/utils/validation.py:1229: DataConversionWarning: A column-vector y was passed when a 1d array was expected. Please change the shape of y to (n_samples, ), for example using ravel().\n",
      "  y = column_or_1d(y, warn=True)\n",
      "/volatile/jl277509/Runs/02_STS_babies/Program/2023_jlaval_STSbabies/venv/lib/python3.10/site-packages/sklearn/utils/validation.py:1229: DataConversionWarning: A column-vector y was passed when a 1d array was expected. Please change the shape of y to (n_samples, ), for example using ravel().\n",
      "  y = column_or_1d(y, warn=True)\n",
      "/volatile/jl277509/Runs/02_STS_babies/Program/2023_jlaval_STSbabies/venv/lib/python3.10/site-packages/sklearn/utils/validation.py:1229: DataConversionWarning: A column-vector y was passed when a 1d array was expected. Please change the shape of y to (n_samples, ), for example using ravel().\n",
      "  y = column_or_1d(y, warn=True)\n",
      "/volatile/jl277509/Runs/02_STS_babies/Program/2023_jlaval_STSbabies/venv/lib/python3.10/site-packages/sklearn/utils/validation.py:1229: DataConversionWarning: A column-vector y was passed when a 1d array was expected. Please change the shape of y to (n_samples, ), for example using ravel().\n",
      "  y = column_or_1d(y, warn=True)\n",
      "/volatile/jl277509/Runs/02_STS_babies/Program/2023_jlaval_STSbabies/venv/lib/python3.10/site-packages/sklearn/utils/validation.py:1229: DataConversionWarning: A column-vector y was passed when a 1d array was expected. Please change the shape of y to (n_samples, ), for example using ravel().\n",
      "  y = column_or_1d(y, warn=True)\n",
      "/volatile/jl277509/Runs/02_STS_babies/Program/2023_jlaval_STSbabies/venv/lib/python3.10/site-packages/sklearn/utils/validation.py:1229: DataConversionWarning: A column-vector y was passed when a 1d array was expected. Please change the shape of y to (n_samples, ), for example using ravel().\n",
      "  y = column_or_1d(y, warn=True)\n",
      "/volatile/jl277509/Runs/02_STS_babies/Program/2023_jlaval_STSbabies/venv/lib/python3.10/site-packages/sklearn/utils/validation.py:1229: DataConversionWarning: A column-vector y was passed when a 1d array was expected. Please change the shape of y to (n_samples, ), for example using ravel().\n",
      "  y = column_or_1d(y, warn=True)\n",
      "/volatile/jl277509/Runs/02_STS_babies/Program/2023_jlaval_STSbabies/venv/lib/python3.10/site-packages/sklearn/utils/validation.py:1229: DataConversionWarning: A column-vector y was passed when a 1d array was expected. Please change the shape of y to (n_samples, ), for example using ravel().\n",
      "  y = column_or_1d(y, warn=True)\n",
      "/volatile/jl277509/Runs/02_STS_babies/Program/2023_jlaval_STSbabies/venv/lib/python3.10/site-packages/sklearn/utils/validation.py:1229: DataConversionWarning: A column-vector y was passed when a 1d array was expected. Please change the shape of y to (n_samples, ), for example using ravel().\n",
      "  y = column_or_1d(y, warn=True)\n",
      "/volatile/jl277509/Runs/02_STS_babies/Program/2023_jlaval_STSbabies/venv/lib/python3.10/site-packages/sklearn/utils/validation.py:1229: DataConversionWarning: A column-vector y was passed when a 1d array was expected. Please change the shape of y to (n_samples, ), for example using ravel().\n",
      "  y = column_or_1d(y, warn=True)\n",
      "/volatile/jl277509/Runs/02_STS_babies/Program/2023_jlaval_STSbabies/venv/lib/python3.10/site-packages/sklearn/utils/validation.py:1229: DataConversionWarning: A column-vector y was passed when a 1d array was expected. Please change the shape of y to (n_samples, ), for example using ravel().\n",
      "  y = column_or_1d(y, warn=True)\n",
      "/volatile/jl277509/Runs/02_STS_babies/Program/2023_jlaval_STSbabies/venv/lib/python3.10/site-packages/sklearn/utils/validation.py:1229: DataConversionWarning: A column-vector y was passed when a 1d array was expected. Please change the shape of y to (n_samples, ), for example using ravel().\n",
      "  y = column_or_1d(y, warn=True)\n",
      "/volatile/jl277509/Runs/02_STS_babies/Program/2023_jlaval_STSbabies/venv/lib/python3.10/site-packages/sklearn/utils/validation.py:1229: DataConversionWarning: A column-vector y was passed when a 1d array was expected. Please change the shape of y to (n_samples, ), for example using ravel().\n",
      "  y = column_or_1d(y, warn=True)\n",
      "/volatile/jl277509/Runs/02_STS_babies/Program/2023_jlaval_STSbabies/venv/lib/python3.10/site-packages/sklearn/utils/validation.py:1229: DataConversionWarning: A column-vector y was passed when a 1d array was expected. Please change the shape of y to (n_samples, ), for example using ravel().\n",
      "  y = column_or_1d(y, warn=True)\n",
      "/volatile/jl277509/Runs/02_STS_babies/Program/2023_jlaval_STSbabies/venv/lib/python3.10/site-packages/sklearn/utils/validation.py:1229: DataConversionWarning: A column-vector y was passed when a 1d array was expected. Please change the shape of y to (n_samples, ), for example using ravel().\n",
      "  y = column_or_1d(y, warn=True)\n",
      "/volatile/jl277509/Runs/02_STS_babies/Program/2023_jlaval_STSbabies/venv/lib/python3.10/site-packages/sklearn/utils/validation.py:1229: DataConversionWarning: A column-vector y was passed when a 1d array was expected. Please change the shape of y to (n_samples, ), for example using ravel().\n",
      "  y = column_or_1d(y, warn=True)\n",
      "/volatile/jl277509/Runs/02_STS_babies/Program/2023_jlaval_STSbabies/venv/lib/python3.10/site-packages/sklearn/utils/validation.py:1229: DataConversionWarning: A column-vector y was passed when a 1d array was expected. Please change the shape of y to (n_samples, ), for example using ravel().\n",
      "  y = column_or_1d(y, warn=True)\n",
      "/volatile/jl277509/Runs/02_STS_babies/Program/2023_jlaval_STSbabies/venv/lib/python3.10/site-packages/sklearn/utils/validation.py:1229: DataConversionWarning: A column-vector y was passed when a 1d array was expected. Please change the shape of y to (n_samples, ), for example using ravel().\n",
      "  y = column_or_1d(y, warn=True)\n",
      "/volatile/jl277509/Runs/02_STS_babies/Program/2023_jlaval_STSbabies/venv/lib/python3.10/site-packages/sklearn/utils/validation.py:1229: DataConversionWarning: A column-vector y was passed when a 1d array was expected. Please change the shape of y to (n_samples, ), for example using ravel().\n",
      "  y = column_or_1d(y, warn=True)\n",
      "/volatile/jl277509/Runs/02_STS_babies/Program/2023_jlaval_STSbabies/venv/lib/python3.10/site-packages/sklearn/utils/validation.py:1229: DataConversionWarning: A column-vector y was passed when a 1d array was expected. Please change the shape of y to (n_samples, ), for example using ravel().\n",
      "  y = column_or_1d(y, warn=True)\n",
      "/volatile/jl277509/Runs/02_STS_babies/Program/2023_jlaval_STSbabies/venv/lib/python3.10/site-packages/sklearn/utils/validation.py:1229: DataConversionWarning: A column-vector y was passed when a 1d array was expected. Please change the shape of y to (n_samples, ), for example using ravel().\n",
      "  y = column_or_1d(y, warn=True)\n",
      "/volatile/jl277509/Runs/02_STS_babies/Program/2023_jlaval_STSbabies/venv/lib/python3.10/site-packages/sklearn/utils/validation.py:1229: DataConversionWarning: A column-vector y was passed when a 1d array was expected. Please change the shape of y to (n_samples, ), for example using ravel().\n",
      "  y = column_or_1d(y, warn=True)\n",
      "/volatile/jl277509/Runs/02_STS_babies/Program/2023_jlaval_STSbabies/venv/lib/python3.10/site-packages/sklearn/utils/validation.py:1229: DataConversionWarning: A column-vector y was passed when a 1d array was expected. Please change the shape of y to (n_samples, ), for example using ravel().\n",
      "  y = column_or_1d(y, warn=True)\n",
      "/volatile/jl277509/Runs/02_STS_babies/Program/2023_jlaval_STSbabies/venv/lib/python3.10/site-packages/sklearn/utils/validation.py:1229: DataConversionWarning: A column-vector y was passed when a 1d array was expected. Please change the shape of y to (n_samples, ), for example using ravel().\n",
      "  y = column_or_1d(y, warn=True)\n",
      "/volatile/jl277509/Runs/02_STS_babies/Program/2023_jlaval_STSbabies/venv/lib/python3.10/site-packages/sklearn/utils/validation.py:1229: DataConversionWarning: A column-vector y was passed when a 1d array was expected. Please change the shape of y to (n_samples, ), for example using ravel().\n",
      "  y = column_or_1d(y, warn=True)\n",
      "/volatile/jl277509/Runs/02_STS_babies/Program/2023_jlaval_STSbabies/venv/lib/python3.10/site-packages/sklearn/utils/validation.py:1229: DataConversionWarning: A column-vector y was passed when a 1d array was expected. Please change the shape of y to (n_samples, ), for example using ravel().\n",
      "  y = column_or_1d(y, warn=True)\n",
      "/volatile/jl277509/Runs/02_STS_babies/Program/2023_jlaval_STSbabies/venv/lib/python3.10/site-packages/sklearn/utils/validation.py:1229: DataConversionWarning: A column-vector y was passed when a 1d array was expected. Please change the shape of y to (n_samples, ), for example using ravel().\n",
      "  y = column_or_1d(y, warn=True)\n",
      "/volatile/jl277509/Runs/02_STS_babies/Program/2023_jlaval_STSbabies/venv/lib/python3.10/site-packages/sklearn/utils/validation.py:1229: DataConversionWarning: A column-vector y was passed when a 1d array was expected. Please change the shape of y to (n_samples, ), for example using ravel().\n",
      "  y = column_or_1d(y, warn=True)\n",
      "/volatile/jl277509/Runs/02_STS_babies/Program/2023_jlaval_STSbabies/venv/lib/python3.10/site-packages/sklearn/utils/validation.py:1229: DataConversionWarning: A column-vector y was passed when a 1d array was expected. Please change the shape of y to (n_samples, ), for example using ravel().\n",
      "  y = column_or_1d(y, warn=True)\n",
      "/volatile/jl277509/Runs/02_STS_babies/Program/2023_jlaval_STSbabies/venv/lib/python3.10/site-packages/sklearn/utils/validation.py:1229: DataConversionWarning: A column-vector y was passed when a 1d array was expected. Please change the shape of y to (n_samples, ), for example using ravel().\n",
      "  y = column_or_1d(y, warn=True)\n",
      "/volatile/jl277509/Runs/02_STS_babies/Program/2023_jlaval_STSbabies/venv/lib/python3.10/site-packages/sklearn/utils/validation.py:1229: DataConversionWarning: A column-vector y was passed when a 1d array was expected. Please change the shape of y to (n_samples, ), for example using ravel().\n",
      "  y = column_or_1d(y, warn=True)\n",
      "/volatile/jl277509/Runs/02_STS_babies/Program/2023_jlaval_STSbabies/venv/lib/python3.10/site-packages/sklearn/utils/validation.py:1229: DataConversionWarning: A column-vector y was passed when a 1d array was expected. Please change the shape of y to (n_samples, ), for example using ravel().\n",
      "  y = column_or_1d(y, warn=True)\n",
      "/volatile/jl277509/Runs/02_STS_babies/Program/2023_jlaval_STSbabies/venv/lib/python3.10/site-packages/sklearn/utils/validation.py:1229: DataConversionWarning: A column-vector y was passed when a 1d array was expected. Please change the shape of y to (n_samples, ), for example using ravel().\n",
      "  y = column_or_1d(y, warn=True)\n",
      "/volatile/jl277509/Runs/02_STS_babies/Program/2023_jlaval_STSbabies/venv/lib/python3.10/site-packages/sklearn/utils/validation.py:1229: DataConversionWarning: A column-vector y was passed when a 1d array was expected. Please change the shape of y to (n_samples, ), for example using ravel().\n",
      "  y = column_or_1d(y, warn=True)\n",
      "/volatile/jl277509/Runs/02_STS_babies/Program/2023_jlaval_STSbabies/venv/lib/python3.10/site-packages/sklearn/utils/validation.py:1229: DataConversionWarning: A column-vector y was passed when a 1d array was expected. Please change the shape of y to (n_samples, ), for example using ravel().\n",
      "  y = column_or_1d(y, warn=True)\n",
      "/volatile/jl277509/Runs/02_STS_babies/Program/2023_jlaval_STSbabies/venv/lib/python3.10/site-packages/sklearn/utils/validation.py:1229: DataConversionWarning: A column-vector y was passed when a 1d array was expected. Please change the shape of y to (n_samples, ), for example using ravel().\n",
      "  y = column_or_1d(y, warn=True)\n",
      "/volatile/jl277509/Runs/02_STS_babies/Program/2023_jlaval_STSbabies/venv/lib/python3.10/site-packages/sklearn/utils/validation.py:1229: DataConversionWarning: A column-vector y was passed when a 1d array was expected. Please change the shape of y to (n_samples, ), for example using ravel().\n",
      "  y = column_or_1d(y, warn=True)\n",
      "/volatile/jl277509/Runs/02_STS_babies/Program/2023_jlaval_STSbabies/venv/lib/python3.10/site-packages/sklearn/utils/validation.py:1229: DataConversionWarning: A column-vector y was passed when a 1d array was expected. Please change the shape of y to (n_samples, ), for example using ravel().\n",
      "  y = column_or_1d(y, warn=True)\n",
      "/volatile/jl277509/Runs/02_STS_babies/Program/2023_jlaval_STSbabies/venv/lib/python3.10/site-packages/sklearn/utils/validation.py:1229: DataConversionWarning: A column-vector y was passed when a 1d array was expected. Please change the shape of y to (n_samples, ), for example using ravel().\n",
      "  y = column_or_1d(y, warn=True)\n",
      "/volatile/jl277509/Runs/02_STS_babies/Program/2023_jlaval_STSbabies/venv/lib/python3.10/site-packages/sklearn/utils/validation.py:1229: DataConversionWarning: A column-vector y was passed when a 1d array was expected. Please change the shape of y to (n_samples, ), for example using ravel().\n",
      "  y = column_or_1d(y, warn=True)\n",
      "/volatile/jl277509/Runs/02_STS_babies/Program/2023_jlaval_STSbabies/venv/lib/python3.10/site-packages/sklearn/utils/validation.py:1229: DataConversionWarning: A column-vector y was passed when a 1d array was expected. Please change the shape of y to (n_samples, ), for example using ravel().\n",
      "  y = column_or_1d(y, warn=True)\n",
      "/volatile/jl277509/Runs/02_STS_babies/Program/2023_jlaval_STSbabies/venv/lib/python3.10/site-packages/sklearn/utils/validation.py:1229: DataConversionWarning: A column-vector y was passed when a 1d array was expected. Please change the shape of y to (n_samples, ), for example using ravel().\n",
      "  y = column_or_1d(y, warn=True)\n",
      "/volatile/jl277509/Runs/02_STS_babies/Program/2023_jlaval_STSbabies/venv/lib/python3.10/site-packages/sklearn/utils/validation.py:1229: DataConversionWarning: A column-vector y was passed when a 1d array was expected. Please change the shape of y to (n_samples, ), for example using ravel().\n",
      "  y = column_or_1d(y, warn=True)\n",
      "/volatile/jl277509/Runs/02_STS_babies/Program/2023_jlaval_STSbabies/venv/lib/python3.10/site-packages/sklearn/utils/validation.py:1229: DataConversionWarning: A column-vector y was passed when a 1d array was expected. Please change the shape of y to (n_samples, ), for example using ravel().\n",
      "  y = column_or_1d(y, warn=True)\n",
      "/volatile/jl277509/Runs/02_STS_babies/Program/2023_jlaval_STSbabies/venv/lib/python3.10/site-packages/sklearn/utils/validation.py:1229: DataConversionWarning: A column-vector y was passed when a 1d array was expected. Please change the shape of y to (n_samples, ), for example using ravel().\n",
      "  y = column_or_1d(y, warn=True)\n",
      "/volatile/jl277509/Runs/02_STS_babies/Program/2023_jlaval_STSbabies/venv/lib/python3.10/site-packages/sklearn/utils/validation.py:1229: DataConversionWarning: A column-vector y was passed when a 1d array was expected. Please change the shape of y to (n_samples, ), for example using ravel().\n",
      "  y = column_or_1d(y, warn=True)\n",
      "/volatile/jl277509/Runs/02_STS_babies/Program/2023_jlaval_STSbabies/venv/lib/python3.10/site-packages/sklearn/utils/validation.py:1229: DataConversionWarning: A column-vector y was passed when a 1d array was expected. Please change the shape of y to (n_samples, ), for example using ravel().\n",
      "  y = column_or_1d(y, warn=True)\n",
      "/volatile/jl277509/Runs/02_STS_babies/Program/2023_jlaval_STSbabies/venv/lib/python3.10/site-packages/sklearn/utils/validation.py:1229: DataConversionWarning: A column-vector y was passed when a 1d array was expected. Please change the shape of y to (n_samples, ), for example using ravel().\n",
      "  y = column_or_1d(y, warn=True)\n",
      "/volatile/jl277509/Runs/02_STS_babies/Program/2023_jlaval_STSbabies/venv/lib/python3.10/site-packages/sklearn/utils/validation.py:1229: DataConversionWarning: A column-vector y was passed when a 1d array was expected. Please change the shape of y to (n_samples, ), for example using ravel().\n",
      "  y = column_or_1d(y, warn=True)\n",
      "/volatile/jl277509/Runs/02_STS_babies/Program/2023_jlaval_STSbabies/venv/lib/python3.10/site-packages/sklearn/utils/validation.py:1229: DataConversionWarning: A column-vector y was passed when a 1d array was expected. Please change the shape of y to (n_samples, ), for example using ravel().\n",
      "  y = column_or_1d(y, warn=True)\n",
      "/volatile/jl277509/Runs/02_STS_babies/Program/2023_jlaval_STSbabies/venv/lib/python3.10/site-packages/sklearn/utils/validation.py:1229: DataConversionWarning: A column-vector y was passed when a 1d array was expected. Please change the shape of y to (n_samples, ), for example using ravel().\n",
      "  y = column_or_1d(y, warn=True)\n",
      "/volatile/jl277509/Runs/02_STS_babies/Program/2023_jlaval_STSbabies/venv/lib/python3.10/site-packages/sklearn/utils/validation.py:1229: DataConversionWarning: A column-vector y was passed when a 1d array was expected. Please change the shape of y to (n_samples, ), for example using ravel().\n",
      "  y = column_or_1d(y, warn=True)\n",
      "/volatile/jl277509/Runs/02_STS_babies/Program/2023_jlaval_STSbabies/venv/lib/python3.10/site-packages/sklearn/utils/validation.py:1229: DataConversionWarning: A column-vector y was passed when a 1d array was expected. Please change the shape of y to (n_samples, ), for example using ravel().\n",
      "  y = column_or_1d(y, warn=True)\n",
      "/volatile/jl277509/Runs/02_STS_babies/Program/2023_jlaval_STSbabies/venv/lib/python3.10/site-packages/sklearn/utils/validation.py:1229: DataConversionWarning: A column-vector y was passed when a 1d array was expected. Please change the shape of y to (n_samples, ), for example using ravel().\n",
      "  y = column_or_1d(y, warn=True)\n",
      "/volatile/jl277509/Runs/02_STS_babies/Program/2023_jlaval_STSbabies/venv/lib/python3.10/site-packages/sklearn/utils/validation.py:1229: DataConversionWarning: A column-vector y was passed when a 1d array was expected. Please change the shape of y to (n_samples, ), for example using ravel().\n",
      "  y = column_or_1d(y, warn=True)\n",
      "/volatile/jl277509/Runs/02_STS_babies/Program/2023_jlaval_STSbabies/venv/lib/python3.10/site-packages/sklearn/utils/validation.py:1229: DataConversionWarning: A column-vector y was passed when a 1d array was expected. Please change the shape of y to (n_samples, ), for example using ravel().\n",
      "  y = column_or_1d(y, warn=True)\n",
      "/volatile/jl277509/Runs/02_STS_babies/Program/2023_jlaval_STSbabies/venv/lib/python3.10/site-packages/sklearn/utils/validation.py:1229: DataConversionWarning: A column-vector y was passed when a 1d array was expected. Please change the shape of y to (n_samples, ), for example using ravel().\n",
      "  y = column_or_1d(y, warn=True)\n",
      "/volatile/jl277509/Runs/02_STS_babies/Program/2023_jlaval_STSbabies/venv/lib/python3.10/site-packages/sklearn/utils/validation.py:1229: DataConversionWarning: A column-vector y was passed when a 1d array was expected. Please change the shape of y to (n_samples, ), for example using ravel().\n",
      "  y = column_or_1d(y, warn=True)\n",
      "/volatile/jl277509/Runs/02_STS_babies/Program/2023_jlaval_STSbabies/venv/lib/python3.10/site-packages/sklearn/utils/validation.py:1229: DataConversionWarning: A column-vector y was passed when a 1d array was expected. Please change the shape of y to (n_samples, ), for example using ravel().\n",
      "  y = column_or_1d(y, warn=True)\n",
      "/volatile/jl277509/Runs/02_STS_babies/Program/2023_jlaval_STSbabies/venv/lib/python3.10/site-packages/sklearn/utils/validation.py:1229: DataConversionWarning: A column-vector y was passed when a 1d array was expected. Please change the shape of y to (n_samples, ), for example using ravel().\n",
      "  y = column_or_1d(y, warn=True)\n",
      "/volatile/jl277509/Runs/02_STS_babies/Program/2023_jlaval_STSbabies/venv/lib/python3.10/site-packages/sklearn/utils/validation.py:1229: DataConversionWarning: A column-vector y was passed when a 1d array was expected. Please change the shape of y to (n_samples, ), for example using ravel().\n",
      "  y = column_or_1d(y, warn=True)\n",
      "/volatile/jl277509/Runs/02_STS_babies/Program/2023_jlaval_STSbabies/venv/lib/python3.10/site-packages/sklearn/utils/validation.py:1229: DataConversionWarning: A column-vector y was passed when a 1d array was expected. Please change the shape of y to (n_samples, ), for example using ravel().\n",
      "  y = column_or_1d(y, warn=True)\n",
      "/volatile/jl277509/Runs/02_STS_babies/Program/2023_jlaval_STSbabies/venv/lib/python3.10/site-packages/sklearn/utils/validation.py:1229: DataConversionWarning: A column-vector y was passed when a 1d array was expected. Please change the shape of y to (n_samples, ), for example using ravel().\n",
      "  y = column_or_1d(y, warn=True)\n",
      "/volatile/jl277509/Runs/02_STS_babies/Program/2023_jlaval_STSbabies/venv/lib/python3.10/site-packages/sklearn/utils/validation.py:1229: DataConversionWarning: A column-vector y was passed when a 1d array was expected. Please change the shape of y to (n_samples, ), for example using ravel().\n",
      "  y = column_or_1d(y, warn=True)\n",
      "/volatile/jl277509/Runs/02_STS_babies/Program/2023_jlaval_STSbabies/venv/lib/python3.10/site-packages/sklearn/linear_model/_sag.py:350: ConvergenceWarning: The max_iter was reached which means the coef_ did not converge\n",
      "  warnings.warn(\n",
      "/volatile/jl277509/Runs/02_STS_babies/Program/2023_jlaval_STSbabies/venv/lib/python3.10/site-packages/sklearn/linear_model/_sag.py:350: ConvergenceWarning: The max_iter was reached which means the coef_ did not converge\n",
      "  warnings.warn(\n",
      "/volatile/jl277509/Runs/02_STS_babies/Program/2023_jlaval_STSbabies/venv/lib/python3.10/site-packages/sklearn/linear_model/_sag.py:350: ConvergenceWarning: The max_iter was reached which means the coef_ did not converge\n",
      "  warnings.warn(\n",
      "/volatile/jl277509/Runs/02_STS_babies/Program/2023_jlaval_STSbabies/venv/lib/python3.10/site-packages/sklearn/linear_model/_sag.py:350: ConvergenceWarning: The max_iter was reached which means the coef_ did not converge\n",
      "  warnings.warn(\n",
      "/volatile/jl277509/Runs/02_STS_babies/Program/2023_jlaval_STSbabies/venv/lib/python3.10/site-packages/sklearn/linear_model/_sag.py:350: ConvergenceWarning: The max_iter was reached which means the coef_ did not converge\n",
      "  warnings.warn(\n",
      "/volatile/jl277509/Runs/02_STS_babies/Program/2023_jlaval_STSbabies/venv/lib/python3.10/site-packages/sklearn/linear_model/_sag.py:350: ConvergenceWarning: The max_iter was reached which means the coef_ did not converge\n",
      "  warnings.warn(\n",
      "/volatile/jl277509/Runs/02_STS_babies/Program/2023_jlaval_STSbabies/venv/lib/python3.10/site-packages/sklearn/linear_model/_sag.py:350: ConvergenceWarning: The max_iter was reached which means the coef_ did not converge\n",
      "  warnings.warn(\n",
      "/volatile/jl277509/Runs/02_STS_babies/Program/2023_jlaval_STSbabies/venv/lib/python3.10/site-packages/sklearn/linear_model/_sag.py:350: ConvergenceWarning: The max_iter was reached which means the coef_ did not converge\n",
      "  warnings.warn(\n",
      "/volatile/jl277509/Runs/02_STS_babies/Program/2023_jlaval_STSbabies/venv/lib/python3.10/site-packages/sklearn/linear_model/_sag.py:350: ConvergenceWarning: The max_iter was reached which means the coef_ did not converge\n",
      "  warnings.warn(\n",
      "/volatile/jl277509/Runs/02_STS_babies/Program/2023_jlaval_STSbabies/venv/lib/python3.10/site-packages/sklearn/linear_model/_sag.py:350: ConvergenceWarning: The max_iter was reached which means the coef_ did not converge\n",
      "  warnings.warn(\n",
      "/volatile/jl277509/Runs/02_STS_babies/Program/2023_jlaval_STSbabies/venv/lib/python3.10/site-packages/sklearn/linear_model/_sag.py:350: ConvergenceWarning: The max_iter was reached which means the coef_ did not converge\n",
      "  warnings.warn(\n",
      "/volatile/jl277509/Runs/02_STS_babies/Program/2023_jlaval_STSbabies/venv/lib/python3.10/site-packages/sklearn/linear_model/_sag.py:350: ConvergenceWarning: The max_iter was reached which means the coef_ did not converge\n",
      "  warnings.warn(\n",
      "/volatile/jl277509/Runs/02_STS_babies/Program/2023_jlaval_STSbabies/venv/lib/python3.10/site-packages/sklearn/linear_model/_sag.py:350: ConvergenceWarning: The max_iter was reached which means the coef_ did not converge\n",
      "  warnings.warn(\n",
      "/volatile/jl277509/Runs/02_STS_babies/Program/2023_jlaval_STSbabies/venv/lib/python3.10/site-packages/sklearn/linear_model/_sag.py:350: ConvergenceWarning: The max_iter was reached which means the coef_ did not converge\n",
      "  warnings.warn(\n",
      "/volatile/jl277509/Runs/02_STS_babies/Program/2023_jlaval_STSbabies/venv/lib/python3.10/site-packages/sklearn/linear_model/_sag.py:350: ConvergenceWarning: The max_iter was reached which means the coef_ did not converge\n",
      "  warnings.warn(\n",
      "/volatile/jl277509/Runs/02_STS_babies/Program/2023_jlaval_STSbabies/venv/lib/python3.10/site-packages/sklearn/linear_model/_sag.py:350: ConvergenceWarning: The max_iter was reached which means the coef_ did not converge\n",
      "  warnings.warn(\n",
      "/volatile/jl277509/Runs/02_STS_babies/Program/2023_jlaval_STSbabies/venv/lib/python3.10/site-packages/sklearn/linear_model/_sag.py:350: ConvergenceWarning: The max_iter was reached which means the coef_ did not converge\n",
      "  warnings.warn(\n",
      "/volatile/jl277509/Runs/02_STS_babies/Program/2023_jlaval_STSbabies/venv/lib/python3.10/site-packages/sklearn/linear_model/_sag.py:350: ConvergenceWarning: The max_iter was reached which means the coef_ did not converge\n",
      "  warnings.warn(\n",
      "/volatile/jl277509/Runs/02_STS_babies/Program/2023_jlaval_STSbabies/venv/lib/python3.10/site-packages/sklearn/linear_model/_sag.py:350: ConvergenceWarning: The max_iter was reached which means the coef_ did not converge\n",
      "  warnings.warn(\n",
      "/volatile/jl277509/Runs/02_STS_babies/Program/2023_jlaval_STSbabies/venv/lib/python3.10/site-packages/sklearn/utils/validation.py:1229: DataConversionWarning: A column-vector y was passed when a 1d array was expected. Please change the shape of y to (n_samples, ), for example using ravel().\n",
      "  y = column_or_1d(y, warn=True)\n"
     ]
    },
    {
     "name": "stdout",
     "output_type": "stream",
     "text": [
      "Best parameters: {'C': 0.01, 'l1_ratio': 0.0}\n"
     ]
    }
   ],
   "source": [
    "# logistic\n",
    "parameters={'l1_ratio': np.linspace(0,1,11), 'C': [10**k for k in range(-3,3)]}\n",
    "model = LogisticRegression(solver='saga', penalty='elasticnet',\n",
    "                           max_iter=2000, random_state=0)\n",
    "\n",
    "grid_search = GridSearchCV(model, parameters, cv=predefined_split, scoring='roc_auc_ovr_weighted', refit=True, n_jobs=46)\n",
    "grid_search.fit(X_train_val, Y_train_val)\n",
    "# Print best parameters\n",
    "print(\"Best parameters:\", grid_search.best_params_)\n",
    "# Evaluate on the test set\n",
    "best_model = grid_search.best_estimator_"
   ]
  },
  {
   "cell_type": "code",
   "execution_count": 14,
   "metadata": {},
   "outputs": [
    {
     "name": "stdout",
     "output_type": "stream",
     "text": [
      "0.6730233691806136\n"
     ]
    }
   ],
   "source": [
    "y_test_pred = best_model.predict_proba(test_skels)\n",
    "score = roc_auc_score(Y_test, y_test_pred, multi_class='ovr', average='weighted') ## WON'T WORK WITH SINGLE CLASS\n",
    "print(score)\n",
    "#score = roc_auc_score(Y_test, y_test_pred[:, 1])\n",
    "#print(score)"
   ]
  },
  {
   "cell_type": "markdown",
   "metadata": {},
   "source": [
    "# Regression"
   ]
  },
  {
   "cell_type": "code",
   "execution_count": null,
   "metadata": {},
   "outputs": [],
   "source": [
    "# elastic net\n",
    "\n",
    "parameters={'l1_ratio': np.linspace(0,1,11), 'alpha': [10**k for k in range(-4,3)]}   \n",
    "model = ElasticNet()\n",
    "\n",
    "predefined_split = PredefinedSplit(test_fold=split_index)\n",
    "\n",
    "grid_search = GridSearchCV(model, parameters, cv=predefined_split, scoring='r2', refit=True)\n",
    "grid_search.fit(X_train_val, Y_train_val)\n",
    "# Print best parameters\n",
    "print(\"Best parameters:\", grid_search.best_params_)\n",
    "# Evaluate on the test set\n",
    "best_model = grid_search.best_estimator_"
   ]
  },
  {
   "cell_type": "code",
   "execution_count": null,
   "metadata": {},
   "outputs": [],
   "source": [
    "y_test_pred = best_model.predict_proba(test_skels)\n",
    "score = r2_score(Y_test, y_test_pred, multi_class='ovr', average='weighted')\n",
    "print(score)"
   ]
  },
  {
   "cell_type": "code",
   "execution_count": null,
   "metadata": {},
   "outputs": [],
   "source": [
    "# SVR ## penalty is l2\n",
    "parameters={'C': [10**k for k in range(-3,3)], 'gamma': ['scale', 'auto']}   \n",
    "model = SVR(kernel='rbf')\n",
    "\n",
    "predefined_split = PredefinedSplit(test_fold=split_index)\n",
    "\n",
    "grid_search = GridSearchCV(model, parameters, cv=predefined_split, scoring='r2', refit=True)\n",
    "grid_search.fit(X_train_val, Y_train_val)\n",
    "# Print best parameters\n",
    "print(\"Best parameters:\", grid_search.best_params_)\n",
    "# Evaluate on the test set\n",
    "best_model = grid_search.best_estimator_"
   ]
  },
  {
   "cell_type": "code",
   "execution_count": null,
   "metadata": {},
   "outputs": [],
   "source": [
    "y_test_pred = best_model.predict_proba(test_skels)\n",
    "score = r2_score(Y_test, y_test_pred, multi_class='ovr', average='weighted')\n",
    "print(score)"
   ]
  }
 ],
 "metadata": {
  "kernelspec": {
   "display_name": "venv",
   "language": "python",
   "name": "python3"
  },
  "language_info": {
   "codemirror_mode": {
    "name": "ipython",
    "version": 3
   },
   "file_extension": ".py",
   "mimetype": "text/x-python",
   "name": "python",
   "nbconvert_exporter": "python",
   "pygments_lexer": "ipython3",
   "version": "3.10.12"
  }
 },
 "nbformat": 4,
 "nbformat_minor": 2
}
