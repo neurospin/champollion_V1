{
 "cells": [
  {
   "cell_type": "code",
   "execution_count": 1,
   "metadata": {},
   "outputs": [
    {
     "name": "stderr",
     "output_type": "stream",
     "text": [
      "/tmp/ipykernel_272580/3681729236.py:2: DeprecationWarning: \n",
      "Pyarrow will become a required dependency of pandas in the next major release of pandas (pandas 3.0),\n",
      "(to allow more performant data types, such as the Arrow string type, and better interoperability with other libraries)\n",
      "but was not found to be installed on your system.\n",
      "If this would cause problems for you,\n",
      "please provide us feedback at https://github.com/pandas-dev/pandas/issues/54466\n",
      "        \n",
      "  import pandas as pd\n"
     ]
    }
   ],
   "source": [
    "import numpy as np\n",
    "import pandas as pd\n",
    "import os\n",
    "from sklearn.svm import SVC\n",
    "from sklearn.linear_model import LogisticRegression\n",
    "from sklearn.metrics import auc, roc_curve, roc_auc_score\n",
    "from sklearn.model_selection import cross_val_predict"
   ]
  },
  {
   "cell_type": "markdown",
   "metadata": {},
   "source": [
    "# ORBITAL"
   ]
  },
  {
   "cell_type": "code",
   "execution_count": 2,
   "metadata": {},
   "outputs": [],
   "source": [
    "crops_dir = '/neurospin/dico/data/deep_folding/current/datasets/hcp/crops/2mm/ORBITAL/mask'\n",
    "skels = np.load(os.path.join(crops_dir, 'Lskeleton.npy'))\n",
    "skel_subs = pd.read_csv(os.path.join(crops_dir, 'Lskeleton_subject.csv'))\n",
    "skels = skels.reshape(skels.shape[0], np.prod(skels.shape[1:]))\n",
    "skels = skels.astype(bool)"
   ]
  },
  {
   "cell_type": "code",
   "execution_count": 3,
   "metadata": {},
   "outputs": [],
   "source": [
    "splits_dir = '/neurospin/dico/data/deep_folding/current/datasets/orbital_patterns/Troiani'\n",
    "train_subs = pd.read_csv(os.path.join(splits_dir, 'split_0-6.csv'), names=['Subject'])\n",
    "val_subs = pd.read_csv(os.path.join(splits_dir, 'split_7.csv'), names=['Subject'])\n",
    "test_subs = pd.read_csv(os.path.join(splits_dir, 'split_8-9.csv'), names=['Subject'])"
   ]
  },
  {
   "cell_type": "code",
   "execution_count": 4,
   "metadata": {},
   "outputs": [],
   "source": [
    "label='Left_OFC'\n",
    "labels = pd.read_csv('/neurospin/dico/data/deep_folding/current/datasets/hcp/hcp_OFC_labels_from_0.csv', usecols=['Subject', label])\n",
    "proportions = np.unique(labels[label], return_counts=True)\n",
    "proportions = proportions[1] / np.sum(proportions[1])"
   ]
  },
  {
   "cell_type": "code",
   "execution_count": 5,
   "metadata": {},
   "outputs": [],
   "source": [
    "train = skel_subs.loc[skel_subs['Subject'].isin(train_subs['Subject'])]\n",
    "idxs_train = train.index.tolist()\n",
    "Y_train = pd.merge(train, labels)[label]\n",
    "train_skels= skels[idxs_train]\n",
    "\n",
    "val = skel_subs.loc[skel_subs['Subject'].isin(val_subs['Subject'])]\n",
    "idxs_val = val.index.tolist()\n",
    "Y_val = pd.merge(val, labels)[label]\n",
    "val_skels= skels[idxs_val]\n",
    "\n",
    "test = skel_subs.loc[skel_subs['Subject'].isin(test_subs['Subject'])]\n",
    "idxs_test = test.index.tolist()\n",
    "Y_test = pd.merge(test, labels)[label]\n",
    "test_skels= skels[idxs_test]"
   ]
  },
  {
   "cell_type": "code",
   "execution_count": 9,
   "metadata": {},
   "outputs": [
    {
     "data": {
      "text/plain": [
       "650.9700082294804"
      ]
     },
     "execution_count": 9,
     "metadata": {},
     "output_type": "execute_result"
    }
   ],
   "source": [
    "np.var(train_skels) * train_skels.shape[1]"
   ]
  },
  {
   "cell_type": "code",
   "execution_count": 13,
   "metadata": {},
   "outputs": [
    {
     "name": "stdout",
     "output_type": "stream",
     "text": [
      "0.00015361690820746374 1 None\n",
      "[0.60125    0.53496503 0.72222222 0.39150943]\n",
      "0.5910736128709299\n",
      "0.0005069357970846303 1 None\n",
      "[0.59875    0.47377622 0.72698413 0.39622642]\n",
      "0.574122560397249\n",
      "0.005069357970846303 1 None\n",
      "[0.54125    0.6048951  0.26984127 0.58490566]\n",
      "0.5140037152614815\n",
      "0.015361690820746373 1 None\n",
      "[0.39       0.44055944 0.36349206 0.46698113]\n",
      "0.40409526900583437\n"
     ]
    }
   ],
   "source": [
    "#for C in [1e-2, 1e-1, 1, 10]: \n",
    "for C in [1]:   \n",
    "    for class_weight in [None]:\n",
    "        for degree in [3]:\n",
    "            for gamma in [k/(np.var(train_skels) * train_skels.shape[1]) for k in [0.1, 0.33, 3.3, 10]]:\n",
    "                model = SVC(kernel='rbf', probability=True, degree=degree, gamma=gamma,\n",
    "                            max_iter=10000, random_state=None,\n",
    "                            C=C, class_weight=class_weight, decision_function_shape='ovr')\n",
    "                \n",
    "                model.fit(train_skels, Y_train)\n",
    "                labels_proba = model.predict_proba(val_skels)\n",
    "                roc_aucs = roc_auc_score(Y_val, labels_proba, multi_class='ovr', average=None)\n",
    "\n",
    "                print(gamma, C, class_weight)\n",
    "                print(roc_aucs)\n",
    "                print(np.dot(roc_aucs, proportions.T))"
   ]
  },
  {
   "cell_type": "code",
   "execution_count": 127,
   "metadata": {},
   "outputs": [
    {
     "name": "stdout",
     "output_type": "stream",
     "text": [
      "[0.66545675 0.61278195 0.65291262 0.70560748]\n",
      "0.6512508148626943\n"
     ]
    }
   ],
   "source": [
    "# test\n",
    "model = SVC(kernel='rbf', probability=True, degree=3,\n",
    "                        max_iter=-1, random_state=None,\n",
    "                        C=1, class_weight=None, decision_function_shape='ovr')\n",
    "model.fit(train_skels, Y_train)\n",
    "labels_proba = model.predict_proba(test_skels)\n",
    "roc_auc = roc_auc_score(Y_test, labels_proba, multi_class='ovr', average=None)\n",
    "print(roc_auc)\n",
    "print(np.dot(roc_auc, proportions.T))"
   ]
  },
  {
   "cell_type": "code",
   "execution_count": 128,
   "metadata": {},
   "outputs": [
    {
     "name": "stdout",
     "output_type": "stream",
     "text": [
      "[0.62       0.51573427 0.63968254 0.36792453]\n",
      "0.5789860793389128\n"
     ]
    }
   ],
   "source": [
    "# LogisticRegression\n",
    "model = LogisticRegression(C=1,  penalty='l1', solver='liblinear', class_weight='balanced', max_iter=100, multi_class='ovr')\n",
    "model.fit(train_skels, Y_train)\n",
    "labels_proba = model.predict_proba(val_skels)\n",
    "roc_auc = roc_auc_score(Y_val, labels_proba, multi_class='ovr', average=None)\n",
    "print(roc_auc)\n",
    "print(np.dot(roc_auc, proportions.T))"
   ]
  },
  {
   "cell_type": "code",
   "execution_count": 124,
   "metadata": {},
   "outputs": [
    {
     "name": "stdout",
     "output_type": "stream",
     "text": [
      "[0.65759226 0.60594668 0.59061489 0.42523364]\n",
      "0.6171394484409242\n"
     ]
    }
   ],
   "source": [
    "#test \n",
    "model = LogisticRegression(C=1,  penalty='l1', solver='liblinear', class_weight='balanced', max_iter=100, multi_class='ovr')\n",
    "model.fit(train_skels, Y_train)\n",
    "labels_proba = model.predict_proba(test_skels)\n",
    "roc_auc = roc_auc_score(Y_test, labels_proba, multi_class='ovr', average=None)\n",
    "print(roc_auc)\n",
    "print(np.dot(roc_auc, proportions.T))"
   ]
  },
  {
   "cell_type": "code",
   "execution_count": 129,
   "metadata": {},
   "outputs": [
    {
     "name": "stderr",
     "output_type": "stream",
     "text": [
      "/volatile/jl277509/Runs/02_STS_babies/Program/2023_jlaval_STSbabies/venv/lib/python3.10/site-packages/sklearn/linear_model/_sag.py:350: ConvergenceWarning: The max_iter was reached which means the coef_ did not converge\n",
      "  warnings.warn(\n"
     ]
    },
    {
     "name": "stdout",
     "output_type": "stream",
     "text": [
      "[0.63       0.56643357 0.73015873 0.36320755]\n",
      "0.6133699142237123\n"
     ]
    }
   ],
   "source": [
    "# ElasticNet\n",
    "model = LogisticRegression(C=1, penalty='elasticnet', solver='saga', l1_ratio=0.5, class_weight='balanced', max_iter=100, multi_class='ovr')\n",
    "model.fit(train_skels, Y_train)\n",
    "labels_proba = model.predict_proba(val_skels)\n",
    "roc_auc = roc_auc_score(Y_val, labels_proba, multi_class='ovr', average=None)\n",
    "print(roc_auc)\n",
    "print(np.dot(roc_auc, proportions.T))"
   ]
  },
  {
   "cell_type": "code",
   "execution_count": 126,
   "metadata": {},
   "outputs": [
    {
     "name": "stderr",
     "output_type": "stream",
     "text": [
      "/volatile/jl277509/Runs/02_STS_babies/Program/2023_jlaval_STSbabies/venv/lib/python3.10/site-packages/sklearn/linear_model/_sag.py:350: ConvergenceWarning: The max_iter was reached which means the coef_ did not converge\n",
      "  warnings.warn(\n",
      "/volatile/jl277509/Runs/02_STS_babies/Program/2023_jlaval_STSbabies/venv/lib/python3.10/site-packages/sklearn/linear_model/_sag.py:350: ConvergenceWarning: The max_iter was reached which means the coef_ did not converge\n",
      "  warnings.warn(\n",
      "/volatile/jl277509/Runs/02_STS_babies/Program/2023_jlaval_STSbabies/venv/lib/python3.10/site-packages/sklearn/linear_model/_sag.py:350: ConvergenceWarning: The max_iter was reached which means the coef_ did not converge\n",
      "  warnings.warn(\n"
     ]
    },
    {
     "name": "stdout",
     "output_type": "stream",
     "text": [
      "[0.6291591  0.58202324 0.64967638 0.47079439]\n",
      "0.6098809629161359\n"
     ]
    },
    {
     "name": "stderr",
     "output_type": "stream",
     "text": [
      "/volatile/jl277509/Runs/02_STS_babies/Program/2023_jlaval_STSbabies/venv/lib/python3.10/site-packages/sklearn/linear_model/_sag.py:350: ConvergenceWarning: The max_iter was reached which means the coef_ did not converge\n",
      "  warnings.warn(\n"
     ]
    }
   ],
   "source": [
    "# ElasticNet\n",
    "model = LogisticRegression(C=0.1, penalty='elasticnet', solver='saga', l1_ratio=0.5, class_weight='balanced', max_iter=100, multi_class='ovr')\n",
    "model.fit(train_skels, Y_train)\n",
    "labels_proba = model.predict_proba(test_skels)\n",
    "roc_auc = roc_auc_score(Y_test, labels_proba, multi_class='ovr', average=None)\n",
    "print(roc_auc)\n",
    "print(np.dot(roc_auc, proportions.T))"
   ]
  },
  {
   "cell_type": "markdown",
   "metadata": {},
   "source": [
    "# PCS"
   ]
  },
  {
   "cell_type": "code",
   "execution_count": 11,
   "metadata": {},
   "outputs": [],
   "source": [
    "crops_dir = '/neurospin/dico/data/deep_folding/current/datasets/ACCpatterns/crops/2mm/CINGULATE/mask'\n",
    "skels = np.load(os.path.join(crops_dir, 'Rskeleton.npy'))\n",
    "skel_subs = pd.read_csv(os.path.join(crops_dir, 'Rskeleton_subject.csv'))\n",
    "skels = skels.reshape(skels.shape[0], np.prod(skels.shape[1:]))\n",
    "skels = skels.astype(bool)"
   ]
  },
  {
   "cell_type": "code",
   "execution_count": 12,
   "metadata": {},
   "outputs": [],
   "source": [
    "splits_dir = '/neurospin/dico/data/deep_folding/current/datasets/ACCpatterns/train_val_test'\n",
    "train_subs = pd.read_csv(os.path.join(splits_dir, 'ACCpatterns_subjects_filtered_train.csv'), names=['Subject'])\n",
    "val_subs = pd.read_csv(os.path.join(splits_dir, 'ACCpatterns_subjects_filtered_val.csv'), names=['Subject'])\n",
    "test_subs = pd.read_csv(os.path.join(splits_dir, 'ACCpatterns_subjects_filtered_test.csv'), names=['Subject'])"
   ]
  },
  {
   "cell_type": "code",
   "execution_count": 13,
   "metadata": {},
   "outputs": [],
   "source": [
    "label='Right_PCS'\n",
    "labels = pd.read_csv('/neurospin/dico/data/deep_folding/current/datasets/ACCpatterns/subjects_labels.csv', usecols=['long_name', label])\n",
    "labels.columns = ['Subject', label]\n",
    "proportions = np.unique(labels[label], return_counts=True)\n",
    "proportions = proportions[1] / np.sum(proportions[1])"
   ]
  },
  {
   "cell_type": "code",
   "execution_count": 14,
   "metadata": {},
   "outputs": [],
   "source": [
    "train = skel_subs.loc[skel_subs['Subject'].isin(train_subs['Subject'])]\n",
    "idxs_train = train.index.tolist()\n",
    "Y_train = pd.merge(train, labels)[label]\n",
    "train_skels= skels[idxs_train]\n",
    "\n",
    "val = skel_subs.loc[skel_subs['Subject'].isin(val_subs['Subject'])]\n",
    "idxs_val = val.index.tolist()\n",
    "Y_val = pd.merge(val, labels)[label]\n",
    "val_skels= skels[idxs_val]\n",
    "\n",
    "test = skel_subs.loc[skel_subs['Subject'].isin(test_subs['Subject'])]\n",
    "idxs_test = test.index.tolist()\n",
    "Y_test = pd.merge(test, labels)[label]\n",
    "test_skels= skels[idxs_test]"
   ]
  },
  {
   "cell_type": "code",
   "execution_count": 41,
   "metadata": {},
   "outputs": [
    {
     "name": "stdout",
     "output_type": "stream",
     "text": [
      "0.01 balanced 2\n",
      "0.1904761904761905\n",
      "0.01 balanced 3\n",
      "0.1904761904761905\n",
      "0.01 balanced 4\n",
      "0.1904761904761905\n",
      "0.01 balanced 5\n",
      "0.1904761904761905\n",
      "0.1 balanced 2\n",
      "0.1904761904761905\n",
      "0.1 balanced 3\n",
      "0.1904761904761905\n",
      "0.1 balanced 4\n",
      "0.1904761904761905\n",
      "0.1 balanced 5\n",
      "0.1904761904761905\n",
      "1 balanced 2\n",
      "0.8205128205128205\n",
      "1 balanced 3\n",
      "0.8205128205128205\n",
      "1 balanced 4\n",
      "0.8205128205128205\n",
      "1 balanced 5\n",
      "0.8205128205128205\n",
      "10 balanced 2\n",
      "0.8241758241758242\n",
      "10 balanced 3\n",
      "0.8241758241758242\n",
      "10 balanced 4\n",
      "0.8241758241758242\n",
      "10 balanced 5\n",
      "0.8241758241758242\n"
     ]
    }
   ],
   "source": [
    "for C in [1e-2, 1e-1, 1, 10]:    \n",
    "    for class_weight in ['balanced']:\n",
    "        for degree in [2, 3, 4, 5]:\n",
    "\n",
    "            model = SVC(kernel='rbf', probability=True, degree=degree,\n",
    "                        max_iter=-1, random_state=None,\n",
    "                        C=C, class_weight=class_weight, decision_function_shape='ovr')\n",
    "            \n",
    "            model.fit(train_skels, Y_train)\n",
    "            labels_proba = model.predict_proba(val_skels)\n",
    "            roc_auc = roc_auc_score(Y_val, labels_proba[:, 1])\n",
    "\n",
    "            print(C, class_weight, degree)\n",
    "            print(roc_auc)"
   ]
  },
  {
   "cell_type": "code",
   "execution_count": null,
   "metadata": {},
   "outputs": [],
   "source": [
    "model = SVC(kernel='rbf', probability=True, degree=3,\n",
    "                        max_iter=100, random_state=None,\n",
    "                        C=1, class_weight='balanced', decision_function_shape='ovr')\n",
    "model.fit(val_skels, Y_val)\n",
    "labels_proba = model.predict_proba(val_skels)\n",
    "roc_auc = roc_auc_score(Y_val, labels_proba[:, 1])\n",
    "print(roc_auc)"
   ]
  },
  {
   "cell_type": "code",
   "execution_count": 39,
   "metadata": {},
   "outputs": [
    {
     "name": "stderr",
     "output_type": "stream",
     "text": [
      "/volatile/jl277509/Runs/02_STS_babies/Program/2023_jlaval_STSbabies/venv/lib/python3.10/site-packages/sklearn/svm/_base.py:297: ConvergenceWarning: Solver terminated early (max_iter=100).  Consider pre-processing your data with StandardScaler or MinMaxScaler.\n",
      "  warnings.warn(\n"
     ]
    },
    {
     "name": "stdout",
     "output_type": "stream",
     "text": [
      "0.7428842504743833\n"
     ]
    }
   ],
   "source": [
    "model = SVC(kernel='rbf', probability=True, degree=3,\n",
    "                        max_iter=-1, random_state=None,\n",
    "                        C=1, class_weight='balanced', decision_function_shape='ovr')\n",
    "model.fit(train_skels, Y_train)\n",
    "labels_proba = model.predict_proba(test_skels)\n",
    "roc_auc = roc_auc_score(Y_test, labels_proba[:, 1])\n",
    "print(roc_auc)"
   ]
  },
  {
   "cell_type": "code",
   "execution_count": 71,
   "metadata": {},
   "outputs": [
    {
     "name": "stdout",
     "output_type": "stream",
     "text": [
      "0.7912087912087913\n"
     ]
    }
   ],
   "source": [
    "# LogisticRegression\n",
    "model = LogisticRegression(C=0.3, penalty='l1', solver='liblinear', class_weight='balanced', max_iter=100000)\n",
    "model.fit(train_skels, Y_train)\n",
    "labels_proba = model.predict_proba(val_skels)\n",
    "roc_auc = roc_auc_score(Y_val, labels_proba[:, 1])\n",
    "print(roc_auc)"
   ]
  },
  {
   "cell_type": "code",
   "execution_count": 76,
   "metadata": {},
   "outputs": [
    {
     "name": "stdout",
     "output_type": "stream",
     "text": [
      "0.6195445920303605\n"
     ]
    }
   ],
   "source": [
    "#test\n",
    "model = LogisticRegression(C=0.3, penalty='l1', solver='liblinear', class_weight='balanced', max_iter=100000)\n",
    "model.fit(train_skels, Y_train)\n",
    "labels_proba = model.predict_proba(test_skels)\n",
    "roc_auc = roc_auc_score(Y_test, labels_proba[:, 1])\n",
    "print(roc_auc)"
   ]
  },
  {
   "cell_type": "code",
   "execution_count": 58,
   "metadata": {},
   "outputs": [
    {
     "name": "stdout",
     "output_type": "stream",
     "text": [
      "0.8058608058608059\n"
     ]
    },
    {
     "name": "stderr",
     "output_type": "stream",
     "text": [
      "/volatile/jl277509/Runs/02_STS_babies/Program/2023_jlaval_STSbabies/venv/lib/python3.10/site-packages/sklearn/linear_model/_sag.py:350: ConvergenceWarning: The max_iter was reached which means the coef_ did not converge\n",
      "  warnings.warn(\n"
     ]
    }
   ],
   "source": [
    "# ElasticNet\n",
    "model = LogisticRegression(C=0.1, penalty='elasticnet', solver='saga', l1_ratio=0.5, class_weight='balanced', max_iter=100)\n",
    "model.fit(train_skels, Y_train)\n",
    "labels_proba = model.predict_proba(val_skels)\n",
    "roc_auc = roc_auc_score(Y_val, labels_proba[:, 1])\n",
    "print(roc_auc)"
   ]
  },
  {
   "cell_type": "code",
   "execution_count": 77,
   "metadata": {},
   "outputs": [
    {
     "name": "stdout",
     "output_type": "stream",
     "text": [
      "0.7201138519924098\n"
     ]
    },
    {
     "name": "stderr",
     "output_type": "stream",
     "text": [
      "/volatile/jl277509/Runs/02_STS_babies/Program/2023_jlaval_STSbabies/venv/lib/python3.10/site-packages/sklearn/linear_model/_sag.py:350: ConvergenceWarning: The max_iter was reached which means the coef_ did not converge\n",
      "  warnings.warn(\n"
     ]
    }
   ],
   "source": [
    "# test\n",
    "model = LogisticRegression(C=0.1, penalty='elasticnet', solver='saga', l1_ratio=0.5, class_weight='balanced', max_iter=100)\n",
    "model.fit(train_skels, Y_train)\n",
    "labels_proba = model.predict_proba(test_skels)\n",
    "roc_auc = roc_auc_score(Y_test, labels_proba[:, 1])\n",
    "print(roc_auc)"
   ]
  },
  {
   "cell_type": "markdown",
   "metadata": {},
   "source": [
    "# FIP R"
   ]
  },
  {
   "cell_type": "code",
   "execution_count": 27,
   "metadata": {},
   "outputs": [],
   "source": [
    "crops_dir = '/neurospin/dico/data/deep_folding/current/datasets/hcp/crops/2mm/F.I.P./mask'\n",
    "skels = np.load(os.path.join(crops_dir, 'Rskeleton.npy'))\n",
    "skel_subs = pd.read_csv(os.path.join(crops_dir, 'Rskeleton_subject.csv'))\n",
    "skels = skels.reshape(skels.shape[0], np.prod(skels.shape[1:]))\n",
    "skels = skels.astype(bool)"
   ]
  },
  {
   "cell_type": "code",
   "execution_count": 28,
   "metadata": {},
   "outputs": [],
   "source": [
    "splits_dir = '/neurospin/dico/data/deep_folding/current/datasets/hcp/FIP'\n",
    "train_subs = pd.read_csv(os.path.join(splits_dir, 'train_split.csv'), names=['Subject'])\n",
    "val_subs = pd.read_csv(os.path.join(splits_dir, 'val_split.csv'), names=['Subject'])\n",
    "test_subs = pd.read_csv(os.path.join(splits_dir, 'test_split.csv'), names=['Subject'])"
   ]
  },
  {
   "cell_type": "code",
   "execution_count": 29,
   "metadata": {},
   "outputs": [],
   "source": [
    "label='Right_FIP'\n",
    "labels = pd.read_csv('/neurospin/dico/data/deep_folding/current/datasets/hcp/FIP/FIP_labels.csv', usecols=['Subject', label])\n",
    "labels.columns = ['Subject', label]\n",
    "proportions = np.unique(labels[label], return_counts=True)\n",
    "proportions = proportions[1] / np.sum(proportions[1])"
   ]
  },
  {
   "cell_type": "code",
   "execution_count": 30,
   "metadata": {},
   "outputs": [],
   "source": [
    "train = skel_subs.loc[skel_subs['Subject'].isin(train_subs['Subject'])]\n",
    "idxs_train = train.index.tolist()\n",
    "Y_train = pd.merge(train, labels)[label]\n",
    "train_skels= skels[idxs_train]\n",
    "\n",
    "val = skel_subs.loc[skel_subs['Subject'].isin(val_subs['Subject'])]\n",
    "idxs_val = val.index.tolist()\n",
    "Y_val = pd.merge(val, labels)[label]\n",
    "val_skels= skels[idxs_val]\n",
    "\n",
    "test = skel_subs.loc[skel_subs['Subject'].isin(test_subs['Subject'])]\n",
    "idxs_test = test.index.tolist()\n",
    "Y_test = pd.merge(test, labels)[label]\n",
    "test_skels= skels[idxs_test]"
   ]
  },
  {
   "cell_type": "markdown",
   "metadata": {},
   "source": [
    "svm rbf"
   ]
  },
  {
   "cell_type": "code",
   "execution_count": 31,
   "metadata": {},
   "outputs": [
    {
     "name": "stdout",
     "output_type": "stream",
     "text": [
      "0.01 balanced 2\n",
      "0.4907407407407407\n",
      "0.01 balanced 3\n",
      "0.4907407407407407\n",
      "0.01 balanced 4\n",
      "0.4907407407407407\n",
      "0.01 balanced 5\n",
      "0.4907407407407407\n",
      "0.1 balanced 2\n",
      "0.4907407407407407\n",
      "0.1 balanced 3\n",
      "0.4907407407407407\n",
      "0.1 balanced 4\n",
      "0.4907407407407407\n",
      "0.1 balanced 5\n",
      "0.4907407407407407\n",
      "1 balanced 2\n",
      "0.5092592592592592\n",
      "1 balanced 3\n",
      "0.5092592592592592\n",
      "1 balanced 4\n",
      "0.5092592592592592\n",
      "1 balanced 5\n",
      "0.5092592592592592\n",
      "10 balanced 2\n",
      "0.48765432098765427\n",
      "10 balanced 3\n",
      "0.48765432098765427\n",
      "10 balanced 4\n",
      "0.48765432098765427\n",
      "10 balanced 5\n",
      "0.48765432098765427\n"
     ]
    }
   ],
   "source": [
    "## hyperparameter search\n",
    "for C in [1e-2, 1e-1, 1, 10]:    \n",
    "    for class_weight in ['balanced']:\n",
    "        for degree in [2, 3, 4, 5]:\n",
    "\n",
    "            model = SVC(kernel='rbf', probability=True, degree=degree,\n",
    "                        max_iter=-1, random_state=None,\n",
    "                        C=C, class_weight=class_weight, decision_function_shape='ovr')\n",
    "            \n",
    "            model.fit(train_skels, Y_train)\n",
    "            labels_proba = model.predict_proba(val_skels)\n",
    "            roc_auc = roc_auc_score(Y_val, labels_proba[:, 1])\n",
    "\n",
    "            print(C, class_weight, degree)\n",
    "            print(roc_auc)"
   ]
  },
  {
   "cell_type": "code",
   "execution_count": null,
   "metadata": {},
   "outputs": [],
   "source": [
    "## test set after hyperparameter search\n",
    "model = SVC(kernel='rbf', probability=True, degree=3,\n",
    "                        max_iter=-1, random_state=None,\n",
    "                        C=1, class_weight='balanced', decision_function_shape='ovr')\n",
    "model.fit(train_skels, Y_train)\n",
    "labels_proba = model.predict_proba(test_skels)\n",
    "roc_auc = roc_auc_score(Y_test, labels_proba[:, 1])\n",
    "print(roc_auc)"
   ]
  },
  {
   "cell_type": "code",
   "execution_count": 12,
   "metadata": {},
   "outputs": [
    {
     "name": "stdout",
     "output_type": "stream",
     "text": [
      "0.01 balanced\n",
      "0.5\n",
      "0.01 None\n",
      "0.5\n",
      "0.1 balanced\n",
      "0.40740740740740744\n",
      "0.1 None\n",
      "0.3518518518518518\n",
      "0.3 balanced\n",
      "0.5123456790123457\n",
      "0.3 None\n",
      "0.49382716049382713\n",
      "1 balanced\n",
      "0.49074074074074076\n",
      "1 None\n",
      "0.49691358024691357\n",
      "10 balanced\n",
      "0.45679012345679015\n",
      "10 None\n",
      "0.42592592592592593\n"
     ]
    }
   ],
   "source": [
    "# LogisticRegression\n",
    "for C in [1e-2, 1e-1, 0.3, 1, 10]:    \n",
    "    for class_weight in ['balanced', None]:\n",
    "        model = LogisticRegression(C=C, penalty='l1', solver='liblinear', class_weight=class_weight, max_iter=100000)\n",
    "        model.fit(train_skels, Y_train)\n",
    "        labels_proba = model.predict_proba(val_skels)\n",
    "        roc_auc = roc_auc_score(Y_val, labels_proba[:, 1])\n",
    "        print(C, class_weight)\n",
    "        print(roc_auc)"
   ]
  },
  {
   "cell_type": "code",
   "execution_count": 13,
   "metadata": {},
   "outputs": [
    {
     "name": "stdout",
     "output_type": "stream",
     "text": [
      "The history saving thread hit an unexpected error (OperationalError('unable to open database file')).History will not be written to the database.\n",
      "0.4313271604938272\n"
     ]
    }
   ],
   "source": [
    "#test\n",
    "model = LogisticRegression(C=0.1, penalty='l1', solver='liblinear', class_weight=None, max_iter=100000)\n",
    "model.fit(train_skels, Y_train)\n",
    "labels_proba = model.predict_proba(test_skels)\n",
    "roc_auc = roc_auc_score(Y_test, labels_proba[:, 1])\n",
    "print(roc_auc)"
   ]
  },
  {
   "cell_type": "code",
   "execution_count": 15,
   "metadata": {},
   "outputs": [
    {
     "name": "stdout",
     "output_type": "stream",
     "text": [
      "0.5\n",
      "0.5\n"
     ]
    },
    {
     "name": "stderr",
     "output_type": "stream",
     "text": [
      "/volatile/jl277509/Runs/02_STS_babies/Program/2023_jlaval_STSbabies/venv/lib/python3.10/site-packages/sklearn/linear_model/_sag.py:350: ConvergenceWarning: The max_iter was reached which means the coef_ did not converge\n",
      "  warnings.warn(\n"
     ]
    },
    {
     "name": "stdout",
     "output_type": "stream",
     "text": [
      "0.5648148148148148\n"
     ]
    },
    {
     "name": "stderr",
     "output_type": "stream",
     "text": [
      "/volatile/jl277509/Runs/02_STS_babies/Program/2023_jlaval_STSbabies/venv/lib/python3.10/site-packages/sklearn/linear_model/_sag.py:350: ConvergenceWarning: The max_iter was reached which means the coef_ did not converge\n",
      "  warnings.warn(\n"
     ]
    },
    {
     "name": "stdout",
     "output_type": "stream",
     "text": [
      "0.5740740740740741\n"
     ]
    },
    {
     "name": "stderr",
     "output_type": "stream",
     "text": [
      "/volatile/jl277509/Runs/02_STS_babies/Program/2023_jlaval_STSbabies/venv/lib/python3.10/site-packages/sklearn/linear_model/_sag.py:350: ConvergenceWarning: The max_iter was reached which means the coef_ did not converge\n",
      "  warnings.warn(\n"
     ]
    },
    {
     "name": "stdout",
     "output_type": "stream",
     "text": [
      "0.5246913580246914\n"
     ]
    },
    {
     "name": "stderr",
     "output_type": "stream",
     "text": [
      "/volatile/jl277509/Runs/02_STS_babies/Program/2023_jlaval_STSbabies/venv/lib/python3.10/site-packages/sklearn/linear_model/_sag.py:350: ConvergenceWarning: The max_iter was reached which means the coef_ did not converge\n",
      "  warnings.warn(\n"
     ]
    },
    {
     "name": "stdout",
     "output_type": "stream",
     "text": [
      "0.5154320987654321\n"
     ]
    },
    {
     "name": "stderr",
     "output_type": "stream",
     "text": [
      "/volatile/jl277509/Runs/02_STS_babies/Program/2023_jlaval_STSbabies/venv/lib/python3.10/site-packages/sklearn/linear_model/_sag.py:350: ConvergenceWarning: The max_iter was reached which means the coef_ did not converge\n",
      "  warnings.warn(\n"
     ]
    },
    {
     "name": "stdout",
     "output_type": "stream",
     "text": [
      "0.5092592592592593\n"
     ]
    },
    {
     "name": "stderr",
     "output_type": "stream",
     "text": [
      "/volatile/jl277509/Runs/02_STS_babies/Program/2023_jlaval_STSbabies/venv/lib/python3.10/site-packages/sklearn/linear_model/_sag.py:350: ConvergenceWarning: The max_iter was reached which means the coef_ did not converge\n",
      "  warnings.warn(\n"
     ]
    },
    {
     "name": "stdout",
     "output_type": "stream",
     "text": [
      "0.5154320987654321\n"
     ]
    },
    {
     "name": "stderr",
     "output_type": "stream",
     "text": [
      "/volatile/jl277509/Runs/02_STS_babies/Program/2023_jlaval_STSbabies/venv/lib/python3.10/site-packages/sklearn/linear_model/_sag.py:350: ConvergenceWarning: The max_iter was reached which means the coef_ did not converge\n",
      "  warnings.warn(\n"
     ]
    },
    {
     "name": "stdout",
     "output_type": "stream",
     "text": [
      "0.49691358024691357\n",
      "0.4722222222222222\n"
     ]
    },
    {
     "name": "stderr",
     "output_type": "stream",
     "text": [
      "/volatile/jl277509/Runs/02_STS_babies/Program/2023_jlaval_STSbabies/venv/lib/python3.10/site-packages/sklearn/linear_model/_sag.py:350: ConvergenceWarning: The max_iter was reached which means the coef_ did not converge\n",
      "  warnings.warn(\n"
     ]
    }
   ],
   "source": [
    "# ElasticNet\n",
    "for C in [1e-2, 1e-1, 0.3, 1, 10]:    \n",
    "    for class_weight in ['balanced', None]:\n",
    "        model = LogisticRegression(C=C, penalty='elasticnet', solver='saga', l1_ratio=0.5, class_weight=class_weight, max_iter=100)\n",
    "        model.fit(train_skels, Y_train)\n",
    "        labels_proba = model.predict_proba(val_skels)\n",
    "        roc_auc = roc_auc_score(Y_val, labels_proba[:, 1])\n",
    "        print(C, class_weight)\n",
    "        print(roc_auc)"
   ]
  },
  {
   "cell_type": "code",
   "execution_count": 16,
   "metadata": {},
   "outputs": [
    {
     "name": "stdout",
     "output_type": "stream",
     "text": [
      "0.5123456790123457\n"
     ]
    },
    {
     "name": "stderr",
     "output_type": "stream",
     "text": [
      "/volatile/jl277509/Runs/02_STS_babies/Program/2023_jlaval_STSbabies/venv/lib/python3.10/site-packages/sklearn/linear_model/_sag.py:350: ConvergenceWarning: The max_iter was reached which means the coef_ did not converge\n",
      "  warnings.warn(\n"
     ]
    }
   ],
   "source": [
    "# test\n",
    "model = LogisticRegression(C=0.1, penalty='elasticnet', solver='saga', l1_ratio=0.5, class_weight=None, max_iter=100)\n",
    "model.fit(train_skels, Y_train)\n",
    "labels_proba = model.predict_proba(test_skels)\n",
    "roc_auc = roc_auc_score(Y_test, labels_proba[:, 1])\n",
    "print(roc_auc)"
   ]
  },
  {
   "cell_type": "markdown",
   "metadata": {},
   "source": [
    "# FIP L"
   ]
  },
  {
   "cell_type": "code",
   "execution_count": 17,
   "metadata": {},
   "outputs": [],
   "source": [
    "crops_dir = '/neurospin/dico/data/deep_folding/current/datasets/hcp/crops/2mm/F.I.P./mask'\n",
    "skels = np.load(os.path.join(crops_dir, 'Lskeleton.npy'))\n",
    "skel_subs = pd.read_csv(os.path.join(crops_dir, 'Lskeleton_subject.csv'))\n",
    "skels = skels.reshape(skels.shape[0], np.prod(skels.shape[1:]))\n",
    "skels = skels.astype(bool)"
   ]
  },
  {
   "cell_type": "code",
   "execution_count": 18,
   "metadata": {},
   "outputs": [],
   "source": [
    "splits_dir = '/neurospin/dico/data/deep_folding/current/datasets/hcp/FIP'\n",
    "train_subs = pd.read_csv(os.path.join(splits_dir, 'train_split.csv'), names=['Subject'])\n",
    "val_subs = pd.read_csv(os.path.join(splits_dir, 'val_split.csv'), names=['Subject'])\n",
    "test_subs = pd.read_csv(os.path.join(splits_dir, 'test_split.csv'), names=['Subject'])"
   ]
  },
  {
   "cell_type": "code",
   "execution_count": 19,
   "metadata": {},
   "outputs": [],
   "source": [
    "label='Left_FIP'\n",
    "labels = pd.read_csv('/neurospin/dico/data/deep_folding/current/datasets/hcp/FIP/FIP_labels.csv', usecols=['Subject', label])\n",
    "labels.columns = ['Subject', label]\n",
    "proportions = np.unique(labels[label], return_counts=True)\n",
    "proportions = proportions[1] / np.sum(proportions[1])"
   ]
  },
  {
   "cell_type": "code",
   "execution_count": 20,
   "metadata": {},
   "outputs": [],
   "source": [
    "train = skel_subs.loc[skel_subs['Subject'].isin(train_subs['Subject'])]\n",
    "idxs_train = train.index.tolist()\n",
    "Y_train = pd.merge(train, labels)[label]\n",
    "train_skels= skels[idxs_train]\n",
    "\n",
    "val = skel_subs.loc[skel_subs['Subject'].isin(val_subs['Subject'])]\n",
    "idxs_val = val.index.tolist()\n",
    "Y_val = pd.merge(val, labels)[label]\n",
    "val_skels= skels[idxs_val]\n",
    "\n",
    "test = skel_subs.loc[skel_subs['Subject'].isin(test_subs['Subject'])]\n",
    "idxs_test = test.index.tolist()\n",
    "Y_test = pd.merge(test, labels)[label]\n",
    "test_skels= skels[idxs_test]"
   ]
  },
  {
   "cell_type": "code",
   "execution_count": 25,
   "metadata": {},
   "outputs": [
    {
     "name": "stdout",
     "output_type": "stream",
     "text": [
      "0.01 balanced 2\n",
      "0.3439153439153439\n",
      "0.01 balanced 3\n",
      "0.3439153439153439\n",
      "0.01 balanced 4\n",
      "0.3439153439153439\n",
      "0.01 balanced 5\n",
      "0.3439153439153439\n",
      "0.1 balanced 2\n",
      "0.3439153439153439\n",
      "0.1 balanced 3\n",
      "0.3439153439153439\n",
      "0.1 balanced 4\n",
      "0.3439153439153439\n",
      "0.1 balanced 5\n",
      "0.3439153439153439\n",
      "1 balanced 2\n",
      "0.6547619047619048\n",
      "1 balanced 3\n",
      "0.3386243386243386\n",
      "1 balanced 4\n",
      "0.6613756613756614\n",
      "1 balanced 5\n",
      "0.6613756613756614\n",
      "10 balanced 2\n",
      "0.6455026455026455\n",
      "10 balanced 3\n",
      "0.6455026455026455\n",
      "10 balanced 4\n",
      "0.6455026455026455\n",
      "10 balanced 5\n",
      "0.6455026455026455\n"
     ]
    }
   ],
   "source": [
    "## hyperparameter search\n",
    "for C in [1e-2, 1e-1, 1, 10]:    \n",
    "    for class_weight in ['balanced']:\n",
    "        for degree in [2, 3, 4, 5]:\n",
    "\n",
    "            model = SVC(kernel='rbf', probability=True, degree=degree,\n",
    "                        max_iter=-1, random_state=None,\n",
    "                        C=C, class_weight=class_weight, decision_function_shape='ovr')\n",
    "            \n",
    "            model.fit(train_skels, Y_train)\n",
    "            labels_proba = model.predict_proba(val_skels)\n",
    "            roc_auc = roc_auc_score(Y_val, labels_proba[:, 1])\n",
    "\n",
    "            print(C, class_weight, degree)\n",
    "            print(roc_auc)"
   ]
  },
  {
   "cell_type": "code",
   "execution_count": 26,
   "metadata": {},
   "outputs": [
    {
     "name": "stdout",
     "output_type": "stream",
     "text": [
      "0.6455026455026456\n"
     ]
    }
   ],
   "source": [
    "## test set after hyperparameter search\n",
    "model = SVC(kernel='rbf', probability=True, degree=3,\n",
    "                        max_iter=-1, random_state=None,\n",
    "                        C=1, class_weight='balanced', decision_function_shape='ovr')\n",
    "model.fit(train_skels, Y_train)\n",
    "labels_proba = model.predict_proba(test_skels)\n",
    "roc_auc = roc_auc_score(Y_test, labels_proba[:, 1])\n",
    "print(roc_auc)"
   ]
  },
  {
   "cell_type": "code",
   "execution_count": 21,
   "metadata": {},
   "outputs": [
    {
     "name": "stdout",
     "output_type": "stream",
     "text": [
      "0.01 balanced\n",
      "0.5\n",
      "0.01 None\n",
      "0.5\n",
      "0.1 balanced\n",
      "0.49603174603174605\n",
      "0.1 None\n",
      "0.5026455026455027\n",
      "0.3 balanced\n",
      "0.537037037037037\n",
      "0.3 None\n",
      "0.537037037037037\n",
      "1 balanced\n",
      "0.5211640211640212\n",
      "1 None\n",
      "0.5291005291005291\n",
      "10 balanced\n",
      "0.5740740740740741\n",
      "10 None\n",
      "0.5211640211640212\n"
     ]
    }
   ],
   "source": [
    "# LogisticRegression\n",
    "for C in [1e-2, 1e-1, 0.3, 1, 10]:    \n",
    "    for class_weight in ['balanced', None]:\n",
    "        model = LogisticRegression(C=C, penalty='l1', solver='liblinear', class_weight=class_weight, max_iter=100000)\n",
    "        model.fit(train_skels, Y_train)\n",
    "        labels_proba = model.predict_proba(val_skels)\n",
    "        roc_auc = roc_auc_score(Y_val, labels_proba[:, 1])\n",
    "        print(C, class_weight)\n",
    "        print(roc_auc)"
   ]
  },
  {
   "cell_type": "code",
   "execution_count": 22,
   "metadata": {},
   "outputs": [
    {
     "name": "stdout",
     "output_type": "stream",
     "text": [
      "0.4722222222222222\n"
     ]
    }
   ],
   "source": [
    "#test\n",
    "model = LogisticRegression(C=10, penalty='l1', solver='liblinear', class_weight='balanced', max_iter=100000)\n",
    "model.fit(train_skels, Y_train)\n",
    "labels_proba = model.predict_proba(test_skels)\n",
    "roc_auc = roc_auc_score(Y_test, labels_proba[:, 1])\n",
    "print(roc_auc)"
   ]
  },
  {
   "cell_type": "code",
   "execution_count": 23,
   "metadata": {},
   "outputs": [
    {
     "name": "stdout",
     "output_type": "stream",
     "text": [
      "0.5\n",
      "0.5\n"
     ]
    },
    {
     "name": "stderr",
     "output_type": "stream",
     "text": [
      "/volatile/jl277509/Runs/02_STS_babies/Program/2023_jlaval_STSbabies/venv/lib/python3.10/site-packages/sklearn/linear_model/_sag.py:350: ConvergenceWarning: The max_iter was reached which means the coef_ did not converge\n",
      "  warnings.warn(\n"
     ]
    },
    {
     "name": "stdout",
     "output_type": "stream",
     "text": [
      "0.5608465608465609\n"
     ]
    },
    {
     "name": "stderr",
     "output_type": "stream",
     "text": [
      "/volatile/jl277509/Runs/02_STS_babies/Program/2023_jlaval_STSbabies/venv/lib/python3.10/site-packages/sklearn/linear_model/_sag.py:350: ConvergenceWarning: The max_iter was reached which means the coef_ did not converge\n",
      "  warnings.warn(\n"
     ]
    },
    {
     "name": "stdout",
     "output_type": "stream",
     "text": [
      "0.5740740740740741\n"
     ]
    },
    {
     "name": "stderr",
     "output_type": "stream",
     "text": [
      "/volatile/jl277509/Runs/02_STS_babies/Program/2023_jlaval_STSbabies/venv/lib/python3.10/site-packages/sklearn/linear_model/_sag.py:350: ConvergenceWarning: The max_iter was reached which means the coef_ did not converge\n",
      "  warnings.warn(\n"
     ]
    },
    {
     "name": "stdout",
     "output_type": "stream",
     "text": [
      "0.5793650793650794\n"
     ]
    },
    {
     "name": "stderr",
     "output_type": "stream",
     "text": [
      "/volatile/jl277509/Runs/02_STS_babies/Program/2023_jlaval_STSbabies/venv/lib/python3.10/site-packages/sklearn/linear_model/_sag.py:350: ConvergenceWarning: The max_iter was reached which means the coef_ did not converge\n",
      "  warnings.warn(\n"
     ]
    },
    {
     "name": "stdout",
     "output_type": "stream",
     "text": [
      "0.5740740740740742\n"
     ]
    },
    {
     "name": "stderr",
     "output_type": "stream",
     "text": [
      "/volatile/jl277509/Runs/02_STS_babies/Program/2023_jlaval_STSbabies/venv/lib/python3.10/site-packages/sklearn/linear_model/_sag.py:350: ConvergenceWarning: The max_iter was reached which means the coef_ did not converge\n",
      "  warnings.warn(\n"
     ]
    },
    {
     "name": "stdout",
     "output_type": "stream",
     "text": [
      "0.6507936507936508\n"
     ]
    },
    {
     "name": "stderr",
     "output_type": "stream",
     "text": [
      "/volatile/jl277509/Runs/02_STS_babies/Program/2023_jlaval_STSbabies/venv/lib/python3.10/site-packages/sklearn/linear_model/_sag.py:350: ConvergenceWarning: The max_iter was reached which means the coef_ did not converge\n",
      "  warnings.warn(\n"
     ]
    },
    {
     "name": "stdout",
     "output_type": "stream",
     "text": [
      "0.6613756613756614\n"
     ]
    },
    {
     "name": "stderr",
     "output_type": "stream",
     "text": [
      "/volatile/jl277509/Runs/02_STS_babies/Program/2023_jlaval_STSbabies/venv/lib/python3.10/site-packages/sklearn/linear_model/_sag.py:350: ConvergenceWarning: The max_iter was reached which means the coef_ did not converge\n",
      "  warnings.warn(\n"
     ]
    },
    {
     "name": "stdout",
     "output_type": "stream",
     "text": [
      "0.6375661375661376\n",
      "0.6481481481481481\n"
     ]
    },
    {
     "name": "stderr",
     "output_type": "stream",
     "text": [
      "/volatile/jl277509/Runs/02_STS_babies/Program/2023_jlaval_STSbabies/venv/lib/python3.10/site-packages/sklearn/linear_model/_sag.py:350: ConvergenceWarning: The max_iter was reached which means the coef_ did not converge\n",
      "  warnings.warn(\n"
     ]
    }
   ],
   "source": [
    "# ElasticNet\n",
    "for C in [1e-2, 1e-1, 0.3, 1, 10]:    \n",
    "    for class_weight in ['balanced', None]:\n",
    "        model = LogisticRegression(C=C, penalty='elasticnet', solver='saga', l1_ratio=0.5, class_weight=class_weight, max_iter=100)\n",
    "        model.fit(train_skels, Y_train)\n",
    "        labels_proba = model.predict_proba(val_skels)\n",
    "        roc_auc = roc_auc_score(Y_val, labels_proba[:, 1])\n",
    "        print(C, class_weight)\n",
    "        print(roc_auc)"
   ]
  },
  {
   "cell_type": "code",
   "execution_count": 24,
   "metadata": {},
   "outputs": [
    {
     "name": "stdout",
     "output_type": "stream",
     "text": [
      "0.5707671957671958\n"
     ]
    },
    {
     "name": "stderr",
     "output_type": "stream",
     "text": [
      "/volatile/jl277509/Runs/02_STS_babies/Program/2023_jlaval_STSbabies/venv/lib/python3.10/site-packages/sklearn/linear_model/_sag.py:350: ConvergenceWarning: The max_iter was reached which means the coef_ did not converge\n",
      "  warnings.warn(\n"
     ]
    }
   ],
   "source": [
    "# test\n",
    "model = LogisticRegression(C=1, penalty='elasticnet', solver='saga', l1_ratio=0.5, class_weight='balanced', max_iter=100)\n",
    "model.fit(train_skels, Y_train)\n",
    "labels_proba = model.predict_proba(test_skels)\n",
    "roc_auc = roc_auc_score(Y_test, labels_proba[:, 1])\n",
    "print(roc_auc)"
   ]
  },
  {
   "cell_type": "code",
   "execution_count": null,
   "metadata": {},
   "outputs": [],
   "source": []
  }
 ],
 "metadata": {
  "kernelspec": {
   "display_name": "venv",
   "language": "python",
   "name": "python3"
  },
  "language_info": {
   "codemirror_mode": {
    "name": "ipython",
    "version": 3
   },
   "file_extension": ".py",
   "mimetype": "text/x-python",
   "name": "python",
   "nbconvert_exporter": "python",
   "pygments_lexer": "ipython3",
   "version": "3.10.12"
  }
 },
 "nbformat": 4,
 "nbformat_minor": 2
}
