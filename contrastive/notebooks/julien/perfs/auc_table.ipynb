{
 "cells": [
  {
   "cell_type": "code",
   "execution_count": 145,
   "metadata": {},
   "outputs": [],
   "source": [
    "import pandas as pd\n",
    "import numpy as np\n",
    "import os\n",
    "import json"
   ]
  },
  {
   "cell_type": "code",
   "execution_count": 146,
   "metadata": {},
   "outputs": [],
   "source": [
    "labels = ['Right_PCS', 'Age']\n",
    "targets = ['test_values.json', 'train_val_values.json']\n",
    "embeddings = ['ACC_custom_embeddings', 'UKB_5percent_embeddings']\n",
    "metrics = ['test_auc', 'train_val_auc']\n",
    "\n",
    "output_dir = '/volatile/jl277509/Runs/02_STS_babies/Program/Output'"
   ]
  },
  {
   "cell_type": "code",
   "execution_count": 4,
   "metadata": {},
   "outputs": [
    {
     "data": {
      "text/plain": [
       "0.004921607686744472"
      ]
     },
     "execution_count": 4,
     "metadata": {},
     "output_type": "execute_result"
    }
   ],
   "source": [
    "import numpy as np\n",
    "np.std([0.880,0.868,0.875])"
   ]
  },
  {
   "cell_type": "code",
   "execution_count": 158,
   "metadata": {},
   "outputs": [
    {
     "name": "stdout",
     "output_type": "stream",
     "text": [
      "Right_PCS test_values.json ACC_custom_embeddings\n",
      "Age train_val_values.json UKB_5percent_embeddings\n"
     ]
    }
   ],
   "source": [
    "df_list=[]\n",
    "for label, target, embedding, metric in zip(labels, targets, embeddings, metrics):\n",
    "    print(label, target, embedding)\n",
    "    selected_models_dirs = [root for root, dirs, files in os.walk(output_dir, followlinks=True)\n",
    "                            if (embedding in root) & (root.endswith(label)) & (target in files) & ('best_model' not in root)]\n",
    "    value_list=[]\n",
    "    for model in selected_models_dirs:\n",
    "        with open(os.path.join(model,target), 'r') as f:\n",
    "            perf = json.load(f)\n",
    "        if isinstance(perf[metric], float):\n",
    "            value=perf[metric]\n",
    "        else:\n",
    "            value = perf[metric][0]\n",
    "        value_list.append(value)\n",
    "\n",
    "    models_dirs = [elem.split('/')[-3][:-2] for elem in selected_models_dirs]\n",
    "    \n",
    "    df = pd.DataFrame({'model': models_dirs, label: value_list})\n",
    "    df_list.append(df)"
   ]
  },
  {
   "cell_type": "code",
   "execution_count": 163,
   "metadata": {},
   "outputs": [],
   "source": [
    "models_table = ['random_all_keep_bottom','random_no_keep_no_cutin', 'random_no_keep_no_cutout',\n",
    "                'random_no_keep_no_translation_only', 'random_no_keep_no_trimdepth', 'translation_only_no_noise']"
   ]
  },
  {
   "cell_type": "code",
   "execution_count": 232,
   "metadata": {},
   "outputs": [
    {
     "data": {
      "text/html": [
       "<div>\n",
       "<style scoped>\n",
       "    .dataframe tbody tr th:only-of-type {\n",
       "        vertical-align: middle;\n",
       "    }\n",
       "\n",
       "    .dataframe tbody tr th {\n",
       "        vertical-align: top;\n",
       "    }\n",
       "\n",
       "    .dataframe thead th {\n",
       "        text-align: right;\n",
       "    }\n",
       "</style>\n",
       "<table border=\"1\" class=\"dataframe\">\n",
       "  <thead>\n",
       "    <tr style=\"text-align: right;\">\n",
       "      <th></th>\n",
       "      <th>model</th>\n",
       "      <th>Age</th>\n",
       "    </tr>\n",
       "  </thead>\n",
       "  <tbody>\n",
       "    <tr>\n",
       "      <th>129</th>\n",
       "      <td>random_all_keep_bottom</td>\n",
       "      <td>0.5107</td>\n",
       "    </tr>\n",
       "    <tr>\n",
       "      <th>153</th>\n",
       "      <td>random_all_keep_bottom</td>\n",
       "      <td>0.5115</td>\n",
       "    </tr>\n",
       "    <tr>\n",
       "      <th>161</th>\n",
       "      <td>random_all_keep_bottom</td>\n",
       "      <td>0.5113</td>\n",
       "    </tr>\n",
       "    <tr>\n",
       "      <th>175</th>\n",
       "      <td>random_all_keep_bottom</td>\n",
       "      <td>0.5289</td>\n",
       "    </tr>\n",
       "    <tr>\n",
       "      <th>184</th>\n",
       "      <td>random_all_keep_bottom</td>\n",
       "      <td>0.5030</td>\n",
       "    </tr>\n",
       "    <tr>\n",
       "      <th>223</th>\n",
       "      <td>random_all_keep_bottom</td>\n",
       "      <td>0.5411</td>\n",
       "    </tr>\n",
       "    <tr>\n",
       "      <th>224</th>\n",
       "      <td>random_all_keep_bottom</td>\n",
       "      <td>0.5239</td>\n",
       "    </tr>\n",
       "    <tr>\n",
       "      <th>227</th>\n",
       "      <td>random_all_keep_bottom</td>\n",
       "      <td>0.5107</td>\n",
       "    </tr>\n",
       "    <tr>\n",
       "      <th>228</th>\n",
       "      <td>random_all_keep_bottom</td>\n",
       "      <td>0.4930</td>\n",
       "    </tr>\n",
       "    <tr>\n",
       "      <th>236</th>\n",
       "      <td>random_all_keep_bottom</td>\n",
       "      <td>0.5115</td>\n",
       "    </tr>\n",
       "    <tr>\n",
       "      <th>242</th>\n",
       "      <td>random_all_keep_bottom</td>\n",
       "      <td>0.5113</td>\n",
       "    </tr>\n",
       "    <tr>\n",
       "      <th>243</th>\n",
       "      <td>random_all_keep_bottom</td>\n",
       "      <td>0.5121</td>\n",
       "    </tr>\n",
       "    <tr>\n",
       "      <th>245</th>\n",
       "      <td>random_all_keep_bottom</td>\n",
       "      <td>0.5289</td>\n",
       "    </tr>\n",
       "    <tr>\n",
       "      <th>248</th>\n",
       "      <td>random_all_keep_bottom</td>\n",
       "      <td>0.5194</td>\n",
       "    </tr>\n",
       "    <tr>\n",
       "      <th>250</th>\n",
       "      <td>random_all_keep_bottom</td>\n",
       "      <td>0.5030</td>\n",
       "    </tr>\n",
       "    <tr>\n",
       "      <th>257</th>\n",
       "      <td>random_all_keep_bottom</td>\n",
       "      <td>0.5107</td>\n",
       "    </tr>\n",
       "    <tr>\n",
       "      <th>266</th>\n",
       "      <td>random_all_keep_bottom</td>\n",
       "      <td>0.5115</td>\n",
       "    </tr>\n",
       "    <tr>\n",
       "      <th>269</th>\n",
       "      <td>random_all_keep_bottom</td>\n",
       "      <td>0.5113</td>\n",
       "    </tr>\n",
       "    <tr>\n",
       "      <th>273</th>\n",
       "      <td>random_all_keep_bottom</td>\n",
       "      <td>0.5289</td>\n",
       "    </tr>\n",
       "    <tr>\n",
       "      <th>278</th>\n",
       "      <td>random_all_keep_bottom</td>\n",
       "      <td>0.5030</td>\n",
       "    </tr>\n",
       "    <tr>\n",
       "      <th>283</th>\n",
       "      <td>random_all_keep_bottom</td>\n",
       "      <td>0.5107</td>\n",
       "    </tr>\n",
       "    <tr>\n",
       "      <th>289</th>\n",
       "      <td>random_all_keep_bottom</td>\n",
       "      <td>0.5115</td>\n",
       "    </tr>\n",
       "    <tr>\n",
       "      <th>291</th>\n",
       "      <td>random_all_keep_bottom</td>\n",
       "      <td>0.5113</td>\n",
       "    </tr>\n",
       "    <tr>\n",
       "      <th>298</th>\n",
       "      <td>random_all_keep_bottom</td>\n",
       "      <td>0.5289</td>\n",
       "    </tr>\n",
       "    <tr>\n",
       "      <th>301</th>\n",
       "      <td>random_all_keep_bottom</td>\n",
       "      <td>0.5030</td>\n",
       "    </tr>\n",
       "    <tr>\n",
       "      <th>331</th>\n",
       "      <td>random_all_keep_bottom</td>\n",
       "      <td>0.5411</td>\n",
       "    </tr>\n",
       "    <tr>\n",
       "      <th>332</th>\n",
       "      <td>random_all_keep_bottom</td>\n",
       "      <td>0.5239</td>\n",
       "    </tr>\n",
       "    <tr>\n",
       "      <th>333</th>\n",
       "      <td>random_all_keep_bottom</td>\n",
       "      <td>0.4930</td>\n",
       "    </tr>\n",
       "    <tr>\n",
       "      <th>334</th>\n",
       "      <td>random_all_keep_bottom</td>\n",
       "      <td>0.5121</td>\n",
       "    </tr>\n",
       "    <tr>\n",
       "      <th>335</th>\n",
       "      <td>random_all_keep_bottom</td>\n",
       "      <td>0.5194</td>\n",
       "    </tr>\n",
       "    <tr>\n",
       "      <th>375</th>\n",
       "      <td>random_all_keep_bottom</td>\n",
       "      <td>0.5411</td>\n",
       "    </tr>\n",
       "    <tr>\n",
       "      <th>376</th>\n",
       "      <td>random_all_keep_bottom</td>\n",
       "      <td>0.5239</td>\n",
       "    </tr>\n",
       "    <tr>\n",
       "      <th>377</th>\n",
       "      <td>random_all_keep_bottom</td>\n",
       "      <td>0.4930</td>\n",
       "    </tr>\n",
       "    <tr>\n",
       "      <th>378</th>\n",
       "      <td>random_all_keep_bottom</td>\n",
       "      <td>0.5121</td>\n",
       "    </tr>\n",
       "    <tr>\n",
       "      <th>379</th>\n",
       "      <td>random_all_keep_bottom</td>\n",
       "      <td>0.5194</td>\n",
       "    </tr>\n",
       "    <tr>\n",
       "      <th>411</th>\n",
       "      <td>random_all_keep_bottom</td>\n",
       "      <td>0.5121</td>\n",
       "    </tr>\n",
       "  </tbody>\n",
       "</table>\n",
       "</div>"
      ],
      "text/plain": [
       "                      model     Age\n",
       "129  random_all_keep_bottom  0.5107\n",
       "153  random_all_keep_bottom  0.5115\n",
       "161  random_all_keep_bottom  0.5113\n",
       "175  random_all_keep_bottom  0.5289\n",
       "184  random_all_keep_bottom  0.5030\n",
       "223  random_all_keep_bottom  0.5411\n",
       "224  random_all_keep_bottom  0.5239\n",
       "227  random_all_keep_bottom  0.5107\n",
       "228  random_all_keep_bottom  0.4930\n",
       "236  random_all_keep_bottom  0.5115\n",
       "242  random_all_keep_bottom  0.5113\n",
       "243  random_all_keep_bottom  0.5121\n",
       "245  random_all_keep_bottom  0.5289\n",
       "248  random_all_keep_bottom  0.5194\n",
       "250  random_all_keep_bottom  0.5030\n",
       "257  random_all_keep_bottom  0.5107\n",
       "266  random_all_keep_bottom  0.5115\n",
       "269  random_all_keep_bottom  0.5113\n",
       "273  random_all_keep_bottom  0.5289\n",
       "278  random_all_keep_bottom  0.5030\n",
       "283  random_all_keep_bottom  0.5107\n",
       "289  random_all_keep_bottom  0.5115\n",
       "291  random_all_keep_bottom  0.5113\n",
       "298  random_all_keep_bottom  0.5289\n",
       "301  random_all_keep_bottom  0.5030\n",
       "331  random_all_keep_bottom  0.5411\n",
       "332  random_all_keep_bottom  0.5239\n",
       "333  random_all_keep_bottom  0.4930\n",
       "334  random_all_keep_bottom  0.5121\n",
       "335  random_all_keep_bottom  0.5194\n",
       "375  random_all_keep_bottom  0.5411\n",
       "376  random_all_keep_bottom  0.5239\n",
       "377  random_all_keep_bottom  0.4930\n",
       "378  random_all_keep_bottom  0.5121\n",
       "379  random_all_keep_bottom  0.5194\n",
       "411  random_all_keep_bottom  0.5121"
      ]
     },
     "execution_count": 232,
     "metadata": {},
     "output_type": "execute_result"
    }
   ],
   "source": [
    "df.loc[df['model']=='random_all_keep_bottom']"
   ]
  },
  {
   "cell_type": "code",
   "execution_count": 249,
   "metadata": {},
   "outputs": [
    {
     "name": "stdout",
     "output_type": "stream",
     "text": [
      "random_all_keep_bottom\n",
      "Right_PCS\n",
      "nb models : 5\n",
      "random_all_keep_bottom: 0.871, 0.005\n",
      "Age\n",
      "nb models : 5\n",
      "random_all_keep_bottom: 0.513, 0.009\n",
      "random_no_keep_no_cutin\n",
      "Right_PCS\n",
      "nb models : 5\n",
      "random_no_keep_no_cutin: 0.862, 0.007\n",
      "Age\n",
      "nb models : 5\n",
      "random_no_keep_no_cutin: 0.553, 0.005\n",
      "random_no_keep_no_cutout\n",
      "Right_PCS\n",
      "nb models : 5\n",
      "random_no_keep_no_cutout: 0.879, 0.005\n",
      "Age\n",
      "nb models : 5\n",
      "random_no_keep_no_cutout: 0.539, 0.016\n",
      "random_no_keep_no_translation_only\n",
      "Right_PCS\n",
      "nb models : 5\n",
      "random_no_keep_no_translation_only: 0.867, 0.007\n",
      "Age\n",
      "nb models : 5\n",
      "random_no_keep_no_translation_only: 0.561, 0.005\n",
      "random_no_keep_no_trimdepth\n",
      "Right_PCS\n",
      "nb models : 5\n",
      "random_no_keep_no_trimdepth: 0.861, 0.008\n",
      "Age\n",
      "nb models : 5\n",
      "random_no_keep_no_trimdepth: 0.559, 0.003\n",
      "translation_only_no_noise\n",
      "Right_PCS\n",
      "nb models : 5\n",
      "translation_only_no_noise: 0.837, 0.016\n",
      "Age\n",
      "nb models : 5\n",
      "translation_only_no_noise: 0.519, 0.004\n"
     ]
    }
   ],
   "source": [
    "# NB: certains modèles y sont plusieurs fois... C'est ok s'ils sont tous en le même nombre d'exemplaires\n",
    "values = {label: [] for label in labels}\n",
    "for name in models_table:\n",
    "    print(name)\n",
    "    for df, label in zip(df_list, labels):\n",
    "        print(label)\n",
    "        l_val = df.loc[df['model']==name][label].tolist()[:5]\n",
    "        print(f'nb models : {len(l_val)}')\n",
    "        print(f'{name}: {np.mean(l_val):.3f}, {np.std(l_val):.3f}')\n",
    "        values[label].append(l_val) # choose list, mean or std\n",
    "# if list...\n",
    "values['criterion (Right_PCS - Age)'] = [[f1-f2 for f1, f2 in zip(e1,e2)] for e1, e2 in zip(values['Right_PCS'],values['Age'])]"
   ]
  },
  {
   "cell_type": "code",
   "execution_count": 250,
   "metadata": {},
   "outputs": [],
   "source": [
    "df_values = pd.DataFrame(values)\n",
    "df_values['model']=models_table\n",
    "#df_values['criterion (Right_PCS - Age)'] = df_values['Right_PCS'].to_numpy()-df_values['Age'].to_numpy()"
   ]
  },
  {
   "cell_type": "code",
   "execution_count": 251,
   "metadata": {},
   "outputs": [
    {
     "data": {
      "text/plain": [
       "dict_keys(['Right_PCS', 'Age', 'criterion (Right_PCS - Age)'])"
      ]
     },
     "execution_count": 251,
     "metadata": {},
     "output_type": "execute_result"
    }
   ],
   "source": [
    "values.keys()"
   ]
  },
  {
   "cell_type": "code",
   "execution_count": 252,
   "metadata": {},
   "outputs": [
    {
     "name": "stdout",
     "output_type": "stream",
     "text": [
      "random_all_keep_bottom: 0.009692475221440577\n",
      "random_no_keep_no_cutin: 0.008104246897852031\n",
      "random_no_keep_no_cutout: 0.013572995450152434\n",
      "random_no_keep_no_translation_only: 0.005850965686409789\n",
      "random_no_keep_no_trimdepth: 0.0093041697876062\n",
      "translation_only_no_noise: 0.02038098480391109\n"
     ]
    }
   ],
   "source": [
    "for k, model in enumerate(models_table):\n",
    "    d=df_values.loc[df_values['model']==models_table[k]]\n",
    "    l = [e1-e2 for e1, e2 in zip(d['Right_PCS'].tolist()[0],d['Age'].tolist()[0])]\n",
    "    print(f'{model}: {np.std(l)}')"
   ]
  },
  {
   "cell_type": "code",
   "execution_count": 239,
   "metadata": {},
   "outputs": [
    {
     "data": {
      "text/plain": [
       "[0.8690154867256636,\n",
       " 0.8799225663716814,\n",
       " 0.8691924778761063,\n",
       " 0.8689159292035399,\n",
       " 0.8671515486725664,\n",
       " 0.8604535398230089,\n",
       " 0.8419690265486726,\n",
       " 0.8690154867256636,\n",
       " 0.8892975663716814,\n",
       " 0.8799225663716814,\n",
       " 0.8691924778761063,\n",
       " 0.8797511061946901,\n",
       " 0.8689159292035399,\n",
       " 0.8775276548672567,\n",
       " 0.8671515486725664,\n",
       " 0.8690154867256636,\n",
       " 0.8799225663716814,\n",
       " 0.8691924778761063,\n",
       " 0.8689159292035399,\n",
       " 0.8671515486725664,\n",
       " 0.8690154867256636,\n",
       " 0.8799225663716814,\n",
       " 0.8691924778761063,\n",
       " 0.8689159292035399,\n",
       " 0.8671515486725664,\n",
       " 0.8604535398230089,\n",
       " 0.8419690265486726,\n",
       " 0.8892975663716814,\n",
       " 0.8797511061946901,\n",
       " 0.8775276548672567,\n",
       " 0.8604535398230089,\n",
       " 0.8419690265486726,\n",
       " 0.8892975663716814,\n",
       " 0.8797511061946901,\n",
       " 0.8775276548672567,\n",
       " 0.8797511061946901]"
      ]
     },
     "execution_count": 239,
     "metadata": {},
     "output_type": "execute_result"
    }
   ],
   "source": [
    "values['Right_PCS'][0]"
   ]
  },
  {
   "cell_type": "code",
   "execution_count": 230,
   "metadata": {},
   "outputs": [
    {
     "data": {
      "text/plain": [
       "0.009692475221440577"
      ]
     },
     "execution_count": 230,
     "metadata": {},
     "output_type": "execute_result"
    }
   ],
   "source": [
    "np.std([e1-e2 for e1,e2 in zip(values['Right_PCS'][0],values['Age'][0])][:5])"
   ]
  },
  {
   "cell_type": "code",
   "execution_count": null,
   "metadata": {},
   "outputs": [],
   "source": []
  }
 ],
 "metadata": {
  "kernelspec": {
   "display_name": "venv",
   "language": "python",
   "name": "python3"
  },
  "language_info": {
   "codemirror_mode": {
    "name": "ipython",
    "version": 3
   },
   "file_extension": ".py",
   "mimetype": "text/x-python",
   "name": "python",
   "nbconvert_exporter": "python",
   "pygments_lexer": "ipython3",
   "version": "3.10.12"
  }
 },
 "nbformat": 4,
 "nbformat_minor": 2
}
