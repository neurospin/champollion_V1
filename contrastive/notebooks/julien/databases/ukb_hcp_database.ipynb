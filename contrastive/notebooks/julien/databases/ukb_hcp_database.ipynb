{
 "cells": [
  {
   "cell_type": "code",
   "execution_count": 135,
   "metadata": {},
   "outputs": [],
   "source": [
    "import pandas as pd\n",
    "import numpy as np\n",
    "import os"
   ]
  },
  {
   "cell_type": "code",
   "execution_count": 136,
   "metadata": {},
   "outputs": [],
   "source": [
    "hcp_full = pd.read_csv('/neurospin/dico/data/deep_folding/current/datasets/hcp/full_subjects.csv', header=None)\n",
    "hcp_full.columns=['Subject']"
   ]
  },
  {
   "cell_type": "markdown",
   "metadata": {},
   "source": [
    "Subsample 500 subs from UKB, 250 for each sex"
   ]
  },
  {
   "cell_type": "code",
   "execution_count": 137,
   "metadata": {},
   "outputs": [],
   "source": [
    "hcp = pd.read_csv(\"/neurospin/dico/data/deep_folding/current/datasets/hcp/participants.csv\")\n",
    "hcp_gender = hcp[['Subject', 'Gender']]\n",
    "hcp_gender = hcp_gender.merge(hcp_full, on='Subject')\n",
    "hcp_family = pd.read_csv(\"/neurospin/dico/jchavas/RESTRICTED_jchavas_1_18_2022_3_17_51.csv\")\n",
    "hcp_family=hcp_family.groupby(by='Family_ID').first()\n",
    "hcp_family = hcp_family.merge(hcp_gender, on='Subject')\n",
    "hcp_family = hcp_family[['Subject', 'Gender']]"
   ]
  },
  {
   "cell_type": "code",
   "execution_count": 138,
   "metadata": {},
   "outputs": [
    {
     "data": {
      "text/html": [
       "<div>\n",
       "<style scoped>\n",
       "    .dataframe tbody tr th:only-of-type {\n",
       "        vertical-align: middle;\n",
       "    }\n",
       "\n",
       "    .dataframe tbody tr th {\n",
       "        vertical-align: top;\n",
       "    }\n",
       "\n",
       "    .dataframe thead th {\n",
       "        text-align: right;\n",
       "    }\n",
       "</style>\n",
       "<table border=\"1\" class=\"dataframe\">\n",
       "  <thead>\n",
       "    <tr style=\"text-align: right;\">\n",
       "      <th></th>\n",
       "      <th>Subject</th>\n",
       "      <th>Gender</th>\n",
       "    </tr>\n",
       "  </thead>\n",
       "  <tbody>\n",
       "    <tr>\n",
       "      <th>0</th>\n",
       "      <td>257946</td>\n",
       "      <td>F</td>\n",
       "    </tr>\n",
       "    <tr>\n",
       "      <th>1</th>\n",
       "      <td>571144</td>\n",
       "      <td>M</td>\n",
       "    </tr>\n",
       "    <tr>\n",
       "      <th>2</th>\n",
       "      <td>213017</td>\n",
       "      <td>M</td>\n",
       "    </tr>\n",
       "    <tr>\n",
       "      <th>3</th>\n",
       "      <td>589567</td>\n",
       "      <td>M</td>\n",
       "    </tr>\n",
       "    <tr>\n",
       "      <th>4</th>\n",
       "      <td>213421</td>\n",
       "      <td>F</td>\n",
       "    </tr>\n",
       "    <tr>\n",
       "      <th>...</th>\n",
       "      <td>...</td>\n",
       "      <td>...</td>\n",
       "    </tr>\n",
       "    <tr>\n",
       "      <th>419</th>\n",
       "      <td>618952</td>\n",
       "      <td>M</td>\n",
       "    </tr>\n",
       "    <tr>\n",
       "      <th>420</th>\n",
       "      <td>650746</td>\n",
       "      <td>M</td>\n",
       "    </tr>\n",
       "    <tr>\n",
       "      <th>421</th>\n",
       "      <td>516742</td>\n",
       "      <td>M</td>\n",
       "    </tr>\n",
       "    <tr>\n",
       "      <th>422</th>\n",
       "      <td>114823</td>\n",
       "      <td>F</td>\n",
       "    </tr>\n",
       "    <tr>\n",
       "      <th>423</th>\n",
       "      <td>200917</td>\n",
       "      <td>F</td>\n",
       "    </tr>\n",
       "  </tbody>\n",
       "</table>\n",
       "<p>424 rows × 2 columns</p>\n",
       "</div>"
      ],
      "text/plain": [
       "     Subject Gender\n",
       "0     257946      F\n",
       "1     571144      M\n",
       "2     213017      M\n",
       "3     589567      M\n",
       "4     213421      F\n",
       "..       ...    ...\n",
       "419   618952      M\n",
       "420   650746      M\n",
       "421   516742      M\n",
       "422   114823      F\n",
       "423   200917      F\n",
       "\n",
       "[424 rows x 2 columns]"
      ]
     },
     "execution_count": 138,
     "metadata": {},
     "output_type": "execute_result"
    }
   ],
   "source": [
    "hcp_family"
   ]
  },
  {
   "cell_type": "code",
   "execution_count": 139,
   "metadata": {},
   "outputs": [
    {
     "name": "stdout",
     "output_type": "stream",
     "text": [
      "nb M 196\n",
      "nb F 228\n"
     ]
    }
   ],
   "source": [
    "print('nb M', len(hcp_family[hcp_family['Gender']=='M']))\n",
    "print('nb F', len(hcp_family[hcp_family['Gender']=='F']))"
   ]
  },
  {
   "cell_type": "code",
   "execution_count": 140,
   "metadata": {},
   "outputs": [],
   "source": [
    "# select 196 of each sex in both datasets\n",
    "nb_subs=196\n",
    "hcp_subsample_M = hcp_family.loc[hcp_family['Gender']=='M']\n",
    "hcp_subsample_F = (hcp_family.loc[hcp_family['Gender']=='F']).sample(nb_subs, random_state=0)\n",
    "hcp_subsample = pd.concat((hcp_subsample_M, hcp_subsample_F))\n",
    "hcp_subsample = hcp_subsample['Subject'].tolist()"
   ]
  },
  {
   "cell_type": "code",
   "execution_count": 141,
   "metadata": {},
   "outputs": [],
   "source": [
    "ukb_sex = pd.read_csv(\"/neurospin/dico/data/deep_folding/current/datasets/UkBioBank/participants_sex_age.csv\")\n",
    "ukb_sex.columns = ['Subject', 'Sex', 'Age']\n",
    "ukb_subs = pd.read_csv(\"/neurospin/dico/data/deep_folding/current/datasets/UkBioBank/crops/2mm/ORBITAL/mask/Lskeleton_subject.csv\")\n",
    "ukb = ukb_subs.merge(ukb_sex, on='Subject')\n",
    "# select the youngest UKB subs\n",
    "ukb = ukb.sort_values(by=['Age'])\n",
    "ukb_1 = ukb.loc[ukb['Sex']==0].iloc[:nb_subs]['Subject'].tolist()\n",
    "ukb_2 = ukb.loc[ukb['Sex']==1].iloc[:nb_subs]['Subject'].tolist()\n",
    "ukb_subsample = ukb_1+ukb_2"
   ]
  },
  {
   "cell_type": "code",
   "execution_count": 142,
   "metadata": {},
   "outputs": [],
   "source": [
    "df_subs = pd.DataFrame({'Subject': ukb_subsample + hcp_subsample})"
   ]
  },
  {
   "cell_type": "code",
   "execution_count": 143,
   "metadata": {},
   "outputs": [],
   "source": [
    "df_label = df_subs.copy()\n",
    "df_label['Site'] = [0 for k in range(2*nb_subs)] + [1 for k in range(2*nb_subs)]"
   ]
  },
  {
   "cell_type": "code",
   "execution_count": 144,
   "metadata": {},
   "outputs": [],
   "source": [
    "save_dir='/neurospin/dico/data/deep_folding/current/datasets/site_effect_ukb_hcp/'"
   ]
  },
  {
   "cell_type": "code",
   "execution_count": 145,
   "metadata": {},
   "outputs": [],
   "source": [
    "df_subs.to_csv(os.path.join(save_dir, 'subjects.csv'), index=None, header=None)\n",
    "df_label.to_csv(os.path.join(save_dir, 'labels.csv'), index=None)"
   ]
  },
  {
   "cell_type": "code",
   "execution_count": 147,
   "metadata": {},
   "outputs": [],
   "source": [
    "## create symlinks\n",
    "sides = ['L', 'R']\n",
    "resolutions=['raw', '2mm']\n",
    "resampled_args = {'raw': ['skeleton_generated', 'foldlabel_generated'],\n",
    "                 '2mm': ['resampled_skeleton', 'resampled_foldlabel']} ### CHANGE ORDER : RAW 2MM INSTEAD OF SKELETON FOLDLABEL\n",
    "for side in sides:\n",
    "    for resolution in resolutions:\n",
    "        for datatype, dataname in zip([f'skeletons/{resolution}', f'foldlabels/{resolution}'], resampled_args[resolution]):\n",
    "            target = f'/neurospin/dico/data/deep_folding/current/datasets/site_effect_ukb_hcp/{datatype}/{side}'\n",
    "            if not os.path.isdir(target):\n",
    "                os.makedirs(target)\n",
    "            ukb_skels_dir = f'/neurospin/dico/data/deep_folding/current/datasets/UkBioBank/{datatype}/{side}'\n",
    "            for subject in ukb_subsample:\n",
    "                filename_d = f'{side}{dataname}_{subject}.nii.gz'\n",
    "                d = os.path.join(ukb_skels_dir, filename_d)\n",
    "                target_d = os.path.join(target, filename_d)\n",
    "                filename_d_minf = f'{side}{dataname}_{subject}.nii.gz.minf'\n",
    "                d_minf = os.path.join(ukb_skels_dir, filename_d_minf)\n",
    "                target_d_minf = os.path.join(target, filename_d_minf)\n",
    "                os.symlink(d, target_d)\n",
    "                os.symlink(d_minf, target_d_minf)\n",
    "            hcp_skels_dir = f'/neurospin/dico/data/deep_folding/current/datasets/hcp/{datatype}/{side}'\n",
    "            for subject in hcp_subsample:\n",
    "                filename_d = f'{side}{dataname}_{subject}.nii.gz'\n",
    "                d = os.path.join(hcp_skels_dir, filename_d)\n",
    "                target_d = os.path.join(target, filename_d)\n",
    "                filename_d_minf = f'{side}{dataname}_{subject}.nii.gz.minf'\n",
    "                d_minf = os.path.join(hcp_skels_dir, filename_d_minf)\n",
    "                target_d_minf = os.path.join(target, filename_d_minf)\n",
    "                os.symlink(d, target_d)\n",
    "                os.symlink(d_minf, target_d_minf)"
   ]
  },
  {
   "cell_type": "code",
   "execution_count": 98,
   "metadata": {},
   "outputs": [],
   "source": [
    "# same with transforms\n",
    "side = 'R'\n",
    "target = f'/neurospin/dico/data/deep_folding/current/datasets/site_effect_ukb_hcp/transforms/{side}'\n",
    "ukb_skels_dir = f'/neurospin/dico/data/deep_folding/current/datasets/UkBioBank/transforms/{side}'\n",
    "for subject in ukb_subsample:\n",
    "    filename_d = f'{side}transform_to_ICBM2009c_{subject}.trm'\n",
    "    d = os.path.join(ukb_skels_dir, filename_d)\n",
    "    target_d = os.path.join(target, filename_d)\n",
    "    filename_d_minf = filename_d + '.minf'\n",
    "    d_minf = os.path.join(ukb_skels_dir, filename_d_minf)\n",
    "    target_d_minf = os.path.join(target, filename_d_minf)\n",
    "    os.symlink(d, target_d)\n",
    "    os.symlink(d_minf, target_d_minf)\n",
    "hcp_skels_dir = f'/neurospin/dico/data/deep_folding/current/datasets/hcp/transforms/{side}'\n",
    "for subject in hcp_subsample:\n",
    "    filename_d = f'{side}transform_to_ICBM2009c_{subject}.trm'\n",
    "    d = os.path.join(ukb_skels_dir, filename_d)\n",
    "    target_d = os.path.join(target, filename_d)\n",
    "    filename_d_minf = filename_d + '.minf'\n",
    "    d_minf = os.path.join(ukb_skels_dir, filename_d_minf)\n",
    "    target_d_minf = os.path.join(target, filename_d_minf)\n",
    "    os.symlink(d, target_d)\n",
    "    os.symlink(d_minf, target_d_minf)"
   ]
  },
  {
   "cell_type": "code",
   "execution_count": null,
   "metadata": {},
   "outputs": [],
   "source": []
  }
 ],
 "metadata": {
  "kernelspec": {
   "display_name": "Python 3",
   "language": "python",
   "name": "python3"
  },
  "language_info": {
   "codemirror_mode": {
    "name": "ipython",
    "version": 3
   },
   "file_extension": ".py",
   "mimetype": "text/x-python",
   "name": "python",
   "nbconvert_exporter": "python",
   "pygments_lexer": "ipython3",
   "version": "3.10.12"
  }
 },
 "nbformat": 4,
 "nbformat_minor": 2
}
