{
 "cells": [
  {
   "cell_type": "code",
   "execution_count": 5,
   "metadata": {},
   "outputs": [],
   "source": [
    "import os\n",
    "import pandas as pd\n",
    "import numpy as np\n",
    "import json"
   ]
  },
  {
   "attachments": {},
   "cell_type": "markdown",
   "metadata": {},
   "source": [
    "# create symlinks of dHCP to remove sessions"
   ]
  },
  {
   "cell_type": "code",
   "execution_count": 2,
   "metadata": {},
   "outputs": [],
   "source": [
    "# Release3\n",
    "dir_Release3 = '/neurospin/grip/external_databases/dHCP_CR_JD_2018/Projects/denis/release3_scripts/subjects_file_v4.json'\n",
    "with open(dir_Release3) as f:\n",
    "    subjects_R3 = json.load(f)\n",
    "\n",
    "subjects_R3 = list(subjects_R3.keys())\n",
    "\n",
    "# get the session ids of R3\n",
    "dir_sessions = '/neurospin/grip/external_databases/dHCP_CR_JD_2018/Projects/denis/release3_scripts/subjects_file_v4.json'\n",
    "with open(dir_sessions) as f:\n",
    "    dict_sessions = json.load(f)\n",
    "sessions = [value['session_id'] for _, value in dict_sessions.items()]"
   ]
  },
  {
   "cell_type": "code",
   "execution_count": 6,
   "metadata": {},
   "outputs": [],
   "source": [
    "graphs_dir = '/neurospin/grip/external_databases/dHCP_CR_JD_2018/Projects/denis/release3_morpho_bids/'\n",
    "path_to_graph = '/anat/t1mri/default_acquisition/default_analysis/folds/3.1/default_session_auto/'\n",
    "graphs_dir_link = '/neurospin/dico/jlaval/data/dHCP_374/graphs/'\n",
    "\n",
    "# mkdir folder for each subject in graphs_dir_link\n",
    "for subject in subjects_R3:\n",
    "    os.mkdir(graphs_dir_link+f'{subject}')\n",
    "    os.mkdir(graphs_dir_link+f'{subject}/R{subject}.data')"
   ]
  },
  {
   "cell_type": "code",
   "execution_count": 7,
   "metadata": {},
   "outputs": [],
   "source": [
    "\n",
    "for subject, session in zip(subjects_R3, sessions):\n",
    "    src = graphs_dir+f'sub-{subject}/ses-{session}/'+path_to_graph+f'R{subject}_default_session_auto.arg'\n",
    "    dst = graphs_dir_link+f'{subject}/R{subject}_default_session_auto.arg'\n",
    "    os.symlink(src, dst)\n",
    "    # and the inside of the data folders\n",
    "    data_dir = graphs_dir+f'sub-{subject}/ses-{session}/'+path_to_graph+f'/R{subject}_default_session_auto.data/'\n",
    "    files_data = os.listdir(data_dir)\n",
    "    for file in files_data:\n",
    "        file_dir = data_dir + file\n",
    "        os.symlink(file_dir, graphs_dir_link+f'{subject}/R{subject}.data/{file}')"
   ]
  },
  {
   "attachments": {},
   "cell_type": "markdown",
   "metadata": {},
   "source": [
    "# Create symlinks of utrecht_dhcp_morpho to remove untreated subjects"
   ]
  },
  {
   "cell_type": "code",
   "execution_count": 22,
   "metadata": {},
   "outputs": [],
   "source": [
    "# select subjects\n",
    "graphs_dir = '/neurospin/dico/driviere/utrecht_dhcp_morpho/'\n",
    "graphs_file = '/ses-40wk/anat/t1mri/default_acquisition/default_analysis/folds/3.1/'\n",
    "files = [f for f in os.listdir(graphs_dir) if (f[:7]==\"sub-prm\") and (f[-1]!='f')]"
   ]
  },
  {
   "cell_type": "code",
   "execution_count": 34,
   "metadata": {},
   "outputs": [],
   "source": [
    "# already only treated subjects ...\n",
    "# but remove folders like history book\n",
    "graphs_dir_link = '/neurospin/dico/jlaval/data/utrecht_dhcp_morpho/graphs/'\n",
    "for file in files:\n",
    "    src = graphs_dir + file\n",
    "    dst = graphs_dir_link + file\n",
    "    os.symlink(src, dst)"
   ]
  },
  {
   "attachments": {},
   "cell_type": "markdown",
   "metadata": {},
   "source": [
    "# Same for Geneva babies"
   ]
  },
  {
   "cell_type": "code",
   "execution_count": 11,
   "metadata": {},
   "outputs": [],
   "source": [
    "graphs_dir=\"/neurospin/grip/external_databases/anatPretermMusicGeneva_2019/brainvisa/subjects/\"\n",
    "graphs_file=\"/t1mri/default_acquisition/default_analysis/folds/3.1/\"\n",
    "files = [f for f in os.listdir(graphs_dir) if (f[:4]==\"baby\") and (f[-1]!='f')]"
   ]
  },
  {
   "cell_type": "code",
   "execution_count": 20,
   "metadata": {},
   "outputs": [],
   "source": [
    "files_filtered = [f for f in files if len(os.listdir(graphs_dir+f+graphs_file))>1]"
   ]
  },
  {
   "cell_type": "code",
   "execution_count": 23,
   "metadata": {},
   "outputs": [],
   "source": [
    "graphs_dir_link = '/neurospin/dico/jlaval/data/PretermMusicGeneva_2019/graphs/'\n",
    "for file in files_filtered:\n",
    "    src = graphs_dir + file\n",
    "    dst = graphs_dir_link + file\n",
    "    os.symlink(src, dst)"
   ]
  },
  {
   "cell_type": "markdown",
   "metadata": {},
   "source": [
    "Add pclean to manually labeled_babies"
   ]
  },
  {
   "cell_type": "code",
   "execution_count": 14,
   "metadata": {},
   "outputs": [],
   "source": [
    "pclean_dir = '/neurospin/dico/data/bv_databases/human/manually_labeled/pclean/all/'\n",
    "path_to_graph = 't1mri/t1/default_analysis/folds/3.3/base2018_manual/'"
   ]
  },
  {
   "cell_type": "code",
   "execution_count": 15,
   "metadata": {},
   "outputs": [
    {
     "name": "stdout",
     "output_type": "stream",
     "text": [
      "['vishnu', 'isis', 'eros', 'jupiter', 'sujet04', 'moon', 'sujet01', 'poseidon', 'icbm300T', 'atlas', 'icbm200T', 'ammon', 's12277', 'horus', 'shiva', 'jah2', 'icbm201T', 's12562', 'demeter', 's12532', 'zeus', 's12258', 's12636', 's12635', 'jason', 's12590', 'sujet08', 'ra', 'vayu', 'cronos', 'icbm100T', 'icbm125T', 's12539', 'beflo', 'sujet07', 's12431', 'sujet12', 'sujet03', 'sujet11', 'sujet09', 's12300', 'sujet05', 'osiris', 's12919', 's12898', 'neptune', 'anubis', 's12158', 'icbm320T', 's12913', 'sujet02', 's12920', 's12508', 's12826', 'icbm310T', 'athena', 'sujet10', 'hyperion', 'caca', 'hades', 's12401', 'sujet06']\n"
     ]
    }
   ],
   "source": [
    "for root, dirnames, filenames in os.walk(pclean_dir):\n",
    "    print(dirnames)\n",
    "    subs = dirnames\n",
    "    break"
   ]
  },
  {
   "cell_type": "code",
   "execution_count": 19,
   "metadata": {},
   "outputs": [],
   "source": [
    "for sub in subs:\n",
    "    src = os.path.join(pclean_dir, sub, path_to_graph)\n",
    "    tgt = os.path.join('/neurospin/dico/jlaval/data/manually_labeled_babies/',sub)\n",
    "    os.symlink(src, tgt)"
   ]
  },
  {
   "cell_type": "code",
   "execution_count": null,
   "metadata": {},
   "outputs": [],
   "source": []
  }
 ],
 "metadata": {
  "kernelspec": {
   "display_name": "venv",
   "language": "python",
   "name": "python3"
  },
  "language_info": {
   "codemirror_mode": {
    "name": "ipython",
    "version": 3
   },
   "file_extension": ".py",
   "mimetype": "text/x-python",
   "name": "python",
   "nbconvert_exporter": "python",
   "pygments_lexer": "ipython3",
   "version": "3.10.12"
  },
  "orig_nbformat": 4
 },
 "nbformat": 4,
 "nbformat_minor": 2
}
