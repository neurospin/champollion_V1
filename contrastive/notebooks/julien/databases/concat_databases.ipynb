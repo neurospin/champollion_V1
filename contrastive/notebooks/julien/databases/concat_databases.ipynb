{
 "cells": [
  {
   "cell_type": "code",
   "execution_count": 17,
   "metadata": {},
   "outputs": [],
   "source": [
    "import os\n",
    "import numpy as np\n",
    "import pandas as pd\n",
    "from tqdm import tqdm"
   ]
  },
  {
   "cell_type": "code",
   "execution_count": 19,
   "metadata": {},
   "outputs": [],
   "source": [
    "## concat ABIDE1 and ABIDE2\n",
    "dataset1 = '/neurospin/dico/data/deep_folding/current/datasets/abide1/'\n",
    "dataset2 = '/neurospin/dico/data/deep_folding/current/datasets/abide2/'\n",
    "savedir = '/neurospin/dico/data/deep_folding/current/datasets/aggregate_autism/'"
   ]
  },
  {
   "cell_type": "code",
   "execution_count": 20,
   "metadata": {},
   "outputs": [
    {
     "name": "stdout",
     "output_type": "stream",
     "text": [
      "N regions : 1 : 31, 2 : 31, 3 : 31\n"
     ]
    }
   ],
   "source": [
    "regions1 = os.listdir(f'{dataset1}/crops/2mm/')\n",
    "regions2 = os.listdir(f'{dataset2}/crops/2mm/')\n",
    "regions = set(regions1).intersection(set(regions2))\n",
    "regions = list(regions)\n",
    "print(f'N regions : 1 : {len(regions1)}, 2 : {len(regions2)}, 3 : {len(regions)}')"
   ]
  },
  {
   "cell_type": "code",
   "execution_count": 24,
   "metadata": {},
   "outputs": [
    {
     "name": "stderr",
     "output_type": "stream",
     "text": [
      "100%|██████████| 31/31 [06:44<00:00, 13.06s/it]\n"
     ]
    }
   ],
   "source": [
    "for region in tqdm(regions):\n",
    "    for side in ['L', 'R']:\n",
    "\n",
    "        # load data from region 1 and 2\n",
    "        subs1 = pd.read_csv(f'{dataset1}/crops/2mm/{region}/mask/{side}skeleton_subject.csv')\n",
    "        subs2 = pd.read_csv(f'{dataset2}/crops/2mm/{region}/mask/{side}skeleton_subject.csv')\n",
    "        skels1 = np.load(f'{dataset1}/crops/2mm/{region}/mask/{side}skeleton.npy')\n",
    "        skels2 = np.load(f'{dataset2}/crops/2mm/{region}/mask/{side}skeleton.npy')\n",
    "\n",
    "        subs = pd.concat([subs1, subs2], axis=0)\n",
    "        skels = np.concatenate([skels1, skels2], axis=0)\n",
    "\n",
    "        # save data\n",
    "        # create folder if does not exist\n",
    "        os.makedirs(f'{savedir}/crops/2mm/{region}/mask/', exist_ok=True)\n",
    "        subs.to_csv(f'{savedir}/crops/2mm/{region}/mask/{side}skeleton_subject.csv', index=False)\n",
    "        np.save(f'{savedir}/crops/2mm/{region}/mask/{side}skeleton.npy', skels)"
   ]
  },
  {
   "cell_type": "code",
   "execution_count": null,
   "metadata": {},
   "outputs": [
    {
     "name": "stderr",
     "output_type": "stream",
     "text": [
      "100%|██████████| 31/31 [00:03<00:00, 10.09it/s]\n"
     ]
    }
   ],
   "source": [
    "# copy the masks\n",
    "for region in tqdm(regions):\n",
    "    for side in ['L', 'R']:\n",
    "        mask_dir = f'{savedir}/crops/2mm/{region}/mask/{side}mask_cropped.nii.gz.minf'\n",
    "        # use bash\n",
    "        cp = f'cp /neurospin/dico/data/deep_folding/current/datasets/UkBioBank40/crops/2mm/{region}/mask/{side}mask_cropped.nii.gz.minf {mask_dir}'\n",
    "        os.system(cp)"
   ]
  },
  {
   "cell_type": "code",
   "execution_count": null,
   "metadata": {},
   "outputs": [],
   "source": [
    "# symlinks of the Rcrops / Lcrops"
   ]
  },
  {
   "cell_type": "markdown",
   "metadata": {},
   "source": [
    "format the splits"
   ]
  },
  {
   "cell_type": "code",
   "execution_count": 25,
   "metadata": {},
   "outputs": [],
   "source": [
    "splits = pd.read_csv('/neurospin/dico/data/deep_folding/current/datasets/aggregate_autism/asd_age_sex_diagnosis_site_stratified_10-fold.csv')"
   ]
  },
  {
   "cell_type": "code",
   "execution_count": null,
   "metadata": {},
   "outputs": [],
   "source": [
    "## create the train / val\n",
    "for k in range(10):\n",
    "    subs = splits.loc[splits[f'fold-{k}'] == 'validation']['participant_id']\n",
    "    subs.to_csv(f'{savedir}/splits/train_val_split_{k}.csv', index=False, header=None)"
   ]
  },
  {
   "cell_type": "code",
   "execution_count": null,
   "metadata": {},
   "outputs": [],
   "source": [
    "# test inter\n",
    "subs = splits.loc[splits['set']=='internal_test']['participant_id']\n",
    "subs.to_csv(f'{savedir}/splits/internal_test.csv', index=False, header=None)"
   ]
  },
  {
   "cell_type": "code",
   "execution_count": 44,
   "metadata": {},
   "outputs": [],
   "source": [
    "# test_exter\n",
    "subs = splits.loc[splits['set']=='external_test']['participant_id']\n",
    "subs.to_csv(f'{savedir}/splits/external_test.csv', index=False, header=None)"
   ]
  },
  {
   "cell_type": "markdown",
   "metadata": {},
   "source": [
    "# same with N datasets"
   ]
  },
  {
   "cell_type": "code",
   "execution_count": 18,
   "metadata": {},
   "outputs": [],
   "source": [
    "## bipolar\n",
    "datasets = ['cnp', 'bsnip1', 'biobd', 'candi', 'ACCpatterns']\n",
    "datasets = ['/neurospin/dico/data/deep_folding/current/datasets/' + d for d in datasets]\n",
    "savedir = '/neurospin/dico/data/deep_folding/current/datasets/aggregate_bipolar/'\n",
    "splits_dir = '/neurospin/dico/data/deep_folding/current/datasets/aggregate_bipolar/bd_age_sex_diagnosis_site_stratified_10-fold.csv'"
   ]
  },
  {
   "cell_type": "code",
   "execution_count": 19,
   "metadata": {},
   "outputs": [],
   "source": [
    "## schizophrenia\n",
    "datasets = ['cnp', 'bsnip1', 'candi', 'schizconnect-vip-prague']\n",
    "datasets = ['/neurospin/dico/data/deep_folding/current/datasets/' + d for d in datasets]\n",
    "savedir = '/neurospin/dico/data/deep_folding/current/datasets/aggregate_schizophrenia/'\n",
    "splits_dir = '/neurospin/dico/data/deep_folding/current/datasets/aggregate_schizophrenia/scz_age_sex_diagnosis_site_stratified_10-fold.csv'"
   ]
  },
  {
   "cell_type": "code",
   "execution_count": 20,
   "metadata": {},
   "outputs": [
    {
     "data": {
      "text/plain": [
       "['/neurospin/dico/data/deep_folding/current/datasets/cnp',\n",
       " '/neurospin/dico/data/deep_folding/current/datasets/bsnip1',\n",
       " '/neurospin/dico/data/deep_folding/current/datasets/candi',\n",
       " '/neurospin/dico/data/deep_folding/current/datasets/schizconnect-vip-prague']"
      ]
     },
     "execution_count": 20,
     "metadata": {},
     "output_type": "execute_result"
    }
   ],
   "source": [
    "datasets"
   ]
  },
  {
   "cell_type": "code",
   "execution_count": 24,
   "metadata": {},
   "outputs": [
    {
     "name": "stdout",
     "output_type": "stream",
     "text": [
      "N regions in /neurospin/dico/data/deep_folding/current/datasets/cnp : 30\n",
      "Intersection with /neurospin/dico/data/deep_folding/current/datasets/cnp : 30\n",
      "N regions in /neurospin/dico/data/deep_folding/current/datasets/bsnip1 : 30\n",
      "Intersection with /neurospin/dico/data/deep_folding/current/datasets/cnp : 30\n",
      "N regions in /neurospin/dico/data/deep_folding/current/datasets/candi : 30\n",
      "Intersection with /neurospin/dico/data/deep_folding/current/datasets/cnp : 30\n",
      "N regions in /neurospin/dico/data/deep_folding/current/datasets/schizconnect-vip-prague : 30\n",
      "Intersection with /neurospin/dico/data/deep_folding/current/datasets/cnp : 30\n"
     ]
    }
   ],
   "source": [
    "regions = [os.listdir(f'{dataset}/crops/2mm/') for dataset in datasets]\n",
    "for region, dataset in zip(regions, datasets): \n",
    "    print(f'N regions in {dataset} : {len(region)}')\n",
    "    print(f'Intersection with {datasets[0]} : {len(set(region).intersection(set(regions[0])))}')"
   ]
  },
  {
   "cell_type": "code",
   "execution_count": 7,
   "metadata": {},
   "outputs": [],
   "source": [
    "regions = regions[0] # since all databases have the same regions"
   ]
  },
  {
   "cell_type": "code",
   "execution_count": 37,
   "metadata": {},
   "outputs": [],
   "source": [
    "regions = ['S.T.s.', 'F.Coll.-S.Rh.', 'S.T.i.-S.T.s.-S.T.pol.']"
   ]
  },
  {
   "cell_type": "code",
   "execution_count": 38,
   "metadata": {},
   "outputs": [
    {
     "name": "stderr",
     "output_type": "stream",
     "text": [
      "  0%|          | 0/3 [00:00<?, ?it/s]\n"
     ]
    },
    {
     "ename": "FileNotFoundError",
     "evalue": "[Errno 2] No such file or directory: '/neurospin/dico/data/deep_folding/current/datasets/cnp/crops/2mm/S.T.s/mask/Lskeleton_subject.csv'",
     "output_type": "error",
     "traceback": [
      "\u001b[0;31m---------------------------------------------------------------------------\u001b[0m",
      "\u001b[0;31mFileNotFoundError\u001b[0m                         Traceback (most recent call last)",
      "Cell \u001b[0;32mIn[38], line 11\u001b[0m\n\u001b[1;32m      7\u001b[0m os\u001b[38;5;241m.\u001b[39mmakedirs(\u001b[38;5;124mf\u001b[39m\u001b[38;5;124m'\u001b[39m\u001b[38;5;132;01m{\u001b[39;00msavedir\u001b[38;5;132;01m}\u001b[39;00m\u001b[38;5;124m/crops/2mm/\u001b[39m\u001b[38;5;132;01m{\u001b[39;00mregion\u001b[38;5;132;01m}\u001b[39;00m\u001b[38;5;124m/mask/\u001b[39m\u001b[38;5;132;01m{\u001b[39;00mside\u001b[38;5;132;01m}\u001b[39;00m\u001b[38;5;124mcrops\u001b[39m\u001b[38;5;124m'\u001b[39m, exist_ok\u001b[38;5;241m=\u001b[39m\u001b[38;5;28;01mTrue\u001b[39;00m)\n\u001b[1;32m      9\u001b[0m \u001b[38;5;28;01mfor\u001b[39;00m dataset \u001b[38;5;129;01min\u001b[39;00m datasets:\n\u001b[1;32m     10\u001b[0m     \u001b[38;5;66;03m# load data from region 1 and 2\u001b[39;00m\n\u001b[0;32m---> 11\u001b[0m     subs \u001b[38;5;241m=\u001b[39m \u001b[43mpd\u001b[49m\u001b[38;5;241;43m.\u001b[39;49m\u001b[43mread_csv\u001b[49m\u001b[43m(\u001b[49m\u001b[38;5;124;43mf\u001b[39;49m\u001b[38;5;124;43m'\u001b[39;49m\u001b[38;5;132;43;01m{\u001b[39;49;00m\u001b[43mdataset\u001b[49m\u001b[38;5;132;43;01m}\u001b[39;49;00m\u001b[38;5;124;43m/crops/2mm/\u001b[39;49m\u001b[38;5;132;43;01m{\u001b[39;49;00m\u001b[43mregion\u001b[49m\u001b[38;5;132;43;01m}\u001b[39;49;00m\u001b[38;5;124;43m/mask/\u001b[39;49m\u001b[38;5;132;43;01m{\u001b[39;49;00m\u001b[43mside\u001b[49m\u001b[38;5;132;43;01m}\u001b[39;49;00m\u001b[38;5;124;43mskeleton_subject.csv\u001b[39;49m\u001b[38;5;124;43m'\u001b[39;49m\u001b[43m)\u001b[49m\n\u001b[1;32m     12\u001b[0m     skels \u001b[38;5;241m=\u001b[39m np\u001b[38;5;241m.\u001b[39mload(\u001b[38;5;124mf\u001b[39m\u001b[38;5;124m'\u001b[39m\u001b[38;5;132;01m{\u001b[39;00mdataset\u001b[38;5;132;01m}\u001b[39;00m\u001b[38;5;124m/crops/2mm/\u001b[39m\u001b[38;5;132;01m{\u001b[39;00mregion\u001b[38;5;132;01m}\u001b[39;00m\u001b[38;5;124m/mask/\u001b[39m\u001b[38;5;132;01m{\u001b[39;00mside\u001b[38;5;132;01m}\u001b[39;00m\u001b[38;5;124mskeleton.npy\u001b[39m\u001b[38;5;124m'\u001b[39m)\n\u001b[1;32m     13\u001b[0m     subs_list\u001b[38;5;241m.\u001b[39mappend(subs)\n",
      "File \u001b[0;32m/neurospin/dico/jlaval/Runs_jl277509/2023_jlaval_STSbabies/venv/lib/python3.10/site-packages/pandas/io/parsers/readers.py:1026\u001b[0m, in \u001b[0;36mread_csv\u001b[0;34m(filepath_or_buffer, sep, delimiter, header, names, index_col, usecols, dtype, engine, converters, true_values, false_values, skipinitialspace, skiprows, skipfooter, nrows, na_values, keep_default_na, na_filter, verbose, skip_blank_lines, parse_dates, infer_datetime_format, keep_date_col, date_parser, date_format, dayfirst, cache_dates, iterator, chunksize, compression, thousands, decimal, lineterminator, quotechar, quoting, doublequote, escapechar, comment, encoding, encoding_errors, dialect, on_bad_lines, delim_whitespace, low_memory, memory_map, float_precision, storage_options, dtype_backend)\u001b[0m\n\u001b[1;32m   1013\u001b[0m kwds_defaults \u001b[38;5;241m=\u001b[39m _refine_defaults_read(\n\u001b[1;32m   1014\u001b[0m     dialect,\n\u001b[1;32m   1015\u001b[0m     delimiter,\n\u001b[0;32m   (...)\u001b[0m\n\u001b[1;32m   1022\u001b[0m     dtype_backend\u001b[38;5;241m=\u001b[39mdtype_backend,\n\u001b[1;32m   1023\u001b[0m )\n\u001b[1;32m   1024\u001b[0m kwds\u001b[38;5;241m.\u001b[39mupdate(kwds_defaults)\n\u001b[0;32m-> 1026\u001b[0m \u001b[38;5;28;01mreturn\u001b[39;00m \u001b[43m_read\u001b[49m\u001b[43m(\u001b[49m\u001b[43mfilepath_or_buffer\u001b[49m\u001b[43m,\u001b[49m\u001b[43m \u001b[49m\u001b[43mkwds\u001b[49m\u001b[43m)\u001b[49m\n",
      "File \u001b[0;32m/neurospin/dico/jlaval/Runs_jl277509/2023_jlaval_STSbabies/venv/lib/python3.10/site-packages/pandas/io/parsers/readers.py:620\u001b[0m, in \u001b[0;36m_read\u001b[0;34m(filepath_or_buffer, kwds)\u001b[0m\n\u001b[1;32m    617\u001b[0m _validate_names(kwds\u001b[38;5;241m.\u001b[39mget(\u001b[38;5;124m\"\u001b[39m\u001b[38;5;124mnames\u001b[39m\u001b[38;5;124m\"\u001b[39m, \u001b[38;5;28;01mNone\u001b[39;00m))\n\u001b[1;32m    619\u001b[0m \u001b[38;5;66;03m# Create the parser.\u001b[39;00m\n\u001b[0;32m--> 620\u001b[0m parser \u001b[38;5;241m=\u001b[39m \u001b[43mTextFileReader\u001b[49m\u001b[43m(\u001b[49m\u001b[43mfilepath_or_buffer\u001b[49m\u001b[43m,\u001b[49m\u001b[43m \u001b[49m\u001b[38;5;241;43m*\u001b[39;49m\u001b[38;5;241;43m*\u001b[39;49m\u001b[43mkwds\u001b[49m\u001b[43m)\u001b[49m\n\u001b[1;32m    622\u001b[0m \u001b[38;5;28;01mif\u001b[39;00m chunksize \u001b[38;5;129;01mor\u001b[39;00m iterator:\n\u001b[1;32m    623\u001b[0m     \u001b[38;5;28;01mreturn\u001b[39;00m parser\n",
      "File \u001b[0;32m/neurospin/dico/jlaval/Runs_jl277509/2023_jlaval_STSbabies/venv/lib/python3.10/site-packages/pandas/io/parsers/readers.py:1620\u001b[0m, in \u001b[0;36mTextFileReader.__init__\u001b[0;34m(self, f, engine, **kwds)\u001b[0m\n\u001b[1;32m   1617\u001b[0m     \u001b[38;5;28mself\u001b[39m\u001b[38;5;241m.\u001b[39moptions[\u001b[38;5;124m\"\u001b[39m\u001b[38;5;124mhas_index_names\u001b[39m\u001b[38;5;124m\"\u001b[39m] \u001b[38;5;241m=\u001b[39m kwds[\u001b[38;5;124m\"\u001b[39m\u001b[38;5;124mhas_index_names\u001b[39m\u001b[38;5;124m\"\u001b[39m]\n\u001b[1;32m   1619\u001b[0m \u001b[38;5;28mself\u001b[39m\u001b[38;5;241m.\u001b[39mhandles: IOHandles \u001b[38;5;241m|\u001b[39m \u001b[38;5;28;01mNone\u001b[39;00m \u001b[38;5;241m=\u001b[39m \u001b[38;5;28;01mNone\u001b[39;00m\n\u001b[0;32m-> 1620\u001b[0m \u001b[38;5;28mself\u001b[39m\u001b[38;5;241m.\u001b[39m_engine \u001b[38;5;241m=\u001b[39m \u001b[38;5;28;43mself\u001b[39;49m\u001b[38;5;241;43m.\u001b[39;49m\u001b[43m_make_engine\u001b[49m\u001b[43m(\u001b[49m\u001b[43mf\u001b[49m\u001b[43m,\u001b[49m\u001b[43m \u001b[49m\u001b[38;5;28;43mself\u001b[39;49m\u001b[38;5;241;43m.\u001b[39;49m\u001b[43mengine\u001b[49m\u001b[43m)\u001b[49m\n",
      "File \u001b[0;32m/neurospin/dico/jlaval/Runs_jl277509/2023_jlaval_STSbabies/venv/lib/python3.10/site-packages/pandas/io/parsers/readers.py:1880\u001b[0m, in \u001b[0;36mTextFileReader._make_engine\u001b[0;34m(self, f, engine)\u001b[0m\n\u001b[1;32m   1878\u001b[0m     \u001b[38;5;28;01mif\u001b[39;00m \u001b[38;5;124m\"\u001b[39m\u001b[38;5;124mb\u001b[39m\u001b[38;5;124m\"\u001b[39m \u001b[38;5;129;01mnot\u001b[39;00m \u001b[38;5;129;01min\u001b[39;00m mode:\n\u001b[1;32m   1879\u001b[0m         mode \u001b[38;5;241m+\u001b[39m\u001b[38;5;241m=\u001b[39m \u001b[38;5;124m\"\u001b[39m\u001b[38;5;124mb\u001b[39m\u001b[38;5;124m\"\u001b[39m\n\u001b[0;32m-> 1880\u001b[0m \u001b[38;5;28mself\u001b[39m\u001b[38;5;241m.\u001b[39mhandles \u001b[38;5;241m=\u001b[39m \u001b[43mget_handle\u001b[49m\u001b[43m(\u001b[49m\n\u001b[1;32m   1881\u001b[0m \u001b[43m    \u001b[49m\u001b[43mf\u001b[49m\u001b[43m,\u001b[49m\n\u001b[1;32m   1882\u001b[0m \u001b[43m    \u001b[49m\u001b[43mmode\u001b[49m\u001b[43m,\u001b[49m\n\u001b[1;32m   1883\u001b[0m \u001b[43m    \u001b[49m\u001b[43mencoding\u001b[49m\u001b[38;5;241;43m=\u001b[39;49m\u001b[38;5;28;43mself\u001b[39;49m\u001b[38;5;241;43m.\u001b[39;49m\u001b[43moptions\u001b[49m\u001b[38;5;241;43m.\u001b[39;49m\u001b[43mget\u001b[49m\u001b[43m(\u001b[49m\u001b[38;5;124;43m\"\u001b[39;49m\u001b[38;5;124;43mencoding\u001b[39;49m\u001b[38;5;124;43m\"\u001b[39;49m\u001b[43m,\u001b[49m\u001b[43m \u001b[49m\u001b[38;5;28;43;01mNone\u001b[39;49;00m\u001b[43m)\u001b[49m\u001b[43m,\u001b[49m\n\u001b[1;32m   1884\u001b[0m \u001b[43m    \u001b[49m\u001b[43mcompression\u001b[49m\u001b[38;5;241;43m=\u001b[39;49m\u001b[38;5;28;43mself\u001b[39;49m\u001b[38;5;241;43m.\u001b[39;49m\u001b[43moptions\u001b[49m\u001b[38;5;241;43m.\u001b[39;49m\u001b[43mget\u001b[49m\u001b[43m(\u001b[49m\u001b[38;5;124;43m\"\u001b[39;49m\u001b[38;5;124;43mcompression\u001b[39;49m\u001b[38;5;124;43m\"\u001b[39;49m\u001b[43m,\u001b[49m\u001b[43m \u001b[49m\u001b[38;5;28;43;01mNone\u001b[39;49;00m\u001b[43m)\u001b[49m\u001b[43m,\u001b[49m\n\u001b[1;32m   1885\u001b[0m \u001b[43m    \u001b[49m\u001b[43mmemory_map\u001b[49m\u001b[38;5;241;43m=\u001b[39;49m\u001b[38;5;28;43mself\u001b[39;49m\u001b[38;5;241;43m.\u001b[39;49m\u001b[43moptions\u001b[49m\u001b[38;5;241;43m.\u001b[39;49m\u001b[43mget\u001b[49m\u001b[43m(\u001b[49m\u001b[38;5;124;43m\"\u001b[39;49m\u001b[38;5;124;43mmemory_map\u001b[39;49m\u001b[38;5;124;43m\"\u001b[39;49m\u001b[43m,\u001b[49m\u001b[43m \u001b[49m\u001b[38;5;28;43;01mFalse\u001b[39;49;00m\u001b[43m)\u001b[49m\u001b[43m,\u001b[49m\n\u001b[1;32m   1886\u001b[0m \u001b[43m    \u001b[49m\u001b[43mis_text\u001b[49m\u001b[38;5;241;43m=\u001b[39;49m\u001b[43mis_text\u001b[49m\u001b[43m,\u001b[49m\n\u001b[1;32m   1887\u001b[0m \u001b[43m    \u001b[49m\u001b[43merrors\u001b[49m\u001b[38;5;241;43m=\u001b[39;49m\u001b[38;5;28;43mself\u001b[39;49m\u001b[38;5;241;43m.\u001b[39;49m\u001b[43moptions\u001b[49m\u001b[38;5;241;43m.\u001b[39;49m\u001b[43mget\u001b[49m\u001b[43m(\u001b[49m\u001b[38;5;124;43m\"\u001b[39;49m\u001b[38;5;124;43mencoding_errors\u001b[39;49m\u001b[38;5;124;43m\"\u001b[39;49m\u001b[43m,\u001b[49m\u001b[43m \u001b[49m\u001b[38;5;124;43m\"\u001b[39;49m\u001b[38;5;124;43mstrict\u001b[39;49m\u001b[38;5;124;43m\"\u001b[39;49m\u001b[43m)\u001b[49m\u001b[43m,\u001b[49m\n\u001b[1;32m   1888\u001b[0m \u001b[43m    \u001b[49m\u001b[43mstorage_options\u001b[49m\u001b[38;5;241;43m=\u001b[39;49m\u001b[38;5;28;43mself\u001b[39;49m\u001b[38;5;241;43m.\u001b[39;49m\u001b[43moptions\u001b[49m\u001b[38;5;241;43m.\u001b[39;49m\u001b[43mget\u001b[49m\u001b[43m(\u001b[49m\u001b[38;5;124;43m\"\u001b[39;49m\u001b[38;5;124;43mstorage_options\u001b[39;49m\u001b[38;5;124;43m\"\u001b[39;49m\u001b[43m,\u001b[49m\u001b[43m \u001b[49m\u001b[38;5;28;43;01mNone\u001b[39;49;00m\u001b[43m)\u001b[49m\u001b[43m,\u001b[49m\n\u001b[1;32m   1889\u001b[0m \u001b[43m\u001b[49m\u001b[43m)\u001b[49m\n\u001b[1;32m   1890\u001b[0m \u001b[38;5;28;01massert\u001b[39;00m \u001b[38;5;28mself\u001b[39m\u001b[38;5;241m.\u001b[39mhandles \u001b[38;5;129;01mis\u001b[39;00m \u001b[38;5;129;01mnot\u001b[39;00m \u001b[38;5;28;01mNone\u001b[39;00m\n\u001b[1;32m   1891\u001b[0m f \u001b[38;5;241m=\u001b[39m \u001b[38;5;28mself\u001b[39m\u001b[38;5;241m.\u001b[39mhandles\u001b[38;5;241m.\u001b[39mhandle\n",
      "File \u001b[0;32m/neurospin/dico/jlaval/Runs_jl277509/2023_jlaval_STSbabies/venv/lib/python3.10/site-packages/pandas/io/common.py:873\u001b[0m, in \u001b[0;36mget_handle\u001b[0;34m(path_or_buf, mode, encoding, compression, memory_map, is_text, errors, storage_options)\u001b[0m\n\u001b[1;32m    868\u001b[0m \u001b[38;5;28;01melif\u001b[39;00m \u001b[38;5;28misinstance\u001b[39m(handle, \u001b[38;5;28mstr\u001b[39m):\n\u001b[1;32m    869\u001b[0m     \u001b[38;5;66;03m# Check whether the filename is to be opened in binary mode.\u001b[39;00m\n\u001b[1;32m    870\u001b[0m     \u001b[38;5;66;03m# Binary mode does not support 'encoding' and 'newline'.\u001b[39;00m\n\u001b[1;32m    871\u001b[0m     \u001b[38;5;28;01mif\u001b[39;00m ioargs\u001b[38;5;241m.\u001b[39mencoding \u001b[38;5;129;01mand\u001b[39;00m \u001b[38;5;124m\"\u001b[39m\u001b[38;5;124mb\u001b[39m\u001b[38;5;124m\"\u001b[39m \u001b[38;5;129;01mnot\u001b[39;00m \u001b[38;5;129;01min\u001b[39;00m ioargs\u001b[38;5;241m.\u001b[39mmode:\n\u001b[1;32m    872\u001b[0m         \u001b[38;5;66;03m# Encoding\u001b[39;00m\n\u001b[0;32m--> 873\u001b[0m         handle \u001b[38;5;241m=\u001b[39m \u001b[38;5;28;43mopen\u001b[39;49m\u001b[43m(\u001b[49m\n\u001b[1;32m    874\u001b[0m \u001b[43m            \u001b[49m\u001b[43mhandle\u001b[49m\u001b[43m,\u001b[49m\n\u001b[1;32m    875\u001b[0m \u001b[43m            \u001b[49m\u001b[43mioargs\u001b[49m\u001b[38;5;241;43m.\u001b[39;49m\u001b[43mmode\u001b[49m\u001b[43m,\u001b[49m\n\u001b[1;32m    876\u001b[0m \u001b[43m            \u001b[49m\u001b[43mencoding\u001b[49m\u001b[38;5;241;43m=\u001b[39;49m\u001b[43mioargs\u001b[49m\u001b[38;5;241;43m.\u001b[39;49m\u001b[43mencoding\u001b[49m\u001b[43m,\u001b[49m\n\u001b[1;32m    877\u001b[0m \u001b[43m            \u001b[49m\u001b[43merrors\u001b[49m\u001b[38;5;241;43m=\u001b[39;49m\u001b[43merrors\u001b[49m\u001b[43m,\u001b[49m\n\u001b[1;32m    878\u001b[0m \u001b[43m            \u001b[49m\u001b[43mnewline\u001b[49m\u001b[38;5;241;43m=\u001b[39;49m\u001b[38;5;124;43m\"\u001b[39;49m\u001b[38;5;124;43m\"\u001b[39;49m\u001b[43m,\u001b[49m\n\u001b[1;32m    879\u001b[0m \u001b[43m        \u001b[49m\u001b[43m)\u001b[49m\n\u001b[1;32m    880\u001b[0m     \u001b[38;5;28;01melse\u001b[39;00m:\n\u001b[1;32m    881\u001b[0m         \u001b[38;5;66;03m# Binary mode\u001b[39;00m\n\u001b[1;32m    882\u001b[0m         handle \u001b[38;5;241m=\u001b[39m \u001b[38;5;28mopen\u001b[39m(handle, ioargs\u001b[38;5;241m.\u001b[39mmode)\n",
      "\u001b[0;31mFileNotFoundError\u001b[0m: [Errno 2] No such file or directory: '/neurospin/dico/data/deep_folding/current/datasets/cnp/crops/2mm/S.T.s/mask/Lskeleton_subject.csv'"
     ]
    }
   ],
   "source": [
    "for region in tqdm(regions):\n",
    "    for side in ['L', 'R']:\n",
    "        subs_list = []\n",
    "        skels_list = []\n",
    "        \n",
    "        # create folder if does not exist\n",
    "        os.makedirs(f'{savedir}/crops/2mm/{region}/mask/{side}crops', exist_ok=True)\n",
    "        \n",
    "        for dataset in datasets:\n",
    "            # load data from region 1 and 2\n",
    "            subs = pd.read_csv(f'{dataset}/crops/2mm/{region}/mask/{side}skeleton_subject.csv')\n",
    "            skels = np.load(f'{dataset}/crops/2mm/{region}/mask/{side}skeleton.npy')\n",
    "            subs_list.append(subs)\n",
    "            skels_list.append(skels)\n",
    "\n",
    "            # create symlink of Lcrops / Rcrops for each sub\n",
    "            for sub in subs.Subject:\n",
    "                if not os.path.isfile(f'{savedir}/crops/2mm/{region}/mask/{side}crops/{sub}_cropped_skeleton.nii.gz'):\n",
    "                    os.symlink(f'{dataset}/crops/2mm/{region}/mask/{side}crops/{sub}_cropped_skeleton.nii.gz' , f'{savedir}/crops/2mm/{region}/mask/{side}crops/{sub}_cropped_skeleton.nii.gz')\n",
    "                    os.symlink(f'{dataset}/crops/2mm/{region}/mask/{side}crops/{sub}_cropped_skeleton.nii.gz.minf' , f'{savedir}/crops/2mm/{region}/mask/{side}crops/{sub}_cropped_skeleton.nii.gz.minf')\n",
    "\n",
    "        # concatenate all data\n",
    "        subs = pd.concat(subs_list, axis=0)\n",
    "        skels = np.concatenate(skels_list, axis=0)\n",
    "\n",
    "        # save data\n",
    "        # create folder if does not exist\n",
    "        #os.makedirs(f'{savedir}/crops/2mm/{region}/mask/', exist_ok=True)\n",
    "        subs.to_csv(f'{savedir}/crops/2mm/{region}/mask/{side}skeleton_subject.csv', index=False)\n",
    "        np.save(f'{savedir}/crops/2mm/{region}/mask/{side}skeleton.npy', skels)"
   ]
  },
  {
   "cell_type": "code",
   "execution_count": 30,
   "metadata": {},
   "outputs": [
    {
     "name": "stderr",
     "output_type": "stream",
     "text": [
      "100%|██████████| 30/30 [00:04<00:00,  6.41it/s]\n"
     ]
    }
   ],
   "source": [
    "# copy the masks\n",
    "for region in tqdm(regions):\n",
    "    for side in ['L', 'R']:\n",
    "        mask_dir = f'{savedir}/crops/2mm/{region}/mask/{side}mask_cropped.nii.gz.minf'\n",
    "        # use bash\n",
    "        cp = f'cp /neurospin/dico/data/deep_folding/current/datasets/UkBioBank40/crops/2mm/{region}/mask/{side}mask_cropped.nii.gz.minf {mask_dir}'\n",
    "        os.system(cp)"
   ]
  },
  {
   "cell_type": "code",
   "execution_count": 26,
   "metadata": {},
   "outputs": [],
   "source": [
    "splits = pd.read_csv(splits_dir)"
   ]
  },
  {
   "cell_type": "code",
   "execution_count": 27,
   "metadata": {},
   "outputs": [
    {
     "name": "stdout",
     "output_type": "stream",
     "text": [
      "104\n",
      "105\n",
      "104\n",
      "105\n",
      "105\n",
      "104\n",
      "104\n",
      "105\n",
      "104\n",
      "104\n"
     ]
    }
   ],
   "source": [
    "## create the train / val\n",
    "for k in range(10):\n",
    "    subs = splits.loc[splits[f'fold-{k}'] == 'validation']['participant_id']\n",
    "    print(len(subs))\n",
    "    subs.to_csv(f'{savedir}/splits/train_val_split_{k}.csv', index=False, header=None)"
   ]
  },
  {
   "cell_type": "code",
   "execution_count": 28,
   "metadata": {},
   "outputs": [
    {
     "name": "stdout",
     "output_type": "stream",
     "text": [
      "118\n"
     ]
    }
   ],
   "source": [
    "# test inter\n",
    "subs = splits.loc[splits['set']=='internal_test']['participant_id']\n",
    "print(len(subs))\n",
    "subs.to_csv(f'{savedir}/splits/internal_test.csv', index=False, header=None)"
   ]
  },
  {
   "cell_type": "code",
   "execution_count": 29,
   "metadata": {},
   "outputs": [
    {
     "name": "stdout",
     "output_type": "stream",
     "text": [
      "130\n"
     ]
    }
   ],
   "source": [
    "# test_exter\n",
    "subs = splits.loc[splits['set']=='external_test']['participant_id']\n",
    "print(len(subs))\n",
    "subs.to_csv(f'{savedir}/splits/external_test.csv', index=False, header=None)"
   ]
  },
  {
   "cell_type": "code",
   "execution_count": null,
   "metadata": {},
   "outputs": [],
   "source": []
  }
 ],
 "metadata": {
  "kernelspec": {
   "display_name": "venv",
   "language": "python",
   "name": "python3"
  },
  "language_info": {
   "codemirror_mode": {
    "name": "ipython",
    "version": 3
   },
   "file_extension": ".py",
   "mimetype": "text/x-python",
   "name": "python",
   "nbconvert_exporter": "python",
   "pygments_lexer": "ipython3",
   "version": "3.10.12"
  }
 },
 "nbformat": 4,
 "nbformat_minor": 2
}
