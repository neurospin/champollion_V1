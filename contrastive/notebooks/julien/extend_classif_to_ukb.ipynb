{
 "cells": [
  {
   "cell_type": "code",
   "execution_count": 82,
   "metadata": {},
   "outputs": [],
   "source": [
    "import numpy as np\n",
    "import os\n",
    "import pandas as pd\n",
    "from sklearn.linear_model import LogisticRegression\n",
    "import matplotlib.pyplot as plt"
   ]
  },
  {
   "cell_type": "code",
   "execution_count": 159,
   "metadata": {},
   "outputs": [
    {
     "name": "stdout",
     "output_type": "stream",
     "text": [
      "Treating label : Left_FIP\n",
      "(312, 32) (312,)\n"
     ]
    }
   ],
   "source": [
    "#model_dir = '/neurospin/dico/jlaval/Output/5_models_FIP_right_3_layer_proj/pepper_05_4'\n",
    "#model_dir = '/neurospin/dico/jlaval/Output/FIP_right_ConvNet_v1/16-48-07_3'\n",
    "model_dir = '/neurospin/dico/jlaval/Output/5_models_FIP_left_3_layer_proj/16-34-28_4'\n",
    "labels = pd.read_csv('/neurospin/dico/data/deep_folding/current/datasets/hcp/FIP/FIP_labels.csv')\n",
    "embs = pd.read_csv(os.path.join(model_dir, 'FIP_left_custom_embeddings/custom_cross_val_embeddings.csv'))\n",
    "dims = embs.columns[1:].tolist()\n",
    "cols = ['Subject'] + dims\n",
    "embs.columns = cols\n",
    "ukb_embs = pd.read_csv(os.path.join(model_dir, 'ukb40_random_embeddings/full_embeddings.csv'))\n",
    "ukb_embs_np = ukb_embs[dims].to_numpy()\n",
    "## labels\n",
    "#label_list = ['Right_FIP']\n",
    "label_list = ['Left_FIP']\n",
    "\n",
    "for label in label_list:\n",
    "    # train logistic on embs\n",
    "    print(f'Treating label : {label}')\n",
    "    model = LogisticRegression(max_iter=1000, random_state=0)\n",
    "    df = embs.merge(labels, on='Subject')\n",
    "    Y = df[label].to_numpy()\n",
    "    X = df[dims].to_numpy()\n",
    "    print(X.shape, Y.shape)\n",
    "\n",
    "    model.fit(X,Y)\n",
    "\n",
    "    ukb_probas = model.predict_proba(ukb_embs_np)\n",
    "\n",
    "    df_ukb = pd.DataFrame({'Subject': ukb_embs.ID, 'probas': ukb_probas[:, 1]})\n",
    "\n",
    "    save_dir = os.path.join(model_dir, f'ukb40_random_embeddings/{label}')\n",
    "    if not os.path.isdir(save_dir):\n",
    "        os.mkdir(save_dir)\n",
    "    df_ukb.to_csv(os.path.join(save_dir, 'ukb_probas.csv'), index=False)"
   ]
  },
  {
   "cell_type": "code",
   "execution_count": 160,
   "metadata": {},
   "outputs": [
    {
     "data": {
      "text/plain": [
       "(312,)"
      ]
     },
     "execution_count": 160,
     "metadata": {},
     "output_type": "execute_result"
    }
   ],
   "source": [
    "model.predict_proba(X)[:, 1].reshape(-1).shape"
   ]
  },
  {
   "cell_type": "code",
   "execution_count": 161,
   "metadata": {},
   "outputs": [
    {
     "data": {
      "text/plain": [
       "(array([ 9530.,  3145.,  2195.,  1842.,  1732.,  1874.,  2013.,  2478.,\n",
       "         3997., 13627.]),\n",
       " array([2.78032733e-04, 1.00244553e-01, 2.00211074e-01, 3.00177595e-01,\n",
       "        4.00144115e-01, 5.00110636e-01, 6.00077156e-01, 7.00043677e-01,\n",
       "        8.00010198e-01, 8.99976718e-01, 9.99943239e-01]),\n",
       " <BarContainer object of 10 artists>)"
      ]
     },
     "execution_count": 161,
     "metadata": {},
     "output_type": "execute_result"
    },
    {
     "data": {
      "image/png": "[encoded data removed]",
      "text/plain": [
       "<Figure size 432x288 with 1 Axes>"
      ]
     },
     "metadata": {
      "needs_background": "light"
     },
     "output_type": "display_data"
    }
   ],
   "source": [
    "plt.hist(ukb_probas[:, 1])"
   ]
  },
  {
   "cell_type": "markdown",
   "metadata": {},
   "source": [
    "The model is very confident on the interrupted sulci (in the right IPS), whereas the non interrupted look more similar than the interrupted ?"
   ]
  },
  {
   "cell_type": "code",
   "execution_count": null,
   "metadata": {},
   "outputs": [],
   "source": []
  }
 ],
 "metadata": {
  "kernelspec": {
   "display_name": "Python 3",
   "language": "python",
   "name": "python3"
  },
  "language_info": {
   "codemirror_mode": {
    "name": "ipython",
    "version": 3
   },
   "file_extension": ".py",
   "mimetype": "text/x-python",
   "name": "python",
   "nbconvert_exporter": "python",
   "pygments_lexer": "ipython3",
   "version": "3.10.12"
  }
 },
 "nbformat": 4,
 "nbformat_minor": 2
}
