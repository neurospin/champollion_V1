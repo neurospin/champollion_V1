{
 "cells": [
  {
   "cell_type": "code",
   "execution_count": 1,
   "metadata": {},
   "outputs": [
    {
     "name": "stderr",
     "output_type": "stream",
     "text": [
      "/usr/lib/python3/dist-packages/scipy/__init__.py:146: UserWarning: A NumPy version >=1.17.3 and <1.25.0 is required for this version of SciPy (detected version 1.26.4\n",
      "  warnings.warn(f\"A NumPy version >={np_minversion} and <{np_maxversion}\"\n"
     ]
    },
    {
     "name": "stdout",
     "output_type": "stream",
     "text": [
      "global modules: /casa/host/build/share/anatomist-5.2/python_plugins\n",
      "home   modules: /casa/home/.anatomist/python_plugins\n",
      "loading module volumepalettes\n",
      "loading module paletteViewer\n",
      "loading module modelGraphs\n",
      "loading module infowindow\n",
      "loading module profilewindow\n",
      "loading module bsa_proba\n",
      "loading module meshsplit\n",
      "loading module selection\n",
      "loading module anacontrolmenu\n",
      "loading module gltf_io\n",
      "loading module ana_image_math\n",
      "loading module palettecontrols\n",
      "\n",
      "loading of module palettecontrols failed:\n",
      "ImportError : cannot import name 'MiniPaletteGraphics' from 'anatomist.cpp' (/casa/host/build/python/anatomist/cpp/__init__.py)\n",
      "traceback:\n",
      "/casa/host/build/python/anatomist/cpp/__init__.py ( 405 ) in __init__ :\n",
      "six.exec_('import ' + x, {}, {})\n",
      "<string> ( 1 ) in <module> :\n",
      "\n",
      "/casa/host/build/share/anatomist-5.2/python_plugins/palettecontrols.py ( 41 ) in <module> :\n",
      "from anatomist.cpp import palettecontrastaction  # noqa: F401\n",
      "/casa/host/build/python/anatomist/cpp/palettecontrastaction.py ( 41 ) in <module> :\n",
      "from anatomist.cpp import MiniPaletteGraphics\n",
      "\n",
      "loading module statsplotwindow\n",
      "loading module foldsplit\n",
      "loading module histogram\n",
      "loading module save_resampled\n",
      "loading module simple_controls\n",
      "loading module valuesplotwindow\n",
      "loading module gradientpalette\n",
      "all python modules loaded\n",
      "Anatomist started.\n"
     ]
    }
   ],
   "source": [
    "import anatomist.api as ana\n",
    "from soma.qt_gui.qtThread import QtThreadCall\n",
    "from soma.qt_gui.qt_backend import Qt\n",
    "\n",
    "a = ana.Anatomist()\n",
    "\n",
    "from soma import aims\n",
    "import pandas as pd\n",
    "import numpy as np\n",
    "import os"
   ]
  },
  {
   "cell_type": "markdown",
   "metadata": {},
   "source": [
    "#### To visualize specific crops after a projection"
   ]
  },
  {
   "cell_type": "code",
   "execution_count": 2,
   "metadata": {},
   "outputs": [],
   "source": [
    "dataset = 'UkBioBank40'\n",
    "region = \"S.Or.\"\n",
    "side = \"L\"\n",
    "\n",
    "bucket_path = f'/neurospin/dico/data/deep_folding/current/datasets/{dataset}/crops/2mm/{region}/mask/{side}buckets'\n",
    "mm_skeleton_path = f'/neurospin/dico/data/deep_folding/current/datasets/{dataset}/crops/2mm/{region}/mask/{side}crops'"
   ]
  },
  {
   "cell_type": "code",
   "execution_count": 3,
   "metadata": {},
   "outputs": [
    {
     "ename": "FileNotFoundError",
     "evalue": "[Errno 2] No such file or directory: '/volatile/ad279118/Imaging_Genetics_2025/UKB_cingulate_pred/UKB_left_pred.csv'",
     "output_type": "error",
     "traceback": [
      "\u001b[0;31m---------------------------------------------------------------------------\u001b[0m",
      "\u001b[0;31mFileNotFoundError\u001b[0m                         Traceback (most recent call last)",
      "\u001b[0;32m<ipython-input-3-96f7150ff59d>\u001b[0m in \u001b[0;36m<module>\u001b[0;34m\u001b[0m\n\u001b[1;32m      2\u001b[0m \u001b[0;31m#sorted_phenotype = pd.read_csv('/volatile/ad279118/Irene/MOSTEST/Results/Imaging_Genetics/25irene_AD_CINGULATE_val/results/ChampollionV0/CINGULATE_left/09-35-58_201/white.British.ancestry/Sorted_projection/regression_on_latent/rs2009778_T.csv')\u001b[0m\u001b[0;34m\u001b[0m\u001b[0;34m\u001b[0m\u001b[0m\n\u001b[1;32m      3\u001b[0m \u001b[0;31m#sorted_phenotype = pd.read_csv('/volatile/ad279118/Irene/MOSTEST/Results/Imaging_Genetics/25irene_AD_CINGULATE_val/results/ChampollionV0/CINGULATE_left/09-35-58_201/white.British.ancestry/Sorted_projection/regression_on_latent/rs12951057_G.csv')\u001b[0m\u001b[0;34m\u001b[0m\u001b[0;34m\u001b[0m\u001b[0m\n\u001b[0;32m----> 4\u001b[0;31m \u001b[0msorted_phenotype\u001b[0m \u001b[0;34m=\u001b[0m \u001b[0mpd\u001b[0m\u001b[0;34m.\u001b[0m\u001b[0mread_csv\u001b[0m\u001b[0;34m(\u001b[0m\u001b[0;34m'/volatile/ad279118/Imaging_Genetics_2025/UKB_cingulate_pred/UKB_left_pred.csv'\u001b[0m\u001b[0;34m)\u001b[0m\u001b[0;34m\u001b[0m\u001b[0;34m\u001b[0m\u001b[0m\n\u001b[0m\u001b[1;32m      5\u001b[0m \u001b[0msorted_phenotype\u001b[0m \u001b[0;34m=\u001b[0m \u001b[0msorted_phenotype\u001b[0m\u001b[0;34m.\u001b[0m\u001b[0msort_values\u001b[0m\u001b[0;34m(\u001b[0m\u001b[0mby\u001b[0m\u001b[0;34m=\u001b[0m\u001b[0;34m'Left_Prob_Pred'\u001b[0m\u001b[0;34m)\u001b[0m\u001b[0;34m\u001b[0m\u001b[0;34m\u001b[0m\u001b[0m\n\u001b[1;32m      6\u001b[0m \u001b[0msorted_phenotype\u001b[0m\u001b[0;34m.\u001b[0m\u001b[0mIID\u001b[0m \u001b[0;34m=\u001b[0m \u001b[0msorted_phenotype\u001b[0m\u001b[0;34m[\u001b[0m\u001b[0;34m'IID'\u001b[0m\u001b[0;34m]\u001b[0m\u001b[0;34m.\u001b[0m\u001b[0mapply\u001b[0m\u001b[0;34m(\u001b[0m\u001b[0;32mlambda\u001b[0m \u001b[0mx\u001b[0m \u001b[0;34m:\u001b[0m \u001b[0;34m'sub-'\u001b[0m\u001b[0;34m+\u001b[0m\u001b[0mstr\u001b[0m\u001b[0;34m(\u001b[0m\u001b[0mx\u001b[0m\u001b[0;34m)\u001b[0m\u001b[0;34m)\u001b[0m\u001b[0;34m\u001b[0m\u001b[0;34m\u001b[0m\u001b[0m\n",
      "\u001b[0;32m/usr/lib/python3/dist-packages/pandas/util/_decorators.py\u001b[0m in \u001b[0;36mwrapper\u001b[0;34m(*args, **kwargs)\u001b[0m\n\u001b[1;32m    309\u001b[0m                     \u001b[0mstacklevel\u001b[0m\u001b[0;34m=\u001b[0m\u001b[0mstacklevel\u001b[0m\u001b[0;34m,\u001b[0m\u001b[0;34m\u001b[0m\u001b[0;34m\u001b[0m\u001b[0m\n\u001b[1;32m    310\u001b[0m                 )\n\u001b[0;32m--> 311\u001b[0;31m             \u001b[0;32mreturn\u001b[0m \u001b[0mfunc\u001b[0m\u001b[0;34m(\u001b[0m\u001b[0;34m*\u001b[0m\u001b[0margs\u001b[0m\u001b[0;34m,\u001b[0m \u001b[0;34m**\u001b[0m\u001b[0mkwargs\u001b[0m\u001b[0;34m)\u001b[0m\u001b[0;34m\u001b[0m\u001b[0;34m\u001b[0m\u001b[0m\n\u001b[0m\u001b[1;32m    312\u001b[0m \u001b[0;34m\u001b[0m\u001b[0m\n\u001b[1;32m    313\u001b[0m         \u001b[0;32mreturn\u001b[0m \u001b[0mwrapper\u001b[0m\u001b[0;34m\u001b[0m\u001b[0;34m\u001b[0m\u001b[0m\n",
      "\u001b[0;32m/usr/lib/python3/dist-packages/pandas/io/parsers/readers.py\u001b[0m in \u001b[0;36mread_csv\u001b[0;34m(filepath_or_buffer, sep, delimiter, header, names, index_col, usecols, squeeze, prefix, mangle_dupe_cols, dtype, engine, converters, true_values, false_values, skipinitialspace, skiprows, skipfooter, nrows, na_values, keep_default_na, na_filter, verbose, skip_blank_lines, parse_dates, infer_datetime_format, keep_date_col, date_parser, dayfirst, cache_dates, iterator, chunksize, compression, thousands, decimal, lineterminator, quotechar, quoting, doublequote, escapechar, comment, encoding, encoding_errors, dialect, error_bad_lines, warn_bad_lines, on_bad_lines, delim_whitespace, low_memory, memory_map, float_precision, storage_options)\u001b[0m\n\u001b[1;32m    584\u001b[0m     \u001b[0mkwds\u001b[0m\u001b[0;34m.\u001b[0m\u001b[0mupdate\u001b[0m\u001b[0;34m(\u001b[0m\u001b[0mkwds_defaults\u001b[0m\u001b[0;34m)\u001b[0m\u001b[0;34m\u001b[0m\u001b[0;34m\u001b[0m\u001b[0m\n\u001b[1;32m    585\u001b[0m \u001b[0;34m\u001b[0m\u001b[0m\n\u001b[0;32m--> 586\u001b[0;31m     \u001b[0;32mreturn\u001b[0m \u001b[0m_read\u001b[0m\u001b[0;34m(\u001b[0m\u001b[0mfilepath_or_buffer\u001b[0m\u001b[0;34m,\u001b[0m \u001b[0mkwds\u001b[0m\u001b[0;34m)\u001b[0m\u001b[0;34m\u001b[0m\u001b[0;34m\u001b[0m\u001b[0m\n\u001b[0m\u001b[1;32m    587\u001b[0m \u001b[0;34m\u001b[0m\u001b[0m\n\u001b[1;32m    588\u001b[0m \u001b[0;34m\u001b[0m\u001b[0m\n",
      "\u001b[0;32m/usr/lib/python3/dist-packages/pandas/io/parsers/readers.py\u001b[0m in \u001b[0;36m_read\u001b[0;34m(filepath_or_buffer, kwds)\u001b[0m\n\u001b[1;32m    480\u001b[0m \u001b[0;34m\u001b[0m\u001b[0m\n\u001b[1;32m    481\u001b[0m     \u001b[0;31m# Create the parser.\u001b[0m\u001b[0;34m\u001b[0m\u001b[0;34m\u001b[0m\u001b[0m\n\u001b[0;32m--> 482\u001b[0;31m     \u001b[0mparser\u001b[0m \u001b[0;34m=\u001b[0m \u001b[0mTextFileReader\u001b[0m\u001b[0;34m(\u001b[0m\u001b[0mfilepath_or_buffer\u001b[0m\u001b[0;34m,\u001b[0m \u001b[0;34m**\u001b[0m\u001b[0mkwds\u001b[0m\u001b[0;34m)\u001b[0m\u001b[0;34m\u001b[0m\u001b[0;34m\u001b[0m\u001b[0m\n\u001b[0m\u001b[1;32m    483\u001b[0m \u001b[0;34m\u001b[0m\u001b[0m\n\u001b[1;32m    484\u001b[0m     \u001b[0;32mif\u001b[0m \u001b[0mchunksize\u001b[0m \u001b[0;32mor\u001b[0m \u001b[0miterator\u001b[0m\u001b[0;34m:\u001b[0m\u001b[0;34m\u001b[0m\u001b[0;34m\u001b[0m\u001b[0m\n",
      "\u001b[0;32m/usr/lib/python3/dist-packages/pandas/io/parsers/readers.py\u001b[0m in \u001b[0;36m__init__\u001b[0;34m(self, f, engine, **kwds)\u001b[0m\n\u001b[1;32m    809\u001b[0m             \u001b[0mself\u001b[0m\u001b[0;34m.\u001b[0m\u001b[0moptions\u001b[0m\u001b[0;34m[\u001b[0m\u001b[0;34m\"has_index_names\"\u001b[0m\u001b[0;34m]\u001b[0m \u001b[0;34m=\u001b[0m \u001b[0mkwds\u001b[0m\u001b[0;34m[\u001b[0m\u001b[0;34m\"has_index_names\"\u001b[0m\u001b[0;34m]\u001b[0m\u001b[0;34m\u001b[0m\u001b[0;34m\u001b[0m\u001b[0m\n\u001b[1;32m    810\u001b[0m \u001b[0;34m\u001b[0m\u001b[0m\n\u001b[0;32m--> 811\u001b[0;31m         \u001b[0mself\u001b[0m\u001b[0;34m.\u001b[0m\u001b[0m_engine\u001b[0m \u001b[0;34m=\u001b[0m \u001b[0mself\u001b[0m\u001b[0;34m.\u001b[0m\u001b[0m_make_engine\u001b[0m\u001b[0;34m(\u001b[0m\u001b[0mself\u001b[0m\u001b[0;34m.\u001b[0m\u001b[0mengine\u001b[0m\u001b[0;34m)\u001b[0m\u001b[0;34m\u001b[0m\u001b[0;34m\u001b[0m\u001b[0m\n\u001b[0m\u001b[1;32m    812\u001b[0m \u001b[0;34m\u001b[0m\u001b[0m\n\u001b[1;32m    813\u001b[0m     \u001b[0;32mdef\u001b[0m \u001b[0mclose\u001b[0m\u001b[0;34m(\u001b[0m\u001b[0mself\u001b[0m\u001b[0;34m)\u001b[0m\u001b[0;34m:\u001b[0m\u001b[0;34m\u001b[0m\u001b[0;34m\u001b[0m\u001b[0m\n",
      "\u001b[0;32m/usr/lib/python3/dist-packages/pandas/io/parsers/readers.py\u001b[0m in \u001b[0;36m_make_engine\u001b[0;34m(self, engine)\u001b[0m\n\u001b[1;32m   1038\u001b[0m             )\n\u001b[1;32m   1039\u001b[0m         \u001b[0;31m# error: Too many arguments for \"ParserBase\"\u001b[0m\u001b[0;34m\u001b[0m\u001b[0;34m\u001b[0m\u001b[0m\n\u001b[0;32m-> 1040\u001b[0;31m         \u001b[0;32mreturn\u001b[0m \u001b[0mmapping\u001b[0m\u001b[0;34m[\u001b[0m\u001b[0mengine\u001b[0m\u001b[0;34m]\u001b[0m\u001b[0;34m(\u001b[0m\u001b[0mself\u001b[0m\u001b[0;34m.\u001b[0m\u001b[0mf\u001b[0m\u001b[0;34m,\u001b[0m \u001b[0;34m**\u001b[0m\u001b[0mself\u001b[0m\u001b[0;34m.\u001b[0m\u001b[0moptions\u001b[0m\u001b[0;34m)\u001b[0m  \u001b[0;31m# type: ignore[call-arg]\u001b[0m\u001b[0;34m\u001b[0m\u001b[0;34m\u001b[0m\u001b[0m\n\u001b[0m\u001b[1;32m   1041\u001b[0m \u001b[0;34m\u001b[0m\u001b[0m\n\u001b[1;32m   1042\u001b[0m     \u001b[0;32mdef\u001b[0m \u001b[0m_failover_to_python\u001b[0m\u001b[0;34m(\u001b[0m\u001b[0mself\u001b[0m\u001b[0;34m)\u001b[0m\u001b[0;34m:\u001b[0m\u001b[0;34m\u001b[0m\u001b[0;34m\u001b[0m\u001b[0m\n",
      "\u001b[0;32m/usr/lib/python3/dist-packages/pandas/io/parsers/c_parser_wrapper.py\u001b[0m in \u001b[0;36m__init__\u001b[0;34m(self, src, **kwds)\u001b[0m\n\u001b[1;32m     49\u001b[0m \u001b[0;34m\u001b[0m\u001b[0m\n\u001b[1;32m     50\u001b[0m         \u001b[0;31m# open handles\u001b[0m\u001b[0;34m\u001b[0m\u001b[0;34m\u001b[0m\u001b[0m\n\u001b[0;32m---> 51\u001b[0;31m         \u001b[0mself\u001b[0m\u001b[0;34m.\u001b[0m\u001b[0m_open_handles\u001b[0m\u001b[0;34m(\u001b[0m\u001b[0msrc\u001b[0m\u001b[0;34m,\u001b[0m \u001b[0mkwds\u001b[0m\u001b[0;34m)\u001b[0m\u001b[0;34m\u001b[0m\u001b[0;34m\u001b[0m\u001b[0m\n\u001b[0m\u001b[1;32m     52\u001b[0m         \u001b[0;32massert\u001b[0m \u001b[0mself\u001b[0m\u001b[0;34m.\u001b[0m\u001b[0mhandles\u001b[0m \u001b[0;32mis\u001b[0m \u001b[0;32mnot\u001b[0m \u001b[0;32mNone\u001b[0m\u001b[0;34m\u001b[0m\u001b[0;34m\u001b[0m\u001b[0m\n\u001b[1;32m     53\u001b[0m \u001b[0;34m\u001b[0m\u001b[0m\n",
      "\u001b[0;32m/usr/lib/python3/dist-packages/pandas/io/parsers/base_parser.py\u001b[0m in \u001b[0;36m_open_handles\u001b[0;34m(self, src, kwds)\u001b[0m\n\u001b[1;32m    220\u001b[0m         \u001b[0mLet\u001b[0m \u001b[0mthe\u001b[0m \u001b[0mreaders\u001b[0m \u001b[0mopen\u001b[0m \u001b[0mIOHandles\u001b[0m \u001b[0mafter\u001b[0m \u001b[0mthey\u001b[0m \u001b[0mare\u001b[0m \u001b[0mdone\u001b[0m \u001b[0;32mwith\u001b[0m \u001b[0mtheir\u001b[0m \u001b[0mpotential\u001b[0m \u001b[0mraises\u001b[0m\u001b[0;34m.\u001b[0m\u001b[0;34m\u001b[0m\u001b[0;34m\u001b[0m\u001b[0m\n\u001b[1;32m    221\u001b[0m         \"\"\"\n\u001b[0;32m--> 222\u001b[0;31m         self.handles = get_handle(\n\u001b[0m\u001b[1;32m    223\u001b[0m             \u001b[0msrc\u001b[0m\u001b[0;34m,\u001b[0m\u001b[0;34m\u001b[0m\u001b[0;34m\u001b[0m\u001b[0m\n\u001b[1;32m    224\u001b[0m             \u001b[0;34m\"r\"\u001b[0m\u001b[0;34m,\u001b[0m\u001b[0;34m\u001b[0m\u001b[0;34m\u001b[0m\u001b[0m\n",
      "\u001b[0;32m/usr/lib/python3/dist-packages/pandas/io/common.py\u001b[0m in \u001b[0;36mget_handle\u001b[0;34m(path_or_buf, mode, encoding, compression, memory_map, is_text, errors, storage_options)\u001b[0m\n\u001b[1;32m    700\u001b[0m         \u001b[0;32mif\u001b[0m \u001b[0mioargs\u001b[0m\u001b[0;34m.\u001b[0m\u001b[0mencoding\u001b[0m \u001b[0;32mand\u001b[0m \u001b[0;34m\"b\"\u001b[0m \u001b[0;32mnot\u001b[0m \u001b[0;32min\u001b[0m \u001b[0mioargs\u001b[0m\u001b[0;34m.\u001b[0m\u001b[0mmode\u001b[0m\u001b[0;34m:\u001b[0m\u001b[0;34m\u001b[0m\u001b[0;34m\u001b[0m\u001b[0m\n\u001b[1;32m    701\u001b[0m             \u001b[0;31m# Encoding\u001b[0m\u001b[0;34m\u001b[0m\u001b[0;34m\u001b[0m\u001b[0m\n\u001b[0;32m--> 702\u001b[0;31m             handle = open(\n\u001b[0m\u001b[1;32m    703\u001b[0m                 \u001b[0mhandle\u001b[0m\u001b[0;34m,\u001b[0m\u001b[0;34m\u001b[0m\u001b[0;34m\u001b[0m\u001b[0m\n\u001b[1;32m    704\u001b[0m                 \u001b[0mioargs\u001b[0m\u001b[0;34m.\u001b[0m\u001b[0mmode\u001b[0m\u001b[0;34m,\u001b[0m\u001b[0;34m\u001b[0m\u001b[0;34m\u001b[0m\u001b[0m\n",
      "\u001b[0;31mFileNotFoundError\u001b[0m: [Errno 2] No such file or directory: '/volatile/ad279118/Imaging_Genetics_2025/UKB_cingulate_pred/UKB_left_pred.csv'"
     ]
    }
   ],
   "source": [
    "#sorted_phenotype = pd.read_csv('/volatile/ad279118/Irene/MOSTEST/Results/Imaging_Genetics/25irene_AD_CINGULATE_val/results/ChampollionV0/CINGULATE_left/09-35-58_201/white.British.ancestry/Sorted_projection/regression_on_latent/rs4842267_C_small_distances.csv')\n",
    "#sorted_phenotype = pd.read_csv('/volatile/ad279118/Irene/MOSTEST/Results/Imaging_Genetics/25irene_AD_CINGULATE_val/results/ChampollionV0/CINGULATE_left/09-35-58_201/white.British.ancestry/Sorted_projection/regression_on_latent/rs2009778_T.csv')\n",
    "#sorted_phenotype = pd.read_csv('/volatile/ad279118/Irene/MOSTEST/Results/Imaging_Genetics/25irene_AD_CINGULATE_val/results/ChampollionV0/CINGULATE_left/09-35-58_201/white.British.ancestry/Sorted_projection/regression_on_latent/rs12951057_G.csv')\n",
    "sorted_phenotype = pd.read_csv('/volatile/ad279118/Imaging_Genetics_2025/UKB_cingulate_pred/UKB_left_pred.csv')\n",
    "sorted_phenotype = sorted_phenotype.sort_values(by='Left_Prob_Pred')\n",
    "sorted_phenotype.IID = sorted_phenotype['IID'].apply(lambda x : 'sub-'+str(x))\n",
    "list_subjects = sorted_phenotype['IID'].to_list()\n",
    "len(list_subjects)\n",
    "sample = list_subjects[-420:-400]\n",
    "#sample = ['sub-4157001','sub-4295302','sub-4716793' ]"
   ]
  },
  {
   "cell_type": "code",
   "execution_count": 4,
   "metadata": {},
   "outputs": [],
   "source": [
    "samples = pd.read_csv('/neurospin/dico/data/deep_folding/current/datasets/UkBioBank40/interrupted_SC_subjects.csv', header=None)\n",
    "sample=samples[100:125][0].tolist()"
   ]
  },
  {
   "cell_type": "code",
   "execution_count": 7,
   "metadata": {},
   "outputs": [],
   "source": [
    "volume=True\n",
    "\n",
    "\n",
    "bucket_files = []\n",
    "volume_files = []\n",
    "\n",
    "for subject_id in sample:\n",
    "\n",
    "    bck_path = f'{bucket_path}/{subject_id}_cropped_skeleton.bck'\n",
    "    volume_path = f\"{mm_skeleton_path}/{subject_id}_cropped_skeleton.nii.gz\"\n",
    "    \n",
    "    if volume:\n",
    "        if os.path.isfile(volume_path):\n",
    "            vol = aims.read(volume_path)\n",
    "            volume_files.append(vol)\n",
    "        else:\n",
    "            print(f\"{volume_path} is not a correct path, or the .nii.gz doesn't exist\")\n",
    "    else:\n",
    "        if os.path. isfile(bck_path):\n",
    "            bucket_files.append(bck_path)\n",
    "        else:\n",
    "            print(f\"{bck_path} is not a correct path, or the .bck doesn't exist\")\n",
    "\n",
    "block = a.createWindowsBlock(5) # 10 columns\n",
    "dic_windows = {}\n",
    "\n",
    "if volume:\n",
    "    for i, vol in enumerate(volume_files):\n",
    "        dic_windows[f'a_vol{i}'] = a.toAObject(vol)\n",
    "        #dic_windows[f'a_vol{i}'].setPalette(absoluteMode=True)\n",
    "        dic_windows[f'rvol{i}'] = a.fusionObjects(objects=[dic_windows[f'a_vol{i}']], method='VolumeRenderingFusionMethod')\n",
    "        dic_windows[f'rvol{i}'].releaseAppRef()\n",
    "        dic_windows[f'wvr{i}'] = a.createWindow('3D', block=block)\n",
    "        dic_windows[f'wvr{i}'].addObjects(dic_windows[f'rvol{i}'])\n",
    "\n",
    "else:\n",
    "    for i, file in enumerate(bucket_files):\n",
    "        dic_windows[f'bck_{i}'] = a.loadObject(file)\n",
    "        dic_windows[f'w_{i}'] = a.createWindow('3D', block=block)#geometry=[100+400*(i%3), 100+440*(i//3), 400, 400])\n",
    "        dic_windows[f'w_{i}'].addObjects(dic_windows[f'bck_{i}'])"
   ]
  },
  {
   "cell_type": "markdown",
   "metadata": {},
   "source": [
    "#### To visualize the white matter for specific people "
   ]
  },
  {
   "cell_type": "code",
   "execution_count": 9,
   "metadata": {},
   "outputs": [
    {
     "name": "stdout",
     "output_type": "stream",
     "text": [
      "nifti transfo: 2\n",
      "memory limit: 43795136512\n",
      "Reading FGraph version 3.1\n"
     ]
    },
    {
     "name": "stderr",
     "output_type": "stream",
     "text": [
      "Warning: wrong filename_base in graph, trying to fix it\n"
     ]
    },
    {
     "name": "stdout",
     "output_type": "stream",
     "text": [
      "bounding box found : 94, 22, 25\n",
      "                     175, 206, 146\n",
      "nifti transfo: 3\n",
      "nifti transfo: 1\n",
      "memory limit: 43799219404\n",
      "Reading FGraph version 3.1\n"
     ]
    },
    {
     "name": "stderr",
     "output_type": "stream",
     "text": [
      "Warning: wrong filename_base in graph, trying to fix it\n"
     ]
    },
    {
     "name": "stdout",
     "output_type": "stream",
     "text": [
      "bounding box found : 75, 34, 40\n",
      "                     151, 205, 158\n",
      "nifti transfo: 2\n",
      "nifti transfo: 1\n",
      "memory limit: 43824624435\n",
      "Reading FGraph version 3.1\n"
     ]
    },
    {
     "name": "stderr",
     "output_type": "stream",
     "text": [
      "Warning: wrong filename_base in graph, trying to fix it\n"
     ]
    },
    {
     "name": "stdout",
     "output_type": "stream",
     "text": [
      "bounding box found : 80, 30, 45\n",
      "                     150, 202, 152\n",
      "nifti transfo: 2\n",
      "nifti transfo: 2\n",
      "memory limit: 43812162764\n",
      "Reading FGraph version 3.1\n"
     ]
    },
    {
     "name": "stderr",
     "output_type": "stream",
     "text": [
      "Warning: wrong filename_base in graph, trying to fix it\n"
     ]
    },
    {
     "name": "stdout",
     "output_type": "stream",
     "text": [
      "bounding box found : 84, 26, 42\n",
      "                     159, 197, 163\n",
      "nifti transfo: 3\n",
      "nifti transfo: 2\n",
      "memory limit: 43807879987\n",
      "Reading FGraph version 3.1\n"
     ]
    },
    {
     "name": "stderr",
     "output_type": "stream",
     "text": [
      "Warning: wrong filename_base in graph, trying to fix it\n"
     ]
    },
    {
     "name": "stdout",
     "output_type": "stream",
     "text": [
      "bounding box found : 83, 37, 56\n",
      "                     156, 202, 168\n",
      "nifti transfo: 3\n",
      "nifti transfo: 2\n",
      "memory limit: 43813158912\n",
      "Reading FGraph version 3.1\n"
     ]
    },
    {
     "name": "stderr",
     "output_type": "stream",
     "text": [
      "Warning: wrong filename_base in graph, trying to fix it\n"
     ]
    },
    {
     "name": "stdout",
     "output_type": "stream",
     "text": [
      "bounding box found : 82, 27, 40\n",
      "                     155, 199, 157\n",
      "nifti transfo: 3\n",
      "nifti transfo: 1\n",
      "memory limit: 43779522560\n",
      "Reading FGraph version 3.1\n"
     ]
    },
    {
     "name": "stderr",
     "output_type": "stream",
     "text": [
      "Warning: wrong filename_base in graph, trying to fix it\n"
     ]
    },
    {
     "name": "stdout",
     "output_type": "stream",
     "text": [
      "bounding box found : 78, 33, 50\n",
      "                     151, 203, 163\n",
      "nifti transfo: 2\n",
      "nifti transfo: 2\n",
      "memory limit: 43809832960\n",
      "Reading FGraph version 3.1\n"
     ]
    },
    {
     "name": "stderr",
     "output_type": "stream",
     "text": [
      "Warning: wrong filename_base in graph, trying to fix it\n"
     ]
    },
    {
     "name": "stdout",
     "output_type": "stream",
     "text": [
      "bounding box found : 79, 35, 52\n",
      "                     151, 201, 157\n",
      "nifti transfo: 3\n",
      "nifti transfo: 1\n",
      "memory limit: 43829329920\n",
      "Reading FGraph version 3.1\n"
     ]
    },
    {
     "name": "stderr",
     "output_type": "stream",
     "text": [
      "Warning: wrong filename_base in graph, trying to fix it\n"
     ]
    },
    {
     "name": "stdout",
     "output_type": "stream",
     "text": [
      "bounding box found : 70, 32, 39\n",
      "                     139, 197, 147\n",
      "nifti transfo: 2\n",
      "memory limit: 43812021862\n",
      "Reading FGraph version 3.1\n"
     ]
    },
    {
     "name": "stderr",
     "output_type": "stream",
     "text": [
      "Warning: wrong filename_base in graph, trying to fix it\n"
     ]
    },
    {
     "name": "stdout",
     "output_type": "stream",
     "text": [
      "bounding box found : 82, 24, 35\n",
      "                     157, 198, 149\n",
      "nifti transfo: 1\n"
     ]
    },
    {
     "name": "stdout",
     "output_type": "stream",
     "text": [
      "Position : 93.1992, 84.5088, 94.8448, 0\n"
     ]
    },
    {
     "ename": "",
     "evalue": "",
     "output_type": "error",
     "traceback": [
      "\u001b[1;31mThe Kernel crashed while executing code in the current cell or a previous cell. \n",
      "\u001b[1;31mPlease review the code in the cell(s) to identify a possible cause of the failure. \n",
      "\u001b[1;31mClick <a href='https://aka.ms/vscodeJupyterKernelCrash'>here</a> for more info. \n",
      "\u001b[1;31mView Jupyter <a href='command:jupyter.viewOutput'>log</a> for further details."
     ]
    }
   ],
   "source": [
    "'''\n",
    "list_subjects = ['sub-4298822',\n",
    " 'sub-5486947',\n",
    " 'sub-5786451',\n",
    " 'sub-2703317',\n",
    " 'sub-4018527',\n",
    " 'sub-4713688',\n",
    " 'sub-1641251',\n",
    " 'sub-4157001',\n",
    " 'sub-1862053',\n",
    " 'sub-3892280']\n",
    "\n",
    "'''\n",
    "list_subjects = ['sub-5661598',\n",
    " 'sub-1611989',\n",
    " 'sub-1696980',\n",
    " 'sub-5180874',\n",
    " 'sub-4684085',\n",
    " 'sub-3051292',\n",
    " 'sub-4295302',\n",
    " 'sub-4716793',\n",
    " 'sub-4868612',\n",
    " 'sub-4218716']\n",
    "\n",
    "\n",
    "block2 = a.createWindowsBlock(5) # 5 columns\n",
    "dic_windows2 = {}\n",
    "\n",
    "for subject in list_subjects:\n",
    "    path_to_t1mri = f'/volatile/ad279118/Imaging_Genetics_2025/Figures_Report/TGCC_UKB/{subject}/ses-2/anat/t1mri/default_acquisition'\n",
    "    dic_windows2[f'w{subject}'] = a.createWindow(\"3D\", block=block2)\n",
    "\n",
    "    dic_windows2[f'white_{subject}'] = a.loadObject(f'{path_to_t1mri}/default_analysis/segmentation/mesh/{subject}_{side}white.gii')\n",
    "    dic_windows2[f'white_{subject}'].loadReferentialFromHeader()\n",
    "\n",
    "    dic_windows2[f'sulci_{subject}'] = a.loadObject(f'{path_to_t1mri}/default_analysis/folds/3.1/{side}{subject}.arg')\n",
    "    dic_windows2[f'sulci_{subject}'].loadReferentialFromHeader()\n",
    "\n",
    "    dic_windows2[f'w{subject}'].addObjects([dic_windows2[f'white_{subject}'], dic_windows2[f'sulci_{subject}']])"
   ]
  },
  {
   "cell_type": "markdown",
   "metadata": {},
   "source": [
    "# load views as np then plot nifti"
   ]
  },
  {
   "cell_type": "code",
   "execution_count": 8,
   "metadata": {},
   "outputs": [
    {
     "ename": "FileNotFoundError",
     "evalue": "[Errno 2] No such file or directory: '/neurospin/dico/Output/2025-04-07/13-13-37_123/logs/views/view1.npy'",
     "output_type": "error",
     "traceback": [
      "\u001b[0;31m---------------------------------------------------------------------------\u001b[0m",
      "\u001b[0;31mFileNotFoundError\u001b[0m                         Traceback (most recent call last)",
      "\u001b[0;32m<ipython-input-8-61df05c322f5>\u001b[0m in \u001b[0;36m<module>\u001b[0;34m\u001b[0m\n\u001b[1;32m      2\u001b[0m \u001b[0;31m#views_dir = '/neurospin/dico/jlaval/Output/2025-03-24/11-38-14_155/logs/views/view1.npy'\u001b[0m\u001b[0;34m\u001b[0m\u001b[0;34m\u001b[0m\u001b[0m\n\u001b[1;32m      3\u001b[0m \u001b[0mviews_dir\u001b[0m \u001b[0;34m=\u001b[0m \u001b[0;34m'/neurospin/dico/Output/2025-04-07/13-13-37_123/logs/views/view1.npy'\u001b[0m\u001b[0;34m\u001b[0m\u001b[0;34m\u001b[0m\u001b[0m\n\u001b[0;32m----> 4\u001b[0;31m \u001b[0marr_views\u001b[0m \u001b[0;34m=\u001b[0m \u001b[0mnp\u001b[0m\u001b[0;34m.\u001b[0m\u001b[0mload\u001b[0m\u001b[0;34m(\u001b[0m\u001b[0mviews_dir\u001b[0m\u001b[0;34m)\u001b[0m\u001b[0;34m\u001b[0m\u001b[0;34m\u001b[0m\u001b[0m\n\u001b[0m\u001b[1;32m      5\u001b[0m \u001b[0marr_views\u001b[0m\u001b[0;34m.\u001b[0m\u001b[0mdtype\u001b[0m\u001b[0;34m\u001b[0m\u001b[0;34m\u001b[0m\u001b[0m\n",
      "\u001b[0;32m~/.local/lib/python3.10/site-packages/numpy/lib/npyio.py\u001b[0m in \u001b[0;36mload\u001b[0;34m(file, mmap_mode, allow_pickle, fix_imports, encoding, max_header_size)\u001b[0m\n\u001b[1;32m    425\u001b[0m             \u001b[0mown_fid\u001b[0m \u001b[0;34m=\u001b[0m \u001b[0;32mFalse\u001b[0m\u001b[0;34m\u001b[0m\u001b[0;34m\u001b[0m\u001b[0m\n\u001b[1;32m    426\u001b[0m         \u001b[0;32melse\u001b[0m\u001b[0;34m:\u001b[0m\u001b[0;34m\u001b[0m\u001b[0;34m\u001b[0m\u001b[0m\n\u001b[0;32m--> 427\u001b[0;31m             \u001b[0mfid\u001b[0m \u001b[0;34m=\u001b[0m \u001b[0mstack\u001b[0m\u001b[0;34m.\u001b[0m\u001b[0menter_context\u001b[0m\u001b[0;34m(\u001b[0m\u001b[0mopen\u001b[0m\u001b[0;34m(\u001b[0m\u001b[0mos_fspath\u001b[0m\u001b[0;34m(\u001b[0m\u001b[0mfile\u001b[0m\u001b[0;34m)\u001b[0m\u001b[0;34m,\u001b[0m \u001b[0;34m\"rb\"\u001b[0m\u001b[0;34m)\u001b[0m\u001b[0;34m)\u001b[0m\u001b[0;34m\u001b[0m\u001b[0;34m\u001b[0m\u001b[0m\n\u001b[0m\u001b[1;32m    428\u001b[0m             \u001b[0mown_fid\u001b[0m \u001b[0;34m=\u001b[0m \u001b[0;32mTrue\u001b[0m\u001b[0;34m\u001b[0m\u001b[0;34m\u001b[0m\u001b[0m\n\u001b[1;32m    429\u001b[0m \u001b[0;34m\u001b[0m\u001b[0m\n",
      "\u001b[0;31mFileNotFoundError\u001b[0m: [Errno 2] No such file or directory: '/neurospin/dico/Output/2025-04-07/13-13-37_123/logs/views/view1.npy'"
     ]
    }
   ],
   "source": [
    "#views_dir = '/neurospin/dico/jlaval/Output/2025-03-04/14-55-02_27/logs/views/view1.npy'\n",
    "#views_dir = '/neurospin/dico/jlaval/Output/2025-03-24/11-38-14_155/logs/views/view1.npy'\n",
    "views_dir = '/neurospin/dico/jlaval/Output/2025-04-07/13-13-37_123/logs/views/view1.npy'\n",
    "arr_views = np.load(views_dir)\n",
    "arr_views.dtype"
   ]
  },
  {
   "cell_type": "code",
   "execution_count": 3,
   "metadata": {},
   "outputs": [
    {
     "data": {
      "text/plain": [
       "(32, 1, 30, 38, 22)"
      ]
     },
     "execution_count": 3,
     "metadata": {},
     "output_type": "execute_result"
    }
   ],
   "source": [
    "arr_views.shape"
   ]
  },
  {
   "cell_type": "code",
   "execution_count": 4,
   "metadata": {},
   "outputs": [
    {
     "data": {
      "text/plain": [
       "14478.0"
      ]
     },
     "execution_count": 4,
     "metadata": {},
     "output_type": "execute_result"
    }
   ],
   "source": [
    "np.sum(arr_views)"
   ]
  },
  {
   "cell_type": "code",
   "execution_count": 5,
   "metadata": {},
   "outputs": [],
   "source": [
    "volume_files=[]\n",
    "for view in arr_views[:16]:\n",
    "    view = np.transpose(view, (1,2,3,0))\n",
    "    vol = aims.Volume(view)\n",
    "    volume_files.append(vol)"
   ]
  },
  {
   "cell_type": "code",
   "execution_count": 6,
   "metadata": {},
   "outputs": [
    {
     "data": {
      "text/plain": [
       "(30, 38, 22, 1)"
      ]
     },
     "execution_count": 6,
     "metadata": {},
     "output_type": "execute_result"
    }
   ],
   "source": [
    "vol.shape"
   ]
  },
  {
   "cell_type": "code",
   "execution_count": 7,
   "metadata": {},
   "outputs": [],
   "source": [
    "block = a.createWindowsBlock(4) # 10 columns\n",
    "dic_windows = {}\n",
    "\n",
    "for i, vol in enumerate(volume_files):\n",
    "    dic_windows[f'a_vol{i}'] = a.toAObject(vol)\n",
    "    #dic_windows[f'a_vol{i}'].setPalette(absoluteMode=True)\n",
    "    dic_windows[f'rvol{i}'] = a.fusionObjects(objects=[dic_windows[f'a_vol{i}']], method='VolumeRenderingFusionMethod')\n",
    "    dic_windows[f'rvol{i}'].releaseAppRef()\n",
    "    dic_windows[f'wvr{i}'] = a.createWindow('3D', block=block)\n",
    "    dic_windows[f'wvr{i}'].addObjects(dic_windows[f'rvol{i}'])"
   ]
  },
  {
   "cell_type": "code",
   "execution_count": null,
   "metadata": {},
   "outputs": [],
   "source": []
  }
 ],
 "metadata": {
  "kernelspec": {
   "display_name": "venv",
   "language": "python",
   "name": "python3"
  },
  "language_info": {
   "codemirror_mode": {
    "name": "ipython",
    "version": 3
   },
   "file_extension": ".py",
   "mimetype": "text/x-python",
   "name": "python",
   "nbconvert_exporter": "python",
   "pygments_lexer": "ipython3",
   "version": "3.10.12"
  }
 },
 "nbformat": 4,
 "nbformat_minor": 2
}
