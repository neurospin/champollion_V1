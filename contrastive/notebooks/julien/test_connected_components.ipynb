{
 "cells": [
  {
   "cell_type": "code",
   "execution_count": 1,
   "metadata": {},
   "outputs": [
    {
     "name": "stderr",
     "output_type": "stream",
     "text": [
      "/usr/lib/python3/dist-packages/scipy/__init__.py:146: UserWarning: A NumPy version >=1.17.3 and <1.25.0 is required for this version of SciPy (detected version 1.26.4\n",
      "  warnings.warn(f\"A NumPy version >={np_minversion} and <{np_maxversion}\"\n"
     ]
    }
   ],
   "source": [
    "import numpy as np\n",
    "from scipy import ndimage\n",
    "import os\n",
    "import networkx as nx"
   ]
  },
  {
   "cell_type": "code",
   "execution_count": 2,
   "metadata": {},
   "outputs": [],
   "source": [
    "def generate_volume(shape=(10,10,10), fill_ratio=0.3, seed=42):\n",
    "    \"\"\"Generate a random 3D boolean volume where True represents occupied space.\"\"\"\n",
    "    np.random.seed(seed)\n",
    "    return np.random.rand(*shape) < fill_ratio\n",
    "\n",
    "def find_connected_components(volume, structure):\n",
    "    \"\"\"Label connected components in a 3D binary volume.\"\"\"\n",
    "    labeled_volume, num_components = ndimage.label(volume, structure=structure)  # Label each connected component\n",
    "    return labeled_volume, num_components\n",
    "\n",
    "def voxel_graph(component, label_value):\n",
    "    \"\"\"Create a graph from a single connected component.\"\"\"\n",
    "    G = nx.Graph()\n",
    "    dims = component.shape\n",
    "    for i in range(dims[0]):\n",
    "        for j in range(dims[1]):\n",
    "            for k in range(dims[2]):\n",
    "                if component[i, j, k] == label_value:\n",
    "                    G.add_node((i, j, k))\n",
    "                    #for di, dj, dk in [(1,0,0), (-1,0,0), (0,1,0), (0,-1,0), (0,0,1), (0,0,-1)]: ## not the right connectivity ?\n",
    "                    for di in range(-1,2,1):\n",
    "                        for dj in range(-1,2,1):\n",
    "                            for dk in range(-1,2,1):\n",
    "                                ni, nj, nk = i + di, j + dj, k + dk\n",
    "                                if 0 <= ni < dims[0] and 0 <= nj < dims[1] and 0 <= nk < dims[2] and not (ni==i and nj==j and nk==k): # and not (np.linalg.norm((ni-i, nj-j, nk-k))>1.5)\n",
    "                                    if component[ni, nj, nk] == label_value:\n",
    "                                        G.add_edge((i, j, k), (ni, nj, nk), weight=np.linalg.norm((ni-i, nj-j, nk-k)))\n",
    "    return G\n",
    "\n",
    "def find_minimax_center(G):\n",
    "    \"\"\"Find the node in the graph that minimizes the maximum geodesic distance to any other node.\"\"\"\n",
    "    lengths = dict(nx.all_pairs_dijkstra_path_length(G))  # Compute all-pairs shortest paths\n",
    "    minimax_center = None\n",
    "    min_max_dist = float('inf')\n",
    "\n",
    "    for node in G.nodes():\n",
    "        max_dist = max(lengths[node].values())  # Find the worst-case distance\n",
    "        if max_dist < min_max_dist:\n",
    "            min_max_dist = max_dist\n",
    "            minimax_center = node\n",
    "    \n",
    "    return minimax_center, min_max_dist, lengths[minimax_center]"
   ]
  },
  {
   "cell_type": "code",
   "execution_count": 3,
   "metadata": {},
   "outputs": [
    {
     "name": "stdout",
     "output_type": "stream",
     "text": [
      "global modules: /casa/host/build/share/anatomist-5.2/python_plugins\n",
      "home   modules: /casa/home/.anatomist/python_plugins\n",
      "loading module volumepalettes\n",
      "loading module paletteViewer\n",
      "loading module modelGraphs\n",
      "loading module infowindow\n",
      "loading module profilewindow\n",
      "loading module bsa_proba\n",
      "loading module meshsplit\n",
      "loading module selection\n",
      "loading module anacontrolmenu\n",
      "loading module gltf_io\n",
      "loading module ana_image_math\n",
      "loading module palettecontrols\n",
      "loading module statsplotwindow\n",
      "loading module foldsplit\n",
      "loading module histogram\n",
      "loading module save_resampled\n",
      "loading module simple_controls\n",
      "loading module valuesplotwindow\n",
      "loading module gradientpalette\n",
      "all python modules loaded\n",
      "Anatomist started.\n"
     ]
    }
   ],
   "source": [
    "import anatomist.api as ana\n",
    "from soma.qt_gui.qtThread import QtThreadCall\n",
    "from soma.qt_gui.qt_backend import Qt\n",
    "from soma import aims\n",
    "\n",
    "a = ana.Anatomist()"
   ]
  },
  {
   "cell_type": "markdown",
   "metadata": {},
   "source": [
    "# Visu components"
   ]
  },
  {
   "cell_type": "code",
   "execution_count": 79,
   "metadata": {},
   "outputs": [
    {
     "name": "stdout",
     "output_type": "stream",
     "text": [
      "(array([0, 1], dtype=int16), array([75335,  1885]))\n",
      "Number of connected components : 17\n",
      "[75335  1427     3     6     2     1   207     6    12    92     8    31\n",
      "     9    66    10     3     1     1]\n",
      "(array([0, 1], dtype=int16), array([75395,  1825]))\n",
      "Number of connected components : 18\n",
      "[75395    35  1480    85    48    24    10     1     1    15     3    19\n",
      "     2     5    27    15    43     8     4]\n",
      "(array([0, 1], dtype=int16), array([75241,  1979]))\n",
      "Number of connected components : 18\n",
      "[75241    15   585    16   719    10   185     1     1    15   248    88\n",
      "     1    30    43     9     6     2     5]\n",
      "(array([0, 1], dtype=int16), array([75146,  2074]))\n",
      "Number of connected components : 14\n",
      "[75146    85    10    52  1689     1    17    92     1    43     8    26\n",
      "    47     2     1]\n",
      "(array([0, 1], dtype=int16), array([75129,  2091]))\n",
      "Number of connected components : 13\n",
      "[75129    41  1762    59    53     5   124     3     1    14     5    12\n",
      "    10     2]\n"
     ]
    },
    {
     "ename": "KeyboardInterrupt",
     "evalue": "",
     "output_type": "error",
     "traceback": [
      "\u001b[0;31m---------------------------------------------------------------------------\u001b[0m",
      "\u001b[0;31mKeyboardInterrupt\u001b[0m                         Traceback (most recent call last)",
      "\u001b[0;32m<ipython-input-79-51715b16f6a1>\u001b[0m in \u001b[0;36m<module>\u001b[0;34m\u001b[0m\n\u001b[1;32m     29\u001b[0m         \u001b[0mG\u001b[0m \u001b[0;34m=\u001b[0m \u001b[0mvoxel_graph\u001b[0m\u001b[0;34m(\u001b[0m\u001b[0mlabeled_volume\u001b[0m\u001b[0;34m,\u001b[0m \u001b[0mlabel_value\u001b[0m\u001b[0;34m)\u001b[0m\u001b[0;34m\u001b[0m\u001b[0;34m\u001b[0m\u001b[0m\n\u001b[1;32m     30\u001b[0m         \u001b[0;32mif\u001b[0m \u001b[0mG\u001b[0m\u001b[0;34m.\u001b[0m\u001b[0mnumber_of_nodes\u001b[0m\u001b[0;34m(\u001b[0m\u001b[0;34m)\u001b[0m \u001b[0;34m>\u001b[0m \u001b[0;36m0\u001b[0m\u001b[0;34m:\u001b[0m\u001b[0;34m\u001b[0m\u001b[0;34m\u001b[0m\u001b[0m\n\u001b[0;32m---> 31\u001b[0;31m             \u001b[0mcenter\u001b[0m\u001b[0;34m,\u001b[0m \u001b[0mmax_dist\u001b[0m\u001b[0;34m,\u001b[0m \u001b[0mdistances\u001b[0m \u001b[0;34m=\u001b[0m \u001b[0mfind_minimax_center\u001b[0m\u001b[0;34m(\u001b[0m\u001b[0mG\u001b[0m\u001b[0;34m)\u001b[0m\u001b[0;34m\u001b[0m\u001b[0;34m\u001b[0m\u001b[0m\n\u001b[0m\u001b[1;32m     32\u001b[0m             \u001b[0mcenters\u001b[0m\u001b[0;34m[\u001b[0m\u001b[0mlabel_value\u001b[0m\u001b[0;34m]\u001b[0m \u001b[0;34m=\u001b[0m \u001b[0;34m(\u001b[0m\u001b[0mcenter\u001b[0m\u001b[0;34m,\u001b[0m \u001b[0mmax_dist\u001b[0m\u001b[0;34m,\u001b[0m \u001b[0mdistances\u001b[0m\u001b[0;34m)\u001b[0m\u001b[0;34m\u001b[0m\u001b[0;34m\u001b[0m\u001b[0m\n\u001b[1;32m     33\u001b[0m \u001b[0;34m\u001b[0m\u001b[0m\n",
      "\u001b[0;32m<ipython-input-78-03ccb944e0bc>\u001b[0m in \u001b[0;36mfind_minimax_center\u001b[0;34m(G)\u001b[0m\n\u001b[1;32m     30\u001b[0m \u001b[0;32mdef\u001b[0m \u001b[0mfind_minimax_center\u001b[0m\u001b[0;34m(\u001b[0m\u001b[0mG\u001b[0m\u001b[0;34m)\u001b[0m\u001b[0;34m:\u001b[0m\u001b[0;34m\u001b[0m\u001b[0;34m\u001b[0m\u001b[0m\n\u001b[1;32m     31\u001b[0m     \u001b[0;34m\"\"\"Find the node in the graph that minimizes the maximum geodesic distance to any other node.\"\"\"\u001b[0m\u001b[0;34m\u001b[0m\u001b[0;34m\u001b[0m\u001b[0m\n\u001b[0;32m---> 32\u001b[0;31m     \u001b[0mlengths\u001b[0m \u001b[0;34m=\u001b[0m \u001b[0mdict\u001b[0m\u001b[0;34m(\u001b[0m\u001b[0mnx\u001b[0m\u001b[0;34m.\u001b[0m\u001b[0mall_pairs_dijkstra_path_length\u001b[0m\u001b[0;34m(\u001b[0m\u001b[0mG\u001b[0m\u001b[0;34m)\u001b[0m\u001b[0;34m)\u001b[0m  \u001b[0;31m# Compute all-pairs shortest paths\u001b[0m\u001b[0;34m\u001b[0m\u001b[0;34m\u001b[0m\u001b[0m\n\u001b[0m\u001b[1;32m     33\u001b[0m     \u001b[0mminimax_center\u001b[0m \u001b[0;34m=\u001b[0m \u001b[0;32mNone\u001b[0m\u001b[0;34m\u001b[0m\u001b[0;34m\u001b[0m\u001b[0m\n\u001b[1;32m     34\u001b[0m     \u001b[0mmin_max_dist\u001b[0m \u001b[0;34m=\u001b[0m \u001b[0mfloat\u001b[0m\u001b[0;34m(\u001b[0m\u001b[0;34m'inf'\u001b[0m\u001b[0;34m)\u001b[0m\u001b[0;34m\u001b[0m\u001b[0;34m\u001b[0m\u001b[0m\n",
      "\u001b[0;32m/neurospin/dico/jlaval/Runs_jl277509/deep_folding/venv/lib/python3.10/site-packages/networkx/algorithms/shortest_paths/weighted.py\u001b[0m in \u001b[0;36mall_pairs_dijkstra_path_length\u001b[0;34m(G, cutoff, weight)\u001b[0m\n\u001b[1;32m   1083\u001b[0m     \u001b[0mlength\u001b[0m \u001b[0;34m=\u001b[0m \u001b[0msingle_source_dijkstra_path_length\u001b[0m\u001b[0;34m\u001b[0m\u001b[0;34m\u001b[0m\u001b[0m\n\u001b[1;32m   1084\u001b[0m     \u001b[0;32mfor\u001b[0m \u001b[0mn\u001b[0m \u001b[0;32min\u001b[0m \u001b[0mG\u001b[0m\u001b[0;34m:\u001b[0m\u001b[0;34m\u001b[0m\u001b[0;34m\u001b[0m\u001b[0m\n\u001b[0;32m-> 1085\u001b[0;31m         \u001b[0;32myield\u001b[0m \u001b[0;34m(\u001b[0m\u001b[0mn\u001b[0m\u001b[0;34m,\u001b[0m \u001b[0mlength\u001b[0m\u001b[0;34m(\u001b[0m\u001b[0mG\u001b[0m\u001b[0;34m,\u001b[0m \u001b[0mn\u001b[0m\u001b[0;34m,\u001b[0m \u001b[0mcutoff\u001b[0m\u001b[0;34m=\u001b[0m\u001b[0mcutoff\u001b[0m\u001b[0;34m,\u001b[0m \u001b[0mweight\u001b[0m\u001b[0;34m=\u001b[0m\u001b[0mweight\u001b[0m\u001b[0;34m)\u001b[0m\u001b[0;34m)\u001b[0m\u001b[0;34m\u001b[0m\u001b[0;34m\u001b[0m\u001b[0m\n\u001b[0m\u001b[1;32m   1086\u001b[0m \u001b[0;34m\u001b[0m\u001b[0m\n\u001b[1;32m   1087\u001b[0m \u001b[0;34m\u001b[0m\u001b[0m\n",
      "\u001b[0;32m/neurospin/dico/jlaval/Runs_jl277509/deep_folding/venv/lib/python3.10/site-packages/networkx/utils/decorators.py\u001b[0m in \u001b[0;36margmap_single_source_dijkstra_path_length_5\u001b[0;34m(G, source, cutoff, weight, backend, **backend_kwargs)\u001b[0m\n\u001b[1;32m      1\u001b[0m \u001b[0;32mimport\u001b[0m \u001b[0mbz2\u001b[0m\u001b[0;34m\u001b[0m\u001b[0;34m\u001b[0m\u001b[0m\n\u001b[1;32m      2\u001b[0m \u001b[0;32mimport\u001b[0m \u001b[0mcollections\u001b[0m\u001b[0;34m\u001b[0m\u001b[0;34m\u001b[0m\u001b[0m\n\u001b[0;32m----> 3\u001b[0;31m \u001b[0;32mimport\u001b[0m \u001b[0mgzip\u001b[0m\u001b[0;34m\u001b[0m\u001b[0;34m\u001b[0m\u001b[0m\n\u001b[0m\u001b[1;32m      4\u001b[0m \u001b[0;32mimport\u001b[0m \u001b[0minspect\u001b[0m\u001b[0;34m\u001b[0m\u001b[0;34m\u001b[0m\u001b[0m\n\u001b[1;32m      5\u001b[0m \u001b[0;32mimport\u001b[0m \u001b[0mitertools\u001b[0m\u001b[0;34m\u001b[0m\u001b[0;34m\u001b[0m\u001b[0m\n",
      "\u001b[0;32m/neurospin/dico/jlaval/Runs_jl277509/deep_folding/venv/lib/python3.10/site-packages/networkx/utils/backends.py\u001b[0m in \u001b[0;36m__call__\u001b[0;34m(self, backend, *args, **kwargs)\u001b[0m\n\u001b[1;32m    631\u001b[0m         \u001b[0;32mif\u001b[0m \u001b[0;32mnot\u001b[0m \u001b[0mbackends\u001b[0m\u001b[0;34m:\u001b[0m\u001b[0;34m\u001b[0m\u001b[0;34m\u001b[0m\u001b[0m\n\u001b[1;32m    632\u001b[0m             \u001b[0;31m# Fast path if no backends are installed\u001b[0m\u001b[0;34m\u001b[0m\u001b[0;34m\u001b[0m\u001b[0m\n\u001b[0;32m--> 633\u001b[0;31m             \u001b[0;32mreturn\u001b[0m \u001b[0mself\u001b[0m\u001b[0;34m.\u001b[0m\u001b[0morig_func\u001b[0m\u001b[0;34m(\u001b[0m\u001b[0;34m*\u001b[0m\u001b[0margs\u001b[0m\u001b[0;34m,\u001b[0m \u001b[0;34m**\u001b[0m\u001b[0mkwargs\u001b[0m\u001b[0;34m)\u001b[0m\u001b[0;34m\u001b[0m\u001b[0;34m\u001b[0m\u001b[0m\n\u001b[0m\u001b[1;32m    634\u001b[0m \u001b[0;34m\u001b[0m\u001b[0m\n\u001b[1;32m    635\u001b[0m         \u001b[0;31m# Use `backend_name` in this function instead of `backend`\u001b[0m\u001b[0;34m\u001b[0m\u001b[0;34m\u001b[0m\u001b[0m\n",
      "\u001b[0;32m/neurospin/dico/jlaval/Runs_jl277509/deep_folding/venv/lib/python3.10/site-packages/networkx/algorithms/shortest_paths/weighted.py\u001b[0m in \u001b[0;36msingle_source_dijkstra_path_length\u001b[0;34m(G, source, cutoff, weight)\u001b[0m\n\u001b[1;32m    387\u001b[0m \u001b[0;34m\u001b[0m\u001b[0m\n\u001b[1;32m    388\u001b[0m     \"\"\"\n\u001b[0;32m--> 389\u001b[0;31m     \u001b[0;32mreturn\u001b[0m \u001b[0mmulti_source_dijkstra_path_length\u001b[0m\u001b[0;34m(\u001b[0m\u001b[0mG\u001b[0m\u001b[0;34m,\u001b[0m \u001b[0;34m{\u001b[0m\u001b[0msource\u001b[0m\u001b[0;34m}\u001b[0m\u001b[0;34m,\u001b[0m \u001b[0mcutoff\u001b[0m\u001b[0;34m=\u001b[0m\u001b[0mcutoff\u001b[0m\u001b[0;34m,\u001b[0m \u001b[0mweight\u001b[0m\u001b[0;34m=\u001b[0m\u001b[0mweight\u001b[0m\u001b[0;34m)\u001b[0m\u001b[0;34m\u001b[0m\u001b[0;34m\u001b[0m\u001b[0m\n\u001b[0m\u001b[1;32m    390\u001b[0m \u001b[0;34m\u001b[0m\u001b[0m\n\u001b[1;32m    391\u001b[0m \u001b[0;34m\u001b[0m\u001b[0m\n",
      "\u001b[0;32m/neurospin/dico/jlaval/Runs_jl277509/deep_folding/venv/lib/python3.10/site-packages/networkx/utils/decorators.py\u001b[0m in \u001b[0;36margmap_multi_source_dijkstra_path_length_9\u001b[0;34m(G, sources, cutoff, weight, backend, **backend_kwargs)\u001b[0m\n\u001b[1;32m      1\u001b[0m \u001b[0;32mimport\u001b[0m \u001b[0mbz2\u001b[0m\u001b[0;34m\u001b[0m\u001b[0;34m\u001b[0m\u001b[0m\n\u001b[1;32m      2\u001b[0m \u001b[0;32mimport\u001b[0m \u001b[0mcollections\u001b[0m\u001b[0;34m\u001b[0m\u001b[0;34m\u001b[0m\u001b[0m\n\u001b[0;32m----> 3\u001b[0;31m \u001b[0;32mimport\u001b[0m \u001b[0mgzip\u001b[0m\u001b[0;34m\u001b[0m\u001b[0;34m\u001b[0m\u001b[0m\n\u001b[0m\u001b[1;32m      4\u001b[0m \u001b[0;32mimport\u001b[0m \u001b[0minspect\u001b[0m\u001b[0;34m\u001b[0m\u001b[0;34m\u001b[0m\u001b[0m\n\u001b[1;32m      5\u001b[0m \u001b[0;32mimport\u001b[0m \u001b[0mitertools\u001b[0m\u001b[0;34m\u001b[0m\u001b[0;34m\u001b[0m\u001b[0m\n",
      "\u001b[0;32m/neurospin/dico/jlaval/Runs_jl277509/deep_folding/venv/lib/python3.10/site-packages/networkx/utils/backends.py\u001b[0m in \u001b[0;36m__call__\u001b[0;34m(self, backend, *args, **kwargs)\u001b[0m\n\u001b[1;32m    631\u001b[0m         \u001b[0;32mif\u001b[0m \u001b[0;32mnot\u001b[0m \u001b[0mbackends\u001b[0m\u001b[0;34m:\u001b[0m\u001b[0;34m\u001b[0m\u001b[0;34m\u001b[0m\u001b[0m\n\u001b[1;32m    632\u001b[0m             \u001b[0;31m# Fast path if no backends are installed\u001b[0m\u001b[0;34m\u001b[0m\u001b[0;34m\u001b[0m\u001b[0m\n\u001b[0;32m--> 633\u001b[0;31m             \u001b[0;32mreturn\u001b[0m \u001b[0mself\u001b[0m\u001b[0;34m.\u001b[0m\u001b[0morig_func\u001b[0m\u001b[0;34m(\u001b[0m\u001b[0;34m*\u001b[0m\u001b[0margs\u001b[0m\u001b[0;34m,\u001b[0m \u001b[0;34m**\u001b[0m\u001b[0mkwargs\u001b[0m\u001b[0;34m)\u001b[0m\u001b[0;34m\u001b[0m\u001b[0;34m\u001b[0m\u001b[0m\n\u001b[0m\u001b[1;32m    634\u001b[0m \u001b[0;34m\u001b[0m\u001b[0m\n\u001b[1;32m    635\u001b[0m         \u001b[0;31m# Use `backend_name` in this function instead of `backend`\u001b[0m\u001b[0;34m\u001b[0m\u001b[0;34m\u001b[0m\u001b[0m\n",
      "\u001b[0;32m/neurospin/dico/jlaval/Runs_jl277509/deep_folding/venv/lib/python3.10/site-packages/networkx/algorithms/shortest_paths/weighted.py\u001b[0m in \u001b[0;36mmulti_source_dijkstra_path_length\u001b[0;34m(G, sources, cutoff, weight)\u001b[0m\n\u001b[1;32m    645\u001b[0m             \u001b[0;32mraise\u001b[0m \u001b[0mnx\u001b[0m\u001b[0;34m.\u001b[0m\u001b[0mNodeNotFound\u001b[0m\u001b[0;34m(\u001b[0m\u001b[0;34mf\"Node {s} not found in graph\"\u001b[0m\u001b[0;34m)\u001b[0m\u001b[0;34m\u001b[0m\u001b[0;34m\u001b[0m\u001b[0m\n\u001b[1;32m    646\u001b[0m     \u001b[0mweight\u001b[0m \u001b[0;34m=\u001b[0m \u001b[0m_weight_function\u001b[0m\u001b[0;34m(\u001b[0m\u001b[0mG\u001b[0m\u001b[0;34m,\u001b[0m \u001b[0mweight\u001b[0m\u001b[0;34m)\u001b[0m\u001b[0;34m\u001b[0m\u001b[0;34m\u001b[0m\u001b[0m\n\u001b[0;32m--> 647\u001b[0;31m     \u001b[0;32mreturn\u001b[0m \u001b[0m_dijkstra_multisource\u001b[0m\u001b[0;34m(\u001b[0m\u001b[0mG\u001b[0m\u001b[0;34m,\u001b[0m \u001b[0msources\u001b[0m\u001b[0;34m,\u001b[0m \u001b[0mweight\u001b[0m\u001b[0;34m,\u001b[0m \u001b[0mcutoff\u001b[0m\u001b[0;34m=\u001b[0m\u001b[0mcutoff\u001b[0m\u001b[0;34m)\u001b[0m\u001b[0;34m\u001b[0m\u001b[0;34m\u001b[0m\u001b[0m\n\u001b[0m\u001b[1;32m    648\u001b[0m \u001b[0;34m\u001b[0m\u001b[0m\n\u001b[1;32m    649\u001b[0m \u001b[0;34m\u001b[0m\u001b[0m\n",
      "\u001b[0;32m/neurospin/dico/jlaval/Runs_jl277509/deep_folding/venv/lib/python3.10/site-packages/networkx/algorithms/shortest_paths/weighted.py\u001b[0m in \u001b[0;36m_dijkstra_multisource\u001b[0;34m(G, sources, weight, pred, paths, cutoff, target)\u001b[0m\n\u001b[1;32m    865\u001b[0m             \u001b[0;32mif\u001b[0m \u001b[0mu\u001b[0m \u001b[0;32min\u001b[0m \u001b[0mdist\u001b[0m\u001b[0;34m:\u001b[0m\u001b[0;34m\u001b[0m\u001b[0;34m\u001b[0m\u001b[0m\n\u001b[1;32m    866\u001b[0m                 \u001b[0mu_dist\u001b[0m \u001b[0;34m=\u001b[0m \u001b[0mdist\u001b[0m\u001b[0;34m[\u001b[0m\u001b[0mu\u001b[0m\u001b[0;34m]\u001b[0m\u001b[0;34m\u001b[0m\u001b[0;34m\u001b[0m\u001b[0m\n\u001b[0;32m--> 867\u001b[0;31m                 \u001b[0;32mif\u001b[0m \u001b[0mvu_dist\u001b[0m \u001b[0;34m<\u001b[0m \u001b[0mu_dist\u001b[0m\u001b[0;34m:\u001b[0m\u001b[0;34m\u001b[0m\u001b[0;34m\u001b[0m\u001b[0m\n\u001b[0m\u001b[1;32m    868\u001b[0m                     \u001b[0;32mraise\u001b[0m \u001b[0mValueError\u001b[0m\u001b[0;34m(\u001b[0m\u001b[0;34m\"Contradictory paths found:\"\u001b[0m\u001b[0;34m,\u001b[0m \u001b[0;34m\"negative weights?\"\u001b[0m\u001b[0;34m)\u001b[0m\u001b[0;34m\u001b[0m\u001b[0;34m\u001b[0m\u001b[0m\n\u001b[1;32m    869\u001b[0m                 \u001b[0;32melif\u001b[0m \u001b[0mpred\u001b[0m \u001b[0;32mis\u001b[0m \u001b[0;32mnot\u001b[0m \u001b[0;32mNone\u001b[0m \u001b[0;32mand\u001b[0m \u001b[0mvu_dist\u001b[0m \u001b[0;34m==\u001b[0m \u001b[0mu_dist\u001b[0m\u001b[0;34m:\u001b[0m\u001b[0;34m\u001b[0m\u001b[0;34m\u001b[0m\u001b[0m\n",
      "\u001b[0;31mKeyboardInterrupt\u001b[0m: "
     ]
    }
   ],
   "source": [
    "#skel_dir = '/neurospin/dico/data/deep_folding/current/datasets/hcp/crops/2mm/S.C.-sylv./mask/Lcrops'\n",
    "skel_dir = '/neurospin/dico/data/deep_folding/current/datasets/UkBioBank40/crops/2mm/F.I.P./mask/Rcrops'\n",
    "subjects_list = os.listdir(skel_dir)\n",
    "subjects_list = [elem for elem in subjects_list if elem[-1]!='f']\n",
    "subjects_list = subjects_list[:16]\n",
    "\n",
    "volume_files = []\n",
    "centroids_files = []\n",
    "marked_volume_files = []\n",
    "labeled_volume_files = []\n",
    "\n",
    "for subject in subjects_list:\n",
    "    skel_volume = aims.read(os.path.join(skel_dir, subject))\n",
    "    skel_volume.np[skel_volume.np!=0]=1\n",
    "    print(np.unique(skel_volume, return_counts=True))\n",
    "    skel = skel_volume.np\n",
    "    volume = skel[:,:,:,0]!=0\n",
    "    structure = np.ones((3,3,3)) # we could also remove the edges\n",
    "    #structure = None\n",
    "\n",
    "    # Find connected components\n",
    "    labeled_volume, num_components = find_connected_components(volume, structure=structure)\n",
    "    print(f'Number of connected components : {num_components}')\n",
    "    print(np.unique(labeled_volume, return_counts=True)[1])\n",
    "\n",
    "    # Find minimax center for each connected component\n",
    "    centers = {}\n",
    "    for label_value in range(1, num_components + 1):  # Labels start from 1\n",
    "        G = voxel_graph(labeled_volume, label_value)\n",
    "        if G.number_of_nodes() > 0:\n",
    "            center, max_dist, distances = find_minimax_center(G)\n",
    "            centers[label_value] = (center, max_dist, distances)\n",
    "\n",
    "    # dilate centroids\n",
    "    centroids_im = np.zeros(volume.shape)\n",
    "    for _, (center,_,_) in centers.items():\n",
    "        centroids_im[center]=1\n",
    "\n",
    "    #centroids_im = ndimage.binary_dilation(centroids_im, structure=structure)\n",
    "    # create nifti and plot\n",
    "    centroids_im = np.expand_dims(centroids_im, axis=-1).astype(np.float32)\n",
    "    vol = aims.Volume(centroids_im)\n",
    "\n",
    "    ## append centroids and skels in lists\n",
    "    volume_files.append(skel_volume)\n",
    "    centroids_files.append(vol)\n",
    "\n",
    "    ## append marked skeleton\n",
    "    skel_volume.np[vol.np!=0]=3 ## NB : MODIFIES THE ELEMENTS OF VOLUME FILES LIST ...\n",
    "    print(np.unique(skel_volume, return_counts=True))\n",
    "    marked_volume_files.append(skel_volume)\n",
    "\n",
    "    # append labeled surfaces\n",
    "    skel_volume.np[:]=np.expand_dims(labeled_volume, axis=-1)\n",
    "    labeled_volume_files.append(skel_volume)\n",
    "\n",
    "    # Print results\n",
    "    #for label, (center, max_dist) in centers.items():\n",
    "    #    print(f\"Component {label}: Minimax center at {center}, max geodesic distance = {max_dist}\")"
   ]
  },
  {
   "cell_type": "code",
   "execution_count": 4,
   "metadata": {},
   "outputs": [],
   "source": [
    "def build_gradient(pal):\n",
    "    gw = ana.cpp.GradientWidget(None, 'gradientwidget', pal.header()['palette_gradients'])\n",
    "    gw.setHasAlpha(True)\n",
    "    nc = pal.shape[0]\n",
    "    rgbp = gw.fillGradient(nc, True)\n",
    "    rgb = rgbp.data()\n",
    "    npal = pal.np['v']\n",
    "    pb = np.frombuffer(rgb, dtype=np.uint8).reshape((nc, 4))\n",
    "    npal[:, 0, 0, 0, :] = pb\n",
    "    npal[:, 0, 0, 0, :3] = npal[:, 0, 0, 0, :3][:, ::-1]  # BGRA -> RGBA\n",
    "    pal.update()"
   ]
  },
  {
   "cell_type": "code",
   "execution_count": null,
   "metadata": {},
   "outputs": [],
   "source": [
    "block = a.createWindowsBlock(4)\n",
    "dic_windows = {}\n",
    "\n",
    "for i, vol in enumerate(marked_volume_files):\n",
    "    dic_windows[f'a_vol{i}'] = a.toAObject(vol)\n",
    "    pal = a.createPalette('sulci-model')\n",
    "    pal.header()['palette_gradients'] = f\"0;0;0;0;0.05;0.4667;0.05;0.4667;0.1;0.5333;0.1;0.5333;0.15;0;0.15;0;0.2;0;0.2;0;0.25;0;0.25;0;0.3;0;0.3;0;0.35;0;0.35;0;0.4;0;0.4;0;0.45;0;0.45;0;0.5;0;0.5;0;0.55;0;0.55;0;0.6;0;0.6;0;0.65;0.7333;0.65;0.7333;0.7;0.9333;0.7;0.9333;0.75;1;0.75;1;0.8;1;0.8;1;0.85;1;0.85;1;0.9;0.8667;0.9;0.8667;0.95;0.8;0.95;0.8;1;0.8;1;0.8#0;0;0;0;0.05;0;0.05;0;0.1;0;0.1;0;0.15;0;0.15;0;0.2;0;0.2;0;0.25;0.4667;0.25;0.4667;0.3;0.6;0.3;0.6;0.35;0.6667;0.35;0.6667;0.4;0.6667;0.4;0.6667;0.45;0.6;0.45;0.6;0.5;0.7333;0.5;0.7333;0.55;0.8667;0.55;0.8667;0.6;1;0.6;1;0.65;1;0.65;1;0.7;0.9333;0.7;0.9333;0.75;0.8;0.75;0.8;0.8;0.6;0.8;0.6;0.85;0;0.85;0;0.9;0;0.9;0;0.95;0;0.95;0;1;0.8;1;0.8#0;0;0;0;0.05;0.5333;0.05;0.5333;0.1;0.6;0.1;0.6;0.15;0.6667;0.15;0.6667;0.2;0.8667;0.2;0.8667;0.25;0.8667;0.25;0.8667;0.3;0.8667;0.3;0.8667;0.35;0.6667;0.35;0.6667;0.4;0.5333;0.4;0.5333;0.45;0;0.45;0;0.5;0;0.5;0;0.55;0;0.55;0;0.6;0;0.6;0;0.65;0;0.65;0;0.7;0;0.7;0;0.75;0;0.75;0;0.8;0;0.8;0;0.85;0;0.85;0;0.9;0;0.9;0;0.95;0;0.95;0;1;0.8;1;0.8#0;0;0.2;0.977778;1;1\"\n",
    "    build_gradient(pal)\n",
    "    dic_windows[f'a_vol{i}'].setPalette('sulci-model')\n",
    "    dic_windows[f'rvol{i}'] = a.fusionObjects(objects=[dic_windows[f'a_vol{i}']], method='VolumeRenderingFusionMethod')\n",
    "    dic_windows[f'rvol{i}'].releaseAppRef()\n",
    "    dic_windows[f'wvr{i}'] = a.createWindow('3D', block=block)\n",
    "    dic_windows[f'wvr{i}'].addObjects(dic_windows[f'rvol{i}'])"
   ]
  },
  {
   "cell_type": "markdown",
   "metadata": {},
   "source": [
    "# Visu distance map"
   ]
  },
  {
   "cell_type": "code",
   "execution_count": 5,
   "metadata": {},
   "outputs": [
    {
     "name": "stdout",
     "output_type": "stream",
     "text": [
      "(array([0, 1], dtype=int16), array([75335,  1885]))\n",
      "Number of connected components : 17\n",
      "[75335  1427     3     6     2     1   207     6    12    92     8    31\n",
      "     9    66    10     3     1     1]\n"
     ]
    }
   ],
   "source": [
    "# recompute\n",
    "list_distance_map = []\n",
    "\n",
    "#skel_dir = '/neurospin/dico/data/deep_folding/current/datasets/hcp/crops/2mm/S.C.-sylv./mask/Lcrops'\n",
    "skel_dir = '/neurospin/dico/data/deep_folding/current/datasets/UkBioBank40/crops/2mm/F.I.P./mask/Rcrops'\n",
    "subjects_list = os.listdir(skel_dir)\n",
    "subjects_list = [elem for elem in subjects_list if elem[-1]!='f']\n",
    "subjects_list = subjects_list[:16]\n",
    "\n",
    "for subject in subjects_list:\n",
    "    skel_volume = aims.read(os.path.join(skel_dir, subject))\n",
    "    skel_volume.np[skel_volume.np!=0]=1\n",
    "    print(np.unique(skel_volume, return_counts=True))\n",
    "    skel = skel_volume.np\n",
    "    volume = skel[:,:,:,0]!=0\n",
    "    structure = np.ones((3,3,3)) # we could also remove the edges\n",
    "    #structure = None\n",
    "\n",
    "    # Find connected components\n",
    "    labeled_volume, num_components = find_connected_components(volume, structure=structure)\n",
    "    print(f'Number of connected components : {num_components}')\n",
    "    print(np.unique(labeled_volume, return_counts=True)[1])\n",
    "\n",
    "    # Find minimax center for each connected component\n",
    "    centers = {}\n",
    "    for label_value in range(1, num_components + 1):  # Labels start from 1\n",
    "        G = voxel_graph(labeled_volume, label_value)\n",
    "        if G.number_of_nodes() > 0:\n",
    "            center, max_dist, distances = find_minimax_center(G)\n",
    "            centers[label_value] = (center, max_dist, distances)\n",
    "\n",
    "    # fill distance_map with distances\n",
    "    alpha=0.5\n",
    "    distance_map = np.zeros(volume.shape)\n",
    "    for label, (center, max_dist, distances) in centers.items():\n",
    "        if max_dist==0: # avoid division by 0\n",
    "            distance_map[center]=max_dist\n",
    "        else:\n",
    "            for coord, value in distances.items():\n",
    "                distance_map[coord]=value*(1-alpha)/max_dist+alpha\n",
    "\n",
    "    distance_map = np.expand_dims(distance_map, axis=-1).astype(np.float32)\n",
    "    distance_vol = aims.Volume(distance_map)\n",
    "    \n",
    "    list_distance_map.append(distance_vol)"
   ]
  },
  {
   "cell_type": "code",
   "execution_count": 12,
   "metadata": {},
   "outputs": [],
   "source": [
    "block = a.createWindowsBlock(4)\n",
    "dic_windows = {}\n",
    "\n",
    "for i, vol in enumerate(list_distance_map):\n",
    "    dic_windows[f'a_vol{i}'] = a.toAObject(vol)\n",
    "    pal = a.createPalette('plasma')\n",
    "    pal.header()['palette_gradients'] = f\"0;0;0;0;0.05;0.4667;0.05;0.4667;0.1;0.5333;0.1;0.5333;0.15;0;0.15;0;0.2;0;0.2;0;0.25;0;0.25;0;0.3;0;0.3;0;0.35;0;0.35;0;0.4;0;0.4;0;0.45;0;0.45;0;0.5;0;0.5;0;0.55;0;0.55;0;0.6;0;0.6;0;0.65;0.7333;0.65;0.7333;0.7;0.9333;0.7;0.9333;0.75;1;0.75;1;0.8;1;0.8;1;0.85;1;0.85;1;0.9;0.8667;0.9;0.8667;0.95;0.8;0.95;0.8;1;0.8;1;0.8#0;0;0;0;0.05;0;0.05;0;0.1;0;0.1;0;0.15;0;0.15;0;0.2;0;0.2;0;0.25;0.4667;0.25;0.4667;0.3;0.6;0.3;0.6;0.35;0.6667;0.35;0.6667;0.4;0.6667;0.4;0.6667;0.45;0.6;0.45;0.6;0.5;0.7333;0.5;0.7333;0.55;0.8667;0.55;0.8667;0.6;1;0.6;1;0.65;1;0.65;1;0.7;0.9333;0.7;0.9333;0.75;0.8;0.75;0.8;0.8;0.6;0.8;0.6;0.85;0;0.85;0;0.9;0;0.9;0;0.95;0;0.95;0;1;0.8;1;0.8#0;0;0;0;0.05;0.5333;0.05;0.5333;0.1;0.6;0.1;0.6;0.15;0.6667;0.15;0.6667;0.2;0.8667;0.2;0.8667;0.25;0.8667;0.25;0.8667;0.3;0.8667;0.3;0.8667;0.35;0.6667;0.35;0.6667;0.4;0.5333;0.4;0.5333;0.45;0;0.45;0;0.5;0;0.5;0;0.55;0;0.55;0;0.6;0;0.6;0;0.65;0;0.65;0;0.7;0;0.7;0;0.75;0;0.75;0;0.8;0;0.8;0;0.85;0;0.85;0;0.9;0;0.9;0;0.95;0;0.95;0;1;0.8;1;0.8#0;0;0.2;0.977778;1;1\"\n",
    "    build_gradient(pal)\n",
    "    dic_windows[f'a_vol{i}'].setPalette('plasma')\n",
    "    dic_windows[f'rvol{i}'] = a.fusionObjects(objects=[dic_windows[f'a_vol{i}']], method='VolumeRenderingFusionMethod')\n",
    "    dic_windows[f'rvol{i}'].releaseAppRef()\n",
    "    dic_windows[f'wvr{i}'] = a.createWindow('3D', block=block)\n",
    "    dic_windows[f'wvr{i}'].addObjects(dic_windows[f'rvol{i}'])"
   ]
  },
  {
   "cell_type": "code",
   "execution_count": null,
   "metadata": {},
   "outputs": [],
   "source": []
  }
 ],
 "metadata": {
  "kernelspec": {
   "display_name": "venv",
   "language": "python",
   "name": "python3"
  },
  "language_info": {
   "codemirror_mode": {
    "name": "ipython",
    "version": 3
   },
   "file_extension": ".py",
   "mimetype": "text/x-python",
   "name": "python",
   "nbconvert_exporter": "python",
   "pygments_lexer": "ipython3",
   "version": "3.10.12"
  }
 },
 "nbformat": 4,
 "nbformat_minor": 2
}
