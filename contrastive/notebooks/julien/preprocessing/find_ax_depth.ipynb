{
 "cells": [
  {
   "cell_type": "code",
   "execution_count": 2,
   "metadata": {},
   "outputs": [],
   "source": [
    "import numpy as np\n",
    "import os\n",
    "from tqdm import tqdm"
   ]
  },
  {
   "cell_type": "code",
   "execution_count": 3,
   "metadata": {},
   "outputs": [],
   "source": [
    "dataset = 'hcp'\n",
    "sulcus = 'S.C.-sylv.'\n",
    "side = 'L'\n",
    "crops_dir = f'/neurospin/dico/data/deep_folding/current/datasets/{dataset}/crops/2mm/{sulcus}/mask/{side}skeleton_rotated.npy'"
   ]
  },
  {
   "cell_type": "code",
   "execution_count": 4,
   "metadata": {},
   "outputs": [
    {
     "name": "stdout",
     "output_type": "stream",
     "text": [
      "(1114, 61, 25, 22, 1)\n"
     ]
    }
   ],
   "source": [
    "crops = np.load(crops_dir)\n",
    "print(crops.shape)"
   ]
  },
  {
   "cell_type": "code",
   "execution_count": 5,
   "metadata": {},
   "outputs": [],
   "source": [
    "nb_samples = 100\n",
    "list_directions = []\n",
    "for skel in crops[np.random.choice(crops.shape[0], nb_samples, replace=False),:,:,:,0]:\n",
    "    # find the average direction between bottom and top\n",
    "    coords_bottom = np.stack(np.nonzero(skel==30)).T\n",
    "    coords_top = np.stack(np.nonzero(skel==35)).T\n",
    "    list_closest_coords_bottom = []\n",
    "    for coord_top in coords_top:\n",
    "        idx_closest_bottom = np.argmin(np.sum(np.square(coords_bottom - coord_top),axis=1))\n",
    "        coord_bottom = coords_bottom[idx_closest_bottom]\n",
    "        list_closest_coords_bottom.append(coord_bottom)\n",
    "    closest_coords_bottom = np.stack(list_closest_coords_bottom)\n",
    "    direction = np.mean(coords_top - closest_coords_bottom, axis=0)\n",
    "    list_directions.append(direction)\n",
    "global_direction = np.mean(np.stack(list_directions), axis=0)"
   ]
  },
  {
   "cell_type": "code",
   "execution_count": 6,
   "metadata": {},
   "outputs": [
    {
     "name": "stdout",
     "output_type": "stream",
     "text": [
      "Average vector between tops and bottoms (vx) : [-0.12888693  1.70024025  0.23082223]\n",
      "Depth axis : 1, orientation : 1\n",
      "Corr strength with selected dimension : 0.9881264623945718\n"
     ]
    }
   ],
   "source": [
    "print(f'Average vector between tops and bottoms (vx) : {global_direction}')\n",
    "depth_axis = np.argmax(np.abs(global_direction))\n",
    "depth_sign = int(np.sign(global_direction[depth_axis]))\n",
    "print(f'Depth axis : {depth_axis}, orientation : {depth_sign}')\n",
    "print(f'Corr strength with selected dimension : {np.abs(global_direction[depth_axis]) / np.linalg.norm(global_direction)}')"
   ]
  },
  {
   "cell_type": "code",
   "execution_count": 7,
   "metadata": {},
   "outputs": [
    {
     "name": "stdout",
     "output_type": "stream",
     "text": [
      "[0, 1, 3, 2, 4]\n"
     ]
    }
   ],
   "source": [
    "# put the depth on last dim, and put the largest between the other two in first dimension\n",
    "dims = crops.shape[1:4]\n",
    "order_axes = [0, 1, 2]\n",
    "order_axes[2], order_axes[depth_axis] = order_axes[depth_axis], order_axes[2]\n",
    "if dims[order_axes[1]] > dims[order_axes[0]]:\n",
    "    order_axes[0], order_axes[1] = order_axes[1], order_axes[0]\n",
    "# rescale to apply to whole array\n",
    "order_axes = [ax + 1 for ax in order_axes]\n",
    "order_axes = [0] + order_axes + [4]\n",
    "print(order_axes)\n",
    "crops_ordered_dims = np.transpose(crops, axes=order_axes)\n",
    "# if orientation is negative, flip on this dimension \n",
    "if depth_sign == -1:\n",
    "    crops_ordered_dims = crops_ordered_dims[:,:,:,::-1,:]"
   ]
  },
  {
   "cell_type": "code",
   "execution_count": 8,
   "metadata": {},
   "outputs": [
    {
     "data": {
      "text/plain": [
       "(1114, 61, 22, 25, 1)"
      ]
     },
     "execution_count": 8,
     "metadata": {},
     "output_type": "execute_result"
    }
   ],
   "source": [
    "crops_ordered_dims.shape"
   ]
  },
  {
   "cell_type": "code",
   "execution_count": null,
   "metadata": {},
   "outputs": [],
   "source": []
  }
 ],
 "metadata": {
  "kernelspec": {
   "display_name": "venv",
   "language": "python",
   "name": "python3"
  },
  "language_info": {
   "codemirror_mode": {
    "name": "ipython",
    "version": 3
   },
   "file_extension": ".py",
   "mimetype": "text/x-python",
   "name": "python",
   "nbconvert_exporter": "python",
   "pygments_lexer": "ipython3",
   "version": "3.10.12"
  }
 },
 "nbformat": 4,
 "nbformat_minor": 2
}
