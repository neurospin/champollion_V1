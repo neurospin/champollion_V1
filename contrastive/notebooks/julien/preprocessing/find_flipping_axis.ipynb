{
 "cells": [
  {
   "cell_type": "code",
   "execution_count": 1,
   "metadata": {},
   "outputs": [],
   "source": [
    "import numpy as np\n",
    "import os"
   ]
  },
  {
   "cell_type": "code",
   "execution_count": 2,
   "metadata": {},
   "outputs": [],
   "source": [
    "Rskels = np.load('/neurospin/dico/data/deep_folding/current/datasets/UkBioBank/crops/2mm/CINGULATE/mask/Rskeleton.npy')\n",
    "Lskels = np.load('/neurospin/dico/data/deep_folding/current/datasets/UkBioBank/crops/2mm/CINGULATE/mask/Lskeleton.npy')"
   ]
  },
  {
   "cell_type": "code",
   "execution_count": 4,
   "metadata": {},
   "outputs": [
    {
     "name": "stdout",
     "output_type": "stream",
     "text": [
      "center bottom: [np.float64(6.412731119532858), np.float64(16.28410034540941), np.float64(15.885029903091016)]\n",
      "center top: [np.float64(10.027916323179474), np.float64(16.487847567843453), np.float64(14.705051499697374)]\n"
     ]
    },
    {
     "ename": "TypeError",
     "evalue": "unsupported operand type(s) for -: 'list' and 'list'",
     "output_type": "error",
     "traceback": [
      "\u001b[0;31m---------------------------------------------------------------------------\u001b[0m",
      "\u001b[0;31mTypeError\u001b[0m                                 Traceback (most recent call last)",
      "Cell \u001b[0;32mIn[4], line 9\u001b[0m\n\u001b[1;32m      7\u001b[0m center_top \u001b[38;5;241m=\u001b[39m \u001b[38;5;28mlist\u001b[39m([np\u001b[38;5;241m.\u001b[39mmean(tops[i]) \u001b[38;5;28;01mfor\u001b[39;00m i \u001b[38;5;129;01min\u001b[39;00m \u001b[38;5;28mrange\u001b[39m(\u001b[38;5;241m1\u001b[39m,\u001b[38;5;28mlen\u001b[39m(tops)\u001b[38;5;241m-\u001b[39m\u001b[38;5;241m1\u001b[39m)])\n\u001b[1;32m      8\u001b[0m \u001b[38;5;28mprint\u001b[39m(\u001b[38;5;124mf\u001b[39m\u001b[38;5;124m'\u001b[39m\u001b[38;5;124mcenter top: \u001b[39m\u001b[38;5;132;01m{\u001b[39;00mcenter_top\u001b[38;5;132;01m}\u001b[39;00m\u001b[38;5;124m'\u001b[39m)\n\u001b[0;32m----> 9\u001b[0m \u001b[38;5;28mprint\u001b[39m(\u001b[38;5;124mf\u001b[39m\u001b[38;5;124m'\u001b[39m\u001b[38;5;124mdirection: \u001b[39m\u001b[38;5;132;01m{\u001b[39;00m\u001b[43mcenter_top\u001b[49m\u001b[38;5;241;43m-\u001b[39;49m\u001b[43mcenter_bottom\u001b[49m\u001b[38;5;132;01m}\u001b[39;00m\u001b[38;5;124m'\u001b[39m)\n",
      "\u001b[0;31mTypeError\u001b[0m: unsupported operand type(s) for -: 'list' and 'list'"
     ]
    }
   ],
   "source": [
    "# bottom center\n",
    "for skels in [Rskels, Lskels]:\n",
    "    bottoms = np.nonzero(skels==30)\n",
    "    center_bottom = [np.mean(bottoms[i]) for i in range(1,len(bottoms)-1)]\n",
    "    print(f'center bottom: {center_bottom}')\n",
    "    tops = np.nonzero(skels==35)\n",
    "    center_top = [np.mean(tops[i]) for i in range(1,len(tops)-1)]\n",
    "    print(f'center top: {center_top}')\n",
    "    print(f'direction: {center_top-center_bottom}')"
   ]
  },
  {
   "cell_type": "code",
   "execution_count": null,
   "metadata": {},
   "outputs": [],
   "source": []
  }
 ],
 "metadata": {
  "kernelspec": {
   "display_name": "venv",
   "language": "python",
   "name": "python3"
  },
  "language_info": {
   "codemirror_mode": {
    "name": "ipython",
    "version": 3
   },
   "file_extension": ".py",
   "mimetype": "text/x-python",
   "name": "python",
   "nbconvert_exporter": "python",
   "pygments_lexer": "ipython3",
   "version": "3.10.12"
  }
 },
 "nbformat": 4,
 "nbformat_minor": 2
}
