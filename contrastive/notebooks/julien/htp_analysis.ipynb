{
 "cells": [
  {
   "cell_type": "code",
   "execution_count": 6,
   "metadata": {},
   "outputs": [],
   "source": [
    "import numpy as np\n",
    "import pandas as pd\n",
    "import os\n",
    "from sklearn.metrics.pairwise import cosine_similarity, cosine_distances\n",
    "import matplotlib.pyplot as plt\n",
    "from sklearn.metrics import roc_auc_score\n",
    "from scipy.stats import zscore"
   ]
  },
  {
   "cell_type": "code",
   "execution_count": 7,
   "metadata": {},
   "outputs": [
    {
     "name": "stdout",
     "output_type": "stream",
     "text": [
      "0.06458757423772421 0.1560368649767983 0.1423181982126821 0.3847889726873408\n",
      "0.06251099585333397 0.1584230398102431 0.1436101048372096 0.4116053633709961\n",
      "0.06533943732548453 0.16501341931776362 0.14848735413180614 0.4188371418450903\n",
      "0.06337735450154436 0.15361292200980334 0.14017738566189475 0.3807464855358775\n",
      "0.07735699055853984 0.1709855474876392 0.16844938654010944 0.44228902739155873\n",
      "\n",
      "0.05550453248504539 0.14538121032365797 0.12150520741729487 0.3307737194718199\n",
      "0.055265216940948325 0.1488116514196047 0.12221898795971153 0.33540107462612184\n",
      "0.05341098428862889 0.15318929019630267 0.12281963519848416 0.35952856564004776\n",
      "0.059481202091282936 0.15847222099901756 0.13543068406077596 0.37687023025651356\n"
     ]
    }
   ],
   "source": [
    "#model_dir = '/neurospin/dico/jlaval/Output/5_models_FIP_right_3_layer_proj/16-33-05_0/'\n",
    "#model_dir = '/neurospin/dico/jlaval/Output/SC-sylv_V1_vs_baseline/PreV1_32dims_no_pool_cutin_cutout_only' # score 51%\n",
    "#model_dir = '/neurospin/dico/jlaval/Output/SC-sylv_left/PreV1_32dims_no_pool' # score 65%\n",
    "#model_dir = '/neurospin/dico/jlaval/Output/SOr_V1_vs_baseline/V1/'\n",
    "#model_dir = '/neurospin/dico/jlaval/Output/FIP_cutin_cutout/12-45-14_37/'\n",
    "#model_dir = '/neurospin/dico/jlaval/Output/V1_FIP/14-06-27_101/'\n",
    "#model_dir = '/neurospin/dico/jlaval/Output/V1_FIP_right/19-11-38_1'\n",
    "root = '/neurospin/dico/jlaval/Output/jeanzay/SC-sylv_left_baseline/'\n",
    "model_dir_list = os.listdir(root)\n",
    "\n",
    "for model_dir in model_dir_list:\n",
    "    model_dir = os.path.join(root, model_dir)\n",
    "    htp_embs = pd.read_csv(os.path.join(model_dir, 'htp_random_embeddings/full_embeddings.csv'))\n",
    "    htp_embs = htp_embs.drop_duplicates(subset='ID', keep='first')\n",
    "    htp_embs = htp_embs.reset_index()\n",
    "\n",
    "    dims = [f'dim{k}' for k in range(1,33)]\n",
    "    distrib_htp = cosine_distances(htp_embs[dims].to_numpy())\n",
    "    # sort the indexes by similarity\n",
    "    sorted_indices_2d = np.unravel_index(np.argsort(distrib_htp.flatten()), distrib_htp.shape)\n",
    "    distrib_htp -= np.eye(distrib_htp.shape[0])\n",
    "\n",
    "    #plt.hist(distrib_htp.flatten(), bins=np.linspace(-1,1,100))\n",
    "    print(np.median(distrib_htp), np.std(distrib_htp), np.quantile(distrib_htp, 0.75), np.quantile(distrib_htp, 0.95))\n",
    "\n",
    "print('')\n",
    "\n",
    "root = '/neurospin/dico/jlaval/Output/jeanzay/SC-sylv_left_V1/'\n",
    "model_dir_list = os.listdir(root)\n",
    "\n",
    "for model_dir in model_dir_list:\n",
    "    model_dir = os.path.join(root, model_dir)\n",
    "    htp_embs = pd.read_csv(os.path.join(model_dir, 'htp_random_embeddings/full_embeddings.csv'))\n",
    "    htp_embs = htp_embs.drop_duplicates(subset='ID', keep='first')\n",
    "    htp_embs = htp_embs.reset_index()\n",
    "\n",
    "    dims = [f'dim{k}' for k in range(1,33)]\n",
    "    distrib_htp = cosine_distances(htp_embs[dims].to_numpy())\n",
    "    # sort the indexes by similarity\n",
    "    sorted_indices_2d = np.unravel_index(np.argsort(distrib_htp.flatten()), distrib_htp.shape)\n",
    "    distrib_htp -= np.eye(distrib_htp.shape[0])\n",
    "\n",
    "    #plt.hist(distrib_htp.flatten(), bins=np.linspace(-1,1,100))\n",
    "    print(np.median(distrib_htp), np.std(distrib_htp), np.quantile(distrib_htp, 0.75), np.quantile(distrib_htp, 0.95)) # the std is influenced by the outliers.\n",
    "\n",
    "# large difference between V1 and baseline without taking into account UKB"
   ]
  },
  {
   "cell_type": "code",
   "execution_count": 74,
   "metadata": {},
   "outputs": [
    {
     "name": "stdout",
     "output_type": "stream",
     "text": [
      "216 376\n",
      "Scan0234 Scan0405\n",
      "distance : 0.09734601837009682\n"
     ]
    }
   ],
   "source": [
    "## get the pairs of subjects which are at .75 percentile\n",
    "percentile = 0.80\n",
    "idx = int(percentile*sorted_indices_2d[0].shape[0])\n",
    "idx1, idx2 = sorted_indices_2d[0][idx], sorted_indices_2d[1][idx]\n",
    "print(idx1, idx2)\n",
    "# get the associated IDs\n",
    "print(htp_embs['ID'][idx1], htp_embs['ID'][idx2])\n",
    "print(f'distance : {distrib_htp[idx1, idx2]}')"
   ]
  },
  {
   "cell_type": "code",
   "execution_count": 8,
   "metadata": {},
   "outputs": [
    {
     "name": "stdout",
     "output_type": "stream",
     "text": [
      "nb subjects after filtering : 392\n",
      "Barycenter ignoring outliers: [ 11.81522199 -68.31941122  -9.80890742 -13.10448882  19.59186031\n",
      " -21.58038861  21.05669165  19.56338028  17.41613816 -23.63654297\n",
      " -14.78324309 -16.35906545 -12.96990469  17.00906503  25.56051628\n",
      "  40.58428777   0.5232933  -11.98693862  21.17580284   1.99294068\n",
      "  17.28563187  28.80463297  22.43611687 -39.40247789  14.78755179\n",
      "  -9.08920085  12.19317262   8.10057898  -5.17128324 -34.80164743\n",
      "   5.29077285   8.05687804]\n"
     ]
    }
   ],
   "source": [
    "## use distance to barycenter instead\n",
    "data = htp_embs[dims].to_numpy()\n",
    "\n",
    "# Compute Z-scores along each dimension\n",
    "z_scores = np.abs(zscore(data, axis=0))\n",
    "\n",
    "# Define a threshold for outlier detection (e.g., Z-score > 3)\n",
    "outlier_threshold = 2\n",
    "\n",
    "# Filter out the outliers\n",
    "filtered_data = data[(z_scores < outlier_threshold).all(axis=1)]\n",
    "print(f'nb subjects after filtering : {len(filtered_data)}')\n",
    "\n",
    "# Compute the barycenter (mean) of the remaining data\n",
    "barycenter = np.mean(filtered_data, axis=0)\n",
    "\n",
    "print(\"Barycenter ignoring outliers:\", barycenter)"
   ]
  },
  {
   "cell_type": "code",
   "execution_count": 9,
   "metadata": {},
   "outputs": [],
   "source": [
    "barycenter_reshaped = barycenter.reshape(1, -1)\n",
    "cos_dists_htp = cosine_distances(data, barycenter_reshaped)"
   ]
  },
  {
   "cell_type": "code",
   "execution_count": 11,
   "metadata": {},
   "outputs": [],
   "source": [
    "ukb_embs = pd.read_csv(os.path.join(model_dir, 'ukb40_random_embeddings/full_embeddings.csv')) # use UKB here\n",
    "ukb_embs = ukb_embs.drop_duplicates(subset='ID', keep='first')\n",
    "ukb_embs = ukb_embs.reset_index()"
   ]
  },
  {
   "cell_type": "code",
   "execution_count": 13,
   "metadata": {},
   "outputs": [],
   "source": [
    "# dist between barycenter and ukb\n",
    "ukb_htp_dist = cosine_distances(ukb_embs[dims].to_numpy(), barycenter_reshaped)"
   ]
  },
  {
   "cell_type": "code",
   "execution_count": 16,
   "metadata": {},
   "outputs": [
    {
     "data": {
      "text/plain": [
       "array([0.07371852])"
      ]
     },
     "execution_count": 16,
     "metadata": {},
     "output_type": "execute_result"
    }
   ],
   "source": [
    "min(ukb_htp_dist)"
   ]
  },
  {
   "cell_type": "code",
   "execution_count": 77,
   "metadata": {},
   "outputs": [],
   "source": [
    "#ukb_embs = ukb_embs.sample(10000)\n",
    "distrib_ukb = cosine_distances(ukb_embs[dims].to_numpy())\n",
    "#flat_distrib = distrib_ukb[~np.eye(distrib_ukb.shape[0], dtype=bool)].flatten()\n",
    "#plt.hist(flat_distrib, bins=np.linspace(-1,1,100))\n",
    "#print(np.median(flat_distrib), np.quantile(flat_distrib, 0.25), np.quantile(flat_distrib, 0.05))"
   ]
  },
  {
   "cell_type": "code",
   "execution_count": 78,
   "metadata": {},
   "outputs": [
    {
     "name": "stdout",
     "output_type": "stream",
     "text": [
      "0.08586102854463529\n",
      "The caracteristic distance is half the distance between nearest neighboors : 0.042930514272317644\n"
     ]
    }
   ],
   "source": [
    "# nearest neighboor average distance in UKB\n",
    "# BEWARE, IT MODIFIES DISTRIB IN PLACE\n",
    "np.fill_diagonal(distrib_ukb, 1)\n",
    "nearest = np.min(distrib_ukb, axis=0)\n",
    "nearest_dist = np.median(nearest)\n",
    "print(nearest_dist)\n",
    "print(f'The caracteristic distance is half the distance between nearest neighboors : {nearest_dist / 2}')"
   ]
  },
  {
   "cell_type": "code",
   "execution_count": 79,
   "metadata": {},
   "outputs": [
    {
     "name": "stdout",
     "output_type": "stream",
     "text": [
      "median : 0.014476251031389165\n",
      "proportion of htp scans within the caracteristic distance : 0.8116504854368932\n",
      "proportion of htp scans within 2 caracteristic distance : 0.8990291262135922\n"
     ]
    }
   ],
   "source": [
    "print(f'median : {np.median(cos_dists_htp)}')\n",
    "score = 1 - np.sum(cos_dists_htp > nearest_dist / 2) / len(cos_dists_htp)\n",
    "print(f'proportion of htp scans within the caracteristic distance : {score}')\n",
    "loose_score = 1 - np.sum(cos_dists_htp > nearest_dist) / len(cos_dists_htp)\n",
    "print(f'proportion of htp scans within 2 caracteristic distance : {loose_score}')"
   ]
  },
  {
   "cell_type": "code",
   "execution_count": 124,
   "metadata": {},
   "outputs": [
    {
     "data": {
      "text/html": [
       "<div>\n",
       "<style scoped>\n",
       "    .dataframe tbody tr th:only-of-type {\n",
       "        vertical-align: middle;\n",
       "    }\n",
       "\n",
       "    .dataframe tbody tr th {\n",
       "        vertical-align: top;\n",
       "    }\n",
       "\n",
       "    .dataframe thead th {\n",
       "        text-align: right;\n",
       "    }\n",
       "</style>\n",
       "<table border=\"1\" class=\"dataframe\">\n",
       "  <thead>\n",
       "    <tr style=\"text-align: right;\">\n",
       "      <th></th>\n",
       "      <th>0</th>\n",
       "    </tr>\n",
       "  </thead>\n",
       "  <tbody>\n",
       "    <tr>\n",
       "      <th>count</th>\n",
       "      <td>42433.000000</td>\n",
       "    </tr>\n",
       "    <tr>\n",
       "      <th>mean</th>\n",
       "      <td>0.926837</td>\n",
       "    </tr>\n",
       "    <tr>\n",
       "      <th>std</th>\n",
       "      <td>0.021346</td>\n",
       "    </tr>\n",
       "    <tr>\n",
       "      <th>min</th>\n",
       "      <td>0.811586</td>\n",
       "    </tr>\n",
       "    <tr>\n",
       "      <th>25%</th>\n",
       "      <td>0.913384</td>\n",
       "    </tr>\n",
       "    <tr>\n",
       "      <th>50%</th>\n",
       "      <td>0.928248</td>\n",
       "    </tr>\n",
       "    <tr>\n",
       "      <th>75%</th>\n",
       "      <td>0.941944</td>\n",
       "    </tr>\n",
       "    <tr>\n",
       "      <th>max</th>\n",
       "      <td>0.999158</td>\n",
       "    </tr>\n",
       "  </tbody>\n",
       "</table>\n",
       "</div>"
      ],
      "text/plain": [
       "                  0\n",
       "count  42433.000000\n",
       "mean       0.926837\n",
       "std        0.021346\n",
       "min        0.811586\n",
       "25%        0.913384\n",
       "50%        0.928248\n",
       "75%        0.941944\n",
       "max        0.999158"
      ]
     },
     "execution_count": 124,
     "metadata": {},
     "output_type": "execute_result"
    }
   ],
   "source": [
    "pd.DataFrame(nearest).describe()"
   ]
  },
  {
   "cell_type": "markdown",
   "metadata": {},
   "source": [
    "# LOOP"
   ]
  },
  {
   "cell_type": "code",
   "execution_count": 99,
   "metadata": {},
   "outputs": [
    {
     "name": "stdout",
     "output_type": "stream",
     "text": [
      "nb subjects after filtering : 381\n",
      "median : 0.007698329841367757\n",
      "proportion of htp scans within the caracteristic distance : 0.7475728155339806\n",
      "proportion of htp scans within 2 caracteristic distance : 0.8796116504854369\n",
      "nb subjects after filtering : 355\n",
      "median : 0.00893990334341599\n",
      "proportion of htp scans within the caracteristic distance : 0.5223300970873787\n",
      "proportion of htp scans within 2 caracteristic distance : 0.7514563106796117\n",
      "nb subjects after filtering : 329\n",
      "median : 0.012344018318872108\n",
      "proportion of htp scans within the caracteristic distance : 0.6970873786407767\n",
      "proportion of htp scans within 2 caracteristic distance : 0.8699029126213592\n",
      "nb subjects after filtering : 355\n",
      "median : 0.015916613146654157\n",
      "proportion of htp scans within the caracteristic distance : 0.22718446601941744\n",
      "proportion of htp scans within 2 caracteristic distance : 0.5242718446601942\n",
      "nb subjects after filtering : 331\n",
      "median : 0.016749136335338255\n",
      "proportion of htp scans within the caracteristic distance : 0.2815533980582524\n",
      "proportion of htp scans within 2 caracteristic distance : 0.5805825242718446\n",
      "nb subjects after filtering : 378\n",
      "median : 0.014192474093291163\n",
      "proportion of htp scans within the caracteristic distance : 0.8116504854368932\n",
      "proportion of htp scans within 2 caracteristic distance : 0.8854368932038835\n",
      "nb subjects after filtering : 394\n",
      "median : 0.02159262206465884\n",
      "proportion of htp scans within the caracteristic distance : 0.7456310679611651\n",
      "proportion of htp scans within 2 caracteristic distance : 0.8621359223300971\n",
      "nb subjects after filtering : 387\n",
      "median : 0.014940344191382904\n",
      "proportion of htp scans within the caracteristic distance : 0.8038834951456311\n",
      "proportion of htp scans within 2 caracteristic distance : 0.8932038834951457\n",
      "nb subjects after filtering : 358\n",
      "median : 0.015738767435331535\n",
      "proportion of htp scans within the caracteristic distance : 0.7378640776699029\n",
      "proportion of htp scans within 2 caracteristic distance : 0.8796116504854369\n",
      "nb subjects after filtering : 387\n",
      "median : 0.012265222931156172\n",
      "proportion of htp scans within the caracteristic distance : 0.8116504854368932\n",
      "proportion of htp scans within 2 caracteristic distance : 0.9067961165048544\n",
      "nb subjects after filtering : 387\n",
      "median : 0.01842283660183064\n",
      "proportion of htp scans within the caracteristic distance : 0.7844660194174757\n",
      "proportion of htp scans within 2 caracteristic distance : 0.8951456310679612\n",
      "nb subjects after filtering : 402\n",
      "median : 0.019787769153651658\n",
      "proportion of htp scans within the caracteristic distance : 0.7592233009708738\n",
      "proportion of htp scans within 2 caracteristic distance : 0.8621359223300971\n",
      "nb subjects after filtering : 392\n",
      "median : 0.016364298159867507\n",
      "proportion of htp scans within the caracteristic distance : 0.7922330097087379\n",
      "proportion of htp scans within 2 caracteristic distance : 0.8757281553398059\n",
      "nb subjects after filtering : 374\n",
      "median : 0.013819313014598933\n",
      "proportion of htp scans within the caracteristic distance : 0.7728155339805826\n",
      "proportion of htp scans within 2 caracteristic distance : 0.8912621359223301\n",
      "nb subjects after filtering : 381\n",
      "median : 0.015735931390126634\n",
      "proportion of htp scans within the caracteristic distance : 0.8\n",
      "proportion of htp scans within 2 caracteristic distance : 0.8893203883495145\n"
     ]
    }
   ],
   "source": [
    "root = '/neurospin/dico/jlaval/Output/V1_FIP_right/'\n",
    "model_dir_list = os.listdir(root)\n",
    "\n",
    "for epoch in [0,10,20]:\n",
    "\n",
    "    for model_dir in model_dir_list:\n",
    "\n",
    "        model_dir = root + model_dir\n",
    "\n",
    "        htp_embs = pd.read_csv(os.path.join(model_dir, f'htp_random_epoch{epoch}_embeddings/full_embeddings.csv'))\n",
    "        htp_embs = htp_embs.drop_duplicates(subset='ID', keep='first')\n",
    "        htp_embs = htp_embs.reset_index()\n",
    "\n",
    "        dims = [f'dim{k}' for k in range(1,33)]\n",
    "        distrib_htp = cosine_distances(htp_embs[dims].to_numpy())\n",
    "        # sort the indexes by similarity\n",
    "        sorted_indices_2d = np.unravel_index(np.argsort(distrib_htp.flatten()), distrib_htp.shape)\n",
    "        distrib_htp -= np.eye(distrib_htp.shape[0])\n",
    "\n",
    "        ## use distance to barycenter instead\n",
    "        data = htp_embs[dims].to_numpy()\n",
    "\n",
    "        # Compute Z-scores along each dimension\n",
    "        z_scores = np.abs(zscore(data, axis=0))\n",
    "\n",
    "        # Define a threshold for outlier detection (e.g., Z-score > 3)\n",
    "        outlier_threshold = 2\n",
    "\n",
    "        # Filter out the outliers\n",
    "        filtered_data = data[(z_scores < outlier_threshold).all(axis=1)]\n",
    "        print(f'nb subjects after filtering : {len(filtered_data)}')\n",
    "\n",
    "        # Compute the barycenter (mean) of the remaining data\n",
    "        barycenter = np.mean(filtered_data, axis=0)\n",
    "\n",
    "        barycenter_reshaped = barycenter.reshape(1, -1)\n",
    "        cos_dists_htp = cosine_distances(data, barycenter_reshaped)\n",
    "\n",
    "        ukb_embs = pd.read_csv(os.path.join(model_dir, f'ukb40_random_epoch{epoch}_embeddings/full_embeddings.csv')) # use UKB here\n",
    "        ukb_embs = ukb_embs.drop_duplicates(subset='ID', keep='first')\n",
    "        ukb_embs = ukb_embs.reset_index()\n",
    "        distrib_ukb = cosine_distances(ukb_embs[dims].to_numpy())\n",
    "\n",
    "        np.fill_diagonal(distrib_ukb, 1)\n",
    "        nearest = np.min(distrib_ukb, axis=0)\n",
    "        nearest_dist = np.median(nearest)\n",
    "\n",
    "        print(f'median : {np.median(cos_dists_htp)}')\n",
    "        score = 1 - np.sum(cos_dists_htp > nearest_dist / 2) / len(cos_dists_htp)\n",
    "        print(f'proportion of htp scans within the caracteristic distance : {score}')\n",
    "        loose_score = 1 - np.sum(cos_dists_htp > nearest_dist) / len(cos_dists_htp)\n",
    "        print(f'proportion of htp scans within 2 caracteristic distance : {loose_score}')"
   ]
  },
  {
   "cell_type": "markdown",
   "metadata": {},
   "source": [
    "# LOOP without epochs"
   ]
  },
  {
   "cell_type": "code",
   "execution_count": 101,
   "metadata": {},
   "outputs": [
    {
     "name": "stdout",
     "output_type": "stream",
     "text": [
      "nb subjects after filtering : 383\n",
      "median : 0.02441281280586527\n",
      "proportion of htp scans within the caracteristic distance : 0.5941747572815534\n",
      "proportion of htp scans within 2 caracteristic distance : 0.7883495145631068\n",
      "nb subjects after filtering : 384\n",
      "median : 0.023918947306984628\n",
      "proportion of htp scans within the caracteristic distance : 0.5106796116504855\n",
      "proportion of htp scans within 2 caracteristic distance : 0.7436893203883495\n",
      "nb subjects after filtering : 379\n",
      "median : 0.02408579681540135\n",
      "proportion of htp scans within the caracteristic distance : 0.6271844660194175\n",
      "proportion of htp scans within 2 caracteristic distance : 0.8019417475728156\n",
      "nb subjects after filtering : 392\n",
      "median : 0.02647879099299222\n",
      "proportion of htp scans within the caracteristic distance : 0.487378640776699\n",
      "proportion of htp scans within 2 caracteristic distance : 0.7048543689320388\n"
     ]
    }
   ],
   "source": [
    "root = '/neurospin/dico/jlaval/Output/jeanzay/SC-sylv_left_V1/'\n",
    "model_dir_list = os.listdir(root)\n",
    "\n",
    "\n",
    "for model_dir in model_dir_list:\n",
    "\n",
    "    model_dir = root + model_dir\n",
    "\n",
    "    htp_embs = pd.read_csv(os.path.join(model_dir, f'htp_random_embeddings/full_embeddings.csv'))\n",
    "    htp_embs = htp_embs.drop_duplicates(subset='ID', keep='first')\n",
    "    htp_embs = htp_embs.reset_index()\n",
    "\n",
    "    dims = [f'dim{k}' for k in range(1,33)]\n",
    "    distrib_htp = cosine_distances(htp_embs[dims].to_numpy())\n",
    "    # sort the indexes by similarity\n",
    "    sorted_indices_2d = np.unravel_index(np.argsort(distrib_htp.flatten()), distrib_htp.shape)\n",
    "    distrib_htp -= np.eye(distrib_htp.shape[0])\n",
    "\n",
    "    ## use distance to barycenter instead\n",
    "    data = htp_embs[dims].to_numpy()\n",
    "\n",
    "    # Compute Z-scores along each dimension\n",
    "    z_scores = np.abs(zscore(data, axis=0))\n",
    "\n",
    "    # Define a threshold for outlier detection (e.g., Z-score > 3)\n",
    "    outlier_threshold = 2\n",
    "\n",
    "    # Filter out the outliers\n",
    "    filtered_data = data[(z_scores < outlier_threshold).all(axis=1)]\n",
    "    print(f'nb subjects after filtering : {len(filtered_data)}')\n",
    "\n",
    "    # Compute the barycenter (mean) of the remaining data\n",
    "    barycenter = np.mean(filtered_data, axis=0)\n",
    "\n",
    "    barycenter_reshaped = barycenter.reshape(1, -1)\n",
    "    cos_dists_htp = cosine_distances(data, barycenter_reshaped)\n",
    "\n",
    "    ukb_embs = pd.read_csv(os.path.join(model_dir, 'ukb40_random_embeddings/full_embeddings.csv')) # use UKB here\n",
    "    ukb_embs = ukb_embs.drop_duplicates(subset='ID', keep='first')\n",
    "    ukb_embs = ukb_embs.reset_index()\n",
    "    distrib_ukb = cosine_distances(ukb_embs[dims].to_numpy())\n",
    "\n",
    "    np.fill_diagonal(distrib_ukb, 1)\n",
    "    nearest = np.min(distrib_ukb, axis=0)\n",
    "    nearest_dist = np.median(nearest)\n",
    "\n",
    "    print(f'median : {np.median(cos_dists_htp)}')\n",
    "    score = 1 - np.sum(cos_dists_htp > nearest_dist / 2) / len(cos_dists_htp)\n",
    "    print(f'proportion of htp scans within the caracteristic distance : {score}')\n",
    "    loose_score = 1 - np.sum(cos_dists_htp > nearest_dist) / len(cos_dists_htp)\n",
    "    print(f'proportion of htp scans within 2 caracteristic distance : {loose_score}')"
   ]
  },
  {
   "cell_type": "code",
   "execution_count": 102,
   "metadata": {},
   "outputs": [
    {
     "name": "stdout",
     "output_type": "stream",
     "text": [
      "nb subjects after filtering : 365\n",
      "median : 0.02709724568864158\n",
      "proportion of htp scans within the caracteristic distance : 0.5436893203883495\n",
      "proportion of htp scans within 2 caracteristic distance : 0.7514563106796117\n",
      "nb subjects after filtering : 371\n",
      "median : 0.025675734892548152\n",
      "proportion of htp scans within the caracteristic distance : 0.5300970873786408\n",
      "proportion of htp scans within 2 caracteristic distance : 0.7398058252427184\n",
      "nb subjects after filtering : 359\n",
      "median : 0.02617896586593038\n",
      "proportion of htp scans within the caracteristic distance : 0.5048543689320388\n",
      "proportion of htp scans within 2 caracteristic distance : 0.7106796116504854\n",
      "nb subjects after filtering : 378\n",
      "median : 0.027928631338691057\n",
      "proportion of htp scans within the caracteristic distance : 0.44660194174757284\n",
      "proportion of htp scans within 2 caracteristic distance : 0.6873786407766991\n",
      "nb subjects after filtering : 360\n",
      "median : 0.03395527486370298\n",
      "proportion of htp scans within the caracteristic distance : 0.44854368932038835\n",
      "proportion of htp scans within 2 caracteristic distance : 0.6699029126213591\n"
     ]
    }
   ],
   "source": [
    "root = '/neurospin/dico/jlaval/Output/jeanzay/SC-sylv_left_baseline/'\n",
    "model_dir_list = os.listdir(root)\n",
    "\n",
    "\n",
    "for model_dir in model_dir_list:\n",
    "\n",
    "    model_dir = root + model_dir\n",
    "\n",
    "    htp_embs = pd.read_csv(os.path.join(model_dir, f'htp_random_embeddings/full_embeddings.csv'))\n",
    "    htp_embs = htp_embs.drop_duplicates(subset='ID', keep='first')\n",
    "    htp_embs = htp_embs.reset_index()\n",
    "\n",
    "    dims = [f'dim{k}' for k in range(1,33)]\n",
    "    distrib_htp = cosine_distances(htp_embs[dims].to_numpy())\n",
    "    # sort the indexes by similarity\n",
    "    sorted_indices_2d = np.unravel_index(np.argsort(distrib_htp.flatten()), distrib_htp.shape)\n",
    "    distrib_htp -= np.eye(distrib_htp.shape[0])\n",
    "\n",
    "    ## use distance to barycenter instead\n",
    "    data = htp_embs[dims].to_numpy()\n",
    "\n",
    "    # Compute Z-scores along each dimension\n",
    "    z_scores = np.abs(zscore(data, axis=0))\n",
    "\n",
    "    # Define a threshold for outlier detection (e.g., Z-score > 3)\n",
    "    outlier_threshold = 2\n",
    "\n",
    "    # Filter out the outliers\n",
    "    filtered_data = data[(z_scores < outlier_threshold).all(axis=1)]\n",
    "    print(f'nb subjects after filtering : {len(filtered_data)}')\n",
    "\n",
    "    # Compute the barycenter (mean) of the remaining data\n",
    "    barycenter = np.mean(filtered_data, axis=0)\n",
    "\n",
    "    barycenter_reshaped = barycenter.reshape(1, -1)\n",
    "    cos_dists_htp = cosine_distances(data, barycenter_reshaped)\n",
    "\n",
    "    ukb_embs = pd.read_csv(os.path.join(model_dir, 'ukb40_random_embeddings/full_embeddings.csv')) # use UKB here\n",
    "    ukb_embs = ukb_embs.drop_duplicates(subset='ID', keep='first')\n",
    "    ukb_embs = ukb_embs.reset_index()\n",
    "    distrib_ukb = cosine_distances(ukb_embs[dims].to_numpy())\n",
    "\n",
    "    np.fill_diagonal(distrib_ukb, 1)\n",
    "    nearest = np.min(distrib_ukb, axis=0)\n",
    "    nearest_dist = np.median(nearest)\n",
    "\n",
    "    print(f'median : {np.median(cos_dists_htp)}')\n",
    "    score = 1 - np.sum(cos_dists_htp > nearest_dist / 2) / len(cos_dists_htp)\n",
    "    print(f'proportion of htp scans within the caracteristic distance : {score}')\n",
    "    loose_score = 1 - np.sum(cos_dists_htp > nearest_dist) / len(cos_dists_htp)\n",
    "    print(f'proportion of htp scans within 2 caracteristic distance : {loose_score}')"
   ]
  },
  {
   "cell_type": "code",
   "execution_count": 103,
   "metadata": {},
   "outputs": [],
   "source": [
    "del distrib_ukb"
   ]
  },
  {
   "cell_type": "markdown",
   "metadata": {},
   "source": [
    "## Very heavy here"
   ]
  },
  {
   "cell_type": "code",
   "execution_count": null,
   "metadata": {},
   "outputs": [],
   "source": [
    "## TODO: remove the 1 values in the diagonal"
   ]
  },
  {
   "cell_type": "code",
   "execution_count": null,
   "metadata": {},
   "outputs": [],
   "source": [
    "distrib_ukb = distrib_ukb.flatten()"
   ]
  },
  {
   "cell_type": "code",
   "execution_count": 23,
   "metadata": {},
   "outputs": [
    {
     "data": {
      "text/plain": [
       "(array([0.00000000e+00, 0.00000000e+00, 1.15800000e+03, 2.79920000e+04,\n",
       "        2.06908000e+05, 8.06008000e+05, 2.20851000e+06, 4.81467400e+06,\n",
       "        8.94660400e+06, 1.48220740e+07, 2.24765140e+07, 3.18293100e+07,\n",
       "        4.25461740e+07, 5.42280620e+07, 6.63428240e+07, 7.83585280e+07,\n",
       "        8.96483300e+07, 9.96433120e+07, 1.07856128e+08, 1.13911916e+08,\n",
       "        1.17432034e+08, 1.18379940e+08, 1.16603776e+08, 1.12363570e+08,\n",
       "        1.05702466e+08, 9.71103060e+07, 8.69079280e+07, 7.56126620e+07,\n",
       "        6.37233580e+07, 5.18009220e+07, 4.03730360e+07, 2.98480360e+07,\n",
       "        2.06722540e+07, 1.31197960e+07, 7.36683000e+06, 3.43438800e+06,\n",
       "        1.16953800e+06, 2.13806000e+05, 3.61530000e+04]),\n",
       " array([-1.        , -0.94871795, -0.8974359 , -0.84615385, -0.79487179,\n",
       "        -0.74358974, -0.69230769, -0.64102564, -0.58974359, -0.53846154,\n",
       "        -0.48717949, -0.43589744, -0.38461538, -0.33333333, -0.28205128,\n",
       "        -0.23076923, -0.17948718, -0.12820513, -0.07692308, -0.02564103,\n",
       "         0.02564103,  0.07692308,  0.12820513,  0.17948718,  0.23076923,\n",
       "         0.28205128,  0.33333333,  0.38461538,  0.43589744,  0.48717949,\n",
       "         0.53846154,  0.58974359,  0.64102564,  0.69230769,  0.74358974,\n",
       "         0.79487179,  0.84615385,  0.8974359 ,  0.94871795,  1.        ]),\n",
       " <BarContainer object of 39 artists>)"
      ]
     },
     "execution_count": 23,
     "metadata": {},
     "output_type": "execute_result"
    },
    {
     "data": {
      "image/png": "[encoded data removed]",
      "text/plain": [
       "<Figure size 640x480 with 1 Axes>"
      ]
     },
     "metadata": {},
     "output_type": "display_data"
    }
   ],
   "source": [
    "plt.hist(distrib_ukb, bins=np.linspace(-1,1,40))"
   ]
  },
  {
   "cell_type": "code",
   "execution_count": 26,
   "metadata": {},
   "outputs": [
    {
     "ename": "ValueError",
     "evalue": "operands could not be broadcast together with shapes (1800559489,) (265225,) ",
     "output_type": "error",
     "traceback": [
      "\u001b[0;31m---------------------------------------------------------------------------\u001b[0m",
      "\u001b[0;31mValueError\u001b[0m                                Traceback (most recent call last)",
      "Cell \u001b[0;32mIn[26], line 2\u001b[0m\n\u001b[1;32m      1\u001b[0m \u001b[38;5;66;03m# AUC\u001b[39;00m\n\u001b[0;32m----> 2\u001b[0m distrib \u001b[38;5;241m=\u001b[39m \u001b[43mdistrib_ukb\u001b[49m\u001b[43m \u001b[49m\u001b[38;5;241;43m+\u001b[39;49m\u001b[43m \u001b[49m\u001b[43mdistrib_htp\u001b[49m\n\u001b[1;32m      3\u001b[0m labels \u001b[38;5;241m=\u001b[39m [\u001b[38;5;241m0\u001b[39m \u001b[38;5;28;01mfor\u001b[39;00m k \u001b[38;5;129;01min\u001b[39;00m \u001b[38;5;28mrange\u001b[39m(\u001b[38;5;28mlen\u001b[39m(distrib_ukb))] \u001b[38;5;241m+\u001b[39m [\u001b[38;5;241m1\u001b[39m \u001b[38;5;28;01mfor\u001b[39;00m k \u001b[38;5;129;01min\u001b[39;00m \u001b[38;5;28mrange\u001b[39m(\u001b[38;5;28mlen\u001b[39m(distrib_ukb))]\n",
      "\u001b[0;31mValueError\u001b[0m: operands could not be broadcast together with shapes (1800559489,) (265225,) "
     ]
    }
   ],
   "source": [
    "# AUC\n",
    "distrib = distrib_ukb.tolist() + distrib_htp.tolist()\n",
    "labels = [0 for k in range(len(distrib_ukb))] + [1 for k in range(len(distrib_ukb))]"
   ]
  }
 ],
 "metadata": {
  "kernelspec": {
   "display_name": "Python 3",
   "language": "python",
   "name": "python3"
  },
  "language_info": {
   "codemirror_mode": {
    "name": "ipython",
    "version": 3
   },
   "file_extension": ".py",
   "mimetype": "text/x-python",
   "name": "python",
   "nbconvert_exporter": "python",
   "pygments_lexer": "ipython3",
   "version": "3.10.12"
  }
 },
 "nbformat": 4,
 "nbformat_minor": 2
}
