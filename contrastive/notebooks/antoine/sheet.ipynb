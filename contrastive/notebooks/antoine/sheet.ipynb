{
 "cells": [
  {
   "cell_type": "code",
   "execution_count": 1,
   "metadata": {},
   "outputs": [],
   "source": [
    "import pandas as pd\n",
    "import seaborn as sns"
   ]
  },
  {
   "cell_type": "code",
   "execution_count": 2,
   "metadata": {},
   "outputs": [],
   "source": [
    "left_PCS_binary = pd.read_csv('/neurospin/dico/adufournet/Runs/02_Heritability_Left_PCS_HCP/Heritability/data/UKB_left_binary_pred.csv')\n",
    "left_PCS_prob = pd.read_csv('/neurospin/dico/adufournet/Runs/02_Heritability_Left_PCS_HCP/Heritability/data/UKB_prob_pred.csv')\n",
    "left_PCS_prob = left_PCS_prob.rename(columns={\"Pred\" : \"Left_Prob_Pred\"})"
   ]
  },
  {
   "cell_type": "code",
   "execution_count": 3,
   "metadata": {},
   "outputs": [],
   "source": [
    "right_PCS_binary = pd.read_csv('/neurospin/dico/adufournet/Runs/01_Heritability_Right_PCS_HCP/Heritability/data/UKB_right_binary_pred.csv')\n",
    "right_PCS_prob = pd.read_csv('/neurospin/dico/adufournet/Runs/01_Heritability_Right_PCS_HCP/Heritability/data/UKB_right_prob_pred.csv')"
   ]
  },
  {
   "cell_type": "code",
   "execution_count": 4,
   "metadata": {},
   "outputs": [
    {
     "data": {
      "text/html": [
       "<div>\n",
       "<style scoped>\n",
       "    .dataframe tbody tr th:only-of-type {\n",
       "        vertical-align: middle;\n",
       "    }\n",
       "\n",
       "    .dataframe tbody tr th {\n",
       "        vertical-align: top;\n",
       "    }\n",
       "\n",
       "    .dataframe thead th {\n",
       "        text-align: right;\n",
       "    }\n",
       "</style>\n",
       "<table border=\"1\" class=\"dataframe\">\n",
       "  <thead>\n",
       "    <tr style=\"text-align: right;\">\n",
       "      <th></th>\n",
       "      <th>IID</th>\n",
       "      <th>Left_Binary_Pred</th>\n",
       "      <th>Right_Binary_Pred</th>\n",
       "      <th>Left_Prob_Pred</th>\n",
       "      <th>Right_Prob_Pred</th>\n",
       "      <th>Binary_Asymmetry</th>\n",
       "      <th>Prob_Asymmetry</th>\n",
       "    </tr>\n",
       "  </thead>\n",
       "  <tbody>\n",
       "    <tr>\n",
       "      <th>0</th>\n",
       "      <td>1000021</td>\n",
       "      <td>1</td>\n",
       "      <td>1</td>\n",
       "      <td>0.871400</td>\n",
       "      <td>0.992794</td>\n",
       "      <td>0</td>\n",
       "      <td>0.133952</td>\n",
       "    </tr>\n",
       "    <tr>\n",
       "      <th>1</th>\n",
       "      <td>1000458</td>\n",
       "      <td>0</td>\n",
       "      <td>0</td>\n",
       "      <td>0.553886</td>\n",
       "      <td>0.352072</td>\n",
       "      <td>0</td>\n",
       "      <td>0.515943</td>\n",
       "    </tr>\n",
       "    <tr>\n",
       "      <th>2</th>\n",
       "      <td>1000575</td>\n",
       "      <td>0</td>\n",
       "      <td>1</td>\n",
       "      <td>0.466660</td>\n",
       "      <td>0.445560</td>\n",
       "      <td>1</td>\n",
       "      <td>0.496370</td>\n",
       "    </tr>\n",
       "    <tr>\n",
       "      <th>3</th>\n",
       "      <td>1000606</td>\n",
       "      <td>1</td>\n",
       "      <td>1</td>\n",
       "      <td>0.857762</td>\n",
       "      <td>0.983322</td>\n",
       "      <td>0</td>\n",
       "      <td>0.154172</td>\n",
       "    </tr>\n",
       "    <tr>\n",
       "      <th>4</th>\n",
       "      <td>1000963</td>\n",
       "      <td>0</td>\n",
       "      <td>1</td>\n",
       "      <td>0.606701</td>\n",
       "      <td>0.977704</td>\n",
       "      <td>1</td>\n",
       "      <td>0.398057</td>\n",
       "    </tr>\n",
       "    <tr>\n",
       "      <th>...</th>\n",
       "      <td>...</td>\n",
       "      <td>...</td>\n",
       "      <td>...</td>\n",
       "      <td>...</td>\n",
       "      <td>...</td>\n",
       "      <td>...</td>\n",
       "      <td>...</td>\n",
       "    </tr>\n",
       "    <tr>\n",
       "      <th>21046</th>\n",
       "      <td>6023469</td>\n",
       "      <td>1</td>\n",
       "      <td>0</td>\n",
       "      <td>0.700803</td>\n",
       "      <td>0.353273</td>\n",
       "      <td>1</td>\n",
       "      <td>0.558926</td>\n",
       "    </tr>\n",
       "    <tr>\n",
       "      <th>21047</th>\n",
       "      <td>6023808</td>\n",
       "      <td>1</td>\n",
       "      <td>1</td>\n",
       "      <td>0.982624</td>\n",
       "      <td>0.992351</td>\n",
       "      <td>0</td>\n",
       "      <td>0.024760</td>\n",
       "    </tr>\n",
       "    <tr>\n",
       "      <th>21048</th>\n",
       "      <td>6023847</td>\n",
       "      <td>1</td>\n",
       "      <td>1</td>\n",
       "      <td>0.689217</td>\n",
       "      <td>0.866407</td>\n",
       "      <td>0</td>\n",
       "      <td>0.361339</td>\n",
       "    </tr>\n",
       "    <tr>\n",
       "      <th>21049</th>\n",
       "      <td>6024038</td>\n",
       "      <td>1</td>\n",
       "      <td>0</td>\n",
       "      <td>0.753371</td>\n",
       "      <td>0.045662</td>\n",
       "      <td>1</td>\n",
       "      <td>0.730232</td>\n",
       "    </tr>\n",
       "    <tr>\n",
       "      <th>21050</th>\n",
       "      <td>6024754</td>\n",
       "      <td>1</td>\n",
       "      <td>0</td>\n",
       "      <td>0.845259</td>\n",
       "      <td>0.414230</td>\n",
       "      <td>1</td>\n",
       "      <td>0.559225</td>\n",
       "    </tr>\n",
       "  </tbody>\n",
       "</table>\n",
       "<p>21051 rows × 7 columns</p>\n",
       "</div>"
      ],
      "text/plain": [
       "           IID  Left_Binary_Pred  Right_Binary_Pred  Left_Prob_Pred  \\\n",
       "0      1000021                 1                  1        0.871400   \n",
       "1      1000458                 0                  0        0.553886   \n",
       "2      1000575                 0                  1        0.466660   \n",
       "3      1000606                 1                  1        0.857762   \n",
       "4      1000963                 0                  1        0.606701   \n",
       "...        ...               ...                ...             ...   \n",
       "21046  6023469                 1                  0        0.700803   \n",
       "21047  6023808                 1                  1        0.982624   \n",
       "21048  6023847                 1                  1        0.689217   \n",
       "21049  6024038                 1                  0        0.753371   \n",
       "21050  6024754                 1                  0        0.845259   \n",
       "\n",
       "       Right_Prob_Pred  Binary_Asymmetry  Prob_Asymmetry  \n",
       "0             0.992794                 0        0.133952  \n",
       "1             0.352072                 0        0.515943  \n",
       "2             0.445560                 1        0.496370  \n",
       "3             0.983322                 0        0.154172  \n",
       "4             0.977704                 1        0.398057  \n",
       "...                ...               ...             ...  \n",
       "21046         0.353273                 1        0.558926  \n",
       "21047         0.992351                 0        0.024760  \n",
       "21048         0.866407                 0        0.361339  \n",
       "21049         0.045662                 1        0.730232  \n",
       "21050         0.414230                 1        0.559225  \n",
       "\n",
       "[21051 rows x 7 columns]"
      ]
     },
     "execution_count": 4,
     "metadata": {},
     "output_type": "execute_result"
    }
   ],
   "source": [
    "GWAS_PCS = left_PCS_binary.join(right_PCS_binary.set_index('IID'), on='IID', how='inner')\n",
    "GWAS_PCS = GWAS_PCS.join(left_PCS_prob.set_index('IID'), on='IID', how='inner')\n",
    "GWAS_PCS = GWAS_PCS.join(right_PCS_prob.set_index('IID'), on='IID', how='inner')\n",
    "GWAS_PCS['Binary_Asymmetry'] = abs(GWAS_PCS.Left_Binary_Pred - GWAS_PCS.Right_Binary_Pred)\n",
    "GWAS_PCS['Prob_Asymmetry'] = GWAS_PCS.Left_Prob_Pred * (1-GWAS_PCS.Right_Prob_Pred) + GWAS_PCS.Right_Prob_Pred * (1-GWAS_PCS.Left_Prob_Pred)\n",
    "GWAS_PCS"
   ]
  },
  {
   "cell_type": "code",
   "execution_count": 5,
   "metadata": {},
   "outputs": [
    {
     "data": {
      "text/plain": [
       "<Axes: xlabel='Prob_Asymmetry', ylabel='Count'>"
      ]
     },
     "execution_count": 5,
     "metadata": {},
     "output_type": "execute_result"
    },
    {
     "data": {
      "image/png": "[encoded data removed]",
      "text/plain": [
       "<Figure size 640x480 with 1 Axes>"
      ]
     },
     "metadata": {},
     "output_type": "display_data"
    }
   ],
   "source": [
    "sns.histplot(data=GWAS_PCS, x=\"Prob_Asymmetry\", hue=\"Binary_Asymmetry\")"
   ]
  },
  {
   "cell_type": "code",
   "execution_count": 6,
   "metadata": {},
   "outputs": [],
   "source": [
    "GWAS_PCS.to_csv('/neurospin/dico/adufournet/Runs/09_PCS_GWAS/PCS_all.csv', index=False)"
   ]
  }
 ],
 "metadata": {
  "kernelspec": {
   "display_name": "venv",
   "language": "python",
   "name": "python3"
  },
  "language_info": {
   "codemirror_mode": {
    "name": "ipython",
    "version": 3
   },
   "file_extension": ".py",
   "mimetype": "text/x-python",
   "name": "python",
   "nbconvert_exporter": "python",
   "pygments_lexer": "ipython3",
   "version": "3.10.12"
  }
 },
 "nbformat": 4,
 "nbformat_minor": 2
}
