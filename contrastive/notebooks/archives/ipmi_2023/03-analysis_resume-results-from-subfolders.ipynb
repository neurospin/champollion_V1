{
 "cells": [
  {
   "cell_type": "markdown",
   "metadata": {},
   "source": [
    "Notebook where to plot the curves and display the performance of all models in \n",
    "a chosen folder. It is also where to conduct the performance analysis about the\n",
    "models database."
   ]
  },
  {
   "cell_type": "code",
   "execution_count": 56,
   "metadata": {},
   "outputs": [],
   "source": [
    "import os\n",
    "import pandas as pd\n",
    "import seaborn as sns\n",
    "import matplotlib.pyplot as plt\n",
    "import matplotlib.image as mpi\n",
    "import json\n",
    "\n",
    "from contrastive.utils.config import get_config_diff"
   ]
  },
  {
   "cell_type": "markdown",
   "metadata": {},
   "source": [
    "## Function definitions"
   ]
  },
  {
   "cell_type": "code",
   "execution_count": 57,
   "metadata": {},
   "outputs": [],
   "source": [
    "def exclude_conditions(diff_config, excluded_conditions):\n",
    "    excluded_subdirs = []\n",
    "    for cond in excluded_conditions:\n",
    "        filtered_diff_config = diff_config.query(cond)\n",
    "        excluded_subdirs.extend(filtered_diff_config['Unnamed: 0'].values)\n",
    "    return excluded_subdirs\n",
    "#exclude_conditions(diff_config, excluded_conditions=[\"lr != 0.0004\"])"
   ]
  },
  {
   "cell_type": "code",
   "execution_count": 58,
   "metadata": {},
   "outputs": [],
   "source": [
    "def show_results(dir_path, figsize=(16,10), return_config_diff=False, dataset='cingulate_ACCpatterns_0', excluded_conditions=[], show=True, key_name=\"\"):\n",
    "    # be sure that all models are comparable\n",
    "    get_config_diff(dir_path, whole_config=False)\n",
    "    diff_config = pd.read_csv(dir_path+'/config_diff.csv')\n",
    "\n",
    "    excluded_subdirs = exclude_conditions(diff_config, excluded_conditions)\n",
    "    if excluded_conditions != []:\n",
    "        print(\"Excluded subdirs :\", excluded_subdirs)\n",
    "        print(\"Excluded because of \", excluded_conditions)\n",
    "\n",
    "    print(\"diff_config\")\n",
    "    print(diff_config[~diff_config['Unnamed: 0'].isin(excluded_subdirs)])\n",
    "\n",
    "    paths = []\n",
    "    if key_name:\n",
    "        keys = []\n",
    "    accuracy = []\n",
    "    accuracy_std = []\n",
    "    auc = []\n",
    "    auc_std = []\n",
    "    # plot all ROC curves\n",
    "    for subdir in os.listdir(dir_path):\n",
    "        if os.path.isdir(dir_path + '/' + subdir) and subdir not in excluded_subdirs:\n",
    "            path = dir_path + '/' + subdir + '/' + dataset + '_embeddings'\n",
    "            with open(path+'/values.json', 'r') as file:\n",
    "                values = json.load(file)\n",
    "            # print(subdir)\n",
    "            # print(\"AUC\", values['cross_val_auc'])\n",
    "            if show:\n",
    "                img = mpi.imread(path+'/cross_val_ROC_curves.png')\n",
    "                plt.figure(figsize=figsize)\n",
    "                plt.imshow(img)\n",
    "                plt.show()\n",
    "\n",
    "            # store the AUC and accuracy in a df\n",
    "            paths.append(subdir)\n",
    "            if key_name:\n",
    "                key = diff_config[diff_config['Unnamed: 0'] == subdir][key_name].values[0]\n",
    "            # print(f\"subdir = {subdir}; batch_size = {batch_size}; diff_config = {diff_config[diff_config['Unnamed: 0'] == subdir]}\")\n",
    "            if key_name:\n",
    "                keys.append(key)\n",
    "            # print(diff_config[diff_config['Unnamed: 0'] == subdir])\n",
    "            accuracy.append(values['cross_val_total_accuracy'][0])\n",
    "            accuracy_std.append(values['cross_val_total_accuracy'][1])\n",
    "            auc.append(values['cross_val_auc'][0])\n",
    "            auc_std.append(values['cross_val_auc'][1])\n",
    "\n",
    "    results_df = pd.DataFrame()\n",
    "    if key_name:\n",
    "        print(keys)\n",
    "        results_df[key_name] = keys\n",
    "    results_df['path'] = paths\n",
    "    results_df['auc'] = auc\n",
    "    results_df['auc_std'] = auc_std\n",
    "    results_df['accuracy'] = accuracy\n",
    "    results_df['accuracy_std'] = accuracy_std\n",
    "\n",
    "\n",
    "    if return_config_diff:\n",
    "        return results_df, diff_config\n",
    "    else:\n",
    "        return results_df"
   ]
  },
  {
   "cell_type": "markdown",
   "metadata": {},
   "source": [
    "## Resume the results - PCA"
   ]
  },
  {
   "cell_type": "code",
   "execution_count": 59,
   "metadata": {},
   "outputs": [
    {
     "name": "stdout",
     "output_type": "stream",
     "text": [
      "diff_config\n",
      "Empty DataFrame\n",
      "Columns: [Unnamed: 0]\n",
      "Index: []\n"
     ]
    },
    {
     "data": {
      "text/html": [
       "<div>\n",
       "<style scoped>\n",
       "    .dataframe tbody tr th:only-of-type {\n",
       "        vertical-align: middle;\n",
       "    }\n",
       "\n",
       "    .dataframe tbody tr th {\n",
       "        vertical-align: top;\n",
       "    }\n",
       "\n",
       "    .dataframe thead th {\n",
       "        text-align: right;\n",
       "    }\n",
       "</style>\n",
       "<table border=\"1\" class=\"dataframe\">\n",
       "  <thead>\n",
       "    <tr style=\"text-align: right;\">\n",
       "      <th></th>\n",
       "      <th>path</th>\n",
       "      <th>auc</th>\n",
       "      <th>auc_std</th>\n",
       "      <th>accuracy</th>\n",
       "      <th>accuracy_std</th>\n",
       "    </tr>\n",
       "  </thead>\n",
       "  <tbody>\n",
       "    <tr>\n",
       "      <th>0</th>\n",
       "      <td>10</td>\n",
       "      <td>0.547601</td>\n",
       "      <td>0.073754</td>\n",
       "      <td>0.553600</td>\n",
       "      <td>0.054704</td>\n",
       "    </tr>\n",
       "    <tr>\n",
       "      <th>1</th>\n",
       "      <td>30</td>\n",
       "      <td>0.586998</td>\n",
       "      <td>0.055425</td>\n",
       "      <td>0.577365</td>\n",
       "      <td>0.041588</td>\n",
       "    </tr>\n",
       "    <tr>\n",
       "      <th>2</th>\n",
       "      <td>4</td>\n",
       "      <td>0.537139</td>\n",
       "      <td>0.096877</td>\n",
       "      <td>0.547271</td>\n",
       "      <td>0.064675</td>\n",
       "    </tr>\n",
       "  </tbody>\n",
       "</table>\n",
       "</div>"
      ],
      "text/plain": [
       "  path       auc   auc_std  accuracy  accuracy_std\n",
       "0   10  0.547601  0.073754  0.553600      0.054704\n",
       "1   30  0.586998  0.055425  0.577365      0.041588\n",
       "2    4  0.537139  0.096877  0.547271      0.064675"
      ]
     },
     "execution_count": 59,
     "metadata": {},
     "output_type": "execute_result"
    }
   ],
   "source": [
    "excluded_conditions = []\n",
    "\n",
    "results_df = show_results(\n",
    "    dir_path=\"/neurospin/dico/data/deep_folding/papers/ipmi2023/models/PCA\",\n",
    "    dataset='cingulate_ACCpatterns_0',\n",
    "    excluded_conditions=excluded_conditions,\n",
    "    show=False)\n",
    "\n",
    "results_df"
   ]
  },
  {
   "cell_type": "code",
   "execution_count": 60,
   "metadata": {},
   "outputs": [
    {
     "data": {
      "text/html": [
       "<div>\n",
       "<style scoped>\n",
       "    .dataframe tbody tr th:only-of-type {\n",
       "        vertical-align: middle;\n",
       "    }\n",
       "\n",
       "    .dataframe tbody tr th {\n",
       "        vertical-align: top;\n",
       "    }\n",
       "\n",
       "    .dataframe thead th {\n",
       "        text-align: right;\n",
       "    }\n",
       "</style>\n",
       "<table border=\"1\" class=\"dataframe\">\n",
       "  <thead>\n",
       "    <tr style=\"text-align: right;\">\n",
       "      <th></th>\n",
       "      <th>path</th>\n",
       "      <th>auc</th>\n",
       "    </tr>\n",
       "  </thead>\n",
       "  <tbody>\n",
       "    <tr>\n",
       "      <th>1</th>\n",
       "      <td>30</td>\n",
       "      <td>0.586998</td>\n",
       "    </tr>\n",
       "    <tr>\n",
       "      <th>0</th>\n",
       "      <td>10</td>\n",
       "      <td>0.547601</td>\n",
       "    </tr>\n",
       "    <tr>\n",
       "      <th>2</th>\n",
       "      <td>4</td>\n",
       "      <td>0.537139</td>\n",
       "    </tr>\n",
       "  </tbody>\n",
       "</table>\n",
       "</div>"
      ],
      "text/plain": [
       "  path       auc\n",
       "1   30  0.586998\n",
       "0   10  0.547601\n",
       "2    4  0.537139"
      ]
     },
     "execution_count": 60,
     "metadata": {},
     "output_type": "execute_result"
    }
   ],
   "source": [
    "results_df.sort_values(ascending=False, by='auc')[['path', 'auc']]"
   ]
  },
  {
   "cell_type": "code",
   "execution_count": 61,
   "metadata": {},
   "outputs": [
    {
     "data": {
      "text/plain": [
       "path    10034.666667\n",
       "auc         0.557246\n",
       "dtype: float64"
      ]
     },
     "execution_count": 61,
     "metadata": {},
     "output_type": "execute_result"
    }
   ],
   "source": [
    "results_df.sort_values(ascending=False, by='auc')[['path', 'auc']].mean()"
   ]
  },
  {
   "cell_type": "markdown",
   "metadata": {},
   "source": [
    "## Resume results - convnet-10 (HCP-half-2)"
   ]
  },
  {
   "cell_type": "code",
   "execution_count": 62,
   "metadata": {},
   "outputs": [
    {
     "name": "stdout",
     "output_type": "stream",
     "text": [
      "diff_config\n",
      "   Unnamed: 0\n",
      "0  09-21-24_0\n",
      "1  09-21-24_1\n",
      "2  09-21-24_2\n",
      "3  09-21-24_3\n",
      "4  09-21-24_4\n"
     ]
    },
    {
     "data": {
      "text/html": [
       "<div>\n",
       "<style scoped>\n",
       "    .dataframe tbody tr th:only-of-type {\n",
       "        vertical-align: middle;\n",
       "    }\n",
       "\n",
       "    .dataframe tbody tr th {\n",
       "        vertical-align: top;\n",
       "    }\n",
       "\n",
       "    .dataframe thead th {\n",
       "        text-align: right;\n",
       "    }\n",
       "</style>\n",
       "<table border=\"1\" class=\"dataframe\">\n",
       "  <thead>\n",
       "    <tr style=\"text-align: right;\">\n",
       "      <th></th>\n",
       "      <th>path</th>\n",
       "      <th>auc</th>\n",
       "    </tr>\n",
       "  </thead>\n",
       "  <tbody>\n",
       "    <tr>\n",
       "      <th>1</th>\n",
       "      <td>09-21-24_3</td>\n",
       "      <td>0.749881</td>\n",
       "    </tr>\n",
       "    <tr>\n",
       "      <th>0</th>\n",
       "      <td>09-21-24_2</td>\n",
       "      <td>0.745901</td>\n",
       "    </tr>\n",
       "    <tr>\n",
       "      <th>4</th>\n",
       "      <td>09-21-24_0</td>\n",
       "      <td>0.741980</td>\n",
       "    </tr>\n",
       "    <tr>\n",
       "      <th>2</th>\n",
       "      <td>09-21-24_1</td>\n",
       "      <td>0.741189</td>\n",
       "    </tr>\n",
       "    <tr>\n",
       "      <th>3</th>\n",
       "      <td>09-21-24_4</td>\n",
       "      <td>0.668262</td>\n",
       "    </tr>\n",
       "  </tbody>\n",
       "</table>\n",
       "</div>"
      ],
      "text/plain": [
       "         path       auc\n",
       "1  09-21-24_3  0.749881\n",
       "0  09-21-24_2  0.745901\n",
       "4  09-21-24_0  0.741980\n",
       "2  09-21-24_1  0.741189\n",
       "3  09-21-24_4  0.668262"
      ]
     },
     "execution_count": 62,
     "metadata": {},
     "output_type": "execute_result"
    }
   ],
   "source": [
    "excluded_conditions = []\n",
    "\n",
    "results_df = show_results(\n",
    "    dir_path=\"/neurospin/dico/data/deep_folding/papers/ipmi2023/models/contrastive/trained_on_HCP_half_2/all/foldlabel/convnet-10\",\n",
    "    dataset='cingulate_ACCpatterns_1',\n",
    "    excluded_conditions=excluded_conditions,\n",
    "    show=False,\n",
    "    key_name='')\n",
    "\n",
    "results_df.sort_values(ascending=False, by='auc')[['path', 'auc']]"
   ]
  },
  {
   "cell_type": "code",
   "execution_count": 63,
   "metadata": {},
   "outputs": [
    {
     "data": {
      "text/plain": [
       "auc    0.729442\n",
       "dtype: float64"
      ]
     },
     "execution_count": 63,
     "metadata": {},
     "output_type": "execute_result"
    }
   ],
   "source": [
    "results_df.sort_values(ascending=False, by='auc')[['path', 'auc']].mean()"
   ]
  },
  {
   "cell_type": "markdown",
   "metadata": {},
   "source": [
    "## Resume results - convenet-10 (trained on HCP-half-1)"
   ]
  },
  {
   "cell_type": "code",
   "execution_count": 85,
   "metadata": {},
   "outputs": [
    {
     "name": "stdout",
     "output_type": "stream",
     "text": [
      "diff_config\n",
      "   Unnamed: 0\n",
      "0  23-11-12_0\n",
      "1  23-11-12_1\n",
      "2  23-11-12_2\n",
      "3  23-11-12_3\n",
      "4  23-11-12_4\n"
     ]
    },
    {
     "data": {
      "text/html": [
       "<div>\n",
       "<style scoped>\n",
       "    .dataframe tbody tr th:only-of-type {\n",
       "        vertical-align: middle;\n",
       "    }\n",
       "\n",
       "    .dataframe tbody tr th {\n",
       "        vertical-align: top;\n",
       "    }\n",
       "\n",
       "    .dataframe thead th {\n",
       "        text-align: right;\n",
       "    }\n",
       "</style>\n",
       "<table border=\"1\" class=\"dataframe\">\n",
       "  <thead>\n",
       "    <tr style=\"text-align: right;\">\n",
       "      <th></th>\n",
       "      <th>path</th>\n",
       "      <th>auc</th>\n",
       "    </tr>\n",
       "  </thead>\n",
       "  <tbody>\n",
       "    <tr>\n",
       "      <th>4</th>\n",
       "      <td>23-11-12_2</td>\n",
       "      <td>0.777460</td>\n",
       "    </tr>\n",
       "    <tr>\n",
       "      <th>3</th>\n",
       "      <td>23-11-12_4</td>\n",
       "      <td>0.749707</td>\n",
       "    </tr>\n",
       "    <tr>\n",
       "      <th>1</th>\n",
       "      <td>23-11-12_1</td>\n",
       "      <td>0.739964</td>\n",
       "    </tr>\n",
       "    <tr>\n",
       "      <th>2</th>\n",
       "      <td>23-11-12_0</td>\n",
       "      <td>0.735126</td>\n",
       "    </tr>\n",
       "    <tr>\n",
       "      <th>0</th>\n",
       "      <td>23-11-12_3</td>\n",
       "      <td>0.706696</td>\n",
       "    </tr>\n",
       "  </tbody>\n",
       "</table>\n",
       "</div>"
      ],
      "text/plain": [
       "         path       auc\n",
       "4  23-11-12_2  0.777460\n",
       "3  23-11-12_4  0.749707\n",
       "1  23-11-12_1  0.739964\n",
       "2  23-11-12_0  0.735126\n",
       "0  23-11-12_3  0.706696"
      ]
     },
     "execution_count": 85,
     "metadata": {},
     "output_type": "execute_result"
    }
   ],
   "source": [
    "excluded_conditions = []\n",
    "\n",
    "results_df = show_results(\n",
    "    dir_path=\"/neurospin/dico/data/deep_folding/papers/ipmi2023/models/contrastive/trained_on_HCP_half_1/gridsearch/joel/convnet-10\",\n",
    "    dataset='cingulate_ACCpatterns_0',\n",
    "    excluded_conditions=excluded_conditions,\n",
    "    show=False,\n",
    "    key_name='')\n",
    "\n",
    "results_df.sort_values(ascending=False, by='auc')[['path', 'auc']]"
   ]
  },
  {
   "cell_type": "code",
   "execution_count": 86,
   "metadata": {},
   "outputs": [
    {
     "data": {
      "text/plain": [
       "auc    0.741791\n",
       "dtype: float64"
      ]
     },
     "execution_count": 86,
     "metadata": {},
     "output_type": "execute_result"
    }
   ],
   "source": [
    "results_df.sort_values(ascending=False, by='auc')[['path', 'auc']].mean()"
   ]
  },
  {
   "cell_type": "markdown",
   "metadata": {},
   "source": [
    "## Resume results - beta-VAE"
   ]
  },
  {
   "cell_type": "code",
   "execution_count": 64,
   "metadata": {},
   "outputs": [
    {
     "name": "stdout",
     "output_type": "stream",
     "text": [
      "diff_config\n",
      "Empty DataFrame\n",
      "Columns: [Unnamed: 0]\n",
      "Index: []\n"
     ]
    },
    {
     "data": {
      "text/html": [
       "<div>\n",
       "<style scoped>\n",
       "    .dataframe tbody tr th:only-of-type {\n",
       "        vertical-align: middle;\n",
       "    }\n",
       "\n",
       "    .dataframe tbody tr th {\n",
       "        vertical-align: top;\n",
       "    }\n",
       "\n",
       "    .dataframe thead th {\n",
       "        text-align: right;\n",
       "    }\n",
       "</style>\n",
       "<table border=\"1\" class=\"dataframe\">\n",
       "  <thead>\n",
       "    <tr style=\"text-align: right;\">\n",
       "      <th></th>\n",
       "      <th>path</th>\n",
       "      <th>auc</th>\n",
       "    </tr>\n",
       "  </thead>\n",
       "  <tbody>\n",
       "    <tr>\n",
       "      <th>3</th>\n",
       "      <td>#2</td>\n",
       "      <td>0.728227</td>\n",
       "    </tr>\n",
       "    <tr>\n",
       "      <th>2</th>\n",
       "      <td>#3</td>\n",
       "      <td>0.705545</td>\n",
       "    </tr>\n",
       "    <tr>\n",
       "      <th>1</th>\n",
       "      <td>#5</td>\n",
       "      <td>0.698789</td>\n",
       "    </tr>\n",
       "    <tr>\n",
       "      <th>4</th>\n",
       "      <td>#4</td>\n",
       "      <td>0.649636</td>\n",
       "    </tr>\n",
       "    <tr>\n",
       "      <th>0</th>\n",
       "      <td>#1</td>\n",
       "      <td>0.644436</td>\n",
       "    </tr>\n",
       "  </tbody>\n",
       "</table>\n",
       "</div>"
      ],
      "text/plain": [
       "  path       auc\n",
       "3   #2  0.728227\n",
       "2   #3  0.705545\n",
       "1   #5  0.698789\n",
       "4   #4  0.649636\n",
       "0   #1  0.644436"
      ]
     },
     "execution_count": 64,
     "metadata": {},
     "output_type": "execute_result"
    }
   ],
   "source": [
    "excluded_conditions = []\n",
    "\n",
    "results_df = show_results(\n",
    "    dir_path=\"/neurospin/dico/data/deep_folding/papers/ipmi2023/models/beta-VAE/n_10\",\n",
    "    dataset='cingulate_ACCpatterns_1',\n",
    "    excluded_conditions=excluded_conditions,\n",
    "    show=False,\n",
    "    key_name='')\n",
    "\n",
    "results_df.sort_values(ascending=False, by='auc')[['path', 'auc']]"
   ]
  },
  {
   "cell_type": "code",
   "execution_count": 65,
   "metadata": {},
   "outputs": [
    {
     "data": {
      "text/plain": [
       "auc    0.685327\n",
       "dtype: float64"
      ]
     },
     "execution_count": 65,
     "metadata": {},
     "output_type": "execute_result"
    }
   ],
   "source": [
    "results_df.sort_values(ascending=False, by='auc')[['path', 'auc']].mean()"
   ]
  },
  {
   "cell_type": "markdown",
   "metadata": {},
   "source": [
    "## Resume the results - batch_size"
   ]
  },
  {
   "cell_type": "code",
   "execution_count": 66,
   "metadata": {},
   "outputs": [
    {
     "name": "stdout",
     "output_type": "stream",
     "text": [
      "diff_config\n",
      "    Unnamed: 0  batch_size  num_outputs\n",
      "0   11-03-45_0           8          NaN\n",
      "1   11-03-45_1           8          NaN\n",
      "2   11-03-45_2           8          NaN\n",
      "3   11-04-10_0           4          NaN\n",
      "4   11-04-10_1           4          NaN\n",
      "5   11-04-10_2           4          NaN\n",
      "6   11-04-27_0           2          NaN\n",
      "7   11-04-27_1           2          NaN\n",
      "8   11-04-27_2           2          NaN\n",
      "9        128_1         128          NaN\n",
      "10       128_2         128          NaN\n",
      "11       128_3         128          NaN\n",
      "12  23-11-12_0          16         10.0\n",
      "13  23-11-12_1          16         10.0\n",
      "14  23-11-12_2          16         10.0\n",
      "15  23-11-12_3          16         10.0\n",
      "16  23-11-12_4          16         10.0\n",
      "17  23-46-02_0         128          NaN\n",
      "18  23-46-02_1         128          NaN\n",
      "19  23-46-15_0          32          NaN\n",
      "20  23-46-15_1          32          NaN\n",
      "21  23-46-15_2          32          NaN\n",
      "22  23-47-37_0          64          NaN\n",
      "23  23-47-37_1          64          NaN\n",
      "24  23-47-37_2          64          NaN\n",
      "25       256_1         256          NaN\n",
      "26       256_2         256          NaN\n",
      "27       256_3         256          NaN\n",
      "28         2_1           2          NaN\n",
      "29         2_2           2          NaN\n",
      "30        32_1          32          NaN\n",
      "31        32_2          32          NaN\n",
      "32         4_1           4          NaN\n",
      "33         4_2           4          NaN\n",
      "34        64_1          64          NaN\n",
      "35        64_2          64          NaN\n",
      "36         8_1           8          NaN\n",
      "37         8_2           8          NaN\n",
      "[8, 256, 32, 16, 256, 2, 2, 4, 64, 32, 128, 4, 4, 2, 2, 16, 128, 2, 16, 128, 64, 8, 32, 32, 64, 8, 128, 16, 128, 32, 8, 16, 8, 64, 256, 4, 64, 4]\n"
     ]
    },
    {
     "data": {
      "text/plain": [
       "38"
      ]
     },
     "execution_count": 66,
     "metadata": {},
     "output_type": "execute_result"
    }
   ],
   "source": [
    "excluded_conditions = []\n",
    "\n",
    "results_df = show_results(\n",
    "    dir_path=\"/neurospin/dico/data/deep_folding/papers/ipmi2023/models/contrastive/trained_on_HCP_half_1/different-batch-sizes\",\n",
    "    dataset='cingulate_ACCpatterns_0',\n",
    "    excluded_conditions=excluded_conditions,\n",
    "    show=False,\n",
    "    key_name='batch_size')\n",
    "\n",
    "len(results_df)"
   ]
  },
  {
   "cell_type": "code",
   "execution_count": 67,
   "metadata": {},
   "outputs": [
    {
     "data": {
      "text/html": [
       "<div>\n",
       "<style scoped>\n",
       "    .dataframe tbody tr th:only-of-type {\n",
       "        vertical-align: middle;\n",
       "    }\n",
       "\n",
       "    .dataframe tbody tr th {\n",
       "        vertical-align: top;\n",
       "    }\n",
       "\n",
       "    .dataframe thead th {\n",
       "        text-align: right;\n",
       "    }\n",
       "</style>\n",
       "<table border=\"1\" class=\"dataframe\">\n",
       "  <thead>\n",
       "    <tr style=\"text-align: right;\">\n",
       "      <th></th>\n",
       "      <th>batch_size</th>\n",
       "      <th>path</th>\n",
       "      <th>auc</th>\n",
       "      <th>auc_std</th>\n",
       "      <th>accuracy</th>\n",
       "      <th>accuracy_std</th>\n",
       "    </tr>\n",
       "  </thead>\n",
       "  <tbody>\n",
       "    <tr>\n",
       "      <th>0</th>\n",
       "      <td>8</td>\n",
       "      <td>11-03-45_0</td>\n",
       "      <td>0.683927</td>\n",
       "      <td>0.009346</td>\n",
       "      <td>0.652565</td>\n",
       "      <td>0.013378</td>\n",
       "    </tr>\n",
       "    <tr>\n",
       "      <th>1</th>\n",
       "      <td>256</td>\n",
       "      <td>256_3</td>\n",
       "      <td>0.737107</td>\n",
       "      <td>0.000727</td>\n",
       "      <td>0.670188</td>\n",
       "      <td>0.003604</td>\n",
       "    </tr>\n",
       "    <tr>\n",
       "      <th>2</th>\n",
       "      <td>32</td>\n",
       "      <td>32_2</td>\n",
       "      <td>0.739785</td>\n",
       "      <td>0.005470</td>\n",
       "      <td>0.693600</td>\n",
       "      <td>0.011575</td>\n",
       "    </tr>\n",
       "    <tr>\n",
       "      <th>3</th>\n",
       "      <td>16</td>\n",
       "      <td>23-11-12_3</td>\n",
       "      <td>0.706696</td>\n",
       "      <td>0.004545</td>\n",
       "      <td>0.676518</td>\n",
       "      <td>0.008960</td>\n",
       "    </tr>\n",
       "    <tr>\n",
       "      <th>4</th>\n",
       "      <td>256</td>\n",
       "      <td>256_2</td>\n",
       "      <td>0.723319</td>\n",
       "      <td>0.001503</td>\n",
       "      <td>0.683694</td>\n",
       "      <td>0.010549</td>\n",
       "    </tr>\n",
       "  </tbody>\n",
       "</table>\n",
       "</div>"
      ],
      "text/plain": [
       "   batch_size        path       auc   auc_std  accuracy  accuracy_std\n",
       "0           8  11-03-45_0  0.683927  0.009346  0.652565      0.013378\n",
       "1         256       256_3  0.737107  0.000727  0.670188      0.003604\n",
       "2          32        32_2  0.739785  0.005470  0.693600      0.011575\n",
       "3          16  23-11-12_3  0.706696  0.004545  0.676518      0.008960\n",
       "4         256       256_2  0.723319  0.001503  0.683694      0.010549"
      ]
     },
     "execution_count": 67,
     "metadata": {},
     "output_type": "execute_result"
    }
   ],
   "source": [
    "results_df.head()"
   ]
  },
  {
   "cell_type": "code",
   "execution_count": 68,
   "metadata": {},
   "outputs": [
    {
     "data": {
      "text/html": [
       "<div>\n",
       "<style scoped>\n",
       "    .dataframe tbody tr th:only-of-type {\n",
       "        vertical-align: middle;\n",
       "    }\n",
       "\n",
       "    .dataframe tbody tr th {\n",
       "        vertical-align: top;\n",
       "    }\n",
       "\n",
       "    .dataframe thead th {\n",
       "        text-align: right;\n",
       "    }\n",
       "</style>\n",
       "<table border=\"1\" class=\"dataframe\">\n",
       "  <thead>\n",
       "    <tr style=\"text-align: right;\">\n",
       "      <th></th>\n",
       "      <th>path</th>\n",
       "      <th>auc</th>\n",
       "    </tr>\n",
       "  </thead>\n",
       "  <tbody>\n",
       "    <tr>\n",
       "      <th>20</th>\n",
       "      <td>64_2</td>\n",
       "      <td>0.784752</td>\n",
       "    </tr>\n",
       "    <tr>\n",
       "      <th>31</th>\n",
       "      <td>23-11-12_2</td>\n",
       "      <td>0.777460</td>\n",
       "    </tr>\n",
       "    <tr>\n",
       "      <th>10</th>\n",
       "      <td>128_2</td>\n",
       "      <td>0.760973</td>\n",
       "    </tr>\n",
       "    <tr>\n",
       "      <th>27</th>\n",
       "      <td>23-11-12_4</td>\n",
       "      <td>0.749707</td>\n",
       "    </tr>\n",
       "    <tr>\n",
       "      <th>21</th>\n",
       "      <td>8_1</td>\n",
       "      <td>0.746438</td>\n",
       "    </tr>\n",
       "    <tr>\n",
       "      <th>30</th>\n",
       "      <td>8_2</td>\n",
       "      <td>0.744929</td>\n",
       "    </tr>\n",
       "    <tr>\n",
       "      <th>15</th>\n",
       "      <td>23-11-12_1</td>\n",
       "      <td>0.739964</td>\n",
       "    </tr>\n",
       "    <tr>\n",
       "      <th>2</th>\n",
       "      <td>32_2</td>\n",
       "      <td>0.739785</td>\n",
       "    </tr>\n",
       "    <tr>\n",
       "      <th>19</th>\n",
       "      <td>128_3</td>\n",
       "      <td>0.739124</td>\n",
       "    </tr>\n",
       "    <tr>\n",
       "      <th>1</th>\n",
       "      <td>256_3</td>\n",
       "      <td>0.737107</td>\n",
       "    </tr>\n",
       "    <tr>\n",
       "      <th>18</th>\n",
       "      <td>23-11-12_0</td>\n",
       "      <td>0.735126</td>\n",
       "    </tr>\n",
       "    <tr>\n",
       "      <th>33</th>\n",
       "      <td>23-47-37_2</td>\n",
       "      <td>0.733371</td>\n",
       "    </tr>\n",
       "    <tr>\n",
       "      <th>5</th>\n",
       "      <td>11-04-27_2</td>\n",
       "      <td>0.730592</td>\n",
       "    </tr>\n",
       "    <tr>\n",
       "      <th>23</th>\n",
       "      <td>23-46-15_1</td>\n",
       "      <td>0.726558</td>\n",
       "    </tr>\n",
       "    <tr>\n",
       "      <th>25</th>\n",
       "      <td>11-03-45_2</td>\n",
       "      <td>0.723441</td>\n",
       "    </tr>\n",
       "    <tr>\n",
       "      <th>4</th>\n",
       "      <td>256_2</td>\n",
       "      <td>0.723319</td>\n",
       "    </tr>\n",
       "    <tr>\n",
       "      <th>28</th>\n",
       "      <td>23-46-02_1</td>\n",
       "      <td>0.723009</td>\n",
       "    </tr>\n",
       "    <tr>\n",
       "      <th>11</th>\n",
       "      <td>11-04-10_2</td>\n",
       "      <td>0.720364</td>\n",
       "    </tr>\n",
       "    <tr>\n",
       "      <th>24</th>\n",
       "      <td>23-47-37_1</td>\n",
       "      <td>0.718083</td>\n",
       "    </tr>\n",
       "    <tr>\n",
       "      <th>8</th>\n",
       "      <td>64_1</td>\n",
       "      <td>0.716899</td>\n",
       "    </tr>\n",
       "    <tr>\n",
       "      <th>32</th>\n",
       "      <td>11-03-45_1</td>\n",
       "      <td>0.715306</td>\n",
       "    </tr>\n",
       "    <tr>\n",
       "      <th>22</th>\n",
       "      <td>32_1</td>\n",
       "      <td>0.713164</td>\n",
       "    </tr>\n",
       "    <tr>\n",
       "      <th>34</th>\n",
       "      <td>256_1</td>\n",
       "      <td>0.709659</td>\n",
       "    </tr>\n",
       "    <tr>\n",
       "      <th>7</th>\n",
       "      <td>4_1</td>\n",
       "      <td>0.707781</td>\n",
       "    </tr>\n",
       "    <tr>\n",
       "      <th>3</th>\n",
       "      <td>23-11-12_3</td>\n",
       "      <td>0.706696</td>\n",
       "    </tr>\n",
       "    <tr>\n",
       "      <th>9</th>\n",
       "      <td>23-46-15_2</td>\n",
       "      <td>0.706488</td>\n",
       "    </tr>\n",
       "    <tr>\n",
       "      <th>26</th>\n",
       "      <td>23-46-02_0</td>\n",
       "      <td>0.706096</td>\n",
       "    </tr>\n",
       "    <tr>\n",
       "      <th>12</th>\n",
       "      <td>4_2</td>\n",
       "      <td>0.701145</td>\n",
       "    </tr>\n",
       "    <tr>\n",
       "      <th>35</th>\n",
       "      <td>11-04-10_1</td>\n",
       "      <td>0.699870</td>\n",
       "    </tr>\n",
       "    <tr>\n",
       "      <th>0</th>\n",
       "      <td>11-03-45_0</td>\n",
       "      <td>0.683927</td>\n",
       "    </tr>\n",
       "    <tr>\n",
       "      <th>6</th>\n",
       "      <td>2_2</td>\n",
       "      <td>0.683417</td>\n",
       "    </tr>\n",
       "    <tr>\n",
       "      <th>36</th>\n",
       "      <td>23-47-37_0</td>\n",
       "      <td>0.677757</td>\n",
       "    </tr>\n",
       "    <tr>\n",
       "      <th>13</th>\n",
       "      <td>2_1</td>\n",
       "      <td>0.674211</td>\n",
       "    </tr>\n",
       "    <tr>\n",
       "      <th>29</th>\n",
       "      <td>23-46-15_0</td>\n",
       "      <td>0.672072</td>\n",
       "    </tr>\n",
       "    <tr>\n",
       "      <th>17</th>\n",
       "      <td>11-04-27_0</td>\n",
       "      <td>0.669644</td>\n",
       "    </tr>\n",
       "    <tr>\n",
       "      <th>16</th>\n",
       "      <td>128_1</td>\n",
       "      <td>0.669448</td>\n",
       "    </tr>\n",
       "    <tr>\n",
       "      <th>37</th>\n",
       "      <td>11-04-10_0</td>\n",
       "      <td>0.664517</td>\n",
       "    </tr>\n",
       "    <tr>\n",
       "      <th>14</th>\n",
       "      <td>11-04-27_1</td>\n",
       "      <td>0.600139</td>\n",
       "    </tr>\n",
       "  </tbody>\n",
       "</table>\n",
       "</div>"
      ],
      "text/plain": [
       "          path       auc\n",
       "20        64_2  0.784752\n",
       "31  23-11-12_2  0.777460\n",
       "10       128_2  0.760973\n",
       "27  23-11-12_4  0.749707\n",
       "21         8_1  0.746438\n",
       "30         8_2  0.744929\n",
       "15  23-11-12_1  0.739964\n",
       "2         32_2  0.739785\n",
       "19       128_3  0.739124\n",
       "1        256_3  0.737107\n",
       "18  23-11-12_0  0.735126\n",
       "33  23-47-37_2  0.733371\n",
       "5   11-04-27_2  0.730592\n",
       "23  23-46-15_1  0.726558\n",
       "25  11-03-45_2  0.723441\n",
       "4        256_2  0.723319\n",
       "28  23-46-02_1  0.723009\n",
       "11  11-04-10_2  0.720364\n",
       "24  23-47-37_1  0.718083\n",
       "8         64_1  0.716899\n",
       "32  11-03-45_1  0.715306\n",
       "22        32_1  0.713164\n",
       "34       256_1  0.709659\n",
       "7          4_1  0.707781\n",
       "3   23-11-12_3  0.706696\n",
       "9   23-46-15_2  0.706488\n",
       "26  23-46-02_0  0.706096\n",
       "12         4_2  0.701145\n",
       "35  11-04-10_1  0.699870\n",
       "0   11-03-45_0  0.683927\n",
       "6          2_2  0.683417\n",
       "36  23-47-37_0  0.677757\n",
       "13         2_1  0.674211\n",
       "29  23-46-15_0  0.672072\n",
       "17  11-04-27_0  0.669644\n",
       "16       128_1  0.669448\n",
       "37  11-04-10_0  0.664517\n",
       "14  11-04-27_1  0.600139"
      ]
     },
     "execution_count": 68,
     "metadata": {},
     "output_type": "execute_result"
    }
   ],
   "source": [
    "results_df.sort_values(ascending=False, by='auc')[['path', 'auc']]"
   ]
  },
  {
   "cell_type": "code",
   "execution_count": 69,
   "metadata": {},
   "outputs": [
    {
     "data": {
      "text/plain": [
       "auc    0.714009\n",
       "dtype: float64"
      ]
     },
     "execution_count": 69,
     "metadata": {},
     "output_type": "execute_result"
    }
   ],
   "source": [
    "results_df.sort_values(ascending=False, by='auc')[['path', 'auc']].mean()"
   ]
  },
  {
   "cell_type": "code",
   "execution_count": 70,
   "metadata": {},
   "outputs": [
    {
     "data": {
      "text/html": [
       "<div>\n",
       "<style scoped>\n",
       "    .dataframe tbody tr th:only-of-type {\n",
       "        vertical-align: middle;\n",
       "    }\n",
       "\n",
       "    .dataframe tbody tr th {\n",
       "        vertical-align: top;\n",
       "    }\n",
       "\n",
       "    .dataframe thead th {\n",
       "        text-align: right;\n",
       "    }\n",
       "</style>\n",
       "<table border=\"1\" class=\"dataframe\">\n",
       "  <thead>\n",
       "    <tr style=\"text-align: right;\">\n",
       "      <th></th>\n",
       "      <th>batch_size</th>\n",
       "      <th>path</th>\n",
       "      <th>auc</th>\n",
       "      <th>auc_std</th>\n",
       "      <th>accuracy</th>\n",
       "      <th>accuracy_std</th>\n",
       "    </tr>\n",
       "  </thead>\n",
       "  <tbody>\n",
       "    <tr>\n",
       "      <th>0</th>\n",
       "      <td>8</td>\n",
       "      <td>11-03-45_0</td>\n",
       "      <td>0.683927</td>\n",
       "      <td>0.009346</td>\n",
       "      <td>0.652565</td>\n",
       "      <td>0.013378</td>\n",
       "    </tr>\n",
       "    <tr>\n",
       "      <th>1</th>\n",
       "      <td>256</td>\n",
       "      <td>256_3</td>\n",
       "      <td>0.737107</td>\n",
       "      <td>0.000727</td>\n",
       "      <td>0.670188</td>\n",
       "      <td>0.003604</td>\n",
       "    </tr>\n",
       "    <tr>\n",
       "      <th>2</th>\n",
       "      <td>32</td>\n",
       "      <td>32_2</td>\n",
       "      <td>0.739785</td>\n",
       "      <td>0.005470</td>\n",
       "      <td>0.693600</td>\n",
       "      <td>0.011575</td>\n",
       "    </tr>\n",
       "    <tr>\n",
       "      <th>3</th>\n",
       "      <td>16</td>\n",
       "      <td>23-11-12_3</td>\n",
       "      <td>0.706696</td>\n",
       "      <td>0.004545</td>\n",
       "      <td>0.676518</td>\n",
       "      <td>0.008960</td>\n",
       "    </tr>\n",
       "    <tr>\n",
       "      <th>4</th>\n",
       "      <td>256</td>\n",
       "      <td>256_2</td>\n",
       "      <td>0.723319</td>\n",
       "      <td>0.001503</td>\n",
       "      <td>0.683694</td>\n",
       "      <td>0.010549</td>\n",
       "    </tr>\n",
       "  </tbody>\n",
       "</table>\n",
       "</div>"
      ],
      "text/plain": [
       "   batch_size        path       auc   auc_std  accuracy  accuracy_std\n",
       "0           8  11-03-45_0  0.683927  0.009346  0.652565      0.013378\n",
       "1         256       256_3  0.737107  0.000727  0.670188      0.003604\n",
       "2          32        32_2  0.739785  0.005470  0.693600      0.011575\n",
       "3          16  23-11-12_3  0.706696  0.004545  0.676518      0.008960\n",
       "4         256       256_2  0.723319  0.001503  0.683694      0.010549"
      ]
     },
     "execution_count": 70,
     "metadata": {},
     "output_type": "execute_result"
    }
   ],
   "source": [
    "results_df.head()"
   ]
  },
  {
   "cell_type": "code",
   "execution_count": 71,
   "metadata": {},
   "outputs": [
    {
     "data": {
      "text/plain": [
       "<AxesSubplot:xlabel='batch_size', ylabel='auc'>"
      ]
     },
     "execution_count": 71,
     "metadata": {},
     "output_type": "execute_result"
    },
    {
     "data": {
      "image/png": "[encoded data removed]",
      "text/plain": [
       "<Figure size 720x360 with 1 Axes>"
      ]
     },
     "metadata": {
      "needs_background": "light"
     },
     "output_type": "display_data"
    }
   ],
   "source": [
    "f, axs = plt.subplots(1, 1, figsize=(10, 5))\n",
    "sns.pointplot(data=results_df, x=results_df.batch_size, y=\"auc\", scale=2,ax=axs)\n",
    "sns.stripplot(data=results_df, x=results_df.batch_size, y=\"auc\", jitter=.05, ax=axs)\n",
    "    "
   ]
  },
  {
   "cell_type": "markdown",
   "metadata": {},
   "source": [
    "## Batch sizes - HCP-half-2"
   ]
  },
  {
   "cell_type": "code",
   "execution_count": 78,
   "metadata": {},
   "outputs": [
    {
     "name": "stdout",
     "output_type": "stream",
     "text": [
      "diff_config\n",
      "    Unnamed: 0  batch_size  num_outputs  \\\n",
      "0   08-31-23_0         128          NaN   \n",
      "1   08-31-23_1         128          NaN   \n",
      "2   08-31-23_2         128          NaN   \n",
      "3   08-31-23_3         128          NaN   \n",
      "4   08-31-23_4         128          NaN   \n",
      "5   15-54-55_0           2          NaN   \n",
      "6   15-54-55_1           2          NaN   \n",
      "7   15-54-55_2           2          NaN   \n",
      "8   15-54-55_3           2          NaN   \n",
      "9   15-54-55_4           2          NaN   \n",
      "10        16_0          16         10.0   \n",
      "11        16_1          16         10.0   \n",
      "12        16_2          16         10.0   \n",
      "13        16_3          16         10.0   \n",
      "14        16_4          16         10.0   \n",
      "15  17-42-14_0           4          NaN   \n",
      "16  17-42-14_1           4          NaN   \n",
      "17  17-42-14_2           4          NaN   \n",
      "18  17-42-14_3           4          NaN   \n",
      "19  17-42-14_4           4          NaN   \n",
      "20  19-23-52_0           8          NaN   \n",
      "21  19-23-52_1           8          NaN   \n",
      "22  19-23-52_2           8          NaN   \n",
      "23  19-23-52_3           8          NaN   \n",
      "24  19-23-52_4           8          NaN   \n",
      "25  20-46-10_0         256          NaN   \n",
      "26  20-46-10_1         256          NaN   \n",
      "27  20-46-10_2         256          NaN   \n",
      "28  20-46-10_3         256          NaN   \n",
      "29  20-46-10_4         256          NaN   \n",
      "30  20-57-55_0          32          NaN   \n",
      "31  20-57-55_1          32          NaN   \n",
      "32  20-57-55_2          32          NaN   \n",
      "33  22-30-25_0          32          NaN   \n",
      "34  22-30-25_1          32          NaN   \n",
      "35  23-59-54_0          64          NaN   \n",
      "36  23-59-54_1          64          NaN   \n",
      "37  23-59-54_2          64          NaN   \n",
      "38  23-59-54_3          64          NaN   \n",
      "39  23-59-54_4          64          NaN   \n",
      "\n",
      "                                            numpy_all  \n",
      "0                                                 NaN  \n",
      "1                                                 NaN  \n",
      "2                                                 NaN  \n",
      "3                                                 NaN  \n",
      "4                                                 NaN  \n",
      "5                                                 NaN  \n",
      "6                                                 NaN  \n",
      "7                                                 NaN  \n",
      "8                                                 NaN  \n",
      "9                                                 NaN  \n",
      "10  /neurospin/dico/data/deep_folding/current/data...  \n",
      "11  /neurospin/dico/data/deep_folding/current/data...  \n",
      "12  /neurospin/dico/data/deep_folding/current/data...  \n",
      "13  /neurospin/dico/data/deep_folding/current/data...  \n",
      "14  /neurospin/dico/data/deep_folding/current/data...  \n",
      "15                                                NaN  \n",
      "16                                                NaN  \n",
      "17                                                NaN  \n",
      "18                                                NaN  \n",
      "19                                                NaN  \n",
      "20                                                NaN  \n",
      "21                                                NaN  \n",
      "22                                                NaN  \n",
      "23                                                NaN  \n",
      "24                                                NaN  \n",
      "25                                                NaN  \n",
      "26                                                NaN  \n",
      "27                                                NaN  \n",
      "28                                                NaN  \n",
      "29                                                NaN  \n",
      "30                                                NaN  \n",
      "31                                                NaN  \n",
      "32                                                NaN  \n",
      "33                                                NaN  \n",
      "34                                                NaN  \n",
      "35                                                NaN  \n",
      "36                                                NaN  \n",
      "37                                                NaN  \n",
      "38                                                NaN  \n",
      "39                                                NaN  \n",
      "[16, 4, 4, 64, 2, 2, 16, 64, 64, 8, 2, 256, 128, 2, 4, 128, 2, 4, 64, 8, 32, 256, 8, 16, 8, 32, 16, 8, 256, 4, 64, 32, 16, 128, 128, 256, 32, 256, 32, 128]\n"
     ]
    },
    {
     "data": {
      "text/plain": [
       "40"
      ]
     },
     "execution_count": 78,
     "metadata": {},
     "output_type": "execute_result"
    }
   ],
   "source": [
    "excluded_conditions = []\n",
    "\n",
    "r_batch_df = show_results(\n",
    "    dir_path=\"/neurospin/dico/data/deep_folding/papers/ipmi2023/models/contrastive/trained_on_HCP_half_2/different-batch-sizes\",\n",
    "    dataset='cingulate_ACCpatterns_1',\n",
    "    excluded_conditions=excluded_conditions,\n",
    "    show=False,\n",
    "    key_name='batch_size')\n",
    "\n",
    "len(r_batch_df)"
   ]
  },
  {
   "cell_type": "code",
   "execution_count": 79,
   "metadata": {},
   "outputs": [
    {
     "data": {
      "text/plain": [
       "<AxesSubplot:xlabel='batch_size', ylabel='auc'>"
      ]
     },
     "execution_count": 79,
     "metadata": {},
     "output_type": "execute_result"
    },
    {
     "data": {
      "image/png": "[encoded data removed]",
      "text/plain": [
       "<Figure size 720x360 with 1 Axes>"
      ]
     },
     "metadata": {
      "needs_background": "light"
     },
     "output_type": "display_data"
    }
   ],
   "source": [
    "f, axs = plt.subplots(1, 1, figsize=(10, 5))\n",
    "sns.pointplot(data=r_batch_df, x=r_batch_df.batch_size, y=\"auc\", scale=2,ax=axs)\n",
    "sns.stripplot(data=r_batch_df, x=r_batch_df.batch_size, y=\"auc\", jitter=.05, ax=axs)"
   ]
  },
  {
   "cell_type": "code",
   "execution_count": 81,
   "metadata": {},
   "outputs": [
    {
     "data": {
      "text/html": [
       "<div>\n",
       "<style scoped>\n",
       "    .dataframe tbody tr th:only-of-type {\n",
       "        vertical-align: middle;\n",
       "    }\n",
       "\n",
       "    .dataframe tbody tr th {\n",
       "        vertical-align: top;\n",
       "    }\n",
       "\n",
       "    .dataframe thead th {\n",
       "        text-align: right;\n",
       "    }\n",
       "</style>\n",
       "<table border=\"1\" class=\"dataframe\">\n",
       "  <thead>\n",
       "    <tr style=\"text-align: right;\">\n",
       "      <th></th>\n",
       "      <th>batch_size</th>\n",
       "      <th>path</th>\n",
       "      <th>auc</th>\n",
       "      <th>auc_std</th>\n",
       "      <th>accuracy</th>\n",
       "      <th>accuracy_std</th>\n",
       "    </tr>\n",
       "  </thead>\n",
       "  <tbody>\n",
       "    <tr>\n",
       "      <th>0</th>\n",
       "      <td>16</td>\n",
       "      <td>16_2</td>\n",
       "      <td>0.745901</td>\n",
       "      <td>0.003135</td>\n",
       "      <td>0.699181</td>\n",
       "      <td>0.006776</td>\n",
       "    </tr>\n",
       "    <tr>\n",
       "      <th>1</th>\n",
       "      <td>4</td>\n",
       "      <td>17-42-14_4</td>\n",
       "      <td>0.630264</td>\n",
       "      <td>0.006329</td>\n",
       "      <td>0.626246</td>\n",
       "      <td>0.012982</td>\n",
       "    </tr>\n",
       "    <tr>\n",
       "      <th>2</th>\n",
       "      <td>4</td>\n",
       "      <td>17-42-14_3</td>\n",
       "      <td>0.670654</td>\n",
       "      <td>0.008074</td>\n",
       "      <td>0.654292</td>\n",
       "      <td>0.008544</td>\n",
       "    </tr>\n",
       "    <tr>\n",
       "      <th>3</th>\n",
       "      <td>64</td>\n",
       "      <td>23-59-54_2</td>\n",
       "      <td>0.738462</td>\n",
       "      <td>0.003204</td>\n",
       "      <td>0.712070</td>\n",
       "      <td>0.007993</td>\n",
       "    </tr>\n",
       "    <tr>\n",
       "      <th>4</th>\n",
       "      <td>2</td>\n",
       "      <td>15-54-55_2</td>\n",
       "      <td>0.479448</td>\n",
       "      <td>0.045682</td>\n",
       "      <td>0.564889</td>\n",
       "      <td>0.016408</td>\n",
       "    </tr>\n",
       "  </tbody>\n",
       "</table>\n",
       "</div>"
      ],
      "text/plain": [
       "   batch_size        path       auc   auc_std  accuracy  accuracy_std\n",
       "0          16        16_2  0.745901  0.003135  0.699181      0.006776\n",
       "1           4  17-42-14_4  0.630264  0.006329  0.626246      0.012982\n",
       "2           4  17-42-14_3  0.670654  0.008074  0.654292      0.008544\n",
       "3          64  23-59-54_2  0.738462  0.003204  0.712070      0.007993\n",
       "4           2  15-54-55_2  0.479448  0.045682  0.564889      0.016408"
      ]
     },
     "execution_count": 81,
     "metadata": {},
     "output_type": "execute_result"
    }
   ],
   "source": [
    "r_batch_df.head()"
   ]
  },
  {
   "cell_type": "code",
   "execution_count": 84,
   "metadata": {},
   "outputs": [],
   "source": [
    "r_batch_df.to_csv(\\\n",
    "    \"/neurospin/dico/data/deep_folding/papers/ipmi2023/models/contrastive/summary/bdd_batch-size_training-HCP-half-2_evaluation-ACCpatterns-1.csv\",\n",
    "    index=False)"
   ]
  },
  {
   "cell_type": "markdown",
   "metadata": {},
   "source": [
    "## Analysis of full HCP"
   ]
  },
  {
   "cell_type": "code",
   "execution_count": 74,
   "metadata": {},
   "outputs": [
    {
     "name": "stdout",
     "output_type": "stream",
     "text": [
      "diff_config\n",
      "   Unnamed: 0\n",
      "0  23-28-34_0\n",
      "1  23-28-34_1\n",
      "2  23-28-34_2\n",
      "3  23-28-34_3\n",
      "4  23-28-34_4\n"
     ]
    },
    {
     "data": {
      "text/plain": [
       "5"
      ]
     },
     "execution_count": 74,
     "metadata": {},
     "output_type": "execute_result"
    }
   ],
   "source": [
    "excluded_conditions = []\n",
    "\n",
    "results_df = show_results(\n",
    "    dir_path=\"/neurospin/dico/data/deep_folding/papers/ipmi2023/models/contrastive/trained_on_all_HCP/all\",\n",
    "    dataset='cingulate_ACCpatterns_1',\n",
    "    excluded_conditions=excluded_conditions,\n",
    "    show=False)\n",
    "\n",
    "len(results_df)"
   ]
  },
  {
   "cell_type": "code",
   "execution_count": 75,
   "metadata": {},
   "outputs": [
    {
     "data": {
      "text/html": [
       "<div>\n",
       "<style scoped>\n",
       "    .dataframe tbody tr th:only-of-type {\n",
       "        vertical-align: middle;\n",
       "    }\n",
       "\n",
       "    .dataframe tbody tr th {\n",
       "        vertical-align: top;\n",
       "    }\n",
       "\n",
       "    .dataframe thead th {\n",
       "        text-align: right;\n",
       "    }\n",
       "</style>\n",
       "<table border=\"1\" class=\"dataframe\">\n",
       "  <thead>\n",
       "    <tr style=\"text-align: right;\">\n",
       "      <th></th>\n",
       "      <th>path</th>\n",
       "      <th>auc</th>\n",
       "    </tr>\n",
       "  </thead>\n",
       "  <tbody>\n",
       "    <tr>\n",
       "      <th>0</th>\n",
       "      <td>23-28-34_2</td>\n",
       "      <td>0.760724</td>\n",
       "    </tr>\n",
       "    <tr>\n",
       "      <th>4</th>\n",
       "      <td>23-28-34_3</td>\n",
       "      <td>0.753714</td>\n",
       "    </tr>\n",
       "    <tr>\n",
       "      <th>2</th>\n",
       "      <td>23-28-34_1</td>\n",
       "      <td>0.749070</td>\n",
       "    </tr>\n",
       "    <tr>\n",
       "      <th>3</th>\n",
       "      <td>23-28-34_4</td>\n",
       "      <td>0.729632</td>\n",
       "    </tr>\n",
       "    <tr>\n",
       "      <th>1</th>\n",
       "      <td>23-28-34_0</td>\n",
       "      <td>0.727251</td>\n",
       "    </tr>\n",
       "  </tbody>\n",
       "</table>\n",
       "</div>"
      ],
      "text/plain": [
       "         path       auc\n",
       "0  23-28-34_2  0.760724\n",
       "4  23-28-34_3  0.753714\n",
       "2  23-28-34_1  0.749070\n",
       "3  23-28-34_4  0.729632\n",
       "1  23-28-34_0  0.727251"
      ]
     },
     "execution_count": 75,
     "metadata": {},
     "output_type": "execute_result"
    }
   ],
   "source": [
    "results_df.sort_values(ascending=False, by='auc')[['path', 'auc']]"
   ]
  },
  {
   "cell_type": "code",
   "execution_count": 76,
   "metadata": {},
   "outputs": [
    {
     "data": {
      "text/plain": [
       "auc    0.744078\n",
       "dtype: float64"
      ]
     },
     "execution_count": 76,
     "metadata": {},
     "output_type": "execute_result"
    }
   ],
   "source": [
    "results_df.sort_values(ascending=False, by='auc')[['path', 'auc']].mean()"
   ]
  },
  {
   "cell_type": "markdown",
   "metadata": {},
   "source": [
    "## Analysis of old Aymeric gridsearch"
   ]
  },
  {
   "cell_type": "code",
   "execution_count": 77,
   "metadata": {},
   "outputs": [
    {
     "name": "stdout",
     "output_type": "stream",
     "text": [
      "diff_config\n",
      "    Unnamed: 0  batch_size  num_outputs  \\\n",
      "0   08-31-23_0         128          NaN   \n",
      "1   08-31-23_1         128          NaN   \n",
      "2   08-31-23_2         128          NaN   \n",
      "3   08-31-23_3         128          NaN   \n",
      "4   08-31-23_4         128          NaN   \n",
      "5   15-54-55_0           2          NaN   \n",
      "6   15-54-55_1           2          NaN   \n",
      "7   15-54-55_2           2          NaN   \n",
      "8   15-54-55_3           2          NaN   \n",
      "9   15-54-55_4           2          NaN   \n",
      "10        16_0          16         10.0   \n",
      "11        16_1          16         10.0   \n",
      "12        16_2          16         10.0   \n",
      "13        16_3          16         10.0   \n",
      "14        16_4          16         10.0   \n",
      "15  17-42-14_0           4          NaN   \n",
      "16  17-42-14_1           4          NaN   \n",
      "17  17-42-14_2           4          NaN   \n",
      "18  17-42-14_3           4          NaN   \n",
      "19  17-42-14_4           4          NaN   \n",
      "20  19-23-52_0           8          NaN   \n",
      "21  19-23-52_1           8          NaN   \n",
      "22  19-23-52_2           8          NaN   \n",
      "23  19-23-52_3           8          NaN   \n",
      "24  19-23-52_4           8          NaN   \n",
      "25  20-46-10_0         256          NaN   \n",
      "26  20-46-10_1         256          NaN   \n",
      "27  20-46-10_2         256          NaN   \n",
      "28  20-46-10_3         256          NaN   \n",
      "29  20-46-10_4         256          NaN   \n",
      "30  20-57-55_0          32          NaN   \n",
      "31  20-57-55_1          32          NaN   \n",
      "32  20-57-55_2          32          NaN   \n",
      "33  22-30-25_0          32          NaN   \n",
      "34  22-30-25_1          32          NaN   \n",
      "35  23-59-54_0          64          NaN   \n",
      "36  23-59-54_1          64          NaN   \n",
      "37  23-59-54_2          64          NaN   \n",
      "38  23-59-54_3          64          NaN   \n",
      "39  23-59-54_4          64          NaN   \n",
      "\n",
      "                                            numpy_all  \n",
      "0                                                 NaN  \n",
      "1                                                 NaN  \n",
      "2                                                 NaN  \n",
      "3                                                 NaN  \n",
      "4                                                 NaN  \n",
      "5                                                 NaN  \n",
      "6                                                 NaN  \n",
      "7                                                 NaN  \n",
      "8                                                 NaN  \n",
      "9                                                 NaN  \n",
      "10  /neurospin/dico/data/deep_folding/current/data...  \n",
      "11  /neurospin/dico/data/deep_folding/current/data...  \n",
      "12  /neurospin/dico/data/deep_folding/current/data...  \n",
      "13  /neurospin/dico/data/deep_folding/current/data...  \n",
      "14  /neurospin/dico/data/deep_folding/current/data...  \n",
      "15                                                NaN  \n",
      "16                                                NaN  \n",
      "17                                                NaN  \n",
      "18                                                NaN  \n",
      "19                                                NaN  \n",
      "20                                                NaN  \n",
      "21                                                NaN  \n",
      "22                                                NaN  \n",
      "23                                                NaN  \n",
      "24                                                NaN  \n",
      "25                                                NaN  \n",
      "26                                                NaN  \n",
      "27                                                NaN  \n",
      "28                                                NaN  \n",
      "29                                                NaN  \n",
      "30                                                NaN  \n",
      "31                                                NaN  \n",
      "32                                                NaN  \n",
      "33                                                NaN  \n",
      "34                                                NaN  \n",
      "35                                                NaN  \n",
      "36                                                NaN  \n",
      "37                                                NaN  \n",
      "38                                                NaN  \n",
      "39                                                NaN  \n"
     ]
    },
    {
     "ename": "FileNotFoundError",
     "evalue": "[Errno 2] No such file or directory: '/neurospin/dico/data/deep_folding/papers/ipmi2023/models/contrastive/trained_on_HCP_half_2/different-batch-sizes/17-42-14_4/cingulate_ACCpatterns_0_embeddings/values.json'",
     "output_type": "error",
     "traceback": [
      "\u001b[0;31m---------------------------------------------------------------------------\u001b[0m",
      "\u001b[0;31mFileNotFoundError\u001b[0m                         Traceback (most recent call last)",
      "\u001b[0;32m<ipython-input-77-a0c1ee2eaea5>\u001b[0m in \u001b[0;36m<module>\u001b[0;34m\u001b[0m\n\u001b[1;32m      6\u001b[0m     \u001b[0mexcluded_conditions\u001b[0m\u001b[0;34m=\u001b[0m\u001b[0mexcluded_conditions\u001b[0m\u001b[0;34m,\u001b[0m\u001b[0;34m\u001b[0m\u001b[0;34m\u001b[0m\u001b[0m\n\u001b[1;32m      7\u001b[0m     \u001b[0mshow\u001b[0m\u001b[0;34m=\u001b[0m\u001b[0;32mFalse\u001b[0m\u001b[0;34m,\u001b[0m\u001b[0;34m\u001b[0m\u001b[0;34m\u001b[0m\u001b[0m\n\u001b[0;32m----> 8\u001b[0;31m     key_name='batch_size')\n\u001b[0m\u001b[1;32m      9\u001b[0m \u001b[0;34m\u001b[0m\u001b[0m\n\u001b[1;32m     10\u001b[0m \u001b[0mlen\u001b[0m\u001b[0;34m(\u001b[0m\u001b[0mresults_df\u001b[0m\u001b[0;34m)\u001b[0m\u001b[0;34m\u001b[0m\u001b[0;34m\u001b[0m\u001b[0m\n",
      "\u001b[0;32m<ipython-input-58-ff79ad34c7a2>\u001b[0m in \u001b[0;36mshow_results\u001b[0;34m(dir_path, figsize, return_config_diff, dataset, excluded_conditions, show, key_name)\u001b[0m\n\u001b[1;32m     23\u001b[0m         \u001b[0;32mif\u001b[0m \u001b[0mos\u001b[0m\u001b[0;34m.\u001b[0m\u001b[0mpath\u001b[0m\u001b[0;34m.\u001b[0m\u001b[0misdir\u001b[0m\u001b[0;34m(\u001b[0m\u001b[0mdir_path\u001b[0m \u001b[0;34m+\u001b[0m \u001b[0;34m'/'\u001b[0m \u001b[0;34m+\u001b[0m \u001b[0msubdir\u001b[0m\u001b[0;34m)\u001b[0m \u001b[0;32mand\u001b[0m \u001b[0msubdir\u001b[0m \u001b[0;32mnot\u001b[0m \u001b[0;32min\u001b[0m \u001b[0mexcluded_subdirs\u001b[0m\u001b[0;34m:\u001b[0m\u001b[0;34m\u001b[0m\u001b[0;34m\u001b[0m\u001b[0m\n\u001b[1;32m     24\u001b[0m             \u001b[0mpath\u001b[0m \u001b[0;34m=\u001b[0m \u001b[0mdir_path\u001b[0m \u001b[0;34m+\u001b[0m \u001b[0;34m'/'\u001b[0m \u001b[0;34m+\u001b[0m \u001b[0msubdir\u001b[0m \u001b[0;34m+\u001b[0m \u001b[0;34m'/'\u001b[0m \u001b[0;34m+\u001b[0m \u001b[0mdataset\u001b[0m \u001b[0;34m+\u001b[0m \u001b[0;34m'_embeddings'\u001b[0m\u001b[0;34m\u001b[0m\u001b[0;34m\u001b[0m\u001b[0m\n\u001b[0;32m---> 25\u001b[0;31m             \u001b[0;32mwith\u001b[0m \u001b[0mopen\u001b[0m\u001b[0;34m(\u001b[0m\u001b[0mpath\u001b[0m\u001b[0;34m+\u001b[0m\u001b[0;34m'/values.json'\u001b[0m\u001b[0;34m,\u001b[0m \u001b[0;34m'r'\u001b[0m\u001b[0;34m)\u001b[0m \u001b[0;32mas\u001b[0m \u001b[0mfile\u001b[0m\u001b[0;34m:\u001b[0m\u001b[0;34m\u001b[0m\u001b[0;34m\u001b[0m\u001b[0m\n\u001b[0m\u001b[1;32m     26\u001b[0m                 \u001b[0mvalues\u001b[0m \u001b[0;34m=\u001b[0m \u001b[0mjson\u001b[0m\u001b[0;34m.\u001b[0m\u001b[0mload\u001b[0m\u001b[0;34m(\u001b[0m\u001b[0mfile\u001b[0m\u001b[0;34m)\u001b[0m\u001b[0;34m\u001b[0m\u001b[0;34m\u001b[0m\u001b[0m\n\u001b[1;32m     27\u001b[0m             \u001b[0;31m# print(subdir)\u001b[0m\u001b[0;34m\u001b[0m\u001b[0;34m\u001b[0m\u001b[0;34m\u001b[0m\u001b[0m\n",
      "\u001b[0;31mFileNotFoundError\u001b[0m: [Errno 2] No such file or directory: '/neurospin/dico/data/deep_folding/papers/ipmi2023/models/contrastive/trained_on_HCP_half_2/different-batch-sizes/17-42-14_4/cingulate_ACCpatterns_0_embeddings/values.json'"
     ]
    }
   ],
   "source": [
    "excluded_conditions = []\n",
    "\n",
    "results_df = show_results(\n",
    "    dir_path=\"/neurospin/dico/data/deep_folding/papers/ipmi2023/models/contrastive/trained_on_HCP_half_2/different-batch-sizes\",\n",
    "    dataset='cingulate_ACCpatterns_0',\n",
    "    excluded_conditions=excluded_conditions,\n",
    "    show=False,\n",
    "    key_name='batch_size')\n",
    "\n",
    "len(results_df)"
   ]
  },
  {
   "cell_type": "code",
   "execution_count": null,
   "metadata": {},
   "outputs": [],
   "source": [
    "# directories are supposed to have a certain structure and name patterns\n",
    "def get_results_table(dir_path, model_types=['convnet', 'densenet2'], verbose=False):\n",
    "    results = {k: {} for k in model_types}\n",
    "\n",
    "    for model_type in os.listdir(dir_path):\n",
    "        if model_type in model_types:\n",
    "            if verbose:\n",
    "                print(model_type)\n",
    "            path = os.path.join(dir_path, model_type)\n",
    "            for params in os.listdir(path):\n",
    "                params_path = os.path.join(path, params)\n",
    "                if os.path.isdir(params_path):\n",
    "                    if verbose:\n",
    "                        print(params)\n",
    "                    \n",
    "                    n_models = 0\n",
    "\n",
    "                    if model_type == 'pca':\n",
    "                        results[model_type]['foldlabel_'+params] = 0\n",
    "                        results[model_type]['no_foldlabel_'+params] = 0\n",
    "                    else:    \n",
    "                        results[model_type][params] = 0\n",
    "                    \n",
    "                    for model in os.listdir(params_path):\n",
    "                        model_path = os.path.join(params_path, model)\n",
    "                        # start a model name by & to filter it out of the performance analysis\n",
    "                        if os.path.isdir(model_path) and model[0] != '&':\n",
    "                            if verbose:\n",
    "                                print(model)\n",
    "\n",
    "                            n_models += 1\n",
    "\n",
    "                            if model_type == 'pca':\n",
    "                                values = os.path.join(params_path, model, 'values.json')\n",
    "                                with open(values, 'r') as file:\n",
    "                                    values = json.load(file)\n",
    "                                results[model_type]['foldlabel_'+params] += values['cross_val_auc'][0]\n",
    "                                results[model_type]['no_foldlabel_'+params] += values['cross_val_auc'][0]\n",
    "                            else:\n",
    "                                values = os.path.join(params_path, model, 'cingulate_ACCpatterns_embeddings/values.json')\n",
    "                                with open(values, 'r') as file:\n",
    "                                    values = json.load(file)\n",
    "                                results[model_type][params] += values['cross_val_auc'][0]\n",
    "                    \n",
    "                    if model_type == 'pca':\n",
    "                        results[model_type]['foldlabel_'+params] = results[model_type]['foldlabel_'+params]/n_models\n",
    "                        results[model_type]['no_foldlabel_'+params] = results[model_type]['no_foldlabel_'+params]/n_models\n",
    "                    else:\n",
    "                        results[model_type][params] = results[model_type][params]/n_models\n",
    "    \n",
    "    results_df = pd.DataFrame(results)\n",
    "    results_df.sort_index(inplace=True)\n",
    "    return results_df"
   ]
  },
  {
   "cell_type": "code",
   "execution_count": null,
   "metadata": {},
   "outputs": [
    {
     "data": {
      "text/html": [
       "<div>\n",
       "<style scoped>\n",
       "    .dataframe tbody tr th:only-of-type {\n",
       "        vertical-align: middle;\n",
       "    }\n",
       "\n",
       "    .dataframe tbody tr th {\n",
       "        vertical-align: top;\n",
       "    }\n",
       "\n",
       "    .dataframe thead th {\n",
       "        text-align: right;\n",
       "    }\n",
       "</style>\n",
       "<table border=\"1\" class=\"dataframe\">\n",
       "  <thead>\n",
       "    <tr style=\"text-align: right;\">\n",
       "      <th></th>\n",
       "      <th>convnet</th>\n",
       "      <th>densenet2</th>\n",
       "      <th>pca</th>\n",
       "    </tr>\n",
       "  </thead>\n",
       "  <tbody>\n",
       "    <tr>\n",
       "      <th>foldlabel_30</th>\n",
       "      <td>0.613729</td>\n",
       "      <td>0.658608</td>\n",
       "      <td>0.595418</td>\n",
       "    </tr>\n",
       "    <tr>\n",
       "      <th>foldlabel_4</th>\n",
       "      <td>0.589703</td>\n",
       "      <td>0.574395</td>\n",
       "      <td>0.538784</td>\n",
       "    </tr>\n",
       "    <tr>\n",
       "      <th>no_foldlabel_30</th>\n",
       "      <td>0.649748</td>\n",
       "      <td>0.575910</td>\n",
       "      <td>0.595418</td>\n",
       "    </tr>\n",
       "    <tr>\n",
       "      <th>no_foldlabel_4</th>\n",
       "      <td>0.514435</td>\n",
       "      <td>0.488433</td>\n",
       "      <td>0.538784</td>\n",
       "    </tr>\n",
       "  </tbody>\n",
       "</table>\n",
       "</div>"
      ],
      "text/plain": [
       "                  convnet  densenet2       pca\n",
       "foldlabel_30     0.613729   0.658608  0.595418\n",
       "foldlabel_4      0.589703   0.574395  0.538784\n",
       "no_foldlabel_30  0.649748   0.575910  0.595418\n",
       "no_foldlabel_4   0.514435   0.488433  0.538784"
      ]
     },
     "execution_count": 16,
     "metadata": {},
     "output_type": "execute_result"
    }
   ],
   "source": [
    "dir_path = \"/neurospin/dico/agaudin/Runs/03_monkeys/Output/analysis_folders\"\n",
    "results_df = get_results_table(dir_path, model_types=['convnet', 'densenet2', 'pca'])\n",
    "\n",
    "results_df.to_csv(\"/neurospin/dico/agaudin/Runs/03_monkeys/Output/analysis_folders/performance_comparison_5000.csv\")\n",
    "\n",
    "results_df"
   ]
  },
  {
   "cell_type": "code",
   "execution_count": null,
   "metadata": {},
   "outputs": [],
   "source": []
  }
 ],
 "metadata": {
  "kernelspec": {
   "display_name": "Python 3.6.9 ('venv_local': venv)",
   "language": "python",
   "name": "python3"
  },
  "language_info": {
   "codemirror_mode": {
    "name": "ipython",
    "version": 3
   },
   "file_extension": ".py",
   "mimetype": "text/x-python",
   "name": "python",
   "nbconvert_exporter": "python",
   "pygments_lexer": "ipython3",
   "version": "3.6.9"
  },
  "orig_nbformat": 4,
  "vscode": {
   "interpreter": {
    "hash": "b3f951fa4227f6aee2764c66da50d1aa01efee6b5e95e7b587fda0e6104695b3"
   }
  }
 },
 "nbformat": 4,
 "nbformat_minor": 2
}
