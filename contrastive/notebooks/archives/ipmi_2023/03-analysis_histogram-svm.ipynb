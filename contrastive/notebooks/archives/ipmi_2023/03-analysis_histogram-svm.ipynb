{
 "cells": [
  {
   "cell_type": "markdown",
   "metadata": {},
   "source": [
    "Notebook with methods to plot the embeddings (umap) and do some clustering."
   ]
  },
  {
   "cell_type": "code",
   "execution_count": 301,
   "metadata": {},
   "outputs": [],
   "source": [
    "import os\n",
    "import pandas as pd\n",
    "import matplotlib.pyplot as plt\n",
    "import matplotlib.image as mpimg\n",
    "import seaborn as sns\n",
    "from sklearn.metrics import auc, roc_curve, roc_auc_score\n",
    "\n",
    "from contrastive.evaluation.train_multiple_classifiers import compute_auc\n",
    "from contrastive.utils.models_database import load_model_embs, load_model_preds"
   ]
  },
  {
   "cell_type": "code",
   "execution_count": 274,
   "metadata": {},
   "outputs": [],
   "source": [
    "# test model\n",
    "test_model = \"/neurospin/dico/data/deep_folding/papers/ipmi2023/models/beta-VAE/n_10/#1\"\n",
    "parent_dir_betavae = \"/neurospin/dico/data/deep_folding/papers/ipmi2023/models/beta-VAE/n_10\"\n",
    "# test_model = \"/neurospin/dico/data/deep_folding/papers/ipmi2023/models/contrastive/trained_on_HCP_half_2/all/foldlabel/convnet-10/09-21-24_0\"\n",
    "parent_dir_simclr = \"/neurospin/dico/data/deep_folding/papers/ipmi2023/models/contrastive/trained_on_HCP_half_2/all/foldlabel/convnet-10\"\n",
    "dataset='cingulate_ACCpatterns_1'"
   ]
  },
  {
   "cell_type": "markdown",
   "metadata": {},
   "source": []
  },
  {
   "cell_type": "markdown",
   "metadata": {},
   "source": [
    "# Functions"
   ]
  },
  {
   "cell_type": "code",
   "execution_count": 275,
   "metadata": {},
   "outputs": [],
   "source": [
    "def get_model_path(parent_dir):\n",
    "    path = os.path.abspath(parent_dir)\n",
    "    return [entry.path for entry in os.scandir(path) if entry.is_dir()]"
   ]
  },
  {
   "cell_type": "code",
   "execution_count": 262,
   "metadata": {},
   "outputs": [],
   "source": [
    "def get_classifier_by_quality(labels_df, q=0.5):\n",
    "    aucs = labels_df.apply(compute_auc, args=[labels_df.label])\n",
    "    aucs = aucs[~aucs.index.isin(['label', 'median_pred', 'mean_pred'])]\n",
    "    model_auc = aucs.quantile(q=q, interpolation='nearest')\n",
    "    aucs = aucs[aucs == model_auc]\n",
    "    return(aucs.index[0], model_auc)"
   ]
  },
  {
   "cell_type": "code",
   "execution_count": 263,
   "metadata": {},
   "outputs": [],
   "source": [
    "def plot_svm_predictions(prediction_df, quantiles=[0,0.5,1], thresholds=[0.25,0.5,0.75],\n",
    "                         cmap = ['b', 'r'], verbose=False):\n",
    "    # plot for predicted labels\n",
    "    n_i = len(quantiles)\n",
    "    n_j = len(thresholds)\n",
    "    plt.figure(figsize=(n_i*6.4, n_j*4.8))\n",
    "    \n",
    "    for i,quantile in enumerate(quantiles):\n",
    "        svm_model, model_auc = get_classifier_by_quality(prediction_df, q=quantile)\n",
    "        model_auc = \"{:.2f}\".format(model_auc)\n",
    "        if verbose:\n",
    "            print(f\"Chosen svm model for quantile {quantile} (ie auc={model_auc}):\")\n",
    "        \n",
    "        for j,threshold in enumerate(thresholds):            \n",
    "            mid_svm_pred = (prediction_df[svm_model] >= threshold).astype(int)\n",
    "            if verbose:\n",
    "                print(mid_svm_pred[:5])\n",
    "                print(\"shape:\", mid_svm_pred.shape)\n",
    "\n",
    "            colors = [cmap[i] for i in mid_svm_pred]\n",
    "            \"\"\"if show_wrong_class:\n",
    "                colors = []\n",
    "                for i in range(prediction_df.shape[0]):\n",
    "                    if prediction_df[la]\"\"\"\n",
    "            # compute accuracy\n",
    "            accuracy = ((prediction_df[svm_model] >= threshold) == prediction_df.label).astype(float).mean()"
   ]
  },
  {
   "cell_type": "code",
   "execution_count": 264,
   "metadata": {},
   "outputs": [],
   "source": [
    "def full_histogram(model_path, dataset='cingulate_ACCpatterns_1', quantiles=[0,0.5,1], thresholds=[0.25,0.5,0.75], verbose=True):\n",
    "    \n",
    "    ## plot the svm curves\n",
    "    plt.figure(figsize=(10, 7.5))\n",
    "    fig = plt.imshow(mpimg.imread(model_path+f\"/{dataset}_embeddings/cross_val_ROC_curves.png\"))\n",
    "    plt.axis('off')\n",
    "    # give the model auc?\n",
    "\n",
    "\n",
    "    ## compute the clusters on the embeddings\n",
    "    # load the data\n",
    "    data_df = load_model_embs(model_path, dataset=dataset)\n",
    "    if verbose:\n",
    "        print(\"Data df:\")\n",
    "        print(data_df[:5])\n",
    "\n",
    "    # load the predictions\n",
    "    prediction_df = load_model_preds(model_path, dataset=dataset)\n",
    "    if verbose:\n",
    "        print(\"Prediction df:\")\n",
    "        print(prediction_df[:5])\n",
    "\n",
    "    # plot the svm predictions\n",
    "    plot_svm_predictions(prediction_df, quantiles=quantiles, thresholds=thresholds,\n",
    "                         verbose=verbose)\n",
    "\n",
    "    ## generate the result df\n",
    "    res_df = pd.DataFrame(index=data_df.index)\n",
    "    res_df['true_labels'] = prediction_df.label\n",
    "\n",
    "    return res_df"
   ]
  },
  {
   "cell_type": "code",
   "execution_count": 276,
   "metadata": {},
   "outputs": [],
   "source": [
    "def get_different_model_preds(parent_dir=None):\n",
    "    model_paths = get_model_path(parent_dir=parent_dir)\n",
    "    print(model_paths)\n",
    "    fusion = load_model_preds(model_paths[0], dataset=dataset)[[\"label\"]]\n",
    "    # print(fusion.head())\n",
    "    i=0\n",
    "    for model_path in model_paths:\n",
    "        prediction_df = load_model_preds(model_path, dataset=dataset)[[\"average_model\"]]\n",
    "        prediction_df.rename(columns={'average_model': f\"average_model{i}\"}, inplace=True)\n",
    "        fusion = pd.merge(fusion, prediction_df, left_index=True, right_index=True)\n",
    "        # print(fusion.head())\n",
    "        i+=1\n",
    "    return fusion"
   ]
  },
  {
   "cell_type": "markdown",
   "metadata": {},
   "source": [
    "## Gets histograms and correlations"
   ]
  },
  {
   "cell_type": "code",
   "execution_count": 277,
   "metadata": {},
   "outputs": [
    {
     "name": "stdout",
     "output_type": "stream",
     "text": [
      "['/neurospin/dico/data/deep_folding/papers/ipmi2023/models/contrastive/trained_on_HCP_half_2/all/foldlabel/convnet-10/09-21-24_2', '/neurospin/dico/data/deep_folding/papers/ipmi2023/models/contrastive/trained_on_HCP_half_2/all/foldlabel/convnet-10/09-21-24_3', '/neurospin/dico/data/deep_folding/papers/ipmi2023/models/contrastive/trained_on_HCP_half_2/all/foldlabel/convnet-10/09-21-24_1', '/neurospin/dico/data/deep_folding/papers/ipmi2023/models/contrastive/trained_on_HCP_half_2/all/foldlabel/convnet-10/09-21-24_4', '/neurospin/dico/data/deep_folding/papers/ipmi2023/models/contrastive/trained_on_HCP_half_2/all/foldlabel/convnet-10/09-21-24_0']\n"
     ]
    }
   ],
   "source": [
    "fusion_simclr = get_different_model_preds(parent_dir_simclr)"
   ]
  },
  {
   "cell_type": "code",
   "execution_count": 278,
   "metadata": {},
   "outputs": [
    {
     "name": "stdout",
     "output_type": "stream",
     "text": [
      "['/neurospin/dico/data/deep_folding/papers/ipmi2023/models/beta-VAE/n_10/#1', '/neurospin/dico/data/deep_folding/papers/ipmi2023/models/beta-VAE/n_10/#5', '/neurospin/dico/data/deep_folding/papers/ipmi2023/models/beta-VAE/n_10/#3', '/neurospin/dico/data/deep_folding/papers/ipmi2023/models/beta-VAE/n_10/#2', '/neurospin/dico/data/deep_folding/papers/ipmi2023/models/beta-VAE/n_10/#4']\n"
     ]
    }
   ],
   "source": [
    "fusion_betavae = get_different_model_preds(parent_dir_betavae)"
   ]
  },
  {
   "cell_type": "code",
   "execution_count": 279,
   "metadata": {},
   "outputs": [],
   "source": [
    "fusion = fusion_simclr"
   ]
  },
  {
   "cell_type": "code",
   "execution_count": 280,
   "metadata": {},
   "outputs": [],
   "source": [
    "a = fusion.iloc[:,1:].values"
   ]
  },
  {
   "cell_type": "code",
   "execution_count": 281,
   "metadata": {},
   "outputs": [
    {
     "data": {
      "text/plain": [
       "(array([12., 21., 29., 63., 77., 59., 46., 31., 18.,  9.]),\n",
       " array([0.07231207, 0.15983663, 0.2473612 , 0.33488577, 0.42241034,\n",
       "        0.50993491, 0.59745947, 0.68498404, 0.77250861, 0.86003318,\n",
       "        0.94755775]),\n",
       " <BarContainer object of 10 artists>)"
      ]
     },
     "execution_count": 281,
     "metadata": {},
     "output_type": "execute_result"
    },
    {
     "data": {
      "image/png": "[encoded data removed]",
      "text/plain": [
       "<Figure size 432x288 with 1 Axes>"
      ]
     },
     "metadata": {
      "needs_background": "light"
     },
     "output_type": "display_data"
    }
   ],
   "source": [
    "plt.hist(fusion[fusion.label==0].iloc[:,1:].values.reshape(-1,1), alpha=0.5)\n",
    "plt.hist(fusion[fusion.label==1].iloc[:,1:].values.reshape(-1,1), alpha=0.5)"
   ]
  },
  {
   "cell_type": "code",
   "execution_count": 282,
   "metadata": {},
   "outputs": [
    {
     "data": {
      "text/plain": [
       "(array([ 2.,  3.,  4., 13., 12., 19.,  8.,  6.,  3.,  3.]),\n",
       " array([0.08535203, 0.16664923, 0.24794643, 0.32924364, 0.41054084,\n",
       "        0.49183804, 0.57313524, 0.65443244, 0.73572964, 0.81702684,\n",
       "        0.89832405]),\n",
       " <BarContainer object of 10 artists>)"
      ]
     },
     "execution_count": 282,
     "metadata": {},
     "output_type": "execute_result"
    },
    {
     "data": {
      "image/png": "[encoded data removed]",
      "text/plain": [
       "<Figure size 432x288 with 1 Axes>"
      ]
     },
     "metadata": {
      "needs_background": "light"
     },
     "output_type": "display_data"
    }
   ],
   "source": [
    "plt.hist(fusion[fusion.label==0].iloc[:,1:].mean(axis=1),alpha=0.5)\n",
    "plt.hist(fusion[fusion.label==1].iloc[:,1:].mean(axis=1), alpha=0.5)"
   ]
  },
  {
   "cell_type": "code",
   "execution_count": 283,
   "metadata": {},
   "outputs": [],
   "source": [
    "curves = roc_curve(fusion.label, fusion.iloc[:,1:].mean(axis=1))\n",
    "roc_auc = roc_auc_score(fusion.label, fusion.iloc[:,1:].mean(axis=1))"
   ]
  },
  {
   "cell_type": "code",
   "execution_count": 284,
   "metadata": {},
   "outputs": [
    {
     "data": {
      "text/plain": [
       "[<matplotlib.lines.Line2D at 0x7f27e3638b38>]"
      ]
     },
     "execution_count": 284,
     "metadata": {},
     "output_type": "execute_result"
    },
    {
     "data": {
      "image/png": "[encoded data removed]",
      "text/plain": [
       "<Figure size 432x288 with 1 Axes>"
      ]
     },
     "metadata": {
      "needs_background": "light"
     },
     "output_type": "display_data"
    }
   ],
   "source": [
    "plt.plot(curves[0], curves[1], color='black', alpha=0.1)\n",
    "plt.plot([0,1],[0,1],color='r', linestyle='dashed')"
   ]
  },
  {
   "cell_type": "code",
   "execution_count": 285,
   "metadata": {},
   "outputs": [
    {
     "data": {
      "text/plain": [
       "0.737489516354487"
      ]
     },
     "execution_count": 285,
     "metadata": {},
     "output_type": "execute_result"
    }
   ],
   "source": [
    "roc_auc"
   ]
  },
  {
   "cell_type": "code",
   "execution_count": 286,
   "metadata": {},
   "outputs": [
    {
     "data": {
      "text/plain": [
       "0.2982456140350877"
      ]
     },
     "execution_count": 286,
     "metadata": {},
     "output_type": "execute_result"
    }
   ],
   "source": [
    "(fusion.iloc[:,1:].mean(axis=1)>0.5).sum()/171"
   ]
  },
  {
   "cell_type": "code",
   "execution_count": 287,
   "metadata": {},
   "outputs": [
    {
     "data": {
      "text/plain": [
       "(array([60., 27., 19., 10., 55.]),\n",
       " array([0, 1, 2, 3, 4, 5]),\n",
       " <BarContainer object of 5 artists>)"
      ]
     },
     "execution_count": 287,
     "metadata": {},
     "output_type": "execute_result"
    },
    {
     "data": {
      "image/png": "[encoded data removed]",
      "text/plain": [
       "<Figure size 432x288 with 1 Axes>"
      ]
     },
     "metadata": {
      "needs_background": "light"
     },
     "output_type": "display_data"
    }
   ],
   "source": [
    "b = (a>=0.45).astype(float)\n",
    "plt.hist((b.sum(axis=1)), bins=[0,1,2,3,4,5])"
   ]
  },
  {
   "cell_type": "code",
   "execution_count": 288,
   "metadata": {},
   "outputs": [
    {
     "data": {
      "text/plain": [
       "38.01169590643275"
      ]
     },
     "execution_count": 288,
     "metadata": {},
     "output_type": "execute_result"
    }
   ],
   "source": [
    "(b.sum(axis=1)>2).sum()*100./171."
   ]
  },
  {
   "cell_type": "code",
   "execution_count": 299,
   "metadata": {},
   "outputs": [
    {
     "data": {
      "text/plain": [
       "<matplotlib.collections.PathCollection at 0x7f27e3133b70>"
      ]
     },
     "execution_count": 299,
     "metadata": {},
     "output_type": "execute_result"
    },
    {
     "data": {
      "image/png": "[encoded data removed]",
      "text/plain": [
       "<Figure size 432x288 with 1 Axes>"
      ]
     },
     "metadata": {
      "needs_background": "light"
     },
     "output_type": "display_data"
    }
   ],
   "source": [
    "plt.scatter(fusion_simclr.iloc[:,1:].mean(axis=1), fusion_betavae.iloc[:,1:].mean(axis=1), c=fusion.label)"
   ]
  },
  {
   "cell_type": "code",
   "execution_count": 305,
   "metadata": {},
   "outputs": [
    {
     "data": {
      "text/plain": [
       "<AxesSubplot:xlabel='label', ylabel='average_model0'>"
      ]
     },
     "execution_count": 305,
     "metadata": {},
     "output_type": "execute_result"
    },
    {
     "data": {
      "image/png": "[encoded data removed]",
      "text/plain": [
       "<Figure size 432x288 with 1 Axes>"
      ]
     },
     "metadata": {
      "needs_background": "light"
     },
     "output_type": "display_data"
    }
   ],
   "source": [
    "# plt.scatter(fusion_simclr.iloc[:,1], fusion_simclr.label)\n",
    "sns.stripplot(data=fusion_simclr, x=fusion_simclr.label, y=\"average_model0\", jitter=.2)\n",
    "        "
   ]
  },
  {
   "cell_type": "code",
   "execution_count": 298,
   "metadata": {},
   "outputs": [
    {
     "data": {
      "text/plain": [
       "<matplotlib.collections.PathCollection at 0x7f27e3168128>"
      ]
     },
     "execution_count": 298,
     "metadata": {},
     "output_type": "execute_result"
    },
    {
     "data": {
      "image/png": "[encoded data removed]",
      "text/plain": [
       "<Figure size 432x288 with 1 Axes>"
      ]
     },
     "metadata": {
      "needs_background": "light"
     },
     "output_type": "display_data"
    }
   ],
   "source": [
    "plt.scatter(fusion_simclr.iloc[:,1], fusion_betavae.iloc[:,4], c=fusion.label)"
   ]
  },
  {
   "cell_type": "markdown",
   "metadata": {},
   "source": [
    "## Data histogram"
   ]
  },
  {
   "cell_type": "code",
   "execution_count": null,
   "metadata": {},
   "outputs": [],
   "source": []
  },
  {
   "cell_type": "code",
   "execution_count": 138,
   "metadata": {},
   "outputs": [
    {
     "data": {
      "text/html": [
       "<div>\n",
       "<style scoped>\n",
       "    .dataframe tbody tr th:only-of-type {\n",
       "        vertical-align: middle;\n",
       "    }\n",
       "\n",
       "    .dataframe tbody tr th {\n",
       "        vertical-align: top;\n",
       "    }\n",
       "\n",
       "    .dataframe thead th {\n",
       "        text-align: right;\n",
       "    }\n",
       "</style>\n",
       "<table border=\"1\" class=\"dataframe\">\n",
       "  <thead>\n",
       "    <tr style=\"text-align: right;\">\n",
       "      <th></th>\n",
       "      <th>dim1</th>\n",
       "      <th>dim2</th>\n",
       "      <th>dim3</th>\n",
       "      <th>dim4</th>\n",
       "      <th>dim5</th>\n",
       "      <th>dim6</th>\n",
       "      <th>dim7</th>\n",
       "      <th>dim8</th>\n",
       "      <th>dim9</th>\n",
       "      <th>dim10</th>\n",
       "    </tr>\n",
       "    <tr>\n",
       "      <th>ID</th>\n",
       "      <th></th>\n",
       "      <th></th>\n",
       "      <th></th>\n",
       "      <th></th>\n",
       "      <th></th>\n",
       "      <th></th>\n",
       "      <th></th>\n",
       "      <th></th>\n",
       "      <th></th>\n",
       "      <th></th>\n",
       "    </tr>\n",
       "  </thead>\n",
       "  <tbody>\n",
       "    <tr>\n",
       "      <th>1-20FORHU_t0</th>\n",
       "      <td>1.979331</td>\n",
       "      <td>0.188219</td>\n",
       "      <td>-0.860599</td>\n",
       "      <td>1.882955</td>\n",
       "      <td>-1.815237</td>\n",
       "      <td>0.490921</td>\n",
       "      <td>-0.610081</td>\n",
       "      <td>0.316156</td>\n",
       "      <td>-0.385939</td>\n",
       "      <td>-0.725653</td>\n",
       "    </tr>\n",
       "    <tr>\n",
       "      <th>1-23CREES_t0</th>\n",
       "      <td>1.693041</td>\n",
       "      <td>0.156626</td>\n",
       "      <td>2.026151</td>\n",
       "      <td>0.534890</td>\n",
       "      <td>0.971220</td>\n",
       "      <td>0.811980</td>\n",
       "      <td>-1.612516</td>\n",
       "      <td>1.410623</td>\n",
       "      <td>-0.368849</td>\n",
       "      <td>0.469374</td>\n",
       "    </tr>\n",
       "    <tr>\n",
       "      <th>2-02FERMA_t0</th>\n",
       "      <td>0.406861</td>\n",
       "      <td>-1.133447</td>\n",
       "      <td>-0.584822</td>\n",
       "      <td>1.731163</td>\n",
       "      <td>-1.789493</td>\n",
       "      <td>2.171829</td>\n",
       "      <td>0.562189</td>\n",
       "      <td>-1.219443</td>\n",
       "      <td>0.713960</td>\n",
       "      <td>-1.233641</td>\n",
       "    </tr>\n",
       "    <tr>\n",
       "      <th>2-04HEBTO_t0</th>\n",
       "      <td>-0.448091</td>\n",
       "      <td>-0.140248</td>\n",
       "      <td>1.673997</td>\n",
       "      <td>0.763530</td>\n",
       "      <td>-0.609522</td>\n",
       "      <td>0.426811</td>\n",
       "      <td>-0.532921</td>\n",
       "      <td>-0.605824</td>\n",
       "      <td>1.452826</td>\n",
       "      <td>-0.696157</td>\n",
       "    </tr>\n",
       "    <tr>\n",
       "      <th>2-08BESAG_t0</th>\n",
       "      <td>0.830921</td>\n",
       "      <td>-1.647052</td>\n",
       "      <td>-0.290958</td>\n",
       "      <td>0.575538</td>\n",
       "      <td>-0.445105</td>\n",
       "      <td>1.428980</td>\n",
       "      <td>-1.848081</td>\n",
       "      <td>0.703917</td>\n",
       "      <td>-0.474971</td>\n",
       "      <td>-1.134753</td>\n",
       "    </tr>\n",
       "  </tbody>\n",
       "</table>\n",
       "</div>"
      ],
      "text/plain": [
       "                  dim1      dim2      dim3      dim4      dim5      dim6  \\\n",
       "ID                                                                         \n",
       "1-20FORHU_t0  1.979331  0.188219 -0.860599  1.882955 -1.815237  0.490921   \n",
       "1-23CREES_t0  1.693041  0.156626  2.026151  0.534890  0.971220  0.811980   \n",
       "2-02FERMA_t0  0.406861 -1.133447 -0.584822  1.731163 -1.789493  2.171829   \n",
       "2-04HEBTO_t0 -0.448091 -0.140248  1.673997  0.763530 -0.609522  0.426811   \n",
       "2-08BESAG_t0  0.830921 -1.647052 -0.290958  0.575538 -0.445105  1.428980   \n",
       "\n",
       "                  dim7      dim8      dim9     dim10  \n",
       "ID                                                    \n",
       "1-20FORHU_t0 -0.610081  0.316156 -0.385939 -0.725653  \n",
       "1-23CREES_t0 -1.612516  1.410623 -0.368849  0.469374  \n",
       "2-02FERMA_t0  0.562189 -1.219443  0.713960 -1.233641  \n",
       "2-04HEBTO_t0 -0.532921 -0.605824  1.452826 -0.696157  \n",
       "2-08BESAG_t0 -1.848081  0.703917 -0.474971 -1.134753  "
      ]
     },
     "execution_count": 138,
     "metadata": {},
     "output_type": "execute_result"
    }
   ],
   "source": [
    "data_df = load_model_embs(test_model, dataset=dataset)\n",
    "data_df.head()"
   ]
  },
  {
   "cell_type": "code",
   "execution_count": 139,
   "metadata": {},
   "outputs": [
    {
     "data": {
      "text/html": [
       "<div>\n",
       "<style scoped>\n",
       "    .dataframe tbody tr th:only-of-type {\n",
       "        vertical-align: middle;\n",
       "    }\n",
       "\n",
       "    .dataframe tbody tr th {\n",
       "        vertical-align: top;\n",
       "    }\n",
       "\n",
       "    .dataframe thead th {\n",
       "        text-align: right;\n",
       "    }\n",
       "</style>\n",
       "<table border=\"1\" class=\"dataframe\">\n",
       "  <thead>\n",
       "    <tr style=\"text-align: right;\">\n",
       "      <th></th>\n",
       "      <th>label</th>\n",
       "      <th>predicted_0</th>\n",
       "      <th>predicted_1</th>\n",
       "      <th>predicted_2</th>\n",
       "      <th>predicted_3</th>\n",
       "      <th>predicted_4</th>\n",
       "      <th>predicted_5</th>\n",
       "      <th>predicted_6</th>\n",
       "      <th>predicted_7</th>\n",
       "      <th>predicted_8</th>\n",
       "      <th>...</th>\n",
       "      <th>predicted_242</th>\n",
       "      <th>predicted_243</th>\n",
       "      <th>predicted_244</th>\n",
       "      <th>predicted_245</th>\n",
       "      <th>predicted_246</th>\n",
       "      <th>predicted_247</th>\n",
       "      <th>predicted_248</th>\n",
       "      <th>predicted_249</th>\n",
       "      <th>median_pred</th>\n",
       "      <th>mean_pred</th>\n",
       "    </tr>\n",
       "    <tr>\n",
       "      <th>Subject</th>\n",
       "      <th></th>\n",
       "      <th></th>\n",
       "      <th></th>\n",
       "      <th></th>\n",
       "      <th></th>\n",
       "      <th></th>\n",
       "      <th></th>\n",
       "      <th></th>\n",
       "      <th></th>\n",
       "      <th></th>\n",
       "      <th></th>\n",
       "      <th></th>\n",
       "      <th></th>\n",
       "      <th></th>\n",
       "      <th></th>\n",
       "      <th></th>\n",
       "      <th></th>\n",
       "      <th></th>\n",
       "      <th></th>\n",
       "      <th></th>\n",
       "      <th></th>\n",
       "    </tr>\n",
       "  </thead>\n",
       "  <tbody>\n",
       "    <tr>\n",
       "      <th>1-20FORHU_t0</th>\n",
       "      <td>0</td>\n",
       "      <td>0.526348</td>\n",
       "      <td>0.541101</td>\n",
       "      <td>0.515345</td>\n",
       "      <td>0.500000</td>\n",
       "      <td>0.524626</td>\n",
       "      <td>0.542548</td>\n",
       "      <td>0.526741</td>\n",
       "      <td>0.518914</td>\n",
       "      <td>0.527116</td>\n",
       "      <td>...</td>\n",
       "      <td>0.516510</td>\n",
       "      <td>0.523135</td>\n",
       "      <td>0.528352</td>\n",
       "      <td>0.527248</td>\n",
       "      <td>0.536658</td>\n",
       "      <td>0.521674</td>\n",
       "      <td>0.507269</td>\n",
       "      <td>0.512076</td>\n",
       "      <td>0.523893</td>\n",
       "      <td>0.523926</td>\n",
       "    </tr>\n",
       "    <tr>\n",
       "      <th>1-23CREES_t0</th>\n",
       "      <td>0</td>\n",
       "      <td>0.846085</td>\n",
       "      <td>0.881579</td>\n",
       "      <td>0.794757</td>\n",
       "      <td>0.797713</td>\n",
       "      <td>0.798921</td>\n",
       "      <td>0.852369</td>\n",
       "      <td>0.849957</td>\n",
       "      <td>0.816173</td>\n",
       "      <td>0.856873</td>\n",
       "      <td>...</td>\n",
       "      <td>0.828941</td>\n",
       "      <td>0.820665</td>\n",
       "      <td>0.840655</td>\n",
       "      <td>0.822077</td>\n",
       "      <td>0.849160</td>\n",
       "      <td>0.838557</td>\n",
       "      <td>0.786077</td>\n",
       "      <td>0.780368</td>\n",
       "      <td>0.830779</td>\n",
       "      <td>0.827395</td>\n",
       "    </tr>\n",
       "    <tr>\n",
       "      <th>2-02FERMA_t0</th>\n",
       "      <td>0</td>\n",
       "      <td>0.256575</td>\n",
       "      <td>0.234561</td>\n",
       "      <td>0.292298</td>\n",
       "      <td>0.274325</td>\n",
       "      <td>0.301814</td>\n",
       "      <td>0.271490</td>\n",
       "      <td>0.252930</td>\n",
       "      <td>0.276987</td>\n",
       "      <td>0.245862</td>\n",
       "      <td>...</td>\n",
       "      <td>0.261141</td>\n",
       "      <td>0.278431</td>\n",
       "      <td>0.265044</td>\n",
       "      <td>0.282775</td>\n",
       "      <td>0.267059</td>\n",
       "      <td>0.258286</td>\n",
       "      <td>0.288658</td>\n",
       "      <td>0.300690</td>\n",
       "      <td>0.270119</td>\n",
       "      <td>0.271505</td>\n",
       "    </tr>\n",
       "    <tr>\n",
       "      <th>2-04HEBTO_t0</th>\n",
       "      <td>1</td>\n",
       "      <td>0.739267</td>\n",
       "      <td>0.776277</td>\n",
       "      <td>0.694005</td>\n",
       "      <td>0.692451</td>\n",
       "      <td>0.700431</td>\n",
       "      <td>0.749844</td>\n",
       "      <td>0.742765</td>\n",
       "      <td>0.711954</td>\n",
       "      <td>0.749012</td>\n",
       "      <td>...</td>\n",
       "      <td>0.721539</td>\n",
       "      <td>0.716990</td>\n",
       "      <td>0.735254</td>\n",
       "      <td>0.719510</td>\n",
       "      <td>0.745206</td>\n",
       "      <td>0.731305</td>\n",
       "      <td>0.684568</td>\n",
       "      <td>0.682028</td>\n",
       "      <td>0.726057</td>\n",
       "      <td>0.723480</td>\n",
       "    </tr>\n",
       "    <tr>\n",
       "      <th>2-08BESAG_t0</th>\n",
       "      <td>0</td>\n",
       "      <td>0.357312</td>\n",
       "      <td>0.346996</td>\n",
       "      <td>0.377387</td>\n",
       "      <td>0.361619</td>\n",
       "      <td>0.387037</td>\n",
       "      <td>0.373310</td>\n",
       "      <td>0.354935</td>\n",
       "      <td>0.368519</td>\n",
       "      <td>0.350156</td>\n",
       "      <td>...</td>\n",
       "      <td>0.356985</td>\n",
       "      <td>0.371001</td>\n",
       "      <td>0.363819</td>\n",
       "      <td>0.375392</td>\n",
       "      <td>0.368159</td>\n",
       "      <td>0.356847</td>\n",
       "      <td>0.372076</td>\n",
       "      <td>0.381689</td>\n",
       "      <td>0.366323</td>\n",
       "      <td>0.366457</td>\n",
       "    </tr>\n",
       "  </tbody>\n",
       "</table>\n",
       "<p>5 rows × 253 columns</p>\n",
       "</div>"
      ],
      "text/plain": [
       "              label  predicted_0  predicted_1  predicted_2  predicted_3  \\\n",
       "Subject                                                                   \n",
       "1-20FORHU_t0      0     0.526348     0.541101     0.515345     0.500000   \n",
       "1-23CREES_t0      0     0.846085     0.881579     0.794757     0.797713   \n",
       "2-02FERMA_t0      0     0.256575     0.234561     0.292298     0.274325   \n",
       "2-04HEBTO_t0      1     0.739267     0.776277     0.694005     0.692451   \n",
       "2-08BESAG_t0      0     0.357312     0.346996     0.377387     0.361619   \n",
       "\n",
       "              predicted_4  predicted_5  predicted_6  predicted_7  predicted_8  \\\n",
       "Subject                                                                         \n",
       "1-20FORHU_t0     0.524626     0.542548     0.526741     0.518914     0.527116   \n",
       "1-23CREES_t0     0.798921     0.852369     0.849957     0.816173     0.856873   \n",
       "2-02FERMA_t0     0.301814     0.271490     0.252930     0.276987     0.245862   \n",
       "2-04HEBTO_t0     0.700431     0.749844     0.742765     0.711954     0.749012   \n",
       "2-08BESAG_t0     0.387037     0.373310     0.354935     0.368519     0.350156   \n",
       "\n",
       "              ...  predicted_242  predicted_243  predicted_244  predicted_245  \\\n",
       "Subject       ...                                                               \n",
       "1-20FORHU_t0  ...       0.516510       0.523135       0.528352       0.527248   \n",
       "1-23CREES_t0  ...       0.828941       0.820665       0.840655       0.822077   \n",
       "2-02FERMA_t0  ...       0.261141       0.278431       0.265044       0.282775   \n",
       "2-04HEBTO_t0  ...       0.721539       0.716990       0.735254       0.719510   \n",
       "2-08BESAG_t0  ...       0.356985       0.371001       0.363819       0.375392   \n",
       "\n",
       "              predicted_246  predicted_247  predicted_248  predicted_249  \\\n",
       "Subject                                                                    \n",
       "1-20FORHU_t0       0.536658       0.521674       0.507269       0.512076   \n",
       "1-23CREES_t0       0.849160       0.838557       0.786077       0.780368   \n",
       "2-02FERMA_t0       0.267059       0.258286       0.288658       0.300690   \n",
       "2-04HEBTO_t0       0.745206       0.731305       0.684568       0.682028   \n",
       "2-08BESAG_t0       0.368159       0.356847       0.372076       0.381689   \n",
       "\n",
       "              median_pred  mean_pred  \n",
       "Subject                               \n",
       "1-20FORHU_t0     0.523893   0.523926  \n",
       "1-23CREES_t0     0.830779   0.827395  \n",
       "2-02FERMA_t0     0.270119   0.271505  \n",
       "2-04HEBTO_t0     0.726057   0.723480  \n",
       "2-08BESAG_t0     0.366323   0.366457  \n",
       "\n",
       "[5 rows x 253 columns]"
      ]
     },
     "execution_count": 139,
     "metadata": {},
     "output_type": "execute_result"
    }
   ],
   "source": [
    "prediction_df = load_model_preds(test_model, dataset=dataset)\n",
    "prediction_df.head()"
   ]
  },
  {
   "cell_type": "code",
   "execution_count": 140,
   "metadata": {},
   "outputs": [
    {
     "data": {
      "text/plain": [
       "0.4269005847953216"
      ]
     },
     "execution_count": 140,
     "metadata": {},
     "output_type": "execute_result"
    }
   ],
   "source": [
    "prediction_df.label.mean()"
   ]
  },
  {
   "cell_type": "code",
   "execution_count": 141,
   "metadata": {},
   "outputs": [
    {
     "name": "stdout",
     "output_type": "stream",
     "text": [
      "0.4359620505428157\n",
      "0.31743711129676044\n"
     ]
    },
    {
     "data": {
      "image/png": "[encoded data removed]",
      "text/plain": [
       "<Figure size 432x288 with 1 Axes>"
      ]
     },
     "metadata": {
      "needs_background": "light"
     },
     "output_type": "display_data"
    }
   ],
   "source": [
    "print(prediction_df.iloc[:,1:].values.mean())\n",
    "print((prediction_df.iloc[:,1:].values >0.5).mean())\n",
    "pred_a = prediction_df.iloc[:,1:].values\n",
    "_ = plt.hist(pred_a.reshape(-1,1), bins='auto') \n",
    "plt.show()"
   ]
  },
  {
   "cell_type": "code",
   "execution_count": 142,
   "metadata": {},
   "outputs": [
    {
     "data": {
      "image/png": "[encoded data removed]",
      "text/plain": [
       "<Figure size 432x288 with 1 Axes>"
      ]
     },
     "metadata": {
      "needs_background": "light"
     },
     "output_type": "display_data"
    }
   ],
   "source": [
    "pred_a_0 = prediction_df[prediction_df.label==0].iloc[:,1:].values\n",
    "_ = plt.hist(pred_a_0.reshape(-1,1), bins='auto', range=(0,1)) \n",
    "plt.show()"
   ]
  },
  {
   "cell_type": "code",
   "execution_count": 143,
   "metadata": {},
   "outputs": [
    {
     "data": {
      "image/png": "[encoded data removed]",
      "text/plain": [
       "<Figure size 432x288 with 1 Axes>"
      ]
     },
     "metadata": {
      "needs_background": "light"
     },
     "output_type": "display_data"
    }
   ],
   "source": [
    "pred_a_1 = prediction_df[prediction_df.label==1].iloc[:,1:].values\n",
    "_ = plt.hist(pred_a_1.reshape(-1,1), bins='auto', range=(0.,1.)) \n",
    "plt.show()"
   ]
  },
  {
   "cell_type": "code",
   "execution_count": 144,
   "metadata": {},
   "outputs": [
    {
     "data": {
      "image/png": "[encoded data removed]",
      "text/plain": [
       "<Figure size 432x288 with 1 Axes>"
      ]
     },
     "metadata": {
      "needs_background": "light"
     },
     "output_type": "display_data"
    }
   ],
   "source": [
    "_ = plt.hist(pred_a_0.reshape(-1,1), bins='auto', range=(0.,1.),alpha=0.5) \n",
    "_ = plt.hist(pred_a_1.reshape(-1,1), bins='auto', range=(0.,1.),alpha=0.5) \n",
    "plt.show()"
   ]
  },
  {
   "cell_type": "code",
   "execution_count": 145,
   "metadata": {},
   "outputs": [
    {
     "data": {
      "image/png": "[encoded data removed]",
      "text/plain": [
       "<Figure size 432x288 with 1 Axes>"
      ]
     },
     "metadata": {
      "needs_background": "light"
     },
     "output_type": "display_data"
    }
   ],
   "source": [
    "pred_a_med = prediction_df.median_pred\n",
    "_ = plt.hist(pred_a_med, bins='auto', range=(0,1)) \n",
    "plt.show()"
   ]
  },
  {
   "cell_type": "code",
   "execution_count": 146,
   "metadata": {},
   "outputs": [
    {
     "data": {
      "image/png": "[encoded data removed]",
      "text/plain": [
       "<Figure size 432x288 with 1 Axes>"
      ]
     },
     "metadata": {
      "needs_background": "light"
     },
     "output_type": "display_data"
    }
   ],
   "source": [
    "pred_a_med_0 = pred_a_med[prediction_df.label==0]\n",
    "pred_a_med_1 = pred_a_med[prediction_df.label==1]\n",
    "_ = plt.hist(pred_a_med_0, bins='auto', range=(0.,1.),alpha=0.5) \n",
    "_ = plt.hist(pred_a_med_1, bins='auto', range=(0.,1.),alpha=0.5) \n",
    "plt.show()"
   ]
  },
  {
   "cell_type": "markdown",
   "metadata": {},
   "source": [
    "# Visualization"
   ]
  },
  {
   "cell_type": "code",
   "execution_count": 243,
   "metadata": {},
   "outputs": [
    {
     "data": {
      "image/png": "[encoded data removed]",
      "text/plain": [
       "<Figure size 720x540 with 1 Axes>"
      ]
     },
     "metadata": {
      "needs_background": "light"
     },
     "output_type": "display_data"
    },
    {
     "data": {
      "text/plain": [
       "<Figure size 1382.4x1036.8 with 0 Axes>"
      ]
     },
     "metadata": {},
     "output_type": "display_data"
    }
   ],
   "source": [
    "# test model\n",
    "results_df = full_histogram(test_model, dataset=dataset, verbose=False)"
   ]
  },
  {
   "cell_type": "code",
   "execution_count": 244,
   "metadata": {},
   "outputs": [
    {
     "data": {
      "text/html": [
       "<div>\n",
       "<style scoped>\n",
       "    .dataframe tbody tr th:only-of-type {\n",
       "        vertical-align: middle;\n",
       "    }\n",
       "\n",
       "    .dataframe tbody tr th {\n",
       "        vertical-align: top;\n",
       "    }\n",
       "\n",
       "    .dataframe thead th {\n",
       "        text-align: right;\n",
       "    }\n",
       "</style>\n",
       "<table border=\"1\" class=\"dataframe\">\n",
       "  <thead>\n",
       "    <tr style=\"text-align: right;\">\n",
       "      <th></th>\n",
       "      <th>true_labels</th>\n",
       "    </tr>\n",
       "    <tr>\n",
       "      <th>ID</th>\n",
       "      <th></th>\n",
       "    </tr>\n",
       "  </thead>\n",
       "  <tbody>\n",
       "    <tr>\n",
       "      <th>1-20FORHU_t0</th>\n",
       "      <td>0</td>\n",
       "    </tr>\n",
       "    <tr>\n",
       "      <th>1-23CREES_t0</th>\n",
       "      <td>0</td>\n",
       "    </tr>\n",
       "    <tr>\n",
       "      <th>2-02FERMA_t0</th>\n",
       "      <td>0</td>\n",
       "    </tr>\n",
       "    <tr>\n",
       "      <th>2-04HEBTO_t0</th>\n",
       "      <td>1</td>\n",
       "    </tr>\n",
       "    <tr>\n",
       "      <th>2-08BESAG_t0</th>\n",
       "      <td>0</td>\n",
       "    </tr>\n",
       "    <tr>\n",
       "      <th>...</th>\n",
       "      <td>...</td>\n",
       "    </tr>\n",
       "    <tr>\n",
       "      <th>sub-inhibition23_ses-pretraining_T1w</th>\n",
       "      <td>0</td>\n",
       "    </tr>\n",
       "    <tr>\n",
       "      <th>sub-inhibition24_ses-pretraining_T1w</th>\n",
       "      <td>0</td>\n",
       "    </tr>\n",
       "    <tr>\n",
       "      <th>sub-inhibition25_ses-pretraining_T1w</th>\n",
       "      <td>1</td>\n",
       "    </tr>\n",
       "    <tr>\n",
       "      <th>sub-inhibition28_ses-pretraining_T1w</th>\n",
       "      <td>0</td>\n",
       "    </tr>\n",
       "    <tr>\n",
       "      <th>sub-inhibition31_ses-pretraining_T1w</th>\n",
       "      <td>0</td>\n",
       "    </tr>\n",
       "  </tbody>\n",
       "</table>\n",
       "<p>171 rows × 1 columns</p>\n",
       "</div>"
      ],
      "text/plain": [
       "                                      true_labels\n",
       "ID                                               \n",
       "1-20FORHU_t0                                    0\n",
       "1-23CREES_t0                                    0\n",
       "2-02FERMA_t0                                    0\n",
       "2-04HEBTO_t0                                    1\n",
       "2-08BESAG_t0                                    0\n",
       "...                                           ...\n",
       "sub-inhibition23_ses-pretraining_T1w            0\n",
       "sub-inhibition24_ses-pretraining_T1w            0\n",
       "sub-inhibition25_ses-pretraining_T1w            1\n",
       "sub-inhibition28_ses-pretraining_T1w            0\n",
       "sub-inhibition31_ses-pretraining_T1w            0\n",
       "\n",
       "[171 rows x 1 columns]"
      ]
     },
     "execution_count": 244,
     "metadata": {},
     "output_type": "execute_result"
    }
   ],
   "source": [
    "results_df"
   ]
  },
  {
   "cell_type": "code",
   "execution_count": null,
   "metadata": {},
   "outputs": [],
   "source": []
  },
  {
   "cell_type": "code",
   "execution_count": null,
   "metadata": {},
   "outputs": [],
   "source": []
  }
 ],
 "metadata": {
  "kernelspec": {
   "display_name": "Python 3.6.9 ('venv_local': venv)",
   "language": "python",
   "name": "python3"
  },
  "language_info": {
   "codemirror_mode": {
    "name": "ipython",
    "version": 3
   },
   "file_extension": ".py",
   "mimetype": "text/x-python",
   "name": "python",
   "nbconvert_exporter": "python",
   "pygments_lexer": "ipython3",
   "version": "3.6.9"
  },
  "orig_nbformat": 4,
  "vscode": {
   "interpreter": {
    "hash": "29d17951836d0959caaf0c9cd10ee54c4ed7100b51f8cf6fe8a170600c2ce0e9"
   }
  }
 },
 "nbformat": 4,
 "nbformat_minor": 2
}
