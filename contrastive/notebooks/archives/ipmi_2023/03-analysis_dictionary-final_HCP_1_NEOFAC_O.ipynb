{
 "cells": [
  {
   "cell_type": "code",
   "execution_count": 1,
   "metadata": {},
   "outputs": [],
   "source": [
    "import umap\n",
    "import math\n",
    "import numpy as np\n",
    "import pandas as pd\n",
    "\n",
    "from sklearn.decomposition import PCA\n",
    "from sklearn.decomposition import DictionaryLearning\n",
    "from scipy.stats import binom_test\n",
    "\n",
    "import matplotlib.pyplot as plt\n",
    "\n",
    "import matplotlib.image as mpimg\n",
    "import seaborn as sns\n",
    "\n",
    "from sklearn.svm import SVC\n",
    "from sklearn.metrics import roc_auc_score, accuracy_score\n",
    "from sklearn.model_selection import cross_val_predict\n",
    "\n",
    "\n",
    "from contrastive.evaluation.train_multiple_classifiers import compute_auc"
   ]
  },
  {
   "cell_type": "code",
   "execution_count": 2,
   "metadata": {},
   "outputs": [],
   "source": [
    "# test model\n",
    "test_model = \"/neurospin/dico/data/deep_folding/papers/ipmi2023/models/contrastive/trained_on_HCP_half_2/chosen_model/chosen_model\"\n",
    "# test_model = \"/neurospin/dico/data/deep_folding/papers/ipmi2023/models/beta-VAE/n_10/#2\"\n",
    "dataset_train = 'cingulate_HCP_half_2_NEOFAC_C'\n",
    "dataset_test = 'cingulate_HCP_half_1_NEOFAC_O'\n",
    "\n",
    "# load the data\n",
    "train_df = pd.read_csv(test_model+'/'+dataset_train+'_embeddings/train_val_embeddings.csv', index_col=0)\n",
    "train_df.sort_index(inplace=True)\n",
    "\n",
    "test_df = pd.read_csv(test_model+'/'+dataset_test+'_embeddings/cross_val_effective_embeddings.csv', index_col=0)\n",
    "test_df.sort_index(inplace=True)\n",
    "\n",
    "# load the labels\n",
    "prediction_df = pd.read_csv(test_model+'/'+dataset_test+'_embeddings/cross_val_predicted_labels.csv', index_col=0)\n",
    "prediction_df.sort_index(inplace=True)"
   ]
  },
  {
   "cell_type": "code",
   "execution_count": 3,
   "metadata": {},
   "outputs": [],
   "source": [
    "# print(train_df.head())\n",
    "# print(test_df.head())\n",
    "mean_label = prediction_df.label.mean()\n",
    "def f(x):\n",
    "    return 1 if x>=mean_label else 0\n",
    "prediction_df_continuous = prediction_df.copy()\n",
    "prediction_df.loc[:,\"label\"] = prediction_df.label.apply(f)\n",
    "# prediction_df['label'] = np.random.permutation(prediction_df['label'].values)\n",
    "prediction_df.index = prediction_df.index.astype(np.int64)"
   ]
  },
  {
   "cell_type": "code",
   "execution_count": 4,
   "metadata": {},
   "outputs": [
    {
     "data": {
      "text/plain": [
       "548"
      ]
     },
     "execution_count": 4,
     "metadata": {},
     "output_type": "execute_result"
    }
   ],
   "source": [
    "len(train_df)"
   ]
  },
  {
   "cell_type": "code",
   "execution_count": 5,
   "metadata": {},
   "outputs": [
    {
     "data": {
      "text/html": [
       "<div>\n",
       "<style scoped>\n",
       "    .dataframe tbody tr th:only-of-type {\n",
       "        vertical-align: middle;\n",
       "    }\n",
       "\n",
       "    .dataframe tbody tr th {\n",
       "        vertical-align: top;\n",
       "    }\n",
       "\n",
       "    .dataframe thead th {\n",
       "        text-align: right;\n",
       "    }\n",
       "</style>\n",
       "<table border=\"1\" class=\"dataframe\">\n",
       "  <thead>\n",
       "    <tr style=\"text-align: right;\">\n",
       "      <th></th>\n",
       "      <th>dim1</th>\n",
       "      <th>dim2</th>\n",
       "      <th>dim3</th>\n",
       "      <th>dim4</th>\n",
       "      <th>dim5</th>\n",
       "      <th>dim6</th>\n",
       "      <th>dim7</th>\n",
       "      <th>dim8</th>\n",
       "      <th>dim9</th>\n",
       "      <th>dim10</th>\n",
       "    </tr>\n",
       "    <tr>\n",
       "      <th>ID</th>\n",
       "      <th></th>\n",
       "      <th></th>\n",
       "      <th></th>\n",
       "      <th></th>\n",
       "      <th></th>\n",
       "      <th></th>\n",
       "      <th></th>\n",
       "      <th></th>\n",
       "      <th></th>\n",
       "      <th></th>\n",
       "    </tr>\n",
       "  </thead>\n",
       "  <tbody>\n",
       "    <tr>\n",
       "      <th>100206</th>\n",
       "      <td>8.394083</td>\n",
       "      <td>-4.838112</td>\n",
       "      <td>6.458366</td>\n",
       "      <td>-3.329373</td>\n",
       "      <td>10.817843</td>\n",
       "      <td>-12.612897</td>\n",
       "      <td>2.753505</td>\n",
       "      <td>7.109221</td>\n",
       "      <td>-12.640517</td>\n",
       "      <td>19.555060</td>\n",
       "    </tr>\n",
       "    <tr>\n",
       "      <th>100408</th>\n",
       "      <td>-0.053095</td>\n",
       "      <td>-2.919907</td>\n",
       "      <td>-3.839787</td>\n",
       "      <td>-6.310361</td>\n",
       "      <td>0.392095</td>\n",
       "      <td>-7.196580</td>\n",
       "      <td>0.992875</td>\n",
       "      <td>5.049739</td>\n",
       "      <td>-10.221111</td>\n",
       "      <td>13.107022</td>\n",
       "    </tr>\n",
       "    <tr>\n",
       "      <th>101006</th>\n",
       "      <td>1.712571</td>\n",
       "      <td>-5.799995</td>\n",
       "      <td>4.553103</td>\n",
       "      <td>-0.968306</td>\n",
       "      <td>-1.620303</td>\n",
       "      <td>-2.390229</td>\n",
       "      <td>-2.943960</td>\n",
       "      <td>4.531745</td>\n",
       "      <td>-18.519890</td>\n",
       "      <td>21.366726</td>\n",
       "    </tr>\n",
       "    <tr>\n",
       "      <th>101410</th>\n",
       "      <td>3.489696</td>\n",
       "      <td>4.495402</td>\n",
       "      <td>-11.340138</td>\n",
       "      <td>-4.255336</td>\n",
       "      <td>3.263800</td>\n",
       "      <td>-5.770106</td>\n",
       "      <td>-7.426247</td>\n",
       "      <td>3.433277</td>\n",
       "      <td>-10.003428</td>\n",
       "      <td>4.795885</td>\n",
       "    </tr>\n",
       "    <tr>\n",
       "      <th>101915</th>\n",
       "      <td>3.194303</td>\n",
       "      <td>1.626097</td>\n",
       "      <td>10.028360</td>\n",
       "      <td>-8.020655</td>\n",
       "      <td>8.558414</td>\n",
       "      <td>0.001191</td>\n",
       "      <td>-0.200929</td>\n",
       "      <td>3.515149</td>\n",
       "      <td>-7.476232</td>\n",
       "      <td>21.969023</td>\n",
       "    </tr>\n",
       "  </tbody>\n",
       "</table>\n",
       "</div>"
      ],
      "text/plain": [
       "            dim1      dim2       dim3      dim4       dim5       dim6  \\\n",
       "ID                                                                      \n",
       "100206  8.394083 -4.838112   6.458366 -3.329373  10.817843 -12.612897   \n",
       "100408 -0.053095 -2.919907  -3.839787 -6.310361   0.392095  -7.196580   \n",
       "101006  1.712571 -5.799995   4.553103 -0.968306  -1.620303  -2.390229   \n",
       "101410  3.489696  4.495402 -11.340138 -4.255336   3.263800  -5.770106   \n",
       "101915  3.194303  1.626097  10.028360 -8.020655   8.558414   0.001191   \n",
       "\n",
       "            dim7      dim8       dim9      dim10  \n",
       "ID                                                \n",
       "100206  2.753505  7.109221 -12.640517  19.555060  \n",
       "100408  0.992875  5.049739 -10.221111  13.107022  \n",
       "101006 -2.943960  4.531745 -18.519890  21.366726  \n",
       "101410 -7.426247  3.433277 -10.003428   4.795885  \n",
       "101915 -0.200929  3.515149  -7.476232  21.969023  "
      ]
     },
     "execution_count": 5,
     "metadata": {},
     "output_type": "execute_result"
    }
   ],
   "source": [
    "train_df.head()"
   ]
  },
  {
   "cell_type": "code",
   "execution_count": 6,
   "metadata": {},
   "outputs": [
    {
     "data": {
      "text/html": [
       "<div>\n",
       "<style scoped>\n",
       "    .dataframe tbody tr th:only-of-type {\n",
       "        vertical-align: middle;\n",
       "    }\n",
       "\n",
       "    .dataframe tbody tr th {\n",
       "        vertical-align: top;\n",
       "    }\n",
       "\n",
       "    .dataframe thead th {\n",
       "        text-align: right;\n",
       "    }\n",
       "</style>\n",
       "<table border=\"1\" class=\"dataframe\">\n",
       "  <thead>\n",
       "    <tr style=\"text-align: right;\">\n",
       "      <th></th>\n",
       "      <th>dim1</th>\n",
       "      <th>dim2</th>\n",
       "      <th>dim3</th>\n",
       "      <th>dim4</th>\n",
       "      <th>dim5</th>\n",
       "      <th>dim6</th>\n",
       "      <th>dim7</th>\n",
       "      <th>dim8</th>\n",
       "      <th>dim9</th>\n",
       "      <th>dim10</th>\n",
       "    </tr>\n",
       "    <tr>\n",
       "      <th>ID</th>\n",
       "      <th></th>\n",
       "      <th></th>\n",
       "      <th></th>\n",
       "      <th></th>\n",
       "      <th></th>\n",
       "      <th></th>\n",
       "      <th></th>\n",
       "      <th></th>\n",
       "      <th></th>\n",
       "      <th></th>\n",
       "    </tr>\n",
       "  </thead>\n",
       "  <tbody>\n",
       "    <tr>\n",
       "      <th>100307</th>\n",
       "      <td>-7.836296</td>\n",
       "      <td>-0.375096</td>\n",
       "      <td>6.216552</td>\n",
       "      <td>-10.061766</td>\n",
       "      <td>7.491416</td>\n",
       "      <td>-5.847349</td>\n",
       "      <td>0.339369</td>\n",
       "      <td>6.664896</td>\n",
       "      <td>-1.465991</td>\n",
       "      <td>11.891362</td>\n",
       "    </tr>\n",
       "    <tr>\n",
       "      <th>100610</th>\n",
       "      <td>2.791291</td>\n",
       "      <td>-0.324490</td>\n",
       "      <td>-0.906039</td>\n",
       "      <td>2.048596</td>\n",
       "      <td>6.537894</td>\n",
       "      <td>-4.125042</td>\n",
       "      <td>-8.220337</td>\n",
       "      <td>3.290864</td>\n",
       "      <td>-16.226452</td>\n",
       "      <td>10.390056</td>\n",
       "    </tr>\n",
       "    <tr>\n",
       "      <th>101107</th>\n",
       "      <td>-11.111746</td>\n",
       "      <td>0.687111</td>\n",
       "      <td>13.418798</td>\n",
       "      <td>-5.416209</td>\n",
       "      <td>5.515692</td>\n",
       "      <td>0.428734</td>\n",
       "      <td>-4.888807</td>\n",
       "      <td>6.791770</td>\n",
       "      <td>-6.192792</td>\n",
       "      <td>19.127739</td>\n",
       "    </tr>\n",
       "    <tr>\n",
       "      <th>101309</th>\n",
       "      <td>-13.224812</td>\n",
       "      <td>5.632393</td>\n",
       "      <td>5.730735</td>\n",
       "      <td>-16.833240</td>\n",
       "      <td>13.522676</td>\n",
       "      <td>-5.063924</td>\n",
       "      <td>-7.286975</td>\n",
       "      <td>6.234298</td>\n",
       "      <td>-2.692585</td>\n",
       "      <td>14.022439</td>\n",
       "    </tr>\n",
       "    <tr>\n",
       "      <th>102008</th>\n",
       "      <td>-6.196773</td>\n",
       "      <td>-4.732237</td>\n",
       "      <td>2.659616</td>\n",
       "      <td>-11.465176</td>\n",
       "      <td>5.347455</td>\n",
       "      <td>-6.314500</td>\n",
       "      <td>-3.565862</td>\n",
       "      <td>0.306166</td>\n",
       "      <td>-7.229346</td>\n",
       "      <td>10.058741</td>\n",
       "    </tr>\n",
       "  </tbody>\n",
       "</table>\n",
       "</div>"
      ],
      "text/plain": [
       "             dim1      dim2       dim3       dim4       dim5      dim6  \\\n",
       "ID                                                                       \n",
       "100307  -7.836296 -0.375096   6.216552 -10.061766   7.491416 -5.847349   \n",
       "100610   2.791291 -0.324490  -0.906039   2.048596   6.537894 -4.125042   \n",
       "101107 -11.111746  0.687111  13.418798  -5.416209   5.515692  0.428734   \n",
       "101309 -13.224812  5.632393   5.730735 -16.833240  13.522676 -5.063924   \n",
       "102008  -6.196773 -4.732237   2.659616 -11.465176   5.347455 -6.314500   \n",
       "\n",
       "            dim7      dim8       dim9      dim10  \n",
       "ID                                                \n",
       "100307  0.339369  6.664896  -1.465991  11.891362  \n",
       "100610 -8.220337  3.290864 -16.226452  10.390056  \n",
       "101107 -4.888807  6.791770  -6.192792  19.127739  \n",
       "101309 -7.286975  6.234298  -2.692585  14.022439  \n",
       "102008 -3.565862  0.306166  -7.229346  10.058741  "
      ]
     },
     "execution_count": 6,
     "metadata": {},
     "output_type": "execute_result"
    }
   ],
   "source": [
    "test_df.head()"
   ]
  },
  {
   "cell_type": "code",
   "execution_count": 7,
   "metadata": {},
   "outputs": [
    {
     "name": "stdout",
     "output_type": "stream",
     "text": [
      "Int64Index([], dtype='int64', name='ID')\n",
      "Int64Index([], dtype='int64', name='Subject')\n"
     ]
    }
   ],
   "source": [
    "diff = test_df.index.difference(prediction_df.index)\n",
    "print(diff)\n",
    "# if len(diff) > 0:\n",
    "#     raise ValueError(\"Dataframes don't match\")\n",
    "test_df.drop(diff, inplace=True)\n",
    "diff = prediction_df.index.difference(test_df.index)\n",
    "print(diff)\n",
    "# if len(diff) > 0:\n",
    "#     raise ValueError(\"Dataframes don't match\")\n",
    "prediction_df.drop(diff, inplace=True)"
   ]
  },
  {
   "cell_type": "code",
   "execution_count": 8,
   "metadata": {},
   "outputs": [
    {
     "name": "stdout",
     "output_type": "stream",
     "text": [
      "Int64Index([], dtype='int64', name='ID')\n",
      "Int64Index([], dtype='int64', name='Subject')\n"
     ]
    }
   ],
   "source": [
    "if len(test_df) != len(prediction_df):\n",
    "    raise ValueError(f\"len(test_df) = {len(test_df)} != len(prediction_df) = {len(prediction_df)}\")\n",
    "\n",
    "\n",
    "print(test_df.index.difference(prediction_df.index))\n",
    "print(prediction_df.index.difference(test_df.index))\n",
    "if len(test_df.index.difference(prediction_df.index)) or len(prediction_df.index.difference(test_df.index)):\n",
    "    raise ValueError(\"Subjects are different in both dataframes\")"
   ]
  },
  {
   "cell_type": "markdown",
   "metadata": {},
   "source": [
    "## UMAP"
   ]
  },
  {
   "cell_type": "code",
   "execution_count": 9,
   "metadata": {},
   "outputs": [],
   "source": [
    "def get_model_by_quality(labels_df, q=0.5):\n",
    "    aucs = labels_df.apply(compute_auc, args=[labels_df.label])\n",
    "    aucs = aucs[aucs.index != 'label']\n",
    "    model_auc = aucs.quantile(q=q, interpolation='nearest')\n",
    "    aucs = aucs[aucs == model_auc]\n",
    "    return(aucs.index[0], model_auc)"
   ]
  },
  {
   "cell_type": "code",
   "execution_count": 10,
   "metadata": {},
   "outputs": [],
   "source": [
    "def visualize_umaps(model_path, quantiles=[0,0.5,1], thresholds=[0.25,0.5,0.75], show_wrong_class=False, dataset='cingulate_ACCpatterns_1', verbose=False):\n",
    "    # load the data\n",
    "    data_df = pd.read_csv(model_path+'/' + dataset + \"_embeddings/full_embeddings.csv\", index_col=0)\n",
    "    data_df.sort_index(inplace=True)\n",
    "\n",
    "    prediction_df = pd.read_csv(model_path + '/' + dataset + \"_embeddings/cross_val_predicted_labels.csv\", index_col=0)\n",
    "    prediction_df.sort_index(inplace=True)\n",
    "    \n",
    "    if verbose:\n",
    "        print(\"Data df:\")\n",
    "        print(data_df[:5])\n",
    "        print(\"Prediction df:\")\n",
    "        print(prediction_df[:5])\n",
    "\n",
    "    # apply umap\n",
    "    reducer = umap.UMAP()\n",
    "    visual_embs = reducer.fit_transform(data_df)\n",
    "    if verbose:\n",
    "        print(\"UMAP embeddings\")\n",
    "        print(visual_embs.shape)\n",
    "        print(visual_embs[:5])\n",
    "        \n",
    "    ## plot the graphs\n",
    "    # plot for true labels\n",
    "    plt.figure()\n",
    "    cmap = ['b', 'r']\n",
    "    colors = [cmap[i] for i in prediction_df.label]\n",
    "\n",
    "    plt.scatter(visual_embs[:,0], visual_embs[:,1], c=colors, alpha=0.6)\n",
    "    plt.title(\"True labels\")\n",
    "    plt.show()\n",
    "    \n",
    "    # plot for predicted labels\n",
    "    n_i = len(quantiles)\n",
    "    n_j = len(thresholds)\n",
    "    plt.figure(figsize=(n_i*6.4, n_j*4.8))\n",
    "    for i,quantile in enumerate(quantiles):\n",
    "        svm_model, model_auc = get_model_by_quality(prediction_df, q=quantile)\n",
    "        model_auc = \"{:.2f}\".format(model_auc)\n",
    "        if verbose:\n",
    "            print(f\"Chosen svm model for quantile {quantile} (ie auc={model_auc}):\")\n",
    "        \n",
    "        for j,threshold in enumerate(thresholds):\n",
    "            plt.subplot(n_i, n_j, i*n_j + j + 1)\n",
    "            \n",
    "            mid_svm_pred = (prediction_df[svm_model] >= threshold).astype(int)\n",
    "            if verbose:\n",
    "                print(mid_svm_pred[:5])\n",
    "                print(\"shape:\", mid_svm_pred.shape)\n",
    "\n",
    "            colors = [cmap[i] for i in mid_svm_pred]\n",
    "            if show_wrong_class:\n",
    "                colors = []\n",
    "                # for i in range(prediction_df.shape[0]):\n",
    "                #     if prediction_df[la]\n",
    "\n",
    "            plt.scatter(visual_embs[:,0], visual_embs[:,1], c=colors, alpha=0.6)\n",
    "            if i == n_i-1:\n",
    "                plt.xlabel(f\"Decision threshold = {threshold}\")\n",
    "            if j == 0:\n",
    "                plt.ylabel(f\"Model quality={quantile} (auc={model_auc})\")\n",
    "            # compute accuracy\n",
    "            accuracy = ((prediction_df[svm_model] >= threshold) == prediction_df.label).astype(float).mean()\n",
    "            plt.title(\"Svm labels ; accuracy = {:.2f}\".format(accuracy))\n",
    "    plt.show()\n",
    "\n",
    "    return pd.DataFrame(visual_embs, index=data_df.index.values)"
   ]
  },
  {
   "cell_type": "code",
   "execution_count": 11,
   "metadata": {},
   "outputs": [],
   "source": [
    "def cross_correlation(model_path, dataset='cingulate_ACCpatterns_1'):\n",
    "    # load the data\n",
    "    data_df = pd.read_csv(model_path+'/'+dataset+'_embeddings/full_embeddings.csv', index_col=0)\n",
    "    data_df.sort_index(inplace=True)\n",
    "\n",
    "    prediction_df = pd.read_csv(model_path+'/'+dataset+'_embeddings/cross_val_predicted_labels.csv', index_col=0)\n",
    "    prediction_df.sort_index(inplace=True)\n",
    "\n",
    "    full_df = pd.merge(prediction_df[['label']], data_df, left_index=True, right_index=True)\n",
    "\n",
    "    fig, axs = plt.subplots(1, 4, figsize=(30,10)) \n",
    "\n",
    "    latent_df = full_df.iloc[:,1:]\n",
    "    corr = latent_df.corr()\n",
    "    axs[0] = sns.heatmap(\n",
    "            corr, \n",
    "            vmin=-1, vmax=1, center=0,\n",
    "            cmap=sns.diverging_palette(20, 220, n=200),\n",
    "            square=True,\n",
    "            ax=axs[0]\n",
    "            )\n",
    "\n",
    "    latent_df = full_df[full_df.label == 0].iloc[:,1:]\n",
    "    corr0 = latent_df.corr()\n",
    "    axs[1] = sns.heatmap(\n",
    "            corr0, \n",
    "            vmin=-1, vmax=1, center=0,\n",
    "            cmap=sns.diverging_palette(20, 220, n=200),\n",
    "            square=True,\n",
    "            ax=axs[1]\n",
    "            )\n",
    "\n",
    "    latent_df = full_df[full_df.label == 1].iloc[:,1:]\n",
    "    corr1 = latent_df.corr()\n",
    "    axs[2] = sns.heatmap(\n",
    "            corr1, \n",
    "            vmin=-1, vmax=1, center=0,\n",
    "            cmap=sns.diverging_palette(20, 220, n=200),\n",
    "            square=True,\n",
    "            ax=axs[2]\n",
    "            )\n",
    "\n",
    "    corrdiff = (corr1-corr0)\n",
    "    axs[3] = sns.heatmap(\n",
    "            corrdiff, \n",
    "            vmin=corrdiff.min().min(), vmax=corrdiff.max().max(), center=0,\n",
    "            cmap=sns.diverging_palette(20, 220, n=200),\n",
    "            square=True,\n",
    "            ax=axs[3]\n",
    "            )\n"
   ]
  },
  {
   "cell_type": "code",
   "execution_count": 12,
   "metadata": {},
   "outputs": [],
   "source": [
    "def visualize_each_variable(model_path, display: str, display_err: bool, normalize=True, verbose=False, dataset='cingulate_ACCpatterns_1'):\n",
    "    '''\n",
    "    display: str -> takes the values '0', '1', 'all'\n",
    "    '''\n",
    "    # load the data\n",
    "    data_df = pd.read_csv(model_path+'/'+dataset+'_embeddings/full_embeddings.csv', index_col=0)\n",
    "    data_df.sort_index(inplace=True)\n",
    "\n",
    "    prediction_df = pd.read_csv(model_path+'/'+dataset+'_embeddings/cross_val_predicted_labels.csv', index_col=0)\n",
    "    prediction_df.sort_index(inplace=True)\n",
    "\n",
    "    full_df = pd.merge(prediction_df[['label']], data_df, left_index=True, right_index=True)\n",
    "\n",
    "    # Chooses to display only labels '0', '1' or all\n",
    "    if display == '0':\n",
    "        full_df = full_df[full_df.label == 0]\n",
    "    elif display == '1':\n",
    "        full_df = full_df[full_df.label == 1]\n",
    "    \n",
    "    # Some prints if verbose true\n",
    "    if verbose:\n",
    "        print(\"Prediction df:\")\n",
    "        print(prediction_df.iloc[:2, :2])\n",
    "        print(len(prediction_df))\n",
    "        print(prediction_df[['label']].shape)\n",
    "        print(\"Data df:\")\n",
    "        print(len(data_df))\n",
    "        print(data_df.iloc[:2, :2])\n",
    "        print(data_df.shape)\n",
    "        print(\"Full df:\")\n",
    "        print(len(full_df))\n",
    "        print(full_df.iloc[:2, :2])\n",
    "        print(full_df.shape)\n",
    "\n",
    "    N, D = full_df.shape\n",
    "    D = D-1 # There is the label column added\n",
    "\n",
    "    # Initializes plot\n",
    "    plt.figure(figsize=(16,12))\n",
    "\n",
    "    # Builds x coordinates for scatter plot\n",
    "    x = np.reshape(np.arange(D), (1,D))\n",
    "    x = np.repeat(x, N, axis=0)\n",
    "\n",
    "    # Replaces labels 0, 1 with colors\n",
    "    label_df = full_df[['label']].copy()\n",
    "    label_df['label'] = label_df['label'].astype(\"str\")\n",
    "    label_df['label'] = label_df['label'].replace('0', 'b')\n",
    "    label_df['label'] = label_df['label'].replace('1', 'r')\n",
    "\n",
    "    # Builds colors to match pyplot requirements\n",
    "    colors = label_df['label'].values\n",
    "    colors = np.reshape(colors, (1,N))\n",
    "    colors = np.repeat(colors, D, axis=0)\n",
    "    colors = colors.T\n",
    "    print('x, full_df and colors shapes: ', x.shape, full_df.shape, colors.shape)\n",
    "    colors = np.reshape(colors, (N*D,))\n",
    "\n",
    "    # latent (doesn't take the first column, which is the label)\n",
    "    latent_df = full_df.iloc[:,1:]\n",
    "    mu = latent_df.mean()\n",
    "    std = latent_df.std()\n",
    "    if normalize == True:\n",
    "        latent_df = (latent_df-mu)/std\n",
    "\n",
    "    # Actual plotting of each point\n",
    "    plt.scatter(x, latent_df, c=colors, marker='.')\n",
    "\n",
    "    # Computes averages\n",
    "    if display == \"all\":\n",
    "        # Computes average for label=0\n",
    "        x = np.arange(D)\n",
    "        label0_df = full_df[full_df['label'] == 0].iloc[:,1:]\n",
    "        if normalize == True:   \n",
    "            label0_df = (label0_df-mu)/std\n",
    "        mean_df = label0_df.mean()\n",
    "        e_df = label0_df.std()\n",
    "        print(x.shape, mean_df.shape, e_df.shape)\n",
    "        if display_err:\n",
    "            plt.errorbar(x, mean_df, yerr=e_df, color='blue', linestyle='None', elinewidth=4, marker='s', markersize=15, markerfacecolor='None', markeredgewidth=3, solid_capstyle='projecting', capsize=10)\n",
    "        else:\n",
    "            plt.plot(x, mean_df, color='blue', linestyle='None', marker='s', markersize=15, markerfacecolor='None', markeredgewidth=3)\n",
    "\n",
    "        # Computes average for label=1\n",
    "        label1_df = full_df[full_df['label'] == 1].iloc[:,1:]\n",
    "        if normalize == True:   \n",
    "            label1_df = (label1_df-mu)/std\n",
    "        mean_df = label1_df.mean()\n",
    "        e_df = label1_df.std()\n",
    "        if display_err:\n",
    "            plt.errorbar(x, mean_df, yerr=e_df, color='red', linestyle='None', elinewidth=4, marker='s', markersize=15, markerfacecolor='None', markeredgewidth=3,solid_capstyle='projecting', capsize=10)\n",
    "        else:\n",
    "            plt.plot(x, mean_df, color='red', linestyle='None', marker='s', markersize=15, markerfacecolor='None', markeredgewidth=3)\n",
    "\n",
    "    # Shows the computed plot\n",
    "    plt.show()\n",
    "\n",
    "    return "
   ]
  },
  {
   "cell_type": "code",
   "execution_count": 13,
   "metadata": {},
   "outputs": [],
   "source": [
    "def full_visualization(model_path, dataset='cingulate_ACCpatterns_1'):\n",
    "    plt.figure(figsize=(12.8, 9.6))\n",
    "    fig = plt.imshow(mpimg.imread(model_path+\"/\"+dataset+\"_embeddings/cross_val_ROC_curves.png\"))\n",
    "    plt.axis('off')\n",
    "    plt.show()\n",
    "    return visualize_umaps(model_path, dataset)"
   ]
  },
  {
   "cell_type": "code",
   "execution_count": 14,
   "metadata": {},
   "outputs": [],
   "source": [
    "# test model\n",
    "# visual_embs = full_visualization(test_model)"
   ]
  },
  {
   "cell_type": "markdown",
   "metadata": {},
   "source": [
    "# Visualize each variable of the latent"
   ]
  },
  {
   "cell_type": "code",
   "execution_count": 15,
   "metadata": {},
   "outputs": [
    {
     "name": "stderr",
     "output_type": "stream",
     "text": [
      "INFO:numexpr.utils: Note: NumExpr detected 48 cores but \"NUMEXPR_MAX_THREADS\" not set, so enforcing safe limit of 8.\n",
      "INFO:numexpr.utils: NumExpr defaulting to 8 threads.\n"
     ]
    },
    {
     "name": "stdout",
     "output_type": "stream",
     "text": [
      "x, full_df and colors shapes:  (171, 10) (171, 11) (171, 10)\n",
      "(10,) (10,) (10,)\n"
     ]
    },
    {
     "data": {
      "image/png": "[encoded data removed]",
      "text/plain": [
       "<Figure size 1152x864 with 1 Axes>"
      ]
     },
     "metadata": {
      "needs_background": "light"
     },
     "output_type": "display_data"
    }
   ],
   "source": [
    "visualize_each_variable(test_model, display='all', display_err=False, normalize=False, verbose=False)"
   ]
  },
  {
   "cell_type": "code",
   "execution_count": 16,
   "metadata": {},
   "outputs": [],
   "source": [
    "def do_pca(model_path, dataset=dataset_test):\n",
    "    # load the data\n",
    "    data_df = pd.read_csv(model_path+'/'+dataset+'_embeddings/full_embeddings.csv', index_col=0)\n",
    "    data_df.sort_index(inplace=True)\n",
    "\n",
    "    prediction_df = pd.read_csv(model_path+'/'+dataset+'_embeddings/cross_val_predicted_labels.csv', index_col=0)\n",
    "    prediction_df.sort_index(inplace=True)\n",
    "\n",
    "    full_df = pd.merge(prediction_df[['label']], data_df, left_index=True, right_index=True)\n",
    "\n",
    "    # Makes PCA over all dataframe\n",
    "    latent_df = full_df.iloc[:,1:]\n",
    "    latent_df_normalized = (latent_df - latent_df.mean()) / latent_df.std()\n",
    "    n_components = latent_df.shape[1]\n",
    "    pca = PCA(n_components=n_components)\n",
    "    transformed = pca.fit_transform(latent_df_normalized)\n",
    "\n",
    "    # Transforms over label0 dataframe\n",
    "    label0_df = full_df[full_df['label'] == 0].iloc[:,1:]\n",
    "    label0_df = (label0_df - latent_df.mean()) / latent_df.std()\n",
    "    transformed0 = pca.transform(label0_df)\n",
    "    mean0 = np.mean(transformed0, axis=0)\n",
    "    print(mean0.shape)\n",
    "\n",
    "    # Transforms over label1 dataframe\n",
    "    label1_df = full_df[full_df['label'] == 1].iloc[:,1:]\n",
    "    label1_df = (label1_df - latent_df.mean()) / latent_df.std()\n",
    "    transformed1 = pca.transform(label1_df)\n",
    "    mean1 = np.mean(transformed1, axis=0)\n",
    "    print(mean1.shape)\n",
    "\n",
    "    idx = np.arange(n_components)+1\n",
    "    explained_variance = pca.explained_variance_ratio_\n",
    "    cum_explained_variance = np.cumsum(explained_variance)\n",
    "    df_explained_variance = pd.DataFrame([explained_variance, cum_explained_variance], \n",
    "                                     index=['explained variance', 'cumulative'], \n",
    "                                     columns=idx).T\n",
    "\n",
    "    limit_df = n_components\n",
    "\n",
    "    #make scree plot\n",
    "    plt.rcParams['axes.facecolor'] = 'white'\n",
    "    plt.rcParams['axes.edgecolor'] = 'black'\n",
    "    fig, axs = plt.subplots(1, 2, figsize=(30,10)) \n",
    "    [t.set_color('white') for t in axs[0].xaxis.get_ticklabels()]\n",
    "    [t.set_color('white') for t in axs[0].yaxis.get_ticklabels()]\n",
    "    axs[0].set_title('Explained variance across principal components', fontsize=14)\n",
    "    axs[0].set_xlabel('Principal component', fontsize=12)\n",
    "    axs[0].set_ylabel('Explained variance', fontsize=12)\n",
    "    sns.barplot(ax=axs[0], x=idx[:limit_df], y='explained variance', data=df_explained_variance, palette='summer')\n",
    "    axs[0] = axs[0].twinx()\n",
    "    axs[0].grid(False)\n",
    "    axs[0].set_ylabel('Cumulative', fontsize=14)\n",
    "    sns.lineplot(ax=axs[0], x=idx[:limit_df]-1, y='cumulative', data=df_explained_variance, color='#fc8d59')\n",
    "\n",
    "    N, D = transformed.shape\n",
    "    # Builds x coordinates for scatter plot\n",
    "    x = np.reshape(np.arange(D), (1,D))\n",
    "    x = np.repeat(x, transformed0.shape[0], axis=0)\n",
    "    axs[1].scatter(x, transformed0, c='blue', marker='.')\n",
    "    x = np.reshape(np.arange(D), (1,D))\n",
    "    x = np.repeat(x, transformed1.shape[0], axis=0)\n",
    "    axs[1].scatter(x, transformed1, c='red', marker='.')\n",
    "    x = np.arange(D)\n",
    "    axs[1].plot(x, mean0, color='blue', linestyle='None', marker='s', markersize=15, markerfacecolor='None', markeredgewidth=3)\n",
    "    axs[1].plot(x, mean1, color='red', linestyle='None', marker='s', markersize=15, markerfacecolor='None', markeredgewidth=3)\n",
    "\n",
    "    plt.show()\n"
   ]
  },
  {
   "cell_type": "markdown",
   "metadata": {},
   "source": [
    "# Functions for dictionary learning"
   ]
  },
  {
   "cell_type": "code",
   "execution_count": 17,
   "metadata": {},
   "outputs": [],
   "source": [
    "def do_dictionary_learning(data_df, n_components=10, transform_n_nonzero_coefs=1):\n",
    "    data_df_local = data_df.copy()\n",
    "    full_df_local = pd.DataFrame()\n",
    "    # Makes dictionary learning over all embeddings\n",
    "    latent_df = data_df_local.iloc[:,:]\n",
    "    latent_df_normalized = (latent_df - latent_df.mean()) / latent_df.std()\n",
    "    n_components = n_components\n",
    "    dict_learner = DictionaryLearning(n_components=n_components,\n",
    "                                      transform_n_nonzero_coefs=transform_n_nonzero_coefs,\n",
    "                                      alpha=1)\n",
    "    transformed = dict_learner.fit_transform(latent_df_normalized)\n",
    "\n",
    "    # Adds transform to full_df\n",
    "    columns = ['trans_'+str(x) for x in range(n_components)]\n",
    "    transformed_df_local = pd.DataFrame(transformed, columns=columns)\n",
    "    transformed_df_local.index = data_df_local.index\n",
    "    full_df_local = pd.merge(data_df_local, transformed_df_local, left_index=True, right_index=True)\n",
    "\n",
    "    return full_df_local, transformed_df_local, dict_learner"
   ]
  },
  {
   "cell_type": "code",
   "execution_count": 18,
   "metadata": {},
   "outputs": [],
   "source": [
    "def test_dictionary_learning(dict_learner, test_df, n_components):\n",
    "    test_df_local = test_df.copy()\n",
    "    full_df_local = pd.DataFrame()\n",
    "    latent_df = test_df_local.iloc[:,:]\n",
    "    latent_df_normalized = (latent_df - latent_df.mean()) / latent_df.std()\n",
    "    transformed = dict_learner.transform(latent_df_normalized)\n",
    "\n",
    "    # Adds transform to full_df\n",
    "    columns = ['trans_'+str(x) for x in range(n_components)]\n",
    "    transformed_df_local = pd.DataFrame(transformed, columns=columns)\n",
    "    transformed_df_local.index = test_df_local.index\n",
    "    full_df_local = pd.merge(test_df_local, transformed_df_local, left_index=True, right_index=True)\n",
    "\n",
    "    return full_df_local, transformed_df_local\n"
   ]
  },
  {
   "cell_type": "code",
   "execution_count": 19,
   "metadata": {},
   "outputs": [],
   "source": [
    "def plot_patterns(prediction_df, transformed_df, random=False):\n",
    "    # Makes local copy\n",
    "    prediction_df_local = prediction_df.copy()\n",
    "    transformed_df_local = transformed_df.copy()\n",
    "\n",
    "    if random:\n",
    "        prediction_df_local['label'] = np.random.permutation(prediction_df_local['label'].values)\n",
    "    full_df_local = pd.merge(prediction_df_local[['label']], transformed_df_local, left_index=True, right_index=True)\n",
    "\n",
    "    # Transforms over label0 dataframe\n",
    "    label0_df = full_df_local[full_df_local['label'] == 0].iloc[:,1:]\n",
    "    transformed0 = label0_df.values\n",
    "\n",
    "    # Transforms over label1 dataframe\n",
    "    label1_df = full_df_local[full_df_local['label'] == 1].iloc[:,1:]\n",
    "    transformed1 = label1_df.values\n",
    "\n",
    "    fig, axs = plt.subplots(1, 1, figsize=(10,7)) \n",
    "\n",
    "    _, D = transformed0.shape\n",
    "\n",
    "    x = np.reshape(np.arange(D), (1,D))\n",
    "    x = np.repeat(x, transformed0.shape[0], axis=0)\n",
    "    axs.scatter(x, transformed0, c='blue', marker='.')\n",
    "    x = np.reshape(np.arange(D), (1,D))\n",
    "    x = np.repeat(x, transformed1.shape[0], axis=0)\n",
    "    axs.scatter(x, transformed1, c='red', marker='.')\n",
    "\n",
    "    x = np.arange(D)\n",
    "\n",
    "    masked0 = np.ma.masked_equal(transformed0, 0.)\n",
    "    mean0 = masked0.mean(axis=0)\n",
    "    axs.plot(x, mean0, color='blue', linestyle='None', marker='s', markersize=15, markerfacecolor='None', markeredgewidth=3)\n",
    "\n",
    "    masked1 = np.ma.masked_equal(transformed1, 0.)\n",
    "    mean1 = masked1.mean(axis=0)\n",
    "    axs.plot(x, mean1, color='red', linestyle='None', marker='s', markersize=15, markerfacecolor='None', markeredgewidth=3)\n",
    "\n",
    "    plt.show()"
   ]
  },
  {
   "cell_type": "code",
   "execution_count": 20,
   "metadata": {},
   "outputs": [],
   "source": [
    "def return_predictions(prediction_df, transformed_df, random=False):\n",
    "    # Initializes\n",
    "    prediction_df_local = prediction_df.copy()\n",
    "    transformed_df_local = transformed_df.copy()\n",
    "    n_patterns = len(transformed_df_local.columns)\n",
    "    res = np.zeros(2*n_patterns)\n",
    "\n",
    "    # Makes random permutation to produce random label\n",
    "    if random:\n",
    "        prediction_df_local['label'] = np.random.permutation(prediction_df_local['label'].values)\n",
    "\n",
    "    full_df_local = pd.merge(prediction_df_local[['label']], transformed_df_local, left_index=True, right_index=True)\n",
    "\n",
    "    # Makes prediction for each pattern\n",
    "    for i, c in enumerate(transformed_df_local.columns):\n",
    "        df = full_df_local[full_df_local[c] > 0.]\n",
    "        res[2*i] = df['label'].mean()\n",
    "        df = full_df_local[full_df_local[c] < 0.]\n",
    "        res[2*i+1] = df['label'].mean()\n",
    "\n",
    "    return res\n",
    "\n",
    "def plot_predictions(prediction_df, transformed_df):\n",
    "    prediction_df_local = prediction_df.copy()\n",
    "    transformed_df_local = transformed_df.copy()\n",
    "    n_patterns = len(transformed_df_local.columns)\n",
    "    x = np.arange(2*n_patterns)\n",
    "    res_random = np.zeros((20, 2*n_patterns))\n",
    "\n",
    "    # Loads labels\n",
    "    mean_label = prediction_df_local['label'].mean()\n",
    "    print(f\"Mean label = {mean_label}\")\n",
    "\n",
    "    # Computes pattern prediction\n",
    "    res = return_predictions(prediction_df_local, transformed_df_local)\n",
    "    for i in range(20):\n",
    "        res_random[i,:] = return_predictions(prediction_df_local, transformed_df_local, True)\n",
    "    \n",
    "    for i in range(20):\n",
    "        plt.scatter(x, res_random[i], c='grey')\n",
    "\n",
    "    plt.scatter(x, res, c='red')\n",
    "    plt.plot(mean_label*np.ones(2*n_patterns))\n",
    "    plt.ylim((0,1))\n",
    "    return res   "
   ]
  },
  {
   "cell_type": "code",
   "execution_count": 43,
   "metadata": {},
   "outputs": [],
   "source": [
    "def return_sum(prediction_df, transformed_df, random=False):\n",
    "    # Initializes\n",
    "    prediction_df_local = prediction_df.copy()\n",
    "    transformed_df_local = transformed_df.copy()\n",
    "    n_patterns = len(transformed_df_local.columns)\n",
    "    res_sum = np.zeros(2*n_patterns)\n",
    "    res_len = np.zeros(2*n_patterns)\n",
    "\n",
    "    full_df = pd.merge(prediction_df_local[['label']], transformed_df_local, left_index=True, right_index=True)\n",
    "\n",
    "    # Makes prediction for each pattern\n",
    "    for i, c in enumerate(transformed_df_local.columns):\n",
    "        df = full_df[full_df[c] > 0.]\n",
    "        res_sum[2*i] = df['label'].sum()\n",
    "        res_len[2*i] = len(df)\n",
    "        df = full_df[full_df[c] < 0.]\n",
    "        res_sum[2*i+1] = df['label'].sum()\n",
    "        res_len[2*i+1] = len(df)\n",
    "\n",
    "    return res_sum, res_len\n",
    "\n",
    "\n",
    "def do_t_test(prediction_df, transformed_df, show=True):\n",
    "    prediction_df_local = prediction_df.copy()\n",
    "    transformed_df_local = transformed_df.copy()\n",
    "    n_patterns = len(transformed_df_local.columns)\n",
    "    x = np.arange(2*n_patterns)\n",
    "    res_p = np.zeros(2*n_patterns)\n",
    "\n",
    "    # Mean labels\n",
    "    mean_label = prediction_df_local['label'].mean()\n",
    "    # print(f\"Mean label = {mean_label}\")\n",
    "\n",
    "    # Computes pattern prediction\n",
    "    res_sum, res_len = return_sum(prediction_df_local, transformed_df_local)\n",
    "    \n",
    "    for i in range(2*n_patterns):\n",
    "        res_p[i] = binom_test(res_sum[i], n=res_len[i], p=mean_label, alternative='two-sided')\n",
    "\n",
    "    if show:\n",
    "        plt.scatter(x, -np.log10(res_p))\n",
    "        plt.plot(-np.log10(0.005)*np.ones(2*n_patterns))\n",
    "\n",
    "    return res_p   "
   ]
  },
  {
   "cell_type": "code",
   "execution_count": 22,
   "metadata": {},
   "outputs": [],
   "source": [
    "def give_number_relevant_subjects(prediction_df, transformed_df, res_p, show=True):\n",
    "    prediction_df_local = prediction_df.copy()\n",
    "    transformed_df_local = transformed_df.copy()\n",
    "\n",
    "    df = pd.merge(prediction_df_local[['label']], transformed_df_local, left_index=True, right_index=True)\n",
    "    nb_subjects = np.zeros(len(res_p))\n",
    "    nb_subjects_relevant = 0\n",
    "    max_auc_score = 0.0\n",
    "    auc_score = np.zeros(len(res_p))\n",
    "    # print(len(df.columns))\n",
    "    for i in range(1,len(df.columns)):\n",
    "        # print(df.iloc[:,[i]].columns)\n",
    "        d = df[df.iloc[:,i] > 0.]\n",
    "        d = d.copy()\n",
    "        if d.label.sum() < (len(d.label)/2.):\n",
    "            d.iloc[:,i] = -d.iloc[:,i]\n",
    "        d.iloc[:,i] = 1. / (1. + np.exp(d.iloc[:,i]))\n",
    "        # print(np.unique(d.label.values).shape)\n",
    "        nb_subjects[2*i-2] = len(d)\n",
    "        if len(np.unique(d.label.values)) == 1:\n",
    "            d.iloc[0,0] = 1-d.iloc[0,0]\n",
    "            # auc_score[2*i-2] = 1.0\n",
    "            # print(i, len(d), res_p[2*i-2], 1.0)\n",
    "        # else:\n",
    "        #     auc_score[2*i-2] = roc_auc_score(d.label, d.iloc[:,i])\n",
    "            # print(i, len(d), res_p[2*i-2], roc_auc_score(d.label, d.iloc[:,i]))\n",
    "        auc_score[2*i-2] = roc_auc_score(d.label, d.iloc[:,i])\n",
    "        # auc_score[2*i-2] = roc_auc_score(d.label, d.iloc[:,i])\n",
    "        if res_p[2*i-2] < 0.01:\n",
    "            nb_subjects_relevant += nb_subjects[2*i-2]\n",
    "            max_auc_score = max(auc_score[2*i-2], max_auc_score)\n",
    "\n",
    "        d = df[df.iloc[:,i] < 0.]\n",
    "        d = d.copy()\n",
    "        if d.label.sum() >= (len(d.label)/2.):\n",
    "            d.iloc[:,i] = -d.iloc[:,i]\n",
    "        d.iloc[:,i] = 1. / (1. + np.exp(d.iloc[:,i]))\n",
    "        nb_subjects[2*i-1] = len(d)\n",
    "        if len(np.unique(d.label.values)) == 1:\n",
    "            d.iloc[0,0] = 1-d.iloc[0,0]\n",
    "        auc_score[2*i-1] = roc_auc_score(d.label, d.iloc[:,i])\n",
    "        if res_p[2*i-1] < 0.01:\n",
    "            nb_subjects_relevant += nb_subjects[2*i-1]\n",
    "            max_auc_score = max(auc_score[2*i-1], max_auc_score)\n",
    "            \n",
    "    # print(d)\n",
    "    if show:\n",
    "        x = np.arange(len(res_p))\n",
    "        plt.scatter(x, auc_score)\n",
    "        plt.ylabel('auc_score')\n",
    "        # plt.scatter(res_p, auc_score)\n",
    "        # plt.xlabel('p value')\n",
    "        # plt.ylabel('auc_score')\n",
    "    return nb_subjects_relevant, max_auc_score"
   ]
  },
  {
   "cell_type": "code",
   "execution_count": 23,
   "metadata": {},
   "outputs": [],
   "source": [
    "def give_number_relevant_subjects_accuracy(prediction_df, transformed_df, res_p, show=True):\n",
    "    prediction_df_local = prediction_df.copy()\n",
    "    transformed_df_local = transformed_df.copy()\n",
    "\n",
    "    df = pd.merge(prediction_df_local[['label']], transformed_df_local, left_index=True, right_index=True)\n",
    "    nb_subjects = np.zeros(len(res_p))\n",
    "    nb_subjects_relevant = 0\n",
    "    exact_nb_subjects_relevant = 0\n",
    "    max_auc_score = 0.0\n",
    "    auc_score = np.zeros(len(res_p))\n",
    "    # print(len(df.columns))\n",
    "    for i in range(1,len(df.columns)):\n",
    "        # print(df.iloc[:,[i]].columns)\n",
    "        d = df[df.iloc[:,i] > 0.]\n",
    "        d = d.copy()\n",
    "        if 2.*d.label.sum() < (len(d.label)):\n",
    "            d.iloc[:,i] = 0\n",
    "        else:\n",
    "            d.iloc[:,i] = 1\n",
    "        # print(np.unique(d.label.values).shape)\n",
    "        nb_subjects[2*i-2] = len(d)\n",
    "        auc_score[2*i-2] = accuracy_score(d.label, d.iloc[:,i])\n",
    "        if res_p[2*i-2] < 0.05:\n",
    "            nb_subjects_relevant += nb_subjects[2*i-2]\n",
    "            max_auc_score = max(auc_score[2*i-2], max_auc_score)\n",
    "            if 2.*d.label.sum() < (len(d.label)):\n",
    "                exact_nb_subjects_relevant += len(d.label)-d.label.sum()\n",
    "            else:\n",
    "                exact_nb_subjects_relevant += d.label.sum()\n",
    "        d = df[df.iloc[:,i] < 0.]\n",
    "        d = d.copy()\n",
    "        if 2.*d.label.sum() < (len(d.label)):\n",
    "            d.iloc[:,i] = 0\n",
    "        else:\n",
    "            d.iloc[:,i] = 1\n",
    "        nb_subjects[2*i-1] = len(d)\n",
    "        auc_score[2*i-1] = accuracy_score(d.label, d.iloc[:,i])\n",
    "        if res_p[2*i-1] < 0.05:\n",
    "            nb_subjects_relevant += nb_subjects[2*i-1]\n",
    "            max_auc_score = max(auc_score[2*i-1], max_auc_score)\n",
    "            if 2.*d.label.sum() < (len(d.label)):\n",
    "                exact_nb_subjects_relevant += len(d.label)-d.label.sum()\n",
    "            else:\n",
    "                exact_nb_subjects_relevant += d.label.sum()\n",
    "            \n",
    "    # print(d)\n",
    "    if show:\n",
    "        x = np.arange(len(res_p))\n",
    "        plt.scatter(x, auc_score)\n",
    "        plt.ylabel('accuracy_score')\n",
    "        # plt.scatter(res_p, auc_score)\n",
    "        # plt.xlabel('p value')\n",
    "        # plt.ylabel('auc_score')\n",
    "    return nb_subjects_relevant, max_auc_score, exact_nb_subjects_relevant"
   ]
  },
  {
   "cell_type": "markdown",
   "metadata": {},
   "source": [
    "# Applying dictionary learning"
   ]
  },
  {
   "cell_type": "code",
   "execution_count": 24,
   "metadata": {},
   "outputs": [],
   "source": [
    "full_train_df, transformed_train_df, dict_learner = do_dictionary_learning(data_df=test_df, n_components=5, transform_n_nonzero_coefs=1)"
   ]
  },
  {
   "cell_type": "code",
   "execution_count": 25,
   "metadata": {},
   "outputs": [],
   "source": [
    "full_df, transformed_df = test_dictionary_learning(dict_learner=dict_learner, test_df=test_df, n_components=5)"
   ]
  },
  {
   "cell_type": "code",
   "execution_count": 26,
   "metadata": {},
   "outputs": [
    {
     "name": "stdout",
     "output_type": "stream",
     "text": [
      "             dim1      dim2       dim3       dim4       dim5      dim6  \\\n",
      "ID                                                                       \n",
      "100307  -7.836296 -0.375096   6.216552 -10.061766   7.491416 -5.847349   \n",
      "100610   2.791291 -0.324490  -0.906039   2.048596   6.537894 -4.125042   \n",
      "101107 -11.111746  0.687111  13.418798  -5.416209   5.515692  0.428734   \n",
      "101309 -13.224812  5.632393   5.730735 -16.833240  13.522676 -5.063924   \n",
      "102008  -6.196773 -4.732237   2.659616 -11.465176   5.347455 -6.314500   \n",
      "\n",
      "            dim7      dim8       dim9      dim10  trans_0   trans_1  trans_2  \\\n",
      "ID                                                                             \n",
      "100307  0.339369  6.664896  -1.465991  11.891362      0.0  0.000000  0.00000   \n",
      "100610 -8.220337  3.290864 -16.226452  10.390056      0.0  0.000000  0.00000   \n",
      "101107 -4.888807  6.791770  -6.192792  19.127739      0.0  0.000000 -2.61630   \n",
      "101309 -7.286975  6.234298  -2.692585  14.022439      0.0  0.000000 -4.03749   \n",
      "102008 -3.565862  0.306166  -7.229346  10.058741      0.0 -1.098378  0.00000   \n",
      "\n",
      "         trans_3  trans_4  \n",
      "ID                         \n",
      "100307 -2.202502      0.0  \n",
      "100610  2.259756      0.0  \n",
      "101107  0.000000      0.0  \n",
      "101309  0.000000      0.0  \n",
      "102008  0.000000      0.0  \n"
     ]
    }
   ],
   "source": [
    "print(full_df.head())"
   ]
  },
  {
   "cell_type": "code",
   "execution_count": 27,
   "metadata": {},
   "outputs": [],
   "source": [
    "# prediction_df = prediction_df[np.square(transformed_df.trans_0)\\\n",
    "#                              +np.square(transformed_df.trans_1)\\\n",
    "#                             +np.square(transformed_df.trans_2)\\\n",
    "#                             +np.square(transformed_df.trans_3)\\\n",
    "#                             +np.square(transformed_df.trans_4) >1.0]"
   ]
  },
  {
   "cell_type": "code",
   "execution_count": 28,
   "metadata": {},
   "outputs": [],
   "source": [
    "# prediction_df_continuous = prediction_df_continuous[np.square(transformed_df.trans_0)\\\n",
    "#                              +np.square(transformed_df.trans_1)\\\n",
    "#                             +np.square(transformed_df.trans_2)\\\n",
    "#                             +np.square(transformed_df.trans_3)\\\n",
    "#                             +np.square(transformed_df.trans_4) >1.0]"
   ]
  },
  {
   "cell_type": "code",
   "execution_count": 29,
   "metadata": {},
   "outputs": [],
   "source": [
    "# transformed_df = transformed_df[np.square(transformed_df.trans_0)\\\n",
    "#                 +np.square(transformed_df.trans_1)\\\n",
    "#                 +np.square(transformed_df.trans_2)\\\n",
    "#                 +np.square(transformed_df.trans_3)\\\n",
    "#                 +np.square(transformed_df.trans_4) >1.0]"
   ]
  },
  {
   "cell_type": "code",
   "execution_count": 30,
   "metadata": {},
   "outputs": [
    {
     "data": {
      "image/png": "[encoded data removed]",
      "text/plain": [
       "<Figure size 720x504 with 1 Axes>"
      ]
     },
     "metadata": {
      "needs_background": "light"
     },
     "output_type": "display_data"
    }
   ],
   "source": [
    "plot_patterns(prediction_df, transformed_df, random=False)"
   ]
  },
  {
   "cell_type": "code",
   "execution_count": 31,
   "metadata": {},
   "outputs": [
    {
     "data": {
      "text/html": [
       "<div>\n",
       "<style scoped>\n",
       "    .dataframe tbody tr th:only-of-type {\n",
       "        vertical-align: middle;\n",
       "    }\n",
       "\n",
       "    .dataframe tbody tr th {\n",
       "        vertical-align: top;\n",
       "    }\n",
       "\n",
       "    .dataframe thead th {\n",
       "        text-align: right;\n",
       "    }\n",
       "</style>\n",
       "<table border=\"1\" class=\"dataframe\">\n",
       "  <thead>\n",
       "    <tr style=\"text-align: right;\">\n",
       "      <th></th>\n",
       "      <th>dim1</th>\n",
       "      <th>dim2</th>\n",
       "      <th>dim3</th>\n",
       "      <th>dim4</th>\n",
       "      <th>dim5</th>\n",
       "      <th>dim6</th>\n",
       "      <th>dim7</th>\n",
       "      <th>dim8</th>\n",
       "      <th>dim9</th>\n",
       "      <th>dim10</th>\n",
       "    </tr>\n",
       "    <tr>\n",
       "      <th>ID</th>\n",
       "      <th></th>\n",
       "      <th></th>\n",
       "      <th></th>\n",
       "      <th></th>\n",
       "      <th></th>\n",
       "      <th></th>\n",
       "      <th></th>\n",
       "      <th></th>\n",
       "      <th></th>\n",
       "      <th></th>\n",
       "    </tr>\n",
       "  </thead>\n",
       "  <tbody>\n",
       "    <tr>\n",
       "      <th>100307</th>\n",
       "      <td>-7.836296</td>\n",
       "      <td>-0.375096</td>\n",
       "      <td>6.216552</td>\n",
       "      <td>-10.061766</td>\n",
       "      <td>7.491416</td>\n",
       "      <td>-5.847349</td>\n",
       "      <td>0.339369</td>\n",
       "      <td>6.664896</td>\n",
       "      <td>-1.465991</td>\n",
       "      <td>11.891362</td>\n",
       "    </tr>\n",
       "    <tr>\n",
       "      <th>100610</th>\n",
       "      <td>2.791291</td>\n",
       "      <td>-0.324490</td>\n",
       "      <td>-0.906039</td>\n",
       "      <td>2.048596</td>\n",
       "      <td>6.537894</td>\n",
       "      <td>-4.125042</td>\n",
       "      <td>-8.220337</td>\n",
       "      <td>3.290864</td>\n",
       "      <td>-16.226452</td>\n",
       "      <td>10.390056</td>\n",
       "    </tr>\n",
       "    <tr>\n",
       "      <th>101107</th>\n",
       "      <td>-11.111746</td>\n",
       "      <td>0.687111</td>\n",
       "      <td>13.418798</td>\n",
       "      <td>-5.416209</td>\n",
       "      <td>5.515692</td>\n",
       "      <td>0.428734</td>\n",
       "      <td>-4.888807</td>\n",
       "      <td>6.791770</td>\n",
       "      <td>-6.192792</td>\n",
       "      <td>19.127739</td>\n",
       "    </tr>\n",
       "    <tr>\n",
       "      <th>101309</th>\n",
       "      <td>-13.224812</td>\n",
       "      <td>5.632393</td>\n",
       "      <td>5.730735</td>\n",
       "      <td>-16.833240</td>\n",
       "      <td>13.522676</td>\n",
       "      <td>-5.063924</td>\n",
       "      <td>-7.286975</td>\n",
       "      <td>6.234298</td>\n",
       "      <td>-2.692585</td>\n",
       "      <td>14.022439</td>\n",
       "    </tr>\n",
       "    <tr>\n",
       "      <th>102008</th>\n",
       "      <td>-6.196773</td>\n",
       "      <td>-4.732237</td>\n",
       "      <td>2.659616</td>\n",
       "      <td>-11.465176</td>\n",
       "      <td>5.347455</td>\n",
       "      <td>-6.314500</td>\n",
       "      <td>-3.565862</td>\n",
       "      <td>0.306166</td>\n",
       "      <td>-7.229346</td>\n",
       "      <td>10.058741</td>\n",
       "    </tr>\n",
       "  </tbody>\n",
       "</table>\n",
       "</div>"
      ],
      "text/plain": [
       "             dim1      dim2       dim3       dim4       dim5      dim6  \\\n",
       "ID                                                                       \n",
       "100307  -7.836296 -0.375096   6.216552 -10.061766   7.491416 -5.847349   \n",
       "100610   2.791291 -0.324490  -0.906039   2.048596   6.537894 -4.125042   \n",
       "101107 -11.111746  0.687111  13.418798  -5.416209   5.515692  0.428734   \n",
       "101309 -13.224812  5.632393   5.730735 -16.833240  13.522676 -5.063924   \n",
       "102008  -6.196773 -4.732237   2.659616 -11.465176   5.347455 -6.314500   \n",
       "\n",
       "            dim7      dim8       dim9      dim10  \n",
       "ID                                                \n",
       "100307  0.339369  6.664896  -1.465991  11.891362  \n",
       "100610 -8.220337  3.290864 -16.226452  10.390056  \n",
       "101107 -4.888807  6.791770  -6.192792  19.127739  \n",
       "101309 -7.286975  6.234298  -2.692585  14.022439  \n",
       "102008 -3.565862  0.306166  -7.229346  10.058741  "
      ]
     },
     "execution_count": 31,
     "metadata": {},
     "output_type": "execute_result"
    }
   ],
   "source": [
    "test_df.head()"
   ]
  },
  {
   "cell_type": "code",
   "execution_count": 32,
   "metadata": {},
   "outputs": [
    {
     "data": {
      "text/html": [
       "<div>\n",
       "<style scoped>\n",
       "    .dataframe tbody tr th:only-of-type {\n",
       "        vertical-align: middle;\n",
       "    }\n",
       "\n",
       "    .dataframe tbody tr th {\n",
       "        vertical-align: top;\n",
       "    }\n",
       "\n",
       "    .dataframe thead th {\n",
       "        text-align: right;\n",
       "    }\n",
       "</style>\n",
       "<table border=\"1\" class=\"dataframe\">\n",
       "  <thead>\n",
       "    <tr style=\"text-align: right;\">\n",
       "      <th></th>\n",
       "      <th>trans_0</th>\n",
       "      <th>trans_1</th>\n",
       "      <th>trans_2</th>\n",
       "      <th>trans_3</th>\n",
       "      <th>trans_4</th>\n",
       "    </tr>\n",
       "    <tr>\n",
       "      <th>ID</th>\n",
       "      <th></th>\n",
       "      <th></th>\n",
       "      <th></th>\n",
       "      <th></th>\n",
       "      <th></th>\n",
       "    </tr>\n",
       "  </thead>\n",
       "  <tbody>\n",
       "    <tr>\n",
       "      <th>100307</th>\n",
       "      <td>0.0</td>\n",
       "      <td>0.000000</td>\n",
       "      <td>0.00000</td>\n",
       "      <td>-2.202502</td>\n",
       "      <td>0.0</td>\n",
       "    </tr>\n",
       "    <tr>\n",
       "      <th>100610</th>\n",
       "      <td>0.0</td>\n",
       "      <td>0.000000</td>\n",
       "      <td>0.00000</td>\n",
       "      <td>2.259756</td>\n",
       "      <td>0.0</td>\n",
       "    </tr>\n",
       "    <tr>\n",
       "      <th>101107</th>\n",
       "      <td>0.0</td>\n",
       "      <td>0.000000</td>\n",
       "      <td>-2.61630</td>\n",
       "      <td>0.000000</td>\n",
       "      <td>0.0</td>\n",
       "    </tr>\n",
       "    <tr>\n",
       "      <th>101309</th>\n",
       "      <td>0.0</td>\n",
       "      <td>0.000000</td>\n",
       "      <td>-4.03749</td>\n",
       "      <td>0.000000</td>\n",
       "      <td>0.0</td>\n",
       "    </tr>\n",
       "    <tr>\n",
       "      <th>102008</th>\n",
       "      <td>0.0</td>\n",
       "      <td>-1.098378</td>\n",
       "      <td>0.00000</td>\n",
       "      <td>0.000000</td>\n",
       "      <td>0.0</td>\n",
       "    </tr>\n",
       "  </tbody>\n",
       "</table>\n",
       "</div>"
      ],
      "text/plain": [
       "        trans_0   trans_1  trans_2   trans_3  trans_4\n",
       "ID                                                   \n",
       "100307      0.0  0.000000  0.00000 -2.202502      0.0\n",
       "100610      0.0  0.000000  0.00000  2.259756      0.0\n",
       "101107      0.0  0.000000 -2.61630  0.000000      0.0\n",
       "101309      0.0  0.000000 -4.03749  0.000000      0.0\n",
       "102008      0.0 -1.098378  0.00000  0.000000      0.0"
      ]
     },
     "execution_count": 32,
     "metadata": {},
     "output_type": "execute_result"
    }
   ],
   "source": [
    "transformed_df.head()"
   ]
  },
  {
   "cell_type": "code",
   "execution_count": 33,
   "metadata": {},
   "outputs": [
    {
     "data": {
      "text/html": [
       "<div>\n",
       "<style scoped>\n",
       "    .dataframe tbody tr th:only-of-type {\n",
       "        vertical-align: middle;\n",
       "    }\n",
       "\n",
       "    .dataframe tbody tr th {\n",
       "        vertical-align: top;\n",
       "    }\n",
       "\n",
       "    .dataframe thead th {\n",
       "        text-align: right;\n",
       "    }\n",
       "</style>\n",
       "<table border=\"1\" class=\"dataframe\">\n",
       "  <thead>\n",
       "    <tr style=\"text-align: right;\">\n",
       "      <th></th>\n",
       "      <th>label</th>\n",
       "    </tr>\n",
       "    <tr>\n",
       "      <th>Subject</th>\n",
       "      <th></th>\n",
       "    </tr>\n",
       "  </thead>\n",
       "  <tbody>\n",
       "    <tr>\n",
       "      <th>100307</th>\n",
       "      <td>0</td>\n",
       "    </tr>\n",
       "    <tr>\n",
       "      <th>100610</th>\n",
       "      <td>1</td>\n",
       "    </tr>\n",
       "    <tr>\n",
       "      <th>101107</th>\n",
       "      <td>1</td>\n",
       "    </tr>\n",
       "    <tr>\n",
       "      <th>101309</th>\n",
       "      <td>0</td>\n",
       "    </tr>\n",
       "    <tr>\n",
       "      <th>102008</th>\n",
       "      <td>0</td>\n",
       "    </tr>\n",
       "  </tbody>\n",
       "</table>\n",
       "</div>"
      ],
      "text/plain": [
       "         label\n",
       "Subject       \n",
       "100307       0\n",
       "100610       1\n",
       "101107       1\n",
       "101309       0\n",
       "102008       0"
      ]
     },
     "execution_count": 33,
     "metadata": {},
     "output_type": "execute_result"
    }
   ],
   "source": [
    "prediction_df[['label']].head()"
   ]
  },
  {
   "cell_type": "code",
   "execution_count": 34,
   "metadata": {},
   "outputs": [
    {
     "data": {
      "text/html": [
       "<div>\n",
       "<style scoped>\n",
       "    .dataframe tbody tr th:only-of-type {\n",
       "        vertical-align: middle;\n",
       "    }\n",
       "\n",
       "    .dataframe tbody tr th {\n",
       "        vertical-align: top;\n",
       "    }\n",
       "\n",
       "    .dataframe thead th {\n",
       "        text-align: right;\n",
       "    }\n",
       "</style>\n",
       "<table border=\"1\" class=\"dataframe\">\n",
       "  <thead>\n",
       "    <tr style=\"text-align: right;\">\n",
       "      <th></th>\n",
       "      <th>label</th>\n",
       "      <th>trans_0</th>\n",
       "      <th>trans_1</th>\n",
       "      <th>trans_2</th>\n",
       "      <th>trans_3</th>\n",
       "      <th>trans_4</th>\n",
       "    </tr>\n",
       "    <tr>\n",
       "      <th>Subject</th>\n",
       "      <th></th>\n",
       "      <th></th>\n",
       "      <th></th>\n",
       "      <th></th>\n",
       "      <th></th>\n",
       "      <th></th>\n",
       "    </tr>\n",
       "  </thead>\n",
       "  <tbody>\n",
       "    <tr>\n",
       "      <th>100307</th>\n",
       "      <td>24.0</td>\n",
       "      <td>0.0</td>\n",
       "      <td>0.000000</td>\n",
       "      <td>0.00000</td>\n",
       "      <td>-2.202502</td>\n",
       "      <td>0.0</td>\n",
       "    </tr>\n",
       "    <tr>\n",
       "      <th>100610</th>\n",
       "      <td>33.0</td>\n",
       "      <td>0.0</td>\n",
       "      <td>0.000000</td>\n",
       "      <td>0.00000</td>\n",
       "      <td>2.259756</td>\n",
       "      <td>0.0</td>\n",
       "    </tr>\n",
       "    <tr>\n",
       "      <th>101107</th>\n",
       "      <td>35.0</td>\n",
       "      <td>0.0</td>\n",
       "      <td>0.000000</td>\n",
       "      <td>-2.61630</td>\n",
       "      <td>0.000000</td>\n",
       "      <td>0.0</td>\n",
       "    </tr>\n",
       "    <tr>\n",
       "      <th>101309</th>\n",
       "      <td>22.0</td>\n",
       "      <td>0.0</td>\n",
       "      <td>0.000000</td>\n",
       "      <td>-4.03749</td>\n",
       "      <td>0.000000</td>\n",
       "      <td>0.0</td>\n",
       "    </tr>\n",
       "    <tr>\n",
       "      <th>102008</th>\n",
       "      <td>27.0</td>\n",
       "      <td>0.0</td>\n",
       "      <td>-1.098378</td>\n",
       "      <td>0.00000</td>\n",
       "      <td>0.000000</td>\n",
       "      <td>0.0</td>\n",
       "    </tr>\n",
       "  </tbody>\n",
       "</table>\n",
       "</div>"
      ],
      "text/plain": [
       "         label  trans_0   trans_1  trans_2   trans_3  trans_4\n",
       "Subject                                                      \n",
       "100307    24.0      0.0  0.000000  0.00000 -2.202502      0.0\n",
       "100610    33.0      0.0  0.000000  0.00000  2.259756      0.0\n",
       "101107    35.0      0.0  0.000000 -2.61630  0.000000      0.0\n",
       "101309    22.0      0.0  0.000000 -4.03749  0.000000      0.0\n",
       "102008    27.0      0.0 -1.098378  0.00000  0.000000      0.0"
      ]
     },
     "execution_count": 34,
     "metadata": {},
     "output_type": "execute_result"
    }
   ],
   "source": [
    "visu_df = pd.merge(prediction_df_continuous[['label']], transformed_df, left_index=True, right_index=True)\n",
    "visu_df.head()\n",
    "    "
   ]
  },
  {
   "cell_type": "code",
   "execution_count": 47,
   "metadata": {},
   "outputs": [
    {
     "data": {
      "text/plain": [
       "[<matplotlib.lines.Line2D at 0x7efa874fbf60>]"
      ]
     },
     "execution_count": 47,
     "metadata": {},
     "output_type": "execute_result"
    },
    {
     "data": {
      "image/png": "[encoded data removed]",
      "text/plain": [
       "<Figure size 432x288 with 1 Axes>"
      ]
     },
     "metadata": {
      "needs_background": "light"
     },
     "output_type": "display_data"
    }
   ],
   "source": [
    "visu_df_relevant = visu_df[visu_df.trans_1 > 0.0]\n",
    "plt.scatter(visu_df_relevant.trans_1, visu_df_relevant.label)\n",
    "plt.plot([0,4], [visu_df_relevant.label.mean(), visu_df_relevant.label.mean()])"
   ]
  },
  {
   "cell_type": "code",
   "execution_count": 36,
   "metadata": {},
   "outputs": [],
   "source": [
    "# import seaborn as sns\n",
    "# sns.pointplot(data=visu_df_relevant, x=visu_df_relevant.label, y=\"trans_1\")"
   ]
  },
  {
   "cell_type": "code",
   "execution_count": 37,
   "metadata": {},
   "outputs": [],
   "source": [
    "# plot_patterns(prediction_df, transformed_df, random=True)"
   ]
  },
  {
   "cell_type": "code",
   "execution_count": 99,
   "metadata": {},
   "outputs": [
    {
     "data": {
      "image/png": "[encoded data removed]",
      "text/plain": [
       "<Figure size 432x288 with 4 Axes>"
      ]
     },
     "metadata": {
      "needs_background": "light"
     },
     "output_type": "display_data"
    },
    {
     "data": {
      "image/png": "[encoded data removed]",
      "text/plain": [
       "<Figure size 432x288 with 4 Axes>"
      ]
     },
     "metadata": {
      "needs_background": "light"
     },
     "output_type": "display_data"
    },
    {
     "data": {
      "image/png": "[encoded data removed]",
      "text/plain": [
       "<Figure size 432x288 with 4 Axes>"
      ]
     },
     "metadata": {
      "needs_background": "light"
     },
     "output_type": "display_data"
    },
    {
     "data": {
      "image/png": "[encoded data removed]",
      "text/plain": [
       "<Figure size 432x288 with 4 Axes>"
      ]
     },
     "metadata": {
      "needs_background": "light"
     },
     "output_type": "display_data"
    },
    {
     "data": {
      "image/png": "[encoded data removed]",
      "text/plain": [
       "<Figure size 432x288 with 4 Axes>"
      ]
     },
     "metadata": {
      "needs_background": "light"
     },
     "output_type": "display_data"
    },
    {
     "data": {
      "image/png": "[encoded data removed]",
      "text/plain": [
       "<Figure size 432x288 with 4 Axes>"
      ]
     },
     "metadata": {
      "needs_background": "light"
     },
     "output_type": "display_data"
    },
    {
     "data": {
      "image/png": "[encoded data removed]",
      "text/plain": [
       "<Figure size 432x288 with 4 Axes>"
      ]
     },
     "metadata": {
      "needs_background": "light"
     },
     "output_type": "display_data"
    },
    {
     "data": {
      "image/png": "[encoded data removed]",
      "text/plain": [
       "<Figure size 432x288 with 4 Axes>"
      ]
     },
     "metadata": {
      "needs_background": "light"
     },
     "output_type": "display_data"
    }
   ],
   "source": [
    "for trans in [\"trans_0\", \"trans_1\", \"trans_2\", \"trans_4\"]:\n",
    "    for eps in [1, -1]:\n",
    "        pd.plotting.scatter_matrix(visu_df[visu_df[trans]*eps > 0.0][[\"label\", trans]],\n",
    "                                    alpha=1.0,\n",
    "                                    diagonal=\"hist\")\n",
    "        plt.show()"
   ]
  },
  {
   "cell_type": "code",
   "execution_count": 104,
   "metadata": {},
   "outputs": [
    {
     "data": {
      "image/png": "[encoded data removed]",
      "text/plain": [
       "<Figure size 432x288 with 1 Axes>"
      ]
     },
     "metadata": {
      "needs_background": "light"
     },
     "output_type": "display_data"
    }
   ],
   "source": [
    "a = plt.hist(visu_df.label, density=True, alpha=0.5)\n",
    "v = visu_df[visu_df.trans_4<0.]\n",
    "b = plt.hist(v.label, density=True, alpha=0.5)"
   ]
  },
  {
   "cell_type": "code",
   "execution_count": 100,
   "metadata": {},
   "outputs": [
    {
     "data": {
      "text/plain": [
       "array([[<AxesSubplot:xlabel='label', ylabel='label'>,\n",
       "        <AxesSubplot:xlabel='trans_2', ylabel='label'>],\n",
       "       [<AxesSubplot:xlabel='label', ylabel='trans_2'>,\n",
       "        <AxesSubplot:xlabel='trans_2', ylabel='trans_2'>]], dtype=object)"
      ]
     },
     "execution_count": 100,
     "metadata": {},
     "output_type": "execute_result"
    },
    {
     "data": {
      "image/png": "[encoded data removed]",
      "text/plain": [
       "<Figure size 432x288 with 4 Axes>"
      ]
     },
     "metadata": {
      "needs_background": "light"
     },
     "output_type": "display_data"
    }
   ],
   "source": [
    "pd.plotting.scatter_matrix(visu_df[visu_df[\"trans_2\"] > 0.0][[\"label\", \"trans_2\"]],\n",
    "                                    alpha=1.0,\n",
    "                                    diagonal=\"hist\")"
   ]
  },
  {
   "cell_type": "code",
   "execution_count": 58,
   "metadata": {},
   "outputs": [
    {
     "name": "stdout",
     "output_type": "stream",
     "text": [
      "0.25113305970884897 0.6000961120419612\n",
      "0.8493302076385344 0.07092342933872932\n",
      "0.7735828651219481 0.11149315845116778\n",
      "0.5273091653279958 0.27793467999267685\n",
      "0.47381341828624013 0.32439264431997944\n",
      "0.2867490600505319 0.5424979970205441\n",
      "0.4474764302003364 0.3492298352162566\n",
      "0.9980196583796027 0.0008609041618266955\n"
     ]
    }
   ],
   "source": [
    "from scipy.stats import ks_2samp\n",
    "\n",
    "# stat, p_value = kstest(income_t, income_c)\n",
    "# print(f\" Kolmogorov-Smirnov Test: statistic={stat:.4f}, p-value={p_value:.4f}\")\n",
    "\n",
    "for trans in [\"trans_0\", \"trans_1\", \"trans_2\", \"trans_4\"]:\n",
    "    for eps in [-1, 1]:\n",
    "        data1 = visu_df[visu_df[trans]*eps > 0.0][[\"label\"]].values[:,0]\n",
    "        data2 = visu_df[['label']].values[:,0]\n",
    "        stat, p_value = ks_2samp(data1, data2)\n",
    "        print(-np.log10(p_value))"
   ]
  },
  {
   "cell_type": "code",
   "execution_count": 80,
   "metadata": {},
   "outputs": [
    {
     "name": "stdout",
     "output_type": "stream",
     "text": [
      "0.03375798817291831 1.4716234433092585\n",
      "0.24673646524944326 0.6077666612670338\n",
      "0.19952312120067406 0.7000067700121485\n",
      "0.26680229963872965 0.573810431441746\n",
      "0.4888407514496507 0.31083259697171367\n",
      "0.0549741797428269 1.2598412419275475\n",
      "0.060423395393659624 1.2187948739105023\n",
      "0.44926059463699475 0.3475016723978854\n",
      "1.3010299956639813\n",
      "2.3010299956639813\n"
     ]
    }
   ],
   "source": [
    "from scipy.stats import mannwhitneyu\n",
    "\n",
    "for trans in [\"trans_0\", \"trans_1\", \"trans_2\", \"trans_4\"]:\n",
    "    for eps in [-1, 1]:\n",
    "        data1 = visu_df[visu_df[trans]*eps > 0.0][[\"label\"]].values[:,0]\n",
    "        data2 = visu_df[['label']].values[:,0]\n",
    "        stat, p_value = mannwhitneyu(data1, data2)\n",
    "        print(p_value, -np.log10(p_value))\n",
    "print(-np.log10(0.05))\n",
    "print(-np.log10(0.005))"
   ]
  },
  {
   "cell_type": "code",
   "execution_count": 81,
   "metadata": {},
   "outputs": [
    {
     "data": {
      "text/html": [
       "<div>\n",
       "<style scoped>\n",
       "    .dataframe tbody tr th:only-of-type {\n",
       "        vertical-align: middle;\n",
       "    }\n",
       "\n",
       "    .dataframe tbody tr th {\n",
       "        vertical-align: top;\n",
       "    }\n",
       "\n",
       "    .dataframe thead th {\n",
       "        text-align: right;\n",
       "    }\n",
       "</style>\n",
       "<table border=\"1\" class=\"dataframe\">\n",
       "  <thead>\n",
       "    <tr style=\"text-align: right;\">\n",
       "      <th></th>\n",
       "      <th>label</th>\n",
       "      <th>trans_0</th>\n",
       "      <th>trans_1</th>\n",
       "      <th>trans_2</th>\n",
       "      <th>trans_3</th>\n",
       "      <th>trans_4</th>\n",
       "    </tr>\n",
       "    <tr>\n",
       "      <th>Subject</th>\n",
       "      <th></th>\n",
       "      <th></th>\n",
       "      <th></th>\n",
       "      <th></th>\n",
       "      <th></th>\n",
       "      <th></th>\n",
       "    </tr>\n",
       "  </thead>\n",
       "  <tbody>\n",
       "    <tr>\n",
       "      <th>100307</th>\n",
       "      <td>24.0</td>\n",
       "      <td>0.0</td>\n",
       "      <td>0.000000</td>\n",
       "      <td>0.00000</td>\n",
       "      <td>-2.202502</td>\n",
       "      <td>0.0</td>\n",
       "    </tr>\n",
       "    <tr>\n",
       "      <th>100610</th>\n",
       "      <td>33.0</td>\n",
       "      <td>0.0</td>\n",
       "      <td>0.000000</td>\n",
       "      <td>0.00000</td>\n",
       "      <td>2.259756</td>\n",
       "      <td>0.0</td>\n",
       "    </tr>\n",
       "    <tr>\n",
       "      <th>101107</th>\n",
       "      <td>35.0</td>\n",
       "      <td>0.0</td>\n",
       "      <td>0.000000</td>\n",
       "      <td>-2.61630</td>\n",
       "      <td>0.000000</td>\n",
       "      <td>0.0</td>\n",
       "    </tr>\n",
       "    <tr>\n",
       "      <th>101309</th>\n",
       "      <td>22.0</td>\n",
       "      <td>0.0</td>\n",
       "      <td>0.000000</td>\n",
       "      <td>-4.03749</td>\n",
       "      <td>0.000000</td>\n",
       "      <td>0.0</td>\n",
       "    </tr>\n",
       "    <tr>\n",
       "      <th>102008</th>\n",
       "      <td>27.0</td>\n",
       "      <td>0.0</td>\n",
       "      <td>-1.098378</td>\n",
       "      <td>0.00000</td>\n",
       "      <td>0.000000</td>\n",
       "      <td>0.0</td>\n",
       "    </tr>\n",
       "  </tbody>\n",
       "</table>\n",
       "</div>"
      ],
      "text/plain": [
       "         label  trans_0   trans_1  trans_2   trans_3  trans_4\n",
       "Subject                                                      \n",
       "100307    24.0      0.0  0.000000  0.00000 -2.202502      0.0\n",
       "100610    33.0      0.0  0.000000  0.00000  2.259756      0.0\n",
       "101107    35.0      0.0  0.000000 -2.61630  0.000000      0.0\n",
       "101309    22.0      0.0  0.000000 -4.03749  0.000000      0.0\n",
       "102008    27.0      0.0 -1.098378  0.00000  0.000000      0.0"
      ]
     },
     "execution_count": 81,
     "metadata": {},
     "output_type": "execute_result"
    }
   ],
   "source": [
    "visu_df.head()"
   ]
  },
  {
   "cell_type": "code",
   "execution_count": 82,
   "metadata": {},
   "outputs": [
    {
     "name": "stdout",
     "output_type": "stream",
     "text": [
      "/neurospin/dico/data/deep_folding/papers/ipmi2023/models/contrastive/trained_on_HCP_half_2/chosen_model/chosen_model\n"
     ]
    }
   ],
   "source": [
    "print(test_model)"
   ]
  },
  {
   "cell_type": "code",
   "execution_count": 85,
   "metadata": {},
   "outputs": [],
   "source": [
    "visu_df.to_csv(f\"{test_model}/visu_{dataset_test}.csv\")"
   ]
  },
  {
   "cell_type": "code",
   "execution_count": 94,
   "metadata": {},
   "outputs": [],
   "source": [
    "cramer = np.load(f\"{test_model}/cramer_{dataset_test}.npy\")"
   ]
  },
  {
   "cell_type": "code",
   "execution_count": 95,
   "metadata": {},
   "outputs": [
    {
     "data": {
      "text/plain": [
       "(10,)"
      ]
     },
     "execution_count": 95,
     "metadata": {},
     "output_type": "execute_result"
    }
   ],
   "source": [
    "cramer.shape"
   ]
  },
  {
   "cell_type": "code",
   "execution_count": 98,
   "metadata": {},
   "outputs": [
    {
     "data": {
      "text/plain": [
       "[<matplotlib.lines.Line2D at 0x7efa873724e0>]"
      ]
     },
     "execution_count": 98,
     "metadata": {},
     "output_type": "execute_result"
    },
    {
     "data": {
      "image/png": "[encoded data removed]",
      "text/plain": [
       "<Figure size 432x288 with 1 Axes>"
      ]
     },
     "metadata": {
      "needs_background": "light"
     },
     "output_type": "display_data"
    }
   ],
   "source": [
    "plt.scatter(np.arange(0,10), cramer)\n",
    "plt.plot([0,10], [-np.log10(0.001), -np.log10(0.001)])"
   ]
  },
  {
   "cell_type": "code",
   "execution_count": 110,
   "metadata": {},
   "outputs": [
    {
     "data": {
      "image/png": "[encoded data removed]",
      "text/plain": [
       "<Figure size 432x288 with 1 Axes>"
      ]
     },
     "metadata": {
      "needs_background": "light"
     },
     "output_type": "display_data"
    }
   ],
   "source": [
    "a = plt.hist(visu_df.label, density=True, alpha=0.5, bins=30)\n",
    "v = visu_df[visu_df.trans_2>0.]\n",
    "b = plt.hist(v.label, density=True, alpha=0.5, bins=15)"
   ]
  },
  {
   "cell_type": "code",
   "execution_count": 108,
   "metadata": {},
   "outputs": [
    {
     "data": {
      "text/plain": [
       "[<matplotlib.lines.Line2D at 0x7efa84fe49b0>]"
      ]
     },
     "execution_count": 108,
     "metadata": {},
     "output_type": "execute_result"
    },
    {
     "data": {
      "image/png": "[encoded data removed]",
      "text/plain": [
       "<Figure size 432x288 with 1 Axes>"
      ]
     },
     "metadata": {
      "needs_background": "light"
     },
     "output_type": "display_data"
    }
   ],
   "source": [
    "count, bins_count = np.histogram(visu_df.label, bins=40)\n",
    "pdf = count/sum(count)\n",
    "cdf_all = np.cumsum(pdf)\n",
    "count, bins_count_col = np.histogram(v.label, bins=40)\n",
    "pdf = count/sum(count)\n",
    "cdf_col = np.cumsum(pdf)\n",
    "plt.plot(bins_count[1:], cdf_all, color=\"blue\", label=\"all\")\n",
    "plt.plot(bins_count_col[1:], cdf_col, color=\"red\", label=\"spec\")"
   ]
  },
  {
   "cell_type": "code",
   "execution_count": 63,
   "metadata": {},
   "outputs": [
    {
     "name": "stdout",
     "output_type": "stream",
     "text": [
      "[0.23810663 0.06132208 0.89091024 0.66985283 0.23913248 0.64564525\n",
      " 0.801813   0.17632697 1.         0.2502595 ]\n"
     ]
    }
   ],
   "source": [
    "print(res_p)"
   ]
  },
  {
   "cell_type": "code",
   "execution_count": 38,
   "metadata": {},
   "outputs": [
    {
     "name": "stdout",
     "output_type": "stream",
     "text": [
      "Mean label = 0.44291338582677164\n"
     ]
    },
    {
     "data": {
      "text/plain": [
       "array([0.52542373, 0.30612245, 0.45283019, 0.48      , 0.54285714,\n",
       "       0.39534884, 0.421875  , 0.33333333, 0.44262295, 0.53061224])"
      ]
     },
     "execution_count": 38,
     "metadata": {},
     "output_type": "execute_result"
    },
    {
     "data": {
      "image/png": "[encoded data removed]",
      "text/plain": [
       "<Figure size 432x288 with 1 Axes>"
      ]
     },
     "metadata": {
      "needs_background": "light"
     },
     "output_type": "display_data"
    }
   ],
   "source": [
    "plot_predictions(prediction_df, transformed_df)"
   ]
  },
  {
   "cell_type": "code",
   "execution_count": 44,
   "metadata": {},
   "outputs": [
    {
     "data": {
      "image/png": "[encoded data removed]",
      "text/plain": [
       "<Figure size 432x288 with 1 Axes>"
      ]
     },
     "metadata": {
      "needs_background": "light"
     },
     "output_type": "display_data"
    }
   ],
   "source": [
    "res_p = do_t_test(prediction_df, transformed_df)"
   ]
  },
  {
   "cell_type": "code",
   "execution_count": 40,
   "metadata": {},
   "outputs": [
    {
     "data": {
      "text/plain": [
       "(0, 0.0, 0)"
      ]
     },
     "execution_count": 40,
     "metadata": {},
     "output_type": "execute_result"
    },
    {
     "data": {
      "image/png": "[encoded data removed]",
      "text/plain": [
       "<Figure size 432x288 with 1 Axes>"
      ]
     },
     "metadata": {
      "needs_background": "light"
     },
     "output_type": "display_data"
    }
   ],
   "source": [
    "give_number_relevant_subjects_accuracy(prediction_df, transformed_df, res_p)"
   ]
  },
  {
   "cell_type": "code",
   "execution_count": null,
   "metadata": {},
   "outputs": [],
   "source": []
  }
 ],
 "metadata": {
  "kernelspec": {
   "display_name": "Python 3.6.9 ('venv_local': venv)",
   "language": "python",
   "name": "python3"
  },
  "language_info": {
   "codemirror_mode": {
    "name": "ipython",
    "version": 3
   },
   "file_extension": ".py",
   "mimetype": "text/x-python",
   "name": "python",
   "nbconvert_exporter": "python",
   "pygments_lexer": "ipython3",
   "version": "3.6.9"
  },
  "orig_nbformat": 4,
  "vscode": {
   "interpreter": {
    "hash": "b3f951fa4227f6aee2764c66da50d1aa01efee6b5e95e7b587fda0e6104695b3"
   }
  }
 },
 "nbformat": 4,
 "nbformat_minor": 2
}
