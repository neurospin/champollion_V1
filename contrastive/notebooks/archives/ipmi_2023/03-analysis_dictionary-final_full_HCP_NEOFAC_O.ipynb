{
 "cells": [
  {
   "cell_type": "code",
   "execution_count": 337,
   "metadata": {},
   "outputs": [],
   "source": [
    "import umap\n",
    "import math\n",
    "import numpy as np\n",
    "import pandas as pd\n",
    "\n",
    "from sklearn.decomposition import PCA\n",
    "from sklearn.decomposition import DictionaryLearning\n",
    "from scipy.stats import binom_test\n",
    "\n",
    "import matplotlib.pyplot as plt\n",
    "\n",
    "import matplotlib.image as mpimg\n",
    "import seaborn as sns\n",
    "\n",
    "from sklearn.svm import SVC\n",
    "from sklearn.metrics import roc_auc_score, accuracy_score\n",
    "from sklearn.model_selection import cross_val_predict\n",
    "\n",
    "\n",
    "from contrastive.evaluation.train_multiple_classifiers import compute_auc"
   ]
  },
  {
   "cell_type": "code",
   "execution_count": 338,
   "metadata": {},
   "outputs": [
    {
     "name": "stdout",
     "output_type": "stream",
     "text": [
      "548 1106 1106\n"
     ]
    }
   ],
   "source": [
    "# test model\n",
    "test_model = \"/neurospin/dico/data/deep_folding/papers/ipmi2023/models/contrastive/trained_on_HCP_half_2/chosen_model/chosen_model\"\n",
    "# test_model = \"/neurospin/dico/data/deep_folding/papers/ipmi2023/models/contrastive/trained_on_all_HCP/chosen_model/chosen_model\"\n",
    "# test_model = \"/neurospin/didataset_test = 'cingulate_HCP_full_NEOFAC_O'co/data/deep_folding/papers/ipmi2023/models/beta-VAE/n_10/#2\"\n",
    "dataset_train = 'cingulate_HCP_half_2_NEOFAC_C'\n",
    "dataset_test = 'cingulate_HCP_full_NEOFAC_O'\n",
    "\n",
    "# load the data\n",
    "train_df = pd.read_csv(test_model+'/'+dataset_train+'_embeddings/train_val_embeddings.csv', index_col=0)\n",
    "train_df.sort_index(inplace=True)\n",
    "\n",
    "test_df = pd.read_csv(test_model+'/'+dataset_test+'_embeddings/cross_val_effective_embeddings.csv', index_col=0)\n",
    "test_df.sort_index(inplace=True)\n",
    "\n",
    "# load the labels\n",
    "prediction_df = pd.read_csv(test_model+'/'+dataset_test+'_embeddings/cross_val_predicted_labels.csv', index_col=0)\n",
    "prediction_df.sort_index(inplace=True)\n",
    "\n",
    "print(len(train_df), len(test_df), len(prediction_df))"
   ]
  },
  {
   "cell_type": "code",
   "execution_count": 339,
   "metadata": {},
   "outputs": [
    {
     "data": {
      "text/html": [
       "<div>\n",
       "<style scoped>\n",
       "    .dataframe tbody tr th:only-of-type {\n",
       "        vertical-align: middle;\n",
       "    }\n",
       "\n",
       "    .dataframe tbody tr th {\n",
       "        vertical-align: top;\n",
       "    }\n",
       "\n",
       "    .dataframe thead th {\n",
       "        text-align: right;\n",
       "    }\n",
       "</style>\n",
       "<table border=\"1\" class=\"dataframe\">\n",
       "  <thead>\n",
       "    <tr style=\"text-align: right;\">\n",
       "      <th></th>\n",
       "      <th>dim1</th>\n",
       "      <th>dim2</th>\n",
       "      <th>dim3</th>\n",
       "      <th>dim4</th>\n",
       "      <th>dim5</th>\n",
       "      <th>dim6</th>\n",
       "      <th>dim7</th>\n",
       "      <th>dim8</th>\n",
       "      <th>dim9</th>\n",
       "      <th>dim10</th>\n",
       "    </tr>\n",
       "    <tr>\n",
       "      <th>ID</th>\n",
       "      <th></th>\n",
       "      <th></th>\n",
       "      <th></th>\n",
       "      <th></th>\n",
       "      <th></th>\n",
       "      <th></th>\n",
       "      <th></th>\n",
       "      <th></th>\n",
       "      <th></th>\n",
       "      <th></th>\n",
       "    </tr>\n",
       "  </thead>\n",
       "  <tbody>\n",
       "    <tr>\n",
       "      <th>100206</th>\n",
       "      <td>8.394083</td>\n",
       "      <td>-4.838112</td>\n",
       "      <td>6.458366</td>\n",
       "      <td>-3.329373</td>\n",
       "      <td>10.817842</td>\n",
       "      <td>-12.612897</td>\n",
       "      <td>2.753505</td>\n",
       "      <td>7.109221</td>\n",
       "      <td>-12.640517</td>\n",
       "      <td>19.555060</td>\n",
       "    </tr>\n",
       "    <tr>\n",
       "      <th>100307</th>\n",
       "      <td>-7.836296</td>\n",
       "      <td>-0.375096</td>\n",
       "      <td>6.216552</td>\n",
       "      <td>-10.061766</td>\n",
       "      <td>7.491416</td>\n",
       "      <td>-5.847349</td>\n",
       "      <td>0.339369</td>\n",
       "      <td>6.664896</td>\n",
       "      <td>-1.465991</td>\n",
       "      <td>11.891362</td>\n",
       "    </tr>\n",
       "    <tr>\n",
       "      <th>100408</th>\n",
       "      <td>-0.053095</td>\n",
       "      <td>-2.919907</td>\n",
       "      <td>-3.839787</td>\n",
       "      <td>-6.310361</td>\n",
       "      <td>0.392095</td>\n",
       "      <td>-7.196580</td>\n",
       "      <td>0.992875</td>\n",
       "      <td>5.049739</td>\n",
       "      <td>-10.221111</td>\n",
       "      <td>13.107022</td>\n",
       "    </tr>\n",
       "    <tr>\n",
       "      <th>100610</th>\n",
       "      <td>2.791291</td>\n",
       "      <td>-0.324490</td>\n",
       "      <td>-0.906039</td>\n",
       "      <td>2.048596</td>\n",
       "      <td>6.537894</td>\n",
       "      <td>-4.125042</td>\n",
       "      <td>-8.220337</td>\n",
       "      <td>3.290864</td>\n",
       "      <td>-16.226452</td>\n",
       "      <td>10.390056</td>\n",
       "    </tr>\n",
       "    <tr>\n",
       "      <th>101006</th>\n",
       "      <td>1.712571</td>\n",
       "      <td>-5.799995</td>\n",
       "      <td>4.553103</td>\n",
       "      <td>-0.968306</td>\n",
       "      <td>-1.620303</td>\n",
       "      <td>-2.390229</td>\n",
       "      <td>-2.943960</td>\n",
       "      <td>4.531745</td>\n",
       "      <td>-18.519890</td>\n",
       "      <td>21.366726</td>\n",
       "    </tr>\n",
       "    <tr>\n",
       "      <th>...</th>\n",
       "      <td>...</td>\n",
       "      <td>...</td>\n",
       "      <td>...</td>\n",
       "      <td>...</td>\n",
       "      <td>...</td>\n",
       "      <td>...</td>\n",
       "      <td>...</td>\n",
       "      <td>...</td>\n",
       "      <td>...</td>\n",
       "      <td>...</td>\n",
       "    </tr>\n",
       "    <tr>\n",
       "      <th>992774</th>\n",
       "      <td>-0.735333</td>\n",
       "      <td>-7.053270</td>\n",
       "      <td>-5.918327</td>\n",
       "      <td>-2.410404</td>\n",
       "      <td>4.809953</td>\n",
       "      <td>-5.354415</td>\n",
       "      <td>-9.929148</td>\n",
       "      <td>-2.642166</td>\n",
       "      <td>-18.482327</td>\n",
       "      <td>4.185825</td>\n",
       "    </tr>\n",
       "    <tr>\n",
       "      <th>993675</th>\n",
       "      <td>2.547077</td>\n",
       "      <td>-1.826429</td>\n",
       "      <td>3.218481</td>\n",
       "      <td>-11.950876</td>\n",
       "      <td>2.834171</td>\n",
       "      <td>-4.495783</td>\n",
       "      <td>1.033625</td>\n",
       "      <td>-1.532299</td>\n",
       "      <td>-2.987378</td>\n",
       "      <td>12.455311</td>\n",
       "    </tr>\n",
       "    <tr>\n",
       "      <th>994273</th>\n",
       "      <td>4.440673</td>\n",
       "      <td>-8.892461</td>\n",
       "      <td>6.108932</td>\n",
       "      <td>-5.270953</td>\n",
       "      <td>8.775265</td>\n",
       "      <td>-6.778663</td>\n",
       "      <td>4.176668</td>\n",
       "      <td>0.474849</td>\n",
       "      <td>-17.716135</td>\n",
       "      <td>18.123730</td>\n",
       "    </tr>\n",
       "    <tr>\n",
       "      <th>995174</th>\n",
       "      <td>-10.091703</td>\n",
       "      <td>0.924254</td>\n",
       "      <td>-2.533375</td>\n",
       "      <td>-12.009051</td>\n",
       "      <td>3.711724</td>\n",
       "      <td>-0.956800</td>\n",
       "      <td>-12.224007</td>\n",
       "      <td>-0.981481</td>\n",
       "      <td>-4.939580</td>\n",
       "      <td>4.652989</td>\n",
       "    </tr>\n",
       "    <tr>\n",
       "      <th>996782</th>\n",
       "      <td>-6.321074</td>\n",
       "      <td>2.910525</td>\n",
       "      <td>2.816722</td>\n",
       "      <td>-15.425467</td>\n",
       "      <td>5.257029</td>\n",
       "      <td>6.371322</td>\n",
       "      <td>-11.306469</td>\n",
       "      <td>-6.014850</td>\n",
       "      <td>-4.995408</td>\n",
       "      <td>9.520706</td>\n",
       "    </tr>\n",
       "  </tbody>\n",
       "</table>\n",
       "<p>1106 rows × 10 columns</p>\n",
       "</div>"
      ],
      "text/plain": [
       "             dim1      dim2      dim3       dim4       dim5       dim6  \\\n",
       "ID                                                                       \n",
       "100206   8.394083 -4.838112  6.458366  -3.329373  10.817842 -12.612897   \n",
       "100307  -7.836296 -0.375096  6.216552 -10.061766   7.491416  -5.847349   \n",
       "100408  -0.053095 -2.919907 -3.839787  -6.310361   0.392095  -7.196580   \n",
       "100610   2.791291 -0.324490 -0.906039   2.048596   6.537894  -4.125042   \n",
       "101006   1.712571 -5.799995  4.553103  -0.968306  -1.620303  -2.390229   \n",
       "...           ...       ...       ...        ...        ...        ...   \n",
       "992774  -0.735333 -7.053270 -5.918327  -2.410404   4.809953  -5.354415   \n",
       "993675   2.547077 -1.826429  3.218481 -11.950876   2.834171  -4.495783   \n",
       "994273   4.440673 -8.892461  6.108932  -5.270953   8.775265  -6.778663   \n",
       "995174 -10.091703  0.924254 -2.533375 -12.009051   3.711724  -0.956800   \n",
       "996782  -6.321074  2.910525  2.816722 -15.425467   5.257029   6.371322   \n",
       "\n",
       "             dim7      dim8       dim9      dim10  \n",
       "ID                                                 \n",
       "100206   2.753505  7.109221 -12.640517  19.555060  \n",
       "100307   0.339369  6.664896  -1.465991  11.891362  \n",
       "100408   0.992875  5.049739 -10.221111  13.107022  \n",
       "100610  -8.220337  3.290864 -16.226452  10.390056  \n",
       "101006  -2.943960  4.531745 -18.519890  21.366726  \n",
       "...           ...       ...        ...        ...  \n",
       "992774  -9.929148 -2.642166 -18.482327   4.185825  \n",
       "993675   1.033625 -1.532299  -2.987378  12.455311  \n",
       "994273   4.176668  0.474849 -17.716135  18.123730  \n",
       "995174 -12.224007 -0.981481  -4.939580   4.652989  \n",
       "996782 -11.306469 -6.014850  -4.995408   9.520706  \n",
       "\n",
       "[1106 rows x 10 columns]"
      ]
     },
     "execution_count": 339,
     "metadata": {},
     "output_type": "execute_result"
    }
   ],
   "source": [
    "test_df"
   ]
  },
  {
   "cell_type": "code",
   "execution_count": 340,
   "metadata": {},
   "outputs": [],
   "source": [
    "# print(train_df.head())\n",
    "# print(test_df.head())\n",
    "mean_label = prediction_df.label.mean()\n",
    "def f(x):\n",
    "    return 1 if x>=mean_label else 0\n",
    "prediction_df_continuous = prediction_df.copy()\n",
    "prediction_df.loc[:,\"label\"] = prediction_df.label.apply(f)\n",
    "# prediction_df['label'] = np.random.permutation(prediction_df['label'].values)\n",
    "prediction_df.index = prediction_df.index.astype(np.int64)"
   ]
  },
  {
   "cell_type": "code",
   "execution_count": 341,
   "metadata": {},
   "outputs": [],
   "source": [
    "diff = test_df.index.difference(prediction_df.index)\n",
    "test_df.drop(diff, inplace=True)\n",
    "diff = prediction_df.index.difference(test_df.index)\n",
    "prediction_df.drop(diff, inplace=True)"
   ]
  },
  {
   "cell_type": "code",
   "execution_count": 342,
   "metadata": {},
   "outputs": [],
   "source": [
    "if len(test_df) != len(prediction_df):\n",
    "    raise ValueError(f\"len(test_df) = {len(test_df)} != len(prediction_df) = {len(prediction_df)}\")"
   ]
  },
  {
   "cell_type": "code",
   "execution_count": null,
   "metadata": {},
   "outputs": [],
   "source": []
  },
  {
   "cell_type": "code",
   "execution_count": 343,
   "metadata": {},
   "outputs": [
    {
     "name": "stdout",
     "output_type": "stream",
     "text": [
      "Int64Index([], dtype='int64', name='ID')\n",
      "Int64Index([], dtype='int64', name='Subject')\n"
     ]
    }
   ],
   "source": [
    "\n",
    "print(test_df.index.difference(prediction_df.index))\n",
    "print(prediction_df.index.difference(test_df.index))\n",
    "if len(test_df.index.difference(prediction_df.index)) or len(prediction_df.index.difference(test_df.index)):\n",
    "    raise ValueError(\"Subjects are different in both dataframes\")"
   ]
  },
  {
   "cell_type": "code",
   "execution_count": 344,
   "metadata": {},
   "outputs": [
    {
     "data": {
      "text/plain": [
       "Int64Index([100206, 100307, 100408, 100610, 101006, 101107, 101309, 101410,\n",
       "            101915, 102008,\n",
       "            ...\n",
       "            987983, 989987, 990366, 991267, 992673, 992774, 993675, 994273,\n",
       "            995174, 996782],\n",
       "           dtype='int64', name='Subject', length=1106)"
      ]
     },
     "execution_count": 344,
     "metadata": {},
     "output_type": "execute_result"
    }
   ],
   "source": [
    "prediction_df.index"
   ]
  },
  {
   "cell_type": "markdown",
   "metadata": {},
   "source": [
    "## UMAP"
   ]
  },
  {
   "cell_type": "code",
   "execution_count": 345,
   "metadata": {},
   "outputs": [],
   "source": [
    "def get_model_by_quality(labels_df, q=0.5):\n",
    "    aucs = labels_df.apply(compute_auc, args=[labels_df.label])\n",
    "    aucs = aucs[aucs.index != 'label']\n",
    "    model_auc = aucs.quantile(q=q, interpolation='nearest')\n",
    "    aucs = aucs[aucs == model_auc]\n",
    "    return(aucs.index[0], model_auc)"
   ]
  },
  {
   "cell_type": "code",
   "execution_count": 346,
   "metadata": {},
   "outputs": [],
   "source": [
    "def visualize_umaps(model_path, quantiles=[0,0.5,1], thresholds=[0.25,0.5,0.75], show_wrong_class=False, dataset='cingulate_ACCpatterns_1', verbose=False):\n",
    "    # load the data\n",
    "    data_df = pd.read_csv(model_path+'/' + dataset + \"_embeddings/full_embeddings.csv\", index_col=0)\n",
    "    data_df.sort_index(inplace=True)\n",
    "\n",
    "    prediction_df = pd.read_csv(model_path + '/' + dataset + \"_embeddings/cross_val_predicted_labels.csv\", index_col=0)\n",
    "    prediction_df.sort_index(inplace=True)\n",
    "    \n",
    "    if verbose:\n",
    "        print(\"Data df:\")\n",
    "        print(data_df[:5])\n",
    "        print(\"Prediction df:\")\n",
    "        print(prediction_df[:5])\n",
    "\n",
    "    # apply umap\n",
    "    reducer = umap.UMAP()\n",
    "    visual_embs = reducer.fit_transform(data_df)\n",
    "    if verbose:\n",
    "        print(\"UMAP embeddings\")\n",
    "        print(visual_embs.shape)\n",
    "        print(visual_embs[:5])\n",
    "        \n",
    "    ## plot the graphs\n",
    "    # plot for true labels\n",
    "    plt.figure()\n",
    "    cmap = ['b', 'r']\n",
    "    colors = [cmap[i] for i in prediction_df.label]\n",
    "\n",
    "    plt.scatter(visual_embs[:,0], visual_embs[:,1], c=colors, alpha=0.6)\n",
    "    plt.title(\"True labels\")\n",
    "    plt.show()\n",
    "    \n",
    "    # plot for predicted labels\n",
    "    n_i = len(quantiles)\n",
    "    n_j = len(thresholds)\n",
    "    plt.figure(figsize=(n_i*6.4, n_j*4.8))\n",
    "    for i,quantile in enumerate(quantiles):\n",
    "        svm_model, model_auc = get_model_by_quality(prediction_df, q=quantile)\n",
    "        model_auc = \"{:.2f}\".format(model_auc)\n",
    "        if verbose:\n",
    "            print(f\"Chosen svm model for quantile {quantile} (ie auc={model_auc}):\")\n",
    "        \n",
    "        for j,threshold in enumerate(thresholds):\n",
    "            plt.subplot(n_i, n_j, i*n_j + j + 1)\n",
    "            \n",
    "            mid_svm_pred = (prediction_df[svm_model] >= threshold).astype(int)\n",
    "            if verbose:\n",
    "                print(mid_svm_pred[:5])\n",
    "                print(\"shape:\", mid_svm_pred.shape)\n",
    "\n",
    "            colors = [cmap[i] for i in mid_svm_pred]\n",
    "            if show_wrong_class:\n",
    "                colors = []\n",
    "                # for i in range(prediction_df.shape[0]):\n",
    "                #     if prediction_df[la]\n",
    "\n",
    "            plt.scatter(visual_embs[:,0], visual_embs[:,1], c=colors, alpha=0.6)\n",
    "            if i == n_i-1:\n",
    "                plt.xlabel(f\"Decision threshold = {threshold}\")\n",
    "            if j == 0:\n",
    "                plt.ylabel(f\"Model quality={quantile} (auc={model_auc})\")\n",
    "            # compute accuracy\n",
    "            accuracy = ((prediction_df[svm_model] >= threshold) == prediction_df.label).astype(float).mean()\n",
    "            plt.title(\"Svm labels ; accuracy = {:.2f}\".format(accuracy))\n",
    "    plt.show()\n",
    "\n",
    "    return pd.DataFrame(visual_embs, index=data_df.index.values)"
   ]
  },
  {
   "cell_type": "code",
   "execution_count": 347,
   "metadata": {},
   "outputs": [],
   "source": [
    "def cross_correlation(model_path, dataset='cingulate_ACCpatterns_1'):\n",
    "    # load the data\n",
    "    data_df = pd.read_csv(model_path+'/'+dataset+'_embeddings/full_embeddings.csv', index_col=0)\n",
    "    data_df.sort_index(inplace=True)\n",
    "\n",
    "    prediction_df = pd.read_csv(model_path+'/'+dataset+'_embeddings/cross_val_predicted_labels.csv', index_col=0)\n",
    "    prediction_df.sort_index(inplace=True)\n",
    "\n",
    "    full_df = pd.merge(prediction_df[['label']], data_df, left_index=True, right_index=True)\n",
    "\n",
    "    fig, axs = plt.subplots(1, 4, figsize=(30,10)) \n",
    "\n",
    "    latent_df = full_df.iloc[:,1:]\n",
    "    corr = latent_df.corr()\n",
    "    axs[0] = sns.heatmap(\n",
    "            corr, \n",
    "            vmin=-1, vmax=1, center=0,\n",
    "            cmap=sns.diverging_palette(20, 220, n=200),\n",
    "            square=True,\n",
    "            ax=axs[0]\n",
    "            )\n",
    "\n",
    "    latent_df = full_df[full_df.label == 0].iloc[:,1:]\n",
    "    corr0 = latent_df.corr()\n",
    "    axs[1] = sns.heatmap(\n",
    "            corr0, \n",
    "            vmin=-1, vmax=1, center=0,\n",
    "            cmap=sns.diverging_palette(20, 220, n=200),\n",
    "            square=True,\n",
    "            ax=axs[1]\n",
    "            )\n",
    "\n",
    "    latent_df = full_df[full_df.label == 1].iloc[:,1:]\n",
    "    corr1 = latent_df.corr()\n",
    "    axs[2] = sns.heatmap(\n",
    "            corr1, \n",
    "            vmin=-1, vmax=1, center=0,\n",
    "            cmap=sns.diverging_palette(20, 220, n=200),\n",
    "            square=True,\n",
    "            ax=axs[2]\n",
    "            )\n",
    "\n",
    "    corrdiff = (corr1-corr0)\n",
    "    axs[3] = sns.heatmap(\n",
    "            corrdiff, \n",
    "            vmin=corrdiff.min().min(), vmax=corrdiff.max().max(), center=0,\n",
    "            cmap=sns.diverging_palette(20, 220, n=200),\n",
    "            square=True,\n",
    "            ax=axs[3]\n",
    "            )\n"
   ]
  },
  {
   "cell_type": "code",
   "execution_count": 348,
   "metadata": {},
   "outputs": [],
   "source": [
    "def visualize_each_variable(model_path, display: str, display_err: bool, normalize=True, verbose=False, dataset='cingulate_ACCpatterns_1'):\n",
    "    '''\n",
    "    display: str -> takes the values '0', '1', 'all'\n",
    "    '''\n",
    "    # load the data\n",
    "    data_df = pd.read_csv(model_path+'/'+dataset+'_embeddings/full_embeddings.csv', index_col=0)\n",
    "    data_df.sort_index(inplace=True)\n",
    "\n",
    "    prediction_df = pd.read_csv(model_path+'/'+dataset+'_embeddings/cross_val_predicted_labels.csv', index_col=0)\n",
    "    prediction_df.sort_index(inplace=True)\n",
    "\n",
    "    full_df = pd.merge(prediction_df[['label']], data_df, left_index=True, right_index=True)\n",
    "\n",
    "    # Chooses to display only labels '0', '1' or all\n",
    "    if display == '0':\n",
    "        full_df = full_df[full_df.label == 0]\n",
    "    elif display == '1':\n",
    "        full_df = full_df[full_df.label == 1]\n",
    "    \n",
    "    # Some prints if verbose true\n",
    "    if verbose:\n",
    "        print(\"Prediction df:\")\n",
    "        print(prediction_df.iloc[:2, :2])\n",
    "        print(len(prediction_df))\n",
    "        print(prediction_df[['label']].shape)\n",
    "        print(\"Data df:\")\n",
    "        print(len(data_df))\n",
    "        print(data_df.iloc[:2, :2])\n",
    "        print(data_df.shape)\n",
    "        print(\"Full df:\")\n",
    "        print(len(full_df))\n",
    "        print(full_df.iloc[:2, :2])\n",
    "        print(full_df.shape)\n",
    "\n",
    "    N, D = full_df.shape\n",
    "    D = D-1 # There is the label column added\n",
    "\n",
    "    # Initializes plot\n",
    "    plt.figure(figsize=(16,12))\n",
    "\n",
    "    # Builds x coordinates for scatter plot\n",
    "    x = np.reshape(np.arange(D), (1,D))\n",
    "    x = np.repeat(x, N, axis=0)\n",
    "\n",
    "    # Replaces labels 0, 1 with colors\n",
    "    label_df = full_df[['label']].copy()\n",
    "    label_df['label'] = label_df['label'].astype(\"str\")\n",
    "    label_df['label'] = label_df['label'].replace('0', 'b')\n",
    "    label_df['label'] = label_df['label'].replace('1', 'r')\n",
    "\n",
    "    # Builds colors to match pyplot requirements\n",
    "    colors = label_df['label'].values\n",
    "    colors = np.reshape(colors, (1,N))\n",
    "    colors = np.repeat(colors, D, axis=0)\n",
    "    colors = colors.T\n",
    "    print('x, full_df and colors shapes: ', x.shape, full_df.shape, colors.shape)\n",
    "    colors = np.reshape(colors, (N*D,))\n",
    "\n",
    "    # latent (doesn't take the first column, which is the label)\n",
    "    latent_df = full_df.iloc[:,1:]\n",
    "    mu = latent_df.mean()\n",
    "    std = latent_df.std()\n",
    "    if normalize == True:\n",
    "        latent_df = (latent_df-mu)/std\n",
    "\n",
    "    # Actual plotting of each point\n",
    "    plt.scatter(x, latent_df, c=colors, marker='.')\n",
    "\n",
    "    # Computes averages\n",
    "    if display == \"all\":\n",
    "        # Computes average for label=0\n",
    "        x = np.arange(D)\n",
    "        label0_df = full_df[full_df['label'] == 0].iloc[:,1:]\n",
    "        if normalize == True:   \n",
    "            label0_df = (label0_df-mu)/std\n",
    "        mean_df = label0_df.mean()\n",
    "        e_df = label0_df.std()\n",
    "        print(x.shape, mean_df.shape, e_df.shape)\n",
    "        if display_err:\n",
    "            plt.errorbar(x, mean_df, yerr=e_df, color='blue', linestyle='None', elinewidth=4, marker='s', markersize=15, markerfacecolor='None', markeredgewidth=3, solid_capstyle='projecting', capsize=10)\n",
    "        else:\n",
    "            plt.plot(x, mean_df, color='blue', linestyle='None', marker='s', markersize=15, markerfacecolor='None', markeredgewidth=3)\n",
    "\n",
    "        # Computes average for label=1\n",
    "        label1_df = full_df[full_df['label'] == 1].iloc[:,1:]\n",
    "        if normalize == True:   \n",
    "            label1_df = (label1_df-mu)/std\n",
    "        mean_df = label1_df.mean()\n",
    "        e_df = label1_df.std()\n",
    "        if display_err:\n",
    "            plt.errorbar(x, mean_df, yerr=e_df, color='red', linestyle='None', elinewidth=4, marker='s', markersize=15, markerfacecolor='None', markeredgewidth=3,solid_capstyle='projecting', capsize=10)\n",
    "        else:\n",
    "            plt.plot(x, mean_df, color='red', linestyle='None', marker='s', markersize=15, markerfacecolor='None', markeredgewidth=3)\n",
    "\n",
    "    # Shows the computed plot\n",
    "    plt.show()\n",
    "\n",
    "    return "
   ]
  },
  {
   "cell_type": "code",
   "execution_count": 349,
   "metadata": {},
   "outputs": [],
   "source": [
    "def full_visualization(model_path, dataset='cingulate_ACCpatterns_1'):\n",
    "    plt.figure(figsize=(12.8, 9.6))\n",
    "    fig = plt.imshow(mpimg.imread(model_path+\"/\"+dataset+\"_embeddings/cross_val_ROC_curves.png\"))\n",
    "    plt.axis('off')\n",
    "    plt.show()\n",
    "    return visualize_umaps(model_path, dataset)"
   ]
  },
  {
   "cell_type": "code",
   "execution_count": 350,
   "metadata": {},
   "outputs": [],
   "source": [
    "# test model\n",
    "# visual_embs = full_visualization(test_model)"
   ]
  },
  {
   "cell_type": "markdown",
   "metadata": {},
   "source": [
    "# Visualize each variable of the latent"
   ]
  },
  {
   "cell_type": "code",
   "execution_count": 351,
   "metadata": {},
   "outputs": [
    {
     "name": "stdout",
     "output_type": "stream",
     "text": [
      "x, full_df and colors shapes:  (171, 10) (171, 11) (171, 10)\n",
      "(10,) (10,) (10,)\n"
     ]
    },
    {
     "data": {
      "image/png": "[encoded data removed]",
      "text/plain": [
       "<Figure size 1152x864 with 1 Axes>"
      ]
     },
     "metadata": {
      "needs_background": "light"
     },
     "output_type": "display_data"
    }
   ],
   "source": [
    "visualize_each_variable(test_model, display='all', display_err=False, normalize=False, verbose=False)"
   ]
  },
  {
   "cell_type": "code",
   "execution_count": 352,
   "metadata": {},
   "outputs": [],
   "source": [
    "def do_pca(model_path, dataset=dataset_test):\n",
    "    # load the data\n",
    "    data_df = pd.read_csv(model_path+'/'+dataset+'_embeddings/full_embeddings.csv', index_col=0)\n",
    "    data_df.sort_index(inplace=True)\n",
    "\n",
    "    prediction_df = pd.read_csv(model_path+'/'+dataset+'_embeddings/cross_val_predicted_labels.csv', index_col=0)\n",
    "    prediction_df.sort_index(inplace=True)\n",
    "\n",
    "    full_df = pd.merge(prediction_df[['label']], data_df, left_index=True, right_index=True)\n",
    "\n",
    "    # Makes PCA over all dataframe\n",
    "    latent_df = full_df.iloc[:,1:]\n",
    "    latent_df_normalized = (latent_df - latent_df.mean()) / latent_df.std()\n",
    "    n_components = latent_df.shape[1]\n",
    "    pca = PCA(n_components=n_components)\n",
    "    transformed = pca.fit_transform(latent_df_normalized)\n",
    "\n",
    "    # Transforms over label0 dataframe\n",
    "    label0_df = full_df[full_df['label'] == 0].iloc[:,1:]\n",
    "    label0_df = (label0_df - latent_df.mean()) / latent_df.std()\n",
    "    transformed0 = pca.transform(label0_df)\n",
    "    mean0 = np.mean(transformed0, axis=0)\n",
    "    print(mean0.shape)\n",
    "\n",
    "    # Transforms over label1 dataframe\n",
    "    label1_df = full_df[full_df['label'] == 1].iloc[:,1:]\n",
    "    label1_df = (label1_df - latent_df.mean()) / latent_df.std()\n",
    "    transformed1 = pca.transform(label1_df)\n",
    "    mean1 = np.mean(transformed1, axis=0)\n",
    "    print(mean1.shape)\n",
    "\n",
    "    idx = np.arange(n_components)+1\n",
    "    explained_variance = pca.explained_variance_ratio_\n",
    "    cum_explained_variance = np.cumsum(explained_variance)\n",
    "    df_explained_variance = pd.DataFrame([explained_variance, cum_explained_variance], \n",
    "                                     index=['explained variance', 'cumulative'], \n",
    "                                     columns=idx).T\n",
    "\n",
    "    limit_df = n_components\n",
    "\n",
    "    #make scree plot\n",
    "    plt.rcParams['axes.facecolor'] = 'white'\n",
    "    plt.rcParams['axes.edgecolor'] = 'black'\n",
    "    fig, axs = plt.subplots(1, 2, figsize=(30,10)) \n",
    "    [t.set_color('white') for t in axs[0].xaxis.get_ticklabels()]\n",
    "    [t.set_color('white') for t in axs[0].yaxis.get_ticklabels()]\n",
    "    axs[0].set_title('Explained variance across principal components', fontsize=14)\n",
    "    axs[0].set_xlabel('Principal component', fontsize=12)\n",
    "    axs[0].set_ylabel('Explained variance', fontsize=12)\n",
    "    sns.barplot(ax=axs[0], x=idx[:limit_df], y='explained variance', data=df_explained_variance, palette='summer')\n",
    "    axs[0] = axs[0].twinx()\n",
    "    axs[0].grid(False)\n",
    "    axs[0].set_ylabel('Cumulative', fontsize=14)\n",
    "    sns.lineplot(ax=axs[0], x=idx[:limit_df]-1, y='cumulative', data=df_explained_variance, color='#fc8d59')\n",
    "\n",
    "    N, D = transformed.shape\n",
    "    # Builds x coordinates for scatter plot\n",
    "    x = np.reshape(np.arange(D), (1,D))\n",
    "    x = np.repeat(x, transformed0.shape[0], axis=0)\n",
    "    axs[1].scatter(x, transformed0, c='blue', marker='.')\n",
    "    x = np.reshape(np.arange(D), (1,D))\n",
    "    x = np.repeat(x, transformed1.shape[0], axis=0)\n",
    "    axs[1].scatter(x, transformed1, c='red', marker='.')\n",
    "    x = np.arange(D)\n",
    "    axs[1].plot(x, mean0, color='blue', linestyle='None', marker='s', markersize=15, markerfacecolor='None', markeredgewidth=3)\n",
    "    axs[1].plot(x, mean1, color='red', linestyle='None', marker='s', markersize=15, markerfacecolor='None', markeredgewidth=3)\n",
    "\n",
    "    plt.show()\n"
   ]
  },
  {
   "cell_type": "markdown",
   "metadata": {},
   "source": [
    "# Functions for dictionary learning"
   ]
  },
  {
   "cell_type": "code",
   "execution_count": 353,
   "metadata": {},
   "outputs": [],
   "source": [
    "def do_dictionary_learning(data_df, n_components=10, transform_n_nonzero_coefs=1):\n",
    "    data_df_local = data_df.copy()\n",
    "    full_df_local = pd.DataFrame()\n",
    "    # Makes dictionary learning over all embeddings\n",
    "    latent_df = data_df_local.iloc[:,:]\n",
    "    latent_df_normalized = (latent_df - latent_df.mean()) / latent_df.std()\n",
    "    n_components = n_components\n",
    "    dict_learner = DictionaryLearning(n_components=n_components,\n",
    "                                      transform_n_nonzero_coefs=transform_n_nonzero_coefs,\n",
    "                                      alpha=1)\n",
    "    transformed = dict_learner.fit_transform(latent_df_normalized)\n",
    "\n",
    "    # Adds transform to full_df\n",
    "    columns = ['trans_'+str(x) for x in range(n_components)]\n",
    "    transformed_df_local = pd.DataFrame(transformed, columns=columns)\n",
    "    transformed_df_local.index = data_df_local.index\n",
    "    full_df_local = pd.merge(data_df_local, transformed_df_local, left_index=True, right_index=True)\n",
    "\n",
    "    return full_df_local, transformed_df_local, dict_learner"
   ]
  },
  {
   "cell_type": "code",
   "execution_count": 354,
   "metadata": {},
   "outputs": [],
   "source": [
    "def test_dictionary_learning(dict_learner, test_df, n_components):\n",
    "    test_df_local = test_df.copy()\n",
    "    full_df_local = pd.DataFrame()\n",
    "    latent_df = test_df_local.iloc[:,:]\n",
    "    latent_df_normalized = (latent_df - latent_df.mean()) / latent_df.std()\n",
    "    transformed = dict_learner.transform(latent_df_normalized)\n",
    "\n",
    "    # Adds transform to full_df\n",
    "    columns = ['trans_'+str(x) for x in range(n_components)]\n",
    "    transformed_df_local = pd.DataFrame(transformed, columns=columns)\n",
    "    transformed_df_local.index = test_df_local.index\n",
    "    full_df_local = pd.merge(test_df_local, transformed_df_local, left_index=True, right_index=True)\n",
    "\n",
    "    return full_df_local, transformed_df_local\n"
   ]
  },
  {
   "cell_type": "code",
   "execution_count": 355,
   "metadata": {},
   "outputs": [],
   "source": [
    "def plot_patterns(prediction_df, transformed_df, random=False):\n",
    "    # Makes local copy\n",
    "    prediction_df_local = prediction_df.copy()\n",
    "    transformed_df_local = transformed_df.copy()\n",
    "\n",
    "    if random:\n",
    "        prediction_df_local['label'] = np.random.permutation(prediction_df_local['label'].values)\n",
    "    full_df_local = pd.merge(prediction_df_local[['label']], transformed_df_local, left_index=True, right_index=True)\n",
    "\n",
    "    # Transforms over label0 dataframe\n",
    "    label0_df = full_df_local[full_df_local['label'] == 0].iloc[:,1:]\n",
    "    transformed0 = label0_df.values\n",
    "\n",
    "    # Transforms over label1 dataframe\n",
    "    label1_df = full_df_local[full_df_local['label'] == 1].iloc[:,1:]\n",
    "    transformed1 = label1_df.values\n",
    "\n",
    "    fig, axs = plt.subplots(1, 1, figsize=(10,7)) \n",
    "\n",
    "    _, D = transformed0.shape\n",
    "\n",
    "    x = np.reshape(np.arange(D), (1,D))\n",
    "    x = np.repeat(x, transformed0.shape[0], axis=0)\n",
    "    axs.scatter(x, transformed0, c='blue', marker='.')\n",
    "    x = np.reshape(np.arange(D), (1,D))\n",
    "    x = np.repeat(x, transformed1.shape[0], axis=0)\n",
    "    axs.scatter(x, transformed1, c='red', marker='.')\n",
    "\n",
    "    x = np.arange(D)\n",
    "\n",
    "    masked0 = np.ma.masked_equal(transformed0, 0.)\n",
    "    mean0 = masked0.mean(axis=0)\n",
    "    axs.plot(x, mean0, color='blue', linestyle='None', marker='s', markersize=15, markerfacecolor='None', markeredgewidth=3)\n",
    "\n",
    "    masked1 = np.ma.masked_equal(transformed1, 0.)\n",
    "    mean1 = masked1.mean(axis=0)\n",
    "    axs.plot(x, mean1, color='red', linestyle='None', marker='s', markersize=15, markerfacecolor='None', markeredgewidth=3)\n",
    "\n",
    "    plt.show()"
   ]
  },
  {
   "cell_type": "code",
   "execution_count": 356,
   "metadata": {},
   "outputs": [],
   "source": [
    "def return_predictions(prediction_df, transformed_df, random=False):\n",
    "    # Initializes\n",
    "    prediction_df_local = prediction_df.copy()\n",
    "    transformed_df_local = transformed_df.copy()\n",
    "    n_patterns = len(transformed_df_local.columns)\n",
    "    res = np.zeros(2*n_patterns)\n",
    "\n",
    "    # Makes random permutation to produce random label\n",
    "    if random:\n",
    "        prediction_df_local['label'] = np.random.permutation(prediction_df_local['label'].values)\n",
    "\n",
    "    full_df_local = pd.merge(prediction_df_local[['label']], transformed_df_local, left_index=True, right_index=True)\n",
    "\n",
    "    # Makes prediction for each pattern\n",
    "    for i, c in enumerate(transformed_df_local.columns):\n",
    "        df = full_df_local[full_df_local[c] > 0.]\n",
    "        res[2*i] = df['label'].mean()\n",
    "        df = full_df_local[full_df_local[c] < 0.]\n",
    "        res[2*i+1] = df['label'].mean()\n",
    "\n",
    "    return res\n",
    "\n",
    "def plot_predictions(prediction_df, transformed_df):\n",
    "    prediction_df_local = prediction_df.copy()\n",
    "    transformed_df_local = transformed_df.copy()\n",
    "    n_patterns = len(transformed_df_local.columns)\n",
    "    x = np.arange(2*n_patterns)\n",
    "    res_random = np.zeros((20, 2*n_patterns))\n",
    "\n",
    "    # Loads labels\n",
    "    mean_label = prediction_df_local['label'].mean()\n",
    "    print(f\"Mean label = {mean_label}\")\n",
    "\n",
    "    # Computes pattern prediction\n",
    "    res = return_predictions(prediction_df_local, transformed_df_local)\n",
    "    for i in range(20):\n",
    "        res_random[i,:] = return_predictions(prediction_df_local, transformed_df_local, True)\n",
    "    \n",
    "    for i in range(20):\n",
    "        plt.scatter(x, res_random[i], c='grey')\n",
    "\n",
    "    plt.scatter(x, res, c='red')\n",
    "    plt.plot(mean_label*np.ones(2*n_patterns))\n",
    "    plt.ylim((0,1))\n",
    "    return res   "
   ]
  },
  {
   "cell_type": "code",
   "execution_count": 357,
   "metadata": {},
   "outputs": [],
   "source": [
    "def return_sum(prediction_df, transformed_df, random=False):\n",
    "    # Initializes\n",
    "    prediction_df_local = prediction_df.copy()\n",
    "    transformed_df_local = transformed_df.copy()\n",
    "    n_patterns = len(transformed_df_local.columns)\n",
    "    res_sum = np.zeros(2*n_patterns)\n",
    "    res_len = np.zeros(2*n_patterns)\n",
    "\n",
    "    full_df = pd.merge(prediction_df_local[['label']], transformed_df_local, left_index=True, right_index=True)\n",
    "\n",
    "    # Makes prediction for each pattern\n",
    "    for i, c in enumerate(transformed_df_local.columns):\n",
    "        df = full_df[full_df[c] > 0.]\n",
    "        res_sum[2*i] = df['label'].sum()\n",
    "        res_len[2*i] = len(df)\n",
    "        df = full_df[full_df[c] < 0.]\n",
    "        res_sum[2*i+1] = df['label'].sum()\n",
    "        res_len[2*i+1] = len(df)\n",
    "\n",
    "    return res_sum, res_len\n",
    "\n",
    "\n",
    "def do_t_test(prediction_df, transformed_df, show=True):\n",
    "    prediction_df_local = prediction_df.copy()\n",
    "    transformed_df_local = transformed_df.copy()\n",
    "    n_patterns = len(transformed_df_local.columns)\n",
    "    x = np.arange(2*n_patterns)\n",
    "    res_p = np.zeros(2*n_patterns)\n",
    "\n",
    "    # Mean labels\n",
    "    mean_label = prediction_df_local['label'].mean()\n",
    "    # print(f\"Mean label = {mean_label}\")\n",
    "\n",
    "    # Computes pattern prediction\n",
    "    res_sum, res_len = return_sum(prediction_df_local, transformed_df_local)\n",
    "    \n",
    "    for i in range(2*n_patterns):\n",
    "        res_p[i] = binom_test(res_sum[i], n=res_len[i], p=mean_label, alternative='two-sided')\n",
    "\n",
    "    if show:\n",
    "        plt.scatter(x, -np.log10(res_p))\n",
    "        plt.plot(-np.log10(0.005)*np.ones(2*n_patterns))\n",
    "\n",
    "    return res_p   "
   ]
  },
  {
   "cell_type": "code",
   "execution_count": 358,
   "metadata": {},
   "outputs": [],
   "source": [
    "def give_number_relevant_subjects(prediction_df, transformed_df, res_p, show=True):\n",
    "    prediction_df_local = prediction_df.copy()\n",
    "    transformed_df_local = transformed_df.copy()\n",
    "\n",
    "    df = pd.merge(prediction_df_local[['label']], transformed_df_local, left_index=True, right_index=True)\n",
    "    nb_subjects = np.zeros(len(res_p))\n",
    "    nb_subjects_relevant = 0\n",
    "    max_auc_score = 0.0\n",
    "    auc_score = np.zeros(len(res_p))\n",
    "    # print(len(df.columns))\n",
    "    for i in range(1,len(df.columns)):\n",
    "        # print(df.iloc[:,[i]].columns)\n",
    "        d = df[df.iloc[:,i] > 0.]\n",
    "        d = d.copy()\n",
    "        if d.label.sum() < (len(d.label)/2.):\n",
    "            d.iloc[:,i] = -d.iloc[:,i]\n",
    "        d.iloc[:,i] = 1. / (1. + np.exp(d.iloc[:,i]))\n",
    "        # print(np.unique(d.label.values).shape)\n",
    "        nb_subjects[2*i-2] = len(d)\n",
    "        if len(np.unique(d.label.values)) == 1:\n",
    "            d.iloc[0,0] = 1-d.iloc[0,0]\n",
    "            # auc_score[2*i-2] = 1.0\n",
    "            # print(i, len(d), res_p[2*i-2], 1.0)\n",
    "        # else:\n",
    "        #     auc_score[2*i-2] = roc_auc_score(d.label, d.iloc[:,i])\n",
    "            # print(i, len(d), res_p[2*i-2], roc_auc_score(d.label, d.iloc[:,i]))\n",
    "        auc_score[2*i-2] = roc_auc_score(d.label, d.iloc[:,i])\n",
    "        # auc_score[2*i-2] = roc_auc_score(d.label, d.iloc[:,i])\n",
    "        if res_p[2*i-2] < 0.01:\n",
    "            nb_subjects_relevant += nb_subjects[2*i-2]\n",
    "            max_auc_score = max(auc_score[2*i-2], max_auc_score)\n",
    "\n",
    "        d = df[df.iloc[:,i] < 0.]\n",
    "        d = d.copy()\n",
    "        if d.label.sum() >= (len(d.label)/2.):\n",
    "            d.iloc[:,i] = -d.iloc[:,i]\n",
    "        d.iloc[:,i] = 1. / (1. + np.exp(d.iloc[:,i]))\n",
    "        nb_subjects[2*i-1] = len(d)\n",
    "        if len(np.unique(d.label.values)) == 1:\n",
    "            d.iloc[0,0] = 1-d.iloc[0,0]\n",
    "        auc_score[2*i-1] = roc_auc_score(d.label, d.iloc[:,i])\n",
    "        if res_p[2*i-1] < 0.01:\n",
    "            nb_subjects_relevant += nb_subjects[2*i-1]\n",
    "            max_auc_score = max(auc_score[2*i-1], max_auc_score)\n",
    "            \n",
    "    # print(d)\n",
    "    if show:\n",
    "        x = np.arange(len(res_p))\n",
    "        plt.scatter(x, auc_score)\n",
    "        plt.ylabel('auc_score')\n",
    "        # plt.scatter(res_p, auc_score)\n",
    "        # plt.xlabel('p value')\n",
    "        # plt.ylabel('auc_score')\n",
    "    return nb_subjects_relevant, max_auc_score"
   ]
  },
  {
   "cell_type": "code",
   "execution_count": 359,
   "metadata": {},
   "outputs": [],
   "source": [
    "def give_number_relevant_subjects_accuracy(prediction_df, transformed_df, res_p, show=True):\n",
    "    prediction_df_local = prediction_df.copy()\n",
    "    transformed_df_local = transformed_df.copy()\n",
    "\n",
    "    df = pd.merge(prediction_df_local[['label']], transformed_df_local, left_index=True, right_index=True)\n",
    "    nb_subjects = np.zeros(len(res_p))\n",
    "    nb_subjects_relevant = 0\n",
    "    exact_nb_subjects_relevant = 0\n",
    "    max_auc_score = 0.0\n",
    "    auc_score = np.zeros(len(res_p))\n",
    "    # print(len(df.columns))\n",
    "    for i in range(1,len(df.columns)):\n",
    "        # print(df.iloc[:,[i]].columns)\n",
    "        d = df[df.iloc[:,i] > 0.]\n",
    "        d = d.copy()\n",
    "        if 2.*d.label.sum() < (len(d.label)):\n",
    "            d.iloc[:,i] = 0\n",
    "        else:\n",
    "            d.iloc[:,i] = 1\n",
    "        # print(np.unique(d.label.values).shape)\n",
    "        nb_subjects[2*i-2] = len(d)\n",
    "        auc_score[2*i-2] = accuracy_score(d.label, d.iloc[:,i])\n",
    "        if res_p[2*i-2] < 0.05:\n",
    "            nb_subjects_relevant += nb_subjects[2*i-2]\n",
    "            max_auc_score = max(auc_score[2*i-2], max_auc_score)\n",
    "            if 2.*d.label.sum() < (len(d.label)):\n",
    "                exact_nb_subjects_relevant += len(d.label)-d.label.sum()\n",
    "            else:\n",
    "                exact_nb_subjects_relevant += d.label.sum()\n",
    "        d = df[df.iloc[:,i] < 0.]\n",
    "        d = d.copy()\n",
    "        if 2.*d.label.sum() < (len(d.label)):\n",
    "            d.iloc[:,i] = 0\n",
    "        else:\n",
    "            d.iloc[:,i] = 1\n",
    "        nb_subjects[2*i-1] = len(d)\n",
    "        auc_score[2*i-1] = accuracy_score(d.label, d.iloc[:,i])\n",
    "        if res_p[2*i-1] < 0.05:\n",
    "            nb_subjects_relevant += nb_subjects[2*i-1]\n",
    "            max_auc_score = max(auc_score[2*i-1], max_auc_score)\n",
    "            if 2.*d.label.sum() < (len(d.label)):\n",
    "                exact_nb_subjects_relevant += len(d.label)-d.label.sum()\n",
    "            else:\n",
    "                exact_nb_subjects_relevant += d.label.sum()\n",
    "            \n",
    "    # print(d)\n",
    "    if show:\n",
    "        x = np.arange(len(res_p))\n",
    "        plt.scatter(x, auc_score)\n",
    "        plt.ylabel('accuracy_score')\n",
    "        # plt.scatter(res_p, auc_score)\n",
    "        # plt.xlabel('p value')\n",
    "        # plt.ylabel('auc_score')\n",
    "    return nb_subjects_relevant, max_auc_score, exact_nb_subjects_relevant"
   ]
  },
  {
   "cell_type": "markdown",
   "metadata": {},
   "source": [
    "# Applying dictionary learning"
   ]
  },
  {
   "cell_type": "code",
   "execution_count": 360,
   "metadata": {},
   "outputs": [],
   "source": [
    "full_train_df, transformed_train_df, dict_learner = do_dictionary_learning(data_df=train_df, n_components=5, transform_n_nonzero_coefs=1)"
   ]
  },
  {
   "cell_type": "code",
   "execution_count": 361,
   "metadata": {},
   "outputs": [],
   "source": [
    "full_df, transformed_df = test_dictionary_learning(dict_learner=dict_learner, test_df=test_df, n_components=5)"
   ]
  },
  {
   "cell_type": "code",
   "execution_count": 362,
   "metadata": {},
   "outputs": [
    {
     "name": "stdout",
     "output_type": "stream",
     "text": [
      "            dim1      dim2      dim3       dim4       dim5       dim6  \\\n",
      "ID                                                                      \n",
      "100206  8.394083 -4.838112  6.458366  -3.329373  10.817842 -12.612897   \n",
      "100307 -7.836296 -0.375096  6.216552 -10.061766   7.491416  -5.847349   \n",
      "100408 -0.053095 -2.919907 -3.839787  -6.310361   0.392095  -7.196580   \n",
      "100610  2.791291 -0.324490 -0.906039   2.048596   6.537894  -4.125042   \n",
      "101006  1.712571 -5.799995  4.553103  -0.968306  -1.620303  -2.390229   \n",
      "\n",
      "            dim7      dim8       dim9      dim10   trans_0   trans_1  trans_2  \\\n",
      "ID                                                                              \n",
      "100206  2.753505  7.109221 -12.640517  19.555060 -3.137432  0.000000      0.0   \n",
      "100307  0.339369  6.664896  -1.465991  11.891362  0.000000  2.117693      0.0   \n",
      "100408  0.992875  5.049739 -10.221111  13.107022  0.000000  0.000000      0.0   \n",
      "100610 -8.220337  3.290864 -16.226452  10.390056  0.000000 -1.855458      0.0   \n",
      "101006 -2.943960  4.531745 -18.519890  21.366726 -2.270002  0.000000      0.0   \n",
      "\n",
      "        trans_3   trans_4  \n",
      "ID                         \n",
      "100206      0.0  0.000000  \n",
      "100307      0.0  0.000000  \n",
      "100408      0.0  0.825204  \n",
      "100610      0.0  0.000000  \n",
      "101006      0.0  0.000000  \n"
     ]
    }
   ],
   "source": [
    "print(full_df.head())"
   ]
  },
  {
   "cell_type": "code",
   "execution_count": 363,
   "metadata": {},
   "outputs": [],
   "source": [
    "# prediction_df = prediction_df[np.square(transformed_df.trans_0)\\\n",
    "#                              +np.square(transformed_df.trans_1)\\\n",
    "#                             +np.square(transformed_df.trans_2)\\\n",
    "#                             +np.square(transformed_df.trans_3)\\\n",
    "#                             +np.square(transformed_df.trans_4) >2.0]"
   ]
  },
  {
   "cell_type": "code",
   "execution_count": 364,
   "metadata": {},
   "outputs": [],
   "source": [
    "# prediction_df_continuous = prediction_df_continuous[np.square(transformed_df.trans_0)\\\n",
    "#                              +np.square(transformed_df.trans_1)\\\n",
    "#                             +np.square(transformed_df.trans_2)\\\n",
    "#                             +np.square(transformed_df.trans_3)\\\n",
    "#                             +np.square(transformed_df.trans_4) >2.0]"
   ]
  },
  {
   "cell_type": "code",
   "execution_count": 365,
   "metadata": {},
   "outputs": [],
   "source": [
    "# transformed_df = transformed_df[np.square(transformed_df.trans_0)\\\n",
    "#                 +np.square(transformed_df.trans_1)\\\n",
    "#                 +np.square(transformed_df.trans_2)\\\n",
    "#                 +np.square(transformed_df.trans_3)\\\n",
    "#                 +np.square(transformed_df.trans_4) >2.0]"
   ]
  },
  {
   "cell_type": "code",
   "execution_count": 366,
   "metadata": {},
   "outputs": [
    {
     "data": {
      "image/png": "[encoded data removed]",
      "text/plain": [
       "<Figure size 720x504 with 1 Axes>"
      ]
     },
     "metadata": {
      "needs_background": "light"
     },
     "output_type": "display_data"
    }
   ],
   "source": [
    "plot_patterns(prediction_df, transformed_df, random=False)"
   ]
  },
  {
   "cell_type": "code",
   "execution_count": 367,
   "metadata": {},
   "outputs": [
    {
     "data": {
      "text/html": [
       "<div>\n",
       "<style scoped>\n",
       "    .dataframe tbody tr th:only-of-type {\n",
       "        vertical-align: middle;\n",
       "    }\n",
       "\n",
       "    .dataframe tbody tr th {\n",
       "        vertical-align: top;\n",
       "    }\n",
       "\n",
       "    .dataframe thead th {\n",
       "        text-align: right;\n",
       "    }\n",
       "</style>\n",
       "<table border=\"1\" class=\"dataframe\">\n",
       "  <thead>\n",
       "    <tr style=\"text-align: right;\">\n",
       "      <th></th>\n",
       "      <th>dim1</th>\n",
       "      <th>dim2</th>\n",
       "      <th>dim3</th>\n",
       "      <th>dim4</th>\n",
       "      <th>dim5</th>\n",
       "      <th>dim6</th>\n",
       "      <th>dim7</th>\n",
       "      <th>dim8</th>\n",
       "      <th>dim9</th>\n",
       "      <th>dim10</th>\n",
       "    </tr>\n",
       "    <tr>\n",
       "      <th>ID</th>\n",
       "      <th></th>\n",
       "      <th></th>\n",
       "      <th></th>\n",
       "      <th></th>\n",
       "      <th></th>\n",
       "      <th></th>\n",
       "      <th></th>\n",
       "      <th></th>\n",
       "      <th></th>\n",
       "      <th></th>\n",
       "    </tr>\n",
       "  </thead>\n",
       "  <tbody>\n",
       "    <tr>\n",
       "      <th>100206</th>\n",
       "      <td>8.394083</td>\n",
       "      <td>-4.838112</td>\n",
       "      <td>6.458366</td>\n",
       "      <td>-3.329373</td>\n",
       "      <td>10.817842</td>\n",
       "      <td>-12.612897</td>\n",
       "      <td>2.753505</td>\n",
       "      <td>7.109221</td>\n",
       "      <td>-12.640517</td>\n",
       "      <td>19.555060</td>\n",
       "    </tr>\n",
       "    <tr>\n",
       "      <th>100307</th>\n",
       "      <td>-7.836296</td>\n",
       "      <td>-0.375096</td>\n",
       "      <td>6.216552</td>\n",
       "      <td>-10.061766</td>\n",
       "      <td>7.491416</td>\n",
       "      <td>-5.847349</td>\n",
       "      <td>0.339369</td>\n",
       "      <td>6.664896</td>\n",
       "      <td>-1.465991</td>\n",
       "      <td>11.891362</td>\n",
       "    </tr>\n",
       "    <tr>\n",
       "      <th>100408</th>\n",
       "      <td>-0.053095</td>\n",
       "      <td>-2.919907</td>\n",
       "      <td>-3.839787</td>\n",
       "      <td>-6.310361</td>\n",
       "      <td>0.392095</td>\n",
       "      <td>-7.196580</td>\n",
       "      <td>0.992875</td>\n",
       "      <td>5.049739</td>\n",
       "      <td>-10.221111</td>\n",
       "      <td>13.107022</td>\n",
       "    </tr>\n",
       "    <tr>\n",
       "      <th>100610</th>\n",
       "      <td>2.791291</td>\n",
       "      <td>-0.324490</td>\n",
       "      <td>-0.906039</td>\n",
       "      <td>2.048596</td>\n",
       "      <td>6.537894</td>\n",
       "      <td>-4.125042</td>\n",
       "      <td>-8.220337</td>\n",
       "      <td>3.290864</td>\n",
       "      <td>-16.226452</td>\n",
       "      <td>10.390056</td>\n",
       "    </tr>\n",
       "    <tr>\n",
       "      <th>101006</th>\n",
       "      <td>1.712571</td>\n",
       "      <td>-5.799995</td>\n",
       "      <td>4.553103</td>\n",
       "      <td>-0.968306</td>\n",
       "      <td>-1.620303</td>\n",
       "      <td>-2.390229</td>\n",
       "      <td>-2.943960</td>\n",
       "      <td>4.531745</td>\n",
       "      <td>-18.519890</td>\n",
       "      <td>21.366726</td>\n",
       "    </tr>\n",
       "  </tbody>\n",
       "</table>\n",
       "</div>"
      ],
      "text/plain": [
       "            dim1      dim2      dim3       dim4       dim5       dim6  \\\n",
       "ID                                                                      \n",
       "100206  8.394083 -4.838112  6.458366  -3.329373  10.817842 -12.612897   \n",
       "100307 -7.836296 -0.375096  6.216552 -10.061766   7.491416  -5.847349   \n",
       "100408 -0.053095 -2.919907 -3.839787  -6.310361   0.392095  -7.196580   \n",
       "100610  2.791291 -0.324490 -0.906039   2.048596   6.537894  -4.125042   \n",
       "101006  1.712571 -5.799995  4.553103  -0.968306  -1.620303  -2.390229   \n",
       "\n",
       "            dim7      dim8       dim9      dim10  \n",
       "ID                                                \n",
       "100206  2.753505  7.109221 -12.640517  19.555060  \n",
       "100307  0.339369  6.664896  -1.465991  11.891362  \n",
       "100408  0.992875  5.049739 -10.221111  13.107022  \n",
       "100610 -8.220337  3.290864 -16.226452  10.390056  \n",
       "101006 -2.943960  4.531745 -18.519890  21.366726  "
      ]
     },
     "execution_count": 367,
     "metadata": {},
     "output_type": "execute_result"
    }
   ],
   "source": [
    "test_df.head()"
   ]
  },
  {
   "cell_type": "code",
   "execution_count": 368,
   "metadata": {},
   "outputs": [
    {
     "data": {
      "text/html": [
       "<div>\n",
       "<style scoped>\n",
       "    .dataframe tbody tr th:only-of-type {\n",
       "        vertical-align: middle;\n",
       "    }\n",
       "\n",
       "    .dataframe tbody tr th {\n",
       "        vertical-align: top;\n",
       "    }\n",
       "\n",
       "    .dataframe thead th {\n",
       "        text-align: right;\n",
       "    }\n",
       "</style>\n",
       "<table border=\"1\" class=\"dataframe\">\n",
       "  <thead>\n",
       "    <tr style=\"text-align: right;\">\n",
       "      <th></th>\n",
       "      <th>trans_0</th>\n",
       "      <th>trans_1</th>\n",
       "      <th>trans_2</th>\n",
       "      <th>trans_3</th>\n",
       "      <th>trans_4</th>\n",
       "    </tr>\n",
       "    <tr>\n",
       "      <th>ID</th>\n",
       "      <th></th>\n",
       "      <th></th>\n",
       "      <th></th>\n",
       "      <th></th>\n",
       "      <th></th>\n",
       "    </tr>\n",
       "  </thead>\n",
       "  <tbody>\n",
       "    <tr>\n",
       "      <th>100206</th>\n",
       "      <td>-3.137432</td>\n",
       "      <td>0.000000</td>\n",
       "      <td>0.0</td>\n",
       "      <td>0.0</td>\n",
       "      <td>0.000000</td>\n",
       "    </tr>\n",
       "    <tr>\n",
       "      <th>100307</th>\n",
       "      <td>0.000000</td>\n",
       "      <td>2.117693</td>\n",
       "      <td>0.0</td>\n",
       "      <td>0.0</td>\n",
       "      <td>0.000000</td>\n",
       "    </tr>\n",
       "    <tr>\n",
       "      <th>100408</th>\n",
       "      <td>0.000000</td>\n",
       "      <td>0.000000</td>\n",
       "      <td>0.0</td>\n",
       "      <td>0.0</td>\n",
       "      <td>0.825204</td>\n",
       "    </tr>\n",
       "    <tr>\n",
       "      <th>100610</th>\n",
       "      <td>0.000000</td>\n",
       "      <td>-1.855458</td>\n",
       "      <td>0.0</td>\n",
       "      <td>0.0</td>\n",
       "      <td>0.000000</td>\n",
       "    </tr>\n",
       "    <tr>\n",
       "      <th>101006</th>\n",
       "      <td>-2.270002</td>\n",
       "      <td>0.000000</td>\n",
       "      <td>0.0</td>\n",
       "      <td>0.0</td>\n",
       "      <td>0.000000</td>\n",
       "    </tr>\n",
       "  </tbody>\n",
       "</table>\n",
       "</div>"
      ],
      "text/plain": [
       "         trans_0   trans_1  trans_2  trans_3   trans_4\n",
       "ID                                                    \n",
       "100206 -3.137432  0.000000      0.0      0.0  0.000000\n",
       "100307  0.000000  2.117693      0.0      0.0  0.000000\n",
       "100408  0.000000  0.000000      0.0      0.0  0.825204\n",
       "100610  0.000000 -1.855458      0.0      0.0  0.000000\n",
       "101006 -2.270002  0.000000      0.0      0.0  0.000000"
      ]
     },
     "execution_count": 368,
     "metadata": {},
     "output_type": "execute_result"
    }
   ],
   "source": [
    "transformed_df.head()"
   ]
  },
  {
   "cell_type": "code",
   "execution_count": 369,
   "metadata": {},
   "outputs": [
    {
     "data": {
      "text/html": [
       "<div>\n",
       "<style scoped>\n",
       "    .dataframe tbody tr th:only-of-type {\n",
       "        vertical-align: middle;\n",
       "    }\n",
       "\n",
       "    .dataframe tbody tr th {\n",
       "        vertical-align: top;\n",
       "    }\n",
       "\n",
       "    .dataframe thead th {\n",
       "        text-align: right;\n",
       "    }\n",
       "</style>\n",
       "<table border=\"1\" class=\"dataframe\">\n",
       "  <thead>\n",
       "    <tr style=\"text-align: right;\">\n",
       "      <th></th>\n",
       "      <th>label</th>\n",
       "    </tr>\n",
       "    <tr>\n",
       "      <th>Subject</th>\n",
       "      <th></th>\n",
       "    </tr>\n",
       "  </thead>\n",
       "  <tbody>\n",
       "    <tr>\n",
       "      <th>100206</th>\n",
       "      <td>0</td>\n",
       "    </tr>\n",
       "    <tr>\n",
       "      <th>100307</th>\n",
       "      <td>0</td>\n",
       "    </tr>\n",
       "    <tr>\n",
       "      <th>100408</th>\n",
       "      <td>1</td>\n",
       "    </tr>\n",
       "    <tr>\n",
       "      <th>100610</th>\n",
       "      <td>1</td>\n",
       "    </tr>\n",
       "    <tr>\n",
       "      <th>101006</th>\n",
       "      <td>0</td>\n",
       "    </tr>\n",
       "  </tbody>\n",
       "</table>\n",
       "</div>"
      ],
      "text/plain": [
       "         label\n",
       "Subject       \n",
       "100206       0\n",
       "100307       0\n",
       "100408       1\n",
       "100610       1\n",
       "101006       0"
      ]
     },
     "execution_count": 369,
     "metadata": {},
     "output_type": "execute_result"
    }
   ],
   "source": [
    "prediction_df[['label']].head()"
   ]
  },
  {
   "cell_type": "code",
   "execution_count": 370,
   "metadata": {},
   "outputs": [
    {
     "data": {
      "text/html": [
       "<div>\n",
       "<style scoped>\n",
       "    .dataframe tbody tr th:only-of-type {\n",
       "        vertical-align: middle;\n",
       "    }\n",
       "\n",
       "    .dataframe tbody tr th {\n",
       "        vertical-align: top;\n",
       "    }\n",
       "\n",
       "    .dataframe thead th {\n",
       "        text-align: right;\n",
       "    }\n",
       "</style>\n",
       "<table border=\"1\" class=\"dataframe\">\n",
       "  <thead>\n",
       "    <tr style=\"text-align: right;\">\n",
       "      <th></th>\n",
       "      <th>label</th>\n",
       "      <th>trans_0</th>\n",
       "      <th>trans_1</th>\n",
       "      <th>trans_2</th>\n",
       "      <th>trans_3</th>\n",
       "      <th>trans_4</th>\n",
       "    </tr>\n",
       "    <tr>\n",
       "      <th>Subject</th>\n",
       "      <th></th>\n",
       "      <th></th>\n",
       "      <th></th>\n",
       "      <th></th>\n",
       "      <th></th>\n",
       "      <th></th>\n",
       "    </tr>\n",
       "  </thead>\n",
       "  <tbody>\n",
       "    <tr>\n",
       "      <th>100206</th>\n",
       "      <td>23.0</td>\n",
       "      <td>-3.137432</td>\n",
       "      <td>0.000000</td>\n",
       "      <td>0.0</td>\n",
       "      <td>0.0</td>\n",
       "      <td>0.000000</td>\n",
       "    </tr>\n",
       "    <tr>\n",
       "      <th>100307</th>\n",
       "      <td>24.0</td>\n",
       "      <td>0.000000</td>\n",
       "      <td>2.117693</td>\n",
       "      <td>0.0</td>\n",
       "      <td>0.0</td>\n",
       "      <td>0.000000</td>\n",
       "    </tr>\n",
       "    <tr>\n",
       "      <th>100408</th>\n",
       "      <td>29.0</td>\n",
       "      <td>0.000000</td>\n",
       "      <td>0.000000</td>\n",
       "      <td>0.0</td>\n",
       "      <td>0.0</td>\n",
       "      <td>0.825204</td>\n",
       "    </tr>\n",
       "    <tr>\n",
       "      <th>100610</th>\n",
       "      <td>33.0</td>\n",
       "      <td>0.000000</td>\n",
       "      <td>-1.855458</td>\n",
       "      <td>0.0</td>\n",
       "      <td>0.0</td>\n",
       "      <td>0.000000</td>\n",
       "    </tr>\n",
       "    <tr>\n",
       "      <th>101006</th>\n",
       "      <td>23.0</td>\n",
       "      <td>-2.270002</td>\n",
       "      <td>0.000000</td>\n",
       "      <td>0.0</td>\n",
       "      <td>0.0</td>\n",
       "      <td>0.000000</td>\n",
       "    </tr>\n",
       "  </tbody>\n",
       "</table>\n",
       "</div>"
      ],
      "text/plain": [
       "         label   trans_0   trans_1  trans_2  trans_3   trans_4\n",
       "Subject                                                       \n",
       "100206    23.0 -3.137432  0.000000      0.0      0.0  0.000000\n",
       "100307    24.0  0.000000  2.117693      0.0      0.0  0.000000\n",
       "100408    29.0  0.000000  0.000000      0.0      0.0  0.825204\n",
       "100610    33.0  0.000000 -1.855458      0.0      0.0  0.000000\n",
       "101006    23.0 -2.270002  0.000000      0.0      0.0  0.000000"
      ]
     },
     "execution_count": 370,
     "metadata": {},
     "output_type": "execute_result"
    }
   ],
   "source": [
    "visu_df = pd.merge(prediction_df_continuous[['label']], transformed_df, left_index=True, right_index=True)\n",
    "visu_df.head()\n",
    "    "
   ]
  },
  {
   "cell_type": "code",
   "execution_count": 371,
   "metadata": {},
   "outputs": [
    {
     "data": {
      "text/plain": [
       "[<matplotlib.lines.Line2D at 0x7f8b289ebc50>]"
      ]
     },
     "execution_count": 371,
     "metadata": {},
     "output_type": "execute_result"
    },
    {
     "data": {
      "image/png": "[encoded data removed]",
      "text/plain": [
       "<Figure size 432x288 with 1 Axes>"
      ]
     },
     "metadata": {
      "needs_background": "light"
     },
     "output_type": "display_data"
    }
   ],
   "source": [
    "visu_df_relevant = visu_df[visu_df.trans_1 > 0.0]\n",
    "plt.scatter(visu_df_relevant.trans_1, visu_df_relevant.label)\n",
    "plt.plot([0,4], [34.5, 34.5])"
   ]
  },
  {
   "cell_type": "code",
   "execution_count": 372,
   "metadata": {},
   "outputs": [],
   "source": [
    "# import seaborn as sns\n",
    "# sns.pointplot(data=visu_df_relevant, x=visu_df_relevant.label, y=\"trans_1\")"
   ]
  },
  {
   "cell_type": "code",
   "execution_count": 373,
   "metadata": {},
   "outputs": [],
   "source": [
    "# plot_patterns(prediction_df, transformed_df, random=True)"
   ]
  },
  {
   "cell_type": "code",
   "execution_count": 374,
   "metadata": {},
   "outputs": [
    {
     "name": "stdout",
     "output_type": "stream",
     "text": [
      "/neurospin/dico/data/deep_folding/papers/ipmi2023/models/contrastive/trained_on_HCP_half_2/chosen_model/chosen_model/visu_cingulate_HCP_full_NEOFAC_O.csv\n"
     ]
    }
   ],
   "source": [
    "print(f\"{test_model}/visu_{dataset_test}.csv\")"
   ]
  },
  {
   "cell_type": "code",
   "execution_count": 375,
   "metadata": {},
   "outputs": [],
   "source": [
    "visu_df.to_csv(f\"{test_model}/visu_{dataset_test}.csv\")"
   ]
  },
  {
   "cell_type": "code",
   "execution_count": 379,
   "metadata": {},
   "outputs": [],
   "source": [
    "cramer = np.load(f\"{test_model}/cramer_{dataset_test}.npy\")"
   ]
  },
  {
   "cell_type": "code",
   "execution_count": 381,
   "metadata": {},
   "outputs": [
    {
     "data": {
      "text/plain": [
       "array([[<AxesSubplot:xlabel='label', ylabel='label'>,\n",
       "        <AxesSubplot:xlabel='trans_2', ylabel='label'>],\n",
       "       [<AxesSubplot:xlabel='label', ylabel='trans_2'>,\n",
       "        <AxesSubplot:xlabel='trans_2', ylabel='trans_2'>]], dtype=object)"
      ]
     },
     "execution_count": 381,
     "metadata": {},
     "output_type": "execute_result"
    },
    {
     "data": {
      "image/png": "[encoded data removed]",
      "text/plain": [
       "<Figure size 432x288 with 4 Axes>"
      ]
     },
     "metadata": {
      "needs_background": "light"
     },
     "output_type": "display_data"
    }
   ],
   "source": [
    "pd.plotting.scatter_matrix(visu_df[visu_df[\"trans_2\"] > 0.0][[\"label\", \"trans_2\"]],\n",
    "                                    alpha=1.0,\n",
    "                                    diagonal=\"hist\")"
   ]
  },
  {
   "cell_type": "code",
   "execution_count": 401,
   "metadata": {},
   "outputs": [
    {
     "data": {
      "image/png": "[encoded data removed]",
      "text/plain": [
       "<Figure size 432x288 with 1 Axes>"
      ]
     },
     "metadata": {
      "needs_background": "light"
     },
     "output_type": "display_data"
    }
   ],
   "source": [
    "a = plt.hist(visu_df.label, density=True, alpha=0.5)\n",
    "v = visu_df[visu_df.trans_2>0.]\n",
    "b = plt.hist(v.label, density=True, alpha=0.5)"
   ]
  },
  {
   "cell_type": "code",
   "execution_count": 399,
   "metadata": {},
   "outputs": [
    {
     "data": {
      "image/png": "[encoded data removed]",
      "text/plain": [
       "<Figure size 432x288 with 1 Axes>"
      ]
     },
     "metadata": {
      "needs_background": "light"
     },
     "output_type": "display_data"
    }
   ],
   "source": [
    "v = visu_df[visu_df.trans_4<0.]\n",
    "b = plt.hist(v.label)"
   ]
  },
  {
   "cell_type": "code",
   "execution_count": 376,
   "metadata": {},
   "outputs": [
    {
     "name": "stdout",
     "output_type": "stream",
     "text": [
      "Mean label = 0.45569620253164556\n"
     ]
    },
    {
     "data": {
      "text/plain": [
       "array([0.54347826, 0.49074074, 0.39285714, 0.46017699, 0.3592233 ,\n",
       "       0.4950495 , 0.36206897, 0.47706422, 0.48113208, 0.48      ])"
      ]
     },
     "execution_count": 376,
     "metadata": {},
     "output_type": "execute_result"
    },
    {
     "data": {
      "image/png": "[encoded data removed]",
      "text/plain": [
       "<Figure size 432x288 with 1 Axes>"
      ]
     },
     "metadata": {
      "needs_background": "light"
     },
     "output_type": "display_data"
    }
   ],
   "source": [
    "plot_predictions(prediction_df, transformed_df)"
   ]
  },
  {
   "cell_type": "code",
   "execution_count": 380,
   "metadata": {},
   "outputs": [
    {
     "data": {
      "text/plain": [
       "[<matplotlib.lines.Line2D at 0x7f8b2b6a2940>]"
      ]
     },
     "execution_count": 380,
     "metadata": {},
     "output_type": "execute_result"
    },
    {
     "data": {
      "image/png": "[encoded data removed]",
      "text/plain": [
       "<Figure size 432x288 with 1 Axes>"
      ]
     },
     "metadata": {
      "needs_background": "light"
     },
     "output_type": "display_data"
    }
   ],
   "source": [
    "plt.scatter(np.arange(0,10), cramer)\n",
    "plt.plot([0,10], [-np.log10(0.001), -np.log10(0.001)])"
   ]
  },
  {
   "cell_type": "code",
   "execution_count": 377,
   "metadata": {},
   "outputs": [
    {
     "data": {
      "image/png": "[encoded data removed]",
      "text/plain": [
       "<Figure size 432x288 with 1 Axes>"
      ]
     },
     "metadata": {
      "needs_background": "light"
     },
     "output_type": "display_data"
    }
   ],
   "source": [
    "res_p = do_t_test(prediction_df, transformed_df)"
   ]
  },
  {
   "cell_type": "code",
   "execution_count": 378,
   "metadata": {},
   "outputs": [
    {
     "data": {
      "text/plain": [
       "(254.0, 0.6379310344827587, 149)"
      ]
     },
     "execution_count": 378,
     "metadata": {},
     "output_type": "execute_result"
    },
    {
     "data": {
      "image/png": "[encoded data removed]",
      "text/plain": [
       "<Figure size 432x288 with 1 Axes>"
      ]
     },
     "metadata": {
      "needs_background": "light"
     },
     "output_type": "display_data"
    }
   ],
   "source": [
    "give_number_relevant_subjects_accuracy(prediction_df, transformed_df, res_p)"
   ]
  },
  {
   "cell_type": "code",
   "execution_count": null,
   "metadata": {},
   "outputs": [],
   "source": []
  },
  {
   "cell_type": "code",
   "execution_count": null,
   "metadata": {},
   "outputs": [],
   "source": []
  }
 ],
 "metadata": {
  "kernelspec": {
   "display_name": "Python 3.6.9 ('venv_local': venv)",
   "language": "python",
   "name": "python3"
  },
  "language_info": {
   "codemirror_mode": {
    "name": "ipython",
    "version": 3
   },
   "file_extension": ".py",
   "mimetype": "text/x-python",
   "name": "python",
   "nbconvert_exporter": "python",
   "pygments_lexer": "ipython3",
   "version": "3.6.9"
  },
  "orig_nbformat": 4,
  "vscode": {
   "interpreter": {
    "hash": "b3f951fa4227f6aee2764c66da50d1aa01efee6b5e95e7b587fda0e6104695b3"
   }
  }
 },
 "nbformat": 4,
 "nbformat_minor": 2
}
