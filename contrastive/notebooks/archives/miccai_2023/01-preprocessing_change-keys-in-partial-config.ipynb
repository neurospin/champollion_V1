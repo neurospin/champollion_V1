{
 "cells": [
  {
   "cell_type": "markdown",
   "metadata": {},
   "source": [
    "Notebook to change the keys in partial_config.yaml in all subfolders. It avoids having to rerun the training just to change the keys."
   ]
  },
  {
   "cell_type": "markdown",
   "metadata": {},
   "source": [
    "## Change key in partial config"
   ]
  },
  {
   "cell_type": "code",
   "execution_count": 1,
   "metadata": {},
   "outputs": [
    {
     "name": "stdout",
     "output_type": "stream",
     "text": [
      "Treating /neurospin/dico/data/deep_folding/papers/miccai2023/Output/contrastive/trained_on_HCP_UkBioBank_different-n/ukbiobank-n=21072/22-11-20_0\n",
      "/neurospin/dico/data/deep_folding/papers/miccai2023/Output/contrastive/trained_on_HCP_UkBioBank_different-n/ukbiobank-n=21072/22-11-20_0\n",
      "Treating /neurospin/dico/data/deep_folding/papers/miccai2023/Output/contrastive/trained_on_HCP_UkBioBank_different-n/ukbiobank-n=21072/1\n",
      "/neurospin/dico/data/deep_folding/papers/miccai2023/Output/contrastive/trained_on_HCP_UkBioBank_different-n/ukbiobank-n=21072/1\n",
      "Treating /neurospin/dico/data/deep_folding/papers/miccai2023/Output/contrastive/trained_on_HCP_UkBioBank_different-n/ukbiobank-n=21072/22-11-20_3\n",
      "/neurospin/dico/data/deep_folding/papers/miccai2023/Output/contrastive/trained_on_HCP_UkBioBank_different-n/ukbiobank-n=21072/22-11-20_3\n",
      "Treating /neurospin/dico/data/deep_folding/papers/miccai2023/Output/contrastive/trained_on_HCP_UkBioBank_different-n/ukbiobank-n=21072/22-11-20_1\n",
      "/neurospin/dico/data/deep_folding/papers/miccai2023/Output/contrastive/trained_on_HCP_UkBioBank_different-n/ukbiobank-n=21072/22-11-20_1\n",
      "Treating /neurospin/dico/data/deep_folding/papers/miccai2023/Output/contrastive/trained_on_HCP_UkBioBank_different-n/ukbiobank-n=21072/22-11-20_2\n",
      "/neurospin/dico/data/deep_folding/papers/miccai2023/Output/contrastive/trained_on_HCP_UkBioBank_different-n/ukbiobank-n=21072/22-11-20_2\n",
      "Treating /neurospin/dico/data/deep_folding/papers/miccai2023/Output/contrastive/trained_on_HCP_UkBioBank_different-n/ukbiobank-n=21072/2\n",
      "/neurospin/dico/data/deep_folding/papers/miccai2023/Output/contrastive/trained_on_HCP_UkBioBank_different-n/ukbiobank-n=21072/2\n",
      "Treating /neurospin/dico/data/deep_folding/papers/miccai2023/Output/contrastive/trained_on_HCP_UkBioBank_different-n/ukbiobank-n=551/13-07-20_0\n",
      "/neurospin/dico/data/deep_folding/papers/miccai2023/Output/contrastive/trained_on_HCP_UkBioBank_different-n/ukbiobank-n=551/13-07-20_0\n",
      "Treating /neurospin/dico/data/deep_folding/papers/miccai2023/Output/contrastive/trained_on_HCP_UkBioBank_different-n/ukbiobank-n=551/13-07-20_4\n",
      "/neurospin/dico/data/deep_folding/papers/miccai2023/Output/contrastive/trained_on_HCP_UkBioBank_different-n/ukbiobank-n=551/13-07-20_4\n",
      "Treating /neurospin/dico/data/deep_folding/papers/miccai2023/Output/contrastive/trained_on_HCP_UkBioBank_different-n/ukbiobank-n=551/13-07-20_1\n",
      "/neurospin/dico/data/deep_folding/papers/miccai2023/Output/contrastive/trained_on_HCP_UkBioBank_different-n/ukbiobank-n=551/13-07-20_1\n",
      "Treating /neurospin/dico/data/deep_folding/papers/miccai2023/Output/contrastive/trained_on_HCP_UkBioBank_different-n/ukbiobank-n=551/13-07-20_3\n",
      "/neurospin/dico/data/deep_folding/papers/miccai2023/Output/contrastive/trained_on_HCP_UkBioBank_different-n/ukbiobank-n=551/13-07-20_3\n",
      "Treating /neurospin/dico/data/deep_folding/papers/miccai2023/Output/contrastive/trained_on_HCP_UkBioBank_different-n/ukbiobank-n=551/13-07-20_2\n",
      "/neurospin/dico/data/deep_folding/papers/miccai2023/Output/contrastive/trained_on_HCP_UkBioBank_different-n/ukbiobank-n=551/13-07-20_2\n",
      "Treating /neurospin/dico/data/deep_folding/papers/miccai2023/Output/contrastive/trained_on_HCP_UkBioBank_different-n/ukbiobank-n=5000/21-51-48_1\n",
      "/neurospin/dico/data/deep_folding/papers/miccai2023/Output/contrastive/trained_on_HCP_UkBioBank_different-n/ukbiobank-n=5000/21-51-48_1\n",
      "Treating /neurospin/dico/data/deep_folding/papers/miccai2023/Output/contrastive/trained_on_HCP_UkBioBank_different-n/ukbiobank-n=5000/21-51-48_0\n",
      "/neurospin/dico/data/deep_folding/papers/miccai2023/Output/contrastive/trained_on_HCP_UkBioBank_different-n/ukbiobank-n=5000/21-51-48_0\n",
      "Treating /neurospin/dico/data/deep_folding/papers/miccai2023/Output/contrastive/trained_on_HCP_UkBioBank_different-n/ukbiobank-n=5000/21-51-48_4\n",
      "/neurospin/dico/data/deep_folding/papers/miccai2023/Output/contrastive/trained_on_HCP_UkBioBank_different-n/ukbiobank-n=5000/21-51-48_4\n",
      "Treating /neurospin/dico/data/deep_folding/papers/miccai2023/Output/contrastive/trained_on_HCP_UkBioBank_different-n/ukbiobank-n=5000/18-03-53_2\n",
      "/neurospin/dico/data/deep_folding/papers/miccai2023/Output/contrastive/trained_on_HCP_UkBioBank_different-n/ukbiobank-n=5000/18-03-53_2\n",
      "Treating /neurospin/dico/data/deep_folding/papers/miccai2023/Output/contrastive/trained_on_HCP_UkBioBank_different-n/ukbiobank-n=5000/18-03-53_1\n",
      "/neurospin/dico/data/deep_folding/papers/miccai2023/Output/contrastive/trained_on_HCP_UkBioBank_different-n/ukbiobank-n=5000/18-03-53_1\n",
      "Treating /neurospin/dico/data/deep_folding/papers/miccai2023/Output/contrastive/trained_on_HCP_UkBioBank_different-n/ukbiobank-n=5000/18-03-53_0\n",
      "/neurospin/dico/data/deep_folding/papers/miccai2023/Output/contrastive/trained_on_HCP_UkBioBank_different-n/ukbiobank-n=5000/18-03-53_0\n",
      "Treating /neurospin/dico/data/deep_folding/papers/miccai2023/Output/contrastive/trained_on_HCP_UkBioBank_different-n/ukbiobank-n=5000/21-51-48_2\n",
      "/neurospin/dico/data/deep_folding/papers/miccai2023/Output/contrastive/trained_on_HCP_UkBioBank_different-n/ukbiobank-n=5000/21-51-48_2\n",
      "Treating /neurospin/dico/data/deep_folding/papers/miccai2023/Output/contrastive/trained_on_HCP_UkBioBank_different-n/ukbiobank-n=5000/21-51-48_3\n",
      "/neurospin/dico/data/deep_folding/papers/miccai2023/Output/contrastive/trained_on_HCP_UkBioBank_different-n/ukbiobank-n=5000/21-51-48_3\n",
      "Treating /neurospin/dico/data/deep_folding/papers/miccai2023/Output/contrastive/trained_on_HCP_UkBioBank_different-n/ukbiobank-n=5000/18-03-53_3\n",
      "/neurospin/dico/data/deep_folding/papers/miccai2023/Output/contrastive/trained_on_HCP_UkBioBank_different-n/ukbiobank-n=5000/18-03-53_3\n",
      "Treating /neurospin/dico/data/deep_folding/papers/miccai2023/Output/contrastive/trained_on_HCP_UkBioBank_different-n/ukbiobank-n=5000/18-03-53_4\n",
      "/neurospin/dico/data/deep_folding/papers/miccai2023/Output/contrastive/trained_on_HCP_UkBioBank_different-n/ukbiobank-n=5000/18-03-53_4\n",
      "Treating /neurospin/dico/data/deep_folding/papers/miccai2023/Output/contrastive/trained_on_HCP_UkBioBank_different-n/ukbiobank-n=1114/09-33-18_0\n",
      "/neurospin/dico/data/deep_folding/papers/miccai2023/Output/contrastive/trained_on_HCP_UkBioBank_different-n/ukbiobank-n=1114/09-33-18_0\n",
      "Treating /neurospin/dico/data/deep_folding/papers/miccai2023/Output/contrastive/trained_on_HCP_UkBioBank_different-n/ukbiobank-n=1114/1\n",
      "/neurospin/dico/data/deep_folding/papers/miccai2023/Output/contrastive/trained_on_HCP_UkBioBank_different-n/ukbiobank-n=1114/1\n",
      "Treating /neurospin/dico/data/deep_folding/papers/miccai2023/Output/contrastive/trained_on_HCP_UkBioBank_different-n/ukbiobank-n=1114/16-37-55\n",
      "/neurospin/dico/data/deep_folding/papers/miccai2023/Output/contrastive/trained_on_HCP_UkBioBank_different-n/ukbiobank-n=1114/16-37-55\n",
      "Treating /neurospin/dico/data/deep_folding/papers/miccai2023/Output/contrastive/trained_on_HCP_UkBioBank_different-n/ukbiobank-n=1114/16-54-04\n",
      "/neurospin/dico/data/deep_folding/papers/miccai2023/Output/contrastive/trained_on_HCP_UkBioBank_different-n/ukbiobank-n=1114/16-54-04\n",
      "Treating /neurospin/dico/data/deep_folding/papers/miccai2023/Output/contrastive/trained_on_HCP_UkBioBank_different-n/ukbiobank-n=2000/13-06-49_1\n",
      "/neurospin/dico/data/deep_folding/papers/miccai2023/Output/contrastive/trained_on_HCP_UkBioBank_different-n/ukbiobank-n=2000/13-06-49_1\n",
      "Treating /neurospin/dico/data/deep_folding/papers/miccai2023/Output/contrastive/trained_on_HCP_UkBioBank_different-n/ukbiobank-n=2000/13-06-49_4\n",
      "/neurospin/dico/data/deep_folding/papers/miccai2023/Output/contrastive/trained_on_HCP_UkBioBank_different-n/ukbiobank-n=2000/13-06-49_4\n",
      "Treating /neurospin/dico/data/deep_folding/papers/miccai2023/Output/contrastive/trained_on_HCP_UkBioBank_different-n/ukbiobank-n=2000/13-06-49_0\n",
      "/neurospin/dico/data/deep_folding/papers/miccai2023/Output/contrastive/trained_on_HCP_UkBioBank_different-n/ukbiobank-n=2000/13-06-49_0\n",
      "Treating /neurospin/dico/data/deep_folding/papers/miccai2023/Output/contrastive/trained_on_HCP_UkBioBank_different-n/ukbiobank-n=2000/13-06-49_2\n",
      "/neurospin/dico/data/deep_folding/papers/miccai2023/Output/contrastive/trained_on_HCP_UkBioBank_different-n/ukbiobank-n=2000/13-06-49_2\n",
      "Treating /neurospin/dico/data/deep_folding/papers/miccai2023/Output/contrastive/trained_on_HCP_UkBioBank_different-n/ukbiobank-n=2000/13-06-49_3\n",
      "/neurospin/dico/data/deep_folding/papers/miccai2023/Output/contrastive/trained_on_HCP_UkBioBank_different-n/ukbiobank-n=2000/13-06-49_3\n"
     ]
    }
   ],
   "source": [
    "from contrastive.utils.config import create_accessible_config\n",
    "\n",
    "\n",
    "keys_to_keep = ['dataset_name', 'nb_subjects', 'model', 'with_labels', 'numpy_all',\n",
    "    'input_size', 'temperature_initial', 'temperature', 'sigma', 'drop_rate', 'depth_decoder',\n",
    "    'mode', 'foldlabel', 'fill_value', 'patch_size', 'max_angle', 'checkerboard_size', 'keep_bottom',\n",
    "    'growth_rate', 'block_config', 'num_init_features', 'num_representation_features', 'num_outputs',\n",
    "    'environment', 'batch_size', 'pin_mem', 'partition', 'lr', 'weight_decay', 'max_epochs',\n",
    "    'early_stopping_patience', 'seed', 'backbone_name', 'n_max']\n",
    "\n",
    "\n",
    "main_path = \"/neurospin/dico/data/deep_folding/papers/miccai2023/Output/contrastive/trained_on_HCP_UkBioBank_different-n\"\n",
    "dir_paths = os.listdir(main_path)\n",
    "\n",
    "for dir_path in dir_paths:\n",
    "    dir_path = main_path +'/'+ dir_path\n",
    "    for name in os.listdir(dir_path):\n",
    "        sub_dir = dir_path + '/' + name\n",
    "        # checks if directory\n",
    "        if os.path.isdir(sub_dir):\n",
    "            # check if directory associated to a model\n",
    "            if os.path.exists(sub_dir+'/.hydra/config.yaml'):\n",
    "                print(\"Treating\", sub_dir)\n",
    "                create_accessible_config(keys_to_keep, sub_dir+\"/.hydra/config.yaml\")"
   ]
  },
  {
   "cell_type": "code",
   "execution_count": null,
   "metadata": {},
   "outputs": [],
   "source": []
  }
 ],
 "metadata": {
  "kernelspec": {
   "display_name": "Python 3.6.9 ('venv_local': venv)",
   "language": "python",
   "name": "python3"
  },
  "language_info": {
   "codemirror_mode": {
    "name": "ipython",
    "version": 3
   },
   "file_extension": ".py",
   "mimetype": "text/x-python",
   "name": "python",
   "nbconvert_exporter": "python",
   "pygments_lexer": "ipython3",
   "version": "3.6.9"
  },
  "orig_nbformat": 4,
  "vscode": {
   "interpreter": {
    "hash": "b3f951fa4227f6aee2764c66da50d1aa01efee6b5e95e7b587fda0e6104695b3"
   }
  }
 },
 "nbformat": 4,
 "nbformat_minor": 2
}
