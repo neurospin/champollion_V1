{
 "cells": [
  {
   "cell_type": "markdown",
   "id": "4baba14f",
   "metadata": {},
   "source": [
    "# Moving Averages CINGULATE region"
   ]
  },
  {
   "cell_type": "markdown",
   "id": "41ccf74e",
   "metadata": {},
   "source": [
    "### 1) Imports"
   ]
  },
  {
   "cell_type": "markdown",
   "id": "784eadb7",
   "metadata": {},
   "source": []
  },
  {
   "cell_type": "code",
   "execution_count": 1,
   "id": "071bbaa1",
   "metadata": {},
   "outputs": [
    {
     "name": "stdout",
     "output_type": "stream",
     "text": [
      "['', '/casa/host/src/development/casa-distro/master/python', '/casa/host/src/populse/populse_db/master/python', '/casa/host/src/capsul/master', '/casa/host/build/python', '/usr/lib/python36.zip', '/usr/lib/python3.6', '/usr/lib/python3.6/lib-dynload', '/volatile/jc225751/Runs/33_MIDL_2022_reviews/Program/venv/lib/python3.6/site-packages', '/volatile/jc225751/Runs/33_MIDL_2022_reviews/Program/2021_jchavas_lguillon_deepcingulate', '/casa/home/.local/lib/python3.6/site-packages', '/usr/local/lib/python3.6/dist-packages', '/usr/lib/python3/dist-packages', '/usr/local/lib/python3.6/dist-packages/IPython/extensions', '/casa/home/.ipython', '/volatile/jc225751/Runs/33_MIDL_2022_reviews/Program/2021_jchavas_lguillon_deepcingulate/SimCLR']\n"
     ]
    }
   ],
   "source": [
    "import os\n",
    "import glob\n",
    "import sys\n",
    "import json\n",
    "\n",
    "p = os.path.abspath('../')\n",
    "if p not in sys.path:\n",
    "    sys.path.append(p)\n",
    "print(sys.path)"
   ]
  },
  {
   "cell_type": "code",
   "execution_count": 59,
   "id": "0b195b95",
   "metadata": {},
   "outputs": [],
   "source": [
    "import moving_averages as ma\n",
    "import colorado as cld\n",
    "import dico_toolbox as dtx\n",
    "from tqdm import tqdm\n",
    "\n",
    "import pandas as pd\n",
    "import numpy as np\n",
    "from scipy.spatial import distance\n",
    "\n",
    "import plotly.graph_objects as go\n",
    "import pickle\n",
    "import matplotlib.pyplot as plt\n",
    "\n",
    "from soma import aims\n",
    "\n",
    "import torch\n",
    "\n",
    "from sklearn.cluster import KMeans, SpectralClustering, AffinityPropagation\n",
    "from sklearn import metrics\n",
    "from sklearn.manifold import TSNE\n",
    "\n",
    "import matplotlib.cm as cm\n",
    "\n",
    "from hydra import initialize, initialize_config_module, initialize_config_dir, compose\n",
    "from omegaconf import OmegaConf, DictConfig"
   ]
  },
  {
   "cell_type": "code",
   "execution_count": 3,
   "id": "8e20f5bf",
   "metadata": {},
   "outputs": [],
   "source": [
    "def closest_distance(centroid, df):\n",
    "    \"\"\"Returns closest point to centroid of a given cluster\n",
    "    /!\\ central_point is part of the defined set of points\n",
    "    Args:\n",
    "        IN: centroid: tuple of coordinates of centroid\n",
    "            df: pandas.DataFrame with index corresponding to subjects and as many columns as coordinates\n",
    "        OUT: central_point: subject ID corresponding to closest point to the centroid\n",
    "    \"\"\"\n",
    "    # df must have as many columns as dimensions to consider\n",
    "    distances = {}\n",
    "    # Get distances to centroid for each point\n",
    "    for sub in list(df.index):\n",
    "        pos = [df.loc[sub][k] for k in range(1, len(df.columns)+1)]\n",
    "        distances[sub] = distance.euclidean(pos, centroid)\n",
    "    # Get closest point to centroid\n",
    "    central_point = min(distances, key=distances.get)\n",
    "    return central_point"
   ]
  },
  {
   "cell_type": "code",
   "execution_count": 131,
   "id": "3a2f4a75",
   "metadata": {},
   "outputs": [],
   "source": [
    "# Path the crops\n",
    "path = '/neurospin/dico/data/deep_folding/current/crops/CINGULATE/mask/sulcus_based/2mm/centered_combined/tissier_2018/Rcrops/'\n",
    "\n",
    "# Path to Tissier embeddings, created using loop_validate_clusterize_tissier.py\n",
    "result_dir = '/host/volatile/jc225751/Runs/33_MIDL_2022_reviews/Output/t-0.1-analysis_tissier/n-004_o-4'\n",
    "\n",
    "# Path to first half of hcp embeddings, created using loop_validate_clusterize.py\n",
    "hcp_dir = '/host/volatile/jc225751/Runs/33_MIDL_2022_reviews/Output/t-0.1/n-004_o-4'\n",
    "\n",
    "# Path To dir containing Tissier csv file with labels\n",
    "input_dir = '/neurospin/dico/data/deep_folding/papers/midl2022/datasets/ACC_patterns'"
   ]
  },
  {
   "cell_type": "code",
   "execution_count": null,
   "id": "5d148946",
   "metadata": {},
   "outputs": [],
   "source": [
    "# If true, meshes are saved as files\n",
    "save_mesh = False\n",
    "\n",
    "# if true, buckets are saved as files\n",
    "save_bucket = False"
   ]
  },
  {
   "cell_type": "code",
   "execution_count": 63,
   "id": "588c5f30",
   "metadata": {},
   "outputs": [],
   "source": [
    "def closest_distance(centroid, df):\n",
    "    \"\"\"Returns closest point to centroid of a given cluster\n",
    "    /!\\ central_point is part of the defined set of points\n",
    "    Args:\n",
    "        IN: centroid: tuple of coordinates of centroid\n",
    "            df: pandas.DataFrame with index corresponding to subjects and as many columns as coordinates\n",
    "        OUT: central_point: subject ID corresponding to closest point to the centroid\n",
    "    \"\"\"\n",
    "    # df must have as many columns as dimensions to consider\n",
    "    distances = {}\n",
    "    # Get distances to centroid for each point\n",
    "    for sub in list(df.index):\n",
    "        pos = [df.loc[sub][k] for k in range(0, len(df.columns))]\n",
    "        distances[sub] = distance.euclidean(pos, centroid)\n",
    "    # Get closest point to centroid\n",
    "    central_point = min(distances, key=distances.get)\n",
    "    return central_point"
   ]
  },
  {
   "cell_type": "code",
   "execution_count": 64,
   "id": "a64e59d9",
   "metadata": {},
   "outputs": [],
   "source": [
    "def mscatter(x, y, ax=None, m=None, **kw):\n",
    "    if not ax:\n",
    "        ax = plt.gca()\n",
    "    sc = ax.scatter(x, y, **kw)\n",
    "    if (m is not None) and (len(m) == len(x)):\n",
    "        paths = []\n",
    "        for marker in m:\n",
    "            if isinstance(marker, mmarkers.MarkerStyle):\n",
    "                marker_obj = marker\n",
    "            else:\n",
    "                marker_obj = mmarkers.MarkerStyle(marker)\n",
    "            path = marker_obj.get_path().transformed(\n",
    "                marker_obj.get_transform())\n",
    "            paths.append(path)\n",
    "        sc.set_paths(paths)\n",
    "    return sc"
   ]
  },
  {
   "cell_type": "markdown",
   "id": "83bbdafc",
   "metadata": {},
   "source": [
    "# Loading of subjects's embeddings and corresponding labels\n",
    "DataFrame is obtained during analysis of beta-VAE latent space (2 dimensions) for CINGULATE crops, according to the following steps:\n",
    "- loading of trained model\n",
    "- encoding of test controls and asymmetry benchmark subjects"
   ]
  },
  {
   "cell_type": "code",
   "execution_count": 31,
   "id": "605fccd8",
   "metadata": {},
   "outputs": [
    {
     "name": "stdout",
     "output_type": "stream",
     "text": [
      "cuda:0\n"
     ]
    }
   ],
   "source": [
    "if torch.cuda.is_available():\n",
    "    device = \"cuda:0\"\n",
    "print(device)"
   ]
  },
  {
   "cell_type": "code",
   "execution_count": 32,
   "id": "faff7b21",
   "metadata": {},
   "outputs": [
    {
     "name": "stdout",
     "output_type": "stream",
     "text": [
      "torch.Size([82, 4])\n"
     ]
    }
   ],
   "source": [
    "# We load the embeddings\n",
    "\n",
    "val_embeddings_file = f\"{result_dir}/train_val_embeddings.pt\"\n",
    "embeddings = torch.load(val_embeddings_file)\n",
    "print(embeddings.shape)"
   ]
  },
  {
   "cell_type": "code",
   "execution_count": 36,
   "id": "e54d0ab1",
   "metadata": {},
   "outputs": [
    {
     "name": "stdout",
     "output_type": "stream",
     "text": [
      "['e0032', 'e0063', 'a0014', 'e0071', 'e0045', 'a0035', 'e0058', 'a0024', 'e0035', 'a0012', 'e0080', 'e0075', 'a0026', 'e0078', 'e0054', 'e0042', 'a0011', 'a0015', 'e0081', 'e0082', 'a0025', 'a0020', 'a0032', 'a0013', 'a0030', 'a0033', 'a0034', 'a0036', 'e0076', 'e0069', 'e0064', 'a0008', 'e0079', 'e0068', 'a0004', 'a0037', 'a0038', 'a0018', 'a0021', 'e0070', 'a0022', 'e0059', 'a0003', 'e0036', 'e0072', 'e0062', 'a0019', 'a0040', 'e0048', 'e0049', 'e0067', 'a0002', 'e0050', 'e0083', 'e0073', 'a0006', 'a0009', 'a0005', 'a0028', 'e0051', 'a0007', 'e0061', 'e0065', 'a0039', 'e0041', 'a0010', 'e0004', 'a0017', 'e0077', 'e0039', 'e0074', 'e0013', 'a0027', 'e0053', 'a0031', 'a0001', 'e0047', 'a0029', 'e0021', 'e0066', 'a0016', 'a0023']\n"
     ]
    }
   ],
   "source": [
    "# We load the labels, labels being subject names\n",
    "with open(f\"{result_dir}/train_val_filenames.json\", 'r') as f:\n",
    "    labels = json.load(f)\n",
    "print(labels)"
   ]
  },
  {
   "cell_type": "code",
   "execution_count": 264,
   "id": "1d2472cf",
   "metadata": {},
   "outputs": [],
   "source": [
    "# We load the csv file containing labels (presence or not of parcacingulate sulcus)\n",
    "tissier_labels = pd.read_csv(f\"{input_dir}/tissier_labels.csv\")"
   ]
  },
  {
   "cell_type": "code",
   "execution_count": 265,
   "id": "0e15a269",
   "metadata": {},
   "outputs": [
    {
     "data": {
      "text/html": [
       "<div>\n",
       "<style scoped>\n",
       "    .dataframe tbody tr th:only-of-type {\n",
       "        vertical-align: middle;\n",
       "    }\n",
       "\n",
       "    .dataframe tbody tr th {\n",
       "        vertical-align: top;\n",
       "    }\n",
       "\n",
       "    .dataframe thead th {\n",
       "        text-align: right;\n",
       "    }\n",
       "</style>\n",
       "<table border=\"1\" class=\"dataframe\">\n",
       "  <thead>\n",
       "    <tr style=\"text-align: right;\">\n",
       "      <th></th>\n",
       "      <th>Sujet</th>\n",
       "      <th>OTS_left_continuous</th>\n",
       "      <th>OTS_left_interrupted_ant</th>\n",
       "      <th>OTS_left_interrupted_post</th>\n",
       "      <th>OTS_right_continuous</th>\n",
       "      <th>OTS_right_interrupted_ant</th>\n",
       "      <th>OTS_right_interrupted_post</th>\n",
       "      <th>ACC_left_3_levels_new</th>\n",
       "      <th>ACC_left_inter</th>\n",
       "      <th>ACC_right_3levels_new</th>\n",
       "      <th>...</th>\n",
       "      <th>ACC_right_3levels_ct</th>\n",
       "      <th>ACC_right_PCS_lenght_1rst_segment</th>\n",
       "      <th>ACC_interruption_1.1</th>\n",
       "      <th>ACC_right_PCS_lenght_2nd_segment</th>\n",
       "      <th>ACC_right_PCS_lenght_total</th>\n",
       "      <th>ACC_left_2level</th>\n",
       "      <th>ACC_right_2level</th>\n",
       "      <th>ACC_Asym3_from2</th>\n",
       "      <th>ACC_Asym3_from3</th>\n",
       "      <th>ACC_Asym2_from2</th>\n",
       "    </tr>\n",
       "  </thead>\n",
       "  <tbody>\n",
       "    <tr>\n",
       "      <th>0</th>\n",
       "      <td>a0012</td>\n",
       "      <td>yes</td>\n",
       "      <td>no</td>\n",
       "      <td>no</td>\n",
       "      <td>yes</td>\n",
       "      <td>no</td>\n",
       "      <td>no</td>\n",
       "      <td>proeminent</td>\n",
       "      <td>non</td>\n",
       "      <td>absent</td>\n",
       "      <td>...</td>\n",
       "      <td>48.0</td>\n",
       "      <td>48.0</td>\n",
       "      <td>48.0</td>\n",
       "      <td>36.0</td>\n",
       "      <td>36.0</td>\n",
       "      <td>36.0</td>\n",
       "      <td>36.0</td>\n",
       "      <td>0</td>\n",
       "      <td>0</td>\n",
       "      <td>0</td>\n",
       "    </tr>\n",
       "    <tr>\n",
       "      <th>1</th>\n",
       "      <td>a0018</td>\n",
       "      <td>yes</td>\n",
       "      <td>no</td>\n",
       "      <td>no</td>\n",
       "      <td>no</td>\n",
       "      <td>no</td>\n",
       "      <td>yes</td>\n",
       "      <td>present</td>\n",
       "      <td>non</td>\n",
       "      <td>absent</td>\n",
       "      <td>...</td>\n",
       "      <td>48.0</td>\n",
       "      <td>48.0</td>\n",
       "      <td>36.0</td>\n",
       "      <td>36.0</td>\n",
       "      <td>36.0</td>\n",
       "      <td>36.0</td>\n",
       "      <td>0.0</td>\n",
       "      <td>0</td>\n",
       "      <td>0</td>\n",
       "      <td>460</td>\n",
       "    </tr>\n",
       "    <tr>\n",
       "      <th>2</th>\n",
       "      <td>a0019</td>\n",
       "      <td>yes</td>\n",
       "      <td>no</td>\n",
       "      <td>no</td>\n",
       "      <td>no</td>\n",
       "      <td>yes</td>\n",
       "      <td>no</td>\n",
       "      <td>absent</td>\n",
       "      <td>NaN</td>\n",
       "      <td>present</td>\n",
       "      <td>...</td>\n",
       "      <td>9.0</td>\n",
       "      <td>76.0</td>\n",
       "      <td>9.0</td>\n",
       "      <td>89.0</td>\n",
       "      <td>0.0</td>\n",
       "      <td>0.0</td>\n",
       "      <td>0.0</td>\n",
       "      <td>13</td>\n",
       "      <td>0</td>\n",
       "      <td>absent</td>\n",
       "    </tr>\n",
       "    <tr>\n",
       "      <th>3</th>\n",
       "      <td>a0022</td>\n",
       "      <td>no</td>\n",
       "      <td>no</td>\n",
       "      <td>yes</td>\n",
       "      <td>yes</td>\n",
       "      <td>no</td>\n",
       "      <td>no</td>\n",
       "      <td>proeminent</td>\n",
       "      <td>non</td>\n",
       "      <td>absent</td>\n",
       "      <td>...</td>\n",
       "      <td>11.0</td>\n",
       "      <td>9.0</td>\n",
       "      <td>11.0</td>\n",
       "      <td>4.0</td>\n",
       "      <td>1.0</td>\n",
       "      <td>0.0</td>\n",
       "      <td>0.0</td>\n",
       "      <td>5</td>\n",
       "      <td>1</td>\n",
       "      <td>proeminent</td>\n",
       "    </tr>\n",
       "    <tr>\n",
       "      <th>4</th>\n",
       "      <td>a0023</td>\n",
       "      <td>no</td>\n",
       "      <td>no</td>\n",
       "      <td>yes</td>\n",
       "      <td>no</td>\n",
       "      <td>no</td>\n",
       "      <td>yes</td>\n",
       "      <td>present</td>\n",
       "      <td>non</td>\n",
       "      <td>absent</td>\n",
       "      <td>...</td>\n",
       "      <td>NaN</td>\n",
       "      <td>14.0</td>\n",
       "      <td>1.0</td>\n",
       "      <td>15.0</td>\n",
       "      <td>54.0</td>\n",
       "      <td>0.0</td>\n",
       "      <td>0.0</td>\n",
       "      <td>1</td>\n",
       "      <td>53</td>\n",
       "      <td>0</td>\n",
       "    </tr>\n",
       "  </tbody>\n",
       "</table>\n",
       "<p>5 rows × 129 columns</p>\n",
       "</div>"
      ],
      "text/plain": [
       "   Sujet OTS_left_continuous OTS_left_interrupted_ant  \\\n",
       "0  a0012                 yes                       no   \n",
       "1  a0018                 yes                       no   \n",
       "2  a0019                 yes                       no   \n",
       "3  a0022                  no                       no   \n",
       "4  a0023                  no                       no   \n",
       "\n",
       "  OTS_left_interrupted_post OTS_right_continuous OTS_right_interrupted_ant  \\\n",
       "0                        no                  yes                        no   \n",
       "1                        no                   no                        no   \n",
       "2                        no                   no                       yes   \n",
       "3                       yes                  yes                        no   \n",
       "4                       yes                   no                        no   \n",
       "\n",
       "  OTS_right_interrupted_post ACC_left_3_levels_new ACC_left_inter  \\\n",
       "0                         no            proeminent            non   \n",
       "1                        yes               present            non   \n",
       "2                         no                absent            NaN   \n",
       "3                         no            proeminent            non   \n",
       "4                        yes               present            non   \n",
       "\n",
       "  ACC_right_3levels_new       ...       ACC_right_3levels_ct  \\\n",
       "0                absent       ...                       48.0   \n",
       "1                absent       ...                       48.0   \n",
       "2               present       ...                        9.0   \n",
       "3                absent       ...                       11.0   \n",
       "4                absent       ...                        NaN   \n",
       "\n",
       "  ACC_right_PCS_lenght_1rst_segment ACC_interruption_1.1  \\\n",
       "0                              48.0                 48.0   \n",
       "1                              48.0                 36.0   \n",
       "2                              76.0                  9.0   \n",
       "3                               9.0                 11.0   \n",
       "4                              14.0                  1.0   \n",
       "\n",
       "  ACC_right_PCS_lenght_2nd_segment ACC_right_PCS_lenght_total ACC_left_2level  \\\n",
       "0                             36.0                       36.0            36.0   \n",
       "1                             36.0                       36.0            36.0   \n",
       "2                             89.0                        0.0             0.0   \n",
       "3                              4.0                        1.0             0.0   \n",
       "4                             15.0                       54.0             0.0   \n",
       "\n",
       "  ACC_right_2level ACC_Asym3_from2 ACC_Asym3_from3 ACC_Asym2_from2  \n",
       "0             36.0               0               0               0  \n",
       "1              0.0               0               0             460  \n",
       "2              0.0              13               0          absent  \n",
       "3              0.0               5               1      proeminent  \n",
       "4              0.0               1              53               0  \n",
       "\n",
       "[5 rows x 129 columns]"
      ]
     },
     "execution_count": 265,
     "metadata": {},
     "output_type": "execute_result"
    }
   ],
   "source": [
    "tissier_labels.head()"
   ]
  },
  {
   "cell_type": "code",
   "execution_count": 266,
   "id": "afd9748b",
   "metadata": {},
   "outputs": [],
   "source": [
    "tissier_ACC = tissier_labels[['Sujet', 'ACC_right_2levels_new', 'ACC_left_2_levels_new']]"
   ]
  },
  {
   "cell_type": "code",
   "execution_count": 267,
   "id": "bbbfcb33",
   "metadata": {},
   "outputs": [
    {
     "data": {
      "text/html": [
       "<div>\n",
       "<style scoped>\n",
       "    .dataframe tbody tr th:only-of-type {\n",
       "        vertical-align: middle;\n",
       "    }\n",
       "\n",
       "    .dataframe tbody tr th {\n",
       "        vertical-align: top;\n",
       "    }\n",
       "\n",
       "    .dataframe thead th {\n",
       "        text-align: right;\n",
       "    }\n",
       "</style>\n",
       "<table border=\"1\" class=\"dataframe\">\n",
       "  <thead>\n",
       "    <tr style=\"text-align: right;\">\n",
       "      <th></th>\n",
       "      <th>Sujet</th>\n",
       "      <th>ACC_right_2levels_new</th>\n",
       "      <th>ACC_left_2_levels_new</th>\n",
       "    </tr>\n",
       "  </thead>\n",
       "  <tbody>\n",
       "    <tr>\n",
       "      <th>0</th>\n",
       "      <td>a0012</td>\n",
       "      <td>absent</td>\n",
       "      <td>present</td>\n",
       "    </tr>\n",
       "    <tr>\n",
       "      <th>1</th>\n",
       "      <td>a0018</td>\n",
       "      <td>absent</td>\n",
       "      <td>present</td>\n",
       "    </tr>\n",
       "    <tr>\n",
       "      <th>2</th>\n",
       "      <td>a0019</td>\n",
       "      <td>present</td>\n",
       "      <td>absent</td>\n",
       "    </tr>\n",
       "    <tr>\n",
       "      <th>3</th>\n",
       "      <td>a0022</td>\n",
       "      <td>absent</td>\n",
       "      <td>present</td>\n",
       "    </tr>\n",
       "    <tr>\n",
       "      <th>4</th>\n",
       "      <td>a0023</td>\n",
       "      <td>absent</td>\n",
       "      <td>present</td>\n",
       "    </tr>\n",
       "  </tbody>\n",
       "</table>\n",
       "</div>"
      ],
      "text/plain": [
       "   Sujet ACC_right_2levels_new ACC_left_2_levels_new\n",
       "0  a0012                absent               present\n",
       "1  a0018                absent               present\n",
       "2  a0019               present                absent\n",
       "3  a0022                absent               present\n",
       "4  a0023                absent               present"
      ]
     },
     "execution_count": 267,
     "metadata": {},
     "output_type": "execute_result"
    }
   ],
   "source": [
    "tissier_ACC.head()"
   ]
  },
  {
   "cell_type": "code",
   "execution_count": 268,
   "id": "a558f91b",
   "metadata": {},
   "outputs": [],
   "source": [
    "tissier_ACC.ACC_right_2levels_new.replace(to_replace=dict(absent=0, present=1), inplace=True)"
   ]
  },
  {
   "cell_type": "code",
   "execution_count": 269,
   "id": "70a74c08",
   "metadata": {},
   "outputs": [],
   "source": [
    "tissier_ACC.ACC_left_2_levels_new.replace(to_replace=dict(absent=0, present=1), inplace=True)"
   ]
  },
  {
   "cell_type": "code",
   "execution_count": 270,
   "id": "57a37707",
   "metadata": {},
   "outputs": [
    {
     "data": {
      "text/html": [
       "<div>\n",
       "<style scoped>\n",
       "    .dataframe tbody tr th:only-of-type {\n",
       "        vertical-align: middle;\n",
       "    }\n",
       "\n",
       "    .dataframe tbody tr th {\n",
       "        vertical-align: top;\n",
       "    }\n",
       "\n",
       "    .dataframe thead th {\n",
       "        text-align: right;\n",
       "    }\n",
       "</style>\n",
       "<table border=\"1\" class=\"dataframe\">\n",
       "  <thead>\n",
       "    <tr style=\"text-align: right;\">\n",
       "      <th></th>\n",
       "      <th>Sujet</th>\n",
       "      <th>ACC_right_2levels_new</th>\n",
       "      <th>ACC_left_2_levels_new</th>\n",
       "    </tr>\n",
       "  </thead>\n",
       "  <tbody>\n",
       "    <tr>\n",
       "      <th>0</th>\n",
       "      <td>a0012</td>\n",
       "      <td>0</td>\n",
       "      <td>1</td>\n",
       "    </tr>\n",
       "    <tr>\n",
       "      <th>1</th>\n",
       "      <td>a0018</td>\n",
       "      <td>0</td>\n",
       "      <td>1</td>\n",
       "    </tr>\n",
       "    <tr>\n",
       "      <th>2</th>\n",
       "      <td>a0019</td>\n",
       "      <td>1</td>\n",
       "      <td>0</td>\n",
       "    </tr>\n",
       "    <tr>\n",
       "      <th>3</th>\n",
       "      <td>a0022</td>\n",
       "      <td>0</td>\n",
       "      <td>1</td>\n",
       "    </tr>\n",
       "    <tr>\n",
       "      <th>4</th>\n",
       "      <td>a0023</td>\n",
       "      <td>0</td>\n",
       "      <td>1</td>\n",
       "    </tr>\n",
       "  </tbody>\n",
       "</table>\n",
       "</div>"
      ],
      "text/plain": [
       "   Sujet  ACC_right_2levels_new  ACC_left_2_levels_new\n",
       "0  a0012                      0                      1\n",
       "1  a0018                      0                      1\n",
       "2  a0019                      1                      0\n",
       "3  a0022                      0                      1\n",
       "4  a0023                      0                      1"
      ]
     },
     "execution_count": 270,
     "metadata": {},
     "output_type": "execute_result"
    }
   ],
   "source": [
    "tissier_ACC.head()"
   ]
  },
  {
   "cell_type": "code",
   "execution_count": 271,
   "id": "1bf322d7",
   "metadata": {},
   "outputs": [
    {
     "name": "stdout",
     "output_type": "stream",
     "text": [
      "clusters centroids = (3, 4)\n",
      "Average silhouette score: 0.42013081908226013\n"
     ]
    }
   ],
   "source": [
    "kmeans = KMeans(n_clusters=3, random_state=0).fit(embeddings)\n",
    "cluster_labels = kmeans.labels_\n",
    "clusters_centroids = kmeans.cluster_centers_\n",
    "print(f\"clusters centroids = {clusters_centroids.shape}\")\n",
    "print(f\"Average silhouette score: {metrics.silhouette_score(embeddings, cluster_labels)}\")\n"
   ]
  },
  {
   "cell_type": "code",
   "execution_count": 272,
   "id": "d52c302e",
   "metadata": {},
   "outputs": [
    {
     "ename": "ValueError",
     "evalue": "Shape of passed values is (4, 38), indices imply (4, 82)",
     "output_type": "error",
     "traceback": [
      "\u001b[0;31m---------------------------------------------------------------------------\u001b[0m",
      "\u001b[0;31mValueError\u001b[0m                                Traceback (most recent call last)",
      "\u001b[0;32m/usr/lib/python3/dist-packages/pandas/core/internals.py\u001b[0m in \u001b[0;36mcreate_block_manager_from_blocks\u001b[0;34m(blocks, axes)\u001b[0m\n\u001b[1;32m   4858\u001b[0m \u001b[0;34m\u001b[0m\u001b[0m\n\u001b[0;32m-> 4859\u001b[0;31m         \u001b[0mmgr\u001b[0m \u001b[0;34m=\u001b[0m \u001b[0mBlockManager\u001b[0m\u001b[0;34m(\u001b[0m\u001b[0mblocks\u001b[0m\u001b[0;34m,\u001b[0m \u001b[0maxes\u001b[0m\u001b[0;34m)\u001b[0m\u001b[0;34m\u001b[0m\u001b[0;34m\u001b[0m\u001b[0m\n\u001b[0m\u001b[1;32m   4860\u001b[0m         \u001b[0mmgr\u001b[0m\u001b[0;34m.\u001b[0m\u001b[0m_consolidate_inplace\u001b[0m\u001b[0;34m(\u001b[0m\u001b[0;34m)\u001b[0m\u001b[0;34m\u001b[0m\u001b[0;34m\u001b[0m\u001b[0m\n",
      "\u001b[0;32m/usr/lib/python3/dist-packages/pandas/core/internals.py\u001b[0m in \u001b[0;36m__init__\u001b[0;34m(self, blocks, axes, do_integrity_check)\u001b[0m\n\u001b[1;32m   3281\u001b[0m         \u001b[0;32mif\u001b[0m \u001b[0mdo_integrity_check\u001b[0m\u001b[0;34m:\u001b[0m\u001b[0;34m\u001b[0m\u001b[0;34m\u001b[0m\u001b[0m\n\u001b[0;32m-> 3282\u001b[0;31m             \u001b[0mself\u001b[0m\u001b[0;34m.\u001b[0m\u001b[0m_verify_integrity\u001b[0m\u001b[0;34m(\u001b[0m\u001b[0;34m)\u001b[0m\u001b[0;34m\u001b[0m\u001b[0;34m\u001b[0m\u001b[0m\n\u001b[0m\u001b[1;32m   3283\u001b[0m \u001b[0;34m\u001b[0m\u001b[0m\n",
      "\u001b[0;32m/usr/lib/python3/dist-packages/pandas/core/internals.py\u001b[0m in \u001b[0;36m_verify_integrity\u001b[0;34m(self)\u001b[0m\n\u001b[1;32m   3492\u001b[0m             \u001b[0;32mif\u001b[0m \u001b[0mblock\u001b[0m\u001b[0;34m.\u001b[0m\u001b[0m_verify_integrity\u001b[0m \u001b[0;32mand\u001b[0m \u001b[0mblock\u001b[0m\u001b[0;34m.\u001b[0m\u001b[0mshape\u001b[0m\u001b[0;34m[\u001b[0m\u001b[0;36m1\u001b[0m\u001b[0;34m:\u001b[0m\u001b[0;34m]\u001b[0m \u001b[0;34m!=\u001b[0m \u001b[0mmgr_shape\u001b[0m\u001b[0;34m[\u001b[0m\u001b[0;36m1\u001b[0m\u001b[0;34m:\u001b[0m\u001b[0;34m]\u001b[0m\u001b[0;34m:\u001b[0m\u001b[0;34m\u001b[0m\u001b[0;34m\u001b[0m\u001b[0m\n\u001b[0;32m-> 3493\u001b[0;31m                 \u001b[0mconstruction_error\u001b[0m\u001b[0;34m(\u001b[0m\u001b[0mtot_items\u001b[0m\u001b[0;34m,\u001b[0m \u001b[0mblock\u001b[0m\u001b[0;34m.\u001b[0m\u001b[0mshape\u001b[0m\u001b[0;34m[\u001b[0m\u001b[0;36m1\u001b[0m\u001b[0;34m:\u001b[0m\u001b[0;34m]\u001b[0m\u001b[0;34m,\u001b[0m \u001b[0mself\u001b[0m\u001b[0;34m.\u001b[0m\u001b[0maxes\u001b[0m\u001b[0;34m)\u001b[0m\u001b[0;34m\u001b[0m\u001b[0;34m\u001b[0m\u001b[0m\n\u001b[0m\u001b[1;32m   3494\u001b[0m         \u001b[0;32mif\u001b[0m \u001b[0mlen\u001b[0m\u001b[0;34m(\u001b[0m\u001b[0mself\u001b[0m\u001b[0;34m.\u001b[0m\u001b[0mitems\u001b[0m\u001b[0;34m)\u001b[0m \u001b[0;34m!=\u001b[0m \u001b[0mtot_items\u001b[0m\u001b[0;34m:\u001b[0m\u001b[0;34m\u001b[0m\u001b[0;34m\u001b[0m\u001b[0m\n",
      "\u001b[0;32m/usr/lib/python3/dist-packages/pandas/core/internals.py\u001b[0m in \u001b[0;36mconstruction_error\u001b[0;34m(tot_items, block_shape, axes, e)\u001b[0m\n\u001b[1;32m   4842\u001b[0m     raise ValueError(\"Shape of passed values is {0}, indices imply {1}\".format(\n\u001b[0;32m-> 4843\u001b[0;31m         passed, implied))\n\u001b[0m\u001b[1;32m   4844\u001b[0m \u001b[0;34m\u001b[0m\u001b[0m\n",
      "\u001b[0;31mValueError\u001b[0m: Shape of passed values is (4, 38), indices imply (4, 82)",
      "\nDuring handling of the above exception, another exception occurred:\n",
      "\u001b[0;31mValueError\u001b[0m                                Traceback (most recent call last)",
      "\u001b[0;32m<ipython-input-272-d60113cb78d7>\u001b[0m in \u001b[0;36m<module>\u001b[0;34m()\u001b[0m\n\u001b[0;32m----> 1\u001b[0;31m \u001b[0mdstrb_sub\u001b[0m \u001b[0;34m=\u001b[0m \u001b[0mpd\u001b[0m\u001b[0;34m.\u001b[0m\u001b[0mDataFrame\u001b[0m\u001b[0;34m(\u001b[0m\u001b[0membeddings\u001b[0m\u001b[0;34m.\u001b[0m\u001b[0mnumpy\u001b[0m\u001b[0;34m(\u001b[0m\u001b[0;34m)\u001b[0m\u001b[0;34m,\u001b[0m \u001b[0mindex\u001b[0m\u001b[0;34m=\u001b[0m\u001b[0mlabels\u001b[0m\u001b[0;34m,\u001b[0m \u001b[0mcolumns\u001b[0m\u001b[0;34m=\u001b[0m\u001b[0;34m[\u001b[0m\u001b[0;36m1\u001b[0m\u001b[0;34m,\u001b[0m \u001b[0;36m2\u001b[0m\u001b[0;34m,\u001b[0m \u001b[0;36m3\u001b[0m\u001b[0;34m,\u001b[0m \u001b[0;36m4\u001b[0m\u001b[0;34m]\u001b[0m\u001b[0;34m)\u001b[0m\u001b[0;34m\u001b[0m\u001b[0;34m\u001b[0m\u001b[0m\n\u001b[0m\u001b[1;32m      2\u001b[0m \u001b[0mdstrb_sub\u001b[0m\u001b[0;34m[\u001b[0m\u001b[0;34m'cluster_lab'\u001b[0m\u001b[0;34m]\u001b[0m \u001b[0;34m=\u001b[0m \u001b[0mcluster_labels\u001b[0m\u001b[0;34m\u001b[0m\u001b[0;34m\u001b[0m\u001b[0m\n",
      "\u001b[0;32m/usr/lib/python3/dist-packages/pandas/core/frame.py\u001b[0m in \u001b[0;36m__init__\u001b[0;34m(self, data, index, columns, dtype, copy)\u001b[0m\n\u001b[1;32m    377\u001b[0m             \u001b[0;32melse\u001b[0m\u001b[0;34m:\u001b[0m\u001b[0;34m\u001b[0m\u001b[0;34m\u001b[0m\u001b[0m\n\u001b[1;32m    378\u001b[0m                 mgr = self._init_ndarray(data, index, columns, dtype=dtype,\n\u001b[0;32m--> 379\u001b[0;31m                                          copy=copy)\n\u001b[0m\u001b[1;32m    380\u001b[0m         \u001b[0;32melif\u001b[0m \u001b[0misinstance\u001b[0m\u001b[0;34m(\u001b[0m\u001b[0mdata\u001b[0m\u001b[0;34m,\u001b[0m \u001b[0;34m(\u001b[0m\u001b[0mlist\u001b[0m\u001b[0;34m,\u001b[0m \u001b[0mtypes\u001b[0m\u001b[0;34m.\u001b[0m\u001b[0mGeneratorType\u001b[0m\u001b[0;34m)\u001b[0m\u001b[0;34m)\u001b[0m\u001b[0;34m:\u001b[0m\u001b[0;34m\u001b[0m\u001b[0;34m\u001b[0m\u001b[0m\n\u001b[1;32m    381\u001b[0m             \u001b[0;32mif\u001b[0m \u001b[0misinstance\u001b[0m\u001b[0;34m(\u001b[0m\u001b[0mdata\u001b[0m\u001b[0;34m,\u001b[0m \u001b[0mtypes\u001b[0m\u001b[0;34m.\u001b[0m\u001b[0mGeneratorType\u001b[0m\u001b[0;34m)\u001b[0m\u001b[0;34m:\u001b[0m\u001b[0;34m\u001b[0m\u001b[0;34m\u001b[0m\u001b[0m\n",
      "\u001b[0;32m/usr/lib/python3/dist-packages/pandas/core/frame.py\u001b[0m in \u001b[0;36m_init_ndarray\u001b[0;34m(self, values, index, columns, dtype, copy)\u001b[0m\n\u001b[1;32m    534\u001b[0m             \u001b[0mvalues\u001b[0m \u001b[0;34m=\u001b[0m \u001b[0mmaybe_infer_to_datetimelike\u001b[0m\u001b[0;34m(\u001b[0m\u001b[0mvalues\u001b[0m\u001b[0;34m)\u001b[0m\u001b[0;34m\u001b[0m\u001b[0;34m\u001b[0m\u001b[0m\n\u001b[1;32m    535\u001b[0m \u001b[0;34m\u001b[0m\u001b[0m\n\u001b[0;32m--> 536\u001b[0;31m         \u001b[0;32mreturn\u001b[0m \u001b[0mcreate_block_manager_from_blocks\u001b[0m\u001b[0;34m(\u001b[0m\u001b[0;34m[\u001b[0m\u001b[0mvalues\u001b[0m\u001b[0;34m]\u001b[0m\u001b[0;34m,\u001b[0m \u001b[0;34m[\u001b[0m\u001b[0mcolumns\u001b[0m\u001b[0;34m,\u001b[0m \u001b[0mindex\u001b[0m\u001b[0;34m]\u001b[0m\u001b[0;34m)\u001b[0m\u001b[0;34m\u001b[0m\u001b[0;34m\u001b[0m\u001b[0m\n\u001b[0m\u001b[1;32m    537\u001b[0m \u001b[0;34m\u001b[0m\u001b[0m\n\u001b[1;32m    538\u001b[0m     \u001b[0;34m@\u001b[0m\u001b[0mproperty\u001b[0m\u001b[0;34m\u001b[0m\u001b[0;34m\u001b[0m\u001b[0m\n",
      "\u001b[0;32m/usr/lib/python3/dist-packages/pandas/core/internals.py\u001b[0m in \u001b[0;36mcreate_block_manager_from_blocks\u001b[0;34m(blocks, axes)\u001b[0m\n\u001b[1;32m   4864\u001b[0m         \u001b[0mblocks\u001b[0m \u001b[0;34m=\u001b[0m \u001b[0;34m[\u001b[0m\u001b[0mgetattr\u001b[0m\u001b[0;34m(\u001b[0m\u001b[0mb\u001b[0m\u001b[0;34m,\u001b[0m \u001b[0;34m'values'\u001b[0m\u001b[0;34m,\u001b[0m \u001b[0mb\u001b[0m\u001b[0;34m)\u001b[0m \u001b[0;32mfor\u001b[0m \u001b[0mb\u001b[0m \u001b[0;32min\u001b[0m \u001b[0mblocks\u001b[0m\u001b[0;34m]\u001b[0m\u001b[0;34m\u001b[0m\u001b[0;34m\u001b[0m\u001b[0m\n\u001b[1;32m   4865\u001b[0m         \u001b[0mtot_items\u001b[0m \u001b[0;34m=\u001b[0m \u001b[0msum\u001b[0m\u001b[0;34m(\u001b[0m\u001b[0mb\u001b[0m\u001b[0;34m.\u001b[0m\u001b[0mshape\u001b[0m\u001b[0;34m[\u001b[0m\u001b[0;36m0\u001b[0m\u001b[0;34m]\u001b[0m \u001b[0;32mfor\u001b[0m \u001b[0mb\u001b[0m \u001b[0;32min\u001b[0m \u001b[0mblocks\u001b[0m\u001b[0;34m)\u001b[0m\u001b[0;34m\u001b[0m\u001b[0;34m\u001b[0m\u001b[0m\n\u001b[0;32m-> 4866\u001b[0;31m         \u001b[0mconstruction_error\u001b[0m\u001b[0;34m(\u001b[0m\u001b[0mtot_items\u001b[0m\u001b[0;34m,\u001b[0m \u001b[0mblocks\u001b[0m\u001b[0;34m[\u001b[0m\u001b[0;36m0\u001b[0m\u001b[0;34m]\u001b[0m\u001b[0;34m.\u001b[0m\u001b[0mshape\u001b[0m\u001b[0;34m[\u001b[0m\u001b[0;36m1\u001b[0m\u001b[0;34m:\u001b[0m\u001b[0;34m]\u001b[0m\u001b[0;34m,\u001b[0m \u001b[0maxes\u001b[0m\u001b[0;34m,\u001b[0m \u001b[0me\u001b[0m\u001b[0;34m)\u001b[0m\u001b[0;34m\u001b[0m\u001b[0;34m\u001b[0m\u001b[0m\n\u001b[0m\u001b[1;32m   4867\u001b[0m \u001b[0;34m\u001b[0m\u001b[0m\n\u001b[1;32m   4868\u001b[0m \u001b[0;34m\u001b[0m\u001b[0m\n",
      "\u001b[0;32m/usr/lib/python3/dist-packages/pandas/core/internals.py\u001b[0m in \u001b[0;36mconstruction_error\u001b[0;34m(tot_items, block_shape, axes, e)\u001b[0m\n\u001b[1;32m   4841\u001b[0m         \u001b[0;32mraise\u001b[0m \u001b[0mValueError\u001b[0m\u001b[0;34m(\u001b[0m\u001b[0;34m\"Empty data passed with indices specified.\"\u001b[0m\u001b[0;34m)\u001b[0m\u001b[0;34m\u001b[0m\u001b[0;34m\u001b[0m\u001b[0m\n\u001b[1;32m   4842\u001b[0m     raise ValueError(\"Shape of passed values is {0}, indices imply {1}\".format(\n\u001b[0;32m-> 4843\u001b[0;31m         passed, implied))\n\u001b[0m\u001b[1;32m   4844\u001b[0m \u001b[0;34m\u001b[0m\u001b[0m\n\u001b[1;32m   4845\u001b[0m \u001b[0;34m\u001b[0m\u001b[0m\n",
      "\u001b[0;31mValueError\u001b[0m: Shape of passed values is (4, 38), indices imply (4, 82)"
     ]
    }
   ],
   "source": [
    "dstrb_sub = pd.DataFrame(embeddings.numpy(), index=labels, columns=[1, 2, 3, 4])\n",
    "dstrb_sub['cluster_lab'] = cluster_labels"
   ]
  },
  {
   "cell_type": "code",
   "execution_count": 273,
   "id": "ac7e12ad",
   "metadata": {},
   "outputs": [
    {
     "data": {
      "text/html": [
       "<div>\n",
       "<style scoped>\n",
       "    .dataframe tbody tr th:only-of-type {\n",
       "        vertical-align: middle;\n",
       "    }\n",
       "\n",
       "    .dataframe tbody tr th {\n",
       "        vertical-align: top;\n",
       "    }\n",
       "\n",
       "    .dataframe thead th {\n",
       "        text-align: right;\n",
       "    }\n",
       "</style>\n",
       "<table border=\"1\" class=\"dataframe\">\n",
       "  <thead>\n",
       "    <tr style=\"text-align: right;\">\n",
       "      <th></th>\n",
       "      <th>1</th>\n",
       "      <th>2</th>\n",
       "      <th>3</th>\n",
       "      <th>4</th>\n",
       "      <th>cluster_lab</th>\n",
       "    </tr>\n",
       "  </thead>\n",
       "  <tbody>\n",
       "    <tr>\n",
       "      <th>e0032</th>\n",
       "      <td>-1.648452</td>\n",
       "      <td>6.318245</td>\n",
       "      <td>14.644456</td>\n",
       "      <td>10.087028</td>\n",
       "      <td>1</td>\n",
       "    </tr>\n",
       "    <tr>\n",
       "      <th>e0063</th>\n",
       "      <td>-0.853064</td>\n",
       "      <td>6.182405</td>\n",
       "      <td>5.615448</td>\n",
       "      <td>5.258887</td>\n",
       "      <td>2</td>\n",
       "    </tr>\n",
       "    <tr>\n",
       "      <th>a0014</th>\n",
       "      <td>-0.833170</td>\n",
       "      <td>1.243702</td>\n",
       "      <td>-2.275604</td>\n",
       "      <td>6.295847</td>\n",
       "      <td>2</td>\n",
       "    </tr>\n",
       "    <tr>\n",
       "      <th>e0071</th>\n",
       "      <td>-1.309242</td>\n",
       "      <td>-0.885168</td>\n",
       "      <td>5.293868</td>\n",
       "      <td>4.589950</td>\n",
       "      <td>0</td>\n",
       "    </tr>\n",
       "    <tr>\n",
       "      <th>e0045</th>\n",
       "      <td>-1.563387</td>\n",
       "      <td>4.131615</td>\n",
       "      <td>12.250484</td>\n",
       "      <td>6.313830</td>\n",
       "      <td>1</td>\n",
       "    </tr>\n",
       "  </tbody>\n",
       "</table>\n",
       "</div>"
      ],
      "text/plain": [
       "              1         2          3          4  cluster_lab\n",
       "e0032 -1.648452  6.318245  14.644456  10.087028            1\n",
       "e0063 -0.853064  6.182405   5.615448   5.258887            2\n",
       "a0014 -0.833170  1.243702  -2.275604   6.295847            2\n",
       "e0071 -1.309242 -0.885168   5.293868   4.589950            0\n",
       "e0045 -1.563387  4.131615  12.250484   6.313830            1"
      ]
     },
     "execution_count": 273,
     "metadata": {},
     "output_type": "execute_result"
    }
   ],
   "source": [
    "dstrb_sub.head()"
   ]
  },
  {
   "cell_type": "code",
   "execution_count": 362,
   "id": "d8ae330e",
   "metadata": {},
   "outputs": [
    {
     "data": {
      "text/plain": [
       "0    a0012\n",
       "1    a0018\n",
       "2    a0019\n",
       "Name: Sujet, dtype: object"
      ]
     },
     "execution_count": 362,
     "metadata": {},
     "output_type": "execute_result"
    }
   ],
   "source": [
    "tissier_ACC.Sujet[0:3]"
   ]
  },
  {
   "cell_type": "code",
   "execution_count": 274,
   "id": "befafa09",
   "metadata": {},
   "outputs": [],
   "source": [
    "m2 = pd.merge(dstrb_sub, tissier_ACC, left_on=dstrb_sub.index, right_on=tissier_ACC.Sujet)"
   ]
  },
  {
   "cell_type": "code",
   "execution_count": 275,
   "id": "61860afe",
   "metadata": {
    "scrolled": false
   },
   "outputs": [
    {
     "data": {
      "text/html": [
       "<div>\n",
       "<style scoped>\n",
       "    .dataframe tbody tr th:only-of-type {\n",
       "        vertical-align: middle;\n",
       "    }\n",
       "\n",
       "    .dataframe tbody tr th {\n",
       "        vertical-align: top;\n",
       "    }\n",
       "\n",
       "    .dataframe thead th {\n",
       "        text-align: right;\n",
       "    }\n",
       "</style>\n",
       "<table border=\"1\" class=\"dataframe\">\n",
       "  <thead>\n",
       "    <tr style=\"text-align: right;\">\n",
       "      <th></th>\n",
       "      <th>key_0</th>\n",
       "      <th>1</th>\n",
       "      <th>2</th>\n",
       "      <th>3</th>\n",
       "      <th>4</th>\n",
       "      <th>cluster_lab</th>\n",
       "      <th>Sujet</th>\n",
       "      <th>ACC_right_2levels_new</th>\n",
       "      <th>ACC_left_2_levels_new</th>\n",
       "    </tr>\n",
       "  </thead>\n",
       "  <tbody>\n",
       "    <tr>\n",
       "      <th>0</th>\n",
       "      <td>e0032</td>\n",
       "      <td>-1.648452</td>\n",
       "      <td>6.318245</td>\n",
       "      <td>14.644456</td>\n",
       "      <td>10.087028</td>\n",
       "      <td>1</td>\n",
       "      <td>e0032</td>\n",
       "      <td>1</td>\n",
       "      <td>0</td>\n",
       "    </tr>\n",
       "    <tr>\n",
       "      <th>1</th>\n",
       "      <td>e0063</td>\n",
       "      <td>-0.853064</td>\n",
       "      <td>6.182405</td>\n",
       "      <td>5.615448</td>\n",
       "      <td>5.258887</td>\n",
       "      <td>2</td>\n",
       "      <td>e0063</td>\n",
       "      <td>0</td>\n",
       "      <td>1</td>\n",
       "    </tr>\n",
       "    <tr>\n",
       "      <th>2</th>\n",
       "      <td>e0045</td>\n",
       "      <td>-1.563387</td>\n",
       "      <td>4.131615</td>\n",
       "      <td>12.250484</td>\n",
       "      <td>6.313830</td>\n",
       "      <td>1</td>\n",
       "      <td>e0045</td>\n",
       "      <td>1</td>\n",
       "      <td>0</td>\n",
       "    </tr>\n",
       "    <tr>\n",
       "      <th>3</th>\n",
       "      <td>a0035</td>\n",
       "      <td>-1.061304</td>\n",
       "      <td>7.542898</td>\n",
       "      <td>8.391509</td>\n",
       "      <td>9.325624</td>\n",
       "      <td>1</td>\n",
       "      <td>a0035</td>\n",
       "      <td>1</td>\n",
       "      <td>0</td>\n",
       "    </tr>\n",
       "    <tr>\n",
       "      <th>4</th>\n",
       "      <td>e0058</td>\n",
       "      <td>-0.911376</td>\n",
       "      <td>4.336925</td>\n",
       "      <td>4.657456</td>\n",
       "      <td>2.046926</td>\n",
       "      <td>2</td>\n",
       "      <td>e0058</td>\n",
       "      <td>1</td>\n",
       "      <td>1</td>\n",
       "    </tr>\n",
       "  </tbody>\n",
       "</table>\n",
       "</div>"
      ],
      "text/plain": [
       "   key_0         1         2          3          4  cluster_lab  Sujet  \\\n",
       "0  e0032 -1.648452  6.318245  14.644456  10.087028            1  e0032   \n",
       "1  e0063 -0.853064  6.182405   5.615448   5.258887            2  e0063   \n",
       "2  e0045 -1.563387  4.131615  12.250484   6.313830            1  e0045   \n",
       "3  a0035 -1.061304  7.542898   8.391509   9.325624            1  a0035   \n",
       "4  e0058 -0.911376  4.336925   4.657456   2.046926            2  e0058   \n",
       "\n",
       "   ACC_right_2levels_new  ACC_left_2_levels_new  \n",
       "0                      1                      0  \n",
       "1                      0                      1  \n",
       "2                      1                      0  \n",
       "3                      1                      0  \n",
       "4                      1                      1  "
      ]
     },
     "execution_count": 275,
     "metadata": {},
     "output_type": "execute_result"
    }
   ],
   "source": [
    "m2.head()"
   ]
  },
  {
   "cell_type": "code",
   "execution_count": 276,
   "id": "c66f1150",
   "metadata": {},
   "outputs": [],
   "source": [
    "m2 = m2.set_index('Sujet')\n",
    "m2 = m2.drop('key_0', 1)"
   ]
  },
  {
   "cell_type": "code",
   "execution_count": 277,
   "id": "58b88452",
   "metadata": {},
   "outputs": [
    {
     "data": {
      "text/html": [
       "<div>\n",
       "<style scoped>\n",
       "    .dataframe tbody tr th:only-of-type {\n",
       "        vertical-align: middle;\n",
       "    }\n",
       "\n",
       "    .dataframe tbody tr th {\n",
       "        vertical-align: top;\n",
       "    }\n",
       "\n",
       "    .dataframe thead th {\n",
       "        text-align: right;\n",
       "    }\n",
       "</style>\n",
       "<table border=\"1\" class=\"dataframe\">\n",
       "  <thead>\n",
       "    <tr style=\"text-align: right;\">\n",
       "      <th></th>\n",
       "      <th>1</th>\n",
       "      <th>2</th>\n",
       "      <th>3</th>\n",
       "      <th>4</th>\n",
       "      <th>cluster_lab</th>\n",
       "      <th>ACC_right_2levels_new</th>\n",
       "      <th>ACC_left_2_levels_new</th>\n",
       "    </tr>\n",
       "    <tr>\n",
       "      <th>Sujet</th>\n",
       "      <th></th>\n",
       "      <th></th>\n",
       "      <th></th>\n",
       "      <th></th>\n",
       "      <th></th>\n",
       "      <th></th>\n",
       "      <th></th>\n",
       "    </tr>\n",
       "  </thead>\n",
       "  <tbody>\n",
       "    <tr>\n",
       "      <th>e0032</th>\n",
       "      <td>-1.648452</td>\n",
       "      <td>6.318245</td>\n",
       "      <td>14.644456</td>\n",
       "      <td>10.087028</td>\n",
       "      <td>1</td>\n",
       "      <td>1</td>\n",
       "      <td>0</td>\n",
       "    </tr>\n",
       "    <tr>\n",
       "      <th>e0063</th>\n",
       "      <td>-0.853064</td>\n",
       "      <td>6.182405</td>\n",
       "      <td>5.615448</td>\n",
       "      <td>5.258887</td>\n",
       "      <td>2</td>\n",
       "      <td>0</td>\n",
       "      <td>1</td>\n",
       "    </tr>\n",
       "    <tr>\n",
       "      <th>e0045</th>\n",
       "      <td>-1.563387</td>\n",
       "      <td>4.131615</td>\n",
       "      <td>12.250484</td>\n",
       "      <td>6.313830</td>\n",
       "      <td>1</td>\n",
       "      <td>1</td>\n",
       "      <td>0</td>\n",
       "    </tr>\n",
       "    <tr>\n",
       "      <th>a0035</th>\n",
       "      <td>-1.061304</td>\n",
       "      <td>7.542898</td>\n",
       "      <td>8.391509</td>\n",
       "      <td>9.325624</td>\n",
       "      <td>1</td>\n",
       "      <td>1</td>\n",
       "      <td>0</td>\n",
       "    </tr>\n",
       "    <tr>\n",
       "      <th>e0058</th>\n",
       "      <td>-0.911376</td>\n",
       "      <td>4.336925</td>\n",
       "      <td>4.657456</td>\n",
       "      <td>2.046926</td>\n",
       "      <td>2</td>\n",
       "      <td>1</td>\n",
       "      <td>1</td>\n",
       "    </tr>\n",
       "  </tbody>\n",
       "</table>\n",
       "</div>"
      ],
      "text/plain": [
       "              1         2          3          4  cluster_lab  \\\n",
       "Sujet                                                          \n",
       "e0032 -1.648452  6.318245  14.644456  10.087028            1   \n",
       "e0063 -0.853064  6.182405   5.615448   5.258887            2   \n",
       "e0045 -1.563387  4.131615  12.250484   6.313830            1   \n",
       "a0035 -1.061304  7.542898   8.391509   9.325624            1   \n",
       "e0058 -0.911376  4.336925   4.657456   2.046926            2   \n",
       "\n",
       "       ACC_right_2levels_new  ACC_left_2_levels_new  \n",
       "Sujet                                                \n",
       "e0032                      1                      0  \n",
       "e0063                      0                      1  \n",
       "e0045                      1                      0  \n",
       "a0035                      1                      0  \n",
       "e0058                      1                      1  "
      ]
     },
     "execution_count": 277,
     "metadata": {},
     "output_type": "execute_result"
    }
   ],
   "source": [
    "m2.head()"
   ]
  },
  {
   "cell_type": "code",
   "execution_count": 278,
   "id": "afdd74d4",
   "metadata": {},
   "outputs": [
    {
     "data": {
      "text/plain": [
       "(82, 5)"
      ]
     },
     "execution_count": 278,
     "metadata": {},
     "output_type": "execute_result"
    }
   ],
   "source": [
    "dstrb_sub.shape"
   ]
  },
  {
   "cell_type": "code",
   "execution_count": 279,
   "id": "2acd79bf",
   "metadata": {},
   "outputs": [
    {
     "data": {
      "text/plain": [
       "(38, 7)"
      ]
     },
     "execution_count": 279,
     "metadata": {},
     "output_type": "execute_result"
    }
   ],
   "source": [
    "m2.shape"
   ]
  },
  {
   "cell_type": "markdown",
   "id": "2545ff63",
   "metadata": {},
   "source": [
    "# Visualizations"
   ]
  },
  {
   "cell_type": "markdown",
   "id": "f925d94c",
   "metadata": {},
   "source": [
    "We first visualize on two first dimensions of the latent space"
   ]
  },
  {
   "cell_type": "code",
   "execution_count": 280,
   "id": "c0397054",
   "metadata": {},
   "outputs": [
    {
     "data": {
      "image/png": "[encoded data removed]",
      "text/plain": [
       "<Figure size 432x288 with 1 Axes>"
      ]
     },
     "metadata": {
      "needs_background": "light"
     },
     "output_type": "display_data"
    }
   ],
   "source": [
    "arr = np.array([np.array([dstrb_sub[k][i] for k in m2.columns[0:2]]) for i in range(len(m2))])\n",
    "\n",
    "color_dict = {0: 'blue', 1:'red'}\n",
    "fig, ax = plt.subplots()\n",
    "\n",
    "for g in np.unique([m2.ACC_right_2levels_new]):\n",
    "    ix = np.where(m2.ACC_right_2levels_new == g)\n",
    "    x = [arr[ix][k][0] for k in range(len(ix[0]))]\n",
    "    y = [arr[ix][k][1] for k in range(len(ix[0]))]\n",
    "    ax.scatter(x, y, c = color_dict[g], label = g)\n",
    "\n",
    "plt.xlabel(f'dimension 1', fontsize=14)\n",
    "plt.ylabel(f'dimension 2', fontsize=14)\n",
    "plt.legend()\n",
    "plt.show()"
   ]
  },
  {
   "cell_type": "markdown",
   "id": "7f99adf7",
   "metadata": {},
   "source": [
    "We then perform a t-SNE and visualize the results with labels"
   ]
  },
  {
   "cell_type": "code",
   "execution_count": 281,
   "id": "50e8dcfd",
   "metadata": {},
   "outputs": [],
   "source": [
    "m2_latent = m2.iloc[:,0:4]"
   ]
  },
  {
   "cell_type": "code",
   "execution_count": 282,
   "id": "3c75a295",
   "metadata": {},
   "outputs": [
    {
     "data": {
      "text/html": [
       "<div>\n",
       "<style scoped>\n",
       "    .dataframe tbody tr th:only-of-type {\n",
       "        vertical-align: middle;\n",
       "    }\n",
       "\n",
       "    .dataframe tbody tr th {\n",
       "        vertical-align: top;\n",
       "    }\n",
       "\n",
       "    .dataframe thead th {\n",
       "        text-align: right;\n",
       "    }\n",
       "</style>\n",
       "<table border=\"1\" class=\"dataframe\">\n",
       "  <thead>\n",
       "    <tr style=\"text-align: right;\">\n",
       "      <th></th>\n",
       "      <th>1</th>\n",
       "      <th>2</th>\n",
       "      <th>3</th>\n",
       "      <th>4</th>\n",
       "    </tr>\n",
       "    <tr>\n",
       "      <th>Sujet</th>\n",
       "      <th></th>\n",
       "      <th></th>\n",
       "      <th></th>\n",
       "      <th></th>\n",
       "    </tr>\n",
       "  </thead>\n",
       "  <tbody>\n",
       "    <tr>\n",
       "      <th>e0032</th>\n",
       "      <td>-1.648452</td>\n",
       "      <td>6.318245</td>\n",
       "      <td>14.644456</td>\n",
       "      <td>10.087028</td>\n",
       "    </tr>\n",
       "    <tr>\n",
       "      <th>e0063</th>\n",
       "      <td>-0.853064</td>\n",
       "      <td>6.182405</td>\n",
       "      <td>5.615448</td>\n",
       "      <td>5.258887</td>\n",
       "    </tr>\n",
       "    <tr>\n",
       "      <th>e0045</th>\n",
       "      <td>-1.563387</td>\n",
       "      <td>4.131615</td>\n",
       "      <td>12.250484</td>\n",
       "      <td>6.313830</td>\n",
       "    </tr>\n",
       "    <tr>\n",
       "      <th>a0035</th>\n",
       "      <td>-1.061304</td>\n",
       "      <td>7.542898</td>\n",
       "      <td>8.391509</td>\n",
       "      <td>9.325624</td>\n",
       "    </tr>\n",
       "    <tr>\n",
       "      <th>e0058</th>\n",
       "      <td>-0.911376</td>\n",
       "      <td>4.336925</td>\n",
       "      <td>4.657456</td>\n",
       "      <td>2.046926</td>\n",
       "    </tr>\n",
       "  </tbody>\n",
       "</table>\n",
       "</div>"
      ],
      "text/plain": [
       "              1         2          3          4\n",
       "Sujet                                          \n",
       "e0032 -1.648452  6.318245  14.644456  10.087028\n",
       "e0063 -0.853064  6.182405   5.615448   5.258887\n",
       "e0045 -1.563387  4.131615  12.250484   6.313830\n",
       "a0035 -1.061304  7.542898   8.391509   9.325624\n",
       "e0058 -0.911376  4.336925   4.657456   2.046926"
      ]
     },
     "execution_count": 282,
     "metadata": {},
     "output_type": "execute_result"
    }
   ],
   "source": [
    "m2_latent.head()"
   ]
  },
  {
   "cell_type": "code",
   "execution_count": 283,
   "id": "85886e24",
   "metadata": {},
   "outputs": [
    {
     "data": {
      "text/plain": [
       "pandas.core.frame.DataFrame"
      ]
     },
     "execution_count": 283,
     "metadata": {},
     "output_type": "execute_result"
    }
   ],
   "source": [
    "type(m2_latent)"
   ]
  },
  {
   "cell_type": "code",
   "execution_count": 284,
   "id": "51109d9b",
   "metadata": {},
   "outputs": [],
   "source": [
    "embeddings = torch.tensor(m2_latent.values)"
   ]
  },
  {
   "cell_type": "code",
   "execution_count": 285,
   "id": "e08a7777",
   "metadata": {},
   "outputs": [
    {
     "data": {
      "text/plain": [
       "tensor([[-1.6485,  6.3182, 14.6445, 10.0870],\n",
       "        [-0.8531,  6.1824,  5.6154,  5.2589],\n",
       "        [-1.5634,  4.1316, 12.2505,  6.3138],\n",
       "        [-1.0613,  7.5429,  8.3915,  9.3256],\n",
       "        [-0.9114,  4.3369,  4.6575,  2.0469],\n",
       "        [-1.1710,  7.8636, 10.6115, 10.6092],\n",
       "        [-0.8680,  4.4419,  2.3224,  1.7245],\n",
       "        [-1.1555,  5.8157, 11.4687,  6.0536],\n",
       "        [-1.3984,  6.8272,  8.5791, 10.6302],\n",
       "        [-0.8707,  7.1778,  8.6492,  7.5491]])"
      ]
     },
     "execution_count": 285,
     "metadata": {},
     "output_type": "execute_result"
    }
   ],
   "source": [
    "embeddings[:10]"
   ]
  },
  {
   "cell_type": "code",
   "execution_count": 286,
   "id": "03116d2e",
   "metadata": {},
   "outputs": [],
   "source": [
    "tsne = TSNE(n_components=2, perplexity=5, init='pca', random_state=50)\n",
    "X_tsne = tsne.fit_transform(embeddings)"
   ]
  },
  {
   "cell_type": "code",
   "execution_count": 287,
   "id": "6453049e",
   "metadata": {},
   "outputs": [],
   "source": [
    "lab_acc = list(m2['ACC_right_2levels_new'])\n",
    "color_acc = [color_dict[lab] for lab in lab_acc]"
   ]
  },
  {
   "cell_type": "code",
   "execution_count": 288,
   "id": "65c31017",
   "metadata": {},
   "outputs": [],
   "source": [
    "lab_acc_left = list(m2['ACC_left_2_levels_new'])\n",
    "color_acc_left = [color_dict[lab] for lab in lab_acc_left]"
   ]
  },
  {
   "cell_type": "code",
   "execution_count": 289,
   "id": "d4914ab4",
   "metadata": {},
   "outputs": [
    {
     "data": {
      "image/png": "[encoded data removed]",
      "text/plain": [
       "<Figure size 432x288 with 1 Axes>"
      ]
     },
     "metadata": {
      "needs_background": "light"
     },
     "output_type": "display_data"
    }
   ],
   "source": [
    "fig, ax = plt.subplots(1)\n",
    "mscatter(X_tsne[:, 0], X_tsne[:, 1], c=color_acc_left, s=20, ax=ax)\n",
    "plt.show()"
   ]
  },
  {
   "cell_type": "markdown",
   "id": "5e6d8e74",
   "metadata": {},
   "source": [
    "# Get HCP data and put them together with Tissier data"
   ]
  },
  {
   "cell_type": "code",
   "execution_count": 290,
   "id": "bf6a9bae",
   "metadata": {},
   "outputs": [
    {
     "name": "stdout",
     "output_type": "stream",
     "text": [
      "torch.Size([550, 4])\n"
     ]
    }
   ],
   "source": [
    "# We load the hcp embeddings\n",
    "\n",
    "val_embeddings_file = f\"{hcp_dir}/train_val_embeddings.pt\"\n",
    "hcp_embeddings = torch.load(val_embeddings_file)\n",
    "print(hcp_embeddings.shape)"
   ]
  },
  {
   "cell_type": "code",
   "execution_count": 291,
   "id": "01f39fc8",
   "metadata": {},
   "outputs": [
    {
     "name": "stdout",
     "output_type": "stream",
     "text": [
      "['129634', '136833', '206222', '138837', '987983', '562345', '182032', '275645', '151021', '177342']\n"
     ]
    }
   ],
   "source": [
    "# We load the labels, labels being subject names\n",
    "with open(f\"{hcp_dir}/train_val_filenames.json\", 'r') as f:\n",
    "    hcp_labels = json.load(f)\n",
    "print(hcp_labels[:10])"
   ]
  },
  {
   "cell_type": "code",
   "execution_count": 292,
   "id": "3eae2cc3",
   "metadata": {},
   "outputs": [],
   "source": [
    "tsne = TSNE(n_components=2, perplexity=30, init='pca', random_state=50)\n",
    "X_tsne_hcp = tsne.fit_transform(hcp_embeddings)"
   ]
  },
  {
   "cell_type": "code",
   "execution_count": 293,
   "id": "46687f14",
   "metadata": {},
   "outputs": [
    {
     "data": {
      "image/png": "[encoded data removed]",
      "text/plain": [
       "<Figure size 432x288 with 1 Axes>"
      ]
     },
     "metadata": {
      "needs_background": "light"
     },
     "output_type": "display_data"
    }
   ],
   "source": [
    "fig, ax = plt.subplots(1)\n",
    "mscatter(X_tsne_hcp[:, 0], X_tsne_hcp[:, 1], s=20, ax=ax)\n",
    "plt.show()"
   ]
  },
  {
   "cell_type": "code",
   "execution_count": 294,
   "id": "25527916",
   "metadata": {},
   "outputs": [],
   "source": [
    "hcp_df = pd.DataFrame(hcp_embeddings.numpy(), index=hcp_labels, columns=[1, 2, 3, 4])"
   ]
  },
  {
   "cell_type": "code",
   "execution_count": 295,
   "id": "f6b53db0",
   "metadata": {},
   "outputs": [],
   "source": [
    "hcp_df[\"cluster_lab\"] = -1\n",
    "hcp_df[\"ACC_right_2levels_new\"] = -1\n",
    "hcp_df[\"ACC_left_2_levels_new\"] = -1"
   ]
  },
  {
   "cell_type": "code",
   "execution_count": 296,
   "id": "e42f59f9",
   "metadata": {},
   "outputs": [
    {
     "data": {
      "text/plain": [
       "(550, 7)"
      ]
     },
     "execution_count": 296,
     "metadata": {},
     "output_type": "execute_result"
    }
   ],
   "source": [
    "hcp_df.shape"
   ]
  },
  {
   "cell_type": "code",
   "execution_count": 297,
   "id": "714cba70",
   "metadata": {},
   "outputs": [],
   "source": [
    "hcp_df.index.names = ['Sujet']"
   ]
  },
  {
   "cell_type": "code",
   "execution_count": 298,
   "id": "4cb49c4e",
   "metadata": {},
   "outputs": [
    {
     "data": {
      "text/plain": [
       "(550, 7)"
      ]
     },
     "execution_count": 298,
     "metadata": {},
     "output_type": "execute_result"
    }
   ],
   "source": [
    "hcp_df.shape"
   ]
  },
  {
   "cell_type": "code",
   "execution_count": 299,
   "id": "f6b40eb0",
   "metadata": {
    "scrolled": true
   },
   "outputs": [
    {
     "data": {
      "text/html": [
       "<div>\n",
       "<style scoped>\n",
       "    .dataframe tbody tr th:only-of-type {\n",
       "        vertical-align: middle;\n",
       "    }\n",
       "\n",
       "    .dataframe tbody tr th {\n",
       "        vertical-align: top;\n",
       "    }\n",
       "\n",
       "    .dataframe thead th {\n",
       "        text-align: right;\n",
       "    }\n",
       "</style>\n",
       "<table border=\"1\" class=\"dataframe\">\n",
       "  <thead>\n",
       "    <tr style=\"text-align: right;\">\n",
       "      <th></th>\n",
       "      <th>1</th>\n",
       "      <th>2</th>\n",
       "      <th>3</th>\n",
       "      <th>4</th>\n",
       "      <th>cluster_lab</th>\n",
       "      <th>ACC_right_2levels_new</th>\n",
       "      <th>ACC_left_2_levels_new</th>\n",
       "    </tr>\n",
       "    <tr>\n",
       "      <th>Sujet</th>\n",
       "      <th></th>\n",
       "      <th></th>\n",
       "      <th></th>\n",
       "      <th></th>\n",
       "      <th></th>\n",
       "      <th></th>\n",
       "      <th></th>\n",
       "    </tr>\n",
       "  </thead>\n",
       "  <tbody>\n",
       "    <tr>\n",
       "      <th>129634</th>\n",
       "      <td>-1.579225</td>\n",
       "      <td>5.908354</td>\n",
       "      <td>11.362507</td>\n",
       "      <td>9.859923</td>\n",
       "      <td>-1</td>\n",
       "      <td>-1</td>\n",
       "      <td>-1</td>\n",
       "    </tr>\n",
       "    <tr>\n",
       "      <th>136833</th>\n",
       "      <td>-1.279658</td>\n",
       "      <td>7.395753</td>\n",
       "      <td>10.953645</td>\n",
       "      <td>10.460653</td>\n",
       "      <td>-1</td>\n",
       "      <td>-1</td>\n",
       "      <td>-1</td>\n",
       "    </tr>\n",
       "    <tr>\n",
       "      <th>206222</th>\n",
       "      <td>-1.124506</td>\n",
       "      <td>1.848059</td>\n",
       "      <td>1.461904</td>\n",
       "      <td>5.974949</td>\n",
       "      <td>-1</td>\n",
       "      <td>-1</td>\n",
       "      <td>-1</td>\n",
       "    </tr>\n",
       "    <tr>\n",
       "      <th>138837</th>\n",
       "      <td>-1.068878</td>\n",
       "      <td>5.266653</td>\n",
       "      <td>0.712424</td>\n",
       "      <td>4.285092</td>\n",
       "      <td>-1</td>\n",
       "      <td>-1</td>\n",
       "      <td>-1</td>\n",
       "    </tr>\n",
       "    <tr>\n",
       "      <th>987983</th>\n",
       "      <td>-0.843226</td>\n",
       "      <td>3.528162</td>\n",
       "      <td>4.100409</td>\n",
       "      <td>-0.345357</td>\n",
       "      <td>-1</td>\n",
       "      <td>-1</td>\n",
       "      <td>-1</td>\n",
       "    </tr>\n",
       "  </tbody>\n",
       "</table>\n",
       "</div>"
      ],
      "text/plain": [
       "               1         2          3          4  cluster_lab  \\\n",
       "Sujet                                                           \n",
       "129634 -1.579225  5.908354  11.362507   9.859923           -1   \n",
       "136833 -1.279658  7.395753  10.953645  10.460653           -1   \n",
       "206222 -1.124506  1.848059   1.461904   5.974949           -1   \n",
       "138837 -1.068878  5.266653   0.712424   4.285092           -1   \n",
       "987983 -0.843226  3.528162   4.100409  -0.345357           -1   \n",
       "\n",
       "        ACC_right_2levels_new  ACC_left_2_levels_new  \n",
       "Sujet                                                 \n",
       "129634                     -1                     -1  \n",
       "136833                     -1                     -1  \n",
       "206222                     -1                     -1  \n",
       "138837                     -1                     -1  \n",
       "987983                     -1                     -1  "
      ]
     },
     "execution_count": 299,
     "metadata": {},
     "output_type": "execute_result"
    }
   ],
   "source": [
    "hcp_df.head()"
   ]
  },
  {
   "cell_type": "code",
   "execution_count": 300,
   "id": "b2142764",
   "metadata": {},
   "outputs": [
    {
     "data": {
      "text/html": [
       "<div>\n",
       "<style scoped>\n",
       "    .dataframe tbody tr th:only-of-type {\n",
       "        vertical-align: middle;\n",
       "    }\n",
       "\n",
       "    .dataframe tbody tr th {\n",
       "        vertical-align: top;\n",
       "    }\n",
       "\n",
       "    .dataframe thead th {\n",
       "        text-align: right;\n",
       "    }\n",
       "</style>\n",
       "<table border=\"1\" class=\"dataframe\">\n",
       "  <thead>\n",
       "    <tr style=\"text-align: right;\">\n",
       "      <th></th>\n",
       "      <th>1</th>\n",
       "      <th>2</th>\n",
       "      <th>3</th>\n",
       "      <th>4</th>\n",
       "      <th>cluster_lab</th>\n",
       "      <th>ACC_right_2levels_new</th>\n",
       "      <th>ACC_left_2_levels_new</th>\n",
       "    </tr>\n",
       "    <tr>\n",
       "      <th>Sujet</th>\n",
       "      <th></th>\n",
       "      <th></th>\n",
       "      <th></th>\n",
       "      <th></th>\n",
       "      <th></th>\n",
       "      <th></th>\n",
       "      <th></th>\n",
       "    </tr>\n",
       "  </thead>\n",
       "  <tbody>\n",
       "    <tr>\n",
       "      <th>e0032</th>\n",
       "      <td>-1.648452</td>\n",
       "      <td>6.318245</td>\n",
       "      <td>14.644456</td>\n",
       "      <td>10.087028</td>\n",
       "      <td>1</td>\n",
       "      <td>1</td>\n",
       "      <td>0</td>\n",
       "    </tr>\n",
       "    <tr>\n",
       "      <th>e0063</th>\n",
       "      <td>-0.853064</td>\n",
       "      <td>6.182405</td>\n",
       "      <td>5.615448</td>\n",
       "      <td>5.258887</td>\n",
       "      <td>2</td>\n",
       "      <td>0</td>\n",
       "      <td>1</td>\n",
       "    </tr>\n",
       "    <tr>\n",
       "      <th>e0045</th>\n",
       "      <td>-1.563387</td>\n",
       "      <td>4.131615</td>\n",
       "      <td>12.250484</td>\n",
       "      <td>6.313830</td>\n",
       "      <td>1</td>\n",
       "      <td>1</td>\n",
       "      <td>0</td>\n",
       "    </tr>\n",
       "    <tr>\n",
       "      <th>a0035</th>\n",
       "      <td>-1.061304</td>\n",
       "      <td>7.542898</td>\n",
       "      <td>8.391509</td>\n",
       "      <td>9.325624</td>\n",
       "      <td>1</td>\n",
       "      <td>1</td>\n",
       "      <td>0</td>\n",
       "    </tr>\n",
       "    <tr>\n",
       "      <th>e0058</th>\n",
       "      <td>-0.911376</td>\n",
       "      <td>4.336925</td>\n",
       "      <td>4.657456</td>\n",
       "      <td>2.046926</td>\n",
       "      <td>2</td>\n",
       "      <td>1</td>\n",
       "      <td>1</td>\n",
       "    </tr>\n",
       "  </tbody>\n",
       "</table>\n",
       "</div>"
      ],
      "text/plain": [
       "              1         2          3          4  cluster_lab  \\\n",
       "Sujet                                                          \n",
       "e0032 -1.648452  6.318245  14.644456  10.087028            1   \n",
       "e0063 -0.853064  6.182405   5.615448   5.258887            2   \n",
       "e0045 -1.563387  4.131615  12.250484   6.313830            1   \n",
       "a0035 -1.061304  7.542898   8.391509   9.325624            1   \n",
       "e0058 -0.911376  4.336925   4.657456   2.046926            2   \n",
       "\n",
       "       ACC_right_2levels_new  ACC_left_2_levels_new  \n",
       "Sujet                                                \n",
       "e0032                      1                      0  \n",
       "e0063                      0                      1  \n",
       "e0045                      1                      0  \n",
       "a0035                      1                      0  \n",
       "e0058                      1                      1  "
      ]
     },
     "execution_count": 300,
     "metadata": {},
     "output_type": "execute_result"
    }
   ],
   "source": [
    "m2.head()"
   ]
  },
  {
   "cell_type": "code",
   "execution_count": 301,
   "id": "cfb62250",
   "metadata": {},
   "outputs": [],
   "source": [
    "all_df = hcp_df"
   ]
  },
  {
   "cell_type": "code",
   "execution_count": 302,
   "id": "b538274a",
   "metadata": {},
   "outputs": [
    {
     "data": {
      "text/html": [
       "<div>\n",
       "<style scoped>\n",
       "    .dataframe tbody tr th:only-of-type {\n",
       "        vertical-align: middle;\n",
       "    }\n",
       "\n",
       "    .dataframe tbody tr th {\n",
       "        vertical-align: top;\n",
       "    }\n",
       "\n",
       "    .dataframe thead th {\n",
       "        text-align: right;\n",
       "    }\n",
       "</style>\n",
       "<table border=\"1\" class=\"dataframe\">\n",
       "  <thead>\n",
       "    <tr style=\"text-align: right;\">\n",
       "      <th></th>\n",
       "      <th>1</th>\n",
       "      <th>2</th>\n",
       "      <th>3</th>\n",
       "      <th>4</th>\n",
       "      <th>cluster_lab</th>\n",
       "      <th>ACC_right_2levels_new</th>\n",
       "      <th>ACC_left_2_levels_new</th>\n",
       "    </tr>\n",
       "    <tr>\n",
       "      <th>Sujet</th>\n",
       "      <th></th>\n",
       "      <th></th>\n",
       "      <th></th>\n",
       "      <th></th>\n",
       "      <th></th>\n",
       "      <th></th>\n",
       "      <th></th>\n",
       "    </tr>\n",
       "  </thead>\n",
       "  <tbody>\n",
       "    <tr>\n",
       "      <th>129634</th>\n",
       "      <td>-1.579225</td>\n",
       "      <td>5.908354</td>\n",
       "      <td>11.362507</td>\n",
       "      <td>9.859923</td>\n",
       "      <td>-1</td>\n",
       "      <td>-1</td>\n",
       "      <td>-1</td>\n",
       "    </tr>\n",
       "    <tr>\n",
       "      <th>136833</th>\n",
       "      <td>-1.279658</td>\n",
       "      <td>7.395753</td>\n",
       "      <td>10.953645</td>\n",
       "      <td>10.460653</td>\n",
       "      <td>-1</td>\n",
       "      <td>-1</td>\n",
       "      <td>-1</td>\n",
       "    </tr>\n",
       "    <tr>\n",
       "      <th>206222</th>\n",
       "      <td>-1.124506</td>\n",
       "      <td>1.848059</td>\n",
       "      <td>1.461904</td>\n",
       "      <td>5.974949</td>\n",
       "      <td>-1</td>\n",
       "      <td>-1</td>\n",
       "      <td>-1</td>\n",
       "    </tr>\n",
       "    <tr>\n",
       "      <th>138837</th>\n",
       "      <td>-1.068878</td>\n",
       "      <td>5.266653</td>\n",
       "      <td>0.712424</td>\n",
       "      <td>4.285092</td>\n",
       "      <td>-1</td>\n",
       "      <td>-1</td>\n",
       "      <td>-1</td>\n",
       "    </tr>\n",
       "    <tr>\n",
       "      <th>987983</th>\n",
       "      <td>-0.843226</td>\n",
       "      <td>3.528162</td>\n",
       "      <td>4.100409</td>\n",
       "      <td>-0.345357</td>\n",
       "      <td>-1</td>\n",
       "      <td>-1</td>\n",
       "      <td>-1</td>\n",
       "    </tr>\n",
       "  </tbody>\n",
       "</table>\n",
       "</div>"
      ],
      "text/plain": [
       "               1         2          3          4  cluster_lab  \\\n",
       "Sujet                                                           \n",
       "129634 -1.579225  5.908354  11.362507   9.859923           -1   \n",
       "136833 -1.279658  7.395753  10.953645  10.460653           -1   \n",
       "206222 -1.124506  1.848059   1.461904   5.974949           -1   \n",
       "138837 -1.068878  5.266653   0.712424   4.285092           -1   \n",
       "987983 -0.843226  3.528162   4.100409  -0.345357           -1   \n",
       "\n",
       "        ACC_right_2levels_new  ACC_left_2_levels_new  \n",
       "Sujet                                                 \n",
       "129634                     -1                     -1  \n",
       "136833                     -1                     -1  \n",
       "206222                     -1                     -1  \n",
       "138837                     -1                     -1  \n",
       "987983                     -1                     -1  "
      ]
     },
     "execution_count": 302,
     "metadata": {},
     "output_type": "execute_result"
    }
   ],
   "source": [
    "all_df.head()"
   ]
  },
  {
   "cell_type": "code",
   "execution_count": 303,
   "id": "71c6caea",
   "metadata": {},
   "outputs": [
    {
     "data": {
      "text/plain": [
       "(550, 7)"
      ]
     },
     "execution_count": 303,
     "metadata": {},
     "output_type": "execute_result"
    }
   ],
   "source": [
    "all_df.shape"
   ]
  },
  {
   "cell_type": "code",
   "execution_count": 304,
   "id": "5658725a",
   "metadata": {},
   "outputs": [],
   "source": [
    "all_df = all_df.append(m2)"
   ]
  },
  {
   "cell_type": "code",
   "execution_count": 305,
   "id": "95ed6606",
   "metadata": {},
   "outputs": [
    {
     "data": {
      "text/plain": [
       "(588, 7)"
      ]
     },
     "execution_count": 305,
     "metadata": {},
     "output_type": "execute_result"
    }
   ],
   "source": [
    "all_df.shape"
   ]
  },
  {
   "cell_type": "code",
   "execution_count": 306,
   "id": "8ada4f6e",
   "metadata": {},
   "outputs": [
    {
     "data": {
      "text/plain": [
       "1                       -1.140249\n",
       "2                        5.084541\n",
       "3                        7.872952\n",
       "4                        4.696342\n",
       "cluster_lab              0.000000\n",
       "ACC_right_2levels_new    0.000000\n",
       "ACC_left_2_levels_new    1.000000\n",
       "Name: a0023, dtype: float64"
      ]
     },
     "execution_count": 306,
     "metadata": {},
     "output_type": "execute_result"
    }
   ],
   "source": [
    "all_df.iloc[-1,:]"
   ]
  },
  {
   "cell_type": "code",
   "execution_count": 307,
   "id": "5cbc2085",
   "metadata": {},
   "outputs": [],
   "source": [
    "all_df_latent = all_df.iloc[:,0:4]"
   ]
  },
  {
   "cell_type": "code",
   "execution_count": 308,
   "id": "7ec7dd99",
   "metadata": {},
   "outputs": [],
   "source": [
    "all_embeddings = torch.tensor(all_df_latent.values)"
   ]
  },
  {
   "cell_type": "code",
   "execution_count": 309,
   "id": "dd9baced",
   "metadata": {},
   "outputs": [
    {
     "data": {
      "text/plain": [
       "torch.Size([588, 4])"
      ]
     },
     "execution_count": 309,
     "metadata": {},
     "output_type": "execute_result"
    }
   ],
   "source": [
    "all_embeddings.shape"
   ]
  },
  {
   "cell_type": "code",
   "execution_count": 310,
   "id": "68843ab7",
   "metadata": {},
   "outputs": [],
   "source": [
    "tsne = TSNE(n_components=2, perplexity=30, init='pca', random_state=50)\n",
    "X_tsne_all = tsne.fit_transform(all_embeddings)"
   ]
  },
  {
   "cell_type": "code",
   "execution_count": 311,
   "id": "cd970d80",
   "metadata": {},
   "outputs": [
    {
     "data": {
      "image/png": "[encoded data removed]",
      "text/plain": [
       "<Figure size 432x288 with 1 Axes>"
      ]
     },
     "metadata": {
      "needs_background": "light"
     },
     "output_type": "display_data"
    }
   ],
   "source": [
    "fig, ax = plt.subplots(1)\n",
    "mscatter(X_tsne_all[:, 0], X_tsne_all[:, 1], s=20, ax=ax)\n",
    "plt.show()"
   ]
  },
  {
   "cell_type": "code",
   "execution_count": 312,
   "id": "9a3b4463",
   "metadata": {},
   "outputs": [],
   "source": [
    "color_dict_all = {0: 'blue', 1:'red', -1: 'yellow'}"
   ]
  },
  {
   "cell_type": "code",
   "execution_count": 313,
   "id": "2667c5d6",
   "metadata": {},
   "outputs": [],
   "source": [
    "lab_all_acc = list(all_df['ACC_right_2levels_new'])\n",
    "color_all_acc = [color_dict_all[lab] for lab in lab_all_acc]"
   ]
  },
  {
   "cell_type": "code",
   "execution_count": 314,
   "id": "f45daa74",
   "metadata": {},
   "outputs": [],
   "source": [
    "lab_all_left_acc = list(all_df['ACC_left_2_levels_new'])\n",
    "color_all_left_acc = [color_dict_all[lab] for lab in lab_all_left_acc]"
   ]
  },
  {
   "cell_type": "markdown",
   "id": "56a6f678",
   "metadata": {},
   "source": [
    "Correlated with right Acc paracingular labels"
   ]
  },
  {
   "cell_type": "code",
   "execution_count": 315,
   "id": "8b318592",
   "metadata": {
    "scrolled": false
   },
   "outputs": [
    {
     "data": {
      "image/png": "[encoded data removed]",
      "text/plain": [
       "<Figure size 432x288 with 1 Axes>"
      ]
     },
     "metadata": {
      "needs_background": "light"
     },
     "output_type": "display_data"
    }
   ],
   "source": [
    "fig, ax = plt.subplots(1)\n",
    "mscatter(X_tsne_all[:, 0], X_tsne_all[:, 1], c=color_all_acc, s=20, ax=ax)\n",
    "plt.show()"
   ]
  },
  {
   "cell_type": "markdown",
   "id": "076f9158",
   "metadata": {},
   "source": [
    "Correlated with left Acc paracingular labels"
   ]
  },
  {
   "cell_type": "code",
   "execution_count": 316,
   "id": "922e1bea",
   "metadata": {
    "scrolled": true
   },
   "outputs": [
    {
     "data": {
      "image/png": "[encoded data removed]",
      "text/plain": [
       "<Figure size 432x288 with 1 Axes>"
      ]
     },
     "metadata": {
      "needs_background": "light"
     },
     "output_type": "display_data"
    }
   ],
   "source": [
    "fig, ax = plt.subplots(1)\n",
    "mscatter(X_tsne_all[:, 0], X_tsne_all[:, 1], c=color_all_left_acc, s=20, ax=ax)\n",
    "plt.show()"
   ]
  },
  {
   "cell_type": "code",
   "execution_count": 317,
   "id": "6f187a14",
   "metadata": {
    "scrolled": true
   },
   "outputs": [
    {
     "data": {
      "text/html": [
       "<div>\n",
       "<style scoped>\n",
       "    .dataframe tbody tr th:only-of-type {\n",
       "        vertical-align: middle;\n",
       "    }\n",
       "\n",
       "    .dataframe tbody tr th {\n",
       "        vertical-align: top;\n",
       "    }\n",
       "\n",
       "    .dataframe thead th {\n",
       "        text-align: right;\n",
       "    }\n",
       "</style>\n",
       "<table border=\"1\" class=\"dataframe\">\n",
       "  <thead>\n",
       "    <tr style=\"text-align: right;\">\n",
       "      <th></th>\n",
       "      <th>1</th>\n",
       "      <th>2</th>\n",
       "      <th>3</th>\n",
       "      <th>4</th>\n",
       "      <th>cluster_lab</th>\n",
       "      <th>ACC_right_2levels_new</th>\n",
       "      <th>ACC_left_2_levels_new</th>\n",
       "    </tr>\n",
       "    <tr>\n",
       "      <th>Sujet</th>\n",
       "      <th></th>\n",
       "      <th></th>\n",
       "      <th></th>\n",
       "      <th></th>\n",
       "      <th></th>\n",
       "      <th></th>\n",
       "      <th></th>\n",
       "    </tr>\n",
       "  </thead>\n",
       "  <tbody>\n",
       "    <tr>\n",
       "      <th>129634</th>\n",
       "      <td>-1.579225</td>\n",
       "      <td>5.908354</td>\n",
       "      <td>11.362507</td>\n",
       "      <td>9.859923</td>\n",
       "      <td>-1</td>\n",
       "      <td>-1</td>\n",
       "      <td>-1</td>\n",
       "    </tr>\n",
       "    <tr>\n",
       "      <th>136833</th>\n",
       "      <td>-1.279658</td>\n",
       "      <td>7.395753</td>\n",
       "      <td>10.953645</td>\n",
       "      <td>10.460653</td>\n",
       "      <td>-1</td>\n",
       "      <td>-1</td>\n",
       "      <td>-1</td>\n",
       "    </tr>\n",
       "    <tr>\n",
       "      <th>206222</th>\n",
       "      <td>-1.124506</td>\n",
       "      <td>1.848059</td>\n",
       "      <td>1.461904</td>\n",
       "      <td>5.974949</td>\n",
       "      <td>-1</td>\n",
       "      <td>-1</td>\n",
       "      <td>-1</td>\n",
       "    </tr>\n",
       "    <tr>\n",
       "      <th>138837</th>\n",
       "      <td>-1.068878</td>\n",
       "      <td>5.266653</td>\n",
       "      <td>0.712424</td>\n",
       "      <td>4.285092</td>\n",
       "      <td>-1</td>\n",
       "      <td>-1</td>\n",
       "      <td>-1</td>\n",
       "    </tr>\n",
       "    <tr>\n",
       "      <th>987983</th>\n",
       "      <td>-0.843226</td>\n",
       "      <td>3.528162</td>\n",
       "      <td>4.100409</td>\n",
       "      <td>-0.345357</td>\n",
       "      <td>-1</td>\n",
       "      <td>-1</td>\n",
       "      <td>-1</td>\n",
       "    </tr>\n",
       "  </tbody>\n",
       "</table>\n",
       "</div>"
      ],
      "text/plain": [
       "               1         2          3          4  cluster_lab  \\\n",
       "Sujet                                                           \n",
       "129634 -1.579225  5.908354  11.362507   9.859923           -1   \n",
       "136833 -1.279658  7.395753  10.953645  10.460653           -1   \n",
       "206222 -1.124506  1.848059   1.461904   5.974949           -1   \n",
       "138837 -1.068878  5.266653   0.712424   4.285092           -1   \n",
       "987983 -0.843226  3.528162   4.100409  -0.345357           -1   \n",
       "\n",
       "        ACC_right_2levels_new  ACC_left_2_levels_new  \n",
       "Sujet                                                 \n",
       "129634                     -1                     -1  \n",
       "136833                     -1                     -1  \n",
       "206222                     -1                     -1  \n",
       "138837                     -1                     -1  \n",
       "987983                     -1                     -1  "
      ]
     },
     "execution_count": 317,
     "metadata": {},
     "output_type": "execute_result"
    }
   ],
   "source": [
    "all_df.head()"
   ]
  },
  {
   "cell_type": "code",
   "execution_count": 318,
   "id": "02f1dd29",
   "metadata": {},
   "outputs": [
    {
     "data": {
      "image/png": "[encoded data removed]",
      "text/plain": [
       "<Figure size 432x288 with 1 Axes>"
      ]
     },
     "metadata": {
      "needs_background": "light"
     },
     "output_type": "display_data"
    }
   ],
   "source": [
    "arr = np.array([np.array([all_df[k][i] for k in all_df.columns[0:2]]) for i in range(len(all_df))])\n",
    "\n",
    "fig, ax = plt.subplots()\n",
    "\n",
    "for g in np.unique([all_df.ACC_right_2levels_new]):\n",
    "    ix = np.where(all_df.ACC_right_2levels_new == g)\n",
    "    x = [arr[ix][k][0] for k in range(len(ix[0]))]\n",
    "    y = [arr[ix][k][1] for k in range(len(ix[0]))]\n",
    "    ax.scatter(x, y, c = color_dict_all[g], label = g)\n",
    "\n",
    "plt.xlabel(f'dimension 1', fontsize=14)\n",
    "plt.ylabel(f'dimension 2', fontsize=14)\n",
    "plt.legend()\n",
    "plt.show()"
   ]
  },
  {
   "cell_type": "code",
   "execution_count": 319,
   "id": "838334b7",
   "metadata": {},
   "outputs": [
    {
     "data": {
      "image/png": "[encoded data removed]",
      "text/plain": [
       "<Figure size 432x288 with 1 Axes>"
      ]
     },
     "metadata": {
      "needs_background": "light"
     },
     "output_type": "display_data"
    }
   ],
   "source": [
    "arr = np.array([np.array([all_df[k][i] for k in all_df.columns[[0,2]]]) for i in range(len(all_df))])\n",
    "\n",
    "fig, ax = plt.subplots()\n",
    "\n",
    "for g in np.unique([all_df.ACC_right_2levels_new]):\n",
    "    ix = np.where(all_df.ACC_right_2levels_new == g)\n",
    "    x = [arr[ix][k][0] for k in range(len(ix[0]))]\n",
    "    y = [arr[ix][k][1] for k in range(len(ix[0]))]\n",
    "    ax.scatter(x, y, c = color_dict_all[g], label = g)\n",
    "\n",
    "plt.xlabel(f'dimension 1', fontsize=14)\n",
    "plt.ylabel(f'dimension 3', fontsize=14)\n",
    "plt.legend()\n",
    "plt.show()"
   ]
  },
  {
   "cell_type": "code",
   "execution_count": 320,
   "id": "16023577",
   "metadata": {},
   "outputs": [
    {
     "data": {
      "image/png": "[encoded data removed]",
      "text/plain": [
       "<Figure size 432x288 with 1 Axes>"
      ]
     },
     "metadata": {
      "needs_background": "light"
     },
     "output_type": "display_data"
    }
   ],
   "source": [
    "arr = np.array([np.array([all_df[k][i] for k in all_df.columns[1:3]]) for i in range(len(all_df))])\n",
    "\n",
    "fig, ax = plt.subplots()\n",
    "\n",
    "for g in np.unique([all_df.ACC_right_2levels_new]):\n",
    "    ix = np.where(all_df.ACC_right_2levels_new == g)\n",
    "    x = [arr[ix][k][0] for k in range(len(ix[0]))]\n",
    "    y = [arr[ix][k][1] for k in range(len(ix[0]))]\n",
    "    ax.scatter(x, y, c = color_dict_all[g], label = g)\n",
    "\n",
    "plt.xlabel(f'dimension 2', fontsize=14)\n",
    "plt.ylabel(f'dimension 3', fontsize=14)\n",
    "plt.legend()\n",
    "plt.show()"
   ]
  },
  {
   "cell_type": "code",
   "execution_count": 321,
   "id": "b5b72aac",
   "metadata": {},
   "outputs": [
    {
     "data": {
      "image/png": "[encoded data removed]",
      "text/plain": [
       "<Figure size 432x288 with 1 Axes>"
      ]
     },
     "metadata": {
      "needs_background": "light"
     },
     "output_type": "display_data"
    }
   ],
   "source": [
    "arr = np.array([np.array([all_df[k][i] for k in all_df.columns[[1,3]]]) for i in range(len(all_df))])\n",
    "\n",
    "fig, ax = plt.subplots()\n",
    "\n",
    "for g in np.unique([all_df.ACC_right_2levels_new]):\n",
    "    ix = np.where(all_df.ACC_right_2levels_new == g)\n",
    "    x = [arr[ix][k][0] for k in range(len(ix[0]))]\n",
    "    y = [arr[ix][k][1] for k in range(len(ix[0]))]\n",
    "    ax.scatter(x, y, c = color_dict_all[g], label = g)\n",
    "\n",
    "plt.xlabel(f'dimension 2', fontsize=14)\n",
    "plt.ylabel(f'dimension 4', fontsize=14)\n",
    "plt.legend()\n",
    "plt.show()"
   ]
  },
  {
   "cell_type": "code",
   "execution_count": 322,
   "id": "59e3326f",
   "metadata": {
    "scrolled": true
   },
   "outputs": [
    {
     "data": {
      "image/png": "[encoded data removed]",
      "text/plain": [
       "<Figure size 432x288 with 1 Axes>"
      ]
     },
     "metadata": {
      "needs_background": "light"
     },
     "output_type": "display_data"
    }
   ],
   "source": [
    "arr = np.array([np.array([all_df[k][i] for k in all_df.columns[2:4]]) for i in range(len(all_df))])\n",
    "\n",
    "fig, ax = plt.subplots()\n",
    "\n",
    "for g in np.unique([all_df.ACC_right_2levels_new]):\n",
    "    ix = np.where(all_df.ACC_right_2levels_new == g)\n",
    "    x = [arr[ix][k][0] for k in range(len(ix[0]))]\n",
    "    y = [arr[ix][k][1] for k in range(len(ix[0]))]\n",
    "    ax.scatter(x, y, c = color_dict_all[g], label = g)\n",
    "\n",
    "plt.xlabel(f'dimension 3', fontsize=14)\n",
    "plt.ylabel(f'dimension 4', fontsize=14)\n",
    "plt.legend()\n",
    "plt.show()"
   ]
  },
  {
   "cell_type": "markdown",
   "id": "f899c13b",
   "metadata": {},
   "source": [
    "# Classification tests with Tissier database and cross-validation"
   ]
  },
  {
   "cell_type": "markdown",
   "id": "0efb8247",
   "metadata": {},
   "source": [
    "## SVM test"
   ]
  },
  {
   "cell_type": "code",
   "execution_count": 323,
   "id": "d8047f2a",
   "metadata": {},
   "outputs": [],
   "source": [
    "from sklearn import preprocessing\n",
    "from sklearn.pipeline import make_pipeline\n",
    "from sklearn.model_selection import cross_val_score\n",
    "from sklearn.model_selection import train_test_split\n",
    "from sklearn import svm"
   ]
  },
  {
   "cell_type": "code",
   "execution_count": 370,
   "id": "c5d4ef23",
   "metadata": {},
   "outputs": [],
   "source": [
    "clf = make_pipeline(preprocessing.StandardScaler(), svm.SVC(C=1))"
   ]
  },
  {
   "cell_type": "code",
   "execution_count": 371,
   "id": "3a236145",
   "metadata": {},
   "outputs": [
    {
     "data": {
      "text/html": [
       "<div>\n",
       "<style scoped>\n",
       "    .dataframe tbody tr th:only-of-type {\n",
       "        vertical-align: middle;\n",
       "    }\n",
       "\n",
       "    .dataframe tbody tr th {\n",
       "        vertical-align: top;\n",
       "    }\n",
       "\n",
       "    .dataframe thead th {\n",
       "        text-align: right;\n",
       "    }\n",
       "</style>\n",
       "<table border=\"1\" class=\"dataframe\">\n",
       "  <thead>\n",
       "    <tr style=\"text-align: right;\">\n",
       "      <th></th>\n",
       "      <th>1</th>\n",
       "      <th>2</th>\n",
       "      <th>3</th>\n",
       "      <th>4</th>\n",
       "      <th>cluster_lab</th>\n",
       "      <th>ACC_right_2levels_new</th>\n",
       "      <th>ACC_left_2_levels_new</th>\n",
       "    </tr>\n",
       "    <tr>\n",
       "      <th>Sujet</th>\n",
       "      <th></th>\n",
       "      <th></th>\n",
       "      <th></th>\n",
       "      <th></th>\n",
       "      <th></th>\n",
       "      <th></th>\n",
       "      <th></th>\n",
       "    </tr>\n",
       "  </thead>\n",
       "  <tbody>\n",
       "    <tr>\n",
       "      <th>e0032</th>\n",
       "      <td>-1.648452</td>\n",
       "      <td>6.318245</td>\n",
       "      <td>14.644456</td>\n",
       "      <td>10.087028</td>\n",
       "      <td>1</td>\n",
       "      <td>1</td>\n",
       "      <td>0</td>\n",
       "    </tr>\n",
       "    <tr>\n",
       "      <th>e0063</th>\n",
       "      <td>-0.853064</td>\n",
       "      <td>6.182405</td>\n",
       "      <td>5.615448</td>\n",
       "      <td>5.258887</td>\n",
       "      <td>2</td>\n",
       "      <td>0</td>\n",
       "      <td>1</td>\n",
       "    </tr>\n",
       "    <tr>\n",
       "      <th>e0045</th>\n",
       "      <td>-1.563387</td>\n",
       "      <td>4.131615</td>\n",
       "      <td>12.250484</td>\n",
       "      <td>6.313830</td>\n",
       "      <td>1</td>\n",
       "      <td>1</td>\n",
       "      <td>0</td>\n",
       "    </tr>\n",
       "    <tr>\n",
       "      <th>a0035</th>\n",
       "      <td>-1.061304</td>\n",
       "      <td>7.542898</td>\n",
       "      <td>8.391509</td>\n",
       "      <td>9.325624</td>\n",
       "      <td>1</td>\n",
       "      <td>1</td>\n",
       "      <td>0</td>\n",
       "    </tr>\n",
       "    <tr>\n",
       "      <th>e0058</th>\n",
       "      <td>-0.911376</td>\n",
       "      <td>4.336925</td>\n",
       "      <td>4.657456</td>\n",
       "      <td>2.046926</td>\n",
       "      <td>2</td>\n",
       "      <td>1</td>\n",
       "      <td>1</td>\n",
       "    </tr>\n",
       "  </tbody>\n",
       "</table>\n",
       "</div>"
      ],
      "text/plain": [
       "              1         2          3          4  cluster_lab  \\\n",
       "Sujet                                                          \n",
       "e0032 -1.648452  6.318245  14.644456  10.087028            1   \n",
       "e0063 -0.853064  6.182405   5.615448   5.258887            2   \n",
       "e0045 -1.563387  4.131615  12.250484   6.313830            1   \n",
       "a0035 -1.061304  7.542898   8.391509   9.325624            1   \n",
       "e0058 -0.911376  4.336925   4.657456   2.046926            2   \n",
       "\n",
       "       ACC_right_2levels_new  ACC_left_2_levels_new  \n",
       "Sujet                                                \n",
       "e0032                      1                      0  \n",
       "e0063                      0                      1  \n",
       "e0045                      1                      0  \n",
       "a0035                      1                      0  \n",
       "e0058                      1                      1  "
      ]
     },
     "execution_count": 371,
     "metadata": {},
     "output_type": "execute_result"
    }
   ],
   "source": [
    "m2.head()"
   ]
  },
  {
   "cell_type": "code",
   "execution_count": 372,
   "id": "4ceeb02d",
   "metadata": {},
   "outputs": [],
   "source": [
    "X = m2.iloc[:,0:4].values"
   ]
  },
  {
   "cell_type": "code",
   "execution_count": 373,
   "id": "3c754c18",
   "metadata": {},
   "outputs": [
    {
     "data": {
      "text/plain": [
       "array([1, 0, 1, 1, 1, 1, 0, 0, 0, 1, 0, 0, 0, 0, 0, 1, 0, 0, 0, 1, 1, 0,\n",
       "       1, 0, 0, 1, 0, 0, 1, 1, 1, 0, 0, 0, 1, 0, 1, 0])"
      ]
     },
     "execution_count": 373,
     "metadata": {},
     "output_type": "execute_result"
    }
   ],
   "source": [
    "y = m2.ACC_right_2levels_new.values\n",
    "y"
   ]
  },
  {
   "cell_type": "code",
   "execution_count": 374,
   "id": "1fceecc6",
   "metadata": {},
   "outputs": [
    {
     "data": {
      "text/plain": [
       "array([0, 0, 0, 0, 1, 0, 1, 1, 0, 1, 0, 0, 0, 1, 1, 0, 0, 0, 1, 1, 0, 0,\n",
       "       1, 1, 0, 0, 0, 1, 0, 0, 0, 1, 0, 1, 1, 0, 1, 1])"
      ]
     },
     "execution_count": 374,
     "metadata": {},
     "output_type": "execute_result"
    }
   ],
   "source": [
    "y_shuffle = m2.ACC_right_2levels_new.values.copy()\n",
    "np.random.shuffle(y_shuffle)\n",
    "y_shuffle"
   ]
  },
  {
   "cell_type": "code",
   "execution_count": 375,
   "id": "fdd47ba4",
   "metadata": {},
   "outputs": [
    {
     "data": {
      "text/plain": [
       "array([1, 0, 1, 1, 1, 1, 0, 0, 0, 1, 0, 0, 0, 0, 0, 1, 0, 0, 0, 1, 1, 0,\n",
       "       1, 0, 0, 1, 0, 0, 1, 1, 1, 0, 0, 0, 1, 0, 1, 0])"
      ]
     },
     "execution_count": 375,
     "metadata": {},
     "output_type": "execute_result"
    }
   ],
   "source": [
    "y"
   ]
  },
  {
   "cell_type": "code",
   "execution_count": 376,
   "id": "a2cca6ed",
   "metadata": {},
   "outputs": [
    {
     "name": "stdout",
     "output_type": "stream",
     "text": [
      "[0.66666667 0.875      0.57142857 0.57142857 0.57142857]\n",
      "0.65 accuracy with a standard deviation of 0.12\n"
     ]
    }
   ],
   "source": [
    "scores = cross_val_score(clf, X, y, cv=5)\n",
    "print(scores)\n",
    "print(\"%0.2f accuracy with a standard deviation of %0.2f\" % (scores.mean(), scores.std()))"
   ]
  },
  {
   "cell_type": "code",
   "execution_count": 333,
   "id": "53d70b09",
   "metadata": {},
   "outputs": [
    {
     "name": "stdout",
     "output_type": "stream",
     "text": [
      "[0.55555556 0.625      0.42857143 0.42857143 0.71428571]\n",
      "0.55 accuracy with a standard deviation of 0.11\n"
     ]
    }
   ],
   "source": [
    "scores_shuffle = cross_val_score(clf, X, y_shuffle, cv=5)\n",
    "print(scores_shuffle)\n",
    "print(\"%0.2f accuracy with a standard deviation of %0.2f\" % (scores_shuffle.mean(), scores_shuffle.std()))"
   ]
  },
  {
   "cell_type": "code",
   "execution_count": 337,
   "id": "67fceac4",
   "metadata": {},
   "outputs": [
    {
     "name": "stdout",
     "output_type": "stream",
     "text": [
      "[[-1.6484517   6.3182454  14.644456   10.087028  ]\n",
      " [-0.85306376  6.1824055   5.6154485   5.2588873 ]\n",
      " [-1.5633868   4.131615   12.250484    6.31383   ]]\n",
      "[[ 6.3182454 10.087028 ]\n",
      " [ 6.1824055  5.2588873]\n",
      " [ 4.131615   6.31383  ]]\n"
     ]
    }
   ],
   "source": [
    "# We do the scoring only on the best two dimensions of the latent\n",
    "X_2_4 = X[:,[1,3]]\n",
    "print(X[:3])\n",
    "print(X_2_4[:3])"
   ]
  },
  {
   "cell_type": "code",
   "execution_count": 339,
   "id": "a88c80e6",
   "metadata": {},
   "outputs": [
    {
     "name": "stdout",
     "output_type": "stream",
     "text": [
      "[0.55555556 0.875      0.57142857 0.71428571 0.71428571]\n",
      "0.69 accuracy with a standard deviation of 0.12\n"
     ]
    }
   ],
   "source": [
    "scores_2_4 = cross_val_score(clf, X_2_4, y, cv=5)\n",
    "print(scores_2_4)\n",
    "print(\"%0.2f accuracy with a standard deviation of %0.2f\" % (scores_2_4.mean(), scores_2_4.std()))"
   ]
  },
  {
   "cell_type": "markdown",
   "id": "959d7f5c",
   "metadata": {},
   "source": [
    "## Logistic regression"
   ]
  },
  {
   "cell_type": "code",
   "execution_count": 340,
   "id": "3e24a43e",
   "metadata": {},
   "outputs": [],
   "source": [
    "from sklearn.linear_model import LogisticRegression"
   ]
  },
  {
   "cell_type": "code",
   "execution_count": 346,
   "id": "083db914",
   "metadata": {},
   "outputs": [],
   "source": [
    "clf_logit = LogisticRegression(solver='liblinear', random_state=0)"
   ]
  },
  {
   "cell_type": "code",
   "execution_count": 348,
   "id": "664029f5",
   "metadata": {},
   "outputs": [
    {
     "name": "stdout",
     "output_type": "stream",
     "text": [
      "[0.66666667 0.75       0.57142857 0.71428571 0.57142857]\n",
      "0.65 accuracy with a standard deviation of 0.07\n"
     ]
    }
   ],
   "source": [
    "scores_logit = cross_val_score(clf_logit, X, y, cv=5)\n",
    "print(scores_logit)\n",
    "print(\"%0.2f accuracy with a standard deviation of %0.2f\" % (scores_logit.mean(), scores_logit.std()))"
   ]
  },
  {
   "cell_type": "code",
   "execution_count": 358,
   "id": "1af21a10",
   "metadata": {},
   "outputs": [
    {
     "name": "stdout",
     "output_type": "stream",
     "text": [
      "[0.55555556 0.625      0.57142857 0.42857143 0.57142857]\n",
      "0.55 accuracy with a standard deviation of 0.07\n"
     ]
    }
   ],
   "source": [
    "scores_logit_shuffle = cross_val_score(clf_logit, X, y_shuffle, cv=5)\n",
    "print(scores_logit_shuffle)\n",
    "print(\"%0.2f accuracy with a standard deviation of %0.2f\" % (scores_logit_shuffle.mean(), scores_logit_shuffle.std()))"
   ]
  },
  {
   "cell_type": "markdown",
   "id": "fe5fd4d5",
   "metadata": {},
   "source": [
    "## Gradient boosting classifier"
   ]
  },
  {
   "cell_type": "code",
   "execution_count": 350,
   "id": "e1394b90",
   "metadata": {},
   "outputs": [],
   "source": [
    "from sklearn.ensemble import GradientBoostingClassifier"
   ]
  },
  {
   "cell_type": "code",
   "execution_count": 355,
   "id": "85c0a26b",
   "metadata": {},
   "outputs": [],
   "source": [
    "clf_gdb = GradientBoostingClassifier(n_estimators=100, learning_rate=1.0, max_depth=1, random_state=0)"
   ]
  },
  {
   "cell_type": "code",
   "execution_count": 356,
   "id": "db56b6dc",
   "metadata": {},
   "outputs": [
    {
     "name": "stdout",
     "output_type": "stream",
     "text": [
      "[0.77777778 0.625      0.42857143 0.85714286 0.71428571]\n",
      "0.68 accuracy with a standard deviation of 0.15\n"
     ]
    }
   ],
   "source": [
    "scores_gdb = cross_val_score(clf_gdb, X, y, cv=5)\n",
    "print(scores_gdb)\n",
    "print(\"%0.2f accuracy with a standard deviation of %0.2f\" % (scores_gdb.mean(), scores_gdb.std()))"
   ]
  },
  {
   "cell_type": "code",
   "execution_count": null,
   "id": "c4458d52",
   "metadata": {},
   "outputs": [],
   "source": []
  }
 ],
 "metadata": {
  "kernelspec": {
   "display_name": "Run33_python3",
   "language": "python",
   "name": "run33_python3"
  },
  "language_info": {
   "codemirror_mode": {
    "name": "ipython",
    "version": 3
   },
   "file_extension": ".py",
   "mimetype": "text/x-python",
   "name": "python",
   "nbconvert_exporter": "python",
   "pygments_lexer": "ipython3",
   "version": "3.6.9"
  }
 },
 "nbformat": 4,
 "nbformat_minor": 5
}
