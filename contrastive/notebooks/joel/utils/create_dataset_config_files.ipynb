{
 "cells": [
  {
   "cell_type": "markdown",
   "metadata": {},
   "source": [
    "This notebook create dataset config files from reference"
   ]
  },
  {
   "cell_type": "code",
   "execution_count": 53,
   "metadata": {},
   "outputs": [],
   "source": [
    "import pandas as pd\n",
    "import os\n",
    "import glob\n",
    "import json"
   ]
  },
  {
   "cell_type": "code",
   "execution_count": 45,
   "metadata": {},
   "outputs": [],
   "source": [
    "## CREATE UKB40 configs for jean zay\n",
    "\n",
    "path = \"/neurospin/dico/jlaval/Runs_jl277509/2023_jlaval_STSbabies/contrastive/configs/dataset/julien/UKB40/array_load/\"\n",
    "ref_file = f\"{path}/reference.yaml\"\n",
    "crop_path = \"/neurospin/dico/data/deep_folding/current/datasets/UkBioBank40/crops/2mm\"\n",
    "crop_dirs = glob.glob(f\"{crop_path}/*\")\n",
    "crop_drops = [\"CINGULATE_ALL\", \"ORBITAL_ALL\", \"CINGULATE\", \"deMatos_polar.\"]"
   ]
  },
  {
   "cell_type": "code",
   "execution_count": 20,
   "metadata": {},
   "outputs": [],
   "source": [
    "## UKB40 volumes to assess regression on volume\n",
    "path = \"/neurospin/dico/jlaval/Runs_jl277509/2023_jlaval_STSbabies/contrastive/configs/dataset/julien/UKB40/volume/\"\n",
    "ref_file = f\"{path}/reference.yaml\"\n",
    "crop_path = \"/neurospin/dico/data/deep_folding/current/datasets/UkBioBank40/crops/2mm\"\n",
    "crop_dirs = glob.glob(f\"{crop_path}/*\")\n",
    "crop_drops = [\"CINGULATE_ALL\", \"ORBITAL_ALL\", \"CINGULATE\", \"deMatos_polar.\"]"
   ]
  },
  {
   "cell_type": "code",
   "execution_count": 2,
   "metadata": {},
   "outputs": [],
   "source": [
    "# create hcp configs for inference on whole dataset\n",
    "path = \"/neurospin/dico/jlaval/Runs_jl277509/2023_jlaval_STSbabies/contrastive/configs/dataset/julien/hcp/all_data/\"\n",
    "ref_file = f\"{path}/reference.yaml\"\n",
    "crop_path = \"/neurospin/dico/data/deep_folding/current/datasets/hcp/crops/2mm\"\n",
    "crop_dirs = glob.glob(f\"{crop_path}/*\")\n",
    "crop_drops = [\"CINGULATE_ALL\", \"ORBITAL_ALL\", \"CINGULATE\", \"deMatos_polar.\", \"CENTRAL\"]"
   ]
  },
  {
   "cell_type": "code",
   "execution_count": 3,
   "metadata": {},
   "outputs": [],
   "source": [
    "# create dhcp configs for inference on whole dataset\n",
    "path = \"/neurospin/dico/jlaval/Runs_jl277509/2023_jlaval_STSbabies/contrastive/configs/dataset/julien/dHCP/\"\n",
    "ref_file = f\"{path}/reference.yaml\"\n",
    "crop_path = \"/neurospin/dico/data/deep_folding/current/datasets/dHCP_374_subjects/crops/2mm\"\n",
    "crop_dirs = glob.glob(f\"{crop_path}/*\")\n",
    "crop_drops = [\"CINGULATE_ALL\", \"ORBITAL_ALL\", \"CINGULATE\", \"deMatos_polar.\", \"CENTRAL\"]"
   ]
  },
  {
   "cell_type": "code",
   "execution_count": 63,
   "metadata": {},
   "outputs": [],
   "source": [
    "# create hcp configs for pattern evaluation\n",
    "# Right_FIP\n",
    "path = \"/neurospin/dico/jlaval/Runs_jl277509/2023_jlaval_STSbabies/contrastive/configs/dataset/julien/hcp/Right_FIP\"\n",
    "ref_file = f\"{path}/reference.yaml\"\n",
    "crop_path = \"/neurospin/dico/data/deep_folding/current/datasets/hcp/crops/2mm\"\n",
    "crop_dirs = glob.glob(f\"{crop_path}/*\")\n",
    "crop_drops = [\"CINGULATE_ALL\", \"ORBITAL_ALL\", \"CINGULATE\", \"deMatos_polar.\", 'CENTRAL']"
   ]
  },
  {
   "cell_type": "code",
   "execution_count": 71,
   "metadata": {},
   "outputs": [],
   "source": [
    "# Left_OFC\n",
    "path = \"/neurospin/dico/jlaval/Runs_jl277509/2023_jlaval_STSbabies/contrastive/configs/dataset/julien/hcp/Left_OFC\"\n",
    "ref_file = f\"{path}/reference.yaml\"\n",
    "crop_path = \"/neurospin/dico/data/deep_folding/current/datasets/hcp/crops/2mm\"\n",
    "crop_dirs = glob.glob(f\"{crop_path}/*\")\n",
    "crop_drops = [\"CINGULATE_ALL\", \"ORBITAL_ALL\", \"CINGULATE\", \"deMatos_polar.\", 'CENTRAL']"
   ]
  },
  {
   "cell_type": "code",
   "execution_count": 79,
   "metadata": {},
   "outputs": [],
   "source": [
    "# Isomap_central_left\n",
    "path = \"/neurospin/dico/jlaval/Runs_jl277509/2023_jlaval_STSbabies/contrastive/configs/dataset/julien/hcp/Isomap_central_left\"\n",
    "ref_file = f\"{path}/reference.yaml\"\n",
    "crop_path = \"/neurospin/dico/data/deep_folding/current/datasets/hcp/crops/2mm\"\n",
    "crop_dirs = glob.glob(f\"{crop_path}/*\")\n",
    "crop_drops = [\"CINGULATE_ALL\", \"ORBITAL_ALL\", \"CINGULATE\", \"deMatos_polar.\", 'CENTRAL']"
   ]
  },
  {
   "cell_type": "code",
   "execution_count": 99,
   "metadata": {},
   "outputs": [],
   "source": [
    "# Right_PCS\n",
    "path = \"/neurospin/dico/jlaval/Runs_jl277509/2023_jlaval_STSbabies/contrastive/configs/dataset/julien/ACCpatterns/Right_PCS\"\n",
    "ref_file = f\"{path}/reference.yaml\"\n",
    "crop_path = \"/neurospin/dico/data/deep_folding/current/datasets/ACCpatterns/crops/2mm\"\n",
    "crop_dirs = glob.glob(f\"{crop_path}/*\")\n",
    "crop_drops = [\"CINGULATE_ALL\", \"ORBITAL_ALL\", \"CINGULATE\", \"deMatos_polar.\", 'CENTRAL', 'CINGULATE_FLIPPED']"
   ]
  },
  {
   "cell_type": "code",
   "execution_count": 2,
   "metadata": {},
   "outputs": [],
   "source": [
    "# abide\n",
    "path = \"/neurospin/dico/jlaval/Runs_jl277509/2023_jlaval_STSbabies/contrastive/configs/dataset/julien/abide/\"\n",
    "ref_file = f\"{path}/reference.yaml\"\n",
    "crop_path = \"/neurospin/dico/data/deep_folding/current/datasets/aggregate_autism/crops/2mm\"\n",
    "crop_dirs = glob.glob(f\"{crop_path}/*\")\n",
    "crop_drops = [\"CINGULATE_ALL\", \"ORBITAL_ALL\", \"CINGULATE\", \"deMatos_polar.\", 'CENTRAL', 'CINGULATE_FLIPPED']"
   ]
  },
  {
   "cell_type": "code",
   "execution_count": 29,
   "metadata": {},
   "outputs": [],
   "source": [
    "# bipolar\n",
    "path = \"/neurospin/dico/jlaval/Runs_jl277509/2023_jlaval_STSbabies/contrastive/configs/dataset/julien/bipolar/\"\n",
    "ref_file = f\"{path}/reference.yaml\"\n",
    "crop_path = \"/neurospin/dico/data/deep_folding/current/datasets/aggregate_bipolar/crops/2mm\"\n",
    "crop_dirs = glob.glob(f\"{crop_path}/*\")\n",
    "crop_drops = [\"CINGULATE_ALL\", \"ORBITAL_ALL\", \"CINGULATE\", \"deMatos_polar.\", 'CENTRAL', 'CINGULATE_FLIPPED', 'LARGE_CINGULATE.'] # TODO : process large cingulate"
   ]
  },
  {
   "cell_type": "code",
   "execution_count": 54,
   "metadata": {},
   "outputs": [],
   "source": [
    "# schiz\n",
    "path = \"/neurospin/dico/jlaval/Runs_jl277509/2023_jlaval_STSbabies/contrastive/configs/dataset/julien/schiz/\"\n",
    "ref_file = f\"{path}/reference.yaml\"\n",
    "crop_path = \"/neurospin/dico/data/deep_folding/current/datasets/aggregate_schizophrenia/crops/2mm\"\n",
    "crop_dirs = glob.glob(f\"{crop_path}/*\")\n",
    "crop_drops = [\"CINGULATE_ALL\", \"ORBITAL_ALL\", \"CINGULATE\", \"deMatos_polar.\", 'CENTRAL', 'CINGULATE_FLIPPED', 'LARGE_CINGULATE.']"
   ]
  },
  {
   "cell_type": "code",
   "execution_count": 55,
   "metadata": {},
   "outputs": [],
   "source": [
    "crop_dirs = [f for f in crop_dirs if not os.path.basename(f) in crop_drops]"
   ]
  },
  {
   "cell_type": "code",
   "execution_count": 56,
   "metadata": {},
   "outputs": [],
   "source": [
    "## get the region names\n",
    "ignore_regions = ['S.T.s.-S.GSM.', 'F.C.L.p.-S.GSM.', \"CINGULATE_ALL\", \"ORBITAL_ALL\", \"ORBITAL\", \"CINGULATE\", \"deMatos_polar.\", \"deMatos.\"]\n",
    "regions = os.listdir(crop_path)\n",
    "regions = [region.replace('.','') for region in regions if region not in ignore_regions]\n",
    "regions_left_right = [elem + '_left' for elem in regions] + [elem + '_right' for elem in regions]\n",
    "mystring = ' '.join(regions_left_right)"
   ]
  },
  {
   "cell_type": "code",
   "execution_count": 57,
   "metadata": {},
   "outputs": [
    {
     "data": {
      "text/plain": [
       "'FColl-SRh_left SFmedian-SFpoltr-SFsup_left SFinf-BROCA-SPeCinf_left SPoC_left fronto-parietal_medial_face_left FIP_left CINGULATE_left SC-SPoC_left SFinter-SFsup_left FCMpost-SpC_left SsP-SPaint_left SOr-SOlf_left FPO-SCu-ScCal_left SFmarginal-SFinfant_left SFint-FCMant_left STi-STs-STpol_left SFint-SR_left Lobule_parietal_sup_left STi-SOTlat_left SPeC_left STsbr_left ScCal-SLi_left STs_left FCLp-subsc-FCLa-INSULA_left SC-sylv_left SC-SPeC_left OCCIPITAL_left SOr_left FColl-SRh_right SFmedian-SFpoltr-SFsup_right SFinf-BROCA-SPeCinf_right SPoC_right fronto-parietal_medial_face_right FIP_right CINGULATE_right SC-SPoC_right SFinter-SFsup_right FCMpost-SpC_right SsP-SPaint_right SOr-SOlf_right FPO-SCu-ScCal_right SFmarginal-SFinfant_right SFint-FCMant_right STi-STs-STpol_right SFint-SR_right Lobule_parietal_sup_right STi-SOTlat_right SPeC_right STsbr_right ScCal-SLi_right STs_right FCLp-subsc-FCLa-INSULA_right SC-sylv_right SC-SPeC_right OCCIPITAL_right SOr_right'"
      ]
     },
     "execution_count": 57,
     "metadata": {},
     "output_type": "execute_result"
    }
   ],
   "source": [
    "mystring"
   ]
  },
  {
   "cell_type": "code",
   "execution_count": 58,
   "metadata": {},
   "outputs": [
    {
     "name": "stdout",
     "output_type": "stream",
     "text": [
      "/neurospin/dico/jlaval/Runs_jl277509/2023_jlaval_STSbabies/contrastive/configs/dataset/julien/schiz//reference.yaml\n",
      "/neurospin/dico/data/deep_folding/current/datasets/aggregate_schizophrenia/crops/2mm/F.Coll.-S.Rh.\n",
      "/neurospin/dico/data/deep_folding/current/datasets/aggregate_schizophrenia/crops/2mm/S.F.median-S.F.pol.tr.-S.F.sup.\n",
      "/neurospin/dico/data/deep_folding/current/datasets/aggregate_schizophrenia/crops/2mm/S.F.inf.-BROCA-S.Pe.C.inf.\n",
      "/neurospin/dico/data/deep_folding/current/datasets/aggregate_schizophrenia/crops/2mm/S.Po.C.\n",
      "/neurospin/dico/data/deep_folding/current/datasets/aggregate_schizophrenia/crops/2mm/fronto-parietal_medial_face.\n",
      "/neurospin/dico/data/deep_folding/current/datasets/aggregate_schizophrenia/crops/2mm/F.I.P.\n",
      "/neurospin/dico/data/deep_folding/current/datasets/aggregate_schizophrenia/crops/2mm/S.T.s.-S.GSM.\n",
      "/neurospin/dico/data/deep_folding/current/datasets/aggregate_schizophrenia/crops/2mm/CINGULATE.\n",
      "/neurospin/dico/data/deep_folding/current/datasets/aggregate_schizophrenia/crops/2mm/F.C.L.p.-S.GSM.\n",
      "/neurospin/dico/data/deep_folding/current/datasets/aggregate_schizophrenia/crops/2mm/S.C.-S.Po.C.\n",
      "/neurospin/dico/data/deep_folding/current/datasets/aggregate_schizophrenia/crops/2mm/S.F.inter.-S.F.sup.\n",
      "/neurospin/dico/data/deep_folding/current/datasets/aggregate_schizophrenia/crops/2mm/F.C.M.post.-S.p.C.\n",
      "/neurospin/dico/data/deep_folding/current/datasets/aggregate_schizophrenia/crops/2mm/S.s.P.-S.Pa.int.\n",
      "/neurospin/dico/data/deep_folding/current/datasets/aggregate_schizophrenia/crops/2mm/S.Or.-S.Olf.\n",
      "/neurospin/dico/data/deep_folding/current/datasets/aggregate_schizophrenia/crops/2mm/F.P.O.-S.Cu.-Sc.Cal.\n",
      "/neurospin/dico/data/deep_folding/current/datasets/aggregate_schizophrenia/crops/2mm/S.F.marginal-S.F.inf.ant.\n",
      "/neurospin/dico/data/deep_folding/current/datasets/aggregate_schizophrenia/crops/2mm/S.F.int.-F.C.M.ant.\n",
      "/neurospin/dico/data/deep_folding/current/datasets/aggregate_schizophrenia/crops/2mm/S.T.i.-S.T.s.-S.T.pol.\n",
      "/neurospin/dico/data/deep_folding/current/datasets/aggregate_schizophrenia/crops/2mm/S.F.int.-S.R.\n",
      "/neurospin/dico/data/deep_folding/current/datasets/aggregate_schizophrenia/crops/2mm/Lobule_parietal_sup.\n",
      "/neurospin/dico/data/deep_folding/current/datasets/aggregate_schizophrenia/crops/2mm/S.T.i.-S.O.T.lat.\n",
      "/neurospin/dico/data/deep_folding/current/datasets/aggregate_schizophrenia/crops/2mm/S.Pe.C.\n",
      "/neurospin/dico/data/deep_folding/current/datasets/aggregate_schizophrenia/crops/2mm/S.T.s.br.\n",
      "/neurospin/dico/data/deep_folding/current/datasets/aggregate_schizophrenia/crops/2mm/Sc.Cal.-S.Li.\n",
      "/neurospin/dico/data/deep_folding/current/datasets/aggregate_schizophrenia/crops/2mm/S.T.s.\n",
      "/neurospin/dico/data/deep_folding/current/datasets/aggregate_schizophrenia/crops/2mm/F.C.L.p.-subsc.-F.C.L.a.-INSULA.\n",
      "/neurospin/dico/data/deep_folding/current/datasets/aggregate_schizophrenia/crops/2mm/S.C.-sylv.\n",
      "/neurospin/dico/data/deep_folding/current/datasets/aggregate_schizophrenia/crops/2mm/S.C.-S.Pe.C.\n",
      "/neurospin/dico/data/deep_folding/current/datasets/aggregate_schizophrenia/crops/2mm/OCCIPITAL\n",
      "/neurospin/dico/data/deep_folding/current/datasets/aggregate_schizophrenia/crops/2mm/S.Or.\n"
     ]
    }
   ],
   "source": [
    "print(ref_file)\n",
    "print('\\n'.join(crop_dirs))"
   ]
  },
  {
   "cell_type": "code",
   "execution_count": 59,
   "metadata": {},
   "outputs": [
    {
     "name": "stdout",
     "output_type": "stream",
     "text": [
      "# @package dataset.REPLACE_DATASET\n",
      "dataset_name: REPLACE_DATASET\n",
      "pickle_normal: ${dataset_folder}/aggregate_schizophrenia/crops/2mm/REPLACE_CROP_NAME/mask/REPLACE_SIDEskeleton.pkl\n",
      "numpy_all: ${dataset_folder}/aggregate_schizophrenia/crops/2mm/REPLACE_CROP_NAME/mask/REPLACE_SIDEskeleton.npy\n",
      "subjects_all: ${dataset_folder}/aggregate_schizophrenia/crops/2mm/REPLACE_CROP_NAME/mask/REPLACE_SIDEskeleton_subject.csv\n",
      "crop_dir: ${dataset_folder}/aggregate_schizophrenia/crops/2mm/REPLACE_CROP_NAME/mask/REPLACE_SIDEcrops\n",
      "foldlabel_dir: ${dataset_folder}/aggregate_schizophrenia/crops/2mm/REPLACE_CROP_NAME/mask/REPLACE_SIDElabels\n",
      "foldlabel_all: ${dataset_folder}/aggregate_schizophrenia/crops/2mm/REPLACE_CROP_NAME/mask/REPLACE_SIDElabel.npy\n",
      "subjects_foldlabel_all: ${dataset_folder}/aggregate_schizophrenia/crops/2mm/REPLACE_CROP_NAME/mask/REPLACE_SIDElabel_subject.csv\n",
      "distbottom_dir: ${dataset_folder}/aggregate_schizophrenia/crops/2mm/REPLACE_CROP_NAME/mask/REPLACE_SIDEdistbottom\n",
      "distbottom_all: ${dataset_folder}/aggregate_schizophrenia/crops/2mm/REPLACE_CROP_NAME/mask/REPLACE_SIDEdistbottom.npy\n",
      "extremity_dir: ${dataset_folder}/aggregate_schizophrenia/crops/2mm/REPLACE_CROP_NAME/mask/REPLACE_SIDEextremities\n",
      "extremity_all: ${dataset_folder}/aggregate_schizophrenia/crops/2mm/REPLACE_CROP_NAME/mask/REPLACE_SIDEextremities.npy\n",
      "subjects_extremity_all: ${dataset_folder}/aggregate_schizophrenia/crops/2mm/REPLACE_CROP_NAME/mask/REPLACE_SIDEextremities_subject.csv\n",
      "subjects_distbottom_all: ${dataset_folder}/aggregate_schizophrenia/crops/2mm/REPLACE_CROP_NAME/mask/REPLACE_SIDEdistbottom_subject.csv\n",
      "crop_file_suffix: _cropped_skeleton.nii.gz\n",
      "pickle_benchmark:\n",
      "train_val_csv_file: ${dataset_folder}/aggregate_schizophrenia/all_subjects.csv\n",
      "subject_labels_file: ${dataset_folder}/aggregate_schizophrenia/fake_labels.csv\n",
      "subject_column_name: 'participant_id'\n",
      "cutout_mask_path:\n",
      "cutin_mask_path:\n",
      "flip_dataset: False\n",
      "input_size: (1, REPLACE_SIZEX, REPLACE_SIZEY, REPLACE_SIZEZ)\n"
     ]
    }
   ],
   "source": [
    "# Read in the reference file\n",
    "with open(ref_file, 'r') as file:\n",
    "  ref = file.read()\n",
    "\n",
    "print(ref)"
   ]
  },
  {
   "cell_type": "code",
   "execution_count": 60,
   "metadata": {},
   "outputs": [],
   "source": [
    "def replace_reference_yaml(crop_dir, side, ref):\n",
    "  \"\"\"For each crop name, it builds the yaml from the reference yaml\"\"\"\n",
    "  crop_name = os.path.basename(crop_dir)\n",
    "  dataset_name = crop_name.replace('.', '')\n",
    "  mask_file = f\"{crop_dir}/mask/{side}mask_cropped.nii.gz.minf\"\n",
    "  with open(mask_file, 'r') as file:\n",
    "    mask = file.read()\n",
    "  mask = mask.replace(\"attributes = \", \"\")\n",
    "  mask = mask.replace(\"\\'\", \"\\\"\")\n",
    "  # print(mask)\n",
    "  mask_json = json.loads(mask)\n",
    "  # print(mask_json)\n",
    "  side = side\n",
    "  side_long = \"left\" if side=='L' else \"right\"\n",
    "  dataset_name = f\"{dataset_name}_{side_long}\"\n",
    "  filedata = ref.replace('REPLACE_CROP_NAME', crop_name)\n",
    "  filedata = filedata.replace('REPLACE_DATASET', dataset_name)\n",
    "  filedata = filedata.replace('REPLACE_SIDE', side)\n",
    "  filedata = filedata.replace('REPLACE_SIZEX', str(mask_json['sizeX']))\n",
    "  filedata = filedata.replace('REPLACE_SIZEY', str(mask_json['sizeY']))\n",
    "  filedata = filedata.replace('REPLACE_SIZEZ', str(mask_json['sizeZ']))\n",
    "\n",
    "  result_file = f\"{path}/{dataset_name}.yaml\"\n",
    "\n",
    "  return filedata, result_file"
   ]
  },
  {
   "cell_type": "code",
   "execution_count": 61,
   "metadata": {},
   "outputs": [
    {
     "name": "stdout",
     "output_type": "stream",
     "text": [
      "/neurospin/dico/jlaval/Runs_jl277509/2023_jlaval_STSbabies/contrastive/configs/dataset/julien/schiz//FColl-SRh_left.yaml\n",
      "/neurospin/dico/jlaval/Runs_jl277509/2023_jlaval_STSbabies/contrastive/configs/dataset/julien/schiz//FColl-SRh_right.yaml\n",
      "/neurospin/dico/jlaval/Runs_jl277509/2023_jlaval_STSbabies/contrastive/configs/dataset/julien/schiz//SFmedian-SFpoltr-SFsup_left.yaml\n",
      "/neurospin/dico/jlaval/Runs_jl277509/2023_jlaval_STSbabies/contrastive/configs/dataset/julien/schiz//SFmedian-SFpoltr-SFsup_right.yaml\n",
      "/neurospin/dico/jlaval/Runs_jl277509/2023_jlaval_STSbabies/contrastive/configs/dataset/julien/schiz//SFinf-BROCA-SPeCinf_left.yaml\n",
      "/neurospin/dico/jlaval/Runs_jl277509/2023_jlaval_STSbabies/contrastive/configs/dataset/julien/schiz//SFinf-BROCA-SPeCinf_right.yaml\n",
      "/neurospin/dico/jlaval/Runs_jl277509/2023_jlaval_STSbabies/contrastive/configs/dataset/julien/schiz//SPoC_left.yaml\n",
      "/neurospin/dico/jlaval/Runs_jl277509/2023_jlaval_STSbabies/contrastive/configs/dataset/julien/schiz//SPoC_right.yaml\n",
      "/neurospin/dico/jlaval/Runs_jl277509/2023_jlaval_STSbabies/contrastive/configs/dataset/julien/schiz//fronto-parietal_medial_face_left.yaml\n",
      "/neurospin/dico/jlaval/Runs_jl277509/2023_jlaval_STSbabies/contrastive/configs/dataset/julien/schiz//fronto-parietal_medial_face_right.yaml\n",
      "/neurospin/dico/jlaval/Runs_jl277509/2023_jlaval_STSbabies/contrastive/configs/dataset/julien/schiz//FIP_left.yaml\n",
      "/neurospin/dico/jlaval/Runs_jl277509/2023_jlaval_STSbabies/contrastive/configs/dataset/julien/schiz//FIP_right.yaml\n",
      "/neurospin/dico/jlaval/Runs_jl277509/2023_jlaval_STSbabies/contrastive/configs/dataset/julien/schiz//STs-SGSM_left.yaml\n",
      "/neurospin/dico/jlaval/Runs_jl277509/2023_jlaval_STSbabies/contrastive/configs/dataset/julien/schiz//STs-SGSM_right.yaml\n",
      "/neurospin/dico/jlaval/Runs_jl277509/2023_jlaval_STSbabies/contrastive/configs/dataset/julien/schiz//CINGULATE_left.yaml\n",
      "/neurospin/dico/jlaval/Runs_jl277509/2023_jlaval_STSbabies/contrastive/configs/dataset/julien/schiz//CINGULATE_right.yaml\n",
      "/neurospin/dico/jlaval/Runs_jl277509/2023_jlaval_STSbabies/contrastive/configs/dataset/julien/schiz//FCLp-SGSM_left.yaml\n",
      "/neurospin/dico/jlaval/Runs_jl277509/2023_jlaval_STSbabies/contrastive/configs/dataset/julien/schiz//FCLp-SGSM_right.yaml\n",
      "/neurospin/dico/jlaval/Runs_jl277509/2023_jlaval_STSbabies/contrastive/configs/dataset/julien/schiz//SC-SPoC_left.yaml\n",
      "/neurospin/dico/jlaval/Runs_jl277509/2023_jlaval_STSbabies/contrastive/configs/dataset/julien/schiz//SC-SPoC_right.yaml\n",
      "/neurospin/dico/jlaval/Runs_jl277509/2023_jlaval_STSbabies/contrastive/configs/dataset/julien/schiz//SFinter-SFsup_left.yaml\n",
      "/neurospin/dico/jlaval/Runs_jl277509/2023_jlaval_STSbabies/contrastive/configs/dataset/julien/schiz//SFinter-SFsup_right.yaml\n",
      "/neurospin/dico/jlaval/Runs_jl277509/2023_jlaval_STSbabies/contrastive/configs/dataset/julien/schiz//FCMpost-SpC_left.yaml\n",
      "/neurospin/dico/jlaval/Runs_jl277509/2023_jlaval_STSbabies/contrastive/configs/dataset/julien/schiz//FCMpost-SpC_right.yaml\n",
      "/neurospin/dico/jlaval/Runs_jl277509/2023_jlaval_STSbabies/contrastive/configs/dataset/julien/schiz//SsP-SPaint_left.yaml\n",
      "/neurospin/dico/jlaval/Runs_jl277509/2023_jlaval_STSbabies/contrastive/configs/dataset/julien/schiz//SsP-SPaint_right.yaml\n",
      "/neurospin/dico/jlaval/Runs_jl277509/2023_jlaval_STSbabies/contrastive/configs/dataset/julien/schiz//SOr-SOlf_left.yaml\n",
      "/neurospin/dico/jlaval/Runs_jl277509/2023_jlaval_STSbabies/contrastive/configs/dataset/julien/schiz//SOr-SOlf_right.yaml\n",
      "/neurospin/dico/jlaval/Runs_jl277509/2023_jlaval_STSbabies/contrastive/configs/dataset/julien/schiz//FPO-SCu-ScCal_left.yaml\n",
      "/neurospin/dico/jlaval/Runs_jl277509/2023_jlaval_STSbabies/contrastive/configs/dataset/julien/schiz//FPO-SCu-ScCal_right.yaml\n",
      "/neurospin/dico/jlaval/Runs_jl277509/2023_jlaval_STSbabies/contrastive/configs/dataset/julien/schiz//SFmarginal-SFinfant_left.yaml\n",
      "/neurospin/dico/jlaval/Runs_jl277509/2023_jlaval_STSbabies/contrastive/configs/dataset/julien/schiz//SFmarginal-SFinfant_right.yaml\n",
      "/neurospin/dico/jlaval/Runs_jl277509/2023_jlaval_STSbabies/contrastive/configs/dataset/julien/schiz//SFint-FCMant_left.yaml\n",
      "/neurospin/dico/jlaval/Runs_jl277509/2023_jlaval_STSbabies/contrastive/configs/dataset/julien/schiz//SFint-FCMant_right.yaml\n",
      "/neurospin/dico/jlaval/Runs_jl277509/2023_jlaval_STSbabies/contrastive/configs/dataset/julien/schiz//STi-STs-STpol_left.yaml\n",
      "/neurospin/dico/jlaval/Runs_jl277509/2023_jlaval_STSbabies/contrastive/configs/dataset/julien/schiz//STi-STs-STpol_right.yaml\n",
      "/neurospin/dico/jlaval/Runs_jl277509/2023_jlaval_STSbabies/contrastive/configs/dataset/julien/schiz//SFint-SR_left.yaml\n",
      "/neurospin/dico/jlaval/Runs_jl277509/2023_jlaval_STSbabies/contrastive/configs/dataset/julien/schiz//SFint-SR_right.yaml\n",
      "/neurospin/dico/jlaval/Runs_jl277509/2023_jlaval_STSbabies/contrastive/configs/dataset/julien/schiz//Lobule_parietal_sup_left.yaml\n",
      "/neurospin/dico/jlaval/Runs_jl277509/2023_jlaval_STSbabies/contrastive/configs/dataset/julien/schiz//Lobule_parietal_sup_right.yaml\n",
      "/neurospin/dico/jlaval/Runs_jl277509/2023_jlaval_STSbabies/contrastive/configs/dataset/julien/schiz//STi-SOTlat_left.yaml\n",
      "/neurospin/dico/jlaval/Runs_jl277509/2023_jlaval_STSbabies/contrastive/configs/dataset/julien/schiz//STi-SOTlat_right.yaml\n",
      "/neurospin/dico/jlaval/Runs_jl277509/2023_jlaval_STSbabies/contrastive/configs/dataset/julien/schiz//SPeC_left.yaml\n",
      "/neurospin/dico/jlaval/Runs_jl277509/2023_jlaval_STSbabies/contrastive/configs/dataset/julien/schiz//SPeC_right.yaml\n",
      "/neurospin/dico/jlaval/Runs_jl277509/2023_jlaval_STSbabies/contrastive/configs/dataset/julien/schiz//STsbr_left.yaml\n",
      "/neurospin/dico/jlaval/Runs_jl277509/2023_jlaval_STSbabies/contrastive/configs/dataset/julien/schiz//STsbr_right.yaml\n",
      "/neurospin/dico/jlaval/Runs_jl277509/2023_jlaval_STSbabies/contrastive/configs/dataset/julien/schiz//ScCal-SLi_left.yaml\n",
      "/neurospin/dico/jlaval/Runs_jl277509/2023_jlaval_STSbabies/contrastive/configs/dataset/julien/schiz//ScCal-SLi_right.yaml\n",
      "/neurospin/dico/jlaval/Runs_jl277509/2023_jlaval_STSbabies/contrastive/configs/dataset/julien/schiz//STs_left.yaml\n",
      "/neurospin/dico/jlaval/Runs_jl277509/2023_jlaval_STSbabies/contrastive/configs/dataset/julien/schiz//STs_right.yaml\n",
      "/neurospin/dico/jlaval/Runs_jl277509/2023_jlaval_STSbabies/contrastive/configs/dataset/julien/schiz//FCLp-subsc-FCLa-INSULA_left.yaml\n",
      "/neurospin/dico/jlaval/Runs_jl277509/2023_jlaval_STSbabies/contrastive/configs/dataset/julien/schiz//FCLp-subsc-FCLa-INSULA_right.yaml\n",
      "/neurospin/dico/jlaval/Runs_jl277509/2023_jlaval_STSbabies/contrastive/configs/dataset/julien/schiz//SC-sylv_left.yaml\n",
      "/neurospin/dico/jlaval/Runs_jl277509/2023_jlaval_STSbabies/contrastive/configs/dataset/julien/schiz//SC-sylv_right.yaml\n",
      "/neurospin/dico/jlaval/Runs_jl277509/2023_jlaval_STSbabies/contrastive/configs/dataset/julien/schiz//SC-SPeC_left.yaml\n",
      "/neurospin/dico/jlaval/Runs_jl277509/2023_jlaval_STSbabies/contrastive/configs/dataset/julien/schiz//SC-SPeC_right.yaml\n",
      "/neurospin/dico/jlaval/Runs_jl277509/2023_jlaval_STSbabies/contrastive/configs/dataset/julien/schiz//OCCIPITAL_left.yaml\n",
      "/neurospin/dico/jlaval/Runs_jl277509/2023_jlaval_STSbabies/contrastive/configs/dataset/julien/schiz//OCCIPITAL_right.yaml\n",
      "/neurospin/dico/jlaval/Runs_jl277509/2023_jlaval_STSbabies/contrastive/configs/dataset/julien/schiz//SOr_left.yaml\n",
      "/neurospin/dico/jlaval/Runs_jl277509/2023_jlaval_STSbabies/contrastive/configs/dataset/julien/schiz//SOr_right.yaml\n"
     ]
    }
   ],
   "source": [
    "# Replace the target string\n",
    "for crop_dir in crop_dirs:\n",
    "    for side in ['L', 'R']:\n",
    "        filedata, result_file = replace_reference_yaml(crop_dir, side, ref)\n",
    "        print(result_file)\n",
    "        with open(result_file, 'w') as file:\n",
    "          file.write(filedata)\n",
    "        "
   ]
  },
  {
   "cell_type": "code",
   "execution_count": 107,
   "metadata": {},
   "outputs": [],
   "source": [
    "# # Write the file out again\n",
    "# with open('file.txt', 'w') as file:\n",
    "#   file.write(filedata)"
   ]
  },
  {
   "cell_type": "markdown",
   "metadata": {},
   "source": [
    "# Command line of train.py"
   ]
  },
  {
   "cell_type": "code",
   "execution_count": 110,
   "metadata": {},
   "outputs": [],
   "source": [
    "path_champollion = \"/neurospin/dico/data/deep_folding/current/models/Champollion_V0\"\n",
    "path_configs = path"
   ]
  },
  {
   "cell_type": "code",
   "execution_count": 124,
   "metadata": {},
   "outputs": [
    {
     "name": "stdout",
     "output_type": "stream",
     "text": [
      "SC-sylv_left\n",
      "STs-SGSM_left\n",
      "SC-sylv_right\n",
      "CINGULATE_right\n",
      "FCLp-SGSM_left\n",
      "FIP_right\n",
      "ORBITAL_left\n"
     ]
    }
   ],
   "source": [
    "trained_regions = glob.glob(f\"{path_champollion}/*\")\n",
    "trained_regions = [f for f in trained_regions if not \"README.md\" in f]\n",
    "trained_regions = [os.path.basename(f) for f in trained_regions]\n",
    "print('\\n'.join(trained_regions))"
   ]
  },
  {
   "cell_type": "code",
   "execution_count": 126,
   "metadata": {},
   "outputs": [
    {
     "name": "stdout",
     "output_type": "stream",
     "text": [
      "SFint-FCMant_left\n",
      "CINGULATE_right\n",
      "SFint-FCMant_right\n",
      "SPoC_left\n",
      "STi-SOTlat_left\n",
      "ScCal-SLi_left\n",
      "STs_right\n",
      "STs_left\n",
      "SC-sylv_right\n",
      "ORBITAL_left\n",
      "FIP_right\n",
      "SC-SPeC_left\n",
      "FCMpost-SpC_right\n",
      "SFinf-BROCA-SPeCinf_left\n",
      "SC-SPoC_left\n",
      "SC-sylv_left\n",
      "ORBITAL_right\n",
      "STi-SOTlat_right\n",
      "SC-SPoC_right\n",
      "FCLp-SGSM_left\n",
      "SC-SPeC_right\n",
      "STs-SGSM_left\n",
      "SPoC_right\n",
      "SPeC_right\n",
      "SFinf-BROCA-SPeCinf_right\n",
      "SPeC_left\n",
      "ScCal-SLi_right\n",
      "CINGULATE_left\n",
      "FCMpost-SpC_left\n"
     ]
    }
   ],
   "source": [
    "available_configs = glob.glob(f\"{path_configs}/*\")\n",
    "available_configs = [f for f in available_configs if not \"reference.yaml\" in f]\n",
    "available_configs = [os.path.basename(f).replace(\".yaml\", \"\") for f in available_configs]\n",
    "print('\\n'.join(available_configs))"
   ]
  },
  {
   "cell_type": "code",
   "execution_count": 134,
   "metadata": {},
   "outputs": [
    {
     "name": "stdout",
     "output_type": "stream",
     "text": [
      "22\n"
     ]
    }
   ],
   "source": [
    "to_train = set(available_configs) - set(trained_regions)\n",
    "print(len(to_train))\n",
    "to_train = [f\"with_reskel_distbottom/2mm/UKB/{i}\" for i in to_train]"
   ]
  },
  {
   "cell_type": "code",
   "execution_count": 133,
   "metadata": {},
   "outputs": [
    {
     "data": {
      "text/plain": [
       "'with_reskel_distbottom/2mm/UKB/STs_left,with_reskel_distbottom/2mm/UKB/SPoC_left,with_reskel_distbottom/2mm/UKB/STi-SOTlat_left,with_reskel_distbottom/2mm/UKB/STi-SOTlat_right,with_reskel_distbottom/2mm/UKB/SC-SPoC_left,with_reskel_distbottom/2mm/UKB/SFint-FCMant_left,with_reskel_distbottom/2mm/UKB/SPoC_right,with_reskel_distbottom/2mm/UKB/SC-SPeC_left,with_reskel_distbottom/2mm/UKB/ScCal-SLi_left,with_reskel_distbottom/2mm/UKB/STs_right,with_reskel_distbottom/2mm/UKB/SPeC_left,with_reskel_distbottom/2mm/UKB/SPeC_right,with_reskel_distbottom/2mm/UKB/ORBITAL_right,with_reskel_distbottom/2mm/UKB/SFint-FCMant_right,with_reskel_distbottom/2mm/UKB/SC-SPoC_right,with_reskel_distbottom/2mm/UKB/FCMpost-SpC_left,with_reskel_distbottom/2mm/UKB/FCMpost-SpC_right,with_reskel_distbottom/2mm/UKB/SFinf-BROCA-SPeCinf_right,with_reskel_distbottom/2mm/UKB/ScCal-SLi_right,with_reskel_distbottom/2mm/UKB/SFinf-BROCA-SPeCinf_left,with_reskel_distbottom/2mm/UKB/CINGULATE_left,with_reskel_distbottom/2mm/UKB/SC-SPeC_right'"
      ]
     },
     "execution_count": 133,
     "metadata": {},
     "output_type": "execute_result"
    }
   ],
   "source": [
    "','.join(to_train)"
   ]
  },
  {
   "cell_type": "code",
   "execution_count": 135,
   "metadata": {},
   "outputs": [
    {
     "data": {
      "text/plain": [
       "22"
      ]
     },
     "execution_count": 135,
     "metadata": {},
     "output_type": "execute_result"
    }
   ],
   "source": [
    "len(to_train)"
   ]
  },
  {
   "cell_type": "code",
   "execution_count": null,
   "metadata": {},
   "outputs": [],
   "source": []
  }
 ],
 "metadata": {
  "kernelspec": {
   "display_name": "venv",
   "language": "python",
   "name": "python3"
  },
  "language_info": {
   "codemirror_mode": {
    "name": "ipython",
    "version": 3
   },
   "file_extension": ".py",
   "mimetype": "text/x-python",
   "name": "python",
   "nbconvert_exporter": "python",
   "pygments_lexer": "ipython3",
   "version": "3.10.12"
  }
 },
 "nbformat": 4,
 "nbformat_minor": 2
}
