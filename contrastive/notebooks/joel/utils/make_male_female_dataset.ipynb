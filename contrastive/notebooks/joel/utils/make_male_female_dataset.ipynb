{
 "cells": [
  {
   "cell_type": "code",
   "execution_count": 1,
   "metadata": {},
   "outputs": [],
   "source": [
    "import pandas as pd"
   ]
  },
  {
   "cell_type": "code",
   "execution_count": 3,
   "metadata": {},
   "outputs": [],
   "source": [
    "path = \"/neurospin/dico/data/deep_folding/current/datasets/schiz_extended\"\n",
    "src_test_file = f\"{path}/test_subjects.csv\"\n",
    "src_test_intra_file = f\"{path}/test_intra_subjects.csv\"\n",
    "src_val_file = f\"{path}/val_subjects.csv\"\n",
    "src_train_file = f\"{path}/train_subjects.csv\"\n",
    "label_file = f\"{path}/used_schiz_subjects.csv\""
   ]
  },
  {
   "cell_type": "code",
   "execution_count": 11,
   "metadata": {},
   "outputs": [],
   "source": [
    "src_test = pd.read_csv(src_test_file, header=None).rename(columns={0: \"participant_id\"})\n",
    "src_test_intra = pd.read_csv(src_test_intra_file, header=None).rename(columns={0: \"participant_id\"})\n",
    "src_val = pd.read_csv(src_val_file, header=None).rename(columns={0: \"participant_id\"})\n",
    "src_train = pd.read_csv(src_train_file, header=None).rename(columns={0: \"participant_id\"})\n",
    "\n",
    "label = pd.read_csv(label_file)[[\"participant_id\", \"sex\", \"diagnosis\", \"site\"]]"
   ]
  },
  {
   "cell_type": "code",
   "execution_count": 12,
   "metadata": {},
   "outputs": [],
   "source": [
    "def get_only_one_sex(df, label, sex):\n",
    "    df2 = label[label.participant_id.isin(df.participant_id)]\n",
    "    df2 = df2[df2.sex==sex]\n",
    "    return df2[[\"participant_id\"]]"
   ]
  },
  {
   "cell_type": "code",
   "execution_count": 14,
   "metadata": {},
   "outputs": [],
   "source": [
    "test_M = get_only_one_sex(src_test, label, 'M')\n",
    "test_intra_M = get_only_one_sex(src_test_intra, label, 'M')\n",
    "val_M = get_only_one_sex(src_val, label, 'M')\n",
    "train_M = get_only_one_sex(src_train, label, 'M')\n"
   ]
  },
  {
   "cell_type": "code",
   "execution_count": 17,
   "metadata": {},
   "outputs": [],
   "source": [
    "test_M.to_csv(f\"{path}/test_male_subjects.csv\", index=False, header=False)\n",
    "test_intra_M.to_csv(f\"{path}/test_intra_male_subjects.csv\", index=False, header=False)\n",
    "val_M.to_csv(f\"{path}/val_male_subjects.csv\", index=False, header=False)\n",
    "train_M.to_csv(f\"{path}/train_male_subjects.csv\", index=False, header=False)"
   ]
  },
  {
   "cell_type": "code",
   "execution_count": 15,
   "metadata": {},
   "outputs": [],
   "source": [
    "test_F = get_only_one_sex(src_test, label, 'F')\n",
    "test_intra_F = get_only_one_sex(src_test_intra, label, 'F')\n",
    "val_F = get_only_one_sex(src_val, label, 'F')\n",
    "train_F = get_only_one_sex(src_train, label, 'F')"
   ]
  },
  {
   "cell_type": "code",
   "execution_count": 16,
   "metadata": {},
   "outputs": [],
   "source": [
    "test_F.to_csv(f\"{path}/test_female_subjects.csv\", index=False, header=False)\n",
    "test_intra_F.to_csv(f\"{path}/test_intra_female_subjects.csv\", index=False, header=False)\n",
    "val_F.to_csv(f\"{path}/val_female_subjects.csv\", index=False, header=False)\n",
    "train_F.to_csv(f\"{path}/train_female_subjects.csv\", index=False, header=False)"
   ]
  },
  {
   "cell_type": "code",
   "execution_count": null,
   "metadata": {},
   "outputs": [],
   "source": []
  }
 ],
 "metadata": {
  "kernelspec": {
   "display_name": "venv",
   "language": "python",
   "name": "python3"
  },
  "language_info": {
   "codemirror_mode": {
    "name": "ipython",
    "version": 3
   },
   "file_extension": ".py",
   "mimetype": "text/x-python",
   "name": "python",
   "nbconvert_exporter": "python",
   "pygments_lexer": "ipython3",
   "version": "3.10.12"
  }
 },
 "nbformat": 4,
 "nbformat_minor": 2
}
