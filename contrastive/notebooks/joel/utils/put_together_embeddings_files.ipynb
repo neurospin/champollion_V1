{
 "cells": [
  {
   "cell_type": "markdown",
   "metadata": {},
   "source": [
    "Le but est de rassembler les fichiers full_embeddings dnas les répertoires/sous-répertoires et de les rassmebler dans le répertoire de sortie."
   ]
  },
  {
   "cell_type": "code",
   "execution_count": 14,
   "metadata": {},
   "outputs": [],
   "source": [
    "import os\n",
    "import shutil\n",
    "import logging\n",
    "import tarfile\n",
    "import pandas as pd"
   ]
  },
  {
   "cell_type": "code",
   "execution_count": 15,
   "metadata": {},
   "outputs": [],
   "source": [
    "path_champollion = \"/neurospin/dico/data/deep_folding/current/models/Champollion_V1_after_ablation\"\n",
    "embeddings_subpath = \"abcd_random_embeddings/full_embeddings.csv\"\n",
    "output_path = \"/neurospin/dico/data/deep_folding/current/models/Champollion_V1_after_ablation/embeddings/ABCD_embeddings\""
   ]
  },
  {
   "cell_type": "code",
   "execution_count": 16,
   "metadata": {},
   "outputs": [],
   "source": [
    "def is_it_a_file(sub_dir):\n",
    "    if os.path.isdir(sub_dir):\n",
    "        return False\n",
    "    else:\n",
    "        logging.debug(f\"{sub_dir} is a file. Continue.\")\n",
    "        return True\n",
    "    \n",
    "\n",
    "def is_folder_a_model(sub_dir):\n",
    "    if os.path.exists(sub_dir+'/.hydra/config.yaml'):\n",
    "        return True\n",
    "    else:\n",
    "        logging.debug(f\"\\n{sub_dir} not associated to a model. Continue\")\n",
    "        return False\n",
    "\n",
    "def get_model_paths(dir_path, result = None):\n",
    "    \"\"\"Recursively gets all models included in dir_path\"\"\"\n",
    "    if result is None:  # create a new result if no intermediate was given\n",
    "        result = [] \n",
    "    for name in os.listdir(dir_path):\n",
    "        sub_dir = dir_path + '/' + name\n",
    "        # checks if directory\n",
    "        if is_it_a_file(sub_dir):\n",
    "            pass\n",
    "        elif not is_folder_a_model(sub_dir):\n",
    "            result.extend(get_model_paths(sub_dir))\n",
    "        else:\n",
    "            result.append(sub_dir)\n",
    "    return result"
   ]
  },
  {
   "cell_type": "code",
   "execution_count": 17,
   "metadata": {},
   "outputs": [],
   "source": [
    "model_paths = get_model_paths(path_champollion)"
   ]
  },
  {
   "cell_type": "code",
   "execution_count": 18,
   "metadata": {},
   "outputs": [
    {
     "data": {
      "text/plain": [
       "['/neurospin/dico/data/deep_folding/current/models/Champollion_V1_after_ablation/SC-sylv_left/name07-58-00_111',\n",
       " '/neurospin/dico/data/deep_folding/current/models/Champollion_V1_after_ablation/SFinter-SFsup_left/name08-06-01_220',\n",
       " '/neurospin/dico/data/deep_folding/current/models/Champollion_V1_after_ablation/LARGE_CINGULATE_left/name06-16-54_61',\n",
       " '/neurospin/dico/data/deep_folding/current/models/Champollion_V1_after_ablation/STi-STs-STpol_right/name16-06-03_189',\n",
       " '/neurospin/dico/data/deep_folding/current/models/Champollion_V1_after_ablation/FColl-SRh_right/name06-56-15_113',\n",
       " '/neurospin/dico/data/deep_folding/current/models/Champollion_V1_after_ablation/SC-sylv_right/name06-17-02_84',\n",
       " '/neurospin/dico/data/deep_folding/current/models/Champollion_V1_after_ablation/Lobule_parietal_sup_left/name07-23-04_36',\n",
       " '/neurospin/dico/data/deep_folding/current/models/Champollion_V1_after_ablation/SFint-SR_left/name08-11-23_65',\n",
       " '/neurospin/dico/data/deep_folding/current/models/Champollion_V1_after_ablation/SPoC_left/name08-26-18_11',\n",
       " '/neurospin/dico/data/deep_folding/current/models/Champollion_V1_after_ablation/SFinf-BROCA-SPeCinf_right/name08-00-44_234',\n",
       " '/neurospin/dico/data/deep_folding/current/models/Champollion_V1_after_ablation/SsP-SPaint_left/name08-28-13_26',\n",
       " '/neurospin/dico/data/deep_folding/current/models/Champollion_V1_after_ablation/SOr-SOlf_left/name08-22-26_235',\n",
       " '/neurospin/dico/data/deep_folding/current/models/Champollion_V1_after_ablation/SFinf-BROCA-SPeCinf_left/name08-00-45_128',\n",
       " '/neurospin/dico/data/deep_folding/current/models/Champollion_V1_after_ablation/SFmedian-SFpoltr-SFsup_right/name08-19-50_180',\n",
       " '/neurospin/dico/data/deep_folding/current/models/Champollion_V1_after_ablation/FColl-SRh_left/name06-43-43_210',\n",
       " '/neurospin/dico/data/deep_folding/current/models/Champollion_V1_after_ablation/STi-STs-STpol_left/name06-17-41_148',\n",
       " '/neurospin/dico/data/deep_folding/current/models/Champollion_V1_after_ablation/SFint-FCMant_left/name08-09-20_81',\n",
       " '/neurospin/dico/data/deep_folding/current/models/Champollion_V1_after_ablation/FCLp-subsc-FCLa-INSULA_right/name17-47-16_166',\n",
       " '/neurospin/dico/data/deep_folding/current/models/Champollion_V1_after_ablation/OCCIPITAL_right/name07-38-28_182',\n",
       " '/neurospin/dico/data/deep_folding/current/models/Champollion_V1_after_ablation/SC-SPeC_right/name06-17-00_24',\n",
       " '/neurospin/dico/data/deep_folding/current/models/Champollion_V1_after_ablation/SOr-SOlf_right/name08-22-27_80',\n",
       " '/neurospin/dico/data/deep_folding/current/models/Champollion_V1_after_ablation/SOr_right/name14-12-56_58',\n",
       " '/neurospin/dico/data/deep_folding/current/models/Champollion_V1_after_ablation/CINGULATE_left/name17-24-32_191',\n",
       " '/neurospin/dico/data/deep_folding/current/models/Champollion_V1_after_ablation/SFint-SR_right/name08-12-43_252',\n",
       " '/neurospin/dico/data/deep_folding/current/models/Champollion_V1_after_ablation/CINGULATE_right/name17-24-32_237',\n",
       " '/neurospin/dico/data/deep_folding/current/models/Champollion_V1_after_ablation/fronto-parietal_medial_face_left/name16-06-03_30',\n",
       " '/neurospin/dico/data/deep_folding/current/models/Champollion_V1_after_ablation/ScCal-SLi_left/name07-41-43_180',\n",
       " '/neurospin/dico/data/deep_folding/current/models/Champollion_V1_after_ablation/FPO-SCu-ScCal_right/name07-15-26_174',\n",
       " '/neurospin/dico/data/deep_folding/current/models/Champollion_V1_after_ablation/FPO-SCu-ScCal_left/name07-13-21_118',\n",
       " '/neurospin/dico/data/deep_folding/current/models/Champollion_V1_after_ablation/OCCIPITAL_left/name07-34-40_229',\n",
       " '/neurospin/dico/data/deep_folding/current/models/Champollion_V1_after_ablation/SC-SPeC_left/name22-16-47_177',\n",
       " '/neurospin/dico/data/deep_folding/current/models/Champollion_V1_after_ablation/STs_right/name08-32-58_52',\n",
       " '/neurospin/dico/data/deep_folding/current/models/Champollion_V1_after_ablation/FIP_left/name07-03-29_175',\n",
       " '/neurospin/dico/data/deep_folding/current/models/Champollion_V1_after_ablation/STsbr_right/name08-32-57_200',\n",
       " '/neurospin/dico/data/deep_folding/current/models/Champollion_V1_after_ablation/SC-SPoC_right/name07-58-03_243',\n",
       " '/neurospin/dico/data/deep_folding/current/models/Champollion_V1_after_ablation/SOr_left/name14-12-56_162',\n",
       " '/neurospin/dico/data/deep_folding/current/models/Champollion_V1_after_ablation/fronto-parietal_medial_face_right/name06-16-58_8',\n",
       " '/neurospin/dico/data/deep_folding/current/models/Champollion_V1_after_ablation/SPeC_left/name08-24-23_109',\n",
       " '/neurospin/dico/data/deep_folding/current/models/Champollion_V1_after_ablation/SPoC_right/name08-28-01_155',\n",
       " '/neurospin/dico/data/deep_folding/current/models/Champollion_V1_after_ablation/STi-SOTlat_right/name06-17-38_74',\n",
       " '/neurospin/dico/data/deep_folding/current/models/Champollion_V1_after_ablation/FCMpost-SpC_left/name06-21-10_231',\n",
       " '/neurospin/dico/data/deep_folding/current/models/Champollion_V1_after_ablation/SFint-FCMant_right/name08-10-30_253',\n",
       " '/neurospin/dico/data/deep_folding/current/models/Champollion_V1_after_ablation/SFmedian-SFpoltr-SFsup_left/name06-17-02_114',\n",
       " '/neurospin/dico/data/deep_folding/current/models/Champollion_V1_after_ablation/SPeC_right/name08-24-57_227',\n",
       " '/neurospin/dico/data/deep_folding/current/models/Champollion_V1_after_ablation/SFmarginal-SFinfant_left/name08-15-17_25',\n",
       " '/neurospin/dico/data/deep_folding/current/models/Champollion_V1_after_ablation/FIP_right/name06-17-01_29',\n",
       " '/neurospin/dico/data/deep_folding/current/models/Champollion_V1_after_ablation/FCLp-subsc-FCLa-INSULA_left/name17-43-58_232',\n",
       " '/neurospin/dico/data/deep_folding/current/models/Champollion_V1_after_ablation/STsbr_left/name08-31-32_170',\n",
       " '/neurospin/dico/data/deep_folding/current/models/Champollion_V1_after_ablation/SsP-SPaint_right/name08-29-38_71',\n",
       " '/neurospin/dico/data/deep_folding/current/models/Champollion_V1_after_ablation/ScCal-SLi_right/name07-54-42_78',\n",
       " '/neurospin/dico/data/deep_folding/current/models/Champollion_V1_after_ablation/Lobule_parietal_sup_right/name07-24-01_193',\n",
       " '/neurospin/dico/data/deep_folding/current/models/Champollion_V1_after_ablation/SFmarginal-SFinfant_right/name08-17-15_135',\n",
       " '/neurospin/dico/data/deep_folding/current/models/Champollion_V1_after_ablation/STi-SOTlat_left/name06-17-04_76',\n",
       " '/neurospin/dico/data/deep_folding/current/models/Champollion_V1_after_ablation/SFinter-SFsup_right/name08-08-42_126',\n",
       " '/neurospin/dico/data/deep_folding/current/models/Champollion_V1_after_ablation/STs_left/name08-32-58_223',\n",
       " '/neurospin/dico/data/deep_folding/current/models/Champollion_V1_after_ablation/FCMpost-SpC_right/name06-34-24_229',\n",
       " '/neurospin/dico/data/deep_folding/current/models/Champollion_V1_after_ablation/LARGE_CINGULATE_right/name07-22-35_179',\n",
       " '/neurospin/dico/data/deep_folding/current/models/Champollion_V1_after_ablation/SC-SPoC_left/name07-57-18_53']"
      ]
     },
     "execution_count": 18,
     "metadata": {},
     "output_type": "execute_result"
    }
   ],
   "source": [
    "model_paths"
   ]
  },
  {
   "cell_type": "markdown",
   "metadata": {},
   "source": []
  },
  {
   "cell_type": "code",
   "execution_count": 19,
   "metadata": {},
   "outputs": [],
   "source": [
    "if not os.path.exists(output_path):\n",
    "    os.mkdir(output_path)"
   ]
  },
  {
   "cell_type": "code",
   "execution_count": 20,
   "metadata": {},
   "outputs": [],
   "source": [
    "for model_path in model_paths:\n",
    "    file_input_name = f\"{model_path}/{embeddings_subpath}\"\n",
    "    region = model_path.split('Champollion_V1_after_ablation/')[1].split('/')[0]\n",
    "    model = model_path.split(region+'/')[1].replace(\"/\", \"--\").replace(\"_\", \"--\")\n",
    "    file_output_name = f\"{output_path}/{region}_{model}_embeddings.csv\"\n",
    "    shutil.copyfile(file_input_name, file_output_name)"
   ]
  },
  {
   "cell_type": "code",
   "execution_count": 7,
   "metadata": {},
   "outputs": [],
   "source": [
    "# f = tarfile.open(\"/neurospin/dico/data/deep_folding/current/models/Champollion_V0/embeddings/ukb40_embeddings.tar\", 'r')\n",
    "# f.extractall(\"/neurospin/dico/data/deep_folding/current/models/Champollion_V0/embeddings/tmp\")"
   ]
  },
  {
   "cell_type": "code",
   "execution_count": 8,
   "metadata": {},
   "outputs": [],
   "source": [
    "# f"
   ]
  },
  {
   "cell_type": "code",
   "execution_count": null,
   "metadata": {},
   "outputs": [],
   "source": []
  }
 ],
 "metadata": {
  "kernelspec": {
   "display_name": "venv_rosette",
   "language": "python",
   "name": "python3"
  },
  "language_info": {
   "codemirror_mode": {
    "name": "ipython",
    "version": 3
   },
   "file_extension": ".py",
   "mimetype": "text/x-python",
   "name": "python",
   "nbconvert_exporter": "python",
   "pygments_lexer": "ipython3",
   "version": "3.12.3"
  }
 },
 "nbformat": 4,
 "nbformat_minor": 2
}
