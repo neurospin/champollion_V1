{
 "cells": [
  {
   "cell_type": "markdown",
   "metadata": {},
   "source": [
    "Notebook where to plot the curves and display the performance of all models in \n",
    "a chosen folder. It is also where to conduct the performance analysis about the\n",
    "models database."
   ]
  },
  {
   "cell_type": "code",
   "execution_count": 2,
   "metadata": {},
   "outputs": [],
   "source": [
    "import numpy as np\n",
    "import pandas as pd\n",
    "import seaborn as sns\n",
    "import matplotlib.pyplot as plt\n",
    "\n",
    "from scipy.stats import ttest_1samp\n",
    "\n",
    "from contrastive.utils.models_database import import_bdd"
   ]
  },
  {
   "cell_type": "code",
   "execution_count": 3,
   "metadata": {},
   "outputs": [],
   "source": [
    "import os\n",
    "\n",
    "def last_part(path):\n",
    "    return os.sep.join(path.rsplit(r\"/\")[-2:])"
   ]
  },
  {
   "cell_type": "markdown",
   "metadata": {},
   "source": [
    "## HCP with top included in simple surface / UKB with top included in simple surface"
   ]
  },
  {
   "cell_type": "code",
   "execution_count": 4,
   "metadata": {},
   "outputs": [],
   "source": [
    "database_path = \"/neurospin/dico/jchavas/Runs/57_miccai2023_checks_done_after/Output/contrastive/summary/bdd_HCP-with-top-UkBioBank_without-top-different-n_evaluation-ACCpatterns-1.csv\"\n",
    "bdd = pd.read_csv(database_path, index_col=0)\n",
    "bdd.sort_values(by='auc', ascending=False, inplace=True)\n",
    "bdd.loc[bdd.dataset_name.str.contains(\"UkBioBank\"), \"dataset_name\"] = \"UKBioBank\"\n",
    "bdd.loc[bdd.dataset_name.str.contains(\"ACCpatterns\"), \"dataset_name\"] = \"ACC-1\"\n",
    "bdd.loc[bdd.dataset_name.str.contains(\"HCP\"), \"dataset_name\"] = \"HCP-2\""
   ]
  },
  {
   "cell_type": "code",
   "execution_count": 5,
   "metadata": {},
   "outputs": [
    {
     "data": {
      "text/html": [
       "<div>\n",
       "<style scoped>\n",
       "    .dataframe tbody tr th:only-of-type {\n",
       "        vertical-align: middle;\n",
       "    }\n",
       "\n",
       "    .dataframe tbody tr th {\n",
       "        vertical-align: top;\n",
       "    }\n",
       "\n",
       "    .dataframe thead th {\n",
       "        text-align: right;\n",
       "    }\n",
       "</style>\n",
       "<table border=\"1\" class=\"dataframe\">\n",
       "  <thead>\n",
       "    <tr style=\"text-align: right;\">\n",
       "      <th></th>\n",
       "      <th>model_path</th>\n",
       "      <th>auc</th>\n",
       "      <th>auc_std</th>\n",
       "      <th>accuracy</th>\n",
       "      <th>accuracy_std</th>\n",
       "      <th>backbone_name</th>\n",
       "      <th>batch_size</th>\n",
       "      <th>checkerboard_size</th>\n",
       "      <th>dataset_name</th>\n",
       "      <th>depth_decoder</th>\n",
       "      <th>...</th>\n",
       "      <th>temperature_initial</th>\n",
       "      <th>weight_decay</th>\n",
       "      <th>with_labels</th>\n",
       "      <th>exclude</th>\n",
       "      <th>pretrained_model_path</th>\n",
       "      <th>proportion_pure_contrastive</th>\n",
       "      <th>sigma_labels</th>\n",
       "      <th>temperature_supervised</th>\n",
       "      <th>train_val_csv_file</th>\n",
       "      <th>numpy_all</th>\n",
       "    </tr>\n",
       "  </thead>\n",
       "  <tbody>\n",
       "    <tr>\n",
       "      <th>66</th>\n",
       "      <td>/neurospin/dico/jchavas/Runs/57_miccai2023_che...</td>\n",
       "      <td>0.781621</td>\n",
       "      <td>0.005196</td>\n",
       "      <td>0.748444</td>\n",
       "      <td>0.005917</td>\n",
       "      <td>convnet</td>\n",
       "      <td>16</td>\n",
       "      <td>4</td>\n",
       "      <td>UKBioBank</td>\n",
       "      <td>3</td>\n",
       "      <td>...</td>\n",
       "      <td>0.1</td>\n",
       "      <td>0.00005</td>\n",
       "      <td>True</td>\n",
       "      <td>False</td>\n",
       "      <td>NaN</td>\n",
       "      <td>1.0</td>\n",
       "      <td>2.0</td>\n",
       "      <td>0.3</td>\n",
       "      <td>/neurospin/dico/jchavas/Runs/52_ukbiobank/Inpu...</td>\n",
       "      <td>NaN</td>\n",
       "    </tr>\n",
       "    <tr>\n",
       "      <th>48</th>\n",
       "      <td>/neurospin/dico/jchavas/Runs/57_miccai2023_che...</td>\n",
       "      <td>0.780081</td>\n",
       "      <td>0.002296</td>\n",
       "      <td>0.726363</td>\n",
       "      <td>0.005141</td>\n",
       "      <td>convnet</td>\n",
       "      <td>16</td>\n",
       "      <td>4</td>\n",
       "      <td>UKBioBank</td>\n",
       "      <td>3</td>\n",
       "      <td>...</td>\n",
       "      <td>0.1</td>\n",
       "      <td>0.00005</td>\n",
       "      <td>True</td>\n",
       "      <td>False</td>\n",
       "      <td>NaN</td>\n",
       "      <td>1.0</td>\n",
       "      <td>2.0</td>\n",
       "      <td>0.3</td>\n",
       "      <td>/neurospin/dico/jchavas/Runs/52_ukbiobank/Inpu...</td>\n",
       "      <td>NaN</td>\n",
       "    </tr>\n",
       "    <tr>\n",
       "      <th>27</th>\n",
       "      <td>/neurospin/dico/jchavas/Runs/57_miccai2023_che...</td>\n",
       "      <td>0.772855</td>\n",
       "      <td>0.003858</td>\n",
       "      <td>0.715836</td>\n",
       "      <td>0.010503</td>\n",
       "      <td>convnet</td>\n",
       "      <td>16</td>\n",
       "      <td>4</td>\n",
       "      <td>HCP-2</td>\n",
       "      <td>3</td>\n",
       "      <td>...</td>\n",
       "      <td>0.1</td>\n",
       "      <td>0.00005</td>\n",
       "      <td>False</td>\n",
       "      <td>False</td>\n",
       "      <td>NaN</td>\n",
       "      <td>NaN</td>\n",
       "      <td>NaN</td>\n",
       "      <td>NaN</td>\n",
       "      <td>NaN</td>\n",
       "      <td>NaN</td>\n",
       "    </tr>\n",
       "    <tr>\n",
       "      <th>28</th>\n",
       "      <td>/neurospin/dico/jchavas/Runs/57_miccai2023_che...</td>\n",
       "      <td>0.767657</td>\n",
       "      <td>0.002842</td>\n",
       "      <td>0.713474</td>\n",
       "      <td>0.006021</td>\n",
       "      <td>convnet</td>\n",
       "      <td>16</td>\n",
       "      <td>4</td>\n",
       "      <td>HCP-2</td>\n",
       "      <td>3</td>\n",
       "      <td>...</td>\n",
       "      <td>0.1</td>\n",
       "      <td>0.00005</td>\n",
       "      <td>False</td>\n",
       "      <td>False</td>\n",
       "      <td>NaN</td>\n",
       "      <td>NaN</td>\n",
       "      <td>NaN</td>\n",
       "      <td>NaN</td>\n",
       "      <td>NaN</td>\n",
       "      <td>NaN</td>\n",
       "    </tr>\n",
       "    <tr>\n",
       "      <th>65</th>\n",
       "      <td>/neurospin/dico/jchavas/Runs/57_miccai2023_che...</td>\n",
       "      <td>0.767010</td>\n",
       "      <td>0.003527</td>\n",
       "      <td>0.728304</td>\n",
       "      <td>0.014748</td>\n",
       "      <td>convnet</td>\n",
       "      <td>16</td>\n",
       "      <td>4</td>\n",
       "      <td>UKBioBank</td>\n",
       "      <td>3</td>\n",
       "      <td>...</td>\n",
       "      <td>0.1</td>\n",
       "      <td>0.00005</td>\n",
       "      <td>True</td>\n",
       "      <td>False</td>\n",
       "      <td>NaN</td>\n",
       "      <td>1.0</td>\n",
       "      <td>2.0</td>\n",
       "      <td>0.3</td>\n",
       "      <td>/neurospin/dico/jchavas/Runs/52_ukbiobank/Inpu...</td>\n",
       "      <td>NaN</td>\n",
       "    </tr>\n",
       "  </tbody>\n",
       "</table>\n",
       "<p>5 rows × 41 columns</p>\n",
       "</div>"
      ],
      "text/plain": [
       "                                           model_path       auc   auc_std  \\\n",
       "66  /neurospin/dico/jchavas/Runs/57_miccai2023_che...  0.781621  0.005196   \n",
       "48  /neurospin/dico/jchavas/Runs/57_miccai2023_che...  0.780081  0.002296   \n",
       "27  /neurospin/dico/jchavas/Runs/57_miccai2023_che...  0.772855  0.003858   \n",
       "28  /neurospin/dico/jchavas/Runs/57_miccai2023_che...  0.767657  0.002842   \n",
       "65  /neurospin/dico/jchavas/Runs/57_miccai2023_che...  0.767010  0.003527   \n",
       "\n",
       "    accuracy  accuracy_std backbone_name  batch_size  checkerboard_size  \\\n",
       "66  0.748444      0.005917       convnet          16                  4   \n",
       "48  0.726363      0.005141       convnet          16                  4   \n",
       "27  0.715836      0.010503       convnet          16                  4   \n",
       "28  0.713474      0.006021       convnet          16                  4   \n",
       "65  0.728304      0.014748       convnet          16                  4   \n",
       "\n",
       "   dataset_name  depth_decoder  ...  temperature_initial  weight_decay  \\\n",
       "66    UKBioBank              3  ...                  0.1       0.00005   \n",
       "48    UKBioBank              3  ...                  0.1       0.00005   \n",
       "27        HCP-2              3  ...                  0.1       0.00005   \n",
       "28        HCP-2              3  ...                  0.1       0.00005   \n",
       "65    UKBioBank              3  ...                  0.1       0.00005   \n",
       "\n",
       "   with_labels  exclude  pretrained_model_path proportion_pure_contrastive  \\\n",
       "66        True    False                    NaN                         1.0   \n",
       "48        True    False                    NaN                         1.0   \n",
       "27       False    False                    NaN                         NaN   \n",
       "28       False    False                    NaN                         NaN   \n",
       "65        True    False                    NaN                         1.0   \n",
       "\n",
       "    sigma_labels  temperature_supervised  \\\n",
       "66           2.0                     0.3   \n",
       "48           2.0                     0.3   \n",
       "27           NaN                     NaN   \n",
       "28           NaN                     NaN   \n",
       "65           2.0                     0.3   \n",
       "\n",
       "                                   train_val_csv_file  numpy_all  \n",
       "66  /neurospin/dico/jchavas/Runs/52_ukbiobank/Inpu...        NaN  \n",
       "48  /neurospin/dico/jchavas/Runs/52_ukbiobank/Inpu...        NaN  \n",
       "27                                                NaN        NaN  \n",
       "28                                                NaN        NaN  \n",
       "65  /neurospin/dico/jchavas/Runs/52_ukbiobank/Inpu...        NaN  \n",
       "\n",
       "[5 rows x 41 columns]"
      ]
     },
     "execution_count": 5,
     "metadata": {},
     "output_type": "execute_result"
    }
   ],
   "source": [
    "bdd.head()"
   ]
  },
  {
   "cell_type": "code",
   "execution_count": 6,
   "metadata": {},
   "outputs": [
    {
     "data": {
      "text/html": [
       "<div>\n",
       "<style scoped>\n",
       "    .dataframe tbody tr th:only-of-type {\n",
       "        vertical-align: middle;\n",
       "    }\n",
       "\n",
       "    .dataframe tbody tr th {\n",
       "        vertical-align: top;\n",
       "    }\n",
       "\n",
       "    .dataframe thead th {\n",
       "        text-align: right;\n",
       "    }\n",
       "</style>\n",
       "<table border=\"1\" class=\"dataframe\">\n",
       "  <thead>\n",
       "    <tr style=\"text-align: right;\">\n",
       "      <th></th>\n",
       "      <th>auc</th>\n",
       "      <th>nb_subjects</th>\n",
       "      <th>n</th>\n",
       "      <th>dataset_name</th>\n",
       "      <th>model_name</th>\n",
       "      <th>short_model_path</th>\n",
       "    </tr>\n",
       "  </thead>\n",
       "  <tbody>\n",
       "    <tr>\n",
       "      <th>27</th>\n",
       "      <td>0.772855</td>\n",
       "      <td>-1</td>\n",
       "      <td>1101</td>\n",
       "      <td>HCP-2</td>\n",
       "      <td>cingulate_UkBioBank_n=1101</td>\n",
       "      <td>training-on-whole-hcp-n=1101/22-49-11_0</td>\n",
       "    </tr>\n",
       "    <tr>\n",
       "      <th>28</th>\n",
       "      <td>0.767657</td>\n",
       "      <td>-1</td>\n",
       "      <td>1101</td>\n",
       "      <td>HCP-2</td>\n",
       "      <td>cingulate_UkBioBank_n=1101</td>\n",
       "      <td>training-on-whole-hcp-n=1101/22-49-11_2</td>\n",
       "    </tr>\n",
       "    <tr>\n",
       "      <th>52</th>\n",
       "      <td>0.765963</td>\n",
       "      <td>1101</td>\n",
       "      <td>1101</td>\n",
       "      <td>UKBioBank</td>\n",
       "      <td>cingulate_UkBioBank_n=1101</td>\n",
       "      <td>ukbiobank-n=1101/18-51-46_0</td>\n",
       "    </tr>\n",
       "    <tr>\n",
       "      <th>29</th>\n",
       "      <td>0.759345</td>\n",
       "      <td>-1</td>\n",
       "      <td>1101</td>\n",
       "      <td>HCP-2</td>\n",
       "      <td>cingulate_UkBioBank_n=1101</td>\n",
       "      <td>training-on-whole-hcp-n=1101/22-49-11_3</td>\n",
       "    </tr>\n",
       "    <tr>\n",
       "      <th>53</th>\n",
       "      <td>0.754996</td>\n",
       "      <td>1101</td>\n",
       "      <td>1101</td>\n",
       "      <td>UKBioBank</td>\n",
       "      <td>cingulate_UkBioBank_n=1101</td>\n",
       "      <td>ukbiobank-n=1101/18-51-46_1</td>\n",
       "    </tr>\n",
       "    <tr>\n",
       "      <th>56</th>\n",
       "      <td>0.752281</td>\n",
       "      <td>1101</td>\n",
       "      <td>1101</td>\n",
       "      <td>UKBioBank</td>\n",
       "      <td>cingulate_UkBioBank_n=1101</td>\n",
       "      <td>ukbiobank-n=1101/18-49-19_0</td>\n",
       "    </tr>\n",
       "    <tr>\n",
       "      <th>55</th>\n",
       "      <td>0.749047</td>\n",
       "      <td>1101</td>\n",
       "      <td>1101</td>\n",
       "      <td>UKBioBank</td>\n",
       "      <td>cingulate_UkBioBank_n=1101</td>\n",
       "      <td>ukbiobank-n=1101/18-49-19_2</td>\n",
       "    </tr>\n",
       "    <tr>\n",
       "      <th>25</th>\n",
       "      <td>0.746703</td>\n",
       "      <td>-1</td>\n",
       "      <td>1101</td>\n",
       "      <td>HCP-2</td>\n",
       "      <td>cingulate_UkBioBank_n=1101</td>\n",
       "      <td>training-on-whole-hcp-n=1101/22-49-11_1</td>\n",
       "    </tr>\n",
       "    <tr>\n",
       "      <th>26</th>\n",
       "      <td>0.738183</td>\n",
       "      <td>-1</td>\n",
       "      <td>1101</td>\n",
       "      <td>HCP-2</td>\n",
       "      <td>cingulate_UkBioBank_n=1101</td>\n",
       "      <td>training-on-whole-hcp-n=1101/22-49-11_4</td>\n",
       "    </tr>\n",
       "    <tr>\n",
       "      <th>54</th>\n",
       "      <td>0.732928</td>\n",
       "      <td>1101</td>\n",
       "      <td>1101</td>\n",
       "      <td>UKBioBank</td>\n",
       "      <td>cingulate_UkBioBank_n=1101</td>\n",
       "      <td>ukbiobank-n=1101/18-49-19_1</td>\n",
       "    </tr>\n",
       "  </tbody>\n",
       "</table>\n",
       "</div>"
      ],
      "text/plain": [
       "         auc  nb_subjects     n dataset_name                  model_name  \\\n",
       "27  0.772855           -1  1101        HCP-2  cingulate_UkBioBank_n=1101   \n",
       "28  0.767657           -1  1101        HCP-2  cingulate_UkBioBank_n=1101   \n",
       "52  0.765963         1101  1101    UKBioBank  cingulate_UkBioBank_n=1101   \n",
       "29  0.759345           -1  1101        HCP-2  cingulate_UkBioBank_n=1101   \n",
       "53  0.754996         1101  1101    UKBioBank  cingulate_UkBioBank_n=1101   \n",
       "56  0.752281         1101  1101    UKBioBank  cingulate_UkBioBank_n=1101   \n",
       "55  0.749047         1101  1101    UKBioBank  cingulate_UkBioBank_n=1101   \n",
       "25  0.746703           -1  1101        HCP-2  cingulate_UkBioBank_n=1101   \n",
       "26  0.738183           -1  1101        HCP-2  cingulate_UkBioBank_n=1101   \n",
       "54  0.732928         1101  1101    UKBioBank  cingulate_UkBioBank_n=1101   \n",
       "\n",
       "                           short_model_path  \n",
       "27  training-on-whole-hcp-n=1101/22-49-11_0  \n",
       "28  training-on-whole-hcp-n=1101/22-49-11_2  \n",
       "52              ukbiobank-n=1101/18-51-46_0  \n",
       "29  training-on-whole-hcp-n=1101/22-49-11_3  \n",
       "53              ukbiobank-n=1101/18-51-46_1  \n",
       "56              ukbiobank-n=1101/18-49-19_0  \n",
       "55              ukbiobank-n=1101/18-49-19_2  \n",
       "25  training-on-whole-hcp-n=1101/22-49-11_1  \n",
       "26  training-on-whole-hcp-n=1101/22-49-11_4  \n",
       "54              ukbiobank-n=1101/18-49-19_1  "
      ]
     },
     "execution_count": 6,
     "metadata": {},
     "output_type": "execute_result"
    }
   ],
   "source": [
    "bdd = bdd.copy()\n",
    "bdd[\"model_name\"] = \"=0\"\n",
    "bdd[\"model_name\"] = bdd.model_path.apply(lambda x: x.split(sep='/')[-2])\n",
    "bdd.loc[bdd.dataset_name==\"ACC\",\"model_name\"] = \"cingulate_ACCpatterns_0_n=171\"\n",
    "bdd.loc[bdd.model_name==\"all\",\"model_name\"] = \"cingulate_HCP_n=1101\"\n",
    "bdd.loc[bdd.model_path.str.contains(\"n=1101\"),\"model_name\"] = \"cingulate_UkBioBank_n=1101\"\n",
    "bdd[\"n\"] = -1\n",
    "bdd[\"n\"] = bdd.model_name.apply(lambda x: int(x.split(sep='=')[-1]))\n",
    "bdd[\"n\"] = bdd.apply(lambda x: x[\"nb_subjects\"] if x[\"nb_subjects\"]>=0 else x[\"n\"], axis=1)\n",
    "bdd[\"short_model_path\"] = bdd.model_path.apply(last_part)\n",
    "bdd[[\"auc\", \"nb_subjects\", \"n\", \"dataset_name\", \"model_name\", \"short_model_path\"]][bdd.short_model_path.str.contains(\"1101\")].sort_values(by='n')"
   ]
  },
  {
   "cell_type": "code",
   "execution_count": 7,
   "metadata": {},
   "outputs": [
    {
     "data": {
      "text/plain": [
       "(0.5, 0.8)"
      ]
     },
     "execution_count": 7,
     "metadata": {},
     "output_type": "execute_result"
    },
    {
     "data": {
      "image/png": "[encoded data removed]",
      "text/plain": [
       "<Figure size 720x360 with 1 Axes>"
      ]
     },
     "metadata": {
      "needs_background": "light"
     },
     "output_type": "display_data"
    }
   ],
   "source": [
    "f, ax = plt.subplots(1, 1, figsize=(10, 5))\n",
    "ax.plot(bdd.n, bdd.auc)\n",
    "ax.set_xscale(\"log\")\n",
    "ax.set_ylim([0.5,0.8])"
   ]
  },
  {
   "cell_type": "code",
   "execution_count": 8,
   "metadata": {},
   "outputs": [
    {
     "data": {
      "text/plain": [
       "(0.5, 0.8)"
      ]
     },
     "execution_count": 8,
     "metadata": {},
     "output_type": "execute_result"
    },
    {
     "data": {
      "image/png": "[encoded data removed]",
      "text/plain": [
       "<Figure size 720x360 with 1 Axes>"
      ]
     },
     "metadata": {
      "needs_background": "light"
     },
     "output_type": "display_data"
    }
   ],
   "source": [
    "plt.rc('xtick', labelsize=14) \n",
    "plt.rc('ytick', labelsize=14) \n",
    "plt.rc('axes', labelsize=18) \n",
    "f, ax = plt.subplots(1, 1, figsize=(10, 5))\n",
    "sns.pointplot(data=bdd, x=bdd.n, y=\"auc\", palette=['green', 'black', 'blue'],markers=['^', 's','o'], hue='dataset_name', linestyles=['-','-','-'], scale=2,ax=ax)\n",
    "sns.stripplot(data=bdd, x=bdd.n, y=\"auc\", marker='s', palette=['green', 'black', 'blue'], hue='dataset_name', jitter=1, ax=ax)\n",
    "# ax.legend([],[], frameon=False)\n",
    "handles, labels = ax.get_legend_handles_labels()\n",
    "ax.legend(handles=handles[0:3], labels=labels[0:3], labelspacing=1.2)\n",
    "ax.set_ylim([0.5,0.8])\n",
    "# ax.set_xscale('log')"
   ]
  },
  {
   "cell_type": "code",
   "execution_count": 9,
   "metadata": {},
   "outputs": [
    {
     "data": {
      "text/plain": [
       "66    0.781621\n",
       "65    0.767010\n",
       "63    0.766202\n",
       "64    0.753912\n",
       "62    0.747245\n",
       "Name: auc, dtype: float64"
      ]
     },
     "execution_count": 9,
     "metadata": {},
     "output_type": "execute_result"
    }
   ],
   "source": [
    "bdd[bdd.n==21070][\"auc\"]"
   ]
  },
  {
   "cell_type": "code",
   "execution_count": 10,
   "metadata": {},
   "outputs": [
    {
     "data": {
      "text/plain": [
       "0.7631981548783897"
      ]
     },
     "execution_count": 10,
     "metadata": {},
     "output_type": "execute_result"
    }
   ],
   "source": [
    "bdd[bdd.n==21070][\"auc\"].mean()"
   ]
  },
  {
   "cell_type": "code",
   "execution_count": 11,
   "metadata": {},
   "outputs": [],
   "source": [
    "bdd_UK_top_included = bdd.copy(deep=True)"
   ]
  },
  {
   "cell_type": "markdown",
   "metadata": {},
   "source": [
    "## HCP with top included in simple surface / UKBioBank with top as separated branches"
   ]
  },
  {
   "cell_type": "code",
   "execution_count": 12,
   "metadata": {},
   "outputs": [],
   "source": [
    "database_path = \"/neurospin/dico/jchavas/Runs/57_miccai2023_checks_done_after/Output/contrastive/summary/bdd_HCP-UkBioBank-with-top_different-n_evaluation-ACCpatterns-1.csv\"\n",
    "bdd = pd.read_csv(database_path, index_col=0)\n",
    "bdd.sort_values(by='auc', ascending=False, inplace=True)\n",
    "bdd.loc[bdd.dataset_name.str.contains(\"UkBioBank\"), \"dataset_name\"] = \"UKBioBank\"\n",
    "bdd.loc[bdd.dataset_name.str.contains(\"ACCpatterns\"), \"dataset_name\"] = \"ACC-1\"\n",
    "bdd.loc[bdd.dataset_name.str.contains(\"HCP\"), \"dataset_name\"] = \"HCP-2\""
   ]
  },
  {
   "cell_type": "code",
   "execution_count": 13,
   "metadata": {},
   "outputs": [
    {
     "data": {
      "text/plain": [
       "66    10000\n",
       "67    10000\n",
       "68    10000\n",
       "Name: nb_subjects, dtype: int64"
      ]
     },
     "execution_count": 13,
     "metadata": {},
     "output_type": "execute_result"
    }
   ],
   "source": [
    "bdd[bdd[\"nb_subjects\"]==10000][\"nb_subjects\"]"
   ]
  },
  {
   "cell_type": "code",
   "execution_count": 14,
   "metadata": {},
   "outputs": [
    {
     "data": {
      "text/html": [
       "<div>\n",
       "<style scoped>\n",
       "    .dataframe tbody tr th:only-of-type {\n",
       "        vertical-align: middle;\n",
       "    }\n",
       "\n",
       "    .dataframe tbody tr th {\n",
       "        vertical-align: top;\n",
       "    }\n",
       "\n",
       "    .dataframe thead th {\n",
       "        text-align: right;\n",
       "    }\n",
       "</style>\n",
       "<table border=\"1\" class=\"dataframe\">\n",
       "  <thead>\n",
       "    <tr style=\"text-align: right;\">\n",
       "      <th></th>\n",
       "      <th>auc</th>\n",
       "      <th>nb_subjects</th>\n",
       "      <th>n</th>\n",
       "      <th>dataset_name</th>\n",
       "      <th>model_name</th>\n",
       "      <th>short_model_path</th>\n",
       "    </tr>\n",
       "  </thead>\n",
       "  <tbody>\n",
       "    <tr>\n",
       "      <th>27</th>\n",
       "      <td>0.772855</td>\n",
       "      <td>-1</td>\n",
       "      <td>1101</td>\n",
       "      <td>HCP-2</td>\n",
       "      <td>cingulate_UkBioBank_n=1101</td>\n",
       "      <td>training-on-whole-hcp-n=1101/22-49-11_0</td>\n",
       "    </tr>\n",
       "    <tr>\n",
       "      <th>28</th>\n",
       "      <td>0.767657</td>\n",
       "      <td>-1</td>\n",
       "      <td>1101</td>\n",
       "      <td>HCP-2</td>\n",
       "      <td>cingulate_UkBioBank_n=1101</td>\n",
       "      <td>training-on-whole-hcp-n=1101/22-49-11_2</td>\n",
       "    </tr>\n",
       "    <tr>\n",
       "      <th>29</th>\n",
       "      <td>0.759345</td>\n",
       "      <td>-1</td>\n",
       "      <td>1101</td>\n",
       "      <td>HCP-2</td>\n",
       "      <td>cingulate_UkBioBank_n=1101</td>\n",
       "      <td>training-on-whole-hcp-n=1101/22-49-11_3</td>\n",
       "    </tr>\n",
       "    <tr>\n",
       "      <th>25</th>\n",
       "      <td>0.746703</td>\n",
       "      <td>-1</td>\n",
       "      <td>1101</td>\n",
       "      <td>HCP-2</td>\n",
       "      <td>cingulate_UkBioBank_n=1101</td>\n",
       "      <td>training-on-whole-hcp-n=1101/22-49-11_1</td>\n",
       "    </tr>\n",
       "    <tr>\n",
       "      <th>26</th>\n",
       "      <td>0.738183</td>\n",
       "      <td>-1</td>\n",
       "      <td>1101</td>\n",
       "      <td>HCP-2</td>\n",
       "      <td>cingulate_UkBioBank_n=1101</td>\n",
       "      <td>training-on-whole-hcp-n=1101/22-49-11_4</td>\n",
       "    </tr>\n",
       "  </tbody>\n",
       "</table>\n",
       "</div>"
      ],
      "text/plain": [
       "         auc  nb_subjects     n dataset_name                  model_name  \\\n",
       "27  0.772855           -1  1101        HCP-2  cingulate_UkBioBank_n=1101   \n",
       "28  0.767657           -1  1101        HCP-2  cingulate_UkBioBank_n=1101   \n",
       "29  0.759345           -1  1101        HCP-2  cingulate_UkBioBank_n=1101   \n",
       "25  0.746703           -1  1101        HCP-2  cingulate_UkBioBank_n=1101   \n",
       "26  0.738183           -1  1101        HCP-2  cingulate_UkBioBank_n=1101   \n",
       "\n",
       "                           short_model_path  \n",
       "27  training-on-whole-hcp-n=1101/22-49-11_0  \n",
       "28  training-on-whole-hcp-n=1101/22-49-11_2  \n",
       "29  training-on-whole-hcp-n=1101/22-49-11_3  \n",
       "25  training-on-whole-hcp-n=1101/22-49-11_1  \n",
       "26  training-on-whole-hcp-n=1101/22-49-11_4  "
      ]
     },
     "execution_count": 14,
     "metadata": {},
     "output_type": "execute_result"
    }
   ],
   "source": [
    "bdd = bdd.copy()\n",
    "bdd[\"model_name\"] = \"=0\"\n",
    "bdd[\"model_name\"] = bdd.model_path.apply(lambda x: x.split(sep='/')[-2])\n",
    "bdd.loc[bdd.dataset_name==\"ACC\",\"model_name\"] = \"cingulate_ACCpatterns_0_n=171\"\n",
    "bdd.loc[bdd.model_name==\"all\",\"model_name\"] = \"cingulate_HCP_n=1101\"\n",
    "bdd.loc[bdd.model_path.str.contains(\"n=1114\"),\"model_name\"] = \"cingulate_UkBioBank_n=1101\"\n",
    "bdd.loc[bdd.model_path.str.contains(\"n=1101\"),\"model_name\"] = \"cingulate_UkBioBank_n=1101\"\n",
    "bdd[\"n\"] = -1\n",
    "bdd[\"n\"] = bdd.model_name.apply(lambda x: int(x.split(sep='=')[-1]))\n",
    "bdd[\"n\"] = bdd.apply(lambda x: x[\"nb_subjects\"] if x[\"nb_subjects\"]>=0 else x[\"n\"], axis=1)\n",
    "bdd[\"short_model_path\"] = bdd.model_path.apply(last_part)\n",
    "bdd[[\"auc\", \"nb_subjects\", \"n\", \"dataset_name\", \"model_name\", \"short_model_path\"]][bdd.short_model_path.str.contains(\"1101\")].sort_values(by='n')"
   ]
  },
  {
   "cell_type": "code",
   "execution_count": 15,
   "metadata": {},
   "outputs": [],
   "source": [
    "bdd = bdd[bdd[\"nb_subjects\"] != 10000].copy(deep=True)\n"
   ]
  },
  {
   "cell_type": "code",
   "execution_count": 16,
   "metadata": {},
   "outputs": [
    {
     "data": {
      "text/plain": [
       "(0.5, 0.8)"
      ]
     },
     "execution_count": 16,
     "metadata": {},
     "output_type": "execute_result"
    },
    {
     "data": {
      "image/png": "[encoded data removed]",
      "text/plain": [
       "<Figure size 720x360 with 1 Axes>"
      ]
     },
     "metadata": {
      "needs_background": "light"
     },
     "output_type": "display_data"
    }
   ],
   "source": [
    "plt.rc('xtick', labelsize=14) \n",
    "plt.rc('ytick', labelsize=14) \n",
    "plt.rc('axes', labelsize=18) \n",
    "f, ax = plt.subplots(1, 1, figsize=(10, 5))\n",
    "sns.pointplot(data=bdd, x=bdd.n, y=\"auc\", palette=['red', 'black', 'blue'],markers=['^', 's','o'], hue='dataset_name', linestyles=['-','-','-'], scale=2,ax=ax)\n",
    "sns.stripplot(data=bdd, x=bdd.n, y=\"auc\", marker='s', palette=['red', 'black', 'blue'], hue='dataset_name', jitter=1, ax=ax)\n",
    "handles, labels = ax.get_legend_handles_labels()\n",
    "ax.legend(handles=handles[0:3], labels=[\"UKBioBank-top-separated\", \"HCP-2\", \"ACC-1\"], labelspacing=1.2)\n",
    "# ax.legend([],[], frameon=False)\n",
    "ax.set_ylim([0.5,0.8])\n",
    "# ax.set_xscale('log')"
   ]
  },
  {
   "cell_type": "code",
   "execution_count": 17,
   "metadata": {},
   "outputs": [
    {
     "data": {
      "text/plain": [
       "0.7714771223557917"
      ]
     },
     "execution_count": 17,
     "metadata": {},
     "output_type": "execute_result"
    }
   ],
   "source": [
    "bdd[bdd.n==21072][\"auc\"].mean()"
   ]
  },
  {
   "cell_type": "code",
   "execution_count": 18,
   "metadata": {},
   "outputs": [],
   "source": [
    "bdd_UK_top_separated = bdd.copy(deep=True)"
   ]
  },
  {
   "cell_type": "markdown",
   "metadata": {},
   "source": [
    "## Bringing together"
   ]
  },
  {
   "cell_type": "code",
   "execution_count": 19,
   "metadata": {},
   "outputs": [
    {
     "data": {
      "text/html": [
       "<div>\n",
       "<style scoped>\n",
       "    .dataframe tbody tr th:only-of-type {\n",
       "        vertical-align: middle;\n",
       "    }\n",
       "\n",
       "    .dataframe tbody tr th {\n",
       "        vertical-align: top;\n",
       "    }\n",
       "\n",
       "    .dataframe thead th {\n",
       "        text-align: right;\n",
       "    }\n",
       "</style>\n",
       "<table border=\"1\" class=\"dataframe\">\n",
       "  <thead>\n",
       "    <tr style=\"text-align: right;\">\n",
       "      <th></th>\n",
       "      <th>model_path</th>\n",
       "      <th>auc</th>\n",
       "      <th>auc_std</th>\n",
       "      <th>accuracy</th>\n",
       "      <th>accuracy_std</th>\n",
       "      <th>backbone_name</th>\n",
       "      <th>batch_size</th>\n",
       "      <th>checkerboard_size</th>\n",
       "      <th>dataset_name</th>\n",
       "      <th>depth_decoder</th>\n",
       "      <th>...</th>\n",
       "      <th>exclude</th>\n",
       "      <th>pretrained_model_path</th>\n",
       "      <th>proportion_pure_contrastive</th>\n",
       "      <th>sigma_labels</th>\n",
       "      <th>temperature_supervised</th>\n",
       "      <th>train_val_csv_file</th>\n",
       "      <th>numpy_all</th>\n",
       "      <th>model_name</th>\n",
       "      <th>n</th>\n",
       "      <th>short_model_path</th>\n",
       "    </tr>\n",
       "  </thead>\n",
       "  <tbody>\n",
       "    <tr>\n",
       "      <th>51</th>\n",
       "      <td>/neurospin/dico/jchavas/Runs/57_miccai2023_che...</td>\n",
       "      <td>0.789846</td>\n",
       "      <td>0.003747</td>\n",
       "      <td>0.718620</td>\n",
       "      <td>0.005355</td>\n",
       "      <td>convnet</td>\n",
       "      <td>16</td>\n",
       "      <td>4</td>\n",
       "      <td>UKBioBank-top-separated</td>\n",
       "      <td>3</td>\n",
       "      <td>...</td>\n",
       "      <td>False</td>\n",
       "      <td>NaN</td>\n",
       "      <td>NaN</td>\n",
       "      <td>NaN</td>\n",
       "      <td>NaN</td>\n",
       "      <td>NaN</td>\n",
       "      <td>/home_local/jc225751/Runs/52_ukbiobank/Input/U...</td>\n",
       "      <td>ukbiobank-n=2000</td>\n",
       "      <td>2000</td>\n",
       "      <td>ukbiobank-n=2000/13-06-49_1</td>\n",
       "    </tr>\n",
       "    <tr>\n",
       "      <th>56</th>\n",
       "      <td>/neurospin/dico/jchavas/Runs/57_miccai2023_che...</td>\n",
       "      <td>0.789371</td>\n",
       "      <td>0.003742</td>\n",
       "      <td>0.747696</td>\n",
       "      <td>0.007748</td>\n",
       "      <td>convnet</td>\n",
       "      <td>16</td>\n",
       "      <td>4</td>\n",
       "      <td>UKBioBank-top-separated</td>\n",
       "      <td>3</td>\n",
       "      <td>...</td>\n",
       "      <td>False</td>\n",
       "      <td>NaN</td>\n",
       "      <td>NaN</td>\n",
       "      <td>NaN</td>\n",
       "      <td>NaN</td>\n",
       "      <td>NaN</td>\n",
       "      <td>/home_local/jc225751/Runs/52_ukbiobank/Input/U...</td>\n",
       "      <td>ukbiobank-n=5000</td>\n",
       "      <td>5000</td>\n",
       "      <td>ukbiobank-n=5000/21-51-48_3</td>\n",
       "    </tr>\n",
       "    <tr>\n",
       "      <th>74</th>\n",
       "      <td>/neurospin/dico/jchavas/Runs/57_miccai2023_che...</td>\n",
       "      <td>0.786764</td>\n",
       "      <td>0.002701</td>\n",
       "      <td>0.745404</td>\n",
       "      <td>0.006901</td>\n",
       "      <td>convnet</td>\n",
       "      <td>16</td>\n",
       "      <td>4</td>\n",
       "      <td>UKBioBank-top-separated</td>\n",
       "      <td>3</td>\n",
       "      <td>...</td>\n",
       "      <td>False</td>\n",
       "      <td>NaN</td>\n",
       "      <td>NaN</td>\n",
       "      <td>NaN</td>\n",
       "      <td>NaN</td>\n",
       "      <td>NaN</td>\n",
       "      <td>/home_local/jc225751/Runs/52_ukbiobank/Input/U...</td>\n",
       "      <td>ukbiobank-n=21072</td>\n",
       "      <td>21072</td>\n",
       "      <td>ukbiobank-n=21072/22-11-20_0</td>\n",
       "    </tr>\n",
       "    <tr>\n",
       "      <th>57</th>\n",
       "      <td>/neurospin/dico/jchavas/Runs/57_miccai2023_che...</td>\n",
       "      <td>0.780615</td>\n",
       "      <td>0.002661</td>\n",
       "      <td>0.721450</td>\n",
       "      <td>0.011685</td>\n",
       "      <td>convnet</td>\n",
       "      <td>16</td>\n",
       "      <td>4</td>\n",
       "      <td>UKBioBank-top-separated</td>\n",
       "      <td>3</td>\n",
       "      <td>...</td>\n",
       "      <td>False</td>\n",
       "      <td>NaN</td>\n",
       "      <td>NaN</td>\n",
       "      <td>NaN</td>\n",
       "      <td>NaN</td>\n",
       "      <td>NaN</td>\n",
       "      <td>/home_local/jc225751/Runs/52_ukbiobank/Input/U...</td>\n",
       "      <td>ukbiobank-n=5000</td>\n",
       "      <td>5000</td>\n",
       "      <td>ukbiobank-n=5000/21-51-48_2</td>\n",
       "    </tr>\n",
       "    <tr>\n",
       "      <th>73</th>\n",
       "      <td>/neurospin/dico/jchavas/Runs/57_miccai2023_che...</td>\n",
       "      <td>0.776145</td>\n",
       "      <td>0.004466</td>\n",
       "      <td>0.724772</td>\n",
       "      <td>0.008807</td>\n",
       "      <td>convnet</td>\n",
       "      <td>16</td>\n",
       "      <td>4</td>\n",
       "      <td>UKBioBank-top-separated</td>\n",
       "      <td>3</td>\n",
       "      <td>...</td>\n",
       "      <td>False</td>\n",
       "      <td>NaN</td>\n",
       "      <td>NaN</td>\n",
       "      <td>NaN</td>\n",
       "      <td>NaN</td>\n",
       "      <td>NaN</td>\n",
       "      <td>/neurospin/dico/data/deep_folding/current/data...</td>\n",
       "      <td>ukbiobank-n=21072</td>\n",
       "      <td>21072</td>\n",
       "      <td>ukbiobank-n=21072/1</td>\n",
       "    </tr>\n",
       "  </tbody>\n",
       "</table>\n",
       "<p>5 rows × 44 columns</p>\n",
       "</div>"
      ],
      "text/plain": [
       "                                           model_path       auc   auc_std  \\\n",
       "51  /neurospin/dico/jchavas/Runs/57_miccai2023_che...  0.789846  0.003747   \n",
       "56  /neurospin/dico/jchavas/Runs/57_miccai2023_che...  0.789371  0.003742   \n",
       "74  /neurospin/dico/jchavas/Runs/57_miccai2023_che...  0.786764  0.002701   \n",
       "57  /neurospin/dico/jchavas/Runs/57_miccai2023_che...  0.780615  0.002661   \n",
       "73  /neurospin/dico/jchavas/Runs/57_miccai2023_che...  0.776145  0.004466   \n",
       "\n",
       "    accuracy  accuracy_std backbone_name  batch_size  checkerboard_size  \\\n",
       "51  0.718620      0.005355       convnet          16                  4   \n",
       "56  0.747696      0.007748       convnet          16                  4   \n",
       "74  0.745404      0.006901       convnet          16                  4   \n",
       "57  0.721450      0.011685       convnet          16                  4   \n",
       "73  0.724772      0.008807       convnet          16                  4   \n",
       "\n",
       "               dataset_name  depth_decoder  ...  exclude  \\\n",
       "51  UKBioBank-top-separated              3  ...    False   \n",
       "56  UKBioBank-top-separated              3  ...    False   \n",
       "74  UKBioBank-top-separated              3  ...    False   \n",
       "57  UKBioBank-top-separated              3  ...    False   \n",
       "73  UKBioBank-top-separated              3  ...    False   \n",
       "\n",
       "    pretrained_model_path proportion_pure_contrastive  sigma_labels  \\\n",
       "51                    NaN                         NaN           NaN   \n",
       "56                    NaN                         NaN           NaN   \n",
       "74                    NaN                         NaN           NaN   \n",
       "57                    NaN                         NaN           NaN   \n",
       "73                    NaN                         NaN           NaN   \n",
       "\n",
       "    temperature_supervised train_val_csv_file  \\\n",
       "51                     NaN                NaN   \n",
       "56                     NaN                NaN   \n",
       "74                     NaN                NaN   \n",
       "57                     NaN                NaN   \n",
       "73                     NaN                NaN   \n",
       "\n",
       "                                            numpy_all         model_name  \\\n",
       "51  /home_local/jc225751/Runs/52_ukbiobank/Input/U...   ukbiobank-n=2000   \n",
       "56  /home_local/jc225751/Runs/52_ukbiobank/Input/U...   ukbiobank-n=5000   \n",
       "74  /home_local/jc225751/Runs/52_ukbiobank/Input/U...  ukbiobank-n=21072   \n",
       "57  /home_local/jc225751/Runs/52_ukbiobank/Input/U...   ukbiobank-n=5000   \n",
       "73  /neurospin/dico/data/deep_folding/current/data...  ukbiobank-n=21072   \n",
       "\n",
       "        n              short_model_path  \n",
       "51   2000   ukbiobank-n=2000/13-06-49_1  \n",
       "56   5000   ukbiobank-n=5000/21-51-48_3  \n",
       "74  21072  ukbiobank-n=21072/22-11-20_0  \n",
       "57   5000   ukbiobank-n=5000/21-51-48_2  \n",
       "73  21072           ukbiobank-n=21072/1  \n",
       "\n",
       "[5 rows x 44 columns]"
      ]
     },
     "execution_count": 19,
     "metadata": {},
     "output_type": "execute_result"
    }
   ],
   "source": [
    "bdd_UK_top_separated.loc[bdd_UK_top_separated.dataset_name==\"UKBioBank\", \"dataset_name\"] = \"UKBioBank-top-separated\"\n",
    "bdd_UK_top_separated.head()"
   ]
  },
  {
   "cell_type": "code",
   "execution_count": 20,
   "metadata": {},
   "outputs": [],
   "source": [
    "bdd_all = bdd_UK_top_separated.copy(deep=True)"
   ]
  },
  {
   "cell_type": "code",
   "execution_count": 21,
   "metadata": {},
   "outputs": [
    {
     "name": "stdout",
     "output_type": "stream",
     "text": [
      "{'UKBioBank-top-separated', 'ACC-1', 'HCP-2'}\n",
      "72\n"
     ]
    }
   ],
   "source": [
    "print(set(bdd_all[\"dataset_name\"]))\n",
    "print(len(bdd_all))"
   ]
  },
  {
   "cell_type": "code",
   "execution_count": 22,
   "metadata": {},
   "outputs": [],
   "source": [
    "bdd_all = pd.concat([bdd_all, bdd_UK_top_included[bdd_UK_top_included.dataset_name==\"UKBioBank\"]])"
   ]
  },
  {
   "cell_type": "code",
   "execution_count": 23,
   "metadata": {},
   "outputs": [
    {
     "name": "stdout",
     "output_type": "stream",
     "text": [
      "{'UKBioBank-top-separated', 'ACC-1', 'HCP-2', 'UKBioBank'}\n",
      "107\n"
     ]
    }
   ],
   "source": [
    "print(set(bdd_all[\"dataset_name\"]))\n",
    "print(len(bdd_all))"
   ]
  },
  {
   "cell_type": "code",
   "execution_count": 24,
   "metadata": {},
   "outputs": [],
   "source": [
    "bdd_all.loc[bdd_all.n==21072, \"n\"] = 21070"
   ]
  },
  {
   "cell_type": "code",
   "execution_count": 25,
   "metadata": {},
   "outputs": [
    {
     "data": {
      "text/plain": [
       "(0.5, 0.8)"
      ]
     },
     "execution_count": 25,
     "metadata": {},
     "output_type": "execute_result"
    },
    {
     "data": {
      "image/png": "[encoded data removed]",
      "text/plain": [
       "<Figure size 720x360 with 1 Axes>"
      ]
     },
     "metadata": {
      "needs_background": "light"
     },
     "output_type": "display_data"
    }
   ],
   "source": [
    "plt.rc('xtick', labelsize=14) \n",
    "plt.rc('ytick', labelsize=14) \n",
    "plt.rc('axes', labelsize=18) \n",
    "f, ax = plt.subplots(1, 1, figsize=(10, 5))\n",
    "line = sns.pointplot(data=bdd_all, x=bdd_all.n, y=\"auc\", palette=['red', 'black', 'blue', 'green'],markers=['^', 's','o', '^'], hue='dataset_name', linestyles=['-','-','-','-'], scale=2,ax=ax)\n",
    "sns.stripplot(data=bdd_all, x=bdd_all.n, y=\"auc\", marker='s', palette=['red', 'black', 'blue', 'green'], hue='dataset_name', jitter=1, ax=ax)\n",
    "# ax.legend([],[], frameon=False)\n",
    "handles, labels = ax.get_legend_handles_labels()\n",
    "ax.legend(handles=handles[0:4], labels=labels[0:4], labelspacing=1.2)\n",
    "ax.set_ylim([0.5,0.8])\n",
    "# ax.set_xscale('log')"
   ]
  },
  {
   "cell_type": "markdown",
   "metadata": {},
   "source": [
    "## HCP with top separated"
   ]
  },
  {
   "cell_type": "code",
   "execution_count": 56,
   "metadata": {},
   "outputs": [
    {
     "data": {
      "text/html": [
       "<div>\n",
       "<style scoped>\n",
       "    .dataframe tbody tr th:only-of-type {\n",
       "        vertical-align: middle;\n",
       "    }\n",
       "\n",
       "    .dataframe tbody tr th {\n",
       "        vertical-align: top;\n",
       "    }\n",
       "\n",
       "    .dataframe thead th {\n",
       "        text-align: right;\n",
       "    }\n",
       "</style>\n",
       "<table border=\"1\" class=\"dataframe\">\n",
       "  <thead>\n",
       "    <tr style=\"text-align: right;\">\n",
       "      <th></th>\n",
       "      <th>model_path</th>\n",
       "      <th>auc</th>\n",
       "      <th>auc_std</th>\n",
       "      <th>accuracy</th>\n",
       "      <th>accuracy_std</th>\n",
       "      <th>backbone_name</th>\n",
       "      <th>batch_size</th>\n",
       "      <th>checkerboard_size</th>\n",
       "      <th>dataset_name</th>\n",
       "      <th>depth_decoder</th>\n",
       "      <th>...</th>\n",
       "      <th>sigma_labels</th>\n",
       "      <th>temperature</th>\n",
       "      <th>temperature_initial</th>\n",
       "      <th>temperature_supervised</th>\n",
       "      <th>train_val_csv_file</th>\n",
       "      <th>weight_decay</th>\n",
       "      <th>with_labels</th>\n",
       "      <th>exclude</th>\n",
       "      <th>model_name</th>\n",
       "      <th>n</th>\n",
       "    </tr>\n",
       "  </thead>\n",
       "  <tbody>\n",
       "    <tr>\n",
       "      <th>19</th>\n",
       "      <td>/neurospin/dico/jchavas/Runs/57_miccai2023_che...</td>\n",
       "      <td>0.799584</td>\n",
       "      <td>0.002078</td>\n",
       "      <td>0.772047</td>\n",
       "      <td>0.007534</td>\n",
       "      <td>convnet</td>\n",
       "      <td>16</td>\n",
       "      <td>4</td>\n",
       "      <td>HCP-2-top-separated</td>\n",
       "      <td>3</td>\n",
       "      <td>...</td>\n",
       "      <td>2.0</td>\n",
       "      <td>0.1</td>\n",
       "      <td>0.1</td>\n",
       "      <td>0.3</td>\n",
       "      <td>/neurospin/dico/data/deep_folding/current/data...</td>\n",
       "      <td>0.00005</td>\n",
       "      <td>True</td>\n",
       "      <td>False</td>\n",
       "      <td>HCP_top-separated-n=1101</td>\n",
       "      <td>1101</td>\n",
       "    </tr>\n",
       "    <tr>\n",
       "      <th>3</th>\n",
       "      <td>/neurospin/dico/jchavas/Runs/57_miccai2023_che...</td>\n",
       "      <td>0.788702</td>\n",
       "      <td>0.003555</td>\n",
       "      <td>0.734550</td>\n",
       "      <td>0.005580</td>\n",
       "      <td>convnet</td>\n",
       "      <td>16</td>\n",
       "      <td>4</td>\n",
       "      <td>HCP-2-top-separated</td>\n",
       "      <td>3</td>\n",
       "      <td>...</td>\n",
       "      <td>2.0</td>\n",
       "      <td>0.1</td>\n",
       "      <td>0.1</td>\n",
       "      <td>0.3</td>\n",
       "      <td>/neurospin/dico/data/deep_folding/papers/micca...</td>\n",
       "      <td>0.00005</td>\n",
       "      <td>True</td>\n",
       "      <td>False</td>\n",
       "      <td>HCP_top-separated-n=300</td>\n",
       "      <td>300</td>\n",
       "    </tr>\n",
       "    <tr>\n",
       "      <th>1</th>\n",
       "      <td>/neurospin/dico/jchavas/Runs/57_miccai2023_che...</td>\n",
       "      <td>0.778611</td>\n",
       "      <td>0.003254</td>\n",
       "      <td>0.742737</td>\n",
       "      <td>0.004879</td>\n",
       "      <td>convnet</td>\n",
       "      <td>16</td>\n",
       "      <td>4</td>\n",
       "      <td>HCP-2-top-separated</td>\n",
       "      <td>3</td>\n",
       "      <td>...</td>\n",
       "      <td>2.0</td>\n",
       "      <td>0.1</td>\n",
       "      <td>0.1</td>\n",
       "      <td>0.3</td>\n",
       "      <td>/neurospin/dico/data/deep_folding/papers/micca...</td>\n",
       "      <td>0.00005</td>\n",
       "      <td>True</td>\n",
       "      <td>False</td>\n",
       "      <td>HCP_top-separated-n=300</td>\n",
       "      <td>300</td>\n",
       "    </tr>\n",
       "    <tr>\n",
       "      <th>4</th>\n",
       "      <td>/neurospin/dico/jchavas/Runs/57_miccai2023_che...</td>\n",
       "      <td>0.758661</td>\n",
       "      <td>0.002765</td>\n",
       "      <td>0.726386</td>\n",
       "      <td>0.007738</td>\n",
       "      <td>convnet</td>\n",
       "      <td>16</td>\n",
       "      <td>4</td>\n",
       "      <td>HCP-2-top-separated</td>\n",
       "      <td>3</td>\n",
       "      <td>...</td>\n",
       "      <td>2.0</td>\n",
       "      <td>0.1</td>\n",
       "      <td>0.1</td>\n",
       "      <td>0.3</td>\n",
       "      <td>/neurospin/dico/data/deep_folding/papers/micca...</td>\n",
       "      <td>0.00005</td>\n",
       "      <td>True</td>\n",
       "      <td>False</td>\n",
       "      <td>HCP_top-separated-n=300</td>\n",
       "      <td>300</td>\n",
       "    </tr>\n",
       "    <tr>\n",
       "      <th>16</th>\n",
       "      <td>/neurospin/dico/jchavas/Runs/57_miccai2023_che...</td>\n",
       "      <td>0.757357</td>\n",
       "      <td>0.004058</td>\n",
       "      <td>0.746526</td>\n",
       "      <td>0.005876</td>\n",
       "      <td>convnet</td>\n",
       "      <td>16</td>\n",
       "      <td>4</td>\n",
       "      <td>HCP-2-top-separated</td>\n",
       "      <td>3</td>\n",
       "      <td>...</td>\n",
       "      <td>2.0</td>\n",
       "      <td>0.1</td>\n",
       "      <td>0.1</td>\n",
       "      <td>0.3</td>\n",
       "      <td>/neurospin/dico/data/deep_folding/current/data...</td>\n",
       "      <td>0.00005</td>\n",
       "      <td>True</td>\n",
       "      <td>False</td>\n",
       "      <td>HCP_top-separated-n=1101</td>\n",
       "      <td>1101</td>\n",
       "    </tr>\n",
       "  </tbody>\n",
       "</table>\n",
       "<p>5 rows × 41 columns</p>\n",
       "</div>"
      ],
      "text/plain": [
       "                                           model_path       auc   auc_std  \\\n",
       "19  /neurospin/dico/jchavas/Runs/57_miccai2023_che...  0.799584  0.002078   \n",
       "3   /neurospin/dico/jchavas/Runs/57_miccai2023_che...  0.788702  0.003555   \n",
       "1   /neurospin/dico/jchavas/Runs/57_miccai2023_che...  0.778611  0.003254   \n",
       "4   /neurospin/dico/jchavas/Runs/57_miccai2023_che...  0.758661  0.002765   \n",
       "16  /neurospin/dico/jchavas/Runs/57_miccai2023_che...  0.757357  0.004058   \n",
       "\n",
       "    accuracy  accuracy_std backbone_name  batch_size  checkerboard_size  \\\n",
       "19  0.772047      0.007534       convnet          16                  4   \n",
       "3   0.734550      0.005580       convnet          16                  4   \n",
       "1   0.742737      0.004879       convnet          16                  4   \n",
       "4   0.726386      0.007738       convnet          16                  4   \n",
       "16  0.746526      0.005876       convnet          16                  4   \n",
       "\n",
       "           dataset_name  depth_decoder  ...  sigma_labels  temperature  \\\n",
       "19  HCP-2-top-separated              3  ...           2.0          0.1   \n",
       "3   HCP-2-top-separated              3  ...           2.0          0.1   \n",
       "1   HCP-2-top-separated              3  ...           2.0          0.1   \n",
       "4   HCP-2-top-separated              3  ...           2.0          0.1   \n",
       "16  HCP-2-top-separated              3  ...           2.0          0.1   \n",
       "\n",
       "   temperature_initial  temperature_supervised  \\\n",
       "19                 0.1                     0.3   \n",
       "3                  0.1                     0.3   \n",
       "1                  0.1                     0.3   \n",
       "4                  0.1                     0.3   \n",
       "16                 0.1                     0.3   \n",
       "\n",
       "                                   train_val_csv_file weight_decay  \\\n",
       "19  /neurospin/dico/data/deep_folding/current/data...      0.00005   \n",
       "3   /neurospin/dico/data/deep_folding/papers/micca...      0.00005   \n",
       "1   /neurospin/dico/data/deep_folding/papers/micca...      0.00005   \n",
       "4   /neurospin/dico/data/deep_folding/papers/micca...      0.00005   \n",
       "16  /neurospin/dico/data/deep_folding/current/data...      0.00005   \n",
       "\n",
       "    with_labels  exclude                model_name     n  \n",
       "19         True    False  HCP_top-separated-n=1101  1101  \n",
       "3          True    False   HCP_top-separated-n=300   300  \n",
       "1          True    False   HCP_top-separated-n=300   300  \n",
       "4          True    False   HCP_top-separated-n=300   300  \n",
       "16         True    False  HCP_top-separated-n=1101  1101  \n",
       "\n",
       "[5 rows x 41 columns]"
      ]
     },
     "execution_count": 56,
     "metadata": {},
     "output_type": "execute_result"
    }
   ],
   "source": [
    "database_path = \"/neurospin/dico/jchavas/Runs/57_miccai2023_checks_done_after/Output/contrastive/summary/bdd_HCP-top-separated-different-n_evaluation-ACCpatterns-1.csv\"\n",
    "bdd = pd.read_csv(database_path, index_col=0)\n",
    "bdd.sort_values(by='auc', ascending=False, inplace=True)\n",
    "bdd[\"model_name\"] = \"=0\"\n",
    "bdd[\"model_name\"] = bdd.model_path.apply(lambda x: x.split(sep='/')[-2])\n",
    "bdd[\"n\"] = -1\n",
    "bdd[\"n\"] = bdd.model_name.apply(lambda x: int(x.split(sep='=')[-1]))\n",
    "bdd[\"n\"] = bdd.apply(lambda x: x[\"nb_subjects\"] if x[\"nb_subjects\"]>=0 else x[\"n\"], axis=1)\n",
    "bdd\n",
    "# bdd.loc[bdd.dataset_name.str.contains(\"UkBioBank\"), \"dataset_name\"] = \"UKBioBank\"\n",
    "# bdd.loc[bdd.dataset_name.str.contains(\"ACCpatterns\"), \"dataset_name\"] = \"ACC-1\"\n",
    "bdd.loc[bdd.dataset_name.str.contains(\"HCP\"), \"dataset_name\"] = \"HCP-2-top-separated\"\n",
    "bdd.head()"
   ]
  },
  {
   "cell_type": "code",
   "execution_count": 57,
   "metadata": {},
   "outputs": [],
   "source": [
    "bdd_HCP_top_separated = bdd.copy(deep=True)"
   ]
  },
  {
   "cell_type": "code",
   "execution_count": 58,
   "metadata": {},
   "outputs": [
    {
     "data": {
      "text/plain": [
       "(0.5, 0.8)"
      ]
     },
     "execution_count": 58,
     "metadata": {},
     "output_type": "execute_result"
    },
    {
     "data": {
      "image/png": "[encoded data removed]",
      "text/plain": [
       "<Figure size 720x360 with 1 Axes>"
      ]
     },
     "metadata": {
      "needs_background": "light"
     },
     "output_type": "display_data"
    }
   ],
   "source": [
    "plt.rc('xtick', labelsize=14) \n",
    "plt.rc('ytick', labelsize=14) \n",
    "plt.rc('axes', labelsize=18) \n",
    "f, ax = plt.subplots(1, 1, figsize=(10, 5))\n",
    "sns.pointplot(data=bdd, x=bdd.n, y=\"auc\",  hue='dataset_name', scale=2,ax=ax)\n",
    "sns.stripplot(data=bdd, x=bdd.n, y=\"auc\", marker='s',  hue='dataset_name', jitter=1, ax=ax)\n",
    "handles, labels = ax.get_legend_handles_labels()\n",
    "ax.legend(handles=handles, labels=[\"HCP-2-top-separated\"], labelspacing=1.2)\n",
    "# ax.legend([],[], frameon=False)\n",
    "ax.set_ylim([0.5,0.8])\n",
    "# ax.set_xscale('log')"
   ]
  },
  {
   "cell_type": "markdown",
   "metadata": {},
   "source": [
    "## Bringing together"
   ]
  },
  {
   "cell_type": "code",
   "execution_count": 59,
   "metadata": {},
   "outputs": [
    {
     "data": {
      "text/plain": [
       "{'ACC-1',\n",
       " 'HCP-2',\n",
       " 'HCP-2-top-separated',\n",
       " 'UKBioBank',\n",
       " 'UKBioBank-top-separated'}"
      ]
     },
     "execution_count": 59,
     "metadata": {},
     "output_type": "execute_result"
    }
   ],
   "source": [
    "bdd_all2 = pd.concat([bdd_all, bdd_HCP_top_separated])\n",
    "set(bdd_all2.dataset_name)"
   ]
  },
  {
   "cell_type": "code",
   "execution_count": 61,
   "metadata": {},
   "outputs": [
    {
     "data": {
      "text/plain": [
       "(0.5, 0.8)"
      ]
     },
     "execution_count": 61,
     "metadata": {},
     "output_type": "execute_result"
    },
    {
     "data": {
      "image/png": "[encoded data removed]",
      "text/plain": [
       "<Figure size 720x360 with 1 Axes>"
      ]
     },
     "metadata": {
      "needs_background": "light"
     },
     "output_type": "display_data"
    }
   ],
   "source": [
    "plt.rc('xtick', labelsize=14) \n",
    "plt.rc('ytick', labelsize=14) \n",
    "plt.rc('axes', labelsize=18) \n",
    "f, ax = plt.subplots(1, 1, figsize=(10, 5))\n",
    "line = sns.pointplot(data=bdd_all2, x=bdd_all2.n, y=\"auc\", palette=['red', 'black', 'blue', 'green', 'grey'],markers=['^', 's','o', '^', 's'], hue='dataset_name', linestyles=['-','-','-','-','-'], scale=2,ax=ax)\n",
    "sns.stripplot(data=bdd_all2, x=bdd_all2.n, y=\"auc\", marker='s', palette=['red', 'black', 'blue', 'green', 'grey'], hue='dataset_name', jitter=1, ax=ax)\n",
    "# ax.legend([],[], frameon=False)\n",
    "handles, labels = ax.get_legend_handles_labels()\n",
    "ax.legend(handles=handles[0:5], labels=labels[0:5], labelspacing=1.2)\n",
    "ax.set_ylim([0.5,0.8])\n",
    "# ax.set_xscale('log')"
   ]
  },
  {
   "cell_type": "code",
   "execution_count": null,
   "metadata": {},
   "outputs": [],
   "source": []
  }
 ],
 "metadata": {
  "kernelspec": {
   "display_name": "Python 3.6.9 ('venv_local': venv)",
   "language": "python",
   "name": "python3"
  },
  "language_info": {
   "codemirror_mode": {
    "name": "ipython",
    "version": 3
   },
   "file_extension": ".py",
   "mimetype": "text/x-python",
   "name": "python",
   "nbconvert_exporter": "python",
   "pygments_lexer": "ipython3",
   "version": "3.6.9"
  },
  "orig_nbformat": 4,
  "vscode": {
   "interpreter": {
    "hash": "b3f951fa4227f6aee2764c66da50d1aa01efee6b5e95e7b587fda0e6104695b3"
   }
  }
 },
 "nbformat": 4,
 "nbformat_minor": 2
}
