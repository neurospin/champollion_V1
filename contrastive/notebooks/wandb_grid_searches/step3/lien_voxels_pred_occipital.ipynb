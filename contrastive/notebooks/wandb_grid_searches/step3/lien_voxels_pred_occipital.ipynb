{
 "cells": [
  {
   "cell_type": "code",
   "execution_count": 1,
   "metadata": {},
   "outputs": [],
   "source": [
    "import numpy as np\n",
    "import pandas as pd\n",
    "import matplotlib.pyplot as plt"
   ]
  },
  {
   "cell_type": "code",
   "execution_count": 2,
   "metadata": {},
   "outputs": [
    {
     "data": {
      "text/html": [
       "<div>\n",
       "<style scoped>\n",
       "    .dataframe tbody tr th:only-of-type {\n",
       "        vertical-align: middle;\n",
       "    }\n",
       "\n",
       "    .dataframe tbody tr th {\n",
       "        vertical-align: top;\n",
       "    }\n",
       "\n",
       "    .dataframe thead th {\n",
       "        text-align: right;\n",
       "    }\n",
       "</style>\n",
       "<table border=\"1\" class=\"dataframe\">\n",
       "  <thead>\n",
       "    <tr style=\"text-align: right;\">\n",
       "      <th></th>\n",
       "      <th>Subject</th>\n",
       "      <th>label</th>\n",
       "    </tr>\n",
       "  </thead>\n",
       "  <tbody>\n",
       "    <tr>\n",
       "      <th>0</th>\n",
       "      <td>10171</td>\n",
       "      <td>0</td>\n",
       "    </tr>\n",
       "    <tr>\n",
       "      <th>1</th>\n",
       "      <td>10189</td>\n",
       "      <td>0</td>\n",
       "    </tr>\n",
       "    <tr>\n",
       "      <th>2</th>\n",
       "      <td>10193</td>\n",
       "      <td>0</td>\n",
       "    </tr>\n",
       "    <tr>\n",
       "      <th>3</th>\n",
       "      <td>10206</td>\n",
       "      <td>0</td>\n",
       "    </tr>\n",
       "    <tr>\n",
       "      <th>4</th>\n",
       "      <td>10217</td>\n",
       "      <td>0</td>\n",
       "    </tr>\n",
       "    <tr>\n",
       "      <th>...</th>\n",
       "      <td>...</td>\n",
       "      <td>...</td>\n",
       "    </tr>\n",
       "    <tr>\n",
       "      <th>1287</th>\n",
       "      <td>st110288</td>\n",
       "      <td>0</td>\n",
       "    </tr>\n",
       "    <tr>\n",
       "      <th>1288</th>\n",
       "      <td>va110289</td>\n",
       "      <td>0</td>\n",
       "    </tr>\n",
       "    <tr>\n",
       "      <th>1289</th>\n",
       "      <td>ye110322</td>\n",
       "      <td>0</td>\n",
       "    </tr>\n",
       "    <tr>\n",
       "      <th>1290</th>\n",
       "      <td>yh100442</td>\n",
       "      <td>0</td>\n",
       "    </tr>\n",
       "    <tr>\n",
       "      <th>1291</th>\n",
       "      <td>yp120253</td>\n",
       "      <td>0</td>\n",
       "    </tr>\n",
       "  </tbody>\n",
       "</table>\n",
       "<p>1292 rows × 2 columns</p>\n",
       "</div>"
      ],
      "text/plain": [
       "       Subject  label\n",
       "0        10171      0\n",
       "1        10189      0\n",
       "2        10193      0\n",
       "3        10206      0\n",
       "4        10217      0\n",
       "...        ...    ...\n",
       "1287  st110288      0\n",
       "1288  va110289      0\n",
       "1289  ye110322      0\n",
       "1290  yh100442      0\n",
       "1291  yp120253      0\n",
       "\n",
       "[1292 rows x 2 columns]"
      ]
     },
     "execution_count": 2,
     "metadata": {},
     "output_type": "execute_result"
    }
   ],
   "source": [
    "occ_ensemble_probas = pd.read_csv(\"/neurospin/dico/agaudin/Runs/09_new_repo/Output/grid_searches/step2/occipital/ensemble_models/full_ensemble_mean_probas.csv\")\n",
    "occ_ensemble_probas.sort_index(inplace=True)\n",
    "\n",
    "true_labels = pd.read_csv(\"/neurospin/dico/data/deep_folding/current/datasets/schiz/crops/2mm/OCCIPITAL/mask/Rskeleton_subject.csv\")\n",
    "true_labels['label'] = occ_ensemble_probas.labels.values\n",
    "true_labels"
   ]
  },
  {
   "cell_type": "code",
   "execution_count": 3,
   "metadata": {},
   "outputs": [
    {
     "name": "stdout",
     "output_type": "stream",
     "text": [
      "(1292, 38, 34, 50) (1292, 38, 51, 60)\n"
     ]
    }
   ],
   "source": [
    "# get the skeletons\n",
    "\n",
    "Rskels = np.load(\"/neurospin/dico/data/deep_folding/current/datasets/schiz/crops/2mm/OCCIPITAL/mask/Rskeleton.npy\")[...,0]\n",
    "Lskels = np.load(\"/neurospin/dico/data/deep_folding/current/datasets/schiz/crops/2mm/OCCIPITAL/mask/Lskeleton.npy\")[...,0]\n",
    "\n",
    "print(Rskels.shape, Lskels.shape)\n",
    "\n",
    "R_voxels = []\n",
    "L_voxels = []\n",
    "\n",
    "for i in range(Rskels.shape[0]):\n",
    "    Rskel = Rskels[i]\n",
    "    Lskel = Lskels[i]\n",
    "    R_voxels.append(np.count_nonzero(Rskel))\n",
    "    L_voxels.append(np.count_nonzero(Lskel))\n",
    "\n",
    "R_voxels = np.array(R_voxels)\n",
    "L_voxels = np.array(L_voxels)"
   ]
  },
  {
   "attachments": {},
   "cell_type": "markdown",
   "metadata": {},
   "source": [
    "## Disparités"
   ]
  },
  {
   "cell_type": "code",
   "execution_count": 4,
   "metadata": {},
   "outputs": [
    {
     "name": "stdout",
     "output_type": "stream",
     "text": [
      "[98, 99, 100, 101, 102] [0, 1, 2, 3, 4]\n"
     ]
    },
    {
     "data": {
      "image/png": "[encoded data removed]",
      "text/plain": [
       "<Figure size 640x480 with 1 Axes>"
      ]
     },
     "metadata": {},
     "output_type": "display_data"
    },
    {
     "data": {
      "image/png": "[encoded data removed]",
      "text/plain": [
       "<Figure size 640x480 with 1 Axes>"
      ]
     },
     "metadata": {},
     "output_type": "display_data"
    }
   ],
   "source": [
    "no_schiz = list(true_labels[true_labels.label == 0].index.values)\n",
    "schiz = list(true_labels[true_labels.label == 1].index.values)\n",
    "print(schiz[:5], no_schiz[:5])\n",
    "\n",
    "\n",
    "opacity = 0.7\n",
    "plt.hist(R_voxels[no_schiz], alpha=opacity)\n",
    "plt.hist(R_voxels[schiz], alpha=opacity)\n",
    "plt.title(\"Right side\")\n",
    "plt.show()\n",
    "plt.hist(L_voxels[no_schiz], alpha=opacity)\n",
    "plt.hist(L_voxels[schiz], alpha=opacity)\n",
    "plt.title(\"Left side\")\n",
    "plt.show()"
   ]
  },
  {
   "attachments": {},
   "cell_type": "markdown",
   "metadata": {},
   "source": [
    "Pas de disparité en nombre de voxels entre schiz et non schiz à première vue."
   ]
  },
  {
   "attachments": {},
   "cell_type": "markdown",
   "metadata": {},
   "source": [
    "### Disparité en fonction de la prédiction du modèle d'ensemble"
   ]
  },
  {
   "cell_type": "code",
   "execution_count": 5,
   "metadata": {},
   "outputs": [
    {
     "name": "stdout",
     "output_type": "stream",
     "text": [
      "7185 0.3924462891324498 0.6238390092879257\n"
     ]
    }
   ],
   "source": [
    "# get the best classification threshold for the ensemble model\n",
    "\n",
    "min_interval, max_interval = occ_ensemble_probas.agg_mean2.min(), occ_ensemble_probas.agg_mean2.max()\n",
    "n_steps = 10000\n",
    "h = (max_interval - min_interval) / n_steps\n",
    "accuracies = np.zeros(n_steps)\n",
    "\n",
    "for i in range(1, n_steps):\n",
    "    threshold = min_interval + i*h\n",
    "    # compute accuracy\n",
    "    predictions = occ_ensemble_probas.agg_mean2 >= threshold\n",
    "    accuracies[i] = (occ_ensemble_probas.labels == predictions).mean()\n",
    "\n",
    "# get the argmax of accuracies\n",
    "best_i = np.argmax(accuracies)\n",
    "best_threshold = min_interval + best_i*h\n",
    "print(best_i, best_threshold, accuracies[best_i])"
   ]
  },
  {
   "cell_type": "code",
   "execution_count": 6,
   "metadata": {},
   "outputs": [
    {
     "data": {
      "image/png": "[encoded data removed]",
      "text/plain": [
       "<Figure size 640x480 with 1 Axes>"
      ]
     },
     "metadata": {},
     "output_type": "display_data"
    },
    {
     "data": {
      "image/png": "[encoded data removed]",
      "text/plain": [
       "<Figure size 640x480 with 1 Axes>"
      ]
     },
     "metadata": {},
     "output_type": "display_data"
    }
   ],
   "source": [
    "occ_ensemble_probas['pred'] = np.where(occ_ensemble_probas.agg_mean2 <= best_threshold, 0, 1)\n",
    "\n",
    "\n",
    "pred_no_schiz = list(occ_ensemble_probas[occ_ensemble_probas.pred == 0].index.values)\n",
    "pred_schiz = list(occ_ensemble_probas[occ_ensemble_probas.pred == 1].index.values)\n",
    "\n",
    "\n",
    "opacity = 0.7\n",
    "plt.hist(R_voxels[pred_no_schiz], alpha=opacity)\n",
    "plt.hist(R_voxels[pred_schiz], alpha=opacity)\n",
    "plt.title(\"Right side\")\n",
    "plt.show()\n",
    "plt.hist(L_voxels[pred_no_schiz], alpha=opacity)\n",
    "plt.hist(L_voxels[pred_schiz], alpha=opacity)\n",
    "plt.title(\"Left side\")\n",
    "plt.show()"
   ]
  },
  {
   "attachments": {},
   "cell_type": "markdown",
   "metadata": {},
   "source": [
    "## Individus extrêmes"
   ]
  },
  {
   "cell_type": "code",
   "execution_count": 11,
   "metadata": {},
   "outputs": [
    {
     "name": "stdout",
     "output_type": "stream",
     "text": [
      "A00027391\n",
      "INVLM0PXNDE\n"
     ]
    }
   ],
   "source": [
    "smol_skel_idx = R_voxels.argmin()\n",
    "subject = true_labels.loc[smol_skel_idx,'Subject']\n",
    "print(subject)\n",
    "\n",
    "smol_skel_idx = L_voxels.argmin()\n",
    "subject = true_labels.loc[smol_skel_idx,'Subject']\n",
    "print(subject)"
   ]
  }
 ],
 "metadata": {
  "kernelspec": {
   "display_name": "venv_local",
   "language": "python",
   "name": "python3"
  },
  "language_info": {
   "codemirror_mode": {
    "name": "ipython",
    "version": 3
   },
   "file_extension": ".py",
   "mimetype": "text/x-python",
   "name": "python",
   "nbconvert_exporter": "python",
   "pygments_lexer": "ipython3",
   "version": "3.10.12"
  },
  "orig_nbformat": 4
 },
 "nbformat": 4,
 "nbformat_minor": 2
}
