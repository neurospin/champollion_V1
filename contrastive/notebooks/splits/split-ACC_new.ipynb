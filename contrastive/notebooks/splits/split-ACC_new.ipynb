{
 "cells": [
  {
   "cell_type": "code",
   "execution_count": 5,
   "metadata": {},
   "outputs": [],
   "source": [
    "import pandas as pd\n",
    "import numpy as np\n",
    "from skmultilearn.model_selection import iterative_train_test_split\n",
    "from sklearn.datasets import make_multilabel_classification\n",
    "from skmultilearn.model_selection import IterativeStratification\n",
    "import random\n",
    "import csv"
   ]
  },
  {
   "cell_type": "markdown",
   "metadata": {},
   "source": [
    "Load and Manipulate"
   ]
  },
  {
   "cell_type": "code",
   "execution_count": 6,
   "metadata": {},
   "outputs": [],
   "source": [
    "acc0 = pd.read_csv(\"/neurospin/dico/data/deep_folding/current/datasets/ACCpatterns/ACCpatterns_0_without_headers.csv\", header=None)\n",
    "acc1 = pd.read_csv(\"/neurospin/dico/data/deep_folding/current/datasets/ACCpatterns/ACCpatterns_1_without_headers.csv\", header=None)\n",
    "acc = pd.read_csv(\"/neurospin/dico/data/deep_folding/current/datasets/ACCpatterns/subjects_labels.csv\")\n",
    "acc = acc[~acc.long_name.isnull()]\n",
    "acc = acc[['long_name', 'DATABASE', 'SEX', 'Right_PCS', 'Left_PCS']]"
   ]
  },
  {
   "cell_type": "code",
   "execution_count": 21,
   "metadata": {},
   "outputs": [
    {
     "data": {
      "text/html": [
       "<div>\n",
       "<style scoped>\n",
       "    .dataframe tbody tr th:only-of-type {\n",
       "        vertical-align: middle;\n",
       "    }\n",
       "\n",
       "    .dataframe tbody tr th {\n",
       "        vertical-align: top;\n",
       "    }\n",
       "\n",
       "    .dataframe thead th {\n",
       "        text-align: right;\n",
       "    }\n",
       "</style>\n",
       "<table border=\"1\" class=\"dataframe\">\n",
       "  <thead>\n",
       "    <tr style=\"text-align: right;\">\n",
       "      <th></th>\n",
       "      <th>Subject</th>\n",
       "      <th>DATABASE</th>\n",
       "      <th>SEX</th>\n",
       "      <th>Right_PCS</th>\n",
       "      <th>Left_PCS</th>\n",
       "    </tr>\n",
       "  </thead>\n",
       "  <tbody>\n",
       "    <tr>\n",
       "      <th>0</th>\n",
       "      <td>nih_chp_04701_t1</td>\n",
       "      <td>NIMH_COS</td>\n",
       "      <td>M</td>\n",
       "      <td>absent</td>\n",
       "      <td>present</td>\n",
       "    </tr>\n",
       "    <tr>\n",
       "      <th>1</th>\n",
       "      <td>nih_chp_01534_t1</td>\n",
       "      <td>NIMH_COS</td>\n",
       "      <td>M</td>\n",
       "      <td>present</td>\n",
       "      <td>present</td>\n",
       "    </tr>\n",
       "    <tr>\n",
       "      <th>2</th>\n",
       "      <td>nih_chp_04623_t1</td>\n",
       "      <td>NIMH_COS</td>\n",
       "      <td>M</td>\n",
       "      <td>present</td>\n",
       "      <td>present</td>\n",
       "    </tr>\n",
       "    <tr>\n",
       "      <th>3</th>\n",
       "      <td>nih_chp_01503_t1</td>\n",
       "      <td>NIMH_COS</td>\n",
       "      <td>M</td>\n",
       "      <td>absent</td>\n",
       "      <td>absent</td>\n",
       "    </tr>\n",
       "    <tr>\n",
       "      <th>4</th>\n",
       "      <td>nih_chp_00404_t1</td>\n",
       "      <td>NIMH_COS</td>\n",
       "      <td>M</td>\n",
       "      <td>present</td>\n",
       "      <td>present</td>\n",
       "    </tr>\n",
       "    <tr>\n",
       "      <th>...</th>\n",
       "      <td>...</td>\n",
       "      <td>...</td>\n",
       "      <td>...</td>\n",
       "      <td>...</td>\n",
       "      <td>...</td>\n",
       "    </tr>\n",
       "    <tr>\n",
       "      <th>376</th>\n",
       "      <td>a0005_t1_s03</td>\n",
       "      <td>TISSIER_2018</td>\n",
       "      <td>M</td>\n",
       "      <td>present</td>\n",
       "      <td>absent</td>\n",
       "    </tr>\n",
       "    <tr>\n",
       "      <th>377</th>\n",
       "      <td>a0006_t1_s03</td>\n",
       "      <td>TISSIER_2018</td>\n",
       "      <td>M</td>\n",
       "      <td>absent</td>\n",
       "      <td>present</td>\n",
       "    </tr>\n",
       "    <tr>\n",
       "      <th>378</th>\n",
       "      <td>a0001_t1_s03</td>\n",
       "      <td>TISSIER_2018</td>\n",
       "      <td>M</td>\n",
       "      <td>present</td>\n",
       "      <td>present</td>\n",
       "    </tr>\n",
       "    <tr>\n",
       "      <th>379</th>\n",
       "      <td>a0016_t1_s03</td>\n",
       "      <td>TISSIER_2018</td>\n",
       "      <td>F</td>\n",
       "      <td>present</td>\n",
       "      <td>absent</td>\n",
       "    </tr>\n",
       "    <tr>\n",
       "      <th>380</th>\n",
       "      <td>a0014_t1_s03</td>\n",
       "      <td>TISSIER_2018</td>\n",
       "      <td>M</td>\n",
       "      <td>absent</td>\n",
       "      <td>present</td>\n",
       "    </tr>\n",
       "  </tbody>\n",
       "</table>\n",
       "<p>341 rows × 5 columns</p>\n",
       "</div>"
      ],
      "text/plain": [
       "              Subject      DATABASE SEX Right_PCS Left_PCS\n",
       "0    nih_chp_04701_t1      NIMH_COS   M    absent  present\n",
       "1    nih_chp_01534_t1      NIMH_COS   M   present  present\n",
       "2    nih_chp_04623_t1      NIMH_COS   M   present  present\n",
       "3    nih_chp_01503_t1      NIMH_COS   M    absent   absent\n",
       "4    nih_chp_00404_t1      NIMH_COS   M   present  present\n",
       "..                ...           ...  ..       ...      ...\n",
       "376      a0005_t1_s03  TISSIER_2018   M   present   absent\n",
       "377      a0006_t1_s03  TISSIER_2018   M    absent  present\n",
       "378      a0001_t1_s03  TISSIER_2018   M   present  present\n",
       "379      a0016_t1_s03  TISSIER_2018   F   present   absent\n",
       "380      a0014_t1_s03  TISSIER_2018   M    absent  present\n",
       "\n",
       "[341 rows x 5 columns]"
      ]
     },
     "execution_count": 21,
     "metadata": {},
     "output_type": "execute_result"
    }
   ],
   "source": [
    "acc.columns = ['Subject', 'DATABASE', 'SEX', 'Right_PCS', 'Left_PCS']\n",
    "acc"
   ]
  },
  {
   "cell_type": "code",
   "execution_count": 22,
   "metadata": {},
   "outputs": [],
   "source": [
    "def print_results(parent, folds, col, verbose=True):\n",
    "\n",
    "    # For each conbination of labels, prints the number of rows for each fold\n",
    "    # having this combination\n",
    "    total_errors = 0\n",
    "    n_splits = len(folds)\n",
    "    if verbose:\n",
    "        print(\"query   : #rows      : #rows per fold\\n\")\n",
    "\n",
    "    for col0 in parent[col[0]].unique():\n",
    "        for col1 in parent[col[1]].unique():\n",
    "            for col2 in parent[col[2]].unique():\n",
    "                df = parent.query(f\"{col[0]}==@col0 and {col[1]}==@col1 and {col[2]}==@col2\")\n",
    "                len_query = len(df)\n",
    "                if verbose:\n",
    "                    print(f\"{col0}, {col1}, {col2} : total = {len_query} : per fold =\", end = ' ')\n",
    "                for fold in folds:\n",
    "                    df0 = fold.query(f\"{col[0]}==@col0 and {col[1]}==@col1 and {col[2]}==@col2\")\n",
    "                    len_query_fold = len(df0)\n",
    "                    if abs(len_query_fold-len_query/n_splits) >= 2:\n",
    "                        total_errors += 1\n",
    "                    if verbose:\n",
    "                        print(f\"{len_query_fold} -\", end= ' ')\n",
    "                if verbose:\n",
    "                    print(\"\")\n",
    "\n",
    "    # Prints the statistics and the number of stratification errors\n",
    "    expected_total_length = len(parent)\n",
    "    total_length = 0\n",
    "    total_mismatches = 0\n",
    "    print(\"\\nlengths of folds : \", end = ' ')\n",
    "    for fold in folds:\n",
    "        len_fold = len(fold)\n",
    "        print(len_fold, end=' ')\n",
    "        total_length += len_fold\n",
    "        if abs(len_fold-expected_total_length/n_splits) >= 2:\n",
    "            total_mismatches += 1\n",
    "    print(f\"\\nExpected total_length = {expected_total_length}\")\n",
    "    print(f\"Effective total_length = {total_length}\")\n",
    "\n",
    "    print(f\"total number of stratification errors: {total_errors}\")\n",
    "    print(f\"total number of mismatched fold sizes : {total_mismatches}\")"
   ]
  },
  {
   "cell_type": "code",
   "execution_count": 23,
   "metadata": {},
   "outputs": [],
   "source": [
    "def iterative_split_through_sorting_shuffle(df, n_splits, stratify_columns, random_state):\n",
    "    \"\"\"Custom iterative train test split which\n",
    "    maintains balanced representation.\n",
    "    \"\"\"\n",
    "    # Dataframe random row shuffle + sorting according to stratify_columns\n",
    "    sorted = df.sample(frac=1, random_state=random_state).sort_values(stratify_columns)\n",
    "    # for each fold, we take one row every n_splits rows\n",
    "    folds = [sorted.iloc[i::n_splits, :] for i in range(n_splits)]\n",
    "    # Further shuffling\n",
    "    folds = [fold.sample(frac=1, random_state=random_state) for fold in folds]\n",
    "    random.Random(random_state).shuffle(folds)\n",
    "    return folds"
   ]
  },
  {
   "cell_type": "markdown",
   "metadata": {},
   "source": [
    "# Step 1 : split in 5 folds, keep last for test"
   ]
  },
  {
   "cell_type": "code",
   "execution_count": 33,
   "metadata": {},
   "outputs": [],
   "source": [
    "side = 'Left'"
   ]
  },
  {
   "cell_type": "code",
   "execution_count": 34,
   "metadata": {},
   "outputs": [],
   "source": [
    "# Save Results\n",
    "save_path = f\"/neurospin/dico/data/deep_folding/current/datasets/ACCpatterns/splits/{side}\""
   ]
  },
  {
   "cell_type": "code",
   "execution_count": 35,
   "metadata": {},
   "outputs": [],
   "source": [
    "results = iterative_split_through_sorting_shuffle(acc, 5, ['DATABASE', 'SEX', f'{side}_PCS'], 1)"
   ]
  },
  {
   "cell_type": "code",
   "execution_count": 36,
   "metadata": {},
   "outputs": [
    {
     "name": "stdout",
     "output_type": "stream",
     "text": [
      "query   : #rows      : #rows per fold\n",
      "\n",
      "NIMH_COS, M, present : total = 34 : per fold = 6 - 7 - 7 - 7 - 7 - \n",
      "NIMH_COS, M, absent : total = 13 : per fold = 3 - 2 - 2 - 3 - 3 - \n",
      "NIMH_COS, F, present : total = 15 : per fold = 3 - 3 - 3 - 3 - 3 - \n",
      "NIMH_COS, F, absent : total = 10 : per fold = 2 - 2 - 2 - 2 - 2 - \n",
      "NIMH_COS, nan, present : total = 0 : per fold = 0 - 0 - 0 - 0 - 0 - \n",
      "NIMH_COS, nan, absent : total = 0 : per fold = 0 - 0 - 0 - 0 - 0 - \n",
      "NIMH_COSSIB, M, present : total = 20 : per fold = 4 - 4 - 4 - 4 - 4 - \n",
      "NIMH_COSSIB, M, absent : total = 5 : per fold = 1 - 1 - 1 - 1 - 1 - \n",
      "NIMH_COSSIB, F, present : total = 11 : per fold = 2 - 2 - 2 - 3 - 2 - \n",
      "NIMH_COSSIB, F, absent : total = 13 : per fold = 3 - 3 - 3 - 2 - 2 - \n",
      "NIMH_COSSIB, nan, present : total = 0 : per fold = 0 - 0 - 0 - 0 - 0 - \n",
      "NIMH_COSSIB, nan, absent : total = 0 : per fold = 0 - 0 - 0 - 0 - 0 - \n",
      "NIMH_NV, M, present : total = 37 : per fold = 7 - 7 - 8 - 8 - 7 - \n",
      "NIMH_NV, M, absent : total = 12 : per fold = 3 - 3 - 2 - 2 - 2 - \n",
      "NIMH_NV, F, present : total = 14 : per fold = 2 - 3 - 3 - 3 - 3 - \n",
      "NIMH_NV, F, absent : total = 12 : per fold = 3 - 2 - 2 - 2 - 3 - \n",
      "NIMH_NV, nan, present : total = 0 : per fold = 0 - 0 - 0 - 0 - 0 - \n",
      "NIMH_NV, nan, absent : total = 0 : per fold = 0 - 0 - 0 - 0 - 0 - \n",
      "APEX, M, present : total = 0 : per fold = 0 - 0 - 0 - 0 - 0 - \n",
      "APEX, M, absent : total = 0 : per fold = 0 - 0 - 0 - 0 - 0 - \n",
      "APEX, F, present : total = 0 : per fold = 0 - 0 - 0 - 0 - 0 - \n",
      "APEX, F, absent : total = 0 : per fold = 0 - 0 - 0 - 0 - 0 - \n",
      "APEX, nan, present : total = 0 : per fold = 0 - 0 - 0 - 0 - 0 - \n",
      "APEX, nan, absent : total = 0 : per fold = 0 - 0 - 0 - 0 - 0 - \n",
      "TISSIER_2018, M, present : total = 24 : per fold = 5 - 5 - 5 - 5 - 4 - \n",
      "TISSIER_2018, M, absent : total = 16 : per fold = 3 - 3 - 3 - 3 - 4 - \n",
      "TISSIER_2018, F, present : total = 23 : per fold = 4 - 5 - 5 - 5 - 4 - \n",
      "TISSIER_2018, F, absent : total = 17 : per fold = 4 - 3 - 3 - 3 - 4 - \n",
      "TISSIER_2018, nan, present : total = 0 : per fold = 0 - 0 - 0 - 0 - 0 - \n",
      "TISSIER_2018, nan, absent : total = 0 : per fold = 0 - 0 - 0 - 0 - 0 - \n",
      "\n",
      "lengths of folds :  68 68 68 69 68 \n",
      "Expected total_length = 341\n",
      "Effective total_length = 341\n",
      "total number of stratification errors: 0\n",
      "total number of mismatched fold sizes : 0\n"
     ]
    }
   ],
   "source": [
    "print_results(acc, results, ['DATABASE', 'SEX', f'{side}_PCS'], True)"
   ]
  },
  {
   "cell_type": "code",
   "execution_count": 37,
   "metadata": {},
   "outputs": [],
   "source": [
    "results[-1].reset_index()['Subject'].to_csv(\n",
    "    f\"{save_path}/test_split.csv\",\n",
    "    header=False,\n",
    "    index=False,\n",
    "    quoting=csv.QUOTE_ALL)"
   ]
  },
  {
   "cell_type": "markdown",
   "metadata": {},
   "source": [
    "# Step 2 : split remaining 80% in 5 for cross val and train eval"
   ]
  },
  {
   "cell_type": "code",
   "execution_count": 38,
   "metadata": {},
   "outputs": [],
   "source": [
    "acc_train_val = acc.drop(index=results[-1].index.to_list())"
   ]
  },
  {
   "cell_type": "code",
   "execution_count": 39,
   "metadata": {},
   "outputs": [],
   "source": [
    "results = iterative_split_through_sorting_shuffle(acc_train_val, 5, ['DATABASE', 'SEX', f'{side}_PCS'], 1)"
   ]
  },
  {
   "cell_type": "code",
   "execution_count": 40,
   "metadata": {},
   "outputs": [
    {
     "name": "stdout",
     "output_type": "stream",
     "text": [
      "query   : #rows      : #rows per fold\n",
      "\n",
      "NIMH_COS, M, present : total = 27 : per fold = 6 - 6 - 5 - 5 - 5 - \n",
      "NIMH_COS, M, absent : total = 10 : per fold = 2 - 2 - 2 - 2 - 2 - \n",
      "NIMH_COS, F, present : total = 12 : per fold = 2 - 2 - 2 - 3 - 3 - \n",
      "NIMH_COS, F, absent : total = 8 : per fold = 2 - 2 - 2 - 1 - 1 - \n",
      "NIMH_COS, nan, present : total = 0 : per fold = 0 - 0 - 0 - 0 - 0 - \n",
      "NIMH_COS, nan, absent : total = 0 : per fold = 0 - 0 - 0 - 0 - 0 - \n",
      "NIMH_COSSIB, M, present : total = 16 : per fold = 3 - 4 - 3 - 3 - 3 - \n",
      "NIMH_COSSIB, M, absent : total = 4 : per fold = 1 - 0 - 1 - 1 - 1 - \n",
      "NIMH_COSSIB, F, present : total = 9 : per fold = 2 - 2 - 1 - 2 - 2 - \n",
      "NIMH_COSSIB, F, absent : total = 11 : per fold = 2 - 2 - 3 - 2 - 2 - \n",
      "NIMH_COSSIB, nan, present : total = 0 : per fold = 0 - 0 - 0 - 0 - 0 - \n",
      "NIMH_COSSIB, nan, absent : total = 0 : per fold = 0 - 0 - 0 - 0 - 0 - \n",
      "NIMH_NV, M, present : total = 30 : per fold = 6 - 6 - 6 - 6 - 6 - \n",
      "NIMH_NV, M, absent : total = 10 : per fold = 2 - 2 - 2 - 2 - 2 - \n",
      "NIMH_NV, F, present : total = 11 : per fold = 2 - 3 - 2 - 2 - 2 - \n",
      "NIMH_NV, F, absent : total = 9 : per fold = 2 - 1 - 2 - 2 - 2 - \n",
      "NIMH_NV, nan, present : total = 0 : per fold = 0 - 0 - 0 - 0 - 0 - \n",
      "NIMH_NV, nan, absent : total = 0 : per fold = 0 - 0 - 0 - 0 - 0 - \n",
      "APEX, M, present : total = 0 : per fold = 0 - 0 - 0 - 0 - 0 - \n",
      "APEX, M, absent : total = 0 : per fold = 0 - 0 - 0 - 0 - 0 - \n",
      "APEX, F, present : total = 0 : per fold = 0 - 0 - 0 - 0 - 0 - \n",
      "APEX, F, absent : total = 0 : per fold = 0 - 0 - 0 - 0 - 0 - \n",
      "APEX, nan, present : total = 0 : per fold = 0 - 0 - 0 - 0 - 0 - \n",
      "APEX, nan, absent : total = 0 : per fold = 0 - 0 - 0 - 0 - 0 - \n",
      "TISSIER_2018, M, present : total = 20 : per fold = 4 - 4 - 4 - 4 - 4 - \n",
      "TISSIER_2018, M, absent : total = 12 : per fold = 3 - 2 - 2 - 2 - 3 - \n",
      "TISSIER_2018, F, present : total = 19 : per fold = 4 - 4 - 4 - 4 - 3 - \n",
      "TISSIER_2018, F, absent : total = 13 : per fold = 2 - 2 - 3 - 3 - 3 - \n",
      "TISSIER_2018, nan, present : total = 0 : per fold = 0 - 0 - 0 - 0 - 0 - \n",
      "TISSIER_2018, nan, absent : total = 0 : per fold = 0 - 0 - 0 - 0 - 0 - \n",
      "\n",
      "lengths of folds :  55 54 54 55 55 \n",
      "Expected total_length = 273\n",
      "Effective total_length = 273\n",
      "total number of stratification errors: 0\n",
      "total number of mismatched fold sizes : 0\n"
     ]
    }
   ],
   "source": [
    "print_results(acc_train_val, results, ['DATABASE', 'SEX', f'{side}_PCS'], True)"
   ]
  },
  {
   "cell_type": "code",
   "execution_count": 41,
   "metadata": {},
   "outputs": [],
   "source": [
    "# save folds\n",
    "for i in range(len(results)):\n",
    "    results[i].reset_index()['Subject'].to_csv(\n",
    "        f\"{save_path}/train_val_split_{i}.csv\",\n",
    "        header=False,\n",
    "        index=False,\n",
    "        quoting=csv.QUOTE_ALL)"
   ]
  },
  {
   "cell_type": "code",
   "execution_count": null,
   "metadata": {},
   "outputs": [],
   "source": []
  }
 ],
 "metadata": {
  "kernelspec": {
   "display_name": "venv",
   "language": "python",
   "name": "python3"
  },
  "language_info": {
   "codemirror_mode": {
    "name": "ipython",
    "version": 3
   },
   "file_extension": ".py",
   "mimetype": "text/x-python",
   "name": "python",
   "nbconvert_exporter": "python",
   "pygments_lexer": "ipython3",
   "version": "3.10.12"
  }
 },
 "nbformat": 4,
 "nbformat_minor": 2
}
