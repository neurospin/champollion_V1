{
 "cells": [
  {
   "cell_type": "code",
   "execution_count": 57,
   "metadata": {},
   "outputs": [],
   "source": [
    "import pandas as pd\n",
    "import numpy as np\n",
    "from skmultilearn.model_selection import iterative_train_test_split\n",
    "from sklearn.datasets import make_multilabel_classification\n",
    "from skmultilearn.model_selection import IterativeStratification\n",
    "from sklearn.model_selection import StratifiedGroupKFold\n",
    "import random\n",
    "import csv\n",
    "import glob\n",
    "import sklearn"
   ]
  },
  {
   "cell_type": "code",
   "execution_count": 58,
   "metadata": {},
   "outputs": [],
   "source": [
    "from collections import defaultdict\n",
    "\n",
    "from sklearn.utils import (\n",
    "    #_approximate_mode,\n",
    "    _safe_indexing,\n",
    "    check_random_state,\n",
    "    indexable,\n",
    "    metadata_routing,\n",
    ")\n",
    "\n",
    "from sklearn.utils.validation import _num_samples, check_array, column_or_1d\n",
    "from sklearn.utils.multiclass import type_of_target"
   ]
  },
  {
   "cell_type": "markdown",
   "metadata": {},
   "source": [
    "# Load data"
   ]
  },
  {
   "cell_type": "code",
   "execution_count": 59,
   "metadata": {},
   "outputs": [],
   "source": [
    "central = pd.read_csv(\"/neurospin/dico/data/deep_folding/current/datasets/hcp/hcp_isomap_labels_SC-sylv_left.csv\", index_col=0)\n",
    "central = central.dropna()"
   ]
  },
  {
   "cell_type": "code",
   "execution_count": 60,
   "metadata": {},
   "outputs": [
    {
     "name": "stdout",
     "output_type": "stream",
     "text": [
      "1206\n"
     ]
    },
    {
     "data": {
      "text/html": [
       "<div>\n",
       "<style scoped>\n",
       "    .dataframe tbody tr th:only-of-type {\n",
       "        vertical-align: middle;\n",
       "    }\n",
       "\n",
       "    .dataframe tbody tr th {\n",
       "        vertical-align: top;\n",
       "    }\n",
       "\n",
       "    .dataframe thead th {\n",
       "        text-align: right;\n",
       "    }\n",
       "</style>\n",
       "<table border=\"1\" class=\"dataframe\">\n",
       "  <thead>\n",
       "    <tr style=\"text-align: right;\">\n",
       "      <th></th>\n",
       "      <th>Subject</th>\n",
       "      <th>Gender</th>\n",
       "    </tr>\n",
       "  </thead>\n",
       "  <tbody>\n",
       "    <tr>\n",
       "      <th>0</th>\n",
       "      <td>100004</td>\n",
       "      <td>M</td>\n",
       "    </tr>\n",
       "    <tr>\n",
       "      <th>1</th>\n",
       "      <td>100206</td>\n",
       "      <td>M</td>\n",
       "    </tr>\n",
       "    <tr>\n",
       "      <th>2</th>\n",
       "      <td>100307</td>\n",
       "      <td>F</td>\n",
       "    </tr>\n",
       "    <tr>\n",
       "      <th>3</th>\n",
       "      <td>100408</td>\n",
       "      <td>M</td>\n",
       "    </tr>\n",
       "    <tr>\n",
       "      <th>4</th>\n",
       "      <td>100610</td>\n",
       "      <td>M</td>\n",
       "    </tr>\n",
       "  </tbody>\n",
       "</table>\n",
       "</div>"
      ],
      "text/plain": [
       "   Subject Gender\n",
       "0   100004      M\n",
       "1   100206      M\n",
       "2   100307      F\n",
       "3   100408      M\n",
       "4   100610      M"
      ]
     },
     "execution_count": 60,
     "metadata": {},
     "output_type": "execute_result"
    }
   ],
   "source": [
    "participants_file = \"/neurospin/dico/data/bv_databases/human/not_labeled/hcp/participants.csv\"\n",
    "participants_unrestricted = pd.read_csv(participants_file)\n",
    "participants_unrestricted = participants_unrestricted[['Subject', \"Gender\"]]\n",
    "print(len(participants_unrestricted))\n",
    "participants_unrestricted.head()"
   ]
  },
  {
   "cell_type": "code",
   "execution_count": 61,
   "metadata": {},
   "outputs": [
    {
     "name": "stdout",
     "output_type": "stream",
     "text": [
      "1206\n"
     ]
    },
    {
     "data": {
      "text/html": [
       "<div>\n",
       "<style scoped>\n",
       "    .dataframe tbody tr th:only-of-type {\n",
       "        vertical-align: middle;\n",
       "    }\n",
       "\n",
       "    .dataframe tbody tr th {\n",
       "        vertical-align: top;\n",
       "    }\n",
       "\n",
       "    .dataframe thead th {\n",
       "        text-align: right;\n",
       "    }\n",
       "</style>\n",
       "<table border=\"1\" class=\"dataframe\">\n",
       "  <thead>\n",
       "    <tr style=\"text-align: right;\">\n",
       "      <th></th>\n",
       "      <th>Subject</th>\n",
       "      <th>ZygosityGT</th>\n",
       "      <th>Family_ID</th>\n",
       "    </tr>\n",
       "  </thead>\n",
       "  <tbody>\n",
       "    <tr>\n",
       "      <th>0</th>\n",
       "      <td>100004</td>\n",
       "      <td></td>\n",
       "      <td>52259_82122</td>\n",
       "    </tr>\n",
       "    <tr>\n",
       "      <th>1</th>\n",
       "      <td>100206</td>\n",
       "      <td></td>\n",
       "      <td>56037_85858</td>\n",
       "    </tr>\n",
       "    <tr>\n",
       "      <th>2</th>\n",
       "      <td>100307</td>\n",
       "      <td>MZ</td>\n",
       "      <td>51488_81352</td>\n",
       "    </tr>\n",
       "    <tr>\n",
       "      <th>3</th>\n",
       "      <td>100408</td>\n",
       "      <td>MZ</td>\n",
       "      <td>51730_81594</td>\n",
       "    </tr>\n",
       "    <tr>\n",
       "      <th>4</th>\n",
       "      <td>100610</td>\n",
       "      <td>DZ</td>\n",
       "      <td>52813_82634</td>\n",
       "    </tr>\n",
       "  </tbody>\n",
       "</table>\n",
       "</div>"
      ],
      "text/plain": [
       "   Subject ZygosityGT    Family_ID\n",
       "0   100004             52259_82122\n",
       "1   100206             56037_85858\n",
       "2   100307         MZ  51488_81352\n",
       "3   100408         MZ  51730_81594\n",
       "4   100610         DZ  52813_82634"
      ]
     },
     "execution_count": 61,
     "metadata": {},
     "output_type": "execute_result"
    }
   ],
   "source": [
    "participants_file = \"/neurospin/dico/jchavas/RESTRICTED_jchavas_1_18_2022_3_17_51.csv\"\n",
    "participants = pd.read_csv(participants_file)\n",
    "participants = participants[['Subject', 'ZygosityGT', 'Family_ID']]\n",
    "print(len(participants))\n",
    "participants.head()"
   ]
  },
  {
   "cell_type": "code",
   "execution_count": 62,
   "metadata": {},
   "outputs": [
    {
     "name": "stdout",
     "output_type": "stream",
     "text": [
      "1206\n"
     ]
    },
    {
     "data": {
      "text/html": [
       "<div>\n",
       "<style scoped>\n",
       "    .dataframe tbody tr th:only-of-type {\n",
       "        vertical-align: middle;\n",
       "    }\n",
       "\n",
       "    .dataframe tbody tr th {\n",
       "        vertical-align: top;\n",
       "    }\n",
       "\n",
       "    .dataframe thead th {\n",
       "        text-align: right;\n",
       "    }\n",
       "</style>\n",
       "<table border=\"1\" class=\"dataframe\">\n",
       "  <thead>\n",
       "    <tr style=\"text-align: right;\">\n",
       "      <th></th>\n",
       "      <th>Subject</th>\n",
       "      <th>Gender</th>\n",
       "      <th>ZygosityGT</th>\n",
       "      <th>Family_ID</th>\n",
       "    </tr>\n",
       "  </thead>\n",
       "  <tbody>\n",
       "    <tr>\n",
       "      <th>0</th>\n",
       "      <td>100004</td>\n",
       "      <td>M</td>\n",
       "      <td>NotTwin</td>\n",
       "      <td>52259_82122</td>\n",
       "    </tr>\n",
       "    <tr>\n",
       "      <th>1</th>\n",
       "      <td>100206</td>\n",
       "      <td>M</td>\n",
       "      <td>NotTwin</td>\n",
       "      <td>56037_85858</td>\n",
       "    </tr>\n",
       "    <tr>\n",
       "      <th>2</th>\n",
       "      <td>100307</td>\n",
       "      <td>F</td>\n",
       "      <td>MZ</td>\n",
       "      <td>51488_81352</td>\n",
       "    </tr>\n",
       "    <tr>\n",
       "      <th>3</th>\n",
       "      <td>100408</td>\n",
       "      <td>M</td>\n",
       "      <td>MZ</td>\n",
       "      <td>51730_81594</td>\n",
       "    </tr>\n",
       "    <tr>\n",
       "      <th>4</th>\n",
       "      <td>100610</td>\n",
       "      <td>M</td>\n",
       "      <td>DZ</td>\n",
       "      <td>52813_82634</td>\n",
       "    </tr>\n",
       "  </tbody>\n",
       "</table>\n",
       "</div>"
      ],
      "text/plain": [
       "  Subject Gender ZygosityGT    Family_ID\n",
       "0  100004      M    NotTwin  52259_82122\n",
       "1  100206      M    NotTwin  56037_85858\n",
       "2  100307      F         MZ  51488_81352\n",
       "3  100408      M         MZ  51730_81594\n",
       "4  100610      M         DZ  52813_82634"
      ]
     },
     "execution_count": 62,
     "metadata": {},
     "output_type": "execute_result"
    }
   ],
   "source": [
    "participants = pd.merge(participants_unrestricted, participants)\n",
    "participants.loc[(participants['ZygosityGT']== \" \"), 'ZygosityGT'] = 'NotTwin'  \n",
    "participants['Subject'] = participants['Subject'].astype('string')\n",
    "print(len(participants))\n",
    "participants.head()"
   ]
  },
  {
   "cell_type": "code",
   "execution_count": 63,
   "metadata": {},
   "outputs": [
    {
     "data": {
      "text/plain": [
       "Subject       string[python]\n",
       "Gender                object\n",
       "ZygosityGT            object\n",
       "Family_ID             object\n",
       "dtype: object"
      ]
     },
     "execution_count": 63,
     "metadata": {},
     "output_type": "execute_result"
    }
   ],
   "source": [
    "participants.dtypes"
   ]
  },
  {
   "cell_type": "code",
   "execution_count": 64,
   "metadata": {},
   "outputs": [
    {
     "name": "stdout",
     "output_type": "stream",
     "text": [
      "['210112', '579665', '922854', '517239', '329440']\n",
      "1113\n"
     ]
    },
    {
     "data": {
      "text/plain": [
       "{'142626'}"
      ]
     },
     "execution_count": 64,
     "metadata": {},
     "output_type": "execute_result"
    }
   ],
   "source": [
    "treated_subjects = glob.glob(\"/neurospin/dico/data/bv_databases/human/not_labeled/hcp/hcp/*[!.minf]\")\n",
    "treated_subjects = [x.split('/')[-1] for x in treated_subjects]\n",
    "treated_subjects = [x for x in treated_subjects if 'database' not in x]\n",
    "print(treated_subjects[:5])\n",
    "len(treated_subjects)\n",
    "participants = participants[participants['Subject'].isin(treated_subjects)]\n",
    "print(len(participants))\n",
    "set(treated_subjects) - set(participants['Subject'])"
   ]
  },
  {
   "cell_type": "code",
   "execution_count": 65,
   "metadata": {},
   "outputs": [
    {
     "name": "stdout",
     "output_type": "stream",
     "text": [
      "883\n",
      "Isomap_central_left_dim1      float64\n",
      "Isomap_central_left_dim2      float64\n",
      "Isomap_central_left_dim3      float64\n",
      "Isomap_central_left_dim4      float64\n",
      "Isomap_central_left_dim5      float64\n",
      "Isomap_central_left_dim6      float64\n",
      "Isomap_cingulate_left_dim1    float64\n",
      "Isomap_cingulate_left_dim2    float64\n",
      "Isomap_cingulate_left_dim3    float64\n",
      "Isomap_cingulate_left_dim4    float64\n",
      "Isomap_cingulate_left_dim5    float64\n",
      "Isomap_cingulate_left_dim6    float64\n",
      "dtype: object\n"
     ]
    }
   ],
   "source": [
    "print(len(central))\n",
    "print(central.dtypes)\n",
    "central.index = central.index.astype(str)"
   ]
  },
  {
   "cell_type": "code",
   "execution_count": 66,
   "metadata": {},
   "outputs": [
    {
     "data": {
      "text/plain": [
       "set()"
      ]
     },
     "execution_count": 66,
     "metadata": {},
     "output_type": "execute_result"
    }
   ],
   "source": [
    "set(central.index) - set(treated_subjects)"
   ]
  },
  {
   "cell_type": "code",
   "execution_count": 67,
   "metadata": {},
   "outputs": [
    {
     "data": {
      "text/plain": [
       "1"
      ]
     },
     "execution_count": 67,
     "metadata": {},
     "output_type": "execute_result"
    }
   ],
   "source": [
    "central.index.isin(set(treated_subjects) - set(participants['Subject'])).sum()"
   ]
  },
  {
   "cell_type": "code",
   "execution_count": 68,
   "metadata": {},
   "outputs": [],
   "source": [
    "central = pd.merge(participants, central, left_on='Subject', right_index=True).set_index('Subject')"
   ]
  },
  {
   "cell_type": "code",
   "execution_count": 69,
   "metadata": {},
   "outputs": [
    {
     "data": {
      "text/html": [
       "<div>\n",
       "<style scoped>\n",
       "    .dataframe tbody tr th:only-of-type {\n",
       "        vertical-align: middle;\n",
       "    }\n",
       "\n",
       "    .dataframe tbody tr th {\n",
       "        vertical-align: top;\n",
       "    }\n",
       "\n",
       "    .dataframe thead th {\n",
       "        text-align: right;\n",
       "    }\n",
       "</style>\n",
       "<table border=\"1\" class=\"dataframe\">\n",
       "  <thead>\n",
       "    <tr style=\"text-align: right;\">\n",
       "      <th></th>\n",
       "      <th>Gender</th>\n",
       "      <th>ZygosityGT</th>\n",
       "      <th>Family_ID</th>\n",
       "      <th>Isomap_central_left_dim1</th>\n",
       "      <th>Isomap_central_left_dim2</th>\n",
       "      <th>Isomap_central_left_dim3</th>\n",
       "      <th>Isomap_central_left_dim4</th>\n",
       "      <th>Isomap_central_left_dim5</th>\n",
       "      <th>Isomap_central_left_dim6</th>\n",
       "      <th>Isomap_cingulate_left_dim1</th>\n",
       "      <th>Isomap_cingulate_left_dim2</th>\n",
       "      <th>Isomap_cingulate_left_dim3</th>\n",
       "      <th>Isomap_cingulate_left_dim4</th>\n",
       "      <th>Isomap_cingulate_left_dim5</th>\n",
       "      <th>Isomap_cingulate_left_dim6</th>\n",
       "    </tr>\n",
       "    <tr>\n",
       "      <th>Subject</th>\n",
       "      <th></th>\n",
       "      <th></th>\n",
       "      <th></th>\n",
       "      <th></th>\n",
       "      <th></th>\n",
       "      <th></th>\n",
       "      <th></th>\n",
       "      <th></th>\n",
       "      <th></th>\n",
       "      <th></th>\n",
       "      <th></th>\n",
       "      <th></th>\n",
       "      <th></th>\n",
       "      <th></th>\n",
       "      <th></th>\n",
       "    </tr>\n",
       "  </thead>\n",
       "  <tbody>\n",
       "    <tr>\n",
       "      <th>100206</th>\n",
       "      <td>M</td>\n",
       "      <td>NotTwin</td>\n",
       "      <td>56037_85858</td>\n",
       "      <td>-0.229650</td>\n",
       "      <td>7.389883</td>\n",
       "      <td>0.348397</td>\n",
       "      <td>-1.861678</td>\n",
       "      <td>0.842310</td>\n",
       "      <td>0.582308</td>\n",
       "      <td>2.254531</td>\n",
       "      <td>4.487012</td>\n",
       "      <td>-1.857427</td>\n",
       "      <td>2.059584</td>\n",
       "      <td>2.011947</td>\n",
       "      <td>3.053309</td>\n",
       "    </tr>\n",
       "    <tr>\n",
       "      <th>100307</th>\n",
       "      <td>F</td>\n",
       "      <td>MZ</td>\n",
       "      <td>51488_81352</td>\n",
       "      <td>1.573895</td>\n",
       "      <td>-2.751750</td>\n",
       "      <td>1.045617</td>\n",
       "      <td>-1.803867</td>\n",
       "      <td>0.096300</td>\n",
       "      <td>1.880110</td>\n",
       "      <td>0.271804</td>\n",
       "      <td>2.689471</td>\n",
       "      <td>2.810346</td>\n",
       "      <td>1.485902</td>\n",
       "      <td>0.797527</td>\n",
       "      <td>-5.502638</td>\n",
       "    </tr>\n",
       "    <tr>\n",
       "      <th>100408</th>\n",
       "      <td>M</td>\n",
       "      <td>MZ</td>\n",
       "      <td>51730_81594</td>\n",
       "      <td>-5.200937</td>\n",
       "      <td>-3.329636</td>\n",
       "      <td>-1.687213</td>\n",
       "      <td>-0.164033</td>\n",
       "      <td>-0.129700</td>\n",
       "      <td>0.668525</td>\n",
       "      <td>-3.087221</td>\n",
       "      <td>-2.509417</td>\n",
       "      <td>5.447575</td>\n",
       "      <td>0.570411</td>\n",
       "      <td>2.187741</td>\n",
       "      <td>5.075901</td>\n",
       "    </tr>\n",
       "    <tr>\n",
       "      <th>100610</th>\n",
       "      <td>M</td>\n",
       "      <td>DZ</td>\n",
       "      <td>52813_82634</td>\n",
       "      <td>2.131914</td>\n",
       "      <td>0.025349</td>\n",
       "      <td>-0.288740</td>\n",
       "      <td>-1.789072</td>\n",
       "      <td>-1.106825</td>\n",
       "      <td>-0.100832</td>\n",
       "      <td>4.672111</td>\n",
       "      <td>4.856687</td>\n",
       "      <td>1.527257</td>\n",
       "      <td>-0.033238</td>\n",
       "      <td>0.722929</td>\n",
       "      <td>-0.659395</td>\n",
       "    </tr>\n",
       "    <tr>\n",
       "      <th>101006</th>\n",
       "      <td>F</td>\n",
       "      <td>NotTwin</td>\n",
       "      <td>51283_52850_81149</td>\n",
       "      <td>0.411594</td>\n",
       "      <td>0.454800</td>\n",
       "      <td>-2.476906</td>\n",
       "      <td>1.865777</td>\n",
       "      <td>-1.723096</td>\n",
       "      <td>1.408883</td>\n",
       "      <td>11.017965</td>\n",
       "      <td>-1.182422</td>\n",
       "      <td>-4.016098</td>\n",
       "      <td>-3.912979</td>\n",
       "      <td>1.706526</td>\n",
       "      <td>-1.575350</td>\n",
       "    </tr>\n",
       "    <tr>\n",
       "      <th>...</th>\n",
       "      <td>...</td>\n",
       "      <td>...</td>\n",
       "      <td>...</td>\n",
       "      <td>...</td>\n",
       "      <td>...</td>\n",
       "      <td>...</td>\n",
       "      <td>...</td>\n",
       "      <td>...</td>\n",
       "      <td>...</td>\n",
       "      <td>...</td>\n",
       "      <td>...</td>\n",
       "      <td>...</td>\n",
       "      <td>...</td>\n",
       "      <td>...</td>\n",
       "      <td>...</td>\n",
       "    </tr>\n",
       "    <tr>\n",
       "      <th>992673</th>\n",
       "      <td>F</td>\n",
       "      <td>NotTwin</td>\n",
       "      <td>56143_85963</td>\n",
       "      <td>2.688382</td>\n",
       "      <td>7.092495</td>\n",
       "      <td>-2.360218</td>\n",
       "      <td>-0.831440</td>\n",
       "      <td>-1.927135</td>\n",
       "      <td>-0.885679</td>\n",
       "      <td>-6.090316</td>\n",
       "      <td>-2.531791</td>\n",
       "      <td>-1.879810</td>\n",
       "      <td>-0.426724</td>\n",
       "      <td>0.536265</td>\n",
       "      <td>2.508170</td>\n",
       "    </tr>\n",
       "    <tr>\n",
       "      <th>992774</th>\n",
       "      <td>M</td>\n",
       "      <td>NotTwin</td>\n",
       "      <td>51345_81210</td>\n",
       "      <td>3.216161</td>\n",
       "      <td>-1.978102</td>\n",
       "      <td>-3.380473</td>\n",
       "      <td>-0.248682</td>\n",
       "      <td>0.209391</td>\n",
       "      <td>-0.840647</td>\n",
       "      <td>1.895446</td>\n",
       "      <td>6.396108</td>\n",
       "      <td>0.609038</td>\n",
       "      <td>-3.159835</td>\n",
       "      <td>-4.150092</td>\n",
       "      <td>-1.000147</td>\n",
       "    </tr>\n",
       "    <tr>\n",
       "      <th>993675</th>\n",
       "      <td>F</td>\n",
       "      <td>NotTwin</td>\n",
       "      <td>55800_85621</td>\n",
       "      <td>1.654016</td>\n",
       "      <td>1.375164</td>\n",
       "      <td>0.233411</td>\n",
       "      <td>-0.785303</td>\n",
       "      <td>-1.868195</td>\n",
       "      <td>-2.888935</td>\n",
       "      <td>8.262977</td>\n",
       "      <td>4.142512</td>\n",
       "      <td>-2.316728</td>\n",
       "      <td>-2.291203</td>\n",
       "      <td>1.612961</td>\n",
       "      <td>0.830513</td>\n",
       "    </tr>\n",
       "    <tr>\n",
       "      <th>994273</th>\n",
       "      <td>M</td>\n",
       "      <td>NotTwin</td>\n",
       "      <td>52364_82227</td>\n",
       "      <td>1.177521</td>\n",
       "      <td>4.096813</td>\n",
       "      <td>-1.256984</td>\n",
       "      <td>3.123394</td>\n",
       "      <td>0.146602</td>\n",
       "      <td>1.708059</td>\n",
       "      <td>-4.200693</td>\n",
       "      <td>-4.050652</td>\n",
       "      <td>-0.542605</td>\n",
       "      <td>-3.780800</td>\n",
       "      <td>-2.132015</td>\n",
       "      <td>0.958736</td>\n",
       "    </tr>\n",
       "    <tr>\n",
       "      <th>996782</th>\n",
       "      <td>F</td>\n",
       "      <td>DZ</td>\n",
       "      <td>51541_81405</td>\n",
       "      <td>-0.966588</td>\n",
       "      <td>-0.779773</td>\n",
       "      <td>-3.874146</td>\n",
       "      <td>-1.194840</td>\n",
       "      <td>1.961070</td>\n",
       "      <td>-1.435053</td>\n",
       "      <td>7.404035</td>\n",
       "      <td>-4.857917</td>\n",
       "      <td>0.350229</td>\n",
       "      <td>1.935913</td>\n",
       "      <td>-2.832091</td>\n",
       "      <td>0.048350</td>\n",
       "    </tr>\n",
       "  </tbody>\n",
       "</table>\n",
       "<p>882 rows × 15 columns</p>\n",
       "</div>"
      ],
      "text/plain": [
       "        Gender ZygosityGT          Family_ID  Isomap_central_left_dim1  \\\n",
       "Subject                                                                  \n",
       "100206       M    NotTwin        56037_85858                 -0.229650   \n",
       "100307       F         MZ        51488_81352                  1.573895   \n",
       "100408       M         MZ        51730_81594                 -5.200937   \n",
       "100610       M         DZ        52813_82634                  2.131914   \n",
       "101006       F    NotTwin  51283_52850_81149                  0.411594   \n",
       "...        ...        ...                ...                       ...   \n",
       "992673       F    NotTwin        56143_85963                  2.688382   \n",
       "992774       M    NotTwin        51345_81210                  3.216161   \n",
       "993675       F    NotTwin        55800_85621                  1.654016   \n",
       "994273       M    NotTwin        52364_82227                  1.177521   \n",
       "996782       F         DZ        51541_81405                 -0.966588   \n",
       "\n",
       "         Isomap_central_left_dim2  Isomap_central_left_dim3  \\\n",
       "Subject                                                       \n",
       "100206                   7.389883                  0.348397   \n",
       "100307                  -2.751750                  1.045617   \n",
       "100408                  -3.329636                 -1.687213   \n",
       "100610                   0.025349                 -0.288740   \n",
       "101006                   0.454800                 -2.476906   \n",
       "...                           ...                       ...   \n",
       "992673                   7.092495                 -2.360218   \n",
       "992774                  -1.978102                 -3.380473   \n",
       "993675                   1.375164                  0.233411   \n",
       "994273                   4.096813                 -1.256984   \n",
       "996782                  -0.779773                 -3.874146   \n",
       "\n",
       "         Isomap_central_left_dim4  Isomap_central_left_dim5  \\\n",
       "Subject                                                       \n",
       "100206                  -1.861678                  0.842310   \n",
       "100307                  -1.803867                  0.096300   \n",
       "100408                  -0.164033                 -0.129700   \n",
       "100610                  -1.789072                 -1.106825   \n",
       "101006                   1.865777                 -1.723096   \n",
       "...                           ...                       ...   \n",
       "992673                  -0.831440                 -1.927135   \n",
       "992774                  -0.248682                  0.209391   \n",
       "993675                  -0.785303                 -1.868195   \n",
       "994273                   3.123394                  0.146602   \n",
       "996782                  -1.194840                  1.961070   \n",
       "\n",
       "         Isomap_central_left_dim6  Isomap_cingulate_left_dim1  \\\n",
       "Subject                                                         \n",
       "100206                   0.582308                    2.254531   \n",
       "100307                   1.880110                    0.271804   \n",
       "100408                   0.668525                   -3.087221   \n",
       "100610                  -0.100832                    4.672111   \n",
       "101006                   1.408883                   11.017965   \n",
       "...                           ...                         ...   \n",
       "992673                  -0.885679                   -6.090316   \n",
       "992774                  -0.840647                    1.895446   \n",
       "993675                  -2.888935                    8.262977   \n",
       "994273                   1.708059                   -4.200693   \n",
       "996782                  -1.435053                    7.404035   \n",
       "\n",
       "         Isomap_cingulate_left_dim2  Isomap_cingulate_left_dim3  \\\n",
       "Subject                                                           \n",
       "100206                     4.487012                   -1.857427   \n",
       "100307                     2.689471                    2.810346   \n",
       "100408                    -2.509417                    5.447575   \n",
       "100610                     4.856687                    1.527257   \n",
       "101006                    -1.182422                   -4.016098   \n",
       "...                             ...                         ...   \n",
       "992673                    -2.531791                   -1.879810   \n",
       "992774                     6.396108                    0.609038   \n",
       "993675                     4.142512                   -2.316728   \n",
       "994273                    -4.050652                   -0.542605   \n",
       "996782                    -4.857917                    0.350229   \n",
       "\n",
       "         Isomap_cingulate_left_dim4  Isomap_cingulate_left_dim5  \\\n",
       "Subject                                                           \n",
       "100206                     2.059584                    2.011947   \n",
       "100307                     1.485902                    0.797527   \n",
       "100408                     0.570411                    2.187741   \n",
       "100610                    -0.033238                    0.722929   \n",
       "101006                    -3.912979                    1.706526   \n",
       "...                             ...                         ...   \n",
       "992673                    -0.426724                    0.536265   \n",
       "992774                    -3.159835                   -4.150092   \n",
       "993675                    -2.291203                    1.612961   \n",
       "994273                    -3.780800                   -2.132015   \n",
       "996782                     1.935913                   -2.832091   \n",
       "\n",
       "         Isomap_cingulate_left_dim6  \n",
       "Subject                              \n",
       "100206                     3.053309  \n",
       "100307                    -5.502638  \n",
       "100408                     5.075901  \n",
       "100610                    -0.659395  \n",
       "101006                    -1.575350  \n",
       "...                             ...  \n",
       "992673                     2.508170  \n",
       "992774                    -1.000147  \n",
       "993675                     0.830513  \n",
       "994273                     0.958736  \n",
       "996782                     0.048350  \n",
       "\n",
       "[882 rows x 15 columns]"
      ]
     },
     "execution_count": 69,
     "metadata": {},
     "output_type": "execute_result"
    }
   ],
   "source": [
    "central"
   ]
  },
  {
   "cell_type": "markdown",
   "metadata": {},
   "source": [
    "# Split"
   ]
  },
  {
   "cell_type": "code",
   "execution_count": 70,
   "metadata": {},
   "outputs": [],
   "source": [
    "def print_results(parent, folds, col, verbose=True):\n",
    "\n",
    "    # For each conbination of labels, prints the number of rows for each fold\n",
    "    # having this combination\n",
    "    total_errors = 0\n",
    "    n_splits = len(folds)\n",
    "    if verbose:\n",
    "        print(\"query   : #rows      : #rows per fold\\n\")\n",
    "\n",
    "    for col0 in parent[col[0]].unique():\n",
    "            df = parent.query(f\"{col[0]}==@col0\")\n",
    "            len_query = len(df)\n",
    "            if verbose:\n",
    "                print(f\"{col0} : total = {len_query} : per fold =\", end = ' ')\n",
    "            for fold in folds:\n",
    "                df0 = fold.query(f\"{col[0]}==@col0\")\n",
    "                len_query_fold = len(df0)\n",
    "                if abs(len_query_fold-len_query/n_splits) >= 2:\n",
    "                    total_errors += 1\n",
    "                if verbose:\n",
    "                    print(f\"{len_query_fold} -\", end= ' ')\n",
    "            if verbose:\n",
    "                print(\"\")\n",
    "\n",
    "    # Prints the statistics and the number of stratification errors\n",
    "    expected_total_length = len(parent)\n",
    "    total_length = 0\n",
    "    total_mismatches = 0\n",
    "    print(\"\\nlengths of folds : \", end = ' ')\n",
    "    for fold in folds:\n",
    "        len_fold = len(fold)\n",
    "        print(len_fold, end=' ')\n",
    "        total_length += len_fold\n",
    "        if abs(len_fold-expected_total_length/n_splits) >= 2:\n",
    "            total_mismatches += 1\n",
    "    print(f\"\\nExpected total_length = {expected_total_length}\")\n",
    "    print(f\"Effective total_length = {total_length}\")\n",
    "\n",
    "    print(f\"total number of stratification errors: {total_errors}\")\n",
    "    print(f\"total number of mismatched fold sizes : {total_mismatches}\")"
   ]
  },
  {
   "cell_type": "code",
   "execution_count": 71,
   "metadata": {},
   "outputs": [],
   "source": [
    "def how_many_common_families(total, folds):\n",
    "    nb_common = 0\n",
    "    for i, source in enumerate(folds):\n",
    "        for j, target in enumerate(folds):\n",
    "            if j > i:\n",
    "                nb_common += len(set(target.Family_ID).intersection(set(source.Family_ID)))\n",
    "    print(f\"number of common families = {nb_common} over {len(set(total.Family_ID))} total families\")"
   ]
  },
  {
   "cell_type": "markdown",
   "metadata": {},
   "source": [
    "# Step 1 : split in 5 folds, keep last for test"
   ]
  },
  {
   "cell_type": "code",
   "execution_count": 72,
   "metadata": {},
   "outputs": [],
   "source": [
    "save_path = f\"/neurospin/dico/data/deep_folding/current/datasets/hcp/Isomap/splits/\""
   ]
  },
  {
   "cell_type": "code",
   "execution_count": 73,
   "metadata": {},
   "outputs": [],
   "source": [
    "n_splits = 5\n",
    "df = central[['Gender', 'Family_ID']]\n",
    "\n",
    "# group based on family\n",
    "groups = df['Family_ID'].to_numpy()\n",
    "\n",
    "# labels are sex only\n",
    "labels = df['Gender'].to_numpy()"
   ]
  },
  {
   "cell_type": "code",
   "execution_count": 74,
   "metadata": {},
   "outputs": [],
   "source": [
    "stratifier = StratifiedGroupKFold(\n",
    "    n_splits=n_splits, shuffle=False)\n",
    "results = []\n",
    "for indices in stratifier.split(df.to_numpy(), labels, groups):\n",
    "    results.append(df.iloc[indices[1]])"
   ]
  },
  {
   "cell_type": "code",
   "execution_count": 75,
   "metadata": {},
   "outputs": [
    {
     "name": "stdout",
     "output_type": "stream",
     "text": [
      "query   : #rows      : #rows per fold\n",
      "\n",
      "M : total = 388 : per fold = 78 - 78 - 78 - 77 - 77 - \n",
      "F : total = 494 : per fold = 99 - 99 - 99 - 98 - 99 - \n",
      "\n",
      "lengths of folds :  177 177 177 175 176 \n",
      "Expected total_length = 882\n",
      "Effective total_length = 882\n",
      "total number of stratification errors: 0\n",
      "total number of mismatched fold sizes : 0\n",
      "number of common families = 0 over 378 total families\n"
     ]
    }
   ],
   "source": [
    "print_results(central, results, ['Gender'], True)\n",
    "how_many_common_families(central, results)"
   ]
  },
  {
   "cell_type": "code",
   "execution_count": 76,
   "metadata": {},
   "outputs": [],
   "source": [
    "results[-1].reset_index()['Subject'].to_csv(\n",
    "    f\"{save_path}/test_split.csv\",\n",
    "    header=False,\n",
    "    index=False,\n",
    "    quoting=csv.QUOTE_ALL)"
   ]
  },
  {
   "cell_type": "markdown",
   "metadata": {},
   "source": [
    "# Step 2 : split remaining 80% in 5 for cross val and train eval"
   ]
  },
  {
   "cell_type": "code",
   "execution_count": 77,
   "metadata": {},
   "outputs": [],
   "source": [
    "central_train_val = central.drop(index=results[-1].index.to_list())"
   ]
  },
  {
   "cell_type": "code",
   "execution_count": 78,
   "metadata": {},
   "outputs": [],
   "source": [
    "# repeat the process\n",
    "n_splits = 5\n",
    "df = central_train_val[['Gender', 'Family_ID']]\n",
    "\n",
    "# group based on family\n",
    "groups = df['Family_ID'].to_numpy()\n",
    "\n",
    "# labels are sex only\n",
    "labels = df['Gender'].to_numpy()"
   ]
  },
  {
   "cell_type": "code",
   "execution_count": 79,
   "metadata": {},
   "outputs": [],
   "source": [
    "stratifier = StratifiedGroupKFold(\n",
    "    n_splits=n_splits, shuffle=False)\n",
    "results = []\n",
    "for indices in stratifier.split(df.to_numpy(), labels, groups):\n",
    "    results.append(df.iloc[indices[1]])"
   ]
  },
  {
   "cell_type": "code",
   "execution_count": 80,
   "metadata": {},
   "outputs": [
    {
     "name": "stdout",
     "output_type": "stream",
     "text": [
      "query   : #rows      : #rows per fold\n",
      "\n",
      "F : total = 395 : per fold = 79 - 79 - 79 - 79 - 79 - \n",
      "M : total = 311 : per fold = 62 - 62 - 62 - 62 - 63 - \n",
      "\n",
      "lengths of folds :  141 141 141 141 142 \n",
      "Expected total_length = 706\n",
      "Effective total_length = 706\n",
      "total number of stratification errors: 0\n",
      "total number of mismatched fold sizes : 0\n",
      "number of common families = 0 over 302 total families\n"
     ]
    }
   ],
   "source": [
    "print_results(central_train_val, results, ['Gender'], True)\n",
    "how_many_common_families(central_train_val, results)"
   ]
  },
  {
   "cell_type": "code",
   "execution_count": 81,
   "metadata": {},
   "outputs": [],
   "source": [
    "# save folds\n",
    "for i in range(len(results)):\n",
    "    results[i].reset_index()['Subject'].to_csv(\n",
    "        f\"{save_path}/train_val_split_{i}.csv\",\n",
    "        header=False,\n",
    "        index=False,\n",
    "        quoting=csv.QUOTE_ALL)"
   ]
  },
  {
   "cell_type": "code",
   "execution_count": null,
   "metadata": {},
   "outputs": [],
   "source": []
  }
 ],
 "metadata": {
  "kernelspec": {
   "display_name": "venv",
   "language": "python",
   "name": "python3"
  },
  "language_info": {
   "codemirror_mode": {
    "name": "ipython",
    "version": 3
   },
   "file_extension": ".py",
   "mimetype": "text/x-python",
   "name": "python",
   "nbconvert_exporter": "python",
   "pygments_lexer": "ipython3",
   "version": "3.10.12"
  }
 },
 "nbformat": 4,
 "nbformat_minor": 2
}
