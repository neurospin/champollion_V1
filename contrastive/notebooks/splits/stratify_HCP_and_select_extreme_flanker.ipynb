{
 "cells": [
  {
   "attachments": {},
   "cell_type": "markdown",
   "metadata": {},
   "source": [
    "This notebook produces a train/val/test stratifying according to zygocity and gender. It also takes only subjects with Flanker values below and above 25 and 75-percentile. "
   ]
  },
  {
   "cell_type": "code",
   "execution_count": 1,
   "metadata": {},
   "outputs": [],
   "source": [
    "import glob\n",
    "\n",
    "import numpy as np\n",
    "import matplotlib.pyplot as plt\n",
    "import pandas as pd\n",
    "import numpy as np\n",
    "import scipy.stats\n",
    "import seaborn as sns\n",
    "\n",
    "pd.options.display.max_rows = 20"
   ]
  },
  {
   "attachments": {},
   "cell_type": "markdown",
   "metadata": {},
   "source": [
    "# Gets subjects treated with morphologist with relevant columns"
   ]
  },
  {
   "cell_type": "code",
   "execution_count": 2,
   "metadata": {},
   "outputs": [
    {
     "data": {
      "text/html": [
       "<div>\n",
       "<style scoped>\n",
       "    .dataframe tbody tr th:only-of-type {\n",
       "        vertical-align: middle;\n",
       "    }\n",
       "\n",
       "    .dataframe tbody tr th {\n",
       "        vertical-align: top;\n",
       "    }\n",
       "\n",
       "    .dataframe thead th {\n",
       "        text-align: right;\n",
       "    }\n",
       "</style>\n",
       "<table border=\"1\" class=\"dataframe\">\n",
       "  <thead>\n",
       "    <tr style=\"text-align: right;\">\n",
       "      <th></th>\n",
       "      <th>Subject</th>\n",
       "      <th>Gender</th>\n",
       "      <th>Flanker_AgeAdj</th>\n",
       "    </tr>\n",
       "  </thead>\n",
       "  <tbody>\n",
       "    <tr>\n",
       "      <th>0</th>\n",
       "      <td>100004</td>\n",
       "      <td>M</td>\n",
       "      <td>111.01</td>\n",
       "    </tr>\n",
       "    <tr>\n",
       "      <th>1</th>\n",
       "      <td>100206</td>\n",
       "      <td>M</td>\n",
       "      <td>116.55</td>\n",
       "    </tr>\n",
       "    <tr>\n",
       "      <th>2</th>\n",
       "      <td>100307</td>\n",
       "      <td>F</td>\n",
       "      <td>101.90</td>\n",
       "    </tr>\n",
       "    <tr>\n",
       "      <th>3</th>\n",
       "      <td>100408</td>\n",
       "      <td>M</td>\n",
       "      <td>113.51</td>\n",
       "    </tr>\n",
       "    <tr>\n",
       "      <th>4</th>\n",
       "      <td>100610</td>\n",
       "      <td>M</td>\n",
       "      <td>114.18</td>\n",
       "    </tr>\n",
       "  </tbody>\n",
       "</table>\n",
       "</div>"
      ],
      "text/plain": [
       "   Subject Gender  Flanker_AgeAdj\n",
       "0   100004      M          111.01\n",
       "1   100206      M          116.55\n",
       "2   100307      F          101.90\n",
       "3   100408      M          113.51\n",
       "4   100610      M          114.18"
      ]
     },
     "execution_count": 2,
     "metadata": {},
     "output_type": "execute_result"
    }
   ],
   "source": [
    "participants_file = \"/neurospin/dico/data/bv_databases/human/not_labeled/hcp/participants.csv\"\n",
    "participants_unrestricted = pd.read_csv(participants_file)\n",
    "participants_unrestricted = participants_unrestricted[['Subject', \"Gender\", \"Flanker_AgeAdj\"]]\n",
    "participants_unrestricted.head()\n"
   ]
  },
  {
   "cell_type": "code",
   "execution_count": 3,
   "metadata": {},
   "outputs": [
    {
     "data": {
      "text/plain": [
       "1206"
      ]
     },
     "execution_count": 3,
     "metadata": {},
     "output_type": "execute_result"
    }
   ],
   "source": [
    "len(participants_unrestricted)"
   ]
  },
  {
   "cell_type": "code",
   "execution_count": 4,
   "metadata": {},
   "outputs": [
    {
     "data": {
      "text/plain": [
       "1206"
      ]
     },
     "execution_count": 4,
     "metadata": {},
     "output_type": "execute_result"
    }
   ],
   "source": [
    "participants_file = \"~/RESTRICTED_jchavas_1_18_2022_3_17_51.csv\"\n",
    "participants = pd.read_csv(participants_file)\n",
    "len(participants)"
   ]
  },
  {
   "cell_type": "code",
   "execution_count": 5,
   "metadata": {},
   "outputs": [
    {
     "data": {
      "text/html": [
       "<div>\n",
       "<style scoped>\n",
       "    .dataframe tbody tr th:only-of-type {\n",
       "        vertical-align: middle;\n",
       "    }\n",
       "\n",
       "    .dataframe tbody tr th {\n",
       "        vertical-align: top;\n",
       "    }\n",
       "\n",
       "    .dataframe thead th {\n",
       "        text-align: right;\n",
       "    }\n",
       "</style>\n",
       "<table border=\"1\" class=\"dataframe\">\n",
       "  <thead>\n",
       "    <tr style=\"text-align: right;\">\n",
       "      <th></th>\n",
       "      <th>Subject</th>\n",
       "      <th>ZygosityGT</th>\n",
       "      <th>Family_ID</th>\n",
       "    </tr>\n",
       "  </thead>\n",
       "  <tbody>\n",
       "    <tr>\n",
       "      <th>0</th>\n",
       "      <td>100004</td>\n",
       "      <td></td>\n",
       "      <td>52259_82122</td>\n",
       "    </tr>\n",
       "    <tr>\n",
       "      <th>1</th>\n",
       "      <td>100206</td>\n",
       "      <td></td>\n",
       "      <td>56037_85858</td>\n",
       "    </tr>\n",
       "    <tr>\n",
       "      <th>2</th>\n",
       "      <td>100307</td>\n",
       "      <td>MZ</td>\n",
       "      <td>51488_81352</td>\n",
       "    </tr>\n",
       "    <tr>\n",
       "      <th>3</th>\n",
       "      <td>100408</td>\n",
       "      <td>MZ</td>\n",
       "      <td>51730_81594</td>\n",
       "    </tr>\n",
       "    <tr>\n",
       "      <th>4</th>\n",
       "      <td>100610</td>\n",
       "      <td>DZ</td>\n",
       "      <td>52813_82634</td>\n",
       "    </tr>\n",
       "  </tbody>\n",
       "</table>\n",
       "</div>"
      ],
      "text/plain": [
       "   Subject ZygosityGT    Family_ID\n",
       "0   100004             52259_82122\n",
       "1   100206             56037_85858\n",
       "2   100307         MZ  51488_81352\n",
       "3   100408         MZ  51730_81594\n",
       "4   100610         DZ  52813_82634"
      ]
     },
     "execution_count": 5,
     "metadata": {},
     "output_type": "execute_result"
    }
   ],
   "source": [
    "participants = participants[['Subject', 'ZygosityGT', 'Family_ID']]\n",
    "participants.head()"
   ]
  },
  {
   "cell_type": "code",
   "execution_count": 6,
   "metadata": {},
   "outputs": [
    {
     "data": {
      "text/html": [
       "<div>\n",
       "<style scoped>\n",
       "    .dataframe tbody tr th:only-of-type {\n",
       "        vertical-align: middle;\n",
       "    }\n",
       "\n",
       "    .dataframe tbody tr th {\n",
       "        vertical-align: top;\n",
       "    }\n",
       "\n",
       "    .dataframe thead th {\n",
       "        text-align: right;\n",
       "    }\n",
       "</style>\n",
       "<table border=\"1\" class=\"dataframe\">\n",
       "  <thead>\n",
       "    <tr style=\"text-align: right;\">\n",
       "      <th></th>\n",
       "      <th>Subject</th>\n",
       "      <th>Gender</th>\n",
       "      <th>Flanker_AgeAdj</th>\n",
       "      <th>ZygosityGT</th>\n",
       "      <th>Family_ID</th>\n",
       "    </tr>\n",
       "  </thead>\n",
       "  <tbody>\n",
       "    <tr>\n",
       "      <th>0</th>\n",
       "      <td>100004</td>\n",
       "      <td>M</td>\n",
       "      <td>111.01</td>\n",
       "      <td></td>\n",
       "      <td>52259_82122</td>\n",
       "    </tr>\n",
       "    <tr>\n",
       "      <th>1</th>\n",
       "      <td>100206</td>\n",
       "      <td>M</td>\n",
       "      <td>116.55</td>\n",
       "      <td></td>\n",
       "      <td>56037_85858</td>\n",
       "    </tr>\n",
       "    <tr>\n",
       "      <th>2</th>\n",
       "      <td>100307</td>\n",
       "      <td>F</td>\n",
       "      <td>101.90</td>\n",
       "      <td>MZ</td>\n",
       "      <td>51488_81352</td>\n",
       "    </tr>\n",
       "    <tr>\n",
       "      <th>3</th>\n",
       "      <td>100408</td>\n",
       "      <td>M</td>\n",
       "      <td>113.51</td>\n",
       "      <td>MZ</td>\n",
       "      <td>51730_81594</td>\n",
       "    </tr>\n",
       "    <tr>\n",
       "      <th>4</th>\n",
       "      <td>100610</td>\n",
       "      <td>M</td>\n",
       "      <td>114.18</td>\n",
       "      <td>DZ</td>\n",
       "      <td>52813_82634</td>\n",
       "    </tr>\n",
       "  </tbody>\n",
       "</table>\n",
       "</div>"
      ],
      "text/plain": [
       "   Subject Gender  Flanker_AgeAdj ZygosityGT    Family_ID\n",
       "0   100004      M          111.01             52259_82122\n",
       "1   100206      M          116.55             56037_85858\n",
       "2   100307      F          101.90         MZ  51488_81352\n",
       "3   100408      M          113.51         MZ  51730_81594\n",
       "4   100610      M          114.18         DZ  52813_82634"
      ]
     },
     "execution_count": 6,
     "metadata": {},
     "output_type": "execute_result"
    }
   ],
   "source": [
    "participants = pd.merge(participants_unrestricted, participants)\n",
    "participants.head()"
   ]
  },
  {
   "cell_type": "code",
   "execution_count": 7,
   "metadata": {},
   "outputs": [],
   "source": [
    "participants.loc[(participants['ZygosityGT']== \" \"), 'ZygosityGT'] = 'NotTwin'  \n",
    "participants['Subject'] = participants['Subject'].astype('string')\n"
   ]
  },
  {
   "cell_type": "code",
   "execution_count": 8,
   "metadata": {},
   "outputs": [
    {
     "name": "stdout",
     "output_type": "stream",
     "text": [
      "Subject           string[python]\n",
      "Gender                    object\n",
      "Flanker_AgeAdj           float64\n",
      "ZygosityGT                object\n",
      "Family_ID                 object\n",
      "dtype: object\n"
     ]
    },
    {
     "data": {
      "text/html": [
       "<div>\n",
       "<style scoped>\n",
       "    .dataframe tbody tr th:only-of-type {\n",
       "        vertical-align: middle;\n",
       "    }\n",
       "\n",
       "    .dataframe tbody tr th {\n",
       "        vertical-align: top;\n",
       "    }\n",
       "\n",
       "    .dataframe thead th {\n",
       "        text-align: right;\n",
       "    }\n",
       "</style>\n",
       "<table border=\"1\" class=\"dataframe\">\n",
       "  <thead>\n",
       "    <tr style=\"text-align: right;\">\n",
       "      <th></th>\n",
       "      <th>Subject</th>\n",
       "      <th>Gender</th>\n",
       "      <th>Flanker_AgeAdj</th>\n",
       "      <th>ZygosityGT</th>\n",
       "      <th>Family_ID</th>\n",
       "    </tr>\n",
       "  </thead>\n",
       "  <tbody>\n",
       "    <tr>\n",
       "      <th>0</th>\n",
       "      <td>100004</td>\n",
       "      <td>M</td>\n",
       "      <td>111.01</td>\n",
       "      <td>NotTwin</td>\n",
       "      <td>52259_82122</td>\n",
       "    </tr>\n",
       "    <tr>\n",
       "      <th>1</th>\n",
       "      <td>100206</td>\n",
       "      <td>M</td>\n",
       "      <td>116.55</td>\n",
       "      <td>NotTwin</td>\n",
       "      <td>56037_85858</td>\n",
       "    </tr>\n",
       "    <tr>\n",
       "      <th>2</th>\n",
       "      <td>100307</td>\n",
       "      <td>F</td>\n",
       "      <td>101.90</td>\n",
       "      <td>MZ</td>\n",
       "      <td>51488_81352</td>\n",
       "    </tr>\n",
       "    <tr>\n",
       "      <th>3</th>\n",
       "      <td>100408</td>\n",
       "      <td>M</td>\n",
       "      <td>113.51</td>\n",
       "      <td>MZ</td>\n",
       "      <td>51730_81594</td>\n",
       "    </tr>\n",
       "    <tr>\n",
       "      <th>4</th>\n",
       "      <td>100610</td>\n",
       "      <td>M</td>\n",
       "      <td>114.18</td>\n",
       "      <td>DZ</td>\n",
       "      <td>52813_82634</td>\n",
       "    </tr>\n",
       "  </tbody>\n",
       "</table>\n",
       "</div>"
      ],
      "text/plain": [
       "  Subject Gender  Flanker_AgeAdj ZygosityGT    Family_ID\n",
       "0  100004      M          111.01    NotTwin  52259_82122\n",
       "1  100206      M          116.55    NotTwin  56037_85858\n",
       "2  100307      F          101.90         MZ  51488_81352\n",
       "3  100408      M          113.51         MZ  51730_81594\n",
       "4  100610      M          114.18         DZ  52813_82634"
      ]
     },
     "execution_count": 8,
     "metadata": {},
     "output_type": "execute_result"
    }
   ],
   "source": [
    "print(participants.dtypes)\n",
    "participants.head()"
   ]
  },
  {
   "cell_type": "code",
   "execution_count": 9,
   "metadata": {},
   "outputs": [
    {
     "name": "stdout",
     "output_type": "stream",
     "text": [
      "['210112', '579665', '922854', '517239', '329440']\n"
     ]
    },
    {
     "data": {
      "text/plain": [
       "1114"
      ]
     },
     "execution_count": 9,
     "metadata": {},
     "output_type": "execute_result"
    }
   ],
   "source": [
    "treated_subjects = glob.glob(\"/neurospin/dico/data/bv_databases/human/not_labeled/hcp/hcp/*[!.minf]\")\n",
    "treated_subjects = [x.split('/')[-1] for x in treated_subjects]\n",
    "treated_subjects = [x for x in treated_subjects if 'database' not in x]\n",
    "print(treated_subjects[:5])\n",
    "len(treated_subjects)"
   ]
  },
  {
   "cell_type": "code",
   "execution_count": 10,
   "metadata": {},
   "outputs": [
    {
     "data": {
      "text/plain": [
       "Subject           string[python]\n",
       "Gender                    object\n",
       "Flanker_AgeAdj           float64\n",
       "ZygosityGT                object\n",
       "Family_ID                 object\n",
       "dtype: object"
      ]
     },
     "execution_count": 10,
     "metadata": {},
     "output_type": "execute_result"
    }
   ],
   "source": [
    "participants.dtypes"
   ]
  },
  {
   "cell_type": "code",
   "execution_count": 11,
   "metadata": {},
   "outputs": [],
   "source": [
    "participants = participants[participants['Subject'].isin(treated_subjects)]"
   ]
  },
  {
   "cell_type": "code",
   "execution_count": 12,
   "metadata": {},
   "outputs": [
    {
     "data": {
      "text/plain": [
       "1113"
      ]
     },
     "execution_count": 12,
     "metadata": {},
     "output_type": "execute_result"
    }
   ],
   "source": [
    "len(participants)"
   ]
  },
  {
   "cell_type": "code",
   "execution_count": 13,
   "metadata": {},
   "outputs": [
    {
     "data": {
      "text/plain": [
       "{'142626'}"
      ]
     },
     "execution_count": 13,
     "metadata": {},
     "output_type": "execute_result"
    }
   ],
   "source": [
    "set(treated_subjects) - set(participants['Subject'])"
   ]
  },
  {
   "attachments": {},
   "cell_type": "markdown",
   "metadata": {},
   "source": [
    "# Separates according to gender and zygocity"
   ]
  },
  {
   "cell_type": "code",
   "execution_count": 14,
   "metadata": {},
   "outputs": [
    {
     "data": {
      "text/plain": [
       "{'DZ', 'MZ', 'NotTwin'}"
      ]
     },
     "execution_count": 14,
     "metadata": {},
     "output_type": "execute_result"
    }
   ],
   "source": [
    "set(participants['ZygosityGT'].tolist())"
   ]
  },
  {
   "cell_type": "code",
   "execution_count": 15,
   "metadata": {},
   "outputs": [],
   "source": [
    "def create_subset(df, gender, zygosityGT):\n",
    "    \"\"\"Creates a subset of participants.\n",
    "    \n",
    "    The subset corresponds to the values of column gender and zygosityGT\"\"\"\n",
    "    subset = df[(df['Gender']==gender) & (df['ZygosityGT']==zygosityGT)]\n",
    "    subset = subset.groupby(by='Family_ID', as_index=False).apply(lambda x: x)\n",
    "\n",
    "    return subset"
   ]
  },
  {
   "cell_type": "code",
   "execution_count": 16,
   "metadata": {},
   "outputs": [
    {
     "data": {
      "text/html": [
       "<div>\n",
       "<style scoped>\n",
       "    .dataframe tbody tr th:only-of-type {\n",
       "        vertical-align: middle;\n",
       "    }\n",
       "\n",
       "    .dataframe tbody tr th {\n",
       "        vertical-align: top;\n",
       "    }\n",
       "\n",
       "    .dataframe thead th {\n",
       "        text-align: right;\n",
       "    }\n",
       "</style>\n",
       "<table border=\"1\" class=\"dataframe\">\n",
       "  <thead>\n",
       "    <tr style=\"text-align: right;\">\n",
       "      <th></th>\n",
       "      <th></th>\n",
       "      <th>Subject</th>\n",
       "      <th>Gender</th>\n",
       "      <th>Flanker_AgeAdj</th>\n",
       "      <th>ZygosityGT</th>\n",
       "      <th>Family_ID</th>\n",
       "    </tr>\n",
       "  </thead>\n",
       "  <tbody>\n",
       "    <tr>\n",
       "      <th rowspan=\"2\" valign=\"top\">0</th>\n",
       "      <th>632</th>\n",
       "      <td>233326</td>\n",
       "      <td>M</td>\n",
       "      <td>114.95</td>\n",
       "      <td>MZ</td>\n",
       "      <td>51698_81562</td>\n",
       "    </tr>\n",
       "    <tr>\n",
       "      <th>719</th>\n",
       "      <td>352738</td>\n",
       "      <td>M</td>\n",
       "      <td>120.15</td>\n",
       "      <td>MZ</td>\n",
       "      <td>51698_81562</td>\n",
       "    </tr>\n",
       "    <tr>\n",
       "      <th rowspan=\"2\" valign=\"top\">1</th>\n",
       "      <th>253</th>\n",
       "      <td>146432</td>\n",
       "      <td>M</td>\n",
       "      <td>108.16</td>\n",
       "      <td>MZ</td>\n",
       "      <td>51702_81566</td>\n",
       "    </tr>\n",
       "    <tr>\n",
       "      <th>1077</th>\n",
       "      <td>818859</td>\n",
       "      <td>M</td>\n",
       "      <td>96.24</td>\n",
       "      <td>MZ</td>\n",
       "      <td>51702_81566</td>\n",
       "    </tr>\n",
       "    <tr>\n",
       "      <th>2</th>\n",
       "      <th>155</th>\n",
       "      <td>128935</td>\n",
       "      <td>M</td>\n",
       "      <td>108.56</td>\n",
       "      <td>MZ</td>\n",
       "      <td>51707_81571</td>\n",
       "    </tr>\n",
       "  </tbody>\n",
       "</table>\n",
       "</div>"
      ],
      "text/plain": [
       "       Subject Gender  Flanker_AgeAdj ZygosityGT    Family_ID\n",
       "0 632   233326      M          114.95         MZ  51698_81562\n",
       "  719   352738      M          120.15         MZ  51698_81562\n",
       "1 253   146432      M          108.16         MZ  51702_81566\n",
       "  1077  818859      M           96.24         MZ  51702_81566\n",
       "2 155   128935      M          108.56         MZ  51707_81571"
      ]
     },
     "execution_count": 16,
     "metadata": {},
     "output_type": "execute_result"
    }
   ],
   "source": [
    "M_MZ = create_subset(participants, 'M', 'MZ')\n",
    "F_MZ = create_subset(participants, 'F', 'MZ')\n",
    "M_DZ = create_subset(participants, 'M', 'DZ')\n",
    "F_DZ = create_subset(participants, 'F', 'DZ')\n",
    "M_NotTwin = create_subset(participants, 'M', 'NotTwin')\n",
    "F_NotTwin = create_subset(participants, 'F', 'NotTwin')\n",
    "M_MZ.head()"
   ]
  },
  {
   "cell_type": "code",
   "execution_count": 17,
   "metadata": {},
   "outputs": [
    {
     "data": {
      "text/html": [
       "<div>\n",
       "<style scoped>\n",
       "    .dataframe tbody tr th:only-of-type {\n",
       "        vertical-align: middle;\n",
       "    }\n",
       "\n",
       "    .dataframe tbody tr th {\n",
       "        vertical-align: top;\n",
       "    }\n",
       "\n",
       "    .dataframe thead th {\n",
       "        text-align: right;\n",
       "    }\n",
       "</style>\n",
       "<table border=\"1\" class=\"dataframe\">\n",
       "  <thead>\n",
       "    <tr style=\"text-align: right;\">\n",
       "      <th></th>\n",
       "      <th></th>\n",
       "      <th>Subject</th>\n",
       "      <th>Gender</th>\n",
       "      <th>Flanker_AgeAdj</th>\n",
       "      <th>ZygosityGT</th>\n",
       "      <th>Family_ID</th>\n",
       "    </tr>\n",
       "  </thead>\n",
       "  <tbody>\n",
       "    <tr>\n",
       "      <th>0</th>\n",
       "      <th>130</th>\n",
       "      <td>123723</td>\n",
       "      <td>F</td>\n",
       "      <td>99.98</td>\n",
       "      <td>MZ</td>\n",
       "      <td>51106_80975</td>\n",
       "    </tr>\n",
       "  </tbody>\n",
       "</table>\n",
       "</div>"
      ],
      "text/plain": [
       "      Subject Gender  Flanker_AgeAdj ZygosityGT    Family_ID\n",
       "0 130  123723      F           99.98         MZ  51106_80975"
      ]
     },
     "execution_count": 17,
     "metadata": {},
     "output_type": "execute_result"
    }
   ],
   "source": [
    "F_MZ[F_MZ.Family_ID==\"51106_80975\"]"
   ]
  },
  {
   "cell_type": "markdown",
   "metadata": {},
   "source": [
    "# Stratify"
   ]
  },
  {
   "cell_type": "code",
   "execution_count": 18,
   "metadata": {},
   "outputs": [],
   "source": [
    "partition = [0.7,0.15,0.15]"
   ]
  },
  {
   "cell_type": "code",
   "execution_count": 19,
   "metadata": {},
   "outputs": [],
   "source": [
    "def get_train(df, partition):\n",
    "    df = df.copy(deep=True)\n",
    "    upper = int(len(df)*partition[0]/2)*2\n",
    "    return df[0:upper]\n",
    "\n",
    "def get_val(df, partition):\n",
    "    df = df.copy(deep=True)\n",
    "    lower = int(len(df)*partition[0]/2)*2\n",
    "    upper = int(len(df)*(partition[0]+partition[1])/2)*2\n",
    "    return df[lower:upper]\n",
    "\n",
    "def get_test(df, partition):\n",
    "    df = df.copy(deep=True)\n",
    "    lower = int(len(df)*(partition[0]+partition[1])/2)*2\n",
    "    return df[lower:]\n"
   ]
  },
  {
   "cell_type": "code",
   "execution_count": 20,
   "metadata": {},
   "outputs": [
    {
     "data": {
      "text/plain": [
       "Subject           string[python]\n",
       "Gender                    object\n",
       "Flanker_AgeAdj           float64\n",
       "ZygosityGT                object\n",
       "Family_ID                 object\n",
       "dtype: object"
      ]
     },
     "execution_count": 20,
     "metadata": {},
     "output_type": "execute_result"
    }
   ],
   "source": [
    "participants.dtypes"
   ]
  },
  {
   "cell_type": "code",
   "execution_count": 21,
   "metadata": {},
   "outputs": [],
   "source": [
    "def partition_subset(df, partition):\n",
    "    train = get_train(df, partition)\n",
    "    val = get_val(df, partition)\n",
    "    test = get_test(df, partition)\n",
    "    print(f\"lengths: {len(df)} = {len(train) + len(val) + len(test)} = {len(train)} + {len(val)} + {len(test)}\")\n",
    "    return train, val, test"
   ]
  },
  {
   "cell_type": "code",
   "execution_count": 22,
   "metadata": {},
   "outputs": [],
   "source": [
    "def put_together(df, partition, alls):\n",
    "    train, val, test = partition_subset(df, partition)\n",
    "    alls['train'] = pd.concat([alls['train'], train], ignore_index=True)\n",
    "    alls['val']   = pd.concat([alls['val'], val], ignore_index=True)\n",
    "    alls['test']  = pd.concat([alls['test'], test], ignore_index=True)\n",
    "    return alls"
   ]
  },
  {
   "cell_type": "code",
   "execution_count": 23,
   "metadata": {},
   "outputs": [],
   "source": [
    "alls = {}\n",
    "alls['train'] = pd.DataFrame(columns=participants.columns).astype(participants.dtypes.to_dict())\n",
    "alls['val']   = val = pd.DataFrame(columns=participants.columns).astype(participants.dtypes.to_dict())\n",
    "alls['test']  = pd.DataFrame(columns=participants.columns).astype(participants.dtypes.to_dict())\n",
    "\n"
   ]
  },
  {
   "cell_type": "code",
   "execution_count": 24,
   "metadata": {},
   "outputs": [
    {
     "name": "stdout",
     "output_type": "stream",
     "text": [
      "lengths: 118 = 118 = 82 + 18 + 18\n",
      "lengths: 168 = 168 = 116 + 26 + 26\n",
      "lengths: 64 = 64 = 44 + 10 + 10\n",
      "lengths: 106 = 106 = 74 + 16 + 16\n",
      "lengths: 325 = 325 = 226 + 50 + 49\n",
      "lengths: 332 = 332 = 232 + 50 + 50\n"
     ]
    }
   ],
   "source": [
    "alls = put_together(M_MZ, partition, alls)\n",
    "alls = put_together(F_MZ, partition, alls)\n",
    "alls = put_together(M_DZ, partition, alls)\n",
    "alls = put_together(F_DZ, partition, alls)\n",
    "alls = put_together(M_NotTwin, partition, alls)\n",
    "alls = put_together(F_NotTwin, partition, alls)\n",
    "alls['train_val'] = pd.concat([alls['train'], alls['val']], ignore_index=True)"
   ]
  },
  {
   "cell_type": "code",
   "execution_count": 25,
   "metadata": {},
   "outputs": [
    {
     "data": {
      "text/html": [
       "<div>\n",
       "<style scoped>\n",
       "    .dataframe tbody tr th:only-of-type {\n",
       "        vertical-align: middle;\n",
       "    }\n",
       "\n",
       "    .dataframe tbody tr th {\n",
       "        vertical-align: top;\n",
       "    }\n",
       "\n",
       "    .dataframe thead th {\n",
       "        text-align: right;\n",
       "    }\n",
       "</style>\n",
       "<table border=\"1\" class=\"dataframe\">\n",
       "  <thead>\n",
       "    <tr style=\"text-align: right;\">\n",
       "      <th></th>\n",
       "      <th>Subject</th>\n",
       "      <th>Gender</th>\n",
       "      <th>Flanker_AgeAdj</th>\n",
       "      <th>ZygosityGT</th>\n",
       "      <th>Family_ID</th>\n",
       "    </tr>\n",
       "  </thead>\n",
       "  <tbody>\n",
       "    <tr>\n",
       "      <th>18</th>\n",
       "      <td>263436</td>\n",
       "      <td>F</td>\n",
       "      <td>78.74</td>\n",
       "      <td>MZ</td>\n",
       "      <td>55651_85473</td>\n",
       "    </tr>\n",
       "    <tr>\n",
       "      <th>19</th>\n",
       "      <td>320826</td>\n",
       "      <td>F</td>\n",
       "      <td>100.58</td>\n",
       "      <td>MZ</td>\n",
       "      <td>55651_85473</td>\n",
       "    </tr>\n",
       "    <tr>\n",
       "      <th>20</th>\n",
       "      <td>200008</td>\n",
       "      <td>F</td>\n",
       "      <td>107.58</td>\n",
       "      <td>MZ</td>\n",
       "      <td>55686_85508</td>\n",
       "    </tr>\n",
       "    <tr>\n",
       "      <th>21</th>\n",
       "      <td>767464</td>\n",
       "      <td>F</td>\n",
       "      <td>107.67</td>\n",
       "      <td>MZ</td>\n",
       "      <td>55686_85508</td>\n",
       "    </tr>\n",
       "    <tr>\n",
       "      <th>22</th>\n",
       "      <td>130619</td>\n",
       "      <td>F</td>\n",
       "      <td>104.87</td>\n",
       "      <td>MZ</td>\n",
       "      <td>55694_85516</td>\n",
       "    </tr>\n",
       "    <tr>\n",
       "      <th>...</th>\n",
       "      <td>...</td>\n",
       "      <td>...</td>\n",
       "      <td>...</td>\n",
       "      <td>...</td>\n",
       "      <td>...</td>\n",
       "    </tr>\n",
       "    <tr>\n",
       "      <th>164</th>\n",
       "      <td>152427</td>\n",
       "      <td>F</td>\n",
       "      <td>100.34</td>\n",
       "      <td>NotTwin</td>\n",
       "      <td>56171_85990</td>\n",
       "    </tr>\n",
       "    <tr>\n",
       "      <th>165</th>\n",
       "      <td>828862</td>\n",
       "      <td>F</td>\n",
       "      <td>92.69</td>\n",
       "      <td>NotTwin</td>\n",
       "      <td>56171_85990</td>\n",
       "    </tr>\n",
       "    <tr>\n",
       "      <th>166</th>\n",
       "      <td>809252</td>\n",
       "      <td>F</td>\n",
       "      <td>114.29</td>\n",
       "      <td>NotTwin</td>\n",
       "      <td>56183_86002</td>\n",
       "    </tr>\n",
       "    <tr>\n",
       "      <th>167</th>\n",
       "      <td>114823</td>\n",
       "      <td>F</td>\n",
       "      <td>104.44</td>\n",
       "      <td>NotTwin</td>\n",
       "      <td>99996_99997</td>\n",
       "    </tr>\n",
       "    <tr>\n",
       "      <th>168</th>\n",
       "      <td>200917</td>\n",
       "      <td>F</td>\n",
       "      <td>83.96</td>\n",
       "      <td>NotTwin</td>\n",
       "      <td>99998_99999</td>\n",
       "    </tr>\n",
       "  </tbody>\n",
       "</table>\n",
       "<p>92 rows × 5 columns</p>\n",
       "</div>"
      ],
      "text/plain": [
       "    Subject Gender  Flanker_AgeAdj ZygosityGT    Family_ID\n",
       "18   263436      F           78.74         MZ  55651_85473\n",
       "19   320826      F          100.58         MZ  55651_85473\n",
       "20   200008      F          107.58         MZ  55686_85508\n",
       "21   767464      F          107.67         MZ  55686_85508\n",
       "22   130619      F          104.87         MZ  55694_85516\n",
       "..      ...    ...             ...        ...          ...\n",
       "164  152427      F          100.34    NotTwin  56171_85990\n",
       "165  828862      F           92.69    NotTwin  56171_85990\n",
       "166  809252      F          114.29    NotTwin  56183_86002\n",
       "167  114823      F          104.44    NotTwin  99996_99997\n",
       "168  200917      F           83.96    NotTwin  99998_99999\n",
       "\n",
       "[92 rows x 5 columns]"
      ]
     },
     "execution_count": 25,
     "metadata": {},
     "output_type": "execute_result"
    }
   ],
   "source": [
    "alls['test'][alls['test'].Gender == \"F\"]"
   ]
  },
  {
   "cell_type": "code",
   "execution_count": 26,
   "metadata": {},
   "outputs": [
    {
     "data": {
      "text/plain": [
       "1113"
      ]
     },
     "execution_count": 26,
     "metadata": {},
     "output_type": "execute_result"
    }
   ],
   "source": [
    "\n",
    "len(alls['train']) + len(alls['val']) + len(alls['test'])"
   ]
  },
  {
   "cell_type": "code",
   "execution_count": 27,
   "metadata": {},
   "outputs": [
    {
     "data": {
      "text/plain": [
       "944"
      ]
     },
     "execution_count": 27,
     "metadata": {},
     "output_type": "execute_result"
    }
   ],
   "source": [
    "len(alls['train_val'])"
   ]
  },
  {
   "cell_type": "code",
   "execution_count": 28,
   "metadata": {},
   "outputs": [
    {
     "data": {
      "text/plain": [
       "170"
      ]
     },
     "execution_count": 28,
     "metadata": {},
     "output_type": "execute_result"
    }
   ],
   "source": [
    "len(alls['val'])"
   ]
  },
  {
   "cell_type": "code",
   "execution_count": 29,
   "metadata": {},
   "outputs": [
    {
     "data": {
      "text/plain": [
       "169"
      ]
     },
     "execution_count": 29,
     "metadata": {},
     "output_type": "execute_result"
    }
   ],
   "source": [
    "len(alls['test'])"
   ]
  },
  {
   "cell_type": "code",
   "execution_count": 30,
   "metadata": {},
   "outputs": [],
   "source": [
    "output_dir = \"/neurospin/dico/data/deep_folding/current/datasets/hcp-top-separated/\"\n",
    "train_file = f\"{output_dir}train_subjects.csv\"\n",
    "val_file = f\"{output_dir}val_subjects.csv\"\n",
    "test_file = f\"{output_dir}test_subjects.csv\"\n",
    "alls['train']['Subject'].to_csv(train_file, index=False, header=False)\n",
    "alls['val']['Subject'].to_csv(val_file, index=False, header=False)\n",
    "alls['test']['Subject'].to_csv(test_file, index=False, header=False)"
   ]
  },
  {
   "cell_type": "code",
   "execution_count": 31,
   "metadata": {},
   "outputs": [
    {
     "name": "stdout",
     "output_type": "stream",
     "text": [
      "774\n"
     ]
    }
   ],
   "source": [
    "!more {train_file} | wc -l"
   ]
  },
  {
   "cell_type": "code",
   "execution_count": 32,
   "metadata": {},
   "outputs": [
    {
     "name": "stdout",
     "output_type": "stream",
     "text": [
      "170\n"
     ]
    }
   ],
   "source": [
    "!more {val_file} | wc -l"
   ]
  },
  {
   "cell_type": "code",
   "execution_count": 33,
   "metadata": {},
   "outputs": [
    {
     "name": "stdout",
     "output_type": "stream",
     "text": [
      "169\n"
     ]
    }
   ],
   "source": [
    "!more {test_file} | wc -l"
   ]
  },
  {
   "cell_type": "markdown",
   "metadata": {},
   "source": [
    "# Only keeps zygotes whose family_ID is present twice"
   ]
  },
  {
   "cell_type": "code",
   "execution_count": 34,
   "metadata": {},
   "outputs": [],
   "source": [
    "def keep_occurence_two(df, col = \"Family_ID\"):\n",
    "    occurences = df[col].value_counts().to_dict() # Creates  dictionary of number of occurences\n",
    "    df2 = df.copy(deep=True)\n",
    "    df2[\"occurences\"] = df2[col].apply(lambda x: occurences[x])\n",
    "    df2 = df2[df2[\"occurences\"] == 2]\n",
    "    # print(df2.head())\n",
    "    return df2\n"
   ]
  },
  {
   "cell_type": "code",
   "execution_count": 35,
   "metadata": {},
   "outputs": [],
   "source": [
    "F_MZ2 = keep_occurence_two(F_MZ)"
   ]
  },
  {
   "cell_type": "code",
   "execution_count": 36,
   "metadata": {},
   "outputs": [],
   "source": [
    "M_MZ2 = keep_occurence_two(M_MZ)"
   ]
  },
  {
   "cell_type": "code",
   "execution_count": 37,
   "metadata": {},
   "outputs": [],
   "source": [
    "F_DZ2 = keep_occurence_two(F_DZ)"
   ]
  },
  {
   "cell_type": "code",
   "execution_count": 38,
   "metadata": {},
   "outputs": [],
   "source": [
    "M_DZ2 = keep_occurence_two(M_DZ)"
   ]
  },
  {
   "cell_type": "markdown",
   "metadata": {},
   "source": [
    "# Plots Flanker between monozygotes and dizygotes"
   ]
  },
  {
   "cell_type": "code",
   "execution_count": 39,
   "metadata": {},
   "outputs": [],
   "source": [
    "def plot_correlation(df):\n",
    "    values = df[\"Flanker_AgeAdj\"].values\n",
    "    first = values[np.arange(0,len(values),2)]\n",
    "    second = values[np.arange(1,len(values),2)]\n",
    "    print(scipy.stats.pearsonr(first, second))\n",
    "    # plt.scatter(first, second)\n",
    "    dfplot = pd.DataFrame(np.array([first, second]).T, columns=[\"x\", \"y\"])\n",
    "    sns.lmplot(x=\"x\", y=\"y\", data=dfplot)"
   ]
  },
  {
   "cell_type": "code",
   "execution_count": 40,
   "metadata": {},
   "outputs": [
    {
     "name": "stdout",
     "output_type": "stream",
     "text": [
      "PearsonRResult(statistic=0.4485634367948502, pvalue=0.0004661626261346082)\n"
     ]
    },
    {
     "name": "stderr",
     "output_type": "stream",
     "text": [
      "/home/jc225751/Runs/61_classifier_regresser/Program/venv_natif/lib/python3.10/site-packages/seaborn/axisgrid.py:118: UserWarning: The figure layout has changed to tight\n",
      "  self._figure.tight_layout(*args, **kwargs)\n"
     ]
    },
    {
     "data": {
      "image/png": "[encoded data removed]",
      "text/plain": [
       "<Figure size 500x500 with 1 Axes>"
      ]
     },
     "metadata": {},
     "output_type": "display_data"
    }
   ],
   "source": [
    "plot_correlation(M_MZ2)"
   ]
  },
  {
   "cell_type": "code",
   "execution_count": 41,
   "metadata": {},
   "outputs": [
    {
     "name": "stdout",
     "output_type": "stream",
     "text": [
      "PearsonRResult(statistic=0.43593277484565124, pvalue=4.7448760529686195e-05)\n"
     ]
    },
    {
     "name": "stderr",
     "output_type": "stream",
     "text": [
      "/home/jc225751/Runs/61_classifier_regresser/Program/venv_natif/lib/python3.10/site-packages/seaborn/axisgrid.py:118: UserWarning: The figure layout has changed to tight\n",
      "  self._figure.tight_layout(*args, **kwargs)\n"
     ]
    },
    {
     "data": {
      "image/png": "[encoded data removed]",
      "text/plain": [
       "<Figure size 500x500 with 1 Axes>"
      ]
     },
     "metadata": {},
     "output_type": "display_data"
    }
   ],
   "source": [
    "plot_correlation(F_MZ2)"
   ]
  },
  {
   "cell_type": "code",
   "execution_count": 42,
   "metadata": {},
   "outputs": [
    {
     "name": "stdout",
     "output_type": "stream",
     "text": [
      "PearsonRResult(statistic=-0.22612174863077483, pvalue=0.22954493012848254)\n"
     ]
    },
    {
     "name": "stderr",
     "output_type": "stream",
     "text": [
      "/home/jc225751/Runs/61_classifier_regresser/Program/venv_natif/lib/python3.10/site-packages/seaborn/axisgrid.py:118: UserWarning: The figure layout has changed to tight\n",
      "  self._figure.tight_layout(*args, **kwargs)\n"
     ]
    },
    {
     "data": {
      "image/png": "[encoded data removed]",
      "text/plain": [
       "<Figure size 500x500 with 1 Axes>"
      ]
     },
     "metadata": {},
     "output_type": "display_data"
    }
   ],
   "source": [
    "plot_correlation(M_DZ2)"
   ]
  },
  {
   "cell_type": "code",
   "execution_count": 43,
   "metadata": {},
   "outputs": [
    {
     "name": "stdout",
     "output_type": "stream",
     "text": [
      "PearsonRResult(statistic=-0.050862391444666345, pvalue=0.72853848375605)\n"
     ]
    },
    {
     "name": "stderr",
     "output_type": "stream",
     "text": [
      "/home/jc225751/Runs/61_classifier_regresser/Program/venv_natif/lib/python3.10/site-packages/seaborn/axisgrid.py:118: UserWarning: The figure layout has changed to tight\n",
      "  self._figure.tight_layout(*args, **kwargs)\n"
     ]
    },
    {
     "data": {
      "image/png": "[encoded data removed]",
      "text/plain": [
       "<Figure size 500x500 with 1 Axes>"
      ]
     },
     "metadata": {},
     "output_type": "display_data"
    }
   ],
   "source": [
    "plot_correlation(F_DZ2)"
   ]
  },
  {
   "cell_type": "markdown",
   "metadata": {},
   "source": [
    "# Keeps extreme Flanker"
   ]
  },
  {
   "cell_type": "code",
   "execution_count": 44,
   "metadata": {},
   "outputs": [
    {
     "data": {
      "text/plain": [
       "1113"
      ]
     },
     "execution_count": 44,
     "metadata": {},
     "output_type": "execute_result"
    }
   ],
   "source": [
    "len(participants)"
   ]
  },
  {
   "cell_type": "code",
   "execution_count": 45,
   "metadata": {},
   "outputs": [
    {
     "data": {
      "text/html": [
       "<div>\n",
       "<style scoped>\n",
       "    .dataframe tbody tr th:only-of-type {\n",
       "        vertical-align: middle;\n",
       "    }\n",
       "\n",
       "    .dataframe tbody tr th {\n",
       "        vertical-align: top;\n",
       "    }\n",
       "\n",
       "    .dataframe thead th {\n",
       "        text-align: right;\n",
       "    }\n",
       "</style>\n",
       "<table border=\"1\" class=\"dataframe\">\n",
       "  <thead>\n",
       "    <tr style=\"text-align: right;\">\n",
       "      <th></th>\n",
       "      <th>Subject</th>\n",
       "      <th>Gender</th>\n",
       "      <th>Flanker_AgeAdj</th>\n",
       "      <th>ZygosityGT</th>\n",
       "      <th>Family_ID</th>\n",
       "    </tr>\n",
       "  </thead>\n",
       "  <tbody>\n",
       "    <tr>\n",
       "      <th>1</th>\n",
       "      <td>100206</td>\n",
       "      <td>M</td>\n",
       "      <td>116.55</td>\n",
       "      <td>NotTwin</td>\n",
       "      <td>56037_85858</td>\n",
       "    </tr>\n",
       "    <tr>\n",
       "      <th>2</th>\n",
       "      <td>100307</td>\n",
       "      <td>F</td>\n",
       "      <td>101.90</td>\n",
       "      <td>MZ</td>\n",
       "      <td>51488_81352</td>\n",
       "    </tr>\n",
       "    <tr>\n",
       "      <th>3</th>\n",
       "      <td>100408</td>\n",
       "      <td>M</td>\n",
       "      <td>113.51</td>\n",
       "      <td>MZ</td>\n",
       "      <td>51730_81594</td>\n",
       "    </tr>\n",
       "    <tr>\n",
       "      <th>4</th>\n",
       "      <td>100610</td>\n",
       "      <td>M</td>\n",
       "      <td>114.18</td>\n",
       "      <td>DZ</td>\n",
       "      <td>52813_82634</td>\n",
       "    </tr>\n",
       "    <tr>\n",
       "      <th>5</th>\n",
       "      <td>101006</td>\n",
       "      <td>F</td>\n",
       "      <td>92.33</td>\n",
       "      <td>NotTwin</td>\n",
       "      <td>51283_52850_81149</td>\n",
       "    </tr>\n",
       "  </tbody>\n",
       "</table>\n",
       "</div>"
      ],
      "text/plain": [
       "  Subject Gender  Flanker_AgeAdj ZygosityGT          Family_ID\n",
       "1  100206      M          116.55    NotTwin        56037_85858\n",
       "2  100307      F          101.90         MZ        51488_81352\n",
       "3  100408      M          113.51         MZ        51730_81594\n",
       "4  100610      M          114.18         DZ        52813_82634\n",
       "5  101006      F           92.33    NotTwin  51283_52850_81149"
      ]
     },
     "execution_count": 45,
     "metadata": {},
     "output_type": "execute_result"
    }
   ],
   "source": [
    "participants.head()"
   ]
  },
  {
   "cell_type": "code",
   "execution_count": 46,
   "metadata": {},
   "outputs": [
    {
     "name": "stdout",
     "output_type": "stream",
     "text": [
      "quantile 0.33: 97.5692; quantile 0.66: 106.9092\n"
     ]
    }
   ],
   "source": [
    "q_33 = participants['Flanker_AgeAdj'].quantile(q=0.33)\n",
    "q_66 = participants['Flanker_AgeAdj'].quantile(q=0.66)\n",
    "print(f\"quantile 0.33: {q_33}; quantile 0.66: {q_66}\")"
   ]
  },
  {
   "cell_type": "code",
   "execution_count": 47,
   "metadata": {},
   "outputs": [],
   "source": [
    "participants_extreme = participants[(participants.Flanker_AgeAdj < q_33) | (participants.Flanker_AgeAdj > q_66)]"
   ]
  },
  {
   "cell_type": "code",
   "execution_count": 48,
   "metadata": {},
   "outputs": [
    {
     "data": {
      "text/html": [
       "<div>\n",
       "<style scoped>\n",
       "    .dataframe tbody tr th:only-of-type {\n",
       "        vertical-align: middle;\n",
       "    }\n",
       "\n",
       "    .dataframe tbody tr th {\n",
       "        vertical-align: top;\n",
       "    }\n",
       "\n",
       "    .dataframe thead th {\n",
       "        text-align: right;\n",
       "    }\n",
       "</style>\n",
       "<table border=\"1\" class=\"dataframe\">\n",
       "  <thead>\n",
       "    <tr style=\"text-align: right;\">\n",
       "      <th></th>\n",
       "      <th></th>\n",
       "      <th>Subject</th>\n",
       "      <th>Gender</th>\n",
       "      <th>Flanker_AgeAdj</th>\n",
       "      <th>ZygosityGT</th>\n",
       "      <th>Family_ID</th>\n",
       "    </tr>\n",
       "  </thead>\n",
       "  <tbody>\n",
       "    <tr>\n",
       "      <th rowspan=\"2\" valign=\"top\">0</th>\n",
       "      <th>632</th>\n",
       "      <td>233326</td>\n",
       "      <td>M</td>\n",
       "      <td>114.95</td>\n",
       "      <td>MZ</td>\n",
       "      <td>51698_81562</td>\n",
       "    </tr>\n",
       "    <tr>\n",
       "      <th>719</th>\n",
       "      <td>352738</td>\n",
       "      <td>M</td>\n",
       "      <td>120.15</td>\n",
       "      <td>MZ</td>\n",
       "      <td>51698_81562</td>\n",
       "    </tr>\n",
       "    <tr>\n",
       "      <th rowspan=\"2\" valign=\"top\">1</th>\n",
       "      <th>253</th>\n",
       "      <td>146432</td>\n",
       "      <td>M</td>\n",
       "      <td>108.16</td>\n",
       "      <td>MZ</td>\n",
       "      <td>51702_81566</td>\n",
       "    </tr>\n",
       "    <tr>\n",
       "      <th>1077</th>\n",
       "      <td>818859</td>\n",
       "      <td>M</td>\n",
       "      <td>96.24</td>\n",
       "      <td>MZ</td>\n",
       "      <td>51702_81566</td>\n",
       "    </tr>\n",
       "    <tr>\n",
       "      <th>2</th>\n",
       "      <th>155</th>\n",
       "      <td>128935</td>\n",
       "      <td>M</td>\n",
       "      <td>108.56</td>\n",
       "      <td>MZ</td>\n",
       "      <td>51707_81571</td>\n",
       "    </tr>\n",
       "  </tbody>\n",
       "</table>\n",
       "</div>"
      ],
      "text/plain": [
       "       Subject Gender  Flanker_AgeAdj ZygosityGT    Family_ID\n",
       "0 632   233326      M          114.95         MZ  51698_81562\n",
       "  719   352738      M          120.15         MZ  51698_81562\n",
       "1 253   146432      M          108.16         MZ  51702_81566\n",
       "  1077  818859      M           96.24         MZ  51702_81566\n",
       "2 155   128935      M          108.56         MZ  51707_81571"
      ]
     },
     "execution_count": 48,
     "metadata": {},
     "output_type": "execute_result"
    }
   ],
   "source": [
    "eM_MZ = create_subset(participants_extreme, 'M', 'MZ')\n",
    "eF_MZ = create_subset(participants_extreme, 'F', 'MZ')\n",
    "eM_DZ = create_subset(participants_extreme, 'M', 'DZ')\n",
    "eF_DZ = create_subset(participants_extreme, 'F', 'DZ')\n",
    "eM_NotTwin = create_subset(participants_extreme, 'M', 'NotTwin')\n",
    "eF_NotTwin = create_subset(participants_extreme, 'F', 'NotTwin')\n",
    "eM_MZ.head()"
   ]
  },
  {
   "cell_type": "markdown",
   "metadata": {},
   "source": [
    "# Stratify"
   ]
  },
  {
   "cell_type": "code",
   "execution_count": 49,
   "metadata": {},
   "outputs": [],
   "source": [
    "partition = [0.7,0.15,0.15]"
   ]
  },
  {
   "cell_type": "code",
   "execution_count": 50,
   "metadata": {},
   "outputs": [],
   "source": [
    "def get_train(df, partition):\n",
    "    df = df.copy(deep=True)\n",
    "    upper = int(len(df)*partition[0]/2)*2\n",
    "    return df[0:upper]\n",
    "\n",
    "def get_val(df, partition):\n",
    "    df = df.copy(deep=True)\n",
    "    lower = int(len(df)*partition[0]/2)*2\n",
    "    upper = int(len(df)*(partition[0]+partition[1])/2)*2\n",
    "    return df[lower:upper]\n",
    "\n",
    "def get_test(df, partition):\n",
    "    df = df.copy(deep=True)\n",
    "    lower = int(len(df)*(partition[0]+partition[1])/2)*2\n",
    "    return df[lower:]\n"
   ]
  },
  {
   "cell_type": "code",
   "execution_count": 52,
   "metadata": {},
   "outputs": [
    {
     "data": {
      "text/plain": [
       "Subject           string[python]\n",
       "Gender                    object\n",
       "Flanker_AgeAdj           float64\n",
       "ZygosityGT                object\n",
       "Family_ID                 object\n",
       "dtype: object"
      ]
     },
     "execution_count": 52,
     "metadata": {},
     "output_type": "execute_result"
    }
   ],
   "source": [
    "participants_extreme.dtypes"
   ]
  },
  {
   "cell_type": "code",
   "execution_count": 53,
   "metadata": {},
   "outputs": [],
   "source": [
    "def partition_subset(df, partition):\n",
    "    train = get_train(df, partition)\n",
    "    val = get_val(df, partition)\n",
    "    test = get_test(df, partition)\n",
    "    print(f\"lengths: {len(df)} = {len(train) + len(val) + len(test)} = {len(train)} + {len(val)} + {len(test)}\")\n",
    "    return train, val, test"
   ]
  },
  {
   "cell_type": "code",
   "execution_count": 54,
   "metadata": {},
   "outputs": [],
   "source": [
    "def put_together(df, partition, alls):\n",
    "    train, val, test = partition_subset(df, partition)\n",
    "    alls['train'] = pd.concat([alls['train'], train], ignore_index=True)\n",
    "    alls['val']   = pd.concat([alls['val'], val], ignore_index=True)\n",
    "    alls['test']  = pd.concat([alls['test'], test], ignore_index=True)\n",
    "    return alls"
   ]
  },
  {
   "cell_type": "code",
   "execution_count": 55,
   "metadata": {},
   "outputs": [],
   "source": [
    "alls = {}\n",
    "alls['train'] = pd.DataFrame(columns=participants.columns).astype(participants.dtypes.to_dict())\n",
    "alls['val']   = val = pd.DataFrame(columns=participants.columns).astype(participants.dtypes.to_dict())\n",
    "alls['test']  = pd.DataFrame(columns=participants.columns).astype(participants.dtypes.to_dict())\n",
    "\n"
   ]
  },
  {
   "cell_type": "code",
   "execution_count": 56,
   "metadata": {},
   "outputs": [
    {
     "name": "stdout",
     "output_type": "stream",
     "text": [
      "lengths: 77 = 77 = 52 + 12 + 13\n",
      "lengths: 117 = 117 = 80 + 18 + 19\n",
      "lengths: 44 = 44 = 30 + 6 + 8\n",
      "lengths: 70 = 70 = 48 + 10 + 12\n",
      "lengths: 226 = 226 = 158 + 34 + 34\n",
      "lengths: 212 = 212 = 148 + 32 + 32\n"
     ]
    }
   ],
   "source": [
    "alls = put_together(eM_MZ, partition, alls)\n",
    "alls = put_together(eF_MZ, partition, alls)\n",
    "alls = put_together(eM_DZ, partition, alls)\n",
    "alls = put_together(eF_DZ, partition, alls)\n",
    "alls = put_together(eM_NotTwin, partition, alls)\n",
    "alls = put_together(eF_NotTwin, partition, alls)\n",
    "alls['train_val'] = pd.concat([alls['train'], alls['val']], ignore_index=True)"
   ]
  },
  {
   "cell_type": "code",
   "execution_count": 57,
   "metadata": {},
   "outputs": [
    {
     "data": {
      "text/html": [
       "<div>\n",
       "<style scoped>\n",
       "    .dataframe tbody tr th:only-of-type {\n",
       "        vertical-align: middle;\n",
       "    }\n",
       "\n",
       "    .dataframe tbody tr th {\n",
       "        vertical-align: top;\n",
       "    }\n",
       "\n",
       "    .dataframe thead th {\n",
       "        text-align: right;\n",
       "    }\n",
       "</style>\n",
       "<table border=\"1\" class=\"dataframe\">\n",
       "  <thead>\n",
       "    <tr style=\"text-align: right;\">\n",
       "      <th></th>\n",
       "      <th>Subject</th>\n",
       "      <th>Gender</th>\n",
       "      <th>Flanker_AgeAdj</th>\n",
       "      <th>ZygosityGT</th>\n",
       "      <th>Family_ID</th>\n",
       "    </tr>\n",
       "  </thead>\n",
       "  <tbody>\n",
       "    <tr>\n",
       "      <th>13</th>\n",
       "      <td>146735</td>\n",
       "      <td>F</td>\n",
       "      <td>91.81</td>\n",
       "      <td>MZ</td>\n",
       "      <td>55646_85468</td>\n",
       "    </tr>\n",
       "    <tr>\n",
       "      <th>14</th>\n",
       "      <td>263436</td>\n",
       "      <td>F</td>\n",
       "      <td>78.74</td>\n",
       "      <td>MZ</td>\n",
       "      <td>55651_85473</td>\n",
       "    </tr>\n",
       "    <tr>\n",
       "      <th>15</th>\n",
       "      <td>200008</td>\n",
       "      <td>F</td>\n",
       "      <td>107.58</td>\n",
       "      <td>MZ</td>\n",
       "      <td>55686_85508</td>\n",
       "    </tr>\n",
       "    <tr>\n",
       "      <th>16</th>\n",
       "      <td>767464</td>\n",
       "      <td>F</td>\n",
       "      <td>107.67</td>\n",
       "      <td>MZ</td>\n",
       "      <td>55686_85508</td>\n",
       "    </tr>\n",
       "    <tr>\n",
       "      <th>17</th>\n",
       "      <td>933253</td>\n",
       "      <td>F</td>\n",
       "      <td>112.66</td>\n",
       "      <td>MZ</td>\n",
       "      <td>55697_85519</td>\n",
       "    </tr>\n",
       "    <tr>\n",
       "      <th>...</th>\n",
       "      <td>...</td>\n",
       "      <td>...</td>\n",
       "      <td>...</td>\n",
       "      <td>...</td>\n",
       "      <td>...</td>\n",
       "    </tr>\n",
       "    <tr>\n",
       "      <th>113</th>\n",
       "      <td>128026</td>\n",
       "      <td>F</td>\n",
       "      <td>97.24</td>\n",
       "      <td>NotTwin</td>\n",
       "      <td>56150_85970</td>\n",
       "    </tr>\n",
       "    <tr>\n",
       "      <th>114</th>\n",
       "      <td>481042</td>\n",
       "      <td>F</td>\n",
       "      <td>82.48</td>\n",
       "      <td>NotTwin</td>\n",
       "      <td>56166_85985</td>\n",
       "    </tr>\n",
       "    <tr>\n",
       "      <th>115</th>\n",
       "      <td>828862</td>\n",
       "      <td>F</td>\n",
       "      <td>92.69</td>\n",
       "      <td>NotTwin</td>\n",
       "      <td>56171_85990</td>\n",
       "    </tr>\n",
       "    <tr>\n",
       "      <th>116</th>\n",
       "      <td>809252</td>\n",
       "      <td>F</td>\n",
       "      <td>114.29</td>\n",
       "      <td>NotTwin</td>\n",
       "      <td>56183_86002</td>\n",
       "    </tr>\n",
       "    <tr>\n",
       "      <th>117</th>\n",
       "      <td>200917</td>\n",
       "      <td>F</td>\n",
       "      <td>83.96</td>\n",
       "      <td>NotTwin</td>\n",
       "      <td>99998_99999</td>\n",
       "    </tr>\n",
       "  </tbody>\n",
       "</table>\n",
       "<p>63 rows × 5 columns</p>\n",
       "</div>"
      ],
      "text/plain": [
       "    Subject Gender  Flanker_AgeAdj ZygosityGT    Family_ID\n",
       "13   146735      F           91.81         MZ  55646_85468\n",
       "14   263436      F           78.74         MZ  55651_85473\n",
       "15   200008      F          107.58         MZ  55686_85508\n",
       "16   767464      F          107.67         MZ  55686_85508\n",
       "17   933253      F          112.66         MZ  55697_85519\n",
       "..      ...    ...             ...        ...          ...\n",
       "113  128026      F           97.24    NotTwin  56150_85970\n",
       "114  481042      F           82.48    NotTwin  56166_85985\n",
       "115  828862      F           92.69    NotTwin  56171_85990\n",
       "116  809252      F          114.29    NotTwin  56183_86002\n",
       "117  200917      F           83.96    NotTwin  99998_99999\n",
       "\n",
       "[63 rows x 5 columns]"
      ]
     },
     "execution_count": 57,
     "metadata": {},
     "output_type": "execute_result"
    }
   ],
   "source": [
    "alls['test'][alls['test'].Gender == \"F\"]"
   ]
  },
  {
   "cell_type": "code",
   "execution_count": 58,
   "metadata": {},
   "outputs": [
    {
     "data": {
      "text/plain": [
       "746"
      ]
     },
     "execution_count": 58,
     "metadata": {},
     "output_type": "execute_result"
    }
   ],
   "source": [
    "\n",
    "len(alls['train']) + len(alls['val']) + len(alls['test'])"
   ]
  },
  {
   "cell_type": "code",
   "execution_count": 59,
   "metadata": {},
   "outputs": [
    {
     "data": {
      "text/plain": [
       "628"
      ]
     },
     "execution_count": 59,
     "metadata": {},
     "output_type": "execute_result"
    }
   ],
   "source": [
    "len(alls['train_val'])"
   ]
  },
  {
   "cell_type": "code",
   "execution_count": 60,
   "metadata": {},
   "outputs": [
    {
     "data": {
      "text/plain": [
       "112"
      ]
     },
     "execution_count": 60,
     "metadata": {},
     "output_type": "execute_result"
    }
   ],
   "source": [
    "len(alls['val'])"
   ]
  },
  {
   "cell_type": "code",
   "execution_count": 61,
   "metadata": {},
   "outputs": [
    {
     "data": {
      "text/plain": [
       "118"
      ]
     },
     "execution_count": 61,
     "metadata": {},
     "output_type": "execute_result"
    }
   ],
   "source": [
    "len(alls['test'])"
   ]
  },
  {
   "cell_type": "code",
   "execution_count": 62,
   "metadata": {},
   "outputs": [],
   "source": [
    "output_dir = \"/neurospin/dico/data/deep_folding/current/datasets/hcp-top-separated/\"\n",
    "train_file = f\"{output_dir}extreme_flanker_train_subjects.csv\"\n",
    "val_file = f\"{output_dir}extreme_flanker_val_subjects.csv\"\n",
    "test_file = f\"{output_dir}extreme_flanker_test_subjects.csv\"\n",
    "alls['train']['Subject'].to_csv(train_file, index=False, header=False)\n",
    "alls['val']['Subject'].to_csv(val_file, index=False, header=False)\n",
    "alls['test']['Subject'].to_csv(test_file, index=False, header=False)"
   ]
  },
  {
   "cell_type": "code",
   "execution_count": 63,
   "metadata": {},
   "outputs": [
    {
     "name": "stdout",
     "output_type": "stream",
     "text": [
      "516\n"
     ]
    }
   ],
   "source": [
    "!more {train_file} | wc -l"
   ]
  },
  {
   "cell_type": "code",
   "execution_count": 64,
   "metadata": {},
   "outputs": [
    {
     "name": "stdout",
     "output_type": "stream",
     "text": [
      "112\n"
     ]
    }
   ],
   "source": [
    "!more {val_file} | wc -l"
   ]
  },
  {
   "cell_type": "code",
   "execution_count": 65,
   "metadata": {},
   "outputs": [
    {
     "name": "stdout",
     "output_type": "stream",
     "text": [
      "118\n"
     ]
    }
   ],
   "source": [
    "!more {test_file} | wc -l"
   ]
  },
  {
   "cell_type": "code",
   "execution_count": null,
   "metadata": {},
   "outputs": [],
   "source": []
  }
 ],
 "metadata": {
  "kernelspec": {
   "display_name": "Python 3.8.5 ('venv_natif')",
   "language": "python",
   "name": "python3"
  },
  "language_info": {
   "codemirror_mode": {
    "name": "ipython",
    "version": 3
   },
   "file_extension": ".py",
   "mimetype": "text/x-python",
   "name": "python",
   "nbconvert_exporter": "python",
   "pygments_lexer": "ipython3",
   "version": "3.10.12"
  },
  "orig_nbformat": 4,
  "vscode": {
   "interpreter": {
    "hash": "83e7508b6f60885faa35e47c969e90ae7340ef7b0f62dfd2347f16762d7fca4e"
   }
  }
 },
 "nbformat": 4,
 "nbformat_minor": 2
}
