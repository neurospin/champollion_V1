{
 "cells": [
  {
   "attachments": {},
   "cell_type": "markdown",
   "metadata": {},
   "source": [
    "This notebook produces a train/val/test stratifying according to zygocity and gender"
   ]
  },
  {
   "cell_type": "code",
   "execution_count": 1,
   "metadata": {},
   "outputs": [],
   "source": [
    "import glob\n",
    "\n",
    "import numpy as np\n",
    "import matplotlib.pyplot as plt\n",
    "import pandas as pd\n",
    "import numpy as np\n",
    "\n",
    "pd.options.display.max_rows = 20"
   ]
  },
  {
   "attachments": {},
   "cell_type": "markdown",
   "metadata": {},
   "source": [
    "# Gets subjects treated with morphologist with relevant columns"
   ]
  },
  {
   "cell_type": "code",
   "execution_count": 2,
   "metadata": {},
   "outputs": [
    {
     "data": {
      "text/html": [
       "<div>\n",
       "<style scoped>\n",
       "    .dataframe tbody tr th:only-of-type {\n",
       "        vertical-align: middle;\n",
       "    }\n",
       "\n",
       "    .dataframe tbody tr th {\n",
       "        vertical-align: top;\n",
       "    }\n",
       "\n",
       "    .dataframe thead th {\n",
       "        text-align: right;\n",
       "    }\n",
       "</style>\n",
       "<table border=\"1\" class=\"dataframe\">\n",
       "  <thead>\n",
       "    <tr style=\"text-align: right;\">\n",
       "      <th></th>\n",
       "      <th>Subject</th>\n",
       "      <th>Gender</th>\n",
       "    </tr>\n",
       "  </thead>\n",
       "  <tbody>\n",
       "    <tr>\n",
       "      <th>0</th>\n",
       "      <td>100004</td>\n",
       "      <td>M</td>\n",
       "    </tr>\n",
       "    <tr>\n",
       "      <th>1</th>\n",
       "      <td>100206</td>\n",
       "      <td>M</td>\n",
       "    </tr>\n",
       "    <tr>\n",
       "      <th>2</th>\n",
       "      <td>100307</td>\n",
       "      <td>F</td>\n",
       "    </tr>\n",
       "    <tr>\n",
       "      <th>3</th>\n",
       "      <td>100408</td>\n",
       "      <td>M</td>\n",
       "    </tr>\n",
       "    <tr>\n",
       "      <th>4</th>\n",
       "      <td>100610</td>\n",
       "      <td>M</td>\n",
       "    </tr>\n",
       "  </tbody>\n",
       "</table>\n",
       "</div>"
      ],
      "text/plain": [
       "   Subject Gender\n",
       "0   100004      M\n",
       "1   100206      M\n",
       "2   100307      F\n",
       "3   100408      M\n",
       "4   100610      M"
      ]
     },
     "execution_count": 2,
     "metadata": {},
     "output_type": "execute_result"
    }
   ],
   "source": [
    "participants_file = \"/neurospin/dico/data/bv_databases/human/not_labeled/hcp/participants.csv\"\n",
    "participants_unrestricted = pd.read_csv(participants_file)\n",
    "participants_unrestricted = participants_unrestricted[['Subject', \"Gender\"]]\n",
    "participants_unrestricted.head()\n"
   ]
  },
  {
   "cell_type": "code",
   "execution_count": 3,
   "metadata": {},
   "outputs": [
    {
     "data": {
      "text/plain": [
       "1206"
      ]
     },
     "execution_count": 3,
     "metadata": {},
     "output_type": "execute_result"
    }
   ],
   "source": [
    "len(participants_unrestricted)"
   ]
  },
  {
   "cell_type": "code",
   "execution_count": 4,
   "metadata": {},
   "outputs": [
    {
     "data": {
      "text/plain": [
       "1206"
      ]
     },
     "execution_count": 4,
     "metadata": {},
     "output_type": "execute_result"
    }
   ],
   "source": [
    "participants_file = \"~/RESTRICTED_jchavas_1_18_2022_3_17_51.csv\"\n",
    "participants = pd.read_csv(participants_file)\n",
    "len(participants)"
   ]
  },
  {
   "cell_type": "code",
   "execution_count": 5,
   "metadata": {},
   "outputs": [
    {
     "data": {
      "text/html": [
       "<div>\n",
       "<style scoped>\n",
       "    .dataframe tbody tr th:only-of-type {\n",
       "        vertical-align: middle;\n",
       "    }\n",
       "\n",
       "    .dataframe tbody tr th {\n",
       "        vertical-align: top;\n",
       "    }\n",
       "\n",
       "    .dataframe thead th {\n",
       "        text-align: right;\n",
       "    }\n",
       "</style>\n",
       "<table border=\"1\" class=\"dataframe\">\n",
       "  <thead>\n",
       "    <tr style=\"text-align: right;\">\n",
       "      <th></th>\n",
       "      <th>Subject</th>\n",
       "      <th>ZygosityGT</th>\n",
       "      <th>Family_ID</th>\n",
       "    </tr>\n",
       "  </thead>\n",
       "  <tbody>\n",
       "    <tr>\n",
       "      <th>0</th>\n",
       "      <td>100004</td>\n",
       "      <td></td>\n",
       "      <td>52259_82122</td>\n",
       "    </tr>\n",
       "    <tr>\n",
       "      <th>1</th>\n",
       "      <td>100206</td>\n",
       "      <td></td>\n",
       "      <td>56037_85858</td>\n",
       "    </tr>\n",
       "    <tr>\n",
       "      <th>2</th>\n",
       "      <td>100307</td>\n",
       "      <td>MZ</td>\n",
       "      <td>51488_81352</td>\n",
       "    </tr>\n",
       "    <tr>\n",
       "      <th>3</th>\n",
       "      <td>100408</td>\n",
       "      <td>MZ</td>\n",
       "      <td>51730_81594</td>\n",
       "    </tr>\n",
       "    <tr>\n",
       "      <th>4</th>\n",
       "      <td>100610</td>\n",
       "      <td>DZ</td>\n",
       "      <td>52813_82634</td>\n",
       "    </tr>\n",
       "  </tbody>\n",
       "</table>\n",
       "</div>"
      ],
      "text/plain": [
       "   Subject ZygosityGT    Family_ID\n",
       "0   100004             52259_82122\n",
       "1   100206             56037_85858\n",
       "2   100307         MZ  51488_81352\n",
       "3   100408         MZ  51730_81594\n",
       "4   100610         DZ  52813_82634"
      ]
     },
     "execution_count": 5,
     "metadata": {},
     "output_type": "execute_result"
    }
   ],
   "source": [
    "participants = participants[['Subject', 'ZygosityGT', 'Family_ID']]\n",
    "participants.head()"
   ]
  },
  {
   "cell_type": "code",
   "execution_count": 6,
   "metadata": {},
   "outputs": [
    {
     "data": {
      "text/html": [
       "<div>\n",
       "<style scoped>\n",
       "    .dataframe tbody tr th:only-of-type {\n",
       "        vertical-align: middle;\n",
       "    }\n",
       "\n",
       "    .dataframe tbody tr th {\n",
       "        vertical-align: top;\n",
       "    }\n",
       "\n",
       "    .dataframe thead th {\n",
       "        text-align: right;\n",
       "    }\n",
       "</style>\n",
       "<table border=\"1\" class=\"dataframe\">\n",
       "  <thead>\n",
       "    <tr style=\"text-align: right;\">\n",
       "      <th></th>\n",
       "      <th>Subject</th>\n",
       "      <th>Gender</th>\n",
       "      <th>ZygosityGT</th>\n",
       "      <th>Family_ID</th>\n",
       "    </tr>\n",
       "  </thead>\n",
       "  <tbody>\n",
       "    <tr>\n",
       "      <th>0</th>\n",
       "      <td>100004</td>\n",
       "      <td>M</td>\n",
       "      <td></td>\n",
       "      <td>52259_82122</td>\n",
       "    </tr>\n",
       "    <tr>\n",
       "      <th>1</th>\n",
       "      <td>100206</td>\n",
       "      <td>M</td>\n",
       "      <td></td>\n",
       "      <td>56037_85858</td>\n",
       "    </tr>\n",
       "    <tr>\n",
       "      <th>2</th>\n",
       "      <td>100307</td>\n",
       "      <td>F</td>\n",
       "      <td>MZ</td>\n",
       "      <td>51488_81352</td>\n",
       "    </tr>\n",
       "    <tr>\n",
       "      <th>3</th>\n",
       "      <td>100408</td>\n",
       "      <td>M</td>\n",
       "      <td>MZ</td>\n",
       "      <td>51730_81594</td>\n",
       "    </tr>\n",
       "    <tr>\n",
       "      <th>4</th>\n",
       "      <td>100610</td>\n",
       "      <td>M</td>\n",
       "      <td>DZ</td>\n",
       "      <td>52813_82634</td>\n",
       "    </tr>\n",
       "  </tbody>\n",
       "</table>\n",
       "</div>"
      ],
      "text/plain": [
       "   Subject Gender ZygosityGT    Family_ID\n",
       "0   100004      M             52259_82122\n",
       "1   100206      M             56037_85858\n",
       "2   100307      F         MZ  51488_81352\n",
       "3   100408      M         MZ  51730_81594\n",
       "4   100610      M         DZ  52813_82634"
      ]
     },
     "execution_count": 6,
     "metadata": {},
     "output_type": "execute_result"
    }
   ],
   "source": [
    "participants = pd.merge(participants_unrestricted, participants)\n",
    "participants.head()"
   ]
  },
  {
   "cell_type": "code",
   "execution_count": 7,
   "metadata": {},
   "outputs": [],
   "source": [
    "participants.loc[(participants['ZygosityGT']== \" \"), 'ZygosityGT'] = 'NotTwin'  \n",
    "participants['Subject'] = participants['Subject'].astype('string')\n"
   ]
  },
  {
   "cell_type": "code",
   "execution_count": 8,
   "metadata": {},
   "outputs": [
    {
     "name": "stdout",
     "output_type": "stream",
     "text": [
      "Subject       string[python]\n",
      "Gender                object\n",
      "ZygosityGT            object\n",
      "Family_ID             object\n",
      "dtype: object\n"
     ]
    },
    {
     "data": {
      "text/html": [
       "<div>\n",
       "<style scoped>\n",
       "    .dataframe tbody tr th:only-of-type {\n",
       "        vertical-align: middle;\n",
       "    }\n",
       "\n",
       "    .dataframe tbody tr th {\n",
       "        vertical-align: top;\n",
       "    }\n",
       "\n",
       "    .dataframe thead th {\n",
       "        text-align: right;\n",
       "    }\n",
       "</style>\n",
       "<table border=\"1\" class=\"dataframe\">\n",
       "  <thead>\n",
       "    <tr style=\"text-align: right;\">\n",
       "      <th></th>\n",
       "      <th>Subject</th>\n",
       "      <th>Gender</th>\n",
       "      <th>ZygosityGT</th>\n",
       "      <th>Family_ID</th>\n",
       "    </tr>\n",
       "  </thead>\n",
       "  <tbody>\n",
       "    <tr>\n",
       "      <th>0</th>\n",
       "      <td>100004</td>\n",
       "      <td>M</td>\n",
       "      <td>NotTwin</td>\n",
       "      <td>52259_82122</td>\n",
       "    </tr>\n",
       "    <tr>\n",
       "      <th>1</th>\n",
       "      <td>100206</td>\n",
       "      <td>M</td>\n",
       "      <td>NotTwin</td>\n",
       "      <td>56037_85858</td>\n",
       "    </tr>\n",
       "    <tr>\n",
       "      <th>2</th>\n",
       "      <td>100307</td>\n",
       "      <td>F</td>\n",
       "      <td>MZ</td>\n",
       "      <td>51488_81352</td>\n",
       "    </tr>\n",
       "    <tr>\n",
       "      <th>3</th>\n",
       "      <td>100408</td>\n",
       "      <td>M</td>\n",
       "      <td>MZ</td>\n",
       "      <td>51730_81594</td>\n",
       "    </tr>\n",
       "    <tr>\n",
       "      <th>4</th>\n",
       "      <td>100610</td>\n",
       "      <td>M</td>\n",
       "      <td>DZ</td>\n",
       "      <td>52813_82634</td>\n",
       "    </tr>\n",
       "  </tbody>\n",
       "</table>\n",
       "</div>"
      ],
      "text/plain": [
       "  Subject Gender ZygosityGT    Family_ID\n",
       "0  100004      M    NotTwin  52259_82122\n",
       "1  100206      M    NotTwin  56037_85858\n",
       "2  100307      F         MZ  51488_81352\n",
       "3  100408      M         MZ  51730_81594\n",
       "4  100610      M         DZ  52813_82634"
      ]
     },
     "execution_count": 8,
     "metadata": {},
     "output_type": "execute_result"
    }
   ],
   "source": [
    "print(participants.dtypes)\n",
    "participants.head()"
   ]
  },
  {
   "cell_type": "code",
   "execution_count": 9,
   "metadata": {},
   "outputs": [
    {
     "name": "stdout",
     "output_type": "stream",
     "text": [
      "['210112', '579665', '922854', '517239', '329440']\n"
     ]
    },
    {
     "data": {
      "text/plain": [
       "1114"
      ]
     },
     "execution_count": 9,
     "metadata": {},
     "output_type": "execute_result"
    }
   ],
   "source": [
    "treated_subjects = glob.glob(\"/neurospin/dico/data/bv_databases/human/not_labeled/hcp/hcp/*[!.minf]\")\n",
    "treated_subjects = [x.split('/')[-1] for x in treated_subjects]\n",
    "treated_subjects = [x for x in treated_subjects if 'database' not in x]\n",
    "print(treated_subjects[:5])\n",
    "len(treated_subjects)"
   ]
  },
  {
   "cell_type": "code",
   "execution_count": 10,
   "metadata": {},
   "outputs": [
    {
     "data": {
      "text/plain": [
       "Subject       string[python]\n",
       "Gender                object\n",
       "ZygosityGT            object\n",
       "Family_ID             object\n",
       "dtype: object"
      ]
     },
     "execution_count": 10,
     "metadata": {},
     "output_type": "execute_result"
    }
   ],
   "source": [
    "participants.dtypes"
   ]
  },
  {
   "cell_type": "code",
   "execution_count": 11,
   "metadata": {},
   "outputs": [],
   "source": [
    "participants = participants[participants['Subject'].isin(treated_subjects)]"
   ]
  },
  {
   "cell_type": "code",
   "execution_count": 12,
   "metadata": {},
   "outputs": [
    {
     "data": {
      "text/plain": [
       "1113"
      ]
     },
     "execution_count": 12,
     "metadata": {},
     "output_type": "execute_result"
    }
   ],
   "source": [
    "len(participants)"
   ]
  },
  {
   "cell_type": "code",
   "execution_count": 13,
   "metadata": {},
   "outputs": [
    {
     "data": {
      "text/plain": [
       "{'142626'}"
      ]
     },
     "execution_count": 13,
     "metadata": {},
     "output_type": "execute_result"
    }
   ],
   "source": [
    "set(treated_subjects) - set(participants['Subject'])"
   ]
  },
  {
   "attachments": {},
   "cell_type": "markdown",
   "metadata": {},
   "source": [
    "# Stratify according to gender and zygocity"
   ]
  },
  {
   "cell_type": "code",
   "execution_count": 14,
   "metadata": {},
   "outputs": [
    {
     "data": {
      "text/plain": [
       "{'DZ', 'MZ', 'NotTwin'}"
      ]
     },
     "execution_count": 14,
     "metadata": {},
     "output_type": "execute_result"
    }
   ],
   "source": [
    "set(participants['ZygosityGT'].tolist())"
   ]
  },
  {
   "cell_type": "code",
   "execution_count": 15,
   "metadata": {},
   "outputs": [],
   "source": [
    "def create_subset(df, gender, zygosityGT):\n",
    "    \"\"\"Creates a subset of participants.\n",
    "    \n",
    "    The subset corresponds to the values of column gender and zgosityGT\"\"\"\n",
    "    subset = df[(df['Gender']==gender) & (df['ZygosityGT']==zygosityGT)]\n",
    "    subset = subset.groupby(by='Family_ID', as_index=False).apply(lambda x: x)\n",
    "\n",
    "    return subset"
   ]
  },
  {
   "cell_type": "code",
   "execution_count": 16,
   "metadata": {},
   "outputs": [
    {
     "name": "stderr",
     "output_type": "stream",
     "text": [
      "/tmp/ipykernel_853056/298021015.py:6: DeprecationWarning: DataFrameGroupBy.apply operated on the grouping columns. This behavior is deprecated, and in a future version of pandas the grouping columns will be excluded from the operation. Either pass `include_groups=False` to exclude the groupings or explicitly select the grouping columns after groupby to silence this warning.\n",
      "  subset = subset.groupby(by='Family_ID', as_index=False).apply(lambda x: x)\n",
      "/tmp/ipykernel_853056/298021015.py:6: DeprecationWarning: DataFrameGroupBy.apply operated on the grouping columns. This behavior is deprecated, and in a future version of pandas the grouping columns will be excluded from the operation. Either pass `include_groups=False` to exclude the groupings or explicitly select the grouping columns after groupby to silence this warning.\n",
      "  subset = subset.groupby(by='Family_ID', as_index=False).apply(lambda x: x)\n",
      "/tmp/ipykernel_853056/298021015.py:6: DeprecationWarning: DataFrameGroupBy.apply operated on the grouping columns. This behavior is deprecated, and in a future version of pandas the grouping columns will be excluded from the operation. Either pass `include_groups=False` to exclude the groupings or explicitly select the grouping columns after groupby to silence this warning.\n",
      "  subset = subset.groupby(by='Family_ID', as_index=False).apply(lambda x: x)\n",
      "/tmp/ipykernel_853056/298021015.py:6: DeprecationWarning: DataFrameGroupBy.apply operated on the grouping columns. This behavior is deprecated, and in a future version of pandas the grouping columns will be excluded from the operation. Either pass `include_groups=False` to exclude the groupings or explicitly select the grouping columns after groupby to silence this warning.\n",
      "  subset = subset.groupby(by='Family_ID', as_index=False).apply(lambda x: x)\n",
      "/tmp/ipykernel_853056/298021015.py:6: DeprecationWarning: DataFrameGroupBy.apply operated on the grouping columns. This behavior is deprecated, and in a future version of pandas the grouping columns will be excluded from the operation. Either pass `include_groups=False` to exclude the groupings or explicitly select the grouping columns after groupby to silence this warning.\n",
      "  subset = subset.groupby(by='Family_ID', as_index=False).apply(lambda x: x)\n",
      "/tmp/ipykernel_853056/298021015.py:6: DeprecationWarning: DataFrameGroupBy.apply operated on the grouping columns. This behavior is deprecated, and in a future version of pandas the grouping columns will be excluded from the operation. Either pass `include_groups=False` to exclude the groupings or explicitly select the grouping columns after groupby to silence this warning.\n",
      "  subset = subset.groupby(by='Family_ID', as_index=False).apply(lambda x: x)\n"
     ]
    },
    {
     "data": {
      "text/html": [
       "<div>\n",
       "<style scoped>\n",
       "    .dataframe tbody tr th:only-of-type {\n",
       "        vertical-align: middle;\n",
       "    }\n",
       "\n",
       "    .dataframe tbody tr th {\n",
       "        vertical-align: top;\n",
       "    }\n",
       "\n",
       "    .dataframe thead th {\n",
       "        text-align: right;\n",
       "    }\n",
       "</style>\n",
       "<table border=\"1\" class=\"dataframe\">\n",
       "  <thead>\n",
       "    <tr style=\"text-align: right;\">\n",
       "      <th></th>\n",
       "      <th></th>\n",
       "      <th>Subject</th>\n",
       "      <th>Gender</th>\n",
       "      <th>ZygosityGT</th>\n",
       "      <th>Family_ID</th>\n",
       "    </tr>\n",
       "  </thead>\n",
       "  <tbody>\n",
       "    <tr>\n",
       "      <th rowspan=\"2\" valign=\"top\">0</th>\n",
       "      <th>632</th>\n",
       "      <td>233326</td>\n",
       "      <td>M</td>\n",
       "      <td>MZ</td>\n",
       "      <td>51698_81562</td>\n",
       "    </tr>\n",
       "    <tr>\n",
       "      <th>719</th>\n",
       "      <td>352738</td>\n",
       "      <td>M</td>\n",
       "      <td>MZ</td>\n",
       "      <td>51698_81562</td>\n",
       "    </tr>\n",
       "    <tr>\n",
       "      <th rowspan=\"2\" valign=\"top\">1</th>\n",
       "      <th>253</th>\n",
       "      <td>146432</td>\n",
       "      <td>M</td>\n",
       "      <td>MZ</td>\n",
       "      <td>51702_81566</td>\n",
       "    </tr>\n",
       "    <tr>\n",
       "      <th>1077</th>\n",
       "      <td>818859</td>\n",
       "      <td>M</td>\n",
       "      <td>MZ</td>\n",
       "      <td>51702_81566</td>\n",
       "    </tr>\n",
       "    <tr>\n",
       "      <th>2</th>\n",
       "      <th>155</th>\n",
       "      <td>128935</td>\n",
       "      <td>M</td>\n",
       "      <td>MZ</td>\n",
       "      <td>51707_81571</td>\n",
       "    </tr>\n",
       "  </tbody>\n",
       "</table>\n",
       "</div>"
      ],
      "text/plain": [
       "       Subject Gender ZygosityGT    Family_ID\n",
       "0 632   233326      M         MZ  51698_81562\n",
       "  719   352738      M         MZ  51698_81562\n",
       "1 253   146432      M         MZ  51702_81566\n",
       "  1077  818859      M         MZ  51702_81566\n",
       "2 155   128935      M         MZ  51707_81571"
      ]
     },
     "execution_count": 16,
     "metadata": {},
     "output_type": "execute_result"
    }
   ],
   "source": [
    "M_MZ = create_subset(participants, 'M', 'MZ')\n",
    "F_MZ = create_subset(participants, 'F', 'MZ')\n",
    "M_DZ = create_subset(participants, 'M', 'DZ')\n",
    "F_DZ = create_subset(participants, 'F', 'DZ')\n",
    "M_NotTwin = create_subset(participants, 'M', 'NotTwin')\n",
    "F_NotTwin = create_subset(participants, 'F', 'NotTwin')\n",
    "M_MZ.head()"
   ]
  },
  {
   "cell_type": "code",
   "execution_count": 19,
   "metadata": {},
   "outputs": [
    {
     "name": "stdout",
     "output_type": "stream",
     "text": [
      "1113\n",
      "1113\n"
     ]
    }
   ],
   "source": [
    "print(len(participants))\n",
    "print(len(M_MZ)+len(F_MZ)+len(M_DZ)+len(F_DZ)+len(M_NotTwin)+len(F_NotTwin))"
   ]
  },
  {
   "cell_type": "code",
   "execution_count": 17,
   "metadata": {},
   "outputs": [
    {
     "data": {
      "text/plain": [
       "118"
      ]
     },
     "execution_count": 17,
     "metadata": {},
     "output_type": "execute_result"
    }
   ],
   "source": [
    "len(M_MZ)"
   ]
  },
  {
   "cell_type": "code",
   "execution_count": 130,
   "metadata": {},
   "outputs": [],
   "source": [
    "partition = [0.7,0.15,0.15]"
   ]
  },
  {
   "cell_type": "code",
   "execution_count": 176,
   "metadata": {},
   "outputs": [],
   "source": [
    "def get_train(df, partition):\n",
    "    df = df.copy(deep=True)\n",
    "    upper = int(len(df)*partition[0]/2)*2\n",
    "    return df[0:upper]\n",
    "\n",
    "def get_val(df, partition):\n",
    "    df = df.copy(deep=True)\n",
    "    lower = int(len(df)*partition[0]/2)*2\n",
    "    upper = int(len(df)*(partition[0]+partition[1])/2)*2\n",
    "    return df[lower:upper]\n",
    "\n",
    "def get_test(df, partition):\n",
    "    df = df.copy(deep=True)\n",
    "    lower = int(len(df)*(partition[0]+partition[1])/2)*2\n",
    "    return df[lower:]\n"
   ]
  },
  {
   "cell_type": "code",
   "execution_count": 177,
   "metadata": {},
   "outputs": [
    {
     "data": {
      "text/plain": [
       "Subject       string[python]\n",
       "Gender                object\n",
       "ZygosityGT            object\n",
       "Family_ID             object\n",
       "dtype: object"
      ]
     },
     "execution_count": 177,
     "metadata": {},
     "output_type": "execute_result"
    }
   ],
   "source": [
    "participants.dtypes"
   ]
  },
  {
   "cell_type": "code",
   "execution_count": 206,
   "metadata": {},
   "outputs": [],
   "source": [
    "def partition_subset(df, partition):\n",
    "    train = get_train(df, partition)\n",
    "    val = get_val(df, partition)\n",
    "    test = get_test(df, partition)\n",
    "    print(f\"lengths: {len(df)} = {len(train) + len(val) + len(test)} = {len(train)} + {len(val)} + {len(test)}\")\n",
    "    return train, val, test"
   ]
  },
  {
   "cell_type": "code",
   "execution_count": 207,
   "metadata": {},
   "outputs": [],
   "source": [
    "def put_together(df, partition, alls):\n",
    "    train, val, test = partition_subset(df, partition)\n",
    "    alls['train'] = pd.concat([alls['train'], train], ignore_index=True)\n",
    "    alls['val']   = pd.concat([alls['val'], val], ignore_index=True)\n",
    "    alls['test']  = pd.concat([alls['test'], test], ignore_index=True)\n",
    "    return alls"
   ]
  },
  {
   "cell_type": "code",
   "execution_count": 208,
   "metadata": {},
   "outputs": [],
   "source": [
    "alls = {}\n",
    "alls['train'] = pd.DataFrame(columns=participants.columns).astype(participants.dtypes.to_dict())\n",
    "alls['val']   = pd.DataFrame(columns=participants.columns).astype(participants.dtypes.to_dict())\n",
    "alls['test']  = pd.DataFrame(columns=participants.columns).astype(participants.dtypes.to_dict())\n",
    "\n"
   ]
  },
  {
   "cell_type": "code",
   "execution_count": 209,
   "metadata": {},
   "outputs": [
    {
     "name": "stdout",
     "output_type": "stream",
     "text": [
      "lengths: 118 = 118 = 82 + 18 + 18\n",
      "lengths: 168 = 168 = 116 + 26 + 26\n",
      "lengths: 64 = 64 = 44 + 10 + 10\n",
      "lengths: 106 = 106 = 74 + 16 + 16\n",
      "lengths: 325 = 325 = 226 + 50 + 49\n",
      "lengths: 332 = 332 = 232 + 50 + 50\n"
     ]
    }
   ],
   "source": [
    "alls = put_together(M_MZ, partition, alls)\n",
    "alls = put_together(F_MZ, partition, alls)\n",
    "alls = put_together(M_DZ, partition, alls)\n",
    "alls = put_together(F_DZ, partition, alls)\n",
    "alls = put_together(M_NotTwin, partition, alls)\n",
    "alls = put_together(F_NotTwin, partition, alls)\n",
    "alls['train_val'] = pd.concat([alls['train'], alls['val']], ignore_index=True)"
   ]
  },
  {
   "cell_type": "code",
   "execution_count": 210,
   "metadata": {},
   "outputs": [
    {
     "data": {
      "text/html": [
       "<div>\n",
       "<style scoped>\n",
       "    .dataframe tbody tr th:only-of-type {\n",
       "        vertical-align: middle;\n",
       "    }\n",
       "\n",
       "    .dataframe tbody tr th {\n",
       "        vertical-align: top;\n",
       "    }\n",
       "\n",
       "    .dataframe thead th {\n",
       "        text-align: right;\n",
       "    }\n",
       "</style>\n",
       "<table border=\"1\" class=\"dataframe\">\n",
       "  <thead>\n",
       "    <tr style=\"text-align: right;\">\n",
       "      <th></th>\n",
       "      <th>Subject</th>\n",
       "      <th>Gender</th>\n",
       "      <th>ZygosityGT</th>\n",
       "      <th>Family_ID</th>\n",
       "    </tr>\n",
       "  </thead>\n",
       "  <tbody>\n",
       "    <tr>\n",
       "      <th>0</th>\n",
       "      <td>995174</td>\n",
       "      <td>M</td>\n",
       "      <td>MZ</td>\n",
       "      <td>55923_85743</td>\n",
       "    </tr>\n",
       "    <tr>\n",
       "      <th>1</th>\n",
       "      <td>146129</td>\n",
       "      <td>M</td>\n",
       "      <td>MZ</td>\n",
       "      <td>55952_85772</td>\n",
       "    </tr>\n",
       "    <tr>\n",
       "      <th>2</th>\n",
       "      <td>783462</td>\n",
       "      <td>M</td>\n",
       "      <td>MZ</td>\n",
       "      <td>55952_85772</td>\n",
       "    </tr>\n",
       "    <tr>\n",
       "      <th>3</th>\n",
       "      <td>164636</td>\n",
       "      <td>M</td>\n",
       "      <td>MZ</td>\n",
       "      <td>55955_85775</td>\n",
       "    </tr>\n",
       "    <tr>\n",
       "      <th>4</th>\n",
       "      <td>214524</td>\n",
       "      <td>M</td>\n",
       "      <td>MZ</td>\n",
       "      <td>55955_85775</td>\n",
       "    </tr>\n",
       "  </tbody>\n",
       "</table>\n",
       "</div>"
      ],
      "text/plain": [
       "  Subject Gender ZygosityGT    Family_ID\n",
       "0  995174      M         MZ  55923_85743\n",
       "1  146129      M         MZ  55952_85772\n",
       "2  783462      M         MZ  55952_85772\n",
       "3  164636      M         MZ  55955_85775\n",
       "4  214524      M         MZ  55955_85775"
      ]
     },
     "execution_count": 210,
     "metadata": {},
     "output_type": "execute_result"
    }
   ],
   "source": [
    "alls['test'].head()"
   ]
  },
  {
   "cell_type": "code",
   "execution_count": 211,
   "metadata": {},
   "outputs": [
    {
     "data": {
      "text/plain": [
       "1113"
      ]
     },
     "execution_count": 211,
     "metadata": {},
     "output_type": "execute_result"
    }
   ],
   "source": [
    "len(alls['train']) + len(alls['val']) + len(alls['test'])"
   ]
  },
  {
   "cell_type": "code",
   "execution_count": 215,
   "metadata": {},
   "outputs": [
    {
     "data": {
      "text/plain": [
       "944"
      ]
     },
     "execution_count": 215,
     "metadata": {},
     "output_type": "execute_result"
    }
   ],
   "source": [
    "len(alls['train_val'])"
   ]
  },
  {
   "cell_type": "code",
   "execution_count": 216,
   "metadata": {},
   "outputs": [
    {
     "data": {
      "text/plain": [
       "170"
      ]
     },
     "execution_count": 216,
     "metadata": {},
     "output_type": "execute_result"
    }
   ],
   "source": [
    "len(alls['val'])"
   ]
  },
  {
   "cell_type": "code",
   "execution_count": 217,
   "metadata": {},
   "outputs": [
    {
     "data": {
      "text/plain": [
       "169"
      ]
     },
     "execution_count": 217,
     "metadata": {},
     "output_type": "execute_result"
    }
   ],
   "source": [
    "len(alls['test'])"
   ]
  },
  {
   "cell_type": "code",
   "execution_count": 234,
   "metadata": {},
   "outputs": [],
   "source": [
    "output_dir = \"/neurospin/dico/data/deep_folding/current/datasets/hcp-top-separated/\"\n",
    "train_file = f\"{output_dir}train_subjects.csv\"\n",
    "val_file = f\"{output_dir}val_subjects.csv\"\n",
    "test_file = f\"{output_dir}test_subjects.csv\"\n",
    "alls['train']['Subject'].to_csv(train_file, index=False, header=False)\n",
    "alls['val']['Subject'].to_csv(val_file, index=False, header=False)\n",
    "alls['test']['Subject'].to_csv(test_file, index=False, header=False)"
   ]
  },
  {
   "cell_type": "code",
   "execution_count": 235,
   "metadata": {},
   "outputs": [
    {
     "name": "stdout",
     "output_type": "stream",
     "text": [
      "774\n"
     ]
    }
   ],
   "source": [
    "!more {train_file} | wc -l"
   ]
  },
  {
   "cell_type": "code",
   "execution_count": 236,
   "metadata": {},
   "outputs": [
    {
     "name": "stdout",
     "output_type": "stream",
     "text": [
      "170\n"
     ]
    }
   ],
   "source": [
    "!more {val_file} | wc -l"
   ]
  },
  {
   "cell_type": "code",
   "execution_count": 237,
   "metadata": {},
   "outputs": [
    {
     "name": "stdout",
     "output_type": "stream",
     "text": [
      "169\n"
     ]
    }
   ],
   "source": [
    "!more {test_file} | wc -l"
   ]
  },
  {
   "cell_type": "code",
   "execution_count": null,
   "metadata": {},
   "outputs": [],
   "source": []
  }
 ],
 "metadata": {
  "kernelspec": {
   "display_name": "Python 3.8.5 ('venv_natif')",
   "language": "python",
   "name": "python3"
  },
  "language_info": {
   "codemirror_mode": {
    "name": "ipython",
    "version": 3
   },
   "file_extension": ".py",
   "mimetype": "text/x-python",
   "name": "python",
   "nbconvert_exporter": "python",
   "pygments_lexer": "ipython3",
   "version": "3.10.12"
  },
  "orig_nbformat": 4,
  "vscode": {
   "interpreter": {
    "hash": "83e7508b6f60885faa35e47c969e90ae7340ef7b0f62dfd2347f16762d7fca4e"
   }
  }
 },
 "nbformat": 4,
 "nbformat_minor": 2
}
