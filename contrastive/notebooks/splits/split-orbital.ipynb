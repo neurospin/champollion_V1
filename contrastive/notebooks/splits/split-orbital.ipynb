{
 "cells": [
  {
   "cell_type": "code",
   "execution_count": 5,
   "metadata": {},
   "outputs": [
    {
     "name": "stderr",
     "output_type": "stream",
     "text": [
      "/tmp/ipykernel_320702/2787389222.py:1: DeprecationWarning: \n",
      "Pyarrow will become a required dependency of pandas in the next major release of pandas (pandas 3.0),\n",
      "(to allow more performant data types, such as the Arrow string type, and better interoperability with other libraries)\n",
      "but was not found to be installed on your system.\n",
      "If this would cause problems for you,\n",
      "please provide us feedback at https://github.com/pandas-dev/pandas/issues/54466\n",
      "        \n",
      "  import pandas as pd\n"
     ]
    }
   ],
   "source": [
    "import pandas as pd\n",
    "import numpy as np\n",
    "from skmultilearn.model_selection import iterative_train_test_split\n",
    "from sklearn.datasets import make_multilabel_classification\n",
    "from skmultilearn.model_selection import IterativeStratification\n",
    "from sklearn.model_selection import StratifiedGroupKFold\n",
    "import random\n",
    "import csv\n",
    "import glob\n",
    "import sklearn"
   ]
  },
  {
   "cell_type": "code",
   "execution_count": 6,
   "metadata": {},
   "outputs": [],
   "source": [
    "from collections import defaultdict\n",
    "\n",
    "from sklearn.utils import (\n",
    "    #_approximate_mode,\n",
    "    _safe_indexing,\n",
    "    check_random_state,\n",
    "    indexable,\n",
    "    metadata_routing,\n",
    ")\n",
    "\n",
    "from sklearn.utils.validation import _num_samples, check_array, column_or_1d\n",
    "from sklearn.utils.multiclass import type_of_target"
   ]
  },
  {
   "cell_type": "code",
   "execution_count": 7,
   "metadata": {},
   "outputs": [],
   "source": [
    "class StratifiedGroupKFold_WithoutCheck(sklearn.model_selection._split.GroupsConsumerMixin, sklearn.model_selection._split._BaseKFold):\n",
    "    \"\"\"Stratified K-Fold iterator variant with non-overlapping groups.\n",
    "\n",
    "    This cross-validation object is a variation of StratifiedKFold attempts to\n",
    "    return stratified folds with non-overlapping groups. The folds are made by\n",
    "    preserving the percentage of samples for each class.\n",
    "\n",
    "    Each group will appear exactly once in the test set across all folds (the\n",
    "    number of distinct groups has to be at least equal to the number of folds).\n",
    "\n",
    "    The difference between :class:`~sklearn.model_selection.GroupKFold`\n",
    "    and :class:`~sklearn.model_selection.StratifiedGroupKFold` is that\n",
    "    the former attempts to create balanced folds such that the number of\n",
    "    distinct groups is approximately the same in each fold, whereas\n",
    "    StratifiedGroupKFold attempts to create folds which preserve the\n",
    "    percentage of samples for each class as much as possible given the\n",
    "    constraint of non-overlapping groups between splits.\n",
    "\n",
    "    Read more in the :ref:`User Guide <cross_validation>`.\n",
    "\n",
    "    For visualisation of cross-validation behaviour and\n",
    "    comparison between common scikit-learn split methods\n",
    "    refer to :ref:`sphx_glr_auto_examples_model_selection_plot_cv_indices.py`\n",
    "\n",
    "    Parameters\n",
    "    ----------\n",
    "    n_splits : int, default=5\n",
    "        Number of folds. Must be at least 2.\n",
    "\n",
    "    shuffle : bool, default=False\n",
    "        Whether to shuffle each class's samples before splitting into batches.\n",
    "        Note that the samples within each split will not be shuffled.\n",
    "        This implementation can only shuffle groups that have approximately the\n",
    "        same y distribution, no global shuffle will be performed.\n",
    "\n",
    "    random_state : int or RandomState instance, default=None\n",
    "        When `shuffle` is True, `random_state` affects the ordering of the\n",
    "        indices, which controls the randomness of each fold for each class.\n",
    "        Otherwise, leave `random_state` as `None`.\n",
    "        Pass an int for reproducible output across multiple function calls.\n",
    "        See :term:`Glossary <random_state>`.\n",
    "\n",
    "    Examples\n",
    "    --------\n",
    "    >>> import numpy as np\n",
    "    >>> from sklearn.model_selection import StratifiedGroupKFold\n",
    "    >>> X = np.ones((17, 2))\n",
    "    >>> y = np.array([0, 0, 1, 1, 1, 1, 1, 1, 0, 0, 0, 0, 0, 0, 0, 0, 0])\n",
    "    >>> groups = np.array([1, 1, 2, 2, 3, 3, 3, 4, 5, 5, 5, 5, 6, 6, 7, 8, 8])\n",
    "    >>> sgkf = StratifiedGroupKFold(n_splits=3)\n",
    "    >>> sgkf.get_n_splits(X, y)\n",
    "    3\n",
    "    >>> print(sgkf)\n",
    "    StratifiedGroupKFold(n_splits=3, random_state=None, shuffle=False)\n",
    "    >>> for i, (train_index, test_index) in enumerate(sgkf.split(X, y, groups)):\n",
    "    ...     print(f\"Fold {i}:\")\n",
    "    ...     print(f\"  Train: index={train_index}\")\n",
    "    ...     print(f\"         group={groups[train_index]}\")\n",
    "    ...     print(f\"  Test:  index={test_index}\")\n",
    "    ...     print(f\"         group={groups[test_index]}\")\n",
    "    Fold 0:\n",
    "      Train: index=[ 0  1  2  3  7  8  9 10 11 15 16]\n",
    "             group=[1 1 2 2 4 5 5 5 5 8 8]\n",
    "      Test:  index=[ 4  5  6 12 13 14]\n",
    "             group=[3 3 3 6 6 7]\n",
    "    Fold 1:\n",
    "      Train: index=[ 4  5  6  7  8  9 10 11 12 13 14]\n",
    "             group=[3 3 3 4 5 5 5 5 6 6 7]\n",
    "      Test:  index=[ 0  1  2  3 15 16]\n",
    "             group=[1 1 2 2 8 8]\n",
    "    Fold 2:\n",
    "      Train: index=[ 0  1  2  3  4  5  6 12 13 14 15 16]\n",
    "             group=[1 1 2 2 3 3 3 6 6 7 8 8]\n",
    "      Test:  index=[ 7  8  9 10 11]\n",
    "             group=[4 5 5 5 5]\n",
    "\n",
    "    Notes\n",
    "    -----\n",
    "    The implementation is designed to:\n",
    "\n",
    "    * Mimic the behavior of StratifiedKFold as much as possible for trivial\n",
    "      groups (e.g. when each group contains only one sample).\n",
    "    * Be invariant to class label: relabelling ``y = [\"Happy\", \"Sad\"]`` to\n",
    "      ``y = [1, 0]`` should not change the indices generated.\n",
    "    * Stratify based on samples as much as possible while keeping\n",
    "      non-overlapping groups constraint. That means that in some cases when\n",
    "      there is a small number of groups containing a large number of samples\n",
    "      the stratification will not be possible and the behavior will be close\n",
    "      to GroupKFold.\n",
    "\n",
    "    See also\n",
    "    --------\n",
    "    StratifiedKFold: Takes class information into account to build folds which\n",
    "        retain class distributions (for binary or multiclass classification\n",
    "        tasks).\n",
    "\n",
    "    GroupKFold: K-fold iterator variant with non-overlapping groups.\n",
    "    \"\"\"\n",
    "\n",
    "    def __init__(self, n_splits=5, shuffle=False, random_state=None):\n",
    "        super().__init__(n_splits=n_splits, shuffle=shuffle, random_state=random_state)\n",
    "\n",
    "    def _iter_test_indices(self, X, y, groups):\n",
    "        # Implementation is based on this kaggle kernel:\n",
    "        # https://www.kaggle.com/jakubwasikowski/stratified-group-k-fold-cross-validation\n",
    "        # and is a subject to Apache 2.0 License. You may obtain a copy of the\n",
    "        # License at http://www.apache.org/licenses/LICENSE-2.0\n",
    "        # Changelist:\n",
    "        # - Refactored function to a class following scikit-learn KFold\n",
    "        #   interface.\n",
    "        # - Added heuristic for assigning group to the least populated fold in\n",
    "        #   cases when all other criteria are equal\n",
    "        # - Swtch from using python ``Counter`` to ``np.unique`` to get class\n",
    "        #   distribution\n",
    "        # - Added scikit-learn checks for input: checking that target is binary\n",
    "        #   or multiclass, checking passed random state, checking that number\n",
    "        #   of splits is less than number of members in each class, checking\n",
    "        #   that least populated class has more members than there are splits.\n",
    "        rng = check_random_state(self.random_state)\n",
    "        y = np.asarray(y)\n",
    "        type_of_target_y = type_of_target(y)\n",
    "        allowed_target_types = (\"binary\", \"multiclass\")\n",
    "        if type_of_target_y not in allowed_target_types:\n",
    "            raise ValueError(\n",
    "                \"Supported target types are: {}. Got {!r} instead.\".format(\n",
    "                    allowed_target_types, type_of_target_y\n",
    "                )\n",
    "            )\n",
    "\n",
    "        y = column_or_1d(y)\n",
    "        _, y_inv, y_cnt = np.unique(y, return_inverse=True, return_counts=True)\n",
    "        # if np.all(self.n_splits > y_cnt):\n",
    "        #     raise ValueError(\n",
    "        #         \"n_splits=%d cannot be greater than the\"\n",
    "        #         \" number of members in each class.\" % (self.n_splits)\n",
    "        #     )\n",
    "        # n_smallest_class = np.min(y_cnt)\n",
    "        # if self.n_splits > n_smallest_class:\n",
    "        #     warnings.warn(\n",
    "        #         \"The least populated class in y has only %d\"\n",
    "        #         \" members, which is less than n_splits=%d.\"\n",
    "        #         % (n_smallest_class, self.n_splits),\n",
    "        #         UserWarning,\n",
    "        #     )\n",
    "        n_classes = len(y_cnt)\n",
    "\n",
    "        _, groups_inv, groups_cnt = np.unique(\n",
    "            groups, return_inverse=True, return_counts=True\n",
    "        )\n",
    "        y_counts_per_group = np.zeros((len(groups_cnt), n_classes))\n",
    "        for class_idx, group_idx in zip(y_inv, groups_inv):\n",
    "            y_counts_per_group[group_idx, class_idx] += 1\n",
    "\n",
    "        y_counts_per_fold = np.zeros((self.n_splits, n_classes))\n",
    "        groups_per_fold = defaultdict(set)\n",
    "\n",
    "        if self.shuffle:\n",
    "            rng.shuffle(y_counts_per_group)\n",
    "\n",
    "        # Stable sort to keep shuffled order for groups with the same\n",
    "        # class distribution variance\n",
    "        sorted_groups_idx = np.argsort(\n",
    "            -np.std(y_counts_per_group, axis=1), kind=\"mergesort\"\n",
    "        )\n",
    "\n",
    "        for group_idx in sorted_groups_idx:\n",
    "            group_y_counts = y_counts_per_group[group_idx]\n",
    "            best_fold = self._find_best_fold(\n",
    "                y_counts_per_fold=y_counts_per_fold,\n",
    "                y_cnt=y_cnt,\n",
    "                group_y_counts=group_y_counts,\n",
    "            )\n",
    "            y_counts_per_fold[best_fold] += group_y_counts\n",
    "            groups_per_fold[best_fold].add(group_idx)\n",
    "\n",
    "        for i in range(self.n_splits):\n",
    "            test_indices = [\n",
    "                idx\n",
    "                for idx, group_idx in enumerate(groups_inv)\n",
    "                if group_idx in groups_per_fold[i]\n",
    "            ]\n",
    "            yield test_indices\n",
    "\n",
    "    def _find_best_fold(self, y_counts_per_fold, y_cnt, group_y_counts):\n",
    "        best_fold = None\n",
    "        min_eval = np.inf\n",
    "        min_samples_in_fold = np.inf\n",
    "        for i in range(self.n_splits):\n",
    "            y_counts_per_fold[i] += group_y_counts\n",
    "            # Summarise the distribution over classes in each proposed fold\n",
    "            std_per_class = np.std(y_counts_per_fold / y_cnt.reshape(1, -1), axis=0)\n",
    "            y_counts_per_fold[i] -= group_y_counts\n",
    "            fold_eval = np.mean(std_per_class)\n",
    "            samples_in_fold = np.sum(y_counts_per_fold[i])\n",
    "            is_current_fold_better = (\n",
    "                fold_eval < min_eval\n",
    "                or np.isclose(fold_eval, min_eval)\n",
    "                and samples_in_fold < min_samples_in_fold\n",
    "            )\n",
    "            if is_current_fold_better:\n",
    "                min_eval = fold_eval\n",
    "                min_samples_in_fold = samples_in_fold\n",
    "                best_fold = i\n",
    "        return best_fold"
   ]
  },
  {
   "cell_type": "markdown",
   "metadata": {},
   "source": [
    "# Loads and manipulates"
   ]
  },
  {
   "cell_type": "code",
   "execution_count": 8,
   "metadata": {},
   "outputs": [],
   "source": [
    "orb = pd.read_csv(\"/neurospin/dico/data/bv_databases/human/partially_labeled/orbital_patterns/Troiani/HCP_OFC_for_JFM - Types_and_Subtypes.csv\", index_col=0)\n",
    "orb = orb.dropna()\n",
    "orb[\"Right\"] = orb[\"Right\"].astype(int)\n",
    "orb[\"Left\"] = orb[\"Left\"].astype(int)"
   ]
  },
  {
   "cell_type": "code",
   "execution_count": 9,
   "metadata": {},
   "outputs": [
    {
     "name": "stdout",
     "output_type": "stream",
     "text": [
      "1206\n"
     ]
    },
    {
     "data": {
      "text/html": [
       "<div>\n",
       "<style scoped>\n",
       "    .dataframe tbody tr th:only-of-type {\n",
       "        vertical-align: middle;\n",
       "    }\n",
       "\n",
       "    .dataframe tbody tr th {\n",
       "        vertical-align: top;\n",
       "    }\n",
       "\n",
       "    .dataframe thead th {\n",
       "        text-align: right;\n",
       "    }\n",
       "</style>\n",
       "<table border=\"1\" class=\"dataframe\">\n",
       "  <thead>\n",
       "    <tr style=\"text-align: right;\">\n",
       "      <th></th>\n",
       "      <th>Subject</th>\n",
       "      <th>Gender</th>\n",
       "    </tr>\n",
       "  </thead>\n",
       "  <tbody>\n",
       "    <tr>\n",
       "      <th>0</th>\n",
       "      <td>100004</td>\n",
       "      <td>M</td>\n",
       "    </tr>\n",
       "    <tr>\n",
       "      <th>1</th>\n",
       "      <td>100206</td>\n",
       "      <td>M</td>\n",
       "    </tr>\n",
       "    <tr>\n",
       "      <th>2</th>\n",
       "      <td>100307</td>\n",
       "      <td>F</td>\n",
       "    </tr>\n",
       "    <tr>\n",
       "      <th>3</th>\n",
       "      <td>100408</td>\n",
       "      <td>M</td>\n",
       "    </tr>\n",
       "    <tr>\n",
       "      <th>4</th>\n",
       "      <td>100610</td>\n",
       "      <td>M</td>\n",
       "    </tr>\n",
       "  </tbody>\n",
       "</table>\n",
       "</div>"
      ],
      "text/plain": [
       "   Subject Gender\n",
       "0   100004      M\n",
       "1   100206      M\n",
       "2   100307      F\n",
       "3   100408      M\n",
       "4   100610      M"
      ]
     },
     "execution_count": 9,
     "metadata": {},
     "output_type": "execute_result"
    }
   ],
   "source": [
    "participants_file = \"/neurospin/dico/data/bv_databases/human/not_labeled/hcp/participants.csv\"\n",
    "participants_unrestricted = pd.read_csv(participants_file)\n",
    "participants_unrestricted = participants_unrestricted[['Subject', \"Gender\"]]\n",
    "print(len(participants_unrestricted))\n",
    "participants_unrestricted.head()"
   ]
  },
  {
   "cell_type": "code",
   "execution_count": 10,
   "metadata": {},
   "outputs": [
    {
     "name": "stdout",
     "output_type": "stream",
     "text": [
      "1206\n"
     ]
    },
    {
     "data": {
      "text/html": [
       "<div>\n",
       "<style scoped>\n",
       "    .dataframe tbody tr th:only-of-type {\n",
       "        vertical-align: middle;\n",
       "    }\n",
       "\n",
       "    .dataframe tbody tr th {\n",
       "        vertical-align: top;\n",
       "    }\n",
       "\n",
       "    .dataframe thead th {\n",
       "        text-align: right;\n",
       "    }\n",
       "</style>\n",
       "<table border=\"1\" class=\"dataframe\">\n",
       "  <thead>\n",
       "    <tr style=\"text-align: right;\">\n",
       "      <th></th>\n",
       "      <th>Subject</th>\n",
       "      <th>ZygosityGT</th>\n",
       "      <th>Family_ID</th>\n",
       "    </tr>\n",
       "  </thead>\n",
       "  <tbody>\n",
       "    <tr>\n",
       "      <th>0</th>\n",
       "      <td>100004</td>\n",
       "      <td></td>\n",
       "      <td>52259_82122</td>\n",
       "    </tr>\n",
       "    <tr>\n",
       "      <th>1</th>\n",
       "      <td>100206</td>\n",
       "      <td></td>\n",
       "      <td>56037_85858</td>\n",
       "    </tr>\n",
       "    <tr>\n",
       "      <th>2</th>\n",
       "      <td>100307</td>\n",
       "      <td>MZ</td>\n",
       "      <td>51488_81352</td>\n",
       "    </tr>\n",
       "    <tr>\n",
       "      <th>3</th>\n",
       "      <td>100408</td>\n",
       "      <td>MZ</td>\n",
       "      <td>51730_81594</td>\n",
       "    </tr>\n",
       "    <tr>\n",
       "      <th>4</th>\n",
       "      <td>100610</td>\n",
       "      <td>DZ</td>\n",
       "      <td>52813_82634</td>\n",
       "    </tr>\n",
       "  </tbody>\n",
       "</table>\n",
       "</div>"
      ],
      "text/plain": [
       "   Subject ZygosityGT    Family_ID\n",
       "0   100004             52259_82122\n",
       "1   100206             56037_85858\n",
       "2   100307         MZ  51488_81352\n",
       "3   100408         MZ  51730_81594\n",
       "4   100610         DZ  52813_82634"
      ]
     },
     "execution_count": 10,
     "metadata": {},
     "output_type": "execute_result"
    }
   ],
   "source": [
    "participants_file = \"/neurospin/dico/jchavas/RESTRICTED_jchavas_1_18_2022_3_17_51.csv\"\n",
    "participants = pd.read_csv(participants_file)\n",
    "participants = participants[['Subject', 'ZygosityGT', 'Family_ID']]\n",
    "print(len(participants))\n",
    "participants.head()"
   ]
  },
  {
   "cell_type": "code",
   "execution_count": 11,
   "metadata": {},
   "outputs": [
    {
     "name": "stdout",
     "output_type": "stream",
     "text": [
      "1206\n"
     ]
    },
    {
     "data": {
      "text/html": [
       "<div>\n",
       "<style scoped>\n",
       "    .dataframe tbody tr th:only-of-type {\n",
       "        vertical-align: middle;\n",
       "    }\n",
       "\n",
       "    .dataframe tbody tr th {\n",
       "        vertical-align: top;\n",
       "    }\n",
       "\n",
       "    .dataframe thead th {\n",
       "        text-align: right;\n",
       "    }\n",
       "</style>\n",
       "<table border=\"1\" class=\"dataframe\">\n",
       "  <thead>\n",
       "    <tr style=\"text-align: right;\">\n",
       "      <th></th>\n",
       "      <th>Subject</th>\n",
       "      <th>Gender</th>\n",
       "      <th>ZygosityGT</th>\n",
       "      <th>Family_ID</th>\n",
       "    </tr>\n",
       "  </thead>\n",
       "  <tbody>\n",
       "    <tr>\n",
       "      <th>0</th>\n",
       "      <td>100004</td>\n",
       "      <td>M</td>\n",
       "      <td>NotTwin</td>\n",
       "      <td>52259_82122</td>\n",
       "    </tr>\n",
       "    <tr>\n",
       "      <th>1</th>\n",
       "      <td>100206</td>\n",
       "      <td>M</td>\n",
       "      <td>NotTwin</td>\n",
       "      <td>56037_85858</td>\n",
       "    </tr>\n",
       "    <tr>\n",
       "      <th>2</th>\n",
       "      <td>100307</td>\n",
       "      <td>F</td>\n",
       "      <td>MZ</td>\n",
       "      <td>51488_81352</td>\n",
       "    </tr>\n",
       "    <tr>\n",
       "      <th>3</th>\n",
       "      <td>100408</td>\n",
       "      <td>M</td>\n",
       "      <td>MZ</td>\n",
       "      <td>51730_81594</td>\n",
       "    </tr>\n",
       "    <tr>\n",
       "      <th>4</th>\n",
       "      <td>100610</td>\n",
       "      <td>M</td>\n",
       "      <td>DZ</td>\n",
       "      <td>52813_82634</td>\n",
       "    </tr>\n",
       "  </tbody>\n",
       "</table>\n",
       "</div>"
      ],
      "text/plain": [
       "  Subject Gender ZygosityGT    Family_ID\n",
       "0  100004      M    NotTwin  52259_82122\n",
       "1  100206      M    NotTwin  56037_85858\n",
       "2  100307      F         MZ  51488_81352\n",
       "3  100408      M         MZ  51730_81594\n",
       "4  100610      M         DZ  52813_82634"
      ]
     },
     "execution_count": 11,
     "metadata": {},
     "output_type": "execute_result"
    }
   ],
   "source": [
    "participants = pd.merge(participants_unrestricted, participants)\n",
    "participants.loc[(participants['ZygosityGT']== \" \"), 'ZygosityGT'] = 'NotTwin'  \n",
    "participants['Subject'] = participants['Subject'].astype('string')\n",
    "print(len(participants))\n",
    "participants.head()"
   ]
  },
  {
   "cell_type": "code",
   "execution_count": 12,
   "metadata": {},
   "outputs": [
    {
     "data": {
      "text/plain": [
       "Subject       string[python]\n",
       "Gender                object\n",
       "ZygosityGT            object\n",
       "Family_ID             object\n",
       "dtype: object"
      ]
     },
     "execution_count": 12,
     "metadata": {},
     "output_type": "execute_result"
    }
   ],
   "source": [
    "participants.dtypes"
   ]
  },
  {
   "cell_type": "code",
   "execution_count": 13,
   "metadata": {},
   "outputs": [
    {
     "name": "stdout",
     "output_type": "stream",
     "text": [
      "['210112', '579665', '922854', '517239', '329440']\n",
      "1113\n"
     ]
    },
    {
     "data": {
      "text/plain": [
       "{'142626'}"
      ]
     },
     "execution_count": 13,
     "metadata": {},
     "output_type": "execute_result"
    }
   ],
   "source": [
    "treated_subjects = glob.glob(\"/neurospin/dico/data/bv_databases/human/not_labeled/hcp/hcp/*[!.minf]\")\n",
    "treated_subjects = [x.split('/')[-1] for x in treated_subjects]\n",
    "treated_subjects = [x for x in treated_subjects if 'database' not in x]\n",
    "print(treated_subjects[:5])\n",
    "len(treated_subjects)\n",
    "participants = participants[participants['Subject'].isin(treated_subjects)]\n",
    "print(len(participants))\n",
    "set(treated_subjects) - set(participants['Subject'])"
   ]
  },
  {
   "cell_type": "code",
   "execution_count": 14,
   "metadata": {},
   "outputs": [
    {
     "name": "stdout",
     "output_type": "stream",
     "text": [
      "577\n",
      "Right             int64\n",
      "Right Subtype    object\n",
      "Left              int64\n",
      "Left Subtype     object\n",
      "dtype: object\n",
      "Right\n",
      "1        339\n",
      "2        120\n",
      "3         99\n",
      "4         19\n",
      "Name: count, dtype: int64\n",
      "Left\n",
      "1       281\n",
      "2       159\n",
      "3       101\n",
      "4        36\n",
      "Name: count, dtype: int64\n"
     ]
    }
   ],
   "source": [
    "print(len(orb))\n",
    "print(orb.dtypes)\n",
    "print(orb[[\"Right\"]].value_counts(dropna=False))\n",
    "print(orb[[\"Left\"]].value_counts(dropna=False))\n",
    "orb.index = orb.index.astype(str)"
   ]
  },
  {
   "cell_type": "code",
   "execution_count": 15,
   "metadata": {},
   "outputs": [
    {
     "data": {
      "text/html": [
       "<div>\n",
       "<style scoped>\n",
       "    .dataframe tbody tr th:only-of-type {\n",
       "        vertical-align: middle;\n",
       "    }\n",
       "\n",
       "    .dataframe tbody tr th {\n",
       "        vertical-align: top;\n",
       "    }\n",
       "\n",
       "    .dataframe thead th {\n",
       "        text-align: right;\n",
       "    }\n",
       "</style>\n",
       "<table border=\"1\" class=\"dataframe\">\n",
       "  <thead>\n",
       "    <tr style=\"text-align: right;\">\n",
       "      <th></th>\n",
       "      <th>Right</th>\n",
       "      <th>Right Subtype</th>\n",
       "      <th>Left</th>\n",
       "      <th>Left Subtype</th>\n",
       "    </tr>\n",
       "  </thead>\n",
       "  <tbody>\n",
       "    <tr>\n",
       "      <th>100307</th>\n",
       "      <td>1</td>\n",
       "      <td>B</td>\n",
       "      <td>2</td>\n",
       "      <td>F</td>\n",
       "    </tr>\n",
       "    <tr>\n",
       "      <th>100408</th>\n",
       "      <td>1</td>\n",
       "      <td>N</td>\n",
       "      <td>2</td>\n",
       "      <td>E</td>\n",
       "    </tr>\n",
       "    <tr>\n",
       "      <th>100610</th>\n",
       "      <td>1</td>\n",
       "      <td>A</td>\n",
       "      <td>1</td>\n",
       "      <td>A</td>\n",
       "    </tr>\n",
       "    <tr>\n",
       "      <th>101006</th>\n",
       "      <td>1</td>\n",
       "      <td>B</td>\n",
       "      <td>1</td>\n",
       "      <td>A</td>\n",
       "    </tr>\n",
       "    <tr>\n",
       "      <th>101410</th>\n",
       "      <td>2</td>\n",
       "      <td>A</td>\n",
       "      <td>2</td>\n",
       "      <td>I</td>\n",
       "    </tr>\n",
       "  </tbody>\n",
       "</table>\n",
       "</div>"
      ],
      "text/plain": [
       "        Right Right Subtype  Left Left Subtype\n",
       "100307      1             B     2            F\n",
       "100408      1             N     2            E\n",
       "100610      1             A     1            A\n",
       "101006      1             B     1            A\n",
       "101410      2             A     2            I"
      ]
     },
     "execution_count": 15,
     "metadata": {},
     "output_type": "execute_result"
    }
   ],
   "source": [
    "orb.head()"
   ]
  },
  {
   "cell_type": "code",
   "execution_count": 16,
   "metadata": {},
   "outputs": [
    {
     "data": {
      "text/plain": [
       "Index(['100307', '100408', '100610', '101006', '101410', '102311', '102816',\n",
       "       '103010', '103515', '103818',\n",
       "       ...\n",
       "       '966975', '969476', '971160', '972566', '973770', '984472', '987983',\n",
       "       '990366', '995174', '996782'],\n",
       "      dtype='object', length=577)"
      ]
     },
     "execution_count": 16,
     "metadata": {},
     "output_type": "execute_result"
    }
   ],
   "source": [
    "orb.index"
   ]
  },
  {
   "cell_type": "code",
   "execution_count": 17,
   "metadata": {},
   "outputs": [
    {
     "data": {
      "text/plain": [
       "set()"
      ]
     },
     "execution_count": 17,
     "metadata": {},
     "output_type": "execute_result"
    }
   ],
   "source": [
    "set(orb.index) - set(treated_subjects)"
   ]
  },
  {
   "cell_type": "code",
   "execution_count": 18,
   "metadata": {},
   "outputs": [
    {
     "data": {
      "text/plain": [
       "0"
      ]
     },
     "execution_count": 18,
     "metadata": {},
     "output_type": "execute_result"
    }
   ],
   "source": [
    "orb.index.isin(set(treated_subjects) - set(participants['Subject'])).sum()"
   ]
  },
  {
   "cell_type": "code",
   "execution_count": 19,
   "metadata": {},
   "outputs": [
    {
     "data": {
      "text/html": [
       "<div>\n",
       "<style scoped>\n",
       "    .dataframe tbody tr th:only-of-type {\n",
       "        vertical-align: middle;\n",
       "    }\n",
       "\n",
       "    .dataframe tbody tr th {\n",
       "        vertical-align: top;\n",
       "    }\n",
       "\n",
       "    .dataframe thead th {\n",
       "        text-align: right;\n",
       "    }\n",
       "</style>\n",
       "<table border=\"1\" class=\"dataframe\">\n",
       "  <thead>\n",
       "    <tr style=\"text-align: right;\">\n",
       "      <th></th>\n",
       "      <th>Right</th>\n",
       "      <th>Right Subtype</th>\n",
       "      <th>Left</th>\n",
       "      <th>Left Subtype</th>\n",
       "    </tr>\n",
       "  </thead>\n",
       "  <tbody>\n",
       "    <tr>\n",
       "      <th>100307</th>\n",
       "      <td>1</td>\n",
       "      <td>B</td>\n",
       "      <td>2</td>\n",
       "      <td>F</td>\n",
       "    </tr>\n",
       "    <tr>\n",
       "      <th>100408</th>\n",
       "      <td>1</td>\n",
       "      <td>N</td>\n",
       "      <td>2</td>\n",
       "      <td>E</td>\n",
       "    </tr>\n",
       "    <tr>\n",
       "      <th>100610</th>\n",
       "      <td>1</td>\n",
       "      <td>A</td>\n",
       "      <td>1</td>\n",
       "      <td>A</td>\n",
       "    </tr>\n",
       "    <tr>\n",
       "      <th>101006</th>\n",
       "      <td>1</td>\n",
       "      <td>B</td>\n",
       "      <td>1</td>\n",
       "      <td>A</td>\n",
       "    </tr>\n",
       "    <tr>\n",
       "      <th>101410</th>\n",
       "      <td>2</td>\n",
       "      <td>A</td>\n",
       "      <td>2</td>\n",
       "      <td>I</td>\n",
       "    </tr>\n",
       "  </tbody>\n",
       "</table>\n",
       "</div>"
      ],
      "text/plain": [
       "        Right Right Subtype  Left Left Subtype\n",
       "100307      1             B     2            F\n",
       "100408      1             N     2            E\n",
       "100610      1             A     1            A\n",
       "101006      1             B     1            A\n",
       "101410      2             A     2            I"
      ]
     },
     "execution_count": 19,
     "metadata": {},
     "output_type": "execute_result"
    }
   ],
   "source": [
    "orb.head()"
   ]
  },
  {
   "cell_type": "code",
   "execution_count": 20,
   "metadata": {},
   "outputs": [
    {
     "data": {
      "text/html": [
       "<div>\n",
       "<style scoped>\n",
       "    .dataframe tbody tr th:only-of-type {\n",
       "        vertical-align: middle;\n",
       "    }\n",
       "\n",
       "    .dataframe tbody tr th {\n",
       "        vertical-align: top;\n",
       "    }\n",
       "\n",
       "    .dataframe thead th {\n",
       "        text-align: right;\n",
       "    }\n",
       "</style>\n",
       "<table border=\"1\" class=\"dataframe\">\n",
       "  <thead>\n",
       "    <tr style=\"text-align: right;\">\n",
       "      <th></th>\n",
       "      <th>Subject</th>\n",
       "      <th>Gender</th>\n",
       "      <th>ZygosityGT</th>\n",
       "      <th>Family_ID</th>\n",
       "    </tr>\n",
       "  </thead>\n",
       "  <tbody>\n",
       "    <tr>\n",
       "      <th>1</th>\n",
       "      <td>100206</td>\n",
       "      <td>M</td>\n",
       "      <td>NotTwin</td>\n",
       "      <td>56037_85858</td>\n",
       "    </tr>\n",
       "    <tr>\n",
       "      <th>2</th>\n",
       "      <td>100307</td>\n",
       "      <td>F</td>\n",
       "      <td>MZ</td>\n",
       "      <td>51488_81352</td>\n",
       "    </tr>\n",
       "    <tr>\n",
       "      <th>3</th>\n",
       "      <td>100408</td>\n",
       "      <td>M</td>\n",
       "      <td>MZ</td>\n",
       "      <td>51730_81594</td>\n",
       "    </tr>\n",
       "    <tr>\n",
       "      <th>4</th>\n",
       "      <td>100610</td>\n",
       "      <td>M</td>\n",
       "      <td>DZ</td>\n",
       "      <td>52813_82634</td>\n",
       "    </tr>\n",
       "    <tr>\n",
       "      <th>5</th>\n",
       "      <td>101006</td>\n",
       "      <td>F</td>\n",
       "      <td>NotTwin</td>\n",
       "      <td>51283_52850_81149</td>\n",
       "    </tr>\n",
       "  </tbody>\n",
       "</table>\n",
       "</div>"
      ],
      "text/plain": [
       "  Subject Gender ZygosityGT          Family_ID\n",
       "1  100206      M    NotTwin        56037_85858\n",
       "2  100307      F         MZ        51488_81352\n",
       "3  100408      M         MZ        51730_81594\n",
       "4  100610      M         DZ        52813_82634\n",
       "5  101006      F    NotTwin  51283_52850_81149"
      ]
     },
     "execution_count": 20,
     "metadata": {},
     "output_type": "execute_result"
    }
   ],
   "source": [
    "participants.head()"
   ]
  },
  {
   "cell_type": "code",
   "execution_count": 21,
   "metadata": {},
   "outputs": [],
   "source": [
    "orb = pd.merge(participants, orb, left_on='Subject', right_index=True).set_index('Subject')"
   ]
  },
  {
   "cell_type": "markdown",
   "metadata": {},
   "source": [
    "# Makes split without considering twins"
   ]
  },
  {
   "cell_type": "code",
   "execution_count": 22,
   "metadata": {},
   "outputs": [
    {
     "data": {
      "text/plain": [
       "Gender\n",
       "F         349\n",
       "M         228\n",
       "Name: count, dtype: int64"
      ]
     },
     "execution_count": 22,
     "metadata": {},
     "output_type": "execute_result"
    }
   ],
   "source": [
    "orb[[\"Gender\"]].value_counts()"
   ]
  },
  {
   "cell_type": "code",
   "execution_count": 23,
   "metadata": {},
   "outputs": [
    {
     "data": {
      "text/html": [
       "<div>\n",
       "<style scoped>\n",
       "    .dataframe tbody tr th:only-of-type {\n",
       "        vertical-align: middle;\n",
       "    }\n",
       "\n",
       "    .dataframe tbody tr th {\n",
       "        vertical-align: top;\n",
       "    }\n",
       "\n",
       "    .dataframe thead th {\n",
       "        text-align: right;\n",
       "    }\n",
       "</style>\n",
       "<table border=\"1\" class=\"dataframe\">\n",
       "  <thead>\n",
       "    <tr style=\"text-align: right;\">\n",
       "      <th></th>\n",
       "      <th>Gender</th>\n",
       "      <th>ZygosityGT</th>\n",
       "      <th>Family_ID</th>\n",
       "      <th>Right</th>\n",
       "      <th>Right Subtype</th>\n",
       "      <th>Left</th>\n",
       "      <th>Left Subtype</th>\n",
       "    </tr>\n",
       "    <tr>\n",
       "      <th>Subject</th>\n",
       "      <th></th>\n",
       "      <th></th>\n",
       "      <th></th>\n",
       "      <th></th>\n",
       "      <th></th>\n",
       "      <th></th>\n",
       "      <th></th>\n",
       "    </tr>\n",
       "  </thead>\n",
       "  <tbody>\n",
       "    <tr>\n",
       "      <th>100610</th>\n",
       "      <td>M</td>\n",
       "      <td>DZ</td>\n",
       "      <td>52813_82634</td>\n",
       "      <td>1</td>\n",
       "      <td>A</td>\n",
       "      <td>1</td>\n",
       "      <td>A</td>\n",
       "    </tr>\n",
       "    <tr>\n",
       "      <th>103010</th>\n",
       "      <td>M</td>\n",
       "      <td>MZ</td>\n",
       "      <td>55895_85715</td>\n",
       "      <td>1</td>\n",
       "      <td>A</td>\n",
       "      <td>1</td>\n",
       "      <td>A</td>\n",
       "    </tr>\n",
       "    <tr>\n",
       "      <th>106824</th>\n",
       "      <td>M</td>\n",
       "      <td>DZ</td>\n",
       "      <td>56183_86002</td>\n",
       "      <td>1</td>\n",
       "      <td>I</td>\n",
       "      <td>1</td>\n",
       "      <td>A</td>\n",
       "    </tr>\n",
       "    <tr>\n",
       "      <th>107422</th>\n",
       "      <td>M</td>\n",
       "      <td>MZ</td>\n",
       "      <td>54628_84450</td>\n",
       "      <td>1</td>\n",
       "      <td>B</td>\n",
       "      <td>1</td>\n",
       "      <td>A</td>\n",
       "    </tr>\n",
       "    <tr>\n",
       "      <th>108020</th>\n",
       "      <td>M</td>\n",
       "      <td>DZ</td>\n",
       "      <td>56200_86019</td>\n",
       "      <td>1</td>\n",
       "      <td>C</td>\n",
       "      <td>1</td>\n",
       "      <td>A</td>\n",
       "    </tr>\n",
       "    <tr>\n",
       "      <th>...</th>\n",
       "      <td>...</td>\n",
       "      <td>...</td>\n",
       "      <td>...</td>\n",
       "      <td>...</td>\n",
       "      <td>...</td>\n",
       "      <td>...</td>\n",
       "      <td>...</td>\n",
       "    </tr>\n",
       "    <tr>\n",
       "      <th>832651</th>\n",
       "      <td>M</td>\n",
       "      <td>DZ</td>\n",
       "      <td>55904_85724</td>\n",
       "      <td>1</td>\n",
       "      <td>N</td>\n",
       "      <td>1</td>\n",
       "      <td>E</td>\n",
       "    </tr>\n",
       "    <tr>\n",
       "      <th>871964</th>\n",
       "      <td>M</td>\n",
       "      <td>NotTwin</td>\n",
       "      <td>51852_81716</td>\n",
       "      <td>1</td>\n",
       "      <td>N</td>\n",
       "      <td>1</td>\n",
       "      <td>C</td>\n",
       "    </tr>\n",
       "    <tr>\n",
       "      <th>898176</th>\n",
       "      <td>M</td>\n",
       "      <td>DZ</td>\n",
       "      <td>51749_81613</td>\n",
       "      <td>1</td>\n",
       "      <td>F</td>\n",
       "      <td>1</td>\n",
       "      <td>N</td>\n",
       "    </tr>\n",
       "    <tr>\n",
       "      <th>926862</th>\n",
       "      <td>M</td>\n",
       "      <td>MZ</td>\n",
       "      <td>55763_85584</td>\n",
       "      <td>1</td>\n",
       "      <td>C</td>\n",
       "      <td>1</td>\n",
       "      <td>I</td>\n",
       "    </tr>\n",
       "    <tr>\n",
       "      <th>943862</th>\n",
       "      <td>M</td>\n",
       "      <td>MZ</td>\n",
       "      <td>52844_82665</td>\n",
       "      <td>1</td>\n",
       "      <td>B</td>\n",
       "      <td>1</td>\n",
       "      <td>B</td>\n",
       "    </tr>\n",
       "  </tbody>\n",
       "</table>\n",
       "<p>67 rows × 7 columns</p>\n",
       "</div>"
      ],
      "text/plain": [
       "        Gender ZygosityGT    Family_ID  Right Right Subtype  Left Left Subtype\n",
       "Subject                                                                       \n",
       "100610       M         DZ  52813_82634      1             A     1            A\n",
       "103010       M         MZ  55895_85715      1             A     1            A\n",
       "106824       M         DZ  56183_86002      1             I     1            A\n",
       "107422       M         MZ  54628_84450      1             B     1            A\n",
       "108020       M         DZ  56200_86019      1             C     1            A\n",
       "...        ...        ...          ...    ...           ...   ...          ...\n",
       "832651       M         DZ  55904_85724      1             N     1            E\n",
       "871964       M    NotTwin  51852_81716      1             N     1            C\n",
       "898176       M         DZ  51749_81613      1             F     1            N\n",
       "926862       M         MZ  55763_85584      1             C     1            I\n",
       "943862       M         MZ  52844_82665      1             B     1            B\n",
       "\n",
       "[67 rows x 7 columns]"
      ]
     },
     "execution_count": 23,
     "metadata": {},
     "output_type": "execute_result"
    }
   ],
   "source": [
    "orb.query(\"Right==1 and Left==1 and Gender=='M'\")"
   ]
  },
  {
   "cell_type": "code",
   "execution_count": 24,
   "metadata": {},
   "outputs": [],
   "source": [
    "def print_frequencies(df):\n",
    "    for right in df['Right'].unique():\n",
    "        for left in df['Left'].unique():\n",
    "            for gender in df['Gender'].unique():\n",
    "                freq = df.query(\"Right==@right and Left==@left and Gender==@gender\")\n",
    "                print(f\"{right}, {left}, {gender}: {len(freq)}\")"
   ]
  },
  {
   "cell_type": "code",
   "execution_count": 25,
   "metadata": {},
   "outputs": [
    {
     "name": "stdout",
     "output_type": "stream",
     "text": [
      "1, 2, F: 50\n",
      "1, 2, M: 36\n",
      "1, 1, F: 111\n",
      "1, 1, M: 67\n",
      "1, 3, F: 49\n",
      "1, 3, M: 14\n",
      "1, 4, F: 7\n",
      "1, 4, M: 5\n",
      "2, 2, F: 16\n",
      "2, 2, M: 28\n",
      "2, 1, F: 27\n",
      "2, 1, M: 27\n",
      "2, 3, F: 7\n",
      "2, 3, M: 2\n",
      "2, 4, F: 5\n",
      "2, 4, M: 8\n",
      "3, 2, F: 13\n",
      "3, 2, M: 11\n",
      "3, 1, F: 27\n",
      "3, 1, M: 14\n",
      "3, 3, F: 17\n",
      "3, 3, M: 7\n",
      "3, 4, F: 8\n",
      "3, 4, M: 2\n",
      "4, 2, F: 3\n",
      "4, 2, M: 2\n",
      "4, 1, F: 5\n",
      "4, 1, M: 3\n",
      "4, 3, F: 3\n",
      "4, 3, M: 2\n",
      "4, 4, F: 1\n",
      "4, 4, M: 0\n"
     ]
    }
   ],
   "source": [
    "print_frequencies(orb)"
   ]
  },
  {
   "cell_type": "code",
   "execution_count": 26,
   "metadata": {},
   "outputs": [],
   "source": [
    "def print_results(parent, folds, col, verbose=True):\n",
    "\n",
    "    # For each conbination of labels, prints the number of rows for each fold\n",
    "    # having this combination\n",
    "    total_errors = 0\n",
    "    n_splits = len(folds)\n",
    "    if verbose:\n",
    "        print(\"query   : #rows      : #rows per fold\\n\")\n",
    "\n",
    "    for col0 in parent[col[0]].unique():\n",
    "        for col1 in parent[col[1]].unique():\n",
    "            #for col2 in parent[col[2]].unique():\n",
    "            #df = parent.query(f\"{col[0]}==@col0 and {col[1]}==@col1 and {col[2]}==@col2\")\n",
    "            df = parent.query(f\"{col[0]}==@col0 and {col[1]}==@col1\")\n",
    "            len_query = len(df)\n",
    "            if verbose:\n",
    "                #print(f\"{col0}, {col1}, {col2} : total = {len_query} : per fold =\", end = ' ')\n",
    "                print(f\"{col0}, {col1} : total = {len_query} : per fold =\", end = ' ')\n",
    "            for fold in folds:\n",
    "                #df0 = fold.query(f\"{col[0]}==@col0 and {col[1]}==@col1 and {col[2]}==@col2\")\n",
    "                df0 = fold.query(f\"{col[0]}==@col0 and {col[1]}==@col1\")\n",
    "                len_query_fold = len(df0)\n",
    "                if abs(len_query_fold-len_query/n_splits) >= 2:\n",
    "                    total_errors += 1\n",
    "                if verbose:\n",
    "                    print(f\"{len_query_fold} -\", end= ' ')\n",
    "            if verbose:\n",
    "                print(\"\")\n",
    "\n",
    "    # Prints the statistics and the number of stratification errors\n",
    "    expected_total_length = len(parent)\n",
    "    total_length = 0\n",
    "    total_mismatches = 0\n",
    "    print(\"\\nlengths of folds : \", end = ' ')\n",
    "    for fold in folds:\n",
    "        len_fold = len(fold)\n",
    "        print(len_fold, end=' ')\n",
    "        total_length += len_fold\n",
    "        if abs(len_fold-expected_total_length/n_splits) >= 2:\n",
    "            total_mismatches += 1\n",
    "    print(f\"\\nExpected total_length = {expected_total_length}\")\n",
    "    print(f\"Effective total_length = {total_length}\")\n",
    "\n",
    "    print(f\"total number of stratification errors: {total_errors}\")\n",
    "    print(f\"total number of mismatched fold sizes : {total_mismatches}\")"
   ]
  },
  {
   "cell_type": "code",
   "execution_count": 27,
   "metadata": {},
   "outputs": [],
   "source": [
    "def iterative_split(df, folds, n_splits, stratify_columns):\n",
    "    \"\"\"Custom iterative train test split which\n",
    "    'maintains balanced representation with respect\n",
    "    to order-th label combinations.'\n",
    "\n",
    "    From https://madewithml.com/courses/mlops/splitting/#stratified-split\n",
    "    \"\"\"\n",
    "    # One-hot encode the stratify columns and concatenate them\n",
    "    one_hot_cols = [pd.get_dummies(df[col]) for col in stratify_columns]\n",
    "    one_hot_cols = pd.concat(one_hot_cols, axis=1).to_numpy()\n",
    "    stratifier = IterativeStratification(\n",
    "        n_splits=n_splits, order=len(stratify_columns), sample_distribution_per_fold=folds)\n",
    "    folds = []\n",
    "    for indices in stratifier.split(df.to_numpy(), one_hot_cols):\n",
    "        folds.append(df.iloc[indices[1]])\n",
    "    return folds"
   ]
  },
  {
   "cell_type": "code",
   "execution_count": 28,
   "metadata": {},
   "outputs": [],
   "source": [
    "folds = iterative_split(orb, [0.1,]*10, 10, ['Right', 'Left', 'Gender'])"
   ]
  },
  {
   "cell_type": "code",
   "execution_count": 29,
   "metadata": {},
   "outputs": [
    {
     "name": "stdout",
     "output_type": "stream",
     "text": [
      "10\n"
     ]
    }
   ],
   "source": [
    "print(len(folds))"
   ]
  },
  {
   "cell_type": "code",
   "execution_count": 30,
   "metadata": {},
   "outputs": [
    {
     "name": "stdout",
     "output_type": "stream",
     "text": [
      "query   : #rows      : #rows per fold\n",
      "\n",
      "1, 2 : total = 86 : per fold = 9 - 8 - 9 - 8 - 9 - 9 - 9 - 8 - 9 - 8 - \n",
      "1, 1 : total = 178 : per fold = 19 - 18 - 19 - 17 - 16 - 18 - 18 - 18 - 18 - 17 - \n",
      "1, 3 : total = 63 : per fold = 6 - 6 - 6 - 7 - 7 - 6 - 6 - 6 - 6 - 7 - \n",
      "1, 4 : total = 12 : per fold = 0 - 1 - 0 - 2 - 2 - 1 - 1 - 2 - 1 - 2 - \n",
      "2, 2 : total = 44 : per fold = 5 - 4 - 4 - 5 - 5 - 4 - 4 - 4 - 4 - 5 - \n",
      "2, 1 : total = 54 : per fold = 6 - 6 - 5 - 5 - 6 - 6 - 5 - 5 - 4 - 6 - \n",
      "2, 3 : total = 9 : per fold = 1 - 0 - 1 - 0 - 1 - 0 - 2 - 2 - 1 - 1 - \n",
      "2, 4 : total = 13 : per fold = 0 - 2 - 2 - 1 - 1 - 1 - 2 - 1 - 1 - 2 - \n",
      "3, 2 : total = 24 : per fold = 3 - 2 - 2 - 2 - 2 - 3 - 2 - 3 - 3 - 2 - \n",
      "3, 1 : total = 41 : per fold = 4 - 3 - 4 - 4 - 4 - 5 - 4 - 5 - 4 - 4 - \n",
      "3, 3 : total = 24 : per fold = 2 - 3 - 3 - 2 - 3 - 2 - 2 - 2 - 2 - 3 - \n",
      "3, 4 : total = 10 : per fold = 1 - 0 - 1 - 1 - 1 - 1 - 1 - 1 - 2 - 1 - \n",
      "4, 2 : total = 5 : per fold = 0 - 1 - 1 - 0 - 0 - 0 - 1 - 1 - 1 - 0 - \n",
      "4, 1 : total = 8 : per fold = 1 - 0 - 1 - 1 - 1 - 1 - 0 - 1 - 1 - 1 - \n",
      "4, 3 : total = 5 : per fold = 0 - 0 - 1 - 1 - 1 - 0 - 2 - 0 - 0 - 0 - \n",
      "4, 4 : total = 1 : per fold = 0 - 1 - 0 - 0 - 0 - 0 - 0 - 0 - 0 - 0 - \n",
      "\n",
      "lengths of folds :  57 55 59 56 59 57 59 59 57 59 \n",
      "Expected total_length = 577\n",
      "Effective total_length = 577\n",
      "total number of stratification errors: 0\n",
      "total number of mismatched fold sizes : 1\n"
     ]
    }
   ],
   "source": [
    "print_results(orb, folds, ['Right', 'Left', 'Gender'])"
   ]
  },
  {
   "cell_type": "code",
   "execution_count": 31,
   "metadata": {},
   "outputs": [],
   "source": [
    "def iterative_split_through_sorting_shuffle(df, n_splits, stratify_columns, random_state):\n",
    "    \"\"\"Custom iterative train test split which\n",
    "    maintains balanced representation.\n",
    "    \"\"\"\n",
    "    # Dataframe random row shuffle + sorting according to stratify_columns\n",
    "    sorted = df.sample(frac=1, random_state=random_state).sort_values(stratify_columns)\n",
    "    # for each fold, we take one row every n_splits rows\n",
    "    folds = [sorted.iloc[i::n_splits, :] for i in range(n_splits)]\n",
    "    # Further shuffling\n",
    "    folds = [fold.sample(frac=1, random_state=random_state) for fold in folds]\n",
    "    random.Random(random_state).shuffle(folds)\n",
    "    return folds"
   ]
  },
  {
   "cell_type": "code",
   "execution_count": 32,
   "metadata": {},
   "outputs": [],
   "source": [
    "folds = iterative_split_through_sorting_shuffle(orb, 10, ['Right', 'Left', 'Gender'], 1)"
   ]
  },
  {
   "cell_type": "code",
   "execution_count": 33,
   "metadata": {},
   "outputs": [
    {
     "name": "stdout",
     "output_type": "stream",
     "text": [
      "query   : #rows      : #rows per fold\n",
      "\n",
      "1, 2 : total = 86 : per fold = 8 - 9 - 9 - 8 - 8 - 9 - 9 - 8 - 9 - 9 - \n",
      "1, 1 : total = 178 : per fold = 18 - 17 - 17 - 18 - 18 - 18 - 18 - 18 - 18 - 18 - \n",
      "1, 3 : total = 63 : per fold = 7 - 6 - 6 - 6 - 7 - 6 - 6 - 7 - 6 - 6 - \n",
      "1, 4 : total = 12 : per fold = 1 - 2 - 1 - 2 - 1 - 1 - 1 - 1 - 1 - 1 - \n",
      "2, 2 : total = 44 : per fold = 5 - 4 - 4 - 4 - 5 - 5 - 4 - 5 - 4 - 4 - \n",
      "2, 1 : total = 54 : per fold = 5 - 5 - 6 - 5 - 5 - 5 - 6 - 5 - 6 - 6 - \n",
      "2, 3 : total = 9 : per fold = 0 - 1 - 1 - 1 - 1 - 1 - 1 - 1 - 1 - 1 - \n",
      "2, 4 : total = 13 : per fold = 2 - 2 - 1 - 2 - 1 - 1 - 1 - 1 - 1 - 1 - \n",
      "3, 2 : total = 24 : per fold = 2 - 2 - 2 - 2 - 2 - 3 - 3 - 2 - 3 - 3 - \n",
      "3, 1 : total = 41 : per fold = 4 - 4 - 5 - 4 - 4 - 4 - 4 - 4 - 4 - 4 - \n",
      "3, 3 : total = 24 : per fold = 3 - 2 - 2 - 3 - 3 - 2 - 2 - 3 - 2 - 2 - \n",
      "3, 4 : total = 10 : per fold = 1 - 1 - 1 - 1 - 1 - 1 - 1 - 1 - 1 - 1 - \n",
      "4, 2 : total = 5 : per fold = 1 - 1 - 1 - 1 - 0 - 0 - 1 - 0 - 0 - 0 - \n",
      "4, 1 : total = 8 : per fold = 0 - 1 - 1 - 0 - 1 - 1 - 1 - 1 - 1 - 1 - \n",
      "4, 3 : total = 5 : per fold = 0 - 0 - 0 - 0 - 1 - 1 - 0 - 1 - 1 - 1 - \n",
      "4, 4 : total = 1 : per fold = 1 - 0 - 0 - 0 - 0 - 0 - 0 - 0 - 0 - 0 - \n",
      "\n",
      "lengths of folds :  58 57 57 57 58 58 58 58 58 58 \n",
      "Expected total_length = 577\n",
      "Effective total_length = 577\n",
      "total number of stratification errors: 0\n",
      "total number of mismatched fold sizes : 0\n"
     ]
    }
   ],
   "source": [
    "print_results(orb, folds, ['Right', 'Left', 'Gender'])"
   ]
  },
  {
   "cell_type": "markdown",
   "metadata": {},
   "source": [
    "# Makes splits by considering zygosity"
   ]
  },
  {
   "cell_type": "code",
   "execution_count": 34,
   "metadata": {},
   "outputs": [
    {
     "data": {
      "text/plain": [
       "{'DZ', 'MZ', 'NotTwin'}"
      ]
     },
     "execution_count": 34,
     "metadata": {},
     "output_type": "execute_result"
    }
   ],
   "source": [
    "set(orb['ZygosityGT'].tolist())"
   ]
  },
  {
   "cell_type": "code",
   "execution_count": 35,
   "metadata": {},
   "outputs": [
    {
     "data": {
      "text/html": [
       "<div>\n",
       "<style scoped>\n",
       "    .dataframe tbody tr th:only-of-type {\n",
       "        vertical-align: middle;\n",
       "    }\n",
       "\n",
       "    .dataframe tbody tr th {\n",
       "        vertical-align: top;\n",
       "    }\n",
       "\n",
       "    .dataframe thead th {\n",
       "        text-align: right;\n",
       "    }\n",
       "</style>\n",
       "<table border=\"1\" class=\"dataframe\">\n",
       "  <thead>\n",
       "    <tr style=\"text-align: right;\">\n",
       "      <th></th>\n",
       "      <th>Gender</th>\n",
       "      <th>ZygosityGT</th>\n",
       "      <th>Family_ID</th>\n",
       "      <th>Right</th>\n",
       "      <th>Right Subtype</th>\n",
       "      <th>Left</th>\n",
       "      <th>Left Subtype</th>\n",
       "    </tr>\n",
       "    <tr>\n",
       "      <th>Subject</th>\n",
       "      <th></th>\n",
       "      <th></th>\n",
       "      <th></th>\n",
       "      <th></th>\n",
       "      <th></th>\n",
       "      <th></th>\n",
       "      <th></th>\n",
       "    </tr>\n",
       "  </thead>\n",
       "  <tbody>\n",
       "    <tr>\n",
       "      <th>473952</th>\n",
       "      <td>F</td>\n",
       "      <td>DZ</td>\n",
       "      <td>51090_80960_99983</td>\n",
       "      <td>1</td>\n",
       "      <td>A</td>\n",
       "      <td>1</td>\n",
       "      <td>A</td>\n",
       "    </tr>\n",
       "    <tr>\n",
       "      <th>289555</th>\n",
       "      <td>F</td>\n",
       "      <td>DZ</td>\n",
       "      <td>51090_80960_99983</td>\n",
       "      <td>3</td>\n",
       "      <td>Y</td>\n",
       "      <td>2</td>\n",
       "      <td>A</td>\n",
       "    </tr>\n",
       "    <tr>\n",
       "      <th>123723</th>\n",
       "      <td>F</td>\n",
       "      <td>MZ</td>\n",
       "      <td>51106_80975</td>\n",
       "      <td>1</td>\n",
       "      <td>N</td>\n",
       "      <td>1</td>\n",
       "      <td>A</td>\n",
       "    </tr>\n",
       "    <tr>\n",
       "      <th>677968</th>\n",
       "      <td>F</td>\n",
       "      <td>MZ</td>\n",
       "      <td>51279_81145</td>\n",
       "      <td>3</td>\n",
       "      <td>T</td>\n",
       "      <td>4</td>\n",
       "      <td>A</td>\n",
       "    </tr>\n",
       "    <tr>\n",
       "      <th>139637</th>\n",
       "      <td>F</td>\n",
       "      <td>MZ</td>\n",
       "      <td>51279_81145</td>\n",
       "      <td>2</td>\n",
       "      <td>A</td>\n",
       "      <td>2</td>\n",
       "      <td>A</td>\n",
       "    </tr>\n",
       "    <tr>\n",
       "      <th>...</th>\n",
       "      <td>...</td>\n",
       "      <td>...</td>\n",
       "      <td>...</td>\n",
       "      <td>...</td>\n",
       "      <td>...</td>\n",
       "      <td>...</td>\n",
       "      <td>...</td>\n",
       "    </tr>\n",
       "    <tr>\n",
       "      <th>108020</th>\n",
       "      <td>M</td>\n",
       "      <td>DZ</td>\n",
       "      <td>56200_86019</td>\n",
       "      <td>1</td>\n",
       "      <td>C</td>\n",
       "      <td>1</td>\n",
       "      <td>A</td>\n",
       "    </tr>\n",
       "    <tr>\n",
       "      <th>728454</th>\n",
       "      <td>M</td>\n",
       "      <td>DZ</td>\n",
       "      <td>56200_86019</td>\n",
       "      <td>1</td>\n",
       "      <td>A</td>\n",
       "      <td>2</td>\n",
       "      <td>A</td>\n",
       "    </tr>\n",
       "    <tr>\n",
       "      <th>618952</th>\n",
       "      <td>M</td>\n",
       "      <td>NotTwin</td>\n",
       "      <td>56202_86021</td>\n",
       "      <td>2</td>\n",
       "      <td>C</td>\n",
       "      <td>1</td>\n",
       "      <td>B</td>\n",
       "    </tr>\n",
       "    <tr>\n",
       "      <th>650746</th>\n",
       "      <td>M</td>\n",
       "      <td>NotTwin</td>\n",
       "      <td>99987_99988</td>\n",
       "      <td>2</td>\n",
       "      <td>I</td>\n",
       "      <td>1</td>\n",
       "      <td>S</td>\n",
       "    </tr>\n",
       "    <tr>\n",
       "      <th>114823</th>\n",
       "      <td>F</td>\n",
       "      <td>NotTwin</td>\n",
       "      <td>99996_99997</td>\n",
       "      <td>1</td>\n",
       "      <td>A</td>\n",
       "      <td>1</td>\n",
       "      <td>A</td>\n",
       "    </tr>\n",
       "  </tbody>\n",
       "</table>\n",
       "<p>577 rows × 7 columns</p>\n",
       "</div>"
      ],
      "text/plain": [
       "        Gender ZygosityGT          Family_ID  Right Right Subtype  Left  \\\n",
       "Subject                                                                   \n",
       "473952       F         DZ  51090_80960_99983      1             A     1   \n",
       "289555       F         DZ  51090_80960_99983      3             Y     2   \n",
       "123723       F         MZ        51106_80975      1             N     1   \n",
       "677968       F         MZ        51279_81145      3             T     4   \n",
       "139637       F         MZ        51279_81145      2             A     2   \n",
       "...        ...        ...                ...    ...           ...   ...   \n",
       "108020       M         DZ        56200_86019      1             C     1   \n",
       "728454       M         DZ        56200_86019      1             A     2   \n",
       "618952       M    NotTwin        56202_86021      2             C     1   \n",
       "650746       M    NotTwin        99987_99988      2             I     1   \n",
       "114823       F    NotTwin        99996_99997      1             A     1   \n",
       "\n",
       "        Left Subtype  \n",
       "Subject               \n",
       "473952             A  \n",
       "289555             A  \n",
       "123723             A  \n",
       "677968             A  \n",
       "139637             A  \n",
       "...              ...  \n",
       "108020             A  \n",
       "728454             A  \n",
       "618952             B  \n",
       "650746             S  \n",
       "114823             A  \n",
       "\n",
       "[577 rows x 7 columns]"
      ]
     },
     "execution_count": 35,
     "metadata": {},
     "output_type": "execute_result"
    }
   ],
   "source": [
    "orb.sort_values(\"Family_ID\")"
   ]
  },
  {
   "cell_type": "code",
   "execution_count": 36,
   "metadata": {},
   "outputs": [
    {
     "name": "stdout",
     "output_type": "stream",
     "text": [
      "{2}\n",
      "{5}\n",
      "{3, 4}\n"
     ]
    }
   ],
   "source": [
    "l1 = [2, 3, 4]\n",
    "l2 = [3, 4, 5]\n",
    "print(set(l1)-set(l2))\n",
    "print(set(l2)-set(l1))\n",
    "print(set(l1).intersection(set(l2)))"
   ]
  },
  {
   "cell_type": "code",
   "execution_count": 37,
   "metadata": {},
   "outputs": [],
   "source": [
    "def how_many_common_families(total, folds):\n",
    "    nb_common = 0\n",
    "    for i, source in enumerate(folds):\n",
    "        for j, target in enumerate(folds):\n",
    "            if j > i:\n",
    "                nb_common += len(set(target.Family_ID).intersection(set(source.Family_ID)))\n",
    "    print(f\"number of common families = {nb_common} over {len(set(total.Family_ID))} total families\")\n"
   ]
  },
  {
   "cell_type": "code",
   "execution_count": 38,
   "metadata": {},
   "outputs": [
    {
     "name": "stdout",
     "output_type": "stream",
     "text": [
      "\n",
      "lengths of folds :  58 57 57 57 58 58 58 58 58 58 \n",
      "Expected total_length = 577\n",
      "Effective total_length = 577\n",
      "total number of stratification errors: 0\n",
      "total number of mismatched fold sizes : 0\n",
      "number of common families = 221 over 335 total families\n"
     ]
    }
   ],
   "source": [
    "print_results(orb, folds, ['Right', 'Left', 'Gender'], False)\n",
    "how_many_common_families(orb, folds)"
   ]
  },
  {
   "cell_type": "code",
   "execution_count": 39,
   "metadata": {},
   "outputs": [],
   "source": [
    "def bring_together_families(folds):\n",
    "    nb_common = 0\n",
    "    results = [fold.copy() for fold in folds]\n",
    "    for i in range(len(results)):\n",
    "        for j in range(len(results)):\n",
    "            if j > i:\n",
    "                source = results[i]\n",
    "                target = results[j]\n",
    "                common = set(target.Family_ID).intersection(set(source.Family_ID))\n",
    "                if np.random.randint(2):\n",
    "                    results[i] = pd.concat([source, target[target.Family_ID.isin(common)]], axis=0)\n",
    "                    results[j] = target[~target.Family_ID.isin(common)]\n",
    "                else:\n",
    "                    results[i] = source[~source.Family_ID.isin(common)]\n",
    "                    results[j] = pd.concat([target, source[source.Family_ID.isin(common)]], axis=0)\n",
    "    return results"
   ]
  },
  {
   "cell_type": "code",
   "execution_count": 40,
   "metadata": {},
   "outputs": [],
   "source": [
    "results = bring_together_families(folds)"
   ]
  },
  {
   "cell_type": "code",
   "execution_count": 41,
   "metadata": {},
   "outputs": [
    {
     "name": "stdout",
     "output_type": "stream",
     "text": [
      "query   : #rows      : #rows per fold\n",
      "\n",
      "1, 2 : total = 86 : per fold = 9 - 11 - 11 - 13 - 9 - 4 - 8 - 4 - 9 - 8 - \n",
      "1, 1 : total = 178 : per fold = 23 - 19 - 19 - 22 - 21 - 6 - 17 - 18 - 16 - 17 - \n",
      "1, 3 : total = 63 : per fold = 9 - 7 - 6 - 9 - 8 - 3 - 7 - 2 - 10 - 2 - \n",
      "1, 4 : total = 12 : per fold = 2 - 2 - 4 - 2 - 1 - 0 - 1 - 0 - 0 - 0 - \n",
      "2, 2 : total = 44 : per fold = 7 - 4 - 3 - 5 - 9 - 4 - 1 - 2 - 4 - 5 - \n",
      "2, 1 : total = 54 : per fold = 10 - 6 - 4 - 7 - 5 - 4 - 6 - 4 - 3 - 5 - \n",
      "2, 3 : total = 9 : per fold = 1 - 1 - 1 - 2 - 1 - 0 - 1 - 0 - 0 - 2 - \n",
      "2, 4 : total = 13 : per fold = 5 - 3 - 1 - 1 - 2 - 0 - 0 - 0 - 0 - 1 - \n",
      "3, 2 : total = 24 : per fold = 5 - 1 - 3 - 3 - 2 - 0 - 2 - 0 - 5 - 3 - \n",
      "3, 1 : total = 41 : per fold = 6 - 5 - 7 - 5 - 3 - 1 - 4 - 2 - 4 - 4 - \n",
      "3, 3 : total = 24 : per fold = 2 - 2 - 4 - 3 - 2 - 1 - 1 - 3 - 5 - 1 - \n",
      "3, 4 : total = 10 : per fold = 1 - 2 - 0 - 1 - 2 - 1 - 1 - 0 - 1 - 1 - \n",
      "4, 2 : total = 5 : per fold = 1 - 1 - 1 - 2 - 0 - 0 - 0 - 0 - 0 - 0 - \n",
      "4, 1 : total = 8 : per fold = 0 - 1 - 0 - 0 - 2 - 1 - 1 - 1 - 1 - 1 - \n",
      "4, 3 : total = 5 : per fold = 1 - 1 - 1 - 0 - 1 - 0 - 0 - 0 - 0 - 1 - \n",
      "4, 4 : total = 1 : per fold = 1 - 0 - 0 - 0 - 0 - 0 - 0 - 0 - 0 - 0 - \n",
      "\n",
      "lengths of folds :  83 66 65 75 68 25 50 36 58 51 \n",
      "Expected total_length = 577\n",
      "Effective total_length = 577\n",
      "total number of stratification errors: 31\n",
      "total number of mismatched fold sizes : 9\n",
      "number of common families = 0 over 335 total families\n"
     ]
    }
   ],
   "source": [
    "print_results(orb, results, ['Right', 'Left', 'Gender'], True)\n",
    "how_many_common_families(orb, results)"
   ]
  },
  {
   "cell_type": "code",
   "execution_count": 42,
   "metadata": {},
   "outputs": [
    {
     "data": {
      "text/html": [
       "<div>\n",
       "<style scoped>\n",
       "    .dataframe tbody tr th:only-of-type {\n",
       "        vertical-align: middle;\n",
       "    }\n",
       "\n",
       "    .dataframe tbody tr th {\n",
       "        vertical-align: top;\n",
       "    }\n",
       "\n",
       "    .dataframe thead th {\n",
       "        text-align: right;\n",
       "    }\n",
       "</style>\n",
       "<table border=\"1\" class=\"dataframe\">\n",
       "  <thead>\n",
       "    <tr style=\"text-align: right;\">\n",
       "      <th></th>\n",
       "      <th>Gender</th>\n",
       "      <th>ZygosityGT</th>\n",
       "      <th>Family_ID</th>\n",
       "      <th>Right</th>\n",
       "      <th>Right Subtype</th>\n",
       "      <th>Left</th>\n",
       "      <th>Left Subtype</th>\n",
       "    </tr>\n",
       "    <tr>\n",
       "      <th>Subject</th>\n",
       "      <th></th>\n",
       "      <th></th>\n",
       "      <th></th>\n",
       "      <th></th>\n",
       "      <th></th>\n",
       "      <th></th>\n",
       "      <th></th>\n",
       "    </tr>\n",
       "  </thead>\n",
       "  <tbody>\n",
       "    <tr>\n",
       "      <th>100307</th>\n",
       "      <td>F</td>\n",
       "      <td>MZ</td>\n",
       "      <td>51488_81352</td>\n",
       "      <td>1</td>\n",
       "      <td>B</td>\n",
       "      <td>2</td>\n",
       "      <td>F</td>\n",
       "    </tr>\n",
       "    <tr>\n",
       "      <th>100408</th>\n",
       "      <td>M</td>\n",
       "      <td>MZ</td>\n",
       "      <td>51730_81594</td>\n",
       "      <td>1</td>\n",
       "      <td>N</td>\n",
       "      <td>2</td>\n",
       "      <td>E</td>\n",
       "    </tr>\n",
       "    <tr>\n",
       "      <th>100610</th>\n",
       "      <td>M</td>\n",
       "      <td>DZ</td>\n",
       "      <td>52813_82634</td>\n",
       "      <td>1</td>\n",
       "      <td>A</td>\n",
       "      <td>1</td>\n",
       "      <td>A</td>\n",
       "    </tr>\n",
       "    <tr>\n",
       "      <th>101006</th>\n",
       "      <td>F</td>\n",
       "      <td>NotTwin</td>\n",
       "      <td>51283_52850_81149</td>\n",
       "      <td>1</td>\n",
       "      <td>B</td>\n",
       "      <td>1</td>\n",
       "      <td>A</td>\n",
       "    </tr>\n",
       "    <tr>\n",
       "      <th>101410</th>\n",
       "      <td>M</td>\n",
       "      <td>NotTwin</td>\n",
       "      <td>52198_82061</td>\n",
       "      <td>2</td>\n",
       "      <td>A</td>\n",
       "      <td>2</td>\n",
       "      <td>I</td>\n",
       "    </tr>\n",
       "    <tr>\n",
       "      <th>...</th>\n",
       "      <td>...</td>\n",
       "      <td>...</td>\n",
       "      <td>...</td>\n",
       "      <td>...</td>\n",
       "      <td>...</td>\n",
       "      <td>...</td>\n",
       "      <td>...</td>\n",
       "    </tr>\n",
       "    <tr>\n",
       "      <th>984472</th>\n",
       "      <td>F</td>\n",
       "      <td>DZ</td>\n",
       "      <td>51455_81320</td>\n",
       "      <td>3</td>\n",
       "      <td>T</td>\n",
       "      <td>1</td>\n",
       "      <td>B</td>\n",
       "    </tr>\n",
       "    <tr>\n",
       "      <th>987983</th>\n",
       "      <td>F</td>\n",
       "      <td>NotTwin</td>\n",
       "      <td>51493_81357</td>\n",
       "      <td>2</td>\n",
       "      <td>C</td>\n",
       "      <td>3</td>\n",
       "      <td>E</td>\n",
       "    </tr>\n",
       "    <tr>\n",
       "      <th>990366</th>\n",
       "      <td>M</td>\n",
       "      <td>NotTwin</td>\n",
       "      <td>56064_85885</td>\n",
       "      <td>4</td>\n",
       "      <td>G</td>\n",
       "      <td>3</td>\n",
       "      <td>A</td>\n",
       "    </tr>\n",
       "    <tr>\n",
       "      <th>995174</th>\n",
       "      <td>M</td>\n",
       "      <td>MZ</td>\n",
       "      <td>55923_85743</td>\n",
       "      <td>2</td>\n",
       "      <td>A</td>\n",
       "      <td>1</td>\n",
       "      <td>A</td>\n",
       "    </tr>\n",
       "    <tr>\n",
       "      <th>996782</th>\n",
       "      <td>F</td>\n",
       "      <td>DZ</td>\n",
       "      <td>51541_81405</td>\n",
       "      <td>1</td>\n",
       "      <td>F</td>\n",
       "      <td>1</td>\n",
       "      <td>F</td>\n",
       "    </tr>\n",
       "  </tbody>\n",
       "</table>\n",
       "<p>577 rows × 7 columns</p>\n",
       "</div>"
      ],
      "text/plain": [
       "        Gender ZygosityGT          Family_ID  Right Right Subtype  Left  \\\n",
       "Subject                                                                   \n",
       "100307       F         MZ        51488_81352      1             B     2   \n",
       "100408       M         MZ        51730_81594      1             N     2   \n",
       "100610       M         DZ        52813_82634      1             A     1   \n",
       "101006       F    NotTwin  51283_52850_81149      1             B     1   \n",
       "101410       M    NotTwin        52198_82061      2             A     2   \n",
       "...        ...        ...                ...    ...           ...   ...   \n",
       "984472       F         DZ        51455_81320      3             T     1   \n",
       "987983       F    NotTwin        51493_81357      2             C     3   \n",
       "990366       M    NotTwin        56064_85885      4             G     3   \n",
       "995174       M         MZ        55923_85743      2             A     1   \n",
       "996782       F         DZ        51541_81405      1             F     1   \n",
       "\n",
       "        Left Subtype  \n",
       "Subject               \n",
       "100307             F  \n",
       "100408             E  \n",
       "100610             A  \n",
       "101006             A  \n",
       "101410             I  \n",
       "...              ...  \n",
       "984472             B  \n",
       "987983             E  \n",
       "990366             A  \n",
       "995174             A  \n",
       "996782             F  \n",
       "\n",
       "[577 rows x 7 columns]"
      ]
     },
     "execution_count": 42,
     "metadata": {},
     "output_type": "execute_result"
    }
   ],
   "source": [
    "orb"
   ]
  },
  {
   "cell_type": "code",
   "execution_count": 43,
   "metadata": {},
   "outputs": [],
   "source": [
    "## why is group columns not used ?\n",
    "def stratified_group_kfold_split(df, n_splits, stratify_columns, group_columns, random_state):\n",
    "    \"\"\"Custom iterative train test split which\n",
    "    'maintains balanced representation with respect\n",
    "    to order-th label combinations.'\n",
    "\n",
    "    From https://madewithml.com/courses/mlops/splitting/#stratified-split\n",
    "    \"\"\"\n",
    "    # One-hot encode the stratify columns and concatenate them\n",
    "    one_hot_cols = df[group_columns].to_numpy()\n",
    "    one_hot_grps = df[group_columns].to_numpy()\n",
    "    print(one_hot_grps.shape)\n",
    "    stratifier = StratifiedGroupKFold_WithoutCheck(\n",
    "        n_splits=n_splits, shuffle=False)\n",
    "    folds = []\n",
    "    for indices in stratifier.split(df.to_numpy(), one_hot_cols, one_hot_grps):\n",
    "        folds.append(df.iloc[indices[1]])\n",
    "    return folds"
   ]
  },
  {
   "cell_type": "code",
   "execution_count": 44,
   "metadata": {},
   "outputs": [
    {
     "name": "stdout",
     "output_type": "stream",
     "text": [
      "(577, 1)\n"
     ]
    }
   ],
   "source": [
    "results = stratified_group_kfold_split(orb, 10, ['Left', 'Gender'], ['Family_ID'], 4)\n",
    "#results = stratified_group_kfold_split(orb, 3, ['Left', 'Gender'], ['Family_ID'], 2)"
   ]
  },
  {
   "cell_type": "code",
   "execution_count": 45,
   "metadata": {},
   "outputs": [
    {
     "name": "stdout",
     "output_type": "stream",
     "text": [
      "query   : #rows      : #rows per fold\n",
      "\n",
      "2, F : total = 82 : per fold = 9 - 4 - 13 - 11 - 9 - 5 - 6 - 10 - 9 - 6 - \n",
      "2, M : total = 77 : per fold = 12 - 7 - 7 - 13 - 8 - 6 - 4 - 3 - 6 - 11 - \n",
      "1, F : total = 170 : per fold = 15 - 16 - 15 - 14 - 18 - 17 - 16 - 23 - 16 - 20 - \n",
      "1, M : total = 111 : per fold = 7 - 16 - 11 - 7 - 13 - 15 - 10 - 11 - 12 - 9 - \n",
      "3, F : total = 76 : per fold = 9 - 12 - 7 - 7 - 4 - 10 - 9 - 6 - 7 - 5 - \n",
      "3, M : total = 25 : per fold = 3 - 2 - 4 - 5 - 2 - 2 - 6 - 0 - 0 - 1 - \n",
      "4, F : total = 21 : per fold = 1 - 1 - 1 - 0 - 2 - 2 - 4 - 2 - 5 - 3 - \n",
      "4, M : total = 15 : per fold = 2 - 0 - 0 - 1 - 2 - 1 - 3 - 2 - 2 - 2 - \n",
      "\n",
      "lengths of folds :  58 58 58 58 58 58 58 57 57 57 \n",
      "Expected total_length = 577\n",
      "Effective total_length = 577\n",
      "total number of stratification errors: 31\n",
      "total number of mismatched fold sizes : 0\n",
      "number of common families = 0 over 335 total families\n"
     ]
    }
   ],
   "source": [
    "#print_results(orb, results, ['Right', 'Left', 'Gender'], True)\n",
    "print_results(orb, results, ['Left', 'Gender'], True)\n",
    "how_many_common_families(orb, results)"
   ]
  },
  {
   "cell_type": "code",
   "execution_count": 46,
   "metadata": {},
   "outputs": [
    {
     "data": {
      "text/html": [
       "<div>\n",
       "<style scoped>\n",
       "    .dataframe tbody tr th:only-of-type {\n",
       "        vertical-align: middle;\n",
       "    }\n",
       "\n",
       "    .dataframe tbody tr th {\n",
       "        vertical-align: top;\n",
       "    }\n",
       "\n",
       "    .dataframe thead th {\n",
       "        text-align: right;\n",
       "    }\n",
       "</style>\n",
       "<table border=\"1\" class=\"dataframe\">\n",
       "  <thead>\n",
       "    <tr style=\"text-align: right;\">\n",
       "      <th></th>\n",
       "      <th>Gender</th>\n",
       "      <th>ZygosityGT</th>\n",
       "      <th>Family_ID</th>\n",
       "      <th>Right</th>\n",
       "      <th>Right Subtype</th>\n",
       "      <th>Left</th>\n",
       "      <th>Left Subtype</th>\n",
       "    </tr>\n",
       "    <tr>\n",
       "      <th>Subject</th>\n",
       "      <th></th>\n",
       "      <th></th>\n",
       "      <th></th>\n",
       "      <th></th>\n",
       "      <th></th>\n",
       "      <th></th>\n",
       "      <th></th>\n",
       "    </tr>\n",
       "  </thead>\n",
       "  <tbody>\n",
       "    <tr>\n",
       "      <th>100610</th>\n",
       "      <td>M</td>\n",
       "      <td>DZ</td>\n",
       "      <td>52813_82634</td>\n",
       "      <td>1</td>\n",
       "      <td>A</td>\n",
       "      <td>1</td>\n",
       "      <td>A</td>\n",
       "    </tr>\n",
       "    <tr>\n",
       "      <th>105923</th>\n",
       "      <td>F</td>\n",
       "      <td>NotTwin</td>\n",
       "      <td>52925_82747</td>\n",
       "      <td>2</td>\n",
       "      <td>E</td>\n",
       "      <td>2</td>\n",
       "      <td>G</td>\n",
       "    </tr>\n",
       "    <tr>\n",
       "      <th>108121</th>\n",
       "      <td>F</td>\n",
       "      <td>NotTwin</td>\n",
       "      <td>51566_81430</td>\n",
       "      <td>1</td>\n",
       "      <td>F</td>\n",
       "      <td>1</td>\n",
       "      <td>E</td>\n",
       "    </tr>\n",
       "    <tr>\n",
       "      <th>115825</th>\n",
       "      <td>M</td>\n",
       "      <td>MZ</td>\n",
       "      <td>56016_85837_99974</td>\n",
       "      <td>1</td>\n",
       "      <td>B</td>\n",
       "      <td>2</td>\n",
       "      <td>A</td>\n",
       "    </tr>\n",
       "    <tr>\n",
       "      <th>118225</th>\n",
       "      <td>M</td>\n",
       "      <td>DZ</td>\n",
       "      <td>52813_82634</td>\n",
       "      <td>1</td>\n",
       "      <td>N</td>\n",
       "      <td>2</td>\n",
       "      <td>F</td>\n",
       "    </tr>\n",
       "  </tbody>\n",
       "</table>\n",
       "</div>"
      ],
      "text/plain": [
       "        Gender ZygosityGT          Family_ID  Right Right Subtype  Left  \\\n",
       "Subject                                                                   \n",
       "100610       M         DZ        52813_82634      1             A     1   \n",
       "105923       F    NotTwin        52925_82747      2             E     2   \n",
       "108121       F    NotTwin        51566_81430      1             F     1   \n",
       "115825       M         MZ  56016_85837_99974      1             B     2   \n",
       "118225       M         DZ        52813_82634      1             N     2   \n",
       "\n",
       "        Left Subtype  \n",
       "Subject               \n",
       "100610             A  \n",
       "105923             G  \n",
       "108121             E  \n",
       "115825             A  \n",
       "118225             F  "
      ]
     },
     "execution_count": 46,
     "metadata": {},
     "output_type": "execute_result"
    }
   ],
   "source": [
    "results[0].head()"
   ]
  },
  {
   "cell_type": "code",
   "execution_count": 129,
   "metadata": {},
   "outputs": [],
   "source": [
    "n_splits = 10\n",
    "side = 'Right'\n",
    "df = orb[[side, 'Gender', 'Family_ID']]\n",
    "\n",
    "# group based on family\n",
    "groups = df['Family_ID'].to_numpy()\n",
    "\n",
    "# labels are combinations of Sex and actual label\n",
    "labels = df[[side, 'Gender']]\n",
    "labels['label'] = labels[labels.columns[:]].apply(\n",
    "    lambda x: ''.join(x.dropna().astype(str)),\n",
    "    axis=1\n",
    ")\n",
    "labels = labels['label'].to_numpy()"
   ]
  },
  {
   "cell_type": "code",
   "execution_count": 130,
   "metadata": {},
   "outputs": [
    {
     "name": "stderr",
     "output_type": "stream",
     "text": [
      "/volatile/jl277509/Runs/02_STS_babies/Program/2023_jlaval_STSbabies/venv/lib/python3.10/site-packages/sklearn/model_selection/_split.py:950: UserWarning: The least populated class in y has only 7 members, which is less than n_splits=10.\n",
      "  warnings.warn(\n"
     ]
    }
   ],
   "source": [
    "stratifier = StratifiedGroupKFold(\n",
    "    n_splits=n_splits, shuffle=False)\n",
    "results = []\n",
    "for indices in stratifier.split(df.to_numpy(), labels, groups):\n",
    "    results.append(df.iloc[indices[1]])"
   ]
  },
  {
   "cell_type": "code",
   "execution_count": 131,
   "metadata": {},
   "outputs": [
    {
     "name": "stdout",
     "output_type": "stream",
     "text": [
      "query   : #rows      : #rows per fold\n",
      "\n",
      "1, F : total = 217 : per fold = 22 - 22 - 22 - 22 - 22 - 21 - 21 - 21 - 22 - 22 - \n",
      "1, M : total = 122 : per fold = 12 - 12 - 12 - 12 - 12 - 12 - 13 - 12 - 12 - 13 - \n",
      "2, F : total = 55 : per fold = 5 - 5 - 6 - 5 - 6 - 6 - 6 - 6 - 5 - 5 - \n",
      "2, M : total = 65 : per fold = 7 - 6 - 6 - 7 - 7 - 7 - 7 - 6 - 6 - 6 - \n",
      "3, F : total = 65 : per fold = 7 - 6 - 7 - 6 - 6 - 7 - 7 - 6 - 6 - 7 - \n",
      "3, M : total = 34 : per fold = 3 - 4 - 3 - 4 - 3 - 3 - 3 - 4 - 4 - 3 - \n",
      "4, F : total = 12 : per fold = 1 - 2 - 1 - 1 - 1 - 1 - 1 - 2 - 1 - 1 - \n",
      "4, M : total = 7 : per fold = 1 - 1 - 1 - 1 - 1 - 1 - 0 - 0 - 1 - 0 - \n",
      "\n",
      "lengths of folds :  58 58 58 58 58 58 58 57 57 57 \n",
      "Expected total_length = 577\n",
      "Effective total_length = 577\n",
      "total number of stratification errors: 0\n",
      "total number of mismatched fold sizes : 0\n",
      "number of common families = 0 over 335 total families\n"
     ]
    }
   ],
   "source": [
    "print_results(orb, results, [side, 'Gender'], True)\n",
    "how_many_common_families(orb, results)"
   ]
  },
  {
   "cell_type": "markdown",
   "metadata": {},
   "source": [
    "# Save results"
   ]
  },
  {
   "cell_type": "code",
   "execution_count": 132,
   "metadata": {},
   "outputs": [],
   "source": [
    "save_path = f\"/neurospin/dico/data/deep_folding/current/datasets/orbital_patterns/Troiani/{side}\""
   ]
  },
  {
   "cell_type": "code",
   "execution_count": 133,
   "metadata": {},
   "outputs": [],
   "source": [
    "for i in range(len(results)):\n",
    "    results[i].reset_index()['Subject'].to_csv(\n",
    "        f\"{save_path}/split_{i}.csv\",\n",
    "        header=False,\n",
    "        index=False,\n",
    "        quoting=csv.QUOTE_ALL)"
   ]
  },
  {
   "cell_type": "markdown",
   "metadata": {},
   "source": [
    "# Step 1 : split in 5 folds, keep last for test"
   ]
  },
  {
   "cell_type": "code",
   "execution_count": null,
   "metadata": {},
   "outputs": [],
   "source": [
    "side = 'Right'"
   ]
  },
  {
   "cell_type": "code",
   "execution_count": 60,
   "metadata": {},
   "outputs": [],
   "source": [
    "save_path = f\"/neurospin/dico/data/deep_folding/current/datasets/orbital_patterns/Troiani/{side}\""
   ]
  },
  {
   "cell_type": "code",
   "execution_count": 61,
   "metadata": {},
   "outputs": [],
   "source": [
    "n_splits = 5\n",
    "df = orb[[side, 'Gender', 'Family_ID']]\n",
    "\n",
    "# group based on family\n",
    "groups = df['Family_ID'].to_numpy()\n",
    "\n",
    "# labels are combinations of Sex and actual label\n",
    "labels = df[[side, 'Gender']]\n",
    "labels['label'] = labels[labels.columns[:]].apply(\n",
    "    lambda x: ''.join(x.dropna().astype(str)),\n",
    "    axis=1\n",
    ")\n",
    "labels = labels['label'].to_numpy()"
   ]
  },
  {
   "cell_type": "code",
   "execution_count": 62,
   "metadata": {},
   "outputs": [],
   "source": [
    "stratifier = StratifiedGroupKFold(\n",
    "    n_splits=n_splits, shuffle=False)\n",
    "results = []\n",
    "for indices in stratifier.split(df.to_numpy(), labels, groups):\n",
    "    results.append(df.iloc[indices[1]])"
   ]
  },
  {
   "cell_type": "code",
   "execution_count": 63,
   "metadata": {},
   "outputs": [
    {
     "name": "stdout",
     "output_type": "stream",
     "text": [
      "query   : #rows      : #rows per fold\n",
      "\n",
      "2, F : total = 82 : per fold = 16 - 16 - 17 - 16 - 17 - \n",
      "2, M : total = 77 : per fold = 16 - 15 - 15 - 15 - 16 - \n",
      "1, F : total = 170 : per fold = 34 - 34 - 34 - 34 - 34 - \n",
      "1, M : total = 111 : per fold = 22 - 22 - 22 - 23 - 22 - \n",
      "3, F : total = 76 : per fold = 16 - 15 - 15 - 15 - 15 - \n",
      "3, M : total = 25 : per fold = 5 - 5 - 5 - 5 - 5 - \n",
      "4, F : total = 21 : per fold = 4 - 5 - 4 - 4 - 4 - \n",
      "4, M : total = 15 : per fold = 3 - 3 - 3 - 3 - 3 - \n",
      "\n",
      "lengths of folds :  116 115 115 115 116 \n",
      "Expected total_length = 577\n",
      "Effective total_length = 577\n",
      "total number of stratification errors: 0\n",
      "total number of mismatched fold sizes : 0\n",
      "number of common families = 0 over 335 total families\n"
     ]
    }
   ],
   "source": [
    "print_results(orb, results, [side, 'Gender'], True)\n",
    "how_many_common_families(orb, results)"
   ]
  },
  {
   "cell_type": "code",
   "execution_count": 64,
   "metadata": {},
   "outputs": [],
   "source": [
    "results[-1].reset_index()['Subject'].to_csv(\n",
    "    f\"{save_path}/test_split.csv\",\n",
    "    header=False,\n",
    "    index=False,\n",
    "    quoting=csv.QUOTE_ALL)"
   ]
  },
  {
   "cell_type": "markdown",
   "metadata": {},
   "source": [
    "# Step 2 : split remaining 80% in 5 for cross val and train eval"
   ]
  },
  {
   "cell_type": "code",
   "execution_count": 69,
   "metadata": {},
   "outputs": [],
   "source": [
    "orb_train_val = orb.drop(index=results[-1].index.to_list())"
   ]
  },
  {
   "cell_type": "code",
   "execution_count": 72,
   "metadata": {},
   "outputs": [],
   "source": [
    "# repeat the process\n",
    "n_splits = 5\n",
    "df = orb_train_val[[side, 'Gender', 'Family_ID']]\n",
    "\n",
    "# group based on family\n",
    "groups = df['Family_ID'].to_numpy()\n",
    "\n",
    "# labels are combinations of Sex and actual label\n",
    "labels = df[[side, 'Gender']]\n",
    "labels['label'] = labels[labels.columns[:]].apply(\n",
    "    lambda x: ''.join(x.dropna().astype(str)),\n",
    "    axis=1\n",
    ")\n",
    "labels = labels['label'].to_numpy()"
   ]
  },
  {
   "cell_type": "code",
   "execution_count": 73,
   "metadata": {},
   "outputs": [],
   "source": [
    "stratifier = StratifiedGroupKFold(\n",
    "    n_splits=n_splits, shuffle=False)\n",
    "results = []\n",
    "for indices in stratifier.split(df.to_numpy(), labels, groups):\n",
    "    results.append(df.iloc[indices[1]])"
   ]
  },
  {
   "cell_type": "code",
   "execution_count": 74,
   "metadata": {},
   "outputs": [
    {
     "name": "stdout",
     "output_type": "stream",
     "text": [
      "query   : #rows      : #rows per fold\n",
      "\n",
      "2, F : total = 77 : per fold = 15 - 15 - 16 - 16 - 15 - \n",
      "2, M : total = 64 : per fold = 13 - 13 - 13 - 12 - 13 - \n",
      "1, F : total = 139 : per fold = 28 - 28 - 28 - 27 - 28 - \n",
      "1, M : total = 93 : per fold = 18 - 19 - 19 - 19 - 18 - \n",
      "3, F : total = 60 : per fold = 12 - 12 - 12 - 12 - 12 - \n",
      "3, M : total = 21 : per fold = 5 - 4 - 4 - 4 - 4 - \n",
      "4, F : total = 17 : per fold = 3 - 4 - 3 - 4 - 3 - \n",
      "4, M : total = 13 : per fold = 3 - 2 - 2 - 3 - 3 - \n",
      "\n",
      "lengths of folds :  97 97 97 97 96 \n",
      "Expected total_length = 484\n",
      "Effective total_length = 484\n",
      "total number of stratification errors: 0\n",
      "total number of mismatched fold sizes : 0\n",
      "number of common families = 0 over 281 total families\n"
     ]
    }
   ],
   "source": [
    "print_results(orb_train_val, results, [side, 'Gender'], True)\n",
    "how_many_common_families(orb_train_val, results)"
   ]
  },
  {
   "cell_type": "code",
   "execution_count": 75,
   "metadata": {},
   "outputs": [],
   "source": [
    "# save folds\n",
    "for i in range(len(results)):\n",
    "    results[i].reset_index()['Subject'].to_csv(\n",
    "        f\"{save_path}/train_val_split_{i}.csv\",\n",
    "        header=False,\n",
    "        index=False,\n",
    "        quoting=csv.QUOTE_ALL)"
   ]
  },
  {
   "cell_type": "code",
   "execution_count": null,
   "metadata": {},
   "outputs": [],
   "source": []
  }
 ],
 "metadata": {
  "kernelspec": {
   "display_name": "venv",
   "language": "python",
   "name": "python3"
  },
  "language_info": {
   "codemirror_mode": {
    "name": "ipython",
    "version": 3
   },
   "file_extension": ".py",
   "mimetype": "text/x-python",
   "name": "python",
   "nbconvert_exporter": "python",
   "pygments_lexer": "ipython3",
   "version": "3.10.12"
  },
  "orig_nbformat": 4
 },
 "nbformat": 4,
 "nbformat_minor": 2
}
