{
 "cells": [
  {
   "cell_type": "code",
   "execution_count": 11,
   "metadata": {},
   "outputs": [],
   "source": [
    "import pandas as pd\n",
    "import numpy as np\n",
    "from skmultilearn.model_selection import iterative_train_test_split\n",
    "from sklearn.datasets import make_multilabel_classification\n",
    "from skmultilearn.model_selection import IterativeStratification\n",
    "from sklearn.model_selection import StratifiedGroupKFold\n",
    "import random\n",
    "import csv\n",
    "import glob\n",
    "import sklearn\n",
    "import os"
   ]
  },
  {
   "cell_type": "code",
   "execution_count": 12,
   "metadata": {},
   "outputs": [],
   "source": [
    "from collections import defaultdict\n",
    "\n",
    "from sklearn.utils import (\n",
    "    _safe_indexing,\n",
    "    check_random_state,\n",
    "    indexable,\n",
    "    metadata_routing,\n",
    ")\n",
    "\n",
    "from sklearn.utils.validation import _num_samples, check_array, column_or_1d\n",
    "from sklearn.utils.multiclass import type_of_target"
   ]
  },
  {
   "cell_type": "code",
   "execution_count": 15,
   "metadata": {},
   "outputs": [],
   "source": [
    "# FIP\n",
    "fip = pd.read_excel('/neurospin/dico/data/bv_databases/human/partially_labeled/FIP_patterns/IPS_labels_390.xlsx')\n",
    "fip = fip.dropna()\n",
    "fip.columns = ['Subject', 'Sex', 'Left', 'Right']\n",
    "fip = fip.set_index('Subject')"
   ]
  },
  {
   "cell_type": "code",
   "execution_count": 16,
   "metadata": {},
   "outputs": [],
   "source": [
    "def print_frequencies(df):\n",
    "    for right in df['Right'].unique():\n",
    "        for left in df['Left'].unique():\n",
    "            for sex in df['Sex'].unique():\n",
    "                freq = df.query(\"Right==@right and Left==@left and Sex==@sex\")\n",
    "                print(f\"{right}, {left}, {sex}: {len(freq)}\")"
   ]
  },
  {
   "cell_type": "code",
   "execution_count": 17,
   "metadata": {},
   "outputs": [
    {
     "name": "stdout",
     "output_type": "stream",
     "text": [
      "1, 0, M: 44\n",
      "1, 0, F: 74\n",
      "1, 1, M: 96\n",
      "1, 1, F: 56\n",
      "0, 0, M: 21\n",
      "0, 0, F: 66\n",
      "0, 1, M: 12\n",
      "0, 1, F: 21\n"
     ]
    }
   ],
   "source": [
    "print_frequencies(fip)"
   ]
  },
  {
   "cell_type": "code",
   "execution_count": 18,
   "metadata": {},
   "outputs": [
    {
     "name": "stdout",
     "output_type": "stream",
     "text": [
      "1206\n"
     ]
    },
    {
     "data": {
      "text/html": [
       "<div>\n",
       "<style scoped>\n",
       "    .dataframe tbody tr th:only-of-type {\n",
       "        vertical-align: middle;\n",
       "    }\n",
       "\n",
       "    .dataframe tbody tr th {\n",
       "        vertical-align: top;\n",
       "    }\n",
       "\n",
       "    .dataframe thead th {\n",
       "        text-align: right;\n",
       "    }\n",
       "</style>\n",
       "<table border=\"1\" class=\"dataframe\">\n",
       "  <thead>\n",
       "    <tr style=\"text-align: right;\">\n",
       "      <th></th>\n",
       "      <th>Subject</th>\n",
       "      <th>Gender</th>\n",
       "    </tr>\n",
       "  </thead>\n",
       "  <tbody>\n",
       "    <tr>\n",
       "      <th>0</th>\n",
       "      <td>100004</td>\n",
       "      <td>M</td>\n",
       "    </tr>\n",
       "    <tr>\n",
       "      <th>1</th>\n",
       "      <td>100206</td>\n",
       "      <td>M</td>\n",
       "    </tr>\n",
       "    <tr>\n",
       "      <th>2</th>\n",
       "      <td>100307</td>\n",
       "      <td>F</td>\n",
       "    </tr>\n",
       "    <tr>\n",
       "      <th>3</th>\n",
       "      <td>100408</td>\n",
       "      <td>M</td>\n",
       "    </tr>\n",
       "    <tr>\n",
       "      <th>4</th>\n",
       "      <td>100610</td>\n",
       "      <td>M</td>\n",
       "    </tr>\n",
       "  </tbody>\n",
       "</table>\n",
       "</div>"
      ],
      "text/plain": [
       "   Subject Gender\n",
       "0   100004      M\n",
       "1   100206      M\n",
       "2   100307      F\n",
       "3   100408      M\n",
       "4   100610      M"
      ]
     },
     "execution_count": 18,
     "metadata": {},
     "output_type": "execute_result"
    }
   ],
   "source": [
    "participants_file = \"/neurospin/dico/data/bv_databases/human/not_labeled/hcp/participants.csv\"\n",
    "participants_unrestricted = pd.read_csv(participants_file)\n",
    "participants_unrestricted = participants_unrestricted[['Subject', \"Gender\"]]\n",
    "print(len(participants_unrestricted))\n",
    "participants_unrestricted.head()"
   ]
  },
  {
   "cell_type": "code",
   "execution_count": 19,
   "metadata": {},
   "outputs": [
    {
     "name": "stdout",
     "output_type": "stream",
     "text": [
      "1206\n"
     ]
    },
    {
     "data": {
      "text/html": [
       "<div>\n",
       "<style scoped>\n",
       "    .dataframe tbody tr th:only-of-type {\n",
       "        vertical-align: middle;\n",
       "    }\n",
       "\n",
       "    .dataframe tbody tr th {\n",
       "        vertical-align: top;\n",
       "    }\n",
       "\n",
       "    .dataframe thead th {\n",
       "        text-align: right;\n",
       "    }\n",
       "</style>\n",
       "<table border=\"1\" class=\"dataframe\">\n",
       "  <thead>\n",
       "    <tr style=\"text-align: right;\">\n",
       "      <th></th>\n",
       "      <th>Subject</th>\n",
       "      <th>ZygosityGT</th>\n",
       "      <th>Family_ID</th>\n",
       "    </tr>\n",
       "  </thead>\n",
       "  <tbody>\n",
       "    <tr>\n",
       "      <th>0</th>\n",
       "      <td>100004</td>\n",
       "      <td></td>\n",
       "      <td>52259_82122</td>\n",
       "    </tr>\n",
       "    <tr>\n",
       "      <th>1</th>\n",
       "      <td>100206</td>\n",
       "      <td></td>\n",
       "      <td>56037_85858</td>\n",
       "    </tr>\n",
       "    <tr>\n",
       "      <th>2</th>\n",
       "      <td>100307</td>\n",
       "      <td>MZ</td>\n",
       "      <td>51488_81352</td>\n",
       "    </tr>\n",
       "    <tr>\n",
       "      <th>3</th>\n",
       "      <td>100408</td>\n",
       "      <td>MZ</td>\n",
       "      <td>51730_81594</td>\n",
       "    </tr>\n",
       "    <tr>\n",
       "      <th>4</th>\n",
       "      <td>100610</td>\n",
       "      <td>DZ</td>\n",
       "      <td>52813_82634</td>\n",
       "    </tr>\n",
       "  </tbody>\n",
       "</table>\n",
       "</div>"
      ],
      "text/plain": [
       "   Subject ZygosityGT    Family_ID\n",
       "0   100004             52259_82122\n",
       "1   100206             56037_85858\n",
       "2   100307         MZ  51488_81352\n",
       "3   100408         MZ  51730_81594\n",
       "4   100610         DZ  52813_82634"
      ]
     },
     "execution_count": 19,
     "metadata": {},
     "output_type": "execute_result"
    }
   ],
   "source": [
    "participants_file = \"/neurospin/dico/jchavas/RESTRICTED_jchavas_1_18_2022_3_17_51.csv\"\n",
    "participants = pd.read_csv(participants_file)\n",
    "participants = participants[['Subject', 'ZygosityGT', 'Family_ID']]\n",
    "print(len(participants))\n",
    "participants.head()"
   ]
  },
  {
   "cell_type": "code",
   "execution_count": 20,
   "metadata": {},
   "outputs": [
    {
     "name": "stdout",
     "output_type": "stream",
     "text": [
      "1206\n"
     ]
    },
    {
     "data": {
      "text/html": [
       "<div>\n",
       "<style scoped>\n",
       "    .dataframe tbody tr th:only-of-type {\n",
       "        vertical-align: middle;\n",
       "    }\n",
       "\n",
       "    .dataframe tbody tr th {\n",
       "        vertical-align: top;\n",
       "    }\n",
       "\n",
       "    .dataframe thead th {\n",
       "        text-align: right;\n",
       "    }\n",
       "</style>\n",
       "<table border=\"1\" class=\"dataframe\">\n",
       "  <thead>\n",
       "    <tr style=\"text-align: right;\">\n",
       "      <th></th>\n",
       "      <th>Subject</th>\n",
       "      <th>Gender</th>\n",
       "      <th>ZygosityGT</th>\n",
       "      <th>Family_ID</th>\n",
       "    </tr>\n",
       "  </thead>\n",
       "  <tbody>\n",
       "    <tr>\n",
       "      <th>0</th>\n",
       "      <td>100004</td>\n",
       "      <td>M</td>\n",
       "      <td>NotTwin</td>\n",
       "      <td>52259_82122</td>\n",
       "    </tr>\n",
       "    <tr>\n",
       "      <th>1</th>\n",
       "      <td>100206</td>\n",
       "      <td>M</td>\n",
       "      <td>NotTwin</td>\n",
       "      <td>56037_85858</td>\n",
       "    </tr>\n",
       "    <tr>\n",
       "      <th>2</th>\n",
       "      <td>100307</td>\n",
       "      <td>F</td>\n",
       "      <td>MZ</td>\n",
       "      <td>51488_81352</td>\n",
       "    </tr>\n",
       "    <tr>\n",
       "      <th>3</th>\n",
       "      <td>100408</td>\n",
       "      <td>M</td>\n",
       "      <td>MZ</td>\n",
       "      <td>51730_81594</td>\n",
       "    </tr>\n",
       "    <tr>\n",
       "      <th>4</th>\n",
       "      <td>100610</td>\n",
       "      <td>M</td>\n",
       "      <td>DZ</td>\n",
       "      <td>52813_82634</td>\n",
       "    </tr>\n",
       "  </tbody>\n",
       "</table>\n",
       "</div>"
      ],
      "text/plain": [
       "  Subject Gender ZygosityGT    Family_ID\n",
       "0  100004      M    NotTwin  52259_82122\n",
       "1  100206      M    NotTwin  56037_85858\n",
       "2  100307      F         MZ  51488_81352\n",
       "3  100408      M         MZ  51730_81594\n",
       "4  100610      M         DZ  52813_82634"
      ]
     },
     "execution_count": 20,
     "metadata": {},
     "output_type": "execute_result"
    }
   ],
   "source": [
    "participants = pd.merge(participants_unrestricted, participants)\n",
    "participants.loc[(participants['ZygosityGT']== \" \"), 'ZygosityGT'] = 'NotTwin'  \n",
    "participants['Subject'] = participants['Subject'].astype('string')\n",
    "print(len(participants))\n",
    "participants.head()"
   ]
  },
  {
   "cell_type": "code",
   "execution_count": 21,
   "metadata": {},
   "outputs": [
    {
     "name": "stdout",
     "output_type": "stream",
     "text": [
      "['210112', '579665', '922854', '517239', '329440']\n",
      "1113\n"
     ]
    },
    {
     "data": {
      "text/plain": [
       "{'142626'}"
      ]
     },
     "execution_count": 21,
     "metadata": {},
     "output_type": "execute_result"
    }
   ],
   "source": [
    "treated_subjects = glob.glob(\"/neurospin/dico/data/bv_databases/human/not_labeled/hcp/hcp/*[!.minf]\")\n",
    "treated_subjects = [x.split('/')[-1] for x in treated_subjects]\n",
    "treated_subjects = [x for x in treated_subjects if 'database' not in x]\n",
    "print(treated_subjects[:5])\n",
    "len(treated_subjects)\n",
    "participants = participants[participants['Subject'].isin(treated_subjects)]\n",
    "print(len(participants))\n",
    "set(treated_subjects) - set(participants['Subject'])"
   ]
  },
  {
   "cell_type": "code",
   "execution_count": 22,
   "metadata": {},
   "outputs": [
    {
     "name": "stdout",
     "output_type": "stream",
     "text": [
      "390\n",
      "Sex      object\n",
      "Left      int64\n",
      "Right     int64\n",
      "dtype: object\n"
     ]
    }
   ],
   "source": [
    "print(len(fip))\n",
    "print(fip.dtypes)\n",
    "fip.index = fip.index.astype(str)"
   ]
  },
  {
   "cell_type": "code",
   "execution_count": 23,
   "metadata": {},
   "outputs": [
    {
     "data": {
      "text/plain": [
       "set()"
      ]
     },
     "execution_count": 23,
     "metadata": {},
     "output_type": "execute_result"
    }
   ],
   "source": [
    "set(fip.index) - set(treated_subjects)"
   ]
  },
  {
   "cell_type": "code",
   "execution_count": 24,
   "metadata": {},
   "outputs": [
    {
     "data": {
      "text/plain": [
       "0"
      ]
     },
     "execution_count": 24,
     "metadata": {},
     "output_type": "execute_result"
    }
   ],
   "source": [
    "fip.index.isin(set(treated_subjects) - set(participants['Subject'])).sum()"
   ]
  },
  {
   "cell_type": "code",
   "execution_count": 25,
   "metadata": {},
   "outputs": [],
   "source": [
    "fip = pd.merge(participants, fip, left_on='Subject', right_index=True).set_index('Subject')"
   ]
  },
  {
   "cell_type": "code",
   "execution_count": 26,
   "metadata": {},
   "outputs": [
    {
     "data": {
      "text/html": [
       "<div>\n",
       "<style scoped>\n",
       "    .dataframe tbody tr th:only-of-type {\n",
       "        vertical-align: middle;\n",
       "    }\n",
       "\n",
       "    .dataframe tbody tr th {\n",
       "        vertical-align: top;\n",
       "    }\n",
       "\n",
       "    .dataframe thead th {\n",
       "        text-align: right;\n",
       "    }\n",
       "</style>\n",
       "<table border=\"1\" class=\"dataframe\">\n",
       "  <thead>\n",
       "    <tr style=\"text-align: right;\">\n",
       "      <th></th>\n",
       "      <th>Gender</th>\n",
       "      <th>ZygosityGT</th>\n",
       "      <th>Family_ID</th>\n",
       "      <th>Sex</th>\n",
       "      <th>Left</th>\n",
       "      <th>Right</th>\n",
       "    </tr>\n",
       "    <tr>\n",
       "      <th>Subject</th>\n",
       "      <th></th>\n",
       "      <th></th>\n",
       "      <th></th>\n",
       "      <th></th>\n",
       "      <th></th>\n",
       "      <th></th>\n",
       "    </tr>\n",
       "  </thead>\n",
       "  <tbody>\n",
       "    <tr>\n",
       "      <th>100206</th>\n",
       "      <td>M</td>\n",
       "      <td>NotTwin</td>\n",
       "      <td>56037_85858</td>\n",
       "      <td>M</td>\n",
       "      <td>0</td>\n",
       "      <td>1</td>\n",
       "    </tr>\n",
       "    <tr>\n",
       "      <th>100307</th>\n",
       "      <td>F</td>\n",
       "      <td>MZ</td>\n",
       "      <td>51488_81352</td>\n",
       "      <td>F</td>\n",
       "      <td>1</td>\n",
       "      <td>1</td>\n",
       "    </tr>\n",
       "    <tr>\n",
       "      <th>100610</th>\n",
       "      <td>M</td>\n",
       "      <td>DZ</td>\n",
       "      <td>52813_82634</td>\n",
       "      <td>M</td>\n",
       "      <td>0</td>\n",
       "      <td>1</td>\n",
       "    </tr>\n",
       "    <tr>\n",
       "      <th>101309</th>\n",
       "      <td>M</td>\n",
       "      <td>NotTwin</td>\n",
       "      <td>52385_82248</td>\n",
       "      <td>M</td>\n",
       "      <td>1</td>\n",
       "      <td>1</td>\n",
       "    </tr>\n",
       "    <tr>\n",
       "      <th>101410</th>\n",
       "      <td>M</td>\n",
       "      <td>NotTwin</td>\n",
       "      <td>52198_82061</td>\n",
       "      <td>M</td>\n",
       "      <td>0</td>\n",
       "      <td>0</td>\n",
       "    </tr>\n",
       "    <tr>\n",
       "      <th>...</th>\n",
       "      <td>...</td>\n",
       "      <td>...</td>\n",
       "      <td>...</td>\n",
       "      <td>...</td>\n",
       "      <td>...</td>\n",
       "      <td>...</td>\n",
       "    </tr>\n",
       "    <tr>\n",
       "      <th>983773</th>\n",
       "      <td>M</td>\n",
       "      <td>NotTwin</td>\n",
       "      <td>52801_82622</td>\n",
       "      <td>M</td>\n",
       "      <td>1</td>\n",
       "      <td>1</td>\n",
       "    </tr>\n",
       "    <tr>\n",
       "      <th>984472</th>\n",
       "      <td>F</td>\n",
       "      <td>DZ</td>\n",
       "      <td>51455_81320</td>\n",
       "      <td>F</td>\n",
       "      <td>1</td>\n",
       "      <td>1</td>\n",
       "    </tr>\n",
       "    <tr>\n",
       "      <th>991267</th>\n",
       "      <td>M</td>\n",
       "      <td>NotTwin</td>\n",
       "      <td>51639_81503</td>\n",
       "      <td>M</td>\n",
       "      <td>1</td>\n",
       "      <td>1</td>\n",
       "    </tr>\n",
       "    <tr>\n",
       "      <th>993675</th>\n",
       "      <td>F</td>\n",
       "      <td>NotTwin</td>\n",
       "      <td>55800_85621</td>\n",
       "      <td>F</td>\n",
       "      <td>1</td>\n",
       "      <td>0</td>\n",
       "    </tr>\n",
       "    <tr>\n",
       "      <th>996782</th>\n",
       "      <td>F</td>\n",
       "      <td>DZ</td>\n",
       "      <td>51541_81405</td>\n",
       "      <td>F</td>\n",
       "      <td>1</td>\n",
       "      <td>1</td>\n",
       "    </tr>\n",
       "  </tbody>\n",
       "</table>\n",
       "<p>390 rows × 6 columns</p>\n",
       "</div>"
      ],
      "text/plain": [
       "        Gender ZygosityGT    Family_ID Sex  Left  Right\n",
       "Subject                                                \n",
       "100206       M    NotTwin  56037_85858   M     0      1\n",
       "100307       F         MZ  51488_81352   F     1      1\n",
       "100610       M         DZ  52813_82634   M     0      1\n",
       "101309       M    NotTwin  52385_82248   M     1      1\n",
       "101410       M    NotTwin  52198_82061   M     0      0\n",
       "...        ...        ...          ...  ..   ...    ...\n",
       "983773       M    NotTwin  52801_82622   M     1      1\n",
       "984472       F         DZ  51455_81320   F     1      1\n",
       "991267       M    NotTwin  51639_81503   M     1      1\n",
       "993675       F    NotTwin  55800_85621   F     1      0\n",
       "996782       F         DZ  51541_81405   F     1      1\n",
       "\n",
       "[390 rows x 6 columns]"
      ]
     },
     "execution_count": 26,
     "metadata": {},
     "output_type": "execute_result"
    }
   ],
   "source": [
    "fip"
   ]
  },
  {
   "cell_type": "code",
   "execution_count": 41,
   "metadata": {},
   "outputs": [],
   "source": [
    "def print_results(parent, folds, col, verbose=True):\n",
    "\n",
    "    # For each conbination of labels, prints the number of rows for each fold\n",
    "    # having this combination\n",
    "    total_errors = 0\n",
    "    n_splits = len(folds)\n",
    "    if verbose:\n",
    "        print(\"query   : #rows      : #rows per fold\\n\")\n",
    "\n",
    "    for col0 in parent[col[0]].unique():\n",
    "        for col1 in parent[col[1]].unique():\n",
    "            #for col2 in parent[col[2]].unique():\n",
    "            #df = parent.query(f\"{col[0]}==@col0 and {col[1]}==@col1 and {col[2]}==@col2\")\n",
    "            df = parent.query(f\"{col[0]}==@col0 and {col[1]}==@col1\")\n",
    "            len_query = len(df)\n",
    "            if verbose:\n",
    "                #print(f\"{col0}, {col1}, {col2} : total = {len_query} : per fold =\", end = ' ')\n",
    "                print(f\"{col0}, {col1} : total = {len_query} : per fold =\", end = ' ')\n",
    "            for fold in folds:\n",
    "                #df0 = fold.query(f\"{col[0]}==@col0 and {col[1]}==@col1 and {col[2]}==@col2\")\n",
    "                df0 = fold.query(f\"{col[0]}==@col0 and {col[1]}==@col1\")\n",
    "                len_query_fold = len(df0)\n",
    "                if abs(len_query_fold-len_query/n_splits) >= 2:\n",
    "                    total_errors += 1\n",
    "                if verbose:\n",
    "                    print(f\"{len_query_fold} -\", end= ' ')\n",
    "            if verbose:\n",
    "                print(\"\")\n",
    "\n",
    "    # Prints the statistics and the number of stratification errors\n",
    "    expected_total_length = len(parent)\n",
    "    total_length = 0\n",
    "    total_mismatches = 0\n",
    "    print(\"\\nlengths of folds : \", end = ' ')\n",
    "    for fold in folds:\n",
    "        len_fold = len(fold)\n",
    "        print(len_fold, end=' ')\n",
    "        total_length += len_fold\n",
    "        if abs(len_fold-expected_total_length/n_splits) >= 2:\n",
    "            total_mismatches += 1\n",
    "    print(f\"\\nExpected total_length = {expected_total_length}\")\n",
    "    print(f\"Effective total_length = {total_length}\")\n",
    "\n",
    "    print(f\"total number of stratification errors: {total_errors}\")\n",
    "    print(f\"total number of mismatched fold sizes : {total_mismatches}\")"
   ]
  },
  {
   "cell_type": "code",
   "execution_count": 31,
   "metadata": {},
   "outputs": [],
   "source": [
    "def how_many_common_families(total, folds):\n",
    "    nb_common = 0\n",
    "    for i, source in enumerate(folds):\n",
    "        for j, target in enumerate(folds):\n",
    "            if j > i:\n",
    "                nb_common += len(set(target.Family_ID).intersection(set(source.Family_ID)))\n",
    "    print(f\"number of common families = {nb_common} over {len(set(total.Family_ID))} total families\")"
   ]
  },
  {
   "cell_type": "markdown",
   "metadata": {},
   "source": [
    "# Step 1 : split in 5 folds, keep last for test"
   ]
  },
  {
   "cell_type": "code",
   "execution_count": 34,
   "metadata": {},
   "outputs": [],
   "source": [
    "side = 'Right'"
   ]
  },
  {
   "cell_type": "code",
   "execution_count": 36,
   "metadata": {},
   "outputs": [],
   "source": [
    "# Save Results\n",
    "save_path = f\"/neurospin/dico/data/deep_folding/current/datasets/hcp/FIP/{side}\""
   ]
  },
  {
   "cell_type": "code",
   "execution_count": 46,
   "metadata": {},
   "outputs": [],
   "source": [
    "n_splits = 5\n",
    "df = fip[[side, 'Gender', 'Family_ID']]\n",
    "\n",
    "# group based on family\n",
    "groups = df['Family_ID'].to_numpy()\n",
    "\n",
    "# labels are combinations of Sex and actual label\n",
    "labels = df[[side, 'Gender']]\n",
    "labels['label'] = labels[labels.columns[:]].apply(\n",
    "    lambda x: ''.join(x.dropna().astype(str)),\n",
    "    axis=1\n",
    ")\n",
    "labels = labels['label'].to_numpy()"
   ]
  },
  {
   "cell_type": "code",
   "execution_count": 47,
   "metadata": {},
   "outputs": [],
   "source": [
    "stratifier = StratifiedGroupKFold(\n",
    "    n_splits=n_splits, shuffle=False)\n",
    "results = []\n",
    "for indices in stratifier.split(df.to_numpy(), labels, groups):\n",
    "    results.append(df.iloc[indices[1]])"
   ]
  },
  {
   "cell_type": "code",
   "execution_count": 48,
   "metadata": {},
   "outputs": [
    {
     "name": "stdout",
     "output_type": "stream",
     "text": [
      "query   : #rows      : #rows per fold\n",
      "\n",
      "1, M : total = 140 : per fold = 28 - 28 - 28 - 28 - 28 - \n",
      "1, F : total = 130 : per fold = 26 - 26 - 26 - 26 - 26 - \n",
      "0, M : total = 33 : per fold = 7 - 7 - 7 - 6 - 6 - \n",
      "0, F : total = 87 : per fold = 17 - 17 - 18 - 18 - 17 - \n",
      "\n",
      "lengths of folds :  78 78 79 78 77 \n",
      "Expected total_length = 390\n",
      "Effective total_length = 390\n",
      "total number of stratification errors: 0\n",
      "total number of mismatched fold sizes : 0\n",
      "number of common families = 0 over 258 total families\n"
     ]
    }
   ],
   "source": [
    "print_results(fip, results, [side, 'Gender'], True)\n",
    "how_many_common_families(fip, results)"
   ]
  },
  {
   "cell_type": "code",
   "execution_count": 49,
   "metadata": {},
   "outputs": [],
   "source": [
    "results[-1].reset_index()['Subject'].to_csv(\n",
    "    f\"{save_path}/test_split.csv\",\n",
    "    header=False,\n",
    "    index=False,\n",
    "    quoting=csv.QUOTE_ALL)"
   ]
  },
  {
   "cell_type": "markdown",
   "metadata": {},
   "source": [
    "# Step 2 : split remaining 80% in 5 for cross val and train eval"
   ]
  },
  {
   "cell_type": "code",
   "execution_count": 50,
   "metadata": {},
   "outputs": [],
   "source": [
    "fip_train_val = fip.drop(index=results[-1].index.to_list())"
   ]
  },
  {
   "cell_type": "code",
   "execution_count": 51,
   "metadata": {},
   "outputs": [
    {
     "data": {
      "text/html": [
       "<div>\n",
       "<style scoped>\n",
       "    .dataframe tbody tr th:only-of-type {\n",
       "        vertical-align: middle;\n",
       "    }\n",
       "\n",
       "    .dataframe tbody tr th {\n",
       "        vertical-align: top;\n",
       "    }\n",
       "\n",
       "    .dataframe thead th {\n",
       "        text-align: right;\n",
       "    }\n",
       "</style>\n",
       "<table border=\"1\" class=\"dataframe\">\n",
       "  <thead>\n",
       "    <tr style=\"text-align: right;\">\n",
       "      <th></th>\n",
       "      <th>Gender</th>\n",
       "      <th>ZygosityGT</th>\n",
       "      <th>Family_ID</th>\n",
       "      <th>Sex</th>\n",
       "      <th>Left</th>\n",
       "      <th>Right</th>\n",
       "    </tr>\n",
       "    <tr>\n",
       "      <th>Subject</th>\n",
       "      <th></th>\n",
       "      <th></th>\n",
       "      <th></th>\n",
       "      <th></th>\n",
       "      <th></th>\n",
       "      <th></th>\n",
       "    </tr>\n",
       "  </thead>\n",
       "  <tbody>\n",
       "    <tr>\n",
       "      <th>100206</th>\n",
       "      <td>M</td>\n",
       "      <td>NotTwin</td>\n",
       "      <td>56037_85858</td>\n",
       "      <td>M</td>\n",
       "      <td>0</td>\n",
       "      <td>1</td>\n",
       "    </tr>\n",
       "    <tr>\n",
       "      <th>100307</th>\n",
       "      <td>F</td>\n",
       "      <td>MZ</td>\n",
       "      <td>51488_81352</td>\n",
       "      <td>F</td>\n",
       "      <td>1</td>\n",
       "      <td>1</td>\n",
       "    </tr>\n",
       "    <tr>\n",
       "      <th>100610</th>\n",
       "      <td>M</td>\n",
       "      <td>DZ</td>\n",
       "      <td>52813_82634</td>\n",
       "      <td>M</td>\n",
       "      <td>0</td>\n",
       "      <td>1</td>\n",
       "    </tr>\n",
       "    <tr>\n",
       "      <th>101410</th>\n",
       "      <td>M</td>\n",
       "      <td>NotTwin</td>\n",
       "      <td>52198_82061</td>\n",
       "      <td>M</td>\n",
       "      <td>0</td>\n",
       "      <td>0</td>\n",
       "    </tr>\n",
       "    <tr>\n",
       "      <th>102311</th>\n",
       "      <td>F</td>\n",
       "      <td>MZ</td>\n",
       "      <td>51679_81543</td>\n",
       "      <td>F</td>\n",
       "      <td>0</td>\n",
       "      <td>1</td>\n",
       "    </tr>\n",
       "    <tr>\n",
       "      <th>...</th>\n",
       "      <td>...</td>\n",
       "      <td>...</td>\n",
       "      <td>...</td>\n",
       "      <td>...</td>\n",
       "      <td>...</td>\n",
       "      <td>...</td>\n",
       "    </tr>\n",
       "    <tr>\n",
       "      <th>971160</th>\n",
       "      <td>M</td>\n",
       "      <td>MZ</td>\n",
       "      <td>52796_82617</td>\n",
       "      <td>M</td>\n",
       "      <td>0</td>\n",
       "      <td>1</td>\n",
       "    </tr>\n",
       "    <tr>\n",
       "      <th>984472</th>\n",
       "      <td>F</td>\n",
       "      <td>DZ</td>\n",
       "      <td>51455_81320</td>\n",
       "      <td>F</td>\n",
       "      <td>1</td>\n",
       "      <td>1</td>\n",
       "    </tr>\n",
       "    <tr>\n",
       "      <th>991267</th>\n",
       "      <td>M</td>\n",
       "      <td>NotTwin</td>\n",
       "      <td>51639_81503</td>\n",
       "      <td>M</td>\n",
       "      <td>1</td>\n",
       "      <td>1</td>\n",
       "    </tr>\n",
       "    <tr>\n",
       "      <th>993675</th>\n",
       "      <td>F</td>\n",
       "      <td>NotTwin</td>\n",
       "      <td>55800_85621</td>\n",
       "      <td>F</td>\n",
       "      <td>1</td>\n",
       "      <td>0</td>\n",
       "    </tr>\n",
       "    <tr>\n",
       "      <th>996782</th>\n",
       "      <td>F</td>\n",
       "      <td>DZ</td>\n",
       "      <td>51541_81405</td>\n",
       "      <td>F</td>\n",
       "      <td>1</td>\n",
       "      <td>1</td>\n",
       "    </tr>\n",
       "  </tbody>\n",
       "</table>\n",
       "<p>313 rows × 6 columns</p>\n",
       "</div>"
      ],
      "text/plain": [
       "        Gender ZygosityGT    Family_ID Sex  Left  Right\n",
       "Subject                                                \n",
       "100206       M    NotTwin  56037_85858   M     0      1\n",
       "100307       F         MZ  51488_81352   F     1      1\n",
       "100610       M         DZ  52813_82634   M     0      1\n",
       "101410       M    NotTwin  52198_82061   M     0      0\n",
       "102311       F         MZ  51679_81543   F     0      1\n",
       "...        ...        ...          ...  ..   ...    ...\n",
       "971160       M         MZ  52796_82617   M     0      1\n",
       "984472       F         DZ  51455_81320   F     1      1\n",
       "991267       M    NotTwin  51639_81503   M     1      1\n",
       "993675       F    NotTwin  55800_85621   F     1      0\n",
       "996782       F         DZ  51541_81405   F     1      1\n",
       "\n",
       "[313 rows x 6 columns]"
      ]
     },
     "execution_count": 51,
     "metadata": {},
     "output_type": "execute_result"
    }
   ],
   "source": [
    "fip_train_val"
   ]
  },
  {
   "cell_type": "code",
   "execution_count": 52,
   "metadata": {},
   "outputs": [],
   "source": [
    "# repeat the process\n",
    "n_splits = 5\n",
    "df = fip_train_val[[side, 'Gender', 'Family_ID']]\n",
    "\n",
    "# group based on family\n",
    "groups = df['Family_ID'].to_numpy()\n",
    "\n",
    "# labels are combinations of Sex and actual label\n",
    "labels = df[[side, 'Gender']]\n",
    "labels['label'] = labels[labels.columns[:]].apply(\n",
    "    lambda x: ''.join(x.dropna().astype(str)),\n",
    "    axis=1\n",
    ")\n",
    "labels = labels['label'].to_numpy()"
   ]
  },
  {
   "cell_type": "code",
   "execution_count": 53,
   "metadata": {},
   "outputs": [],
   "source": [
    "stratifier = StratifiedGroupKFold(\n",
    "    n_splits=n_splits, shuffle=False)\n",
    "results = []\n",
    "for indices in stratifier.split(df.to_numpy(), labels, groups):\n",
    "    results.append(df.iloc[indices[1]])"
   ]
  },
  {
   "cell_type": "code",
   "execution_count": 55,
   "metadata": {},
   "outputs": [
    {
     "name": "stdout",
     "output_type": "stream",
     "text": [
      "query   : #rows      : #rows per fold\n",
      "\n",
      "1, M : total = 112 : per fold = 22 - 23 - 23 - 22 - 22 - \n",
      "1, F : total = 104 : per fold = 21 - 20 - 21 - 21 - 21 - \n",
      "0, M : total = 27 : per fold = 5 - 6 - 5 - 6 - 5 - \n",
      "0, F : total = 70 : per fold = 14 - 14 - 14 - 14 - 14 - \n",
      "\n",
      "lengths of folds :  62 63 63 63 62 \n",
      "Expected total_length = 313\n",
      "Effective total_length = 313\n",
      "total number of stratification errors: 0\n",
      "total number of mismatched fold sizes : 0\n",
      "number of common families = 0 over 207 total families\n"
     ]
    }
   ],
   "source": [
    "print_results(fip_train_val, results, [side, 'Gender'], True)\n",
    "how_many_common_families(fip_train_val, results)"
   ]
  },
  {
   "cell_type": "code",
   "execution_count": 56,
   "metadata": {},
   "outputs": [],
   "source": [
    "# save folds\n",
    "for i in range(len(results)):\n",
    "    results[i].reset_index()['Subject'].to_csv(\n",
    "        f\"{save_path}/train_val_split_{i}.csv\",\n",
    "        header=False,\n",
    "        index=False,\n",
    "        quoting=csv.QUOTE_ALL)"
   ]
  },
  {
   "cell_type": "code",
   "execution_count": null,
   "metadata": {},
   "outputs": [],
   "source": []
  }
 ],
 "metadata": {
  "kernelspec": {
   "display_name": "venv",
   "language": "python",
   "name": "python3"
  },
  "language_info": {
   "codemirror_mode": {
    "name": "ipython",
    "version": 3
   },
   "file_extension": ".py",
   "mimetype": "text/x-python",
   "name": "python",
   "nbconvert_exporter": "python",
   "pygments_lexer": "ipython3",
   "version": "3.10.12"
  }
 },
 "nbformat": 4,
 "nbformat_minor": 2
}
