{
 "cells": [
  {
   "cell_type": "markdown",
   "metadata": {},
   "source": [
    "### Prematurity classification on the dHCP database."
   ]
  },
  {
   "cell_type": "code",
   "execution_count": 12,
   "metadata": {},
   "outputs": [],
   "source": [
    "import os \n",
    "import numpy as np\n",
    "import pandas as pd\n",
    "from sklearn.svm import SVC\n",
    "from sklearn.preprocessing import StandardScaler\n",
    "from sklearn.metrics import roc_auc_score\n",
    "import matplotlib.pyplot as plt\n"
   ]
  },
  {
   "cell_type": "code",
   "execution_count": 3,
   "metadata": {},
   "outputs": [],
   "source": [
    "region = \"STs_right\"\n",
    "\n",
    "labels_path = \"/neurospin/dico/data/deep_folding/current/datasets/dHCP_374_subjects/preterm_labels.csv\"\n",
    "base_path = \"/neurospin/dico/data/deep_folding/current/models/Champollion_V1_after_ablation\"\n",
    "    \n",
    "\n",
    "region_path = os.path.join(base_path, region)\n",
    "    \n",
    "# Trouver le nom du dossier unique automatiquement\n",
    "subdirs = [d for d in os.listdir(region_path) if os.path.isdir(os.path.join(region_path, d))]\n",
    "if len(subdirs) != 1:\n",
    "    raise RuntimeError(f\"Il y a {len(subdirs)} sous-dossiers dans {region_path}, impossible de choisir automatiquement car il y a plusieurs modèles enregistrés par région.\")\n",
    "model_folder = subdirs[0]\n",
    "\n",
    "# Construire les chemins complets\n",
    "embedding_path = os.path.join(region_path, model_folder, \"dHCP_random_embeddings\", \"full_embeddings.csv\")"
   ]
  },
  {
   "cell_type": "code",
   "execution_count": null,
   "metadata": {},
   "outputs": [
    {
     "name": "stdout",
     "output_type": "stream",
     "text": [
      "Shape embeddings (374, 32)\n",
      "Shape labels (374,)\n",
      "[0 0 0 0 0 0 0 0 0 0 0 0 0 0 0 0 0 0 0 0 0 0 0 0 0 0 0 0 0 0 0 0 0 0 0 0 0\n",
      " 0 0 0 0 0 0 0 0 0 0 0 0 0 0 0 0 0 0 0 0 0 0 0 0 0 0 0 0 0 0 0 0 0 0 0 0 0\n",
      " 0 0 0 0 0 0 0 0 0 0 0 0 0 0 0 0 0 0 0 0 0 0 0 0 0 0 0 0 0 0 0 0 0 0 0 0 0\n",
      " 0 0 0 0 0 0 0 0 0 0 0 0 0 0 0 0 0 0 0 0 0 0 0 0 0 0 0 0 0 0 0 0 0 0 0 0 0\n",
      " 0 0 0 0 0 0 0 0 0 0 0 0 0 0 0 0 0 0 0 0 0 0 0 0 0 0 0 0 0 0 0 0 0 0 0 0 0\n",
      " 0 0 0 0 0 0 0 0 0 0 0 0 0 1 0 0 1 0 0 1 1 1 0 0 0 0 0 0 0 0 0 0 0 0 0 0 0\n",
      " 0 0 0 0 0 0 0 0 0 0 0 0 0 0 0 0 0 0 0 0 0 0 0 0 0 0 0 1 0 0 0 0 1 0 0 0 0\n",
      " 0 0 0 0 1 0 1 0 0 0 0 0 0 0 0 0 0 1 0 0 0 0 1 0 0 0 0 0 0 0 0 0 0 1 0 0 0\n",
      " 0 0 0 0 1 0 0 0 0 0 0 0 0 0 0 0 0 0 0 0 0 0 0 0 0 1 0 0 0 0 0 0 0 0 0 0 0\n",
      " 0 0 0 0 0 0 0 0 1 0 0 0 1 0 0 0 0 0 1 0 0 0 0 1 1 0 0 0 0 0 0 0 0 0 0 0 0\n",
      " 0 0 0 0]\n",
      "[0 0 0 0 0 0 0 0 0 0 0 0 0 0 0 0 0 0 0 0 0 0 0 0 0 0 0 0 0 0 0 0 0 0 1 1 0\n",
      " 0 0 0 0 0 0 1 0 0 0 0 0 0 0 0 0 0 0 0 0 0 0 0 0 0 0 0 0 0 0 0 0 0 0 0 0 0\n",
      " 0 0 0 0 0 0 1 1 1 0 1 0 0 0 0 0 0 0 0 0 0 0 1 1 0 0 0 0 0 1 0 0 1 0 0 0 0\n",
      " 0 0 0 0 0 0 0 0 0 0 0 0 0 0 0 0 0 0 0 0 0 0 0 0 0 1 1 0 0 0 0 0 0 0 0 0 0\n",
      " 0 0 0 0 0 0 0 0 0 0 0 0 0 0 0 0 0 0 0 0 0 0 0 0 0 0 0 0 0 0 0 0 0 0 0 0 0\n",
      " 1 0 0 0 0 0 0 0 0 0 0 0 0 1 0 1 1 0 0 1 1 1 0 0 0 0 0 0 0 0 0 0 0 0 0 0 0\n",
      " 0 0 0 0 0 1 0 0 0 0 0 0 0 0 0 0 0 0 0 0 0 0 1 0 0 0 1 1 0 1 0 1 1 0 0 0 0\n",
      " 0 0 0 1 1 0 1 0 0 0 1 1 0 0 0 0 0 1 0 0 0 0 1 0 1 0 0 0 0 1 0 0 0 1 0 0 0\n",
      " 0 0 1 0 1 0 0 0 0 0 1 0 1 0 1 0 0 0 0 0 1 0 0 0 0 1 0 0 0 0 0 0 0 0 0 0 0\n",
      " 0 1 0 0 0 0 1 0 1 0 0 0 1 0 0 0 0 0 1 0 1 0 0 1 1 0 1 1 0 0 0 0 0 0 0 0 0\n",
      " 0 0 0 0]\n",
      "[0 0 0 0 0 0 0 0 1 0 0 1 0 0 0 0 0 0 0 0 0 0 0 0 0 0 0 0 0 0 0 0 1 1 1 1 0\n",
      " 0 0 0 0 0 0 1 0 0 0 0 0 0 0 0 0 0 0 0 0 0 0 0 0 0 1 1 0 1 0 0 0 0 0 0 0 0\n",
      " 0 0 0 1 0 0 1 1 1 0 1 0 0 0 0 0 0 0 0 0 0 1 1 1 0 0 0 0 0 1 0 0 1 0 0 0 1\n",
      " 0 0 0 0 0 0 0 0 1 0 0 0 0 1 0 0 0 0 0 0 0 0 0 0 1 1 1 0 0 0 0 0 1 1 1 0 0\n",
      " 0 0 0 0 1 1 0 0 0 0 0 0 0 0 0 0 0 0 0 0 0 0 0 0 0 0 0 0 0 0 0 0 0 0 0 0 0\n",
      " 1 0 0 0 0 0 0 0 0 0 0 0 1 1 0 1 1 0 0 1 1 1 0 0 0 0 0 0 0 0 0 0 0 0 0 0 0\n",
      " 0 0 0 0 1 1 0 0 0 0 0 0 0 0 0 0 0 0 0 0 0 0 1 0 0 0 1 1 0 1 0 1 1 1 0 0 1\n",
      " 0 0 0 1 1 0 1 0 0 0 1 1 0 0 1 0 1 1 1 0 0 0 1 0 1 0 0 0 0 1 0 0 1 1 0 1 1\n",
      " 0 0 1 1 1 0 0 0 0 0 1 1 1 1 1 0 1 1 0 0 1 0 0 0 0 1 0 0 0 0 1 1 1 1 0 0 0\n",
      " 0 1 0 0 0 0 1 0 1 0 0 1 1 0 0 0 1 1 1 1 1 1 0 1 1 0 1 1 0 0 0 1 0 0 0 0 0\n",
      " 0 0 0 0]\n"
     ]
    }
   ],
   "source": [
    "\n",
    "# Load embeddings and labels\n",
    "labels = pd.read_csv(labels_path)\n",
    "embeddings = pd.read_csv(embedding_path, index_col=0)\n",
    "embeddings= embeddings.loc[embeddings.index.isin(labels['Subject'])]\n",
    "\n",
    "# Visu labels\n",
    "labels=labels[\"birth_age\"]\n",
    "\n",
    "\n",
    "print(\"Shape embeddings\", embeddings.shape)\n",
    "print(\"Shape labels\", labels.shape)\n",
    "\n",
    "# Scaling\n",
    "scaler = StandardScaler().fit(embeddings)\n",
    "Xs = scaler.transform(embeddings)\n",
    "\n",
    "results = {}\n",
    "for T in [28, 32, 37]:\n",
    "    y = (labels < T).astype(int).values\n",
    "    \n",
    "    # Train linear SVC\n",
    "    clf = SVC(kernel='linear', C=0.01, class_weight='balanced')\n",
    "    clf.fit(Xs, y)\n",
    "    scores = clf.decision_function(Xs)\n",
    "\n",
    "    # AUC\n",
    "    auc = roc_auc_score(y, scores)\n",
    "\n",
    "    # Permutation \n",
    "    auc_null = []\n",
    "    for _ in range(200):\n",
    "        y_perm = np.random.permutation(y)\n",
    "        clf.fit(Xs, y_perm)\n",
    "        auc_null.append(roc_auc_score(y_perm, clf.decision_function(Xs)))\n",
    "    p_value = np.mean(np.array(auc_null) >= auc)\n",
    "    ci95 = np.percentile(auc_null, 95)\n",
    "\n",
    "    results[T] = {'AUC': auc, 'p_value': p_value, 'null95': ci95}"
   ]
  },
  {
   "cell_type": "code",
   "execution_count": 14,
   "metadata": {},
   "outputs": [
    {
     "data": {
      "image/png": "[encoded data removed]",
      "text/plain": [
       "<Figure size 640x480 with 1 Axes>"
      ]
     },
     "metadata": {},
     "output_type": "display_data"
    }
   ],
   "source": [
    "# Plots\n",
    "\n",
    "seuils = list(results.keys())\n",
    "aucs   = [results[T]['AUC'] for T in seuils]\n",
    "ci95s  = [results[T]['null95'] for T in seuils]\n",
    "\n",
    "plt.plot(seuils, aucs, marker='o', label='SVC')\n",
    "plt.hlines(ci95s, [s-0.5 for s in seuils], [s+0.5 for s in seuils],\n",
    "           linestyles='dashed', colors='gray', label='Permutation 95%')\n",
    "plt.xlabel('Seuil de prématurité (semaines)')\n",
    "plt.ylabel('AUC')\n",
    "plt.legend()\n",
    "plt.title(f\"Résultats de classification binaire pour différents seuil \")\n",
    "plt.show()\n"
   ]
  }
 ],
 "metadata": {
  "kernelspec": {
   "display_name": "default",
   "language": "python",
   "name": "python3"
  },
  "language_info": {
   "codemirror_mode": {
    "name": "ipython",
    "version": 3
   },
   "file_extension": ".py",
   "mimetype": "text/x-python",
   "name": "python",
   "nbconvert_exporter": "python",
   "pygments_lexer": "ipython3",
   "version": "3.12.10"
  }
 },
 "nbformat": 4,
 "nbformat_minor": 2
}
