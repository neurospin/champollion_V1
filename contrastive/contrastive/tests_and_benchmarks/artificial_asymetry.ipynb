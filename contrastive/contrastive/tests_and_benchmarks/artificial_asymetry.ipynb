{
 "cells": [
  {
   "cell_type": "code",
   "execution_count": 71,
   "metadata": {},
   "outputs": [],
   "source": [
    "import numpy as np\n",
    "import numpy.random as rd\n",
    "import matplotlib.pyplot as plt\n",
    "import pandas as pd\n",
    "\n",
    "from sklearn.model_selection import train_test_split"
   ]
  },
  {
   "cell_type": "code",
   "execution_count": 72,
   "metadata": {},
   "outputs": [],
   "source": [
    "Rshape = (17, 40, 38)\n",
    "Lshape = (20, 42, 38)"
   ]
  },
  {
   "cell_type": "code",
   "execution_count": 73,
   "metadata": {},
   "outputs": [],
   "source": [
    "def get_boundaries(size, alpha):\n",
    "    bound_min = int(size//2 * (1 - alpha))\n",
    "    bound_max = int(size//2 * (1 + alpha))\n",
    "    \n",
    "    if (bound_min < 0) or (bound_max > size):\n",
    "        raise ValueError(\"Choose a smaller alpha\")\n",
    "    \n",
    "    return bound_min, bound_max"
   ]
  },
  {
   "cell_type": "code",
   "execution_count": 74,
   "metadata": {},
   "outputs": [],
   "source": [
    "def generate_plane_sulcus(side, orient, alpha=0.1, Rshape = (17, 40, 38),\n",
    "                          Lshape = (20, 42, 38)):\n",
    "    \"\"\"Generate a 'vertical' fake plane sulcus.\n",
    "\n",
    "    Arguments:\n",
    "        - side: 'R' or 'L'\n",
    "        - orient: dimension of the array on which generate the plane\n",
    "        - alpha: ~size of the available positions interval\n",
    "    \"\"\"\n",
    "    if side == 'R':\n",
    "        shape = Rshape\n",
    "    else:\n",
    "        shape = Lshape\n",
    "    \n",
    "    bound_min, bound_max = get_boundaries(shape[orient], alpha)\n",
    "\n",
    "    arr = np.zeros(shape)\n",
    "    i_sillon = rd.randint(bound_min, bound_max+1)\n",
    "\n",
    "    if orient == 1:\n",
    "        arr[:,i_sillon,:] = 60\n",
    "    else:\n",
    "        arr[:,:,i_sillon] = 60\n",
    "\n",
    "    return arr"
   ]
  },
  {
   "cell_type": "code",
   "execution_count": 75,
   "metadata": {},
   "outputs": [
    {
     "data": {
      "text/plain": [
       "array([[[ 0.,  0.,  0.,  0.,  0.],\n",
       "        [ 0.,  0.,  0.,  0.,  0.],\n",
       "        [60., 60., 60., 60., 60.],\n",
       "        [ 0.,  0.,  0.,  0.,  0.]],\n",
       "\n",
       "       [[ 0.,  0.,  0.,  0.,  0.],\n",
       "        [ 0.,  0.,  0.,  0.,  0.],\n",
       "        [60., 60., 60., 60., 60.],\n",
       "        [ 0.,  0.,  0.,  0.,  0.]],\n",
       "\n",
       "       [[ 0.,  0.,  0.,  0.,  0.],\n",
       "        [ 0.,  0.,  0.,  0.,  0.],\n",
       "        [60., 60., 60., 60., 60.],\n",
       "        [ 0.,  0.,  0.,  0.,  0.]]])"
      ]
     },
     "execution_count": 75,
     "metadata": {},
     "output_type": "execute_result"
    }
   ],
   "source": [
    "generate_plane_sulcus('R', 1, Rshape=(3,4,5))"
   ]
  },
  {
   "cell_type": "code",
   "execution_count": 76,
   "metadata": {},
   "outputs": [],
   "source": [
    "# generate the np arrays\n",
    "\n",
    "N_subjects = 2500\n",
    "alpha = 0.1\n",
    "Rshape = (17, 40, 38)\n",
    "Lshape = (20, 42, 38)\n",
    "\n",
    "R_arrays = []\n",
    "L_arrays = []\n",
    "labels = []\n",
    "\n",
    "for i_sub in range(N_subjects):\n",
    "    R_orient = rd.randint(1,3)\n",
    "    R_arrays.append(generate_plane_sulcus('R', orient=R_orient,\n",
    "                                          alpha=alpha,\n",
    "                                          Rshape=Rshape,\n",
    "                                          Lshape=Lshape))\n",
    "\n",
    "    L_orient = rd.randint(1,3)\n",
    "    L_arrays.append(generate_plane_sulcus('L', orient=L_orient,\n",
    "                                          alpha=alpha,\n",
    "                                          Rshape=Rshape,\n",
    "                                          Lshape=Lshape))\n",
    "\n",
    "    if R_orient == L_orient:\n",
    "        labels.append(0)\n",
    "    else:\n",
    "        labels.append(1)\n",
    "\n",
    "R_arrays = np.array(R_arrays)\n",
    "L_arrays = np.array(L_arrays)\n",
    "labels = np.array(labels)"
   ]
  },
  {
   "cell_type": "code",
   "execution_count": 77,
   "metadata": {},
   "outputs": [
    {
     "data": {
      "image/png": "[encoded data removed]",
      "text/plain": [
       "<Figure size 640x480 with 1 Axes>"
      ]
     },
     "metadata": {},
     "output_type": "display_data"
    },
    {
     "data": {
      "image/png": "[encoded data removed]",
      "text/plain": [
       "<Figure size 640x480 with 1 Axes>"
      ]
     },
     "metadata": {},
     "output_type": "display_data"
    },
    {
     "name": "stdout",
     "output_type": "stream",
     "text": [
      "0\n"
     ]
    }
   ],
   "source": [
    "i_test = 51\n",
    "\n",
    "plt.imshow(R_arrays[i_test][0])\n",
    "plt.figure()\n",
    "plt.imshow(L_arrays[i_test][0])\n",
    "plt.show()\n",
    "print(labels[i_test])"
   ]
  },
  {
   "cell_type": "code",
   "execution_count": 78,
   "metadata": {},
   "outputs": [
    {
     "name": "stdout",
     "output_type": "stream",
     "text": [
      "1244 2500\n"
     ]
    }
   ],
   "source": [
    "# check if good label repartition\n",
    "\n",
    "print(labels.sum(), len(labels))"
   ]
  },
  {
   "cell_type": "code",
   "execution_count": 79,
   "metadata": {},
   "outputs": [
    {
     "name": "stdout",
     "output_type": "stream",
     "text": [
      "(2500, 17, 40, 38, 1) (2500, 20, 42, 38, 1)\n"
     ]
    }
   ],
   "source": [
    "# save the arrays\n",
    "\n",
    "save_path = \"/neurospin/dico/data/deep_folding/current/datasets/benchmarks/asymetry\"\n",
    "\n",
    "# add the required extra dim\n",
    "R_arrays = np.expand_dims(R_arrays, -1)\n",
    "L_arrays = np.expand_dims(L_arrays, -1)\n",
    "\n",
    "print(R_arrays.shape, L_arrays.shape)\n",
    "\n",
    "np.save(save_path+'/Rarrays.npy', R_arrays)\n",
    "np.save(save_path+'/Larrays.npy', L_arrays)"
   ]
  },
  {
   "cell_type": "code",
   "execution_count": 80,
   "metadata": {},
   "outputs": [],
   "source": [
    "# save the labels\n",
    "\n",
    "names = ['fake_'+str(i) for i in range(N_subjects)]\n",
    "labels_df = pd.DataFrame(np.transpose([names, labels]), columns=['Sub_ID', 'PCS_asymetry'])\n",
    "labels_df.to_csv(save_path+'/labels.csv')"
   ]
  },
  {
   "cell_type": "code",
   "execution_count": 81,
   "metadata": {},
   "outputs": [
    {
     "name": "stdout",
     "output_type": "stream",
     "text": [
      "2006    fake_2006\n",
      "376      fake_376\n",
      "2216    fake_2216\n",
      "175      fake_175\n",
      "1025    fake_1025\n",
      "          ...    \n",
      "2122    fake_2122\n",
      "263      fake_263\n",
      "2366    fake_2366\n",
      "1136    fake_1136\n",
      "1941    fake_1941\n",
      "Name: Subject, Length: 2000, dtype: object\n",
      "2043    fake_2043\n",
      "2254    fake_2254\n",
      "2474    fake_2474\n",
      "389      fake_389\n",
      "905      fake_905\n",
      "          ...    \n",
      "1033    fake_1033\n",
      "622      fake_622\n",
      "122      fake_122\n",
      "125      fake_125\n",
      "669      fake_669\n",
      "Name: Subject, Length: 500, dtype: object\n"
     ]
    }
   ],
   "source": [
    "# save the subjects + generate train_val\n",
    "\n",
    "subjects = labels_df['Sub_ID']\n",
    "subjects = subjects.rename('Subject')\n",
    "\n",
    "subjects.to_csv(save_path+'/subjects.csv')\n",
    "\n",
    "train_val_percentage = 0.8\n",
    "\n",
    "train_val, test = train_test_split(subjects, train_size=train_val_percentage)\n",
    "\n",
    "print(train_val)\n",
    "print(test)\n",
    "\n",
    "train_val.to_csv(save_path+'/train_val_subjects.csv', index=False, header=False)"
   ]
  }
 ],
 "metadata": {
  "kernelspec": {
   "display_name": "venv_local",
   "language": "python",
   "name": "python3"
  },
  "language_info": {
   "codemirror_mode": {
    "name": "ipython",
    "version": 3
   },
   "file_extension": ".py",
   "mimetype": "text/x-python",
   "name": "python",
   "nbconvert_exporter": "python",
   "pygments_lexer": "ipython3",
   "version": "3.10.6"
  },
  "orig_nbformat": 4
 },
 "nbformat": 4,
 "nbformat_minor": 2
}
