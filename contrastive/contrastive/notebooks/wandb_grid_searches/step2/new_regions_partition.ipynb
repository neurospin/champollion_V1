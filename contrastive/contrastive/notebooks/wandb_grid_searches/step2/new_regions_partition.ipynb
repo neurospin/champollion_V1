{
 "cells": [
  {
   "cell_type": "code",
   "execution_count": 10,
   "metadata": {},
   "outputs": [],
   "source": [
    "import json"
   ]
  },
  {
   "cell_type": "code",
   "execution_count": 11,
   "metadata": {},
   "outputs": [
    {
     "data": {
      "text/plain": [
       "['S.C._left',\n",
       " 'S.C.-sylv._left',\n",
       " 'S.T.s.-br.post._left',\n",
       " 'S.T.s._left',\n",
       " 'S.T.s.-4br._left',\n",
       " 'S.T.s.br._left',\n",
       " 'F.C.L.p.-subsc.-sylv._left',\n",
       " 'F.C.L.p.-subsc.-sylv.-BROCA_left',\n",
       " 'BROCA_left',\n",
       " 'S.Pe.C._left',\n",
       " 'S.C.-S.Pe.C._left',\n",
       " 'S.Pe.C.inf.-S.Pe.C.inter.-S.F.inf._left',\n",
       " 'S.Pe.C.sup.-S.Pe.C.marginal-S.Pe.C.median-S.F.sup._left',\n",
       " 'S.F.inter._left',\n",
       " 'S.Pe.C.-S.F._left',\n",
       " 'S.F.median-S.F.pol.tr._left',\n",
       " 'S.or._left',\n",
       " 'S.F.marginal-S.F.inf.ant._left',\n",
       " 'S.F.inf.-BROCA-S.Pe.C.inf._left',\n",
       " 'S.F.int.-S.R._left',\n",
       " 'S.F.int.-F.C.M.ant._left',\n",
       " 'F.C.M.post.-S.p.C._left',\n",
       " 'F.C.M.-S.F.int.-S.R.-S.p.C._left',\n",
       " 'F.C.M.p.-S.Call.-S.s.P.-S.intraCing._left',\n",
       " 'S.s.P.-S.Pa.int._left',\n",
       " 'F.P.O.-S.Pa.t._left',\n",
       " 'Sc.Cal._left',\n",
       " 'F.P.O.-S.Cu.-Sc.Cal._left',\n",
       " 'Sc.Cal.-S.Li._left',\n",
       " 'F.Coll.-S.Rh._left',\n",
       " 'S.O.T.lat._left',\n",
       " 'F.Coll.-S.Rh.-S.O.T.lat._left',\n",
       " 'S.T.i._left',\n",
       " 'S.T.i.-S.O.T.lat._left',\n",
       " 'S.T.i.-S.T.s.-S.T.pol._left',\n",
       " 'OCCIPITAL_left',\n",
       " 'S.Po.C._left',\n",
       " 'S.C.-S.Po.C._left',\n",
       " 'F.I.P._left',\n",
       " 'Lobule parietal inf._left',\n",
       " 'Lobule parietal sup._left',\n",
       " 'INSULA-F.C.L.p._left',\n",
       " 'INSULA_left',\n",
       " 'S.Olf._left']"
      ]
     },
     "execution_count": 11,
     "metadata": {},
     "output_type": "execute_result"
    }
   ],
   "source": [
    "# print all regions\n",
    "\n",
    "with open(\"/neurospin/dico/data/deep_folding/current/sulci_regions_overlap.json\", 'r') as file:\n",
    "    regions_overlap = json.load(file)\n",
    "    regions_overlap = regions_overlap['brain']\n",
    "\n",
    "left_regions = [region for region in list(regions_overlap.keys()) if '_left' in region]\n",
    "\n",
    "left_regions"
   ]
  },
  {
   "attachments": {},
   "cell_type": "markdown",
   "metadata": {},
   "source": [
    "Thanks to /neurospin/dico/jchavas/ana_sulcal_roi_view.py, we see that all sulci are contained in sulci_region_overlap.json, except F.C.L.a.\n",
    "\n",
    "Neither it is in sulci_region_custom.json."
   ]
  },
  {
   "attachments": {},
   "cell_type": "markdown",
   "metadata": {},
   "source": [
    "# New partition"
   ]
  },
  {
   "attachments": {},
   "cell_type": "markdown",
   "metadata": {},
   "source": [
    "Thanks to the same visualisation program, a new partition is proposed. Here are the tests to be sure all sulci are present, and we also measure overlaps (how many times a sulcus is present)."
   ]
  },
  {
   "cell_type": "code",
   "execution_count": 19,
   "metadata": {},
   "outputs": [
    {
     "name": "stdout",
     "output_type": "stream",
     "text": [
      "64\n"
     ]
    }
   ],
   "source": [
    "# list of all the existing labeled sulci\n",
    "\n",
    "all_sulci = {}\n",
    "\n",
    "for region in left_regions:\n",
    "    region_sulci = regions_overlap[region]\n",
    "    for sulcus in region_sulci:\n",
    "        if sulcus not in all_sulci:\n",
    "            all_sulci.update({sulcus: 0})\n",
    "\n",
    "all_sulci.update({'F.C.L.a._left': 0})\n",
    "\n",
    "print(len(all_sulci.keys()))"
   ]
  },
  {
   "cell_type": "code",
   "execution_count": 20,
   "metadata": {},
   "outputs": [
    {
     "data": {
      "text/plain": [
       "{'S.C._left': 3,\n",
       " 'S.C.sylvian._left': 3,\n",
       " 'S.T.s._left': 2,\n",
       " 'S.T.s.ter.asc.ant._left': 1,\n",
       " 'S.T.s.ter.asc.post._left': 1,\n",
       " 'F.I.P.r.int.1_left': 1,\n",
       " 'F.I.P.r.int.2_left': 1,\n",
       " 'S.GSM._left': 1,\n",
       " 'F.C.L.p._left': 1,\n",
       " 'F.C.L.r.sc.ant._left': 1,\n",
       " 'F.C.L.r.sc.post._left': 1,\n",
       " 'F.C.L.r.ant._left': 1,\n",
       " 'F.C.L.r.asc._left': 1,\n",
       " 'F.C.L.r.diag._left': 1,\n",
       " 'S.Pe.C.inf._left': 2,\n",
       " 'S.Pe.C.inter._left': 1,\n",
       " 'S.Pe.C.marginal._left': 1,\n",
       " 'S.Pe.C.sup._left': 1,\n",
       " 'S.Pe.C.median._left': 1,\n",
       " 'S.F.inf._left': 1,\n",
       " 'S.F.inf.ant._left': 2,\n",
       " 'S.F.inter._left': 1,\n",
       " 'S.F.sup._left': 2,\n",
       " 'S.F.median._left': 1,\n",
       " 'S.F.polaire.tr._left': 1,\n",
       " 'S.Or._left': 2,\n",
       " 'S.F.marginal._left': 1,\n",
       " 'S.F.orbitaire._left': 1,\n",
       " 'S.F.int._left': 2,\n",
       " 'S.R.inf._left': 1,\n",
       " 'S.R.sup._left': 2,\n",
       " 'F.C.M.ant._left': 2,\n",
       " 'F.C.M.post._left': 2,\n",
       " 'S.C.LPC._left': 2,\n",
       " 'S.p.C._left': 2,\n",
       " 'S.Call._left': 1,\n",
       " 'S.s.P._left': 2,\n",
       " 'S.intraCing._left': 1,\n",
       " 'S.Pa.int._left': 1,\n",
       " 'F.P.O._left': 1,\n",
       " 'S.Pa.t._left': 1,\n",
       " 'F.Cal.ant.-Sc.Cal._left': 2,\n",
       " 'S.O.p._left': 2,\n",
       " 'S.Cu._left': 1,\n",
       " 'S.Li.ant._left': 1,\n",
       " 'S.Li.post._left': 1,\n",
       " 'F.Coll._left': 1,\n",
       " 'S.Rh._left': 1,\n",
       " 'S.O.T.lat.ant._left': 1,\n",
       " 'S.O.T.lat.int._left': 1,\n",
       " 'S.O.T.lat.med._left': 1,\n",
       " 'S.O.T.lat.post._left': 1,\n",
       " 'S.T.i.ant._left': 2,\n",
       " 'S.T.i.post._left': 2,\n",
       " 'S.T.pol._left': 1,\n",
       " 'OCCIPITAL_left': 1,\n",
       " 'S.Po.C.sup._left': 2,\n",
       " 'F.I.P.Po.C.inf._left': 2,\n",
       " 'F.C.L.r.retroC.tr._left': 1,\n",
       " 'F.I.P._left': 2,\n",
       " 'S.Pa.sup._left': 1,\n",
       " 'INSULA_left': 1,\n",
       " 'S.Olf._left': 1,\n",
       " 'F.C.L.a._left': 1,\n",
       " 'paracingular._left': 1}"
      ]
     },
     "execution_count": 20,
     "metadata": {},
     "output_type": "execute_result"
    }
   ],
   "source": [
    "# load the new partition\n",
    "\n",
    "with open(\"/neurospin/dico/data/deep_folding/current/sulci_regions_gridsearch.json\", 'r') as file:\n",
    "    regions_proposed = json.load(file)\n",
    "    regions_proposed = regions_proposed['brain']\n",
    "\n",
    "# compute for each sulcus how many times it appears\n",
    "for region in regions_proposed:\n",
    "    region_sulci = regions_proposed[region]\n",
    "    for sulcus in region_sulci:\n",
    "        if sulcus not in all_sulci.keys():\n",
    "            all_sulci[sulcus] = 1\n",
    "        else:\n",
    "            all_sulci[sulcus] += 1\n",
    "\n",
    "all_sulci"
   ]
  },
  {
   "cell_type": "code",
   "execution_count": 21,
   "metadata": {},
   "outputs": [
    {
     "name": "stdout",
     "output_type": "stream",
     "text": [
      "Over represented sulci (more than twice)\n",
      "{'S.C.sylvian.', 'S.C.'}\n",
      "\n",
      "Sulci represented twice\n",
      "['S.T.s.', 'S.Pe.C.inf.', 'S.F.inf.ant.', 'S.F.sup.', 'S.Or.', 'S.F.int.', 'S.R.sup.', 'F.C.M.ant.', 'F.C.M.post.', 'S.C.LPC.', 'S.p.C.', 'S.s.P.', 'F.Cal.ant.-Sc.Cal.', 'S.O.p.', 'S.T.i.ant.', 'S.T.i.post.', 'S.Po.C.sup.', 'F.I.P.Po.C.inf.', 'F.I.P.']\n",
      "19\n",
      "\n",
      "Forgotten sulci\n",
      "set()\n"
     ]
    }
   ],
   "source": [
    "print(\"Over represented sulci (more than twice)\")\n",
    "print({k[:-5] for k, v in all_sulci.items() if v > 2})\n",
    "print()\n",
    "\n",
    "print(\"Sulci represented twice\")\n",
    "twice = [k[:-5] for k, v in all_sulci.items() if v == 2]\n",
    "print(twice)\n",
    "print(len(twice))\n",
    "print()\n",
    "\n",
    "print(\"Forgotten sulci\")\n",
    "print({k[:-5] for k, v in all_sulci.items() if v == 0})"
   ]
  },
  {
   "cell_type": "code",
   "execution_count": 15,
   "metadata": {},
   "outputs": [
    {
     "name": "stdout",
     "output_type": "stream",
     "text": [
      "18 / 25\n"
     ]
    },
    {
     "data": {
      "text/plain": [
       "['S.C.-sylv._left',\n",
       " 'S.F.inf.-BROCA-S.Pe.C.inf._left',\n",
       " 'S.T.s._left',\n",
       " 'Sc.Cal.-S.Li._left',\n",
       " 'F.C.M.post.-S.p.C._left',\n",
       " 'S.T.i.-S.O.T.lat._left',\n",
       " 'OCCIPITAL_left',\n",
       " 'F.I.P._left',\n",
       " 'S.or._left',\n",
       " 'F.P.O.-S.Cu.-Sc.Cal._left',\n",
       " 'S.s.P.-S.Pa.int._left',\n",
       " 'S.T.s.br._left',\n",
       " 'Lobule parietal sup._left',\n",
       " 'S.F.marginal-S.F.inf.ant._left',\n",
       " 'F.Coll.-S.Rh._left',\n",
       " 'S.T.i.-S.T.s.-S.T.pol._left',\n",
       " 'S.F.int.-S.R._left',\n",
       " 'CINGULATE._left']"
      ]
     },
     "execution_count": 15,
     "metadata": {},
     "output_type": "execute_result"
    }
   ],
   "source": [
    "# check what regions are common\n",
    "\n",
    "common_regions = []\n",
    "\n",
    "for region in regions_proposed:\n",
    "    if region in regions_overlap:\n",
    "        # check if the regions are actually the same\n",
    "        if regions_overlap[region] == regions_proposed[region]:\n",
    "            common_regions.append(region)\n",
    "\n",
    "# regions in the custom json\n",
    "common_regions.append('CINGULATE._left')\n",
    "\n",
    "print(len(common_regions), '/', len(regions_proposed.keys()))\n",
    "\n",
    "common_regions"
   ]
  },
  {
   "cell_type": "code",
   "execution_count": 16,
   "metadata": {},
   "outputs": [
    {
     "data": {
      "text/plain": [
       "['S.C.-S.Pe.C._left',\n",
       " 'S.C.-S.Po.C._left',\n",
       " 'S.F.inter.-S.F.sup.',\n",
       " 'S.F.median-S.F.pol.tr.-S.F.sup.',\n",
       " 'S.or.-S.Olf._left',\n",
       " 'F.C.L.p.-subsc.-sylv.-INSULA._left',\n",
       " 'fronto-parietal_medial_face._left']"
      ]
     },
     "execution_count": 16,
     "metadata": {},
     "output_type": "execute_result"
    }
   ],
   "source": [
    "# regions not as is in the overlap json\n",
    "diff_regions = [region for region in regions_proposed.keys() if region not in common_regions]\n",
    "diff_regions"
   ]
  },
  {
   "attachments": {},
   "cell_type": "markdown",
   "metadata": {},
   "source": [
    "S.F.inter. -> S.F.inter.-S.F.sup. : ajout de S.F.sup.\n",
    "\n",
    "S.F.median-S.F.pol.tr. -> S.F.median-S.F.pol.tr.-S.F.sup. : ajout de S.F.sup.\n",
    "\n",
    "S.or. -> S.or.-F.C.L.a. : ajout de F.C.L.a. (Nope reverse)\n",
    "\n",
    "F.C.L.p.-subsc.-sylv. -> F.C.L.p.-subsc.-sylv.-INSULA. : ajout de INSULA + F.C.M.a\n",
    "\n",
    "None -> S.Call. : ajout de la région (S.Call jamais tout seul originalement) (big face interne)\n",
    "\n",
    "S.F.int.-S.R. -> S.F.int.-S.R.-S.Olf. : ajout de S.Olf. (Nope reverse)"
   ]
  },
  {
   "cell_type": "code",
   "execution_count": null,
   "metadata": {},
   "outputs": [],
   "source": []
  }
 ],
 "metadata": {
  "kernelspec": {
   "display_name": "venv_local",
   "language": "python",
   "name": "python3"
  },
  "language_info": {
   "codemirror_mode": {
    "name": "ipython",
    "version": 3
   },
   "file_extension": ".py",
   "mimetype": "text/x-python",
   "name": "python",
   "nbconvert_exporter": "python",
   "pygments_lexer": "ipython3",
   "version": "3.10.12"
  },
  "orig_nbformat": 4
 },
 "nbformat": 4,
 "nbformat_minor": 2
}
