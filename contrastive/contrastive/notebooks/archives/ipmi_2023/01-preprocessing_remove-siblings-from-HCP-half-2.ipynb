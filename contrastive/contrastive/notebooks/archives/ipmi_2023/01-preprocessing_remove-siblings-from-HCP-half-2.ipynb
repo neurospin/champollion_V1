{
 "cells": [
  {
   "cell_type": "markdown",
   "metadata": {},
   "source": [
    "This notebook contains code to remove subjects in HCP-half-2 that are siblings of subjects present in HCP-half-1"
   ]
  },
  {
   "cell_type": "markdown",
   "metadata": {},
   "source": []
  }
 ],
 "metadata": {
  "language_info": {
   "name": "python"
  },
  "orig_nbformat": 4
 },
 "nbformat": 4,
 "nbformat_minor": 2
}
