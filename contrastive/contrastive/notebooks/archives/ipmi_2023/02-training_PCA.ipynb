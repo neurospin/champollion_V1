{
 "cells": [
  {
   "cell_type": "markdown",
   "metadata": {},
   "source": [
    "Notebook to generate PCA embeddings and to compare PCA and other dimension \n",
    "reduction methods to SimCLR."
   ]
  },
  {
   "cell_type": "code",
   "execution_count": 1,
   "metadata": {},
   "outputs": [
    {
     "name": "stdout",
     "output_type": "stream",
     "text": [
      "INFO: you cannot use deep_folding in brainvisa. Probably OK.\n"
     ]
    }
   ],
   "source": [
    "import pickle\n",
    "import numpy as np\n",
    "import matplotlib.pyplot as plt\n",
    "import pytorch_lightning as pl\n",
    "import pandas as pd\n",
    "plt.style.use('default')\n",
    "\n",
    "from torch import nn\n",
    "from torch.utils.data import DataLoader, TensorDataset\n",
    "from sklearn.decomposition import PCA\n",
    "from sklearn.metrics import accuracy_score, confusion_matrix, roc_curve,\\\n",
    "roc_auc_score\n",
    "\n",
    "from contrastive.backbones.densenet import *\n",
    "from contrastive.data.utils import read_labels"
   ]
  },
  {
   "cell_type": "markdown",
   "metadata": {},
   "source": [
    "## Create ACCpatterns_0 .npy"
   ]
  },
  {
   "cell_type": "code",
   "execution_count": 2,
   "metadata": {},
   "outputs": [
    {
     "data": {
      "text/html": [
       "<div>\n",
       "<style scoped>\n",
       "    .dataframe tbody tr th:only-of-type {\n",
       "        vertical-align: middle;\n",
       "    }\n",
       "\n",
       "    .dataframe tbody tr th {\n",
       "        vertical-align: top;\n",
       "    }\n",
       "\n",
       "    .dataframe thead th {\n",
       "        text-align: right;\n",
       "    }\n",
       "</style>\n",
       "<table border=\"1\" class=\"dataframe\">\n",
       "  <thead>\n",
       "    <tr style=\"text-align: right;\">\n",
       "      <th></th>\n",
       "      <th>Subject</th>\n",
       "    </tr>\n",
       "  </thead>\n",
       "  <tbody>\n",
       "    <tr>\n",
       "      <th>0</th>\n",
       "      <td>1-20FORHU_t0</td>\n",
       "    </tr>\n",
       "    <tr>\n",
       "      <th>1</th>\n",
       "      <td>1-23CREES_t0</td>\n",
       "    </tr>\n",
       "    <tr>\n",
       "      <th>2</th>\n",
       "      <td>2-02FERMA_t0</td>\n",
       "    </tr>\n",
       "    <tr>\n",
       "      <th>3</th>\n",
       "      <td>2-04HEBTO_t0</td>\n",
       "    </tr>\n",
       "    <tr>\n",
       "      <th>4</th>\n",
       "      <td>2-08BESAG_t0</td>\n",
       "    </tr>\n",
       "    <tr>\n",
       "      <th>...</th>\n",
       "      <td>...</td>\n",
       "    </tr>\n",
       "    <tr>\n",
       "      <th>166</th>\n",
       "      <td>sub-inhibition23_ses-pretraining_T1w</td>\n",
       "    </tr>\n",
       "    <tr>\n",
       "      <th>167</th>\n",
       "      <td>sub-inhibition24_ses-pretraining_T1w</td>\n",
       "    </tr>\n",
       "    <tr>\n",
       "      <th>168</th>\n",
       "      <td>sub-inhibition25_ses-pretraining_T1w</td>\n",
       "    </tr>\n",
       "    <tr>\n",
       "      <th>169</th>\n",
       "      <td>sub-inhibition28_ses-pretraining_T1w</td>\n",
       "    </tr>\n",
       "    <tr>\n",
       "      <th>170</th>\n",
       "      <td>sub-inhibition31_ses-pretraining_T1w</td>\n",
       "    </tr>\n",
       "  </tbody>\n",
       "</table>\n",
       "<p>171 rows × 1 columns</p>\n",
       "</div>"
      ],
      "text/plain": [
       "                                  Subject\n",
       "0                            1-20FORHU_t0\n",
       "1                            1-23CREES_t0\n",
       "2                            2-02FERMA_t0\n",
       "3                            2-04HEBTO_t0\n",
       "4                            2-08BESAG_t0\n",
       "..                                    ...\n",
       "166  sub-inhibition23_ses-pretraining_T1w\n",
       "167  sub-inhibition24_ses-pretraining_T1w\n",
       "168  sub-inhibition25_ses-pretraining_T1w\n",
       "169  sub-inhibition28_ses-pretraining_T1w\n",
       "170  sub-inhibition31_ses-pretraining_T1w\n",
       "\n",
       "[171 rows x 1 columns]"
      ]
     },
     "execution_count": 2,
     "metadata": {},
     "output_type": "execute_result"
    }
   ],
   "source": [
    "acc0_subjects = pd.read_csv(\"/neurospin/dico/data/deep_folding/current/datasets/ACCpatterns/ACCpatterns_1_subject.csv\")\n",
    "acc0_subjects.sort_values(by='Subject', inplace=True)\n",
    "acc0_subjects"
   ]
  },
  {
   "cell_type": "code",
   "execution_count": 3,
   "metadata": {},
   "outputs": [
    {
     "data": {
      "text/html": [
       "<div>\n",
       "<style scoped>\n",
       "    .dataframe tbody tr th:only-of-type {\n",
       "        vertical-align: middle;\n",
       "    }\n",
       "\n",
       "    .dataframe tbody tr th {\n",
       "        vertical-align: top;\n",
       "    }\n",
       "\n",
       "    .dataframe thead th {\n",
       "        text-align: right;\n",
       "    }\n",
       "</style>\n",
       "<table border=\"1\" class=\"dataframe\">\n",
       "  <thead>\n",
       "    <tr style=\"text-align: right;\">\n",
       "      <th></th>\n",
       "      <th>Subject</th>\n",
       "    </tr>\n",
       "  </thead>\n",
       "  <tbody>\n",
       "    <tr>\n",
       "      <th>0</th>\n",
       "      <td>1-03HUBJO_t0</td>\n",
       "    </tr>\n",
       "    <tr>\n",
       "      <th>1</th>\n",
       "      <td>1-08ANDTI_t0</td>\n",
       "    </tr>\n",
       "    <tr>\n",
       "      <th>2</th>\n",
       "      <td>1-11LEBJO_t0</td>\n",
       "    </tr>\n",
       "    <tr>\n",
       "      <th>3</th>\n",
       "      <td>1-15LEHMI_t0</td>\n",
       "    </tr>\n",
       "    <tr>\n",
       "      <th>4</th>\n",
       "      <td>1-17COLMA_t0</td>\n",
       "    </tr>\n",
       "    <tr>\n",
       "      <th>...</th>\n",
       "      <td>...</td>\n",
       "    </tr>\n",
       "    <tr>\n",
       "      <th>336</th>\n",
       "      <td>sub-inhibition25_ses-pretraining_T1w</td>\n",
       "    </tr>\n",
       "    <tr>\n",
       "      <th>337</th>\n",
       "      <td>sub-inhibition26_ses-pretraining_T1w</td>\n",
       "    </tr>\n",
       "    <tr>\n",
       "      <th>338</th>\n",
       "      <td>sub-inhibition28_ses-pretraining_T1w</td>\n",
       "    </tr>\n",
       "    <tr>\n",
       "      <th>339</th>\n",
       "      <td>sub-inhibition29_ses-pretraining_T1w</td>\n",
       "    </tr>\n",
       "    <tr>\n",
       "      <th>340</th>\n",
       "      <td>sub-inhibition31_ses-pretraining_T1w</td>\n",
       "    </tr>\n",
       "  </tbody>\n",
       "</table>\n",
       "<p>341 rows × 1 columns</p>\n",
       "</div>"
      ],
      "text/plain": [
       "                                  Subject\n",
       "0                            1-03HUBJO_t0\n",
       "1                            1-08ANDTI_t0\n",
       "2                            1-11LEBJO_t0\n",
       "3                            1-15LEHMI_t0\n",
       "4                            1-17COLMA_t0\n",
       "..                                    ...\n",
       "336  sub-inhibition25_ses-pretraining_T1w\n",
       "337  sub-inhibition26_ses-pretraining_T1w\n",
       "338  sub-inhibition28_ses-pretraining_T1w\n",
       "339  sub-inhibition29_ses-pretraining_T1w\n",
       "340  sub-inhibition31_ses-pretraining_T1w\n",
       "\n",
       "[341 rows x 1 columns]"
      ]
     },
     "execution_count": 3,
     "metadata": {},
     "output_type": "execute_result"
    }
   ],
   "source": [
    "acc_subjects = pd.read_csv(\"/neurospin/dico/data/deep_folding/current/datasets/ACCpatterns/crops/2mm/CINGULATE/mask/Rlabel_subject.csv\")\n",
    "acc_subjects"
   ]
  },
  {
   "cell_type": "code",
   "execution_count": 4,
   "metadata": {},
   "outputs": [
    {
     "data": {
      "text/html": [
       "<div>\n",
       "<style scoped>\n",
       "    .dataframe tbody tr th:only-of-type {\n",
       "        vertical-align: middle;\n",
       "    }\n",
       "\n",
       "    .dataframe tbody tr th {\n",
       "        vertical-align: top;\n",
       "    }\n",
       "\n",
       "    .dataframe thead th {\n",
       "        text-align: right;\n",
       "    }\n",
       "</style>\n",
       "<table border=\"1\" class=\"dataframe\">\n",
       "  <thead>\n",
       "    <tr style=\"text-align: right;\">\n",
       "      <th></th>\n",
       "      <th>Subject</th>\n",
       "    </tr>\n",
       "  </thead>\n",
       "  <tbody>\n",
       "    <tr>\n",
       "      <th>6</th>\n",
       "      <td>1-20FORHU_t0</td>\n",
       "    </tr>\n",
       "    <tr>\n",
       "      <th>7</th>\n",
       "      <td>1-23CREES_t0</td>\n",
       "    </tr>\n",
       "    <tr>\n",
       "      <th>9</th>\n",
       "      <td>2-02FERMA_t0</td>\n",
       "    </tr>\n",
       "    <tr>\n",
       "      <th>10</th>\n",
       "      <td>2-04HEBTO_t0</td>\n",
       "    </tr>\n",
       "    <tr>\n",
       "      <th>11</th>\n",
       "      <td>2-08BESAG_t0</td>\n",
       "    </tr>\n",
       "    <tr>\n",
       "      <th>...</th>\n",
       "      <td>...</td>\n",
       "    </tr>\n",
       "    <tr>\n",
       "      <th>334</th>\n",
       "      <td>sub-inhibition23_ses-pretraining_T1w</td>\n",
       "    </tr>\n",
       "    <tr>\n",
       "      <th>335</th>\n",
       "      <td>sub-inhibition24_ses-pretraining_T1w</td>\n",
       "    </tr>\n",
       "    <tr>\n",
       "      <th>336</th>\n",
       "      <td>sub-inhibition25_ses-pretraining_T1w</td>\n",
       "    </tr>\n",
       "    <tr>\n",
       "      <th>338</th>\n",
       "      <td>sub-inhibition28_ses-pretraining_T1w</td>\n",
       "    </tr>\n",
       "    <tr>\n",
       "      <th>340</th>\n",
       "      <td>sub-inhibition31_ses-pretraining_T1w</td>\n",
       "    </tr>\n",
       "  </tbody>\n",
       "</table>\n",
       "<p>171 rows × 1 columns</p>\n",
       "</div>"
      ],
      "text/plain": [
       "                                  Subject\n",
       "6                            1-20FORHU_t0\n",
       "7                            1-23CREES_t0\n",
       "9                            2-02FERMA_t0\n",
       "10                           2-04HEBTO_t0\n",
       "11                           2-08BESAG_t0\n",
       "..                                    ...\n",
       "334  sub-inhibition23_ses-pretraining_T1w\n",
       "335  sub-inhibition24_ses-pretraining_T1w\n",
       "336  sub-inhibition25_ses-pretraining_T1w\n",
       "338  sub-inhibition28_ses-pretraining_T1w\n",
       "340  sub-inhibition31_ses-pretraining_T1w\n",
       "\n",
       "[171 rows x 1 columns]"
      ]
     },
     "execution_count": 4,
     "metadata": {},
     "output_type": "execute_result"
    }
   ],
   "source": [
    "interm = acc_subjects[acc_subjects.Subject.isin(acc0_subjects.Subject)]\n",
    "interm"
   ]
  },
  {
   "cell_type": "code",
   "execution_count": 5,
   "metadata": {},
   "outputs": [
    {
     "data": {
      "text/plain": [
       "(171, 17, 40, 38, 1)"
      ]
     },
     "execution_count": 5,
     "metadata": {},
     "output_type": "execute_result"
    }
   ],
   "source": [
    "Rskeleton = np.load(\"/neurospin/dico/data/deep_folding/current/datasets/ACCpatterns/crops/2mm/CINGULATE/mask/Rskeleton.npy\")\n",
    "Rskeleton_0 = Rskeleton[interm.index.values]\n",
    "Rskeleton_0.shape"
   ]
  },
  {
   "cell_type": "code",
   "execution_count": 38,
   "metadata": {},
   "outputs": [],
   "source": [
    "\"\"\"with open(\"/neurospin/dico/data/deep_folding/current/datasets/ACCpatterns/ACCpatterns_0.npy\", 'w') as file:\n",
    "    np.save(\"/neurospin/dico/data/deep_folding/current/datasets/ACCpatterns/ACCpatterns_0.npy\", Rskeleton_0)\"\"\""
   ]
  },
  {
   "cell_type": "code",
   "execution_count": 6,
   "metadata": {},
   "outputs": [
    {
     "name": "stdout",
     "output_type": "stream",
     "text": [
      "(171, 17, 40, 38, 1)\n"
     ]
    }
   ],
   "source": [
    "# checks\n",
    "test_array = np.load(\"/neurospin/dico/data/deep_folding/current/datasets/ACCpatterns/ACCpatterns_1.npy\")\n",
    "print(test_array.shape)\n",
    "\n",
    "full_array = np.load(\"/neurospin/dico/data/deep_folding/current/datasets/ACCpatterns/crops/2mm/CINGULATE/mask/Rskeleton.npy\")\n",
    "\n",
    "for i,j in enumerate(interm.index.values):\n",
    "    if not (test_array[i] == full_array[j]).all():\n",
    "        print(i,j)"
   ]
  },
  {
   "cell_type": "markdown",
   "metadata": {},
   "source": [
    "## Load PCA embeddings"
   ]
  },
  {
   "cell_type": "code",
   "execution_count": 4,
   "metadata": {},
   "outputs": [],
   "source": [
    "## load pca embeddings\n",
    "\n",
    "pca30 = pd.read_csv(\"/neurospin/dico/agaudin/Runs/04_pointnet/Output/PCA/pca_embeddings_30.csv\")\n",
    "pca4 = pd.read_csv(\"/neurospin/dico/agaudin/Runs/04_pointnet/Output/PCA/pca_embeddings_10.csv\")\n",
    "pca4 = pd.read_csv(\"/neurospin/dico/agaudin/Runs/04_pointnet/Output/PCA/pca_embeddings_4.csv\")"
   ]
  },
  {
   "cell_type": "markdown",
   "metadata": {},
   "source": [
    "## empty voxels"
   ]
  },
  {
   "cell_type": "code",
   "execution_count": 7,
   "metadata": {},
   "outputs": [
    {
     "data": {
      "text/plain": [
       "(341, 17, 40, 38, 1)"
      ]
     },
     "execution_count": 7,
     "metadata": {},
     "output_type": "execute_result"
    }
   ],
   "source": [
    "# get ACCpatterns dataset\n",
    "numpy_all = \"/neurospin/dico/data/deep_folding/current/datasets/ACCpatterns/crops/2mm/CINGULATE/mask/Rskeleton.npy\"\n",
    "\n",
    "X = np.load(numpy_all)\n",
    "X.shape"
   ]
  },
  {
   "cell_type": "code",
   "execution_count": 8,
   "metadata": {},
   "outputs": [
    {
     "name": "stdout",
     "output_type": "stream",
     "text": [
      "25840\n"
     ]
    },
    {
     "data": {
      "image/png": "[encoded data removed]",
      "text/plain": [
       "<Figure size 640x480 with 1 Axes>"
      ]
     },
     "metadata": {},
     "output_type": "display_data"
    }
   ],
   "source": [
    "non_zeros = []\n",
    "\n",
    "for x in X:\n",
    "    non_zeros.append(100*np.count_nonzero(x)/np.size(x))\n",
    "\n",
    "print(np.size(X[0]))\n",
    "plt.hist(non_zeros, bins=50)\n",
    "plt.xlabel(\"Percentage of non empty voxels\")\n",
    "plt.show()"
   ]
  },
  {
   "cell_type": "markdown",
   "metadata": {},
   "source": [
    "### where are the full voxels"
   ]
  },
  {
   "cell_type": "code",
   "execution_count": 9,
   "metadata": {},
   "outputs": [
    {
     "name": "stdout",
     "output_type": "stream",
     "text": [
      "179\n",
      "(17, 40, 38, 1)\n"
     ]
    },
    {
     "data": {
      "text/plain": [
       "<BarContainer object of 38 artists>"
      ]
     },
     "execution_count": 9,
     "metadata": {},
     "output_type": "execute_result"
    },
    {
     "data": {
      "image/png": "[encoded data removed]",
      "text/plain": [
       "<Figure size 640x480 with 1 Axes>"
      ]
     },
     "metadata": {},
     "output_type": "display_data"
    },
    {
     "data": {
      "image/png": "[encoded data removed]",
      "text/plain": [
       "<Figure size 640x480 with 1 Axes>"
      ]
     },
     "metadata": {},
     "output_type": "display_data"
    },
    {
     "data": {
      "image/png": "[encoded data removed]",
      "text/plain": [
       "<Figure size 640x480 with 1 Axes>"
      ]
     },
     "metadata": {},
     "output_type": "display_data"
    }
   ],
   "source": [
    "i = np.random.randint(0,341, size=1)[0]\n",
    "print(i)\n",
    "x = X[i]\n",
    "\n",
    "print(x.shape)\n",
    "\n",
    "repartition = []\n",
    "\n",
    "for j in range(x.shape[0]):\n",
    "    repartition.append(np.sum(x[j]))\n",
    "\n",
    "plt.bar(range(x.shape[0]), repartition)\n",
    "\n",
    "\n",
    "plt.figure()\n",
    "\n",
    "repartition = []\n",
    "for j in range(x.shape[1]):\n",
    "    repartition.append(np.sum(x[:,j]))\n",
    "\n",
    "plt.bar(range(x.shape[1]), repartition)\n",
    "\n",
    "\n",
    "plt.figure()\n",
    "\n",
    "repartition = []\n",
    "for j in range(x.shape[2]):\n",
    "    repartition.append(np.sum(x[:,:,j]))\n",
    "\n",
    "plt.bar(range(x.shape[2]), repartition)"
   ]
  },
  {
   "cell_type": "markdown",
   "metadata": {},
   "source": [
    "Hmmmmmmm... ça ne sert à rien..."
   ]
  },
  {
   "cell_type": "markdown",
   "metadata": {},
   "source": [
    "## PCA embeddings"
   ]
  },
  {
   "cell_type": "code",
   "execution_count": 10,
   "metadata": {},
   "outputs": [
    {
     "data": {
      "text/plain": [
       "(341, 25840)"
      ]
     },
     "execution_count": 10,
     "metadata": {},
     "output_type": "execute_result"
    }
   ],
   "source": [
    "X_flatten = X.reshape(X.shape[0], np.prod(X.shape[1:]))\n",
    "X_flatten.shape"
   ]
  },
  {
   "cell_type": "code",
   "execution_count": 15,
   "metadata": {},
   "outputs": [
    {
     "name": "stdout",
     "output_type": "stream",
     "text": [
      "(341, 100)\n"
     ]
    },
    {
     "data": {
      "text/plain": [
       "tensor([[ 245.7662,  237.2004,   62.2442,  ..., -133.4796,  -57.0979,\n",
       "          -26.8270],\n",
       "        [ 197.3744,  -69.5136,  244.6385,  ...,   14.8301,  -82.0342,\n",
       "          -62.4103],\n",
       "        [ 280.1981,   17.5589,  185.6597,  ...,  -89.9254,  -59.9093,\n",
       "           29.6441],\n",
       "        ...,\n",
       "        [   4.1137,   85.1607, -140.7252,  ...,  -30.3269,   41.5756,\n",
       "           -0.7341],\n",
       "        [ -84.7407,   -8.6205,  -22.7353,  ...,   87.7418,  -10.9102,\n",
       "           -3.1039],\n",
       "        [-165.8072,  -89.3121,  117.3370,  ...,  -21.4307,   70.8993,\n",
       "           56.3121]])"
      ]
     },
     "execution_count": 15,
     "metadata": {},
     "output_type": "execute_result"
    }
   ],
   "source": [
    "n_pca = 100\n",
    "\n",
    "pca = PCA(n_components=n_pca)\n",
    "X_reduced = pca.fit_transform(X_flatten)\n",
    "print(X_reduced.shape)\n",
    "\n",
    "X_reduced = torch.from_numpy(X_reduced).type(torch.float)\n",
    "X_reduced"
   ]
  },
  {
   "cell_type": "code",
   "execution_count": 16,
   "metadata": {},
   "outputs": [
    {
     "name": "stderr",
     "output_type": "stream",
     "text": [
      "INFO:utils.py: Labels to keep = ['Right_PCS'] of type <class 'list'>\n",
      "INFO:utils.py: Column Right_PCS sorted as categories. Categories are Index(['absent', 'present'], dtype='object')\n",
      "INFO:utils.py: Head of subject_labels:\n",
      "            Subject  Right_PCS\n",
      "0  nih_chp_04701_t1          0\n",
      "1  nih_chp_01534_t1          1\n",
      "2  nih_chp_04623_t1          1\n",
      "3  nih_chp_01503_t1          0\n",
      "4  nih_chp_00404_t1          1\n",
      "INFO:utils.py: Number of non-NaN subjects with label = 341\n"
     ]
    },
    {
     "data": {
      "text/plain": [
       "tensor([0., 1., 1., 0., 1., 0., 0., 0., 1., 1., 1., 0., 0., 1., 0., 1., 1., 0.,\n",
       "        0., 1., 1., 0., 0., 0., 0., 0., 0., 0., 1., 0., 0., 1., 1., 1., 1., 1.,\n",
       "        1., 1., 0., 0., 1., 1., 1., 0., 1., 1., 0., 0., 0., 0., 1., 0., 1., 1.,\n",
       "        1., 0., 0., 1., 0., 1., 0., 0., 1., 0., 0., 1., 1., 1., 0., 0., 0., 1.,\n",
       "        1., 0., 0., 0., 1., 0., 1., 1., 0., 1., 1., 1., 0., 1., 0., 0., 0., 1.,\n",
       "        0., 1., 0., 1., 0., 0., 0., 0., 0., 1., 1., 1., 1., 1., 1., 0., 1., 1.,\n",
       "        0., 0., 0., 0., 1., 0., 1., 0., 0., 1., 0., 0., 1., 1., 1., 0., 0., 1.,\n",
       "        0., 0., 0., 1., 0., 1., 1., 1., 0., 0., 1., 0., 0., 1., 0., 0., 1., 0.,\n",
       "        1., 1., 0., 1., 1., 0., 0., 0., 0., 1., 0., 1., 1., 0., 0., 0., 1., 0.,\n",
       "        1., 1., 1., 1., 0., 0., 1., 0., 1., 0., 0., 0., 1., 0., 0., 0., 0., 1.,\n",
       "        1., 1., 0., 0., 1., 0., 0., 1., 0., 0., 1., 1., 0., 0., 1., 1., 1., 1.,\n",
       "        1., 0., 0., 0., 1., 1., 0., 1., 0., 0., 1., 0., 0., 0., 0., 0., 0., 0.,\n",
       "        0., 0., 0., 1., 1., 1., 1., 0., 0., 0., 0., 1., 0., 0., 1., 1., 0., 0.,\n",
       "        0., 0., 1., 1., 1., 0., 0., 0., 1., 1., 1., 0., 0., 0., 0., 0., 1., 0.,\n",
       "        1., 0., 0., 0., 0., 0., 1., 0., 0., 1., 1., 0., 1., 1., 0., 0., 0., 1.,\n",
       "        0., 1., 0., 1., 1., 0., 0., 0., 1., 0., 1., 0., 0., 0., 0., 1., 1., 0.,\n",
       "        0., 0., 1., 0., 0., 1., 0., 0., 1., 0., 1., 0., 1., 1., 0., 0., 0., 0.,\n",
       "        0., 0., 1., 0., 0., 0., 1., 1., 0., 1., 1., 0., 0., 0., 0., 0., 0., 0.,\n",
       "        1., 0., 0., 0., 0., 0., 0., 0., 0., 0., 1., 1., 1., 0., 1., 1., 0.])"
      ]
     },
     "execution_count": 16,
     "metadata": {},
     "output_type": "execute_result"
    }
   ],
   "source": [
    "# get the labels (0 = no paracingulate, 1 = paracingulate)\n",
    "# /!\\ use read_labels\n",
    "labels = read_labels(\"/neurospin/dico/data/bv_databases/human/partially_labeled/ACCpatterns/all.csv\",\n",
    "                'long_name', [\"Right_PCS\"])\n",
    "\n",
    "Y = labels.Right_PCS.values\n",
    "\n",
    "Y = torch.from_numpy(Y).type(torch.float)\n",
    "Y"
   ]
  },
  {
   "cell_type": "code",
   "execution_count": 17,
   "metadata": {},
   "outputs": [],
   "source": [
    "class BinaryClassifier(pl.LightningModule):\n",
    "    def __init__(self, layers_sizes, activation=None, loss='MSE', keep_log=False):\n",
    "        super().__init__()\n",
    "        self.keep_log = keep_log\n",
    "        self.layers = nn.Sequential()\n",
    "        for i in range(len(layers_sizes)-1):\n",
    "            self.layers.add_module('layer%d'%(i), nn.Linear(layers_sizes[i], layers_sizes[i+1]))\n",
    "\n",
    "        if activation == 'sigmoid':\n",
    "            self.activation = nn.Sigmoid()\n",
    "        else:\n",
    "            self.activation = None\n",
    "        \n",
    "        if loss == 'BCE':\n",
    "            self.loss = nn.BCELoss()\n",
    "        else:\n",
    "            self.loss = nn.MSELoss()\n",
    "        \n",
    "\n",
    "    def forward(self, x):\n",
    "        # in lightning, forward defines the prediction/inference actions\n",
    "        for layer in self.layers:\n",
    "            x = layer(x)\n",
    "        if self.activation:\n",
    "            x = self.activation(x)\n",
    "        return x\n",
    "    \n",
    "    def training_step(self, batch, batch_idx):\n",
    "        # training_step defined the train loop.\n",
    "        # It is independent of forward\n",
    "        x, y = batch\n",
    "        x = x.view(x.size(0), -1)\n",
    "        output = self.forward(x)\n",
    "        y = y.view(y.size(0), 1)\n",
    "        loss = self.loss(output, y)\n",
    "        if self.keep_log:\n",
    "            print(\"KEEP LOG\")\n",
    "            # Logging to TensorBoard by default\n",
    "            self.log(\"train_loss\", loss)\n",
    "        return loss\n",
    "\n",
    "    def configure_optimizers(self):\n",
    "        optimizer = torch.optim.Adam(self.parameters(), lr=1e-3)\n",
    "        return optimizer"
   ]
  },
  {
   "cell_type": "code",
   "execution_count": 18,
   "metadata": {},
   "outputs": [],
   "source": [
    "classifier = BinaryClassifier([n_pca, 10, 1], activation=None, loss='MSE')"
   ]
  },
  {
   "cell_type": "code",
   "execution_count": 19,
   "metadata": {},
   "outputs": [
    {
     "name": "stderr",
     "output_type": "stream",
     "text": [
      "GPU available: False, used: False\n",
      "TPU available: False, using: 0 TPU cores\n",
      "IPU available: False, using: 0 IPUs\n",
      "\n",
      "  | Name   | Type       | Params\n",
      "--------------------------------------\n",
      "0 | layers | Sequential | 1.0 K \n",
      "1 | loss   | MSELoss    | 0     \n",
      "--------------------------------------\n",
      "1.0 K     Trainable params\n",
      "0         Non-trainable params\n",
      "1.0 K     Total params\n",
      "0.004     Total estimated model params size (MB)\n",
      "/neurospin/dico/agaudin/Runs/03_monkeys/2022_jchavas_cingulate_inhibitory_control/venv_local/lib/python3.6/site-packages/pytorch_lightning/trainer/data_loading.py:133: UserWarning: The dataloader, train_dataloader, does not have many workers which may be a bottleneck. Consider increasing the value of the `num_workers` argument` (try 4 which is the number of cpus on this machine) in the `DataLoader` init to improve performance.\n",
      "  f\"The dataloader, {name}, does not have many workers which may be a bottleneck.\"\n",
      "/neurospin/dico/agaudin/Runs/03_monkeys/2022_jchavas_cingulate_inhibitory_control/venv_local/lib/python3.6/site-packages/pytorch_lightning/trainer/data_loading.py:433: UserWarning: The number of training samples (35) is smaller than the logging interval Trainer(log_every_n_steps=50). Set a lower value for log_every_n_steps if you want to see logs for the training epoch.\n",
      "  f\"The number of training samples ({self.num_training_batches}) is smaller than the logging interval\"\n"
     ]
    },
    {
     "data": {
      "application/vnd.jupyter.widget-view+json": {
       "model_id": "4869404d971f4e7c8ff80853529ff9d6",
       "version_major": 2,
       "version_minor": 0
      },
      "text/plain": [
       "Training: 0it [00:00, ?it/s]"
      ]
     },
     "metadata": {},
     "output_type": "display_data"
    }
   ],
   "source": [
    "train_set = TensorDataset(X_reduced, Y)\n",
    "train_loader_lin = DataLoader(train_set, batch_size=10)\n",
    "\n",
    "trainer_lin = pl.Trainer(max_epochs=10)\n",
    "trainer_lin.fit(model=classifier, train_dataloaders=train_loader_lin)"
   ]
  },
  {
   "cell_type": "code",
   "execution_count": 20,
   "metadata": {},
   "outputs": [],
   "source": [
    "# get predictions\n",
    "Y_pred = classifier.forward(X_reduced)\n",
    "Y_pred = Y_pred.detach().numpy()\n",
    "Y = Y.detach_().numpy()"
   ]
  },
  {
   "cell_type": "code",
   "execution_count": 21,
   "metadata": {},
   "outputs": [
    {
     "name": "stdout",
     "output_type": "stream",
     "text": [
      "0.6187683284457478\n"
     ]
    },
    {
     "data": {
      "image/png": "[encoded data removed]",
      "text/plain": [
       "<Figure size 432x288 with 1 Axes>"
      ]
     },
     "metadata": {
      "needs_background": "light"
     },
     "output_type": "display_data"
    }
   ],
   "source": [
    "# confusion matrix\n",
    "binary_preds = (Y_pred >= 0.5)\n",
    "\n",
    "print(accuracy_score(Y, binary_preds))\n",
    "conf_mat = confusion_matrix(Y, binary_preds)\n",
    "\n",
    "fig, ax = plt.subplots()\n",
    "# Using matshow here just because it sets the ticks up nicely. imshow is faster.\n",
    "ax.matshow(conf_mat)\n",
    "\n",
    "for (i, j), z in np.ndenumerate(conf_mat):\n",
    "    ax.text(j, i, '{:1.0f}'.format(z), ha='center', va='center')"
   ]
  },
  {
   "cell_type": "code",
   "execution_count": 22,
   "metadata": {},
   "outputs": [
    {
     "data": {
      "text/plain": [
       "<matplotlib.legend.Legend at 0x7f184db3e9b0>"
      ]
     },
     "execution_count": 22,
     "metadata": {},
     "output_type": "execute_result"
    },
    {
     "data": {
      "image/png": "[encoded data removed]",
      "text/plain": [
       "<Figure size 432x288 with 1 Axes>"
      ]
     },
     "metadata": {
      "needs_background": "light"
     },
     "output_type": "display_data"
    }
   ],
   "source": [
    "# roc curve\n",
    "curves = roc_curve(Y, Y_pred)\n",
    "roc_auc = roc_auc_score(Y, Y_pred)\n",
    "\n",
    "plt.plot(curves[0], curves[1], label=\"ROC curve (area = %0.2f)\" % roc_auc)\n",
    "plt.plot([0,1],[0,1],color='r')\n",
    "plt.legend()"
   ]
  },
  {
   "cell_type": "code",
   "execution_count": 23,
   "metadata": {},
   "outputs": [
    {
     "data": {
      "text/html": [
       "<div>\n",
       "<style scoped>\n",
       "    .dataframe tbody tr th:only-of-type {\n",
       "        vertical-align: middle;\n",
       "    }\n",
       "\n",
       "    .dataframe tbody tr th {\n",
       "        vertical-align: top;\n",
       "    }\n",
       "\n",
       "    .dataframe thead th {\n",
       "        text-align: right;\n",
       "    }\n",
       "</style>\n",
       "<table border=\"1\" class=\"dataframe\">\n",
       "  <thead>\n",
       "    <tr style=\"text-align: right;\">\n",
       "      <th></th>\n",
       "      <th>true</th>\n",
       "      <th>pred</th>\n",
       "    </tr>\n",
       "  </thead>\n",
       "  <tbody>\n",
       "    <tr>\n",
       "      <th>0</th>\n",
       "      <td>0.0</td>\n",
       "      <td>-0.076956</td>\n",
       "    </tr>\n",
       "    <tr>\n",
       "      <th>1</th>\n",
       "      <td>1.0</td>\n",
       "      <td>0.395233</td>\n",
       "    </tr>\n",
       "    <tr>\n",
       "      <th>2</th>\n",
       "      <td>1.0</td>\n",
       "      <td>0.137753</td>\n",
       "    </tr>\n",
       "    <tr>\n",
       "      <th>3</th>\n",
       "      <td>0.0</td>\n",
       "      <td>-0.151873</td>\n",
       "    </tr>\n",
       "    <tr>\n",
       "      <th>4</th>\n",
       "      <td>1.0</td>\n",
       "      <td>0.108997</td>\n",
       "    </tr>\n",
       "    <tr>\n",
       "      <th>...</th>\n",
       "      <td>...</td>\n",
       "      <td>...</td>\n",
       "    </tr>\n",
       "    <tr>\n",
       "      <th>336</th>\n",
       "      <td>1.0</td>\n",
       "      <td>0.237254</td>\n",
       "    </tr>\n",
       "    <tr>\n",
       "      <th>337</th>\n",
       "      <td>0.0</td>\n",
       "      <td>-0.033554</td>\n",
       "    </tr>\n",
       "    <tr>\n",
       "      <th>338</th>\n",
       "      <td>1.0</td>\n",
       "      <td>0.039403</td>\n",
       "    </tr>\n",
       "    <tr>\n",
       "      <th>339</th>\n",
       "      <td>1.0</td>\n",
       "      <td>-0.115169</td>\n",
       "    </tr>\n",
       "    <tr>\n",
       "      <th>340</th>\n",
       "      <td>0.0</td>\n",
       "      <td>-0.165315</td>\n",
       "    </tr>\n",
       "  </tbody>\n",
       "</table>\n",
       "<p>341 rows × 2 columns</p>\n",
       "</div>"
      ],
      "text/plain": [
       "     true      pred\n",
       "0     0.0 -0.076956\n",
       "1     1.0  0.395233\n",
       "2     1.0  0.137753\n",
       "3     0.0 -0.151873\n",
       "4     1.0  0.108997\n",
       "..    ...       ...\n",
       "336   1.0  0.237254\n",
       "337   0.0 -0.033554\n",
       "338   1.0  0.039403\n",
       "339   1.0 -0.115169\n",
       "340   0.0 -0.165315\n",
       "\n",
       "[341 rows x 2 columns]"
      ]
     },
     "execution_count": 23,
     "metadata": {},
     "output_type": "execute_result"
    }
   ],
   "source": [
    "data = {\"true\": Y,\n",
    "        \"pred\": Y_pred.flatten()}\n",
    "\n",
    "df = pd.DataFrame(data)\n",
    "df"
   ]
  },
  {
   "cell_type": "code",
   "execution_count": 24,
   "metadata": {},
   "outputs": [
    {
     "name": "stdout",
     "output_type": "stream",
     "text": [
      "144 - 197\n",
      "-0.6475701 1\n"
     ]
    },
    {
     "data": {
      "image/png": "[encoded data removed]",
      "text/plain": [
       "<Figure size 432x288 with 1 Axes>"
      ]
     },
     "metadata": {
      "needs_background": "light"
     },
     "output_type": "display_data"
    }
   ],
   "source": [
    "with_paracingulate = df[df.true == 1]\n",
    "without_paracingulate = df[df.true == 0]\n",
    "\n",
    "print(with_paracingulate.shape[0], \"-\", without_paracingulate.shape[0])\n",
    "\n",
    "x_min = min(0, np.min(df.pred))\n",
    "x_max = max(1, np.max(df.pred))\n",
    "\n",
    "print(x_min, x_max)\n",
    "\n",
    "plt.hist(without_paracingulate.pred, bins=np.arange(x_min,x_max,0.01), alpha=0.6)\n",
    "plt.hist(with_paracingulate.pred, bins=np.arange(x_min,x_max,0.01), alpha=0.6, color='r')\n",
    "plt.legend(['without_paracingulate', \"with_paracingulate\"])\n",
    "\n",
    "ax = plt.gca()\n",
    "plt.vlines([0.5], ax.get_ylim()[0], ax.get_ylim()[1], color='black')\n",
    "plt.show()"
   ]
  },
  {
   "cell_type": "markdown",
   "metadata": {},
   "source": [
    "## Ensemble methods"
   ]
  },
  {
   "cell_type": "markdown",
   "metadata": {},
   "source": [
    "See https://scikit-learn.org/stable/modules/ensemble.html"
   ]
  },
  {
   "cell_type": "code",
   "execution_count": 3,
   "metadata": {},
   "outputs": [],
   "source": [
    "from sklearn.ensemble import *\n",
    "from sklearn.model_selection import train_test_split"
   ]
  },
  {
   "cell_type": "markdown",
   "metadata": {},
   "source": [
    "### Import data"
   ]
  },
  {
   "cell_type": "code",
   "execution_count": 4,
   "metadata": {},
   "outputs": [
    {
     "name": "stderr",
     "output_type": "stream",
     "text": [
      "INFO:utils.py: Labels to keep = ['Right_PCS'] of type <class 'list'>\n",
      "INFO:utils.py: Column Right_PCS sorted as categories. Categories are Index(['absent', 'present'], dtype='object')\n",
      "INFO:utils.py: Head of subject_labels:\n",
      "            Subject  Right_PCS\n",
      "0  nih_chp_04701_t1          0\n",
      "1  nih_chp_01534_t1          1\n",
      "2  nih_chp_04623_t1          1\n",
      "3  nih_chp_01503_t1          0\n",
      "4  nih_chp_00404_t1          1\n",
      "INFO:utils.py: Number of non-NaN subjects with label = 341\n"
     ]
    }
   ],
   "source": [
    "# get ACCpatterns dataset\n",
    "embeddings_path = \"/neurospin/dico/agaudin/Runs/03_monkeys/Output/analysis_folders/main_models/humans/HCP_4_4/SimCLR_embeddings/full_embeddings.csv\"\n",
    "\n",
    "X = pd.read_csv(embeddings_path, index_col=0)\n",
    "X = X.sort_index()\n",
    "labels = read_labels(\"/neurospin/dico/data/bv_databases/human/partially_labeled/ACCpatterns/all.csv\",\n",
    "                'long_name', [\"Right_PCS\"])\n",
    "labels = labels.sort_values(by='Subject')\n",
    "\n",
    "X = X.values\n",
    "Y = labels.Right_PCS.values"
   ]
  },
  {
   "cell_type": "code",
   "execution_count": 5,
   "metadata": {},
   "outputs": [],
   "source": [
    "Xtrain, Xtest, Ytrain, Ytest = train_test_split(X,Y,test_size=0.5)"
   ]
  },
  {
   "cell_type": "markdown",
   "metadata": {},
   "source": [
    "### Random forest"
   ]
  },
  {
   "cell_type": "code",
   "execution_count": 6,
   "metadata": {},
   "outputs": [],
   "source": [
    "forest = RandomForestClassifier(n_estimators=100)\n",
    "forest.fit(Xtrain,Ytrain)\n",
    "Y_forest_train = forest.predict(Xtrain)\n",
    "Y_forest_test = forest.predict(Xtest)"
   ]
  },
  {
   "cell_type": "code",
   "execution_count": 7,
   "metadata": {},
   "outputs": [
    {
     "data": {
      "text/plain": [
       "<matplotlib.legend.Legend at 0x7f754420bb38>"
      ]
     },
     "execution_count": 7,
     "metadata": {},
     "output_type": "execute_result"
    },
    {
     "data": {
      "image/png": "[encoded data removed]",
      "text/plain": [
       "<Figure size 432x288 with 1 Axes>"
      ]
     },
     "metadata": {
      "needs_background": "light"
     },
     "output_type": "display_data"
    },
    {
     "data": {
      "image/png": "[encoded data removed]",
      "text/plain": [
       "<Figure size 432x288 with 1 Axes>"
      ]
     },
     "metadata": {
      "needs_background": "light"
     },
     "output_type": "display_data"
    }
   ],
   "source": [
    "# roc curve\n",
    "curves = roc_curve(Ytrain, Y_forest_train)\n",
    "roc_auc = roc_auc_score(Ytrain, Y_forest_train)\n",
    "\n",
    "plt.plot(curves[0], curves[1], label=\"ROC curve (area = %0.2f)\" % roc_auc)\n",
    "plt.plot([0,1],[0,1],color='r')\n",
    "plt.legend()\n",
    "\n",
    "plt.figure()\n",
    "curves = roc_curve(Ytest, Y_forest_test)\n",
    "roc_auc = roc_auc_score(Ytest, Y_forest_test)\n",
    "\n",
    "plt.plot(curves[0], curves[1], label=\"ROC curve (area = %0.2f)\" % roc_auc)\n",
    "plt.plot([0,1],[0,1],color='r')\n",
    "plt.legend()\n",
    "# un léger overfitting donc..."
   ]
  },
  {
   "cell_type": "markdown",
   "metadata": {},
   "source": [
    "### All estimators"
   ]
  },
  {
   "cell_type": "code",
   "execution_count": 8,
   "metadata": {},
   "outputs": [
    {
     "name": "stdout",
     "output_type": "stream",
     "text": [
      "BaggingClassifier(max_samples=0.5, n_estimators=100)\n"
     ]
    },
    {
     "data": {
      "image/png": "[encoded data removed]",
      "text/plain": [
       "<Figure size 432x288 with 1 Axes>"
      ]
     },
     "metadata": {
      "needs_background": "light"
     },
     "output_type": "display_data"
    },
    {
     "data": {
      "image/png": "[encoded data removed]",
      "text/plain": [
       "<Figure size 432x288 with 1 Axes>"
      ]
     },
     "metadata": {
      "needs_background": "light"
     },
     "output_type": "display_data"
    },
    {
     "name": "stdout",
     "output_type": "stream",
     "text": [
      "RandomForestClassifier()\n"
     ]
    },
    {
     "data": {
      "image/png": "[encoded data removed]",
      "text/plain": [
       "<Figure size 432x288 with 1 Axes>"
      ]
     },
     "metadata": {
      "needs_background": "light"
     },
     "output_type": "display_data"
    },
    {
     "data": {
      "image/png": "[encoded data removed]",
      "text/plain": [
       "<Figure size 432x288 with 1 Axes>"
      ]
     },
     "metadata": {
      "needs_background": "light"
     },
     "output_type": "display_data"
    },
    {
     "name": "stdout",
     "output_type": "stream",
     "text": [
      "AdaBoostClassifier(n_estimators=100)\n"
     ]
    },
    {
     "data": {
      "image/png": "[encoded data removed]",
      "text/plain": [
       "<Figure size 432x288 with 1 Axes>"
      ]
     },
     "metadata": {
      "needs_background": "light"
     },
     "output_type": "display_data"
    },
    {
     "data": {
      "image/png": "[encoded data removed]",
      "text/plain": [
       "<Figure size 432x288 with 1 Axes>"
      ]
     },
     "metadata": {
      "needs_background": "light"
     },
     "output_type": "display_data"
    },
    {
     "name": "stdout",
     "output_type": "stream",
     "text": [
      "GradientBoostingClassifier(subsample=0.5)\n"
     ]
    },
    {
     "data": {
      "image/png": "[encoded data removed]",
      "text/plain": [
       "<Figure size 432x288 with 1 Axes>"
      ]
     },
     "metadata": {
      "needs_background": "light"
     },
     "output_type": "display_data"
    },
    {
     "data": {
      "image/png": "[encoded data removed]",
      "text/plain": [
       "<Figure size 432x288 with 1 Axes>"
      ]
     },
     "metadata": {
      "needs_background": "light"
     },
     "output_type": "display_data"
    }
   ],
   "source": [
    "n_estimators = 100\n",
    "\n",
    "baggins = BaggingClassifier(n_estimators=n_estimators, max_samples=0.5)\n",
    "forest = forest = RandomForestClassifier(n_estimators=n_estimators)\n",
    "ada = AdaBoostClassifier(n_estimators=n_estimators)\n",
    "boostree = GradientBoostingClassifier(n_estimators=n_estimators, subsample=0.5)\n",
    "\n",
    "\n",
    "ensemble_classifiers = [baggins, forest, ada, boostree]\n",
    "\n",
    "for classifier in ensemble_classifiers:\n",
    "    print(classifier)\n",
    "    classifier.fit(Xtrain,Ytrain)\n",
    "    Y_pred_train = classifier.predict(Xtrain)\n",
    "    Y_pred_test = classifier.predict(Xtest)\n",
    "\n",
    "    # roc curve\n",
    "    plt.figure()\n",
    "    curves = roc_curve(Ytrain, Y_pred_train)\n",
    "    roc_auc = roc_auc_score(Ytrain, Y_pred_train)\n",
    "\n",
    "    plt.plot(curves[0], curves[1], label=\"ROC curve (area = %0.2f)\" % roc_auc)\n",
    "    plt.plot([0,1],[0,1],color='r')\n",
    "    plt.legend()\n",
    "\n",
    "    plt.figure()\n",
    "    curves = roc_curve(Ytest, Y_pred_test)\n",
    "    roc_auc = roc_auc_score(Ytest, Y_pred_test)\n",
    "\n",
    "    plt.plot(curves[0], curves[1], label=\"ROC curve (area = %0.2f)\" % roc_auc)\n",
    "    plt.plot([0,1],[0,1],color='r')\n",
    "    plt.legend()\n",
    "    plt.show()"
   ]
  },
  {
   "cell_type": "markdown",
   "metadata": {},
   "source": [
    "## Incertitudes"
   ]
  },
  {
   "cell_type": "code",
   "execution_count": 10,
   "metadata": {},
   "outputs": [],
   "source": [
    "from scipy.stats import ttest_ind"
   ]
  },
  {
   "cell_type": "code",
   "execution_count": 15,
   "metadata": {},
   "outputs": [],
   "source": [
    "dir_path = \"/neurospin/dico/agaudin/Runs/03_monkeys/Output/analysis_folders/main_models/humans\"\n",
    "\n",
    "trainings = [\"/HCP_4_4\", \"/HCP_30_30\", \"/ACC4\", \"/ACC30\"]\n",
    "embeddings_types = ['/pca_embeddings', '/SimCLR_embeddings']\n",
    "data_partitions = ['/train', '/test']"
   ]
  },
  {
   "cell_type": "code",
   "execution_count": 18,
   "metadata": {},
   "outputs": [
    {
     "name": "stdout",
     "output_type": "stream",
     "text": [
      "/HCP_4_4 /pca_embeddings /train\n",
      "mean 0.653668679036278\n",
      "std 0.07300317506121679\n",
      "Ttest_indResult(statistic=31.00519363598409, pvalue=5.6788644387062767e-157)\n",
      "\n",
      "/HCP_4_4 /pca_embeddings /test\n",
      "mean 0.5743827586206897\n",
      "std 0.07274821865502407\n",
      "Ttest_indResult(statistic=14.250519680780405, pvalue=8.34925717850254e-43)\n",
      "\n",
      "/HCP_4_4 /SimCLR_embeddings /train\n",
      "mean 0.5285736914982\n",
      "std 0.035297930407950456\n",
      "Ttest_indResult(statistic=11.115452238931935, pvalue=1.9506123971432844e-27)\n",
      "\n",
      "/HCP_4_4 /SimCLR_embeddings /test\n",
      "mean 0.551306896551724\n",
      "std 0.0727734180899826\n",
      "Ttest_indResult(statistic=10.492351140637373, pvalue=9.684614846648379e-25)\n",
      "\n",
      "/HCP_30_30 /pca_embeddings /train\n",
      "mean 0.6667188036554972\n",
      "std 0.07153781917569792\n",
      "Ttest_indResult(statistic=32.2239638459999, pvalue=2.8415860680523503e-166)\n",
      "\n",
      "/HCP_30_30 /pca_embeddings /test\n",
      "mean 0.5509068965517242\n",
      "std 0.06628363736729989\n",
      "Ttest_indResult(statistic=10.73364828845131, pvalue=9.059242707521465e-26)\n",
      "\n",
      "/HCP_30_30 /SimCLR_embeddings /train\n",
      "mean 0.5266928828579341\n",
      "std 0.04284707040968441\n",
      "Ttest_indResult(statistic=8.916048901690377, pvalue=1.6787373173121077e-18)\n",
      "\n",
      "/HCP_30_30 /SimCLR_embeddings /test\n",
      "mean 0.5144068965517241\n",
      "std 0.04667732939733231\n",
      "Ttest_indResult(statistic=4.323433796410071, pvalue=1.6584786601646665e-05)\n",
      "\n",
      "/ACC4 /pca_embeddings /train\n",
      "mean 0.6833707006369427\n",
      "std 0.0962223313349764\n",
      "Ttest_indResult(statistic=26.481621622044266, pvalue=5.395381064228064e-123)\n",
      "\n",
      "/ACC4 /pca_embeddings /test\n",
      "mean 0.6413879310344828\n",
      "std 0.0887579144366779\n",
      "Ttest_indResult(statistic=22.306224656937005, pvalue=4.952558600116472e-93)\n",
      "\n",
      "/ACC4 /SimCLR_embeddings /train\n",
      "mean 0.49946729437828863\n",
      "std 0.06104709241792841\n",
      "Ttest_indResult(statistic=0.41227387994968157, pvalue=0.6802094969162303)\n",
      "\n",
      "/ACC4 /SimCLR_embeddings /test\n",
      "mean 0.49893793103448286\n",
      "std 0.029451815986840456\n",
      "Ttest_indResult(statistic=-0.8354302599765382, pvalue=0.4036354048082198)\n",
      "\n",
      "/ACC30 /pca_embeddings /train\n",
      "mean 0.764938022708391\n",
      "std 0.06952291513553821\n",
      "Ttest_indResult(statistic=53.911981971003705, pvalue=0.0)\n",
      "\n",
      "/ACC30 /pca_embeddings /test\n",
      "mean 0.6472655172413793\n",
      "std 0.06081495695384857\n",
      "Ttest_indResult(statistic=34.43519855701902, pvalue=3.217771582158842e-183)\n",
      "\n",
      "/ACC30 /SimCLR_embeddings /train\n",
      "mean 0.5921541955137082\n",
      "std 0.024243724307103774\n",
      "Ttest_indResult(statistic=51.844519351667664, pvalue=1.47899310205e-313)\n",
      "\n",
      "/ACC30 /SimCLR_embeddings /test\n",
      "mean 0.5773603448275862\n",
      "std 0.06581841144224027\n",
      "Ttest_indResult(statistic=16.21288929387601, pvalue=8.595024415167588e-54)\n",
      "\n"
     ]
    }
   ],
   "source": [
    "for training in trainings:\n",
    "    for embeddings_type in embeddings_types:\n",
    "        for data_partition in data_partitions:\n",
    "            \n",
    "            print(training, embeddings_type, data_partition)\n",
    "\n",
    "            predictions_path = dir_path + training + embeddings_type + data_partition\n",
    "            preds = pd.read_csv(predictions_path+\"_predicted_labels.csv\", index_col=0)\n",
    "            \n",
    "            labels_true = preds.label\n",
    "\n",
    "            aucs = []\n",
    "\n",
    "            for i in range(250):\n",
    "                labels_pred = preds[\"predicted_\"+str(i)]\n",
    "                aucs.append(roc_auc_score(labels_true, labels_pred))\n",
    "\n",
    "            print(\"mean\", np.mean(aucs))\n",
    "            std = np.std(aucs)\n",
    "            print(\"std\", std)\n",
    "\n",
    "            random = np.random.normal(loc=0.5, scale=std, size=1000)\n",
    "\n",
    "            print(ttest_ind(aucs, random))\n",
    "            print()\n",
    "                        "
   ]
  },
  {
   "cell_type": "markdown",
   "metadata": {},
   "source": [
    "## PC analysis"
   ]
  },
  {
   "cell_type": "code",
   "execution_count": 7,
   "metadata": {},
   "outputs": [],
   "source": [
    "pca_Xfit = \"/neurospin/dico/data/deep_folding/current/datasets/hcp/crops/2mm/CINGULATE/mask/Rskeleton.npy\"\n",
    "pca_Xtransform = \"/neurospin/dico/data/deep_folding/current/datasets/ACCpatterns/crops/2mm/CINGULATE/mask/Rskeleton.npy\""
   ]
  },
  {
   "cell_type": "code",
   "execution_count": 15,
   "metadata": {},
   "outputs": [],
   "source": [
    "def get_pca(n_pca):\n",
    "    ## copy of evaluation/pca_embeddings.py\n",
    "\n",
    "    # train the pca\n",
    "    X_fit = np.load(pca_Xfit)\n",
    "    print(\"X_fit shape\", X_fit.shape)\n",
    "\n",
    "    # flatten X but the first dimension (ie the number of subjects)\n",
    "    X_flatten = X_fit.reshape(X_fit.shape[0], np.prod(X_fit.shape[1:]))\n",
    "\n",
    "    pca = PCA(n_components=n_pca)\n",
    "    pca.fit(X_flatten)\n",
    "\n",
    "    ## generate embeddings with the trained pca\n",
    "    X_transform = np.load(pca_Xtransform)\n",
    "    print(\"X_transform shape\", X_transform.shape)\n",
    "    X_transform = X_transform.reshape(X_transform.shape[0], np.prod(X_transform.shape[1:]))\n",
    "    subjects_names = pd.read_csv(pca_Xtransform[:-4]+\"_subject.csv\")\n",
    "\n",
    "    X_transform = pca.transform(X_transform)\n",
    "    X_transform = pd.DataFrame(X_transform, \n",
    "    columns=['dim'+str(i+1) for i in range(n_pca)]) # convert to df\n",
    "\n",
    "    # add labels\n",
    "    X_transform = pd.concat([subjects_names, X_transform], axis=1)\n",
    "\n",
    "    return pca, X_transform"
   ]
  },
  {
   "cell_type": "code",
   "execution_count": 25,
   "metadata": {},
   "outputs": [
    {
     "name": "stdout",
     "output_type": "stream",
     "text": [
      "X_fit shape (1114, 17, 40, 38, 1)\n",
      "X_transform shape (341, 17, 40, 38, 1)\n",
      "X_fit shape (1114, 17, 40, 38, 1)\n",
      "X_transform shape (341, 17, 40, 38, 1)\n",
      "X_fit shape (1114, 17, 40, 38, 1)\n",
      "X_transform shape (341, 17, 40, 38, 1)\n",
      "X_fit shape (1114, 17, 40, 38, 1)\n",
      "X_transform shape (341, 17, 40, 38, 1)\n",
      "X_fit shape (1114, 17, 40, 38, 1)\n",
      "X_transform shape (341, 17, 40, 38, 1)\n"
     ]
    }
   ],
   "source": [
    "pca1000, _ = get_pca(1000)\n",
    "pca300, _ = get_pca(300)\n",
    "pca100, _ = get_pca(100)\n",
    "pca30, _ = get_pca(30)\n",
    "pca4, _ = get_pca(4)"
   ]
  },
  {
   "cell_type": "code",
   "execution_count": 31,
   "metadata": {},
   "outputs": [],
   "source": [
    "def plot_evr(pca):\n",
    "    evr = pca.explained_variance_ratio_\n",
    "    plt.plot(np.cumsum(evr))\n",
    "    plt.ylim((0,1))\n",
    "    plt.title('Explained variance ratio')"
   ]
  },
  {
   "cell_type": "code",
   "execution_count": 32,
   "metadata": {},
   "outputs": [
    {
     "data": {
      "image/png": "[encoded data removed]",
      "text/plain": [
       "<Figure size 640x480 with 1 Axes>"
      ]
     },
     "metadata": {},
     "output_type": "display_data"
    }
   ],
   "source": [
    "plot_evr(pca1000)\n",
    "plot_evr(pca300)\n",
    "plot_evr(pca100)\n",
    "plot_evr(pca30)\n",
    "plot_evr(pca4)"
   ]
  }
 ],
 "metadata": {
  "kernelspec": {
   "display_name": "Python 3.6.9 ('venv_local': venv)",
   "language": "python",
   "name": "python3"
  },
  "language_info": {
   "codemirror_mode": {
    "name": "ipython",
    "version": 3
   },
   "file_extension": ".py",
   "mimetype": "text/x-python",
   "name": "python",
   "nbconvert_exporter": "python",
   "pygments_lexer": "ipython3",
   "version": "3.6.9"
  },
  "orig_nbformat": 4,
  "vscode": {
   "interpreter": {
    "hash": "29d17951836d0959caaf0c9cd10ee54c4ed7100b51f8cf6fe8a170600c2ce0e9"
   }
  }
 },
 "nbformat": 4,
 "nbformat_minor": 2
}
