{
 "cells": [
  {
   "cell_type": "markdown",
   "metadata": {},
   "source": [
    "Notebook to change the keys in partial_config.yaml in all subfolders. It avoids having to rerun the training just to change the keys."
   ]
  },
  {
   "cell_type": "markdown",
   "metadata": {},
   "source": [
    "## Change key in partial config"
   ]
  },
  {
   "cell_type": "code",
   "execution_count": 2,
   "metadata": {},
   "outputs": [
    {
     "name": "stdout",
     "output_type": "stream",
     "text": [
      "Treating /neurospin/dico/data/deep_folding/papers/ipmi2023/models/contrastive/trained_on_HCP_half_2/all/no_foldlabel/convnet-10/17-16-12_1\n",
      "/neurospin/dico/data/deep_folding/papers/ipmi2023/models/contrastive/trained_on_HCP_half_2/all/no_foldlabel/convnet-10/17-16-12_1\n",
      "Treating /neurospin/dico/data/deep_folding/papers/ipmi2023/models/contrastive/trained_on_HCP_half_2/all/no_foldlabel/convnet-10/17-16-12_4\n",
      "/neurospin/dico/data/deep_folding/papers/ipmi2023/models/contrastive/trained_on_HCP_half_2/all/no_foldlabel/convnet-10/17-16-12_4\n",
      "Treating /neurospin/dico/data/deep_folding/papers/ipmi2023/models/contrastive/trained_on_HCP_half_2/all/no_foldlabel/convnet-10/17-16-12_2\n",
      "/neurospin/dico/data/deep_folding/papers/ipmi2023/models/contrastive/trained_on_HCP_half_2/all/no_foldlabel/convnet-10/17-16-12_2\n",
      "Treating /neurospin/dico/data/deep_folding/papers/ipmi2023/models/contrastive/trained_on_HCP_half_2/all/no_foldlabel/convnet-10/17-16-12_0\n",
      "/neurospin/dico/data/deep_folding/papers/ipmi2023/models/contrastive/trained_on_HCP_half_2/all/no_foldlabel/convnet-10/17-16-12_0\n",
      "Treating /neurospin/dico/data/deep_folding/papers/ipmi2023/models/contrastive/trained_on_HCP_half_2/all/no_foldlabel/convnet-10/17-16-12_3\n",
      "/neurospin/dico/data/deep_folding/papers/ipmi2023/models/contrastive/trained_on_HCP_half_2/all/no_foldlabel/convnet-10/17-16-12_3\n",
      "Treating /neurospin/dico/data/deep_folding/papers/ipmi2023/models/contrastive/trained_on_HCP_half_2/all/no_foldlabel/densenet-4/23-01-59_3\n",
      "/neurospin/dico/data/deep_folding/papers/ipmi2023/models/contrastive/trained_on_HCP_half_2/all/no_foldlabel/densenet-4/23-01-59_3\n",
      "Treating /neurospin/dico/data/deep_folding/papers/ipmi2023/models/contrastive/trained_on_HCP_half_2/all/no_foldlabel/densenet-4/23-01-59_1\n",
      "/neurospin/dico/data/deep_folding/papers/ipmi2023/models/contrastive/trained_on_HCP_half_2/all/no_foldlabel/densenet-4/23-01-59_1\n",
      "Treating /neurospin/dico/data/deep_folding/papers/ipmi2023/models/contrastive/trained_on_HCP_half_2/all/no_foldlabel/densenet-4/23-01-59_4\n",
      "/neurospin/dico/data/deep_folding/papers/ipmi2023/models/contrastive/trained_on_HCP_half_2/all/no_foldlabel/densenet-4/23-01-59_4\n",
      "Treating /neurospin/dico/data/deep_folding/papers/ipmi2023/models/contrastive/trained_on_HCP_half_2/all/no_foldlabel/densenet-4/23-01-59_0\n",
      "/neurospin/dico/data/deep_folding/papers/ipmi2023/models/contrastive/trained_on_HCP_half_2/all/no_foldlabel/densenet-4/23-01-59_0\n",
      "Treating /neurospin/dico/data/deep_folding/papers/ipmi2023/models/contrastive/trained_on_HCP_half_2/all/no_foldlabel/densenet-4/23-01-59_2\n",
      "/neurospin/dico/data/deep_folding/papers/ipmi2023/models/contrastive/trained_on_HCP_half_2/all/no_foldlabel/densenet-4/23-01-59_2\n",
      "Treating /neurospin/dico/data/deep_folding/papers/ipmi2023/models/contrastive/trained_on_HCP_half_2/all/no_foldlabel/pointnet-10/09-25-49_3\n",
      "/neurospin/dico/data/deep_folding/papers/ipmi2023/models/contrastive/trained_on_HCP_half_2/all/no_foldlabel/pointnet-10/09-25-49_3\n",
      "Treating /neurospin/dico/data/deep_folding/papers/ipmi2023/models/contrastive/trained_on_HCP_half_2/all/no_foldlabel/pointnet-10/09-25-49_2\n",
      "/neurospin/dico/data/deep_folding/papers/ipmi2023/models/contrastive/trained_on_HCP_half_2/all/no_foldlabel/pointnet-10/09-25-49_2\n",
      "Treating /neurospin/dico/data/deep_folding/papers/ipmi2023/models/contrastive/trained_on_HCP_half_2/all/no_foldlabel/convnet-30/18-54-27_0\n",
      "/neurospin/dico/data/deep_folding/papers/ipmi2023/models/contrastive/trained_on_HCP_half_2/all/no_foldlabel/convnet-30/18-54-27_0\n",
      "Treating /neurospin/dico/data/deep_folding/papers/ipmi2023/models/contrastive/trained_on_HCP_half_2/all/no_foldlabel/convnet-30/18-54-27_1\n",
      "/neurospin/dico/data/deep_folding/papers/ipmi2023/models/contrastive/trained_on_HCP_half_2/all/no_foldlabel/convnet-30/18-54-27_1\n",
      "Treating /neurospin/dico/data/deep_folding/papers/ipmi2023/models/contrastive/trained_on_HCP_half_2/all/no_foldlabel/convnet-30/18-54-27_3\n",
      "/neurospin/dico/data/deep_folding/papers/ipmi2023/models/contrastive/trained_on_HCP_half_2/all/no_foldlabel/convnet-30/18-54-27_3\n",
      "Treating /neurospin/dico/data/deep_folding/papers/ipmi2023/models/contrastive/trained_on_HCP_half_2/all/no_foldlabel/convnet-30/18-54-27_4\n",
      "/neurospin/dico/data/deep_folding/papers/ipmi2023/models/contrastive/trained_on_HCP_half_2/all/no_foldlabel/convnet-30/18-54-27_4\n",
      "Treating /neurospin/dico/data/deep_folding/papers/ipmi2023/models/contrastive/trained_on_HCP_half_2/all/no_foldlabel/convnet-30/18-54-27_2\n",
      "/neurospin/dico/data/deep_folding/papers/ipmi2023/models/contrastive/trained_on_HCP_half_2/all/no_foldlabel/convnet-30/18-54-27_2\n",
      "Treating /neurospin/dico/data/deep_folding/papers/ipmi2023/models/contrastive/trained_on_HCP_half_2/all/no_foldlabel/pointnet-4/07-46-17_0\n",
      "/neurospin/dico/data/deep_folding/papers/ipmi2023/models/contrastive/trained_on_HCP_half_2/all/no_foldlabel/pointnet-4/07-46-17_0\n",
      "Treating /neurospin/dico/data/deep_folding/papers/ipmi2023/models/contrastive/trained_on_HCP_half_2/all/no_foldlabel/densenet-30/02-21-55_0\n",
      "/neurospin/dico/data/deep_folding/papers/ipmi2023/models/contrastive/trained_on_HCP_half_2/all/no_foldlabel/densenet-30/02-21-55_0\n",
      "Treating /neurospin/dico/data/deep_folding/papers/ipmi2023/models/contrastive/trained_on_HCP_half_2/all/no_foldlabel/densenet-30/00-35-08_4\n",
      "/neurospin/dico/data/deep_folding/papers/ipmi2023/models/contrastive/trained_on_HCP_half_2/all/no_foldlabel/densenet-30/00-35-08_4\n",
      "Treating /neurospin/dico/data/deep_folding/papers/ipmi2023/models/contrastive/trained_on_HCP_half_2/all/no_foldlabel/densenet-30/02-21-55_1\n",
      "/neurospin/dico/data/deep_folding/papers/ipmi2023/models/contrastive/trained_on_HCP_half_2/all/no_foldlabel/densenet-30/02-21-55_1\n",
      "Treating /neurospin/dico/data/deep_folding/papers/ipmi2023/models/contrastive/trained_on_HCP_half_2/all/no_foldlabel/densenet-30/00-35-08_2\n",
      "/neurospin/dico/data/deep_folding/papers/ipmi2023/models/contrastive/trained_on_HCP_half_2/all/no_foldlabel/densenet-30/00-35-08_2\n",
      "Treating /neurospin/dico/data/deep_folding/papers/ipmi2023/models/contrastive/trained_on_HCP_half_2/all/no_foldlabel/densenet-30/02-21-55_4\n",
      "/neurospin/dico/data/deep_folding/papers/ipmi2023/models/contrastive/trained_on_HCP_half_2/all/no_foldlabel/densenet-30/02-21-55_4\n",
      "Treating /neurospin/dico/data/deep_folding/papers/ipmi2023/models/contrastive/trained_on_HCP_half_2/all/no_foldlabel/densenet-30/02-21-55_2\n",
      "/neurospin/dico/data/deep_folding/papers/ipmi2023/models/contrastive/trained_on_HCP_half_2/all/no_foldlabel/densenet-30/02-21-55_2\n",
      "Treating /neurospin/dico/data/deep_folding/papers/ipmi2023/models/contrastive/trained_on_HCP_half_2/all/no_foldlabel/densenet-30/00-35-08_3\n",
      "/neurospin/dico/data/deep_folding/papers/ipmi2023/models/contrastive/trained_on_HCP_half_2/all/no_foldlabel/densenet-30/00-35-08_3\n",
      "Treating /neurospin/dico/data/deep_folding/papers/ipmi2023/models/contrastive/trained_on_HCP_half_2/all/no_foldlabel/densenet-30/00-35-08_0\n",
      "/neurospin/dico/data/deep_folding/papers/ipmi2023/models/contrastive/trained_on_HCP_half_2/all/no_foldlabel/densenet-30/00-35-08_0\n",
      "Treating /neurospin/dico/data/deep_folding/papers/ipmi2023/models/contrastive/trained_on_HCP_half_2/all/no_foldlabel/densenet-30/02-21-55_3\n",
      "/neurospin/dico/data/deep_folding/papers/ipmi2023/models/contrastive/trained_on_HCP_half_2/all/no_foldlabel/densenet-30/02-21-55_3\n",
      "Treating /neurospin/dico/data/deep_folding/papers/ipmi2023/models/contrastive/trained_on_HCP_half_2/all/no_foldlabel/densenet-30/00-35-08_1\n",
      "/neurospin/dico/data/deep_folding/papers/ipmi2023/models/contrastive/trained_on_HCP_half_2/all/no_foldlabel/densenet-30/00-35-08_1\n",
      "Treating /neurospin/dico/data/deep_folding/papers/ipmi2023/models/contrastive/trained_on_HCP_half_2/all/no_foldlabel/convnet-4/15-52-37_0\n",
      "/neurospin/dico/data/deep_folding/papers/ipmi2023/models/contrastive/trained_on_HCP_half_2/all/no_foldlabel/convnet-4/15-52-37_0\n",
      "Treating /neurospin/dico/data/deep_folding/papers/ipmi2023/models/contrastive/trained_on_HCP_half_2/all/no_foldlabel/convnet-4/15-52-37_4\n",
      "/neurospin/dico/data/deep_folding/papers/ipmi2023/models/contrastive/trained_on_HCP_half_2/all/no_foldlabel/convnet-4/15-52-37_4\n",
      "Treating /neurospin/dico/data/deep_folding/papers/ipmi2023/models/contrastive/trained_on_HCP_half_2/all/no_foldlabel/convnet-4/15-52-37_2\n",
      "/neurospin/dico/data/deep_folding/papers/ipmi2023/models/contrastive/trained_on_HCP_half_2/all/no_foldlabel/convnet-4/15-52-37_2\n",
      "Treating /neurospin/dico/data/deep_folding/papers/ipmi2023/models/contrastive/trained_on_HCP_half_2/all/no_foldlabel/convnet-4/15-52-37_1\n",
      "/neurospin/dico/data/deep_folding/papers/ipmi2023/models/contrastive/trained_on_HCP_half_2/all/no_foldlabel/convnet-4/15-52-37_1\n",
      "Treating /neurospin/dico/data/deep_folding/papers/ipmi2023/models/contrastive/trained_on_HCP_half_2/all/no_foldlabel/convnet-4/15-52-37_3\n",
      "/neurospin/dico/data/deep_folding/papers/ipmi2023/models/contrastive/trained_on_HCP_half_2/all/no_foldlabel/convnet-4/15-52-37_3\n"
     ]
    }
   ],
   "source": [
    "from contrastive.utils.config import create_accessible_config\n",
    "\n",
    "\n",
    "keys_to_keep = ['dataset_name', 'nb_subjects', 'model', 'with_labels', 'numpy_all',\n",
    "    'input_size', 'temperature_initial', 'temperature', 'sigma', 'drop_rate', 'depth_decoder',\n",
    "    'mode', 'foldlabel', 'fill_value', 'patch_size', 'max_angle', 'checkerboard_size', 'keep_bottom',\n",
    "    'growth_rate', 'block_config', 'num_init_features', 'num_representation_features', 'num_outputs',\n",
    "    'environment', 'batch_size', 'pin_mem', 'partition', 'lr', 'weight_decay', 'max_epochs',\n",
    "    'early_stopping_patience', 'seed', 'backbone_name', 'n_max']\n",
    "\n",
    "\n",
    "main_path = \"/neurospin/dico/data/deep_folding/papers/ipmi2023/models/contrastive/trained_on_HCP_half_2/all/no_foldlabel\"\n",
    "dir_paths = os.listdir(main_path)\n",
    "\n",
    "for dir_path in dir_paths:\n",
    "    dir_path = main_path +'/'+ dir_path\n",
    "    for name in os.listdir(dir_path):\n",
    "        sub_dir = dir_path + '/' + name\n",
    "        # checks if directory\n",
    "        if os.path.isdir(sub_dir):\n",
    "            # check if directory associated to a model\n",
    "            if os.path.exists(sub_dir+'/.hydra/config.yaml'):\n",
    "                print(\"Treating\", sub_dir)\n",
    "                create_accessible_config(keys_to_keep, sub_dir+\"/.hydra/config.yaml\")"
   ]
  },
  {
   "cell_type": "code",
   "execution_count": null,
   "metadata": {},
   "outputs": [],
   "source": []
  }
 ],
 "metadata": {
  "kernelspec": {
   "display_name": "Python 3.6.9 ('venv_local': venv)",
   "language": "python",
   "name": "python3"
  },
  "language_info": {
   "codemirror_mode": {
    "name": "ipython",
    "version": 3
   },
   "file_extension": ".py",
   "mimetype": "text/x-python",
   "name": "python",
   "nbconvert_exporter": "python",
   "pygments_lexer": "ipython3",
   "version": "3.6.9"
  },
  "orig_nbformat": 4,
  "vscode": {
   "interpreter": {
    "hash": "b3f951fa4227f6aee2764c66da50d1aa01efee6b5e95e7b587fda0e6104695b3"
   }
  }
 },
 "nbformat": 4,
 "nbformat_minor": 2
}
