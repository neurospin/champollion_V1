{
 "cells": [
  {
   "cell_type": "markdown",
   "id": "8aae5e7d",
   "metadata": {},
   "source": [
    "# Using and analyzing foldlabel files"
   ]
  },
  {
   "cell_type": "markdown",
   "id": "79e52373",
   "metadata": {},
   "source": [
    "# Imports and definitions"
   ]
  },
  {
   "cell_type": "code",
   "execution_count": 35,
   "id": "c683f713",
   "metadata": {
    "collapsed": true
   },
   "outputs": [],
   "source": [
    "import numpy as np\n",
    "from soma import aims"
   ]
  },
  {
   "cell_type": "code",
   "execution_count": 36,
   "id": "693d72f3",
   "metadata": {
    "collapsed": true
   },
   "outputs": [
    {
     "name": "stdout",
     "output_type": "stream",
     "text": [
      "{'xvfb': <subprocess.Popen object at 0x7f35a8bbb048>, 'original_display': ':1', 'display': 3, 'glx': 2, 'virtualgl': None, 'headless': True, 'mesa': False, 'qtapp': None}\n"
     ]
    }
   ],
   "source": [
    "import anatomist.notebook as ana\n",
    "a = ana.Anatomist()\n",
    "print(a.headless_info.__dict__)"
   ]
  },
  {
   "cell_type": "code",
   "execution_count": 37,
   "id": "e0621ac4",
   "metadata": {
    "collapsed": true
   },
   "outputs": [],
   "source": [
    "src_dir=\"/neurospin/dico/data/deep_folding/current/datasets/hcp/crops/2mm/CINGULATE/mask/Rlabels\""
   ]
  },
  {
   "cell_type": "code",
   "execution_count": 38,
   "id": "ae2925e1",
   "metadata": {
    "collapsed": true
   },
   "outputs": [],
   "source": [
    "skel_dir=\"/neurospin/dico/data/deep_folding/current/datasets/hcp/crops/2mm/CINGULATE/mask/Rcrops\""
   ]
  },
  {
   "cell_type": "code",
   "execution_count": 39,
   "id": "a686ffca",
   "metadata": {
    "collapsed": true
   },
   "outputs": [],
   "source": [
    "subject=\"100206\""
   ]
  },
  {
   "cell_type": "code",
   "execution_count": 40,
   "id": "8ec79376",
   "metadata": {
    "collapsed": true
   },
   "outputs": [],
   "source": [
    "# Defines the function to plot the volume in anatomist\n",
    "def plot_sagittal(vol):\n",
    "    global a\n",
    "    print(vol.header())\n",
    "    a_vol = a.toAObject(vol)\n",
    "    sagittal = a.createWindow('Sagittal')\n",
    "    sagittal.addObjects(a_vol)\n",
    "    return sagittal"
   ]
  },
  {
   "cell_type": "code",
   "execution_count": 41,
   "id": "42990ff4",
   "metadata": {
    "collapsed": true
   },
   "outputs": [],
   "source": [
    "foldlabel_file = f\"{src_dir}/{subject}_cropped_foldlabel.nii.gz\""
   ]
  },
  {
   "cell_type": "code",
   "execution_count": 42,
   "id": "6d6eef87",
   "metadata": {
    "collapsed": true
   },
   "outputs": [],
   "source": [
    "skeleton_file = f\"{skel_dir}/{subject}_cropped_skeleton.nii.gz\""
   ]
  },
  {
   "cell_type": "markdown",
   "id": "e0f2abbc",
   "metadata": {},
   "source": [
    "# Checks and plots"
   ]
  },
  {
   "cell_type": "code",
   "execution_count": 43,
   "id": "ecd5c9cc",
   "metadata": {
    "collapsed": true
   },
   "outputs": [],
   "source": [
    "vol = aims.read(foldlabel_file)"
   ]
  },
  {
   "cell_type": "code",
   "execution_count": 44,
   "id": "970d786f",
   "metadata": {
    "collapsed": true
   },
   "outputs": [],
   "source": [
    "vol_skel = aims.read(skeleton_file)"
   ]
  },
  {
   "cell_type": "code",
   "execution_count": 45,
   "id": "a02c832f",
   "metadata": {
    "collapsed": true
   },
   "outputs": [
    {
     "name": "stdout",
     "output_type": "stream",
     "text": [
      "{ 'volume_dimension' : [ 17, 33, 36, 1 ], 'sizeX' : 17, 'sizeY' : 33, 'sizeZ' : 36, 'sizeT' : 1, 'disk_data_type' : 'S16', 'bits_allocated' : 16, 'data_type' : 'S16', 'scale_factor_applied' : 0, 'possible_data_types' : [ 'S16', 'FLOAT', 'DOUBLE' ], 'cal_min' : 0, 'cal_max' : 0, 'freq_dim' : 0, 'phase_dim' : 0, 'slice_dim' : 0, 'slice_code' : 0, 'slice_start' : 0, 'slice_end' : 0, 'slice_duration' : 0, 'storage_to_memory' : [ -1, 0, 0, 16, 0, -1, 0, 32, 0, 0, -1, 35, 0, 0, 0, 1 ], 'voxel_size' : [ 2, 2, 2 ], 'tr' : 1, 'referentials' : [ 'Scanner-based anatomical coordinates' ], 'transformations' : [ [ -1, 0, 0, 17, 0, -1, 0, 31, 0, 0, -1, 34, 0, 0, 0, 1 ] ], 'toffset' : 0, 'xyz_units' : 0, 'time_units' : 0, 'descrip' : '', 'aux_file' : '', 'nifti_type' : 1, 'object_type' : 'Volume', 'file_type' : 'NIFTI-1' }\n"
     ]
    },
    {
     "data": {
      "application/vnd.jupyter.widget-view+json": {
       "model_id": "8cdb1ff5821f48bdaa5f7d1cb0d8c0a9",
       "version_major": 2,
       "version_minor": 0
      },
      "text/plain": [
       "AnatomistInteractiveWidget(height=308, layout=Layout(height='auto', width='auto'), width=424)"
      ]
     },
     "metadata": {},
     "output_type": "display_data"
    }
   ],
   "source": [
    "win1 = plot_sagittal(vol)"
   ]
  },
  {
   "cell_type": "markdown",
   "id": "13f56642",
   "metadata": {},
   "source": [
    "# General computation"
   ]
  },
  {
   "cell_type": "code",
   "execution_count": 46,
   "id": "442631da",
   "metadata": {
    "collapsed": true
   },
   "outputs": [],
   "source": [
    "arr_foldlabel = np.asarray(vol)"
   ]
  },
  {
   "cell_type": "code",
   "execution_count": 47,
   "id": "195a8de1",
   "metadata": {
    "collapsed": true
   },
   "outputs": [],
   "source": [
    "arr_skel = np.asarray(vol_skel)"
   ]
  },
  {
   "cell_type": "code",
   "execution_count": 48,
   "id": "24c532b6",
   "metadata": {
    "collapsed": true
   },
   "outputs": [
    {
     "data": {
      "text/plain": [
       "(17, 33, 36, 1)"
      ]
     },
     "execution_count": 48,
     "metadata": {},
     "output_type": "execute_result"
    }
   ],
   "source": [
    "arr_foldlabel.shape"
   ]
  },
  {
   "cell_type": "code",
   "execution_count": 49,
   "id": "f2d39a44",
   "metadata": {
    "collapsed": true
   },
   "outputs": [
    {
     "name": "stdout",
     "output_type": "stream",
     "text": [
      "[   0 1005 1024 1048 1087 1098 1255 1259 1276 1311 1346 1360 1367 1375\n",
      " 1393 1405 1408 2005 2024 2034 2083 2087 2098 2255 2259 2276 2311 2346\n",
      " 2360 2367 2375 2393 2405 2408 3156 3165 3500 3606 3619 3949 3951 4002\n",
      " 4006 4011 4017 4019 4027 4040 4047 4048 4419 4842 4856]\n",
      "[19394    23     6     6     5    31     3   198     4     1    10     2\n",
      "     4    39     5    21    69     6     5     2     1     9    19     1\n",
      "    63     4     4     7     2     4    13     7    17    19     6     3\n",
      "     1     4    17     3     2    67     6     2    16     2    14    19\n",
      "    21     3     1     3     2]\n",
      "nb of branches = 53\n",
      "<class 'numpy.ndarray'>\n"
     ]
    }
   ],
   "source": [
    "branches, nb_per_branch = np.unique(arr_foldlabel, return_counts=True)\n",
    "print(branches)\n",
    "print(nb_per_branch)\n",
    "print(f\"nb of branches = {branches.shape[0]}\")\n",
    "print(type(nb_per_branch))"
   ]
  },
  {
   "cell_type": "code",
   "execution_count": 50,
   "id": "4e9d2823",
   "metadata": {
    "collapsed": true
   },
   "outputs": [
    {
     "data": {
      "text/plain": [
       "699"
      ]
     },
     "execution_count": 50,
     "metadata": {},
     "output_type": "execute_result"
    }
   ],
   "source": [
    "nb_per_branch[nb_per_branch>6].sum()-nb_per_branch[0]"
   ]
  },
  {
   "cell_type": "code",
   "execution_count": 51,
   "id": "0ee8bdf2",
   "metadata": {
    "collapsed": true
   },
   "outputs": [
    {
     "data": {
      "text/plain": [
       "(array([  0,  30,  60, 110], dtype=int16), array([19505,   192,   494,     5]))"
      ]
     },
     "execution_count": 51,
     "metadata": {},
     "output_type": "execute_result"
    }
   ],
   "source": [
    "np.unique(arr_skel, return_counts=True)"
   ]
  },
  {
   "cell_type": "code",
   "execution_count": 52,
   "id": "98602937",
   "metadata": {
    "collapsed": true
   },
   "outputs": [
    {
     "data": {
      "text/plain": [
       "(17, 33, 36, 1)"
      ]
     },
     "execution_count": 52,
     "metadata": {},
     "output_type": "execute_result"
    }
   ],
   "source": [
    "arr_skel.shape"
   ]
  },
  {
   "cell_type": "code",
   "execution_count": 53,
   "id": "11ec81d6",
   "metadata": {
    "collapsed": true
   },
   "outputs": [
    {
     "data": {
      "text/plain": [
       "802"
      ]
     },
     "execution_count": 53,
     "metadata": {},
     "output_type": "execute_result"
    }
   ],
   "source": [
    "# Counts non-zero values\n",
    "(arr_foldlabel != 0).sum()"
   ]
  },
  {
   "cell_type": "code",
   "execution_count": 54,
   "id": "c83f8783",
   "metadata": {
    "collapsed": true
   },
   "outputs": [
    {
     "data": {
      "text/plain": [
       "691"
      ]
     },
     "execution_count": 54,
     "metadata": {},
     "output_type": "execute_result"
    }
   ],
   "source": [
    "(arr_skel != 0).sum()"
   ]
  },
  {
   "cell_type": "code",
   "execution_count": 55,
   "id": "29e8e239",
   "metadata": {
    "collapsed": true
   },
   "outputs": [],
   "source": [
    "diff = arr_skel[arr == 0]"
   ]
  },
  {
   "cell_type": "code",
   "execution_count": 56,
   "id": "7f8dd192",
   "metadata": {
    "collapsed": true
   },
   "outputs": [
    {
     "data": {
      "text/plain": [
       "0"
      ]
     },
     "execution_count": 56,
     "metadata": {},
     "output_type": "execute_result"
    }
   ],
   "source": [
    "np.count_nonzero(diff)"
   ]
  },
  {
   "cell_type": "code",
   "execution_count": 57,
   "id": "a8600daa",
   "metadata": {
    "collapsed": true
   },
   "outputs": [
    {
     "data": {
      "text/plain": [
       "111"
      ]
     },
     "execution_count": 57,
     "metadata": {},
     "output_type": "execute_result"
    }
   ],
   "source": [
    "diff_inverse = arr_foldlabel[arr_skel == 0]\n",
    "np.count_nonzero(diff_inverse)"
   ]
  },
  {
   "cell_type": "code",
   "execution_count": 58,
   "id": "690b6ca9",
   "metadata": {
    "collapsed": true
   },
   "outputs": [
    {
     "data": {
      "text/plain": [
       "array([19394,    23,     6,     6,     5,    31,     3,   198,     4,\n",
       "           1,    10,     2,     4,    39,     5,    21,    69,     6,\n",
       "           5,     2,     1,     9,    19,     1,    63,     4,     4,\n",
       "           7,     2,     4,    13,     7,    17,    19,     6,     3,\n",
       "           1,     4,    17,     3,     2,    67,     6,     2,    16,\n",
       "           2,    14,    19,    21,     3,     1,     3,     2])"
      ]
     },
     "execution_count": 58,
     "metadata": {},
     "output_type": "execute_result"
    }
   ],
   "source": [
    "nb_per_branch"
   ]
  },
  {
   "cell_type": "markdown",
   "id": "82dba401",
   "metadata": {},
   "source": [
    "# Algorithm to remove branches"
   ]
  },
  {
   "cell_type": "code",
   "execution_count": 59,
   "id": "f383346e",
   "metadata": {
    "collapsed": true
   },
   "outputs": [
    {
     "data": {
      "text/plain": [
       "53"
      ]
     },
     "execution_count": 59,
     "metadata": {},
     "output_type": "execute_result"
    }
   ],
   "source": [
    "branches.size"
   ]
  },
  {
   "cell_type": "code",
   "execution_count": 60,
   "id": "594880a5",
   "metadata": {
    "collapsed": true
   },
   "outputs": [
    {
     "data": {
      "text/plain": [
       "50"
      ]
     },
     "execution_count": 60,
     "metadata": {},
     "output_type": "execute_result"
    }
   ],
   "source": [
    "np.random.randint(0,52)+1"
   ]
  },
  {
   "cell_type": "code",
   "execution_count": 61,
   "id": "d72d8e73",
   "metadata": {
    "collapsed": true
   },
   "outputs": [],
   "source": [
    "def select_one_random_branch(arr_foldlabel):\n",
    "    \"\"\"It selects randomly one of the branch\n",
    "    \n",
    "    The branch is characterized by a number.\n",
    "    This number is present on several pixels in the array\"\"\"\n",
    "\n",
    "    branches = np.unique(arr_foldlabel)\n",
    "    nb_branches = branches.size\n",
    "    # 0 is not a branch\n",
    "    selected_branch = np.random.randint(0,nb_branches-1)+1\n",
    "    return branches[selected_branch]"
   ]
  },
  {
   "cell_type": "code",
   "execution_count": 126,
   "id": "41658070",
   "metadata": {
    "collapsed": true
   },
   "outputs": [],
   "source": [
    "def remove_branch(arr_foldlabel, arr_skel, selected_branch):\n",
    "    \"\"\"It masks the selected branch in arr_skel\n",
    "    \"\"\"\n",
    "    # print((arr_foldlabel > 0).sum())\n",
    "    mask = ( (arr_foldlabel != 0) & (arr_foldlabel != selected_branch))  \n",
    "    mask = mask.astype(int)\n",
    "    # print(mask.sum())\n",
    "    return arr_skel * mask"
   ]
  },
  {
   "cell_type": "code",
   "execution_count": 63,
   "id": "6915a2f8",
   "metadata": {
    "collapsed": true
   },
   "outputs": [
    {
     "data": {
      "text/plain": [
       "1360"
      ]
     },
     "execution_count": 63,
     "metadata": {},
     "output_type": "execute_result"
    }
   ],
   "source": [
    "select_one_random_branch(arr_foldlabel)"
   ]
  },
  {
   "cell_type": "code",
   "execution_count": 105,
   "id": "a1cf00f7",
   "metadata": {
    "collapsed": true
   },
   "outputs": [],
   "source": [
    "selected_branch=1005\n",
    "arr_skel_without_branch = remove_branch(arr_foldlabel, arr_skel, selected_branch)"
   ]
  },
  {
   "cell_type": "code",
   "execution_count": 65,
   "id": "3f212e85",
   "metadata": {
    "collapsed": true
   },
   "outputs": [
    {
     "data": {
      "text/plain": [
       "23"
      ]
     },
     "execution_count": 65,
     "metadata": {},
     "output_type": "execute_result"
    }
   ],
   "source": [
    "# Expected 23\n",
    "np.count_nonzero(arr_skel)-np.count_nonzero(arr_skel_without_branch)"
   ]
  },
  {
   "cell_type": "code",
   "execution_count": 66,
   "id": "f5f2e1a5",
   "metadata": {
    "collapsed": true
   },
   "outputs": [
    {
     "name": "stdout",
     "output_type": "stream",
     "text": [
      "802\n",
      "801\n"
     ]
    },
    {
     "data": {
      "text/plain": [
       "1"
      ]
     },
     "execution_count": 66,
     "metadata": {},
     "output_type": "execute_result"
    }
   ],
   "source": [
    "selected_branch=1311\n",
    "arr_skel_without_branch = mask_branch(arr_foldlabel, arr_skel, selected_branch)\n",
    "# Expected 1\n",
    "np.count_nonzero(arr_skel)-np.count_nonzero(arr_skel_without_branch)"
   ]
  },
  {
   "cell_type": "markdown",
   "id": "3410eaac",
   "metadata": {},
   "source": [
    "We want to check which branches are not represented at all in skeleton.\n",
    "Indeed, there are 111 pixels in foldlabel that have a 0 value correspondence\n",
    "in skeleton"
   ]
  },
  {
   "cell_type": "code",
   "execution_count": 68,
   "id": "2d97ed25",
   "metadata": {
    "collapsed": true
   },
   "outputs": [
    {
     "name": "stdout",
     "output_type": "stream",
     "text": [
      "[   0 1005 1024 1048 1087 1098 1255 1259 1276 1311 1346 1360 1367 1375\n",
      " 1393 1405 1408 2005 2024 2034 2083 2087 2098 2255 2259 2276 2311 2346\n",
      " 2360 2367 2375 2393 2405 2408 3156 3165 3500 3606 3619 3949 3951 4002\n",
      " 4006 4011 4017 4019 4027 4040 4047 4048 4419 4842 4856]\n"
     ]
    }
   ],
   "source": [
    "branches = np.unique(arr_foldlabel)\n",
    "print(branches)"
   ]
  },
  {
   "cell_type": "code",
   "execution_count": 103,
   "id": "00051478",
   "metadata": {},
   "outputs": [
    {
     "data": {
      "text/plain": [
       "array([ 7, 43, 37, 22, 40, 15,  5,  9, 12, 34, 20, 48, 28,  1, 25, 21, 29,\n",
       "       27,  2, 10, 13,  4, 51, 26, 41, 30, 36,  3, 31, 50, 52, 38, 11, 39,\n",
       "       23,  6, 45, 18, 42, 35, 33,  8, 14, 16, 47, 32, 19, 24, 46, 17, 44,\n",
       "       49])"
      ]
     },
     "execution_count": 103,
     "metadata": {},
     "output_type": "execute_result"
    }
   ],
   "source": [
    "indexes = np.arange(branches.size-1)+1\n",
    "np.random.shuffle(indexes)\n",
    "indexes"
   ]
  },
  {
   "cell_type": "code",
   "execution_count": 97,
   "id": "19705942",
   "metadata": {},
   "outputs": [
    {
     "name": "stdout",
     "output_type": "stream",
     "text": [
      "[[[3951    2]]]\n",
      "[[[4011    2]]]\n",
      "[[[4019    2]]]\n",
      "[[[4419    1]]]\n"
     ]
    }
   ],
   "source": [
    "histo_foldlabel = np.unique(arr_foldlabel, return_counts=True)\n",
    "histo_foldlabel = np.stack((histo_foldlabel),axis=-1)\n",
    "for branch in branches:\n",
    "    if branch != 0:\n",
    "        arr_skel_without_branch = mask_branch(arr_foldlabel, arr_skel, branch)\n",
    "        diff = np.count_nonzero(arr_skel)-np.count_nonzero(arr_skel_without_branch)\n",
    "        if diff == 0:\n",
    "            index = np.argwhere(histo_foldlabel[:,0]==branch)\n",
    "            print(histo_foldlabel[index])"
   ]
  },
  {
   "cell_type": "markdown",
   "id": "f0237851",
   "metadata": {},
   "source": [
    "We note and conclude that very few branches have no correspondence with skeleton"
   ]
  },
  {
   "cell_type": "markdown",
   "id": "90e4404f",
   "metadata": {},
   "source": [
    "# Full program to remove branches up to the point for which a certain percentage of pixels have been removed"
   ]
  },
  {
   "cell_type": "code",
   "execution_count": 127,
   "id": "87145e7f",
   "metadata": {},
   "outputs": [],
   "source": [
    "def remove_branches_up_to_percent(arr_foldlabel, arr_skel, percentage):\n",
    "    \"\"\"Removes from arr_skel random branches up percentage of pixels\n",
    "    \"\"\"\n",
    "    branches = np.unique(arr_foldlabel)\n",
    "    # We take as index branches indexes that are not 0\n",
    "    indexes = np.arange(branches.size-1) + 1\n",
    "    # We take random branches\n",
    "    np.random.shuffle(indexes)\n",
    "    arr_skel_without_branches = arr_skel\n",
    "    total_pixels = (arr_skel !=0 ).sum()\n",
    "    total_pixels_after=total_pixels\n",
    "    for index in indexes:\n",
    "        if total_pixels_after <= total_pixels*(100-percentage)/100:\n",
    "            break\n",
    "        arr_skel_without_branches = \\\n",
    "            remove_branch(arr_foldlabel,\n",
    "                          arr_skel_without_branches,\n",
    "                          branches[index])\n",
    "        total_pixels_after = (arr_skel_without_branches != 0).sum()\n",
    "    print(f\"total_pixels_after = {total_pixels_after}\")\n",
    "    print(f\"% removed pixels = {(total_pixels-total_pixels_after)/total_pixels*100}\")\n",
    "    return arr_skel_without_branches"
   ]
  },
  {
   "cell_type": "code",
   "execution_count": 135,
   "id": "891fd87d",
   "metadata": {},
   "outputs": [
    {
     "name": "stdout",
     "output_type": "stream",
     "text": [
      "total_pixels_after = 581\n",
      "% removed pixels = 15.918958031837915\n"
     ]
    }
   ],
   "source": [
    "arr_skel_without_branches = remove_branches_up_to_percent(arr_foldlabel, arr_skel, 10)"
   ]
  },
  {
   "cell_type": "code",
   "execution_count": null,
   "id": "c077884b",
   "metadata": {},
   "outputs": [],
   "source": []
  }
 ],
 "metadata": {
  "interpreter": {
   "hash": "31f2aee4e71d21fbe5cf8b01ff0e069b9275f58929596ceb00d14d90e3e16cd6"
  },
  "kernelspec": {
   "display_name": "Python 3",
   "language": "python",
   "name": "python3"
  },
  "language_info": {
   "codemirror_mode": {
    "name": "ipython",
    "version": 3
   },
   "file_extension": ".py",
   "mimetype": "text/x-python",
   "name": "python",
   "nbconvert_exporter": "python",
   "pygments_lexer": "ipython3",
   "version": "3.6.9"
  }
 },
 "nbformat": 4,
 "nbformat_minor": 5
}
