{
 "cells": [
  {
   "cell_type": "code",
   "execution_count": 1,
   "metadata": {},
   "outputs": [],
   "source": [
    "import os\n",
    "\n",
    "import numpy as np\n",
    "import matplotlib.pyplot as plt\n",
    "import pandas as pd\n",
    "import numpy as np\n",
    "\n",
    "pd.options.display.max_rows = 20"
   ]
  },
  {
   "cell_type": "markdown",
   "metadata": {},
   "source": [
    "# HCP"
   ]
  },
  {
   "cell_type": "code",
   "execution_count": 5,
   "metadata": {},
   "outputs": [
    {
     "data": {
      "text/html": [
       "<div>\n",
       "<style scoped>\n",
       "    .dataframe tbody tr th:only-of-type {\n",
       "        vertical-align: middle;\n",
       "    }\n",
       "\n",
       "    .dataframe tbody tr th {\n",
       "        vertical-align: top;\n",
       "    }\n",
       "\n",
       "    .dataframe thead th {\n",
       "        text-align: right;\n",
       "    }\n",
       "</style>\n",
       "<table border=\"1\" class=\"dataframe\">\n",
       "  <thead>\n",
       "    <tr style=\"text-align: right;\">\n",
       "      <th></th>\n",
       "      <th>Subject</th>\n",
       "      <th>Flanker_AgeAdj</th>\n",
       "    </tr>\n",
       "  </thead>\n",
       "  <tbody>\n",
       "    <tr>\n",
       "      <th>0</th>\n",
       "      <td>100004</td>\n",
       "      <td>111.01</td>\n",
       "    </tr>\n",
       "    <tr>\n",
       "      <th>1</th>\n",
       "      <td>100206</td>\n",
       "      <td>116.55</td>\n",
       "    </tr>\n",
       "    <tr>\n",
       "      <th>2</th>\n",
       "      <td>100307</td>\n",
       "      <td>101.90</td>\n",
       "    </tr>\n",
       "    <tr>\n",
       "      <th>3</th>\n",
       "      <td>100408</td>\n",
       "      <td>113.51</td>\n",
       "    </tr>\n",
       "    <tr>\n",
       "      <th>4</th>\n",
       "      <td>100610</td>\n",
       "      <td>114.18</td>\n",
       "    </tr>\n",
       "  </tbody>\n",
       "</table>\n",
       "</div>"
      ],
      "text/plain": [
       "   Subject  Flanker_AgeAdj\n",
       "0   100004          111.01\n",
       "1   100206          116.55\n",
       "2   100307          101.90\n",
       "3   100408          113.51\n",
       "4   100610          114.18"
      ]
     },
     "execution_count": 5,
     "metadata": {},
     "output_type": "execute_result"
    }
   ],
   "source": [
    "participants_file = \"/neurospin/dico/data/bv_databases/human/not_labeled/hcp/participants.csv\"\n",
    "participants = pd.read_csv(participants_file)\n",
    "participants = participants[['Subject', \"Flanker_AgeAdj\"]]\n",
    "participants.head()\n"
   ]
  },
  {
   "cell_type": "code",
   "execution_count": 18,
   "metadata": {},
   "outputs": [
    {
     "name": "stdout",
     "output_type": "stream",
     "text": [
      "Subject,Release,Acquisition,Gender,Age,3T_Full_MR_Compl,T1_Count,T2_Count,3T_RS-fMRI_Count,3T_RS-fMRI_PctCompl,3T_Full_Task_fMRI,3T_tMRI_PctCompl,fMRI_WM_PctCompl,fMRI_Gamb_PctCompl,fMRI_Mot_PctCompl,fMRI_Lang_PctCompl,fMRI_Soc_PctCompl,fMRI_Rel_PctCompl,fMRI_Emo_PctCompl,3T_dMRI_Compl,3T_dMRI_PctCompl,dMRI_3T_ReconVrs,fMRI_3T_ReconVrs,7T_Full_MR_Compl,7T_RS-fMRI_Count,7T_RS-fMRI_PctCompl,7T_Full_Task_fMRI,7T_tMRI_PctCompl,fMRI_Movie_Compl,fMRI_Movie_PctCompl,fMRI_Ret_Compl,fMRI_Ret_PctCompl,7T_dMRI_Compl,7T_dMRI_PctCompl,7T_fMRI_Mov_Vrs,MEG_AnyData,MEG_FullProt_Compl,MEG_HeadModel_Avail,MEG_CortRibn_Avail,MEG_Anatomy_Avail,MEG_Anatomy_Compl,MEG_Noise_Avail,MEG_Noise_Compl,MEG_RS_Avail,MEG_RS_Compl,MEG_WM_Avail,MEG_WM_Compl,MEG_StoryMath_Avail,MEG_StoryMath_Compl,MEG_Motor_Avail,MEG_Motor_Compl,Non-TB_Compl,VisProc_Compl,DelDisc_Compl,SCPT_Compl,IWRD_Compl,PMAT_Compl,VSPLOT_Compl,EmoRecog_Compl,NEO-FFI_Compl,ASR-Syn_Compl,ASR-DSM_Compl,Toolbox_Compl,MMSE_Compl,PSQI_Compl,Alert_Compl,ASQ_Compl,FamPsychNeuro_Compl,SSAGA_Compl,SSAGA_Demo_Compl,SSAGA_Mental_Compl,SSAGA_Alc_Compl,SSAGA_Illicit_Compl,SSAGA_Tob_Compl,SSAGA_Mj_Compl,QC_Issue,MRsession_Scanner_3T,MRsession_Scans_3T,MRsession_Label_3T,MRsession_Scanner_7T,MRsession_Scans_7T,MRsession_Label_7T,MEGsession_Scanner,MEGsession_Scans,MEGsession_Label,Alpha_Peak,Beta_Peak,MMSE_Score,PSQI_Score,PSQI_Comp1,PSQI_Comp2,PSQI_Comp3,PSQI_Comp4,PSQI_Comp5,PSQI_Comp6,PSQI_Comp7,PSQI_BedTime,PSQI_Min2Asleep,PSQI_GetUpTime,PSQI_AmtSleep,PSQI_Latency30Min,PSQI_WakeUp,PSQI_Bathroom,PSQI_Breathe,PSQI_Snore,PSQI_TooCold,PSQI_TooHot,PSQI_BadDream,PSQI_Pain,PSQI_Other,PSQI_Quality,PSQI_SleepMeds,PSQI_DayStayAwake,PSQI_DayEnthusiasm,PSQI_BedPtnrRmate,PicSeq_Unadj,PicSeq_AgeAdj,CardSort_Unadj,CardSort_AgeAdj,Flanker_Unadj,Flanker_AgeAdj,PMAT24_A_CR,PMAT24_A_SI,PMAT24_A_RTCR,ReadEng_Unadj,ReadEng_AgeAdj,PicVocab_Unadj,PicVocab_AgeAdj,ProcSpeed_Unadj,ProcSpeed_AgeAdj,DDisc_SV_1mo_200,DDisc_SV_6mo_200,DDisc_SV_1yr_200,DDisc_SV_3yr_200,DDisc_SV_5yr_200,DDisc_SV_10yr_200,DDisc_SV_1mo_40K,DDisc_SV_6mo_40K,DDisc_SV_1yr_40K,DDisc_SV_3yr_40K,DDisc_SV_5yr_40K,DDisc_SV_10yr_40K,DDisc_AUC_200,DDisc_AUC_40K,VSPLOT_TC,VSPLOT_CRTE,VSPLOT_OFF,SCPT_TP,SCPT_TN,SCPT_FP,SCPT_FN,SCPT_TPRT,SCPT_SEN,SCPT_SPEC,SCPT_LRNR,IWRD_TOT,IWRD_RTC,ListSort_Unadj,ListSort_AgeAdj,CogFluidComp_Unadj,CogFluidComp_AgeAdj,CogEarlyComp_Unadj,CogEarlyComp_AgeAdj,CogTotalComp_Unadj,CogTotalComp_AgeAdj,CogCrystalComp_Unadj,CogCrystalComp_AgeAdj,ER40_CR,ER40_CRT,ER40ANG,ER40FEAR,ER40HAP,ER40NOE,ER40SAD,AngAffect_Unadj,AngHostil_Unadj,AngAggr_Unadj,FearAffect_Unadj,FearSomat_Unadj,Sadness_Unadj,LifeSatisf_Unadj,MeanPurp_Unadj,PosAffect_Unadj,Friendship_Unadj,Loneliness_Unadj,PercHostil_Unadj,PercReject_Unadj,EmotSupp_Unadj,InstruSupp_Unadj,PercStress_Unadj,SelfEff_Unadj,Emotion_Task_Acc,Emotion_Task_Median_RT,Emotion_Task_Face_Acc,Emotion_Task_Face_Median_RT,Emotion_Task_Shape_Acc,Emotion_Task_Shape_Median_RT,Gambling_Task_Perc_Larger,Gambling_Task_Perc_Smaller,Gambling_Task_Perc_NLR,Gambling_Task_Median_RT_Larger,Gambling_Task_Median_RT_Smaller,Gambling_Task_Reward_Perc_Larger,Gambling_Task_Reward_Median_RT_Larger,Gambling_Task_Reward_Perc_Smaller,Gambling_Task_Reward_Median_RT_Smaller,Gambling_Task_Reward_Perc_NLR,Gambling_Task_Punish_Perc_Larger,Gambling_Task_Punish_Median_RT_Larger,Gambling_Task_Punish_Perc_Smaller,Gambling_Task_Punish_Median_RT_Smaller,Gambling_Task_Punish_Perc_NLR,Language_Task_Acc,Language_Task_Median_RT,Language_Task_Story_Acc,Language_Task_Story_Median_RT,Language_Task_Story_Avg_Difficulty_Level,Language_Task_Math_Acc,Language_Task_Math_Median_RT,Language_Task_Math_Avg_Difficulty_Level,Relational_Task_Acc,Relational_Task_Median_RT,Relational_Task_Match_Acc,Relational_Task_Match_Median_RT,Relational_Task_Rel_Acc,Relational_Task_Rel_Median_RT,Social_Task_Perc_Random,Social_Task_Perc_TOM,Social_Task_Perc_Unsure,Social_Task_Perc_NLR,Social_Task_Median_RT_Random,Social_Task_Median_RT_TOM,Social_Task_Median_RT_Unsure,Social_Task_Random_Perc_Random,Social_Task_Random_Median_RT_Random,Social_Task_Random_Perc_TOM,Social_Task_Random_Median_RT_TOM,Social_Task_Random_Perc_Unsure,Social_Task_Random_Median_RT_Unsure,Social_Task_Random_Perc_NLR,Social_Task_TOM_Perc_Random,Social_Task_TOM_Median_RT_Random,Social_Task_TOM_Perc_TOM,Social_Task_TOM_Median_RT_TOM,Social_Task_TOM_Perc_Unsure,Social_Task_TOM_Median_RT_Unsure,Social_Task_TOM_Perc_NLR,WM_Task_Acc,WM_Task_Median_RT,WM_Task_2bk_Acc,WM_Task_2bk_Median_RT,WM_Task_0bk_Acc,WM_Task_0bk_Median_RT,WM_Task_0bk_Body_Acc,WM_Task_0bk_Body_Acc_Target,WM_Task_0bk_Body_Acc_Nontarget,WM_Task_0bk_Face_Acc,WM_Task_0bk_Face_Acc_Target,WM_Task_0bk_Face_ACC_Nontarget,WM_Task_0bk_Place_Acc,WM_Task_0bk_Place_Acc_Target,WM_Task_0bk_Place_Acc_Nontarget,WM_Task_0bk_Tool_Acc,WM_Task_0bk_Tool_Acc_Target,WM_Task_0bk_Tool_Acc_Nontarget,WM_Task_2bk_Body_Acc,WM_Task_2bk_Body_Acc_Target,WM_Task_2bk_Body_Acc_Nontarget,WM_Task_2bk_Face_Acc,WM_Task_2bk_Face_Acc_Target,WM_Task_2bk_Face_Acc_Nontarget,WM_Task_2bk_Place_Acc,WM_Task_2bk_Place_Acc_Target,WM_Task_2bk_Place_Acc_Nontarget,WM_Task_2bk_Tool_Acc,WM_Task_2bk_Tool_Acc_Target,WM_Task_2bk_Tool_Acc_Nontarget,WM_Task_0bk_Body_Median_RT,WM_Task_0bk_Body_Median_RT_Target,WM_Task_0bk_Body_Median_RT_Nontarget,WM_Task_0bk_Face_Median_RT,WM_Task_0bk_Face_Median_RT_Target,WM_Task_0bk_Face_Median_RT_Nontarget,WM_Task_0bk_Place_Median_RT,WM_Task_0bk_Place_Median_RT_Target,WM_Task_0bk_Place_Median_RT_Nontarget,WM_Task_0bk_Tool_Median_RT,WM_Task_0bk_Tool_Median_RT_Target,WM_Task_0bk_Tool_Median_RT_Nontarget,WM_Task_2bk_Body_Median_RT,WM_Task_2bk_Body_Median_RT_Target,WM_Task_2bk_Body_Median_RT_Nontarget,WM_Task_2bk_Face_Median_RT,WM_Task_2bk_Face_Median_RT_Target,WM_Task_2bk_Face_Median_RT_Nontarget,WM_Task_2bk_Place_Median_RT,WM_Task_2bk_Place_Median_RT_Target,WM_Task_2bk_Place_Median_RT_Nontarget,WM_Task_2bk_Tool_Median_RT,WM_Task_2bk_Tool_Median_RT_Target,WM_Task_2bk_Tool_Median_RT_Nontarget,Endurance_Unadj,Endurance_AgeAdj,GaitSpeed_Comp,Dexterity_Unadj,Dexterity_AgeAdj,Strength_Unadj,Strength_AgeAdj,NEOFAC_A,NEOFAC_O,NEOFAC_C,NEOFAC_N,NEOFAC_E,NEORAW_01,NEORAW_02,NEORAW_03,NEORAW_04,NEORAW_05,NEORAW_06,NEORAW_07,NEORAW_08,NEORAW_09,NEORAW_10,NEORAW_11,NEORAW_12,NEORAW_13,NEORAW_14,NEORAW_15,NEORAW_16,NEORAW_17,NEORAW_18,NEORAW_19,NEORAW_20,NEORAW_21,NEORAW_22,NEORAW_23,NEORAW_24,NEORAW_25,NEORAW_26,NEORAW_27,NEORAW_28,NEORAW_29,NEORAW_30,NEORAW_31,NEORAW_32,NEORAW_33,NEORAW_34,NEORAW_35,NEORAW_36,NEORAW_37,NEORAW_38,NEORAW_39,NEORAW_40,NEORAW_41,NEORAW_42,NEORAW_43,NEORAW_44,NEORAW_45,NEORAW_46,NEORAW_47,NEORAW_48,NEORAW_49,NEORAW_50,NEORAW_51,NEORAW_52,NEORAW_53,NEORAW_54,NEORAW_55,NEORAW_56,NEORAW_57,NEORAW_58,NEORAW_59,NEORAW_60,Noise_Comp,Odor_Unadj,Odor_AgeAdj,PainIntens_RawScore,PainInterf_Tscore,Taste_Unadj,Taste_AgeAdj,Mars_Log_Score,Mars_Errs,Mars_Final\n",
      "100004,S900,Q06,M,22-25,false,0,0,0,0.0,false,0.0,0.0,0.0,0.0,0.0,0.0,0.0,0.0,false,0.0,,,false,0,0.0,false,0.0,false,0.0,false,0.0,false,0.0,,false,false,false,false,false,false,false,false,false,false,false,false,false,false,false,false,true,true,true,true,true,true,true,true,true,true,true,true,true,true,true,true,true,true,true,true,true,true,true,true,,,,,,,,,,,,,29,8,1,2,2,1,1,0,1,09:00:00,30,15:30:00,5.0,2,1,1,0,0,0,1,0,0,0,1,0,0,2,0,118.7,112.44,103.17,88.64,121.97,111.01,19,0,15590.0,109.9589,96.91405,111.1118,104.9375,92.72,69.88,153.13,46.88,21.88,9.38,21.88,21.88,34375.0,24375.0,625.0,625.0,625.0,625.0,0.12181146,0.067448124,9,639.2308,31,53,119,1,7,520.0,0.8833,0.9917,10,37,1290.0,96.99,85.26,105.74,87.73,116.58,104.72,107.85,91.75,110.74,100.46,36,1880.0,7,6,8,8,7,49.3,62.2,52.2,51.2,57.3,53.7,43.1,40.1,36.2,27.6,73.0,60.0,70.4,29.3,34.8,55.4,39.6,,,,,,,,,,,,,,,,,,,,,,,,,,,,,,,,,,,,,,,,,,,,,,,,,,,,,,,,,,,,,,,,,,,,,,,,,,,,,,,,,,,,,,,,,,,,,,,,,,,,,,,,,,,,,,,122.02,119.44,1.31,96.14,83.77,123.48,119.3,27,15,28,24,25,A,D,SA,SA,N,N,A,A,D,A,A,D,D,A,A,D,N,D,A,A,D,D,A,D,A,A,N,SD,A,A,D,D,N,A,SA,N,N,A,A,A,D,N,D,A,A,N,A,SA,A,A,N,A,A,A,A,D,N,N,D,A,5.2,101.12,86.45,2,45.9,107.17,105.31,1.8,0,1.8\n",
      "100206,S900,Q11,M,26-30,true,1,1,4,100.0,true,100.0,100.0,100.0,100.0,100.0,100.0,100.0,100.0,true,100.0,r227,r227,false,0,0.0,false,0.0,false,0.0,false,0.0,false,0.0,,false,false,false,false,false,false,false,false,false,false,false,false,false,false,false,false,true,true,true,true,true,true,true,true,true,true,true,false,true,true,true,true,true,true,true,true,true,true,true,true,,HCP3T,Bias_Receive(8) Bias_Transmit(1) dMRI(6) dMRI_SBRef(6) FieldMap(2) FieldMap_SE_EPI(8) rfMRI(4) rfMRI_SBRef(4) T1w(1) T2w(1) tfMRI(14) tfMRI_SBRef(14),100206_3T,,,,,,,,,30,6,1,1,1,1,1,0,1,22:30:00,5,06:00:00,6.0,1,1,1,0,0,0,1,0,0,1,1,0,1,1,0,125.07,118.78,119.14,104.94,130.42,116.55,20,0,18574.5,113.546,103.4441,119.8914,117.0361,138.72,131.89,78.13,34.38,9.38,21.88,21.88,9.38,30625.0,625.0,625.0,3125.0,625.0,625.0,0.09707188,0.05000021,12,1247.5758,26,58,115,5,2,520.0,0.9667,0.9583,9,34,1475.0,112.89,103.57,134.34,130.07,133.56,128.23,137.66,133.76,117.33,113.89,38,1545.0,7,7,8,8,8,54.8,61.7,43.4,63.3,61.2,55.0,45.6,50.0,48.4,45.7,63.8,63.8,64.8,43.9,46.0,57.8,44.0,95.278,664.5,93.333,682.5,97.222,646.5,45.312,54.688,0.0,312.375,282.5,37.5,327.5,62.5,284.0,0.0,53.125,297.25,46.875,281.0,0.0,96.875,3208.0,100.0,3020.75,9.071,93.75,3395.25,1.964,73.75,1587.875,93.333,1430.0,54.167,1745.75,10.0,90.0,0.0,0.0,683.0,1213.95,,20.0,683.0,80.0,1375.1,0.0,,0.0,0.0,,100.0,1052.8,0.0,,0.0,91.596,767.44,83.507,921.208,99.062,625.5,95.0,100.0,93.75,100.0,100.0,100.0,100.0,100.0,100.0,100.0,100.0,100.0,68.75,50.0,75.0,81.25,50.0,91.667,100.0,100.0,100.0,93.75,100.0,91.667,655.0,716.75,655.75,597.25,516.5,635.5,648.0,623.0,634.0,593.0,638.25,593.0,1054.0,1015.5,1042.0,791.0,757.5,799.5,919.25,1168.75,919.25,853.25,869.0,865.5,123.31,121.27,1.24,106.61,94.23,132.46,129.43,29,23,26,21,32,D,A,A,SA,N,N,A,A,N,A,D,D,N,N,D,N,A,D,A,A,D,A,N,D,N,D,N,N,A,A,N,N,D,A,A,N,A,N,D,N,N,D,D,A,A,N,N,N,A,N,N,A,A,D,N,D,N,D,A,N,6.0,108.79,97.19,1,49.7,72.63,72.03,1.84,0,1.84\n",
      "100307,Q1,Q01,F,26-30,true,1,1,4,100.0,true,100.0,100.0,100.0,100.0,100.0,100.0,100.0,100.0,true,100.0,r227,r177,false,0,0.0,false,0.0,false,0.0,false,0.0,false,0.0,,true,false,true,true,true,true,true,true,true,true,true,true,true,true,false,false,true,true,true,true,true,true,true,true,true,true,true,true,true,true,true,true,true,true,true,true,true,true,true,true,,HCP3T,Bias_Receive(8) Bias_Transmit(1) dMRI(6) dMRI_SBRef(6) FieldMap(2) FieldMap_SE_EPI(8) rfMRI(4) rfMRI_SBRef(4) T1w(1) T2w(1) tfMRI(14) tfMRI_SBRef(14),100307_3T,,,,SLU MEG,Pnoise(1) Restin(3) Rnoise(1) StoryM(2) Wrkmem(2),100307_MEG,9,18,29,4,1,0,1,0,2,0,0,22:00:00,5,05:30:00,6.5,0,3,3,0,0,0,1,0,0,3,1,0,0,0,3,110.61,103.45,123.75,109.92,112.56,101.9,17,2,11839.0,111.07,98.73,107.2,96.81,122.65,112.36,103.13,46.88,103.13,21.88,21.88,9.38,19375.0,29375.0,24375.0,9375.0,9375.0,9375.0,0.16217604,0.31145853,9,834.3,29,59,115,5,1,412.0,0.9833,0.9583,11,35,1442.0,108.06,98.44,118.16,107.88,116.2,104.11,116.73,106.85,109.38,97.42,39,1471.0,8,8,8,8,7,46.9,60.8,43.4,53.9,47.2,53.4,48.0,42.4,46.2,62.0,53.7,52.7,54.1,45.0,52.3,57.9,37.5,95.556,618.875,96.667,609.75,94.444,628.0,50.0,50.0,0.0,293.25,305.5,46.875,283.0,53.125,295.0,0.0,53.125,303.5,46.875,316.0,0.0,80.417,3463.375,87.5,3144.0,9.607,73.333,3782.75,2.893,96.25,1765.25,96.667,1385.5,95.833,2145.0,40.0,50.0,10.0,0.0,726.8,811.7,645.0,80.0,726.8,20.0,1057.0,0.0,,0.0,0.0,,80.0,566.4,20.0,645.0,0.0,85.425,791.347,77.083,862.5,93.125,725.667,95.0,100.0,93.75,100.0,100.0,100.0,100.0,100.0,100.0,85.0,50.0,93.75,68.75,50.0,75.0,93.75,75.0,100.0,87.5,50.0,100.0,75.0,75.0,75.0,741.0,811.0,750.75,613.0,583.0,632.25,679.0,784.75,655.5,828.5,827.5,801.75,1109.75,767.5,1307.25,808.75,733.75,836.75,788.5,828.5,784.0,746.25,838.5,800.5,114.05,111.1,1.58,118.68,105.21,108.34,84.59,37,24,35,15,37,N,SA,A,A,SA,D,A,N,D,N,A,D,N,D,N,N,A,D,N,A,D,N,A,SD,A,D,D,D,N,D,A,A,D,A,A,SD,A,N,D,A,D,D,N,D,D,A,A,D,A,A,D,SA,A,SD,D,D,D,D,SD,A,3.6,101.12,86.45,0,38.6,71.69,71.76,1.76,0,1.76\n",
      "100408,Q3,Q03,M,31-35,true,1,1,4,100.0,true,100.0,100.0,100.0,100.0,100.0,100.0,100.0,100.0,true,100.0,r227,r177,false,0,0.0,false,0.0,false,0.0,false,0.0,false,0.0,,false,false,false,false,false,false,false,false,false,false,false,false,false,false,false,false,true,true,true,true,true,true,true,true,true,true,true,true,true,true,true,true,true,false,true,false,true,true,true,true,,HCP3T,Bias_Receive(8) Bias_Transmit(1) dMRI(6) dMRI_SBRef(6) FieldMap(2) FieldMap_SE_EPI(8) rfMRI(4) rfMRI_SBRef(4) T1w(1) T2w(1) tfMRI(14) tfMRI_SBRef(14),100408_3T,,,,,,,,,30,4,1,1,0,0,1,0,1,22:00:00,15,06:30:00,8.0,1,2,1,0,0,0,0,0,0,0,1,0,0,1,3,125.71,125.19,111.14,100.77,121.18,113.51,7,12,3042.0,131.81,125.64,134.24,132.63,107.08,96.0,153.13,46.88,46.88,46.88,46.88,9.38,39375.0,29375.0,24375.0,19375.0,18125.0,4375.0,0.20306146,0.42135438,17,900.2857,17,52,110,10,8,468.0,0.8667,0.9167,9,37,1450.75,108.06,102.63,116.64,113.77,132.46,129.99,137.53,133.96,134.34,134.57,36,1537.0,8,8,8,5,7,50.6,42.8,59.9,55.1,54.7,49.9,57.7,51.9,48.4,52.9,51.9,52.2,50.1,50.1,51.1,46.8,56.4,100.0,744.625,100.0,724.5,100.0,764.75,56.563,43.438,0.0,519.875,473.5,51.875,506.0,48.125,455.25,0.0,61.25,533.75,38.75,491.75,0.0,97.222,3664.0,100.0,3612.5,10.482,94.444,3715.5,3.107,80.417,1829.25,90.0,1347.0,70.833,2311.5,40.0,50.0,10.0,0.0,1341.6,1295.4,1536.0,80.0,1341.6,0.0,,20.0,1536.0,0.0,0.0,,100.0,1295.4,0.0,,0.0,91.138,953.107,92.708,1065.958,89.688,848.938,85.0,50.0,93.75,90.0,75.0,93.75,100.0,100.0,100.0,95.0,100.0,93.75,81.25,100.0,75.0,100.0,100.0,100.0,100.0,100.0,100.0,81.25,100.0,75.0,878.75,964.5,856.75,974.25,819.5,1004.75,786.75,733.5,819.25,777.25,771.25,800.75,1168.5,945.75,1323.75,1017.75,882.5,1105.25,978.0,820.75,1071.0,1176.25,1046.75,1255.25,121.0,121.8,1.51,117.48,106.24,125.18,124.24,33,29,34,15,33,D,A,N,SA,A,D,SA,SA,D,N,D,D,A,D,D,N,N,D,A,A,D,A,A,N,A,SD,D,A,D,N,A,D,D,A,A,SD,A,SD,D,A,D,N,D,N,D,N,A,D,SA,A,D,A,A,N,D,N,D,A,A,A,2.0,108.79,98.04,2,52.6,114.01,113.59,1.76,2,1.68\n",
      "100610,S900,Q08,M,26-30,true,2,1,4,100.0,true,100.0,100.0,100.0,100.0,100.0,100.0,100.0,100.0,true,100.0,r227,r227,true,4,100.0,true,100.0,true,100.0,true,100.0,true,100.0,2,false,false,false,false,false,false,false,false,false,false,false,false,false,false,false,false,true,true,true,true,true,true,true,true,true,true,true,true,true,true,true,true,true,true,true,true,true,true,true,true,,HCP3T,Bias_Receive(10) Bias_Transmit(1) dMRI(6) dMRI_SBRef(6) FieldMap(2) FieldMap_SE_EPI(10) rfMRI(4) rfMRI_SBRef(4) T1w(2) T2w(1) tfMRI(14) tfMRI_SBRef(14),100610_3T,7TAS,Bias_Transmit(1) dMRI(4) dMRI_SBRef(4) FieldMap_SE_EPI(14) FieldMap_SE_EPI_SBRef(14) rfMRI(4) rfMRI_SBRef(4) tfMRI(10) tfMRI_SBRef(10),100610_7T,,,,,,30,4,1,1,0,0,1,0,1,21:30:00,15,05:15:00,7.0,1,0,3,0,0,0,1,0,0,0,1,0,0,1,0,109.04,101.69,129.84,115.18,126.53,114.18,23,0,12280.0,141.3166,132.4124,140.8151,146.5971,111.11,96.12,196.88,196.88,184.38,171.88,146.88,146.88,39375.0,39375.0,39375.0,39375.0,36875.0,24375.0,0.8016292,0.8687502,18,608.0952,14,60,117,3,0,465.0,1.0,0.975,7,38,1240.0,117.39,108.26,124.23,115.63,138.14,133.47,153.36,153.36,144.96,149.19,39,1590.0,8,8,8,8,7,47.5,49.1,43.4,49.6,55.3,44.2,60.1,46.8,55.1,44.9,53.5,38.5,54.1,56.8,48.4,37.8,53.2,100.0,640.125,100.0,672.5,100.0,607.75,0.0,100.0,0.0,,378.625,0.0,,100.0,371.25,0.0,0.0,,100.0,386.0,0.0,100.0,3540.25,100.0,3238.75,12.446,100.0,3841.75,3.107,96.667,1697.75,93.333,1477.0,100.0,1918.5,50.0,50.0,0.0,0.0,848.4,996.4,,100.0,848.4,0.0,,0.0,,0.0,0.0,,100.0,996.4,0.0,,0.0,96.867,865.701,96.181,1017.833,97.5,725.271,100.0,100.0,100.0,100.0,100.0,100.0,95.0,75.0,100.0,100.0,100.0,100.0,100.0,100.0,100.0,100.0,100.0,100.0,93.75,75.0,100.0,93.75,100.0,91.667,666.5,822.25,640.25,685.75,697.0,676.5,725.5,851.5,702.75,685.5,932.75,617.0,1182.0,1335.0,1149.0,877.5,870.5,906.25,867.25,1099.0,853.75,1056.75,911.75,1105.25,107.24,102.79,1.1,121.55,107.85,123.16,118.9,31,33,36,7,15,SA,D,D,SA,N,D,D,SA,SD,SA,SD,D,SA,N,SD,A,D,SD,N,SA,SD,D,D,A,A,D,A,SD,N,A,SA,D,D,A,A,SD,D,N,A,A,SD,N,A,A,D,A,D,D,SA,A,SD,N,SA,SD,D,A,SA,SA,D,A,2.0,122.25,110.45,0,38.6,84.84,85.31,1.92,1,1.88\n",
      "101006,S500,Q06,F,31-35,true,2,2,4,100.0,true,100.0,100.0,100.0,100.0,100.0,100.0,100.0,100.0,true,100.0,r227,r227,false,0,0.0,false,0.0,false,0.0,false,0.0,false,0.0,,false,false,false,false,false,false,false,false,false,false,false,false,false,false,false,false,true,true,true,true,true,true,true,true,true,true,true,true,true,true,true,true,true,false,true,false,true,true,true,true,,HCP3T,Bias_Receive(8) Bias_Transmit(1) dMRI(6) dMRI_SBRef(6) FieldMap(2) FieldMap_SE_EPI(8) rfMRI(4) rfMRI_SBRef(4) T1w(2) T2w(2) tfMRI(14) tfMRI_SBRef(14),101006_3T,,,,,,,,,28,2,1,1,0,0,0,0,0,23:00:00,30,07:00:00,7.0,0,0,0,0,0,0,0,0,0,0,1,0,0,0,3,84.68,70.0,105.19,94.3,101.85,92.33,11,8,6569.0,113.5374,101.1697,95.42348,69.45302,90.59,71.99,140.63,96.88,115.63,46.88,40.63,40.63,39375.0,36875.0,34375.0,34375.0,29375.0,28125.0,0.28379062,0.7830731,20,1129.7084,14,59,117,3,1,440.0,0.9833,0.975,15,37,1579.5,93.9,84.01,91.44,72.02,94.34,71.34,94.39,72.15,104.51,82.93,30,2169.5,6,6,8,7,3,59.0,49.0,49.8,49.3,40.1,48.7,46.5,48.1,42.0,57.1,50.3,46.1,46.5,62.5,43.3,48.8,38.8,96.944,760.875,96.667,819.0,97.222,702.75,60.938,39.062,0.0,470.125,510.5,59.375,425.75,40.625,538.0,0.0,62.5,514.5,37.5,483.0,0.0,83.611,3414.25,83.333,3048.0,11.393,83.889,3780.5,1.571,53.333,1504.375,73.333,1276.5,33.333,1732.25,40.0,40.0,20.0,0.0,1172.8,1508.5,2936.0,80.0,1172.8,20.0,1479.0,0.0,,0.0,0.0,,60.0,1538.0,40.0,2936.0,0.0,73.017,667.307,58.681,625.7,86.25,699.312,70.0,25.0,81.25,90.0,75.0,93.75,100.0,100.0,100.0,100.0,100.0,100.0,68.75,25.0,83.333,81.25,25.0,100.0,75.0,0.0,100.0,62.5,0.0,83.333,815.0,838.0,807.5,648.75,796.75,629.25,616.0,815.5,596.25,542.0,759.0,527.75,783.0,512.0,783.75,597.75,688.0,590.5,569.5,,569.5,581.5,,581.5,81.58,73.07,1.24,106.53,96.0,116.06,106.93,30,23,39,13,29,D,N,A,SD,SA,D,A,A,SD,A,N,N,A,D,N,A,A,N,N,SA,D,N,D,A,A,SD,D,D,SA,SD,A,N,A,A,A,SD,A,A,SD,A,D,N,A,D,A,D,N,D,SA,SA,SD,A,N,N,SD,SD,N,N,SD,SA,6.0,122.25,111.41,0,38.6,123.8,123.31,1.8,0,1.8\n",
      "101107,S500,Q06,M,22-25,true,2,2,4,100.0,true,100.0,100.0,100.0,100.0,100.0,100.0,100.0,100.0,true,100.0,r227,r227,false,0,0.0,false,0.0,false,0.0,false,0.0,false,0.0,,false,false,false,false,false,false,false,false,false,false,false,false,false,false,false,false,true,true,true,true,true,true,true,true,true,true,true,true,true,true,true,true,true,true,true,true,true,true,true,true,D E,HCP3T,Bias_Receive(8) Bias_Transmit(1) dMRI(6) dMRI_SBRef(6) FieldMap(2) FieldMap_SE_EPI(8) rfMRI(4) rfMRI_SBRef(4) T1w(2) T2w(2) tfMRI(14) tfMRI_SBRef(14),101107_3T,,,,,,,,,29,9,1,1,3,3,0,0,1,23:00:00,25,06:00:00,4.0,0,0,0,0,0,0,0,0,0,0,1,0,0,1,0,105.6,97.37,119.76,105.69,107.04,96.19,14,5,6880.0,119.2434,112.9757,119.8459,116.9699,112.27,97.87,103.13,21.88,9.38,9.38,28.13,3.13,39375.0,39375.0,39375.0,19375.0,19375.0,19375.0,0.088478126,0.5843752,16,1234.1339,23,55,113,7,5,510.0,0.9167,0.9417,8,30,1390.0,130.38,123.73,117.37,106.57,115.48,102.96,126.37,120.13,120.73,118.74,35,1880.0,7,7,8,8,5,51.9,52.3,77.2,48.4,61.4,48.1,47.0,61.3,59.2,66.5,52.0,63.8,43.7,62.5,32.6,51.9,68.4,98.611,672.0,100.0,657.0,97.222,687.0,54.062,45.938,0.0,268.625,340.375,42.5,309.25,57.5,306.0,0.0,65.625,228.0,34.375,374.75,0.0,82.917,4081.375,87.5,4045.75,10.321,78.333,4117.0,3.036,54.167,1094.25,66.667,1094.5,41.667,1094.0,40.0,50.0,10.0,0.0,1042.8,923.8,2466.0,80.0,1042.8,0.0,,20.0,2466.0,0.0,0.0,,100.0,923.8,0.0,,0.0,84.937,764.348,77.083,813.091,92.188,723.104,95.0,75.0,100.0,95.0,100.0,93.75,90.0,100.0,87.5,95.0,75.0,100.0,81.25,75.0,83.333,93.75,100.0,91.667,68.75,0.0,91.667,81.25,75.0,83.333,718.75,939.5,729.25,787.25,917.75,711.5,718.25,703.25,718.25,568.25,602.75,562.5,827.25,513.5,876.75,915.75,947.0,905.25,698.25,,698.25,839.25,778.75,944.0,123.23,121.16,1.85,98.19,85.72,122.67,117.84,28,35,37,12,28,A,N,D,A,A,SD,N,A,N,A,SD,SA,SA,N,D,N,N,SD,A,A,SD,A,N,N,N,SD,N,SA,N,N,A,N,D,A,SA,SA,N,N,N,SA,SD,N,D,A,SD,N,A,SD,SA,A,SD,SA,SA,A,D,N,SD,A,D,A,6.8,108.79,97.19,1,50.1,134.65,131.38,1.84,0,1.84\n",
      "101208,S1200,Q12,F,31-35,false,0,0,0,0.0,false,0.0,0.0,0.0,0.0,0.0,0.0,0.0,0.0,false,0.0,,,false,0,0.0,false,0.0,false,0.0,false,0.0,false,0.0,,false,false,false,false,false,false,false,false,false,false,false,false,false,false,false,false,true,true,true,true,true,true,true,true,true,true,true,false,true,true,true,true,true,true,true,true,true,true,true,true,,,,,,,,,,,,,30,6,1,2,0,0,2,0,1,22:00:00,60,05:00:00,7.0,2,3,3,0,0,1,1,0,0,2,1,0,0,2,3,102.56,95.64,93.56,82.44,94.96,84.46,8,11,6805.0,106.345,89.81669,103.737,84.01626,107.8,96.97,190.63,196.88,190.63,96.88,96.88,96.88,39375.0,39375.0,35625.0,35625.0,38125.0,19375.0,0.57962394,0.81796896,2,794.4167,62,58,115,5,2,435.0,0.9667,0.9583,8,33,1770.0,108.06,102.63,98.67,83.46,96.17,74.85,98.74,78.53,105.26,83.75,38,2070.0,7,8,8,8,7,56.9,43.3,61.1,65.4,61.2,51.7,45.6,55.8,42.0,37.5,54.7,58.4,55.3,33.2,51.3,43.9,55.7,,,,,,,,,,,,,,,,,,,,,,,,,,,,,,,,,,,,,,,,,,,,,,,,,,,,,,,,,,,,,,,,,,,,,,,,,,,,,,,,,,,,,,,,,,,,,,,,,,,,,,,,,,,,,,,103.24,101.7,1.25,116.44,105.55,102.34,79.45,32,37,34,15,28,N,SD,N,A,A,SD,N,A,D,A,D,D,A,SD,N,A,A,SD,SA,N,N,D,SD,N,A,SD,N,SA,SA,D,N,N,SD,A,A,N,A,N,D,A,D,D,A,N,SD,N,A,D,A,A,D,A,SA,N,D,D,D,A,D,N,4.4,101.12,87.11,1,50.1,105.57,102.32,1.92,0,1.92\n",
      "101309,S500,Q06,M,26-30,true,1,1,4,100.0,true,100.0,100.0,100.0,100.0,100.0,100.0,100.0,100.0,true,100.0,r227,r227,false,0,0.0,false,0.0,false,0.0,false,0.0,false,0.0,,false,false,false,false,false,false,false,false,false,false,false,false,false,false,false,false,true,true,true,true,true,true,true,true,true,true,true,true,true,true,true,true,true,true,true,true,true,true,true,true,,HCP3T,Bias_Receive(8) Bias_Transmit(1) dMRI(6) dMRI_SBRef(6) FieldMap(2) FieldMap_SE_EPI(8) rfMRI(4) rfMRI_SBRef(4) T1w(1) T2w(1) tfMRI(14) tfMRI_SBRef(14),101309_3T,,,,,,,,,29,5,1,1,2,0,1,0,0,22:30:00,15,05:00:00,5.5,1,2,1,3,0,0,3,0,0,0,1,0,0,0,3,102.89,93.36,99.76,86.03,113.67,103.37,15,4,12558.0,106.9173,92.68638,123.3551,121.3679,105.28,87.33,171.88,96.88,196.88,171.88,190.63,196.88,39375.0,34375.0,38125.0,38125.0,38125.0,38125.0,0.92194164,0.9497398,10,928.9026,33,57,107,13,3,471.0,0.95,0.8917,7,34,1248.0,117.39,108.26,107.14,90.01,110.35,95.03,112.6,100.32,115.59,110.72,35,2002.0,7,5,8,7,8,38.3,36.6,54.3,43.3,40.1,38.5,48.5,71.6,52.8,53.3,46.4,45.2,35.9,43.7,62.9,42.9,62.4,95.833,858.625,100.0,920.0,91.667,797.25,53.125,46.875,0.0,318.75,256.0,56.25,328.5,43.75,291.5,0.0,50.0,309.0,50.0,220.5,0.0,91.667,3873.25,100.0,3490.5,9.375,83.333,4256.0,1.964,60.0,1409.0,70.0,1501.5,50.0,1316.5,20.0,50.0,30.0,0.0,1396.5,1017.4,1262.2,40.0,1396.5,0.0,,60.0,1262.2,0.0,0.0,,100.0,1017.4,0.0,,0.0,91.542,910.701,92.535,1129.458,90.625,708.771,85.0,50.0,93.75,90.0,75.0,93.75,100.0,100.0,100.0,100.0,100.0,100.0,93.75,100.0,91.667,81.25,75.0,83.333,100.0,100.0,100.0,93.75,100.0,91.667,883.0,543.5,920.5,712.25,542.5,826.25,649.25,676.5,665.75,605.0,861.25,619.5,1254.5,1184.25,1319.0,1250.75,831.25,1278.75,1157.5,976.0,1157.5,1169.0,746.5,1228.5,91.04,83.62,1.33,109.4,96.8,125.84,122.43,36,22,36,2,26,SA,N,A,SA,N,SD,A,SA,D,N,SD,N,A,SD,SD,SA,N,SD,SA,SA,SD,N,SA,A,N,SD,A,A,SA,N,SA,N,SD,SA,A,N,A,SA,N,SA,SD,N,SD,N,D,SA,N,A,SA,SA,SD,N,A,SD,D,SD,D,A,SD,A,5.2,122.25,110.45,0,38.6,106.39,104.39,1.8,0,1.8\n"
     ]
    }
   ],
   "source": [
    "!head $participants_file"
   ]
  },
  {
   "cell_type": "code",
   "execution_count": 15,
   "metadata": {},
   "outputs": [
    {
     "data": {
      "text/plain": [
       "False"
      ]
     },
     "execution_count": 15,
     "metadata": {},
     "output_type": "execute_result"
    }
   ],
   "source": [
    "participants.isnull().values.any()"
   ]
  },
  {
   "cell_type": "code",
   "execution_count": 13,
   "metadata": {},
   "outputs": [
    {
     "data": {
      "text/html": [
       "<div>\n",
       "<style scoped>\n",
       "    .dataframe tbody tr th:only-of-type {\n",
       "        vertical-align: middle;\n",
       "    }\n",
       "\n",
       "    .dataframe tbody tr th {\n",
       "        vertical-align: top;\n",
       "    }\n",
       "\n",
       "    .dataframe thead th {\n",
       "        text-align: right;\n",
       "    }\n",
       "</style>\n",
       "<table border=\"1\" class=\"dataframe\">\n",
       "  <thead>\n",
       "    <tr style=\"text-align: right;\">\n",
       "      <th></th>\n",
       "      <th>Subject</th>\n",
       "      <th>Flanker_AgeAdj</th>\n",
       "    </tr>\n",
       "  </thead>\n",
       "  <tbody>\n",
       "  </tbody>\n",
       "</table>\n",
       "</div>"
      ],
      "text/plain": [
       "Empty DataFrame\n",
       "Columns: [Subject, Flanker_AgeAdj]\n",
       "Index: []"
      ]
     },
     "execution_count": 13,
     "metadata": {},
     "output_type": "execute_result"
    }
   ],
   "source": [
    "participants[participants['Subject']=='142626']"
   ]
  },
  {
   "cell_type": "code",
   "execution_count": 16,
   "metadata": {},
   "outputs": [
    {
     "data": {
      "text/html": [
       "<div>\n",
       "<style scoped>\n",
       "    .dataframe tbody tr th:only-of-type {\n",
       "        vertical-align: middle;\n",
       "    }\n",
       "\n",
       "    .dataframe tbody tr th {\n",
       "        vertical-align: top;\n",
       "    }\n",
       "\n",
       "    .dataframe thead th {\n",
       "        text-align: right;\n",
       "    }\n",
       "</style>\n",
       "<table border=\"1\" class=\"dataframe\">\n",
       "  <thead>\n",
       "    <tr style=\"text-align: right;\">\n",
       "      <th></th>\n",
       "      <th>Subject</th>\n",
       "      <th>Flanker_AgeAdj</th>\n",
       "    </tr>\n",
       "  </thead>\n",
       "  <tbody>\n",
       "    <tr>\n",
       "      <th>0</th>\n",
       "      <td>100004</td>\n",
       "      <td>93.15</td>\n",
       "    </tr>\n",
       "    <tr>\n",
       "      <th>1</th>\n",
       "      <td>100206</td>\n",
       "      <td>105.39</td>\n",
       "    </tr>\n",
       "    <tr>\n",
       "      <th>2</th>\n",
       "      <td>100307</td>\n",
       "      <td>108.43</td>\n",
       "    </tr>\n",
       "    <tr>\n",
       "      <th>3</th>\n",
       "      <td>100408</td>\n",
       "      <td>103.89</td>\n",
       "    </tr>\n",
       "    <tr>\n",
       "      <th>4</th>\n",
       "      <td>100610</td>\n",
       "      <td>113.29</td>\n",
       "    </tr>\n",
       "  </tbody>\n",
       "</table>\n",
       "</div>"
      ],
      "text/plain": [
       "   Subject  Flanker_AgeAdj\n",
       "0   100004           93.15\n",
       "1   100206          105.39\n",
       "2   100307          108.43\n",
       "3   100408          103.89\n",
       "4   100610          113.29"
      ]
     },
     "execution_count": 16,
     "metadata": {},
     "output_type": "execute_result"
    }
   ],
   "source": [
    "participants_shuffled = participants.copy(deep=True)\n",
    "participants_shuffled['Flanker_AgeAdj'] = np.random.permutation(participants['Flanker_AgeAdj'].values)\n",
    "\n",
    "participants_shuffled.head()"
   ]
  },
  {
   "cell_type": "code",
   "execution_count": 19,
   "metadata": {},
   "outputs": [],
   "source": [
    "output_file = \"/neurospin/dico/data/deep_folding/current/datasets/hcp/participants_with_shuffled_Flanker_AgedAdj.csv\""
   ]
  },
  {
   "cell_type": "code",
   "execution_count": 20,
   "metadata": {},
   "outputs": [],
   "source": [
    "participants_shuffled.to_csv(output_file, index=False)"
   ]
  },
  {
   "cell_type": "code",
   "execution_count": 21,
   "metadata": {},
   "outputs": [
    {
     "name": "stdout",
     "output_type": "stream",
     "text": [
      "Subject,Flanker_AgeAdj\n",
      "100004,93.15\n",
      "100206,105.39\n",
      "100307,108.43\n",
      "100408,103.89\n",
      "100610,113.29\n",
      "101006,85.86\n",
      "101107,98.0\n",
      "101208,97.81\n",
      "101309,104.57\n"
     ]
    }
   ],
   "source": [
    "!head $output_file"
   ]
  }
 ],
 "metadata": {
  "kernelspec": {
   "display_name": "Python 3.8.5 ('venv_natif')",
   "language": "python",
   "name": "python3"
  },
  "language_info": {
   "codemirror_mode": {
    "name": "ipython",
    "version": 3
   },
   "file_extension": ".py",
   "mimetype": "text/x-python",
   "name": "python",
   "nbconvert_exporter": "python",
   "pygments_lexer": "ipython3",
   "version": "3.10.6"
  },
  "orig_nbformat": 4,
  "vscode": {
   "interpreter": {
    "hash": "83e7508b6f60885faa35e47c969e90ae7340ef7b0f62dfd2347f16762d7fca4e"
   }
  }
 },
 "nbformat": 4,
 "nbformat_minor": 2
}
