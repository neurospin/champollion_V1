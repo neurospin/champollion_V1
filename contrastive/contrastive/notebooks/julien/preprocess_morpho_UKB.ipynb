{
 "cells": [
  {
   "cell_type": "code",
   "execution_count": 1,
   "metadata": {},
   "outputs": [],
   "source": [
    "import pandas as pd\n",
    "import os\n",
    "import numpy as np"
   ]
  },
  {
   "cell_type": "code",
   "execution_count": 10,
   "metadata": {},
   "outputs": [],
   "source": [
    "root_dir = '/neurospin/dico/data/deep_folding/current/datasets/UkBioBank/sulcal_morphometry/'\n",
    "sulcus = 'F.I.P.'\n",
    "sulcus_alt = 'FIP'\n",
    "side = 'right'\n",
    "side_alt = 'R'"
   ]
  },
  {
   "cell_type": "code",
   "execution_count": 11,
   "metadata": {},
   "outputs": [],
   "source": [
    "morpho = pd.read_csv(os.path.join(root_dir,f'UKB_{sulcus_alt}_{side}.csv'))\n",
    "morpho.columns=['Subject']+morpho.columns[1:].tolist()\n",
    "subjects_V0 = pd.read_csv(f'/neurospin/dico/data/deep_folding/current/datasets/UkBioBank/crops/2mm/{sulcus}/mask/{side_alt}skeleton_subject.csv')"
   ]
  },
  {
   "cell_type": "code",
   "execution_count": 12,
   "metadata": {},
   "outputs": [],
   "source": [
    "# remove nan values\n",
    "morpho = morpho.dropna()"
   ]
  },
  {
   "cell_type": "code",
   "execution_count": 13,
   "metadata": {},
   "outputs": [],
   "source": [
    "# add sub prefix to subs\n",
    "l = morpho['Subject']\n",
    "l = ['sub-'+ str(elem) for elem in l]\n",
    "morpho['Subject']=l"
   ]
  },
  {
   "cell_type": "code",
   "execution_count": 14,
   "metadata": {},
   "outputs": [],
   "source": [
    "morpho = pd.merge(morpho, subjects_V0)"
   ]
  },
  {
   "cell_type": "code",
   "execution_count": 15,
   "metadata": {},
   "outputs": [],
   "source": [
    "morpho.to_csv(os.path.join(root_dir,f'UKB_21045_{sulcus_alt}_{side}.csv'), index=False)"
   ]
  },
  {
   "cell_type": "code",
   "execution_count": null,
   "metadata": {},
   "outputs": [],
   "source": []
  }
 ],
 "metadata": {
  "kernelspec": {
   "display_name": "venv",
   "language": "python",
   "name": "python3"
  },
  "language_info": {
   "codemirror_mode": {
    "name": "ipython",
    "version": 3
   },
   "file_extension": ".py",
   "mimetype": "text/x-python",
   "name": "python",
   "nbconvert_exporter": "python",
   "pygments_lexer": "ipython3",
   "version": "3.10.12"
  }
 },
 "nbformat": 4,
 "nbformat_minor": 2
}
