{
 "cells": [
  {
   "cell_type": "code",
   "execution_count": 1,
   "metadata": {},
   "outputs": [
    {
     "name": "stderr",
     "output_type": "stream",
     "text": [
      "/usr/lib/python3/dist-packages/scipy/__init__.py:146: UserWarning: A NumPy version >=1.17.3 and <1.25.0 is required for this version of SciPy (detected version 1.26.4\n",
      "  warnings.warn(f\"A NumPy version >={np_minversion} and <{np_maxversion}\"\n"
     ]
    }
   ],
   "source": [
    "import os\n",
    "import numpy as np\n",
    "from scipy.ndimage import rotate\n",
    "from tqdm import tqdm\n",
    "import matplotlib.pyplot as plt\n",
    "from scipy.spatial.transform import Rotation as R"
   ]
  },
  {
   "cell_type": "code",
   "execution_count": 6,
   "metadata": {},
   "outputs": [],
   "source": [
    "sulcus = 'S.C.-sylv.'\n",
    "side = 'L'"
   ]
  },
  {
   "cell_type": "code",
   "execution_count": 18,
   "metadata": {},
   "outputs": [],
   "source": [
    "dataset = 'UkBioBank'\n",
    "\n",
    "arrs = np.load(f'/neurospin/dico/data/deep_folding/current/datasets/{dataset}/crops/2mm/{sulcus}/mask/{side}skeleton.npy')\n",
    "foldlabels = np.load(f'/neurospin/dico/data/deep_folding/current/datasets/{dataset}/crops/2mm/{sulcus}/mask/{side}label.npy')\n",
    "distbottoms = np.load(f'/neurospin/dico/data/deep_folding/current/datasets/{dataset}/crops/2mm/{sulcus}/mask/{side}distbottom.npy')"
   ]
  },
  {
   "cell_type": "code",
   "execution_count": 19,
   "metadata": {},
   "outputs": [],
   "source": [
    "dict_arrs = {'skeleton': arrs, 'foldlabel': foldlabels, 'distbottom': distbottoms}\n",
    "#dict_arrs = {'skeleton': arrs}"
   ]
  },
  {
   "cell_type": "code",
   "execution_count": 2,
   "metadata": {},
   "outputs": [],
   "source": [
    "# given two vectors, compute the rotations to map one to the other\n",
    "def rotation(v1, v2):\n",
    "    \"\"\"\n",
    "    Compute a matrix R that rotates v1 to align with v2.\n",
    "    v1 and v2 must be length-3 1d numpy arrays.\n",
    "    \"\"\"\n",
    "    # unit vectors\n",
    "    u = v1 / np.linalg.norm(v1)\n",
    "    Ru = v2 / np.linalg.norm(v2)\n",
    "    # dimension of the space and identity\n",
    "    dim = u.size\n",
    "    I = np.identity(dim)\n",
    "    # the cos angle between the vectors\n",
    "    c = np.dot(u, Ru)\n",
    "    # a small number\n",
    "    eps = 1.0e-10\n",
    "    if np.abs(c - 1.0) < eps:\n",
    "        # same direction\n",
    "        return I\n",
    "    elif np.abs(c + 1.0) < eps:\n",
    "        # opposite direction\n",
    "        return -I\n",
    "    else:\n",
    "        # the cross product matrix of a vector to rotate around\n",
    "        K = np.outer(Ru, u) - np.outer(u, Ru)\n",
    "        # Rodrigues' formula\n",
    "        return I + K + (K @ K) / (1 + c)\n",
    "    \n",
    "# remove zeros function\n",
    "def trim_zeros(arr):\n",
    "    \"\"\"Returns a trimmed view of an n-D array excluding any outer\n",
    "    regions which contain only zeros.\n",
    "    \"\"\"\n",
    "    slices = tuple(slice(idx.min(), idx.max() + 1) for idx in np.nonzero(arr))\n",
    "    return arr[slices], slices"
   ]
  },
  {
   "cell_type": "code",
   "execution_count": 3,
   "metadata": {},
   "outputs": [
    {
     "name": "stdout",
     "output_type": "stream",
     "text": [
      "[[ 0.53403899 -0.29302139  0.7930579 ]\n",
      " [ 0.29302139  0.9440291   0.15148437]\n",
      " [-0.7930579   0.15148437  0.59000988]]\n",
      "[1.00000000e+00 1.26288993e-17 6.75722575e-17]\n",
      "[ 28.75309824  52.47220192 -14.39959725]\n"
     ]
    }
   ],
   "source": [
    "a = [1, 0, 0]\n",
    "b = [0.534, -0.293, 0.793] # TODO: HERE DEFINE THE NORMAL TO HULL # add a dictionnary with the right directions : iterate on each region !\n",
    "b = b / np.linalg.norm(b)\n",
    "\n",
    "rot = rotation(b,a)\n",
    "print(rot)\n",
    "print(np.dot(rot, b))\n",
    "\n",
    "r = R.from_matrix(rot)\n",
    "angles = r.as_euler('zyx', degrees=True)\n",
    "print(angles)\n",
    "angles = [-14.4, 28.75, 52.5] # TODO: is it the right order ??? shift from 1 to the left compared to what is given by normal to hull ?\n",
    "# when angle is defined with morphologist, still need this reordering ?"
   ]
  },
  {
   "cell_type": "markdown",
   "metadata": {},
   "source": [
    "all = np.stack((arrs, foldlabels, distbottoms), axis=4)\n",
    "\n",
    "## check number of non zero voxels before\n",
    "for idx, key in enumerate(keys):\n",
    "    print(f'ARRAY TYPE : {key}')\n",
    "    if key=='distbottom':\n",
    "        cval=32501\n",
    "    else:\n",
    "        cval=0\n",
    "    arrs = all[:,:,:,:,idx,0]\n",
    "    print(f'Non zero voxels before rotation : {np.sum(arrs!=cval)}')\n",
    "\n",
    "\n",
    "axes = [(1, 2), (1, 3), (2, 3)]\n",
    "\n",
    "# rotate all modalities at once ## NOT FASTER ?\n",
    "for ax, angle in zip(axes, angles):\n",
    "    rot_all = rotate(all,\n",
    "                     angle=angle,\n",
    "                     axes=ax,\n",
    "                     order=0,\n",
    "                     reshape=True,\n",
    "                     mode='constant',\n",
    "                     cval=cval)\n",
    "\n",
    "## trim zeros\n",
    "# first set to 0 the 32500+ values in distbottom\n",
    "for idx, key in enumerate(keys):\n",
    "    if  key=='distbottom':\n",
    "        distbottoms = rot_all[:,:,:,:,idx,:]\n",
    "        distbottoms[distbottoms==0]=-1\n",
    "        distbottoms[distbottoms>=32500]=0\n",
    "        rot_all[:,:,:,:,idx,:]=distbottoms\n",
    "rot_all_trimmed = trim_zeros(rot_all)\n",
    "\n",
    "for idx, key in enumerate(keys):\n",
    "    arr = rot_all_trimmed[:,:,:,:,idx,:]\n",
    "    print(f'Non zero voxels after rotation : {np.sum(arr!=0)}')\n",
    "    if key=='distbottom':\n",
    "        arr[arr==0]=32501\n",
    "        arr[arr==-1]=0\n",
    "        rot_all_trimmed[:,:,:,:,idx,:]=arr"
   ]
  },
  {
   "cell_type": "markdown",
   "metadata": {},
   "source": [
    "save_dir = f'/neurospin/dico/data/deep_folding/current/datasets/{dataset}/crops/2mm/S.C.-sylv./mask/'\n",
    "np.save(os.path.join(save_dir, f'{side}skeleton_rot.npy'), rot_all_trimmed[:,:,:,:,0,:])\n",
    "np.save(os.path.join(save_dir, f'{side}label_rot.npy'), rot_all_trimmed[:,:,:,:,1,:])\n",
    "np.save(os.path.join(save_dir, f'{side}distbottom_rot.npy'), rot_all_trimmed[:,:,:,:,2,:])"
   ]
  },
  {
   "cell_type": "code",
   "execution_count": 14,
   "metadata": {},
   "outputs": [
    {
     "name": "stderr",
     "output_type": "stream",
     "text": [
      "  1%|          | 6/1114 [00:00<00:19, 57.69it/s]"
     ]
    },
    {
     "name": "stdout",
     "output_type": "stream",
     "text": [
      "ARRAY TYPE : skeleton\n",
      "Non zero voxels before rotation : 1441847\n"
     ]
    },
    {
     "name": "stderr",
     "output_type": "stream",
     "text": [
      "100%|██████████| 1114/1114 [00:15<00:00, 71.53it/s]\n"
     ]
    },
    {
     "name": "stdout",
     "output_type": "stream",
     "text": [
      "Non zero voxels after rotation : 1437203\n",
      "Dimension after rotation : (1114, 38, 55, 44)\n"
     ]
    },
    {
     "name": "stderr",
     "output_type": "stream",
     "text": [
      "  1%|          | 7/1114 [00:00<00:17, 64.59it/s]"
     ]
    },
    {
     "name": "stdout",
     "output_type": "stream",
     "text": [
      "(slice(0, 1114, None), slice(0, 37, None), slice(3, 53, None), slice(7, 39, None))\n",
      "Dimension after trimming : (1114, 37, 50, 32)\n",
      "volume ratio after / before rotation : 0.8831602816565223\n",
      "ARRAY TYPE : foldlabel\n",
      "Non zero voxels before rotation : 1441847\n"
     ]
    },
    {
     "name": "stderr",
     "output_type": "stream",
     "text": [
      "100%|██████████| 1114/1114 [00:15<00:00, 71.25it/s]\n"
     ]
    },
    {
     "name": "stdout",
     "output_type": "stream",
     "text": [
      "Non zero voxels after rotation : 1437203\n",
      "Dimension after rotation : (1114, 38, 55, 44)\n",
      "(slice(0, 1114, None), slice(0, 37, None), slice(3, 53, None), slice(7, 39, None))\n",
      "Dimension after trimming : (1114, 37, 50, 32)\n",
      "volume ratio after / before rotation : 0.8831602816565223\n"
     ]
    }
   ],
   "source": [
    "dict_rot_arrs = {}\n",
    "\n",
    "axes = [(0, 1), (0, 2), (1, 2)]\n",
    "for key, arrs in dict_arrs.items():\n",
    "    print(f'ARRAY TYPE : {key}')\n",
    "    if key=='distbottom':\n",
    "        cval=32501\n",
    "    else:\n",
    "        cval=0\n",
    "    arr_list = []\n",
    "    print(f'Non zero voxels before rotation : {np.sum(arrs!=cval)}')\n",
    "    for arr in tqdm(arrs):\n",
    "        arr = arr[:,:,:,0]\n",
    "        rot_arr = np.copy(arr)\n",
    "        for ax, angle in zip(axes, angles):\n",
    "            rot_arr = rotate(rot_arr,\n",
    "                                angle=angle,\n",
    "                                axes=ax,\n",
    "                                order=0,\n",
    "                                reshape=True,\n",
    "                                mode='constant',\n",
    "                                cval=cval)\n",
    "        arr_list.append(rot_arr)\n",
    "\n",
    "    rot_arrs = np.stack(arr_list)\n",
    "    print(f'Non zero voxels after rotation : {np.sum(rot_arrs!=cval)}')\n",
    "    print(f'Dimension after rotation : {rot_arrs.shape}')\n",
    "    if key=='distbottom':\n",
    "        # set 0 to vx to remove (temporarily)\n",
    "        rot_arrs[rot_arrs==0]=-1\n",
    "        rot_arrs[rot_arrs>=32500]=0\n",
    "    rot_arrs_trimmed, slices = trim_zeros(rot_arrs)\n",
    "    print(slices)\n",
    "    if key=='distbottom':\n",
    "        rot_arrs_trimmed[rot_arrs_trimmed==0]=32501\n",
    "        rot_arrs_trimmed[rot_arrs_trimmed==-1]=0\n",
    "    print(f'Dimension after trimming : {rot_arrs_trimmed.shape}')\n",
    "    # volume ration should be < 1 !\n",
    "    print(f\"volume ratio after / before rotation : {np.prod(rot_arrs_trimmed.shape[1:]) / np.prod(arrs.shape[1:])}\")\n",
    "    # are topological values affected ?\n",
    "    #print(np.unique(arrs, return_counts=True))\n",
    "    #print(np.unique(rot_arrs_trimmed, return_counts=True))\n",
    "    rot_arrs_trimmed = np.expand_dims(rot_arrs_trimmed, axis=-1)\n",
    "    dict_rot_arrs[key]= rot_arrs_trimmed"
   ]
  },
  {
   "cell_type": "code",
   "execution_count": 23,
   "metadata": {},
   "outputs": [],
   "source": [
    "save_dir = f'/neurospin/dico/data/deep_folding/current/datasets/{dataset}/crops/2mm/{sulcus}/mask/'\n",
    "np.save(os.path.join(save_dir, f'{side}skeleton_rot.npy'), dict_rot_arrs['skeleton'])\n",
    "np.save(os.path.join(save_dir, f'{side}label_rot.npy'), dict_rot_arrs['foldlabel'])\n",
    "np.save(os.path.join(save_dir, f'{side}distbottom_rot.npy'), dict_rot_arrs['distbottom'])"
   ]
  },
  {
   "cell_type": "code",
   "execution_count": 20,
   "metadata": {},
   "outputs": [
    {
     "data": {
      "text/plain": [
       "(1114, 37, 52, 31, 1)"
      ]
     },
     "execution_count": 20,
     "metadata": {},
     "output_type": "execute_result"
    }
   ],
   "source": [
    "dict_rot_arrs['skeleton'].shape"
   ]
  },
  {
   "cell_type": "code",
   "execution_count": 21,
   "metadata": {},
   "outputs": [],
   "source": [
    "## hcp\n",
    "dataset = 'hcp'\n",
    "\n",
    "arrs = np.load(f'/neurospin/dico/data/deep_folding/current/datasets/{dataset}/crops/2mm/{sulcus}/mask/{side}skeleton.npy')\n",
    "foldlabels = np.load(f'/neurospin/dico/data/deep_folding/current/datasets/{dataset}/crops/2mm/{sulcus}/mask/{side}label.npy')"
   ]
  },
  {
   "cell_type": "code",
   "execution_count": 22,
   "metadata": {},
   "outputs": [],
   "source": [
    "dict_arrs = {'skeleton': arrs}"
   ]
  },
  {
   "cell_type": "code",
   "execution_count": 29,
   "metadata": {},
   "outputs": [],
   "source": [
    "#angles = [-100.39277232, -142.04451126, -44.85192686] # 0.82\n",
    "#angles = [-142.04451126,  -44.85192686, -100.39277232] #0.88\n",
    "#angles = [-44.85192686, -100.39277232, -142.04451126] # 0.89\n",
    "angles = [-56.21228385,   4.1782546,    2.23226287] # 0.93, ai-je inversé les angles ? le masque a-t-il une forme bizarre ?"
   ]
  },
  {
   "cell_type": "code",
   "execution_count": 30,
   "metadata": {},
   "outputs": [
    {
     "name": "stderr",
     "output_type": "stream",
     "text": [
      "  1%|          | 7/1114 [00:00<00:16, 65.53it/s]"
     ]
    },
    {
     "name": "stdout",
     "output_type": "stream",
     "text": [
      "ARRAY TYPE : skeleton\n",
      "Non zero voxels before rotation : 1441847\n"
     ]
    },
    {
     "name": "stderr",
     "output_type": "stream",
     "text": [
      "100%|██████████| 1114/1114 [00:13<00:00, 81.18it/s]\n"
     ]
    },
    {
     "name": "stdout",
     "output_type": "stream",
     "text": [
      "Non zero voxels after rotation : 1438604\n",
      "Dimension after rotation : (1114, 38, 38, 50)\n",
      "Dimension after trimming : (1114, 37, 36, 47)\n",
      "volume ratio after / before rotation : 0.9339419978517723\n",
      "(array([ 0, 10, 30, 35, 40, 50, 60, 70, 80, 90], dtype=int16), array([73231801,       52,   204665,   179839,     8988,      131,\n",
      "        1018623,      458,    29090,        1]))\n",
      "(array([ 0, 10, 30, 35, 40, 50, 60, 70, 80, 90], dtype=int16), array([68302252,       52,   204365,   178778,     8938,      132,\n",
      "        1016829,      458,    29051,        1]))\n"
     ]
    }
   ],
   "source": [
    "dict_rot_arrs = {}\n",
    "\n",
    "axes = [(0, 1), (0, 2), (1, 2)]\n",
    "for key, arrs in dict_arrs.items():\n",
    "    print(f'ARRAY TYPE : {key}')\n",
    "    if key=='distbottom':\n",
    "        cval=32501\n",
    "    else:\n",
    "        cval=0\n",
    "    arr_list = []\n",
    "    print(f'Non zero voxels before rotation : {np.sum(arrs!=cval)}')\n",
    "    for arr in tqdm(arrs):\n",
    "        arr = arr[:,:,:,0]\n",
    "        rot_arr = np.copy(arr)\n",
    "        for ax, angle in zip(axes, angles):\n",
    "            rot_arr = rotate(rot_arr,\n",
    "                                angle=angle,\n",
    "                                axes=ax,\n",
    "                                order=0,\n",
    "                                reshape=True,\n",
    "                                mode='constant',\n",
    "                                cval=cval)\n",
    "        arr_list.append(rot_arr)\n",
    "\n",
    "    rot_arrs = np.stack(arr_list)\n",
    "    print(f'Non zero voxels after rotation : {np.sum(rot_arrs!=cval)}')\n",
    "    print(f'Dimension after rotation : {rot_arrs.shape}')\n",
    "    if key=='distbottom':\n",
    "        # set 0 to vx to remove (temporarily)\n",
    "        rot_arrs[rot_arrs==0]=-1\n",
    "        rot_arrs[rot_arrs>=32500]=0\n",
    "    rot_arrs_trimmed, slices = trim_zeros(rot_arrs)\n",
    "    #rot_arrs_trimmed = rot_arrs[slices] ## use slices instead of trim_zeros !\n",
    "    if key=='distbottom':\n",
    "        rot_arrs_trimmed[rot_arrs_trimmed==0]=32501\n",
    "        rot_arrs_trimmed[rot_arrs_trimmed==-1]=0\n",
    "    print(f'Dimension after trimming : {rot_arrs_trimmed.shape}')\n",
    "    # volume ration should be < 1 !\n",
    "    print(f\"volume ratio after / before rotation : {np.prod(rot_arrs_trimmed.shape[1:]) / np.prod(arrs.shape[1:])}\")\n",
    "    # are topological values affected ?\n",
    "    print(np.unique(arrs, return_counts=True))\n",
    "    print(np.unique(rot_arrs_trimmed, return_counts=True))\n",
    "    rot_arrs_trimmed = np.expand_dims(rot_arrs_trimmed, axis=-1)\n",
    "    dict_rot_arrs[key]= rot_arrs_trimmed"
   ]
  },
  {
   "cell_type": "code",
   "execution_count": 11,
   "metadata": {},
   "outputs": [],
   "source": [
    "save_dir = f'/neurospin/dico/data/deep_folding/current/datasets/{dataset}/crops/2mm/{sulcus}/mask/'\n",
    "np.save(os.path.join(save_dir, f'{side}skeleton_rot.npy'), dict_rot_arrs['skeleton'])\n",
    "np.save(os.path.join(save_dir, f'{side}label_rot.npy'), dict_rot_arrs['foldlabel'])"
   ]
  },
  {
   "cell_type": "code",
   "execution_count": null,
   "metadata": {},
   "outputs": [],
   "source": []
  }
 ],
 "metadata": {
  "kernelspec": {
   "display_name": "venv",
   "language": "python",
   "name": "python3"
  },
  "language_info": {
   "codemirror_mode": {
    "name": "ipython",
    "version": 3
   },
   "file_extension": ".py",
   "mimetype": "text/x-python",
   "name": "python",
   "nbconvert_exporter": "python",
   "pygments_lexer": "ipython3",
   "version": "3.10.12"
  }
 },
 "nbformat": 4,
 "nbformat_minor": 2
}
