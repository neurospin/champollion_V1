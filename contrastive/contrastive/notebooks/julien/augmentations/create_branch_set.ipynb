{
 "cells": [
  {
   "cell_type": "code",
   "execution_count": 1,
   "metadata": {},
   "outputs": [
    {
     "name": "stderr",
     "output_type": "stream",
     "text": [
      "/tmp/ipykernel_194445/211197165.py:2: DeprecationWarning: \n",
      "Pyarrow will become a required dependency of pandas in the next major release of pandas (pandas 3.0),\n",
      "(to allow more performant data types, such as the Arrow string type, and better interoperability with other libraries)\n",
      "but was not found to be installed on your system.\n",
      "If this would cause problems for you,\n",
      "please provide us feedback at https://github.com/pandas-dev/pandas/issues/54466\n",
      "        \n",
      "  import pandas as pd\n"
     ]
    }
   ],
   "source": [
    "import numpy as np\n",
    "import pandas as pd\n",
    "import os\n",
    "import sparse\n",
    "from tqdm import tqdm"
   ]
  },
  {
   "cell_type": "code",
   "execution_count": 2,
   "metadata": {},
   "outputs": [],
   "source": [
    "# load foldlabel\n",
    "side = 'R'\n",
    "sulcus = 'CINGULATE.'\n",
    "foldlabel = np.load(f'/neurospin/dico/data/deep_folding/current/datasets/UkBioBank/crops/2mm/{sulcus}/mask/{side}label.npy')\n",
    "save_dir = f'/volatile/jl277509/data/UkBioBank/crops/2mm/{sulcus}/mask/{side}skeleton_sparse/branches'\n",
    "if not os.path.isdir(save_dir):\n",
    "    os.mkdir(save_dir)"
   ]
  },
  {
   "cell_type": "code",
   "execution_count": 3,
   "metadata": {},
   "outputs": [],
   "source": [
    "mini = 30\n",
    "maxi = 100"
   ]
  },
  {
   "cell_type": "code",
   "execution_count": 4,
   "metadata": {},
   "outputs": [
    {
     "name": "stderr",
     "output_type": "stream",
     "text": [
      "100%|██████████| 21045/21045 [02:23<00:00, 146.51it/s]\n"
     ]
    }
   ],
   "source": [
    "idx_glob = 0\n",
    "nb_subs = len(foldlabel)\n",
    "for n in tqdm(range(nb_subs)):\n",
    "    folds = foldlabel[n]\n",
    "    indexes =  np.unique(np.mod(folds,\n",
    "                        np.full(folds.shape, fill_value=1000)))\n",
    "    for index in indexes:\n",
    "        mask_branch = np.mod(folds,\n",
    "                            np.full(folds.shape, fill_value=1000))==index\n",
    "        s = np.sum(mask_branch)\n",
    "        if  s >= mini and s<=maxi:\n",
    "            sp = sparse.COO.from_numpy(mask_branch[:,:,:,0])\n",
    "            np.save(os.path.join(save_dir, f'branch_{idx_glob}.npy'), sp.coords)\n",
    "            idx_glob+=1"
   ]
  },
  {
   "cell_type": "code",
   "execution_count": null,
   "metadata": {},
   "outputs": [],
   "source": []
  }
 ],
 "metadata": {
  "kernelspec": {
   "display_name": "venv",
   "language": "python",
   "name": "python3"
  },
  "language_info": {
   "codemirror_mode": {
    "name": "ipython",
    "version": 3
   },
   "file_extension": ".py",
   "mimetype": "text/x-python",
   "name": "python",
   "nbconvert_exporter": "python",
   "pygments_lexer": "ipython3",
   "version": "3.10.12"
  }
 },
 "nbformat": 4,
 "nbformat_minor": 2
}
