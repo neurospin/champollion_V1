{
 "cells": [
  {
   "cell_type": "code",
   "execution_count": 1,
   "metadata": {},
   "outputs": [
    {
     "name": "stderr",
     "output_type": "stream",
     "text": [
      "/usr/lib/python3/dist-packages/scipy/__init__.py:146: UserWarning: A NumPy version >=1.17.3 and <1.25.0 is required for this version of SciPy (detected version 1.26.4\n",
      "  warnings.warn(f\"A NumPy version >={np_minversion} and <{np_maxversion}\"\n"
     ]
    }
   ],
   "source": [
    "import numpy as np\n",
    "import os\n",
    "from soma import aims\n",
    "from skimage.morphology import ball, binary_dilation"
   ]
  },
  {
   "cell_type": "code",
   "execution_count": 2,
   "metadata": {},
   "outputs": [],
   "source": [
    "class TrimEdgesTensor(object):\n",
    "    \"\"\"\n",
    "    Trim the lateral edges of the folds based on sample_extremities.\n",
    "    Parameters\n",
    "    ----------\n",
    "    p: probability to trim each branch (i.e. proportion of trimmed branches)\n",
    "    protective structure: object such as morphology.ball(n). The object\n",
    "    shape must be odd (so it has an int center).\n",
    "    arr_extremities : binary mask of the trimmed skeleton voxels.\n",
    "    \"\"\"\n",
    "\n",
    "    def __init__(self, sample_extremities, sample_foldlabel,\n",
    "                 input_size, protective_structure, p=0.5):\n",
    "        self.input_size = input_size\n",
    "        self.protective_structure = protective_structure\n",
    "        self.p = p\n",
    "        self.sample_foldlabel = sample_foldlabel\n",
    "        self.sample_extremities = sample_extremities\n",
    "    \n",
    "    def __call__(self, arr_skel):\n",
    "        arr_foldlabel = self.sample_foldlabel\n",
    "        arr_extremities = self.sample_extremities\n",
    "\n",
    "        # log.debug(f\"arr_skel.shape = {arr_skel.shape}\")\n",
    "        # log.debug(f\"arr_foldlabel.shape = {arr_foldlabel.shape}\")\n",
    "        assert (self.p >= 0)\n",
    "\n",
    "        arr_trimmed_branches = np.zeros(arr_skel.shape)\n",
    "        indexed_branches = np.mod(arr_foldlabel,\n",
    "                                np.full(arr_foldlabel.shape, fill_value=1000))\n",
    "        indexes =  np.unique(indexed_branches)\n",
    "        assert (len(indexes)>1), 'No branch in foldlabel'\n",
    "        # loop over branches\n",
    "        for index in indexes[1:]:\n",
    "            mask_branch = indexed_branches==index\n",
    "            branch = arr_skel * mask_branch\n",
    "            r = np.random.uniform()\n",
    "            if r < self.p:\n",
    "                trimmed_branch = (1-arr_extremities) * branch\n",
    "                if np.array_equal(branch!=0, trimmed_branch!=0): # nothing to trim\n",
    "                    pass\n",
    "                else:\n",
    "                    # find mass center\n",
    "                    coords = np.nonzero(branch)\n",
    "                    center = [np.mean(coords[i]) for i in range(len(coords))]\n",
    "                    center = (np.round(center)).astype(int)\n",
    "                    # branch center is protected using given structure\n",
    "                    mask_protection = np.zeros(branch.shape)\n",
    "                    slc = [slice(c-s//2,c+s//2 +1) for c,s in zip(center, self.protective_structure.shape[:3])]\n",
    "                    slc.append(slice(1))\n",
    "                    mask_protection[tuple(slc)]=self.protective_structure\n",
    "                    trimmed_branch = branch * np.logical_or(mask_protection, 1-arr_extremities)\n",
    "\n",
    "                arr_trimmed_branches += trimmed_branch\n",
    "            else:\n",
    "                arr_trimmed_branches += branch\n",
    "        arr_trimmed = arr_trimmed_branches.copy()\n",
    "\n",
    "        \n",
    "        arr_trimmed = arr_trimmed.astype('float32')\n",
    "\n",
    "        return arr_trimmed\n"
   ]
  },
  {
   "cell_type": "code",
   "execution_count": 3,
   "metadata": {},
   "outputs": [],
   "source": [
    "save_dir = '/volatile/jl277509/data/tmp/ukb'\n",
    "subject = 'sub-1000021'"
   ]
  },
  {
   "cell_type": "code",
   "execution_count": 4,
   "metadata": {},
   "outputs": [],
   "source": [
    "## load foldlabel and skeleton nifti to match trimmed shapes\n",
    "skeleton = aims.read(f'/neurospin/dico/data/deep_folding/current/datasets/UkBioBank/skeletons/raw/L/Lskeleton_generated_{subject}.nii.gz')\n",
    "foldlabel = aims.read(f'/neurospin/dico/data/deep_folding/current/datasets/UkBioBank/foldlabels/raw/L/Lfoldlabel_{subject}.nii.gz')\n",
    "trimmed = aims.read(f'/neurospin/dico/data/deep_folding/current/datasets/UkBioBank/trimmed_skeletons/L/Lextremities_{subject}.nii.gz')\n",
    "ss = aims.read(f'/neurospin/dico/data/deep_folding/current/datasets/UkBioBank/trimmed_skeletons/L/Lskeleton_ss_edges_{subject}.nii.gz')"
   ]
  },
  {
   "cell_type": "code",
   "execution_count": 5,
   "metadata": {},
   "outputs": [
    {
     "name": "stdout",
     "output_type": "stream",
     "text": [
      "(array([  0,  30,  35,  60, 100, 120], dtype=int16), array([5478346,    4527,    6669,   27811,    1724,     101]))\n",
      "(array([   0,    1,    2,    3,    4,    5,    6,    9,   10,   11,   12,\n",
      "         13,   14,   16,   18,   19,   20,   22,   23,   24,   25,   26,\n",
      "         27,   29,   30,   32,   33,   34,   35,   37,   38,   41,   43,\n",
      "         44,   46,   47,   48,   49,   50,   51,   52,   53,   55,   56,\n",
      "         57,   58,   59,   60,   63,   66,   67,   68,   70,   72,   74,\n",
      "         75,   76,   77,   78,   79,   83,   84,   85,   86,   87,   88,\n",
      "         89,   91,   92,   93,   94,   95,   96,   97,   98,   99,  100,\n",
      "        101,  102,  103,  104,  105,  106,  107,  108,  109,  110,  111,\n",
      "        112,  113,  114,  115,  116,  117,  118,  119,  121,  122,  123,\n",
      "        124,  125,  126,  128,  130,  131,  132,  133,  134,  135,  136,\n",
      "        138,  141,  142,  144,  145,  146,  149,  151,  153,  157,  159,\n",
      "        160,  163,  164,  166,  167,  168,  170,  171,  172,  173,  174,\n",
      "        175,  176,  177,  178,  179,  180,  181,  182,  183,  184,  186,\n",
      "        187,  188,  189,  190,  191,  192,  193,  194,  196,  197,  198,\n",
      "        200,  201,  202,  203,  205,  206,  207,  208,  209,  210,  211,\n",
      "        212,  214,  215,  216,  217,  218,  220,  221,  223,  224,  226,\n",
      "        227,  228,  230,  231,  235,  236,  237,  238,  239,  240,  241,\n",
      "        242,  243,  244,  247,  248,  249,  250,  251,  252,  254,  255,\n",
      "       1001, 1002, 1003, 1004, 1005, 1006, 1007, 1008, 1009, 1010, 1011,\n",
      "       1012, 1013, 1014, 1015, 1016, 1017, 1018, 1019, 1020, 1021, 1022,\n",
      "       1023, 1024, 1025, 1026, 1027, 1028, 1029, 1030, 1031, 1032, 1033,\n",
      "       1034, 1035, 1036, 1037, 1038, 1039, 1040, 1041, 1042, 1043, 1044,\n",
      "       1045, 1046, 1047, 1048, 1049, 1050, 1051, 1052, 1053, 1054, 1055,\n",
      "       1056, 1057, 1058, 1059, 1060, 1061, 1062, 1063, 1064, 1065, 1066,\n",
      "       1067, 1068, 1069, 1070, 1071, 1072, 1073, 1074, 1075, 1076, 1077,\n",
      "       1078, 1079, 1080, 1081, 1082, 1083, 1084, 1085, 1086, 1087, 1088,\n",
      "       1089, 1090, 1091, 1092, 1093, 1094, 1095, 1096, 1097, 1098, 1099,\n",
      "       1100, 1101, 1102, 1103, 1104, 1105, 1106, 1107, 1108, 1109, 1110,\n",
      "       1111, 1112, 1113, 1114, 1115, 1116, 1117, 1118, 1119, 1120, 1121,\n",
      "       1122, 1123, 1124, 1125, 1126, 1127, 1128, 1129, 1130, 1131, 1132,\n",
      "       1133, 1134, 1135, 1136, 1137, 1138, 1139, 1140, 1141, 1142, 1143,\n",
      "       1144, 1145, 1146, 1147, 1148, 1149, 1150, 1151, 1152, 1153, 1154,\n",
      "       1155, 1156, 1157, 1158, 1159, 1160, 1161, 1162, 1163, 1164, 1165,\n",
      "       1166, 1167, 1168, 1169, 1170, 1171, 1172, 1173, 1174, 1175, 1176,\n",
      "       1177, 1178, 1179, 1180, 1181, 1182, 1183, 1184, 1186, 1187, 1188,\n",
      "       1189, 1190, 1191, 1192, 1193, 1194, 1195, 1196, 1197, 1198, 1199,\n",
      "       1200, 1201, 1202, 1203, 1204, 1205, 1206, 1207, 1208, 1209, 1210,\n",
      "       1211, 1212, 1213, 1214, 1215, 1216, 1217, 1218, 1219, 1220, 1221,\n",
      "       1222, 1223, 1224, 1225, 1226, 1227, 1228, 1229, 1230, 1231, 1232,\n",
      "       1233, 1234, 1235, 1236, 1237, 1238, 1239, 1240, 1241, 1242, 1243,\n",
      "       1244, 1245, 1246, 1247, 1248, 1249, 1250, 1251, 1252, 1253, 1254,\n",
      "       1255, 5010, 5012, 5027, 5035, 5056, 5067, 5084, 5096, 5102, 5107,\n",
      "       5108, 5114, 5119, 5120, 5121, 5123, 5124, 5128, 5133, 5137, 5142,\n",
      "       5144, 5167, 5174, 5175, 5180, 5181, 5184, 5186, 5190, 5193, 5195,\n",
      "       5205, 5211, 5215, 5217, 5223, 5224, 5226, 5227, 5235, 5238, 5239,\n",
      "       5240, 5243, 5244, 5247, 5251, 6001, 6003, 6004, 6006, 6007, 6008,\n",
      "       6009, 6011, 6013, 6015, 6016, 6017, 6018, 6021, 6022, 6023, 6024,\n",
      "       6025, 6026, 6027, 6028, 6029, 6030, 6031, 6032, 6033, 6034, 6035,\n",
      "       6037, 6038, 6039, 6042, 6043, 6045, 6046, 6047, 6049, 6050, 6051,\n",
      "       6052, 6053, 6054, 6056, 6057, 6058, 6060, 6061, 6062, 6063, 6064,\n",
      "       6065, 6066, 6069, 6072, 6073, 6074, 6075, 6076, 6079, 6080, 6081,\n",
      "       6082, 6083, 6084, 6085, 6086, 6087, 6088, 6089, 6090, 6092, 6093,\n",
      "       6094, 6095, 6096, 6097, 6100, 6101, 6102, 6103, 6104, 6105, 6106,\n",
      "       6108, 6111, 6113, 6114, 6115, 6116, 6118, 6119, 6120, 6121, 6123,\n",
      "       6124, 6125, 6126, 6127, 6128, 6129, 6130, 6132, 6133, 6135, 6137,\n",
      "       6138, 6139, 6140, 6141, 6142, 6143, 6144, 6146, 6147, 6148, 6150,\n",
      "       6151, 6152, 6153, 6154, 6155, 6156, 6157, 6158, 6159, 6160, 6161,\n",
      "       6163, 6164, 6165, 6166, 6167, 6168, 6169, 6170, 6174, 6175, 6180,\n",
      "       6181, 6182, 6184, 6186, 6187, 6188, 6189, 6190, 6191, 6192, 6193,\n",
      "       6194, 6195, 6196, 6197, 6198, 6199, 6200, 6201, 6203, 6205, 6206,\n",
      "       6209, 6211, 6213, 6215, 6216, 6217, 6218, 6219, 6220, 6221, 6223,\n",
      "       6224, 6225, 6226, 6227, 6228, 6229, 6230, 6231, 6232, 6233, 6235,\n",
      "       6236, 6238, 6239, 6241, 6242, 6243, 6244, 6245, 6246, 6248, 6249,\n",
      "       6251, 6253, 7001, 7003, 7004, 7005, 7006, 7007, 7008, 7010, 7011,\n",
      "       7012, 7013, 7014, 7015, 7016, 7017, 7018, 7019, 7020, 7021, 7022,\n",
      "       7023, 7024, 7025, 7026, 7027, 7028, 7029, 7030, 7031, 7032, 7033,\n",
      "       7034, 7035, 7036, 7037, 7038, 7039, 7040, 7041, 7042, 7043, 7044,\n",
      "       7045, 7046, 7047, 7048, 7049, 7050, 7051, 7052, 7053, 7054, 7055,\n",
      "       7056, 7058, 7059, 7060, 7061, 7062, 7063, 7064, 7065, 7066, 7067,\n",
      "       7068, 7069, 7070, 7071, 7072, 7073, 7074, 7075, 7076, 7077, 7078,\n",
      "       7079, 7080, 7081, 7082, 7084, 7085, 7086, 7087, 7088, 7089, 7090,\n",
      "       7091, 7092, 7093, 7094, 7095, 7096, 7097, 7098, 7099, 7100, 7101,\n",
      "       7102, 7103, 7104, 7105, 7107, 7108, 7110, 7111, 7112, 7113, 7114,\n",
      "       7115, 7116, 7117, 7118, 7119, 7120, 7121, 7122, 7123, 7124, 7125,\n",
      "       7128, 7129, 7130, 7131, 7132, 7133, 7134, 7135, 7136, 7137, 7138,\n",
      "       7139, 7140, 7141, 7142, 7143, 7144, 7145, 7146, 7147, 7148, 7149,\n",
      "       7150, 7151, 7152, 7153, 7154, 7155, 7156, 7157, 7158, 7159, 7160,\n",
      "       7161, 7162, 7163, 7164, 7165, 7166, 7167, 7168, 7169, 7170, 7171,\n",
      "       7172, 7173, 7174, 7175, 7177, 7178, 7179, 7180, 7181, 7182, 7183,\n",
      "       7184, 7186, 7187, 7188, 7189, 7190, 7191, 7192, 7193, 7194, 7195,\n",
      "       7196, 7197, 7198, 7199, 7200, 7202, 7203, 7204, 7205, 7206, 7207,\n",
      "       7208, 7209, 7210, 7211, 7212, 7213, 7214, 7215, 7216, 7217, 7218,\n",
      "       7219, 7220, 7221, 7222, 7223, 7224, 7225, 7226, 7227, 7228, 7229,\n",
      "       7230, 7231, 7232, 7233, 7234, 7235, 7236, 7237, 7238, 7239, 7240,\n",
      "       7241, 7242, 7243, 7244, 7245, 7246, 7247, 7248, 7249, 7250, 7251,\n",
      "       7252, 7253, 7254, 7255], dtype=int16), array([5478346,       2,      24,      24,       1,      36,       2,\n",
      "             4,       1,       4,       2,       2,       5,       7,\n",
      "             3,       8,       1,       3,       6,       1,       8,\n",
      "             3,      12,       4,      18,      12,       1,       3,\n",
      "             4,       1,       1,      10,       2,      14,       1,\n",
      "             4,       2,       2,       4,       3,       3,      16,\n",
      "            12,      13,       1,      11,      26,       7,       9,\n",
      "             3,       4,       1,       5,       8,       3,       8,\n",
      "             2,       5,       2,      57,       3,       7,       5,\n",
      "             7,       2,       2,       3,       7,       9,       1,\n",
      "             1,       3,       8,       2,       6,       5,       3,\n",
      "             2,       3,       2,       7,       9,       4,       4,\n",
      "             2,       5,      12,       3,       5,       3,      15,\n",
      "            35,       2,      25,       1,       3,       5,       1,\n",
      "            11,       9,      18,      13,       1,       1,      29,\n",
      "             2,      11,       2,       4,      10,       6,       1,\n",
      "             5,       4,       2,       9,      12,       3,       2,\n",
      "           107,      15,       4,       1,       1,      17,       1,\n",
      "            10,       2,       3,       2,      12,       1,      25,\n",
      "             8,       7,       6,      63,       9,       6,       3,\n",
      "             3,      15,      24,       7,      21,       7,       3,\n",
      "             3,       2,      12,       2,      43,      15,      12,\n",
      "            27,       9,       3,       7,       9,       1,       2,\n",
      "             1,       1,       2,      13,       5,       2,       1,\n",
      "            25,      16,       5,       8,      51,      11,       5,\n",
      "             8,       6,       2,       2,       1,       4,       5,\n",
      "             1,      13,      13,      10,       2,      13,      74,\n",
      "             3,       8,       3,      20,      11,       5,      10,\n",
      "             1,      15,      32,      81,     344,      44,      39,\n",
      "           176,      33,      35,      48,      19,      47,      12,\n",
      "           161,      27,     167,      25,      38,     104,      21,\n",
      "            49,      41,      70,      46,      29,      90,      32,\n",
      "            58,      20,      92,     272,      88,     381,     297,\n",
      "            57,      21,       8,     338,       7,      13,      10,\n",
      "           103,      39,      44,     154,      73,      95,     118,\n",
      "             9,      35,      27,      50,     194,     418,      29,\n",
      "            50,       8,      21,     194,      46,     143,      30,\n",
      "            12,     226,      25,      33,      48,       9,       9,\n",
      "            17,      14,      15,     186,      20,      21,     122,\n",
      "            34,      23,      22,     523,      33,      28,      21,\n",
      "            18,     149,      50,     225,      60,      14,      36,\n",
      "             7,      49,      70,      42,      68,      56,      70,\n",
      "            12,      48,      10,     144,     331,      27,     113,\n",
      "           246,      75,      99,      34,      61,      35,      77,\n",
      "            48,      21,     106,     148,     347,      17,     334,\n",
      "            67,      21,      41,      64,      19,     798,      34,\n",
      "           568,      32,      26,     186,      12,      86,      48,\n",
      "            76,     214,      18,      42,     357,     344,     133,\n",
      "            22,      65,     477,     128,      92,     345,      21,\n",
      "            19,      13,      18,      13,     133,      13,      18,\n",
      "            21,      37,      77,      10,     489,      47,     467,\n",
      "            77,      10,       9,     184,      45,       8,     292,\n",
      "           107,      54,      16,       6,      41,       7,      63,\n",
      "           260,     616,      37,      70,      60,     131,     186,\n",
      "           263,      16,      36,     164,     193,     232,     269,\n",
      "            17,      57,     102,      40,      24,     102,      52,\n",
      "           733,      11,      34,     108,     141,      21,      20,\n",
      "            74,       8,     423,      16,      15,      12,     159,\n",
      "           120,     752,      16,      25,      11,      23,      11,\n",
      "            85,     101,      70,     511,     474,      18,     401,\n",
      "            77,      36,     104,     216,      56,      36,     299,\n",
      "            21,     165,      70,      14,      79,      23,      15,\n",
      "            23,     104,      14,      18,     476,    1069,      76,\n",
      "             7,      94,      99,      76,      70,      54,      38,\n",
      "            41,     249,      77,      25,       1,       2,       2,\n",
      "             3,       2,       1,       2,       3,       4,       1,\n",
      "             2,       1,       1,       9,       3,       3,       4,\n",
      "             3,       1,       3,       3,       1,       2,       1,\n",
      "             3,       4,       7,       3,       5,       5,       4,\n",
      "             1,       3,       6,       7,       3,       9,       2,\n",
      "             1,       2,       1,       3,       5,       1,      23,\n",
      "             3,       3,       3,      22,      92,      14,      57,\n",
      "            28,      16,      30,      14,      68,      51,      10,\n",
      "            32,      38,      27,      24,       9,      11,      53,\n",
      "            13,      14,      17,      35,      79,      44,     113,\n",
      "            92,      11,       7,     103,      13,       4,      22,\n",
      "             6,      35,      25,      50,      18,       5,      38,\n",
      "            73,     107,      24,      23,      14,      49,      46,\n",
      "            14,      20,      42,      19,      22,      56,      21,\n",
      "            44,      14,      26,      27,      17,     109,      10,\n",
      "            27,      29,       7,      56,      12,      52,      42,\n",
      "            13,       3,      10,       7,      22,      24,      18,\n",
      "             7,      30,      40,      60,       9,      43,      54,\n",
      "            31,      45,      12,      19,      48,      18,      50,\n",
      "            13,      14,      11,      19,      18,     164,      11,\n",
      "           111,      36,      19,      81,      15,      36,      13,\n",
      "            44,       9,      52,      15,      22,      26,      93,\n",
      "            12,      44,      41,       9,      11,      25,      45,\n",
      "            18,       2,      14,      22,      33,       4,      87,\n",
      "             9,      61,      25,      10,      74,      31,       8,\n",
      "            89,      25,      19,      21,      20,      62,     119,\n",
      "            68,      10,       2,       9,      40,      31,      41,\n",
      "            16,      13,      13,      12,      12,      21,      14,\n",
      "            77,      39,      22,      52,      19,      14,      48,\n",
      "            87,      20,      44,     132,      10,      12,      10,\n",
      "            25,      45,      31,      87,      52,      65,      41,\n",
      "            19,       6,       9,      28,      31,      57,       1,\n",
      "            93,      28,      28,       8,      16,      39,       9,\n",
      "            53,      91,      29,      12,      49,      33,      21,\n",
      "             6,     102,       8,      43,       1,      17,      26,\n",
      "            18,      12,      14,       7,       6,      31,       8,\n",
      "            26,       5,      18,      20,      22,      11,      16,\n",
      "            17,       3,       8,      23,       6,      13,       8,\n",
      "            16,      37,      18,      53,      52,       2,      10,\n",
      "             7,      44,       8,       9,       4,      15,      18,\n",
      "             6,      25,      20,      12,      22,       5,      12,\n",
      "             1,      26,      36,      58,       7,      20,       8,\n",
      "            22,      11,      25,      15,       9,      20,       9,\n",
      "            13,      20,       8,       6,      16,       7,      12,\n",
      "            42,       7,       7,      22,      13,      12,      11,\n",
      "            14,       4,      21,      13,      23,      14,      28,\n",
      "            21,       8,       4,       9,      16,      11,      17,\n",
      "            15,       9,      13,      10,      20,       9,      22,\n",
      "            38,       7,      16,      38,      13,      10,      11,\n",
      "             7,      10,       6,      25,      23,      27,      10,\n",
      "            31,      12,       1,       3,      12,      11,      85,\n",
      "             6,      49,      39,      10,      20,      14,      11,\n",
      "            34,      12,      17,      66,      26,      29,      13,\n",
      "            18,      36,      20,      27,      40,      10,       1,\n",
      "             5,      14,       7,      27,       7,       8,       9,\n",
      "            15,      17,       5,      47,       5,      43,      20,\n",
      "            10,       8,      46,      14,      10,      47,      18,\n",
      "             9,      12,       9,      13,       9,      28,      34,\n",
      "            51,      21,       9,      17,      28,      30,       7,\n",
      "             2,      21,      24,      20,      34,       7,       7,\n",
      "            21,       8,       2,      15,      12,      11,       9,\n",
      "             7,      28,      32,      12,      18,      10,      63,\n",
      "            12,       9,       5,      26,      53,      70,       5,\n",
      "             7,       7,       5,       4,       8,      13,      20,\n",
      "            46,      44,       6,      56,       1,      15,      18,\n",
      "            34,      12,      18,      20,      10,      43,      16,\n",
      "             7,      19,      12,       3,       1,      18,       9,\n",
      "             9,      35,      95,      20,       9,      28,      19,\n",
      "            22,      18,      25,       2,      16,      44,       1,\n",
      "             6]))\n",
      "(array([0, 1], dtype=int16), array([8682780,    2820]))\n"
     ]
    }
   ],
   "source": [
    "print(np.unique(skeleton.np, return_counts=True))\n",
    "print(np.unique(foldlabel.np, return_counts=True))\n",
    "print(np.unique(trimmed.np, return_counts=True))"
   ]
  },
  {
   "cell_type": "code",
   "execution_count": 6,
   "metadata": {},
   "outputs": [
    {
     "name": "stdout",
     "output_type": "stream",
     "text": [
      "(157, 217, 162, 1)\n",
      "[116.11848550156739, 134.07849235893417, 103.03607464733543, 0.0]\n"
     ]
    }
   ],
   "source": [
    "## pad skeleton and foldlabel to trimmed size\n",
    "shape_skel = skeleton.np.shape\n",
    "print(shape_skel)\n",
    "coords = np.nonzero(skeleton.np)\n",
    "center_skel = [np.mean(coords[i]) for i in range(len(coords))]\n",
    "print(center_skel)"
   ]
  },
  {
   "cell_type": "code",
   "execution_count": 7,
   "metadata": {},
   "outputs": [
    {
     "name": "stdout",
     "output_type": "stream",
     "text": [
      "(176, 235, 210, 1)\n",
      "[116.22329645048204, 133.85166520595968, 102.89723926380368, 0.0]\n"
     ]
    }
   ],
   "source": [
    "shape_ss = ss.np.shape\n",
    "print(shape_ss)\n",
    "coords = np.nonzero(ss.np)\n",
    "center_trimmed = [np.mean(coords[i]) for i in range(len(coords))]\n",
    "print(center_trimmed)"
   ]
  },
  {
   "cell_type": "code",
   "execution_count": 8,
   "metadata": {},
   "outputs": [],
   "source": [
    "# same gravity center => padding only on the right\n",
    "skel = np.copy(skeleton.np)\n",
    "pad_shape = ((0, shape_ss[0] - shape_skel[0]), (0, shape_ss[1] - shape_skel[1]), (0, shape_ss[2] - shape_skel[2]), (0,0))\n",
    "skel = np.pad(skel, pad_shape, constant_values=0)"
   ]
  },
  {
   "cell_type": "code",
   "execution_count": 9,
   "metadata": {},
   "outputs": [],
   "source": [
    "# same on foldlabel\n",
    "label = np.copy(foldlabel.np)\n",
    "label = np.pad(label, pad_shape, constant_values=0)"
   ]
  },
  {
   "cell_type": "code",
   "execution_count": 10,
   "metadata": {},
   "outputs": [
    {
     "name": "stdout",
     "output_type": "stream",
     "text": [
      "Voxels to trim without tops: 2820\n",
      "Voxels to trim after addig tops : 4294\n"
     ]
    }
   ],
   "source": [
    "from skimage.morphology import ball, binary_dilation\n",
    "\n",
    "# dilate trimmed voxels to encompass neighbouring top values (35)\n",
    "## two arrays required : skel (skeleton), trimmed (extremities)\n",
    "dilation_magnitude = 2\n",
    "\n",
    "print(f'Voxels to trim without tops: {np.sum(trimmed.np)}')\n",
    "trimmed_dilated = binary_dilation(trimmed.np[:,:,:,0], ball(dilation_magnitude))\n",
    "trimmed_dilated = np.expand_dims(trimmed_dilated, axis=-1)\n",
    "tops_to_trim = np.logical_and(trimmed_dilated, (skel==35))\n",
    "new_trimmed = np.logical_or(trimmed.np, tops_to_trim)\n",
    "print(f'Voxels to trim after addig tops : {np.sum(new_trimmed)}')\n",
    "trimmed.np[:]=new_trimmed"
   ]
  },
  {
   "cell_type": "code",
   "execution_count": 11,
   "metadata": {},
   "outputs": [],
   "source": [
    "proba = 0.5"
   ]
  },
  {
   "cell_type": "code",
   "execution_count": 12,
   "metadata": {},
   "outputs": [],
   "source": [
    "trimededges = TrimEdgesTensor(sample_extremities=trimmed.np,\n",
    "                            sample_foldlabel=label,\n",
    "                            input_size=(176, 235, 210, 1),\n",
    "                            protective_structure=np.expand_dims(ball(3), axis=-1),\n",
    "                            p=proba)"
   ]
  },
  {
   "cell_type": "code",
   "execution_count": 13,
   "metadata": {},
   "outputs": [],
   "source": [
    "trimmed_arr = trimededges(skel)"
   ]
  },
  {
   "cell_type": "code",
   "execution_count": 14,
   "metadata": {},
   "outputs": [
    {
     "data": {
      "text/plain": [
       "(176, 235, 210, 1)"
      ]
     },
     "execution_count": 14,
     "metadata": {},
     "output_type": "execute_result"
    }
   ],
   "source": [
    "trimmed_arr.shape"
   ]
  },
  {
   "cell_type": "code",
   "execution_count": 15,
   "metadata": {},
   "outputs": [
    {
     "name": "stdout",
     "output_type": "stream",
     "text": [
      "nb vx before trim: 40832\n",
      "nb vx after trim: 38690\n",
      "total vx trimmed: 2142\n",
      "total vx possible to trim (without protection): 4294\n"
     ]
    }
   ],
   "source": [
    "print(f'nb vx before trim: {np.sum(skel!=0)}')\n",
    "print(f'nb vx after trim: {np.sum(trimmed_arr!=0)}')\n",
    "print(f'total vx trimmed: {np.sum(skel!=0)-np.sum(trimmed_arr!=0)}')\n",
    "print(f'total vx possible to trim (without protection): {np.sum(trimmed.np)}')"
   ]
  },
  {
   "cell_type": "code",
   "execution_count": 16,
   "metadata": {},
   "outputs": [
    {
     "name": "stdout",
     "output_type": "stream",
     "text": [
      "(array([  0,  30,  35,  60, 100, 120], dtype=int16), array([8644768,    4527,    6669,   27811,    1724,     101]))\n",
      "(array([  0.,  30.,  35.,  60., 100., 120.], dtype=float32), array([8646910,    4176,    5605,   27112,    1697,     100]))\n"
     ]
    }
   ],
   "source": [
    "# check that the topoglogical values from skel are kept\n",
    "print(np.unique(skel, return_counts=True))\n",
    "print(np.unique(trimmed_arr, return_counts=True))\n",
    "# too many top values are removed because of the dilation, but it seems ok."
   ]
  },
  {
   "cell_type": "code",
   "execution_count": 17,
   "metadata": {},
   "outputs": [
    {
     "name": "stdout",
     "output_type": "stream",
     "text": [
      "(array([  0.,  30.,  35.,  60., 100., 120.], dtype=float32), array([8683458,     351,    1064,     699,      27,       1]))\n"
     ]
    }
   ],
   "source": [
    "print(np.unique(skel-trimmed_arr, return_counts=True))\n",
    "# skel and trimmed_arr have corresponding topological values"
   ]
  },
  {
   "cell_type": "code",
   "execution_count": 176,
   "metadata": {},
   "outputs": [],
   "source": [
    "ss.np[:] = trimmed_arr!=0\n",
    "aims.write(ss, os.path.join(save_dir, f'L{subject}_augm_test_proba_{proba}_tops_included.nii.gz'))"
   ]
  },
  {
   "cell_type": "code",
   "execution_count": 94,
   "metadata": {},
   "outputs": [
    {
     "data": {
      "text/plain": [
       "38012"
      ]
     },
     "execution_count": 94,
     "metadata": {},
     "output_type": "execute_result"
    }
   ],
   "source": [
    "np.sum(trimmed_arr!=0)"
   ]
  },
  {
   "cell_type": "code",
   "execution_count": 95,
   "metadata": {},
   "outputs": [
    {
     "data": {
      "text/plain": [
       "40832"
      ]
     },
     "execution_count": 95,
     "metadata": {},
     "output_type": "execute_result"
    }
   ],
   "source": [
    "np.sum(skel!=0)"
   ]
  }
 ],
 "metadata": {
  "kernelspec": {
   "display_name": "venv",
   "language": "python",
   "name": "python3"
  },
  "language_info": {
   "codemirror_mode": {
    "name": "ipython",
    "version": 3
   },
   "file_extension": ".py",
   "mimetype": "text/x-python",
   "name": "python",
   "nbconvert_exporter": "python",
   "pygments_lexer": "ipython3",
   "version": "3.10.12"
  }
 },
 "nbformat": 4,
 "nbformat_minor": 2
}
