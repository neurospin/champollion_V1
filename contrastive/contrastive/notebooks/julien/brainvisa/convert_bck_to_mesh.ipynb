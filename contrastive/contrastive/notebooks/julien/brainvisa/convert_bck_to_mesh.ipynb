{
 "cells": [
  {
   "cell_type": "code",
   "execution_count": 3,
   "metadata": {},
   "outputs": [],
   "source": [
    "import os\n",
    "from soma import aims, aimsalgo"
   ]
  },
  {
   "cell_type": "code",
   "execution_count": 10,
   "metadata": {},
   "outputs": [],
   "source": [
    "bcks_dir = [elem for elem in os.listdir('/neurospin/dico/jlaval/data/resampling/buckets/skeletonization_without_35/') if elem[-1]!='f']\n",
    "meshes_dir = '/neurospin/dico/jlaval/data/resampling/meshes/skeletonization_without_35/'\n",
    "# first convert nifti to bucket"
   ]
  },
  {
   "cell_type": "code",
   "execution_count": null,
   "metadata": {},
   "outputs": [],
   "source": [
    "for bck_dir in bcks_dir:\n",
    "    bck = aims.read(bck_dir)\n",
    "\n",
    "    mesher = aimsalgo.Mesher()\n",
    "    mesher.setVerbose(False)\n",
    "    mesher.setDecimation(100.0, 5, 3, 180.0)\n",
    "    mesher.setMinFacetNumber(50)\n",
    "    mesh = aims.AimsSurfaceTriangle()\n",
    "    # bck est le bucket a mailler\n",
    "    mesher.getBrain(bck, mesh)\n",
    "    aims.write(bck, meshes_dir+bck_dir[:-4]+'.mesh')"
   ]
  }
 ],
 "metadata": {
  "kernelspec": {
   "display_name": "venv",
   "language": "python",
   "name": "python3"
  },
  "language_info": {
   "codemirror_mode": {
    "name": "ipython",
    "version": 3
   },
   "file_extension": ".py",
   "mimetype": "text/x-python",
   "name": "python",
   "nbconvert_exporter": "python",
   "pygments_lexer": "ipython3",
   "version": "3.10.12"
  }
 },
 "nbformat": 4,
 "nbformat_minor": 2
}
