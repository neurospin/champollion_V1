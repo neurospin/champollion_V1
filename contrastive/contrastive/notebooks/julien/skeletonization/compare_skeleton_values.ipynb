{
 "cells": [
  {
   "cell_type": "code",
   "execution_count": 73,
   "metadata": {},
   "outputs": [],
   "source": [
    "import numpy as np\n",
    "import os\n",
    "import matplotlib.pyplot as plt\n",
    "import pandas as pd"
   ]
  },
  {
   "cell_type": "code",
   "execution_count": 49,
   "metadata": {},
   "outputs": [],
   "source": [
    "dir_no_classif = '/volatile/jl277509/data/UkBioBank/crops/1.5mm_no_reclassif/CINGULATE/mask/'\n",
    "dir_classif = '/volatile/jl277509/data/UkBioBank/crops/1.5mm/CINGULATE/mask/'"
   ]
  },
  {
   "cell_type": "code",
   "execution_count": 50,
   "metadata": {},
   "outputs": [],
   "source": [
    "skel_classif = np.load(dir_classif+'Rskeleton.npy')\n",
    "skel_no_classif = np.load(dir_no_classif+'Rskeleton.npy')\n",
    "distbottom_classif = np.load(dir_classif+'Rdistbottom.npy')\n",
    "distbottom_no_classif = np.load(dir_no_classif+'Rdistbottom.npy')"
   ]
  },
  {
   "cell_type": "code",
   "execution_count": 51,
   "metadata": {},
   "outputs": [
    {
     "name": "stdout",
     "output_type": "stream",
     "text": [
      "0.8816834239211637\n"
     ]
    }
   ],
   "source": [
    "\n",
    "# IOU skel\n",
    "b_sk_cl = skel_classif != 0\n",
    "b_sk_no_cl = skel_no_classif != 0\n",
    "IOU = np.sum(np.logical_and(b_sk_cl, b_sk_no_cl)) / np.sum(np.logical_or(b_sk_cl, b_sk_no_cl))\n",
    "print(IOU)"
   ]
  },
  {
   "cell_type": "code",
   "execution_count": 52,
   "metadata": {},
   "outputs": [
    {
     "data": {
      "text/plain": [
       "1.0025863907038717"
      ]
     },
     "execution_count": 52,
     "metadata": {},
     "output_type": "execute_result"
    }
   ],
   "source": [
    "# Size diff\n",
    "np.sum(b_sk_no_cl) / np.sum(b_sk_cl)\n",
    "\n",
    "#NB: more voxels without reclassif than with. Maybe because immortals list is extended ? (0.3%)"
   ]
  },
  {
   "cell_type": "code",
   "execution_count": 53,
   "metadata": {},
   "outputs": [
    {
     "data": {
      "text/plain": [
       "array([  0,  30,  35,  60, 100, 120], dtype=int16)"
      ]
     },
     "execution_count": 53,
     "metadata": {},
     "output_type": "execute_result"
    }
   ],
   "source": [
    "np.unique(skel_no_classif)"
   ]
  },
  {
   "cell_type": "code",
   "execution_count": 54,
   "metadata": {},
   "outputs": [
    {
     "name": "stdout",
     "output_type": "stream",
     "text": [
      "30: 0.9834731389425503\n",
      "35: 1.0993865942511403\n"
     ]
    }
   ],
   "source": [
    "# proportion of each topoligical value\n",
    "# the other values are not the same, it is not comparable\n",
    "topo_values = [30,  35]\n",
    "for val in topo_values:\n",
    "    print(f'{val}: {np.sum(skel_no_classif==val) / np.sum(skel_classif==val)}')\n",
    "\n",
    "# however less bottom before reclassif. Consistent with the fact that we retrieve bottom lines (2%)\n",
    "# more top before reclassif"
   ]
  },
  {
   "cell_type": "code",
   "execution_count": 55,
   "metadata": {},
   "outputs": [],
   "source": [
    "## TOO SLOW\n",
    "#d_classif_flat = distbottom_classif.flatten()\n",
    "#l_distbottom_classif = [elem for elem in d_classif_flat if elem<30000]\n",
    "#d_no_classif_flat = distbottom_no_classif.flatten()\n",
    "#l_distbottom_no_classif = [elem for elem in d_no_classif_flat if elem<30000]"
   ]
  },
  {
   "cell_type": "code",
   "execution_count": 44,
   "metadata": {},
   "outputs": [
    {
     "data": {
      "image/png": "[encoded data removed]",
      "text/plain": [
       "<Figure size 720x360 with 2 Axes>"
      ]
     },
     "metadata": {
      "needs_background": "light"
     },
     "output_type": "display_data"
    }
   ],
   "source": [
    "fig, axs = plt.subplots(figsize=(10,5), ncols=2)\n",
    "axs[0].hist(distbottom_no_classif.flatten(), range=(1000,5000))\n",
    "axs[1].hist(distbottom_classif.flatten(), range=(1000,5000))\n",
    "plt.show()"
   ]
  },
  {
   "cell_type": "code",
   "execution_count": 66,
   "metadata": {},
   "outputs": [
    {
     "data": {
      "text/plain": [
       "array([    0,    75,   106,   130,   150,   181,   205,   212,   225,\n",
       "         236,   256,   260,   280,   287,   300,   311,   318,   331,\n",
       "         335,   342,   355,   362,   366,   375,   386,   390,   393,\n",
       "         406,   410,   417,   424,   430,   437,   441,   448,   450,\n",
       "         461,   465,   468,   472,   481,   485,   492,   496,   499,\n",
       "         505,   512,   516,   520,   523,   525,   530,   536,   540,\n",
       "         543,   547,   554,   556,   560,   567,   571,   574,   578,\n",
       "         580,   587,   591,   598,   600,   602,   605,   611,   615,\n",
       "         618,   622,   626,   629,   631,   635,   642,   646,   649,\n",
       "         653,   655,   660,   662,   666,   673,   677,   680,   686,\n",
       "         693,   697,   704,   708,   717,   721,   724,   732,   748,\n",
       "         752,   755,   759,   772,   786,   803,   807, 32500, 32501],\n",
       "      dtype=int16)"
      ]
     },
     "execution_count": 66,
     "metadata": {},
     "output_type": "execute_result"
    }
   ],
   "source": [
    "np.unique(distbottom_no_classif.flatten()[:1000000])"
   ]
  },
  {
   "cell_type": "code",
   "execution_count": 74,
   "metadata": {},
   "outputs": [],
   "source": [
    "subjects = pd.read_csv(dir_classif + 'Rskeleton_subject.csv')['Subject']"
   ]
  },
  {
   "cell_type": "code",
   "execution_count": 78,
   "metadata": {},
   "outputs": [
    {
     "name": "stdout",
     "output_type": "stream",
     "text": [
      "distance to bottom 0-100 : classif : 4867956 (max: 481, subject: sub-4989927),           no classif: 4674962 (max: 386, subject: sub-4989927)          classif/no_classif : 1.0412824745955154\n",
      "distance to bottom 100-200 : classif : 3774502 (max: 573, subject: sub-4989927),           no classif: 3502217 (max: 547, subject: sub-4989927)          classif/no_classif : 1.0777464674519026\n",
      "distance to bottom 200-300 : classif : 2766937 (max: 596, subject: sub-4989927),           no classif: 2718946 (max: 653, subject: sub-4989927)          classif/no_classif : 1.0176505896034713\n",
      "distance to bottom 300-400 : classif : 1671269 (max: 445, subject: sub-4989927),           no classif: 1871597 (max: 498, subject: sub-4989927)          classif/no_classif : 0.8929641370444599\n",
      "distance to bottom 400-500 : classif : 883216 (max: 163, subject: sub-4989927),           no classif: 1094284 (max: 197, subject: sub-4989927)          classif/no_classif : 0.8071177135003345\n",
      "distance to bottom 500-600 : classif : 326684 (max: 79, subject: sub-3755758),           no classif: 429992 (max: 78, subject: sub-3755758)          classif/no_classif : 0.7597443673370667\n",
      "distance to bottom 600-700 : classif : 74359 (max: 45, subject: sub-5707941),           no classif: 101073 (max: 57, subject: sub-4215633)          classif/no_classif : 0.7356959821119389\n",
      "distance to bottom 700-800 : classif : 14088 (max: 23, subject: sub-2672313),           no classif: 19250 (max: 37, subject: sub-4215633)          classif/no_classif : 0.7318441558441559\n",
      "distance to bottom 800-900 : classif : 4397 (max: 12, subject: sub-3868319),           no classif: 5823 (max: 14, subject: sub-3868319)          classif/no_classif : 0.7551090503177057\n",
      "distance to bottom 900-1000 : classif : 2159 (max: 10, subject: sub-4665719),           no classif: 2770 (max: 12, subject: sub-1687385)          classif/no_classif : 0.7794223826714801\n",
      "distance to bottom 1000-1100 : classif : 1178 (max: 9, subject: sub-1586366),           no classif: 1552 (max: 10, subject: sub-3392201)          classif/no_classif : 0.759020618556701\n",
      "distance to bottom 1100-1200 : classif : 606 (max: 7, subject: sub-2784380),           no classif: 808 (max: 10, subject: sub-2028851)          classif/no_classif : 0.75\n",
      "distance to bottom 1200-1300 : classif : 321 (max: 6, subject: sub-1120812),           no classif: 419 (max: 14, subject: sub-5317296)          classif/no_classif : 0.766109785202864\n",
      "distance to bottom 1300-1400 : classif : 153 (max: 5, subject: sub-5949120),           no classif: 201 (max: 7, subject: sub-5317296)          classif/no_classif : 0.7611940298507462\n",
      "distance to bottom 1400-1500 : classif : 80 (max: 4, subject: sub-1900086),           no classif: 93 (max: 4, subject: sub-3805030)          classif/no_classif : 0.8602150537634409\n",
      "distance to bottom 1500-1600 : classif : 35 (max: 3, subject: sub-1524141),           no classif: 36 (max: 4, subject: sub-2799357)          classif/no_classif : 0.9722222222222222\n",
      "distance to bottom 1600-1700 : classif : 11 (max: 4, subject: sub-4777195),           no classif: 16 (max: 4, subject: sub-3257430)          classif/no_classif : 0.6875\n",
      "distance to bottom 1700-1800 : classif : 1 (max: 1, subject: sub-4046678),           no classif: 11 (max: 4, subject: sub-3257430)          classif/no_classif : 0.09090909090909091\n"
     ]
    }
   ],
   "source": [
    "rng = 1800\n",
    "step = 100\n",
    "thresholds = range(0, rng, step)\n",
    "thresholds_shiffted = range(step, rng+step, step)\n",
    "#distbottom_classif_no_outside = distbottom_classif<30000\n",
    "#distbottom_no_classif_no_outside = distbottom_no_classif<30000\n",
    "for t,t_ in zip(thresholds, thresholds_shiffted):\n",
    "\n",
    "    arr1 = np.logical_and(distbottom_classif<t_, distbottom_classif>=t)\n",
    "    n1 = np.sum(arr1)\n",
    "    max_arr1 = np.max(np.sum(arr1, axis=(1,2,3)))\n",
    "    sub_max1 = subjects[np.argmax(np.sum(arr1, axis=(1,2,3)))]\n",
    "\n",
    "    arr2 = np.logical_and(distbottom_no_classif<t_, distbottom_no_classif>=t)\n",
    "    n2 = np.sum(arr2)\n",
    "    max_arr2 = np.max(np.sum(arr2, axis=(1,2,3)))\n",
    "    sub_max2 = subjects[np.argmax(np.sum(arr2, axis=(1,2,3)))]\n",
    "\n",
    "    print(f'distance to bottom {t}-{t_} : classif : {n1} (max: {max_arr1}, subject: {sub_max1}), \\\n",
    "          no classif: {n2} (max: {max_arr2}, subject: {sub_max2})\\\n",
    "          classif/no_classif : {n1/n2}')"
   ]
  },
  {
   "cell_type": "code",
   "execution_count": 80,
   "metadata": {},
   "outputs": [],
   "source": [
    "# compare distances 1.5mm / 2mm\n",
    "# 2mm old skel vs 1.5mm newer skel without reclassif: compare 100 to 106\n",
    "a = np.load('/volatile/jl277509/data/UkBioBank/crops/1.5mm/CINGULATE/mask/Rdistbottom.npy')\n",
    "b = np.load('/volatile/jl277509/data/UkBioBank/crops/2mm/CINGULATE/mask/Rdistbottom.npy')"
   ]
  },
  {
   "cell_type": "code",
   "execution_count": 87,
   "metadata": {},
   "outputs": [
    {
     "name": "stdout",
     "output_type": "stream",
     "text": [
      "1.5mm nb voxels <= 106: 6055624, nb vx / nb bottom: 1.0842673135547396\n",
      "1.5mm nb voxels <= 100: 4674962, nb vx / nb bottom: 0.6090613434239796\n",
      "2mm nb voxels <= 100: 2934625, nb vx / nb bottom: 0.608486108796885\n"
     ]
    }
   ],
   "source": [
    "r1 = np.sum(a<=106)\n",
    "r2 = np.sum(a==0)\n",
    "print(f'1.5mm nb voxels <= 106: {r1}, nb vx / nb bottom: {(r1-r2)/r2}')\n",
    "\n",
    "r1 = np.sum(a<=100)\n",
    "r2 = np.sum(a==0)\n",
    "print(f'1.5mm nb voxels <= 100: {r1}, nb vx / nb bottom: {(r1-r2)/r2}')\n",
    "\n",
    "r1 = np.sum(b<=100)\n",
    "r2 = np.sum(b==0)\n",
    "print(f'2mm nb voxels <= 100: {r1}, nb vx / nb bottom: {(r1-r2)/r2}')"
   ]
  },
  {
   "cell_type": "code",
   "execution_count": null,
   "metadata": {},
   "outputs": [],
   "source": [
    "## CONCLUSION : KEEP DISTANCE 100 TO KEEP THE PROPORTION OF VOXELS AFFECTED"
   ]
  },
  {
   "cell_type": "code",
   "execution_count": 88,
   "metadata": {},
   "outputs": [],
   "source": [
    "# Do QC\n",
    "sk_cl  = skel_classif!=0\n",
    "size_skel = np.sum(sk_cl, axis=(1,2,3))"
   ]
  },
  {
   "cell_type": "code",
   "execution_count": 106,
   "metadata": {},
   "outputs": [],
   "source": [
    "sorted_size = list(size_skel.flatten())\n",
    "sorted_size.sort()"
   ]
  },
  {
   "cell_type": "code",
   "execution_count": 114,
   "metadata": {},
   "outputs": [
    {
     "name": "stdout",
     "output_type": "stream",
     "text": [
      "[151, 328, 379, 390, 400, 404, 408, 408, 411, 418, 419, 421, 421, 422, 424]\n",
      "[1004, 1008, 1010, 1014, 1023, 1044, 1045, 1047, 1071, 1074, 1087, 1156, 1305, 1392, 2359]\n",
      "687.0687820634619\n",
      "495.51 892.4900000000016\n"
     ]
    }
   ],
   "source": [
    "print(sorted_size[:15])\n",
    "print(sorted_size[-15:])\n",
    "print(np.mean(sorted_size))\n",
    "print(np.quantile(sorted_size,0.01), np.quantile(sorted_size,0.99))"
   ]
  },
  {
   "cell_type": "code",
   "execution_count": null,
   "metadata": {},
   "outputs": [],
   "source": []
  }
 ],
 "metadata": {
  "kernelspec": {
   "display_name": "Python 3",
   "language": "python",
   "name": "python3"
  },
  "language_info": {
   "codemirror_mode": {
    "name": "ipython",
    "version": 3
   },
   "file_extension": ".py",
   "mimetype": "text/x-python",
   "name": "python",
   "nbconvert_exporter": "python",
   "pygments_lexer": "ipython3",
   "version": "3.10.12"
  }
 },
 "nbformat": 4,
 "nbformat_minor": 2
}
