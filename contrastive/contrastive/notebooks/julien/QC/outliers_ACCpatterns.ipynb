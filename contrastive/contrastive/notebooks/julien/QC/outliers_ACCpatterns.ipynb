{
 "cells": [
  {
   "cell_type": "code",
   "execution_count": 10,
   "metadata": {},
   "outputs": [],
   "source": [
    "import numpy as np\n",
    "import os\n",
    "import pandas as pd\n",
    "import matplotlib.pyplot as plt\n",
    "from soma import aims"
   ]
  },
  {
   "cell_type": "code",
   "execution_count": 8,
   "metadata": {},
   "outputs": [],
   "source": [
    "ACC_dir = '/neurospin/dico/data/deep_folding/current/datasets/ACCpatterns/skeletons/2mm/R'\n",
    "subs = os.listdir(ACC_dir)\n",
    "subs = [sub for sub in subs if sub[-1]!='f']\n",
    "average_skel = np.zeros((96,114,96,1))\n",
    "for sub in subs:\n",
    "    vol = aims.read(os.path.join(ACC_dir, sub))\n",
    "    vol_np = vol.np\n",
    "    vol_np = vol_np != 0\n",
    "    average_skel += vol_np"
   ]
  },
  {
   "cell_type": "code",
   "execution_count": 9,
   "metadata": {},
   "outputs": [
    {
     "data": {
      "text/plain": [
       "array([  0.,   1.,   2.,   3.,   4.,   5.,   6.,   7.,   8.,   9.,  10.,\n",
       "        11.,  12.,  13.,  14.,  15.,  16.,  17.,  18.,  19.,  20.,  21.,\n",
       "        22.,  23.,  24.,  25.,  26.,  27.,  28.,  29.,  30.,  31.,  32.,\n",
       "        33.,  34.,  35.,  36.,  37.,  38.,  39.,  40.,  41.,  42.,  43.,\n",
       "        44.,  45.,  46.,  47.,  48.,  49.,  50.,  51.,  52.,  53.,  54.,\n",
       "        55.,  56.,  57.,  58.,  59.,  60.,  61.,  62.,  63.,  64.,  65.,\n",
       "        66.,  67.,  68.,  69.,  70.,  71.,  72.,  73.,  74.,  75.,  76.,\n",
       "        77.,  78.,  79.,  80.,  81.,  82.,  83.,  84.,  85.,  86.,  87.,\n",
       "        88.,  89.,  90.,  91.,  92.,  93.,  94.,  95.,  96.,  97.,  98.,\n",
       "        99., 100., 101., 102., 103., 104., 105., 106., 107., 108., 109.,\n",
       "       110., 111., 112., 113., 114., 115., 116., 117., 118., 119., 120.,\n",
       "       121., 122., 123., 124., 125., 126., 127., 128., 129., 130., 131.,\n",
       "       132., 133., 134., 135., 136., 137., 138., 139., 140., 141., 142.,\n",
       "       143., 144., 145., 146., 147., 149., 150., 151., 152., 158.])"
      ]
     },
     "execution_count": 9,
     "metadata": {},
     "output_type": "execute_result"
    }
   ],
   "source": [
    "np.unique(average_skel)"
   ]
  },
  {
   "cell_type": "code",
   "execution_count": 24,
   "metadata": {},
   "outputs": [
    {
     "data": {
      "image/png": "[encoded data removed]",
      "text/plain": [
       "<Figure size 640x480 with 1 Axes>"
      ]
     },
     "metadata": {},
     "output_type": "display_data"
    }
   ],
   "source": [
    "plt.imshow(average_skel[:,70,:,0])\n",
    "plt.show()"
   ]
  },
  {
   "cell_type": "code",
   "execution_count": 52,
   "metadata": {},
   "outputs": [],
   "source": [
    "k = 30\n",
    "masked_average = average_skel > k"
   ]
  },
  {
   "cell_type": "code",
   "execution_count": 53,
   "metadata": {},
   "outputs": [],
   "source": [
    "intersection_list = []\n",
    "for sub in subs:\n",
    "    vol = aims.read(os.path.join(ACC_dir, sub))\n",
    "    vol_np = vol.np\n",
    "    vol_np = vol_np != 0\n",
    "    intersection = np.sum(np.logical_and(masked_average, vol_np))\n",
    "    intersection_list.append(intersection)"
   ]
  },
  {
   "cell_type": "code",
   "execution_count": 54,
   "metadata": {},
   "outputs": [],
   "source": [
    "df_intersection = pd.DataFrame({'Subject': subs, 'intersection': intersection_list})\n",
    "df_intersection = df_intersection.sort_values(by='intersection')"
   ]
  },
  {
   "cell_type": "code",
   "execution_count": 57,
   "metadata": {},
   "outputs": [
    {
     "data": {
      "text/html": [
       "<div>\n",
       "<style scoped>\n",
       "    .dataframe tbody tr th:only-of-type {\n",
       "        vertical-align: middle;\n",
       "    }\n",
       "\n",
       "    .dataframe tbody tr th {\n",
       "        vertical-align: top;\n",
       "    }\n",
       "\n",
       "    .dataframe thead th {\n",
       "        text-align: right;\n",
       "    }\n",
       "</style>\n",
       "<table border=\"1\" class=\"dataframe\">\n",
       "  <thead>\n",
       "    <tr style=\"text-align: right;\">\n",
       "      <th></th>\n",
       "      <th>Subject</th>\n",
       "      <th>intersection</th>\n",
       "    </tr>\n",
       "  </thead>\n",
       "  <tbody>\n",
       "    <tr>\n",
       "      <th>98</th>\n",
       "      <td>Rresampled_skeleton_nih_chp_02373_t1.nii.gz</td>\n",
       "      <td>2689</td>\n",
       "    </tr>\n",
       "    <tr>\n",
       "      <th>199</th>\n",
       "      <td>Rresampled_skeleton_nih_chp_01211_t1.nii.gz</td>\n",
       "      <td>3308</td>\n",
       "    </tr>\n",
       "    <tr>\n",
       "      <th>90</th>\n",
       "      <td>Rresampled_skeleton_sub-active08_ses-pretraini...</td>\n",
       "      <td>4879</td>\n",
       "    </tr>\n",
       "    <tr>\n",
       "      <th>328</th>\n",
       "      <td>Rresampled_skeleton_nih_chp_03880_t1.nii.gz</td>\n",
       "      <td>5560</td>\n",
       "    </tr>\n",
       "    <tr>\n",
       "      <th>216</th>\n",
       "      <td>Rresampled_skeleton_sub-inhibition28_ses-pretr...</td>\n",
       "      <td>6144</td>\n",
       "    </tr>\n",
       "    <tr>\n",
       "      <th>126</th>\n",
       "      <td>Rresampled_skeleton_nih_chp_05185_t1.nii.gz</td>\n",
       "      <td>6523</td>\n",
       "    </tr>\n",
       "    <tr>\n",
       "      <th>166</th>\n",
       "      <td>Rresampled_skeleton_nih_chp_05041_t1.nii.gz</td>\n",
       "      <td>6599</td>\n",
       "    </tr>\n",
       "    <tr>\n",
       "      <th>329</th>\n",
       "      <td>Rresampled_skeleton_nih_chp_04816_t1.nii.gz</td>\n",
       "      <td>6601</td>\n",
       "    </tr>\n",
       "    <tr>\n",
       "      <th>238</th>\n",
       "      <td>Rresampled_skeleton_nih_chp_05284_t1.nii.gz</td>\n",
       "      <td>6887</td>\n",
       "    </tr>\n",
       "    <tr>\n",
       "      <th>94</th>\n",
       "      <td>Rresampled_skeleton_sub-active07_ses-pretraini...</td>\n",
       "      <td>6891</td>\n",
       "    </tr>\n",
       "    <tr>\n",
       "      <th>235</th>\n",
       "      <td>Rresampled_skeleton_nih_chp_03922_t1.nii.gz</td>\n",
       "      <td>6950</td>\n",
       "    </tr>\n",
       "    <tr>\n",
       "      <th>101</th>\n",
       "      <td>Rresampled_skeleton_nih_chp_04132_t1.nii.gz</td>\n",
       "      <td>7055</td>\n",
       "    </tr>\n",
       "    <tr>\n",
       "      <th>298</th>\n",
       "      <td>Rresampled_skeleton_sub-inhibition01_ses-pretr...</td>\n",
       "      <td>7073</td>\n",
       "    </tr>\n",
       "    <tr>\n",
       "      <th>121</th>\n",
       "      <td>Rresampled_skeleton_nih_chp_01217_t1.nii.gz</td>\n",
       "      <td>7122</td>\n",
       "    </tr>\n",
       "    <tr>\n",
       "      <th>64</th>\n",
       "      <td>Rresampled_skeleton_nih_chp_02563_t1.nii.gz</td>\n",
       "      <td>7242</td>\n",
       "    </tr>\n",
       "    <tr>\n",
       "      <th>196</th>\n",
       "      <td>Rresampled_skeleton_nih_chp_04963_t1.nii.gz</td>\n",
       "      <td>7348</td>\n",
       "    </tr>\n",
       "    <tr>\n",
       "      <th>110</th>\n",
       "      <td>Rresampled_skeleton_nih_chp_05293_t1.nii.gz</td>\n",
       "      <td>7359</td>\n",
       "    </tr>\n",
       "    <tr>\n",
       "      <th>36</th>\n",
       "      <td>Rresampled_skeleton_nih_chp_05505_t1.nii.gz</td>\n",
       "      <td>7373</td>\n",
       "    </tr>\n",
       "    <tr>\n",
       "      <th>204</th>\n",
       "      <td>Rresampled_skeleton_nih_chp_02307_t1.nii.gz</td>\n",
       "      <td>7420</td>\n",
       "    </tr>\n",
       "    <tr>\n",
       "      <th>53</th>\n",
       "      <td>Rresampled_skeleton_nih_chp_01746_t1.nii.gz</td>\n",
       "      <td>7431</td>\n",
       "    </tr>\n",
       "    <tr>\n",
       "      <th>198</th>\n",
       "      <td>Rresampled_skeleton_nih_chp_05167_t1.nii.gz</td>\n",
       "      <td>7501</td>\n",
       "    </tr>\n",
       "    <tr>\n",
       "      <th>47</th>\n",
       "      <td>Rresampled_skeleton_nih_chp_02874_t1.nii.gz</td>\n",
       "      <td>7523</td>\n",
       "    </tr>\n",
       "    <tr>\n",
       "      <th>260</th>\n",
       "      <td>Rresampled_skeleton_nih_chp_04667_t1.nii.gz</td>\n",
       "      <td>7608</td>\n",
       "    </tr>\n",
       "    <tr>\n",
       "      <th>254</th>\n",
       "      <td>Rresampled_skeleton_nih_chp_05330_t1.nii.gz</td>\n",
       "      <td>7722</td>\n",
       "    </tr>\n",
       "    <tr>\n",
       "      <th>195</th>\n",
       "      <td>Rresampled_skeleton_nih_chp_01348_t1.nii.gz</td>\n",
       "      <td>7800</td>\n",
       "    </tr>\n",
       "    <tr>\n",
       "      <th>168</th>\n",
       "      <td>Rresampled_skeleton_sub-active13_ses-pretraini...</td>\n",
       "      <td>7809</td>\n",
       "    </tr>\n",
       "    <tr>\n",
       "      <th>37</th>\n",
       "      <td>Rresampled_skeleton_nih_chp_05404_t1.nii.gz</td>\n",
       "      <td>7867</td>\n",
       "    </tr>\n",
       "    <tr>\n",
       "      <th>252</th>\n",
       "      <td>Rresampled_skeleton_nih_chp_04579_t1.nii.gz</td>\n",
       "      <td>7897</td>\n",
       "    </tr>\n",
       "    <tr>\n",
       "      <th>219</th>\n",
       "      <td>Rresampled_skeleton_nih_chp_04778_t1.nii.gz</td>\n",
       "      <td>7940</td>\n",
       "    </tr>\n",
       "    <tr>\n",
       "      <th>31</th>\n",
       "      <td>Rresampled_skeleton_nih_chp_05234_t1.nii.gz</td>\n",
       "      <td>7940</td>\n",
       "    </tr>\n",
       "    <tr>\n",
       "      <th>78</th>\n",
       "      <td>Rresampled_skeleton_nih_chp_05116_t1.nii.gz</td>\n",
       "      <td>7979</td>\n",
       "    </tr>\n",
       "    <tr>\n",
       "      <th>332</th>\n",
       "      <td>Rresampled_skeleton_nih_chp_05537_t1.nii.gz</td>\n",
       "      <td>8001</td>\n",
       "    </tr>\n",
       "    <tr>\n",
       "      <th>323</th>\n",
       "      <td>Rresampled_skeleton_nih_chp_02949_t1.nii.gz</td>\n",
       "      <td>8022</td>\n",
       "    </tr>\n",
       "    <tr>\n",
       "      <th>308</th>\n",
       "      <td>Rresampled_skeleton_nih_chp_03202_t1.nii.gz</td>\n",
       "      <td>8071</td>\n",
       "    </tr>\n",
       "    <tr>\n",
       "      <th>30</th>\n",
       "      <td>Rresampled_skeleton_nih_chp_05776_t1.nii.gz</td>\n",
       "      <td>8109</td>\n",
       "    </tr>\n",
       "    <tr>\n",
       "      <th>24</th>\n",
       "      <td>Rresampled_skeleton_nih_chp_04766_t1.nii.gz</td>\n",
       "      <td>8117</td>\n",
       "    </tr>\n",
       "    <tr>\n",
       "      <th>93</th>\n",
       "      <td>Rresampled_skeleton_nih_chp_04854_t1.nii.gz</td>\n",
       "      <td>8148</td>\n",
       "    </tr>\n",
       "    <tr>\n",
       "      <th>272</th>\n",
       "      <td>Rresampled_skeleton_nih_chp_04910_t1.nii.gz</td>\n",
       "      <td>8173</td>\n",
       "    </tr>\n",
       "    <tr>\n",
       "      <th>324</th>\n",
       "      <td>Rresampled_skeleton_nih_chp_05376_t1.nii.gz</td>\n",
       "      <td>8173</td>\n",
       "    </tr>\n",
       "    <tr>\n",
       "      <th>207</th>\n",
       "      <td>Rresampled_skeleton_nih_chp_05595_t1.nii.gz</td>\n",
       "      <td>8173</td>\n",
       "    </tr>\n",
       "  </tbody>\n",
       "</table>\n",
       "</div>"
      ],
      "text/plain": [
       "                                               Subject  intersection\n",
       "98         Rresampled_skeleton_nih_chp_02373_t1.nii.gz          2689\n",
       "199        Rresampled_skeleton_nih_chp_01211_t1.nii.gz          3308\n",
       "90   Rresampled_skeleton_sub-active08_ses-pretraini...          4879\n",
       "328        Rresampled_skeleton_nih_chp_03880_t1.nii.gz          5560\n",
       "216  Rresampled_skeleton_sub-inhibition28_ses-pretr...          6144\n",
       "126        Rresampled_skeleton_nih_chp_05185_t1.nii.gz          6523\n",
       "166        Rresampled_skeleton_nih_chp_05041_t1.nii.gz          6599\n",
       "329        Rresampled_skeleton_nih_chp_04816_t1.nii.gz          6601\n",
       "238        Rresampled_skeleton_nih_chp_05284_t1.nii.gz          6887\n",
       "94   Rresampled_skeleton_sub-active07_ses-pretraini...          6891\n",
       "235        Rresampled_skeleton_nih_chp_03922_t1.nii.gz          6950\n",
       "101        Rresampled_skeleton_nih_chp_04132_t1.nii.gz          7055\n",
       "298  Rresampled_skeleton_sub-inhibition01_ses-pretr...          7073\n",
       "121        Rresampled_skeleton_nih_chp_01217_t1.nii.gz          7122\n",
       "64         Rresampled_skeleton_nih_chp_02563_t1.nii.gz          7242\n",
       "196        Rresampled_skeleton_nih_chp_04963_t1.nii.gz          7348\n",
       "110        Rresampled_skeleton_nih_chp_05293_t1.nii.gz          7359\n",
       "36         Rresampled_skeleton_nih_chp_05505_t1.nii.gz          7373\n",
       "204        Rresampled_skeleton_nih_chp_02307_t1.nii.gz          7420\n",
       "53         Rresampled_skeleton_nih_chp_01746_t1.nii.gz          7431\n",
       "198        Rresampled_skeleton_nih_chp_05167_t1.nii.gz          7501\n",
       "47         Rresampled_skeleton_nih_chp_02874_t1.nii.gz          7523\n",
       "260        Rresampled_skeleton_nih_chp_04667_t1.nii.gz          7608\n",
       "254        Rresampled_skeleton_nih_chp_05330_t1.nii.gz          7722\n",
       "195        Rresampled_skeleton_nih_chp_01348_t1.nii.gz          7800\n",
       "168  Rresampled_skeleton_sub-active13_ses-pretraini...          7809\n",
       "37         Rresampled_skeleton_nih_chp_05404_t1.nii.gz          7867\n",
       "252        Rresampled_skeleton_nih_chp_04579_t1.nii.gz          7897\n",
       "219        Rresampled_skeleton_nih_chp_04778_t1.nii.gz          7940\n",
       "31         Rresampled_skeleton_nih_chp_05234_t1.nii.gz          7940\n",
       "78         Rresampled_skeleton_nih_chp_05116_t1.nii.gz          7979\n",
       "332        Rresampled_skeleton_nih_chp_05537_t1.nii.gz          8001\n",
       "323        Rresampled_skeleton_nih_chp_02949_t1.nii.gz          8022\n",
       "308        Rresampled_skeleton_nih_chp_03202_t1.nii.gz          8071\n",
       "30         Rresampled_skeleton_nih_chp_05776_t1.nii.gz          8109\n",
       "24         Rresampled_skeleton_nih_chp_04766_t1.nii.gz          8117\n",
       "93         Rresampled_skeleton_nih_chp_04854_t1.nii.gz          8148\n",
       "272        Rresampled_skeleton_nih_chp_04910_t1.nii.gz          8173\n",
       "324        Rresampled_skeleton_nih_chp_05376_t1.nii.gz          8173\n",
       "207        Rresampled_skeleton_nih_chp_05595_t1.nii.gz          8173"
      ]
     },
     "execution_count": 57,
     "metadata": {},
     "output_type": "execute_result"
    }
   ],
   "source": [
    "df_intersection[:40]"
   ]
  },
  {
   "cell_type": "code",
   "execution_count": 56,
   "metadata": {},
   "outputs": [
    {
     "data": {
      "image/png": "[encoded data removed]",
      "text/plain": [
       "<Figure size 640x480 with 1 Axes>"
      ]
     },
     "metadata": {},
     "output_type": "display_data"
    }
   ],
   "source": [
    "plt.hist(df_intersection['intersection'])\n",
    "plt.show()"
   ]
  },
  {
   "cell_type": "code",
   "execution_count": 91,
   "metadata": {},
   "outputs": [],
   "source": [
    "subjects = df_intersection['Subject'].to_list()[10:]\n",
    "subjects = [sub[20:-7] for sub in subjects]"
   ]
  },
  {
   "cell_type": "code",
   "execution_count": 92,
   "metadata": {},
   "outputs": [],
   "source": [
    "# filter train val test\n",
    "train_subs = pd.read_csv('/neurospin/dico/data/deep_folding/current/datasets/ACCpatterns/train_val_test/ACCpatterns_subjects_train.csv', header=None)\n",
    "val_subs = pd.read_csv('/neurospin/dico/data/deep_folding/current/datasets/ACCpatterns/train_val_test/ACCpatterns_subjects_val.csv', header=None)\n",
    "test_subs = pd.read_csv('/neurospin/dico/data/deep_folding/current/datasets/ACCpatterns/train_val_test/ACCpatterns_subjects_test.csv', header=None)"
   ]
  },
  {
   "cell_type": "code",
   "execution_count": 93,
   "metadata": {},
   "outputs": [],
   "source": [
    "filtered_train = train_subs[train_subs[0].isin(subjects)]\n",
    "filtered_val = val_subs[val_subs[0].isin(subjects)]\n",
    "filtered_test = test_subs[test_subs[0].isin(subjects)]"
   ]
  },
  {
   "cell_type": "code",
   "execution_count": 94,
   "metadata": {},
   "outputs": [
    {
     "name": "stdout",
     "output_type": "stream",
     "text": [
      "239 34 68\n",
      "233 34 66\n"
     ]
    }
   ],
   "source": [
    "print(len(train_subs), len(val_subs), len(test_subs))\n",
    "print(len(filtered_train), len(filtered_val), len(filtered_test))"
   ]
  },
  {
   "cell_type": "code",
   "execution_count": 95,
   "metadata": {},
   "outputs": [],
   "source": [
    "filtered_train.to_csv('/neurospin/dico/data/deep_folding/current/datasets/ACCpatterns/train_val_test/ACCpatterns_subjects_filtered_train.csv', header=None, index=None)\n",
    "filtered_val.to_csv('/neurospin/dico/data/deep_folding/current/datasets/ACCpatterns/train_val_test/ACCpatterns_subjects_filtered_val.csv', header=None, index=None)\n",
    "filtered_test.to_csv('/neurospin/dico/data/deep_folding/current/datasets/ACCpatterns/train_val_test/ACCpatterns_subjects_filtered_test.csv', header=None, index=None)"
   ]
  },
  {
   "cell_type": "code",
   "execution_count": null,
   "metadata": {},
   "outputs": [],
   "source": []
  }
 ],
 "metadata": {
  "kernelspec": {
   "display_name": "venv",
   "language": "python",
   "name": "python3"
  },
  "language_info": {
   "codemirror_mode": {
    "name": "ipython",
    "version": 3
   },
   "file_extension": ".py",
   "mimetype": "text/x-python",
   "name": "python",
   "nbconvert_exporter": "python",
   "pygments_lexer": "ipython3",
   "version": "3.10.12"
  }
 },
 "nbformat": 4,
 "nbformat_minor": 2
}
