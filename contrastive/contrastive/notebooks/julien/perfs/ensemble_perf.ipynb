{
 "cells": [
  {
   "cell_type": "markdown",
   "metadata": {},
   "source": [
    "Average predictions across models to increase performances"
   ]
  },
  {
   "cell_type": "code",
   "execution_count": 2,
   "metadata": {},
   "outputs": [],
   "source": [
    "import numpy as np\n",
    "import os\n",
    "import pandas as pd\n",
    "from sklearn.metrics import roc_auc_score"
   ]
  },
  {
   "cell_type": "code",
   "execution_count": 65,
   "metadata": {},
   "outputs": [
    {
     "name": "stdout",
     "output_type": "stream",
     "text": [
      "0 0.8099557522123894\n",
      "10 0.8482853982300884\n",
      "20 0.8597898230088497\n",
      "30 0.8595132743362832\n",
      "40 0.8622234513274336\n",
      "50 0.8660951327433628\n",
      "60 0.8689712389380531\n",
      "70 0.8646017699115045\n",
      "80 0.8658185840707964\n",
      "90 0.8648230088495574\n",
      "100 0.8686393805309734\n"
     ]
    }
   ],
   "source": [
    "output_dir = '/volatile/jl277509/Runs/02_STS_babies/Program/Output/'\n",
    "#models_dir = 'CINGULATE_SELECTED_1-5MM'\n",
    "models_dir = 'ensemble_PCS'\n",
    "models_dir = os.path.join(output_dir, models_dir)\n",
    "#models = [f'14-17-27_{k}' for k in range(4)]\n",
    "models = [f'19-10-23_{k}' for k in range(50)]\n",
    "label = 'Right_PCS'\n",
    "to_keep = 'mean_pred' # accross the 5 SVC\n",
    "epochs = range(0,110,10)\n",
    "for epoch in epochs:\n",
    "    preds_dir = f'ACC_custom_epoch{epoch}_embeddings/{label}/test_predicted_probas.csv'\n",
    "    #preds_dir = 'ACC_1_epoch240_embeddings/Right_PCS/train_val_predicted_probas.csv'\n",
    "\n",
    "    Y_list = []\n",
    "    for model in models:\n",
    "        preds = pd.read_csv(os.path.join(models_dir, model, preds_dir))\n",
    "        Y = preds[['label', to_keep]].to_numpy()\n",
    "        Y_list.append(Y)\n",
    "    Y_pred = np.mean([Y[:, 1] for Y in Y_list], axis=0)\n",
    "    Y_true = Y_list[0][:, 0]\n",
    "    print(epoch, roc_auc_score(Y_true, Y_pred))"
   ]
  },
  {
   "cell_type": "code",
   "execution_count": 59,
   "metadata": {},
   "outputs": [
    {
     "name": "stdout",
     "output_type": "stream",
     "text": [
      "19-10-23_0 0.835508849557522\n",
      "19-10-23_1 0.8274889380530974\n",
      "19-10-23_2 0.8514380530973451\n",
      "19-10-23_3 0.8403761061946903\n",
      "19-10-23_4 0.8601769911504424\n",
      "19-10-23_5 0.8642146017699115\n",
      "19-10-23_6 0.8420907079646017\n",
      "19-10-23_7 0.8600110619469027\n",
      "19-10-23_8 0.8327433628318585\n",
      "19-10-23_9 0.860896017699115\n",
      "19-10-23_10 0.8245022123893806\n",
      "19-10-23_11 0.85625\n",
      "19-10-23_12 0.8429203539823008\n",
      "19-10-23_13 0.8592920353982301\n",
      "19-10-23_14 0.8601769911504424\n",
      "19-10-23_15 0.8768805309734514\n",
      "19-10-23_16 0.8355641592920353\n",
      "19-10-23_17 0.8266592920353982\n",
      "19-10-23_18 0.826825221238938\n",
      "19-10-23_19 0.8043694690265486\n",
      "19-10-23_20 0.8384402654867256\n",
      "19-10-23_21 0.8337389380530974\n",
      "19-10-23_22 0.8284845132743363\n",
      "19-10-23_23 0.8384402654867256\n",
      "19-10-23_24 0.8629424778761061\n",
      "19-10-23_25 0.8299778761061947\n",
      "19-10-23_26 0.8511061946902654\n",
      "19-10-23_27 0.8606747787610618\n",
      "19-10-23_28 0.8495022123893805\n",
      "19-10-23_29 0.7971792035398231\n",
      "19-10-23_30 0.848174778761062\n",
      "19-10-23_31 0.8710730088495575\n",
      "19-10-23_32 0.8428650442477876\n",
      "19-10-23_33 0.8749446902654867\n",
      "19-10-23_34 0.8402654867256637\n",
      "19-10-23_35 0.8593473451327432\n",
      "19-10-23_36 0.8636615044247787\n",
      "19-10-23_37 0.8517699115044247\n",
      "19-10-23_38 0.8390486725663716\n",
      "19-10-23_39 0.836725663716814\n",
      "19-10-23_40 0.845353982300885\n",
      "19-10-23_41 0.8470132743362832\n",
      "19-10-23_42 0.8396017699115045\n",
      "19-10-23_43 0.8479535398230088\n",
      "19-10-23_44 0.8446349557522124\n",
      "19-10-23_45 0.866316371681416\n",
      "19-10-23_46 0.8277654867256637\n",
      "19-10-23_47 0.8301991150442479\n",
      "19-10-23_48 0.8439712389380531\n",
      "19-10-23_49 0.8273783185840708\n"
     ]
    }
   ],
   "source": [
    "for k, model in enumerate(models):\n",
    "    print(model, roc_auc_score(Y_list[k][:, 0], Y_list[k][:, 1]))"
   ]
  },
  {
   "cell_type": "code",
   "execution_count": 60,
   "metadata": {},
   "outputs": [
    {
     "data": {
      "text/plain": [
       "0.8686393805309734"
      ]
     },
     "execution_count": 60,
     "metadata": {},
     "output_type": "execute_result"
    }
   ],
   "source": []
  },
  {
   "cell_type": "code",
   "execution_count": 47,
   "metadata": {},
   "outputs": [
    {
     "name": "stdout",
     "output_type": "stream",
     "text": [
      "[101,101,101,101,101,101,101,101,101,101,101,101,101,101,101,101,101,101,101,101,101,101,101,101,101,101,101,101,101,101,101,101,101,101,101,101,101,101,101,101,101,101,101,101,101,101,101,101,101,101]\n"
     ]
    }
   ],
   "source": [
    "print(str([101 for k in range(50)]).replace(' ', ''))"
   ]
  },
  {
   "cell_type": "code",
   "execution_count": 49,
   "metadata": {},
   "outputs": [
    {
     "name": "stdout",
     "output_type": "stream",
     "text": [
      "0.7962077161989364\n"
     ]
    }
   ],
   "source": [
    "# OFC\n",
    "output_dir = '/volatile/jl277509/Runs/02_STS_babies/Program/Output/'\n",
    "models_dir = 'ORBITAL_12-layer_k7'\n",
    "models_dir = os.path.join(output_dir, models_dir)\n",
    "models = [f'20-56-02_{k}' for k in range(4)] + ['16-19-26_238']\n",
    "label = 'Left_OFC'\n",
    "preds_dir = f'troiani_custom_embeddings/{label}/test_probas_pred_0.csv'\n",
    "\n",
    "Y_list = []\n",
    "for model in models:\n",
    "    preds = pd.read_csv(os.path.join(models_dir, model, preds_dir))\n",
    "    Y_list.append(preds)\n",
    "Y_pred = np.mean(Y_list, axis=0)[:,1:]\n",
    "#Y_pred = np.mean([Y[:, 1] for Y in Y_list], axis=0)\n",
    "Y_true = pd.read_csv('/neurospin/dico/data/deep_folding/current/datasets/hcp/hcp_OFC_labels.csv', usecols=['Subject', label])\n",
    "Y_subs = pd.read_csv('/neurospin/dico/data/deep_folding/current/datasets/hcp/union_custom_splits_train_val.csv', header=None)\n",
    "Y_true = Y_true[Y_true['Subject'].isin(Y_subs[0])][label]\n",
    "Y_true = [y-1 for y in Y_true]\n",
    "print(roc_auc_score(Y_true, Y_pred, multi_class='ovr', average='weighted'))"
   ]
  },
  {
   "cell_type": "code",
   "execution_count": null,
   "metadata": {},
   "outputs": [],
   "source": []
  }
 ],
 "metadata": {
  "kernelspec": {
   "display_name": "venv",
   "language": "python",
   "name": "python3"
  },
  "language_info": {
   "codemirror_mode": {
    "name": "ipython",
    "version": 3
   },
   "file_extension": ".py",
   "mimetype": "text/x-python",
   "name": "python",
   "nbconvert_exporter": "python",
   "pygments_lexer": "ipython3",
   "version": "3.10.12"
  }
 },
 "nbformat": 4,
 "nbformat_minor": 2
}
