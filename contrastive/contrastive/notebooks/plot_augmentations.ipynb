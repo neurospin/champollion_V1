{
 "cells": [
  {
   "attachments": {},
   "cell_type": "markdown",
   "metadata": {},
   "source": [
    "Plots augmentations for MLCN article"
   ]
  },
  {
   "cell_type": "code",
   "execution_count": 1,
   "metadata": {},
   "outputs": [
    {
     "name": "stderr",
     "output_type": "stream",
     "text": [
      "INFO:numexpr.utils: Note: NumExpr detected 48 cores but \"NUMEXPR_MAX_THREADS\" not set, so enforcing safe limit of 8.\n",
      "INFO:numexpr.utils: NumExpr defaulting to 8 threads.\n"
     ]
    }
   ],
   "source": [
    "from soma import aims\n",
    "import numpy as np\n",
    "import torch\n",
    "\n",
    "from contrastive.augmentations import RemoveRandomBranchTensor, PartialCutOutTensor_Roll"
   ]
  },
  {
   "attachments": {},
   "cell_type": "markdown",
   "metadata": {},
   "source": [
    "# Plots data without augmentation"
   ]
  },
  {
   "cell_type": "code",
   "execution_count": 2,
   "metadata": {},
   "outputs": [],
   "source": [
    "vol = aims.read(\"/neurospin/dico/data/deep_folding/current/datasets/hcp/crops/2mm/CINGULATE/mask/Rlabels/103010_cropped_foldlabel.nii.gz\")\n",
    "skel = aims.read(\"/neurospin/dico/data/deep_folding/current/datasets/hcp/crops/2mm/CINGULATE/mask/Rcrops/103010_cropped_skeleton.nii.gz\")"
   ]
  },
  {
   "cell_type": "code",
   "execution_count": 3,
   "metadata": {},
   "outputs": [
    {
     "data": {
      "text/plain": [
       "(array([   0,  212, 1001, 1005, 1061, 1079, 1089, 1104, 1132, 1154, 1166,\n",
       "        1207, 1214, 1226, 1249, 1257, 1298, 1310, 1323, 1327, 1345, 2001,\n",
       "        2005, 2061, 2062, 2079, 2089, 2104, 2154, 2166, 2181, 2207, 2214,\n",
       "        2226, 2249, 2257, 2298, 2310, 2323, 2342, 2345, 3259, 3357, 3365,\n",
       "        3372, 3739, 3754, 3864, 4108, 4117, 4370, 4375, 4376, 4382, 4383,\n",
       "        4390, 4407, 4600, 4686, 4916, 5349, 5361], dtype=int16),\n",
       " array([24890,     1,    21,   107,    15,    54,     4,    39,     2,\n",
       "           36,    45,     3,     8,    18,    12,    10,    17,     3,\n",
       "           23,     1,   116,     9,    30,     7,     1,    19,     4,\n",
       "           18,    17,    13,     1,     8,    12,    16,     9,     6,\n",
       "            6,     5,     7,     8,    24,     3,    17,     7,    17,\n",
       "           28,     6,    10,     9,     4,    15,    31,     3,    14,\n",
       "           20,     4,     1,     1,     1,     2,     1,     1]))"
      ]
     },
     "execution_count": 3,
     "metadata": {},
     "output_type": "execute_result"
    }
   ],
   "source": [
    "np.unique(vol.np, return_counts=True)"
   ]
  },
  {
   "cell_type": "code",
   "execution_count": 4,
   "metadata": {},
   "outputs": [],
   "source": [
    "arr_foldlabel = vol.np"
   ]
  },
  {
   "cell_type": "code",
   "execution_count": 5,
   "metadata": {},
   "outputs": [
    {
     "data": {
      "text/plain": [
       "(array([  0,  30,  60, 110], dtype=int16), array([24986,   229,   618,     7]))"
      ]
     },
     "execution_count": 5,
     "metadata": {},
     "output_type": "execute_result"
    }
   ],
   "source": [
    "np.unique(skel.np, return_counts=True)"
   ]
  },
  {
   "cell_type": "code",
   "execution_count": 6,
   "metadata": {},
   "outputs": [],
   "source": [
    "%rm /tmp/bck_*.bck"
   ]
  },
  {
   "cell_type": "code",
   "execution_count": 7,
   "metadata": {},
   "outputs": [],
   "source": [
    "random_colors = np.random.random((3,10000))"
   ]
  },
  {
   "cell_type": "code",
   "execution_count": 8,
   "metadata": {},
   "outputs": [],
   "source": [
    "def colorize(k, max=410., r = random_colors):\n",
    "    if k//1000 == 1: # surface simple\n",
    "        # print(k%1000)\n",
    "        return [r[0,k], r[1,k], r[2,k], 1]\n",
    "    elif k//1000 == 2: # bottom\n",
    "        return [r[0,k], 0, 0, 1]\n",
    "    # elif k//1000 == 3:\n",
    "    #     return [k%1000 / max, 0, 0, 1]\n",
    "    # elif k//1000 == 4: # bottom\n",
    "    #     return [k%1000 / max, 0, 0, 1]\n",
    "    else:\n",
    "        return [r[0,k], r[1,k], r[2,k], 1]"
   ]
  },
  {
   "cell_type": "code",
   "execution_count": 9,
   "metadata": {},
   "outputs": [],
   "source": [
    "def colorize_skel(k):\n",
    "    if k == 30: # surface simple\n",
    "        return [1, 0, 0, 1]\n",
    "    elif k == 60:\n",
    "        return [0, 0, 1, 1]\n",
    "    else:\n",
    "        return [0, 1, 0, 1]"
   ]
  },
  {
   "cell_type": "code",
   "execution_count": 10,
   "metadata": {},
   "outputs": [],
   "source": [
    "def bucketize_foldlabel(vol, root='bck'):\n",
    "    c = aims.RawConverter_rc_ptr_Volume_S16_BucketMap_VOID(True)\n",
    "    bck = aims.BucketMap()\n",
    "    c.convert(vol, bck)\n",
    "    for k in bck.keys():\n",
    "        b2 = aims.BucketMap()\n",
    "        b2.header().update(bck.header())\n",
    "        b2[0] = bck[k]\n",
    "        b2.header()['material'] = {'diffuse': colorize(k)}\n",
    "        aims.write(b2, f\"/tmp/{root}_{k}.bck\")   "
   ]
  },
  {
   "cell_type": "code",
   "execution_count": 11,
   "metadata": {},
   "outputs": [],
   "source": [
    "\n",
    "def bucketize_skeleton(skel, root='bck_skel'):\n",
    "    c = aims.RawConverter_rc_ptr_Volume_S16_BucketMap_VOID(True)\n",
    "    bck_skel = aims.BucketMap()\n",
    "    c.convert(skel, bck_skel)\n",
    "    \n",
    "    for k in bck_skel.keys():\n",
    "        b2 = aims.BucketMap()\n",
    "        b2.header().update(bck_skel.header())\n",
    "        b2[0] = bck_skel[k]\n",
    "        b2.header()['material'] = {'diffuse': colorize_skel(k)}\n",
    "        aims.write(b2, f\"/tmp/{root}_{k}.bck\")\n",
    "    "
   ]
  },
  {
   "cell_type": "code",
   "execution_count": 12,
   "metadata": {},
   "outputs": [],
   "source": [
    "bucketize_foldlabel(vol)\n"
   ]
  },
  {
   "cell_type": "code",
   "execution_count": 13,
   "metadata": {},
   "outputs": [],
   "source": [
    "bucketize_skeleton(skel)"
   ]
  },
  {
   "attachments": {},
   "cell_type": "markdown",
   "metadata": {},
   "source": [
    "# Plots data with foldlabel augmentation"
   ]
  },
  {
   "cell_type": "code",
   "execution_count": 14,
   "metadata": {},
   "outputs": [
    {
     "data": {
      "text/plain": [
       "(17, 40, 38, 1)"
      ]
     },
     "execution_count": 14,
     "metadata": {},
     "output_type": "execute_result"
    }
   ],
   "source": [
    "vol.shape"
   ]
  },
  {
   "cell_type": "code",
   "execution_count": 15,
   "metadata": {},
   "outputs": [],
   "source": [
    "branch_clipping = RemoveRandomBranchTensor(torch.from_numpy(vol.np), 40, (17,40,38,1), True, False)"
   ]
  },
  {
   "cell_type": "code",
   "execution_count": 16,
   "metadata": {},
   "outputs": [],
   "source": [
    "branch_clipped = branch_clipping(torch.from_numpy(skel.np))"
   ]
  },
  {
   "cell_type": "code",
   "execution_count": 17,
   "metadata": {},
   "outputs": [
    {
     "data": {
      "text/plain": [
       "(array([  0.,  30.,  60., 110.], dtype=float32),\n",
       " array([25415,     7,   411,     7]))"
      ]
     },
     "execution_count": 17,
     "metadata": {},
     "output_type": "execute_result"
    }
   ],
   "source": [
    "np.unique(branch_clipped.numpy(), return_counts=True)"
   ]
  },
  {
   "cell_type": "code",
   "execution_count": 18,
   "metadata": {},
   "outputs": [
    {
     "data": {
      "text/plain": [
       "torch.Size([17, 40, 38, 1])"
      ]
     },
     "execution_count": 18,
     "metadata": {},
     "output_type": "execute_result"
    }
   ],
   "source": [
    "branch_clipped.shape"
   ]
  },
  {
   "cell_type": "code",
   "execution_count": 19,
   "metadata": {},
   "outputs": [],
   "source": [
    "arr_skel_clipped = np.array(branch_clipped.numpy().astype(np.int16))"
   ]
  },
  {
   "cell_type": "code",
   "execution_count": 20,
   "metadata": {},
   "outputs": [],
   "source": [
    "arr_foldlabel_clipped = arr_foldlabel * (arr_skel_clipped != 0)"
   ]
  },
  {
   "cell_type": "code",
   "execution_count": 21,
   "metadata": {},
   "outputs": [
    {
     "data": {
      "text/plain": [
       "array([   0,  212, 1001, 1005, 1061, 1079, 1089, 1104, 1132, 1154, 1166,\n",
       "       1207, 1214, 1226, 1249, 1257, 1298, 1310, 1323, 1327, 1345, 2001,\n",
       "       2005, 2061, 2062, 2079, 2089, 2104, 2154, 2166, 2181, 2207, 2214,\n",
       "       2226, 2249, 2257, 2298, 2310, 2323, 2342, 2345, 3259, 3357, 3365,\n",
       "       3372, 3739, 3754, 3864, 4108, 4117, 4370, 4375, 4376, 4382, 4383,\n",
       "       4390, 4407, 4600, 4686, 4916, 5349, 5361], dtype=int16)"
      ]
     },
     "execution_count": 21,
     "metadata": {},
     "output_type": "execute_result"
    }
   ],
   "source": [
    "np.unique(arr_foldlabel)"
   ]
  },
  {
   "cell_type": "code",
   "execution_count": 22,
   "metadata": {},
   "outputs": [
    {
     "data": {
      "text/plain": [
       "array([   0, 1001, 1061, 1079, 1089, 1132, 1154, 1166, 1214, 1226, 1249,\n",
       "       1257, 1310, 1327, 1345, 3259, 3357, 3365, 3372, 3754, 3864, 4108,\n",
       "       4117, 4370, 4375, 4376, 4382, 4383, 4390, 4600, 4686, 4916],\n",
       "      dtype=int16)"
      ]
     },
     "execution_count": 22,
     "metadata": {},
     "output_type": "execute_result"
    }
   ],
   "source": [
    "np.unique(arr_foldlabel_clipped)"
   ]
  },
  {
   "cell_type": "code",
   "execution_count": 23,
   "metadata": {},
   "outputs": [],
   "source": [
    "foldlabel_clipped = aims.Volume(arr_foldlabel_clipped)"
   ]
  },
  {
   "cell_type": "code",
   "execution_count": 24,
   "metadata": {},
   "outputs": [],
   "source": [
    "skel_clipped = aims.Volume(np.array(branch_clipped.numpy().astype(np.int16)))"
   ]
  },
  {
   "cell_type": "code",
   "execution_count": 25,
   "metadata": {},
   "outputs": [],
   "source": [
    "bucketize_skeleton(skel_clipped, 'bck_skel_clipped')"
   ]
  },
  {
   "cell_type": "code",
   "execution_count": 26,
   "metadata": {},
   "outputs": [],
   "source": [
    "bucketize_foldlabel(foldlabel_clipped, 'bck_foldlabel_clipped')"
   ]
  },
  {
   "attachments": {},
   "cell_type": "markdown",
   "metadata": {},
   "source": [
    "# Plots data with cut-out augmentation"
   ]
  },
  {
   "cell_type": "code",
   "execution_count": 86,
   "metadata": {},
   "outputs": [],
   "source": [
    "%rm /tmp/bck_foldlabel_cutout*.bck"
   ]
  },
  {
   "cell_type": "code",
   "execution_count": 87,
   "metadata": {},
   "outputs": [],
   "source": [
    "cutting_out = PartialCutOutTensor_Roll(True, True, (1,15,30,30), False, None)"
   ]
  },
  {
   "cell_type": "code",
   "execution_count": 88,
   "metadata": {},
   "outputs": [],
   "source": [
    "cutout = cutting_out(torch.from_numpy(skel.np))"
   ]
  },
  {
   "cell_type": "code",
   "execution_count": 89,
   "metadata": {},
   "outputs": [
    {
     "data": {
      "text/plain": [
       "(array([  0.,  30.,  60., 110.], dtype=float32),\n",
       " array([25364,   229,   245,     2]))"
      ]
     },
     "execution_count": 89,
     "metadata": {},
     "output_type": "execute_result"
    }
   ],
   "source": [
    "np.unique(cutout.numpy(), return_counts=True)"
   ]
  },
  {
   "cell_type": "code",
   "execution_count": 90,
   "metadata": {},
   "outputs": [],
   "source": [
    "arr_cutout = np.array(cutout.numpy().astype(np.int16))"
   ]
  },
  {
   "cell_type": "code",
   "execution_count": 91,
   "metadata": {},
   "outputs": [],
   "source": [
    "vol_cutout = aims.Volume(arr_cutout)"
   ]
  },
  {
   "cell_type": "code",
   "execution_count": 92,
   "metadata": {},
   "outputs": [],
   "source": [
    "arr_foldlabel_cutout = arr_foldlabel\n",
    "arr_foldlabel_cutout = arr_foldlabel_cutout * (arr_cutout != 0)"
   ]
  },
  {
   "cell_type": "code",
   "execution_count": 93,
   "metadata": {},
   "outputs": [],
   "source": [
    "bucketize_skeleton(vol_cutout, 'bck_skel_cutout')"
   ]
  },
  {
   "cell_type": "code",
   "execution_count": 84,
   "metadata": {},
   "outputs": [],
   "source": [
    "foldlabel_cutout = aims.Volume(arr_foldlabel_cutout)"
   ]
  },
  {
   "cell_type": "code",
   "execution_count": 85,
   "metadata": {},
   "outputs": [],
   "source": [
    "bucketize_foldlabel(foldlabel_cutout, 'bck_foldlabel_cutout')"
   ]
  },
  {
   "cell_type": "code",
   "execution_count": null,
   "metadata": {},
   "outputs": [],
   "source": []
  }
 ],
 "metadata": {
  "kernelspec": {
   "display_name": "venv",
   "language": "python",
   "name": "python3"
  },
  "language_info": {
   "codemirror_mode": {
    "name": "ipython",
    "version": 3
   },
   "file_extension": ".py",
   "mimetype": "text/x-python",
   "name": "python",
   "nbconvert_exporter": "python",
   "pygments_lexer": "ipython3",
   "version": "3.10.6"
  },
  "orig_nbformat": 4
 },
 "nbformat": 4,
 "nbformat_minor": 2
}
