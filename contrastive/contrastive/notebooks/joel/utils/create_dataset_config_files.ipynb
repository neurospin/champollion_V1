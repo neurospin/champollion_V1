{
 "cells": [
  {
   "cell_type": "markdown",
   "metadata": {},
   "source": [
    "This notebook create dataset config files from reference"
   ]
  },
  {
   "cell_type": "code",
   "execution_count": 40,
   "metadata": {},
   "outputs": [],
   "source": [
    "import pandas as pd\n",
    "import os\n",
    "import glob\n",
    "import json"
   ]
  },
  {
   "cell_type": "code",
   "execution_count": 41,
   "metadata": {},
   "outputs": [
    {
     "data": {
      "text/plain": [
       "'/neurospin/dico/jchavas/Runs/70_self-supervised_two-regions/Program/2023_jlaval_STSbabies/contrastive/notebooks/joel/utils'"
      ]
     },
     "execution_count": 41,
     "metadata": {},
     "output_type": "execute_result"
    }
   ],
   "source": [
    "os.getcwd()"
   ]
  },
  {
   "cell_type": "code",
   "execution_count": 136,
   "metadata": {},
   "outputs": [],
   "source": [
    "path = f\"{os.getcwd()}/../../../configs/dataset/with_reskel_distbottom/2mm/UKB\"\n",
    "ref_file = f\"{path}/reference.yaml\"\n",
    "crop_path = \"/neurospin/dico/data/deep_folding/current/datasets/UkBioBank/crops/2mm\"\n",
    "crop_dirs = glob.glob(f\"{crop_path}/*\")\n",
    "crop_drops = [\"CINGULATE_ALL\", \"ORBITAL_ALL\", \"CINGULATE\", \"S.Or.\"]"
   ]
  },
  {
   "cell_type": "code",
   "execution_count": 137,
   "metadata": {},
   "outputs": [],
   "source": [
    "crop_dirs = [f for f in crop_dirs if not os.path.basename(f) in crop_drops]"
   ]
  },
  {
   "cell_type": "code",
   "execution_count": 138,
   "metadata": {},
   "outputs": [
    {
     "name": "stdout",
     "output_type": "stream",
     "text": [
      "/neurospin/dico/jchavas/Runs/70_self-supervised_two-regions/Program/2023_jlaval_STSbabies/contrastive/notebooks/joel/utils/../../../configs/dataset/with_reskel_distbottom/2mm/UKB/reference.yaml\n",
      "/neurospin/dico/data/deep_folding/current/datasets/UkBioBank/crops/2mm/F.Coll.-S.Rh.\n",
      "/neurospin/dico/data/deep_folding/current/datasets/UkBioBank/crops/2mm/S.F.median-S.F.pol.tr.-S.F.sup.\n",
      "/neurospin/dico/data/deep_folding/current/datasets/UkBioBank/crops/2mm/S.F.inf.-BROCA-S.Pe.C.inf.\n",
      "/neurospin/dico/data/deep_folding/current/datasets/UkBioBank/crops/2mm/S.Po.C.\n",
      "/neurospin/dico/data/deep_folding/current/datasets/UkBioBank/crops/2mm/fronto-parietal_medial_face.\n",
      "/neurospin/dico/data/deep_folding/current/datasets/UkBioBank/crops/2mm/F.I.P.\n",
      "/neurospin/dico/data/deep_folding/current/datasets/UkBioBank/crops/2mm/S.T.s.-S.GSM.\n",
      "/neurospin/dico/data/deep_folding/current/datasets/UkBioBank/crops/2mm/CINGULATE.\n",
      "/neurospin/dico/data/deep_folding/current/datasets/UkBioBank/crops/2mm/F.C.L.p.-S.GSM.\n",
      "/neurospin/dico/data/deep_folding/current/datasets/UkBioBank/crops/2mm/S.C.-S.Po.C.\n",
      "/neurospin/dico/data/deep_folding/current/datasets/UkBioBank/crops/2mm/S.F.inter.-S.F.sup.\n",
      "/neurospin/dico/data/deep_folding/current/datasets/UkBioBank/crops/2mm/F.C.M.post.-S.p.C.\n",
      "/neurospin/dico/data/deep_folding/current/datasets/UkBioBank/crops/2mm/S.s.P.-S.Pa.int.\n",
      "/neurospin/dico/data/deep_folding/current/datasets/UkBioBank/crops/2mm/S.Or.-S.Olf.\n",
      "/neurospin/dico/data/deep_folding/current/datasets/UkBioBank/crops/2mm/F.P.O.-S.Cu.-Sc.Cal.\n",
      "/neurospin/dico/data/deep_folding/current/datasets/UkBioBank/crops/2mm/S.F.marginal-S.F.inf.ant.\n",
      "/neurospin/dico/data/deep_folding/current/datasets/UkBioBank/crops/2mm/S.F.int.-F.C.M.ant.\n",
      "/neurospin/dico/data/deep_folding/current/datasets/UkBioBank/crops/2mm/S.T.i.-S.T.s.-S.T.pol.\n",
      "/neurospin/dico/data/deep_folding/current/datasets/UkBioBank/crops/2mm/S.F.int.-S.R.\n",
      "/neurospin/dico/data/deep_folding/current/datasets/UkBioBank/crops/2mm/Lobule_parietal_sup.\n",
      "/neurospin/dico/data/deep_folding/current/datasets/UkBioBank/crops/2mm/S.T.i.-S.O.T.lat.\n",
      "/neurospin/dico/data/deep_folding/current/datasets/UkBioBank/crops/2mm/S.Pe.C.\n",
      "/neurospin/dico/data/deep_folding/current/datasets/UkBioBank/crops/2mm/S.T.s.br.\n",
      "/neurospin/dico/data/deep_folding/current/datasets/UkBioBank/crops/2mm/Sc.Cal.-S.Li.\n",
      "/neurospin/dico/data/deep_folding/current/datasets/UkBioBank/crops/2mm/S.T.s.\n",
      "/neurospin/dico/data/deep_folding/current/datasets/UkBioBank/crops/2mm/F.C.L.p.-subsc.-F.C.L.a.-INSULA.\n",
      "/neurospin/dico/data/deep_folding/current/datasets/UkBioBank/crops/2mm/ORBITAL\n",
      "/neurospin/dico/data/deep_folding/current/datasets/UkBioBank/crops/2mm/S.C.-sylv.\n",
      "/neurospin/dico/data/deep_folding/current/datasets/UkBioBank/crops/2mm/S.C.-S.Pe.C.\n",
      "/neurospin/dico/data/deep_folding/current/datasets/UkBioBank/crops/2mm/OCCIPITAL\n"
     ]
    }
   ],
   "source": [
    "print(ref_file)\n",
    "print('\\n'.join(crop_dirs))"
   ]
  },
  {
   "cell_type": "code",
   "execution_count": 139,
   "metadata": {},
   "outputs": [
    {
     "name": "stdout",
     "output_type": "stream",
     "text": [
      "# @package dataset.REPLACE_DATASET\n",
      "dataset_name: REPLACE_DATASET\n",
      "pickle_normal: ${dataset_folder}/UkBioBank/crops/2mm/REPLACE_CROP_NAME/mask/REPLACE_SIDEskeleton.pkl\n",
      "numpy_all: ${dataset_folder}/UkBioBank/crops/2mm/REPLACE_CROP_NAME/mask/REPLACE_SIDEskeleton.npy\n",
      "subjects_all: ${dataset_folder}/UkBioBank/crops/2mm/REPLACE_CROP_NAME/mask/REPLACE_SIDEskeleton_subject.csv\n",
      "crop_dir: ${dataset_folder}/UkBioBank/crops/2mm/REPLACE_CROP_NAME/mask/REPLACE_SIDEcrops\n",
      "foldlabel_dir: ${dataset_folder}/UkBioBank/crops/2mm/REPLACE_CROP_NAME/mask/REPLACE_SIDElabels\n",
      "foldlabel_all: ${dataset_folder}/UkBioBank/crops/2mm/REPLACE_CROP_NAME/mask/REPLACE_SIDElabel.npy\n",
      "subjects_foldlabel_all: ${dataset_folder}/UkBioBank/crops/2mm/REPLACE_CROP_NAME/mask/REPLACE_SIDElabel_subject.csv\n",
      "distbottom_dir: ${dataset_folder}/UkBioBank/crops/2mm/REPLACE_CROP_NAME/mask/REPLACE_SIDEdistbottom\n",
      "distbottom_all: ${dataset_folder}/UkBioBank/crops/2mm/REPLACE_CROP_NAME/mask/REPLACE_SIDEdistbottom.npy\n",
      "subjects_distbottom_all: ${dataset_folder}/UkBioBank/crops/2mm/REPLACE_CROP_NAME/mask/REPLACE_SIDEdistbottom_subject.csv\n",
      "crop_file_suffix: _cropped_skeleton.nii.gz\n",
      "pickle_benchmark: \n",
      "train_val_csv_file: ${dataset_folder}/UkBioBank/subjects_full.csv\n",
      "subject_labels_file: ${dataset_folder}/UkBioBank/participants.csv\n",
      "subject_column_name: 'participant_id'\n",
      "input_size: (1, REPLACE_SIZEX, REPLACE_SIZEY, REPLACE_SIZEZ)\n"
     ]
    }
   ],
   "source": [
    "# Read in the reference file\n",
    "with open(ref_file, 'r') as file:\n",
    "  ref = file.read()\n",
    "\n",
    "print(ref)"
   ]
  },
  {
   "cell_type": "code",
   "execution_count": 108,
   "metadata": {},
   "outputs": [],
   "source": [
    "\n",
    "def replace_reference_yaml(crop_dir, side, ref):\n",
    "  \"\"\"For each crop name, it builds the yaml from the reference yaml\"\"\"\n",
    "  crop_name = os.path.basename(crop_dir)\n",
    "  dataset_name = crop_name.replace('.', '')\n",
    "  mask_file = f\"{crop_dir}/mask/{side}mask_cropped.nii.gz.minf\"\n",
    "  with open(mask_file, 'r') as file:\n",
    "    mask = file.read()\n",
    "  mask = mask.replace(\"attributes = \", \"\")\n",
    "  mask = mask.replace(\"\\'\", \"\\\"\")\n",
    "  # print(mask)\n",
    "  mask_json = json.loads(mask)\n",
    "  # print(mask_json)\n",
    "  side = side\n",
    "  side_long = \"left\" if side=='L' else \"right\"\n",
    "  dataset_name = f\"{dataset_name}_{side_long}\"\n",
    "  filedata = ref.replace('REPLACE_CROP_NAME', crop_name)\n",
    "  filedata = filedata.replace('REPLACE_DATASET', dataset_name)\n",
    "  filedata = filedata.replace('REPLACE_SIDE', side)\n",
    "  filedata = filedata.replace('REPLACE_SIZEX', str(mask_json['sizeX']))\n",
    "  filedata = filedata.replace('REPLACE_SIZEY', str(mask_json['sizeY']))\n",
    "  filedata = filedata.replace('REPLACE_SIZEZ', str(mask_json['sizeZ']))\n",
    "\n",
    "  result_file = f\"{path}/{dataset_name}.yaml\"\n",
    "\n",
    "  return filedata, result_file"
   ]
  },
  {
   "cell_type": "code",
   "execution_count": 109,
   "metadata": {},
   "outputs": [
    {
     "name": "stdout",
     "output_type": "stream",
     "text": [
      "/neurospin/dico/jchavas/Runs/70_self-supervised_two-regions/Program/2023_jlaval_STSbabies/contrastive/notebooks/joel/utils/../../../configs/dataset/with_reskel_distbottom/2mm/UKB/SFinf-BROCA-SPeCinf_left.yaml\n",
      "/neurospin/dico/jchavas/Runs/70_self-supervised_two-regions/Program/2023_jlaval_STSbabies/contrastive/notebooks/joel/utils/../../../configs/dataset/with_reskel_distbottom/2mm/UKB/SFinf-BROCA-SPeCinf_right.yaml\n",
      "/neurospin/dico/jchavas/Runs/70_self-supervised_two-regions/Program/2023_jlaval_STSbabies/contrastive/notebooks/joel/utils/../../../configs/dataset/with_reskel_distbottom/2mm/UKB/SPoC_left.yaml\n",
      "/neurospin/dico/jchavas/Runs/70_self-supervised_two-regions/Program/2023_jlaval_STSbabies/contrastive/notebooks/joel/utils/../../../configs/dataset/with_reskel_distbottom/2mm/UKB/SPoC_right.yaml\n",
      "/neurospin/dico/jchavas/Runs/70_self-supervised_two-regions/Program/2023_jlaval_STSbabies/contrastive/notebooks/joel/utils/../../../configs/dataset/with_reskel_distbottom/2mm/UKB/CINGULATE_left.yaml\n",
      "/neurospin/dico/jchavas/Runs/70_self-supervised_two-regions/Program/2023_jlaval_STSbabies/contrastive/notebooks/joel/utils/../../../configs/dataset/with_reskel_distbottom/2mm/UKB/CINGULATE_right.yaml\n",
      "/neurospin/dico/jchavas/Runs/70_self-supervised_two-regions/Program/2023_jlaval_STSbabies/contrastive/notebooks/joel/utils/../../../configs/dataset/with_reskel_distbottom/2mm/UKB/SC-SPoC_left.yaml\n",
      "/neurospin/dico/jchavas/Runs/70_self-supervised_two-regions/Program/2023_jlaval_STSbabies/contrastive/notebooks/joel/utils/../../../configs/dataset/with_reskel_distbottom/2mm/UKB/SC-SPoC_right.yaml\n",
      "/neurospin/dico/jchavas/Runs/70_self-supervised_two-regions/Program/2023_jlaval_STSbabies/contrastive/notebooks/joel/utils/../../../configs/dataset/with_reskel_distbottom/2mm/UKB/FCMpost-SpC_left.yaml\n",
      "/neurospin/dico/jchavas/Runs/70_self-supervised_two-regions/Program/2023_jlaval_STSbabies/contrastive/notebooks/joel/utils/../../../configs/dataset/with_reskel_distbottom/2mm/UKB/FCMpost-SpC_right.yaml\n",
      "/neurospin/dico/jchavas/Runs/70_self-supervised_two-regions/Program/2023_jlaval_STSbabies/contrastive/notebooks/joel/utils/../../../configs/dataset/with_reskel_distbottom/2mm/UKB/SFint-FCMant_left.yaml\n",
      "/neurospin/dico/jchavas/Runs/70_self-supervised_two-regions/Program/2023_jlaval_STSbabies/contrastive/notebooks/joel/utils/../../../configs/dataset/with_reskel_distbottom/2mm/UKB/SFint-FCMant_right.yaml\n",
      "/neurospin/dico/jchavas/Runs/70_self-supervised_two-regions/Program/2023_jlaval_STSbabies/contrastive/notebooks/joel/utils/../../../configs/dataset/with_reskel_distbottom/2mm/UKB/STi-SOTlat_left.yaml\n",
      "/neurospin/dico/jchavas/Runs/70_self-supervised_two-regions/Program/2023_jlaval_STSbabies/contrastive/notebooks/joel/utils/../../../configs/dataset/with_reskel_distbottom/2mm/UKB/STi-SOTlat_right.yaml\n",
      "/neurospin/dico/jchavas/Runs/70_self-supervised_two-regions/Program/2023_jlaval_STSbabies/contrastive/notebooks/joel/utils/../../../configs/dataset/with_reskel_distbottom/2mm/UKB/SPeC_left.yaml\n",
      "/neurospin/dico/jchavas/Runs/70_self-supervised_two-regions/Program/2023_jlaval_STSbabies/contrastive/notebooks/joel/utils/../../../configs/dataset/with_reskel_distbottom/2mm/UKB/SPeC_right.yaml\n",
      "/neurospin/dico/jchavas/Runs/70_self-supervised_two-regions/Program/2023_jlaval_STSbabies/contrastive/notebooks/joel/utils/../../../configs/dataset/with_reskel_distbottom/2mm/UKB/ScCal-SLi_left.yaml\n",
      "/neurospin/dico/jchavas/Runs/70_self-supervised_two-regions/Program/2023_jlaval_STSbabies/contrastive/notebooks/joel/utils/../../../configs/dataset/with_reskel_distbottom/2mm/UKB/ScCal-SLi_right.yaml\n",
      "/neurospin/dico/jchavas/Runs/70_self-supervised_two-regions/Program/2023_jlaval_STSbabies/contrastive/notebooks/joel/utils/../../../configs/dataset/with_reskel_distbottom/2mm/UKB/STs_left.yaml\n",
      "/neurospin/dico/jchavas/Runs/70_self-supervised_two-regions/Program/2023_jlaval_STSbabies/contrastive/notebooks/joel/utils/../../../configs/dataset/with_reskel_distbottom/2mm/UKB/STs_right.yaml\n",
      "/neurospin/dico/jchavas/Runs/70_self-supervised_two-regions/Program/2023_jlaval_STSbabies/contrastive/notebooks/joel/utils/../../../configs/dataset/with_reskel_distbottom/2mm/UKB/ORBITAL_left.yaml\n",
      "/neurospin/dico/jchavas/Runs/70_self-supervised_two-regions/Program/2023_jlaval_STSbabies/contrastive/notebooks/joel/utils/../../../configs/dataset/with_reskel_distbottom/2mm/UKB/ORBITAL_right.yaml\n",
      "/neurospin/dico/jchavas/Runs/70_self-supervised_two-regions/Program/2023_jlaval_STSbabies/contrastive/notebooks/joel/utils/../../../configs/dataset/with_reskel_distbottom/2mm/UKB/SC-sylv_left.yaml\n",
      "/neurospin/dico/jchavas/Runs/70_self-supervised_two-regions/Program/2023_jlaval_STSbabies/contrastive/notebooks/joel/utils/../../../configs/dataset/with_reskel_distbottom/2mm/UKB/SC-sylv_right.yaml\n",
      "/neurospin/dico/jchavas/Runs/70_self-supervised_two-regions/Program/2023_jlaval_STSbabies/contrastive/notebooks/joel/utils/../../../configs/dataset/with_reskel_distbottom/2mm/UKB/SC-SPeC_left.yaml\n",
      "/neurospin/dico/jchavas/Runs/70_self-supervised_two-regions/Program/2023_jlaval_STSbabies/contrastive/notebooks/joel/utils/../../../configs/dataset/with_reskel_distbottom/2mm/UKB/SC-SPeC_right.yaml\n"
     ]
    }
   ],
   "source": [
    "# Replace the target string\n",
    "for crop_dir in crop_dirs:\n",
    "    for side in ['L', 'R']:\n",
    "        filedata, result_file = replace_reference_yaml(crop_dir, side, ref)\n",
    "        print(result_file)\n",
    "        with open(result_file, 'w') as file:\n",
    "          file.write(filedata)\n",
    "        "
   ]
  },
  {
   "cell_type": "code",
   "execution_count": 107,
   "metadata": {},
   "outputs": [],
   "source": [
    "# # Write the file out again\n",
    "# with open('file.txt', 'w') as file:\n",
    "#   file.write(filedata)"
   ]
  },
  {
   "cell_type": "markdown",
   "metadata": {},
   "source": [
    "# Command line of train.py"
   ]
  },
  {
   "cell_type": "code",
   "execution_count": 110,
   "metadata": {},
   "outputs": [],
   "source": [
    "path_champollion = \"/neurospin/dico/data/deep_folding/current/models/Champollion_V0\"\n",
    "path_configs = path"
   ]
  },
  {
   "cell_type": "code",
   "execution_count": 124,
   "metadata": {},
   "outputs": [
    {
     "name": "stdout",
     "output_type": "stream",
     "text": [
      "SC-sylv_left\n",
      "STs-SGSM_left\n",
      "SC-sylv_right\n",
      "CINGULATE_right\n",
      "FCLp-SGSM_left\n",
      "FIP_right\n",
      "ORBITAL_left\n"
     ]
    }
   ],
   "source": [
    "trained_regions = glob.glob(f\"{path_champollion}/*\")\n",
    "trained_regions = [f for f in trained_regions if not \"README.md\" in f]\n",
    "trained_regions = [os.path.basename(f) for f in trained_regions]\n",
    "print('\\n'.join(trained_regions))"
   ]
  },
  {
   "cell_type": "code",
   "execution_count": 126,
   "metadata": {},
   "outputs": [
    {
     "name": "stdout",
     "output_type": "stream",
     "text": [
      "SFint-FCMant_left\n",
      "CINGULATE_right\n",
      "SFint-FCMant_right\n",
      "SPoC_left\n",
      "STi-SOTlat_left\n",
      "ScCal-SLi_left\n",
      "STs_right\n",
      "STs_left\n",
      "SC-sylv_right\n",
      "ORBITAL_left\n",
      "FIP_right\n",
      "SC-SPeC_left\n",
      "FCMpost-SpC_right\n",
      "SFinf-BROCA-SPeCinf_left\n",
      "SC-SPoC_left\n",
      "SC-sylv_left\n",
      "ORBITAL_right\n",
      "STi-SOTlat_right\n",
      "SC-SPoC_right\n",
      "FCLp-SGSM_left\n",
      "SC-SPeC_right\n",
      "STs-SGSM_left\n",
      "SPoC_right\n",
      "SPeC_right\n",
      "SFinf-BROCA-SPeCinf_right\n",
      "SPeC_left\n",
      "ScCal-SLi_right\n",
      "CINGULATE_left\n",
      "FCMpost-SpC_left\n"
     ]
    }
   ],
   "source": [
    "available_configs = glob.glob(f\"{path_configs}/*\")\n",
    "available_configs = [f for f in available_configs if not \"reference.yaml\" in f]\n",
    "available_configs = [os.path.basename(f).replace(\".yaml\", \"\") for f in available_configs]\n",
    "print('\\n'.join(available_configs))"
   ]
  },
  {
   "cell_type": "code",
   "execution_count": 134,
   "metadata": {},
   "outputs": [
    {
     "name": "stdout",
     "output_type": "stream",
     "text": [
      "22\n"
     ]
    }
   ],
   "source": [
    "to_train = set(available_configs) - set(trained_regions)\n",
    "print(len(to_train))\n",
    "to_train = [f\"with_reskel_distbottom/2mm/UKB/{i}\" for i in to_train]"
   ]
  },
  {
   "cell_type": "code",
   "execution_count": 133,
   "metadata": {},
   "outputs": [
    {
     "data": {
      "text/plain": [
       "'with_reskel_distbottom/2mm/UKB/STs_left,with_reskel_distbottom/2mm/UKB/SPoC_left,with_reskel_distbottom/2mm/UKB/STi-SOTlat_left,with_reskel_distbottom/2mm/UKB/STi-SOTlat_right,with_reskel_distbottom/2mm/UKB/SC-SPoC_left,with_reskel_distbottom/2mm/UKB/SFint-FCMant_left,with_reskel_distbottom/2mm/UKB/SPoC_right,with_reskel_distbottom/2mm/UKB/SC-SPeC_left,with_reskel_distbottom/2mm/UKB/ScCal-SLi_left,with_reskel_distbottom/2mm/UKB/STs_right,with_reskel_distbottom/2mm/UKB/SPeC_left,with_reskel_distbottom/2mm/UKB/SPeC_right,with_reskel_distbottom/2mm/UKB/ORBITAL_right,with_reskel_distbottom/2mm/UKB/SFint-FCMant_right,with_reskel_distbottom/2mm/UKB/SC-SPoC_right,with_reskel_distbottom/2mm/UKB/FCMpost-SpC_left,with_reskel_distbottom/2mm/UKB/FCMpost-SpC_right,with_reskel_distbottom/2mm/UKB/SFinf-BROCA-SPeCinf_right,with_reskel_distbottom/2mm/UKB/ScCal-SLi_right,with_reskel_distbottom/2mm/UKB/SFinf-BROCA-SPeCinf_left,with_reskel_distbottom/2mm/UKB/CINGULATE_left,with_reskel_distbottom/2mm/UKB/SC-SPeC_right'"
      ]
     },
     "execution_count": 133,
     "metadata": {},
     "output_type": "execute_result"
    }
   ],
   "source": [
    "','.join(to_train)"
   ]
  },
  {
   "cell_type": "code",
   "execution_count": 135,
   "metadata": {},
   "outputs": [
    {
     "data": {
      "text/plain": [
       "22"
      ]
     },
     "execution_count": 135,
     "metadata": {},
     "output_type": "execute_result"
    }
   ],
   "source": [
    "len(to_train)"
   ]
  },
  {
   "cell_type": "code",
   "execution_count": null,
   "metadata": {},
   "outputs": [],
   "source": []
  }
 ],
 "metadata": {
  "kernelspec": {
   "display_name": "venv",
   "language": "python",
   "name": "python3"
  },
  "language_info": {
   "codemirror_mode": {
    "name": "ipython",
    "version": 3
   },
   "file_extension": ".py",
   "mimetype": "text/x-python",
   "name": "python",
   "nbconvert_exporter": "python",
   "pygments_lexer": "ipython3",
   "version": "3.10.12"
  }
 },
 "nbformat": 4,
 "nbformat_minor": 2
}
