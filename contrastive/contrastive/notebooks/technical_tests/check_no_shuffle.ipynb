{
 "cells": [
  {
   "attachments": {},
   "cell_type": "markdown",
   "metadata": {},
   "source": [
    "Notebook pour vérifier que tous les sujets sont bien ordonnés dans le bon sens après la fusion des bases."
   ]
  },
  {
   "cell_type": "code",
   "execution_count": 2,
   "metadata": {},
   "outputs": [],
   "source": [
    "import numpy as np\n",
    "import matplotlib.pyplot as plt\n",
    "import pandas as pd"
   ]
  },
  {
   "cell_type": "code",
   "execution_count": 10,
   "metadata": {},
   "outputs": [
    {
     "name": "stdout",
     "output_type": "stream",
     "text": [
      "(1080, 38, 49, 52, 1)\n",
      "(1292, 38, 49, 52, 1)\n"
     ]
    },
    {
     "data": {
      "text/html": [
       "<div>\n",
       "<style scoped>\n",
       "    .dataframe tbody tr th:only-of-type {\n",
       "        vertical-align: middle;\n",
       "    }\n",
       "\n",
       "    .dataframe tbody tr th {\n",
       "        vertical-align: top;\n",
       "    }\n",
       "\n",
       "    .dataframe thead th {\n",
       "        text-align: right;\n",
       "    }\n",
       "</style>\n",
       "<table border=\"1\" class=\"dataframe\">\n",
       "  <thead>\n",
       "    <tr style=\"text-align: right;\">\n",
       "      <th></th>\n",
       "      <th>Subject</th>\n",
       "    </tr>\n",
       "  </thead>\n",
       "  <tbody>\n",
       "    <tr>\n",
       "      <th>0</th>\n",
       "      <td>INVF1YAKN3D</td>\n",
       "    </tr>\n",
       "    <tr>\n",
       "      <th>1</th>\n",
       "      <td>INVT5E4BWC0</td>\n",
       "    </tr>\n",
       "    <tr>\n",
       "      <th>2</th>\n",
       "      <td>INVXN6ZM5VH</td>\n",
       "    </tr>\n",
       "    <tr>\n",
       "      <th>3</th>\n",
       "      <td>INVFWTY5879</td>\n",
       "    </tr>\n",
       "    <tr>\n",
       "      <th>4</th>\n",
       "      <td>INV25C66ABC</td>\n",
       "    </tr>\n",
       "    <tr>\n",
       "      <th>...</th>\n",
       "      <td>...</td>\n",
       "    </tr>\n",
       "    <tr>\n",
       "      <th>1075</th>\n",
       "      <td>INVCDD7RUMC</td>\n",
       "    </tr>\n",
       "    <tr>\n",
       "      <th>1076</th>\n",
       "      <td>INVK36ZPT3B</td>\n",
       "    </tr>\n",
       "    <tr>\n",
       "      <th>1077</th>\n",
       "      <td>INVLZNDNZJA</td>\n",
       "    </tr>\n",
       "    <tr>\n",
       "      <th>1078</th>\n",
       "      <td>INVCDXX20W3</td>\n",
       "    </tr>\n",
       "    <tr>\n",
       "      <th>1079</th>\n",
       "      <td>INVDTH6AXHA</td>\n",
       "    </tr>\n",
       "  </tbody>\n",
       "</table>\n",
       "<p>1080 rows × 1 columns</p>\n",
       "</div>"
      ],
      "text/plain": [
       "          Subject\n",
       "0     INVF1YAKN3D\n",
       "1     INVT5E4BWC0\n",
       "2     INVXN6ZM5VH\n",
       "3     INVFWTY5879\n",
       "4     INV25C66ABC\n",
       "...           ...\n",
       "1075  INVCDD7RUMC\n",
       "1076  INVK36ZPT3B\n",
       "1077  INVLZNDNZJA\n",
       "1078  INVCDXX20W3\n",
       "1079  INVDTH6AXHA\n",
       "\n",
       "[1080 rows x 1 columns]"
      ]
     },
     "execution_count": 10,
     "metadata": {},
     "output_type": "execute_result"
    }
   ],
   "source": [
    "bsnip_subjects = pd.read_csv(\"/neurospin/dico/data/deep_folding/current/datasets/bsnip1/crops/2mm/S.C.-S.Pe.C./mask/Lskeleton_subject_cured.csv\")\n",
    "bsnip_skels = np.load(\"/neurospin/dico/data/deep_folding/current/datasets/bsnip1/crops/2mm/S.C.-S.Pe.C./mask/Lskeleton.npy\")\n",
    "\n",
    "schiz_subjects = pd.read_csv(\"/neurospin/dico/data/deep_folding/current/datasets/schiz/crops/2mm/S.C.-S.Pe.C./mask/Lskeleton_subject.csv\")\n",
    "schiz_skels = np.load(\"/neurospin/dico/data/deep_folding/current/datasets/schiz/crops/2mm/S.C.-S.Pe.C./mask/Lskeleton.npy\")\n",
    "\n",
    "print(bsnip_skels.shape)\n",
    "print(schiz_skels.shape)\n",
    "\n",
    "bsnip_subjects"
   ]
  },
  {
   "cell_type": "code",
   "execution_count": 28,
   "metadata": {},
   "outputs": [
    {
     "name": "stdout",
     "output_type": "stream",
     "text": [
      "159\n",
      "INVAMUZFD5D\n",
      "807\n"
     ]
    },
    {
     "data": {
      "text/plain": [
       "<matplotlib.image.AxesImage at 0x7f024687ee00>"
      ]
     },
     "execution_count": 28,
     "metadata": {},
     "output_type": "execute_result"
    },
    {
     "data": {
      "image/png": "[encoded data removed]",
      "text/plain": [
       "<Figure size 640x480 with 1 Axes>"
      ]
     },
     "metadata": {},
     "output_type": "display_data"
    },
    {
     "data": {
      "image/png": "[encoded data removed]",
      "text/plain": [
       "<Figure size 640x480 with 1 Axes>"
      ]
     },
     "metadata": {},
     "output_type": "display_data"
    }
   ],
   "source": [
    "i = np.random.randint(0, bsnip_subjects.shape[0])\n",
    "print(i)\n",
    "\n",
    "sub = bsnip_subjects.iloc[i,0]\n",
    "print(sub)\n",
    "\n",
    "# get index of sub in the concat base\n",
    "try:\n",
    "    j = schiz_subjects[schiz_subjects.Subject == sub].index[0]\n",
    "    print(j)\n",
    "except:\n",
    "    raise ValueError(\"Ce sujet n'est pas dans schiz au final\")\n",
    "\n",
    "\n",
    "plt.imshow(bsnip_skels[i,19,:,:,0])\n",
    "plt.figure()\n",
    "plt.imshow(schiz_skels[j,19,:,:,0])"
   ]
  },
  {
   "attachments": {},
   "cell_type": "markdown",
   "metadata": {},
   "source": [
    "On est bon"
   ]
  }
 ],
 "metadata": {
  "kernelspec": {
   "display_name": "venv_local",
   "language": "python",
   "name": "python3"
  },
  "language_info": {
   "codemirror_mode": {
    "name": "ipython",
    "version": 3
   },
   "file_extension": ".py",
   "mimetype": "text/x-python",
   "name": "python",
   "nbconvert_exporter": "python",
   "pygments_lexer": "ipython3",
   "version": "3.10.12"
  },
  "orig_nbformat": 4
 },
 "nbformat": 4,
 "nbformat_minor": 2
}
