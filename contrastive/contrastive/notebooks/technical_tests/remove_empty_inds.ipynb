{
 "cells": [
  {
   "cell_type": "code",
   "execution_count": 3,
   "metadata": {},
   "outputs": [],
   "source": [
    "import numpy as np\n",
    "import pandas as pd"
   ]
  },
  {
   "cell_type": "code",
   "execution_count": 2,
   "metadata": {},
   "outputs": [
    {
     "name": "stdout",
     "output_type": "stream",
     "text": [
      "(21052, 38, 51, 60, 1) (21052, 38, 34, 50, 1)\n"
     ]
    }
   ],
   "source": [
    "Llabels = np.load(\"/neurospin/dico/data/deep_folding/current/datasets/UkBioBank/crops/2mm/OCCIPITAL/mask/Llabel.npy\")\n",
    "Rlabels = np.load(\"/neurospin/dico/data/deep_folding/current/datasets/UkBioBank/crops/2mm/OCCIPITAL/mask/Rlabel.npy\")\n",
    "\n",
    "print(Llabels.shape, Rlabels.shape)"
   ]
  },
  {
   "cell_type": "code",
   "execution_count": 7,
   "metadata": {},
   "outputs": [
    {
     "data": {
      "text/html": [
       "<div>\n",
       "<style scoped>\n",
       "    .dataframe tbody tr th:only-of-type {\n",
       "        vertical-align: middle;\n",
       "    }\n",
       "\n",
       "    .dataframe tbody tr th {\n",
       "        vertical-align: top;\n",
       "    }\n",
       "\n",
       "    .dataframe thead th {\n",
       "        text-align: right;\n",
       "    }\n",
       "</style>\n",
       "<table border=\"1\" class=\"dataframe\">\n",
       "  <thead>\n",
       "    <tr style=\"text-align: right;\">\n",
       "      <th></th>\n",
       "      <th>participant_id</th>\n",
       "      <th>qc</th>\n",
       "      <th>comments</th>\n",
       "    </tr>\n",
       "  </thead>\n",
       "  <tbody>\n",
       "    <tr>\n",
       "      <th>0</th>\n",
       "      <td>sub-2859308</td>\n",
       "      <td>1</td>\n",
       "      <td>NaN</td>\n",
       "    </tr>\n",
       "    <tr>\n",
       "      <th>1</th>\n",
       "      <td>sub-5201474</td>\n",
       "      <td>1</td>\n",
       "      <td>NaN</td>\n",
       "    </tr>\n",
       "    <tr>\n",
       "      <th>2</th>\n",
       "      <td>sub-2967866</td>\n",
       "      <td>1</td>\n",
       "      <td>NaN</td>\n",
       "    </tr>\n",
       "    <tr>\n",
       "      <th>3</th>\n",
       "      <td>sub-2707712</td>\n",
       "      <td>1</td>\n",
       "      <td>NaN</td>\n",
       "    </tr>\n",
       "    <tr>\n",
       "      <th>4</th>\n",
       "      <td>sub-4770610</td>\n",
       "      <td>1</td>\n",
       "      <td>NaN</td>\n",
       "    </tr>\n",
       "    <tr>\n",
       "      <th>...</th>\n",
       "      <td>...</td>\n",
       "      <td>...</td>\n",
       "      <td>...</td>\n",
       "    </tr>\n",
       "    <tr>\n",
       "      <th>21049</th>\n",
       "      <td>sub-5275233</td>\n",
       "      <td>1</td>\n",
       "      <td>NaN</td>\n",
       "    </tr>\n",
       "    <tr>\n",
       "      <th>21050</th>\n",
       "      <td>sub-3396940</td>\n",
       "      <td>1</td>\n",
       "      <td>NaN</td>\n",
       "    </tr>\n",
       "    <tr>\n",
       "      <th>21051</th>\n",
       "      <td>sub-2955962</td>\n",
       "      <td>1</td>\n",
       "      <td>NaN</td>\n",
       "    </tr>\n",
       "    <tr>\n",
       "      <th>21052</th>\n",
       "      <td>sub-2718550</td>\n",
       "      <td>1</td>\n",
       "      <td>NaN</td>\n",
       "    </tr>\n",
       "    <tr>\n",
       "      <th>21053</th>\n",
       "      <td>sub-5894417</td>\n",
       "      <td>1</td>\n",
       "      <td>NaN</td>\n",
       "    </tr>\n",
       "  </tbody>\n",
       "</table>\n",
       "<p>21052 rows × 3 columns</p>\n",
       "</div>"
      ],
      "text/plain": [
       "      participant_id  qc comments\n",
       "0        sub-2859308   1      NaN\n",
       "1        sub-5201474   1      NaN\n",
       "2        sub-2967866   1      NaN\n",
       "3        sub-2707712   1      NaN\n",
       "4        sub-4770610   1      NaN\n",
       "...              ...  ..      ...\n",
       "21049    sub-5275233   1      NaN\n",
       "21050    sub-3396940   1      NaN\n",
       "21051    sub-2955962   1      NaN\n",
       "21052    sub-2718550   1      NaN\n",
       "21053    sub-5894417   1      NaN\n",
       "\n",
       "[21052 rows x 3 columns]"
      ]
     },
     "execution_count": 7,
     "metadata": {},
     "output_type": "execute_result"
    }
   ],
   "source": [
    "qc = pd.read_csv(\"/neurospin/dico/data/deep_folding/current/datasets/UkBioBank/qc.tsv\", sep='\\t')\n",
    "qc[qc.qc == 1]\n"
   ]
  },
  {
   "cell_type": "code",
   "execution_count": 10,
   "metadata": {},
   "outputs": [
    {
     "data": {
      "text/plain": [
       "[(19, 'R'),\n",
       " (3104, 'L'),\n",
       " (3104, 'R'),\n",
       " (4390, 'L'),\n",
       " (4390, 'R'),\n",
       " (7534, 'R'),\n",
       " (16541, 'R')]"
      ]
     },
     "execution_count": 10,
     "metadata": {},
     "output_type": "execute_result"
    }
   ],
   "source": [
    "empty_crops = []\n",
    "\n",
    "for i in range(Llabels.shape[0]):\n",
    "    Lcrop = Llabels[i]\n",
    "    Rcrop = Rlabels[i]\n",
    "    \n",
    "    if np.count_nonzero(Lcrop) == 0:\n",
    "        empty_crops.append((i, 'L'))\n",
    "    if np.count_nonzero(Rcrop) == 0:\n",
    "        empty_crops.append((i, 'R'))\n",
    "\n",
    "empty_crops"
   ]
  }
 ],
 "metadata": {
  "kernelspec": {
   "display_name": "venv_local",
   "language": "python",
   "name": "python3"
  },
  "language_info": {
   "codemirror_mode": {
    "name": "ipython",
    "version": 3
   },
   "file_extension": ".py",
   "mimetype": "text/x-python",
   "name": "python",
   "nbconvert_exporter": "python",
   "pygments_lexer": "ipython3",
   "version": "3.10.12"
  },
  "orig_nbformat": 4
 },
 "nbformat": 4,
 "nbformat_minor": 2
}
