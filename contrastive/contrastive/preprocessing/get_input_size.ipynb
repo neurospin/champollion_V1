{
 "cells": [
  {
   "cell_type": "code",
   "execution_count": 3,
   "metadata": {},
   "outputs": [],
   "source": [
    "import numpy as np"
   ]
  },
  {
   "cell_type": "code",
   "execution_count": 4,
   "metadata": {},
   "outputs": [],
   "source": [
    "region_names = ['S.or.', 'S.T.s.', 'Sc.Cal.-S.Li.']\n",
    "sides = ['R', 'L']"
   ]
  },
  {
   "cell_type": "code",
   "execution_count": 5,
   "metadata": {},
   "outputs": [
    {
     "name": "stdout",
     "output_type": "stream",
     "text": [
      "S.or. R (1292, 26, 34, 23, 1)\n",
      "S.or. L (1292, 30, 38, 22, 1)\n",
      "S.T.s. R (1292, 24, 52, 51, 1)\n",
      "S.T.s. L (1292, 25, 55, 50, 1)\n",
      "Sc.Cal.-S.Li. R (1292, 26, 42, 44, 1)\n",
      "Sc.Cal.-S.Li. L (1292, 25, 42, 36, 1)\n"
     ]
    }
   ],
   "source": [
    "for region_name in region_names:\n",
    "    for side in sides:\n",
    "\n",
    "        load_path = f\"/neurospin/dico/data/deep_folding/current/datasets/schiz/crops/2mm/{region_name}/mask/{side}skeleton.npy\"\n",
    "        check_path = f\"/neurospin/dico/data/deep_folding/current/datasets/schiz/crops/2mm/{region_name}/mask/{side}label.npy\"\n",
    "\n",
    "        skels = np.load(load_path)\n",
    "        foldlabels = np.load(check_path)\n",
    "\n",
    "        if skels.shape != foldlabels.shape:\n",
    "            print(region_name, side, \"Ca marche pas\")\n",
    "        else:\n",
    "            print(region_name, side, skels.shape)"
   ]
  }
 ],
 "metadata": {
  "kernelspec": {
   "display_name": "venv_local",
   "language": "python",
   "name": "python3"
  },
  "language_info": {
   "codemirror_mode": {
    "name": "ipython",
    "version": 3
   },
   "file_extension": ".py",
   "mimetype": "text/x-python",
   "name": "python",
   "nbconvert_exporter": "python",
   "pygments_lexer": "ipython3",
   "version": "3.10.6"
  },
  "orig_nbformat": 4
 },
 "nbformat": 4,
 "nbformat_minor": 2
}
