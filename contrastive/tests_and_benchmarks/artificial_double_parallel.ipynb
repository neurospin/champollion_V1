{
 "cells": [
  {
   "cell_type": "code",
   "execution_count": 2,
   "metadata": {},
   "outputs": [],
   "source": [
    "import numpy as np\n",
    "import numpy.random as rd\n",
    "import matplotlib.pyplot as plt\n",
    "import pandas as pd\n",
    "\n",
    "from sklearn.model_selection import train_test_split"
   ]
  },
  {
   "cell_type": "code",
   "execution_count": 3,
   "metadata": {},
   "outputs": [],
   "source": [
    "Rshape = (17, 40, 38)\n",
    "Lshape = (20, 42, 38)"
   ]
  },
  {
   "cell_type": "code",
   "execution_count": 16,
   "metadata": {},
   "outputs": [],
   "source": [
    "def create_frite(arr, position, length, main_dim):\n",
    "    \"\"\"Adds a frite with a given length along the given axis at given position in an array.\n",
    "\n",
    "    Arguments:\n",
    "        - arr: array to put the frite in\n",
    "        - position: coords of the middle of the frite\n",
    "        - length: length of the frite\n",
    "        - main_dim: 0,1 or 2. Dimension the longest side is along\"\"\"\n",
    "\n",
    "    width = 3\n",
    "    dims_frite = []\n",
    "\n",
    "    for i in range(3):\n",
    "        if i == main_dim:\n",
    "            dim_min = int(position[i] - length/2)\n",
    "            dim_max = int(position[i] + length/2)\n",
    "        else:\n",
    "            dim_min = int(position[i] - width/2)\n",
    "            dim_max = int(position[i] + width/2)\n",
    "        dims_frite.append([dim_min, dim_max])\n",
    "    \n",
    "    arr[dims_frite[0][0]:dims_frite[0][1],\n",
    "        dims_frite[1][0]:dims_frite[1][1],\n",
    "        dims_frite[2][0]:dims_frite[2][1]] = 60\n",
    "\n",
    "    return arr"
   ]
  },
  {
   "cell_type": "code",
   "execution_count": 17,
   "metadata": {},
   "outputs": [
    {
     "name": "stdout",
     "output_type": "stream",
     "text": [
      "[ 0. 60.]\n"
     ]
    },
    {
     "data": {
      "text/plain": [
       "<matplotlib.image.AxesImage at 0x7fa49c05b760>"
      ]
     },
     "execution_count": 17,
     "metadata": {},
     "output_type": "execute_result"
    },
    {
     "data": {
      "image/png": "[encoded data removed]",
      "text/plain": [
       "<Figure size 640x480 with 1 Axes>"
      ]
     },
     "metadata": {},
     "output_type": "display_data"
    }
   ],
   "source": [
    "# test of create_frite\n",
    "\n",
    "arr = np.zeros((500,500,500))\n",
    "arr = create_frite(arr, (250,250,250), 25, 0)\n",
    "\n",
    "print(np.unique(arr))\n",
    "\n",
    "plt.imshow(arr[:,250,:])"
   ]
  },
  {
   "cell_type": "code",
   "execution_count": 20,
   "metadata": {},
   "outputs": [],
   "source": [
    "def get_boundaries(size, alpha):\n",
    "    bound_min = int(size//2 * (1 - alpha))\n",
    "    bound_max = int(size//2 * (1 + alpha))\n",
    "    \n",
    "    if (bound_min < 0) or (bound_max > size):\n",
    "        raise ValueError(\"Choose a smaller alpha\")\n",
    "    \n",
    "    return bound_min, bound_max"
   ]
  },
  {
   "cell_type": "code",
   "execution_count": 29,
   "metadata": {},
   "outputs": [],
   "source": [
    "def generate_pos(shape, alpha, orient, double=False):\n",
    "    xmin, xmax = get_boundaries(shape[0], alpha)\n",
    "    ymin, ymax = get_boundaries(shape[1], alpha)\n",
    "    zmin, zmax = get_boundaries(shape[2], alpha)\n",
    "\n",
    "    x = rd.randint(xmin, xmax)\n",
    "    y = rd.randint(ymin, ymax)\n",
    "    z = rd.randint(zmin, zmax)\n",
    "\n",
    "    if double:\n",
    "        x2 = x\n",
    "        y2 = y\n",
    "        z2 = z\n",
    "\n",
    "        dim_to_change = rd.randint(0,3)\n",
    "        while dim_to_change == orient:\n",
    "            dim_to_change = rd.randint(1,3)\n",
    "        \n",
    "        if dim_to_change == 0:\n",
    "            x2 = rd.choice([x2+5, x2-5])\n",
    "        elif dim_to_change == 1:\n",
    "            y2 = rd.choice([y2+5, y2-5])\n",
    "        else:\n",
    "            z2 = rd.choice([z2+5, z2-5])\n",
    "\n",
    "        return (x, y, z), (x2, y2, z2)\n",
    "\n",
    "    return (x, y, z)\n",
    "\n",
    "pos, pos2 = generate_pos(Rshape, 0.2, 1, double=True)"
   ]
  },
  {
   "cell_type": "code",
   "execution_count": 37,
   "metadata": {},
   "outputs": [
    {
     "data": {
      "text/plain": [
       "<matplotlib.image.AxesImage at 0x7fa49bc78cd0>"
      ]
     },
     "execution_count": 37,
     "metadata": {},
     "output_type": "execute_result"
    },
    {
     "data": {
      "image/png": "[encoded data removed]",
      "text/plain": [
       "<Figure size 640x480 with 1 Axes>"
      ]
     },
     "metadata": {},
     "output_type": "display_data"
    }
   ],
   "source": [
    "def apply_frites(shape, length, orient, pos, pos2=None):\n",
    "    arr = np.zeros(shape)\n",
    "    arr = create_frite(arr, pos, length, orient)\n",
    "    if pos2:\n",
    "        arr = create_frite(arr, pos2, int(2/3 * length), orient)\n",
    "    \n",
    "    return arr\n",
    "\n",
    "arr = apply_frites(Rshape, 15, 1, pos, pos2=pos2)\n",
    "\n",
    "plt.imshow(arr[6,:,:])"
   ]
  },
  {
   "cell_type": "code",
   "execution_count": 44,
   "metadata": {},
   "outputs": [],
   "source": [
    "# generate the np arrays\n",
    "\n",
    "N_subjects = 2500\n",
    "alpha = 0.1\n",
    "length_frite = 15\n",
    "Rshape = (17, 40, 38)\n",
    "Lshape = (20, 42, 38)\n",
    "\n",
    "R_arrays = []\n",
    "L_arrays = []\n",
    "Right_PCS = []\n",
    "Left_PCS = []\n",
    "PCS_asymetry = []\n",
    "\n",
    "for i_sub in range(N_subjects):\n",
    "    orient = rd.randint(1,3)\n",
    "\n",
    "    # right side\n",
    "    R_double = bool(rd.randint(0,2))\n",
    "    pos, pos2 = generate_pos(Rshape, alpha, orient, double=True)\n",
    "\n",
    "    if R_double:\n",
    "        arr = apply_frites(Rshape, length_frite, orient, pos, pos2=pos2)\n",
    "    else:\n",
    "        arr = apply_frites(Rshape, length_frite, orient, pos, pos2=None)\n",
    "    R_arrays.append(arr)\n",
    "\n",
    "    # left side\n",
    "    L_double = bool(rd.randint(0,2))\n",
    "    pos, pos2 = generate_pos(Lshape, alpha, orient, double=True)\n",
    "\n",
    "    if L_double:\n",
    "        arr = apply_frites(Lshape, length_frite, orient, pos, pos2=pos2)\n",
    "    else:\n",
    "        arr = apply_frites(Lshape, length_frite, orient, pos, pos2=None)\n",
    "    L_arrays.append(arr)\n",
    "\n",
    "    # treat labels\n",
    "    Right_PCS.append(R_double)\n",
    "    Left_PCS.append(L_double)\n",
    "    PCS_asymetry.append(R_double != L_double)\n",
    "\n",
    "R_arrays = np.array(R_arrays)\n",
    "L_arrays = np.array(L_arrays)\n",
    "Right_PCS = np.array(Right_PCS, dtype=int)\n",
    "Left_PCS = np.array(Left_PCS, dtype=int)\n",
    "PCS_asymetry = np.array(PCS_asymetry, dtype=int)\n",
    "\n",
    "# check if good label repartition\n",
    "print(PCS_asymetry.sum(), len(PCS_asymetry))"
   ]
  },
  {
   "cell_type": "code",
   "execution_count": 46,
   "metadata": {},
   "outputs": [
    {
     "data": {
      "image/png": "[encoded data removed]",
      "text/plain": [
       "<Figure size 640x480 with 1 Axes>"
      ]
     },
     "metadata": {},
     "output_type": "display_data"
    },
    {
     "data": {
      "image/png": "[encoded data removed]",
      "text/plain": [
       "<Figure size 640x480 with 1 Axes>"
      ]
     },
     "metadata": {},
     "output_type": "display_data"
    },
    {
     "data": {
      "image/png": "[encoded data removed]",
      "text/plain": [
       "<Figure size 640x480 with 1 Axes>"
      ]
     },
     "metadata": {},
     "output_type": "display_data"
    },
    {
     "name": "stdout",
     "output_type": "stream",
     "text": [
      "1 0 1\n"
     ]
    }
   ],
   "source": [
    "i_test = 51\n",
    "\n",
    "plt.imshow(R_arrays[i_test][7])\n",
    "plt.figure()\n",
    "plt.imshow(L_arrays[i_test][7])\n",
    "plt.figure()\n",
    "plt.imshow(L_arrays[i_test][:,20,:])\n",
    "plt.show()\n",
    "print(Right_PCS[i_test], Left_PCS[i_test], PCS_asymetry[i_test])"
   ]
  },
  {
   "cell_type": "code",
   "execution_count": 48,
   "metadata": {},
   "outputs": [
    {
     "name": "stdout",
     "output_type": "stream",
     "text": [
      "(2500, 17, 40, 38, 1) (2500, 20, 42, 38, 1)\n"
     ]
    }
   ],
   "source": [
    "# save the arrays\n",
    "\n",
    "save_path = \"/neurospin/dico/data/deep_folding/current/datasets/benchmarks/frites\"\n",
    "\n",
    "# add the required extra dim\n",
    "R_arrays = np.expand_dims(R_arrays, -1)\n",
    "L_arrays = np.expand_dims(L_arrays, -1)\n",
    "\n",
    "print(R_arrays.shape, L_arrays.shape)\n",
    "\n",
    "np.save(save_path+'/Rarrays.npy', R_arrays)\n",
    "np.save(save_path+'/Larrays.npy', L_arrays)"
   ]
  },
  {
   "cell_type": "code",
   "execution_count": 49,
   "metadata": {},
   "outputs": [],
   "source": [
    "# save the labels\n",
    "\n",
    "names = ['fake_'+str(i) for i in range(N_subjects)]\n",
    "liste_labels = [names, Right_PCS, Left_PCS, PCS_asymetry]\n",
    "labels_df = pd.DataFrame(np.transpose(liste_labels), columns=['Sub_ID', 'Right_PCS', 'Left_PCS', 'PCS_asymetry'])\n",
    "labels_df.to_csv(save_path+'/labels.csv')"
   ]
  },
  {
   "cell_type": "code",
   "execution_count": 50,
   "metadata": {},
   "outputs": [
    {
     "name": "stdout",
     "output_type": "stream",
     "text": [
      "1054    fake_1054\n",
      "2014    fake_2014\n",
      "1404    fake_1404\n",
      "630      fake_630\n",
      "1524    fake_1524\n",
      "          ...    \n",
      "2252    fake_2252\n",
      "1981    fake_1981\n",
      "143      fake_143\n",
      "2184    fake_2184\n",
      "233      fake_233\n",
      "Name: Subject, Length: 2000, dtype: object\n",
      "550      fake_550\n",
      "2316    fake_2316\n",
      "635      fake_635\n",
      "618      fake_618\n",
      "546      fake_546\n",
      "          ...    \n",
      "1728    fake_1728\n",
      "121      fake_121\n",
      "120      fake_120\n",
      "777      fake_777\n",
      "669      fake_669\n",
      "Name: Subject, Length: 500, dtype: object\n"
     ]
    }
   ],
   "source": [
    "# save the subjects + generate train_val\n",
    "\n",
    "subjects = labels_df['Sub_ID']\n",
    "subjects = subjects.rename('Subject')\n",
    "\n",
    "subjects.to_csv(save_path+'/subjects.csv')\n",
    "\n",
    "train_val_percentage = 0.8\n",
    "\n",
    "train_val, test = train_test_split(subjects, train_size=train_val_percentage)\n",
    "\n",
    "print(train_val)\n",
    "print(test)\n",
    "\n",
    "train_val.to_csv(save_path+'/train_val_subjects.csv', index=False, header=False)"
   ]
  }
 ],
 "metadata": {
  "kernelspec": {
   "display_name": "venv_local",
   "language": "python",
   "name": "python3"
  },
  "language_info": {
   "codemirror_mode": {
    "name": "ipython",
    "version": 3
   },
   "file_extension": ".py",
   "mimetype": "text/x-python",
   "name": "python",
   "nbconvert_exporter": "python",
   "pygments_lexer": "ipython3",
   "version": "3.10.6"
  },
  "orig_nbformat": 4
 },
 "nbformat": 4,
 "nbformat_minor": 2
}
