{
 "cells": [
  {
   "cell_type": "code",
   "execution_count": 2,
   "metadata": {},
   "outputs": [
    {
     "name": "stdout",
     "output_type": "stream",
     "text": [
      "Copied: /neurospin/dico/babdelghani/Runs/02_champollion_v1/Output/surface_seed_full/OCCIPITAL_left_32_16/batch_16_seed_128/2025-08-06/13-19-35_0/ukb40_FCLp_no_classiffier_random_embeddings/test_embeddings.csv → /home/cb283697/Bureau/mahlanobis_test/test_embeddings_seed128.csv\n",
      "Copied: /neurospin/dico/babdelghani/Runs/02_champollion_v1/Output/surface_seed_full/OCCIPITAL_left_32_16/batch_16_seed_212/2025-08-06/13-19-35_0/ukb40_FCLp_no_classiffier_random_embeddings/test_embeddings.csv → /home/cb283697/Bureau/mahlanobis_test/test_embeddings_seed212.csv\n",
      "Copied: /neurospin/dico/babdelghani/Runs/02_champollion_v1/Output/surface_seed_full/OCCIPITAL_left_32_16/batch_16_seed_42/2025-08-06/13-19-03_0/ukb40_FCLp_no_classiffier_random_embeddings/test_embeddings.csv → /home/cb283697/Bureau/mahlanobis_test/test_embeddings_seed42.csv\n",
      "Copied: /neurospin/dico/babdelghani/Runs/02_champollion_v1/Output/surface_seed_full/OCCIPITAL_left_32_16/batch_16_seed_48/2025-08-06/13-19-05_0/ukb40_FCLp_no_classiffier_random_embeddings/test_embeddings.csv → /home/cb283697/Bureau/mahlanobis_test/test_embeddings_seed48.csv\n",
      "Copied: /neurospin/dico/babdelghani/Runs/02_champollion_v1/Output/surface_seed_full/OCCIPITAL_left_32_16/batch_16_seed_75/2025-08-06/13-19-05_0/ukb40_FCLp_no_classiffier_random_embeddings/test_embeddings.csv → /home/cb283697/Bureau/mahlanobis_test/test_embeddings_seed75.csv\n",
      "\n",
      "Done copying all test_embeddings.csv files.\n"
     ]
    }
   ],
   "source": [
    "import os\n",
    "import shutil\n",
    "\n",
    "# === Input root directory ===\n",
    "root_dir = \"/neurospin/dico/babdelghani/Runs/02_champollion_v1/Output/volume_seed/OCCIPITAL_left_32_16\"\n",
    "\n",
    "# === Output directory (with flat filenames) ===\n",
    "dest_dir = \"/home/cb283697/Bureau/volume-seed\"\n",
    "os.makedirs(dest_dir, exist_ok=True)\n",
    "\n",
    "for config_folder in sorted(os.listdir(root_dir)):\n",
    "    config_path = os.path.join(root_dir, config_folder)\n",
    "    if not os.path.isdir(config_path):\n",
    "        continue\n",
    "\n",
    "    # extract just the “sigma_null_factor_0.2” portion\n",
    "    prefix = config_folder.split(\"_batch_\")[0]\n",
    "\n",
    "    for date_folder in sorted(os.listdir(config_path)):\n",
    "        date_path = os.path.join(config_path, date_folder)\n",
    "        if not os.path.isdir(date_path):\n",
    "            continue\n",
    "\n",
    "        for run_folder in sorted(os.listdir(date_path)):\n",
    "            run_path = os.path.join(date_path, run_folder)\n",
    "            if not os.path.isdir(run_path):\n",
    "                continue\n",
    "\n",
    "            embeddings_dir = os.path.join(run_path,\n",
    "                                          \"ukb40_FCLp_no_classiffier_random_embeddings\")\n",
    "            csv_file = os.path.join(embeddings_dir, \"full_embeddings.csv\")\n",
    "\n",
    "            if os.path.isfile(csv_file):\n",
    "                # now only use the prefix, drop date & run\n",
    "                flat_name = f\"{prefix}.csv\"\n",
    "                dest_file = os.path.join(dest_dir, flat_name)\n",
    "\n",
    "                try:\n",
    "                    shutil.copy(csv_file, dest_file)\n",
    "                    print(f\"Copied: {csv_file} → {dest_file}\")\n",
    "                except Exception as e:\n",
    "                    print(f\"Error copying {csv_file}: {e}\")\n",
    "\n",
    "print(\"\\nDone copying all full_embeddings.csv files.\")\n"
   ]
  },
  {
   "cell_type": "code",
   "execution_count": 1,
   "metadata": {},
   "outputs": [
    {
     "name": "stdout",
     "output_type": "stream",
     "text": [
      "\n",
      "Done copying all test_embeddings.csv files.\n"
     ]
    }
   ],
   "source": [
    "import os\n",
    "import shutil\n",
    "\n",
    "# === Input root directory ===\n",
    "root_dir = \"/neurospin/dico/babdelghani/Runs/02_champollion_v1/Output/thickness_freesurfer_test/OCCIPITAL_left_16_16\"\n",
    "\n",
    "# === Output directory ===\n",
    "dest_dir = \"/home/cb283697/Bureau/CORTICAL_thickness\"\n",
    "os.makedirs(dest_dir, exist_ok=True)\n",
    "\n",
    "# Loop through each seed folder (batch_16_seed_XXX)\n",
    "for seed_folder in sorted(os.listdir(root_dir)):\n",
    "    seed_path = os.path.join(root_dir, seed_folder)\n",
    "    if not os.path.isdir(seed_path) or not seed_folder.startswith(\"batch_16_seed_\"):\n",
    "        continue\n",
    "\n",
    "    # dive into date folders\n",
    "    for date_folder in sorted(os.listdir(seed_path)):\n",
    "        date_path = os.path.join(seed_path, date_folder)\n",
    "        if not os.path.isdir(date_path):\n",
    "            continue\n",
    "\n",
    "        for run_folder in sorted(os.listdir(date_path)):\n",
    "            run_path = os.path.join(date_path, run_folder)\n",
    "            if not os.path.isdir(run_path):\n",
    "                continue\n",
    "\n",
    "            embeddings_dir = os.path.join(run_path, \"ukb40_FCLp_no_classiffier_random_embeddings\")\n",
    "            csv_file = os.path.join(embeddings_dir, \"full_embeddings.csv\")\n",
    "\n",
    "            if os.path.isfile(csv_file):\n",
    "                # name file with seed, e.g., test_embeddings_seed128.csv\n",
    "                seed_num = seed_folder.split(\"_\")[-1]\n",
    "                flat_name = f\"full_embeddings_seed{seed_num}.csv\"\n",
    "                dest_file = os.path.join(dest_dir, flat_name)\n",
    "\n",
    "                try:\n",
    "                    shutil.copy(csv_file, dest_file)\n",
    "                    print(f\"Copied: {csv_file} → {dest_file}\")\n",
    "                except Exception as e:\n",
    "                    print(f\"Error copying {csv_file}: {e}\")\n",
    "\n",
    "print(\"\\nDone copying all test_embeddings.csv files.\")\n"
   ]
  },
  {
   "cell_type": "code",
   "execution_count": 1,
   "metadata": {},
   "outputs": [
    {
     "name": "stdout",
     "output_type": "stream",
     "text": [
      "Copied: /neurospin/dico/babdelghani/Runs/02_champollion_v1/Output/SIMCLR/OCCIPITAL_left_32_16/residualized/batch_16_seed_128_2025-08-24_21-13-46_0.csv → /home/cb283697/Bureau/SIMCLR-res/batch_16_seed_128_2025-08-24_21-13-46_0.csv\n",
      "Copied: /neurospin/dico/babdelghani/Runs/02_champollion_v1/Output/SIMCLR/OCCIPITAL_left_32_16/residualized/batch_16_seed_212_2025-08-24_21-13-46_0.csv → /home/cb283697/Bureau/SIMCLR-res/batch_16_seed_212_2025-08-24_21-13-46_0.csv\n",
      "Copied: /neurospin/dico/babdelghani/Runs/02_champollion_v1/Output/SIMCLR/OCCIPITAL_left_32_16/residualized/batch_16_seed_42_2025-08-24_21-13-45_0.csv → /home/cb283697/Bureau/SIMCLR-res/batch_16_seed_42_2025-08-24_21-13-45_0.csv\n",
      "Copied: /neurospin/dico/babdelghani/Runs/02_champollion_v1/Output/SIMCLR/OCCIPITAL_left_32_16/residualized/batch_16_seed_48_2025-08-24_21-13-46_0.csv → /home/cb283697/Bureau/SIMCLR-res/batch_16_seed_48_2025-08-24_21-13-46_0.csv\n",
      "Copied: /neurospin/dico/babdelghani/Runs/02_champollion_v1/Output/SIMCLR/OCCIPITAL_left_32_16/residualized/batch_16_seed_75_2025-08-24_21-13-45_0.csv → /home/cb283697/Bureau/SIMCLR-res/batch_16_seed_75_2025-08-24_21-13-45_0.csv\n",
      "\n",
      " Done copying all residualized embeddings.\n"
     ]
    }
   ],
   "source": [
    "import os\n",
    "import shutil\n",
    "\n",
    "# Chemin source : là où se trouvent les embeddings résidualisés\n",
    "source_dir = \"/neurospin/dico/babdelghani/Runs/02_champollion_v1/Output/SIMCLR/OCCIPITAL_left_32_16/residualized\"\n",
    "\n",
    "# Chemin destination : ton répertoire local\n",
    "dest_dir = \"/home/cb283697/Bureau/SIMCLR-res/\"\n",
    "os.makedirs(dest_dir, exist_ok=True)\n",
    "\n",
    "# Lister les fichiers dans le dossier source\n",
    "for filename in sorted(os.listdir(source_dir)):\n",
    "    src_file = os.path.join(source_dir, filename)\n",
    "    dest_file = os.path.join(dest_dir, filename)\n",
    "\n",
    "    try:\n",
    "        shutil.copy(src_file, dest_file)\n",
    "        print(f\"Copied: {src_file} → {dest_file}\")\n",
    "    except Exception as e:\n",
    "        print(f\" Error copying {src_file}: {e}\")\n",
    "\n",
    "print(\"\\n Done copying all residualized embeddings.\")\n"
   ]
  },
  {
   "cell_type": "code",
   "execution_count": 10,
   "metadata": {},
   "outputs": [
    {
     "name": "stdout",
     "output_type": "stream",
     "text": [
      "✅ Copied to: /home/cb283697/Bureau/surface/log_thickness_surface_Age.csv\n"
     ]
    }
   ],
   "source": [
    "import os\n",
    "import shutil\n",
    "\n",
    "source_file = \"/neurospin/dico/data/deep_folding/current/datasets/UkBioBank40/log_thickness_surface_Age.csv\"\n",
    "destination_dir = \"/home/cb283697/Bureau/surface\"\n",
    "destination_file = os.path.join(destination_dir, \"log_thickness_surface_Age.csv\")\n",
    "\n",
    "os.makedirs(destination_dir, exist_ok=True)\n",
    "\n",
    "try:\n",
    "    shutil.copy(source_file, destination_file)\n",
    "    print(f\" Copied to: {destination_file}\")\n",
    "except Exception as e:\n",
    "    print(f\" Error: {e}\")\n"
   ]
  },
  {
   "cell_type": "code",
   "execution_count": 2,
   "metadata": {},
   "outputs": [
    {
     "name": "stdout",
     "output_type": "stream",
     "text": [
      "✅ Copied from: /neurospin/dico/data/deep_folding/current/models/Champollion_V1_after_ablation/FCLp-subsc-FCLa-INSULA_left/name17-43-58_232/ukb40_PGS_full_embeddings_random_embeddings/full_embeddings.csv → /home/cb283697/Bureau/PGS/FCLp-subsc-FCLa-INSULA_left/champollion/full_embeddings_name17-43-58_232.csv\n",
      "\n",
      "✅ Done copying all full_embeddings.csv files.\n"
     ]
    }
   ],
   "source": [
    "import os\n",
    "import shutil\n",
    "\n",
    "# Set the root directory where different subfolders (e.g., name17-43-58_232) are located\n",
    "root_dir = \"/neurospin/dico/data/deep_folding/current/models/Champollion_V1_after_ablation/FCLp-subsc-FCLa-INSULA_left\"\n",
    "\n",
    "# Destination directory to store the copied full_embeddings.csv files\n",
    "dest_dir = \"/home/cb283697/Bureau/PGS/FCLp-subsc-FCLa-INSULA_left/champollion\"\n",
    "os.makedirs(dest_dir, exist_ok=True)\n",
    "\n",
    "# Loop through all subdirectories\n",
    "for subfolder in sorted(os.listdir(root_dir)):\n",
    "    subfolder_path = os.path.join(root_dir, subfolder)\n",
    "\n",
    "    if os.path.isdir(subfolder_path):\n",
    "        embeddings_path = os.path.join(\n",
    "            subfolder_path,\n",
    "            \"ukb40_PGS_full_embeddings_random_embeddings\",\n",
    "            \"full_embeddings.csv\"\n",
    "        )\n",
    "        if os.path.exists(embeddings_path):\n",
    "            dest_file = os.path.join(dest_dir, f\"full_embeddings_{subfolder}.csv\")\n",
    "            try:\n",
    "                shutil.copy(embeddings_path, dest_file)\n",
    "                print(f\" Copied from: {embeddings_path} → {dest_file}\")\n",
    "            except Exception as e:\n",
    "                print(f\" Error copying {embeddings_path}: {e}\")\n",
    "        else:\n",
    "            print(f\"⚠️  Missing full_embeddings.csv in: {subfolder}\")\n",
    "\n",
    "print(\"\\n Done copying all full_embeddings.csv files.\")\n"
   ]
  }
 ],
 "metadata": {
  "kernelspec": {
   "display_name": "contrastive_env",
   "language": "python",
   "name": "python3"
  },
  "language_info": {
   "codemirror_mode": {
    "name": "ipython",
    "version": 3
   },
   "file_extension": ".py",
   "mimetype": "text/x-python",
   "name": "python",
   "nbconvert_exporter": "python",
   "pygments_lexer": "ipython3",
   "version": "3.12.3"
  }
 },
 "nbformat": 4,
 "nbformat_minor": 2
}
