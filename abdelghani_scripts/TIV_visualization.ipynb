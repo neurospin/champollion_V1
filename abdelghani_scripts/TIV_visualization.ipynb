{
 "cells": [
  {
   "cell_type": "markdown",
   "metadata": {},
   "source": [
    "tiv to brain_volume"
   ]
  },
  {
   "cell_type": "code",
   "execution_count": 2,
   "metadata": {},
   "outputs": [],
   "source": [
    "import pandas as pd\n",
    "import matplotlib.pyplot as plt\n",
    "import os\n",
    "\n",
    "# Load tiv data\n",
    "cat12_path = \"/neurospin/dico/data/human/UKBioBank/derivatives/ns_cat12vbm-roi/cat12_vbm_roi.tsv\"\n",
    "cat12_df = pd.read_csv(cat12_path, sep='\\t')\n",
    "cat12_df = cat12_df[['participant_id', 'tiv']]\n",
    "\n",
    "# Load brain volume data\n",
    "volume_path = \"/neurospin/dico/data/deep_folding/current/datasets/UkBioBank40/participants_sex_age_volumes.csv\"\n",
    "vol_df = pd.read_csv(volume_path)\n",
    "vol_df = vol_df[['participant_id', 'volume']]\n",
    "\n",
    "# Merge dataframes\n",
    "merged = pd.merge(cat12_df, vol_df, on='participant_id')\n",
    "\n",
    "# Create plot\n",
    "plt.figure(figsize=(8,6))\n",
    "plt.scatter(merged['tiv'], merged['volume'], alpha=0.6)\n",
    "plt.xlabel('tiv')\n",
    "plt.ylabel('Brain Volume')\n",
    "plt.title('tiv vs Brain Volume')\n",
    "plt.grid(True)\n",
    "plt.tight_layout()\n",
    "\n",
    "# Save plot\n",
    "output_path = \"/neurospin/dico/babdelghani/Runs/02_champollion_v1/Program/2023_jlaval_STSbabies/abdelghani_figures/tiv_vs_volume.png\"\n",
    "os.makedirs(os.path.dirname(output_path), exist_ok=True)\n",
    "plt.savefig(output_path)\n",
    "plt.close()\n"
   ]
  }
 ],
 "metadata": {
  "kernelspec": {
   "display_name": "contrastive_env",
   "language": "python",
   "name": "python3"
  },
  "language_info": {
   "codemirror_mode": {
    "name": "ipython",
    "version": 3
   },
   "file_extension": ".py",
   "mimetype": "text/x-python",
   "name": "python",
   "nbconvert_exporter": "python",
   "pygments_lexer": "ipython3",
   "version": "3.12.3"
  }
 },
 "nbformat": 4,
 "nbformat_minor": 2
}
