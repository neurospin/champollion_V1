{
 "cells": [
  {
   "cell_type": "code",
   "execution_count": 3,
   "metadata": {},
   "outputs": [
    {
     "name": "stdout",
     "output_type": "stream",
     "text": [
      "\n",
      "📁 Processing folder: /home/cb283697/Bureau/SC_right_ukb_embeddings_tiv/dim_32_tiv\n",
      "✅ Residualized and saved: /home/cb283697/Bureau/SC_right_ukb_embeddings_tiv/dim_32_tiv_residualized/full_embeddings_dim_32_batch_128_sigma_0.01.csv\n",
      "✅ Residualized and saved: /home/cb283697/Bureau/SC_right_ukb_embeddings_tiv/dim_32_tiv_residualized/full_embeddings_dim_32_batch_128_sigma_0.05.csv\n",
      "✅ Residualized and saved: /home/cb283697/Bureau/SC_right_ukb_embeddings_tiv/dim_32_tiv_residualized/full_embeddings_dim_32_batch_64_sigma_0.01.csv\n",
      "✅ Residualized and saved: /home/cb283697/Bureau/SC_right_ukb_embeddings_tiv/dim_32_tiv_residualized/full_embeddings_dim_32_batch_64_sigma_0.05.csv\n",
      "\n",
      "✅ All embeddings residualized by TIV with 'ID' column included.\n"
     ]
    }
   ],
   "source": [
    "import os\n",
    "import pandas as pd\n",
    "import statsmodels.api as sm\n",
    "from sklearn.preprocessing import StandardScaler\n",
    "\n",
    "# === Paths ===\n",
    "tiv_path = \"/neurospin/dico/data/deep_folding/current/datasets/UkBioBank40/participants_tiv_volumes_normalized.csv\"\n",
    "embedding_folder = \"/home/cb283697/Bureau/SC_right_ukb_embeddings_tiv/dim_32_tiv\"\n",
    "output_folder = embedding_folder + \"_residualized\"\n",
    "\n",
    "# === Load TIV data ===\n",
    "df_tiv = pd.read_csv(tiv_path)\n",
    "df_tiv.columns = df_tiv.columns.str.strip().str.lower()\n",
    "df_tiv = df_tiv.drop_duplicates(subset=\"participant_id\").dropna(subset=[\"volume\"])\n",
    "df_tiv.set_index(\"participant_id\", inplace=True)\n",
    "\n",
    "# === Create output directory ===\n",
    "os.makedirs(output_folder, exist_ok=True)\n",
    "\n",
    "# === Function to residualize one embedding file ===\n",
    "def residualize_embeddings(embedding_path, tiv_df, output_path):\n",
    "    embeddings = pd.read_csv(embedding_path, index_col=0)\n",
    "\n",
    "    # Match TIV rows\n",
    "    embeddings = embeddings.loc[embeddings.index.intersection(tiv_df.index)]\n",
    "    tiv = tiv_df.loc[embeddings.index][[\"volume\"]]\n",
    "\n",
    "    # Standardize both\n",
    "    scaler = StandardScaler()\n",
    "    embeddings_std = pd.DataFrame(\n",
    "        scaler.fit_transform(embeddings),\n",
    "        index=embeddings.index,\n",
    "        columns=embeddings.columns\n",
    "    )\n",
    "    tiv_std = scaler.fit_transform(tiv)\n",
    "    tiv_std = sm.add_constant(tiv_std)\n",
    "\n",
    "    residualized = pd.DataFrame(index=embeddings_std.index, columns=embeddings_std.columns)\n",
    "\n",
    "    for col in embeddings_std.columns:\n",
    "        model = sm.OLS(embeddings_std[col], tiv_std).fit()\n",
    "        residualized[col] = model.resid\n",
    "\n",
    "    # Reset index so 'ID' becomes a proper column\n",
    "    residualized = residualized.reset_index()\n",
    "    residualized.rename(columns={'index': 'ID'}, inplace=True)\n",
    "\n",
    "    residualized.to_csv(output_path, index=False)\n",
    "    print(f\"✅ Residualized and saved: {output_path}\")\n",
    "\n",
    "# === Process all embeddings ===\n",
    "print(f\"\\n📁 Processing folder: {embedding_folder}\")\n",
    "for file in sorted(os.listdir(embedding_folder)):\n",
    "    if file.endswith(\".csv\"):\n",
    "        embed_path = os.path.join(embedding_folder, file)\n",
    "        output_path = os.path.join(output_folder, file)\n",
    "        residualize_embeddings(embed_path, df_tiv, output_path)\n",
    "\n",
    "print(\"\\n✅ All embeddings residualized by TIV with 'ID' column included.\")\n"
   ]
  },
  {
   "cell_type": "code",
   "execution_count": 6,
   "metadata": {},
   "outputs": [
    {
     "name": "stdout",
     "output_type": "stream",
     "text": [
      "✅ Saved merged file with TIV to: /home/cb283697/Bureau/SC_right_ukb_embeddings_tiv/V1/full_embeddings_tiv.csv\n"
     ]
    }
   ],
   "source": [
    "import pandas as pd\n",
    "\n",
    "# === Paths ===\n",
    "embedding_path = \"/neurospin/dico/jlaval/Output/SC-sylv_right_V1/V1_TrimExtremities_p80/ukb40_random_embeddings/full_embeddings.csv\"\n",
    "tiv_path = \"/neurospin/dico/data/deep_folding/current/datasets/UkBioBank40/participants_tiv_volumes_normalized.csv\"\n",
    "output_path = \"/home/cb283697/Bureau/SC_right_ukb_embeddings_tiv/V1/full_embeddings_tiv.csv\"\n",
    "\n",
    "# === Load data ===\n",
    "embeddings = pd.read_csv(embedding_path)\n",
    "tiv = pd.read_csv(tiv_path)\n",
    "\n",
    "# === Normalize column names ===\n",
    "tiv.columns = tiv.columns.str.strip().str.lower()\n",
    "tiv = tiv.drop_duplicates(subset=\"participant_id\")\n",
    "\n",
    "# === Merge on subject ID ===\n",
    "merged = embeddings.merge(\n",
    "    tiv[[\"participant_id\", \"volume\"]],\n",
    "    left_on=\"ID\", right_on=\"participant_id\", how=\"left\"\n",
    ")\n",
    "\n",
    "# === Drop rows with missing TIV ===\n",
    "merged = merged.dropna(subset=[\"volume\"])\n",
    "\n",
    "# === Drop duplicated column and rename ===\n",
    "merged.drop(columns=[\"participant_id\"], inplace=True)\n",
    "merged.rename(columns={\"volume\": \"dim33\"}, inplace=True)\n",
    "\n",
    "# === Save the result ===\n",
    "merged.to_csv(output_path, index=False)\n",
    "print(f\"✅ Saved merged file with TIV to: {output_path}\")\n"
   ]
  }
 ],
 "metadata": {
  "kernelspec": {
   "display_name": "contrastive_env",
   "language": "python",
   "name": "python3"
  },
  "language_info": {
   "codemirror_mode": {
    "name": "ipython",
    "version": 3
   },
   "file_extension": ".py",
   "mimetype": "text/x-python",
   "name": "python",
   "nbconvert_exporter": "python",
   "pygments_lexer": "ipython3",
   "version": "3.12.3"
  }
 },
 "nbformat": 4,
 "nbformat_minor": 2
}
